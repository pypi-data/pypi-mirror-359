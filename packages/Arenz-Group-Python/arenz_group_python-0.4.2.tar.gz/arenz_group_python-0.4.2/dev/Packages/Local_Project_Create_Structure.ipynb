{
 "cells": [
  {
   "cell_type": "markdown",
   "metadata": {},
   "source": [
    "# General installation from github\n",
    "This notebook creates a basic project structure. \n",
    "It is based on the article:\n",
    "\n",
    "https://towardsdatascience.com/its-time-to-structure-your-data-science-project-1fa064fbe46\n"
   ]
  },
  {
   "cell_type": "code",
   "execution_count": 3,
   "metadata": {},
   "outputs": [
    {
     "name": "stdout",
     "output_type": "stream",
     "text": [
      "c:\\Users\\gusta\\Documents\\GitHub\\Arenz_Group_Python\\tests\\Packages\n",
      "c:\\Users\\gusta\\Documents\\GitHub\\Arenz_Group_Python\\src\n",
      "c:\\Users\\gusta\\Documents\\GitHub\\Arenz_Group_Python\\src\n",
      "['c:\\\\Users\\\\gusta\\\\Documents\\\\GitHub\\\\Arenz_Group_Python\\\\src\\\\arenz_group_python']\n"
     ]
    }
   ],
   "source": [
    "from pathlib import Path\n",
    "import sys\n",
    "nb_path = Path.cwd()\n",
    "p = Path.cwd()\n",
    "print(p)\n",
    "for p in Path.cwd().parents:\n",
    "    pa = p / \"src\"\n",
    "    if pa.exists():\n",
    "        print(pa)\n",
    "        sys.path.insert(0,str(pa))\n",
    "        break\n",
    "print(pa)\n",
    "#add\n",
    "#sys.path.insert(0,str(pa))\n",
    "import arenz_group_python\n",
    "print(arenz_group_python.__path__)\n"
   ]
  },
  {
   "cell_type": "code",
   "execution_count": 4,
   "metadata": {},
   "outputs": [
    {
     "name": "stdout",
     "output_type": "stream",
     "text": [
      "c:\\Users\\gusta\\Documents\\GitHub\\Arenz_Group_Python\\tests\\Packages\n",
      "-\"data_raw\" exists already as a folder\n",
      "-\"data_treated\" exists already as a folder\n",
      "-\"py_scripts\" exists already as a folder\n",
      "-\"notebooks_models\" exists already as a folder\n",
      "-\"notebooks_exploration_cleaning\" exists already as a folder\n",
      "\n",
      "creating files:\n",
      "\n",
      "-\"notebooks_models/modelData.ipynb\" already exists\n",
      "-\"py_scripts/my_Module.py\" already exists\n",
      "-\"__init__.py\" already exists\n",
      "-\"extractData.ipynb\" already exists\n",
      "-\"copy_data_from_server.ipynb\" already exists\n",
      "-\"README.txt\" already exists\n",
      "-\"README.txt\" already exists\n",
      "-\"extracted_values.csv\" already exists\n"
     ]
    }
   ],
   "source": [
    "\n",
    "from arenz_group_python import Project_Paths\n",
    "pp= Project_Paths().create_project_structure(nb_path)"
   ]
  }
 ],
 "metadata": {
  "kernelspec": {
   "display_name": "Python 3",
   "language": "python",
   "name": "python3"
  },
  "language_info": {
   "codemirror_mode": {
    "name": "ipython",
    "version": 3
   },
   "file_extension": ".py",
   "mimetype": "text/x-python",
   "name": "python",
   "nbconvert_exporter": "python",
   "pygments_lexer": "ipython3",
   "version": "3.12.1"
  }
 },
 "nbformat": 4,
 "nbformat_minor": 2
}
