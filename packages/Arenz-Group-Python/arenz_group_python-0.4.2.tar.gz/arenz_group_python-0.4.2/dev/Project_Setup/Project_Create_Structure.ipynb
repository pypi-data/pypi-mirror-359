{
 "cells": [
  {
   "cell_type": "markdown",
   "metadata": {},
   "source": [
    "# General installation from github\n",
    "This notebook creates a basic project structure. \n",
    "It is based on the article:\n",
    "\n",
    "https://towardsdatascience.com/its-time-to-structure-your-data-science-project-1fa064fbe46\n"
   ]
  },
  {
   "cell_type": "code",
   "execution_count": 1,
   "metadata": {},
   "outputs": [
    {
     "name": "stdout",
     "output_type": "stream",
     "text": [
      "c:\\Users\\gustav.wiberg\\Documents\\GitHub\\BERN\\Arenz_Group_Python\\dev\\Project_Setup\n",
      "C:\\Users\\gustav.wiberg\\Documents\\GitHub\\BERN\\Arenz_Group_Python\\src\n",
      "c:\\Users\\gustav.wiberg\\AppData\\Local\\Programs\\Python\\Python311\\python311.zip\n",
      "c:\\Users\\gustav.wiberg\\AppData\\Local\\Programs\\Python\\Python311\\DLLs\n",
      "c:\\Users\\gustav.wiberg\\AppData\\Local\\Programs\\Python\\Python311\\Lib\n",
      "c:\\Users\\gustav.wiberg\\AppData\\Local\\Programs\\Python\\Python311\n",
      "\n",
      "c:\\Users\\gustav.wiberg\\AppData\\Local\\Programs\\Python\\Python311\\Lib\\site-packages\n",
      "c:\\Users\\gustav.wiberg\\AppData\\Local\\Programs\\Python\\Python311\\Lib\\site-packages\\win32\n",
      "c:\\Users\\gustav.wiberg\\AppData\\Local\\Programs\\Python\\Python311\\Lib\\site-packages\\win32\\lib\n",
      "c:\\Users\\gustav.wiberg\\AppData\\Local\\Programs\\Python\\Python311\\Lib\\site-packages\\Pythonwin\n"
     ]
    }
   ],
   "source": [
    "import sys\n",
    "for x in sys.path:\n",
    "    print(x)"
   ]
  },
  {
   "cell_type": "code",
   "execution_count": 2,
   "metadata": {},
   "outputs": [
    {
     "name": "stdout",
     "output_type": "stream",
     "text": [
      "c:\\Users\\gustav.wiberg\\Documents\\GitHub\\BERN\\Arenz_Group_Python\\dev\\Project_Setup\n"
     ]
    }
   ],
   "source": [
    "from arenz_group_python import Project_Paths\n",
    "\n",
    "#Path of the file.\n",
    "\n",
    "main_dir = Project_Paths().cwd\n",
    "print(str(main_dir))"
   ]
  },
  {
   "cell_type": "code",
   "execution_count": 3,
   "metadata": {},
   "outputs": [
    {
     "name": "stdout",
     "output_type": "stream",
     "text": [
      "-\"data_raw\" exists already as a folder\n",
      "-\"data_treated\" exists already as a folder\n",
      "-\"py_scripts\" exists already as a folder\n",
      "-\"notebooks_models\" exists already as a folder\n",
      "-\"notebooks_exploration_cleaning\" exists already as a folder\n",
      "\n",
      "creating files:\n",
      "\n",
      "-\".env\" already exists\n",
      "+\"requirements.txt\" was created or updated\n",
      "-\"__init__.py\" already exists\n",
      "-\"copy_data_from_server.ipynb\" already exists\n",
      "-\"download_experiment_and_data_from_ELABFTW.ipynb\" already exists\n",
      "-\"Project_Update_All_Modules.ipynb\" already exists\n",
      "-\"c:\\Users\\gustav.wiberg\\Documents\\GitHub\\BERN\\Arenz_Group_Python\\dev\\Project_Setup\\notebooks_models\\modelData.ipynb\" already exists\n",
      "-\"c:\\Users\\gustav.wiberg\\Documents\\GitHub\\BERN\\Arenz_Group_Python\\dev\\Project_Setup\\py_scripts\\my_Module.py\" already exists\n",
      "-\"extractData.ipynb\" already exists\n",
      "-\"README.txt\" already exists\n",
      "-\"README.txt\" already exists\n",
      "-\"extracted_values.csv\" already exists\n"
     ]
    }
   ],
   "source": [
    "#Creates the folder structre\n",
    "Project_Paths().create_project_structure(main_dir)"
   ]
  },
  {
   "cell_type": "code",
   "execution_count": null,
   "metadata": {},
   "outputs": [],
   "source": []
  },
  {
   "cell_type": "code",
   "execution_count": 4,
   "metadata": {},
   "outputs": [],
   "source": [
    "import arenz_group_python.elabftw"
   ]
  },
  {
   "cell_type": "code",
   "execution_count": 5,
   "metadata": {},
   "outputs": [
    {
     "name": "stdout",
     "output_type": "stream",
     "text": [
      "Found 5 experiments\n",
      "----1/5------------------ID= 6 \t<Project>\\Project_Setup\\data_raw\\ATS-JF060_Ir-ATO\n",
      "\t\tSaving file \"ATS-JF060_Ir-ATO.pdf\"\n",
      "\t\tSaving file \"ATS-JF060_Ir-ATO.json\"\n",
      "\t\tFound 4 uploads\n",
      "\t\t 1 \t 6 ATS-JF060_recipe.tdms None\n",
      "\t\t 2 \t 4 ATS-JF060_recipe.txt None\n",
      "\t\t 3 \t 5 ATS-JF060_recipe.xdl None\n",
      "\t\t 4 \t 2 image.png None\n",
      "----2/5------------------ID= 8 \t<Project>\\Project_Setup\\data_raw\\ATS-JF060_Ir-ATO\\INK-JF060_Ir-ATO\n",
      "\t\tSaving file \"INK-JF060_Ir-ATO.pdf\"\n",
      "\t\tSaving file \"INK-JF060_Ir-ATO.json\"\n",
      "\t\tNo uploads found\n",
      "----3/5------------------ID= 9 \t<Project>\\Project_Setup\\data_raw\\ATS-JF060_Ir-ATO\\INK-JF060_Ir-ATO\\MWE-JF016\n",
      "\t\tSaving file \"MWE-JF016.pdf\"\n",
      "\t\tSaving file \"MWE-JF016.json\"\n",
      "\t\tNo uploads found\n",
      "----4/5------------------ID= 7 \t<Project>\\Project_Setup\\data_raw\\ATS-JF060_Ir-ATO\\INK-JF060_Ir-ATO\\MWE-JF016\\MWE-JF016_Activity_Assessment\n",
      "\t\tSaving file \"MWE-JF016_Activity_Assessment.pdf\"\n",
      "\t\tSaving file \"MWE-JF016_Activity_Assessment.json\"\n",
      "\t\tFound 12 uploads\n",
      "\t\t 1 \t 9 CV_130600_-1_MI.tdms None\n",
      "\t\t 2 \t 10 CV_130730_-2_MI.tdms None\n",
      "\t\t 3 \t 11 CV_130900_-3_MI.tdms None\n",
      "\t\t 4 \t 12 CV_131030_-4_MI.tdms None\n",
      "\t\t 5 \t 13 CV_131200_-5_MI.tdms None\n",
      "\t\t 6 \t 14 CV_131330_-6_MI.tdms None\n",
      "\t\t 7 \t 15 CV_131500_-7_MI.tdms None\n",
      "\t\t 8 \t 16 CV_131630_-8_MI.tdms None\n",
      "\t\t 9 \t 17 CV_131800_-9_MI.tdms None\n",
      "\t\t 10 \t 18 CV_131930_10_MI.tdms None\n",
      "\t\t 11 \t 19 Macro.EC_Macro None\n",
      "\t\t 12 \t 20 Macro_Log.txt None\n",
      "----5/5------------------ID= 2 \t<Project>\\Project_Setup\\data_raw\\ATS-JF060_Ir-ATO\\INK-JF060_Ir-ATO\\MWE-JF016\\MWE-JF016_Activity_Assessment\\Untitled\n",
      "\t\tSaving file \"Untitled.pdf\"\n",
      "\t\tSaving file \"Untitled.json\"\n",
      "\t\tNo uploads found\n"
     ]
    }
   ],
   "source": [
    "from arenz_group_python import elabftw\n",
    "elabftw.connect()\n",
    "elabftw.download_experiment_tree(6)"
   ]
  }
 ],
 "metadata": {
  "kernelspec": {
   "display_name": "Python 3",
   "language": "python",
   "name": "python3"
  },
  "language_info": {
   "codemirror_mode": {
    "name": "ipython",
    "version": 3
   },
   "file_extension": ".py",
   "mimetype": "text/x-python",
   "name": "python",
   "nbconvert_exporter": "python",
   "pygments_lexer": "ipython3",
   "version": "3.11.5"
  }
 },
 "nbformat": 4,
 "nbformat_minor": 2
}
