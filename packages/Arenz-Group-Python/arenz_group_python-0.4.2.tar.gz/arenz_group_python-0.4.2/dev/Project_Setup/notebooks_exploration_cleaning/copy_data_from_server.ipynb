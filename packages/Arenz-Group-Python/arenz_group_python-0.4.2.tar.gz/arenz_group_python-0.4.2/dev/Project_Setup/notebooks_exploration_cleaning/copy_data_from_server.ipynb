{
    "cells": [
    {
    "cell_type": "markdown",
    "metadata": {},
    "source": [
        "# Copy data from teh server",
        "use this notebook to copy data from the server.",
        "",
        "Tag the folder you want to by first creating a file with the name:",
        "",
        "{Project Name}.tag",
        "",
        "ex: my_first_project.tag",
        " ",
        "",
        ""
        ]
    },
    {
    "cell_type": "code",
    "execution_count": null,
    "metadata": {},
    "outputs": [],
    "source": [
        "from arenz_group_python import Project_Paths",
        ""
    ]
    },
    {
    "cell_type": "code",
    "execution_count": null,
    "metadata": {},
    "outputs": [],
    "source": [
        "from arenz_group_python import Project_Paths",
        "",
        "pp = Project_Paths()",
        "project_name = 'projectname'",
        "user_initials = '' #This is optional, but it can speed up things", 
        "path_to_server = 'X:/EXP_DB'",
        "pp.copyDirs(path_to_server, user_initials , project_name )",
        ""
    ]
    }
    ],
    "metadata": {
    "kernelspec": {
    "display_name": "Python 3",
    "language": "python",
    "name": "python3"
    },
    "language_info": {
    "name": "python",
    "version": "3.11.5"
    }
    },
    "nbformat": 4,
    "nbformat_minor": 2
    }