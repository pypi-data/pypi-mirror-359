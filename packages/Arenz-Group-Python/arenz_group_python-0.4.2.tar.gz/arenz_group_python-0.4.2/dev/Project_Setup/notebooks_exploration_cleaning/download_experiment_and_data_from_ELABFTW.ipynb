{
    "cells": [
    {
    "cell_type": "markdown",
    "metadata": {},
    "source": [
        "# Download data from eLabFTW",
        "use this notebook to download data from eLabFTW.",
        "",
        ""
        ]
    },
    {
    "cell_type": "code",
    "execution_count": null,
    "metadata": {},
    "outputs": [],
    "source": [
        "from arenz_group_python import elabftw",
        ""
    ]
    },
    {
    "cell_type": "code",
    "execution_count": null,
    "metadata": {},
    "outputs": [],
    "source": [
        "pp = Project_Paths()",
        "project_name = 'projectname'",
        "user_initials = '' #This is optional, but it can speed up things", 
        "path_to_server = 'X:/EXP_DB'",
        "pp.copyDirs(project_name, user_initials , path_to_server )",
        ""
    ]
    }
    ],
    "metadata": {
    "kernelspec": {
    "display_name": "Python 3",
    "language": "python",
    "name": "python3"
    },
    "language_info": {
    "name": "python",
    "version": "3.11.5"
    }
    },
    "nbformat": 4,
    "nbformat_minor": 2
    }