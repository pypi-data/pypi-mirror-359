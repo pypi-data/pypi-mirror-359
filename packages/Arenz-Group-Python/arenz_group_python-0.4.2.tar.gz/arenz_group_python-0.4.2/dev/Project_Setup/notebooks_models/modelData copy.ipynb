{
 "cells": [
  {
   "cell_type": "code",
   "execution_count": 3,
   "metadata": {},
   "outputs": [
    {
     "name": "stdout",
     "output_type": "stream",
     "text": [
      "c:\\Users\\gusta\\Documents\\GitHub\\Arenz_Group_Python\\dev\\Project_Setup\\notebooks_models\n",
      "c:\\Users\\gusta\\Documents\\GitHub\\Arenz_Group_Python\\dev\\Project_Setup\\notebooks_models\n",
      "+\".env\" was created\n"
     ]
    }
   ],
   "source": [
    "from arenz_group_python.project.make_files import make_env_file\n",
    "from arenz_group_python import Project_Paths\n",
    "from pathlib import Path\n",
    "print(Path.cwd())\n",
    "print(Project_Paths().cwd)\n",
    "make_env_file(Project_Paths().cwd)"
   ]
  },
  {
   "cell_type": "code",
   "execution_count": 6,
   "metadata": {},
   "outputs": [
    {
     "name": "stdout",
     "output_type": "stream",
     "text": [
      "#Python environment file\n",
      "#The PYTHONPATH adds relative and absolute search paths\n",
      "# Paths are relative to the workspace folder for python,# however, they are relative to the jypiter notebook when execute in a notebook.\n",
      "# Therefor, an absolute search path is needed if jypiter is to be used.\n",
      "WORKSPACE_FOLDER=c:\\Users\\gusta\\Documents\\GitHub\\Arenz_Group_Python\\dev\\Project_Setup\\notebooks_models\n",
      "PYTHONPATH=${WORKSPACE_FOLDER}/py_scripts;\n",
      "# so it is best make the path absolute.  ';'\n",
      "# Add more path and separate them by ';'\n",
      "\n"
     ]
    }
   ],
   "source": [
    "exDict = {1:1, 2:2, 3:3}\n",
    "with open('.env', 'r') as file:\n",
    "    a= file.read()\n",
    "    file.close\n",
    "print(a)\n",
    "print(a)"
   ]
  }
 ],
 "metadata": {
  "kernelspec": {
   "display_name": ".venv",
   "language": "python",
   "name": "python3"
  },
  "language_info": {
   "codemirror_mode": {
    "name": "ipython",
    "version": 3
   },
   "file_extension": ".py",
   "mimetype": "text/x-python",
   "name": "python",
   "nbconvert_exporter": "python",
   "pygments_lexer": "ipython3",
   "version": "3.12.1"
  }
 },
 "nbformat": 4,
 "nbformat_minor": 2
}
