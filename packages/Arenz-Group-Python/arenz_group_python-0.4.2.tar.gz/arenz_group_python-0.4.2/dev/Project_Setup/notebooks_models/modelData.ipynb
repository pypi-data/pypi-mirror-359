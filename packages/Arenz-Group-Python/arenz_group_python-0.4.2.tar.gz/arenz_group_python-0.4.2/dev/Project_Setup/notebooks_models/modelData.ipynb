{
 "cells": [
  {
   "cell_type": "code",
   "execution_count": 1,
   "metadata": {},
   "outputs": [
    {
     "name": "stdout",
     "output_type": "stream",
     "text": [
      "Pattern to look for: **/projectname.tag\n"
     ]
    },
    {
     "ename": "KeyboardInterrupt",
     "evalue": "",
     "output_type": "error",
     "traceback": [
      "\u001b[1;31m---------------------------------------------------------------------------\u001b[0m",
      "\u001b[1;31mFileNotFoundError\u001b[0m                         Traceback (most recent call last)",
      "File \u001b[1;32m~\\AppData\\Local\\Programs\\Python\\Python312\\Lib\\pathlib.py:875\u001b[0m, in \u001b[0;36mPath.is_dir\u001b[1;34m(self)\u001b[0m\n\u001b[0;32m    874\u001b[0m \u001b[38;5;28;01mtry\u001b[39;00m:\n\u001b[1;32m--> 875\u001b[0m     \u001b[38;5;28;01mreturn\u001b[39;00m S_ISDIR(\u001b[38;5;28;43mself\u001b[39;49m\u001b[38;5;241;43m.\u001b[39;49m\u001b[43mstat\u001b[49m\u001b[43m(\u001b[49m\u001b[43m)\u001b[49m\u001b[38;5;241m.\u001b[39mst_mode)\n\u001b[0;32m    876\u001b[0m \u001b[38;5;28;01mexcept\u001b[39;00m \u001b[38;5;167;01mOSError\u001b[39;00m \u001b[38;5;28;01mas\u001b[39;00m e:\n",
      "File \u001b[1;32m~\\AppData\\Local\\Programs\\Python\\Python312\\Lib\\pathlib.py:840\u001b[0m, in \u001b[0;36mPath.stat\u001b[1;34m(self, follow_symlinks)\u001b[0m\n\u001b[0;32m    836\u001b[0m \u001b[38;5;250m\u001b[39m\u001b[38;5;124;03m\"\"\"\u001b[39;00m\n\u001b[0;32m    837\u001b[0m \u001b[38;5;124;03mReturn the result of the stat() system call on this path, like\u001b[39;00m\n\u001b[0;32m    838\u001b[0m \u001b[38;5;124;03mos.stat() does.\u001b[39;00m\n\u001b[0;32m    839\u001b[0m \u001b[38;5;124;03m\"\"\"\u001b[39;00m\n\u001b[1;32m--> 840\u001b[0m \u001b[38;5;28;01mreturn\u001b[39;00m \u001b[43mos\u001b[49m\u001b[38;5;241;43m.\u001b[39;49m\u001b[43mstat\u001b[49m\u001b[43m(\u001b[49m\u001b[38;5;28;43mself\u001b[39;49m\u001b[43m,\u001b[49m\u001b[43m \u001b[49m\u001b[43mfollow_symlinks\u001b[49m\u001b[38;5;241;43m=\u001b[39;49m\u001b[43mfollow_symlinks\u001b[49m\u001b[43m)\u001b[49m\n",
      "\u001b[1;31mFileNotFoundError\u001b[0m: [WinError 53] The network path was not found: 'X:\\\\EXP_DB'",
      "\nDuring handling of the above exception, another exception occurred:\n",
      "\u001b[1;31mKeyboardInterrupt\u001b[0m                         Traceback (most recent call last)",
      "Cell \u001b[1;32mIn[1], line 7\u001b[0m\n\u001b[0;32m      5\u001b[0m user_initials \u001b[38;5;241m=\u001b[39m \u001b[38;5;124m'\u001b[39m\u001b[38;5;124m'\u001b[39m \u001b[38;5;66;03m#This is optional, but it can speed up things\u001b[39;00m\n\u001b[0;32m      6\u001b[0m path_to_server \u001b[38;5;241m=\u001b[39m \u001b[38;5;124m'\u001b[39m\u001b[38;5;124mX:/EXP_DB\u001b[39m\u001b[38;5;124m'\u001b[39m\n\u001b[1;32m----> 7\u001b[0m \u001b[43mpp\u001b[49m\u001b[38;5;241;43m.\u001b[39;49m\u001b[43mcopyDirs\u001b[49m\u001b[43m(\u001b[49m\u001b[43mpath_to_server\u001b[49m\u001b[43m,\u001b[49m\u001b[43m \u001b[49m\u001b[43muser_initials\u001b[49m\u001b[43m \u001b[49m\u001b[43m,\u001b[49m\u001b[43m \u001b[49m\u001b[43mproject_name\u001b[49m\u001b[43m \u001b[49m\u001b[43m)\u001b[49m\n",
      "File \u001b[1;32m~\\Documents\\GitHub\\Arenz_Group_Python\\src\\arenz_group_python\\project\\util_paths.py:157\u001b[0m, in \u001b[0;36mProject_Paths.copyDirs\u001b[1;34m(self, server_dir, dirID, fileID)\u001b[0m\n\u001b[0;32m    145\u001b[0m \u001b[38;5;250m\u001b[39m\u001b[38;5;124;03m\"\"\"Copy all files from each folder and subfolder containing a file with the ending .tag\u001b[39;00m\n\u001b[0;32m    146\u001b[0m \u001b[38;5;124;03mto the raw data folder while keeping the folder structure.\u001b[39;00m\n\u001b[0;32m    147\u001b[0m \u001b[38;5;124;03m\u001b[39;00m\n\u001b[1;32m   (...)\u001b[0m\n\u001b[0;32m    154\u001b[0m \u001b[38;5;124;03m    str: absolute path to the directory with a matching tag.\u001b[39;00m\n\u001b[0;32m    155\u001b[0m \u001b[38;5;124;03m\"\"\"\u001b[39;00m\n\u001b[0;32m    156\u001b[0m server_dir \u001b[38;5;241m=\u001b[39m _to_Path(server_dir)\n\u001b[1;32m--> 157\u001b[0m dirs \u001b[38;5;241m=\u001b[39m \u001b[43mfind_dirs_with_tags\u001b[49m\u001b[43m(\u001b[49m\u001b[43m \u001b[49m\u001b[43mserver_dir\u001b[49m\u001b[43m,\u001b[49m\u001b[43m \u001b[49m\u001b[43mdirID\u001b[49m\u001b[43m \u001b[49m\u001b[43m,\u001b[49m\u001b[43m \u001b[49m\u001b[43mfileID\u001b[49m\u001b[43m \u001b[49m\u001b[43m)\u001b[49m\n\u001b[0;32m    158\u001b[0m \u001b[38;5;28;01mif\u001b[39;00m \u001b[38;5;28mlen\u001b[39m(dirs) \u001b[38;5;241m!=\u001b[39m \u001b[38;5;241m0\u001b[39m:\n\u001b[0;32m    159\u001b[0m     dest_dirs \u001b[38;5;241m=\u001b[39m create_Folder_Structure_For_RawData(server_dir, \u001b[38;5;28mself\u001b[39m\u001b[38;5;241m.\u001b[39mrawdata_path, dirs)\n",
      "File \u001b[1;32m~\\Documents\\GitHub\\Arenz_Group_Python\\src\\arenz_group_python\\project\\util_paths.py:190\u001b[0m, in \u001b[0;36mfind_dirs_with_tags\u001b[1;34m(server_dir, dirID, fileID)\u001b[0m\n\u001b[0;32m    188\u001b[0m str_match \u001b[38;5;241m=\u001b[39m \u001b[38;5;124m\"\u001b[39m\u001b[38;5;124m*\u001b[39m\u001b[38;5;124m\"\u001b[39m \u001b[38;5;241m+\u001b[39m dirID \u001b[38;5;241m+\u001b[39m \u001b[38;5;124m\"\u001b[39m\u001b[38;5;124m*/\u001b[39m\u001b[38;5;124m\"\u001b[39m \u001b[38;5;241m+\u001b[39m fileID\n\u001b[0;32m    189\u001b[0m \u001b[38;5;28mprint\u001b[39m(\u001b[38;5;124m\"\u001b[39m\u001b[38;5;124mPattern to look for:\u001b[39m\u001b[38;5;124m\"\u001b[39m, str_match)\n\u001b[1;32m--> 190\u001b[0m \u001b[38;5;28;01mif\u001b[39;00m \u001b[43mserver_dir\u001b[49m\u001b[38;5;241;43m.\u001b[39;49m\u001b[43mis_dir\u001b[49m\u001b[43m(\u001b[49m\u001b[43m)\u001b[49m \u001b[38;5;129;01mand\u001b[39;00m server_dir\u001b[38;5;241m.\u001b[39mexists():\n\u001b[0;32m    191\u001b[0m     \u001b[38;5;28mprint\u001b[39m(\u001b[38;5;124m\"\u001b[39m\u001b[38;5;124mSource Dir: \u001b[39m\u001b[38;5;124m\"\u001b[39m, server_dir)\n\u001b[0;32m    192\u001b[0m     \u001b[38;5;28;01mfor\u001b[39;00m root,dirs,files \u001b[38;5;129;01min\u001b[39;00m server_dir\u001b[38;5;241m.\u001b[39mwalk(on_error\u001b[38;5;241m=\u001b[39m\u001b[38;5;28mprint\u001b[39m):\n",
      "File \u001b[1;32m~\\AppData\\Local\\Programs\\Python\\Python312\\Lib\\pathlib.py:877\u001b[0m, in \u001b[0;36mPath.is_dir\u001b[1;34m(self)\u001b[0m\n\u001b[0;32m    875\u001b[0m     \u001b[38;5;28;01mreturn\u001b[39;00m S_ISDIR(\u001b[38;5;28mself\u001b[39m\u001b[38;5;241m.\u001b[39mstat()\u001b[38;5;241m.\u001b[39mst_mode)\n\u001b[0;32m    876\u001b[0m \u001b[38;5;28;01mexcept\u001b[39;00m \u001b[38;5;167;01mOSError\u001b[39;00m \u001b[38;5;28;01mas\u001b[39;00m e:\n\u001b[1;32m--> 877\u001b[0m     \u001b[38;5;28;01mif\u001b[39;00m \u001b[38;5;129;01mnot\u001b[39;00m \u001b[43m_ignore_error\u001b[49m\u001b[43m(\u001b[49m\u001b[43me\u001b[49m\u001b[43m)\u001b[49m:\n\u001b[0;32m    878\u001b[0m         \u001b[38;5;28;01mraise\u001b[39;00m\n\u001b[0;32m    879\u001b[0m     \u001b[38;5;66;03m# Path doesn't exist or is a broken symlink\u001b[39;00m\n\u001b[0;32m    880\u001b[0m     \u001b[38;5;66;03m# (see http://web.archive.org/web/20200623061726/https://bitbucket.org/pitrou/pathlib/issues/12/ )\u001b[39;00m\n",
      "File \u001b[1;32m~\\AppData\\Local\\Programs\\Python\\Python312\\Lib\\pathlib.py:52\u001b[0m, in \u001b[0;36m_ignore_error\u001b[1;34m(exception)\u001b[0m\n\u001b[0;32m     45\u001b[0m _IGNORED_ERRNOS \u001b[38;5;241m=\u001b[39m (ENOENT, ENOTDIR, EBADF, ELOOP)\n\u001b[0;32m     47\u001b[0m _IGNORED_WINERRORS \u001b[38;5;241m=\u001b[39m (\n\u001b[0;32m     48\u001b[0m     _WINERROR_NOT_READY,\n\u001b[0;32m     49\u001b[0m     _WINERROR_INVALID_NAME,\n\u001b[0;32m     50\u001b[0m     _WINERROR_CANT_RESOLVE_FILENAME)\n\u001b[1;32m---> 52\u001b[0m \u001b[38;5;28;01mdef\u001b[39;00m \u001b[38;5;21m_ignore_error\u001b[39m(exception):\n\u001b[0;32m     53\u001b[0m     \u001b[38;5;28;01mreturn\u001b[39;00m (\u001b[38;5;28mgetattr\u001b[39m(exception, \u001b[38;5;124m'\u001b[39m\u001b[38;5;124merrno\u001b[39m\u001b[38;5;124m'\u001b[39m, \u001b[38;5;28;01mNone\u001b[39;00m) \u001b[38;5;129;01min\u001b[39;00m _IGNORED_ERRNOS \u001b[38;5;129;01mor\u001b[39;00m\n\u001b[0;32m     54\u001b[0m             \u001b[38;5;28mgetattr\u001b[39m(exception, \u001b[38;5;124m'\u001b[39m\u001b[38;5;124mwinerror\u001b[39m\u001b[38;5;124m'\u001b[39m, \u001b[38;5;28;01mNone\u001b[39;00m) \u001b[38;5;129;01min\u001b[39;00m _IGNORED_WINERRORS)\n\u001b[0;32m     57\u001b[0m \u001b[38;5;129m@functools\u001b[39m\u001b[38;5;241m.\u001b[39mcache\n\u001b[0;32m     58\u001b[0m \u001b[38;5;28;01mdef\u001b[39;00m \u001b[38;5;21m_is_case_sensitive\u001b[39m(flavour):\n",
      "\u001b[1;31mKeyboardInterrupt\u001b[0m: "
     ]
    }
   ],
   "source": [
    "from arenz_group_python import Project_Paths\n",
    "\n",
    "pp = Project_Paths()\n",
    "project_name = 'projectname'\n",
    "user_initials = '' #This is optional, but it can speed up things\n",
    "path_to_server = 'X:/EXP_DB'\n",
    "pp.copyDirs(path_to_server, user_initials , project_name )"
   ]
  },
  {
   "cell_type": "code",
   "execution_count": null,
   "metadata": {},
   "outputs": [
    {
     "name": "stdout",
     "output_type": "stream",
     "text": [
      "Pattern to look for: **/projectname.tag\n"
     ]
    }
   ],
   "source": [
    "from arenz_group_python import Project_Paths\n",
    "\n",
    "pp = Project_Paths()\n",
    "project_name = 'projectname'\n",
    "user_initials = '' #This is optional, but it can speed up things\n",
    "path_to_server = 'X:/EXP_DB'\n",
    "pp.copyDirs(path_to_server, user_initials , project_name )"
   ]
  }
 ],
 "metadata": {
  "kernelspec": {
   "display_name": ".venv",
   "language": "python",
   "name": "python3"
  },
  "language_info": {
   "codemirror_mode": {
    "name": "ipython",
    "version": 3
   },
   "file_extension": ".py",
   "mimetype": "text/x-python",
   "name": "python",
   "nbconvert_exporter": "python",
   "pygments_lexer": "ipython3",
   "version": "3.12.1"
  }
 },
 "nbformat": 4,
 "nbformat_minor": 2
}
