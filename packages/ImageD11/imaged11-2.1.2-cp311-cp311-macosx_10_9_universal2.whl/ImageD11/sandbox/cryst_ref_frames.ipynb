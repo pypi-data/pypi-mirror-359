{
 "cells": [
  {
   "cell_type": "code",
   "execution_count": null,
   "id": "e65b751b-6caa-47ef-abda-a4a74e04e41b",
   "metadata": {
    "tags": []
   },
   "outputs": [],
   "source": [
    "import numpy as np\n",
    "import matplotlib.pyplot as plt\n",
    "from scipy.spatial.transform import Rotation as R\n",
    "\n",
    "from ImageD11 import grain, unitcell\n",
    "\n",
    "%matplotlib widget"
   ]
  },
  {
   "cell_type": "code",
   "execution_count": null,
   "id": "35b42511-cd67-4f67-a574-030a6d57fe88",
   "metadata": {
    "tags": []
   },
   "outputs": [],
   "source": [
    "def qpv(vectors, labels=None):\n",
    "    \n",
    "    vectors = vectors / np.linalg.norm(vectors, axis=1)[:, np.newaxis]\n",
    "    \n",
    "    # Extract components\n",
    "    X, Y, Z = np.zeros(len(vectors)), np.zeros(len(vectors)), np.zeros(len(vectors))  # Origins at (0,0,0)\n",
    "    U, V, W = vectors[:, 0], vectors[:, 1], vectors[:, 2]  # Vector components\n",
    "\n",
    "    # Create figure and 3D axis\n",
    "    fig = plt.figure()\n",
    "    ax = fig.add_subplot(111, projection='3d', proj_type='ortho')\n",
    "\n",
    "    # Plot quiver\n",
    "    ax.quiver(X, Y, Z, U, V, W, color='b', length=1, normalize=False)\n",
    "    \n",
    "    if labels is not None:\n",
    "        for i, label in enumerate(labels):\n",
    "            ax.text(U[i], V[i], W[i], label, color='r', fontsize=12, weight='bold')\n",
    "    \n",
    "    ax.set_xlim([-1, 1])\n",
    "    ax.set_ylim([-1, 1])\n",
    "    ax.set_zlim([-1, 1])\n",
    "    ax.set_xlabel('X')\n",
    "    ax.set_ylabel('Y')\n",
    "    ax.set_zlabel('Z')\n",
    "    \n",
    "    ax.set_aspect('equal')\n",
    "\n",
    "    return fig, ax"
   ]
  },
  {
   "cell_type": "markdown",
   "id": "9e5d1e63-f801-4e93-ad22-4106a170026e",
   "metadata": {},
   "source": [
    "# Reference frames"
   ]
  },
  {
   "cell_type": "markdown",
   "id": "9c198316-9393-40e4-bb8b-b61687f27191",
   "metadata": {},
   "source": [
    "# Real space"
   ]
  },
  {
   "cell_type": "markdown",
   "id": "751b2f8b-b829-4e33-a4bb-fba8408b21ef",
   "metadata": {
    "tags": []
   },
   "source": [
    "## Fractional real space - [uvw]\n",
    "### Basis vectors\n",
    "$(a, b, c)$\n",
    "### Vector example\n",
    "$\\underline{v_{uvw}} = u\\vec{a} + v\\vec{b} + w\\vec{c}$\n",
    "### Usage\n",
    "- Describe a point in a unitcell - e.g. where atoms are in a CIF file e.g. via `atom_site.fract_x`: https://mmcif.wwpdb.org/dictionaries/mmcif_ma.dic/Items/_atom_site.fract_x.html\n",
    "- Describe a direction in a unitcell w.r.t the real lattice vectors - e.g. here under 'Bracket Conventions: https://www.doitpoms.ac.uk/tlplib/miller_indices/printall.php"
   ]
  },
  {
   "cell_type": "markdown",
   "id": "fced501c-a6f3-485a-8a39-dacbed366c73",
   "metadata": {},
   "source": [
    "## orthogonal/Cartesian real space\n",
    "### Basis vectors\n",
    "$(x, y, z)$\n",
    "### Vector example\n",
    "$\\underline{v_{xyz}} = i\\vec{x} + j\\vec{y} + k\\vec{z}$\n",
    "### Usage\n",
    "- The Cartesian coordinates you find in a PDB file.\n",
    "- Describe a point in a unitcell - e.g. where atoms are in a CIF file e.g. via `atom_site.Cartn_x`: https://mmcif.wwpdb.org/dictionaries/mmcif_ma.dic/Items/_atom_site.Cartn_x.html"
   ]
  },
  {
   "cell_type": "markdown",
   "id": "f4be673f-53e8-420c-be10-15ad72f1787b",
   "metadata": {},
   "source": [
    "# Reciprocal space"
   ]
  },
  {
   "cell_type": "markdown",
   "id": "a389aef2-eeec-4c5e-97a4-a212e79af7a3",
   "metadata": {
    "tags": []
   },
   "source": [
    "## Fractional reciprocal space - (hkl)\n",
    "### Basis vectors\n",
    "$(a^*, b^*, c^*)$\n",
    "### Vector example\n",
    "$\\underline{G_{hkl}} = h\\vec{a^*} + k\\vec{b^*} + l\\vec{c^*}$\n",
    "### Usage\n",
    "- describe a crystallographic set of planes - the vector represents the normal to the planes in this space"
   ]
  },
  {
   "cell_type": "markdown",
   "id": "55a79838-b7e6-4d31-a7c4-d187d17decc5",
   "metadata": {
    "tags": []
   },
   "source": [
    "## grain-fixed orthogonal/Cartesian reciprocal space\n",
    "$\\underline{G_{c}} = B \\underline{G_{hkl}}$\n",
    "\n",
    "## lab-fixed orthogonal/Cartesian reciprocal space\n",
    "$\\underline{G_{l}} = \\Gamma S U B \\underline{G_{hkl}}$\n",
    "\n",
    "$S$ is usually identity here."
   ]
  },
  {
   "cell_type": "markdown",
   "id": "c18426ce-f1f8-4b12-a4e4-72e4dc109cbd",
   "metadata": {
    "tags": []
   },
   "source": [
    "# Transformation matrices"
   ]
  },
  {
   "cell_type": "markdown",
   "id": "2952eb0b-5d5c-4517-b1ed-23507883f32c",
   "metadata": {},
   "source": [
    "## $U$ - orientation matrix\n",
    "Transforms from grain-fixed orthogonal/Cartesian reciprocal space to sample-fixed orthogonal/Cartesian reciprocal space\n",
    "\n",
    "## $B$ - reciprocal space orthogonalization matrix\n",
    "Transforms from fractional reciprocal space to orthogonal/Cartesian reciprocal space\n",
    "\n",
    "## $A$ - reciprocal space fractionalization matrix\n",
    "Transforms from orthogonal/Cartesian reciprocal space to fractional reciprocal space - depending on how you define it w.r.t $B$!\n",
    "\n",
    "## $\\mathcal{O}$ - real space orthogonalization matrix\n",
    "Transforms from fractional real space to orthogonal/Cartesian real space\n",
    "\n",
    "## $\\mathcal{F}$ - real space fractionalization matrix\n",
    "Transforms from orthogonal/Cartesian real space to fractional real space.  \n",
    "We label this as $\\mathcal{F}$ to distinguish it from the ImageD11 deformation gradient tensor $F$\n",
    "\n",
    "## $G_{ij}$ - real space fractional metric tensor\n",
    "Transforms from fractional real space to fractional reciprocal space\n",
    "\n",
    "## $G^{ij} = G_{ij}^{-1}$ - reciprocal space fractional metric tensor\n",
    "Transforms from fractional reciprocal space to fractional real space"
   ]
  },
  {
   "cell_type": "markdown",
   "id": "dd6f6d9b-578f-4e60-932a-3b3d5568be5a",
   "metadata": {},
   "source": [
    "# Definition of $\\mathcal{O}$ and $\\mathcal{F}$\n",
    "As per https://dials.diamond.ac.uk/documentation/conventions.html\n",
    "\n",
    "We define $\\mathcal{F} \\equiv B^T$, therefore $\\mathcal{O} \\equiv (B^T)^{-1}$  \n",
    "This aligns the real space and reciprocal space orthogonal/Cartesian spaces. They just differ in units!"
   ]
  },
  {
   "cell_type": "markdown",
   "id": "512239ad-9d2a-499f-b721-3c9ed0da5813",
   "metadata": {},
   "source": [
    "# Testing\n",
    "Let's make a grain.  \n",
    "We'll pick a nasty P-1 cell to really challenge ourselves.  \n",
    "Here I picked ICSD Collection Code 131, and chose the standardised lattice parameters, which are the only ones supported by the ImageD11 unitcell class at the moment."
   ]
  },
  {
   "cell_type": "code",
   "execution_count": null,
   "id": "0ac1758d-7427-4ea3-a937-8a3887c8b931",
   "metadata": {
    "tags": []
   },
   "outputs": [],
   "source": [
    "lpars = (6.441, 9.354, 10.011, 116.849998, 90.550003, 99.279999)\n",
    "spacegroup = 2\n",
    "hms = 'P-1'"
   ]
  },
  {
   "cell_type": "code",
   "execution_count": null,
   "id": "9567f2ef-4901-402d-8ca3-3c838918d88c",
   "metadata": {
    "tags": []
   },
   "outputs": [],
   "source": [
    "ucell = unitcell.unitcell(lpars, spacegroup)"
   ]
  },
  {
   "cell_type": "code",
   "execution_count": null,
   "id": "9faccaa8-5153-4e96-b0c7-9de65136e5bb",
   "metadata": {
    "tags": []
   },
   "outputs": [],
   "source": [
    "U = R.from_euler('XYZ', [0, 90, 0], degrees=True).as_matrix()\n",
    "U"
   ]
  },
  {
   "cell_type": "code",
   "execution_count": null,
   "id": "345e2a6e-d645-4660-982e-8c5d8eb27f94",
   "metadata": {
    "tags": []
   },
   "outputs": [],
   "source": [
    "B = ucell.B\n",
    "B"
   ]
  },
  {
   "cell_type": "code",
   "execution_count": null,
   "id": "fbbd3f36-8f1f-48a9-bd71-ed1980efbaaf",
   "metadata": {
    "tags": []
   },
   "outputs": [],
   "source": [
    "UB = U.dot(B)"
   ]
  },
  {
   "cell_type": "code",
   "execution_count": null,
   "id": "bd95f1ca-e25d-42f8-b372-895ad7fcb5e3",
   "metadata": {
    "tags": []
   },
   "outputs": [],
   "source": [
    "UBI = np.linalg.inv(UB)"
   ]
  },
  {
   "cell_type": "code",
   "execution_count": null,
   "id": "e1521eaf-15f3-4ae3-8aa6-a741b6e35551",
   "metadata": {
    "tags": []
   },
   "outputs": [],
   "source": [
    "g = grain.grain(UBI)"
   ]
  },
  {
   "cell_type": "code",
   "execution_count": null,
   "id": "b27037cf-8911-4a92-9f64-a535eb0c0067",
   "metadata": {
    "tags": []
   },
   "outputs": [],
   "source": [
    "g.mt"
   ]
  },
  {
   "cell_type": "code",
   "execution_count": null,
   "id": "fdb053d7-f645-4b39-9b4c-aa6c3c0ce750",
   "metadata": {
    "tags": []
   },
   "outputs": [],
   "source": [
    "g.rmt"
   ]
  },
  {
   "cell_type": "code",
   "execution_count": null,
   "id": "9fb36fa3-0239-4004-9fea-579057533cd7",
   "metadata": {
    "tags": []
   },
   "outputs": [],
   "source": [
    "g.F = g.B.T\n",
    "g.O = np.linalg.inv(g.B.T)\n",
    "\n",
    "assert np.allclose(g.B.T @ g.O, np.eye(3))"
   ]
  },
  {
   "cell_type": "markdown",
   "id": "767e5fe0-556f-4684-8d57-71cb6799d008",
   "metadata": {
    "tags": []
   },
   "source": [
    "## Validate against VESTA"
   ]
  },
  {
   "cell_type": "markdown",
   "id": "6575e90d-355f-47fa-96e8-f5d2467857c3",
   "metadata": {
    "tags": []
   },
   "source": [
    "import a CIF into VESTA for ICSD 131  \n",
    "go to Utilities -> Standardization to transform into standardized  \n",
    "then go to Edit -> Edit Data -> Phase to adjust the orientation  \n",
    "This layer      |        Global coordinate system  \n",
    "we want $(h k l) 1 0 0 || [u v w] 1 0 0  $   - this is $a^* || x$  \n",
    "then $[u v w] 0 0 1 || (h k l) 0 0 1$ - this is $c || z$ which falls out of our definition of the $B$ matrix.  \n",
    "then you can look along $a$, $b$, $c$, $a^*$, $b^*$, $c^*$ to confirm equality with our plots below.  \n",
    "VESTA plots in orthogonal real space - $xyz$, so we need to represent our basis vectors in orthogonal spaces:"
   ]
  },
  {
   "cell_type": "code",
   "execution_count": null,
   "id": "3ea49867-13a1-4587-89a7-a03949c7beb4",
   "metadata": {
    "tags": []
   },
   "outputs": [],
   "source": [
    "a_real_frac = np.array([1.0, 0., 0])\n",
    "b_real_frac = np.array([0., 1.0, 0])\n",
    "c_real_frac = np.array([0., 0., 1.0])\n",
    "\n",
    "astar_recip_frac = np.array([1.0, 0., 0])\n",
    "bstar_recip_frac = np.array([0., 1.0, 0])\n",
    "cstar_recip_frac = np.array([0., 0.,1.0])"
   ]
  },
  {
   "cell_type": "code",
   "execution_count": null,
   "id": "987b8713-7bdf-41c5-bb11-ee195fa9d8d6",
   "metadata": {
    "tags": []
   },
   "outputs": [],
   "source": [
    "def real_frac_to_real_orth(vec_uvw, O):\n",
    "    vec_xyz = O @ vec_uvw\n",
    "    return vec_xyz\n",
    "\n",
    "def real_orth_to_real_frac(vec_xyz, F):\n",
    "    vec_uvw = F @ vec_xyz\n",
    "    return vec_uvw\n",
    "\n",
    "def real_frac_to_recip_frac(v_uvw, mt):\n",
    "    \"\"\"Convert a vector from the real basis (a, b, c) \n",
    "    to the reciprocal basis (a*, b*, c*).\"\"\"\n",
    "    v_hkl = mt @ v_uvw\n",
    "    return v_hkl\n",
    "\n",
    "def recip_frac_to_real_frac(v_hkl, rmt):\n",
    "    \"\"\"Convert a vector from the reciprocal basis (a*, b*, c*)\n",
    "    to the real basis (a, b, c).\"\"\"\n",
    "    v_uvw = rmt @ v_hkl\n",
    "    return v_uvw\n",
    "\n",
    "def recip_frac_to_recip_orth(v_hkl, B):\n",
    "    v_xyz = B @ v_hkl\n",
    "    return v_xyz\n",
    "\n",
    "def recip_orth_to_recip_frac(v_xyz, B):\n",
    "    v_hkl = np.linalg.inv(B) @ v_xyz\n",
    "    return v_hkl\n",
    "\n",
    "def recip_orth_to_recip_lab(v_xyz, U):\n",
    "    v_xlylzl = U @ v_xyz\n",
    "    return v_xlylzl\n",
    "\n",
    "def recip_lab_to_recip_orth(v_xlylzl, U):\n",
    "    v_xyz = np.linalg.inv(U) @ v_xlylzl\n",
    "    return v_xyz\n",
    "\n",
    "# cross transforms\n",
    "\n",
    "def recip_frac_to_recip_lab(v_hkl, UB):\n",
    "    v_xlylzl = UB @ v_hkl\n",
    "    return v_xlylzl\n",
    "\n",
    "def recip_lab_to_recip_frac(v_xlylzl, UBI):\n",
    "    # g-vectors are in reciprocal cartesian co-ordinates in the lab frame\n",
    "    v_hkl = UBI @ v_xlylzl\n",
    "    return v_hkl"
   ]
  },
  {
   "cell_type": "code",
   "execution_count": null,
   "id": "691f215a-6785-464b-b319-75af1f518747",
   "metadata": {
    "tags": []
   },
   "outputs": [],
   "source": [
    "# here's a simple test:\n",
    "# in a hexagonal system, the (100) plane normal direction is [210]\n",
    "\n",
    "ucell_hex = unitcell.unitcell([2,2, 7, 90, 90, 120], 'P')\n",
    "\n",
    "# confirm ucell_hex.gi is the rmt\n",
    "g_hex = grain.grain(np.linalg.inv(ucell_hex.B))\n",
    "assert np.allclose(g_hex.mt, ucell_hex.g)\n",
    "assert np.allclose(g_hex.rmt, ucell_hex.gi)\n",
    "\n",
    "# confirm recip_frac_to_real_frac(1,0,0) gives something parallel to [2,1,0]\n",
    "assert np.allclose(np.arccos(recip_frac_to_real_frac([1, 0., 0], ucell_hex.gi) @ np.array([2., 1., 0])/np.linalg.norm(recip_frac_to_real_frac([1, 0., 0], ucell_hex.gi))/np.linalg.norm(np.array([2., 1., 0]))), 0, atol=1e-6)"
   ]
  },
  {
   "cell_type": "code",
   "execution_count": null,
   "id": "600caa21-5895-4bc0-8f3f-9b8190b384fa",
   "metadata": {
    "tags": []
   },
   "outputs": [],
   "source": [
    "a_real_orth = real_frac_to_real_orth(a_real_frac, g.O)\n",
    "b_real_orth = real_frac_to_real_orth(b_real_frac, g.O)\n",
    "c_real_orth = real_frac_to_real_orth(c_real_frac, g.O)\n",
    "\n",
    "astar_real_frac = recip_frac_to_real_frac(astar_recip_frac, g.rmt)\n",
    "bstar_real_frac = recip_frac_to_real_frac(bstar_recip_frac, g.rmt)\n",
    "cstar_real_frac = recip_frac_to_real_frac(cstar_recip_frac, g.rmt)\n",
    "\n",
    "astar_real_orth = real_frac_to_real_orth(astar_real_frac, g.O)\n",
    "bstar_real_orth = real_frac_to_real_orth(bstar_real_frac, g.O)\n",
    "cstar_real_orth = real_frac_to_real_orth(cstar_real_frac, g.O)\n",
    "\n",
    "# is the reciprocal frac <-> orth convention maintained?\n",
    "# astar along x\n",
    "# c along z\n",
    "assert np.arccos(astar_real_orth @ np.array([1., 0., 0])/np.linalg.norm(astar_real_orth)) == 0\n",
    "assert np.arccos(c_real_orth @ np.array([0., 0., 1])/np.linalg.norm(c_real_orth)) == 0\n",
    "\n",
    "a_recip_frac = real_frac_to_recip_frac(a_real_frac, g.mt)\n",
    "b_recip_frac = real_frac_to_recip_frac(b_real_frac, g.mt)\n",
    "c_recip_frac = real_frac_to_recip_frac(c_real_frac, g.mt)\n",
    "\n",
    "a_recip_orth = recip_frac_to_recip_orth(a_recip_frac, g.B)\n",
    "b_recip_orth = recip_frac_to_recip_orth(b_recip_frac, g.B)\n",
    "c_recip_orth = recip_frac_to_recip_orth(c_recip_frac, g.B)\n",
    "\n",
    "astar_recip_orth = recip_frac_to_recip_orth(astar_recip_frac, g.B)\n",
    "bstar_recip_orth = recip_frac_to_recip_orth(bstar_recip_frac, g.B)\n",
    "cstar_recip_orth = recip_frac_to_recip_orth(cstar_recip_frac, g.B)\n",
    "\n",
    "assert np.arccos(astar_recip_orth @ np.array([1., 0., 0])/np.linalg.norm(astar_recip_orth)) == 0\n",
    "assert np.arccos(c_recip_orth @ np.array([0., 0., 1])/np.linalg.norm(c_recip_orth)) == 0\n",
    "\n",
    "allvecs = np.vstack((a_real_orth, b_real_orth, c_real_orth, astar_real_orth, bstar_real_orth, cstar_real_orth))\n",
    "f, a = qpv(allvecs, labels=['a', 'b', 'c', 'a*', 'b*', 'c*'])\n",
    "a.set(title='Real orthogonal space')\n",
    "plt.show()\n",
    "\n",
    "allvecs2 = np.vstack((a_recip_orth, b_recip_orth, c_recip_orth, astar_recip_orth, bstar_recip_orth, cstar_recip_orth))\n",
    "f, a = qpv(allvecs2, labels=['a', 'b', 'c', 'a*', 'b*', 'c*'])\n",
    "a.set(title='Reciprocal orthogonal space')\n",
    "plt.show()\n",
    "\n",
    "assert np.allclose(allvecs, allvecs2)"
   ]
  },
  {
   "cell_type": "code",
   "execution_count": null,
   "id": "49bbc9b2-432f-4ba3-8c90-749c2676c606",
   "metadata": {},
   "outputs": [],
   "source": [
    "# also to look along certain orientations in (a, b, c)\n",
    "# go to Objects -> Orientation\n",
    "# projection vector - which direct space vector vector points towards you?\n",
    "# upward vector - which reciprocal space vector goes upwards on the screen?"
   ]
  },
  {
   "cell_type": "code",
   "execution_count": null,
   "id": "860bccc6-0693-47ff-908a-628cef933949",
   "metadata": {
    "tags": []
   },
   "outputs": [],
   "source": [
    "# use mode project along [uvw]\n",
    "# e.g if we want to look down [111] with [010] up:\n",
    "# proj_vector [uvw] = [111] as desired\n",
    "# upward_vector (hkl) = direct_to_reciprocal([010])\n",
    "upward_vector_uvw = [0., 1.,0.]\n",
    "upward_vector_hkl = real_frac_to_recip_frac(upward_vector_uvw, g.mt)\n",
    "upward_vector_hkl"
   ]
  },
  {
   "cell_type": "code",
   "execution_count": null,
   "id": "a1492f06-5409-4971-b05b-3cff50a6ed2d",
   "metadata": {
    "tags": []
   },
   "outputs": [],
   "source": [
    "# or with mode project along the normal to (h k l):\n",
    "# if we want to look down [111] with [010] up:\n",
    "# proj_vector (hkl) = direct_to_reciprocal([111])\n",
    "# upward_vector [uvw] = [010] as desired\n",
    "proj_vector_uvw = [1., 1.,1.]\n",
    "proj_vector_hkl = real_frac_to_recip_frac(proj_vector_uvw, g.mt)\n",
    "proj_vector_hkl"
   ]
  },
  {
   "cell_type": "code",
   "execution_count": null,
   "id": "2cc0bc31-146e-466f-9a91-019e5e693f70",
   "metadata": {
    "tags": []
   },
   "outputs": [],
   "source": [
    "# if the orthogonal spaces agree\n",
    "# B @ g.mt @ F should equal identity\n",
    "# O @  g.rmt @ B-1  should equal identity\n",
    "\n",
    "assert np.allclose( g.B @ g.mt @ g.F, np.eye(3))\n",
    "assert np.allclose( g.O @ g.rmt @ np.linalg.inv(g.B), np.eye(3))"
   ]
  },
  {
   "cell_type": "code",
   "execution_count": null,
   "id": "673a9836-f235-40cd-b1dd-800b7ee6b538",
   "metadata": {
    "tags": []
   },
   "outputs": [],
   "source": [
    "# g.O is the (a, b, c) in real orthogonal space (crystal frame) as columns\n",
    "print(g.O)\n",
    "assert np.allclose(g.O, np.column_stack((a_real_orth, b_real_orth, c_real_orth)))\n",
    "print(a_real_orth)\n",
    "print(b_real_orth)\n",
    "print(c_real_orth)"
   ]
  },
  {
   "cell_type": "code",
   "execution_count": null,
   "id": "d6796fef-5c66-4b96-acda-3fce2c6b008d",
   "metadata": {
    "tags": []
   },
   "outputs": [],
   "source": [
    "# g.B is the (a*, b*, c*) in real orthogonal space (crystal frame) as columns\n",
    "print(g.B)\n",
    "assert np.allclose(g.B, np.column_stack((astar_real_orth, bstar_real_orth, cstar_real_orth)))\n",
    "print(astar_real_orth)\n",
    "print(bstar_real_orth)\n",
    "print(cstar_real_orth)"
   ]
  },
  {
   "cell_type": "code",
   "execution_count": null,
   "id": "edbe9bbf-e3f2-4906-ad9f-8d152cfc9ec1",
   "metadata": {
    "tags": []
   },
   "outputs": [],
   "source": [
    "# choose a vector in XYZ space\n",
    "vec_xyz = np.array([1., 2., -3])\n",
    "# convert to hkl then uvw then back to xyz\n",
    "vec_hkl = recip_orth_to_recip_frac(vec_xyz, g.B)\n",
    "vec_uvw = recip_frac_to_real_frac(vec_hkl, g.rmt)\n",
    "vec_xyz_again = real_frac_to_real_orth(vec_uvw, g.O)\n",
    "print(vec_xyz_again)\n",
    "assert np.allclose(vec_xyz, vec_xyz_again)"
   ]
  },
  {
   "cell_type": "code",
   "execution_count": null,
   "id": "427bdc6f-9314-4a50-bac9-c0981fa88ffc",
   "metadata": {
    "tags": []
   },
   "outputs": [],
   "source": [
    "# get the HKLs predicted for the primitive lattice\n",
    "\n",
    "ucell.makerings(2.0)\n",
    "g.hkls = np.vstack(list(ucell.ringhkls.values()))\n",
    "g.hkls"
   ]
  },
  {
   "cell_type": "code",
   "execution_count": null,
   "id": "cca9235a-1638-4e65-85ee-9676488dc3e6",
   "metadata": {
    "tags": []
   },
   "outputs": [],
   "source": [
    "# g.gvecs = (g.UB @ g.hkls.T).T\n",
    "g.gvecs = recip_frac_to_recip_lab(g.hkls.T, g.UB).T\n",
    "g.gvecs"
   ]
  },
  {
   "cell_type": "code",
   "execution_count": null,
   "id": "52e46d2e-9432-4c6c-9b68-456b15325f6f",
   "metadata": {
    "tags": []
   },
   "outputs": [],
   "source": [
    "# gvecs are in a cartesian reference frame - lab frame\n",
    "# hkl = g.UBI @ gvecs\n",
    "hkl_float = recip_lab_to_recip_frac(g.gvecs.T, g.ubi).T\n",
    "hkl_int = np.round(hkl_float).astype(int)\n",
    "hkl_err = hkl_float - hkl_int\n",
    "assert np.allclose(hkl_err, 0)"
   ]
  },
  {
   "cell_type": "markdown",
   "id": "c9e5855c-0813-49c4-88a8-7c1562242a7e",
   "metadata": {},
   "source": [
    "# Combine orthogonal spaces for clarity"
   ]
  },
  {
   "cell_type": "code",
   "execution_count": null,
   "id": "2fc1289d-26ac-48e7-b67c-a60bca712e95",
   "metadata": {
    "tags": []
   },
   "outputs": [],
   "source": [
    "def real_frac_to_orth(vec_uvw, O):\n",
    "    vec_xyz = O @ vec_uvw\n",
    "    return vec_xyz\n",
    "\n",
    "def orth_to_real_frac(vec_xyz, F):\n",
    "    vec_uvw = F @ vec_xyz\n",
    "    return vec_uvw\n",
    "\n",
    "def real_frac_to_recip_frac(v_uvw, mt):\n",
    "    \"\"\"Convert a vector from the real basis (a, b, c) \n",
    "    to the reciprocal basis (a*, b*, c*).\"\"\"\n",
    "    v_hkl = mt @ v_uvw\n",
    "    return v_hkl\n",
    "\n",
    "def recip_frac_to_real_frac(v_hkl, rmt):\n",
    "    \"\"\"Convert a vector from the reciprocal basis (a*, b*, c*)\n",
    "    to the real basis (a, b, c).\"\"\"\n",
    "    v_uvw = rmt @ v_hkl\n",
    "    return v_uvw\n",
    "\n",
    "def recip_frac_to_orth(v_hkl, B):\n",
    "    v_xyz = B @ v_hkl\n",
    "    return v_xyz\n",
    "\n",
    "def orth_to_recip_frac(v_xyz, B):\n",
    "    v_hkl = np.linalg.inv(B) @ v_xyz\n",
    "    return v_hkl\n",
    "\n",
    "# rotate orthogonal crystal frame into lab frame (reciprocal)\n",
    "\n",
    "def orth_to_lab(v_xyz, U):\n",
    "    v_xlylzl = U @ v_xyz\n",
    "    return v_xlylzl\n",
    "\n",
    "def lab_to_orth(v_xlylzl, U):\n",
    "    v_xyz = np.linalg.inv(U) @ v_xlylzl\n",
    "    return v_xyz\n",
    "\n",
    "# cross transforms\n",
    "\n",
    "def recip_frac_to_lab(v_hkl, UB):\n",
    "    v_xlylzl = UB @ v_hkl\n",
    "    return v_xlylzl\n",
    "\n",
    "def lab_to_recip_frac(v_xlylzl, UBI):\n",
    "    # g-vectors are in reciprocal cartesian co-ordinates in the lab frame\n",
    "    v_hkl = UBI @ v_xlylzl\n",
    "    return v_hkl\n",
    "\n",
    "# common user question - where is this crystallographic direction (real fractional uvw) in the lab frame?\n",
    "\n",
    "def real_frac_to_lab(v_uvw, mt, UB):\n",
    "    v_hkl = real_frac_to_recip_frac(v_uvw, mt)\n",
    "    v_xlylzl = recip_frac_to_recip_lab(v_hkl, UB)\n",
    "    return v_xlylzl\n",
    "\n",
    "def lab_to_real_frac(v_xlylzl, rmt, UBI):\n",
    "    v_hkl = recip_lab_to_recip_frac(v_xlylzl, UBI)\n",
    "    v_uvw = recip_frac_to_real_frac(v_hkl, rmt)\n",
    "    return v_uvw"
   ]
  },
  {
   "cell_type": "code",
   "execution_count": null,
   "id": "54ed9c28-cfca-497e-89bc-6a2c353649dc",
   "metadata": {
    "tags": []
   },
   "outputs": [],
   "source": [
    "# by definition of our B matrix, c should be along z in the crystal\n",
    "# we have a U matrix such that z crystal is along X in the lab:\n",
    "\n",
    "orth_to_lab(np.array([0., 0., 1]), g.U)"
   ]
  },
  {
   "cell_type": "code",
   "execution_count": null,
   "id": "3246ff78-0a43-4db3-b1c1-3b97c4873480",
   "metadata": {
    "tags": []
   },
   "outputs": [],
   "source": [
    "assert np.arccos(real_frac_to_lab(np.array([0., 0., 1.]), g.mt, g.UB) @ np.array([1., 0., 0])/np.linalg.norm(real_frac_to_lab(np.array([0., 0., 1.]), g.mt, g.UB))) == 0"
   ]
  },
  {
   "cell_type": "markdown",
   "id": "e3de66ba-2656-4969-ab76-36c335fb9a21",
   "metadata": {},
   "source": [
    "# The $UB$ matrix\n",
    "The $UB$ matrix should be invariant of the choice of $B$, because different choices of $B$ just induce rotations in the cartesian reference frame.\n",
    "If you're comparing ImageD11 to another package, the $UB$ matrices are a good place to start.  \n",
    "You will probably find that the $B$ matrices just differ by a pure rotation:  \n",
    "$\\Delta = B_{\\text{other}} \\cdot B_{\\text{ID11}}^{-1}$  \n",
    "$U_{\\text{other}} = U_{\\text{ID11}} \\cdot \\Delta^T$  \n",
    "$U_{\\text{other}} \\cdot B_{\\text{other}} \\equiv U_{\\text{ID11}} \\cdot B_{\\text{ID11}}$"
   ]
  },
  {
   "cell_type": "code",
   "execution_count": null,
   "id": "9934f963-e74a-4a48-8030-889c44e21ab8",
   "metadata": {
    "tags": []
   },
   "outputs": [],
   "source": [
    "g.ubi"
   ]
  },
  {
   "cell_type": "code",
   "execution_count": null,
   "id": "0b9855fc-0967-47fa-832c-6f3f216db34e",
   "metadata": {
    "tags": []
   },
   "outputs": [],
   "source": [
    "g.UB"
   ]
  },
  {
   "cell_type": "code",
   "execution_count": null,
   "id": "d24d4509-dd83-4f64-8357-6474047015e7",
   "metadata": {
    "tags": []
   },
   "outputs": [],
   "source": [
    "g.B"
   ]
  },
  {
   "cell_type": "code",
   "execution_count": null,
   "id": "08d35a91-1f70-4337-9757-8466ff39104f",
   "metadata": {
    "tags": []
   },
   "outputs": [],
   "source": [
    "g.U"
   ]
  },
  {
   "cell_type": "code",
   "execution_count": null,
   "id": "0bf332f8-2fff-4a07-9837-a8b9bd985bc1",
   "metadata": {},
   "outputs": [],
   "source": []
  }
 ],
 "metadata": {
  "kernelspec": {
   "display_name": "Python 3 (main)",
   "language": "python",
   "name": "python3"
  },
  "language_info": {
   "codemirror_mode": {
    "name": "ipython",
    "version": 3
   },
   "file_extension": ".py",
   "mimetype": "text/x-python",
   "name": "python",
   "nbconvert_exporter": "python",
   "pygments_lexer": "ipython3",
   "version": "3.11.6"
  },
  "widgets": {
   "application/vnd.jupyter.widget-state+json": {
    "state": {},
    "version_major": 2,
    "version_minor": 0
   }
  }
 },
 "nbformat": 4,
 "nbformat_minor": 5
}
