{
 "cells": [
  {
   "cell_type": "markdown",
   "metadata": {},
   "source": [
    "# Indexing unknown secondary phases"
   ]
  },
  {
   "cell_type": "markdown",
   "metadata": {},
   "source": [
    "This notebook gives a demo for a couple of methods for selecting a grain and indexing it.\n",
    "\n",
    "1: select a peak, find the Friedel pair, use the pair to locate a position\n",
    "\n",
    "2: just select a position in space.\n",
    "\n",
    "Then filter spots by position, and/or, by using a selected peak to generate lattice translations and checking for translational symmetry.\n",
    "\n",
    "Subsets of selected peaks are then indexing using index_unknown.py from ImageD11\n",
    "\n",
    "Last modified 15/11/2024"
   ]
  },
  {
   "cell_type": "code",
   "execution_count": null,
   "metadata": {
    "tags": []
   },
   "outputs": [],
   "source": [
    "import os, sys\n",
    "# USER: You can change this location if you want\n",
    "exec(open('/data/id11/nanoscope/install_ImageD11_from_git.py').read())\n",
    "PYTHONPATH = setup_ImageD11_from_git()"
   ]
  },
  {
   "cell_type": "code",
   "execution_count": null,
   "metadata": {
    "tags": []
   },
   "outputs": [],
   "source": [
    "%matplotlib ipympl\n",
    "import numpy as np\n",
    "import matplotlib.pyplot as plt\n",
    "import ImageD11.sinograms.dataset\n",
    "from ImageD11.nbGui.interactive_peakselect import FriedelPairSelector\n",
    "import ImageD11.nbGui.nb_utils as utils\n",
    "import ImageD11.peakselect\n",
    "import scipy.spatial\n",
    "import ImageD11.transformer\n",
    "import ImageD11.indexing\n",
    "import ImageD11.sinograms.geometry"
   ]
  },
  {
   "cell_type": "code",
   "execution_count": null,
   "metadata": {
    "tags": []
   },
   "outputs": [],
   "source": [
    "def find_overlaps_3d( cf, pkids, gtol = 5e-3 ):\n",
    "    \"\"\"\n",
    "    cf = columnfile with g-vectors\n",
    "    pkids = peaks to use for offsetting your data and overlapping\n",
    "    \n",
    "    This shifts the g-vectors by the gvector of pkid and checks for overlaps\n",
    "    \n",
    "    returns (peaks_having_overlaps, distances used)\n",
    "    \"\"\"\n",
    "    g3 = np.transpose( (cf.gx, cf.gy, cf.gz) )\n",
    "    kd0 = scipy.spatial.cKDTree( g3 )\n",
    "    pks = []\n",
    "    distances = []\n",
    "    for pkid in pkids:\n",
    "        pk1 = np.argmin( abs( cf.spot3d_id - pkid ) )\n",
    "        for o in (-1, 1):\n",
    "            kd1 = scipy.spatial.cKDTree( g3 + o * g3[pk1] ) # plus or minus\n",
    "            sd1 = kd0.sparse_distance_matrix( kd1, max_distance=gtol ).tocoo()\n",
    "            #print(pkid, pk1, o, g3.shape, sd1.nnz)\n",
    "            pks.append( sd1.row )\n",
    "            pks.append( sd1.col )\n",
    "            distances.append( sd1.data )\n",
    "    return np.unique( np.concatenate( pks ) ), np.concatenate( distances )\n",
    "\n",
    "\n",
    "\n",
    "def run_index_unknown(gid, cf, frac=0.2, tol=0.05):\n",
    "    \"\"\"\n",
    "    gid = string to name files\n",
    "    cf = colfile to index\n",
    "    frac = fraction of peaks you want to index\n",
    "    tol = hkl tolerance\n",
    "    \"\"\"\n",
    "    tr = ImageD11.transformer.transformer()\n",
    "    tr.colfile = cf\n",
    "    tr.parameterobj = cf.parameters\n",
    "    # need to have cell params to save gves\n",
    "    tr.parameterobj.set('cell_lattice_[P,A,B,C,I,F,R]','P')# integer not backwards compatible\n",
    "    tr.savegv( f'gr{gid}.gve' )\n",
    "    !index_unknown.py -g gr{gid}.gve -m 40 --fft -t {tol} -f {frac} -o {gid}.ubi -k 1\n",
    "    if os.path.exists(f'{gid}.ubi'):\n",
    "        fixhandedness( f'{gid}.ubi' ) # the script on path might not be the one in git\n",
    "    \n",
    "def fixhandedness( ubifile ):\n",
    "    ubis = ImageD11.indexing.readubis( ubifile )\n",
    "    for i in range(len(ubis)):\n",
    "        if np.linalg.det( ubis[i] ) < 0:\n",
    "            ubis[i][-1] = -ubis[i][-1]\n",
    "        assert np.linalg.det( ubis[i] ) > 0\n",
    "    ImageD11.indexing.write_ubi_file(  ubifile, ubis )\n",
    "    \n",
    "def choose_peaks(cf, g, tol=1e-4):\n",
    "    \"\"\"\n",
    "    get the peaks a grain indexes using g error tol\n",
    "    Belongs somewhere else (grain method?)\n",
    "    \"\"\"\n",
    "    gve = (cf.gx, cf.gy, cf.gz)\n",
    "    hkl = g.ubi.dot( gve )\n",
    "    gcalc = g.ub.dot( np.round( hkl ) )\n",
    "    gerr = ((gcalc - gve )**2).sum(axis=0)\n",
    "    return gerr < tol\n",
    "\n",
    "def plot_indexing( cf, ubifiles ):\n",
    "    gl = []\n",
    "    for f in ubifiles:\n",
    "        gl += ImageD11.grain.read_grain_file( f ) \n",
    "    fig = plt.figure()\n",
    "    ax = fig.add_subplot( 1, 2, 1, projection='3d', proj_type='ortho')\n",
    "    ax2 = fig.add_subplot(1, 2, 2)\n",
    "    ax.plot( cf.gx, cf.gy, cf.gz, '.', ms = 1)\n",
    "    ax2.plot( cf.omega, cf.dty, \".\", ms=1 )\n",
    "    for i,g in enumerate(gl):\n",
    "        indexed = choose_peaks( cf, g )\n",
    "        ax.scatter( cf.gx[indexed], cf.gy[indexed], cf.gz[indexed], s=3, c='rgbmyk'[i] )\n",
    "        for j in range(3):\n",
    "            ax.plot( [0,g.ub[0,j]],\n",
    "                     [0,g.ub[1,j]],\n",
    "                     [0,g.ub[2,j]],\n",
    "                      '-'+'rgb'[j] )\n",
    "        ax2.plot( cf.omega[ indexed ], cf.dty[indexed], \"+\"+'rgbmyk'[i] )    "
   ]
  },
  {
   "cell_type": "code",
   "execution_count": null,
   "metadata": {
    "tags": []
   },
   "outputs": [],
   "source": [
    "dset_file = 'path/to/dataset.h5'\n",
    "ds = ImageD11.sinograms.dataset.load(dset_file)\n",
    "print(ds)"
   ]
  },
  {
   "cell_type": "code",
   "execution_count": null,
   "metadata": {},
   "outputs": [],
   "source": [
    "ds.phases = ds.get_phases_from_disk()\n",
    "ds.phases.unitcells"
   ]
  },
  {
   "cell_type": "code",
   "execution_count": null,
   "metadata": {},
   "outputs": [],
   "source": [
    "major_phase_strs = ['Fe', 'Au']\n",
    "major_phase_unitcells = [ds.phases.unitcells[mps] for mps in major_phase_strs]\n",
    "print(major_phase_unitcells)"
   ]
  },
  {
   "cell_type": "code",
   "execution_count": null,
   "metadata": {
    "tags": []
   },
   "outputs": [],
   "source": [
    "cf_4d = ds.get_cf_4d()\n",
    "ds.update_colfile_pars(cf_4d, major_phase_strs[0] )"
   ]
  },
  {
   "cell_type": "code",
   "execution_count": null,
   "metadata": {},
   "outputs": [],
   "source": [
    "# remove the peaks that are not found on more than one frame\n",
    "cf_4d.filter( cf_4d.npk2d > 2 )"
   ]
  },
  {
   "cell_type": "code",
   "execution_count": null,
   "metadata": {
    "tags": []
   },
   "outputs": [],
   "source": [
    "# powder patterns\n",
    "pbins = 5000\n",
    "hsI, dsbinedges = np.histogram( cf_4d.ds, weights=cf_4d.sum_intensity, bins=np.linspace(0, cf_4d.ds.max(), pbins))\n",
    "hs1, dsbinedges = np.histogram( cf_4d.ds, bins=np.linspace(0, cf_4d.ds.max(), pbins))\n",
    "dsbincens = 0.5*(dsbinedges[1:]+dsbinedges[:-1])"
   ]
  },
  {
   "cell_type": "code",
   "execution_count": null,
   "metadata": {},
   "outputs": [],
   "source": [
    "# filter out peaks from major phases\n",
    "major_phase_dstol = 0.004\n",
    "cf_4d = ImageD11.peakselect.remove_peaks_from_phases(cf_4d, major_phase_dstol, major_phase_unitcells)"
   ]
  },
  {
   "cell_type": "code",
   "execution_count": null,
   "metadata": {
    "tags": []
   },
   "outputs": [],
   "source": [
    "# cring = columnfile of things not indexed by the main rings\n",
    "dsmax = 1.0\n",
    "cring = cf_4d.copyrows(cf_4d.ds < dsmax)"
   ]
  },
  {
   "cell_type": "code",
   "execution_count": null,
   "metadata": {
    "tags": []
   },
   "outputs": [],
   "source": [
    "f, ax = plt.subplots(constrained_layout=True, figsize=(10,7))\n",
    "ax.plot( dsbincens, hsI/hsI.max() , '-', label='Pre-filtration histogram')\n",
    "for inc, major_phase_unitcell in enumerate(major_phase_unitcells):\n",
    "    ax.vlines(major_phase_unitcell.ringds, 1e-3*(2**inc), 1e-3*(2**inc)*2, color=plt.color_sequences['tab20'][inc+2], label=major_phase_unitcell.name)\n",
    "ax.plot( cring.ds, cring.sum_intensity/cring.sum_intensity.max(), \".\", ms=1, label='Surviving peaks' )\n",
    "ax.set(xlabel=r'$d^{*}~(\\AA^{-1})$', ylabel='Fractional intensity', yscale='log', xlim=(0.1,1), ylim=(1e-5,1))\n",
    "ax.legend()\n",
    "plt.show()"
   ]
  },
  {
   "cell_type": "markdown",
   "metadata": {},
   "source": [
    "## impurity phase method 1 : pick a peak\n",
    "\n",
    "Select a not-indexed ring in two theta that appears on more than one frame (npk2d > 1)\n",
    "\n",
    "This is plotted on the left as a sinogram.\n",
    "\n",
    "On the right you have all the non-indexed peaks.\n",
    "\n",
    "When the peak is selected, the code looks for the Friedel pair and tries to fit a grain position.\n",
    "\n",
    "We assume the y0 is 0 (otherwise you need to input this)."
   ]
  },
  {
   "cell_type": "code",
   "execution_count": null,
   "metadata": {
    "tags": []
   },
   "outputs": [],
   "source": [
    "# from the plot above, choose a ring_dstar that represents a ring of an unknown phase\n",
    "\n",
    "ring_dstar = 0.32028\n",
    "ring_dstol = 0.003\n",
    "\n",
    "m = abs(cring.ds - ring_dstar) < ring_dstol\n",
    "\n",
    "cpk = cring.copyrows( m )\n",
    "cpk.sortby( 'sum_intensity' )\n",
    "cring.sortby( 'sum_intensity' )"
   ]
  },
  {
   "cell_type": "code",
   "execution_count": null,
   "metadata": {
    "tags": []
   },
   "outputs": [],
   "source": [
    "# Position where the beam goes through the rotation axis\n",
    "y0 = 0.0"
   ]
  },
  {
   "cell_type": "code",
   "execution_count": null,
   "metadata": {
    "tags": []
   },
   "outputs": [],
   "source": [
    "selector_gui = FriedelPairSelector(cring, cpk, y0)"
   ]
  },
  {
   "cell_type": "code",
   "execution_count": null,
   "metadata": {},
   "outputs": [],
   "source": [
    "p1, p2, xy, peak_ycalc = selector_gui.get_selection()"
   ]
  },
  {
   "cell_type": "code",
   "execution_count": null,
   "metadata": {
    "tags": []
   },
   "outputs": [],
   "source": [
    "dtyrange = ds.ystep * 5\n",
    "f,ax = plt.subplots(constrained_layout=True, figsize=(7,4))\n",
    "ax.hist(cring.dty - peak_ycalc, bins = np.arange(-dtyrange,dtyrange,ds.ystep))\n",
    "ax.set(title='dty error histogram', xlabel='dty', ylabel='frequency')\n",
    "plt.show()"
   ]
  },
  {
   "cell_type": "code",
   "execution_count": null,
   "metadata": {
    "tags": []
   },
   "outputs": [],
   "source": [
    "# now we select the peaks from the sinogram based on that position in space\n",
    "dty_cut = 2.5 # from the last plot\n",
    "\n",
    "ymask = abs(peak_ycalc - cring.dty)<dty_cut\n",
    "cgrain = cring.copyrows( ymask )\n",
    "fig = plt.figure(constrained_layout=True)\n",
    "ax = fig.add_subplot( projection='3d', proj_type='ortho')\n",
    "ax.scatter( cgrain.gx, cgrain.gy, cgrain.gz, s=1 )\n",
    "ax.set(title='Scattering vectors, can you see the lattice yet?')\n",
    "plt.show()"
   ]
  },
  {
   "cell_type": "code",
   "execution_count": null,
   "metadata": {
    "tags": []
   },
   "outputs": [],
   "source": [
    "pks, dists = find_overlaps_3d( cring, (cpk.spot3d_id[p1], cpk.spot3d_id[p2] ), gtol=0.01 )\n",
    "fig, ax = plt.subplots(constrained_layout=True)\n",
    "ax.hist(dists, bins=20)\n",
    "ax.set(xlabel='G-vector distances', ylabel='Counts')\n",
    "plt.show()"
   ]
  },
  {
   "cell_type": "code",
   "execution_count": null,
   "metadata": {
    "tags": []
   },
   "outputs": [],
   "source": [
    "gtol = 0.002 # from the last plot\n",
    "pks, dists = find_overlaps_3d( cgrain, (cpk.spot3d_id[p1], cpk.spot3d_id[p2] ), gtol=gtol )\n",
    "\n",
    "fig = plt.figure(constrained_layout=True)\n",
    "a = fig.add_subplot(1,1,1, projection='3d', proj_type='ortho')\n",
    "a.scatter(cgrain.gx,cgrain.gy,cgrain.gz,s=1,alpha=0.4)\n",
    "a.scatter(cgrain.gx[pks],cgrain.gy[pks],cgrain.gz[pks],s=10)\n",
    "a.set(title='Lattice overlap detection')\n",
    "plt.show()"
   ]
  },
  {
   "cell_type": "code",
   "execution_count": null,
   "metadata": {
    "tags": []
   },
   "outputs": [],
   "source": [
    "# indexing using the lattice we found\n",
    "run_index_unknown(0, cgrain.copyrows(pks))"
   ]
  },
  {
   "cell_type": "code",
   "execution_count": null,
   "metadata": {
    "tags": []
   },
   "outputs": [],
   "source": [
    "plot_indexing( cgrain, (\"0.ubi\",))"
   ]
  },
  {
   "cell_type": "markdown",
   "metadata": {},
   "source": [
    "## Position selection on the sinogram"
   ]
  },
  {
   "cell_type": "code",
   "execution_count": null,
   "metadata": {
    "tags": []
   },
   "outputs": [],
   "source": [
    "# make a sinogram and recon\n",
    "nbins_angle = min( len( ds.obincens), int(len(ds.ybincens)*1.5) )\n",
    "sino, obinedge, ybinedge = np.histogram2d( cring.omega, cring.dty, weights = np.log(cring.sum_intensity),\n",
    "                      bins = (np.linspace(ds.obinedges.min(), ds.obinedges.max(), nbins_angle), ds.ybinedges) )\n",
    "obincen = 0.5*(obinedge[:-1] + obinedge[1:])\n",
    "recon = ImageD11.sinograms.roi_iradon.run_iradon(sino.T, obincen, filter_name='shepp-logan', \n",
    "                                             workers=ImageD11.cImageD11.cores_available(), shift=-y0/ds.ystep, pad=0)"
   ]
  },
  {
   "cell_type": "code",
   "execution_count": null,
   "metadata": {
    "tags": []
   },
   "outputs": [],
   "source": [
    "# plot the sino and recon\n",
    "fig, ax = plt.subplots(1,2,figsize=(12,6))\n",
    "ax[0].pcolormesh( obinedge,\n",
    "                  ybinedge,\n",
    "                  sino.T);\n",
    "ax[1].pcolormesh( -ds.ybinedges,ds.ybinedges, recon, vmin=0, vmax = recon.max()/2 )\n",
    "location, = ax[1].plot( [],[], 'ow', mfc='none', ms=20)\n",
    "ax[1].set(xlim=(ds.ybinedges[-1],ds.ybinedges[0]),\n",
    "          xlabel='laboratory Y', ylabel='laboratory X')\n",
    "ax[0].set(title='sinogram')\n",
    "ax[1].set(title='click on the place you want')\n",
    "\n",
    "om = np.linspace( cring.omega.min(), cring.omega.max(), 90 )\n",
    "fitline1, = ax[0].plot( om, np.zeros_like(om), 'w-')\n",
    "fitline2, = ax[0].plot( om, np.zeros_like(om), 'w-')\n",
    "\n",
    "ycalcall = None\n",
    "pos = None\n",
    "def onclick( evt ):\n",
    "    if evt.inaxes == ax[1]:\n",
    "        y = evt.xdata\n",
    "        x = evt.ydata\n",
    "        ycalc = ImageD11.sinograms.geometry.dtycalc( om, x, y, y0 )\n",
    "        global ycalcall, pos\n",
    "        pos = y,x\n",
    "        ycalcall = ImageD11.sinograms.geometry.dtycalc( cring.omega, x, y, y0 )\n",
    "        fitline1.set_ydata( ycalc + 1 )\n",
    "        fitline2.set_ydata( ycalc - 1 )\n",
    "        location.set_xdata( [y,] )\n",
    "        location.set_ydata( [x,] )\n",
    "        fig.canvas.draw_idle()\n",
    "    \n",
    "fig.canvas.mpl_connect( 'button_press_event', onclick );"
   ]
  },
  {
   "cell_type": "code",
   "execution_count": null,
   "metadata": {
    "tags": []
   },
   "outputs": [],
   "source": [
    "print(\"Your click was\",pos)"
   ]
  },
  {
   "cell_type": "code",
   "execution_count": null,
   "metadata": {
    "tags": []
   },
   "outputs": [],
   "source": [
    "ytol = 0.5\n",
    "ymask = abs(ycalcall - cring.dty)<(ytol*ds.ystep)\n",
    "cgrain2 = cring.copyrows( ymask )\n",
    "fig = plt.figure()\n",
    "ax = fig.add_subplot( projection='3d', proj_type='ortho')\n",
    "ax.scatter( cgrain2.gx, cgrain2.gy, cgrain2.gz, s=1 );"
   ]
  },
  {
   "cell_type": "code",
   "execution_count": null,
   "metadata": {
    "tags": []
   },
   "outputs": [],
   "source": [
    "# index using all peaks\n",
    "run_index_unknown( 1, cgrain2 )\n",
    "indexed = choose_peaks( cgrain2, ImageD11.grain.read_grain_file( '1.ubi')[0] )\n",
    "# re-index using the peaks indexed\n",
    "run_index_unknown( 2, cgrain2.copyrows( indexed ) )"
   ]
  },
  {
   "cell_type": "code",
   "execution_count": null,
   "metadata": {
    "tags": []
   },
   "outputs": [],
   "source": [
    "plot_indexing( cgrain2, ('2.ubi',))"
   ]
  },
  {
   "cell_type": "code",
   "execution_count": null,
   "metadata": {
    "tags": []
   },
   "outputs": [],
   "source": [
    "# A final powder pattern to compare to our grains\n",
    "h, _ = np.histogram( cring.ds, weights=np.log(cring.sum_intensity), bins=dsbinedges )"
   ]
  },
  {
   "cell_type": "code",
   "execution_count": null,
   "metadata": {
    "tags": []
   },
   "outputs": [],
   "source": [
    "cells = [ ImageD11.unitcell.unitcell( ImageD11.grain.read_grain_file( '%d.ubi'%(i) )[0].unitcell, 'P' )\n",
    "          for i in range(3) ]\n",
    "for c in cells:\n",
    "    c.makerings(1)\n",
    "    print(c.lattice_parameters)"
   ]
  },
  {
   "cell_type": "code",
   "execution_count": null,
   "metadata": {
    "tags": []
   },
   "outputs": [],
   "source": [
    "fig, ax = plt.subplots(figsize=(12,5), constrained_layout=True)\n",
    "ax.plot( cring.ds, cring.sum_intensity, 'b.', ms=1)\n",
    "ax.plot( cf_4d.ds, cf_4d.sum_intensity, 'g,', alpha=0.5)\n",
    "for inc, cell in enumerate(cells):\n",
    "    ax.vlines(cell.ringds, 1e3*(2**inc), 1e3*(2**inc)*2, color=plt.color_sequences['tab20'][inc+5], label=(\"%.4f \"*6)%tuple(cell.lattice_parameters) )\n",
    "for inc, major_phase_unitcell in enumerate(major_phase_unitcells):\n",
    "    ax.vlines(major_phase_unitcell.ringds, 1e3*(2**(len(cells)+inc)), 1e3*(2**(len(cells)+inc))*2, color=plt.color_sequences['tab20'][inc], label=major_phase_unitcell.name)\n",
    "ax.set(xlim=(0.1, cring.ds.max()), xlabel=r'$d^{*}~(\\AA^{-1})$', ylabel='Intensity', yscale='log')\n",
    "ax.legend(loc='upper left')\n",
    "plt.show()"
   ]
  },
  {
   "cell_type": "markdown",
   "metadata": {},
   "source": [
    "You can check for higher symmetry at https://www.cryst.ehu.es/cryst/lattice.html"
   ]
  }
 ],
 "metadata": {
  "kernelspec": {
   "display_name": "Python 3 (main)",
   "language": "python",
   "name": "python3"
  },
  "language_info": {
   "codemirror_mode": {
    "name": "ipython",
    "version": 3
   },
   "file_extension": ".py",
   "mimetype": "text/x-python",
   "name": "python",
   "nbconvert_exporter": "python",
   "pygments_lexer": "ipython3",
   "version": "3.11.6"
  }
 },
 "nbformat": 4,
 "nbformat_minor": 4
}
