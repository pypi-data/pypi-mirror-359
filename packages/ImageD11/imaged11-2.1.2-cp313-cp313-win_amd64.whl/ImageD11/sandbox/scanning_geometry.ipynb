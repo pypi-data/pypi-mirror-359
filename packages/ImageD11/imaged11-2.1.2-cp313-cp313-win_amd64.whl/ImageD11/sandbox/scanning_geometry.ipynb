{
 "cells": [
  {
   "cell_type": "code",
   "execution_count": null,
   "id": "6e6b6811-0bca-46ee-aec8-812b2bf2386c",
   "metadata": {},
   "outputs": [],
   "source": [
    "# USER: Change the path below to point to your local copy of ImageD11:\n",
    "\n",
    "import os\n",
    "\n",
    "home_dir = !echo $HOME\n",
    "home_dir = str(home_dir[0])\n",
    "\n",
    "# USER: You can change this location if you want\n",
    "\n",
    "id11_code_path = os.path.join(home_dir, \"Code/ImageD11\")\n",
    "\n",
    "import sys\n",
    "\n",
    "sys.path.insert(0, id11_code_path)"
   ]
  },
  {
   "cell_type": "code",
   "execution_count": null,
   "id": "abb767a9-805f-4f99-8f71-ddcd970fbce8",
   "metadata": {
    "tags": []
   },
   "outputs": [],
   "source": [
    "import numpy as np\n",
    "from matplotlib import pyplot as plt\n",
    "from matplotlib.lines import Line2D\n",
    "\n",
    "from ImageD11.sinograms import geometry\n",
    "from ImageD11.sinograms.roi_iradon import run_iradon\n",
    "\n",
    "%matplotlib inline"
   ]
  },
  {
   "cell_type": "code",
   "execution_count": null,
   "id": "e416f81d-5baa-441b-a20d-fd9a2bb89c5a",
   "metadata": {},
   "outputs": [],
   "source": [
    "# let's define a circular sample of radius 600 um\n",
    "sample_radius = 600\n",
    "\n",
    "# the sample is perfectly aligned to the rotation axis"
   ]
  },
  {
   "cell_type": "code",
   "execution_count": null,
   "id": "7466de4b-5c7b-437d-97cf-640e0f99e649",
   "metadata": {
    "tags": []
   },
   "outputs": [],
   "source": [
    "fig, ax = plt.subplots()\n",
    "ax.scatter(0, 0, label='Rotation axis', c='r')\n",
    "ax.set_xlim(1000, -1000)\n",
    "ax.set_ylim(-1000, 1000)\n",
    "ax.set_aspect(1)\n",
    "ax.set_xlabel(\"Sample Y\")\n",
    "ax.set_ylabel(\"Sample X\")\n",
    "\n",
    "ax.set_title(\"Top-down\")\n",
    "plt.grid(axis='x', color='0.95')\n",
    "plt.grid(axis='y', color='0.95')\n",
    "circle1 = plt.Circle((0, 0), sample_radius, color='r', fill=False)\n",
    "plt.annotate(\n",
    "    '',        # Text to display\n",
    "    xy=(0, 1000),                # Arrow's head position\n",
    "    xytext=(0, -1000),            # Text position\n",
    "    arrowprops=dict(\n",
    "        arrowstyle=\"->\",       # Arrow style\n",
    "        lw=1.5,               # Line width\n",
    "        color='blue'            # Arrow color\n",
    "    ),\n",
    "    ha='center',               # Horizontal alignment of the text\n",
    "    va='center',                # Vertical alignment of the text\n",
    ")\n",
    "\n",
    "# Create a custom legend handle for the arrow\n",
    "arrow_legend = Line2D(\n",
    "    [0], [0],                  # Dummy data\n",
    "    color='blue',              # Arrow color\n",
    "    lw=1.5,                    # Line width\n",
    "    linestyle='-',             # Line style\n",
    "    marker='>',                # Arrow marker\n",
    "    markersize=10,             # Marker size\n",
    ")\n",
    "\n",
    "# Add the custom legend handle to the legend\n",
    "handles, labels = ax.get_legend_handles_labels()\n",
    "handles.append(arrow_legend)\n",
    "labels.append('Beam')\n",
    "# Update the legend with the new handles and labels\n",
    "ax.legend(handles=handles, labels=labels)\n",
    "ax.add_patch(circle1)\n",
    "plt.show()"
   ]
  },
  {
   "cell_type": "code",
   "execution_count": null,
   "id": "ede716bb-bcb6-4c1c-94f1-b94cfd622067",
   "metadata": {
    "tags": []
   },
   "outputs": [],
   "source": [
    "# we have 1 grain in our sample\n",
    "# grain centre-of-mass position is [300, 400, 0] um in the sample frame\n",
    "\n",
    "sx = 300.0\n",
    "sy = 400.0\n",
    "sz = 0"
   ]
  },
  {
   "cell_type": "code",
   "execution_count": null,
   "id": "208e73f3-0f8d-49bb-aeb3-fc4dd4b195d2",
   "metadata": {
    "tags": []
   },
   "outputs": [],
   "source": [
    "fig, ax = plt.subplots()\n",
    "ax.scatter(sy, sx, label='grain COM', c='g')\n",
    "ax.scatter(0, 0, label='Rotation axis', c='r')\n",
    "ax.set_xlim(1000, -1000)\n",
    "ax.set_ylim(-1000, 1000)\n",
    "ax.set_aspect(1)\n",
    "ax.set_xlabel(\"< Sample Y\")\n",
    "ax.set_ylabel(\"Sample X\")\n",
    "ax.set_title(\"Top-down\")\n",
    "plt.grid(axis='x', color='0.95')\n",
    "plt.grid(axis='y', color='0.95')\n",
    "circle1 = plt.Circle((0, 0), sample_radius, color='r', fill=False)\n",
    "ax.add_patch(circle1)\n",
    "plt.annotate(\n",
    "    '',        # Text to display\n",
    "    xy=(0, 1000),                # Arrow's head position\n",
    "    xytext=(0, -1000),            # Text position\n",
    "    arrowprops=dict(\n",
    "        arrowstyle=\"->\",       # Arrow style\n",
    "        lw=1.5,               # Line width\n",
    "        color='blue'            # Arrow color\n",
    "    ),\n",
    "    ha='center',               # Horizontal alignment of the text\n",
    "    va='center',                # Vertical alignment of the text\n",
    ")\n",
    "\n",
    "# Create a custom legend handle for the arrow\n",
    "arrow_legend = Line2D(\n",
    "    [0], [0],                  # Dummy data\n",
    "    color='blue',              # Arrow color\n",
    "    lw=1.5,                    # Line width\n",
    "    linestyle='-',             # Line style\n",
    "    marker='>',                # Arrow marker\n",
    "    markersize=10,             # Marker size\n",
    ")\n",
    "\n",
    "# Add the custom legend handle to the legend\n",
    "handles, labels = ax.get_legend_handles_labels()\n",
    "handles.append(arrow_legend)\n",
    "labels.append('Beam')\n",
    "# Update the legend with the new handles and labels\n",
    "ax.legend(handles=handles, labels=labels)\n",
    "plt.show()"
   ]
  },
  {
   "cell_type": "code",
   "execution_count": null,
   "id": "e0afaeea-3cfd-4e24-89aa-367e2a58da6a",
   "metadata": {
    "tags": []
   },
   "outputs": [],
   "source": [
    "# assume no misalignment between beam and rotation axis\n",
    "# also assume that we're at the correct dty position\n",
    "# therefore we only consider rotation at the moment\n",
    "\n",
    "y0 = dty = 14.0*1000  # um\n",
    "\n",
    "# then put omega = 36.87 degrees\n",
    "# grain should end up at (0, 500) in the lab frame\n",
    "\n",
    "omega = 36.87\n",
    "lx, ly = geometry.sample_to_lab(sx, sy, y0=y0, dty=dty, omega=omega)\n",
    "print(lx, ly)"
   ]
  },
  {
   "cell_type": "code",
   "execution_count": null,
   "id": "25d9c811-a4e1-49cb-8027-1514737ec305",
   "metadata": {
    "tags": []
   },
   "outputs": [],
   "source": [
    "# where is the rotation axis in the lab frame?\n",
    "\n",
    "lx_rot, ly_rot = geometry.sample_to_lab(0, 0, y0=y0, dty=dty, omega=omega)"
   ]
  },
  {
   "cell_type": "code",
   "execution_count": null,
   "id": "cb9bbe31-2209-48f8-8835-35d1d2032351",
   "metadata": {
    "tags": []
   },
   "outputs": [],
   "source": [
    "fig, ax = plt.subplots()\n",
    "ax.scatter(ly, lx, label='grain COM', c='g')\n",
    "ax.scatter(ly_rot, lx_rot, label='rotation axis')\n",
    "# ax.scatter(0, 0, label='lab origin', c='k')\n",
    "# ax.scatter(-y0, 0, label='sample centre', c='r')\n",
    "ax.set_xlim(+1000,  -1000)\n",
    "ax.set_ylim(-1000, 1000)\n",
    "ax.set_aspect(1)\n",
    "ax.set_xlabel(\"< Lab Y\")\n",
    "ax.set_ylabel(\"Lab X (beam)\")\n",
    "\n",
    "ax.set_title(f\"Top-down, dty = {dty}, omega = {omega}\")\n",
    "plt.grid(axis='x', color='0.95')\n",
    "plt.grid(axis='y', color='0.95')\n",
    "circle1 = plt.Circle((ly_rot, lx_rot), sample_radius, color='r', fill=False)\n",
    "ax.add_patch(circle1)\n",
    "plt.annotate(\n",
    "    '',        # Text to display\n",
    "    xy=(0, 1000),                # Arrow's head position\n",
    "    xytext=(0, -1000),            # Text position\n",
    "    arrowprops=dict(\n",
    "        arrowstyle=\"->\",       # Arrow style\n",
    "        lw=1.5,               # Line width\n",
    "        color='blue'            # Arrow color\n",
    "    ),\n",
    "    ha='center',               # Horizontal alignment of the text\n",
    "    va='center',                # Vertical alignment of the text\n",
    ")\n",
    "\n",
    "# Create a custom legend handle for the arrow\n",
    "arrow_legend = Line2D(\n",
    "    [0], [0],                  # Dummy data\n",
    "    color='blue',              # Arrow color\n",
    "    lw=1.5,                    # Line width\n",
    "    linestyle='-',             # Line style\n",
    "    marker='>',                # Arrow marker\n",
    "    markersize=10,             # Marker size\n",
    ")\n",
    "\n",
    "# Add the custom legend handle to the legend\n",
    "handles, labels = ax.get_legend_handles_labels()\n",
    "handles.append(arrow_legend)\n",
    "labels.append('Beam')\n",
    "# Update the legend with the new handles and labels\n",
    "ax.legend(handles=handles, labels=labels)\n",
    "plt.show()"
   ]
  },
  {
   "cell_type": "code",
   "execution_count": null,
   "id": "d977ead9-abdc-467b-9ff2-f1e1171cd71f",
   "metadata": {
    "tags": []
   },
   "outputs": [],
   "source": [
    "# Now let's assume an alignment problem of 65 um\n",
    "# therefore y0 = -65\n",
    "y0 = -65\n",
    "dty = 0\n",
    "# at dty = 0, the centre of the sample does not intercept the beam\n",
    "# this instead happens at dty = y0\n",
    "\n",
    "# what happens when we try to rotate the grain into the beam?\n",
    "# need to rotate 90 degrees more\n",
    "omega = omega + 90\n",
    "\n",
    "# now where is the grain in the lab frame?\n",
    "lx, ly = geometry.sample_to_lab(sx, sy, y0=y0, dty=dty, omega=omega)\n",
    "\n",
    "# now where is the rotation axis in the lab frame?\n",
    "\n",
    "lx_rot, ly_rot = geometry.sample_to_lab(0, 0, y0=y0, dty=dty, omega=omega)"
   ]
  },
  {
   "cell_type": "code",
   "execution_count": null,
   "id": "aedb2576-8ed8-4e51-ba58-140b86c63b18",
   "metadata": {
    "tags": []
   },
   "outputs": [],
   "source": [
    "fig, ax = plt.subplots()\n",
    "ax.scatter(ly, lx, label='grain COM', c='g')\n",
    "ax.scatter(ly_rot, lx_rot, label='rotation axis')\n",
    "ax.set_xlim(y0+1000,  y0-1000)\n",
    "ax.set_ylim(-1000, 1000)\n",
    "ax.set_aspect(1)\n",
    "ax.set_xlabel(\"Lab Y\")\n",
    "ax.set_ylabel(\"Lab X (beam)\")\n",
    "\n",
    "ax.set_title(f\"Top-down, dty = {dty} (beam), omega = {omega}\")\n",
    "plt.grid(axis='x', color='0.95')\n",
    "plt.grid(axis='y', color='0.95')\n",
    "circle1 = plt.Circle((ly_rot, lx_rot), sample_radius, color='r', fill=False)\n",
    "ax.add_patch(circle1)\n",
    "plt.annotate(\n",
    "    '',        # Text to display\n",
    "    xy=(0, 1000),                # Arrow's head position\n",
    "    xytext=(0, -1000),            # Text position\n",
    "    arrowprops=dict(\n",
    "        arrowstyle=\"->\",       # Arrow style\n",
    "        lw=1.5,               # Line width\n",
    "        color='blue'            # Arrow color\n",
    "    ),\n",
    "    ha='center',               # Horizontal alignment of the text\n",
    "    va='center',                # Vertical alignment of the text\n",
    ")\n",
    "\n",
    "# Create a custom legend handle for the arrow\n",
    "arrow_legend = Line2D(\n",
    "    [0], [0],                  # Dummy data\n",
    "    color='blue',              # Arrow color\n",
    "    lw=1.5,                    # Line width\n",
    "    linestyle='-',             # Line style\n",
    "    marker='>',                # Arrow marker\n",
    "    markersize=10,             # Marker size\n",
    ")\n",
    "\n",
    "# Add the custom legend handle to the legend\n",
    "handles, labels = ax.get_legend_handles_labels()\n",
    "handles.append(arrow_legend)\n",
    "labels.append('Beam')\n",
    "# Update the legend with the new handles and labels\n",
    "ax.legend(handles=handles, labels=labels)\n",
    "plt.show()"
   ]
  },
  {
   "cell_type": "code",
   "execution_count": null,
   "id": "ac42c9d7-0f7c-44be-9f9d-42ed391dc0e6",
   "metadata": {
    "tags": []
   },
   "outputs": [],
   "source": [
    "# To get the grain into the beam at the current omega value?\n",
    "# the same as getting the rotation axis into the beam\n",
    "# which we know is dty = y0\n",
    "\n",
    "dty = y0\n",
    "\n",
    "# now where is the grain in the lab frame?\n",
    "lx, ly = geometry.sample_to_lab(sx, sy, y0=y0, dty=dty, omega=omega)\n",
    "\n",
    "# now where is the rotation axis in the lab frame?\n",
    "\n",
    "lx_rot, ly_rot = geometry.sample_to_lab(0, 0, y0=y0, dty=dty, omega=omega)\n",
    "\n",
    "print(dty)\n",
    "print(y0)"
   ]
  },
  {
   "cell_type": "code",
   "execution_count": null,
   "id": "2a19bcc9-a219-45b3-ae07-e9d4feb64993",
   "metadata": {
    "tags": []
   },
   "outputs": [],
   "source": [
    "fig, ax = plt.subplots()\n",
    "ax.scatter(ly, lx, label='grain COM', c='g')\n",
    "ax.scatter(ly_rot, lx_rot, label='rotation axis')\n",
    "ax.set_xlim(y0+1000,  y0-1000)\n",
    "ax.set_ylim(-1000, 1000)\n",
    "ax.set_aspect(1)\n",
    "ax.set_xlabel(\"Lab Y\")\n",
    "ax.set_ylabel(\"Lab X (beam)\")\n",
    "\n",
    "ax.set_title(f\"Top-down, dty = {dty} (beam), omega = {omega}\")\n",
    "plt.grid(axis='x', color='0.95')\n",
    "plt.grid(axis='y', color='0.95')\n",
    "circle1 = plt.Circle((ly_rot, lx_rot), sample_radius, color='r', fill=False)\n",
    "ax.add_patch(circle1)\n",
    "plt.annotate(\n",
    "    '',        # Text to display\n",
    "    xy=(0, 1000),                # Arrow's head position\n",
    "    xytext=(0, -1000),            # Text position\n",
    "    arrowprops=dict(\n",
    "        arrowstyle=\"->\",       # Arrow style\n",
    "        lw=1.5,               # Line width\n",
    "        color='blue'            # Arrow color\n",
    "    ),\n",
    "    ha='center',               # Horizontal alignment of the text\n",
    "    va='center',                # Vertical alignment of the text\n",
    ")\n",
    "\n",
    "# Create a custom legend handle for the arrow\n",
    "arrow_legend = Line2D(\n",
    "    [0], [0],                  # Dummy data\n",
    "    color='blue',              # Arrow color\n",
    "    lw=1.5,                    # Line width\n",
    "    linestyle='-',             # Line style\n",
    "    marker='>',                # Arrow marker\n",
    "    markersize=10,             # Marker size\n",
    ")\n",
    "\n",
    "# Add the custom legend handle to the legend\n",
    "handles, labels = ax.get_legend_handles_labels()\n",
    "handles.append(arrow_legend)\n",
    "labels.append('Beam')\n",
    "# Update the legend with the new handles and labels\n",
    "ax.legend(handles=handles, labels=labels)\n",
    "plt.show()"
   ]
  },
  {
   "cell_type": "code",
   "execution_count": null,
   "id": "1e59f801-6b49-4704-89de-3228b8635138",
   "metadata": {
    "tags": []
   },
   "outputs": [],
   "source": [
    "# To get the grain into the beam at omega = 0?\n",
    "# dty needs to be at the true intersection position\n",
    "# then subtract sy\n",
    "\n",
    "dty = y0 - sy\n",
    "omega = 0\n",
    "\n",
    "# now where is the grain in the lab frame?\n",
    "lx, ly = geometry.sample_to_lab(sx, sy, y0=y0, dty=dty, omega=omega)\n",
    "\n",
    "# now where is the rotation axis in the lab frame?\n",
    "\n",
    "lx_rot, ly_rot = geometry.sample_to_lab(0, 0, y0=y0, dty=dty, omega=omega)\n",
    "\n",
    "print(dty)\n",
    "print(y0)"
   ]
  },
  {
   "cell_type": "code",
   "execution_count": null,
   "id": "d9025cdb-da18-4c92-9c97-fbc113b4bd9d",
   "metadata": {
    "tags": []
   },
   "outputs": [],
   "source": [
    "print(ly_rot)"
   ]
  },
  {
   "cell_type": "code",
   "execution_count": null,
   "id": "861dfeb7-b43f-44bb-b644-f356f5cc1c59",
   "metadata": {
    "tags": []
   },
   "outputs": [],
   "source": [
    "fig, ax = plt.subplots()\n",
    "ax.scatter(ly, lx, label='grain COM', c='g')\n",
    "ax.scatter(ly_rot, lx_rot, label='rotation axis')\n",
    "ax.set_xlim(y0+1000,  y0-1000)\n",
    "ax.set_ylim(-1000, 1000)\n",
    "ax.set_aspect(1)\n",
    "ax.set_xlabel(\"Lab Y\")\n",
    "ax.set_ylabel(\"Lab X (beam)\")\n",
    "\n",
    "ax.set_title(f\"Top-down, dty = {dty}, omega = {omega}\")\n",
    "plt.grid(axis='x', color='0.95')\n",
    "plt.grid(axis='y', color='0.95')\n",
    "circle1 = plt.Circle((ly_rot, lx_rot), sample_radius, color='r', fill=False)\n",
    "ax.add_patch(circle1)\n",
    "plt.annotate(\n",
    "    '',        # Text to display\n",
    "    xy=(0, 1000),                # Arrow's head position\n",
    "    xytext=(0, -1000),            # Text position\n",
    "    arrowprops=dict(\n",
    "        arrowstyle=\"->\",       # Arrow style\n",
    "        lw=1.5,               # Line width\n",
    "        color='blue'            # Arrow color\n",
    "    ),\n",
    "    ha='center',               # Horizontal alignment of the text\n",
    "    va='center',                # Vertical alignment of the text\n",
    ")\n",
    "\n",
    "# Create a custom legend handle for the arrow\n",
    "arrow_legend = Line2D(\n",
    "    [0], [0],                  # Dummy data\n",
    "    color='blue',              # Arrow color\n",
    "    lw=1.5,                    # Line width\n",
    "    linestyle='-',             # Line style\n",
    "    marker='>',                # Arrow marker\n",
    "    markersize=10,             # Marker size\n",
    ")\n",
    "\n",
    "# Add the custom legend handle to the legend\n",
    "handles, labels = ax.get_legend_handles_labels()\n",
    "handles.append(arrow_legend)\n",
    "labels.append('Beam')\n",
    "# Update the legend with the new handles and labels\n",
    "ax.legend(handles=handles, labels=labels)\n",
    "plt.show()"
   ]
  },
  {
   "cell_type": "code",
   "execution_count": null,
   "id": "4cae0b1b-7314-4dbf-b363-23d528abbb6c",
   "metadata": {},
   "outputs": [],
   "source": [
    "# check the co-ordinate systems\n",
    "\n",
    "# to make things harder, let's assume we did a half-acquisition\n",
    "ystep = 10  # microns\n",
    "ymin = -750\n",
    "ymax = +100\n",
    "\n",
    "yrange = ymax - ymin\n",
    "ny = int(yrange // ystep) + 1\n",
    "ybincens = np.linspace(ymin, ymax, ny)"
   ]
  },
  {
   "cell_type": "code",
   "execution_count": null,
   "id": "bc25c343-c512-4d50-8369-d323950578de",
   "metadata": {
    "tags": []
   },
   "outputs": [],
   "source": [
    "si, sj = geometry.sample_to_step(sx, sy, ystep=ystep)\n",
    "ri, rj = geometry.sample_to_recon(sx, sy, ystep=ystep, recon_shape=(200, 200))"
   ]
  },
  {
   "cell_type": "code",
   "execution_count": null,
   "id": "e43e951d-bee2-4874-a013-0ece0ad2bb8a",
   "metadata": {
    "tags": []
   },
   "outputs": [],
   "source": [
    "fig, axs = plt.subplots(1, 3, figsize=(16, 5), layout=\"constrained\")\n",
    "axs[0].scatter(sy, sx, label='grain COM', c='g')\n",
    "axs[0].set_xlim(1000, -1000)\n",
    "axs[0].set_ylim(-1000, 1000)\n",
    "axs[0].set_aspect(1)\n",
    "axs[0].set_xlabel(\"Sample Y\")\n",
    "axs[0].set_ylabel(\"Sample X (beam)\")\n",
    "axs[0].legend()\n",
    "axs[0].set_title(\"Sample frame\")\n",
    "axs[0].grid(axis='x', color='0.95')\n",
    "axs[0].grid(axis='y', color='0.95')\n",
    "\n",
    "axs[1].scatter(sj, si, label='grain COM', c='g')\n",
    "axs[1].set_xlim(-1000/ystep, 1000/ystep)\n",
    "axs[1].set_ylim(-1000/ystep, 1000/ystep)\n",
    "axs[1].set_aspect(1)\n",
    "axs[1].set_xlabel(\"Step j\")\n",
    "axs[1].set_ylabel(\"Step i\")\n",
    "axs[1].legend()\n",
    "axs[1].set_title(\"Step frame\")\n",
    "\n",
    "\n",
    "axs[2].scatter(rj, ri, label='grain COM', c='g')\n",
    "axs[2].set_xlim(0, 200)\n",
    "axs[2].set_ylim(0, 200)\n",
    "axs[2].set_aspect(1)\n",
    "axs[2].set_xlabel(\"Recon j\")\n",
    "axs[2].set_ylabel(\"Recon i\")\n",
    "axs[2].legend()\n",
    "axs[2].set_title(\"Recon frame\")\n",
    "\n",
    "plt.show()"
   ]
  },
  {
   "cell_type": "code",
   "execution_count": null,
   "id": "e7d82abd-f750-4206-9ee6-90599d9a4d88",
   "metadata": {
    "tags": []
   },
   "outputs": [],
   "source": [
    "# how does the grain's sinogram look?\n",
    "# omega is counter-clockwise (CCW) when looking down at the diffractometer"
   ]
  },
  {
   "attachments": {
    "07f0a0da-f47c-453e-b9fa-a7dc0e87bcca.png": {
     "image/png": "[encoded data removed]"
    }
   },
   "cell_type": "markdown",
   "id": "fdda5a0a-a98b-48fd-b970-53e28f363e53",
   "metadata": {},
   "source": [
    "![Untitled.png](attachment:07f0a0da-f47c-453e-b9fa-a7dc0e87bcca.png)"
   ]
  },
  {
   "cell_type": "code",
   "execution_count": null,
   "id": "d83ce30f-7825-471d-8ece-14dbe1e4cd34",
   "metadata": {
    "tags": []
   },
   "outputs": [],
   "source": [
    "# This means the sinogram should start positive and begin decreasing as we increase omega"
   ]
  },
  {
   "cell_type": "code",
   "execution_count": null,
   "id": "6022e73e-2496-4ffe-8349-df24c1b5b4ff",
   "metadata": {
    "tags": []
   },
   "outputs": [],
   "source": [
    "y0 = ( 14 * 1000 ) # um\n",
    "# we thought y0 was 14 mm which is what we scanned across\n",
    "# in a weird sorta-half-acquisition way\n",
    "\n",
    "ystep = 10  # microns\n",
    "ymin = 14 * 1000 - 750\n",
    "ymax = 14 * 1000 + 100\n",
    "\n",
    "yrange = ymax - ymin\n",
    "ny = int(yrange // ystep) + 1\n",
    "ybincens = np.linspace(ymin, ymax, ny)\n",
    "\n",
    "omega = np.arange(0, 361, 1)  # 1 degree step\n",
    "\n",
    "sx = 530.6\n",
    "sy = -530\n",
    "\n",
    "dty = geometry.dty_values_grain_in_beam(sx, sy, y0, omega)\n",
    "dtyi = geometry.dty_to_dtyi(dty, ystep, ybincens[0])\n",
    "\n",
    "# construct a sinogram\n",
    "sino = np.zeros((ny, len(omega)), dtype=float)\n",
    "\n",
    "for i in range(sino.shape[0]):  # ny\n",
    "    for j in range(sino.shape[1]):  # omega\n",
    "        # use dtyi_calc as a lookup table from omega index\n",
    "        this_dtyi = dtyi[j]\n",
    "        sino[i, j] = 1/(50*np.cbrt((np.abs(i - this_dtyi)))+0.01)\n",
    "\n",
    "shift, pad = geometry.sino_shift_and_pad(y0, ny, ymin, ystep)\n",
    "print(shift, pad)\n",
    "recon = run_iradon(sino, omega, pad=pad, shift=shift)"
   ]
  },
  {
   "cell_type": "code",
   "execution_count": null,
   "id": "c16e796e-887c-4e97-82c5-e7d7db6f637d",
   "metadata": {
    "tags": []
   },
   "outputs": [],
   "source": [
    "fig, ax = plt.subplots()\n",
    "ax.scatter(omega, dty)\n",
    "ax.set_xlabel(\"Omega (deg)\")\n",
    "ax.set_ylabel(\"dty (um)\")\n",
    "ax.set_ylim(ybincens.min(), ybincens.max())\n",
    "plt.axhline(y0)\n",
    "\n",
    "plt.show()"
   ]
  },
  {
   "cell_type": "code",
   "execution_count": null,
   "id": "8d2051bd-a75f-481f-bc76-f9599adf5a2b",
   "metadata": {
    "tags": []
   },
   "outputs": [],
   "source": [
    "# can we get the sample position from the dty curve?\n",
    "sx_calc, sy_calc, y0_calc = geometry.sx_sy_y0_from_dty_omega(dty, omega)\n",
    "print(sx_calc, sy_calc, y0_calc)\n",
    "print(sx, sy, y0)"
   ]
  },
  {
   "cell_type": "code",
   "execution_count": null,
   "id": "16cd83e2-1593-46c6-8c99-c7d7f57d4eb4",
   "metadata": {
    "tags": []
   },
   "outputs": [],
   "source": [
    "# let's investigate dtyi\n",
    "\n",
    "fig, ax = plt.subplots()\n",
    "ax.scatter(omega, dtyi)\n",
    "ax.set_xlabel(\"Omega (deg)\")\n",
    "ax.set_ylabel(\"dtyi\")\n",
    "ax.set_ylim(dtyi.max(), dtyi.min())\n",
    "\n",
    "plt.axhline(geometry.dty_to_dtyi(y0, ystep, ybincens[0]))\n",
    "plt.axhline(0, c='g')\n",
    "plt.axhline(ny, c='g')\n",
    "\n",
    "plt.show()"
   ]
  },
  {
   "cell_type": "code",
   "execution_count": null,
   "id": "c93c0695-84ee-4b57-88f7-0bf35333aa5f",
   "metadata": {
    "tags": []
   },
   "outputs": [],
   "source": [
    "dtyi.min()\n",
    "dtyi.max()"
   ]
  },
  {
   "cell_type": "code",
   "execution_count": null,
   "id": "b719211f-f41e-4588-8da9-c77da2543083",
   "metadata": {
    "tags": []
   },
   "outputs": [],
   "source": [
    "fig, ax = plt.subplots()\n",
    "ax.imshow(sino, aspect=1)\n",
    "ax.set_xlabel(\"Omega step\")\n",
    "ax.set_ylabel(\"dty step\")\n",
    "plt.show()"
   ]
  },
  {
   "cell_type": "code",
   "execution_count": null,
   "id": "c56aea60-4c85-4815-8ab1-90ad96618287",
   "metadata": {
    "tags": []
   },
   "outputs": [],
   "source": [
    "fig, ax = plt.subplots()\n",
    "ax.imshow(recon, vmin=0, origin=\"lower\")\n",
    "ax.scatter(*geometry.sample_to_recon(sx, sy, recon.shape, ystep), marker='+', c='r')\n",
    "ax.set_ylabel(\"i\")\n",
    "ax.set_xlabel(\"j\")\n",
    "plt.show()"
   ]
  },
  {
   "cell_type": "code",
   "execution_count": null,
   "id": "1f3eddb8-0b73-4947-9766-803283918e4f",
   "metadata": {
    "tags": []
   },
   "outputs": [],
   "source": [
    "# can we recover the sample position from the reconstruction?\n",
    "print(geometry.fit_sample_position_from_recon(recon, ystep))\n",
    "print(sx, sy)"
   ]
  },
  {
   "cell_type": "code",
   "execution_count": null,
   "id": "a5023b54-dc85-4bb1-9b61-15209158d4df",
   "metadata": {
    "tags": []
   },
   "outputs": [],
   "source": [
    "# does the reconstruction by default match the step space?\n",
    "print(recon.shape)\n",
    "print(np.sqrt(len(geometry.step_grid_from_ybincens(ybincens, ystep, 1, y0))))"
   ]
  },
  {
   "cell_type": "code",
   "execution_count": null,
   "id": "dfbacda9-6e24-4e77-8fc8-c6d3c3e5e9b9",
   "metadata": {
    "tags": []
   },
   "outputs": [],
   "source": [
    "# convert reconstruction coordinates to (sx, sy)\n",
    "# then calulate dty from that\n",
    "\n",
    "ri, rj = np.array(np.where(recon == recon.max())).flatten()\n",
    "\n",
    "dty_calc = geometry.recon_omega_to_dty(ri, rj, omega, y0, recon.shape, ystep)\n",
    "\n",
    "fig, ax = plt.subplots()\n",
    "ax.scatter(omega, dty, label='dty original')\n",
    "ax.scatter(omega, dty_calc, label='dty calculated from recon', s=3)\n",
    "ax.legend()\n",
    "ax.set_xlabel('omega (deg)')\n",
    "ax.set_ylabel('dty')\n",
    "plt.show()"
   ]
  },
  {
   "cell_type": "code",
   "execution_count": null,
   "id": "347360e9-3379-4df3-9a83-df135b9d6fd8",
   "metadata": {
    "tags": []
   },
   "outputs": [],
   "source": [
    "# plot residual\n",
    "\n",
    "fig, ax = plt.subplots()\n",
    "ax.plot(dty - dty_calc)\n",
    "ax.set_ylabel('residual')\n",
    "plt.show()"
   ]
  },
  {
   "cell_type": "code",
   "execution_count": null,
   "id": "6469278a-5007-47e1-91b1-d9b8c3279949",
   "metadata": {
    "tags": []
   },
   "outputs": [],
   "source": [
    "dtyi_desired = geometry.dty_to_dtyi(dty, ystep, ybincens[0])\n",
    "dtyi_calc = geometry.recon_omega_to_dtyi(ri, rj, omega, y0, recon.shape, ystep, ybincens[0])\n",
    "\n",
    "fig, ax = plt.subplots()\n",
    "ax.scatter(omega, dtyi_desired, label='dtyi original')\n",
    "ax.scatter(omega, dtyi_calc, label='dtyi calculated from recon', s=3)\n",
    "ax.legend()\n",
    "ax.set_xlabel('omega (deg)')\n",
    "ax.set_ylabel('dtyi')\n",
    "plt.show()"
   ]
  },
  {
   "cell_type": "code",
   "execution_count": null,
   "id": "d4fa9328-09be-403f-9c67-87da74c7fff3",
   "metadata": {
    "tags": []
   },
   "outputs": [],
   "source": [
    "# plot residual\n",
    "\n",
    "fig, ax = plt.subplots()\n",
    "ax.plot(dtyi_desired - dtyi_calc)\n",
    "plt.show()"
   ]
  },
  {
   "cell_type": "code",
   "execution_count": null,
   "id": "4ef5f4c5-99b7-4a3b-9d7d-add286ddd482",
   "metadata": {},
   "outputs": [],
   "source": []
  }
 ],
 "metadata": {
  "kernelspec": {
   "display_name": "Python 3 (main)",
   "language": "python",
   "name": "python3"
  },
  "language_info": {
   "codemirror_mode": {
    "name": "ipython",
    "version": 3
   },
   "file_extension": ".py",
   "mimetype": "text/x-python",
   "name": "python",
   "nbconvert_exporter": "python",
   "pygments_lexer": "ipython3",
   "version": "3.11.6"
  },
  "widgets": {
   "application/vnd.jupyter.widget-state+json": {
    "state": {},
    "version_major": 2,
    "version_minor": 0
   }
  }
 },
 "nbformat": 4,
 "nbformat_minor": 5
}
