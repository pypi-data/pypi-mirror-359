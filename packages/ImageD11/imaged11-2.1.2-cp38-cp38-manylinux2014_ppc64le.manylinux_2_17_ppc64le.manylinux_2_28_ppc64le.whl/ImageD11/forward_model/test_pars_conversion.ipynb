{
 "cells": [
  {
   "cell_type": "markdown",
   "id": "95c6ec53-4040-4336-b157-a318778de4a2",
   "metadata": {},
   "source": [
    "# Test pars_conversion.py\n",
    "## 1) testing build_poni_from_ImageD11par\n",
    "## 2) testing build_ImageD11par_from_poni\n",
    "## 3) testing convert_ImageD11pars2p\n",
    "## 4) testing convert_DCTpars2p\n",
    "### Note that p is a parameter dictionary that is compatible with fwd-DCT parameter and bridges different conventions of parameters defined in different software packages\n",
    "### Jan 2025"
   ]
  },
  {
   "cell_type": "code",
   "execution_count": null,
   "id": "8957011c-726a-48f0-9e93-c589d6f6ee61",
   "metadata": {
    "tags": []
   },
   "outputs": [],
   "source": [
    "import os\n",
    "\n",
    "os.environ['OMP_NUM_THREADS'] = '1'\n",
    "os.environ['OPENBLAS_NUM_THREADS'] = '1'\n",
    "os.environ['MKL_NUM_THREADS'] = '1'\n",
    "\n",
    "exec(open('/data/id11/nanoscope/install_ImageD11_from_git.py').read())\n",
    "PYTHONPATH = setup_ImageD11_from_git( ) # ( os.path.join( os.environ['HOME'],'Code'), 'ImageD11_git' )"
   ]
  },
  {
   "cell_type": "code",
   "execution_count": null,
   "id": "4cd40ba0-a55d-433d-891f-2850a5bcedc8",
   "metadata": {
    "tags": []
   },
   "outputs": [],
   "source": [
    "import ImageD11.parameters\n",
    "from ImageD11.forward_model import pars_conversion\n",
    "from ImageD11.forward_model import io"
   ]
  },
  {
   "cell_type": "code",
   "execution_count": null,
   "id": "7e600f4f-7245-46a7-8832-f82d79d95167",
   "metadata": {
    "tags": []
   },
   "outputs": [],
   "source": [
    "# set some inputs\n",
    "par_file = 'si.par'\n",
    "poni_path = 'test.poni'\n",
    "detector = 'Eiger'\n",
    "\n",
    "lattice_par = [5.43094, 5.43094, 5.43094, 90, 90, 90] # Si cube\n",
    "sgno = 227"
   ]
  },
  {
   "cell_type": "code",
   "execution_count": null,
   "id": "d6c9586f-f497-4147-b1e3-b9237fc5b042",
   "metadata": {
    "tags": []
   },
   "outputs": [],
   "source": [
    "# build a poni file from si.par, output 'test.poni'\n",
    "pars_conversion.build_poni_from_ImageD11par(par_file, poni_path = poni_path, detector=detector)"
   ]
  },
  {
   "cell_type": "code",
   "execution_count": null,
   "id": "ab52a50f-de67-47f1-8aab-bae419ea8c74",
   "metadata": {
    "tags": []
   },
   "outputs": [],
   "source": [
    "# build an ImageD11 par file from test.poni, output 'test.pars'\n",
    "pars_conversion.build_ImageD11par_from_poni(lattice_par, sgno, poni_path, 'test.pars', detector = detector, verify=True)"
   ]
  },
  {
   "cell_type": "code",
   "execution_count": null,
   "id": "bcd2f2ff-c59a-4399-9776-19c86d8640e9",
   "metadata": {
    "tags": []
   },
   "outputs": [],
   "source": [
    "pars = ImageD11.parameters.read_par_file('test.pars')"
   ]
  },
  {
   "cell_type": "code",
   "execution_count": null,
   "id": "58935698-8b63-4f5d-a64c-1e70fcb2a04e",
   "metadata": {
    "tags": []
   },
   "outputs": [],
   "source": [
    "pars.parameters"
   ]
  },
  {
   "cell_type": "code",
   "execution_count": null,
   "id": "f0b3a279-4d8f-4481-8d44-7453cf4d22b6",
   "metadata": {
    "tags": []
   },
   "outputs": [],
   "source": [
    "# convert ImageD11 .par to p\n",
    "p = pars_conversion.convert_ImageD11pars2p(pars)"
   ]
  },
  {
   "cell_type": "code",
   "execution_count": null,
   "id": "aec0d45e-8a13-4fcd-944c-4dfea7906652",
   "metadata": {
    "tags": []
   },
   "outputs": [],
   "source": [
    "p"
   ]
  },
  {
   "cell_type": "markdown",
   "id": "6fd34c44-1a72-4653-ab81-af92db672fb6",
   "metadata": {},
   "source": [
    "# Test conversion of matlab DCT parameters containing single phase"
   ]
  },
  {
   "cell_type": "code",
   "execution_count": null,
   "id": "c18d944e-9dda-4493-81fa-5404c807ebfe",
   "metadata": {
    "tags": []
   },
   "outputs": [],
   "source": [
    "DCT_par_path = '/data/visitor/ma6298/id11/20241023/PROCESSED_DATA/OC4/OC4_bot_dct1/parameters.mat'"
   ]
  },
  {
   "cell_type": "code",
   "execution_count": null,
   "id": "c93d40bd-cf10-48d0-a2be-587a7cdf1c8e",
   "metadata": {
    "tags": []
   },
   "outputs": [],
   "source": [
    "parameters = io.read_matlab_file(DCT_par_path)"
   ]
  },
  {
   "cell_type": "code",
   "execution_count": null,
   "id": "590250f4-4952-4d85-8764-302e88f1943b",
   "metadata": {
    "tags": []
   },
   "outputs": [],
   "source": [
    "p = pars_conversion.convert_DCTpars2p(DCT_par_path)"
   ]
  },
  {
   "cell_type": "code",
   "execution_count": null,
   "id": "39fa9956-2be3-4403-a952-f223cba37e18",
   "metadata": {
    "tags": []
   },
   "outputs": [],
   "source": [
    "p"
   ]
  },
  {
   "cell_type": "markdown",
   "id": "ed698a0a-110c-465e-9704-396a6777cf79",
   "metadata": {},
   "source": [
    "# Test conversion of matlab DCT parameters containing multi-phase"
   ]
  },
  {
   "cell_type": "code",
   "execution_count": null,
   "id": "d1664cbd-1d33-42e5-83df-e0d4978886f3",
   "metadata": {
    "tags": []
   },
   "outputs": [],
   "source": [
    "DCT_par_path = '/data/id11/3dxrd/ihma242/id11/DCT_Analysis/sample_dct_0003/parameters.mat'"
   ]
  },
  {
   "cell_type": "code",
   "execution_count": null,
   "id": "59ce8d02-f000-40df-96e2-9b2e5f7e9fec",
   "metadata": {
    "tags": []
   },
   "outputs": [],
   "source": [
    "parameters = io.read_matlab_file(DCT_par_path)"
   ]
  },
  {
   "cell_type": "code",
   "execution_count": null,
   "id": "04e5e3dd-2c90-4579-a7b8-d076edb4f4ed",
   "metadata": {
    "tags": []
   },
   "outputs": [],
   "source": [
    "p = pars_conversion.convert_DCTpars2p(DCT_par_path)"
   ]
  },
  {
   "cell_type": "code",
   "execution_count": null,
   "id": "f3f5917a-cf60-4519-a10a-e953774fd21e",
   "metadata": {
    "tags": []
   },
   "outputs": [],
   "source": [
    "p"
   ]
  }
 ],
 "metadata": {
  "kernelspec": {
   "display_name": "Python 3 (main)",
   "language": "python",
   "name": "python3"
  },
  "language_info": {
   "codemirror_mode": {
    "name": "ipython",
    "version": 3
   },
   "file_extension": ".py",
   "mimetype": "text/x-python",
   "name": "python",
   "nbconvert_exporter": "python",
   "pygments_lexer": "ipython3",
   "version": "3.11.6"
  }
 },
 "nbformat": 4,
 "nbformat_minor": 5
}
