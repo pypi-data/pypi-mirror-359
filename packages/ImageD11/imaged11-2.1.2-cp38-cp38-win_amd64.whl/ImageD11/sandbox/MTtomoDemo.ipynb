{
 "cells": [
  {
   "cell_type": "markdown",
   "id": "2c18f17a-3efe-46d0-9fbc-b5ff9e2ee698",
   "metadata": {},
   "source": [
    "# Metric tensor fitting codes\n",
    "\n",
    "Here we try to get linear strain fitting running on a single grain simulation.\n",
    "\n",
    "The method is strongly inspired by Axel's flydxm code (https://github.com/AxelHenningsson/flyxdm). The difference is using a metric tensor approach and skipping the Gaussian process model. The equation behind all this is the d-spacing formula from powder diffraction:\n",
    "\n",
    "$ 1/d^2 = A h^2 + B k^2 + C l^2 + D kl + E hl + F hk $\n",
    "\n",
    "For each observed peak, we have a d-spacing (or $1/d^2$), and we aim to fit the variables A-F in each pixel in the reconstruction. For each projection we have the hkl.\n",
    "\n",
    "The input data will be:\n",
    "\n",
    "- hkl of the projections\n",
    "- grain shape\n",
    "- sinogram of averaged d-star squared"
   ]
  },
  {
   "cell_type": "markdown",
   "id": "d62817e4-12d3-4e55-a025-2dc5454f0113",
   "metadata": {},
   "source": [
    "### Future work\n",
    "\n",
    "Come back to the idea of running the fit knowing what we do instead of using the black box (gradients, derivatives, adam, etc)."
   ]
  },
  {
   "cell_type": "markdown",
   "id": "bdbfacb3-7e9b-4d9e-81f2-6dfef2ff842a",
   "metadata": {},
   "source": [
    "Status 11 March 2025, JPW: the code is running but not quite finished/cleaned up. Lacks errors and constraints. Convergence is too slow."
   ]
  },
  {
   "cell_type": "code",
   "execution_count": null,
   "id": "b81a3de1-b38b-48df-9fd2-f6957158a6be",
   "metadata": {
    "tags": []
   },
   "outputs": [],
   "source": [
    "# Set up the paths\n",
    "import os, time\n",
    "tstart = time.time()\n",
    "# exec(open(os.environ['HOME']+'/Documents/ImageD11/ImageD11/nbGui/install_ImageD11_from_git.py').read())\n",
    "# PYTHONPATH = setup_ImageD11_from_git(os.path.join( os.environ['HOME'], 'Documents'), 'ImageD11' )\n",
    "exec(open('/data/id11/nanoscope/install_ImageD11_from_git.py').read())\n",
    "PYTHONPATH = setup_ImageD11_from_git(os.path.join( os.environ['HOME'],'git'), 'ImageD11_clean' )"
   ]
  },
  {
   "cell_type": "code",
   "execution_count": null,
   "id": "28d24a44-ccdc-4488-9090-cbc17b3d4cbb",
   "metadata": {
    "tags": []
   },
   "outputs": [],
   "source": [
    "# import functions we need\n",
    "import numpy as np\n",
    "import matplotlib.pyplot as plt\n",
    "from matplotlib import rcParams\n",
    "%config InlineBackend.figure_format = 'jpeg'\n",
    "rcParams['figure.dpi'] = 100\n",
    "import numba\n",
    "import astra\n",
    "assert astra.use_cuda()\n",
    "from ImageD11.grain import grain\n",
    "import ImageD11.sinograms.roi_iradon\n",
    "from scipy.optimize import minimize, least_squares\n",
    "import ImageD11.sym_u\n",
    "import ImageD11.transform\n",
    "import ImageD11.cImageD11\n",
    "import ImageD11.sinograms.roi_iradon"
   ]
  },
  {
   "cell_type": "code",
   "execution_count": null,
   "id": "a3d713d2-9fa1-4446-a491-29abb4827d8d",
   "metadata": {
    "tags": []
   },
   "outputs": [],
   "source": [
    "# Forward and back projection options (astra vs scipy)\n",
    "\n",
    "class projector:\n",
    "    def __init__(self, n, angles):\n",
    "        self.angles = angles\n",
    "        self.n = n\n",
    "    def backward(self, ary):\n",
    "        if len(ary.shape)>2:\n",
    "            return [ self.backward( img ) for img in ary ]\n",
    "        else:\n",
    "            return ImageD11.sinograms.roi_iradon.iradon(\n",
    "                ary, \n",
    "                self.angles, \n",
    "                filter_name=None, \n",
    "                workers = ImageD11.cImageD11.cores_available() )\n",
    "    def forward(self,ary):\n",
    "        if len(ary.shape)>2:\n",
    "            return [ self.forward( img ) for img in ary ]\n",
    "        else:\n",
    "            return ImageD11.sinograms.roi_iradon.radon(\n",
    "                ary, \n",
    "                self.angles, \n",
    "                workers = ImageD11.cImageD11.cores_available() )\n",
    "            \n",
    "class projector_astra:\n",
    "    def __init__(self, n, angles, nchan=(1,6)):\n",
    "        self.angles = angles\n",
    "        self.n = n\n",
    "        self.nchan = nchan\n",
    "        self.radangles = np.radians( -angles )\n",
    "        self.vg = { c : astra.create_vol_geom( (n, n, c) ) for c in nchan }\n",
    "        self.pg = { c : astra.create_proj_geom(\"parallel3d\", 1., 1., c, n, self.radangles)\n",
    "                   for c in nchan }\n",
    "\n",
    "    def forward(self,ary):\n",
    "        if len(ary.shape) == 2: # images\n",
    "            im = ary.reshape(1, self.n, self.n).astype(np.float32)\n",
    "            c = 1\n",
    "        if len(ary.shape) == 3:\n",
    "            im = ary\n",
    "            c = ary.shape[0]\n",
    "        idn, fortran = astra.create_sino3d_gpu( im , self.pg[c], self.vg[c] )\n",
    "        astra.data3d.delete(idn)\n",
    "        sino = fortran.swapaxes(1,2)\n",
    "        if c == 1:\n",
    "            return sino[0]\n",
    "        return sino\n",
    "\n",
    "    def backward(self,sino):\n",
    "        if len(sino.shape) == 2:\n",
    "            sino = sino.reshape( 1, sino.shape[0], sino.shape[1] )\n",
    "        c = sino.shape[0]\n",
    "        fortran = sino.swapaxes(1,2)\n",
    "        idn, image = astra.create_backprojection3d_gpu( fortran , self.pg[c], self.vg[c] )\n",
    "        astra.data3d.delete(idn)\n",
    "        if c == 1:\n",
    "            return image[0]\n",
    "        return image"
   ]
  },
  {
   "cell_type": "code",
   "execution_count": null,
   "id": "0f295bbf-fc29-4d9c-afc7-ca42e66e12e6",
   "metadata": {
    "tags": []
   },
   "outputs": [],
   "source": [
    "if True:\n",
    "    # check the projector code\n",
    "    import skimage.data\n",
    "    phantom = skimage.data.shepp_logan_phantom()\n",
    "    angles = np.linspace(0,180,phantom.shape[0]*3//2)\n",
    "    p = projector( phantom.shape[0], angles )\n",
    "    %time sino_cpu = p.forward( phantom.astype(np.float32))\n",
    "    %time recon_cpu = p.backward( sino_cpu )\n",
    "    f,a = plt.subplots(1,3)\n",
    "    a[0].imshow(phantom)\n",
    "    a[1].imshow(sino_cpu)\n",
    "    a[2].imshow(recon_cpu)\n",
    "    pa = projector_astra( phantom.shape[0], angles )  \n",
    "    %time sino = pa.forward( phantom.astype(np.float32) )\n",
    "    %time recon = pa.backward( sino.copy() )\n",
    "    f,a = plt.subplots(1,3)\n",
    "    a[0].imshow(phantom)\n",
    "    a[1].imshow(sino)\n",
    "    a[2].imshow(recon)"
   ]
  },
  {
   "cell_type": "code",
   "execution_count": null,
   "id": "27e335d4-3ef8-4ac8-8d06-51be5b96a45b",
   "metadata": {
    "tags": []
   },
   "outputs": [],
   "source": [
    "# Source code for the fitting is here: \n",
    "\n",
    "def v3x3tov6( S ):\n",
    "    \"\"\" Converts a 3x3 symmetric matrix that was computing\n",
    "        1/d2 = A h2 + B k2 + C l2 + D kl + E hl + F hk\n",
    "        Factor of 2 for the off diagonals\n",
    "    \"\"\"\n",
    "    S = np.asarray( S )\n",
    "    V6 = np.zeros( (6,), np.float32 )\n",
    "    for i in range(3):\n",
    "        V6[i] = S[i,i]  # h2 k2 l2\n",
    "        j = i+3         # Dkl\n",
    "        k = (i+4)%3     # Elh\n",
    "        l = (i+5)%3     # Fhk\n",
    "        V6[j] = S[k,l]*2\n",
    "    return V6\n",
    "\n",
    "def v6tov3x3( V6 ):\n",
    "    \"\"\" Converts a 3x3 symmetric matrix that was computing\n",
    "        x'.S.x into a (6,) vector V6 for computing : \n",
    "        1/d2 = A h2 + B k2 + C l2 + D kl + E hl + F hk\n",
    "    \"\"\"\n",
    "    S = np.zeros( (3,3), np.float32 )\n",
    "    for i in range(3):\n",
    "        S[i,i] = V6[i] # h2 k2 l2\n",
    "        j = i+3         # Dkl\n",
    "        k = (i+4)%3     # Elh\n",
    "        l = (i+5)%3     # Fhk\n",
    "        S[k,l] = S[l,k] = V6[j]/2\n",
    "    return S\n",
    "\n",
    "def sanityv6v3():\n",
    "    t6 = [1,2,3,4,5,6]\n",
    "    m3x3 = v6tov3x3( t6 )\n",
    "    c6 = v3x3tov6( m3x3 )\n",
    "    assert np.allclose( t6, c6 )\n",
    "    t3x3 = [[ 1, 2, 3 ],\n",
    "            [ 2, 4, 5 ],\n",
    "            [ 3, 5, 6 ]]\n",
    "    v6 = v3x3tov6( t3x3 )\n",
    "    c3x3 = v6tov3x3( v6 )\n",
    "    assert np.allclose( t3x3, c3x3 )\n",
    "\n",
    "sanityv6v3()\n",
    "\n",
    "def v3tov6( x ):\n",
    "    \"\"\" Converts a 3,N vector that was computing\n",
    "        x'.S.x into a (6,) vector x2 for computing : \n",
    "        1/d2 = A h2 + B k2 + C l2 + D kl + E hl + F hk\n",
    "    \"\"\"\n",
    "    x2 = np.zeros( (6, x.shape[1]), np.float32 )\n",
    "    for i in range(3):\n",
    "        j = i+3\n",
    "        k = (i+4)%3\n",
    "        l = (i+5)%3\n",
    "        x2[i] = x[i] * x[i]\n",
    "        x2[j] = x[k] * x[l] \n",
    "    return x2\n",
    "\n",
    "def safediv( a, b ):\n",
    "    \"\"\" Mask the divide by zeros \"\"\"\n",
    "    m = b > 0\n",
    "    return np.where( m, a / ( b + (~m) ), 0 )\n",
    "\n",
    "@numba.njit\n",
    "def select(idx,obs,wtimage, data=None, wt=None):\n",
    "    # I can't find this function in numpy?\n",
    "    if data is None:\n",
    "        data = np.empty( obs.shape[1], dtype=float)\n",
    "    if wt is None:\n",
    "        wt =  np.empty( obs.shape[1], dtype=float)\n",
    "    for i, j in enumerate(idx):\n",
    "        data[i] = obs[j,i] # simulator.dss_flat[j,i]\n",
    "        wt[i] = np.sqrt(wtimage[j,i]) # simulator.grain_sino[j,i])\n",
    "    return data, wt\n",
    "\n",
    "\n",
    "class TensorMT:\n",
    "    \"\"\" Class to do the fitting \"\"\"\n",
    "    def __init__( self,\n",
    "                  grain_intensity, # reconstructed grain shape\n",
    "                  omega_proj,\n",
    "                  hkl_proj,\n",
    "                  M0 ):\n",
    "        \"\"\"\n",
    "        grain_intensity = intensity map for the grain. Probably 1/0 mask (M,M)\n",
    "        omega_proj = angles of projections for radon/iradon (N,)\n",
    "        hkl_proj = hkl of the projections (3,N)\n",
    "        M0 = initial A-F or single guess (6,) or (6,N,N)\n",
    "        \"\"\"\n",
    "        self.grain_intensity=grain_intensity.astype(np.float32)\n",
    "        N = grain_intensity.shape[0]\n",
    "        assert grain_intensity.shape[1] == N\n",
    "        self.M0 = M0\n",
    "        self.om_proj = omega_proj\n",
    "        self.hkl_proj = hkl_proj\n",
    "        self.h6 = v3tov6( self.hkl_proj )\n",
    "        if self.M0.shape == (6,):\n",
    "            self.M6map = np.zeros( (6, N, N), np.float32 )\n",
    "            self.M6map[:] = self.M0[:, None, None]\n",
    "        else:\n",
    "            assert self.M0.shape == (6,N,N)\n",
    "            self.M6map = self.M0.copy()\n",
    "        # \n",
    "        # only fit active pixels\n",
    "        self.gmask = self.grain_intensity > 0\n",
    "        idx = np.arange( np.prod( self.gmask.shape ) ).reshape( self.gmask.shape )\n",
    "        self.gidx = idx[self.gmask] # only fit active pixels\n",
    "        \n",
    "        self.projector = projector_astra( N, self.om_proj )\n",
    "        \n",
    "        self.grain_sino =  self.projector.forward( self.grain_intensity )\n",
    "\n",
    "        self.smask = self.grain_sino > 0\n",
    "        self.workers = ImageD11.cImageD11.cores_available()\n",
    "        self.fitlog = None\n",
    "\n",
    "       \n",
    "        \n",
    "    def pbp(self, obs):\n",
    "        \"\"\" Does the point-by-point fit approach\n",
    "        Selects peaks from the sinogram.\n",
    "        Does a local refine\n",
    "        \"\"\"\n",
    "        NY = self.grain_intensity.shape[0]\n",
    "        NY_2 = NY // 2\n",
    "        sinomega = np.sin(np.radians(self.om_proj))\n",
    "        cosomega = np.cos(np.radians(self.om_proj))\n",
    "        dty = np.empty( self.om_proj.shape, float )        \n",
    "        dtyi = np.empty( self.om_proj.shape, int )\n",
    "        data = None\n",
    "        wt = None\n",
    "        N = self.grain_intensity.shape[0]\n",
    "        self.pbpmap = np.zeros( (6,N,N), float )\n",
    "        for i in range(self.grain_intensity.shape[0]):\n",
    "            for j in range(self.grain_intensity.shape[1]):\n",
    "                if self.grain_intensity[i,j] > 0:\n",
    "                    px = i - NY_2\n",
    "                    py = j - NY_2\n",
    "                    np.round(NY_2 - px * sinomega + py * cosomega, out=dty)\n",
    "                    dtyi[:] = dty # casts?\n",
    "                    dtyi.clip( 0, NY-1, out=dtyi )\n",
    "                    data, wt = select( dtyi, obs, self.grain_sino, data, wt )\n",
    "                    ATA =  np.dot( h6 * wt, h6.T )\n",
    "                    # (simulator.h6*wt).dot( simulator.h6.T )\n",
    "                    ATd = np.dot( h6, wt * data )\n",
    "                    # ATd.shape\n",
    "                    self.pbpmap[:,i,j] = np.dot( np.linalg.inv( ATA ), ATd )\n",
    "        return self.pbpmap\n",
    "        \n",
    "        \n",
    "    def forward_old(self, M6map=None):\n",
    "        \"\"\" computes dss_calc from the current model \n",
    "        should be using a tomographic method\n",
    "        \"\"\"\n",
    "        if M6map is None:\n",
    "            M6map = self.M6map\n",
    "        # sinogram of the forward projected average of A-F\n",
    "        self.M6sino = np.zeros( (6, self.grain_sino.shape[0], self.grain_sino.shape[1]), np.float32 )\n",
    "        # sinogram of the dss computed\n",
    "        self.dss_sino = np.zeros( (self.grain_sino.shape[0], self.grain_sino.shape[1]), np.float32 )\n",
    "        for i in range(6):\n",
    "            # This is intensity (grain shape) weighted forward projection\n",
    "            self.M6sino[i] = ImageD11.sinograms.roi_iradon.radon( \n",
    "                self.grain_intensity.astype(np.float32)*M6map[i].astype(np.float32),  \n",
    "                self.om_proj,\n",
    "                workers = self.workers,\n",
    "            )\n",
    "            # Now dot with h6 to get the dspacing here\n",
    "            self.dss_sino += self.M6sino[i] * self.h6[i]\n",
    "        # Normalise to the grain shape\n",
    "        self.dss_flat = safediv( self.dss_sino, self.grain_sino )\n",
    "        return self.dss_flat\n",
    "    \n",
    "    def forward(self, M6map=None):\n",
    "        \"\"\" computes dss_calc from the current model \n",
    "        should be using a tomographic method\n",
    "        \"\"\"\n",
    "        if M6map is None:\n",
    "            M6map = self.M6map\n",
    "        wtd = M6map * self.grain_intensity[None,:,:]\n",
    "        self.M6sino = self.projector.forward( wtd )\n",
    "        self.dss_sino = np.zeros( (self.grain_sino.shape[0], self.grain_sino.shape[1]), float )\n",
    "        for i in range(6):\n",
    "            self.dss_sino += (self.M6sino[i]*self.h6[i])\n",
    "        # Normalise to the grain shape\n",
    "        self.dss_flat = safediv( self.dss_sino, self.grain_sino )\n",
    "        return self.dss_flat\n",
    "        \n",
    "    def backward_old(self, err):\n",
    "        \"\"\" Back projects the dss_calc\n",
    "        This should be the first derivative if we can get jax or pytorch to do it\n",
    "        \"\"\" \n",
    "        # This will be the sinograms to back project\n",
    "        self.s6err = np.zeros( ( 6, self.grain_sino.shape[0], self.grain_sino.shape[1] ), np.float32 )\n",
    "        # These are the images coming back\n",
    "        self.r6err = np.zeros( (6,N,N), np.float32)\n",
    "        for i in range(6):\n",
    "            # The grain shape weighting is used again here\n",
    "            self.s6err[i] = err * self.grain_sino * self.h6[i]\n",
    "            # self.s6err[i] = err * self.h6[i]\n",
    "            self.r6err[i] = ImageD11.sinograms.roi_iradon.iradon( \n",
    "                self.s6err[i], \n",
    "                self.om_proj, \n",
    "                filter_name = None,\n",
    "                workers = self.workers,\n",
    "            )\n",
    "        return self.r6err\n",
    "    \n",
    "    def backward(self, err):\n",
    "        \"\"\" Back projects the dss_calc\n",
    "        This should be the first derivative if we can get jax or pytorch to do it\n",
    "        \"\"\" \n",
    "        # This will be the sinograms to back project\n",
    "        self.s6err = np.zeros( ( 6, self.grain_sino.shape[0], self.grain_sino.shape[1] ), np.float32 )\n",
    "        # These are the images coming back\n",
    "        N = self.grain_intensity.shape[0]\n",
    "        self.r6err = np.zeros( (6,N,N), np.float32)\n",
    "        for i in range(6):\n",
    "            # The grain shape weighting is used again here\n",
    "            self.s6err[i] = err * self.grain_sino * self.h6[i]\n",
    "        self.r6err = self.projector.backward( self.s6err )\n",
    "        return self.r6err\n",
    "        \n",
    "    def pack(self, U6 ):\n",
    "        \"\"\" input (6,N,N), output (6,packed)\"\"\"\n",
    "        p = np.empty( (6, self.gidx.size), float)\n",
    "        f6 = U6.reshape(6,-1)\n",
    "        for i in range(6):\n",
    "            p[i] = f6[i, self.gidx]\n",
    "        return p\n",
    "    \n",
    "    def unpack(self, P6):\n",
    "        \"\"\" input (6,packed), output (6,N,N) \"\"\"\n",
    "        U6 = np.zeros_like(self.M6map).reshape(6,-1)\n",
    "        for i in range(6):\n",
    "            U6[i, self.gidx] = P6[i]\n",
    "        return U6.reshape( self.M6map.shape )\n",
    "        \n",
    "    def lsq(self, data, tol=1e-8, maxiter=10, disp=True, refdata=None ):\n",
    "        \"\"\"\n",
    "        Data is a normalised image of dss observed\n",
    "        \n",
    "        This method was copied from flydxm / Axel (thanks!)\n",
    "        \"\"\"\n",
    "        # we pack / unpack to only do least squares on the pixels within grain_intensity > 0\n",
    "        x_initial = self.pack( self.M6map.copy() )\n",
    "        wtd_obs = data # * self.grain_sino\n",
    "        if self.fitlog is None:\n",
    "            self.fitlog = []\n",
    "        \n",
    "        def func(x):\n",
    "            self.M6map = self.unpack( x.reshape( x_initial.shape) ) # shape p\n",
    "            dss_sino_calc = self.forward( self.M6map )\n",
    "            # weighted\n",
    "            err =  np.where(self.smask, self.grain_sino*(dss_sino_calc - wtd_obs), 0 )\n",
    "            cost = np.sum( err * err )\n",
    "            if refdata is None:\n",
    "                referr = 0.\n",
    "            else:\n",
    "                referr = ((self.M6map - refdata)**2).sum()\n",
    "            self.fitlog.append( (cost, referr ) )\n",
    "            r6 = self.backward( err ) # shape N,N\n",
    "            jac = 2 * self.pack( r6 )\n",
    "            return cost, jac.flatten()\n",
    "        t = func( x_initial )\n",
    "        print(t[0], t[1].shape)\n",
    "        res = minimize( func, \n",
    "                       x_initial.flatten(), \n",
    "                       tol=1e-8, \n",
    "                       method='L-BFGS-B', \n",
    "                       jac=True,\n",
    "                       options = {'disp':disp, 'maxiter':maxiter } )\n",
    "        ans = self.unpack( res.x.reshape( x_initial.shape ) )\n",
    "        return ans"
   ]
  },
  {
   "cell_type": "code",
   "execution_count": null,
   "id": "f3a04946-b3fd-4df8-b76f-0b00bcce1e84",
   "metadata": {
    "tags": []
   },
   "outputs": [],
   "source": [
    "# Simulation here:\n",
    "N = 256  # size of image\n",
    "i, j = np.mgrid[ 0:N, 0:N ] - N//2\n",
    "circs = [ ( 5, 6, 120 ),   # center in x,y and radius\n",
    "          (20, 50, 30),\n",
    "          (-53, 22, 16),\n",
    "          (2, -36, 24) ]\n",
    "# shape of the sample\n",
    "phantom = np.zeros( (N, N), np.float32 )\n",
    "for c in circs:\n",
    "    phantom += (((i - c[0])**2 + (j - c[1])**2) < c[2]**2).astype(int)\n",
    "\n",
    "plt.figure()\n",
    "plt.imshow(phantom)\n",
    "plt.colorbar();"
   ]
  },
  {
   "cell_type": "code",
   "execution_count": null,
   "id": "12bbf926-6e43-4c63-a40a-9ef55427e996",
   "metadata": {
    "tags": []
   },
   "outputs": [],
   "source": [
    "import ImageD11.indexing"
   ]
  },
  {
   "cell_type": "code",
   "execution_count": null,
   "id": "df0d43ab-1a75-48bc-a5ae-45e6576a20b2",
   "metadata": {
    "tags": []
   },
   "outputs": [],
   "source": [
    "a = 5.1\n",
    "c = 13.7\n",
    "ImageD11.indexing.ubitocellpars(np.linalg.cholesky(v6tov3x3( [a*a, a*a, c*c, 0, 0, -a*a*1.005] )))"
   ]
  },
  {
   "cell_type": "code",
   "execution_count": null,
   "id": "3dd2851f-7ed5-4a2e-a1bc-b4252ba7062e",
   "metadata": {
    "tags": []
   },
   "outputs": [],
   "source": [
    "# Take conventional hexagonal unit cell:\n",
    "# hexagonal for ring generation:\n",
    "a0 = 3.71\n",
    "c0 = 6.95\n",
    "ucell = ImageD11.unitcell.unitcell( [ a0, a0, c0, 90, 90, 120 ], 194 ) \n",
    "ucell.makerings( 2 )\n",
    "ucell.gi, v3x3tov6( ucell.gi ) # reciprocal metric tensor\n",
    "\n",
    "# Make a pure range change:\n",
    "strained = ImageD11.unitcell.unitcell([ a0,  a0,  c0 , 90 ,  90, 119.9], \"194\" )"
   ]
  },
  {
   "cell_type": "code",
   "execution_count": null,
   "id": "3ad99677-9230-4283-84e7-ec5b6a4a6c21",
   "metadata": {
    "tags": []
   },
   "outputs": [],
   "source": [
    "u = np.array([[ 0.85488536, -0.13968655,  0.49965857],\n",
    "              [ 0.43015874,  0.72927062, -0.53209757],\n",
    "              [-0.29005944,  0.66981492,  0.68353017]])"
   ]
  },
  {
   "cell_type": "code",
   "execution_count": null,
   "id": "e4dc9b68-cf19-4f75-bfb8-d536fad8ed10",
   "metadata": {
    "tags": []
   },
   "outputs": [],
   "source": [
    "ub = u.dot( strained.B )\n",
    "gmeas = ImageD11.grain.grain( np.linalg.inv( ub ), [0,0,0] )\n",
    "\n",
    "hex_group = ImageD11.sym_u.getgroup( 'hexagonal' )()\n",
    "gmeas0 = ImageD11.grain.grain( ImageD11.sym_u.find_uniq_u( gmeas.ubi, hex_group ) )\n",
    "u0 = gmeas0.u.copy()\n",
    "gmeas0.unitcell, gmeas0.u"
   ]
  },
  {
   "cell_type": "code",
   "execution_count": null,
   "id": "28034d1e-0a04-4113-a87b-8e18d62ff350",
   "metadata": {
    "tags": []
   },
   "outputs": [],
   "source": [
    "r3 = ImageD11.sym_u.m_from_string( \"-y, x-y, z\" )\n",
    "r3"
   ]
  },
  {
   "cell_type": "code",
   "execution_count": null,
   "id": "c90d3f7f-5ced-43a9-a957-3c6260cd72a7",
   "metadata": {
    "tags": []
   },
   "outputs": [],
   "source": [
    "# For the 3 embedded blobs rotate by 120 degrees:\n",
    "ubi0 = np.linalg.inv( u0.dot( ucell.B ) )     # hexgonal matrix\n",
    "ubi1 = np.linalg.inv( u0.dot( strained.B ) )\n",
    "ubi2 = r3.dot( ubi1 )\n",
    "ubi3 = r3.dot( ubi2 )\n",
    "ubi4 = r3.dot( ubi3 )\n",
    "assert np.allclose( ubi4, ubi1 )"
   ]
  },
  {
   "cell_type": "code",
   "execution_count": null,
   "id": "c62a5d52-8d5b-457f-845f-e7af58bf5ee9",
   "metadata": {
    "tags": []
   },
   "outputs": [],
   "source": [
    "g0 = ImageD11.grain.grain(ubi0)\n",
    "for ubi in [ubi0,ubi1,ubi2,ubi3, ubi4]:\n",
    "    g = ImageD11.grain.grain(ubi)\n",
    "    print(g.unitcell,v3x3tov6(g.rmt))"
   ]
  },
  {
   "cell_type": "code",
   "execution_count": null,
   "id": "b5dad418-60bc-4222-a0f2-af69b7842578",
   "metadata": {
    "tags": []
   },
   "outputs": [],
   "source": [
    "# Aim to get a list of hkls with \"enough\" projections\n",
    "NPROJ = 5000\n",
    "hkls = []\n",
    "for ds in ucell.ringds:\n",
    "    hkls += ucell.ringhkls[ds]\n",
    "    if len( hkls ) > NPROJ: \n",
    "        break\n",
    "hkls = np.array( hkls ).T\n",
    "print( hkls.shape[1], 'peaks')"
   ]
  },
  {
   "cell_type": "code",
   "execution_count": null,
   "id": "1e0b0e70-a7d3-4b80-965a-ba73eeaf88f3",
   "metadata": {
    "tags": []
   },
   "outputs": [],
   "source": [
    "# make sinograms (omega of diffraction peaks)\n",
    "UB0 = np.linalg.inv(ubi0)\n",
    "gve = UB0 .dot( hkls )\n",
    "wavelength = 12.3985 / 43.5 \n",
    "tth, eta, omega = ImageD11.transform.uncompute_g_vectors( gve, wavelength )\n",
    "om = np.concatenate( omega )\n",
    "tth = np.concatenate( (tth, tth) )\n",
    "msk =  (tth > 0.1 ) & ( om > 0 )\n",
    "hkl_proj = np.concatenate( (hkls.T, hkls.T), axis=0 ).T[:,msk]\n",
    "om_proj = om[msk]\n",
    "order = np.argsort( om_proj )\n",
    "hkl_proj = hkl_proj[:, order]\n",
    "om_proj = om_proj[order]\n",
    "print('tth max', tth.max(), om_proj.min(), om_proj.max())"
   ]
  },
  {
   "cell_type": "code",
   "execution_count": null,
   "id": "d9a71e04-3054-4c4f-b17c-df0c6822c9fa",
   "metadata": {
    "tags": []
   },
   "outputs": [],
   "source": [
    "M0 = v3x3tov6( UB0.T.dot( UB0 ) )\n",
    "print(M0)\n",
    "simulator = TensorMT( np.where( phantom > 0, 1, 0 ),\n",
    "                      om_proj,\n",
    "                      hkl_proj,\n",
    "                      M0 )"
   ]
  },
  {
   "cell_type": "code",
   "execution_count": null,
   "id": "ff208655-120f-4d32-9dfc-e7375cba7e0f",
   "metadata": {
    "tags": []
   },
   "outputs": [],
   "source": [
    "S6L = []\n",
    "i, j = np.mgrid[ 0:N, 0:N ] - N//2\n",
    "simulator.M6map.fill(0)\n",
    "for c, ubi in zip( circs, (ubi0, ubi1, ubi2, ubi3) ):\n",
    "    msk = ((i - c[0])**2 + (j - c[1])**2) < c[2]**2\n",
    "    gi = np.linalg.inv( ubi.dot( ubi.T ) )\n",
    "    S6 = v3x3tov6( gi )\n",
    "    print(S6)\n",
    "    for p in range(6):\n",
    "        simulator.M6map[p, msk ] = S6[p]\n",
    "    S6L.append( S6 )                       "
   ]
  },
  {
   "cell_type": "code",
   "execution_count": null,
   "id": "bb7d39c7-fff5-486a-930c-241840711b11",
   "metadata": {
    "tags": []
   },
   "outputs": [],
   "source": [
    "x, y, z  = 9.7066179e-02, 9.6772894e-02, 2.0702861e-2\n",
    "for j in [0,1,5]:\n",
    "    v  =  [ x, x, z, 0, 0, x]\n",
    "    v[j] = y\n",
    "    m = v6tov3x3(v )\n",
    "    print(j,ImageD11.indexing.ubitocellpars( np.linalg.cholesky( np.linalg.inv(m))))"
   ]
  },
  {
   "cell_type": "code",
   "execution_count": null,
   "id": "931e1898-a192-42cd-b2b7-a53f5d5e370d",
   "metadata": {
    "tags": []
   },
   "outputs": [],
   "source": [
    "f, ax = plt.subplots( 2,3, constrained_layout=True, figsize=(12,6))\n",
    "a = ax.ravel()\n",
    "for i in range(6):\n",
    "    f.colorbar(a[i].imshow( np.where( simulator.grain_intensity>0,\n",
    "                                      simulator.M6map[i], \n",
    "                                      np.nan),\n",
    "                           cmap='RdBu', interpolation='nearest' ),ax=a[i] ) \n",
    "    a[i].set( title='ABCDEF'[i] )"
   ]
  },
  {
   "cell_type": "code",
   "execution_count": null,
   "id": "d78fa945-7a9e-4177-bd3f-ab1529314b88",
   "metadata": {
    "tags": []
   },
   "outputs": [],
   "source": [
    "calc = simulator.forward()"
   ]
  },
  {
   "cell_type": "code",
   "execution_count": null,
   "id": "f017a6c9-1264-4820-8373-98fa24e10d56",
   "metadata": {
    "tags": []
   },
   "outputs": [],
   "source": [
    "plt.figure()\n",
    "plt.imshow( simulator.dss_sino, aspect='auto' )\n",
    "plt.title(\"D-star squared, simulated\")"
   ]
  },
  {
   "cell_type": "code",
   "execution_count": null,
   "id": "cc34411f-64e3-4b3c-b67d-b8d29edaf9ba",
   "metadata": {
    "tags": []
   },
   "outputs": [],
   "source": [
    "dssavg = simulator.dss_sino.sum(axis=0) / simulator.grain_sino.sum(axis=0)"
   ]
  },
  {
   "cell_type": "code",
   "execution_count": null,
   "id": "752dcfff-c530-4bfb-972d-5d78f9370d8c",
   "metadata": {
    "tags": []
   },
   "outputs": [],
   "source": [
    "f, a = plt.subplots(figsize=(12,6))\n",
    "r = 3e-4\n",
    "f.colorbar(a.imshow( (simulator.dss_flat - dssavg)/dssavg, \n",
    "                    aspect='auto', interpolation='nearest',\n",
    "                    cmap='RdBu', vmin=-r, vmax=r), ax=a);"
   ]
  },
  {
   "cell_type": "code",
   "execution_count": null,
   "id": "76c8e8ed-396e-481a-8307-60dd1defd756",
   "metadata": {
    "tags": []
   },
   "outputs": [],
   "source": [
    "h6 = simulator.h6.copy()"
   ]
  },
  {
   "cell_type": "code",
   "execution_count": null,
   "id": "66fcb43d-99c1-4ec7-bf1d-bca9df64dc89",
   "metadata": {
    "tags": []
   },
   "outputs": [],
   "source": [
    "# Fit one average unit cell for the grain to use as a starting point\n",
    "def dss_calc_fun( x, h6 ):\n",
    "    c = np.zeros( (h6.shape[1],), np.float32 )\n",
    "    for i in range(6):\n",
    "        c += x[i] * h6[i]\n",
    "    return c\n",
    "\n",
    "def error( x, h6, obs ):\n",
    "    return obs - dss_calc_fun( x, h6 )"
   ]
  },
  {
   "cell_type": "code",
   "execution_count": null,
   "id": "a2346814-26fd-434f-b1b4-e6f14bc40c9f",
   "metadata": {
    "tags": []
   },
   "outputs": [],
   "source": [
    "x0 = np.ones( 6, float )*0.1\n",
    "ans = least_squares( error, x0, args = (h6, dssavg) )\n",
    "ans.x"
   ]
  },
  {
   "cell_type": "code",
   "execution_count": null,
   "id": "a37d397f-efec-4dd1-8578-c2e86f2a17ff",
   "metadata": {
    "tags": []
   },
   "outputs": [],
   "source": [
    "reconstructor = TensorMT( \n",
    "    simulator.grain_intensity.copy(), \n",
    "    simulator.om_proj.copy(),\n",
    "    simulator.hkl_proj.copy(),\n",
    "    ans.x )"
   ]
  },
  {
   "cell_type": "code",
   "execution_count": null,
   "id": "a86a19ef-bc18-437c-a96a-5cd39c365ec9",
   "metadata": {
    "tags": []
   },
   "outputs": [],
   "source": [
    "%%time\n",
    "pbpmap = reconstructor.pbp( simulator.dss_flat.copy() )"
   ]
  },
  {
   "cell_type": "code",
   "execution_count": null,
   "id": "3643912f-f547-44d2-a2fa-fd44e4968d15",
   "metadata": {
    "tags": []
   },
   "outputs": [],
   "source": [
    "f, a = plt.subplots(2,3, figsize=(12,5), constrained_layout=True)\n",
    "for i,a in enumerate(a.ravel()):\n",
    "    f.colorbar( a.imshow( np.where( reconstructor.gmask, pbpmap[i], np.nan ),\n",
    "                         cmap='RdBu',\n",
    "                         interpolation='nearest' ), ax=a )\n",
    "    a.set(title=f'recon pbp[{i}]')"
   ]
  },
  {
   "cell_type": "code",
   "execution_count": null,
   "id": "f3cad2b4-0477-4c2e-8f1f-f59613ab6810",
   "metadata": {
    "tags": []
   },
   "outputs": [],
   "source": [
    "reconstructor = TensorMT( \n",
    "    simulator.grain_intensity.copy(), \n",
    "    simulator.om_proj.copy(),\n",
    "    simulator.hkl_proj.copy(),\n",
    "    ans.x )"
   ]
  },
  {
   "cell_type": "code",
   "execution_count": null,
   "id": "deb1415b-921a-45be-aaf5-2f6fe0e673d1",
   "metadata": {
    "tags": []
   },
   "outputs": [],
   "source": [
    "%%time\n",
    "fit1 = reconstructor.lsq( simulator.dss_flat.copy(), maxiter=2000, refdata=simulator.M6map.copy(), disp=False)"
   ]
  },
  {
   "cell_type": "code",
   "execution_count": null,
   "id": "f37b1890-58b1-4388-8564-2ee6c8310875",
   "metadata": {
    "tags": []
   },
   "outputs": [],
   "source": [
    "plt.figure()\n",
    "plt.plot( [v[0] for v in reconstructor.fitlog[20:]], '-')\n",
    "plt.semilogy()\n",
    "plt.twinx()\n",
    "plt.plot( [v[1] for v in reconstructor.fitlog[20:]], '-g')\n",
    "plt.semilogy()"
   ]
  },
  {
   "cell_type": "code",
   "execution_count": null,
   "id": "78140886-c7ea-40a7-972d-c158d3558f64",
   "metadata": {
    "tags": []
   },
   "outputs": [],
   "source": [
    "reconstructor_pbpstart = TensorMT( \n",
    "    simulator.grain_intensity.copy(), \n",
    "    simulator.om_proj.copy(),\n",
    "    simulator.hkl_proj.copy(),\n",
    "    pbpmap.copy() )"
   ]
  },
  {
   "cell_type": "code",
   "execution_count": null,
   "id": "bac25e97-7b05-485c-be3e-799f5b41c9a4",
   "metadata": {
    "tags": []
   },
   "outputs": [],
   "source": [
    "%%time\n",
    "fit2 = reconstructor_pbpstart.lsq( simulator.dss_flat.copy(), maxiter=2000, refdata=simulator.M6map.copy(), disp=False)"
   ]
  },
  {
   "cell_type": "code",
   "execution_count": null,
   "id": "0dfdeb9c-f0be-45f9-9876-9fc2506c1769",
   "metadata": {
    "tags": []
   },
   "outputs": [],
   "source": [
    "plt.figure()\n",
    "plt.plot( [v[0] for v in reconstructor.fitlog[20:]], 'b-')\n",
    "plt.plot( [v[0] for v in reconstructor_pbpstart.fitlog[20:]], 'r-')\n",
    "plt.semilogy()\n",
    "plt.twinx()\n",
    "plt.plot( [v[1] for v in reconstructor.fitlog[20:]], '-g')\n",
    "plt.plot( [v[1] for v in reconstructor_pbpstart.fitlog[20:]], 'm-')\n",
    "plt.semilogy()"
   ]
  },
  {
   "cell_type": "code",
   "execution_count": null,
   "id": "c5442f48-98f0-4611-90bf-60d29a1fd467",
   "metadata": {
    "tags": []
   },
   "outputs": [],
   "source": [
    "fit2=reconstructor_pbpstart.M6map.copy()"
   ]
  },
  {
   "cell_type": "code",
   "execution_count": null,
   "id": "b12b164c-0e04-48eb-83b0-03ae5ac2c24c",
   "metadata": {
    "tags": []
   },
   "outputs": [],
   "source": [
    "f, a = plt.subplots(2,3, figsize=(12,5), constrained_layout=True)\n",
    "for i,a in enumerate(a.ravel()):\n",
    "    f.colorbar( a.imshow( np.where( reconstructor.gmask, fit1[i], np.nan),\n",
    "                         cmap='RdBu',\n",
    "                         interpolation='nearest' ), ax=a )\n",
    "    a.set(title=f'recon lsq[{i}]')"
   ]
  },
  {
   "cell_type": "code",
   "execution_count": null,
   "id": "ee5ce62b-74ac-4654-9dec-67ae28d71f28",
   "metadata": {
    "tags": []
   },
   "outputs": [],
   "source": [
    "f, a = plt.subplots(2,3, figsize=(12,5),  constrained_layout=True)\n",
    "for i,a in enumerate(a.ravel()):\n",
    "    f.colorbar( a.imshow( np.where( reconstructor.gmask, \n",
    "                                   fit2[i], np.nan ),\n",
    "                         cmap='RdBu',\n",
    "                         interpolation='nearest' ), ax=a )\n",
    "    a.set(title=f'recon lsq[{i}]')"
   ]
  },
  {
   "cell_type": "code",
   "execution_count": null,
   "id": "bce4238e-fda2-4ac4-80f8-c815325ae9ed",
   "metadata": {
    "tags": []
   },
   "outputs": [],
   "source": [
    "v = v3x3tov6( np.linalg.inv( ubi2.dot(ubi2.T )))\n",
    "lo = np.min( v[[0,1,5]])*0.995\n",
    "hi = np.max( v[[0,1,5]])*1.005\n",
    "lo,hi"
   ]
  },
  {
   "cell_type": "code",
   "execution_count": null,
   "id": "c16b368b-95cf-403b-90b5-ac48e64d3c0b",
   "metadata": {
    "tags": []
   },
   "outputs": [],
   "source": [
    "bins = ( np.linspace( lo, hi, 100 ),\n",
    "         np.linspace( lo, hi, 100 ),\n",
    "         np.linspace( v[2]*0.995, v[2]*1.005, 100 ),\n",
    "         np.linspace(-0.005, 0.005, 100 ),\n",
    "         np.linspace(-0.005, 0.005, 100 ),\n",
    "         np.linspace( lo, hi, 100 ) )\n",
    "f, a = plt.subplots(2,3, figsize=(12,5))\n",
    "for r,name in zip((pbpmap, fit1, fit2, simulator.M6map), \"pbpmap fit1 fit2 simul\".split()):\n",
    "    for i,ax in enumerate(a.ravel()):\n",
    "        ax.hist( r[i].ravel()[reconstructor.gidx], bins = bins[i], alpha=0.5, label=name )\n",
    "        ax.set(title=name + f\" {i}\", yscale='log')\n",
    "for ax in a.ravel():\n",
    "    ax.legend()"
   ]
  },
  {
   "cell_type": "code",
   "execution_count": null,
   "id": "ab7994cb-b33e-45f3-98d3-99efc23f342c",
   "metadata": {
    "tags": []
   },
   "outputs": [],
   "source": [
    "f, a = plt.subplots(2,3, figsize=(12,5),  constrained_layout=True)\n",
    "for i,a in enumerate(a.ravel()):\n",
    "    f.colorbar( a.imshow( np.where( reconstructor.gmask, \n",
    "                                   fit2[i]/simulator.M6map[i], np.nan ),\n",
    "                         cmap='RdBu',\n",
    "                         interpolation='nearest' ), ax=a )\n",
    "    a.set(title=f'recon lsq[{i}]')"
   ]
  },
  {
   "cell_type": "code",
   "execution_count": null,
   "id": "b680c7f7-fde4-4dca-96a4-ac5c5e5a97f7",
   "metadata": {},
   "outputs": [],
   "source": []
  },
  {
   "cell_type": "code",
   "execution_count": null,
   "id": "5b0cd22f-6b43-4e68-8e33-d5f5c857e7e4",
   "metadata": {
    "tags": []
   },
   "outputs": [],
   "source": [
    "tend = time.time()\n",
    "print('Total runtime',tend - tstart, astra.get_gpu_info())"
   ]
  },
  {
   "cell_type": "code",
   "execution_count": null,
   "id": "d10bd106-5d28-417f-9e62-a0f9c6b3cc03",
   "metadata": {},
   "outputs": [],
   "source": []
  },
  {
   "cell_type": "code",
   "execution_count": null,
   "id": "a1d82966-d5ef-4089-afd7-5b33e85ce4d7",
   "metadata": {},
   "outputs": [],
   "source": []
  }
 ],
 "metadata": {
  "kernelspec": {
   "display_name": "Python 3 (main)",
   "language": "python",
   "name": "python3"
  },
  "language_info": {
   "codemirror_mode": {
    "name": "ipython",
    "version": 3
   },
   "file_extension": ".py",
   "mimetype": "text/x-python",
   "name": "python",
   "nbconvert_exporter": "python",
   "pygments_lexer": "ipython3",
   "version": "3.11.6"
  },
  "widgets": {
   "application/vnd.jupyter.widget-state+json": {
    "state": {},
    "version_major": 2,
    "version_minor": 0
   }
  }
 },
 "nbformat": 4,
 "nbformat_minor": 5
}
