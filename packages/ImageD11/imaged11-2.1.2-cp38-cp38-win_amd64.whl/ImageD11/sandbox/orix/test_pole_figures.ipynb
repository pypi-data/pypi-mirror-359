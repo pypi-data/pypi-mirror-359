{
 "cells": [
  {
   "cell_type": "code",
   "execution_count": null,
   "id": "688d07ab-140a-4651-9add-3f91f263e3c9",
   "metadata": {
    "tags": []
   },
   "outputs": [],
   "source": [
    "import sys\n",
    "\n",
    "sys.path.insert(0, \"/home/esrf/james1997a/Code/ImageD11\")"
   ]
  },
  {
   "cell_type": "code",
   "execution_count": null,
   "id": "db7773bf-f438-4dd8-9182-72c0d8694a6c",
   "metadata": {
    "tags": []
   },
   "outputs": [],
   "source": [
    "from ImageD11.grain import grain\n",
    "from ImageD11.unitcell import unitcell\n",
    "import numpy as np\n",
    "from scipy.spatial.transform import Rotation as R\n",
    "\n",
    "from orix.quaternion import Orientation, Rotation\n",
    "from orix.quaternion.symmetry import get_point_group\n",
    "from orix.vector import Miller\n",
    "from orix.crystal_map import Phase\n",
    "from orix.plot import IPFColorKeyTSL\n",
    "from orix.vector.vector3d import Vector3d\n",
    "\n",
    "from diffpy.structure import Lattice, Structure\n",
    "\n",
    "from matplotlib import pyplot as plt\n",
    "\n",
    "%matplotlib inline"
   ]
  },
  {
   "cell_type": "code",
   "execution_count": null,
   "id": "a518262d-452f-405c-ac63-c7b08ce9efdc",
   "metadata": {
    "tags": []
   },
   "outputs": [],
   "source": [
    "hexagonal_ucell_array = np.array([2.94, 2.94, 4.72, 90, 90, 120])\n",
    "hexagonal_ucell = unitcell(hexagonal_ucell_array, symmetry=194)\n",
    "B = hexagonal_ucell.B"
   ]
  },
  {
   "cell_type": "code",
   "execution_count": null,
   "id": "d54beae3-f880-4db6-b017-965d307fcfd5",
   "metadata": {
    "tags": []
   },
   "outputs": [],
   "source": [
    "# make a reference unit cell too\n",
    "\n",
    "ref_hexagonal_ucell_array = np.array([2.94, 2.94, 4.72, 90, 90, 120])\n",
    "ref_hexagonal_ucell = unitcell(ref_hexagonal_ucell_array, symmetry=194)"
   ]
  },
  {
   "cell_type": "code",
   "execution_count": null,
   "id": "f870fcba-c1cf-4095-85b1-1c6bceedaa3f",
   "metadata": {
    "tags": []
   },
   "outputs": [],
   "source": [
    "# generate 1000 random orientations\n",
    "\n",
    "Us = R.random(10000).as_matrix()"
   ]
  },
  {
   "cell_type": "code",
   "execution_count": null,
   "id": "e30649b5-4686-48d7-8b19-e98f691c9161",
   "metadata": {
    "tags": []
   },
   "outputs": [],
   "source": [
    "UBs = Us @ B"
   ]
  },
  {
   "cell_type": "code",
   "execution_count": null,
   "id": "644550e2-a7c6-4508-b706-733cc0459e8a",
   "metadata": {
    "tags": []
   },
   "outputs": [],
   "source": [
    "def plot_inverse_pole_figure(ref_ucell, UBs, axis=np.array([0., 0, 1])):\n",
    "    # get a meta orientation for all the grains\n",
    "    meta_orien = ref_ucell.get_orix_orien(UBs)\n",
    "\n",
    "    try:\n",
    "        from orix.vector.vector3d import Vector3d\n",
    "    except ImportError:\n",
    "        raise ImportError(\"Missing diffpy and/or orix, can't compute orix phase!\")\n",
    "\n",
    "    ipf_direction = Vector3d(axis)\n",
    "\n",
    "    # get the RGB colours\n",
    "    rgb = ref_ucell.get_ipf_colour_from_orix_orien(meta_orien, axis=ipf_direction)\n",
    "\n",
    "    # scatter the meta orientation using the colours\n",
    "    meta_orien.scatter(\"ipf\", c=rgb, direction=ipf_direction)"
   ]
  },
  {
   "cell_type": "code",
   "execution_count": null,
   "id": "9e1c1e36-14c6-4f63-adef-b2d51595b8e1",
   "metadata": {},
   "outputs": [],
   "source": [
    "plot_inverse_pole_figure(ref_hexagonal_ucell, UBs)"
   ]
  },
  {
   "cell_type": "code",
   "execution_count": null,
   "id": "c0da7d53-6603-4759-8e33-a791d326467d",
   "metadata": {
    "tags": []
   },
   "outputs": [],
   "source": [
    "def plot_all_ipfs(ref_ucell, UBs):\n",
    "    plot_inverse_pole_figure(ref_ucell, UBs, axis=np.array([1., 0, 0]))\n",
    "    plot_inverse_pole_figure(ref_ucell, UBs, axis=np.array([0., 1, 0]))\n",
    "    plot_inverse_pole_figure(ref_ucell, UBs, axis=np.array([0., 0, 1]))"
   ]
  },
  {
   "cell_type": "code",
   "execution_count": null,
   "id": "4eb00caf-53f8-4cc8-9f62-1e9cc34bf237",
   "metadata": {
    "tags": []
   },
   "outputs": [],
   "source": [
    "plot_all_ipfs(hexagonal_ucell, UBs)"
   ]
  },
  {
   "cell_type": "code",
   "execution_count": null,
   "id": "76860999-ce11-4d2a-a6f1-28a95754e0f2",
   "metadata": {
    "tags": []
   },
   "outputs": [],
   "source": [
    "# generate 10 orientations clustered near identity\n",
    "# they'll all be rotated around x and y such that c* doesn't point exactly || z\n",
    "\n",
    "Us = R.from_euler(seq='xy', angles=(np.random.random((10, 2))-0.5)*25, degrees=True).as_matrix()\n",
    "\n",
    "UBs = Us @ B\n",
    "\n",
    "plot_inverse_pole_figure(hexagonal_ucell, UBs)"
   ]
  },
  {
   "cell_type": "code",
   "execution_count": null,
   "id": "222f3d21-e985-4db9-a1b3-3375a49d3272",
   "metadata": {
    "tags": []
   },
   "outputs": [],
   "source": [
    "def pf_plot_UBs(ref_ucell, UBs, uvw=np.array([1., 0., 0.])):\n",
    "    # make a combined orientation from them (makes plot much faster)\n",
    "    meta_orien = ref_ucell.get_orix_orien(UBs)\n",
    "    \n",
    "    # make Miller object from uvw\n",
    "    m1 = Miller(uvw=uvw, phase=ref_ucell.orix_phase).symmetrise(unique=True)\n",
    "    \n",
    "    # get outer product of all orientations with the crystal direction we're interested in\n",
    "    uvw_all = (~meta_orien).outer(m1)\n",
    "    \n",
    "    uvw_all.scatter(hemisphere=\"both\", axes_labels=[\"X\", \"Y\"])"
   ]
  },
  {
   "cell_type": "code",
   "execution_count": null,
   "id": "04824c35-7b15-4e4f-803b-def5d4313d05",
   "metadata": {
    "tags": []
   },
   "outputs": [],
   "source": [
    "# let's test a triclinic too:\n",
    "\n",
    "# Labradorite\n",
    "# ICSD 100232\n",
    "# 8.1736 12.8736 7.1022 93.462 116.054 90.475\n",
    "# space group 2\n",
    "triclinic_ucell_array = np.array([8.1736, 12.8736, 7.1022, 93.462, 116.054, 90.475])\n",
    "triclinic_ucell = unitcell(triclinic_ucell_array, symmetry=2)\n",
    "\n",
    "B = triclinic_ucell.B\n",
    "\n",
    "# establish some orientations that are all close to a* || x\n",
    "# we do this by rotating around y and z slightly\n",
    "\n",
    "Us = R.from_euler(seq='yz', angles=(np.random.random((10000, 2))-0.5)*15, degrees=True).as_matrix()\n",
    "\n",
    "UBs = Us @ B\n",
    "\n",
    "# U is identity\n",
    "# a* should be along x_lab\n",
    "\n",
    "uvw = Miller(hkl=(1,0,0),phase=triclinic_ucell.orix_phase).uvw\n",
    "\n",
    "pf_plot_UBs(triclinic_ucell, UBs, uvw)"
   ]
  },
  {
   "cell_type": "code",
   "execution_count": null,
   "id": "3a8b7501-ec8e-4d98-8f62-e9251bddb0cb",
   "metadata": {},
   "outputs": [],
   "source": []
  }
 ],
 "metadata": {
  "kernelspec": {
   "display_name": "Python 3 (main)",
   "language": "python",
   "name": "python3"
  },
  "language_info": {
   "codemirror_mode": {
    "name": "ipython",
    "version": 3
   },
   "file_extension": ".py",
   "mimetype": "text/x-python",
   "name": "python",
   "nbconvert_exporter": "python",
   "pygments_lexer": "ipython3",
   "version": "3.11.6"
  },
  "widgets": {
   "application/vnd.jupyter.widget-state+json": {
    "state": {},
    "version_major": 2,
    "version_minor": 0
   }
  }
 },
 "nbformat": 4,
 "nbformat_minor": 5
}
