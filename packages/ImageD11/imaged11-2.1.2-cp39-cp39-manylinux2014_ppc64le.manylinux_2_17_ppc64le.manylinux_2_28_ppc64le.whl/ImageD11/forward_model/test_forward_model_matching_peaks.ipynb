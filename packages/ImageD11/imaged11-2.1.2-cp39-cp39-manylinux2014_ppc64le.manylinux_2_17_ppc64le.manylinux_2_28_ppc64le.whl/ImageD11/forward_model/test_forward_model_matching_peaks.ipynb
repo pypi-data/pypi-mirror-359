{
 "cells": [
  {
   "cell_type": "markdown",
   "id": "02d94170-ad20-4e6d-b01b-d5321dbe719a",
   "metadata": {},
   "source": [
    "# Test forward_model.py\n",
    "### Mainly to test forward matching peaks and use the cleaned peaks for tomographic grain reconstruction\n",
    "### Normally it is used as an extra step for the example notebook tomo_2_map.ipynb or tomo_2_map_minor_phase.ipynb\n",
    "### Jan 2025"
   ]
  },
  {
   "cell_type": "code",
   "execution_count": null,
   "id": "c08bf8af-09db-42d3-9b75-d9cf4e48c5ec",
   "metadata": {
    "tags": []
   },
   "outputs": [],
   "source": [
    "exec(open('/data/id11/nanoscope/install_ImageD11_from_git.py').read())\n",
    "PYTHONPATH = setup_ImageD11_from_git( ) # ( os.path.join( os.environ['HOME'],'Code'), 'ImageD11_git' )"
   ]
  },
  {
   "cell_type": "code",
   "execution_count": null,
   "id": "dc2f010e-0b5a-4c64-9d90-0fb30306b99d",
   "metadata": {
    "tags": []
   },
   "outputs": [],
   "source": [
    "# import functions we need\n",
    "\n",
    "import concurrent.futures\n",
    "\n",
    "# %matplotlib ipympl\n",
    "\n",
    "import h5py\n",
    "from tqdm.notebook import tqdm\n",
    "import numpy as np\n",
    "import matplotlib.pyplot as plt\n",
    "from skimage.filters import threshold_otsu\n",
    "from skimage.morphology import convex_hull_image\n",
    "\n",
    "import ImageD11.columnfile\n",
    "from ImageD11.grain import grain\n",
    "from ImageD11.peakselect import select_ring_peaks_by_intensity\n",
    "from ImageD11.sinograms.sinogram import GrainSinogram, build_slice_arrays, write_slice_recon, read_h5, write_h5, get_2d_peaks_from_4d_peaks\n",
    "from ImageD11.sinograms.roi_iradon import run_iradon\n",
    "from ImageD11.sinograms.tensor_map import TensorMap\n",
    "import ImageD11.sinograms.dataset\n",
    "import ImageD11.nbGui.nb_utils as utils\n",
    "\n",
    "import ipywidgets as widgets\n",
    "from ipywidgets import interact"
   ]
  },
  {
   "cell_type": "code",
   "execution_count": null,
   "id": "c63dc3d7-d61b-46da-b97c-2f3fe172d455",
   "metadata": {
    "tags": []
   },
   "outputs": [],
   "source": [
    "from ImageD11.forward_model import forward_model"
   ]
  },
  {
   "cell_type": "code",
   "execution_count": null,
   "id": "99be8b16-34ae-4e41-b33d-773de2594733",
   "metadata": {
    "tags": []
   },
   "outputs": [],
   "source": [
    "# USER: Pass path to dataset file\n",
    "\n",
    "dset_file = '/data/visitor/es1505/id11/20240926/PROCESSED_DATA/LGM_15/LGM_15_s3DXRD_inclusion1/LGM_15_s3DXRD_inclusion1_dataset.h5'\n",
    "\n",
    "ds = ImageD11.sinograms.dataset.load(dset_file)\n",
    "\n",
    "ds.parfile = '/data/visitor/es1505/id11/20240926/SCRIPTS/HF/LGM_15_s3DXRD_inclusion1/pars.json' # specify the pars.json path\n",
    "\n",
    "sample = ds.sample\n",
    "dataset = ds.dsname\n",
    "rawdata_path = ds.dataroot\n",
    "processed_data_root_dir = ds.analysisroot\n",
    "\n",
    "print(ds)\n",
    "print(ds.shape)"
   ]
  },
  {
   "cell_type": "code",
   "execution_count": null,
   "id": "461ec3a8-59ca-475e-a2f7-a3871d047348",
   "metadata": {
    "tags": []
   },
   "outputs": [],
   "source": [
    "# load phases from parameter file\n",
    "\n",
    "ds.phases = ds.get_phases_from_disk()\n",
    "ds.phases.unitcells"
   ]
  },
  {
   "cell_type": "code",
   "execution_count": null,
   "id": "e7489704-a563-4f76-a1ae-12721db22346",
   "metadata": {
    "tags": []
   },
   "outputs": [],
   "source": [
    "# pick a phase\n",
    "phase_str = 'Pyrrhotite_hex2'"
   ]
  },
  {
   "cell_type": "code",
   "execution_count": null,
   "id": "3a14d4b6-0dd7-4db5-8a18-1bbc694b4d5e",
   "metadata": {
    "tags": []
   },
   "outputs": [],
   "source": [
    "# If the sinograms are only half-sinograms (we scanned dty across half the sample rather than the full sample), set the below to true:\n",
    "is_half_scan = False"
   ]
  },
  {
   "cell_type": "code",
   "execution_count": null,
   "id": "c2fa6ff0-2fe9-42e7-a3a9-edddc1b212df",
   "metadata": {
    "tags": []
   },
   "outputs": [],
   "source": [
    "if is_half_scan:\n",
    "    ds.correct_bins_for_half_scan()"
   ]
  },
  {
   "cell_type": "code",
   "execution_count": null,
   "id": "5dd647d6-897e-45c2-90b1-2535249ccfc7",
   "metadata": {
    "tags": []
   },
   "outputs": [],
   "source": [
    "# Import 4D peaks\n",
    "\n",
    "cf_4d = ds.get_cf_4d_from_disk()\n",
    "\n",
    "ds.update_colfile_pars(cf_4d, phase_name=phase_str)\n",
    "\n",
    "print(f\"Read {cf_4d.nrows} 4D peaks\")"
   ]
  },
  {
   "cell_type": "code",
   "execution_count": null,
   "id": "7ea21e87-7e88-4851-b30c-ed19a1e460fa",
   "metadata": {
    "tags": []
   },
   "outputs": [],
   "source": [
    "# plot sino for cf_4d\n",
    "forward_model.cf_plot_sino(cf_4d)"
   ]
  },
  {
   "cell_type": "code",
   "execution_count": null,
   "id": "5f8d828e-9de0-4722-8994-d7378b18da9a",
   "metadata": {
    "tags": []
   },
   "outputs": [],
   "source": [
    "# here we are filtering our peaks (cf_4d) to select only the strongest ones\n",
    "# this time as opposed to indexing, our frac is slightly weaker but we are NOT filtering in dstar!!!!!\n",
    "# this means many more peaks per grain = stronger sinograms\n",
    "\n",
    "# USER: modify the \"frac\" parameter below and re-run the cell until the orange dot sits nicely on the \"elbow\" of the blue line\n",
    "# this indicates the fractional intensity cutoff we will select\n",
    "# if the blue line does not look elbow-shaped in the logscale plot, try changing the \"doplot\" parameter (the y scale of the logscale plot) until it does\n",
    "\n",
    "cf_strong_frac = 0.999\n",
    "cf_strong_dstol = 0.005\n",
    "\n",
    "cf_strong = select_ring_peaks_by_intensity(cf_4d, frac=cf_strong_frac, dstol=cf_strong_dstol, dsmax=cf_4d.ds.max(), doplot=0.9)\n",
    "print(cf_4d.nrows)\n",
    "cf_strong.nrows"
   ]
  },
  {
   "cell_type": "code",
   "execution_count": null,
   "id": "ae03c287-c11d-4fa7-8901-c8ba7c1f8e4e",
   "metadata": {
    "tags": []
   },
   "outputs": [],
   "source": [
    "# plot sino for cf_strong\n",
    "forward_model.cf_plot_sino(cf_strong)"
   ]
  },
  {
   "cell_type": "code",
   "execution_count": null,
   "id": "4ba39d4c-36c2-4c5a-b2e9-e791663a234d",
   "metadata": {
    "tags": []
   },
   "outputs": [],
   "source": [
    "# import the grains from disk\n",
    "\n",
    "grains = ds.get_grains_from_disk(phase_str)\n",
    "print(f\"{len(grains)} grains imported\")"
   ]
  },
  {
   "cell_type": "code",
   "execution_count": null,
   "id": "c3f109c5-44d8-4c8c-bd59-00a1f319856b",
   "metadata": {
    "tags": []
   },
   "outputs": [],
   "source": [
    "# assign peaks to the grains\n",
    "\n",
    "peak_assign_tol = 0.25\n",
    "utils.assign_peaks_to_grains(grains, cf_strong, peak_assign_tol)\n",
    "\n",
    "for grain_label, g in enumerate(grains):\n",
    "    g.npks_4d = np.sum(cf_strong.grain_id == grain_label)"
   ]
  },
  {
   "cell_type": "code",
   "execution_count": null,
   "id": "535b8b10-ef39-4cf7-8915-08bc229798e1",
   "metadata": {
    "tags": []
   },
   "outputs": [],
   "source": [
    "# let's make a GrainSinogram object for each grain\n",
    "\n",
    "grainsinos = [GrainSinogram(g, ds) for g in grains]"
   ]
  },
  {
   "cell_type": "code",
   "execution_count": null,
   "id": "a78cc9e7-f906-4146-8aa4-3e72e4968ff0",
   "metadata": {
    "tags": []
   },
   "outputs": [],
   "source": [
    "# Now let's determine the positions of each grain from the 4D peaks\n",
    "\n",
    "for grain_label, gs in enumerate(grainsinos):\n",
    "    gs.update_lab_position_from_peaks(cf_strong, grain_label)"
   ]
  },
  {
   "cell_type": "code",
   "execution_count": null,
   "id": "253cbda7-d74b-48d0-bb67-3725d3edcb0d",
   "metadata": {
    "tags": []
   },
   "outputs": [],
   "source": [
    "# get peaks for each grain, only to be able to see the peaks for individual grains\n",
    "cf_grains = []\n",
    "for i in range(len(grains)):\n",
    "    cf_grains.append(forward_model.cf_filter_for_grain(cf_strong, grain_id = i))"
   ]
  },
  {
   "cell_type": "code",
   "execution_count": null,
   "id": "a3279f09-3a12-423a-af68-7d4e9eed5407",
   "metadata": {
    "tags": []
   },
   "outputs": [],
   "source": [
    "forward_model.cf_plot_sino(cf_grains)"
   ]
  },
  {
   "cell_type": "code",
   "execution_count": null,
   "id": "4a3438e9-7bb9-4d4f-b277-6fc212438c8a",
   "metadata": {
    "tags": []
   },
   "outputs": [],
   "source": [
    "ucell = ds.phases.unitcells[phase_str]"
   ]
  },
  {
   "cell_type": "code",
   "execution_count": null,
   "id": "1167c80c-0ec6-4f78-8bbb-3ee63ac5bce9",
   "metadata": {
    "tags": []
   },
   "outputs": [],
   "source": [
    "pars = ImageD11.parameters.read_par_file(ds.parfile)"
   ]
  },
  {
   "cell_type": "markdown",
   "id": "c8cedfc6-41f9-41e3-af48-985437cc9a0a",
   "metadata": {},
   "source": [
    "# Testing the forward calculation and forward matching"
   ]
  },
  {
   "cell_type": "code",
   "execution_count": null,
   "id": "0117c8a8-8a29-4722-b6bf-397c2b8609cd",
   "metadata": {
    "tags": []
   },
   "outputs": [],
   "source": [
    "cf_matched_all, Comp_all = forward_model.forward_match_peaks(cf_strong, grains, ds, ucell, pars, ds_max=1.2, tol_angle=3, tol_pixel=5, thres_int=None)"
   ]
  },
  {
   "cell_type": "code",
   "execution_count": null,
   "id": "316bec48-921e-4bd8-b26a-fb840abe057f",
   "metadata": {},
   "outputs": [],
   "source": [
    "# plot all the matched peaks\n",
    "# in this example, the scan was performed on a region-of-interest, so the number of 'useful' peaks have been filtered significantly from all peaks\n",
    "forward_model.cf_plot_sino(cf_matched_all)"
   ]
  },
  {
   "cell_type": "code",
   "execution_count": null,
   "id": "850d25bc-d454-4b95-95dd-291d21023ea3",
   "metadata": {},
   "outputs": [],
   "source": [
    "# create cf_clean that is supposed to be matched with the indexed grains\n",
    "cf_clean = forward_model.cf_remove_unmatched_peaks(cf_strong, cf_matched_all)"
   ]
  },
  {
   "cell_type": "code",
   "execution_count": null,
   "id": "fb76f13a-fd00-4862-84e4-2b70a4455a85",
   "metadata": {
    "tags": []
   },
   "outputs": [],
   "source": [
    "# plot sino for cf_strong (before cleaning) and cf_clean (after cleaning)\n",
    "forward_model.cf_plot_sino([cf_strong, cf_clean])"
   ]
  },
  {
   "cell_type": "markdown",
   "id": "7ee9e2cb-40e7-4055-8d25-13216b2b6d63",
   "metadata": {},
   "source": [
    "# Once cf_clean is obtained, one can continue with grain reconstruction with cf_clean instead of cf_strong\n",
    "# See the rest of processing in the example notebook tomo_2_map.ipynb"
   ]
  },
  {
   "cell_type": "code",
   "execution_count": null,
   "id": "5ae69f2f-35c3-4225-91bb-ef5aa10d933f",
   "metadata": {},
   "outputs": [],
   "source": []
  }
 ],
 "metadata": {
  "kernelspec": {
   "display_name": "Python 3 (main)",
   "language": "python",
   "name": "python3"
  },
  "language_info": {
   "codemirror_mode": {
    "name": "ipython",
    "version": 3
   },
   "file_extension": ".py",
   "mimetype": "text/x-python",
   "name": "python",
   "nbconvert_exporter": "python",
   "pygments_lexer": "ipython3",
   "version": "3.11.6"
  }
 },
 "nbformat": 4,
 "nbformat_minor": 5
}
