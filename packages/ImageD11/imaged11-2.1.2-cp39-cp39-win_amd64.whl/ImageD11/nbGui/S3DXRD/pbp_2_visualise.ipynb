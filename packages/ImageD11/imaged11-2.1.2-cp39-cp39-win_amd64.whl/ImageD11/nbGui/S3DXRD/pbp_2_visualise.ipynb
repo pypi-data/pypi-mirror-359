{
 "cells": [
  {
   "cell_type": "markdown",
   "metadata": {},
   "source": [
    "# Point-by-point map visualisation notebook  \n",
    "__Written by Haixing Fang, Jon Wright and James Ball__  \n",
    "__Date: 21/02/2025__"
   ]
  },
  {
   "cell_type": "markdown",
   "metadata": {},
   "source": [
    "This notebook will view the results of the point-by-point process, and to save a single-valued version of the pbp map to H5, ParaView XDMF and MTEX CTF.\n",
    "To get much better strains, slightly better orientations and possibly better grain shapes, you should run pbp_3_refinement\n",
    "Then run 4_visualise to convert the refinement results to an accurate single-valued map with good strains."
   ]
  },
  {
   "cell_type": "code",
   "execution_count": null,
   "metadata": {
    "tags": []
   },
   "outputs": [],
   "source": [
    "exec(open('/data/id11/nanoscope/install_ImageD11_from_git.py').read())"
   ]
  },
  {
   "cell_type": "code",
   "execution_count": null,
   "metadata": {
    "tags": [
     "parameters"
    ]
   },
   "outputs": [],
   "source": [
    "# this cell is tagged with 'parameters'\n",
    "# to view the tag, select the cell, then find the settings gear icon (right or left sidebar) and look for Cell Tags\n",
    "\n",
    "# python environment stuff\n",
    "PYTHONPATH = setup_ImageD11_from_git( ) # ( os.path.join( os.environ['HOME'],'Code'), 'ImageD11_git' )\n",
    "\n",
    "# dataset file to import\n",
    "dset_path = 'si_cube_test/processed/Si_cube/Si_cube_S3DXRD_nt_moves_dty/Si_cube_S3DXRD_nt_moves_dty_dataset.h5'\n",
    "\n",
    "# which phase to index\n",
    "phase_str = 'Si'\n",
    "\n",
    "# the minimum number of peaks you want a pixel to have to be counted\n",
    "min_unique = 20"
   ]
  },
  {
   "cell_type": "code",
   "execution_count": null,
   "metadata": {
    "tags": []
   },
   "outputs": [],
   "source": [
    "import numpy as np\n",
    "from matplotlib import pyplot as plt\n",
    "import matplotlib.cm as cm\n",
    "from matplotlib.colors import Normalize\n",
    "\n",
    "from ImageD11.grain import grain\n",
    "from ImageD11 import unitcell\n",
    "import ImageD11.sinograms.dataset\n",
    "from ImageD11.sinograms.point_by_point import PBPMap\n",
    "from ImageD11.sinograms.tensor_map import TensorMap\n",
    "from ImageD11.nbGui import nb_utils as utils\n",
    "\n",
    "%matplotlib ipympl"
   ]
  },
  {
   "cell_type": "markdown",
   "metadata": {},
   "source": [
    "# Load data\n",
    "## Dataset"
   ]
  },
  {
   "cell_type": "code",
   "execution_count": null,
   "metadata": {
    "tags": []
   },
   "outputs": [],
   "source": [
    "ds = ImageD11.sinograms.dataset.load(dset_path)\n",
    "print(ds)"
   ]
  },
  {
   "cell_type": "markdown",
   "metadata": {},
   "source": [
    "## Phases\n",
    "If the parameter file was a json, we can access the unit cells via `ds.phases.unitcells`"
   ]
  },
  {
   "cell_type": "code",
   "execution_count": null,
   "metadata": {
    "tags": []
   },
   "outputs": [],
   "source": [
    "ds.phases = ds.get_phases_from_disk()\n",
    "ds.phases.unitcells"
   ]
  },
  {
   "cell_type": "code",
   "execution_count": null,
   "metadata": {
    "tags": []
   },
   "outputs": [],
   "source": [
    "ref_ucell = ds.phases.unitcells[phase_str]\n",
    "print(ref_ucell)"
   ]
  },
  {
   "cell_type": "markdown",
   "metadata": {},
   "source": [
    "## Point-by-point map"
   ]
  },
  {
   "cell_type": "code",
   "execution_count": null,
   "metadata": {
    "tags": []
   },
   "outputs": [],
   "source": [
    "pmap = PBPMap(ds.pbpfile.replace('.txt', f'_{phase_str}.txt'))"
   ]
  },
  {
   "cell_type": "markdown",
   "metadata": {},
   "source": [
    "# Visualise"
   ]
  },
  {
   "cell_type": "code",
   "execution_count": null,
   "metadata": {
    "tags": []
   },
   "outputs": [],
   "source": [
    "pmap.plot_nuniq_hist()"
   ]
  },
  {
   "cell_type": "code",
   "execution_count": null,
   "metadata": {
    "tags": []
   },
   "outputs": [],
   "source": [
    "# choose the minimum number of peaks you want a pixel to have to be counted\n",
    "pmap.choose_best(min_unique)\n",
    "pmap.plot_best(min_unique)"
   ]
  },
  {
   "cell_type": "markdown",
   "metadata": {},
   "source": [
    "## Make TensorMap"
   ]
  },
  {
   "cell_type": "code",
   "execution_count": null,
   "metadata": {
    "tags": []
   },
   "outputs": [],
   "source": [
    "# we can choose to make a TensorMap here\n",
    "# which is useful for Paraview and MTEX visualisations\n",
    "\n",
    "phase_ids = TensorMap.recon_order_to_map_order(np.where(pmap.best_nuniq > min_unique, 0, -1))\n",
    "tmap = TensorMap.from_pbpmap(pmap, steps=(1, ds.ystep, ds.ystep), phases={0: ref_ucell})\n",
    "tmap['phase_ids'] = phase_ids\n",
    "tmap.get_ipf_maps()\n",
    "tmap.plot('nuniq')\n",
    "tmap.plot('ipf_x')\n",
    "tmap.plot('ipf_y')\n",
    "tmap.plot('ipf_z')\n",
    "utils.plot_all_ipfs_from_meta_orien(tmap.get_meta_orix_orien(), tmap.phases[0])"
   ]
  },
  {
   "cell_type": "markdown",
   "metadata": {
    "tags": []
   },
   "source": [
    "## Strain"
   ]
  },
  {
   "cell_type": "code",
   "execution_count": null,
   "metadata": {},
   "outputs": [],
   "source": [
    "# plot some (probably extremely messy) strains\n",
    "\n",
    "fig, axs = plt.subplots(3,3, sharex=True, sharey=True, layout='constrained', figsize=(10,10))\n",
    "cmap = cm.get_cmap('RdBu_r')\n",
    "normalizer = Normalize(-1e-3, 1e-3)\n",
    "im = cm.ScalarMappable(norm=normalizer, cmap=cmap)\n",
    "for i in range(3):\n",
    "    for j in range(3):\n",
    "        axs[i,j].imshow(tmap.eps_sample[0, ..., i, j], origin=\"lower\", cmap=cmap, norm=normalizer, interpolation='nearest')\n",
    "        axs[i,j].set_title(f'eps_{i+1}{j+1}')\n",
    "fig.supxlabel('Lab X axis --->')\n",
    "fig.supylabel('Lab Y axis --->')\n",
    "fig.colorbar(im, ax=axs.ravel().tolist())\n",
    "plt.show()"
   ]
  },
  {
   "cell_type": "markdown",
   "metadata": {
    "tags": []
   },
   "source": [
    "# Export\n",
    "## TensorMap"
   ]
  },
  {
   "cell_type": "code",
   "execution_count": null,
   "metadata": {
    "tags": []
   },
   "outputs": [],
   "source": [
    "# save the TensorMap to disk\n",
    "\n",
    "tmap_path = os.path.join(ds.analysispath, f'{ds.sample}_{ds.dset}_tmap_{phase_str}.h5')\n",
    "tmap.to_h5(tmap_path)\n",
    "tmap.to_paraview(tmap_path)"
   ]
  },
  {
   "cell_type": "markdown",
   "metadata": {},
   "source": [
    "## MTEX"
   ]
  },
  {
   "cell_type": "code",
   "execution_count": null,
   "metadata": {},
   "outputs": [],
   "source": [
    "# you can also do an MTEX export if you like:\n",
    "\n",
    "ctf_path = os.path.join(ds.analysispath, f'{ds.sample}_{ds.dset}_tmap_{phase_str}.ctf')\n",
    "tmap.to_ctf_mtex(ctf_path, z_index=0)"
   ]
  }
 ],
 "metadata": {
  "kernelspec": {
   "display_name": "Python 3 (main)",
   "language": "python",
   "name": "python3"
  },
  "language_info": {
   "codemirror_mode": {
    "name": "ipython",
    "version": 3
   },
   "file_extension": ".py",
   "mimetype": "text/x-python",
   "name": "python",
   "nbconvert_exporter": "python",
   "pygments_lexer": "ipython3",
   "version": "3.11.6"
  }
 },
 "nbformat": 4,
 "nbformat_minor": 4
}
