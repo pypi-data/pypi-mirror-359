{
 "cells": [
  {
   "cell_type": "markdown",
   "metadata": {},
   "source": [
    "# Example 1:\n",
    "\n",
    "Below is an example of how to use the package with the two defined model architectures, convolution, and FF."
   ]
  },
  {
   "cell_type": "markdown",
   "metadata": {},
   "source": [
    "## Imports"
   ]
  },
  {
   "cell_type": "code",
   "execution_count": 1,
   "metadata": {},
   "outputs": [],
   "source": [
    "from mm_neural_adjoint import NANetwork, ConvModel, LinModel\n",
    "import torch\n",
    "import torch.nn as nn\n",
    "import pandas as pd\n",
    "from torch.utils.data import DataLoader, TensorDataset\n",
    "from tqdm import tqdm\n",
    "import numpy as np"
   ]
  },
  {
   "cell_type": "markdown",
   "metadata": {},
   "source": [
    "## Read example data"
   ]
  },
  {
   "cell_type": "code",
   "execution_count": 2,
   "metadata": {},
   "outputs": [],
   "source": [
    "X = pd.read_csv('data/data_x_tiny.csv', header=None, delimiter=' ')\n",
    "y = pd.read_csv('data/data_y_tiny.csv', header=None, delimiter=' ')\n",
    "\n",
    "X_tensor = torch.tensor(X.values, dtype=torch.float32)\n",
    "y_tensor = torch.tensor(y.values, dtype=torch.float32)"
   ]
  },
  {
   "cell_type": "markdown",
   "metadata": {},
   "source": [
    "## Convert to Dataloaders"
   ]
  },
  {
   "cell_type": "code",
   "execution_count": 3,
   "metadata": {},
   "outputs": [],
   "source": [
    "dataset = TensorDataset(X_tensor, y_tensor)\n",
    "\n",
    "# Split the dataset into train, validation, and test\n",
    "total_size = len(dataset)\n",
    "train_size = int(0.7 * total_size)\n",
    "val_size = int(0.15 * total_size)\n",
    "test_size = total_size - train_size - val_size\n",
    "\n",
    "train_dataset, val_dataset, test_dataset = torch.utils.data.random_split(\n",
    "    dataset, [train_size, val_size, test_size]\n",
    ")\n",
    "\n",
    "# Create dataloaders\n",
    "train_loader = DataLoader(train_dataset, batch_size=10, shuffle=True)\n",
    "val_loader = DataLoader(val_dataset, batch_size=10, shuffle=True)\n",
    "test_loader = DataLoader(test_dataset, batch_size=1, shuffle=True)"
   ]
  },
  {
   "cell_type": "markdown",
   "metadata": {},
   "source": [
    "## Train\n",
    "\n",
    "This code cell will train the forward pass of the model.\n",
    "\n",
    "Model is saved during training.\n",
    "\n",
    "Geometries -> Spectra"
   ]
  },
  {
   "cell_type": "code",
   "execution_count": 4,
   "metadata": {},
   "outputs": [
    {
     "name": "stderr",
     "output_type": "stream",
     "text": [
      "Training Progress:   0%|          | 0/50 [00:00<?, ?it/s]"
     ]
    },
    {
     "name": "stderr",
     "output_type": "stream",
     "text": [
      "Training Progress: 100%|██████████| 50/50 [00:04<00:00, 12.49it/s, train_loss=0.008144, val_loss=0.024497]\n"
     ]
    }
   ],
   "source": [
    "device = torch.device('cuda' if torch.cuda.is_available() else 'cpu')\n",
    "\n",
    "model = ConvModel(8, 300)\n",
    "\n",
    "model = NANetwork(model, device=device)\n",
    "\n",
    "epochs = 50\n",
    "\n",
    "with tqdm(total=epochs, desc='Training Progress') as pbar:\n",
    "    model.train(epochs, train_loader, val_loader, progress_bar=pbar, save=True)\n",
    "\n",
    "\n",
    "# model.evaluate_geometry(test_loader)"
   ]
  },
  {
   "cell_type": "code",
   "execution_count": 5,
   "metadata": {},
   "outputs": [
    {
     "name": "stderr",
     "output_type": "stream",
     "text": [
      "Training Progress:   4%|▍         | 2/50 [00:00<00:02, 20.87it/s, train_loss=0.117915, val_loss=0.195312]"
     ]
    },
    {
     "name": "stderr",
     "output_type": "stream",
     "text": [
      "Training Progress: 100%|██████████| 50/50 [00:01<00:00, 30.78it/s, train_loss=0.010197, val_loss=0.023910]\n"
     ]
    }
   ],
   "source": [
    "device = torch.device('cuda' if torch.cuda.is_available() else 'cpu')\n",
    "\n",
    "model = LinModel(8, 300)\n",
    "\n",
    "model = NANetwork(model, device=device)\n",
    "\n",
    "epochs = 50\n",
    "\n",
    "with tqdm(total=epochs, desc='Training Progress') as pbar:\n",
    "    model.train(epochs, train_loader, val_loader, progress_bar=pbar, save=True)\n",
    "\n",
    "\n",
    "# model.evaluate_geometry(test_loader)"
   ]
  },
  {
   "cell_type": "markdown",
   "metadata": {},
   "source": [
    "## Load Model"
   ]
  },
  {
   "cell_type": "code",
   "execution_count": 6,
   "metadata": {},
   "outputs": [
    {
     "name": "stdout",
     "output_type": "stream",
     "text": [
      "Successfully loaded model from checkpoints/best_model.pt\n",
      "tensor([-1., -1., -1., -1., -1., -1., -1., -1.], device='cuda:0')\n"
     ]
    }
   ],
   "source": [
    "device = torch.device('cuda' if torch.cuda.is_available() else 'cpu')\n",
    "model = LinModel(8, 300)\n",
    "model = NANetwork(model, device=device)\n",
    "\n",
    "\n",
    "model.load('checkpoints/best_model.pt')\n",
    "print(model.geometry_lower_bound)"
   ]
  },
  {
   "cell_type": "markdown",
   "metadata": {},
   "source": [
    "## Normal Prediction\n",
    "\n",
    "Geometry -> Spectra"
   ]
  },
  {
   "cell_type": "code",
   "execution_count": 7,
   "metadata": {},
   "outputs": [
    {
     "name": "stdout",
     "output_type": "stream",
     "text": [
      "(1, 300)\n"
     ]
    }
   ],
   "source": [
    "spectra = model.predict_spectra(X_tensor[0].unsqueeze(0))\n",
    "print(spectra.shape)"
   ]
  },
  {
   "cell_type": "markdown",
   "metadata": {},
   "source": [
    "## NA Method\n",
    "\n",
    "Spectra -> Geometry"
   ]
  },
  {
   "cell_type": "code",
   "execution_count": 8,
   "metadata": {},
   "outputs": [
    {
     "name": "stdout",
     "output_type": "stream",
     "text": [
      "Using first layer extraction with 8 features\n"
     ]
    },
    {
     "name": "stderr",
     "output_type": "stream",
     "text": [
      "                                                                                           \r"
     ]
    },
    {
     "name": "stdout",
     "output_type": "stream",
     "text": [
      "(1, 8) (1, 300) (1,)\n"
     ]
    }
   ],
   "source": [
    "Xpred_top, Ypred_top, MSE_top = model.predict_geometry(y_tensor[0])\n",
    "print(Xpred_top.shape, Ypred_top.shape, MSE_top.shape)\n"
   ]
  },
  {
   "cell_type": "markdown",
   "metadata": {},
   "source": [
    "# Example 2\n",
    "\n",
    "### Define any pytorch model to use with NANetwork"
   ]
  },
  {
   "cell_type": "code",
   "execution_count": 9,
   "metadata": {},
   "outputs": [],
   "source": [
    "class SimpleModel(nn.Module):\n",
    "    def __init__(self, input_size=200, output_size=10, hidden_size=128):\n",
    "        super(SimpleModel, self).__init__()\n",
    "        \n",
    "        # Define the layers\n",
    "        self.layers = nn.Sequential(\n",
    "            # Input layer: 200 -> 128\n",
    "            nn.Linear(input_size, hidden_size),\n",
    "            nn.ReLU(),\n",
    "            nn.Dropout(0.2),\n",
    "            \n",
    "            # Hidden layer: 128 -> 64\n",
    "            nn.Linear(hidden_size, hidden_size // 2),\n",
    "            nn.ReLU(),\n",
    "            nn.Dropout(0.2),\n",
    "            \n",
    "            # Hidden layer: 64 -> 32\n",
    "            nn.Linear(hidden_size // 2, hidden_size // 4),\n",
    "            nn.ReLU(),\n",
    "            nn.Dropout(0.2),\n",
    "            \n",
    "            # Output layer: 32 -> 10\n",
    "            nn.Linear(hidden_size // 4, output_size)\n",
    "        )\n",
    "    \n",
    "    def forward(self, x):\n",
    "        return self.layers(x)"
   ]
  },
  {
   "cell_type": "markdown",
   "metadata": {},
   "source": [
    "### Create some simple synthetic training data"
   ]
  },
  {
   "cell_type": "code",
   "execution_count": 10,
   "metadata": {},
   "outputs": [
    {
     "name": "stdout",
     "output_type": "stream",
     "text": [
      "X shape: torch.Size([1000, 200])\n",
      "y shape: torch.Size([1000, 10])\n",
      "X range: [-2.295, 2.315]\n",
      "y range: [-1.052, 0.850]\n",
      "\n",
      "Dataset splits:\n",
      "Train: 700 samples\n",
      "Validation: 290 samples\n",
      "Test: 10 samples\n"
     ]
    }
   ],
   "source": [
    "# Set random seed for reproducibility\n",
    "torch.manual_seed(42)\n",
    "np.random.seed(42)\n",
    "\n",
    "# Generate synthetic training data\n",
    "n_samples = 1000\n",
    "n_features = 200\n",
    "n_outputs = 10\n",
    "\n",
    "# Create input features (X) - random values between -1 and 1\n",
    "X = torch.randn(n_samples, n_features) * 0.5  # Normal distribution with std=0.5\n",
    "\n",
    "# Create a simple relationship for outputs (Y)\n",
    "# This creates a non-linear relationship between inputs and outputs\n",
    "def generate_outputs(X):\n",
    "    # Create some non-linear transformations\n",
    "    Y = torch.zeros(n_samples, n_outputs)\n",
    "    \n",
    "    for i in range(n_outputs):\n",
    "        # Each output depends on different combinations of input features\n",
    "        feature_indices = torch.randperm(n_features)[:20]  # Use 20 random features per output\n",
    "        weights = torch.randn(20) * 0.1\n",
    "        \n",
    "        # Non-linear transformation\n",
    "        Y[:, i] = torch.sum(X[:, feature_indices] * weights, dim=1) + \\\n",
    "                  torch.sin(torch.sum(X[:, feature_indices], dim=1)) * 0.1 + \\\n",
    "                  torch.randn(n_samples) * 0.05  # Add some noise\n",
    "    \n",
    "    return Y\n",
    "\n",
    "# Generate outputs\n",
    "y = generate_outputs(X)\n",
    "\n",
    "# Convert to pandas DataFrames (optional, for easy viewing)\n",
    "X_df = pd.DataFrame(X.numpy())\n",
    "y_df = pd.DataFrame(y.numpy())\n",
    "\n",
    "print(f\"X shape: {X.shape}\")\n",
    "print(f\"y shape: {y.shape}\")\n",
    "print(f\"X range: [{X.min():.3f}, {X.max():.3f}]\")\n",
    "print(f\"y range: [{y.min():.3f}, {y.max():.3f}]\")\n",
    "\n",
    "# Create DataLoader\n",
    "dataset = TensorDataset(X, y)\n",
    "\n",
    "# Split into train/validation/test\n",
    "total_size = len(dataset)\n",
    "train_size = int(0.7 * total_size)\n",
    "val_size = int(0.29 * total_size)\n",
    "test_size = total_size - train_size - val_size\n",
    "\n",
    "train_dataset, val_dataset, test_dataset = torch.utils.data.random_split(\n",
    "    dataset, [train_size, val_size, test_size]\n",
    ")\n",
    "\n",
    "# Create dataloaders\n",
    "train_loader = DataLoader(train_dataset, batch_size=32, shuffle=True)\n",
    "val_loader = DataLoader(val_dataset, batch_size=32, shuffle=False)\n",
    "test_loader = DataLoader(test_dataset, batch_size=1, shuffle=False)\n",
    "\n",
    "print(f\"\\nDataset splits:\")\n",
    "print(f\"Train: {len(train_dataset)} samples\")\n",
    "print(f\"Validation: {len(val_dataset)} samples\")\n",
    "print(f\"Test: {len(test_dataset)} samples\")"
   ]
  },
  {
   "cell_type": "code",
   "execution_count": 11,
   "metadata": {},
   "outputs": [
    {
     "name": "stderr",
     "output_type": "stream",
     "text": [
      "Training Progress: 100%|██████████| 50/50 [00:02<00:00, 23.33it/s, train_loss=0.015782, val_loss=0.017491]\n"
     ]
    }
   ],
   "source": [
    "device = torch.device('cuda' if torch.cuda.is_available() else 'cpu')\n",
    "\n",
    "sample_X, sample_y = next(iter(train_loader))\n",
    "\n",
    "model_base = SimpleModel(sample_X.shape[1], sample_y.shape[1])\n",
    "\n",
    "model = NANetwork(model_base, device=device)\n",
    "\n",
    "epochs = 50\n",
    "\n",
    "with tqdm(total=epochs, desc='Training Progress') as pbar:\n",
    "    model.train(epochs, train_loader, val_loader, progress_bar=pbar, save=True)\n",
    "\n",
    "\n",
    "# model.evaluate_geometry(test_loader)"
   ]
  },
  {
   "cell_type": "markdown",
   "metadata": {},
   "source": [
    "### Results will be saved in val_results"
   ]
  },
  {
   "cell_type": "code",
   "execution_count": 12,
   "metadata": {},
   "outputs": [
    {
     "name": "stdout",
     "output_type": "stream",
     "text": [
      "The model is standard NA model, falling back to first layer extraction\n"
     ]
    },
    {
     "name": "stderr",
     "output_type": "stream",
     "text": [
      "Evaluating geometries: 100%|██████████| 10/10 [00:08<00:00,  1.17it/s]\n"
     ]
    },
    {
     "data": {
      "text/plain": [
       "('val_results/val_Ypred.csv', 'val_results/val_Ytruth.csv')"
      ]
     },
     "execution_count": 12,
     "metadata": {},
     "output_type": "execute_result"
    }
   ],
   "source": [
    "model.evaluate_geometry(test_loader)"
   ]
  },
  {
   "cell_type": "code",
   "execution_count": 14,
   "metadata": {},
   "outputs": [
    {
     "name": "stderr",
     "output_type": "stream",
     "text": [
      "                                                                                            \r"
     ]
    },
    {
     "name": "stdout",
     "output_type": "stream",
     "text": [
      "(1, 200) (1, 10) (1,)\n"
     ]
    }
   ],
   "source": [
    "Xpred_top, Ypred_top, MSE_top = model.predict_geometry(y[0])\n",
    "print(Xpred_top.shape, Ypred_top.shape, MSE_top.shape)"
   ]
  }
 ],
 "metadata": {
  "kernelspec": {
   "display_name": "geo",
   "language": "python",
   "name": "python3"
  },
  "language_info": {
   "codemirror_mode": {
    "name": "ipython",
    "version": 3
   },
   "file_extension": ".py",
   "mimetype": "text/x-python",
   "name": "python",
   "nbconvert_exporter": "python",
   "pygments_lexer": "ipython3",
   "version": "3.10.15"
  }
 },
 "nbformat": 4,
 "nbformat_minor": 2
}
