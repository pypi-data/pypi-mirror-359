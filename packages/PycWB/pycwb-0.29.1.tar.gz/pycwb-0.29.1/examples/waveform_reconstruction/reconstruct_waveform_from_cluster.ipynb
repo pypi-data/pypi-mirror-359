{
 "cells": [
  {
   "cell_type": "code",
   "execution_count": null,
   "id": "initial_id",
   "metadata": {
    "collapsed": true
   },
   "outputs": [],
   "source": [
    "import os\n",
    "\n",
    "import pycwb\n",
    "from pycwb.config import Config\n",
    "from pycwb.modules.logger import logger_init\n",
    "\n",
    "if not os.environ.get('HOME_WAT_FILTERS'):\n",
    "    pyburst_path = os.path.dirname(os.path.abspath(pycwb.__file__))\n",
    "    os.environ['HOME_WAT_FILTERS'] = f\"{os.path.abspath(pyburst_path)}/vendor\"\n",
    "\n",
    "logger_init()\n",
    "\n",
    "# replace with your own config file\n",
    "config = Config('./user_parameters_injection.yaml')"
   ]
  },
  {
   "cell_type": "code",
   "execution_count": null,
   "outputs": [],
   "source": [
    "from pycwb.types.network_cluster import Cluster\n",
    "import orjson\n",
    "from dacite import from_dict\n",
    "\n",
    "# replace with your own results\n",
    "cluster_json = './cluster_0_1.json'\n",
    "with open(cluster_json, 'r') as f:\n",
    "    cluster_dict = orjson.loads(f.read())\n",
    "\n",
    "cluster = from_dict(data_class=Cluster, data=cluster_dict)\n",
    "cluster"
   ],
   "metadata": {
    "collapsed": false
   },
   "id": "7e5f097f5a7c9cbf"
  },
  {
   "cell_type": "code",
   "execution_count": null,
   "outputs": [],
   "source": [
    "from pycwb.modules.reconstruction.getMRAwaveform import get_network_MRA_wave\n",
    "\n",
    "data = get_network_MRA_wave(config, cluster, config.rateANA, config.nIFO, 8192.0, 'signal', 0, True)"
   ],
   "metadata": {
    "collapsed": false
   },
   "id": "75a9fd5f16bc3c37"
  },
  {
   "cell_type": "code",
   "execution_count": null,
   "outputs": [],
   "source": [
    "%matplotlib inline\n",
    "import matplotlib.pyplot as plt\n",
    "# data = get_network_MRA_wave(config, cluster, config.rateANA, config.nIFO, 8192.0, 'signal', 0, True)\n",
    "\n",
    "data[0].plot()\n",
    "data[1].plot()\n",
    "plt.xlim(299.75, 300.2)\n",
    "plt.show()"
   ],
   "metadata": {
    "collapsed": false
   },
   "id": "8c336447da822511"
  },
  {
   "cell_type": "code",
   "execution_count": null,
   "outputs": [],
   "source": [],
   "metadata": {
    "collapsed": false
   },
   "id": "f59930e3cc4463e"
  }
 ],
 "metadata": {
  "kernelspec": {
   "display_name": "Python 3",
   "language": "python",
   "name": "python3"
  },
  "language_info": {
   "codemirror_mode": {
    "name": "ipython",
    "version": 2
   },
   "file_extension": ".py",
   "mimetype": "text/x-python",
   "name": "python",
   "nbconvert_exporter": "python",
   "pygments_lexer": "ipython2",
   "version": "2.7.6"
  }
 },
 "nbformat": 4,
 "nbformat_minor": 5
}
