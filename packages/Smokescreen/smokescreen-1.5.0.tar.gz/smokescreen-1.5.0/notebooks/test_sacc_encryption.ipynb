{
 "cells": [
  {
   "cell_type": "markdown",
   "metadata": {},
   "source": [
    "# SACC Encryption\n",
    "\n",
    "This notebook tests methods to implement SACC encryption for the unconcealed data-vectors"
   ]
  },
  {
   "cell_type": "code",
   "execution_count": 11,
   "metadata": {},
   "outputs": [
    {
     "name": "stdout",
     "output_type": "stream",
     "text": [
      "The autoreload extension is already loaded. To reload it, use:\n",
      "  %reload_ext autoreload\n"
     ]
    }
   ],
   "source": [
    "%matplotlib inline\n",
    "%load_ext autoreload\n",
    "%autoreload 2\n",
    "\n",
    "import os\n",
    "import sacc\n",
    "from cryptography.fernet import Fernet"
   ]
  },
  {
   "cell_type": "code",
   "execution_count": 12,
   "metadata": {},
   "outputs": [],
   "source": [
    "# example sacc to encrypt\n",
    "path_to_sacc = \"../examples/cosmic_shear/cosmicshear_sacc.fits\""
   ]
  },
  {
   "cell_type": "code",
   "execution_count": 13,
   "metadata": {},
   "outputs": [
    {
     "data": {
      "text/plain": [
       "'cosmicshear_sacc.fits'"
      ]
     },
     "execution_count": 13,
     "metadata": {},
     "output_type": "execute_result"
    }
   ],
   "source": [
    "os.path.basename(path_to_sacc)"
   ]
  },
  {
   "cell_type": "code",
   "execution_count": 3,
   "metadata": {},
   "outputs": [],
   "source": [
    "# Generate a key and save it securely\n",
    "key = Fernet.generate_key()\n",
    "cipher_suite = Fernet(key)"
   ]
  },
  {
   "cell_type": "code",
   "execution_count": 4,
   "metadata": {},
   "outputs": [],
   "source": [
    "# Read and encrypt the FITS file data\n",
    "with open(path_to_sacc, 'rb') as file:\n",
    "    file_data = file.read()\n",
    "encrypted_data = cipher_suite.encrypt(file_data)"
   ]
  },
  {
   "cell_type": "code",
   "execution_count": 5,
   "metadata": {},
   "outputs": [],
   "source": [
    "# Save the encrypted data to a new file\n",
    "with open('encrypted_file.fits', 'wb') as file:\n",
    "    file.write(encrypted_data)"
   ]
  },
  {
   "cell_type": "code",
   "execution_count": 6,
   "metadata": {},
   "outputs": [],
   "source": [
    "# saves the key to a file\n",
    "with open('key.key', 'wb') as file:\n",
    "    file.write(key)"
   ]
  },
  {
   "cell_type": "code",
   "execution_count": 7,
   "metadata": {},
   "outputs": [],
   "source": [
    "# reads the key from the file\n",
    "with open('key.key', 'rb') as file:\n",
    "    key_n = file.read()"
   ]
  },
  {
   "cell_type": "code",
   "execution_count": 8,
   "metadata": {},
   "outputs": [],
   "source": [
    "# decrypting the file and testing if it got corrupted or not:\n",
    "# Load the key and initialize the cipher\n",
    "cipher_suite = Fernet(key_n)\n",
    "\n",
    "# Read the encrypted file and decrypt it\n",
    "with open('encrypted_file.fits', 'rb') as file:\n",
    "    encrypted_data = file.read()\n",
    "decrypted_data = cipher_suite.decrypt(encrypted_data)\n",
    "\n",
    "# Save the decrypted data back to a FITS file\n",
    "with open('decrypted_file.fits', 'wb') as file:\n",
    "    file.write(decrypted_data)"
   ]
  },
  {
   "cell_type": "code",
   "execution_count": 9,
   "metadata": {},
   "outputs": [],
   "source": [
    "sacc_data = sacc.Sacc.load_fits('decrypted_file.fits')"
   ]
  },
  {
   "cell_type": "code",
   "execution_count": 10,
   "metadata": {},
   "outputs": [
    {
     "data": {
      "text/plain": [
       "[DataPoint(data_type='galaxy_shear_cl_ee', tracers=('trc0', 'trc0'), value=8.6866492574489e-09, ell=10.0),\n",
       " DataPoint(data_type='galaxy_shear_cl_ee', tracers=('trc0', 'trc0'), value=4.836606608590609e-09, ell=21.544346900318832),\n",
       " DataPoint(data_type='galaxy_shear_cl_ee', tracers=('trc0', 'trc0'), value=2.1490257693962797e-09, ell=46.41588833612777),\n",
       " DataPoint(data_type='galaxy_shear_cl_ee', tracers=('trc0', 'trc0'), value=8.386897275402506e-10, ell=100.0),\n",
       " DataPoint(data_type='galaxy_shear_cl_ee', tracers=('trc0', 'trc0'), value=3.2965347138859646e-10, ell=215.44346900318823),\n",
       " DataPoint(data_type='galaxy_shear_cl_ee', tracers=('trc0', 'trc0'), value=1.3593795428993515e-10, ell=464.15888336127773),\n",
       " DataPoint(data_type='galaxy_shear_cl_ee', tracers=('trc0', 'trc0'), value=4.999821925106154e-11, ell=1000.0),\n",
       " DataPoint(data_type='galaxy_shear_cl_ee', tracers=('trc0', 'trc0'), value=1.3974269176631673e-11, ell=2154.4346900318824),\n",
       " DataPoint(data_type='galaxy_shear_cl_ee', tracers=('trc0', 'trc0'), value=3.073648286566804e-12, ell=4641.588833612777),\n",
       " DataPoint(data_type='galaxy_shear_cl_ee', tracers=('trc0', 'trc0'), value=6.006424425181762e-13, ell=10000.0),\n",
       " DataPoint(data_type='galaxy_shear_cl_ee', tracers=('trc0', 'trc1'), value=1.4523428163414885e-08, ell=10.0),\n",
       " DataPoint(data_type='galaxy_shear_cl_ee', tracers=('trc0', 'trc1'), value=9.00288602414059e-09, ell=21.544346900318832),\n",
       " DataPoint(data_type='galaxy_shear_cl_ee', tracers=('trc0', 'trc1'), value=4.26223991871196e-09, ell=46.41588833612777),\n",
       " DataPoint(data_type='galaxy_shear_cl_ee', tracers=('trc0', 'trc1'), value=1.6372838571366568e-09, ell=100.0),\n",
       " DataPoint(data_type='galaxy_shear_cl_ee', tracers=('trc0', 'trc1'), value=6.328970334514044e-10, ell=215.44346900318823),\n",
       " DataPoint(data_type='galaxy_shear_cl_ee', tracers=('trc0', 'trc1'), value=2.635890249354521e-10, ell=464.15888336127773),\n",
       " DataPoint(data_type='galaxy_shear_cl_ee', tracers=('trc0', 'trc1'), value=1.0096576342716994e-10, ell=1000.0),\n",
       " DataPoint(data_type='galaxy_shear_cl_ee', tracers=('trc0', 'trc1'), value=3.14823356346015e-11, ell=2154.4346900318824),\n",
       " DataPoint(data_type='galaxy_shear_cl_ee', tracers=('trc0', 'trc1'), value=7.411937270580553e-12, ell=4641.588833612777),\n",
       " DataPoint(data_type='galaxy_shear_cl_ee', tracers=('trc0', 'trc1'), value=1.469851752766161e-12, ell=10000.0),\n",
       " DataPoint(data_type='galaxy_shear_cl_ee', tracers=('trc1', 'trc1'), value=2.9489155274650288e-08, ell=10.0),\n",
       " DataPoint(data_type='galaxy_shear_cl_ee', tracers=('trc1', 'trc1'), value=2.0952028724901676e-08, ell=21.544346900318832),\n",
       " DataPoint(data_type='galaxy_shear_cl_ee', tracers=('trc1', 'trc1'), value=1.0942816340474434e-08, ell=46.41588833612777),\n",
       " DataPoint(data_type='galaxy_shear_cl_ee', tracers=('trc1', 'trc1'), value=4.475452777043616e-09, ell=100.0),\n",
       " DataPoint(data_type='galaxy_shear_cl_ee', tracers=('trc1', 'trc1'), value=1.67488388621365e-09, ell=215.44346900318823),\n",
       " DataPoint(data_type='galaxy_shear_cl_ee', tracers=('trc1', 'trc1'), value=6.674030088815673e-10, ell=464.15888336127773),\n",
       " DataPoint(data_type='galaxy_shear_cl_ee', tracers=('trc1', 'trc1'), value=2.6648140117518074e-10, ell=1000.0),\n",
       " DataPoint(data_type='galaxy_shear_cl_ee', tracers=('trc1', 'trc1'), value=9.295066159045984e-11, ell=2154.4346900318824),\n",
       " DataPoint(data_type='galaxy_shear_cl_ee', tracers=('trc1', 'trc1'), value=2.4358237961645294e-11, ell=4641.588833612777),\n",
       " DataPoint(data_type='galaxy_shear_cl_ee', tracers=('trc1', 'trc1'), value=5.162570916060193e-12, ell=10000.0)]"
      ]
     },
     "execution_count": 10,
     "metadata": {},
     "output_type": "execute_result"
    }
   ],
   "source": [
    "sacc_data.data"
   ]
  },
  {
   "cell_type": "code",
   "execution_count": null,
   "metadata": {},
   "outputs": [],
   "source": []
  }
 ],
 "metadata": {
  "kernelspec": {
   "display_name": "desc_smokescreen",
   "language": "python",
   "name": "python3"
  },
  "language_info": {
   "codemirror_mode": {
    "name": "ipython",
    "version": 3
   },
   "file_extension": ".py",
   "mimetype": "text/x-python",
   "name": "python",
   "nbconvert_exporter": "python",
   "pygments_lexer": "ipython3",
   "version": "3.12.4"
  }
 },
 "nbformat": 4,
 "nbformat_minor": 2
}
