{
 "cells": [
  {
   "cell_type": "markdown",
   "id": "cc2ce781",
   "metadata": {},
   "source": [
    "# Use proteomics data from PRIDE Data (adipose tissue)\n",
    "This notebook shows how `acore` can be used to download data from\n",
    "the Proteomics Identifications Database - PRIDE -\n",
    "([ebi.ac.uk/pride/](https://www.ebi.ac.uk/pride/))\n",
    "and parse the data to be used in the analytics core.\n",
    "and quickly formated to start analyzing them with the functionality in the analytics core.\n",
    "\n",
    "> based on CKG recipe: [Download PRIDE Data](https://ckg.readthedocs.io/en/latest/notebooks/recipes/Download_PRIDE_data.html)"
   ]
  },
  {
   "cell_type": "code",
   "execution_count": null,
   "id": "7dda7a80",
   "metadata": {
    "tags": [
     "hide-output"
    ]
   },
   "outputs": [],
   "source": [
    "%pip install acore"
   ]
  },
  {
   "cell_type": "code",
   "execution_count": null,
   "id": "127af57b",
   "metadata": {
    "tags": [
     "hide-input"
    ]
   },
   "outputs": [],
   "source": [
    "from pathlib import Path\n",
    "\n",
    "import numpy as np\n",
    "import pandas as pd\n",
    "\n",
    "import acore.io"
   ]
  },
  {
   "cell_type": "markdown",
   "id": "d4b028dd",
   "metadata": {},
   "source": [
    "## Parameters\n",
    "Specify the PRIDE identifier and file to be downloaded\n",
    "- and where to store intermediate files."
   ]
  },
  {
   "cell_type": "code",
   "execution_count": null,
   "id": "77962253",
   "metadata": {
    "tags": [
     "parameters"
    ]
   },
   "outputs": [],
   "source": [
    "pxd_id: str = \"PXD008541\"  # PRIDE identifier\n",
    "fname = \"SearchEngineResults_secretome.zip.rar\"  # file to download\n",
    "folder_downloads = Path(\"downloaded\")  # folder to download the file\n",
    "folder_unzipped = Path(\"unzipped\")  # folder to uncompress the file"
   ]
  },
  {
   "cell_type": "markdown",
   "id": "4e4f024f",
   "metadata": {},
   "source": [
    "## Specify the PRIDE identifier and file to be downloaded\n",
    "\n",
    "We can use functionality in `acore` to directly download data files from EBI's\n",
    "PRIDE database [ebi.ac.uk/pride/](https://www.ebi.ac.uk/pride/).\n",
    "For that you just need to specify the\n",
    "PRIDE identifier for the project (`PXD_...`) and the name of the file to download.\n",
    "In this case, the project identifier is `PXD008541` and the file we will use\n",
    "is `SearchEngineResults_secretome.zip.rar`,\n",
    "a RAR compressed file with the output files from MaxQuant."
   ]
  },
  {
   "cell_type": "code",
   "execution_count": null,
   "id": "ac33faf0",
   "metadata": {},
   "outputs": [],
   "source": [
    "ret = acore.io.download_PRIDE_data(pxd_id=pxd_id, file_name=fname, to=folder_downloads)\n",
    "ret[\"acore_downloaded_file\"] = folder_downloads / fname\n",
    "ret"
   ]
  },
  {
   "cell_type": "markdown",
   "id": "9e9ceef3",
   "metadata": {},
   "source": [
    "## Decompress rar File\n",
    "Pride results are compressed by the researcher themself, so many different file\n",
    "formats can be found. Here it was stored as a RAR archive. You will need to have\n",
    "a system installation of a rar archive tool to decompress the file, find it\n",
    "via [google](https://www.google.com/search?q=unrar+tool&oq=unrar+tool)."
   ]
  },
  {
   "cell_type": "code",
   "execution_count": null,
   "id": "ce3b2ae4",
   "metadata": {},
   "outputs": [],
   "source": [
    "# ! you need a system installation of a rar archive tool\n",
    "acore.io.unrar(filepath=ret[\"acore_downloaded_file\"], to=folder_unzipped)"
   ]
  },
  {
   "cell_type": "markdown",
   "id": "eb300eaa",
   "metadata": {},
   "source": [
    "The list of files within the compressed folder"
   ]
  },
  {
   "cell_type": "code",
   "execution_count": null,
   "id": "e5638a5f",
   "metadata": {},
   "outputs": [],
   "source": [
    "list(folder_unzipped.iterdir())"
   ]
  },
  {
   "cell_type": "markdown",
   "id": "0c974ed2",
   "metadata": {},
   "source": [
    "## Read and clean the data\n",
    "We use the proteinGroups file that contains the proteomics data processed\n",
    "using MaxQuant software."
   ]
  },
  {
   "cell_type": "code",
   "execution_count": null,
   "id": "6d7ac8fd",
   "metadata": {},
   "outputs": [],
   "source": [
    "fpath_proteinGroups = folder_unzipped / \"proteinGroups.txt\"\n",
    "index_cols = [\n",
    "    \"Majority protein IDs\",\n",
    "]\n",
    "data = pd.read_csv(fpath_proteinGroups, index_col=index_cols, sep=\"\\t\")\n",
    "data.sample(5)"
   ]
  },
  {
   "cell_type": "markdown",
   "id": "ab8bc56e",
   "metadata": {},
   "source": [
    "We mark the protein group by the first protein in the group, ensuring that the protein\n",
    "group is still unique."
   ]
  },
  {
   "cell_type": "code",
   "execution_count": null,
   "id": "218dbb2d",
   "metadata": {},
   "outputs": [],
   "source": [
    "new_index = data.index.str.split(\";\").str[0].rename(\"first_prot\")\n",
    "assert new_index.is_unique\n",
    "data = data.reset_index()\n",
    "data.index = new_index\n",
    "data"
   ]
  },
  {
   "cell_type": "markdown",
   "id": "e32c8f12",
   "metadata": {},
   "source": [
    "Get ride of potential contaminants, reverse (decoys) and identified only by a\n",
    "modification site\n",
    "reference:\n",
    "- [cox-labs.github.io/coxdocs/output_tables.html#protein-groups](https://cox-labs.github.io/coxdocs/output_tables.html#protein-groups)"
   ]
  },
  {
   "cell_type": "code",
   "execution_count": null,
   "id": "b3a370ce",
   "metadata": {},
   "outputs": [],
   "source": [
    "filters = [\"Reverse\", \"Only identified by site\", \"Contaminant\"]\n",
    "data[filters].describe()"
   ]
  },
  {
   "cell_type": "code",
   "execution_count": null,
   "id": "294269cd",
   "metadata": {},
   "outputs": [],
   "source": [
    "mask = data[filters].isna().all(axis=1)\n",
    "data = data.loc[mask]\n",
    "data"
   ]
  },
  {
   "cell_type": "markdown",
   "id": "65d59458",
   "metadata": {},
   "source": [
    "Then we can filter the columns that contain the string `LFQ intensity`. The sample names\n",
    "are part of the column names (here: `LFQ intensity {sample_name}`)"
   ]
  },
  {
   "cell_type": "code",
   "execution_count": null,
   "id": "84783843",
   "metadata": {
    "lines_to_next_cell": 2
   },
   "outputs": [],
   "source": [
    "stub_intensity = \"LFQ intensity\"\n",
    "pgs = data.filter(like=stub_intensity)\n",
    "pgs"
   ]
  },
  {
   "cell_type": "markdown",
   "id": "2eaa333a",
   "metadata": {},
   "source": [
    "The associated metadata for protein groups we will keep for reference:"
   ]
  },
  {
   "cell_type": "code",
   "execution_count": null,
   "id": "76b182be",
   "metadata": {},
   "outputs": [],
   "source": [
    "meta_pgs = data.drop(pgs.columns, axis=1)\n",
    "meta_pgs"
   ]
  },
  {
   "cell_type": "markdown",
   "id": "80f90943",
   "metadata": {},
   "source": [
    "No we can get rid of the common part `LFQ intensity` and keep only the sample names"
   ]
  },
  {
   "cell_type": "code",
   "execution_count": null,
   "id": "b4d871e2",
   "metadata": {},
   "outputs": [],
   "source": [
    "pgs.columns = pgs.columns.str.replace(stub_intensity, \"\").str.strip()\n",
    "pgs.columns.name = \"sample\"\n",
    "pgs"
   ]
  },
  {
   "cell_type": "markdown",
   "id": "17034feb",
   "metadata": {},
   "source": [
    "## Parse metadata from column names\n",
    "The group could be defined in a sample metadata file, but here we just parse it from the\n",
    "sample names by omitting the numbers at the end of the sample name."
   ]
  },
  {
   "cell_type": "code",
   "execution_count": null,
   "id": "1584ba7f",
   "metadata": {},
   "outputs": [],
   "source": [
    "pgs.columns.str.replace(r\"\\d\", \"\", regex=True)"
   ]
  },
  {
   "cell_type": "markdown",
   "id": "e547e7ed",
   "metadata": {},
   "source": [
    "We add to the information as a MultiIndex of group and sample name to the columns\n",
    "(sample metadata)."
   ]
  },
  {
   "cell_type": "code",
   "execution_count": null,
   "id": "a29e6a21",
   "metadata": {},
   "outputs": [],
   "source": [
    "pgs.columns = pd.MultiIndex.from_arrays(\n",
    "    [pgs.columns.str.replace(r\"\\d\", \"\", regex=True), pgs.columns],\n",
    "    names=[\"group\", pgs.columns.name],\n",
    ")\n",
    "pgs"
   ]
  },
  {
   "cell_type": "markdown",
   "id": "c0936c50",
   "metadata": {},
   "source": [
    "## Long format and log2 transformation\n",
    "From here we can stack both levels, name the values intensity. If we reset the index we\n",
    "get the original CKG format."
   ]
  },
  {
   "cell_type": "code",
   "execution_count": null,
   "id": "1e3ee580",
   "metadata": {},
   "outputs": [],
   "source": [
    "pgs = pgs.stack([0, 1]).to_frame(\"intensity\")\n",
    "pgs"
   ]
  },
  {
   "cell_type": "markdown",
   "id": "4314c673",
   "metadata": {},
   "source": [
    "First we  `log2` transform the data. We first set the zeros to `np.nan` to avoid\n",
    "`-inf` values."
   ]
  },
  {
   "cell_type": "code",
   "execution_count": null,
   "id": "2aeb04cc",
   "metadata": {
    "lines_to_next_cell": 2
   },
   "outputs": [],
   "source": [
    "pgs = np.log2(pgs.replace(0.0, np.nan).dropna())\n",
    "pgs"
   ]
  },
  {
   "cell_type": "markdown",
   "id": "0b19e552",
   "metadata": {},
   "source": [
    "Data to be saved in the CKG format: Reset the index."
   ]
  },
  {
   "cell_type": "code",
   "execution_count": null,
   "id": "db063a4d",
   "metadata": {},
   "outputs": [],
   "source": [
    "pgs.reset_index()"
   ]
  },
  {
   "cell_type": "markdown",
   "id": "b4ed1bbc",
   "metadata": {},
   "source": [
    "Done."
   ]
  }
 ],
 "metadata": {
  "kernelspec": {
   "display_name": "Python 3",
   "language": "python",
   "name": "python3"
  },
  "language_info": {
   "name": "python",
   "version": "3.11.10"
  },
  "mystnb": {
   "execution_timeout": 360
  }
 },
 "nbformat": 4,
 "nbformat_minor": 5
}
