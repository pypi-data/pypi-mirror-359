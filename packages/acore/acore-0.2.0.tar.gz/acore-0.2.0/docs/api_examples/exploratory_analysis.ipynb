{
 "cells": [
  {
   "cell_type": "markdown",
   "id": "d3422e18",
   "metadata": {},
   "source": [
    "# Exploratory Analysis"
   ]
  },
  {
   "cell_type": "code",
   "execution_count": null,
   "id": "2958fb55",
   "metadata": {
    "tags": [
     "hide-output"
    ]
   },
   "outputs": [],
   "source": [
    "%pip install acore"
   ]
  },
  {
   "cell_type": "code",
   "execution_count": null,
   "id": "f1286bf0",
   "metadata": {},
   "outputs": [],
   "source": [
    "import pandas as pd\n",
    "\n",
    "import acore.exploratory_analysis as ea\n",
    "\n",
    "data = pd.DataFrame(\n",
    "    {\n",
    "        \"group\": [\"A\", \"A\", \"B\", \"B\"],\n",
    "        \"protein1\": [1.4, 2.2, 5.3, 4.2],\n",
    "        \"protein2\": [5.6, 0.3, 2.1, 8.1],\n",
    "        \"protein3\": [9.1, 10.01, 11.2, 12.9],\n",
    "    }\n",
    ")"
   ]
  },
  {
   "cell_type": "markdown",
   "id": "0b4becd0",
   "metadata": {},
   "source": [
    "Show first two principal components of the data."
   ]
  },
  {
   "cell_type": "code",
   "execution_count": null,
   "id": "7126622c",
   "metadata": {},
   "outputs": [],
   "source": [
    "result_dfs, annotation = ea.run_pca(\n",
    "    data, drop_cols=[], annotation_cols=[], group=\"group\", components=2, dropna=True\n",
    ")"
   ]
  },
  {
   "cell_type": "markdown",
   "id": "d600cf39",
   "metadata": {},
   "source": [
    "Show what was computed:"
   ]
  },
  {
   "cell_type": "code",
   "execution_count": null,
   "id": "5a2fb115",
   "metadata": {},
   "outputs": [],
   "source": [
    "result_dfs[0]"
   ]
  },
  {
   "cell_type": "code",
   "execution_count": null,
   "id": "7a58209d",
   "metadata": {},
   "outputs": [],
   "source": [
    "result_dfs[1]"
   ]
  },
  {
   "cell_type": "code",
   "execution_count": null,
   "id": "bf051ba7",
   "metadata": {},
   "outputs": [],
   "source": [
    "result_dfs[2]"
   ]
  },
  {
   "cell_type": "code",
   "execution_count": null,
   "id": "057b8691",
   "metadata": {},
   "outputs": [],
   "source": [
    "annotation"
   ]
  },
  {
   "cell_type": "markdown",
   "id": "6e6972b5",
   "metadata": {},
   "source": [
    "Visualize UMAP low-dimensional embedding of the data."
   ]
  },
  {
   "cell_type": "code",
   "execution_count": null,
   "id": "967755a3",
   "metadata": {},
   "outputs": [],
   "source": [
    "result, annotation = ea.run_umap(\n",
    "    data,\n",
    "    drop_cols=[\"sample\", \"subject\"],\n",
    "    group=\"group\",\n",
    "    n_neighbors=10,\n",
    "    min_dist=0.3,\n",
    "    metric=\"cosine\",\n",
    "    dropna=True,\n",
    ")"
   ]
  },
  {
   "cell_type": "code",
   "execution_count": null,
   "id": "c1f79b1e",
   "metadata": {},
   "outputs": [],
   "source": [
    "result[\"umap\"]"
   ]
  },
  {
   "cell_type": "code",
   "execution_count": null,
   "id": "e45a3c73",
   "metadata": {},
   "outputs": [],
   "source": [
    "annotation"
   ]
  },
  {
   "cell_type": "markdown",
   "id": "02421a9c",
   "metadata": {},
   "source": [
    "Make sure to check the parameter annotations in the API docs."
   ]
  }
 ],
 "metadata": {
  "jupytext": {
   "cell_metadata_filter": "-all",
   "main_language": "python",
   "notebook_metadata_filter": "-all"
  }
 },
 "nbformat": 4,
 "nbformat_minor": 5
}
