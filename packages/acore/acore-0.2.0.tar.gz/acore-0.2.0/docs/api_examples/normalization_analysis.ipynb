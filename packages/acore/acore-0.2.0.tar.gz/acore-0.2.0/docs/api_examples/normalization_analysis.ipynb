{
 "cells": [
  {
   "cell_type": "markdown",
   "id": "e31da646",
   "metadata": {},
   "source": [
    "# Normalization of samples in a dataset example\n",
    "\n",
    "We will explore an Alzheimer dataset where the data was collected in four different sites.\n",
    "We will see that the sites have a an effect where the data is in principal component space\n",
    "and in UMAP space. We will then normalize the data and see how the effect on these plots.\n",
    "\n",
    "Refers to the `acore.normalization` module."
   ]
  },
  {
   "cell_type": "code",
   "execution_count": null,
   "id": "55c829ba",
   "metadata": {
    "execution": {
     "iopub.execute_input": "2024-10-15T08:04:34.405971Z",
     "iopub.status.busy": "2024-10-15T08:04:34.405799Z",
     "iopub.status.idle": "2024-10-15T08:04:37.071374Z",
     "shell.execute_reply": "2024-10-15T08:04:37.070856Z"
    },
    "tags": [
     "hide-output"
    ]
   },
   "outputs": [],
   "source": [
    "%pip install acore"
   ]
  },
  {
   "cell_type": "code",
   "execution_count": null,
   "id": "3df5a8aa",
   "metadata": {
    "execution": {
     "iopub.execute_input": "2024-10-15T08:04:37.102776Z",
     "iopub.status.busy": "2024-10-15T08:04:37.102615Z",
     "iopub.status.idle": "2024-10-15T08:04:40.819337Z",
     "shell.execute_reply": "2024-10-15T08:04:40.819040Z"
    },
    "tags": [
     "hide-input"
    ]
   },
   "outputs": [],
   "source": [
    "from typing import Optional\n",
    "\n",
    "import matplotlib.pyplot as plt\n",
    "import numpy as np\n",
    "import pandas as pd\n",
    "import sklearn\n",
    "import sklearn.impute\n",
    "import sklearn.preprocessing\n",
    "import vuecore.decomposition\n",
    "\n",
    "import acore.decomposition\n",
    "import acore.normalization\n",
    "import acore.sklearn\n",
    "\n",
    "\n",
    "def plot_umap(X_scaled, y, meta_column, random_state=42) -> plt.Axes:\n",
    "    \"\"\"Fit and plot UMAP embedding with two components with colors defined by meta_column.\"\"\"\n",
    "    embedding = acore.decomposition.umap.run_umap(\n",
    "        X_scaled, y, random_state=random_state\n",
    "    )\n",
    "    ax = embedding.plot.scatter(\"UMAP 1\", \"UMAP 2\", c=meta_column, cmap=\"Paired\")\n",
    "    return ax\n",
    "\n",
    "\n",
    "def standard_normalize(X: pd.DataFrame) -> pd.DataFrame:\n",
    "    \"\"\"Standard normalize data and keep indices of DataFrame.\"\"\"\n",
    "    X_scaled = (\n",
    "        sklearn.preprocessing.StandardScaler()\n",
    "        .set_output(transform=\"pandas\")\n",
    "        .fit_transform(X)\n",
    "    )\n",
    "    return X_scaled\n",
    "\n",
    "\n",
    "def median_impute(X: pd.DataFrame) -> pd.DataFrame:\n",
    "    X_imputed = (\n",
    "        sklearn.impute.SimpleImputer(strategy=\"median\")\n",
    "        .set_output(transform=\"pandas\")\n",
    "        .fit_transform(X)\n",
    "    )\n",
    "    return X_imputed\n",
    "\n",
    "\n",
    "def run_and_plot_pca(\n",
    "    X_scaled,\n",
    "    y,\n",
    "    meta_column: Optional[str] = None,\n",
    "    n_components: int = 4,\n",
    ") -> tuple[pd.DataFrame, plt.Figure]:\n",
    "    PCs, _ = acore.decomposition.pca.run_pca(X_scaled, n_components=n_components)\n",
    "    PCs.columns = [s.replace(\"principal component\", \"PC\") for s in PCs.columns]\n",
    "    fig = vuecore.decomposition.pca_grid(\n",
    "        PCs=PCs, meta_column=y, n_components=n_components, meta_col_name=meta_column\n",
    "    )\n",
    "    return PCs, fig"
   ]
  },
  {
   "cell_type": "markdown",
   "id": "f619c85c",
   "metadata": {},
   "source": [
    "\n",
    "## Set some parameters"
   ]
  },
  {
   "cell_type": "code",
   "execution_count": 3,
   "id": "73c12cff",
   "metadata": {
    "execution": {
     "iopub.execute_input": "2024-10-15T08:04:40.840885Z",
     "iopub.status.busy": "2024-10-15T08:04:40.840616Z",
     "iopub.status.idle": "2024-10-15T08:04:40.842862Z",
     "shell.execute_reply": "2024-10-15T08:04:40.842666Z"
    },
    "tags": [
     "parameters"
    ]
   },
   "outputs": [],
   "source": [
    "fname_metadata: str = (\n",
    "    \"https://raw.githubusercontent.com/RasmussenLab/\"\n",
    "    \"njab/HEAD/docs/tutorial/data/alzheimer/meta.csv\"  # clincial data\n",
    ")\n",
    "fname_omics: str = (\n",
    "    \"https://raw.githubusercontent.com/RasmussenLab/\"\n",
    "    \"njab/HEAD/docs/tutorial/data/alzheimer/proteome.csv\"  # omics data\n",
    ")\n",
    "METACOL: str = \"_collection site\"  # target column in fname_metadata dataset (binary)\n",
    "METACOL_LABEL: Optional[str] = \"site\"  # optional: rename target variable\n",
    "n_features_max: int = 5\n",
    "freq_cutoff: float = 0.5  # Omics cutoff for sample completeness\n",
    "VAL_IDS: str = \"\"  #\n",
    "VAL_IDS_query: str = \"\"\n",
    "weights: bool = True\n",
    "FOLDER = \"alzheimer\"\n",
    "model_name = \"all\""
   ]
  },
  {
   "cell_type": "markdown",
   "id": "500c7c2a",
   "metadata": {},
   "source": [
    "## Setup"
   ]
  },
  {
   "cell_type": "markdown",
   "id": "27226512",
   "metadata": {},
   "source": [
    "### Load proteomics (protein groups) data"
   ]
  },
  {
   "cell_type": "code",
   "execution_count": 4,
   "id": "f58408a4",
   "metadata": {
    "execution": {
     "iopub.execute_input": "2024-10-15T08:04:40.861905Z",
     "iopub.status.busy": "2024-10-15T08:04:40.861687Z",
     "iopub.status.idle": "2024-10-15T08:04:41.753434Z",
     "shell.execute_reply": "2024-10-15T08:04:41.753003Z"
    }
   },
   "outputs": [],
   "source": [
    "if METACOL_LABEL is None:\n",
    "    METACOL_LABEL = METACOL\n",
    "metadata = (\n",
    "    pd.read_csv(fname_metadata, usecols=[\"Sample ID\", METACOL], index_col=0)\n",
    "    .convert_dtypes()\n",
    "    .rename(columns={METACOL: METACOL_LABEL})\n",
    ")\n",
    "omics = pd.read_csv(fname_omics, index_col=0)"
   ]
  },
  {
   "cell_type": "markdown",
   "id": "abfe1216",
   "metadata": {},
   "source": [
    "Data shapes"
   ]
  },
  {
   "cell_type": "code",
   "execution_count": null,
   "id": "46a0da75",
   "metadata": {
    "execution": {
     "iopub.execute_input": "2024-10-15T08:04:41.801341Z",
     "iopub.status.busy": "2024-10-15T08:04:41.801189Z",
     "iopub.status.idle": "2024-10-15T08:04:41.804608Z",
     "shell.execute_reply": "2024-10-15T08:04:41.804364Z"
    }
   },
   "outputs": [],
   "source": [
    "omics.shape, metadata.shape"
   ]
  },
  {
   "cell_type": "markdown",
   "id": "8b878346",
   "metadata": {},
   "source": [
    "See how common omics features are and remove feature below choosen frequency cutoff"
   ]
  },
  {
   "cell_type": "code",
   "execution_count": null,
   "id": "3f889ca6",
   "metadata": {
    "execution": {
     "iopub.execute_input": "2024-10-15T08:04:41.848755Z",
     "iopub.status.busy": "2024-10-15T08:04:41.848552Z",
     "iopub.status.idle": "2024-10-15T08:04:42.083439Z",
     "shell.execute_reply": "2024-10-15T08:04:42.082957Z"
    }
   },
   "outputs": [],
   "source": [
    "ax = omics.notna().sum().sort_values().plot(rot=90)"
   ]
  },
  {
   "cell_type": "code",
   "execution_count": null,
   "id": "1fd70efb",
   "metadata": {
    "execution": {
     "iopub.execute_input": "2024-10-15T08:04:42.105945Z",
     "iopub.status.busy": "2024-10-15T08:04:42.105522Z",
     "iopub.status.idle": "2024-10-15T08:04:42.261211Z",
     "shell.execute_reply": "2024-10-15T08:04:42.260956Z"
    },
    "tags": [
     "hide-input"
    ]
   },
   "outputs": [],
   "source": [
    "M_before = omics.shape[1]\n",
    "omics = omics.dropna(thresh=int(len(omics) * freq_cutoff), axis=1)\n",
    "M_after = omics.shape[1]\n",
    "msg = (\n",
    "    f\"Removed {M_before-M_after} features with more \"\n",
    "    f\"than {freq_cutoff*100}% missing values.\"\n",
    "    f\"\\nRemaining features: {M_after} (of {M_before})\"\n",
    ")\n",
    "print(msg)\n",
    "# keep a map of all proteins in protein group, but only display first protein\n",
    "# proteins are unique to protein groups\n",
    "pg_map = {k: k.split(\";\")[0] for k in omics.columns}\n",
    "omics = omics.rename(columns=pg_map)\n",
    "# log2 transform raw intensity data:\n",
    "omics = np.log2(omics + 1)\n",
    "ax = (\n",
    "    omics.notna()\n",
    "    .sum()\n",
    "    .sort_values()\n",
    "    .plot(\n",
    "        rot=90,\n",
    "        ylabel=\"Number of samples\",\n",
    "        xlabel=\"Proteins (ranked by missing values)\",\n",
    "    )\n",
    ")\n",
    "omics"
   ]
  },
  {
   "cell_type": "markdown",
   "id": "a1bec755",
   "metadata": {},
   "source": [
    "### Sample metadata"
   ]
  },
  {
   "cell_type": "code",
   "execution_count": null,
   "id": "cbec2c75",
   "metadata": {
    "execution": {
     "iopub.execute_input": "2024-10-15T08:04:42.305874Z",
     "iopub.status.busy": "2024-10-15T08:04:42.305743Z",
     "iopub.status.idle": "2024-10-15T08:04:42.308958Z",
     "shell.execute_reply": "2024-10-15T08:04:42.308750Z"
    }
   },
   "outputs": [],
   "source": [
    "metadata"
   ]
  },
  {
   "cell_type": "markdown",
   "id": "a9849be5",
   "metadata": {},
   "source": [
    "Tabulate selected metadata and check for missing values"
   ]
  },
  {
   "cell_type": "code",
   "execution_count": null,
   "id": "feebf1a2",
   "metadata": {
    "execution": {
     "iopub.execute_input": "2024-10-15T08:04:42.354573Z",
     "iopub.status.busy": "2024-10-15T08:04:42.354448Z",
     "iopub.status.idle": "2024-10-15T08:04:42.358121Z",
     "shell.execute_reply": "2024-10-15T08:04:42.357913Z"
    },
    "tags": [
     "hide-input"
    ]
   },
   "outputs": [],
   "source": [
    "metadata[METACOL_LABEL].value_counts(dropna=False)"
   ]
  },
  {
   "cell_type": "code",
   "execution_count": null,
   "id": "aa0c2670",
   "metadata": {
    "execution": {
     "iopub.execute_input": "2024-10-15T08:04:42.386730Z",
     "iopub.status.busy": "2024-10-15T08:04:42.386644Z",
     "iopub.status.idle": "2024-10-15T08:04:42.389841Z",
     "shell.execute_reply": "2024-10-15T08:04:42.389633Z"
    },
    "tags": [
     "hide-input"
    ]
   },
   "outputs": [],
   "source": [
    "target_counts = metadata[METACOL_LABEL].value_counts()\n",
    "\n",
    "if target_counts.sum() < len(metadata):\n",
    "    print(\n",
    "        \"Target has missing values.\"\n",
    "        f\" Can only use {target_counts.sum()} of {len(metadata)} samples.\"\n",
    "    )\n",
    "    mask = metadata[METACOL_LABEL].notna()\n",
    "    metadata, omics = metadata.loc[mask], omics.loc[mask]\n",
    "\n",
    "if METACOL_LABEL is None:\n",
    "    METACOL_LABEL = METACOL_LABEL\n",
    "y = metadata[METACOL_LABEL].astype(\"category\")"
   ]
  },
  {
   "cell_type": "markdown",
   "id": "c2ac18e9",
   "metadata": {},
   "source": [
    "For simplicity we normalize here all samples together, but normally you would need to\n",
    "apply the normalization from you training data to the test data. So see these examples\n",
    "here as a way to do it for your training data."
   ]
  },
  {
   "cell_type": "markdown",
   "id": "cbb65af8",
   "metadata": {},
   "source": [
    "### Fill missing values for preliminary plots"
   ]
  },
  {
   "cell_type": "markdown",
   "id": "ac708320",
   "metadata": {},
   "source": [
    "Impute using median to impute (before scaling, which can be changed)."
   ]
  },
  {
   "cell_type": "code",
   "execution_count": null,
   "id": "d0b09f05",
   "metadata": {
    "execution": {
     "iopub.execute_input": "2024-10-15T08:04:42.437104Z",
     "iopub.status.busy": "2024-10-15T08:04:42.436981Z",
     "iopub.status.idle": "2024-10-15T08:04:42.454722Z",
     "shell.execute_reply": "2024-10-15T08:04:42.454529Z"
    },
    "tags": [
     "hide-input"
    ]
   },
   "outputs": [],
   "source": [
    "omics_imputed = median_impute(omics)\n",
    "assert omics_imputed.isna().sum().sum() == 0\n",
    "omics_imputed.shape"
   ]
  },
  {
   "cell_type": "markdown",
   "id": "55f6ab16",
   "metadata": {},
   "source": [
    "Explained variance by first four principal components in data."
   ]
  },
  {
   "cell_type": "code",
   "execution_count": null,
   "id": "7134cd23",
   "metadata": {
    "tags": [
     "hide-input"
    ]
   },
   "outputs": [],
   "source": [
    "PCs, pca = acore.decomposition.pca.run_pca(omics_imputed, n_components=4)\n",
    "ax = vuecore.decomposition.plot_explained_variance(pca)\n",
    "ax.locator_params(axis=\"x\", integer=True)"
   ]
  },
  {
   "cell_type": "markdown",
   "id": "66d3d12e",
   "metadata": {},
   "source": [
    "## Normalization of samples in a dataset\n",
    "We will use the `acore.normalization` module to normalize the data.\n",
    "\n",
    "We will do it for each of the data on the omics dataset which is log transformed,\n",
    "but not yet imputed and normalized. Then we will reapply standard\n",
    "normalization before replotting the PCA and UMAP plots. The execption is combat as it\n",
    "need complete data."
   ]
  },
  {
   "cell_type": "code",
   "execution_count": null,
   "id": "89f7a4a8",
   "metadata": {
    "execution": {
     "iopub.execute_input": "2024-10-15T08:04:45.522336Z",
     "iopub.status.busy": "2024-10-15T08:04:45.522078Z",
     "iopub.status.idle": "2024-10-15T08:04:45.540528Z",
     "shell.execute_reply": "2024-10-15T08:04:45.539880Z"
    },
    "tags": [
     "hide-input"
    ]
   },
   "outputs": [],
   "source": [
    "omics"
   ]
  },
  {
   "cell_type": "markdown",
   "id": "8e972d1e",
   "metadata": {},
   "source": [
    "## Combat normalization\n",
    "Correct for batch effects in the data using a robust regression approach normalizing\n",
    "mean and scale effetcs out for each feature by batch. Assumes normally distributed data.\n",
    "\n",
    "> ⚠️ Combat needs imputed data"
   ]
  },
  {
   "cell_type": "code",
   "execution_count": null,
   "id": "c3a7d04d",
   "metadata": {
    "execution": {
     "iopub.execute_input": "2024-10-15T08:04:45.611270Z",
     "iopub.status.busy": "2024-10-15T08:04:45.611049Z",
     "iopub.status.idle": "2024-10-15T08:04:45.634947Z",
     "shell.execute_reply": "2024-10-15T08:04:45.634525Z"
    }
   },
   "outputs": [],
   "source": [
    "%%time\n",
    "X = median_impute(omics)\n",
    "X = acore.normalization.combat_batch_correction(\n",
    "    X.join(y),\n",
    "    batch_col=\"site\",\n",
    ")\n",
    "X"
   ]
  },
  {
   "cell_type": "code",
   "execution_count": null,
   "id": "aff9589b",
   "metadata": {
    "execution": {
     "iopub.execute_input": "2024-10-15T08:04:45.667463Z",
     "iopub.status.busy": "2024-10-15T08:04:45.667004Z",
     "iopub.status.idle": "2024-10-15T08:04:46.730589Z",
     "shell.execute_reply": "2024-10-15T08:04:46.730346Z"
    },
    "tags": [
     "hide-input"
    ]
   },
   "outputs": [],
   "source": [
    "omics_imp = median_impute(X)\n",
    "omics_imp_scaled = standard_normalize(omics_imp)\n",
    "PCs, fig = run_and_plot_pca(omics_imp_scaled, y, METACOL_LABEL, n_components=4)\n",
    "ax = plot_umap(omics_imp_scaled, y, METACOL_LABEL)"
   ]
  },
  {
   "cell_type": "markdown",
   "id": "57ffebe1",
   "metadata": {},
   "source": [
    "See change by substracting combat normalized data from original data."
   ]
  },
  {
   "cell_type": "code",
   "execution_count": null,
   "id": "02d6773f",
   "metadata": {
    "execution": {
     "iopub.execute_input": "2024-10-15T08:04:46.789884Z",
     "iopub.status.busy": "2024-10-15T08:04:46.789752Z",
     "iopub.status.idle": "2024-10-15T08:04:46.796400Z",
     "shell.execute_reply": "2024-10-15T08:04:46.796180Z"
    },
    "lines_to_next_cell": 2,
    "tags": [
     "hide-input"
    ]
   },
   "outputs": [],
   "source": [
    "omics - X"
   ]
  },
  {
   "cell_type": "markdown",
   "id": "4eb70d81",
   "metadata": {},
   "source": [
    "## Median normalization\n",
    "Substracts a constant from all features of a sample. All samples will have the same\n",
    "global median."
   ]
  },
  {
   "cell_type": "code",
   "execution_count": null,
   "id": "417cc364",
   "metadata": {
    "execution": {
     "iopub.execute_input": "2024-10-15T08:04:46.846599Z",
     "iopub.status.busy": "2024-10-15T08:04:46.846399Z",
     "iopub.status.idle": "2024-10-15T08:04:46.865577Z",
     "shell.execute_reply": "2024-10-15T08:04:46.865352Z"
    }
   },
   "outputs": [],
   "source": [
    "%%time\n",
    "X = acore.normalization.normalize_data(omics, \"median\")\n",
    "X"
   ]
  },
  {
   "cell_type": "code",
   "execution_count": null,
   "id": "871e9096",
   "metadata": {
    "execution": {
     "iopub.execute_input": "2024-10-15T08:04:46.916437Z",
     "iopub.status.busy": "2024-10-15T08:04:46.916311Z",
     "iopub.status.idle": "2024-10-15T08:04:47.874817Z",
     "shell.execute_reply": "2024-10-15T08:04:47.874525Z"
    },
    "tags": [
     "hide-input"
    ]
   },
   "outputs": [],
   "source": [
    "omics_imp = median_impute(X)\n",
    "omics_imp_scaled = standard_normalize(omics_imp)\n",
    "PCs, fig = run_and_plot_pca(omics_imp_scaled, y, METACOL_LABEL, n_components=4)\n",
    "ax = plot_umap(omics_imp_scaled, y, METACOL_LABEL)"
   ]
  },
  {
   "cell_type": "markdown",
   "id": "036ccfe1",
   "metadata": {},
   "source": [
    "See change by substracting median normalized data from original data."
   ]
  },
  {
   "cell_type": "code",
   "execution_count": null,
   "id": "59971539",
   "metadata": {
    "execution": {
     "iopub.execute_input": "2024-10-15T08:04:47.938014Z",
     "iopub.status.busy": "2024-10-15T08:04:47.937890Z",
     "iopub.status.idle": "2024-10-15T08:04:47.946050Z",
     "shell.execute_reply": "2024-10-15T08:04:47.945492Z"
    },
    "tags": [
     "hide-input"
    ]
   },
   "outputs": [],
   "source": [
    "omics - X"
   ]
  },
  {
   "cell_type": "code",
   "execution_count": null,
   "id": "ff59ec5f",
   "metadata": {
    "lines_to_next_cell": 0
   },
   "outputs": [],
   "source": []
  },
  {
   "cell_type": "markdown",
   "id": "7f004ccd",
   "metadata": {},
   "source": [
    "## Z-score normalization\n",
    "Normalize a sample by it's mean and standard deviation."
   ]
  },
  {
   "cell_type": "code",
   "execution_count": null,
   "id": "14b11090",
   "metadata": {
    "execution": {
     "iopub.execute_input": "2024-10-15T08:04:48.054393Z",
     "iopub.status.busy": "2024-10-15T08:04:48.054261Z",
     "iopub.status.idle": "2024-10-15T08:04:48.066943Z",
     "shell.execute_reply": "2024-10-15T08:04:48.066718Z"
    }
   },
   "outputs": [],
   "source": [
    "%%time\n",
    "X = acore.normalization.normalize_data(omics, \"zscore\")\n",
    "X"
   ]
  },
  {
   "cell_type": "code",
   "execution_count": null,
   "id": "a71ab298",
   "metadata": {
    "execution": {
     "iopub.execute_input": "2024-10-15T08:04:48.098382Z",
     "iopub.status.busy": "2024-10-15T08:04:48.098253Z",
     "iopub.status.idle": "2024-10-15T08:04:49.175088Z",
     "shell.execute_reply": "2024-10-15T08:04:49.174849Z"
    },
    "tags": [
     "hide-input"
    ]
   },
   "outputs": [],
   "source": [
    "omics_imp = median_impute(X)\n",
    "omics_imp_scaled = standard_normalize(omics_imp)\n",
    "PCs, fig = run_and_plot_pca(omics_imp_scaled, y, METACOL_LABEL, n_components=4)\n",
    "ax = plot_umap(omics_imp_scaled, y, METACOL_LABEL)"
   ]
  },
  {
   "cell_type": "markdown",
   "id": "4561ea09",
   "metadata": {},
   "source": [
    "See change by substracting z-score normalized data from original data."
   ]
  },
  {
   "cell_type": "code",
   "execution_count": null,
   "id": "55f60bfd",
   "metadata": {
    "execution": {
     "iopub.execute_input": "2024-10-15T08:04:49.244773Z",
     "iopub.status.busy": "2024-10-15T08:04:49.244654Z",
     "iopub.status.idle": "2024-10-15T08:04:49.251503Z",
     "shell.execute_reply": "2024-10-15T08:04:49.251265Z"
    },
    "tags": [
     "hide-input"
    ]
   },
   "outputs": [],
   "source": [
    "omics_imp_scaled - X"
   ]
  },
  {
   "cell_type": "markdown",
   "id": "2ee8262a",
   "metadata": {},
   "source": [
    "## Median Polish Normalization\n",
    "- normalize iteratively features and samples to have zero median."
   ]
  },
  {
   "cell_type": "code",
   "execution_count": null,
   "id": "2399746c",
   "metadata": {
    "execution": {
     "iopub.execute_input": "2024-10-15T08:04:49.317423Z",
     "iopub.status.busy": "2024-10-15T08:04:49.317285Z",
     "iopub.status.idle": "2024-10-15T08:04:55.690087Z",
     "shell.execute_reply": "2024-10-15T08:04:55.689794Z"
    }
   },
   "outputs": [],
   "source": [
    "%%time\n",
    "X = acore.normalization.normalize_data(omics, \"median_polish\")\n",
    "X"
   ]
  },
  {
   "cell_type": "code",
   "execution_count": null,
   "id": "1590ba59",
   "metadata": {
    "execution": {
     "iopub.execute_input": "2024-10-15T08:04:55.709143Z",
     "iopub.status.busy": "2024-10-15T08:04:55.708888Z",
     "iopub.status.idle": "2024-10-15T08:04:56.813674Z",
     "shell.execute_reply": "2024-10-15T08:04:56.813447Z"
    },
    "tags": [
     "hide-input"
    ]
   },
   "outputs": [],
   "source": [
    "omics_imp = median_impute(X)\n",
    "omics_imp_scaled = standard_normalize(omics_imp)\n",
    "PCs, fig = run_and_plot_pca(omics_imp_scaled, y, METACOL_LABEL, n_components=4)\n",
    "ax = plot_umap(omics_imp_scaled, y, METACOL_LABEL)"
   ]
  },
  {
   "cell_type": "markdown",
   "id": "4aeb5230",
   "metadata": {},
   "source": [
    "See change by substracting median polish normalized data from original data."
   ]
  },
  {
   "cell_type": "code",
   "execution_count": null,
   "id": "cde260b6",
   "metadata": {
    "execution": {
     "iopub.execute_input": "2024-10-15T08:04:56.890848Z",
     "iopub.status.busy": "2024-10-15T08:04:56.890721Z",
     "iopub.status.idle": "2024-10-15T08:04:56.897542Z",
     "shell.execute_reply": "2024-10-15T08:04:56.897336Z"
    },
    "tags": [
     "hide-input"
    ]
   },
   "outputs": [],
   "source": [
    "omics_imp_scaled - X"
   ]
  },
  {
   "cell_type": "markdown",
   "id": "124f07a6",
   "metadata": {},
   "source": [
    "## Quantile normalization\n",
    "quantile normalize each feature column."
   ]
  },
  {
   "cell_type": "code",
   "execution_count": null,
   "id": "63d1369d",
   "metadata": {
    "execution": {
     "iopub.execute_input": "2024-10-15T08:04:56.972443Z",
     "iopub.status.busy": "2024-10-15T08:04:56.972311Z",
     "iopub.status.idle": "2024-10-15T08:04:57.030334Z",
     "shell.execute_reply": "2024-10-15T08:04:57.030092Z"
    }
   },
   "outputs": [],
   "source": [
    "%%time\n",
    "X = acore.normalization.normalize_data(omics, \"quantile\")\n",
    "X"
   ]
  },
  {
   "cell_type": "code",
   "execution_count": null,
   "id": "9d4ab4b4",
   "metadata": {
    "execution": {
     "iopub.execute_input": "2024-10-15T08:04:57.069067Z",
     "iopub.status.busy": "2024-10-15T08:04:57.068954Z",
     "iopub.status.idle": "2024-10-15T08:04:58.171381Z",
     "shell.execute_reply": "2024-10-15T08:04:58.171122Z"
    },
    "tags": [
     "hide-input"
    ]
   },
   "outputs": [],
   "source": [
    "omics_imp = median_impute(X)\n",
    "omics_imp_scaled = standard_normalize(omics_imp)\n",
    "PCs, fig = run_and_plot_pca(omics_imp_scaled, y, METACOL_LABEL, n_components=4)\n",
    "ax = plot_umap(omics_imp_scaled, y, METACOL_LABEL)"
   ]
  },
  {
   "cell_type": "code",
   "execution_count": null,
   "id": "6f4cdd86",
   "metadata": {
    "execution": {
     "iopub.execute_input": "2024-10-15T08:04:58.208540Z",
     "iopub.status.busy": "2024-10-15T08:04:58.208426Z",
     "iopub.status.idle": "2024-10-15T08:04:58.215032Z",
     "shell.execute_reply": "2024-10-15T08:04:58.214823Z"
    },
    "lines_to_next_cell": 2
   },
   "outputs": [],
   "source": [
    "omics - X"
   ]
  },
  {
   "cell_type": "markdown",
   "id": "b7ed4558",
   "metadata": {},
   "source": [
    "## Linear normalization"
   ]
  },
  {
   "cell_type": "code",
   "execution_count": null,
   "id": "935897ee",
   "metadata": {
    "execution": {
     "iopub.execute_input": "2024-10-15T08:04:58.288909Z",
     "iopub.status.busy": "2024-10-15T08:04:58.288670Z",
     "iopub.status.idle": "2024-10-15T08:04:58.297719Z",
     "shell.execute_reply": "2024-10-15T08:04:58.297460Z"
    }
   },
   "outputs": [],
   "source": [
    "%%time\n",
    "X = acore.normalization.normalize_data(omics, \"linear\")\n",
    "X"
   ]
  },
  {
   "cell_type": "code",
   "execution_count": null,
   "id": "77df7eba",
   "metadata": {
    "execution": {
     "iopub.execute_input": "2024-10-15T08:04:58.325839Z",
     "iopub.status.busy": "2024-10-15T08:04:58.325704Z",
     "iopub.status.idle": "2024-10-15T08:04:59.300800Z",
     "shell.execute_reply": "2024-10-15T08:04:59.300551Z"
    },
    "tags": [
     "hide-input"
    ]
   },
   "outputs": [],
   "source": [
    "omics_imp = median_impute(X)\n",
    "omics_imp_scaled = standard_normalize(omics_imp)\n",
    "PCs, fig = run_and_plot_pca(omics_imp_scaled, y, METACOL_LABEL, n_components=4)\n",
    "ax = plot_umap(omics_imp_scaled, y, METACOL_LABEL)"
   ]
  },
  {
   "cell_type": "code",
   "execution_count": null,
   "id": "6a588323",
   "metadata": {
    "execution": {
     "iopub.execute_input": "2024-10-15T08:04:59.333399Z",
     "iopub.status.busy": "2024-10-15T08:04:59.333296Z",
     "iopub.status.idle": "2024-10-15T08:04:59.339761Z",
     "shell.execute_reply": "2024-10-15T08:04:59.339557Z"
    },
    "tags": [
     "hide-input"
    ]
   },
   "outputs": [],
   "source": [
    "omics - X"
   ]
  },
  {
   "cell_type": "markdown",
   "id": "1da30827",
   "metadata": {},
   "source": [
    "## Summmary\n",
    "Besides the median polish normalization, the structure of the data is not changed\n",
    "too much by the normalization using this Alzheimer example. This notebook can be opened\n",
    "on colab and might be a good starting point for investigating the effect of normalization\n",
    "on your data - or to disect some approaches further."
   ]
  }
 ],
 "metadata": {
  "jupytext": {
   "cell_metadata_filter": "tags,-all"
  },
  "kernelspec": {
   "display_name": "Python 3 (ipykernel)",
   "language": "python",
   "name": "python3"
  },
  "language_info": {
   "codemirror_mode": {
    "name": "ipython",
    "version": 3
   },
   "file_extension": ".py",
   "mimetype": "text/x-python",
   "name": "python",
   "nbconvert_exporter": "python",
   "pygments_lexer": "ipython3",
   "version": "3.11.10"
  },
  "papermill": {
   "default_parameters": {},
   "duration": 29.187969,
   "end_time": "2024-10-15T08:05:02.023247",
   "environment_variables": {},
   "exception": null,
   "input_path": "-",
   "output_path": "docs/api_examples/normalization_analysis.ipynb",
   "parameters": {},
   "start_time": "2024-10-15T08:04:32.835278",
   "version": "2.6.0"
  }
 },
 "nbformat": 4,
 "nbformat_minor": 5
}
