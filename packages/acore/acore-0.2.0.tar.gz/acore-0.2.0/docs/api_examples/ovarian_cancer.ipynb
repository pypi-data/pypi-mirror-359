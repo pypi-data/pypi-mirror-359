{
 "cells": [
  {
   "cell_type": "markdown",
   "id": "d61c8f55",
   "metadata": {},
   "source": [
    "(nb_ref_ovarian_data)=\n",
    "# Download from journal (ovarian cancer proteome)\n",
    "Download the ovarian cancer proteome data from the journal's website. It was\n",
    "provided as supplementary data. See the article here:\n",
    "\n",
    "> Fabian Coscia, Ernst Lengyel, Jaikumar Duraiswamy, Bradley Ashcroft, Michal Bassani-Sternberg, Michael Wierer, Alyssa Johnson, Kristen Wroblewski, Anthony Montag, S. Diane Yamada, Blanca López-Méndez, Jakob Nilsson, Andreas Mund, Matthias Mann, Marion Curtis,\n",
    "> Multi-level Proteomics Identifies CT45 as a Chemosensitivity Mediator and Immunotherapy Target in Ovarian Cancer,\n",
    "> Cell,\n",
    "> Volume 175, Issue 1,\n",
    "> 2018,\n",
    ">\n",
    "> https://doi.org/10.1016/j.cell.2018.08.065."
   ]
  },
  {
   "cell_type": "code",
   "execution_count": null,
   "id": "09bfdb41",
   "metadata": {
    "tags": [
     "hide-output"
    ]
   },
   "outputs": [],
   "source": [
    "%pip install acore openpyxl"
   ]
  },
  {
   "cell_type": "code",
   "execution_count": null,
   "id": "51d8dd1e",
   "metadata": {},
   "outputs": [],
   "source": [
    "from pathlib import Path\n",
    "\n",
    "import pandas as pd\n",
    "\n",
    "import acore.io"
   ]
  },
  {
   "cell_type": "markdown",
   "id": "2e90abb3",
   "metadata": {},
   "source": [
    "Specify the proteome file's url"
   ]
  },
  {
   "cell_type": "code",
   "execution_count": null,
   "id": "de649423",
   "metadata": {},
   "outputs": [],
   "source": [
    "furl_pg = \"https://ars.els-cdn.com/content/image/1-s2.0-S0092867418311668-mmc2.xlsx\""
   ]
  },
  {
   "cell_type": "markdown",
   "id": "54f17ba4",
   "metadata": {},
   "source": [
    "Load it using an acore function"
   ]
  },
  {
   "cell_type": "code",
   "execution_count": null,
   "id": "a4988301",
   "metadata": {},
   "outputs": [],
   "source": [
    "local_filename = Path(furl_pg).name\n",
    "acore.io.download_file(furl_pg, local_filename)"
   ]
  },
  {
   "cell_type": "markdown",
   "id": "4b8e4a67",
   "metadata": {},
   "source": [
    "Open the excel file from the supplementary data given in the article."
   ]
  },
  {
   "cell_type": "code",
   "execution_count": null,
   "id": "d16bbcf0",
   "metadata": {
    "tags": [
     "hide-input"
    ]
   },
   "outputs": [],
   "source": [
    "data = pd.read_excel(\n",
    "    local_filename,\n",
    "    sheet_name=\"SupplementaryTable2_PatientProt\",\n",
    ")\n",
    "data"
   ]
  },
  {
   "cell_type": "markdown",
   "id": "77510d2a",
   "metadata": {},
   "source": [
    "We will use the first protein in the a protein group as identifier,\n",
    "which we verify to be unique."
   ]
  },
  {
   "cell_type": "code",
   "execution_count": null,
   "id": "f478737b",
   "metadata": {
    "tags": [
     "hide-input"
    ]
   },
   "outputs": [],
   "source": [
    "data[\"first_prot\"] = data[\"Majority protein Ids\"].str.split(\";\").str[0]\n",
    "data[\"first_prot\"].nunique() == data[\"Majority protein Ids\"].nunique()\n",
    "data = data.set_index(\"first_prot\")\n",
    "assert data.index.is_unique\n",
    "data"
   ]
  },
  {
   "cell_type": "markdown",
   "id": "f729af54",
   "metadata": {},
   "source": [
    "Filter intensity values for patients"
   ]
  },
  {
   "cell_type": "code",
   "execution_count": null,
   "id": "96f83112",
   "metadata": {
    "tags": [
     "hide-input"
    ]
   },
   "outputs": [],
   "source": [
    "pgs = data.filter(like=\"Patient\")\n",
    "pgs"
   ]
  },
  {
   "cell_type": "markdown",
   "id": "8eb8d09c",
   "metadata": {},
   "source": [
    "There are two measurements for patient 11 in the data: 11 and 11B. In the methods of\n",
    "the paper it is stated:\n",
    "\n",
    "\"We required a minimum peptide ratio count of 1 to report a quantitative readout\n",
    "and averaged the results from duplicate measurements of the same sample.\"\n",
    "\n",
    "We will do this manually for patient 11 measurements."
   ]
  },
  {
   "cell_type": "code",
   "execution_count": null,
   "id": "1982e66a",
   "metadata": {},
   "outputs": [],
   "source": [
    "pgs.filter(like=\"Patient11\").describe()"
   ]
  },
  {
   "cell_type": "code",
   "execution_count": null,
   "id": "ec5f4c09",
   "metadata": {},
   "outputs": [],
   "source": [
    "pgs = pgs.assign(Patient11=lambda df: df.filter(like=\"Patient11\").mean(axis=1)).drop(\n",
    "    [\"Patient11B\"], axis=1\n",
    ")"
   ]
  },
  {
   "cell_type": "markdown",
   "id": "181ac85c",
   "metadata": {},
   "source": [
    "Keep the other information of protein groups as additional annotations on protein groups."
   ]
  },
  {
   "cell_type": "code",
   "execution_count": null,
   "id": "cdd7d377",
   "metadata": {
    "tags": [
     "hide-input"
    ]
   },
   "outputs": [],
   "source": [
    "meta_pgs = data.drop(pgs.columns, axis=1).drop(\"Patient11B\", axis=1)\n",
    "meta_pgs"
   ]
  },
  {
   "cell_type": "markdown",
   "id": "f940d242",
   "metadata": {},
   "source": [
    "View non-numeric columns of protein group metadata."
   ]
  },
  {
   "cell_type": "code",
   "execution_count": null,
   "id": "3759f1a8",
   "metadata": {
    "tags": [
     "hide-input"
    ]
   },
   "outputs": [],
   "source": [
    "meta_pgs.describe(exclude=\"number\")"
   ]
  },
  {
   "cell_type": "markdown",
   "id": "4797e734",
   "metadata": {},
   "source": [
    "Get rid of potential contaminants (marked with a +, so non missing have `NAN`)."
   ]
  },
  {
   "cell_type": "code",
   "execution_count": null,
   "id": "cebff006",
   "metadata": {
    "tags": [
     "hide-input"
    ]
   },
   "outputs": [],
   "source": [
    "mask = meta_pgs[\"Potential contaminant\"].isna()\n",
    "pgs = pgs.loc[mask].T\n",
    "pgs"
   ]
  },
  {
   "cell_type": "markdown",
   "id": "7137306a",
   "metadata": {},
   "source": [
    "## Patient metadata\n",
    "The patient metadata was only provided as a pdf file. We parsed it and\n",
    "saved it as a csv file. You can load it for our GitHub repository:"
   ]
  },
  {
   "cell_type": "code",
   "execution_count": null,
   "id": "2c955a24",
   "metadata": {},
   "outputs": [],
   "source": [
    "! ToDo: link file after it is available on the main branch"
   ]
  },
  {
   "cell_type": "markdown",
   "id": "0d1b9fe8",
   "metadata": {},
   "source": [
    "Done."
   ]
  }
 ],
 "metadata": {
  "jupytext": {
   "cell_metadata_filter": "-all",
   "main_language": "python",
   "notebook_metadata_filter": "-all"
  },
  "language_info": {
   "name": "python"
  }
 },
 "nbformat": 4,
 "nbformat_minor": 5
}
