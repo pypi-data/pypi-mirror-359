{
 "cells": [
  {
   "cell_type": "raw",
   "metadata": {
    "vscode": {
     "languageId": "raw"
    }
   },
   "source": [
    "# DeckGL Widget Debug Test\n",
    "\n",
    "This notebook tests the **FIXED** DeckGL widget to ensure it renders correctly without console errors.\n",
    "\n",
    "**Fixed Issues:**\n",
    "- ✅ Scoping issue with deck variable  \n",
    "- ✅ Temporal dead zone error\n",
    "- ✅ Widget model synchronization\n",
    "- ✅ Better error handling and debugging\n"
   ]
  },
  {
   "cell_type": "raw",
   "metadata": {
    "vscode": {
     "languageId": "raw"
    }
   },
   "source": [
    "## 1. Import and Verify\n"
   ]
  },
  {
   "cell_type": "code",
   "execution_count": null,
   "metadata": {},
   "outputs": [],
   "source": [
    "# Import the DeckGLMap class\n",
    "from anymap import DeckGLMap\n",
    "\n",
    "print(\"✅ DeckGLMap imported successfully!\")\n",
    "print(f\"📦 DeckGLMap class: {DeckGLMap}\")\n",
    "\n",
    "# Also test that the widget files are accessible\n",
    "import pathlib\n",
    "\n",
    "js_file = pathlib.Path(\"anymap/static/deck_widget.js\")\n",
    "css_file = pathlib.Path(\"anymap/static/deck_widget.css\")\n",
    "print(f\"📁 JavaScript file exists: {js_file.exists()}\")\n",
    "print(f\"📁 CSS file exists: {css_file.exists()}\")"
   ]
  },
  {
   "cell_type": "raw",
   "metadata": {
    "vscode": {
     "languageId": "raw"
    }
   },
   "source": [
    "## 2. Create Map Widget\n",
    "\n",
    "**🔍 DEBUGGING:** Open browser console (F12) and watch for success messages!\n"
   ]
  },
  {
   "cell_type": "code",
   "execution_count": null,
   "metadata": {},
   "outputs": [],
   "source": [
    "# Create a basic DeckGL map\n",
    "print(\"🎯 Creating DeckGL map...\")\n",
    "\n",
    "m = DeckGLMap(\n",
    "    center=[37.7749, -122.4194], zoom=12, height=\"600px\", width=\"100%\"  # San Francisco\n",
    ")\n",
    "\n",
    "print(\"✅ DeckGL map created successfully!\")\n",
    "print(f\"📍 Map center: {m.center}\")\n",
    "print(f\"🔍 Map zoom: {m.zoom}\")\n",
    "print(f\"📐 Map size: {m.width} x {m.height}\")\n",
    "\n",
    "print(\"\\n🔍 DEBUGGING: Open browser console (F12) and look for these messages:\")\n",
    "print(\"   🎯 DeckGL widget render function called\")\n",
    "print(\"   ✅ deck.gl library is ready\")\n",
    "print(\"   🎉 DeckGL instance created successfully!\")\n",
    "print(\"   ✅ DeckGL widget initialization complete!\")\n",
    "\n",
    "# Display the map\n",
    "m"
   ]
  },
  {
   "cell_type": "raw",
   "metadata": {
    "vscode": {
     "languageId": "raw"
    }
   },
   "source": [
    "## 3. Add Test Layer\n"
   ]
  },
  {
   "cell_type": "code",
   "execution_count": null,
   "metadata": {},
   "outputs": [],
   "source": [
    "# Add a simple test layer with 3 colored points\n",
    "print(\"🎨 Adding test layer with colored points...\")\n",
    "\n",
    "simple_data = [\n",
    "    {\"position\": [-122.4194, 37.7749], \"color\": [255, 0, 0], \"radius\": 100},  # Red\n",
    "    {\"position\": [-122.4094, 37.7849], \"color\": [0, 255, 0], \"radius\": 100},  # Green\n",
    "    {\"position\": [-122.4294, 37.7649], \"color\": [0, 0, 255], \"radius\": 100},  # Blue\n",
    "]\n",
    "\n",
    "m.add_scatterplot_layer(\n",
    "    layer_id=\"test_points\",\n",
    "    data=simple_data,\n",
    "    get_position=\"position\",\n",
    "    get_radius=\"radius\",\n",
    "    get_color=\"color\",\n",
    ")\n",
    "\n",
    "print(\"✅ Added 3 test points (red, green, blue)\")\n",
    "print(f\"📊 Current layers: {list(m.get_layers().keys())}\")\n",
    "print(\"\\n🔍 In browser console, look for:\")\n",
    "print(\"   Adding layer test_points of type ScatterplotLayer\")\n",
    "print(\"   Successfully created layer test_points\")\n",
    "print(\"   Updating deck with 1 layers\")\n",
    "\n",
    "print(\"\\n🎯 Expected result: You should see 3 colored circles on the map!\")\n",
    "print(\"   - Red circle at center of San Francisco\")\n",
    "print(\"   - Green circle slightly northeast\")\n",
    "print(\"   - Blue circle slightly southwest\")"
   ]
  },
  {
   "cell_type": "raw",
   "metadata": {
    "vscode": {
     "languageId": "raw"
    }
   },
   "source": [
    "## 4. Troubleshooting Guide\n",
    "\n",
    "**✅ SUCCESS INDICATORS:**\n",
    "\n",
    "Console messages you should see (in order):\n",
    "1. `🎯 DeckGL widget render function called`\n",
    "2. `✅ deck.gl library is ready`  \n",
    "3. `🎉 DeckGL instance created successfully!`\n",
    "4. `🔄 Restoring map state...`\n",
    "5. `✅ DeckGL widget initialization complete!`\n",
    "\n",
    "**❌ TROUBLESHOOTING:**\n",
    "\n",
    "If you see errors:\n",
    "- **\"Cannot access 'deck' before initialization\"** → This should be FIXED now!\n",
    "- **\"widget model not found\"** → Restart Jupyter kernel and try again\n",
    "- **Red error box** → Check internet connection (deck.gl CDN loading)\n",
    "- **Empty/blank widget** → Check browser console for JavaScript errors\n",
    "\n",
    "**🔧 DEBUG STEPS:**\n",
    "1. Open Developer Tools (F12)\n",
    "2. Go to Console tab\n",
    "3. Clear console and run cell again\n",
    "4. Look for the success messages above\n",
    "\n",
    "**🎯 EXPECTED RESULT:**\n",
    "- Map widget displays without error boxes\n",
    "- 3 colored circles visible on San Francisco map\n",
    "- All console success messages appear\n"
   ]
  },
  {
   "cell_type": "raw",
   "metadata": {
    "vscode": {
     "languageId": "raw"
    }
   },
   "source": [
    "# DeckGL Widget Debug Test\n",
    "\n",
    "This notebook tests the fixed DeckGL widget to ensure it renders correctly without console errors.\n",
    "\n",
    "**Fixed Issues:**\n",
    "- ✅ Scoping issue with deck variable\n",
    "- ✅ Temporal dead zone error\n",
    "- ✅ Widget model synchronization\n"
   ]
  },
  {
   "cell_type": "raw",
   "metadata": {
    "vscode": {
     "languageId": "raw"
    }
   },
   "source": [
    "## 1. Import and Basic Test\n"
   ]
  },
  {
   "cell_type": "code",
   "execution_count": null,
   "metadata": {},
   "outputs": [],
   "source": [
    "# Import the DeckGLMap class\n",
    "from anymap import DeckGLMap\n",
    "\n",
    "print(\"✅ DeckGLMap imported successfully!\")\n",
    "print(f\"📦 DeckGLMap class: {DeckGLMap}\")\n",
    "\n",
    "# Also test that the widget files are accessible\n",
    "import pathlib\n",
    "\n",
    "js_file = pathlib.Path(\"anymap/static/deck_widget.js\")\n",
    "css_file = pathlib.Path(\"anymap/static/deck_widget.css\")\n",
    "print(f\"📁 JavaScript file exists: {js_file.exists()}\")\n",
    "print(f\"📁 CSS file exists: {css_file.exists()}\")"
   ]
  },
  {
   "cell_type": "raw",
   "metadata": {
    "vscode": {
     "languageId": "raw"
    }
   },
   "source": [
    "## 2. Create Basic Map\n"
   ]
  },
  {
   "cell_type": "code",
   "execution_count": null,
   "metadata": {},
   "outputs": [],
   "source": [
    "# Create a basic DeckGL map\n",
    "print(\"🎯 Creating DeckGL map...\")\n",
    "\n",
    "m = DeckGLMap(\n",
    "    center=[37.7749, -122.4194], zoom=12, height=\"600px\", width=\"100%\"  # San Francisco\n",
    ")\n",
    "\n",
    "print(\"✅ DeckGL map created successfully!\")\n",
    "print(f\"📍 Map center: {m.center}\")\n",
    "print(f\"🔍 Map zoom: {m.zoom}\")\n",
    "print(f\"📐 Map size: {m.width} x {m.height}\")\n",
    "\n",
    "print(\"\\n🔍 DEBUGGING: Open browser console (F12) and look for these messages:\")\n",
    "print(\"   🎯 DeckGL widget render function called\")\n",
    "print(\"   ✅ deck.gl library is ready\")\n",
    "print(\"   🎉 DeckGL instance created successfully!\")\n",
    "print(\"   ✅ DeckGL widget initialization complete!\")\n",
    "\n",
    "# Display the map\n",
    "m"
   ]
  },
  {
   "cell_type": "raw",
   "metadata": {
    "vscode": {
     "languageId": "raw"
    }
   },
   "source": [
    "## 3. Debugging Instructions\n",
    "\n",
    "**If the map is not rendering above:**\n",
    "\n",
    "1. Open browser Developer Tools (F12)\n",
    "2. Check the Console tab for JavaScript errors\n",
    "3. Look for messages starting with \"DeckGL widget render function called\"\n",
    "4. Check for any red error messages about deck.gl library\n",
    "\n",
    "**Expected behavior:**\n",
    "- You should see an empty map widget with controls\n",
    "- The console should show \"DeckGL widget render function called\" and \"DeckGL instance created successfully\"\n"
   ]
  },
  {
   "cell_type": "raw",
   "metadata": {
    "vscode": {
     "languageId": "raw"
    }
   },
   "source": [
    "## 4. Add Test Layer\n"
   ]
  },
  {
   "cell_type": "code",
   "execution_count": null,
   "metadata": {},
   "outputs": [],
   "source": [
    "# Add a simple test layer with 3 colored points\n",
    "print(\"🎨 Adding test layer with colored points...\")\n",
    "\n",
    "simple_data = [\n",
    "    {\"position\": [-122.4194, 37.7749], \"color\": [255, 0, 0], \"radius\": 100},  # Red\n",
    "    {\"position\": [-122.4094, 37.7849], \"color\": [0, 255, 0], \"radius\": 100},  # Green\n",
    "    {\"position\": [-122.4294, 37.7649], \"color\": [0, 0, 255], \"radius\": 100},  # Blue\n",
    "]\n",
    "\n",
    "m.add_scatterplot_layer(\n",
    "    layer_id=\"test_points\",\n",
    "    data=simple_data,\n",
    "    get_position=\"position\",\n",
    "    get_radius=\"radius\",\n",
    "    get_color=\"color\",\n",
    ")\n",
    "\n",
    "print(\"✅ Added 3 test points (red, green, blue)\")\n",
    "print(f\"📊 Current layers: {list(m.get_layers().keys())}\")\n",
    "print(\"\\n🔍 In browser console, look for:\")\n",
    "print(\"   Adding layer test_points of type ScatterplotLayer\")\n",
    "print(\"   Successfully created layer test_points\")\n",
    "print(\"   Updating deck with 1 layers\")\n",
    "\n",
    "print(\"\\n🎯 Expected result: You should see 3 colored circles on the map!\")\n",
    "print(\"   - Red circle at center of San Francisco\")\n",
    "print(\"   - Green circle slightly northeast\")\n",
    "print(\"   - Blue circle slightly southwest\")"
   ]
  }
 ],
 "metadata": {
  "language_info": {
   "name": "python"
  }
 },
 "nbformat": 4,
 "nbformat_minor": 2
}
