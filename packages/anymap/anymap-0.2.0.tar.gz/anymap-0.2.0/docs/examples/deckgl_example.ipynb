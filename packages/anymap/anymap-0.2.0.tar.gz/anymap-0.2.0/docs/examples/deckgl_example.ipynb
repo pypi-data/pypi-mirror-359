{
 "cells": [
  {
   "cell_type": "raw",
   "metadata": {
    "vscode": {
     "languageId": "raw"
    }
   },
   "source": [
    "# DeckGL Map Example\n",
    "\n",
    "This notebook demonstrates the DeckGLMap widget for high-performance data visualization in Jupyter environments.\n",
    "\n",
    "DeckGL is a WebGL-powered framework for visual exploratory data analysis of large datasets.\n"
   ]
  },
  {
   "cell_type": "code",
   "execution_count": null,
   "metadata": {},
   "outputs": [],
   "source": [
    "import anymap\n",
    "import numpy as np\n",
    "import random"
   ]
  },
  {
   "cell_type": "raw",
   "metadata": {
    "vscode": {
     "languageId": "raw"
    }
   },
   "source": [
    "## Basic DeckGL Map\n",
    "\n",
    "Create a basic DeckGL map widget with default settings.\n"
   ]
  },
  {
   "cell_type": "code",
   "execution_count": null,
   "metadata": {},
   "outputs": [],
   "source": [
    "# Create a basic DeckGL map\n",
    "deck_map = anymap.DeckGLMap(\n",
    "    center=[37.7749, -122.4194], zoom=10, width=\"100%\", height=\"600px\"  # San Francisco\n",
    ")\n",
    "\n",
    "deck_map"
   ]
  },
  {
   "cell_type": "raw",
   "metadata": {
    "vscode": {
     "languageId": "raw"
    }
   },
   "source": [
    "## Scatterplot Layer\n",
    "\n",
    "Add a scatterplot layer with random points around San Francisco.\n"
   ]
  },
  {
   "cell_type": "code",
   "execution_count": null,
   "metadata": {},
   "outputs": [],
   "source": [
    "# Generate random data points around San Francisco\n",
    "num_points = 1000\n",
    "base_lat, base_lng = 37.7749, -122.4194\n",
    "\n",
    "scatterplot_data = []\n",
    "for i in range(num_points):\n",
    "    lat = base_lat + (random.random() - 0.5) * 0.1\n",
    "    lng = base_lng + (random.random() - 0.5) * 0.1\n",
    "    scatterplot_data.append(\n",
    "        {\n",
    "            \"position\": [lng, lat],\n",
    "            \"radius\": random.randint(20, 100),\n",
    "            \"color\": [\n",
    "                random.randint(0, 255),\n",
    "                random.randint(0, 255),\n",
    "                random.randint(0, 255),\n",
    "                200,\n",
    "            ],\n",
    "        }\n",
    "    )\n",
    "\n",
    "# Add scatterplot layer\n",
    "deck_map.add_scatterplot_layer(\n",
    "    layer_id=\"scatterplot\",\n",
    "    data=scatterplot_data,\n",
    "    get_position=\"position\",\n",
    "    get_radius=\"radius\",\n",
    "    get_color=\"color\",\n",
    "    radius_scale=1,\n",
    "    pickable=True,\n",
    ")\n",
    "\n",
    "print(f\"Added {len(scatterplot_data)} points to the scatterplot layer\")"
   ]
  },
  {
   "cell_type": "raw",
   "metadata": {
    "vscode": {
     "languageId": "raw"
    }
   },
   "source": [
    "## Hexagon Layer\n",
    "\n",
    "Add a hexagon layer for spatial aggregation visualization. This demonstrates DeckGL's ability to aggregate point data into hexagonal bins.\n"
   ]
  },
  {
   "cell_type": "code",
   "execution_count": null,
   "metadata": {},
   "outputs": [],
   "source": [
    "# Generate data for hexagon layer\n",
    "num_hex_points = 2000\n",
    "hex_data = []\n",
    "\n",
    "for i in range(num_hex_points):\n",
    "    lat = base_lat + (random.random() - 0.5) * 0.2\n",
    "    lng = base_lng + (random.random() - 0.5) * 0.2\n",
    "    hex_data.append({\"position\": [lng, lat], \"weight\": random.random() * 10})\n",
    "\n",
    "# Add hexagon layer\n",
    "deck_map.add_hexagon_layer(\n",
    "    layer_id=\"hexagons\",\n",
    "    data=hex_data,\n",
    "    get_position=\"position\",\n",
    "    get_weight=\"weight\",\n",
    "    radius=500,\n",
    "    elevation_scale=4,\n",
    "    pickable=True,\n",
    "    extruded=True,\n",
    ")\n",
    "\n",
    "print(f\"Added hexagon layer with {len(hex_data)} data points\")"
   ]
  },
  {
   "cell_type": "raw",
   "metadata": {
    "vscode": {
     "languageId": "raw"
    }
   },
   "source": [
    "## Layer Management\n",
    "\n",
    "Demonstrate layer management capabilities like listing and controlling layers.\n"
   ]
  },
  {
   "cell_type": "code",
   "execution_count": null,
   "metadata": {},
   "outputs": [],
   "source": [
    "# List all layers\n",
    "layers = deck_map.get_layers()\n",
    "print(\"Current layers:\")\n",
    "for layer_id in layers.keys():\n",
    "    print(f\"- {layer_id}\")\n",
    "\n",
    "# Demonstrate map controls\n",
    "deck_map.set_pitch(45)  # Tilt the map for 3D effect\n",
    "deck_map.set_bearing(30)  # Rotate the map\n",
    "\n",
    "print(\"\\nSet pitch to 45° and bearing to 30° for a 3D perspective view\")"
   ]
  },
  {
   "cell_type": "raw",
   "metadata": {
    "vscode": {
     "languageId": "raw"
    }
   },
   "source": [
    "## Summary\n",
    "\n",
    "This notebook demonstrated the key features of the DeckGLMap widget:\n",
    "\n",
    "1. **Basic map creation** with center, zoom, and size configuration\n",
    "2. **Scatterplot layer** for visualizing point data with custom colors and sizes\n",
    "3. **Hexagon layer** for spatial aggregation and 3D visualization\n",
    "4. **Layer management** for listing and controlling layers\n",
    "5. **3D controls** for setting pitch and bearing to create perspective views\n",
    "\n",
    "The DeckGLMap widget provides high-performance WebGL-based visualization capabilities suitable for large datasets and complex geospatial visualizations. It's particularly effective for:\n",
    "\n",
    "- Large-scale data visualization (millions of points)\n",
    "- Interactive data exploration\n",
    "- 3D geospatial visualization\n",
    "- Real-time data streaming visualization\n",
    "- Custom data aggregation and analysis\n",
    "\n",
    "To test the map functionality, run all cells above and interact with the map by panning, zooming, and clicking on the visualization layers.\n"
   ]
  }
 ],
 "metadata": {
  "kernelspec": {
   "display_name": "Python 3",
   "language": "python",
   "name": "python3"
  },
  "language_info": {
   "codemirror_mode": {
    "name": "ipython",
    "version": 3
   },
   "file_extension": ".py",
   "mimetype": "text/x-python",
   "name": "python",
   "nbconvert_exporter": "python",
   "pygments_lexer": "ipython3",
   "version": "3.12.2"
  }
 },
 "nbformat": 4,
 "nbformat_minor": 4
}
