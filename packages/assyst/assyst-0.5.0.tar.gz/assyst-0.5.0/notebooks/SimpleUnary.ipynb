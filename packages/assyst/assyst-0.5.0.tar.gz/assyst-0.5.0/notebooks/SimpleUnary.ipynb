{
 "cells": [
  {
   "cell_type": "markdown",
   "id": "d4bf7d9b-f1dc-4de3-9c78-4fb0509e81a6",
   "metadata": {},
   "source": [
    "# Prelude"
   ]
  },
  {
   "cell_type": "code",
   "execution_count": 1,
   "id": "c4f834dd-be4d-4fda-8e56-b1c164e5c9c7",
   "metadata": {},
   "outputs": [],
   "source": [
    "from assyst.structures import Formulas, sample_space_groups\n",
    "from assyst.filters import DistanceFilter, AspectFilter, VolumeFilter\n",
    "from assyst.relax import Relax, VolumeRelax, FullRelax, relax\n",
    "from assyst.random import RandomChoice, Rattle, Stretch, apply_modifications"
   ]
  },
  {
   "cell_type": "code",
   "execution_count": 2,
   "id": "71ee3c6c-e67b-463d-8bcd-440cfcf1d8c2",
   "metadata": {},
   "outputs": [],
   "source": [
    "import numpy as np"
   ]
  },
  {
   "cell_type": "code",
   "execution_count": 30,
   "id": "bf6a7d63-544e-4806-b558-50cffeb80d58",
   "metadata": {},
   "outputs": [],
   "source": [
    "import pandas as pd"
   ]
  },
  {
   "cell_type": "code",
   "execution_count": 3,
   "id": "dc4b85df-3f31-4f73-91e9-12acb3225967",
   "metadata": {},
   "outputs": [],
   "source": [
    "from tqdm.auto import tqdm"
   ]
  },
  {
   "cell_type": "code",
   "execution_count": 4,
   "id": "561efaac-15d7-4ec5-ac08-8841febfabf4",
   "metadata": {},
   "outputs": [],
   "source": [
    "import pickle"
   ]
  },
  {
   "cell_type": "code",
   "execution_count": 5,
   "id": "1721400f-1d18-48f5-b60e-5d2f1212747e",
   "metadata": {},
   "outputs": [],
   "source": [
    "import matplotlib.pyplot as plt"
   ]
  },
  {
   "cell_type": "markdown",
   "id": "2c80a83a-8d4f-4049-8b06-f69754bcb4ad",
   "metadata": {},
   "source": [
    "## Options"
   ]
  },
  {
   "cell_type": "code",
   "execution_count": 6,
   "id": "45659b6a-60b4-43b7-9f40-33647af55ab0",
   "metadata": {},
   "outputs": [],
   "source": [
    "# maximum number of atoms to generate for the training data\n",
    "# 2 atoms is very low, chosen here only to keep the example fast\n",
    "# 10 is a usual value, leading to ~10k structures in the final training data set\n",
    "max_num = 2"
   ]
  },
  {
   "cell_type": "code",
   "execution_count": 7,
   "id": "bd71cb6d-51e7-4493-a51b-74d64158125d",
   "metadata": {},
   "outputs": [],
   "source": [
    "!mkdir -p Unary/{max_num}"
   ]
  },
  {
   "attachments": {
    "9813a77f-63ac-489a-8718-4441a944c743.png": {
     "image/png": "[encoded data removed]"
    }
   },
   "cell_type": "markdown",
   "id": "817893a3-77a4-4684-934b-7166bddcf652",
   "metadata": {},
   "source": [
    "### Reference Potential\n",
    "\n",
    "Simple example potential to have a fast reference to relax structures and generate training data.\n",
    "\n",
    "![image.png](attachment:9813a77f-63ac-489a-8718-4441a944c743.png)"
   ]
  },
  {
   "cell_type": "code",
   "execution_count": 8,
   "id": "911018d4-3b9b-4aa6-9165-8616f2d924da",
   "metadata": {},
   "outputs": [],
   "source": [
    "from ase.calculators.morse import MorsePotential"
   ]
  },
  {
   "cell_type": "markdown",
   "id": "d2b3a8cb-73ee-49e5-a86d-1bfabd9ea91f",
   "metadata": {},
   "source": [
    "The values are chosen here so that they roughly reproduce Copper's lattice parameter."
   ]
  },
  {
   "cell_type": "code",
   "execution_count": 9,
   "id": "795e8622-2047-4be8-8b66-013b154d6d6c",
   "metadata": {},
   "outputs": [],
   "source": [
    "reference = MorsePotential(epsilon=3, r0=2.55265548*1.10619396, rho0=4)"
   ]
  },
  {
   "cell_type": "markdown",
   "id": "8882157e-860e-480c-92d2-c7ae452aa3f9",
   "metadata": {},
   "source": [
    "Another good choice to play around with are the universal potentials based on the graph ACE models.\n",
    "\n",
    "For this to work you'll need to install the `tensorpotential` PyPI package."
   ]
  },
  {
   "cell_type": "code",
   "execution_count": 10,
   "id": "66cdced4-1291-4ba9-8d4b-8748bf45c936",
   "metadata": {},
   "outputs": [],
   "source": [
    "from assyst.calculators import Grace"
   ]
  },
  {
   "cell_type": "code",
   "execution_count": 11,
   "id": "0f68d016-33fa-4410-904d-da264904d8af",
   "metadata": {},
   "outputs": [
    {
     "data": {
      "text/plain": [
       "\u001b[31mInit signature:\u001b[39m Grace(model: str = \u001b[33m'GRACE-FS-OAM'\u001b[39m) -> \u001b[38;5;28;01mNone\u001b[39;00m\n",
       "\u001b[31mDocstring:\u001b[39m      Universal Graph Atomic Cluster Expansion models.\n",
       "\u001b[31mFile:\u001b[39m           ~/science/phd/dev/assyst/assyst/calculators.py\n",
       "\u001b[31mType:\u001b[39m           ABCMeta\n",
       "\u001b[31mSubclasses:\u001b[39m     "
      ]
     },
     "metadata": {},
     "output_type": "display_data"
    }
   ],
   "source": [
    "Grace?"
   ]
  },
  {
   "attachments": {},
   "cell_type": "markdown",
   "id": "9925401b-461d-48e2-91f3-1d0e62d16406",
   "metadata": {},
   "source": [
    "# 1. Sampling Random Strucxtures\n",
    "\n",
    "The first step in ASSYST: generation of random structures while prescribing all possible bulk symmetries."
   ]
  },
  {
   "cell_type": "code",
   "execution_count": 12,
   "id": "938e5453-fffe-443a-ba98-85abf1a43745",
   "metadata": {},
   "outputs": [],
   "source": [
    "fs = Formulas.unary_range('Cu', max_num + 1)"
   ]
  },
  {
   "cell_type": "code",
   "execution_count": 13,
   "id": "6d8b0871-d7cd-4136-8f3d-2db9c8310dd7",
   "metadata": {},
   "outputs": [
    {
     "data": {
      "text/plain": [
       "Formulas(atoms=({'Cu': 1}, {'Cu': 2}))"
      ]
     },
     "execution_count": 13,
     "metadata": {},
     "output_type": "execute_result"
    }
   ],
   "source": [
    "fs"
   ]
  },
  {
   "cell_type": "code",
   "execution_count": 14,
   "id": "99e1430b-6325-44a5-87bd-6c0a91d85e22",
   "metadata": {
    "scrolled": true
   },
   "outputs": [
    {
     "data": {
      "application/vnd.jupyter.widget-view+json": {
       "model_id": "3ef83177200845f186ac98b1f890d68a",
       "version_major": 2,
       "version_minor": 0
      },
      "text/plain": [
       "  0%|          | 0/2 [00:00<?, ?it/s]"
      ]
     },
     "metadata": {},
     "output_type": "display_data"
    },
    {
     "data": {
      "application/vnd.jupyter.widget-view+json": {
       "model_id": "c789a610c03840e9bc105177d29f83fa",
       "version_major": 2,
       "version_minor": 0
      },
      "text/plain": [
       "Spacegroups:   0%|          | 0/230 [00:00<?, ?it/s]"
      ]
     },
     "metadata": {},
     "output_type": "display_data"
    },
    {
     "data": {
      "application/vnd.jupyter.widget-view+json": {
       "model_id": "1cde3725439c44208d4c17260192f079",
       "version_major": 2,
       "version_minor": 0
      },
      "text/plain": [
       "Spacegroups:   0%|          | 0/230 [00:00<?, ?it/s]"
      ]
     },
     "metadata": {},
     "output_type": "display_data"
    }
   ],
   "source": [
    "spg = list(filter(\n",
    "    # without any constraints pyxtal sometimes generates strange unit cells, \n",
    "    # filter out any that have c/a > 6 as an empirical threshold\n",
    "    AspectFilter(6), \n",
    "    sample_space_groups(\n",
    "        fs, \n",
    "        # generate all possible space groups numbered from 1 to 230\n",
    "        spacegroups=range(1,230+1), \n",
    "        max_atoms=max_num\n",
    "    )\n",
    "))"
   ]
  },
  {
   "cell_type": "code",
   "execution_count": 15,
   "id": "b5deb726-cde3-410c-8ffb-5ee9499403c0",
   "metadata": {},
   "outputs": [
    {
     "data": {
      "text/plain": [
       "169"
      ]
     },
     "execution_count": 15,
     "metadata": {},
     "output_type": "execute_result"
    }
   ],
   "source": [
    "len(spg)"
   ]
  },
  {
   "cell_type": "markdown",
   "id": "338234e0-ee2c-4d49-b06a-a297099ea601",
   "metadata": {},
   "source": [
    "## Save"
   ]
  },
  {
   "cell_type": "code",
   "execution_count": 16,
   "id": "651f852c-77df-4141-bf0e-4116b4894330",
   "metadata": {},
   "outputs": [],
   "source": [
    "with open(f\"Unary/{max_num}/spg.pckl\", 'bw') as f:\n",
    "    pickle.dump(spg, f)"
   ]
  },
  {
   "cell_type": "markdown",
   "id": "5f1b03d8-a1f4-4787-adb0-a89b8fbb688b",
   "metadata": {},
   "source": [
    "# 2. Relaxing Configurations\n",
    "\n",
    "ASSYST seeks to find the important pockets in a materials' PES by applying a series of relaxation steps.\n",
    "They can be specified by `Relax` and its subclasses."
   ]
  },
  {
   "cell_type": "code",
   "execution_count": 17,
   "id": "f058b625-7719-40c7-8637-ffa4aa954ff1",
   "metadata": {},
   "outputs": [
    {
     "name": "stdout",
     "output_type": "stream",
     "text": [
      "Object `ax.Relax` not found.\n"
     ]
    }
   ],
   "source": [
    "ax.Relax?"
   ]
  },
  {
   "cell_type": "markdown",
   "id": "6201d760-1f2a-40a7-b2a4-fc279278e330",
   "metadata": {},
   "source": [
    "In the ASSYST paper we use a volume relaxation and a full internal and cell shape relaxation step that I call here `VolMin` and `AllMin`."
   ]
  },
  {
   "cell_type": "code",
   "execution_count": 18,
   "id": "95641b7d-2da7-4a02-b152-424303742a6b",
   "metadata": {},
   "outputs": [],
   "source": [
    "volset = VolumeRelax(max_steps=100, force_tolerance=1e-3)"
   ]
  },
  {
   "cell_type": "code",
   "execution_count": 19,
   "id": "5be3fd73-60cf-4d91-af31-b0bd1107fff7",
   "metadata": {},
   "outputs": [],
   "source": [
    "allset = FullRelax(max_steps=100, force_tolerance=1e-3)"
   ]
  },
  {
   "cell_type": "markdown",
   "id": "8803af2d-09e9-47d9-a7f9-1c4b239f6219",
   "metadata": {},
   "source": [
    "Some more experimental relaxation settings are defined in `assyst.relax`, e.g. options to relax only the cell shape or placing constraints on the symmetry."
   ]
  },
  {
   "cell_type": "markdown",
   "id": "ece7dfc1-e283-4242-98a6-5c9e0c3a4eaa",
   "metadata": {},
   "source": [
    "In practice, these relaxations are carried out using DFT with low convergence settings.  To speed up this example,\n",
    "I use here a Morse Potential calculator from ASE, but interfaces to production quality DFT codes exist as well and could be dropped in here."
   ]
  },
  {
   "cell_type": "code",
   "execution_count": 20,
   "id": "f78459ca-cd46-4515-be59-1ae8efbb0eff",
   "metadata": {},
   "outputs": [
    {
     "data": {
      "application/vnd.jupyter.widget-view+json": {
       "model_id": "1c5a60c0d8a34af1856d07c393bcb21a",
       "version_major": 2,
       "version_minor": 0
      },
      "text/plain": [
       "  0%|          | 0/169 [00:00<?, ?it/s]"
      ]
     },
     "metadata": {},
     "output_type": "display_data"
    },
    {
     "name": "stdout",
     "output_type": "stream",
     "text": [
      "CPU times: user 5min 6s, sys: 408 ms, total: 5min 7s\n",
      "Wall time: 1min 45s\n"
     ]
    }
   ],
   "source": [
    "%%time\n",
    "volmin = list(relax(volset, reference, tqdm(spg)))"
   ]
  },
  {
   "cell_type": "code",
   "execution_count": 21,
   "id": "6d72d820-6278-42a8-be71-f1417c211e32",
   "metadata": {
    "scrolled": true
   },
   "outputs": [
    {
     "data": {
      "application/vnd.jupyter.widget-view+json": {
       "model_id": "a86f256b2321410fb1d0396527cde723",
       "version_major": 2,
       "version_minor": 0
      },
      "text/plain": [
       "  0%|          | 0/169 [00:00<?, ?it/s]"
      ]
     },
     "metadata": {},
     "output_type": "display_data"
    },
    {
     "name": "stderr",
     "output_type": "stream",
     "text": [
      "/home/ponder/micromamba/envs/assyst/lib/python3.12/site-packages/ase/filters.py:606: RuntimeWarning: logm result may be inaccurate, approximate err = 2.5662504460536307e-13\n",
      "  pos[natoms:] = self.logm(pos[natoms:]) * self.exp_cell_factor\n",
      "/home/ponder/micromamba/envs/assyst/lib/python3.12/site-packages/ase/filters.py:606: RuntimeWarning: logm result may be inaccurate, approximate err = 3.152634085321654e-13\n",
      "  pos[natoms:] = self.logm(pos[natoms:]) * self.exp_cell_factor\n",
      "/home/ponder/micromamba/envs/assyst/lib/python3.12/site-packages/ase/filters.py:606: RuntimeWarning: logm result may be inaccurate, approximate err = 3.87258626401655e-13\n",
      "  pos[natoms:] = self.logm(pos[natoms:]) * self.exp_cell_factor\n",
      "/home/ponder/micromamba/envs/assyst/lib/python3.12/site-packages/ase/filters.py:606: RuntimeWarning: logm result may be inaccurate, approximate err = 4.781832490885594e-13\n",
      "  pos[natoms:] = self.logm(pos[natoms:]) * self.exp_cell_factor\n",
      "/home/ponder/micromamba/envs/assyst/lib/python3.12/site-packages/ase/filters.py:606: RuntimeWarning: logm result may be inaccurate, approximate err = 3.9143477247041783e-13\n",
      "  pos[natoms:] = self.logm(pos[natoms:]) * self.exp_cell_factor\n",
      "/home/ponder/micromamba/envs/assyst/lib/python3.12/site-packages/ase/filters.py:606: RuntimeWarning: logm result may be inaccurate, approximate err = 4.733261283409307e-13\n",
      "  pos[natoms:] = self.logm(pos[natoms:]) * self.exp_cell_factor\n",
      "/home/ponder/micromamba/envs/assyst/lib/python3.12/site-packages/ase/filters.py:606: RuntimeWarning: logm result may be inaccurate, approximate err = 3.8934719861740446e-13\n",
      "  pos[natoms:] = self.logm(pos[natoms:]) * self.exp_cell_factor\n",
      "/home/ponder/micromamba/envs/assyst/lib/python3.12/site-packages/ase/filters.py:606: RuntimeWarning: logm result may be inaccurate, approximate err = 3.1740659665665104e-13\n",
      "  pos[natoms:] = self.logm(pos[natoms:]) * self.exp_cell_factor\n",
      "/home/ponder/micromamba/envs/assyst/lib/python3.12/site-packages/ase/filters.py:606: RuntimeWarning: logm result may be inaccurate, approximate err = 2.5170821896698307e-13\n",
      "  pos[natoms:] = self.logm(pos[natoms:]) * self.exp_cell_factor\n",
      "/home/ponder/micromamba/envs/assyst/lib/python3.12/site-packages/ase/filters.py:606: RuntimeWarning: logm result may be inaccurate, approximate err = 2.2457279913751976e-13\n",
      "  pos[natoms:] = self.logm(pos[natoms:]) * self.exp_cell_factor\n",
      "/home/ponder/micromamba/envs/assyst/lib/python3.12/site-packages/ase/filters.py:606: RuntimeWarning: logm result may be inaccurate, approximate err = 2.7154053887427625e-13\n",
      "  pos[natoms:] = self.logm(pos[natoms:]) * self.exp_cell_factor\n",
      "/home/ponder/micromamba/envs/assyst/lib/python3.12/site-packages/ase/filters.py:606: RuntimeWarning: logm result may be inaccurate, approximate err = 3.30999183835091e-13\n",
      "  pos[natoms:] = self.logm(pos[natoms:]) * self.exp_cell_factor\n",
      "/home/ponder/micromamba/envs/assyst/lib/python3.12/site-packages/ase/filters.py:606: RuntimeWarning: logm result may be inaccurate, approximate err = 4.154930599731308e-13\n",
      "  pos[natoms:] = self.logm(pos[natoms:]) * self.exp_cell_factor\n",
      "/home/ponder/micromamba/envs/assyst/lib/python3.12/site-packages/ase/filters.py:606: RuntimeWarning: logm result may be inaccurate, approximate err = 5.034059553348933e-13\n",
      "  pos[natoms:] = self.logm(pos[natoms:]) * self.exp_cell_factor\n",
      "/home/ponder/micromamba/envs/assyst/lib/python3.12/site-packages/ase/filters.py:606: RuntimeWarning: logm result may be inaccurate, approximate err = 6.17289303806074e-13\n",
      "  pos[natoms:] = self.logm(pos[natoms:]) * self.exp_cell_factor\n",
      "/home/ponder/micromamba/envs/assyst/lib/python3.12/site-packages/ase/filters.py:606: RuntimeWarning: logm result may be inaccurate, approximate err = 7.602939151619947e-13\n",
      "  pos[natoms:] = self.logm(pos[natoms:]) * self.exp_cell_factor\n",
      "/home/ponder/micromamba/envs/assyst/lib/python3.12/site-packages/ase/filters.py:624: RuntimeWarning: logm result may be inaccurate, approximate err = 2.2406054594238023e-13\n",
      "  cur_deform_grad_log = self.logm(cur_deform_grad)\n",
      "/home/ponder/micromamba/envs/assyst/lib/python3.12/site-packages/ase/filters.py:624: RuntimeWarning: logm result may be inaccurate, approximate err = 2.794074672197907e-13\n",
      "  cur_deform_grad_log = self.logm(cur_deform_grad)\n",
      "/home/ponder/micromamba/envs/assyst/lib/python3.12/site-packages/ase/filters.py:624: RuntimeWarning: logm result may be inaccurate, approximate err = 3.449695769750924e-13\n",
      "  cur_deform_grad_log = self.logm(cur_deform_grad)\n",
      "/home/ponder/micromamba/envs/assyst/lib/python3.12/site-packages/ase/filters.py:624: RuntimeWarning: logm result may be inaccurate, approximate err = 4.2013866932673195e-13\n",
      "  cur_deform_grad_log = self.logm(cur_deform_grad)\n",
      "/home/ponder/micromamba/envs/assyst/lib/python3.12/site-packages/ase/filters.py:624: RuntimeWarning: logm result may be inaccurate, approximate err = 3.466892436823629e-13\n",
      "  cur_deform_grad_log = self.logm(cur_deform_grad)\n",
      "/home/ponder/micromamba/envs/assyst/lib/python3.12/site-packages/ase/filters.py:624: RuntimeWarning: logm result may be inaccurate, approximate err = 4.182672219550793e-13\n",
      "  cur_deform_grad_log = self.logm(cur_deform_grad)\n",
      "/home/ponder/micromamba/envs/assyst/lib/python3.12/site-packages/ase/filters.py:624: RuntimeWarning: logm result may be inaccurate, approximate err = 3.412476570953431e-13\n",
      "  cur_deform_grad_log = self.logm(cur_deform_grad)\n",
      "/home/ponder/micromamba/envs/assyst/lib/python3.12/site-packages/ase/filters.py:624: RuntimeWarning: logm result may be inaccurate, approximate err = 2.733163370593253e-13\n",
      "  cur_deform_grad_log = self.logm(cur_deform_grad)\n",
      "/home/ponder/micromamba/envs/assyst/lib/python3.12/site-packages/ase/filters.py:624: RuntimeWarning: logm result may be inaccurate, approximate err = 2.2241603004568133e-13\n",
      "  cur_deform_grad_log = self.logm(cur_deform_grad)\n",
      "/home/ponder/micromamba/envs/assyst/lib/python3.12/site-packages/ase/filters.py:624: RuntimeWarning: logm result may be inaccurate, approximate err = 2.7406938157256657e-13\n",
      "  cur_deform_grad_log = self.logm(cur_deform_grad)\n",
      "/home/ponder/micromamba/envs/assyst/lib/python3.12/site-packages/ase/filters.py:624: RuntimeWarning: logm result may be inaccurate, approximate err = 3.4226602706488267e-13\n",
      "  cur_deform_grad_log = self.logm(cur_deform_grad)\n",
      "/home/ponder/micromamba/envs/assyst/lib/python3.12/site-packages/ase/filters.py:624: RuntimeWarning: logm result may be inaccurate, approximate err = 4.1862749432873125e-13\n",
      "  cur_deform_grad_log = self.logm(cur_deform_grad)\n",
      "/home/ponder/micromamba/envs/assyst/lib/python3.12/site-packages/ase/filters.py:624: RuntimeWarning: logm result may be inaccurate, approximate err = 5.149755675304316e-13\n",
      "  cur_deform_grad_log = self.logm(cur_deform_grad)\n",
      "/home/ponder/micromamba/envs/assyst/lib/python3.12/site-packages/ase/filters.py:624: RuntimeWarning: logm result may be inaccurate, approximate err = 6.290614091489772e-13\n",
      "  cur_deform_grad_log = self.logm(cur_deform_grad)\n",
      "/home/ponder/micromamba/envs/assyst/lib/python3.12/site-packages/ase/filters.py:624: RuntimeWarning: logm result may be inaccurate, approximate err = 7.655760153885665e-13\n",
      "  cur_deform_grad_log = self.logm(cur_deform_grad)\n",
      "/home/ponder/micromamba/envs/assyst/lib/python3.12/site-packages/ase/filters.py:624: RuntimeWarning: logm result may be inaccurate, approximate err = 6.3012691731166e-13\n",
      "  cur_deform_grad_log = self.logm(cur_deform_grad)\n",
      "/home/ponder/micromamba/envs/assyst/lib/python3.12/site-packages/ase/filters.py:624: RuntimeWarning: logm result may be inaccurate, approximate err = 7.675856530849521e-13\n",
      "  cur_deform_grad_log = self.logm(cur_deform_grad)\n",
      "/home/ponder/micromamba/envs/assyst/lib/python3.12/site-packages/ase/filters.py:624: RuntimeWarning: logm result may be inaccurate, approximate err = 7.601369589498118e-13\n",
      "  cur_deform_grad_log = self.logm(cur_deform_grad)\n",
      "/home/ponder/micromamba/envs/assyst/lib/python3.12/site-packages/ase/filters.py:624: RuntimeWarning: logm result may be inaccurate, approximate err = 6.273250283706507e-13\n",
      "  cur_deform_grad_log = self.logm(cur_deform_grad)\n",
      "/home/ponder/micromamba/envs/assyst/lib/python3.12/site-packages/ase/filters.py:624: RuntimeWarning: logm result may be inaccurate, approximate err = 7.550290859521722e-13\n",
      "  cur_deform_grad_log = self.logm(cur_deform_grad)\n",
      "/home/ponder/micromamba/envs/assyst/lib/python3.12/site-packages/ase/filters.py:624: RuntimeWarning: logm result may be inaccurate, approximate err = 7.648220312278112e-13\n",
      "  cur_deform_grad_log = self.logm(cur_deform_grad)\n",
      "/home/ponder/micromamba/envs/assyst/lib/python3.12/site-packages/ase/filters.py:624: RuntimeWarning: logm result may be inaccurate, approximate err = 6.245592275637146e-13\n",
      "  cur_deform_grad_log = self.logm(cur_deform_grad)\n",
      "/home/ponder/micromamba/envs/assyst/lib/python3.12/site-packages/ase/filters.py:624: RuntimeWarning: logm result may be inaccurate, approximate err = 7.619139545404797e-13\n",
      "  cur_deform_grad_log = self.logm(cur_deform_grad)\n"
     ]
    }
   ],
   "source": [
    "allmin = list(relax(allset, reference, tqdm(volmin)))"
   ]
  },
  {
   "cell_type": "markdown",
   "id": "fa0bd05a-8567-473f-86a0-2568c90428e3",
   "metadata": {},
   "source": [
    "## Save"
   ]
  },
  {
   "cell_type": "code",
   "execution_count": 22,
   "id": "f6d231ac-3486-443b-af5d-1e19e6d67234",
   "metadata": {},
   "outputs": [],
   "source": [
    "with open(f'Unary/{max_num}/volmin.pckl', 'wb') as f:\n",
    "    pickle.dump(volmin, f)\n",
    "with open(f'Unary/{max_num}/allmin.pckl', 'wb') as f:\n",
    "    pickle.dump(allmin, f)"
   ]
  },
  {
   "cell_type": "markdown",
   "id": "0f0a03be-e8c9-47db-aa12-70b3fb9ba0f4",
   "metadata": {},
   "source": [
    "# 3. Random Perturbations\n",
    "\n",
    "Final step in ASSYST: generating random configurations around the minima identified previously.\n",
    "\n",
    "Apply the three types of random perturbations described in the ASSYST paper:\n",
    "1. mostly positional noise with some cell changes\n",
    "2. mostly hydrostatic cell changes\n",
    "3. mostly shear cell changes\n",
    "\n",
    "The later are combined to favour hydrostatic changes a bit more with `RandomChoice`.\n",
    "The final list `mods` contains function-like objects that are applied to each fully minimized structure resulting from the previous steps.  `DistanceFilter` ensures that no structures contain atoms that are too close as a result of these modification."
   ]
  },
  {
   "cell_type": "code",
   "execution_count": 23,
   "id": "8df9f86e-94fc-4869-a15b-37f9c06a281a",
   "metadata": {},
   "outputs": [],
   "source": [
    "rattle = Rattle(.25) + Stretch(hydro=.05, shear=0.005)\n",
    "hydro = Stretch(hydro=.80, shear=.05)\n",
    "shear = Stretch(hydro=.05, shear=.20)\n",
    "stretch = RandomChoice(hydro, shear, .7)\n",
    "mods = 4*[rattle] + 4*[stretch]"
   ]
  },
  {
   "cell_type": "markdown",
   "id": "b8d1eaf7-425b-4565-b90e-d4298e237821",
   "metadata": {},
   "source": [
    "The settings above reproduce the so far published training sets, but may be optimized or played with."
   ]
  },
  {
   "cell_type": "code",
   "execution_count": 24,
   "id": "21bacab1-1cec-4802-bf10-200eb7a529c0",
   "metadata": {},
   "outputs": [
    {
     "name": "stdout",
     "output_type": "stream",
     "text": [
      "CPU times: user 1.41 s, sys: 1.98 ms, total: 1.41 s\n",
      "Wall time: 1.34 s\n"
     ]
    }
   ],
   "source": [
    "%%time\n",
    "random = list(apply_modifications(allmin, mods, filters=[DistanceFilter({'Cu': 1})]))"
   ]
  },
  {
   "cell_type": "code",
   "execution_count": 25,
   "id": "584bff83-4a3a-47db-b661-2d81ceef52f0",
   "metadata": {},
   "outputs": [
    {
     "data": {
      "text/plain": [
       "1071"
      ]
     },
     "execution_count": 25,
     "metadata": {},
     "output_type": "execute_result"
    }
   ],
   "source": [
    "len(random)"
   ]
  },
  {
   "cell_type": "markdown",
   "id": "d070b0c5-5fe6-48ab-89fe-26f1a32766c2",
   "metadata": {},
   "source": [
    "## Save"
   ]
  },
  {
   "cell_type": "code",
   "execution_count": 26,
   "id": "0961a240-c6af-4a8a-b474-bc39e7f97818",
   "metadata": {},
   "outputs": [],
   "source": [
    "with open(f'Unary/{max_num}/random.pckl', 'wb') as f:\n",
    "    pickle.dump(random, f)"
   ]
  },
  {
   "cell_type": "markdown",
   "id": "b57db7f1-de63-4210-a9c8-105e7854d0d9",
   "metadata": {},
   "source": [
    "# 4. Combine and Save Results\n",
    "\n",
    "Load data from previous notebooks and evaluate cheap reference potential to construct\n",
    "a simple training set."
   ]
  },
  {
   "cell_type": "code",
   "execution_count": 27,
   "id": "7b5520e6-2d0d-49c9-9887-fff21399b362",
   "metadata": {},
   "outputs": [],
   "source": [
    "with open(f'Unary/{max_num}/spg.pckl', 'rb') as f:\n",
    "    spg = pickle.load(f)\n",
    "with open(f'Unary/{max_num}/volmin.pckl', 'rb') as f:\n",
    "    volmin = pickle.load(f)\n",
    "with open(f'Unary/{max_num}/allmin.pckl', 'rb') as f:\n",
    "    allmin = pickle.load(f)\n",
    "with open(f'Unary/{max_num}/random.pckl', 'rb') as f:\n",
    "    random = pickle.load(f)"
   ]
  },
  {
   "cell_type": "markdown",
   "id": "fc2caf5c-815b-48ea-9a0c-fe6cbd40daa0",
   "metadata": {},
   "source": [
    "Final filter step, removing structures with very close atoms or very large volumes.\n",
    "In production runs, structures could also be filtered by forces or energy ranges."
   ]
  },
  {
   "cell_type": "code",
   "execution_count": 28,
   "id": "ff6e66a0-ca94-4f2d-ba1d-c504628cbf9a",
   "metadata": {},
   "outputs": [],
   "source": [
    "everything = list(filter(VolumeFilter(300), filter(DistanceFilter({'Cu': 1}), spg + volmin + allmin + random)))"
   ]
  },
  {
   "cell_type": "code",
   "execution_count": 29,
   "id": "c39e5287-0db9-4c79-9e49-0c4c519fa5bf",
   "metadata": {},
   "outputs": [],
   "source": [
    "with open(f'Unary/{max_num}/everything.pckl', 'wb') as f:\n",
    "    pickle.dump(everything, f)"
   ]
  },
  {
   "cell_type": "markdown",
   "id": "2b013323-3456-4054-88c9-0f31b1605f94",
   "metadata": {},
   "source": [
    "# Fit a simple potential\n",
    "\n",
    "Technically not part of the ASSYST workflow anymore, but now we have everything to train a (simple) potential."
   ]
  },
  {
   "cell_type": "code",
   "execution_count": 32,
   "id": "4c205e8f-ee04-4886-931f-436f19af292f",
   "metadata": {},
   "outputs": [
    {
     "data": {
      "application/vnd.jupyter.widget-view+json": {
       "model_id": "6674b014b14d4a8ba149162435957d12",
       "version_major": 2,
       "version_minor": 0
      },
      "text/plain": [
       "  0%|          | 0/1459 [00:00<?, ?it/s]"
      ]
     },
     "metadata": {},
     "output_type": "display_data"
    }
   ],
   "source": [
    "df = []\n",
    "for s in tqdm(everything):\n",
    "    s.calc = reference\n",
    "    df.append({\n",
    "        'ase_atoms': s,\n",
    "        'energy': s.get_potential_energy(),\n",
    "        'forces': s.get_forces(),\n",
    "        'number_of_atoms': len(s)\n",
    "    })\n",
    "df = pd.DataFrame(df)"
   ]
  },
  {
   "cell_type": "code",
   "execution_count": 33,
   "id": "a01a84d1-868f-4e67-ba80-6f8d75fb19b3",
   "metadata": {},
   "outputs": [],
   "source": [
    "df.to_pickle(f'Unary/{max_num}/everything_training_data.pckl.gz')"
   ]
  },
  {
   "cell_type": "code",
   "execution_count": 34,
   "id": "6444e707-bf33-4182-a797-90f6659801e5",
   "metadata": {},
   "outputs": [
    {
     "data": {
      "text/plain": [
       "Text(0.5, 0, 'Energy per atom [eV/atom]')"
      ]
     },
     "execution_count": 34,
     "metadata": {},
     "output_type": "execute_result"
    },
    {
     "data": {
      "image/png": "[encoded data removed]",
      "text/plain": [
       "<Figure size 640x480 with 1 Axes>"
      ]
     },
     "metadata": {},
     "output_type": "display_data"
    }
   ],
   "source": [
    "df.eval('energy/number_of_atoms').plot.hist(bins=100, log=True)\n",
    "plt.xlabel('Energy per atom [eV/atom]')"
   ]
  },
  {
   "cell_type": "code",
   "execution_count": 35,
   "id": "2dd20353-f1c7-42a5-a817-4fd0f55f3885",
   "metadata": {},
   "outputs": [
    {
     "data": {
      "text/plain": [
       "(0.0, 300.0)"
      ]
     },
     "execution_count": 35,
     "metadata": {},
     "output_type": "execute_result"
    },
    {
     "data": {
      "image/png": "[encoded data removed]",
      "text/plain": [
       "<Figure size 640x480 with 1 Axes>"
      ]
     },
     "metadata": {},
     "output_type": "display_data"
    }
   ],
   "source": [
    "plt.scatter(df.ase_atoms.map(lambda s: s.cell.volume/len(s)), df.energy/df.number_of_atoms, marker='.')\n",
    "plt.xlim(0, 300)"
   ]
  },
  {
   "cell_type": "code",
   "execution_count": 36,
   "id": "df20da54-3291-428b-afe1-16443a088973",
   "metadata": {},
   "outputs": [
    {
     "data": {
      "text/plain": [
       "Text(0.5, 0, 'force components [eV/$\\\\mathrm{\\\\AA}$]')"
      ]
     },
     "execution_count": 36,
     "metadata": {},
     "output_type": "execute_result"
    },
    {
     "data": {
      "image/png": "[encoded data removed]",
      "text/plain": [
       "<Figure size 640x480 with 1 Axes>"
      ]
     },
     "metadata": {},
     "output_type": "display_data"
    }
   ],
   "source": [
    "df.forces.explode().explode().infer_objects().plot.hist(bins=100, log=True)\n",
    "plt.xlabel(r'force components [eV/$\\mathrm{\\AA}$]')"
   ]
  },
  {
   "cell_type": "markdown",
   "id": "641bb5f7-d45f-4ff4-a281-92517e121926",
   "metadata": {},
   "source": [
    "## ACE\n",
    "\n",
    "Fit a simplified linear, pair descriptor only ACE potential to the training data.\n",
    "\n",
    "You'll need to install `python-ace` from either PyPI or conda-forge."
   ]
  },
  {
   "cell_type": "code",
   "execution_count": 37,
   "id": "09cc380e-cd17-4fe5-a543-96929e473a64",
   "metadata": {},
   "outputs": [
    {
     "name": "stderr",
     "output_type": "stream",
     "text": [
      "/home/ponder/micromamba/envs/assyst/lib/python3.12/site-packages/pyace/multispecies_basisextension.py:4: UserWarning: pkg_resources is deprecated as an API. See https://setuptools.pypa.io/en/latest/pkg_resources.html. The pkg_resources package is slated for removal as early as 2025-11-30. Refrain from using this package or pin to Setuptools<81.\n",
      "  import pkg_resources\n"
     ]
    }
   ],
   "source": [
    "import pyace.linearacefit as plf\n",
    "import pyace\n",
    "def make_ace(rmax, number_of_radial_functions, element='Cu'):\n",
    "    '''Creates a simple basis configuration for a pair ACE.'''\n",
    "    pot_conf = {\n",
    "        'elements': [element],\n",
    "        'embeddings': {\n",
    "            'ALL': {\n",
    "                'fs_parameters': [1, 1],\n",
    "                'ndensity': 1,\n",
    "                'npot': 'FinnisSinclair',\n",
    "            },\n",
    "        },\n",
    "        'bonds': {\n",
    "            'ALL': {\n",
    "                'NameOfCutoffFunction': 'cos',\n",
    "                'dcut': 0.01,\n",
    "                'radbase': 'ChebPow',\n",
    "                'radparameters': [2.0],\n",
    "                'rcut': rmax\n",
    "            },\n",
    "        },\n",
    "        'functions': {\n",
    "            'UNARY': { \n",
    "                'nradmax_by_orders': [ number_of_radial_functions ],\n",
    "                'lmax_by_orders':    [  0 ] \n",
    "            }\n",
    "        }\n",
    "    }\n",
    "    return pyace.create_multispecies_basis_config(pot_conf)"
   ]
  },
  {
   "cell_type": "code",
   "execution_count": 38,
   "id": "f9da8788-8677-46c8-9130-3e4d7baa8206",
   "metadata": {},
   "outputs": [],
   "source": [
    "from ase import Atoms\n",
    "def dimer(calc, r):\n",
    "    '''Helper function to evaluate a dimer curve for a given calculator.\n",
    "\n",
    "    Args:\n",
    "        calc (ase.calculator.Calculator): the potential to evaluate\n",
    "        r (iterable of float): distances to evaluate the dimer curve at\n",
    "\n",
    "    Returns:\n",
    "        array of distances as given, array of corresponding energies.'''\n",
    "    s = lambda r: Atoms(['Cu','Cu'], positions=[[0.]*3, [r, 0, 0]], cell=[40]*3)\n",
    "    e = []\n",
    "    r = np.array(r)\n",
    "    for ri in r:\n",
    "        si = s(ri)\n",
    "        si.calc = calc\n",
    "        e.append(si.get_potential_energy())\n",
    "    return r, np.array(e)"
   ]
  },
  {
   "cell_type": "code",
   "execution_count": 39,
   "id": "98c1228f-3fc8-425a-9937-9d48b3cb8455",
   "metadata": {},
   "outputs": [],
   "source": [
    "bbasis = make_ace(6.5, number_of_radial_functions=20, element='Cu')\n",
    "ds = plf.LinearACEDataset(bbasis, df)"
   ]
  },
  {
   "cell_type": "code",
   "execution_count": 40,
   "id": "e184bf44-08e7-471e-96e7-6a7768d5423a",
   "metadata": {},
   "outputs": [
    {
     "name": "stdout",
     "output_type": "stream",
     "text": [
      "CPU times: user 17.1 ms, sys: 81.3 ms, total: 98.4 ms\n",
      "Wall time: 1.44 s\n"
     ]
    }
   ],
   "source": [
    "%%time\n",
    "ds.construct_design_matrix()"
   ]
  },
  {
   "cell_type": "code",
   "execution_count": 41,
   "id": "e448fa0b-01f4-4374-a7dd-7cc3d2f0903f",
   "metadata": {},
   "outputs": [],
   "source": [
    "lf = plf.LinearACEFit(train_dataset=ds)"
   ]
  },
  {
   "cell_type": "code",
   "execution_count": 42,
   "id": "37888c6c-96c8-4c9f-a8b8-3bd2e49ad354",
   "metadata": {},
   "outputs": [
    {
     "name": "stdout",
     "output_type": "stream",
     "text": [
      "CPU times: user 10.5 ms, sys: 1.97 ms, total: 12.5 ms\n",
      "Wall time: 11.3 ms\n"
     ]
    },
    {
     "data": {
      "text/html": [
       "<style>#sk-container-id-1 {\n",
       "  /* Definition of color scheme common for light and dark mode */\n",
       "  --sklearn-color-text: #000;\n",
       "  --sklearn-color-text-muted: #666;\n",
       "  --sklearn-color-line: gray;\n",
       "  /* Definition of color scheme for unfitted estimators */\n",
       "  --sklearn-color-unfitted-level-0: #fff5e6;\n",
       "  --sklearn-color-unfitted-level-1: #f6e4d2;\n",
       "  --sklearn-color-unfitted-level-2: #ffe0b3;\n",
       "  --sklearn-color-unfitted-level-3: chocolate;\n",
       "  /* Definition of color scheme for fitted estimators */\n",
       "  --sklearn-color-fitted-level-0: #f0f8ff;\n",
       "  --sklearn-color-fitted-level-1: #d4ebff;\n",
       "  --sklearn-color-fitted-level-2: #b3dbfd;\n",
       "  --sklearn-color-fitted-level-3: cornflowerblue;\n",
       "\n",
       "  /* Specific color for light theme */\n",
       "  --sklearn-color-text-on-default-background: var(--sg-text-color, var(--theme-code-foreground, var(--jp-content-font-color1, black)));\n",
       "  --sklearn-color-background: var(--sg-background-color, var(--theme-background, var(--jp-layout-color0, white)));\n",
       "  --sklearn-color-border-box: var(--sg-text-color, var(--theme-code-foreground, var(--jp-content-font-color1, black)));\n",
       "  --sklearn-color-icon: #696969;\n",
       "\n",
       "  @media (prefers-color-scheme: dark) {\n",
       "    /* Redefinition of color scheme for dark theme */\n",
       "    --sklearn-color-text-on-default-background: var(--sg-text-color, var(--theme-code-foreground, var(--jp-content-font-color1, white)));\n",
       "    --sklearn-color-background: var(--sg-background-color, var(--theme-background, var(--jp-layout-color0, #111)));\n",
       "    --sklearn-color-border-box: var(--sg-text-color, var(--theme-code-foreground, var(--jp-content-font-color1, white)));\n",
       "    --sklearn-color-icon: #878787;\n",
       "  }\n",
       "}\n",
       "\n",
       "#sk-container-id-1 {\n",
       "  color: var(--sklearn-color-text);\n",
       "}\n",
       "\n",
       "#sk-container-id-1 pre {\n",
       "  padding: 0;\n",
       "}\n",
       "\n",
       "#sk-container-id-1 input.sk-hidden--visually {\n",
       "  border: 0;\n",
       "  clip: rect(1px 1px 1px 1px);\n",
       "  clip: rect(1px, 1px, 1px, 1px);\n",
       "  height: 1px;\n",
       "  margin: -1px;\n",
       "  overflow: hidden;\n",
       "  padding: 0;\n",
       "  position: absolute;\n",
       "  width: 1px;\n",
       "}\n",
       "\n",
       "#sk-container-id-1 div.sk-dashed-wrapped {\n",
       "  border: 1px dashed var(--sklearn-color-line);\n",
       "  margin: 0 0.4em 0.5em 0.4em;\n",
       "  box-sizing: border-box;\n",
       "  padding-bottom: 0.4em;\n",
       "  background-color: var(--sklearn-color-background);\n",
       "}\n",
       "\n",
       "#sk-container-id-1 div.sk-container {\n",
       "  /* jupyter's `normalize.less` sets `[hidden] { display: none; }`\n",
       "     but bootstrap.min.css set `[hidden] { display: none !important; }`\n",
       "     so we also need the `!important` here to be able to override the\n",
       "     default hidden behavior on the sphinx rendered scikit-learn.org.\n",
       "     See: https://github.com/scikit-learn/scikit-learn/issues/21755 */\n",
       "  display: inline-block !important;\n",
       "  position: relative;\n",
       "}\n",
       "\n",
       "#sk-container-id-1 div.sk-text-repr-fallback {\n",
       "  display: none;\n",
       "}\n",
       "\n",
       "div.sk-parallel-item,\n",
       "div.sk-serial,\n",
       "div.sk-item {\n",
       "  /* draw centered vertical line to link estimators */\n",
       "  background-image: linear-gradient(var(--sklearn-color-text-on-default-background), var(--sklearn-color-text-on-default-background));\n",
       "  background-size: 2px 100%;\n",
       "  background-repeat: no-repeat;\n",
       "  background-position: center center;\n",
       "}\n",
       "\n",
       "/* Parallel-specific style estimator block */\n",
       "\n",
       "#sk-container-id-1 div.sk-parallel-item::after {\n",
       "  content: \"\";\n",
       "  width: 100%;\n",
       "  border-bottom: 2px solid var(--sklearn-color-text-on-default-background);\n",
       "  flex-grow: 1;\n",
       "}\n",
       "\n",
       "#sk-container-id-1 div.sk-parallel {\n",
       "  display: flex;\n",
       "  align-items: stretch;\n",
       "  justify-content: center;\n",
       "  background-color: var(--sklearn-color-background);\n",
       "  position: relative;\n",
       "}\n",
       "\n",
       "#sk-container-id-1 div.sk-parallel-item {\n",
       "  display: flex;\n",
       "  flex-direction: column;\n",
       "}\n",
       "\n",
       "#sk-container-id-1 div.sk-parallel-item:first-child::after {\n",
       "  align-self: flex-end;\n",
       "  width: 50%;\n",
       "}\n",
       "\n",
       "#sk-container-id-1 div.sk-parallel-item:last-child::after {\n",
       "  align-self: flex-start;\n",
       "  width: 50%;\n",
       "}\n",
       "\n",
       "#sk-container-id-1 div.sk-parallel-item:only-child::after {\n",
       "  width: 0;\n",
       "}\n",
       "\n",
       "/* Serial-specific style estimator block */\n",
       "\n",
       "#sk-container-id-1 div.sk-serial {\n",
       "  display: flex;\n",
       "  flex-direction: column;\n",
       "  align-items: center;\n",
       "  background-color: var(--sklearn-color-background);\n",
       "  padding-right: 1em;\n",
       "  padding-left: 1em;\n",
       "}\n",
       "\n",
       "\n",
       "/* Toggleable style: style used for estimator/Pipeline/ColumnTransformer box that is\n",
       "clickable and can be expanded/collapsed.\n",
       "- Pipeline and ColumnTransformer use this feature and define the default style\n",
       "- Estimators will overwrite some part of the style using the `sk-estimator` class\n",
       "*/\n",
       "\n",
       "/* Pipeline and ColumnTransformer style (default) */\n",
       "\n",
       "#sk-container-id-1 div.sk-toggleable {\n",
       "  /* Default theme specific background. It is overwritten whether we have a\n",
       "  specific estimator or a Pipeline/ColumnTransformer */\n",
       "  background-color: var(--sklearn-color-background);\n",
       "}\n",
       "\n",
       "/* Toggleable label */\n",
       "#sk-container-id-1 label.sk-toggleable__label {\n",
       "  cursor: pointer;\n",
       "  display: flex;\n",
       "  width: 100%;\n",
       "  margin-bottom: 0;\n",
       "  padding: 0.5em;\n",
       "  box-sizing: border-box;\n",
       "  text-align: center;\n",
       "  align-items: start;\n",
       "  justify-content: space-between;\n",
       "  gap: 0.5em;\n",
       "}\n",
       "\n",
       "#sk-container-id-1 label.sk-toggleable__label .caption {\n",
       "  font-size: 0.6rem;\n",
       "  font-weight: lighter;\n",
       "  color: var(--sklearn-color-text-muted);\n",
       "}\n",
       "\n",
       "#sk-container-id-1 label.sk-toggleable__label-arrow:before {\n",
       "  /* Arrow on the left of the label */\n",
       "  content: \"▸\";\n",
       "  float: left;\n",
       "  margin-right: 0.25em;\n",
       "  color: var(--sklearn-color-icon);\n",
       "}\n",
       "\n",
       "#sk-container-id-1 label.sk-toggleable__label-arrow:hover:before {\n",
       "  color: var(--sklearn-color-text);\n",
       "}\n",
       "\n",
       "/* Toggleable content - dropdown */\n",
       "\n",
       "#sk-container-id-1 div.sk-toggleable__content {\n",
       "  display: none;\n",
       "  text-align: left;\n",
       "  /* unfitted */\n",
       "  background-color: var(--sklearn-color-unfitted-level-0);\n",
       "}\n",
       "\n",
       "#sk-container-id-1 div.sk-toggleable__content.fitted {\n",
       "  /* fitted */\n",
       "  background-color: var(--sklearn-color-fitted-level-0);\n",
       "}\n",
       "\n",
       "#sk-container-id-1 div.sk-toggleable__content pre {\n",
       "  margin: 0.2em;\n",
       "  border-radius: 0.25em;\n",
       "  color: var(--sklearn-color-text);\n",
       "  /* unfitted */\n",
       "  background-color: var(--sklearn-color-unfitted-level-0);\n",
       "}\n",
       "\n",
       "#sk-container-id-1 div.sk-toggleable__content.fitted pre {\n",
       "  /* unfitted */\n",
       "  background-color: var(--sklearn-color-fitted-level-0);\n",
       "}\n",
       "\n",
       "#sk-container-id-1 input.sk-toggleable__control:checked~div.sk-toggleable__content {\n",
       "  /* Expand drop-down */\n",
       "  display: block;\n",
       "  width: 100%;\n",
       "  overflow: visible;\n",
       "}\n",
       "\n",
       "#sk-container-id-1 input.sk-toggleable__control:checked~label.sk-toggleable__label-arrow:before {\n",
       "  content: \"▾\";\n",
       "}\n",
       "\n",
       "/* Pipeline/ColumnTransformer-specific style */\n",
       "\n",
       "#sk-container-id-1 div.sk-label input.sk-toggleable__control:checked~label.sk-toggleable__label {\n",
       "  color: var(--sklearn-color-text);\n",
       "  background-color: var(--sklearn-color-unfitted-level-2);\n",
       "}\n",
       "\n",
       "#sk-container-id-1 div.sk-label.fitted input.sk-toggleable__control:checked~label.sk-toggleable__label {\n",
       "  background-color: var(--sklearn-color-fitted-level-2);\n",
       "}\n",
       "\n",
       "/* Estimator-specific style */\n",
       "\n",
       "/* Colorize estimator box */\n",
       "#sk-container-id-1 div.sk-estimator input.sk-toggleable__control:checked~label.sk-toggleable__label {\n",
       "  /* unfitted */\n",
       "  background-color: var(--sklearn-color-unfitted-level-2);\n",
       "}\n",
       "\n",
       "#sk-container-id-1 div.sk-estimator.fitted input.sk-toggleable__control:checked~label.sk-toggleable__label {\n",
       "  /* fitted */\n",
       "  background-color: var(--sklearn-color-fitted-level-2);\n",
       "}\n",
       "\n",
       "#sk-container-id-1 div.sk-label label.sk-toggleable__label,\n",
       "#sk-container-id-1 div.sk-label label {\n",
       "  /* The background is the default theme color */\n",
       "  color: var(--sklearn-color-text-on-default-background);\n",
       "}\n",
       "\n",
       "/* On hover, darken the color of the background */\n",
       "#sk-container-id-1 div.sk-label:hover label.sk-toggleable__label {\n",
       "  color: var(--sklearn-color-text);\n",
       "  background-color: var(--sklearn-color-unfitted-level-2);\n",
       "}\n",
       "\n",
       "/* Label box, darken color on hover, fitted */\n",
       "#sk-container-id-1 div.sk-label.fitted:hover label.sk-toggleable__label.fitted {\n",
       "  color: var(--sklearn-color-text);\n",
       "  background-color: var(--sklearn-color-fitted-level-2);\n",
       "}\n",
       "\n",
       "/* Estimator label */\n",
       "\n",
       "#sk-container-id-1 div.sk-label label {\n",
       "  font-family: monospace;\n",
       "  font-weight: bold;\n",
       "  display: inline-block;\n",
       "  line-height: 1.2em;\n",
       "}\n",
       "\n",
       "#sk-container-id-1 div.sk-label-container {\n",
       "  text-align: center;\n",
       "}\n",
       "\n",
       "/* Estimator-specific */\n",
       "#sk-container-id-1 div.sk-estimator {\n",
       "  font-family: monospace;\n",
       "  border: 1px dotted var(--sklearn-color-border-box);\n",
       "  border-radius: 0.25em;\n",
       "  box-sizing: border-box;\n",
       "  margin-bottom: 0.5em;\n",
       "  /* unfitted */\n",
       "  background-color: var(--sklearn-color-unfitted-level-0);\n",
       "}\n",
       "\n",
       "#sk-container-id-1 div.sk-estimator.fitted {\n",
       "  /* fitted */\n",
       "  background-color: var(--sklearn-color-fitted-level-0);\n",
       "}\n",
       "\n",
       "/* on hover */\n",
       "#sk-container-id-1 div.sk-estimator:hover {\n",
       "  /* unfitted */\n",
       "  background-color: var(--sklearn-color-unfitted-level-2);\n",
       "}\n",
       "\n",
       "#sk-container-id-1 div.sk-estimator.fitted:hover {\n",
       "  /* fitted */\n",
       "  background-color: var(--sklearn-color-fitted-level-2);\n",
       "}\n",
       "\n",
       "/* Specification for estimator info (e.g. \"i\" and \"?\") */\n",
       "\n",
       "/* Common style for \"i\" and \"?\" */\n",
       "\n",
       ".sk-estimator-doc-link,\n",
       "a:link.sk-estimator-doc-link,\n",
       "a:visited.sk-estimator-doc-link {\n",
       "  float: right;\n",
       "  font-size: smaller;\n",
       "  line-height: 1em;\n",
       "  font-family: monospace;\n",
       "  background-color: var(--sklearn-color-background);\n",
       "  border-radius: 1em;\n",
       "  height: 1em;\n",
       "  width: 1em;\n",
       "  text-decoration: none !important;\n",
       "  margin-left: 0.5em;\n",
       "  text-align: center;\n",
       "  /* unfitted */\n",
       "  border: var(--sklearn-color-unfitted-level-1) 1pt solid;\n",
       "  color: var(--sklearn-color-unfitted-level-1);\n",
       "}\n",
       "\n",
       ".sk-estimator-doc-link.fitted,\n",
       "a:link.sk-estimator-doc-link.fitted,\n",
       "a:visited.sk-estimator-doc-link.fitted {\n",
       "  /* fitted */\n",
       "  border: var(--sklearn-color-fitted-level-1) 1pt solid;\n",
       "  color: var(--sklearn-color-fitted-level-1);\n",
       "}\n",
       "\n",
       "/* On hover */\n",
       "div.sk-estimator:hover .sk-estimator-doc-link:hover,\n",
       ".sk-estimator-doc-link:hover,\n",
       "div.sk-label-container:hover .sk-estimator-doc-link:hover,\n",
       ".sk-estimator-doc-link:hover {\n",
       "  /* unfitted */\n",
       "  background-color: var(--sklearn-color-unfitted-level-3);\n",
       "  color: var(--sklearn-color-background);\n",
       "  text-decoration: none;\n",
       "}\n",
       "\n",
       "div.sk-estimator.fitted:hover .sk-estimator-doc-link.fitted:hover,\n",
       ".sk-estimator-doc-link.fitted:hover,\n",
       "div.sk-label-container:hover .sk-estimator-doc-link.fitted:hover,\n",
       ".sk-estimator-doc-link.fitted:hover {\n",
       "  /* fitted */\n",
       "  background-color: var(--sklearn-color-fitted-level-3);\n",
       "  color: var(--sklearn-color-background);\n",
       "  text-decoration: none;\n",
       "}\n",
       "\n",
       "/* Span, style for the box shown on hovering the info icon */\n",
       ".sk-estimator-doc-link span {\n",
       "  display: none;\n",
       "  z-index: 9999;\n",
       "  position: relative;\n",
       "  font-weight: normal;\n",
       "  right: .2ex;\n",
       "  padding: .5ex;\n",
       "  margin: .5ex;\n",
       "  width: min-content;\n",
       "  min-width: 20ex;\n",
       "  max-width: 50ex;\n",
       "  color: var(--sklearn-color-text);\n",
       "  box-shadow: 2pt 2pt 4pt #999;\n",
       "  /* unfitted */\n",
       "  background: var(--sklearn-color-unfitted-level-0);\n",
       "  border: .5pt solid var(--sklearn-color-unfitted-level-3);\n",
       "}\n",
       "\n",
       ".sk-estimator-doc-link.fitted span {\n",
       "  /* fitted */\n",
       "  background: var(--sklearn-color-fitted-level-0);\n",
       "  border: var(--sklearn-color-fitted-level-3);\n",
       "}\n",
       "\n",
       ".sk-estimator-doc-link:hover span {\n",
       "  display: block;\n",
       "}\n",
       "\n",
       "/* \"?\"-specific style due to the `<a>` HTML tag */\n",
       "\n",
       "#sk-container-id-1 a.estimator_doc_link {\n",
       "  float: right;\n",
       "  font-size: 1rem;\n",
       "  line-height: 1em;\n",
       "  font-family: monospace;\n",
       "  background-color: var(--sklearn-color-background);\n",
       "  border-radius: 1rem;\n",
       "  height: 1rem;\n",
       "  width: 1rem;\n",
       "  text-decoration: none;\n",
       "  /* unfitted */\n",
       "  color: var(--sklearn-color-unfitted-level-1);\n",
       "  border: var(--sklearn-color-unfitted-level-1) 1pt solid;\n",
       "}\n",
       "\n",
       "#sk-container-id-1 a.estimator_doc_link.fitted {\n",
       "  /* fitted */\n",
       "  border: var(--sklearn-color-fitted-level-1) 1pt solid;\n",
       "  color: var(--sklearn-color-fitted-level-1);\n",
       "}\n",
       "\n",
       "/* On hover */\n",
       "#sk-container-id-1 a.estimator_doc_link:hover {\n",
       "  /* unfitted */\n",
       "  background-color: var(--sklearn-color-unfitted-level-3);\n",
       "  color: var(--sklearn-color-background);\n",
       "  text-decoration: none;\n",
       "}\n",
       "\n",
       "#sk-container-id-1 a.estimator_doc_link.fitted:hover {\n",
       "  /* fitted */\n",
       "  background-color: var(--sklearn-color-fitted-level-3);\n",
       "}\n",
       "\n",
       ".estimator-table summary {\n",
       "    padding: .5rem;\n",
       "    font-family: monospace;\n",
       "    cursor: pointer;\n",
       "}\n",
       "\n",
       ".estimator-table details[open] {\n",
       "    padding-left: 0.1rem;\n",
       "    padding-right: 0.1rem;\n",
       "    padding-bottom: 0.3rem;\n",
       "}\n",
       "\n",
       ".estimator-table .parameters-table {\n",
       "    margin-left: auto !important;\n",
       "    margin-right: auto !important;\n",
       "}\n",
       "\n",
       ".estimator-table .parameters-table tr:nth-child(odd) {\n",
       "    background-color: #fff;\n",
       "}\n",
       "\n",
       ".estimator-table .parameters-table tr:nth-child(even) {\n",
       "    background-color: #f6f6f6;\n",
       "}\n",
       "\n",
       ".estimator-table .parameters-table tr:hover {\n",
       "    background-color: #e0e0e0;\n",
       "}\n",
       "\n",
       ".estimator-table table td {\n",
       "    border: 1px solid rgba(106, 105, 104, 0.232);\n",
       "}\n",
       "\n",
       ".user-set td {\n",
       "    color:rgb(255, 94, 0);\n",
       "    text-align: left;\n",
       "}\n",
       "\n",
       ".user-set td.value pre {\n",
       "    color:rgb(255, 94, 0) !important;\n",
       "    background-color: transparent !important;\n",
       "}\n",
       "\n",
       ".default td {\n",
       "    color: black;\n",
       "    text-align: left;\n",
       "}\n",
       "\n",
       ".user-set td i,\n",
       ".default td i {\n",
       "    color: black;\n",
       "}\n",
       "\n",
       ".copy-paste-icon {\n",
       "    background-image: url(data:image/svg+xml;base64,PHN2ZyB4bWxucz0iaHR0cDovL3d3dy53My5vcmcvMjAwMC9zdmciIHZpZXdCb3g9IjAgMCA0NDggNTEyIj48IS0tIUZvbnQgQXdlc29tZSBGcmVlIDYuNy4yIGJ5IEBmb250YXdlc29tZSAtIGh0dHBzOi8vZm9udGF3ZXNvbWUuY29tIExpY2Vuc2UgLSBodHRwczovL2ZvbnRhd2Vzb21lLmNvbS9saWNlbnNlL2ZyZWUgQ29weXJpZ2h0IDIwMjUgRm9udGljb25zLCBJbmMuLS0+PHBhdGggZD0iTTIwOCAwTDMzMi4xIDBjMTIuNyAwIDI0LjkgNS4xIDMzLjkgMTQuMWw2Ny45IDY3LjljOSA5IDE0LjEgMjEuMiAxNC4xIDMzLjlMNDQ4IDMzNmMwIDI2LjUtMjEuNSA0OC00OCA0OGwtMTkyIDBjLTI2LjUgMC00OC0yMS41LTQ4LTQ4bDAtMjg4YzAtMjYuNSAyMS41LTQ4IDQ4LTQ4ek00OCAxMjhsODAgMCAwIDY0LTY0IDAgMCAyNTYgMTkyIDAgMC0zMiA2NCAwIDAgNDhjMCAyNi41LTIxLjUgNDgtNDggNDhMNDggNTEyYy0yNi41IDAtNDgtMjEuNS00OC00OEwwIDE3NmMwLTI2LjUgMjEuNS00OCA0OC00OHoiLz48L3N2Zz4=);\n",
       "    background-repeat: no-repeat;\n",
       "    background-size: 14px 14px;\n",
       "    background-position: 0;\n",
       "    display: inline-block;\n",
       "    width: 14px;\n",
       "    height: 14px;\n",
       "    cursor: pointer;\n",
       "}\n",
       "</style><body><div id=\"sk-container-id-1\" class=\"sk-top-container\"><div class=\"sk-text-repr-fallback\"><pre>Ridge(alpha=1e-05, copy_X=False, fit_intercept=False, random_state=42)</pre><b>In a Jupyter environment, please rerun this cell to show the HTML representation or trust the notebook. <br />On GitHub, the HTML representation is unable to render, please try loading this page with nbviewer.org.</b></div><div class=\"sk-container\" hidden><div class=\"sk-item\"><div class=\"sk-estimator fitted sk-toggleable\"><input class=\"sk-toggleable__control sk-hidden--visually\" id=\"sk-estimator-id-1\" type=\"checkbox\" checked><label for=\"sk-estimator-id-1\" class=\"sk-toggleable__label fitted sk-toggleable__label-arrow\"><div><div>Ridge</div></div><div><a class=\"sk-estimator-doc-link fitted\" rel=\"noreferrer\" target=\"_blank\" href=\"https://scikit-learn.org/1.7/modules/generated/sklearn.linear_model.Ridge.html\">?<span>Documentation for Ridge</span></a><span class=\"sk-estimator-doc-link fitted\">i<span>Fitted</span></span></div></label><div class=\"sk-toggleable__content fitted\" data-param-prefix=\"\">\n",
       "        <div class=\"estimator-table\">\n",
       "            <details>\n",
       "                <summary>Parameters</summary>\n",
       "                <table class=\"parameters-table\">\n",
       "                  <tbody>\n",
       "                    \n",
       "        <tr class=\"user-set\">\n",
       "            <td><i class=\"copy-paste-icon\"\n",
       "                 onclick=\"copyToClipboard('alpha',\n",
       "                          this.parentElement.nextElementSibling)\"\n",
       "            ></i></td>\n",
       "            <td class=\"param\">alpha&nbsp;</td>\n",
       "            <td class=\"value\">1e-05</td>\n",
       "        </tr>\n",
       "    \n",
       "\n",
       "        <tr class=\"user-set\">\n",
       "            <td><i class=\"copy-paste-icon\"\n",
       "                 onclick=\"copyToClipboard('fit_intercept',\n",
       "                          this.parentElement.nextElementSibling)\"\n",
       "            ></i></td>\n",
       "            <td class=\"param\">fit_intercept&nbsp;</td>\n",
       "            <td class=\"value\">False</td>\n",
       "        </tr>\n",
       "    \n",
       "\n",
       "        <tr class=\"user-set\">\n",
       "            <td><i class=\"copy-paste-icon\"\n",
       "                 onclick=\"copyToClipboard('copy_X',\n",
       "                          this.parentElement.nextElementSibling)\"\n",
       "            ></i></td>\n",
       "            <td class=\"param\">copy_X&nbsp;</td>\n",
       "            <td class=\"value\">False</td>\n",
       "        </tr>\n",
       "    \n",
       "\n",
       "        <tr class=\"default\">\n",
       "            <td><i class=\"copy-paste-icon\"\n",
       "                 onclick=\"copyToClipboard('max_iter',\n",
       "                          this.parentElement.nextElementSibling)\"\n",
       "            ></i></td>\n",
       "            <td class=\"param\">max_iter&nbsp;</td>\n",
       "            <td class=\"value\">None</td>\n",
       "        </tr>\n",
       "    \n",
       "\n",
       "        <tr class=\"default\">\n",
       "            <td><i class=\"copy-paste-icon\"\n",
       "                 onclick=\"copyToClipboard('tol',\n",
       "                          this.parentElement.nextElementSibling)\"\n",
       "            ></i></td>\n",
       "            <td class=\"param\">tol&nbsp;</td>\n",
       "            <td class=\"value\">0.0001</td>\n",
       "        </tr>\n",
       "    \n",
       "\n",
       "        <tr class=\"default\">\n",
       "            <td><i class=\"copy-paste-icon\"\n",
       "                 onclick=\"copyToClipboard('solver',\n",
       "                          this.parentElement.nextElementSibling)\"\n",
       "            ></i></td>\n",
       "            <td class=\"param\">solver&nbsp;</td>\n",
       "            <td class=\"value\">&#x27;auto&#x27;</td>\n",
       "        </tr>\n",
       "    \n",
       "\n",
       "        <tr class=\"default\">\n",
       "            <td><i class=\"copy-paste-icon\"\n",
       "                 onclick=\"copyToClipboard('positive',\n",
       "                          this.parentElement.nextElementSibling)\"\n",
       "            ></i></td>\n",
       "            <td class=\"param\">positive&nbsp;</td>\n",
       "            <td class=\"value\">False</td>\n",
       "        </tr>\n",
       "    \n",
       "\n",
       "        <tr class=\"user-set\">\n",
       "            <td><i class=\"copy-paste-icon\"\n",
       "                 onclick=\"copyToClipboard('random_state',\n",
       "                          this.parentElement.nextElementSibling)\"\n",
       "            ></i></td>\n",
       "            <td class=\"param\">random_state&nbsp;</td>\n",
       "            <td class=\"value\">42</td>\n",
       "        </tr>\n",
       "    \n",
       "                  </tbody>\n",
       "                </table>\n",
       "            </details>\n",
       "        </div>\n",
       "    </div></div></div></div></div><script>function copyToClipboard(text, element) {\n",
       "    // Get the parameter prefix from the closest toggleable content\n",
       "    const toggleableContent = element.closest('.sk-toggleable__content');\n",
       "    const paramPrefix = toggleableContent ? toggleableContent.dataset.paramPrefix : '';\n",
       "    const fullParamName = paramPrefix ? `${paramPrefix}${text}` : text;\n",
       "\n",
       "    const originalStyle = element.style;\n",
       "    const computedStyle = window.getComputedStyle(element);\n",
       "    const originalWidth = computedStyle.width;\n",
       "    const originalHTML = element.innerHTML.replace('Copied!', '');\n",
       "\n",
       "    navigator.clipboard.writeText(fullParamName)\n",
       "        .then(() => {\n",
       "            element.style.width = originalWidth;\n",
       "            element.style.color = 'green';\n",
       "            element.innerHTML = \"Copied!\";\n",
       "\n",
       "            setTimeout(() => {\n",
       "                element.innerHTML = originalHTML;\n",
       "                element.style = originalStyle;\n",
       "            }, 2000);\n",
       "        })\n",
       "        .catch(err => {\n",
       "            console.error('Failed to copy:', err);\n",
       "            element.style.color = 'red';\n",
       "            element.innerHTML = \"Failed!\";\n",
       "            setTimeout(() => {\n",
       "                element.innerHTML = originalHTML;\n",
       "                element.style = originalStyle;\n",
       "            }, 2000);\n",
       "        });\n",
       "    return false;\n",
       "}\n",
       "\n",
       "document.querySelectorAll('.fa-regular.fa-copy').forEach(function(element) {\n",
       "    const toggleableContent = element.closest('.sk-toggleable__content');\n",
       "    const paramPrefix = toggleableContent ? toggleableContent.dataset.paramPrefix : '';\n",
       "    const paramName = element.parentElement.nextElementSibling.textContent.trim();\n",
       "    const fullParamName = paramPrefix ? `${paramPrefix}${paramName}` : paramName;\n",
       "\n",
       "    element.setAttribute('title', fullParamName);\n",
       "});\n",
       "</script></body>"
      ],
      "text/plain": [
       "Ridge(alpha=1e-05, copy_X=False, fit_intercept=False, random_state=42)"
      ]
     },
     "execution_count": 42,
     "metadata": {},
     "output_type": "execute_result"
    }
   ],
   "source": [
    "%%time\n",
    "lf.fit()"
   ]
  },
  {
   "cell_type": "code",
   "execution_count": 43,
   "id": "1cfada04-6e55-4edf-b857-62d72e1a1e7d",
   "metadata": {},
   "outputs": [],
   "source": [
    "acef = pyace.PyACECalculator(lf.get_bbasis())"
   ]
  },
  {
   "cell_type": "markdown",
   "id": "d559e0db-cb6a-479b-8674-8114a893a1b0",
   "metadata": {},
   "source": [
    "Basic error metrics."
   ]
  },
  {
   "cell_type": "code",
   "execution_count": 44,
   "id": "55d13539-356d-4bb8-9dc6-8e477b0958d4",
   "metadata": {},
   "outputs": [
    {
     "data": {
      "text/plain": [
       "{'epa_mae': 0.03084199956611516,\n",
       " 'epa_rmse': 0.040391578230351576,\n",
       " 'f_comp_mae': 0.013189673464139613,\n",
       " 'f_comp_rmse': 0.029926930091962067}"
      ]
     },
     "execution_count": 44,
     "metadata": {},
     "output_type": "execute_result"
    }
   ],
   "source": [
    "lf.compute_errors()"
   ]
  },
  {
   "cell_type": "markdown",
   "id": "f232782f-37f9-4dbc-aa74-33a00449fcdf",
   "metadata": {},
   "source": [
    "Compare the resulting pair potential."
   ]
  },
  {
   "cell_type": "code",
   "execution_count": 45,
   "id": "c2cff9f4-939f-4cd1-a245-1f99746660f4",
   "metadata": {},
   "outputs": [
    {
     "data": {
      "image/png": "[encoded data removed]",
      "text/plain": [
       "<Figure size 640x480 with 2 Axes>"
      ]
     },
     "metadata": {},
     "output_type": "display_data"
    }
   ],
   "source": [
    "r = np.linspace(2, 7)\n",
    "plt.subplot(121)\n",
    "plt.plot(*dimer(acef, r),  label='ACE')\n",
    "plt.plot(*dimer(reference, r), label='REF')\n",
    "plt.legend()\n",
    "plt.xlabel(r'$r$ [$\\mathrm{\\AA}$]')\n",
    "plt.ylabel(r'$E$ [eV/atom]')\n",
    "plt.subplot(122)\n",
    "plt.plot(r, dimer(acef, r)[1]-dimer(reference, r)[1])\n",
    "plt.xlabel(r'$r$ [$\\mathrm{\\AA}$]')\n",
    "plt.ylabel(r'$\\Delta E$ [eV/atom]')\n",
    "plt.tight_layout()"
   ]
  }
 ],
 "metadata": {
  "kernelspec": {
   "display_name": "Python 3 (ipykernel)",
   "language": "python",
   "name": "python3"
  },
  "language_info": {
   "codemirror_mode": {
    "name": "ipython",
    "version": 3
   },
   "file_extension": ".py",
   "mimetype": "text/x-python",
   "name": "python",
   "nbconvert_exporter": "python",
   "pygments_lexer": "ipython3",
   "version": "3.12.0"
  },
  "widgets": {
   "application/vnd.jupyter.widget-state+json": {
    "state": {},
    "version_major": 2,
    "version_minor": 0
   }
  }
 },
 "nbformat": 4,
 "nbformat_minor": 5
}
