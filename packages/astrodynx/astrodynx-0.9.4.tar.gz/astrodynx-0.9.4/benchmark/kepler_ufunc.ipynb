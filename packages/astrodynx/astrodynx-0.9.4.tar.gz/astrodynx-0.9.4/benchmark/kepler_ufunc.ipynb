{
 "cells": [
  {
   "cell_type": "code",
   "execution_count": null,
   "id": "01d921cf",
   "metadata": {},
   "outputs": [],
   "source": [
    "from jax import numpy as jnp\n",
    "from astrodynx.twobody.ivp import U3\n",
    "import jax\n",
    "from jax.typing import ArrayLike\n",
    "from jax import Array\n",
    "\n",
    "\n",
    "jax.config.update(\"jax_enable_x64\", True)\n",
    "jax.devices()"
   ]
  },
  {
   "cell_type": "code",
   "execution_count": null,
   "id": "fec24174",
   "metadata": {},
   "outputs": [],
   "source": [
    "def U3v2(chi: ArrayLike, alpha: ArrayLike) -> Array:\n",
    "    alpha_c = jax.lax.complex(alpha, 0.0)\n",
    "    return jnp.where(\n",
    "        alpha == 0.0,\n",
    "        chi**3 / 6.0,\n",
    "        jax.lax.real(\n",
    "            (jnp.sqrt(alpha_c) * chi - jnp.sin(jnp.sqrt(alpha_c) * chi))\n",
    "            / alpha_c\n",
    "            / jnp.sqrt(alpha_c)\n",
    "        ),\n",
    "    )\n",
    "\n",
    "\n",
    "# --- JIT compiled version ---\n",
    "U3_jit = jax.jit(U3)\n",
    "U3v2_jit = jax.jit(U3v2)"
   ]
  },
  {
   "cell_type": "code",
   "execution_count": null,
   "id": "28a15b3d",
   "metadata": {},
   "outputs": [],
   "source": [
    "# --- Test code ---\n",
    "def run_test():\n",
    "    # Use a fixed random seed to ensure reproducibility\n",
    "    key = jax.random.PRNGKey(0)\n",
    "\n",
    "    # Generate test data\n",
    "    # chi can be any value\n",
    "    chi_values = jax.random.uniform(key, shape=(100,), minval=-10.0, maxval=10.0)\n",
    "\n",
    "    # alpha values need to cover >0, <0, and =0 cases\n",
    "    key, subkey = jax.random.split(key)\n",
    "    alpha_pos = jax.random.uniform(subkey, shape=(50,), minval=0.1, maxval=20.0)\n",
    "    key, subkey = jax.random.split(key)\n",
    "    alpha_neg = jax.random.uniform(subkey, shape=(49,), minval=-20.0, maxval=-0.1)\n",
    "    alpha_zero = jnp.array([0.0])\n",
    "    alpha_values = jnp.concatenate([alpha_pos, alpha_neg, alpha_zero])\n",
    "\n",
    "    # To test all combinations of chi and alpha, we create a grid\n",
    "    chi_grid, alpha_grid = jnp.meshgrid(chi_values, alpha_values)\n",
    "\n",
    "    print(f\"Testing with chi grid shape: {chi_grid.shape}\")\n",
    "    print(f\"Testing with alpha grid shape: {alpha_grid.shape}\")\n",
    "\n",
    "    result1 = U3_jit(chi_grid, alpha_grid)\n",
    "    result2 = U3v2_jit(chi_grid, alpha_grid)\n",
    "\n",
    "    # Check if results are \"close enough\"\n",
    "    # jnp.allclose compares element by element, checking if differences are within tolerance\n",
    "    are_they_close = jnp.allclose(result1, result2, atol=1e-6, rtol=1e-6)\n",
    "\n",
    "    if are_they_close:\n",
    "        print(\n",
    "            \"\\n✅ Test passed: Results from both functions are consistent within tolerance.\"\n",
    "        )\n",
    "    else:\n",
    "        print(\"\\n❌ Test failed: Results from both functions are inconsistent.\")\n",
    "        # Find inconsistencies for debugging\n",
    "        diff = jnp.abs(result1 - result2)\n",
    "        max_diff = jnp.max(diff)\n",
    "        print(f\"Maximum difference: {max_diff}\")\n",
    "\n",
    "        # Find where the maximum difference occurs\n",
    "        idx = jnp.unravel_index(jnp.argmax(diff), diff.shape)\n",
    "        print(f\"Maximum difference occurs at index {idx}\")\n",
    "        print(f\"  - chi: {chi_grid[idx]}\")\n",
    "        print(f\"  - alpha: {alpha_grid[idx]}\")\n",
    "        print(f\"  - U3 result: {result1[idx]}\")\n",
    "        print(f\"  - U3v2 result: {result2[idx]}\")\n",
    "\n",
    "\n",
    "run_test()"
   ]
  },
  {
   "cell_type": "code",
   "execution_count": null,
   "id": "bb2d82ea",
   "metadata": {},
   "outputs": [],
   "source": [
    "# --- Prepare benchmark data ---\n",
    "key = jax.random.PRNGKey(0)\n",
    "key_chi, key_alpha = jax.random.split(key)\n",
    "\n",
    "# Create a large array with 100,000 elements\n",
    "N = 1_000_00\n",
    "chi = jax.random.uniform(key_chi, (N,)) * jnp.pi * 2\n",
    "\n",
    "# Case 1: All alpha > 0\n",
    "alpha_pos = jax.random.uniform(key_alpha, (N,))\n",
    "\n",
    "# Case 2: All alpha < 0\n",
    "alpha_neg = -jax.random.uniform(key_alpha, (N,))\n",
    "\n",
    "# Case 3: Mixed positive and negative alpha\n",
    "alpha_mix = jax.random.normal(key_alpha, (N,))\n",
    "\n",
    "# Ensure JIT compilation is complete (warm-up)\n",
    "U3_jit(chi[:10], alpha_pos[:10]).block_until_ready()\n",
    "U3v2_jit(chi[:10], alpha_pos[:10]).block_until_ready()"
   ]
  },
  {
   "cell_type": "code",
   "execution_count": null,
   "id": "31c42c75",
   "metadata": {},
   "outputs": [],
   "source": [
    "print(\"Timing U3 and U3v2 for positive alpha...\")\n",
    "%timeit U3_jit(chi, alpha_pos).block_until_ready()\n",
    "\n",
    "%timeit U3v2_jit(chi, alpha_pos).block_until_ready()"
   ]
  },
  {
   "cell_type": "code",
   "execution_count": null,
   "id": "fad08d05",
   "metadata": {},
   "outputs": [],
   "source": [
    "print(\"Timing U3 and U3v2 for negative alpha...\")\n",
    "%timeit U3_jit(chi, alpha_neg).block_until_ready()\n",
    "\n",
    "%timeit U3v2_jit(chi, alpha_neg).block_until_ready()"
   ]
  },
  {
   "cell_type": "code",
   "execution_count": null,
   "id": "2351af13",
   "metadata": {},
   "outputs": [],
   "source": [
    "print(\"Timing U3 and U3v2 for mixed alpha...\")\n",
    "%timeit U3_jit(chi, alpha_mix).block_until_ready()\n",
    "\n",
    "%timeit U3v2_jit(chi, alpha_mix).block_until_ready()"
   ]
  }
 ],
 "metadata": {
  "kernelspec": {
   "display_name": "Python 3",
   "language": "python",
   "name": "python3"
  },
  "language_info": {
   "codemirror_mode": {
    "name": "ipython",
    "version": 3
   },
   "file_extension": ".py",
   "mimetype": "text/x-python",
   "name": "python",
   "nbconvert_exporter": "python",
   "pygments_lexer": "ipython3",
   "version": "3.12.3"
  }
 },
 "nbformat": 4,
 "nbformat_minor": 5
}
