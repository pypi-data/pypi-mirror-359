{
 "cells": [
  {
   "cell_type": "markdown",
   "id": "341f6e2ce8aada9d",
   "metadata": {},
   "source": [
    "<a name=\"top\"></a>\n",
    "# AutoWISP\n",
    "[![AutoWISP](https://github.com/kpenev/AutoWISP/blob/master/AutoWISP.png)](https://github.com/kpenev/AutoWISP)\n",
    "[![language](https://img.shields.io/badge/Python-3776AB?logo=python&logoColor=fff)](https://www.python.org/about/)\n",
    "[![OS](https://img.shields.io/badge/OS-linux%2C%20windows%2C%20macOS-0078D4)](https://github.com/kpenev/AutoWISP/tree/master/documentation)\n",
    "[![CPU](https://img.shields.io/badge/CPU-x86%2C%20x64%2C%20ARM%2C%20ARM64-FF8C00)](https://github.com/kpenev/AutoWISP/tree/master/documentation)\n",
    "[![GitHub release](https://img.shields.io/github/v/release/kpenev/AutoWISP)](#)\n",
    "[![GitHub release date](https://img.shields.io/github/release-date/kpenev/AutoWISP)](#)\n",
    "[![GitHub last commit](https://img.shields.io/github/last-commit/kpenev/AutoWISP)](#)\n",
    "[![getting started](https://img.shields.io/badge/getting_started-guide-1D76DB)](https://github.com/kpenev/AutoWISP/tree/master/documentation)\n",
    "[![Free](https://img.shields.io/badge/free_for_non_commercial_use-brightgreen)](#-license)\n",
    "\n",
    "⭐ Star us on GitHub — it motivates us a lot!\n",
    "\n",
    "## Table of Contents\n",
    "- [About](#-about)\n",
    "- [How to Install](#-how-to-install)\n",
    "- [Documentation](#-documentation)\n",
    "- [Feedback and Contributions](#-feedback-and-contributions)\n",
    "- [License](#-license)\n",
    "- [Contacts](#%EF%B8%8F-contacts)\n",
    "\n",
    "## 🚀 About\n",
    "\n",
    "**AutoWISP** is a Python package designed to allow users to automatically create and de-trend light curves from their astronomical data. It adheres to high standards of flexibility, reusability, and reliability, utilizing well-known software design patterns, including modular and hexagonal architectures. These patterns ensure the following benefits:\n",
    "\n",
    "- **Modularity**: Different parts of the package can function independently, enhancing the package's modularity and allowing for easier maintenance and updates.\n",
    "- **Testability**: Improved separation of concerns makes the code more testable.\n",
    "- **Maintainability**: Clear structure and separation facilitate better management of the codebase.\n",
    "\n",
    "## 📝 How to Install\n",
    "\n",
    "To build the packages, follow these steps:\n",
    "\n",
    "Use the package manager [pip](https://pip.pypa.io/en/stable/) to install AutoWISP.\n",
    "\n",
    "    pip install autowisp\n",
    "\n",
    "## 📚 Documentation\n",
    "\n",
    "### Getting Started\n",
    "Explore the [Getting Started Guide](https://github.com/kpenev/AutoWISP/tree/master/documentation).\n",
    "In this guide, you will go step by step in the pipeline, producing the corresponding files needed for each step and ultimately creating light curves.\n",
    "\n",
    "** See below for usage of each step, included is a configuration file to perform the tests.\n",
    "\n",
    "To better understand the AutoWISP pipeline, we recommend visiting our [Documentation](https://github.com/kpenev/AutoWISP/tree/master/documentation) site.\n",
    "There, you will find useful information about the individual steps, database, and/or browser-user-interface (currently under development).\n",
    "\n",
    "### Imports\n",
    "\n",
    "These will disappear once we have a proper package manager installation.\n",
    "\n",
    "* For AutoWISP:\n",
    "\n",
    "|         Package         |  Version  |\n",
    "|:-----------------------:|:---------:|\n",
    "|     configargparse      |    1.4    |\n",
    "|          Numpy          |  1.26.4   |\n",
    "|          lxml           |   5.3.0   |\n",
    "|         astropy         |   6.1.3   |\n",
    "|         asteval         |   1.0.6   |\n",
    "| antlr4-python3-runtime  |    1.4    |\n",
    "|        astrowisp        |    1.3    |\n",
    "|          zarr           |  2.18.7   |\n",
    "|        pytransit        |  2.6.14   |\n",
    "|        rechunker        |   0.5.4   |\n",
    "\n",
    "* For general_purpose_python_modules:\n",
    "\n",
    "|         Package          |  Version  |\n",
    "|:------------------------:|:---------:|\n",
    "|        gitpython         |  3.1.43   |\n",
    "|          scipy           |  1.15.3   |\n",
    "|        matplotlib        |  3.10.0   |\n",
    "\n",
    "<br>\n",
    "Ensure AutoWISP is in Python path. If using Anaconda (recommended), can put\n",
    "a .pth file in \"C:\\Users\\**USER**\\anaconda3\\envs\\**USER_ENV**\\Lib\\site-packages\"\n",
    "with the following directory for AutoWISP, AstroWISP, and general_purpose_python_modules.\n",
    "\n",
    "## 🤝 Feedback and Contributions\n",
    "\n",
    "We've made every effort to implement all the main aspects of AutoWISP in the best possible way. However, the development journey doesn't end here, and your input is crucial for our continuous integration and development.\n",
    "\n",
    "> [!IMPORTANT]\n",
    "> Whether you have feedback on features, have encountered any bugs, or have suggestions for enhancements, we're eager to hear from you. Your insights help us make the AutoWISP package more robust and user-friendly.\n",
    "\n",
    "Please feel free to contribute by [submitting an issue](https://github.com/kpenev/AutoWISP/issues) or [joining the discussions](https://github.com/kpenev/AutoWISP/discussions). Each contribution helps us grow and improve.\n",
    "\n",
    "We appreciate your support and look forward to making our pipeline even better with your help!\n",
    "\n",
    "## 📃 License\n",
    "\n",
    "This package is distributed under the MIT License. You can review the full license agreement at the following link: [MIT](https://choosealicense.com/licenses/mit/).\n",
    "\n",
    "For non-commercial use, this product is available for free.\n",
    "\n",
    "## 🗨️ Contacts\n",
    "\n",
    "For more details about our usages, services, or any general information regarding the AutoWISP pipeline, feel free to reach out to us. We are here to provide support and answer any questions you may have. Below are the best ways to contact our team:\n",
    "\n",
    "- **Email**: Send us your inquiries or support requests at [support_autowisp@gmail.com](mailto:support_autowisp@gmail.com).\n",
    "\n",
    "We look forward to assisting you and ensuring your experience with AutoWISP is successful and enjoyable!\n",
    "\n",
    "[Back to top](#top)\n"
   ]
  },
  {
   "metadata": {},
   "cell_type": "markdown",
   "source": [
    "## Testing\n",
    "The following is with regards to testing the individual steps of the pipeline (it is in chronological order)\n",
    "\n",
    "### Prepare working directories for testing"
   ],
   "id": "4164e1ad043be7cd"
  },
  {
   "cell_type": "code",
   "id": "e2336e394058e216",
   "metadata": {},
   "source": [
    "import shutil\n",
    "import os\n",
    "\n",
    "#Get the current directory and add pathing\n",
    "current_directory=os.getcwd()\n",
    "directories=[os.path.join(current_directory, path) for path in [\"logs\", \"CAL\", \"MASTERS\", \"DR\", \"LC\"]]\n",
    "print(directories)\n",
    "\n",
    "#Remove directories for testing and creating them fresh\n",
    "for path in directories:\n",
    "    shutil.rmtree(path, ignore_errors = True)\n",
    "    os.makedirs(path)"
   ],
   "outputs": [],
   "execution_count": null
  },
  {
   "metadata": {},
   "cell_type": "markdown",
   "source": "### Reset the database by dropping all tables and initialize the database",
   "id": "11e3dc19d203495a"
  },
  {
   "cell_type": "code",
   "id": "4bd72166cff76f74",
   "metadata": {},
   "source": [
    "# !python ../../../Github/AutoWISP/autowisp/database/initialize_database.py --drop-hdf5-structure-tables\n",
    "%run ../../database/initialize_database.py --drop-hdf5-structure-tables"
   ],
   "outputs": [],
   "execution_count": null
  },
  {
   "cell_type": "markdown",
   "id": "1ea4c33289bc866d",
   "metadata": {},
   "source": "### Perform the calibration for the zero frames"
  },
  {
   "cell_type": "code",
   "id": "e7fd8230c34bb11c",
   "metadata": {},
   "source": "!python ../../processing_steps/calibrate.py --config-file test.cfg RAW/zero/*.fits.fz",
   "outputs": [],
   "execution_count": null
  },
  {
   "cell_type": "markdown",
   "id": "f7fdf2169c1bdd23",
   "metadata": {},
   "source": "### Create masters for the zero frames"
  },
  {
   "cell_type": "code",
   "id": "fdbbb62c835d4b7",
   "metadata": {},
   "source": "!python ../../processing_steps/stack_to_master.py -c test.cfg CAL/zero/",
   "outputs": [],
   "execution_count": null
  },
  {
   "cell_type": "markdown",
   "id": "5cd55d75d9c1f7da",
   "metadata": {},
   "source": "### Perform the calibration for the dark frames"
  },
  {
   "cell_type": "code",
   "id": "b3b0444858c2afa6",
   "metadata": {},
   "source": "!python ../../processing_steps/calibrate.py --config-file test.cfg RAW/dark/*.fits.fz --master-bias \"R:MASTERS/zero_R.fits.fz\"",
   "outputs": [],
   "execution_count": null
  },
  {
   "cell_type": "markdown",
   "id": "92e45855e30eb179",
   "metadata": {},
   "source": "### Perform the master stack for the dark frames"
  },
  {
   "cell_type": "code",
   "id": "863ce819c517ebc1",
   "metadata": {},
   "source": "!python ../../processing_steps/stack_to_master.py -c test.cfg CAL/dark/",
   "outputs": [],
   "execution_count": null
  },
  {
   "cell_type": "markdown",
   "id": "f08cd576b6ae37b4",
   "metadata": {},
   "source": "### Perform calibration for flat frames"
  },
  {
   "cell_type": "code",
   "id": "c476d24d7812ea0d",
   "metadata": {},
   "source": "!python ../../processing_steps/calibrate.py --config-file test.cfg RAW/flat/*.fits.fz --master-bias \"R:MASTERS/zero_R.fits.fz\" --master-dark \"R:MASTERS/dark_R.fits.fz\"",
   "outputs": [],
   "execution_count": null
  },
  {
   "cell_type": "markdown",
   "id": "5c2efbc1083f6f9f",
   "metadata": {},
   "source": "### Perform the master stack for flat frames"
  },
  {
   "cell_type": "code",
   "id": "36d2de90a9395c65",
   "metadata": {},
   "source": "!python ../../processing_steps/stack_to_master_flat.py -c test.cfg CAL/flat/",
   "outputs": [],
   "execution_count": null
  },
  {
   "cell_type": "markdown",
   "id": "75c74545b22c9a35",
   "metadata": {},
   "source": "### Perform calibration for object frames"
  },
  {
   "cell_type": "code",
   "id": "44cf34070c00aa9c",
   "metadata": {},
   "source": "!python ../../processing_steps/calibrate.py --config-file test.cfg RAW/object/*.fits.fz --master-bias \"R:MASTERS/zero_R.fits.fz\" --master-dark \"R:MASTERS/dark_R.fits.fz\" --master-flat \"R:MASTERS/flat_R.fits.fz\"",
   "outputs": [],
   "execution_count": null
  },
  {
   "cell_type": "markdown",
   "id": "954c24e99b3697c3",
   "metadata": {},
   "source": "### Find stars in object frames"
  },
  {
   "cell_type": "code",
   "id": "4380087219f6dc02",
   "metadata": {},
   "source": "!python ../../processing_steps/find_stars.py --config-file test.cfg CAL/object/",
   "outputs": [],
   "execution_count": null
  },
  {
   "cell_type": "markdown",
   "id": "3b61f312c826feb6",
   "metadata": {},
   "source": "### Perform astrometry on DR files"
  },
  {
   "cell_type": "code",
   "id": "7f52b6a6966916ae",
   "metadata": {},
   "source": "!python ../../processing_steps/solve_astrometry.py --config-file test.cfg DR/",
   "outputs": [],
   "execution_count": null
  },
  {
   "metadata": {},
   "cell_type": "markdown",
   "source": "### Perform PSF/PRF fitting",
   "id": "7fca906468321545"
  },
  {
   "metadata": {},
   "cell_type": "code",
   "source": "!python ../../processing_steps/fit_star_shape.py --config test.cfg CAL/object/",
   "id": "68ec099d065705b5",
   "outputs": [],
   "execution_count": null
  },
  {
   "metadata": {},
   "cell_type": "markdown",
   "source": "### Perform aperture photometry",
   "id": "77db999f3eb73eaf"
  },
  {
   "metadata": {},
   "cell_type": "code",
   "source": "!python ../../processing_steps/measure_aperture_photometry.py --config test.cfg CAL/object/",
   "id": "d48e0f61777858f0",
   "outputs": [],
   "execution_count": null
  },
  {
   "metadata": {},
   "cell_type": "markdown",
   "source": "### Run fit source extracted PSF map",
   "id": "484ffdf7663abc76"
  },
  {
   "metadata": {},
   "cell_type": "code",
   "source": "!python ../../processing_steps/fit_source_extracted_psf_map.py --config test.cfg DR/",
   "id": "ac02ceb938936395",
   "outputs": [],
   "execution_count": null
  },
  {
   "metadata": {},
   "cell_type": "markdown",
   "source": "### Perform magnitude fitting",
   "id": "6245986297f78f41"
  },
  {
   "metadata": {},
   "cell_type": "code",
   "source": "!python ../../processing_steps/fit_magnitudes.py --config test.cfg DR/",
   "id": "97be5036a9282077",
   "outputs": [],
   "execution_count": null
  },
  {
   "metadata": {},
   "cell_type": "markdown",
   "source": "### Create light curves",
   "id": "b5c7ce473c9c342b"
  },
  {
   "metadata": {},
   "cell_type": "code",
   "source": "!python ../../processing_steps/create_lightcurves.py --config test.cfg DR/",
   "id": "e3eb83c914233192",
   "outputs": [],
   "execution_count": null
  },
  {
   "metadata": {},
   "cell_type": "markdown",
   "source": "### Perform EPD on light curves",
   "id": "87513585d9b89842"
  },
  {
   "metadata": {},
   "cell_type": "code",
   "source": "!python ../../processing_steps/epd.py --config test.cfg LC/",
   "id": "39f2d44fb813068a",
   "outputs": [],
   "execution_count": null
  },
  {
   "metadata": {},
   "cell_type": "markdown",
   "source": "### Generate EPD statistics file for light curves",
   "id": "615913353e67f6e2"
  },
  {
   "metadata": {},
   "cell_type": "code",
   "source": "!python ../../generate_epd_statistics.py --config test.cfg LC/",
   "id": "c83fa0d87e1da5bc",
   "outputs": [],
   "execution_count": null
  },
  {
   "metadata": {},
   "cell_type": "markdown",
   "source": "### Perform TFA on light curves",
   "id": "c819b2640ac2e6cb"
  },
  {
   "metadata": {},
   "cell_type": "code",
   "source": "!python ../../processing_steps/tfa.py --config test.cfg LC/",
   "id": "a07df4bbd6eb1ff5",
   "outputs": [],
   "execution_count": null
  },
  {
   "metadata": {},
   "cell_type": "markdown",
   "source": "### Generate TFA statistics file for light curves",
   "id": "484891cbf62aa462"
  },
  {
   "metadata": {},
   "cell_type": "code",
   "source": "!python ../../processing_steps/generate_tfa_statistics.py --config test.cfg LC/",
   "id": "1cded61e3310af4f",
   "outputs": [],
   "execution_count": null
  }
 ],
 "metadata": {
  "kernelspec": {
   "display_name": "Python [conda env:AutoWISP] *",
   "language": "python",
   "name": "conda-env-AutoWISP-py"
  },
  "language_info": {
   "codemirror_mode": {
    "name": "ipython",
    "version": 3
   },
   "file_extension": ".py",
   "mimetype": "text/x-python",
   "name": "python",
   "nbconvert_exporter": "python",
   "pygments_lexer": "ipython3",
   "version": "3.12.11"
  }
 },
 "nbformat": 4,
 "nbformat_minor": 5
}
