{
 "cells": [
  {
   "cell_type": "code",
   "execution_count": 1,
   "id": "a1295455",
   "metadata": {},
   "outputs": [],
   "source": [
    "from calculus_core.models import Estaca, PerfilSPT\n",
    "from calculus_core.teixeira import teixeira_1996\n",
    "\n",
    "estaca = Estaca(\n",
    "    tipo='franki',\n",
    "    processo_construcao='escavada',\n",
    "    formato='circular',\n",
    "    secao_transversal=0.40,\n",
    "    cota_assentamento=9,\n",
    ")\n",
    "\n",
    "perfil_spt = PerfilSPT(nome_sondagem='Matos', confiavel=True)\n",
    "\n",
    "camadas = [\n",
    "    (1, 0, 'argila_arenosa'),\n",
    "    (2, 4, 'argila_arenosa'),\n",
    "    (3, 5, 'argila_arenosa'),\n",
    "    (4, 6, 'argila_arenosa'),\n",
    "    (5, 8, 'argila_arenosa'),\n",
    "    (6, 12, 'silte_arenoso'),\n",
    "    (7, 15, 'silte_arenoso'),\n",
    "    (8, 19, 'silte_arenoso'),\n",
    "    (9, 25, 'silte_arenoso'),\n",
    "    (10, 32, 'areia_siltosa'),\n",
    "    (11, 40, 'areia_siltosa'),\n",
    "]\n",
    "\n",
    "perfil_spt.adicionar_medidas(camadas)"
   ]
  },
  {
   "cell_type": "code",
   "execution_count": 2,
   "id": "9cd330a9",
   "metadata": {},
   "outputs": [
    {
     "data": {
      "text/plain": [
       "{'resistencia_ponta': 955.0441666912972,\n",
       " 'resistencia_lateral': 590.6194188748811,\n",
       " 'capacidade_carga': 1545.6635855661784,\n",
       " 'capacidade_carga_adm': 632.5073209227451}"
      ]
     },
     "execution_count": 2,
     "metadata": {},
     "output_type": "execute_result"
    }
   ],
   "source": [
    "teixeira_1996.calcular(perfil_spt=perfil_spt, estaca=estaca)"
   ]
  }
 ],
 "metadata": {
  "kernelspec": {
   "display_name": ".venv",
   "language": "python",
   "name": "python3"
  },
  "language_info": {
   "codemirror_mode": {
    "name": "ipython",
    "version": 3
   },
   "file_extension": ".py",
   "mimetype": "text/x-python",
   "name": "python",
   "nbconvert_exporter": "python",
   "pygments_lexer": "ipython3",
   "version": "3.13.1"
  }
 },
 "nbformat": 4,
 "nbformat_minor": 5
}
