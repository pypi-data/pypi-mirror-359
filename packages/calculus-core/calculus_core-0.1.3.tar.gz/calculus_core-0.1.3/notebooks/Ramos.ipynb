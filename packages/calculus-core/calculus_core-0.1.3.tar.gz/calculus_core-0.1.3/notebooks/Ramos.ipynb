{
 "cells": [
  {
   "cell_type": "code",
   "execution_count": 1,
   "id": "a1295455",
   "metadata": {},
   "outputs": [],
   "source": [
    "from calculus_core.decourt_quaresma import decort_quaresma_1978_revisado\n",
    "from calculus_core.models import Estaca, PerfilSPT\n",
    "\n",
    "estaca = Estaca(\n",
    "    tipo='hélice_contínua',\n",
    "    processo_construcao='escavada',\n",
    "    formato='circular',\n",
    "    secao_transversal=0.30,\n",
    "    cota_assentamento=8,\n",
    ")\n",
    "\n",
    "perfil_spt = PerfilSPT(nome_sondagem='Ramos', confiavel=True)\n",
    "\n",
    "camadas = [\n",
    "    (1, 0, 'areia'),\n",
    "    (2, 5, 'areia_siltosa'),\n",
    "    (3, 7, 'areia_siltosa'),\n",
    "    (4, 9, 'areia_siltosa'),\n",
    "    (5, 10, 'argila_siltosa'),\n",
    "    (6, 8, 'argila_siltosa'),\n",
    "    (7, 11, 'argila_siltosa'),\n",
    "    (8, 12, 'argila_siltosa'),\n",
    "    (9, 10, 'areia'),\n",
    "    (10, 16, 'areia'),\n",
    "]\n",
    "\n",
    "perfil_spt.adicionar_medidas(camadas)"
   ]
  },
  {
   "cell_type": "code",
   "execution_count": 2,
   "id": "9cd330a9",
   "metadata": {},
   "outputs": [
    {
     "data": {
      "text/plain": [
       "{'resistencia_ponta': 53.72123437638547,\n",
       " 'resistencia_lateral': 249.23301718479027,\n",
       " 'capacidade_carga': 302.95425156117574,\n",
       " 'capacidade_carga_adm': 151.47712578058787}"
      ]
     },
     "execution_count": 2,
     "metadata": {},
     "output_type": "execute_result"
    }
   ],
   "source": [
    "decort_quaresma_1978_revisado.calcular(perfil_spt=perfil_spt, estaca=estaca)"
   ]
  }
 ],
 "metadata": {
  "kernelspec": {
   "display_name": ".venv",
   "language": "python",
   "name": "python3"
  },
  "language_info": {
   "codemirror_mode": {
    "name": "ipython",
    "version": 3
   },
   "file_extension": ".py",
   "mimetype": "text/x-python",
   "name": "python",
   "nbconvert_exporter": "python",
   "pygments_lexer": "ipython3",
   "version": "3.13.1"
  }
 },
 "nbformat": 4,
 "nbformat_minor": 5
}
