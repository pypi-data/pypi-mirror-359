{
 "cells": [
  {
   "cell_type": "code",
   "execution_count": 1,
   "id": "a1295455",
   "metadata": {},
   "outputs": [],
   "source": [
    "from calculus_core.aoki_velloso import (\n",
    "    aoki_velloso_1975,\n",
    "    aoki_velloso_1975_laprovitera_1988,\n",
    ")\n",
    "from calculus_core.decourt_quaresma import decort_quaresma_1978_revisado\n",
    "from calculus_core.models import Estaca, PerfilSPT\n",
    "from calculus_core.teixeira import teixeira_1996\n",
    "\n",
    "estaca = Estaca(\n",
    "    tipo='escavada',\n",
    "    processo_construcao='escavada',\n",
    "    formato='circular',\n",
    "    secao_transversal=0.25,\n",
    "    cota_assentamento=5,\n",
    ")\n",
    "\n",
    "perfil_spt = PerfilSPT(nome_sondagem='Schulze_Tami', confiavel=True)\n",
    "\n",
    "camadas = [\n",
    "    (1, 3, 'argila_siltosa'),\n",
    "    (2, 3, 'argila_siltosa'),\n",
    "    (3, 6, 'argila_siltosa'),\n",
    "    (4, 6, 'argila_siltosa'),\n",
    "    (5, 6, 'argila_siltosa'),\n",
    "    (6, 6, 'argila_siltosa'),\n",
    "    (7, 6, 'argila_siltosa'),\n",
    "    (8, 6, 'argila_siltosa'),\n",
    "    (9, 20, 'silte_argilo_arenoso'),\n",
    "]\n",
    "\n",
    "perfil_spt.adicionar_medidas(camadas)"
   ]
  },
  {
   "cell_type": "code",
   "execution_count": 2,
   "id": "afeaf1b5",
   "metadata": {},
   "outputs": [
    {
     "data": {
      "text/plain": [
       "{'resistencia_ponta': 21.59844949342983,\n",
       " 'resistencia_lateral': 24.190263432641405,\n",
       " 'capacidade_carga': 45.788712926071234,\n",
       " 'capacidade_carga_adm': 22.894356463035617}"
      ]
     },
     "execution_count": 2,
     "metadata": {},
     "output_type": "execute_result"
    }
   ],
   "source": [
    "aoki_velloso_1975.calcular(perfil_spt=perfil_spt, estaca=estaca)"
   ]
  },
  {
   "cell_type": "code",
   "execution_count": 3,
   "id": "9ea02149",
   "metadata": {},
   "outputs": [
    {
     "data": {
      "text/plain": [
       "{'resistencia_ponta': 16.36246173744684,\n",
       " 'resistencia_lateral': 50.396382151336255,\n",
       " 'capacidade_carga': 66.75884388878309,\n",
       " 'capacidade_carga_adm': 33.379421944391545}"
      ]
     },
     "execution_count": 3,
     "metadata": {},
     "output_type": "execute_result"
    }
   ],
   "source": [
    "aoki_velloso_1975_laprovitera_1988.calcular(\n",
    "    perfil_spt=perfil_spt, estaca=estaca\n",
    ")"
   ]
  },
  {
   "cell_type": "code",
   "execution_count": 4,
   "id": "9cd330a9",
   "metadata": {},
   "outputs": [
    {
     "data": {
      "text/plain": [
       "{'resistencia_ponta': 25.034566458293664,\n",
       " 'resistencia_lateral': 67.02064327658226,\n",
       " 'capacidade_carga': 92.05520973487593,\n",
       " 'capacidade_carga_adm': 46.027604867437965}"
      ]
     },
     "execution_count": 4,
     "metadata": {},
     "output_type": "execute_result"
    }
   ],
   "source": [
    "decort_quaresma_1978_revisado.calcular(perfil_spt=perfil_spt, estaca=estaca)"
   ]
  },
  {
   "cell_type": "code",
   "execution_count": 5,
   "id": "1e4f0fbc",
   "metadata": {},
   "outputs": [
    {
     "data": {
      "text/plain": [
       "{'resistencia_ponta': 29.45243112740431,\n",
       " 'resistencia_lateral': 65.97344572538566,\n",
       " 'capacidade_carga': 95.42587685278997,\n",
       " 'capacidade_carga_adm': 47.712938426394985}"
      ]
     },
     "execution_count": 5,
     "metadata": {},
     "output_type": "execute_result"
    }
   ],
   "source": [
    "teixeira_1996.calcular(perfil_spt=perfil_spt, estaca=estaca)"
   ]
  }
 ],
 "metadata": {
  "kernelspec": {
   "display_name": ".venv",
   "language": "python",
   "name": "python3"
  },
  "language_info": {
   "codemirror_mode": {
    "name": "ipython",
    "version": 3
   },
   "file_extension": ".py",
   "mimetype": "text/x-python",
   "name": "python",
   "nbconvert_exporter": "python",
   "pygments_lexer": "ipython3",
   "version": "3.13.1"
  }
 },
 "nbformat": 4,
 "nbformat_minor": 5
}
