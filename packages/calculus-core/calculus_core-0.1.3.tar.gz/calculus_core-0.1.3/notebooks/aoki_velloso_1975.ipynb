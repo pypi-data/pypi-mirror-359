{
 "cells": [
  {
   "cell_type": "markdown",
   "id": "a8439ded",
   "metadata": {},
   "source": [
    "# Aoki Velloso (1975) para a capacidade de carga de estacas.\n",
    "\n",
    "Exemplo de uso direto do objeto aoki_velloso_1975 para cálculo de capacidade de carga de estacas."
   ]
  },
  {
   "cell_type": "code",
   "execution_count": 1,
   "id": "009b0486",
   "metadata": {},
   "outputs": [
    {
     "name": "stdout",
     "output_type": "stream",
     "text": [
      "{'resistencia_ponta': 706.9090909090909,\n",
      " 'resistencia_lateral': 532.0145454545454,\n",
      " 'capacidade_carga': 1238.9236363636364,\n",
      " 'capacidade_carga_adm': 619.4618181818182}\n"
     ]
    }
   ],
   "source": [
    "from pprint import pprint\n",
    "\n",
    "from calculus_core.aoki_velloso import aoki_velloso_1975\n",
    "from calculus_core.models import Estaca, PerfilSPT\n",
    "\n",
    "perfil_spt = PerfilSPT()\n",
    "perfil_spt.adicionar_medidas(\n",
    "    [\n",
    "        (1, 3, 'areia_argilosa'),\n",
    "        (2, 3, 'areia_argilosa'),\n",
    "        (3, 5, 'areia_argilosa'),\n",
    "        (4, 6, 'argila_arenosa'),\n",
    "        (5, 8, 'argila_arenosa'),\n",
    "        (6, 13, 'argila_arenosa'),\n",
    "        (7, 17, 'argila_arenosa'),\n",
    "        (8, 25, 'argila_arenosa'),\n",
    "        (9, 27, 'argila_areno_siltosa'),\n",
    "        (10, 32, 'argila_areno_siltosa'),\n",
    "        (11, 36, 'argila_areno_siltosa'),\n",
    "    ]\n",
    ")\n",
    "\n",
    "estaca = Estaca(\n",
    "    tipo='pré-moldada',\n",
    "    processo_construcao='deslocamento',\n",
    "    formato='quadrada',\n",
    "    secao_transversal=0.3,\n",
    "    cota_assentamento=10,\n",
    ")\n",
    "\n",
    "resultado = aoki_velloso_1975.calcular(perfil_spt, estaca)\n",
    "pprint(resultado, sort_dicts=False)"
   ]
  },
  {
   "cell_type": "markdown",
   "id": "6f08ca70",
   "metadata": {},
   "source": [
    "# Aoki Velloso (1975) para a capacidade de carga de estacas.\n",
    "\n",
    "Exemplo conténdo o uso da função calcular_capacidade_estaca em conjuto do objeto aoki_velloso_1975 para cálculo de capacidade de carga de estacas metro a metro."
   ]
  },
  {
   "cell_type": "code",
   "execution_count": 2,
   "id": "e8e7bded",
   "metadata": {},
   "outputs": [
    {
     "name": "stdout",
     "output_type": "stream",
     "text": [
      "[{'cota': 1,\n",
      "  'resistencia_ponta': 117.81818181818181,\n",
      "  'resistencia_lateral': 0,\n",
      "  'capacidade_carga': 117.81818181818181,\n",
      "  'capacidade_carga_adm': 58.90909090909091},\n",
      " {'cota': 2,\n",
      "  'resistencia_ponta': 196.36363636363637,\n",
      "  'resistencia_lateral': 23.563636363636363,\n",
      "  'capacidade_carga': 219.92727272727274,\n",
      "  'capacidade_carga_adm': 109.96363636363637},\n",
      " {'cota': 3,\n",
      "  'resistencia_ponta': 137.45454545454544,\n",
      "  'resistencia_lateral': 62.836363636363636,\n",
      "  'capacidade_carga': 200.29090909090908,\n",
      "  'capacidade_carga_adm': 100.14545454545454},\n",
      " {'cota': 4,\n",
      "  'resistencia_ponta': 183.27272727272725,\n",
      "  'resistencia_lateral': 84.82909090909091,\n",
      "  'capacidade_carga': 268.10181818181815,\n",
      "  'capacidade_carga_adm': 134.05090909090907},\n",
      " {'cota': 5,\n",
      "  'resistencia_ponta': 297.8181818181818,\n",
      "  'resistencia_lateral': 114.15272727272728,\n",
      "  'capacidade_carga': 411.9709090909091,\n",
      "  'capacidade_carga_adm': 205.98545454545456},\n",
      " {'cota': 6,\n",
      "  'resistencia_ponta': 389.45454545454544,\n",
      "  'resistencia_lateral': 161.80363636363637,\n",
      "  'capacidade_carga': 551.2581818181818,\n",
      "  'capacidade_carga_adm': 275.6290909090909},\n",
      " {'cota': 7,\n",
      "  'resistencia_ponta': 572.7272727272727,\n",
      "  'resistencia_lateral': 224.11636363636364,\n",
      "  'capacidade_carga': 796.8436363636364,\n",
      "  'capacidade_carga_adm': 398.4218181818182},\n",
      " {'cota': 8,\n",
      "  'resistencia_ponta': 530.1818181818181,\n",
      "  'resistencia_lateral': 315.75272727272727,\n",
      "  'capacidade_carga': 845.9345454545454,\n",
      "  'capacidade_carga_adm': 422.9672727272727},\n",
      " {'cota': 9,\n",
      "  'resistencia_ponta': 628.3636363636364,\n",
      "  'resistencia_lateral': 414.71999999999997,\n",
      "  'capacidade_carga': 1043.0836363636363,\n",
      "  'capacidade_carga_adm': 521.5418181818181},\n",
      " {'cota': 10,\n",
      "  'resistencia_ponta': 706.9090909090909,\n",
      "  'resistencia_lateral': 532.0145454545454,\n",
      "  'capacidade_carga': 1238.9236363636364,\n",
      "  'capacidade_carga_adm': 619.4618181818182}]\n"
     ]
    }
   ],
   "source": [
    "from pprint import pprint\n",
    "\n",
    "from calculus_core.aoki_velloso import aoki_velloso_1975\n",
    "from calculus_core.main import calcular_capacidade_estaca\n",
    "from calculus_core.models import PerfilSPT\n",
    "\n",
    "perfil_spt = PerfilSPT()\n",
    "perfil_spt.adicionar_medidas(\n",
    "    [\n",
    "        (1, 3, 'areia_argilosa'),\n",
    "        (2, 3, 'areia_argilosa'),\n",
    "        (3, 5, 'areia_argilosa'),\n",
    "        (4, 6, 'argila_arenosa'),\n",
    "        (5, 8, 'argila_arenosa'),\n",
    "        (6, 13, 'argila_arenosa'),\n",
    "        (7, 17, 'argila_arenosa'),\n",
    "        (8, 25, 'argila_arenosa'),\n",
    "        (9, 27, 'argila_areno_siltosa'),\n",
    "        (10, 32, 'argila_areno_siltosa'),\n",
    "        (11, 36, 'argila_areno_siltosa'),\n",
    "    ]\n",
    ")\n",
    "resultado = calcular_capacidade_estaca(\n",
    "    aoki_velloso_1975,\n",
    "    perfil_spt,\n",
    "    tipo_estaca='pré-moldada',\n",
    "    processo_construcao='deslocamento',\n",
    "    formato='quadrada',\n",
    "    secao_transversal=0.3,\n",
    ")\n",
    "pprint(resultado, sort_dicts=False)"
   ]
  },
  {
   "cell_type": "markdown",
   "id": "703ca367",
   "metadata": {},
   "source": [
    "# Aoki e Velloso (1975) módificado por Laprovitera (1988) para a capacidade de carga de estacas.\n",
    "\n",
    "Exemplo de uso direto do objeto aoki_velloso_1975_laprovitera_1988 para cálculo de capacidade de carga de estacas."
   ]
  },
  {
   "cell_type": "code",
   "execution_count": 3,
   "id": "97d500ed",
   "metadata": {},
   "outputs": [
    {
     "name": "stdout",
     "output_type": "stream",
     "text": [
      "{'resistencia_ponta': 615.6,\n",
      " 'resistencia_lateral': 843.7371428571428,\n",
      " 'capacidade_carga': 1459.3371428571427,\n",
      " 'capacidade_carga_adm': 729.6685714285713}\n"
     ]
    }
   ],
   "source": [
    "from pprint import pprint\n",
    "\n",
    "from calculus_core.aoki_velloso import aoki_velloso_1975_laprovitera_1988\n",
    "from calculus_core.models import Estaca, PerfilSPT\n",
    "\n",
    "perfil_spt = PerfilSPT()\n",
    "perfil_spt.adicionar_medidas(\n",
    "    [\n",
    "        (1, 3, 'areia_argilosa'),\n",
    "        (2, 3, 'areia_argilosa'),\n",
    "        (3, 5, 'areia_argilosa'),\n",
    "        (4, 6, 'argila_arenosa'),\n",
    "        (5, 8, 'argila_arenosa'),\n",
    "        (6, 13, 'argila_arenosa'),\n",
    "        (7, 17, 'argila_arenosa'),\n",
    "        (8, 25, 'argila_arenosa'),\n",
    "        (9, 27, 'argila_areno_siltosa'),\n",
    "        (10, 32, 'argila_areno_siltosa'),\n",
    "        (11, 36, 'argila_areno_siltosa'),\n",
    "    ]\n",
    ")\n",
    "\n",
    "estaca = Estaca(\n",
    "    tipo='pré-moldada',\n",
    "    processo_construcao='deslocamento',\n",
    "    formato='quadrada',\n",
    "    secao_transversal=0.3,\n",
    "    cota_assentamento=10,\n",
    ")\n",
    "\n",
    "resultado = aoki_velloso_1975_laprovitera_1988.calcular(perfil_spt, estaca)\n",
    "pprint(resultado, sort_dicts=False)"
   ]
  }
 ],
 "metadata": {
  "kernelspec": {
   "display_name": ".venv",
   "language": "python",
   "name": "python3"
  },
  "language_info": {
   "codemirror_mode": {
    "name": "ipython",
    "version": 3
   },
   "file_extension": ".py",
   "mimetype": "text/x-python",
   "name": "python",
   "nbconvert_exporter": "python",
   "pygments_lexer": "ipython3",
   "version": "3.13.1"
  }
 },
 "nbformat": 4,
 "nbformat_minor": 5
}
