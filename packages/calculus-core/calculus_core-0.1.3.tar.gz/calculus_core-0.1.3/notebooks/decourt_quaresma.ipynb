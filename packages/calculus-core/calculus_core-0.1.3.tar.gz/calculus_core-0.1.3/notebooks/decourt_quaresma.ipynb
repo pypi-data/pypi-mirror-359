{
 "cells": [
  {
   "cell_type": "code",
   "execution_count": 1,
   "id": "e8e7bded",
   "metadata": {},
   "outputs": [
    {
     "name": "stdout",
     "output_type": "stream",
     "text": [
      "[{'cota': 1,\n",
      "  'resistencia_ponta': 131.99999999999997,\n",
      "  'resistencia_lateral': 0,\n",
      "  'capacidade_carga': 131.99999999999997,\n",
      "  'capacidade_carga_adm': 32.99999999999999},\n",
      " {'cota': 2,\n",
      "  'resistencia_ponta': 168.0,\n",
      "  'resistencia_lateral': 12.0,\n",
      "  'capacidade_carga': 180.0,\n",
      "  'capacidade_carga_adm': 51.230769230769226},\n",
      " {'cota': 3,\n",
      "  'resistencia_ponta': 68.39999999999999,\n",
      "  'resistencia_lateral': 48.0,\n",
      "  'capacidade_carga': 116.39999999999999,\n",
      "  'capacidade_carga_adm': 54.023076923076914},\n",
      " {'cota': 4,\n",
      "  'resistencia_ponta': 97.2,\n",
      "  'resistencia_lateral': 83.99999999999997,\n",
      "  'capacidade_carga': 181.2,\n",
      "  'capacidade_carga_adm': 88.91538461538458},\n",
      " {'cota': 5,\n",
      "  'resistencia_ponta': 136.79999999999998,\n",
      "  'resistencia_lateral': 122.66666666666666,\n",
      "  'capacidade_carga': 259.46666666666664,\n",
      "  'capacidade_carga_adm': 128.55897435897435},\n",
      " {'cota': 6,\n",
      "  'resistencia_ponta': 198.0,\n",
      "  'resistencia_lateral': 169.99999999999997,\n",
      "  'capacidade_carga': 368.0,\n",
      "  'capacidade_carga_adm': 180.26923076923075},\n",
      " {'cota': 7,\n",
      "  'resistencia_ponta': 248.39999999999998,\n",
      "  'resistencia_lateral': 240.0,\n",
      "  'capacidade_carga': 488.4,\n",
      "  'capacidade_carga_adm': 244.2},\n",
      " {'cota': 8,\n",
      "  'resistencia_ponta': 302.4,\n",
      "  'resistencia_lateral': 326.6666666666667,\n",
      "  'capacidade_carga': 629.0666666666666,\n",
      "  'capacidade_carga_adm': 314.5333333333333},\n",
      " {'cota': 9,\n",
      "  'resistencia_ponta': 342.0,\n",
      "  'resistencia_lateral': 447.99999999999994,\n",
      "  'capacidade_carga': 790.0,\n",
      "  'capacidade_carga_adm': 395.0}]\n"
     ]
    }
   ],
   "source": [
    "from pprint import pprint\n",
    "\n",
    "from calculus_core.decourt_quaresma import decort_quaresma_1978_revisado\n",
    "from calculus_core.main import calcular_capacidade_estaca\n",
    "from calculus_core.models import PerfilSPT\n",
    "\n",
    "perfil_spt = PerfilSPT()\n",
    "perfil_spt.adicionar_medidas(\n",
    "    [\n",
    "        (1, 3, 'areia_argilosa'),\n",
    "        (2, 3, 'areia_argilosa'),\n",
    "        (3, 5, 'areia_argilosa'),\n",
    "        (4, 6, 'argila_arenosa'),\n",
    "        (5, 8, 'argila_arenosa'),\n",
    "        (6, 13, 'argila_arenosa'),\n",
    "        (7, 17, 'argila_arenosa'),\n",
    "        (8, 25, 'argila_arenosa'),\n",
    "        (9, 27, 'argila_areno_siltosa'),\n",
    "        (10, 32, 'argila_areno_siltosa'),\n",
    "        (11, 36, 'argila_areno_siltosa'),\n",
    "    ]\n",
    ")\n",
    "resultado = calcular_capacidade_estaca(\n",
    "    decort_quaresma_1978_revisado,\n",
    "    perfil_spt,\n",
    "    tipo_estaca='pré-moldada',\n",
    "    processo_construcao='deslocamento',\n",
    "    formato='quadrada',\n",
    "    secao_transversal=0.3,\n",
    ")\n",
    "pprint(resultado, sort_dicts=False)"
   ]
  }
 ],
 "metadata": {
  "kernelspec": {
   "display_name": ".venv",
   "language": "python",
   "name": "python3"
  },
  "language_info": {
   "codemirror_mode": {
    "name": "ipython",
    "version": 3
   },
   "file_extension": ".py",
   "mimetype": "text/x-python",
   "name": "python",
   "nbconvert_exporter": "python",
   "pygments_lexer": "ipython3",
   "version": "3.13.1"
  }
 },
 "nbformat": 4,
 "nbformat_minor": 5
}
