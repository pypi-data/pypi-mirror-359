{
 "cells": [
  {
   "cell_type": "code",
   "execution_count": 1,
   "id": "4bad0acc",
   "metadata": {},
   "outputs": [],
   "source": [
    "from calculus_core.decourt_quaresma import decort_quaresma_1978_revisado\n",
    "from calculus_core.models import Estaca, PerfilSPT\n",
    "\n",
    "estaca = Estaca(\n",
    "    tipo='pré-moldada',\n",
    "    processo_construcao='deslocamento',\n",
    "    formato='quadrada',\n",
    "    secao_transversal=0.30,\n",
    "    cota_assentamento=13,\n",
    ")\n",
    "\n",
    "perfil_spt = PerfilSPT()\n",
    "perfil_spt.adicionar_medidas(\n",
    "    [\n",
    "        (1, 0, 'argila'),\n",
    "        (2, 0 / 45, 'argila'),\n",
    "        (3, 0 / 60, 'argila'),\n",
    "        (4, 0 / 20, 'argila'),\n",
    "        (5, 1, 'argila'),\n",
    "        (6, 7, 'areia'),\n",
    "        (7, 9, 'areia'),\n",
    "        (8, 8, 'areia'),\n",
    "        (9, 12, 'areia'),\n",
    "        (10, 14, 'areia'),\n",
    "        (11, 10, 'areia'),\n",
    "        (12, 16, 'areia'),\n",
    "        (13, 20, 'areia'),\n",
    "        (14, 22, 'areia'),\n",
    "        (15, 26, 'areia'),\n",
    "    ]\n",
    ")"
   ]
  },
  {
   "cell_type": "code",
   "execution_count": 2,
   "id": "140de678",
   "metadata": {},
   "outputs": [
    {
     "data": {
      "text/plain": [
       "{'resistencia_ponta': 816.0000000000001,\n",
       " 'resistencia_lateral': 527.9999999999999,\n",
       " 'capacidade_carga': 1344.0,\n",
       " 'capacidade_carga_adm': 610.1538461538461}"
      ]
     },
     "execution_count": 2,
     "metadata": {},
     "output_type": "execute_result"
    }
   ],
   "source": [
    "decort_quaresma_1978_revisado.calcular(perfil_spt=perfil_spt, estaca=estaca)"
   ]
  }
 ],
 "metadata": {
  "kernelspec": {
   "display_name": ".venv",
   "language": "python",
   "name": "python3"
  },
  "language_info": {
   "codemirror_mode": {
    "name": "ipython",
    "version": 3
   },
   "file_extension": ".py",
   "mimetype": "text/x-python",
   "name": "python",
   "nbconvert_exporter": "python",
   "pygments_lexer": "ipython3",
   "version": "3.13.1"
  }
 },
 "nbformat": 4,
 "nbformat_minor": 5
}
