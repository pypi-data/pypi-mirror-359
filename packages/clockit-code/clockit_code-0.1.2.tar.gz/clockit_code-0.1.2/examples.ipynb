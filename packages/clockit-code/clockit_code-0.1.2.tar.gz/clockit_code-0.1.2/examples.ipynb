{
 "cells": [
  {
   "cell_type": "code",
   "execution_count": 2,
   "metadata": {},
   "outputs": [
    {
     "name": "stdout",
     "output_type": "stream",
     "text": [
      "Time: 1.004 seconds\n",
      "Time: 3.014 seconds\n",
      "Time: 4.018 seconds\n"
     ]
    }
   ],
   "source": [
    "from clockit.clockit import clockit\n",
    "import time\n",
    "\n",
    "with clockit() as ct_global:\n",
    "    with clockit() as ct:\n",
    "        time.sleep(1)\n",
    "\n",
    "    with clockit() as ct2:\n",
    "        time.sleep(3)\n",
    "\n",
    "print(ct)\n",
    "print(ct2)\n",
    "print(ct_global)"
   ]
  },
  {
   "cell_type": "code",
   "execution_count": 31,
   "metadata": {},
   "outputs": [
    {
     "name": "stdout",
     "output_type": "stream",
     "text": [
      "⏱️  Time: 1.006 seconds\n"
     ]
    }
   ],
   "source": [
    "# Custom formatting\n",
    "def my_printer(msg):\n",
    "    print(f\"⏱️  {msg}\")\n",
    "\n",
    "with clockit(printer=my_printer) as ct:\n",
    "    time.sleep(1)"
   ]
  },
  {
   "cell_type": "code",
   "execution_count": 3,
   "metadata": {},
   "outputs": [
    {
     "name": "stdout",
     "output_type": "stream",
     "text": [
      "process batch 1: 0.502 seconds\n",
      "process batch 2: 0.511 seconds\n",
      "process batch 3: 0.504 seconds\n",
      "total batch processing: 1.520 seconds\n"
     ]
    }
   ],
   "source": [
    "data_batches = [range(1000), range(1000), range(1000)]\n",
    "\n",
    "with clockit(printer=print, name=\"total batch processing\") as ct_total:\n",
    "    for i, batch in enumerate(data_batches):\n",
    "        with clockit(printer=print, name=f\"process batch {i+1}\") as ct:\n",
    "            time.sleep(0.5)  # simulate processing"
   ]
  },
  {
   "cell_type": "code",
   "execution_count": 32,
   "metadata": {},
   "outputs": [
    {
     "name": "stdout",
     "output_type": "stream",
     "text": [
      "Warning: function took 2.01 seconds\n",
      "Raw timing: 2.011047499999904\n",
      "Formatted: Time: 2.011 seconds\n",
      "Via str(): Time: 2.011 seconds\n"
     ]
    }
   ],
   "source": [
    "\n",
    "with clockit() as ct:\n",
    "    time.sleep(2.0)\n",
    "\n",
    "if ct.elapsed > 1.0:\n",
    "    print(f\"Warning: function took {ct.elapsed:.2f} seconds\")\n",
    "\n",
    "# Both ct.elapsed (float) and ct.readout (string) are available\n",
    "print(f\"Raw timing: {ct.elapsed}\")     # 1.234567\n",
    "print(f\"Formatted: {ct.readout}\")      # Time: 1.235 seconds\n",
    "print(f\"Via str(): {str(ct)}\")         # Time: 1.235 seconds"
   ]
  },
  {
   "cell_type": "code",
   "execution_count": 35,
   "metadata": {},
   "outputs": [],
   "source": [
    "import logging\n",
    "logger = logging.getLogger(__name__)\n",
    "\n",
    "# Log the timing\n",
    "with clockit(printer=logger.info) as ct:\n",
    "    time.sleep(1)"
   ]
  },
  {
   "cell_type": "code",
   "execution_count": 29,
   "metadata": {},
   "outputs": [
    {
     "name": "stdout",
     "output_type": "stream",
     "text": [
      "Time: 1.008 seconds\n",
      "Time: 2.003 seconds\n",
      "Time: 3.002 seconds\n",
      "🐌 func_c is the slowpoke at 3.002s\n"
     ]
    }
   ],
   "source": [
    "def func_a(): time.sleep(1)\n",
    "def func_b(): time.sleep(2)\n",
    "def func_c(): time.sleep(3)\n",
    "\n",
    "functions_to_test = [func_a, func_b, func_c]\n",
    "timings = {}\n",
    "\n",
    "for func in functions_to_test:\n",
    "    with clockit(printer=print) as timer:\n",
    "        func()\n",
    "    timings[func.__name__] = timer.elapsed\n",
    "\n",
    "slowest = max(timings, key=timings.get)\n",
    "print(f\"🐌 {slowest} is the slowpoke at {timings[slowest]:.3f}s\")"
   ]
  }
 ],
 "metadata": {
  "kernelspec": {
   "display_name": "Python 3",
   "language": "python",
   "name": "python3"
  },
  "language_info": {
   "codemirror_mode": {
    "name": "ipython",
    "version": 3
   },
   "file_extension": ".py",
   "mimetype": "text/x-python",
   "name": "python",
   "nbconvert_exporter": "python",
   "pygments_lexer": "ipython3",
   "version": "3.9.13"
  }
 },
 "nbformat": 4,
 "nbformat_minor": 2
}
