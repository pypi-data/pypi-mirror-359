{
 "cells": [
  {
   "cell_type": "markdown",
   "id": "8358e29c",
   "metadata": {},
   "source": [
    "# Essential Input Parameters\n",
    "\n",
    "Essential Input Parameters refers to the [2.4.1. Essential Input Parameters](https://www.commonwl.org/user_guide/topics/inputs.html#essential-input-parameters) paragraph of the _2.4. Inputs_ chapter of the [Common Workflow Language User Guide](https://www.commonwl.org/user_guide/index.html#)"
   ]
  },
  {
   "cell_type": "markdown",
   "id": "49492847",
   "metadata": {},
   "source": [
    "## 1. Parsing\n",
    "\n",
    "The `cwl2ogc` library ships a set of utility methods in order to simplify the parsing operations to the final user:\n",
    "\n",
    "* `load_converter_from_location(path_or_url: str)`: reads a CWL document given its local File System or remote URL;\n",
    "* `load_converter_from_string_content(content: str)`: reads a CWL document from a text in a string in memory;\n",
    "* `load_converter_from_stream(content: io.TextIOWrapper)`: reads a CWL document from a text stream;\n",
    "* `load_converter_from_yaml(cwl_content: dict)`: reads a CWL document from an laready YAML parsed dictionary stream.\n",
    "\n",
    "In this sample we'll show the access from a remote public URL."
   ]
  },
  {
   "cell_type": "code",
   "execution_count": 1,
   "id": "28253a7a",
   "metadata": {},
   "outputs": [],
   "source": [
    "from cwl2ogc import load_converter_from_location\n",
    "\n",
    "cwl_coverter = load_converter_from_location('https://raw.githubusercontent.com/eoap/cwl2ogc/refs/heads/develop/tests/artifacts/cwl-types/inp.cwl')"
   ]
  },
  {
   "cell_type": "markdown",
   "id": "a127e3f7",
   "metadata": {},
   "source": [
    "# 2. Inputs conversion\n",
    "\n",
    "Once the document is parsed, invoke the `cwl2ogc` APIs to convert the CWL inputs to the OGC JSON format:"
   ]
  },
  {
   "cell_type": "code",
   "execution_count": 2,
   "id": "fba17ea4",
   "metadata": {},
   "outputs": [
    {
     "name": "stdout",
     "output_type": "stream",
     "text": [
      "{\n",
      "  \"example_flag\": {\n",
      "    \"schema\": {\n",
      "      \"type\": \"boolean\"\n",
      "    },\n",
      "    \"title\": \"example_flag label\",\n",
      "    \"description\": \"example_flag doc\"\n",
      "  },\n",
      "  \"example_string\": {\n",
      "    \"schema\": {\n",
      "      \"type\": \"string\"\n",
      "    },\n",
      "    \"title\": \"example_string label\",\n",
      "    \"description\": \"example_string doc\"\n",
      "  },\n",
      "  \"example_int\": {\n",
      "    \"schema\": {\n",
      "      \"type\": \"integer\"\n",
      "    },\n",
      "    \"title\": \"example_int label\",\n",
      "    \"description\": \"example_int doc\"\n",
      "  },\n",
      "  \"example_file\": {\n",
      "    \"schema\": {\n",
      "      \"nullable\": true,\n",
      "      \"type\": \"string\",\n",
      "      \"format\": \"uri\"\n",
      "    },\n",
      "    \"title\": \"example_file label\",\n",
      "    \"description\": \"example_file doc\"\n",
      "  },\n",
      "  \"example_enum\": {\n",
      "    \"schema\": {\n",
      "      \"type\": \"string\",\n",
      "      \"enum\": [\n",
      "        \"auto\",\n",
      "        \"fasta\",\n",
      "        \"fastq\",\n",
      "        \"fasta.gz\",\n",
      "        \"fastq.gz\"\n",
      "      ],\n",
      "      \"default\": \"auto\"\n",
      "    },\n",
      "    \"title\": \"example_enum label\",\n",
      "    \"description\": \"example_enum doc\"\n",
      "  }\n",
      "}"
     ]
    }
   ],
   "source": [
    "import sys\n",
    "\n",
    "cwl_coverter.dump_inputs(sys.stdout)"
   ]
  },
  {
   "cell_type": "markdown",
   "id": "8f73dd47",
   "metadata": {},
   "source": [
    "# 3. Outputs conversion\n",
    "\n",
    "Users can reuse the `BaseCWLtypes2OGCConverter` instance to convert the CWL outputs to the OGC JSON format:"
   ]
  },
  {
   "cell_type": "code",
   "execution_count": 3,
   "id": "1ddfe702",
   "metadata": {},
   "outputs": [
    {
     "name": "stdout",
     "output_type": "stream",
     "text": [
      "{}"
     ]
    }
   ],
   "source": [
    "cwl_coverter.dump_outputs(sys.stdout)"
   ]
  }
 ],
 "metadata": {
  "kernelspec": {
   "display_name": "cwl2ogc",
   "language": "python",
   "name": "python3"
  },
  "language_info": {
   "codemirror_mode": {
    "name": "ipython",
    "version": 3
   },
   "file_extension": ".py",
   "mimetype": "text/x-python",
   "name": "python",
   "nbconvert_exporter": "python",
   "pygments_lexer": "ipython3",
   "version": "3.12.8"
  }
 },
 "nbformat": 4,
 "nbformat_minor": 5
}
