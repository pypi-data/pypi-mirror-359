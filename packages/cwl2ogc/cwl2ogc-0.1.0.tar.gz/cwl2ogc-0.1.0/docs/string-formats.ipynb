{
 "cells": [
  {
   "cell_type": "markdown",
   "id": "8358e29c",
   "metadata": {},
   "source": [
    "# String formats\n",
    "\n",
    "Follow below an example to demonstrate how the library handles and convert a an almost complete subset of all supported string formats by OpenAPI/JSON Schema, initial schema implementation in https://raw.githubusercontent.com/eoap/schemas/main/string_format.yaml\n",
    "\n",
    "What's out of the scope:\n",
    "\n",
    "* `binary`;\n",
    "* `byte`;\n",
    "* `regex` (`pattern` could be computed at runtime only, no way to specify it in the schema)."
   ]
  },
  {
   "cell_type": "markdown",
   "id": "49492847",
   "metadata": {},
   "source": [
    "## 1. Parsing\n",
    "\n",
    "The `cwl2ogc` library ships a set of utility methods in order to simplify the parsing operations to the final user:\n",
    "\n",
    "* `load_converter_from_location(path_or_url: str)`: reads a CWL document given its local File System or remote URL;\n",
    "* `load_converter_from_string_content(content: str)`: reads a CWL document from a text in a string in memory;\n",
    "* `load_converter_from_stream(content: io.TextIOWrapper)`: reads a CWL document from a text stream;\n",
    "* `load_converter_from_yaml(cwl_content: dict)`: reads a CWL document from an laready YAML parsed dictionary stream.\n",
    "\n",
    "In this sample we'll show the access from a remote public URL."
   ]
  },
  {
   "cell_type": "code",
   "execution_count": 1,
   "id": "28253a7a",
   "metadata": {},
   "outputs": [],
   "source": [
    "from cwl2ogc import load_converter_from_location\n",
    "\n",
    "cwl_coverter = load_converter_from_location('https://raw.githubusercontent.com/eoap/cwl2ogc/refs/heads/develop/tests/artifacts/cwl-types/string-formats.cwl')"
   ]
  },
  {
   "cell_type": "markdown",
   "id": "a127e3f7",
   "metadata": {},
   "source": [
    "# 3. Inputs conversion\n",
    "\n",
    "Once the document is parsed, invoke the `cwl2ogc` APIs to convert the CWL inputs to the OGC JSON format:"
   ]
  },
  {
   "cell_type": "code",
   "execution_count": 2,
   "id": "fba17ea4",
   "metadata": {},
   "outputs": [
    {
     "name": "stdout",
     "output_type": "stream",
     "text": [
      "{\n",
      "  \"date_input\": {\n",
      "    \"schema\": {\n",
      "      \"type\": \"string\",\n",
      "      \"format\": \"date\"\n",
      "    },\n",
      "    \"title\": \"Expected schema serialization: { \\\"type\\\": \\\"string\\\", \\\"format\\\": \\\"\\\"date\\\" }\"\n",
      "  },\n",
      "  \"date-time_input\": {\n",
      "    \"schema\": {\n",
      "      \"type\": \"string\",\n",
      "      \"format\": \"date-time\"\n",
      "    },\n",
      "    \"title\": \"Expected schema serialization: { \\\"type\\\": \\\"string\\\", \\\"format\\\": \\\"date-time\\\" }\"\n",
      "  },\n",
      "  \"duration_input\": {\n",
      "    \"schema\": {\n",
      "      \"type\": \"string\",\n",
      "      \"format\": \"duration\"\n",
      "    },\n",
      "    \"title\": \"Expected schema serialization: { \\\"type\\\": \\\"string\\\", \\\"format\\\": \\\"duration\\\" }\"\n",
      "  },\n",
      "  \"email_input\": {\n",
      "    \"schema\": {\n",
      "      \"type\": \"string\",\n",
      "      \"format\": \"email\"\n",
      "    },\n",
      "    \"title\": \"Expected schema serialization: { \\\"type\\\": \\\"string\\\", \\\"format\\\": \\\"email\\\" }\"\n",
      "  },\n",
      "  \"hostname_input\": {\n",
      "    \"schema\": {\n",
      "      \"type\": \"string\",\n",
      "      \"format\": \"hostname\"\n",
      "    },\n",
      "    \"title\": \"Expected schema serialization: { \\\"type\\\": \\\"string\\\", \\\"format\\\": \\\"hostname\\\" }\"\n",
      "  },\n",
      "  \"idn-email_input\": {\n",
      "    \"schema\": {\n",
      "      \"type\": \"string\",\n",
      "      \"format\": \"idn-email\"\n",
      "    },\n",
      "    \"title\": \"Expected schema serialization: { \\\"type\\\": \\\"string\\\", \\\"format\\\": \\\"idn-email\\\" }\"\n",
      "  },\n",
      "  \"idn-hostname_input\": {\n",
      "    \"schema\": {\n",
      "      \"type\": \"string\",\n",
      "      \"format\": \"idn-hostname\"\n",
      "    },\n",
      "    \"title\": \"Expected schema serialization: { \\\"type\\\": \\\"string\\\", \\\"format\\\": \\\"idn-hostname\\\" }\"\n",
      "  },\n",
      "  \"ipv4_input\": {\n",
      "    \"schema\": {\n",
      "      \"type\": \"string\",\n",
      "      \"format\": \"ipv4\"\n",
      "    },\n",
      "    \"title\": \"Expected schema serialization: { \\\"type\\\": \\\"string\\\", \\\"format\\\": \\\"ipv4\\\" }\"\n",
      "  },\n",
      "  \"ipv6_input\": {\n",
      "    \"schema\": {\n",
      "      \"type\": \"string\",\n",
      "      \"format\": \"ipv6\"\n",
      "    },\n",
      "    \"title\": \"Expected schema serialization: { \\\"type\\\": \\\"string\\\", \\\"format\\\": \\\"ipv6\\\" }\"\n",
      "  },\n",
      "  \"iri_input\": {\n",
      "    \"schema\": {\n",
      "      \"type\": \"string\",\n",
      "      \"format\": \"iri\"\n",
      "    },\n",
      "    \"title\": \"Expected schema serialization: { \\\"type\\\": \\\"string\\\", \\\"format\\\": \\\"iri\\\" }\"\n",
      "  },\n",
      "  \"iri-reference_input\": {\n",
      "    \"schema\": {\n",
      "      \"type\": \"string\",\n",
      "      \"format\": \"iri-reference\"\n",
      "    },\n",
      "    \"title\": \"Expected schema serialization: { \\\"type\\\": \\\"string\\\", \\\"format\\\": \\\"iri-reference\\\" }\"\n",
      "  },\n",
      "  \"json-pointer_input\": {\n",
      "    \"schema\": {\n",
      "      \"type\": \"string\",\n",
      "      \"format\": \"json-pointer\"\n",
      "    },\n",
      "    \"title\": \"Expected schema serialization: { \\\"type\\\": \\\"string\\\", \\\"format\\\": \\\"json-pointer\\\" }\"\n",
      "  },\n",
      "  \"password_input\": {\n",
      "    \"schema\": {\n",
      "      \"type\": \"string\",\n",
      "      \"format\": \"password\"\n",
      "    },\n",
      "    \"title\": \"Expected schema serialization: { \\\"type\\\": \\\"string\\\", \\\"format\\\": \\\"password\\\" }\"\n",
      "  },\n",
      "  \"relative-json-pointer_input\": {\n",
      "    \"schema\": {\n",
      "      \"type\": \"string\",\n",
      "      \"format\": \"relative-json-pointer\"\n",
      "    },\n",
      "    \"title\": \"Expected schema serialization: { \\\"type\\\": \\\"string\\\", \\\"format\\\": \\\"relative-json-pointer\\\" }\"\n",
      "  },\n",
      "  \"uuid_input\": {\n",
      "    \"schema\": {\n",
      "      \"type\": \"string\",\n",
      "      \"format\": \"uuid\"\n",
      "    },\n",
      "    \"title\": \"Expected schema serialization: { \\\"type\\\": \\\"string\\\", \\\"format\\\": \\\"uuid\\\" }\"\n",
      "  },\n",
      "  \"uri_input\": {\n",
      "    \"schema\": {\n",
      "      \"type\": \"string\",\n",
      "      \"format\": \"uri\"\n",
      "    },\n",
      "    \"title\": \"Expected schema serialization: { \\\"type\\\": \\\"string\\\", \\\"format\\\": \\\"uri\\\" }\"\n",
      "  },\n",
      "  \"uri-reference_input\": {\n",
      "    \"schema\": {\n",
      "      \"type\": \"string\",\n",
      "      \"format\": \"uri-reference\"\n",
      "    },\n",
      "    \"title\": \"Expected schema serialization: { \\\"type\\\": \\\"string\\\", \\\"format\\\": \\\"uri-reference\\\" }\"\n",
      "  },\n",
      "  \"uri-template_input\": {\n",
      "    \"schema\": {\n",
      "      \"type\": \"string\",\n",
      "      \"format\": \"uri-template\"\n",
      "    },\n",
      "    \"title\": \"Expected schema serialization: { \\\"type\\\": \\\"string\\\", \\\"format\\\": \\\"uri-template\\\" }\"\n",
      "  },\n",
      "  \"time_input\": {\n",
      "    \"schema\": {\n",
      "      \"type\": \"string\",\n",
      "      \"format\": \"time\"\n",
      "    },\n",
      "    \"title\": \"Expected schema serialization: { \\\"type\\\": \\\"string\\\", \\\"format\\\": \\\"time\\\" }\"\n",
      "  }\n",
      "}"
     ]
    }
   ],
   "source": [
    "import sys\n",
    "\n",
    "cwl_coverter.dump_inputs(sys.stdout)"
   ]
  },
  {
   "cell_type": "markdown",
   "id": "8f73dd47",
   "metadata": {},
   "source": [
    "# 2. Outputs conversion\n",
    "\n",
    "Users can reuse the `BaseCWLtypes2OGCConverter` instance to convert the CWL outputs to the OGC JSON format:"
   ]
  },
  {
   "cell_type": "code",
   "execution_count": 3,
   "id": "1ddfe702",
   "metadata": {},
   "outputs": [
    {
     "name": "stdout",
     "output_type": "stream",
     "text": [
      "{\n",
      "  \"echo_output\": {\n",
      "    \"schema\": {\n",
      "      \"type\": \"string\"\n",
      "    }\n",
      "  }\n",
      "}"
     ]
    }
   ],
   "source": [
    "cwl_coverter.dump_outputs(sys.stdout)"
   ]
  }
 ],
 "metadata": {
  "kernelspec": {
   "display_name": "cwl2ogc",
   "language": "python",
   "name": "python3"
  },
  "language_info": {
   "codemirror_mode": {
    "name": "ipython",
    "version": 3
   },
   "file_extension": ".py",
   "mimetype": "text/x-python",
   "name": "python",
   "nbconvert_exporter": "python",
   "pygments_lexer": "ipython3",
   "version": "3.12.8"
  }
 },
 "nbformat": 4,
 "nbformat_minor": 5
}
