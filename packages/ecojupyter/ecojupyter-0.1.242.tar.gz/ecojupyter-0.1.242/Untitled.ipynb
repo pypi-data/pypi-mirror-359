{
 "cells": [
  {
   "cell_type": "code",
   "execution_count": 22,
   "id": "25120d03-8345-40a8-b00b-c1581e3cc25a",
   "metadata": {},
   "outputs": [],
   "source": [
    "a = 0"
   ]
  },
  {
   "cell_type": "code",
   "execution_count": 27,
   "id": "9ba8cf06-cd9f-460b-8880-707dcc2f0f86",
   "metadata": {},
   "outputs": [],
   "source": [
    "b = 1"
   ]
  },
  {
   "cell_type": "code",
   "execution_count": 31,
   "id": "3b76eca2-fb76-43d9-9f1f-8f16d7fb7f91",
   "metadata": {},
   "outputs": [
    {
     "name": "stdout",
     "output_type": "stream",
     "text": [
      "total 0\n",
      "drwxr-xr-x@ 2 root  staff  64 Jun 20 10:55 \u001b[34m.\u001b[m\u001b[m\n",
      "drwxr-xr-x@ 3 root  staff  96 Jun 20 10:55 \u001b[34m..\u001b[m\u001b[m\n"
     ]
    }
   ],
   "source": [
    "%%bash\n",
    "ls -la \".lib/experiments/Untitled/experiment-28599875-2025-06-20 08:55\""
   ]
  },
  {
   "cell_type": "code",
   "execution_count": 13,
   "id": "c6b0a030-d708-41e4-948b-e1bf76e84946",
   "metadata": {},
   "outputs": [],
   "source": [
    "c = 2"
   ]
  },
  {
   "cell_type": "code",
   "execution_count": null,
   "id": "0ada04ca-bcf1-4052-a48a-57b2fdca634d",
   "metadata": {},
   "outputs": [],
   "source": []
  }
 ],
 "metadata": {
  "kernelspec": {
   "display_name": "Python 3 (ipykernel)",
   "language": "python",
   "name": "python3"
  },
  "language_info": {
   "codemirror_mode": {
    "name": "ipython",
    "version": 3
   },
   "file_extension": ".py",
   "mimetype": "text/x-python",
   "name": "python",
   "nbconvert_exporter": "python",
   "pygments_lexer": "ipython3",
   "version": "3.13.5"
  }
 },
 "nbformat": 4,
 "nbformat_minor": 5
}
