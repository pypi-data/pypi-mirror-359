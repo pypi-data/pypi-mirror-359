{
 "cells": [
  {
   "cell_type": "code",
   "id": "initial_id",
   "metadata": {
    "collapsed": true,
    "ExecuteTime": {
     "end_time": "2025-04-17T13:28:14.006255Z",
     "start_time": "2025-04-17T13:28:13.998642Z"
    }
   },
   "source": [
    "import os\n",
    "\n",
    "from enmap_downloader.config import loadConfiguration, Config\n",
    "from enmap_downloader.enmap_downloader import enmapDownloader"
   ],
   "execution_count": 7,
   "outputs": []
  },
  {
   "metadata": {},
   "cell_type": "markdown",
   "source": "Parse the config, supply the path where you stored it, make sure to adapt all parameters to your needs",
   "id": "4dec5efe7c1dc154"
  },
  {
   "metadata": {
    "ExecuteTime": {
     "end_time": "2025-04-17T13:28:15.776145Z",
     "start_time": "2025-04-17T13:28:15.765726Z"
    }
   },
   "cell_type": "code",
   "source": [
    "config_file = os.path.abspath(\"../config/config.json\")\n",
    "config = loadConfiguration(path=config_file)\n",
    "Config(**config)"
   ],
   "id": "6b9715eee1854857",
   "execution_count": 8,
   "outputs": []
  },
  {
   "metadata": {},
   "cell_type": "markdown",
   "source": [
    "Run the script to download all .tif files cropped to the corresponding bounding box defined in the config.json.\n",
    "You can set `in_parallel=True` to run the downloads in parallel, or `in_parallel=False` to run them sequentially.\n",
    "In the config.json, you can set the `crop_data` parameter to `True` to crop the downloaded data to the bounding box defined in the config.json.\n",
    "In this case we're gonna set the variable manually to `True` to crop the data."
   ],
   "id": "12fb68f9ff5284bb"
  },
  {
   "metadata": {},
   "cell_type": "code",
   "outputs": [],
   "execution_count": null,
   "source": "config[\"crop_data\"] = True",
   "id": "29c61dde6651fecd"
  },
  {
   "metadata": {
    "ExecuteTime": {
     "end_time": "2025-04-17T13:29:50.647165Z",
     "start_time": "2025-04-17T13:29:22.479548Z"
    }
   },
   "cell_type": "code",
   "source": "enmapDownloader(config, in_parallel=True, limit=1)",
   "id": "482562ad640a8fd9",
   "execution_count": 10,
   "outputs": []
  }
 ],
 "metadata": {
  "kernelspec": {
   "display_name": "Python 3",
   "language": "python",
   "name": "python3"
  },
  "language_info": {
   "codemirror_mode": {
    "name": "ipython",
    "version": 2
   },
   "file_extension": ".py",
   "mimetype": "text/x-python",
   "name": "python",
   "nbconvert_exporter": "python",
   "pygments_lexer": "ipython2",
   "version": "2.7.6"
  }
 },
 "nbformat": 4,
 "nbformat_minor": 5
}
