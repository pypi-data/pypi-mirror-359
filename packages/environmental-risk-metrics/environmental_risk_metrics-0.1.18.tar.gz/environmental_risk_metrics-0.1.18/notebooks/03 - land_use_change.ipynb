{
 "cells": [
  {
   "cell_type": "code",
   "execution_count": 1,
   "metadata": {},
   "outputs": [],
   "source": [
    "%load_ext autoreload\n",
    "%autoreload 2"
   ]
  },
  {
   "cell_type": "code",
   "execution_count": 18,
   "metadata": {},
   "outputs": [
    {
     "name": "stderr",
     "output_type": "stream",
     "text": [
      "100%|██████████| 21/21 [00:00<00:00, 362.92it/s]\n",
      "100%|██████████| 21/21 [00:00<00:00, 383.60it/s]\n",
      "100%|██████████| 7/7 [00:00<00:00, 11.51it/s]\n",
      "100%|██████████| 7/7 [00:00<00:00, 140.57it/s]\n"
     ]
    }
   ],
   "source": [
    "import logging\n",
    "from environmental_risk_metrics import EsaLandCover, EsriLandCover, OpenLandMapLandCover\n",
    "import geopandas as gpd\n",
    "\n",
    "# Configure logging to display in Jupyter\n",
    "logging.basicConfig(\n",
    "    level=logging.INFO,\n",
    "    format=\"%(asctime)s - %(name)s - %(levelname)s - %(message)s\",\n",
    "    force=True,  # This ensures the configuration is applied even if logging was previously configured\n",
    ")\n",
    "logger = logging.getLogger(__name__)\n",
    "\n",
    "\n",
    "\n",
    "polygon = {\n",
    "    \"type\": \"Feature\",\n",
    "    \"properties\": {},\n",
    "    \"geometry\": {\n",
    "        \"coordinates\": [\n",
    "            [\n",
    "                [10.235198982658801, 51.42076009745068],\n",
    "                [10.236477278753114, 51.41697045550828],\n",
    "                [10.244461712820623, 51.41823370440062],\n",
    "                [10.242888425319222, 51.4220355049745],\n",
    "                [10.235198982658801, 51.42076009745068],\n",
    "            ]\n",
    "        ],\n",
    "        \"type\": \"Polygon\",\n",
    "    },\n",
    "}\n",
    "gdf = gpd.GeoDataFrame.from_features([polygon, polygon], crs=\"EPSG:4326\")\n",
    "start_date = \"2000-01-01\"\n",
    "end_date = \"2025-12-31\"\n",
    "\n",
    "\n",
    "esa_land_cover = EsaLandCover(gdf=gdf, use_esri_classes=True)\n",
    "openlandmap_land_cover = OpenLandMapLandCover(gdf=gdf, use_esri_classes=True)\n",
    "esri_land_cover = EsriLandCover(gdf=gdf, use_esri_classes=True)\n",
    "\n",
    "\n",
    "esa_land_cover_data = esa_land_cover.get_data(\n",
    "    start_date=start_date,\n",
    "    end_date=end_date,\n",
    ")\n",
    "\n",
    "# openlandmap_land_cover_data = openlandmap_land_cover.get_data(\n",
    "#     start_date=start_date,\n",
    "#     end_date=end_date,\n",
    "# )\n",
    "\n",
    "esri_land_cover_data = esri_land_cover.get_data(\n",
    "    start_date=start_date,\n",
    "    end_date=end_date,\n",
    ")\n",
    "\n"
   ]
  },
  {
   "cell_type": "code",
   "execution_count": 20,
   "metadata": {},
   "outputs": [
    {
     "data": {
      "text/plain": [
       "[[{'date': Timestamp('2017-01-01 00:00:00'),\n",
       "   'Crops': 100.0,\n",
       "   'No Data': 0,\n",
       "   'Water': 0,\n",
       "   'Trees': 0,\n",
       "   'Flooded vegetation': 0,\n",
       "   'Built area': 0,\n",
       "   'Bare ground': 0,\n",
       "   'Snow/ice': 0,\n",
       "   'Clouds': 0,\n",
       "   'Rangeland': 0},\n",
       "  {'date': Timestamp('2018-01-01 00:00:00'),\n",
       "   'Crops': 100.0,\n",
       "   'No Data': 0,\n",
       "   'Water': 0,\n",
       "   'Trees': 0,\n",
       "   'Flooded vegetation': 0,\n",
       "   'Built area': 0,\n",
       "   'Bare ground': 0,\n",
       "   'Snow/ice': 0,\n",
       "   'Clouds': 0,\n",
       "   'Rangeland': 0},\n",
       "  {'date': Timestamp('2019-01-01 00:00:00'),\n",
       "   'Crops': 100.0,\n",
       "   'No Data': 0,\n",
       "   'Water': 0,\n",
       "   'Trees': 0,\n",
       "   'Flooded vegetation': 0,\n",
       "   'Built area': 0,\n",
       "   'Bare ground': 0,\n",
       "   'Snow/ice': 0,\n",
       "   'Clouds': 0,\n",
       "   'Rangeland': 0},\n",
       "  {'date': Timestamp('2020-01-01 00:00:00'),\n",
       "   'Crops': 100.0,\n",
       "   'No Data': 0,\n",
       "   'Water': 0,\n",
       "   'Trees': 0,\n",
       "   'Flooded vegetation': 0,\n",
       "   'Built area': 0,\n",
       "   'Bare ground': 0,\n",
       "   'Snow/ice': 0,\n",
       "   'Clouds': 0,\n",
       "   'Rangeland': 0},\n",
       "  {'date': Timestamp('2021-01-01 00:00:00'),\n",
       "   'Crops': 100.0,\n",
       "   'No Data': 0,\n",
       "   'Water': 0,\n",
       "   'Trees': 0,\n",
       "   'Flooded vegetation': 0,\n",
       "   'Built area': 0,\n",
       "   'Bare ground': 0,\n",
       "   'Snow/ice': 0,\n",
       "   'Clouds': 0,\n",
       "   'Rangeland': 0},\n",
       "  {'date': Timestamp('2022-01-01 00:00:00'),\n",
       "   'Crops': 100.0,\n",
       "   'No Data': 0,\n",
       "   'Water': 0,\n",
       "   'Trees': 0,\n",
       "   'Flooded vegetation': 0,\n",
       "   'Built area': 0,\n",
       "   'Bare ground': 0,\n",
       "   'Snow/ice': 0,\n",
       "   'Clouds': 0,\n",
       "   'Rangeland': 0},\n",
       "  {'date': Timestamp('2023-01-01 00:00:00'),\n",
       "   'Crops': 100.0,\n",
       "   'No Data': 0,\n",
       "   'Water': 0,\n",
       "   'Trees': 0,\n",
       "   'Flooded vegetation': 0,\n",
       "   'Built area': 0,\n",
       "   'Bare ground': 0,\n",
       "   'Snow/ice': 0,\n",
       "   'Clouds': 0,\n",
       "   'Rangeland': 0}],\n",
       " [{'date': Timestamp('2017-01-01 00:00:00'),\n",
       "   'Crops': 100.0,\n",
       "   'No Data': 0,\n",
       "   'Water': 0,\n",
       "   'Trees': 0,\n",
       "   'Flooded vegetation': 0,\n",
       "   'Built area': 0,\n",
       "   'Bare ground': 0,\n",
       "   'Snow/ice': 0,\n",
       "   'Clouds': 0,\n",
       "   'Rangeland': 0},\n",
       "  {'date': Timestamp('2018-01-01 00:00:00'),\n",
       "   'Crops': 100.0,\n",
       "   'No Data': 0,\n",
       "   'Water': 0,\n",
       "   'Trees': 0,\n",
       "   'Flooded vegetation': 0,\n",
       "   'Built area': 0,\n",
       "   'Bare ground': 0,\n",
       "   'Snow/ice': 0,\n",
       "   'Clouds': 0,\n",
       "   'Rangeland': 0},\n",
       "  {'date': Timestamp('2019-01-01 00:00:00'),\n",
       "   'Crops': 100.0,\n",
       "   'No Data': 0,\n",
       "   'Water': 0,\n",
       "   'Trees': 0,\n",
       "   'Flooded vegetation': 0,\n",
       "   'Built area': 0,\n",
       "   'Bare ground': 0,\n",
       "   'Snow/ice': 0,\n",
       "   'Clouds': 0,\n",
       "   'Rangeland': 0},\n",
       "  {'date': Timestamp('2020-01-01 00:00:00'),\n",
       "   'Crops': 100.0,\n",
       "   'No Data': 0,\n",
       "   'Water': 0,\n",
       "   'Trees': 0,\n",
       "   'Flooded vegetation': 0,\n",
       "   'Built area': 0,\n",
       "   'Bare ground': 0,\n",
       "   'Snow/ice': 0,\n",
       "   'Clouds': 0,\n",
       "   'Rangeland': 0},\n",
       "  {'date': Timestamp('2021-01-01 00:00:00'),\n",
       "   'Crops': 100.0,\n",
       "   'No Data': 0,\n",
       "   'Water': 0,\n",
       "   'Trees': 0,\n",
       "   'Flooded vegetation': 0,\n",
       "   'Built area': 0,\n",
       "   'Bare ground': 0,\n",
       "   'Snow/ice': 0,\n",
       "   'Clouds': 0,\n",
       "   'Rangeland': 0},\n",
       "  {'date': Timestamp('2022-01-01 00:00:00'),\n",
       "   'Crops': 100.0,\n",
       "   'No Data': 0,\n",
       "   'Water': 0,\n",
       "   'Trees': 0,\n",
       "   'Flooded vegetation': 0,\n",
       "   'Built area': 0,\n",
       "   'Bare ground': 0,\n",
       "   'Snow/ice': 0,\n",
       "   'Clouds': 0,\n",
       "   'Rangeland': 0},\n",
       "  {'date': Timestamp('2023-01-01 00:00:00'),\n",
       "   'Crops': 100.0,\n",
       "   'No Data': 0,\n",
       "   'Water': 0,\n",
       "   'Trees': 0,\n",
       "   'Flooded vegetation': 0,\n",
       "   'Built area': 0,\n",
       "   'Bare ground': 0,\n",
       "   'Snow/ice': 0,\n",
       "   'Clouds': 0,\n",
       "   'Rangeland': 0}]]"
      ]
     },
     "execution_count": 20,
     "metadata": {},
     "output_type": "execute_result"
    }
   ],
   "source": [
    "esri_land_cover_data"
   ]
  },
  {
   "cell_type": "code",
   "execution_count": 3,
   "metadata": {},
   "outputs": [
    {
     "data": {
      "text/plain": [
       "<environmental_risk_metrics.metrics.land_use_change.EsaLandCover at 0x106c2fe80>"
      ]
     },
     "execution_count": 3,
     "metadata": {},
     "output_type": "execute_result"
    }
   ],
   "source": [
    "esa_land_cover"
   ]
  },
  {
   "cell_type": "code",
   "execution_count": 2,
   "metadata": {},
   "outputs": [
    {
     "name": "stderr",
     "output_type": "stream",
     "text": [
      "100%|██████████| 21/21 [00:00<00:00, 364.39it/s]\n",
      "100%|██████████| 21/21 [00:00<00:00, 437.85it/s]\n",
      "100%|██████████| 21/21 [00:00<00:00, 398.14it/s]\n",
      "100%|██████████| 21/21 [00:00<00:00, 450.65it/s]\n"
     ]
    },
    {
     "data": {
      "text/plain": [
       "[lccs_class  Crops\n",
       " time             \n",
       " 2000-01-01  100.0\n",
       " 2001-01-01  100.0\n",
       " 2002-01-01  100.0\n",
       " 2003-01-01  100.0\n",
       " 2004-01-01  100.0\n",
       " 2005-01-01  100.0\n",
       " 2006-01-01  100.0\n",
       " 2007-01-01  100.0\n",
       " 2008-01-01  100.0\n",
       " 2009-01-01  100.0\n",
       " 2010-01-01  100.0\n",
       " 2011-01-01  100.0\n",
       " 2012-01-01  100.0\n",
       " 2013-01-01  100.0\n",
       " 2014-01-01  100.0\n",
       " 2015-01-01  100.0\n",
       " 2016-01-01  100.0\n",
       " 2017-01-01  100.0\n",
       " 2018-01-01  100.0\n",
       " 2019-01-01  100.0\n",
       " 2020-01-01  100.0,\n",
       " lccs_class  Crops\n",
       " time             \n",
       " 2000-01-01  100.0\n",
       " 2001-01-01  100.0\n",
       " 2002-01-01  100.0\n",
       " 2003-01-01  100.0\n",
       " 2004-01-01  100.0\n",
       " 2005-01-01  100.0\n",
       " 2006-01-01  100.0\n",
       " 2007-01-01  100.0\n",
       " 2008-01-01  100.0\n",
       " 2009-01-01  100.0\n",
       " 2010-01-01  100.0\n",
       " 2011-01-01  100.0\n",
       " 2012-01-01  100.0\n",
       " 2013-01-01  100.0\n",
       " 2014-01-01  100.0\n",
       " 2015-01-01  100.0\n",
       " 2016-01-01  100.0\n",
       " 2017-01-01  100.0\n",
       " 2018-01-01  100.0\n",
       " 2019-01-01  100.0\n",
       " 2020-01-01  100.0]"
      ]
     },
     "execution_count": 2,
     "metadata": {},
     "output_type": "execute_result"
    }
   ],
   "source": [
    "\n",
    "\n",
    "\n",
    "luc = esa_land_cover.load_xarray(\n",
    "    start_date=start_date,\n",
    "    end_date=end_date,\n",
    ")\n",
    "\n",
    "class_percentages = esa_land_cover.get_land_use_class_percentages(\n",
    "    start_date=start_date,\n",
    "    end_date=end_date,\n",
    ")\n",
    "\n",
    "class_percentages\n"
   ]
  },
  {
   "cell_type": "code",
   "execution_count": 9,
   "metadata": {},
   "outputs": [
    {
     "name": "stderr",
     "output_type": "stream",
     "text": [
      "100%|██████████| 7/7 [00:00<00:00, 14.58it/s]\n",
      "100%|██████████| 7/7 [00:00<00:00, 95.34it/s]\n",
      "100%|██████████| 7/7 [00:00<00:00, 90.05it/s]\n",
      "100%|██████████| 7/7 [00:00<00:00, 90.96it/s]\n"
     ]
    },
    {
     "data": {
      "text/plain": [
       "[data        Crops\n",
       " time             \n",
       " 2017-01-01  100.0\n",
       " 2018-01-01  100.0\n",
       " 2019-01-01  100.0\n",
       " 2020-01-01  100.0\n",
       " 2021-01-01  100.0\n",
       " 2022-01-01  100.0\n",
       " 2023-01-01  100.0,\n",
       " data        Crops\n",
       " time             \n",
       " 2017-01-01  100.0\n",
       " 2018-01-01  100.0\n",
       " 2019-01-01  100.0\n",
       " 2020-01-01  100.0\n",
       " 2021-01-01  100.0\n",
       " 2022-01-01  100.0\n",
       " 2023-01-01  100.0]"
      ]
     },
     "execution_count": 9,
     "metadata": {},
     "output_type": "execute_result"
    }
   ],
   "source": [
    "esri_land_cover = EsriLandCover(gdf=gdf, use_esri_classes=True)\n",
    "\n",
    "esri = esri_land_cover.load_xarray(\n",
    "    start_date=start_date,\n",
    "    end_date=end_date,\n",
    ")\n",
    "\n",
    "esri_percentages = esri_land_cover.get_land_use_class_percentages(\n",
    "    start_date=start_date,\n",
    "    end_date=end_date,\n",
    ")\n",
    "\n",
    "esri_percentages"
   ]
  },
  {
   "cell_type": "code",
   "execution_count": 12,
   "metadata": {},
   "outputs": [
    {
     "name": "stderr",
     "output_type": "stream",
     "text": [
      "2025-01-21 17:13:20,914 - rasterio._env - INFO - GDAL signalled an error: err_no=4, msg=\"`/vsicurl/https://s3.openlandmap.org/arco/lc_glad.glcluc_c_30m_s_20000101_20001231_go_epsg.4326_v20230901.tif' does not exist in the file system, and is not recognized as a supported dataset name.\"\n"
     ]
    },
    {
     "ename": "RasterioIOError",
     "evalue": "'/vsicurl/https://s3.openlandmap.org/arco/lc_glad.glcluc_c_30m_s_20000101_20001231_go_epsg.4326_v20230901.tif' does not exist in the file system, and is not recognized as a supported dataset name.",
     "output_type": "error",
     "traceback": [
      "\u001b[0;31m---------------------------------------------------------------------------\u001b[0m",
      "\u001b[0;31mKeyError\u001b[0m                                  Traceback (most recent call last)",
      "File \u001b[0;32m~/miniforge3/envs/farmon/lib/python3.10/site-packages/xarray/backends/file_manager.py:211\u001b[0m, in \u001b[0;36mCachingFileManager._acquire_with_cache_info\u001b[0;34m(self, needs_lock)\u001b[0m\n\u001b[1;32m    210\u001b[0m \u001b[38;5;28;01mtry\u001b[39;00m:\n\u001b[0;32m--> 211\u001b[0m     file \u001b[38;5;241m=\u001b[39m \u001b[38;5;28;43mself\u001b[39;49m\u001b[38;5;241;43m.\u001b[39;49m\u001b[43m_cache\u001b[49m\u001b[43m[\u001b[49m\u001b[38;5;28;43mself\u001b[39;49m\u001b[38;5;241;43m.\u001b[39;49m\u001b[43m_key\u001b[49m\u001b[43m]\u001b[49m\n\u001b[1;32m    212\u001b[0m \u001b[38;5;28;01mexcept\u001b[39;00m \u001b[38;5;167;01mKeyError\u001b[39;00m:\n",
      "File \u001b[0;32m~/miniforge3/envs/farmon/lib/python3.10/site-packages/xarray/backends/lru_cache.py:56\u001b[0m, in \u001b[0;36mLRUCache.__getitem__\u001b[0;34m(self, key)\u001b[0m\n\u001b[1;32m     55\u001b[0m \u001b[38;5;28;01mwith\u001b[39;00m \u001b[38;5;28mself\u001b[39m\u001b[38;5;241m.\u001b[39m_lock:\n\u001b[0;32m---> 56\u001b[0m     value \u001b[38;5;241m=\u001b[39m \u001b[38;5;28;43mself\u001b[39;49m\u001b[38;5;241;43m.\u001b[39;49m\u001b[43m_cache\u001b[49m\u001b[43m[\u001b[49m\u001b[43mkey\u001b[49m\u001b[43m]\u001b[49m\n\u001b[1;32m     57\u001b[0m     \u001b[38;5;28mself\u001b[39m\u001b[38;5;241m.\u001b[39m_cache\u001b[38;5;241m.\u001b[39mmove_to_end(key)\n",
      "\u001b[0;31mKeyError\u001b[0m: [<function open at 0x324fcadd0>, ('https://s3.openlandmap.org/arco/lc_glad.glcluc_c_30m_s_20000101_20001231_go_epsg.4326_v20230901.tif',), 'r', (('sharing', False),), 'fafc16fd-b680-4ebc-874e-d080afff5638']",
      "\nDuring handling of the above exception, another exception occurred:\n",
      "\u001b[0;31mCPLE_OpenFailedError\u001b[0m                      Traceback (most recent call last)",
      "File \u001b[0;32mrasterio/_base.pyx:310\u001b[0m, in \u001b[0;36mrasterio._base.DatasetBase.__init__\u001b[0;34m()\u001b[0m\n",
      "File \u001b[0;32mrasterio/_base.pyx:221\u001b[0m, in \u001b[0;36mrasterio._base.open_dataset\u001b[0;34m()\u001b[0m\n",
      "File \u001b[0;32mrasterio/_err.pyx:359\u001b[0m, in \u001b[0;36mrasterio._err.exc_wrap_pointer\u001b[0;34m()\u001b[0m\n",
      "\u001b[0;31mCPLE_OpenFailedError\u001b[0m: '/vsicurl/https://s3.openlandmap.org/arco/lc_glad.glcluc_c_30m_s_20000101_20001231_go_epsg.4326_v20230901.tif' does not exist in the file system, and is not recognized as a supported dataset name.",
      "\nDuring handling of the above exception, another exception occurred:\n",
      "\u001b[0;31mRasterioIOError\u001b[0m                           Traceback (most recent call last)",
      "Cell \u001b[0;32mIn[12], line 3\u001b[0m\n\u001b[1;32m      1\u001b[0m olanm_land_cover \u001b[38;5;241m=\u001b[39m OpenLandMapLandCover(gdf\u001b[38;5;241m=\u001b[39mgdf, use_esri_classes\u001b[38;5;241m=\u001b[39m\u001b[38;5;28;01mTrue\u001b[39;00m)\n\u001b[0;32m----> 3\u001b[0m olanm \u001b[38;5;241m=\u001b[39m \u001b[43molanm_land_cover\u001b[49m\u001b[38;5;241;43m.\u001b[39;49m\u001b[43mload_xarray\u001b[49m\u001b[43m(\u001b[49m\n\u001b[1;32m      4\u001b[0m \u001b[43m    \u001b[49m\u001b[43mstart_date\u001b[49m\u001b[38;5;241;43m=\u001b[39;49m\u001b[43mstart_date\u001b[49m\u001b[43m,\u001b[49m\n\u001b[1;32m      5\u001b[0m \u001b[43m    \u001b[49m\u001b[43mend_date\u001b[49m\u001b[38;5;241;43m=\u001b[39;49m\u001b[43mend_date\u001b[49m\u001b[43m,\u001b[49m\n\u001b[1;32m      6\u001b[0m \u001b[43m)\u001b[49m\n\u001b[1;32m      7\u001b[0m olanm\n",
      "File \u001b[0;32m~/environmental-risk-metrics/src/environmental_risk_metrics/metrics/land_use_change.py:408\u001b[0m, in \u001b[0;36mOpenLandMapLandCover.load_xarray\u001b[0;34m(self, start_date, end_date)\u001b[0m\n\u001b[1;32m    406\u001b[0m \u001b[38;5;28;01mfor\u001b[39;00m year \u001b[38;5;129;01min\u001b[39;00m available_years:\n\u001b[1;32m    407\u001b[0m     url \u001b[38;5;241m=\u001b[39m OPENLANDMAP_LC[year]\n\u001b[0;32m--> 408\u001b[0m     da \u001b[38;5;241m=\u001b[39m \u001b[43mrioxarray\u001b[49m\u001b[38;5;241;43m.\u001b[39;49m\u001b[43mopen_rasterio\u001b[49m\u001b[43m(\u001b[49m\u001b[43murl\u001b[49m\u001b[43m)\u001b[49m\n\u001b[1;32m    409\u001b[0m     da \u001b[38;5;241m=\u001b[39m da\u001b[38;5;241m.\u001b[39massign_coords(time\u001b[38;5;241m=\u001b[39mpd\u001b[38;5;241m.\u001b[39mTimestamp(\u001b[38;5;124mf\u001b[39m\u001b[38;5;124m\"\u001b[39m\u001b[38;5;132;01m{\u001b[39;00myear\u001b[38;5;132;01m}\u001b[39;00m\u001b[38;5;124m-01-01\u001b[39m\u001b[38;5;124m\"\u001b[39m))\n\u001b[1;32m    410\u001b[0m     da \u001b[38;5;241m=\u001b[39m da\u001b[38;5;241m.\u001b[39mrio\u001b[38;5;241m.\u001b[39mclip_box(\n\u001b[1;32m    411\u001b[0m         minx\u001b[38;5;241m=\u001b[39mminx, miny\u001b[38;5;241m=\u001b[39mminy, maxx\u001b[38;5;241m=\u001b[39mmaxx, maxy\u001b[38;5;241m=\u001b[39mmaxy, crs\u001b[38;5;241m=\u001b[39m\u001b[38;5;28mself\u001b[39m\u001b[38;5;241m.\u001b[39mgdf\u001b[38;5;241m.\u001b[39mcrs\n\u001b[1;32m    412\u001b[0m     )\n",
      "File \u001b[0;32m~/miniforge3/envs/farmon/lib/python3.10/site-packages/rioxarray/_io.py:1135\u001b[0m, in \u001b[0;36mopen_rasterio\u001b[0;34m(filename, parse_coordinates, chunks, cache, lock, masked, mask_and_scale, variable, group, default_name, decode_times, decode_timedelta, band_as_variable, **open_kwargs)\u001b[0m\n\u001b[1;32m   1133\u001b[0m     \u001b[38;5;28;01melse\u001b[39;00m:\n\u001b[1;32m   1134\u001b[0m         manager \u001b[38;5;241m=\u001b[39m URIManager(file_opener, filename, mode\u001b[38;5;241m=\u001b[39m\u001b[38;5;124m\"\u001b[39m\u001b[38;5;124mr\u001b[39m\u001b[38;5;124m\"\u001b[39m, kwargs\u001b[38;5;241m=\u001b[39mopen_kwargs)\n\u001b[0;32m-> 1135\u001b[0m     riods \u001b[38;5;241m=\u001b[39m \u001b[43mmanager\u001b[49m\u001b[38;5;241;43m.\u001b[39;49m\u001b[43macquire\u001b[49m\u001b[43m(\u001b[49m\u001b[43m)\u001b[49m\n\u001b[1;32m   1136\u001b[0m     captured_warnings \u001b[38;5;241m=\u001b[39m rio_warnings\u001b[38;5;241m.\u001b[39mcopy()\n\u001b[1;32m   1138\u001b[0m \u001b[38;5;66;03m# raise the NotGeoreferencedWarning if applicable\u001b[39;00m\n",
      "File \u001b[0;32m~/miniforge3/envs/farmon/lib/python3.10/site-packages/xarray/backends/file_manager.py:193\u001b[0m, in \u001b[0;36mCachingFileManager.acquire\u001b[0;34m(self, needs_lock)\u001b[0m\n\u001b[1;32m    178\u001b[0m \u001b[38;5;28;01mdef\u001b[39;00m \u001b[38;5;21macquire\u001b[39m(\u001b[38;5;28mself\u001b[39m, needs_lock\u001b[38;5;241m=\u001b[39m\u001b[38;5;28;01mTrue\u001b[39;00m):\n\u001b[1;32m    179\u001b[0m \u001b[38;5;250m    \u001b[39m\u001b[38;5;124;03m\"\"\"Acquire a file object from the manager.\u001b[39;00m\n\u001b[1;32m    180\u001b[0m \n\u001b[1;32m    181\u001b[0m \u001b[38;5;124;03m    A new file is only opened if it has expired from the\u001b[39;00m\n\u001b[0;32m   (...)\u001b[0m\n\u001b[1;32m    191\u001b[0m \u001b[38;5;124;03m        An open file object, as returned by ``opener(*args, **kwargs)``.\u001b[39;00m\n\u001b[1;32m    192\u001b[0m \u001b[38;5;124;03m    \"\"\"\u001b[39;00m\n\u001b[0;32m--> 193\u001b[0m     file, _ \u001b[38;5;241m=\u001b[39m \u001b[38;5;28;43mself\u001b[39;49m\u001b[38;5;241;43m.\u001b[39;49m\u001b[43m_acquire_with_cache_info\u001b[49m\u001b[43m(\u001b[49m\u001b[43mneeds_lock\u001b[49m\u001b[43m)\u001b[49m\n\u001b[1;32m    194\u001b[0m     \u001b[38;5;28;01mreturn\u001b[39;00m file\n",
      "File \u001b[0;32m~/miniforge3/envs/farmon/lib/python3.10/site-packages/xarray/backends/file_manager.py:217\u001b[0m, in \u001b[0;36mCachingFileManager._acquire_with_cache_info\u001b[0;34m(self, needs_lock)\u001b[0m\n\u001b[1;32m    215\u001b[0m     kwargs \u001b[38;5;241m=\u001b[39m kwargs\u001b[38;5;241m.\u001b[39mcopy()\n\u001b[1;32m    216\u001b[0m     kwargs[\u001b[38;5;124m\"\u001b[39m\u001b[38;5;124mmode\u001b[39m\u001b[38;5;124m\"\u001b[39m] \u001b[38;5;241m=\u001b[39m \u001b[38;5;28mself\u001b[39m\u001b[38;5;241m.\u001b[39m_mode\n\u001b[0;32m--> 217\u001b[0m file \u001b[38;5;241m=\u001b[39m \u001b[38;5;28;43mself\u001b[39;49m\u001b[38;5;241;43m.\u001b[39;49m\u001b[43m_opener\u001b[49m\u001b[43m(\u001b[49m\u001b[38;5;241;43m*\u001b[39;49m\u001b[38;5;28;43mself\u001b[39;49m\u001b[38;5;241;43m.\u001b[39;49m\u001b[43m_args\u001b[49m\u001b[43m,\u001b[49m\u001b[43m \u001b[49m\u001b[38;5;241;43m*\u001b[39;49m\u001b[38;5;241;43m*\u001b[39;49m\u001b[43mkwargs\u001b[49m\u001b[43m)\u001b[49m\n\u001b[1;32m    218\u001b[0m \u001b[38;5;28;01mif\u001b[39;00m \u001b[38;5;28mself\u001b[39m\u001b[38;5;241m.\u001b[39m_mode \u001b[38;5;241m==\u001b[39m \u001b[38;5;124m\"\u001b[39m\u001b[38;5;124mw\u001b[39m\u001b[38;5;124m\"\u001b[39m:\n\u001b[1;32m    219\u001b[0m     \u001b[38;5;66;03m# ensure file doesn't get overridden when opened again\u001b[39;00m\n\u001b[1;32m    220\u001b[0m     \u001b[38;5;28mself\u001b[39m\u001b[38;5;241m.\u001b[39m_mode \u001b[38;5;241m=\u001b[39m \u001b[38;5;124m\"\u001b[39m\u001b[38;5;124ma\u001b[39m\u001b[38;5;124m\"\u001b[39m\n",
      "File \u001b[0;32m~/miniforge3/envs/farmon/lib/python3.10/site-packages/rasterio/env.py:463\u001b[0m, in \u001b[0;36mensure_env_with_credentials.<locals>.wrapper\u001b[0;34m(*args, **kwds)\u001b[0m\n\u001b[1;32m    460\u001b[0m     session \u001b[38;5;241m=\u001b[39m DummySession()\n\u001b[1;32m    462\u001b[0m \u001b[38;5;28;01mwith\u001b[39;00m env_ctor(session\u001b[38;5;241m=\u001b[39msession):\n\u001b[0;32m--> 463\u001b[0m     \u001b[38;5;28;01mreturn\u001b[39;00m \u001b[43mf\u001b[49m\u001b[43m(\u001b[49m\u001b[38;5;241;43m*\u001b[39;49m\u001b[43margs\u001b[49m\u001b[43m,\u001b[49m\u001b[43m \u001b[49m\u001b[38;5;241;43m*\u001b[39;49m\u001b[38;5;241;43m*\u001b[39;49m\u001b[43mkwds\u001b[49m\u001b[43m)\u001b[49m\n",
      "File \u001b[0;32m~/miniforge3/envs/farmon/lib/python3.10/site-packages/rasterio/__init__.py:355\u001b[0m, in \u001b[0;36mopen\u001b[0;34m(fp, mode, driver, width, height, count, crs, transform, dtype, nodata, sharing, opener, **kwargs)\u001b[0m\n\u001b[1;32m    352\u001b[0m     path \u001b[38;5;241m=\u001b[39m _parse_path(raw_dataset_path)\n\u001b[1;32m    354\u001b[0m \u001b[38;5;28;01mif\u001b[39;00m mode \u001b[38;5;241m==\u001b[39m \u001b[38;5;124m\"\u001b[39m\u001b[38;5;124mr\u001b[39m\u001b[38;5;124m\"\u001b[39m:\n\u001b[0;32m--> 355\u001b[0m     dataset \u001b[38;5;241m=\u001b[39m \u001b[43mDatasetReader\u001b[49m\u001b[43m(\u001b[49m\u001b[43mpath\u001b[49m\u001b[43m,\u001b[49m\u001b[43m \u001b[49m\u001b[43mdriver\u001b[49m\u001b[38;5;241;43m=\u001b[39;49m\u001b[43mdriver\u001b[49m\u001b[43m,\u001b[49m\u001b[43m \u001b[49m\u001b[43msharing\u001b[49m\u001b[38;5;241;43m=\u001b[39;49m\u001b[43msharing\u001b[49m\u001b[43m,\u001b[49m\u001b[43m \u001b[49m\u001b[38;5;241;43m*\u001b[39;49m\u001b[38;5;241;43m*\u001b[39;49m\u001b[43mkwargs\u001b[49m\u001b[43m)\u001b[49m\n\u001b[1;32m    356\u001b[0m \u001b[38;5;28;01melif\u001b[39;00m mode \u001b[38;5;241m==\u001b[39m \u001b[38;5;124m\"\u001b[39m\u001b[38;5;124mr+\u001b[39m\u001b[38;5;124m\"\u001b[39m:\n\u001b[1;32m    357\u001b[0m     dataset \u001b[38;5;241m=\u001b[39m get_writer_for_path(path, driver\u001b[38;5;241m=\u001b[39mdriver)(\n\u001b[1;32m    358\u001b[0m         path, mode, driver\u001b[38;5;241m=\u001b[39mdriver, sharing\u001b[38;5;241m=\u001b[39msharing, \u001b[38;5;241m*\u001b[39m\u001b[38;5;241m*\u001b[39mkwargs\n\u001b[1;32m    359\u001b[0m     )\n",
      "File \u001b[0;32mrasterio/_base.pyx:312\u001b[0m, in \u001b[0;36mrasterio._base.DatasetBase.__init__\u001b[0;34m()\u001b[0m\n",
      "\u001b[0;31mRasterioIOError\u001b[0m: '/vsicurl/https://s3.openlandmap.org/arco/lc_glad.glcluc_c_30m_s_20000101_20001231_go_epsg.4326_v20230901.tif' does not exist in the file system, and is not recognized as a supported dataset name."
     ]
    }
   ],
   "source": [
    "\n",
    "olanm_land_cover = OpenLandMapLandCover(gdf=gdf, use_esri_classes=True)\n",
    "\n",
    "olanm = olanm_land_cover.load_xarray(\n",
    "    start_date=start_date,\n",
    "    end_date=end_date,\n",
    ")\n",
    "olanm"
   ]
  },
  {
   "cell_type": "code",
   "execution_count": 14,
   "metadata": {},
   "outputs": [
    {
     "name": "stderr",
     "output_type": "stream",
     "text": [
      "2025-01-21 17:13:27,866 - rasterio._env - INFO - GDAL signalled an error: err_no=4, msg=\"`/vsicurl/https://s3.openlandmap.org/arco/lc_glad.glcluc_c_30m_s_20000101_20001231_go_epsg.4326_v20230901.tif' does not exist in the file system, and is not recognized as a supported dataset name.\"\n"
     ]
    },
    {
     "ename": "RasterioIOError",
     "evalue": "'/vsicurl/https://s3.openlandmap.org/arco/lc_glad.glcluc_c_30m_s_20000101_20001231_go_epsg.4326_v20230901.tif' does not exist in the file system, and is not recognized as a supported dataset name.",
     "output_type": "error",
     "traceback": [
      "\u001b[0;31m---------------------------------------------------------------------------\u001b[0m",
      "\u001b[0;31mKeyError\u001b[0m                                  Traceback (most recent call last)",
      "File \u001b[0;32m~/miniforge3/envs/farmon/lib/python3.10/site-packages/xarray/backends/file_manager.py:211\u001b[0m, in \u001b[0;36mCachingFileManager._acquire_with_cache_info\u001b[0;34m(self, needs_lock)\u001b[0m\n\u001b[1;32m    210\u001b[0m \u001b[38;5;28;01mtry\u001b[39;00m:\n\u001b[0;32m--> 211\u001b[0m     file \u001b[38;5;241m=\u001b[39m \u001b[38;5;28;43mself\u001b[39;49m\u001b[38;5;241;43m.\u001b[39;49m\u001b[43m_cache\u001b[49m\u001b[43m[\u001b[49m\u001b[38;5;28;43mself\u001b[39;49m\u001b[38;5;241;43m.\u001b[39;49m\u001b[43m_key\u001b[49m\u001b[43m]\u001b[49m\n\u001b[1;32m    212\u001b[0m \u001b[38;5;28;01mexcept\u001b[39;00m \u001b[38;5;167;01mKeyError\u001b[39;00m:\n",
      "File \u001b[0;32m~/miniforge3/envs/farmon/lib/python3.10/site-packages/xarray/backends/lru_cache.py:56\u001b[0m, in \u001b[0;36mLRUCache.__getitem__\u001b[0;34m(self, key)\u001b[0m\n\u001b[1;32m     55\u001b[0m \u001b[38;5;28;01mwith\u001b[39;00m \u001b[38;5;28mself\u001b[39m\u001b[38;5;241m.\u001b[39m_lock:\n\u001b[0;32m---> 56\u001b[0m     value \u001b[38;5;241m=\u001b[39m \u001b[38;5;28;43mself\u001b[39;49m\u001b[38;5;241;43m.\u001b[39;49m\u001b[43m_cache\u001b[49m\u001b[43m[\u001b[49m\u001b[43mkey\u001b[49m\u001b[43m]\u001b[49m\n\u001b[1;32m     57\u001b[0m     \u001b[38;5;28mself\u001b[39m\u001b[38;5;241m.\u001b[39m_cache\u001b[38;5;241m.\u001b[39mmove_to_end(key)\n",
      "\u001b[0;31mKeyError\u001b[0m: [<function open at 0x324fcadd0>, ('https://s3.openlandmap.org/arco/lc_glad.glcluc_c_30m_s_20000101_20001231_go_epsg.4326_v20230901.tif',), 'r', (('sharing', False),), '8ea5c72d-a161-4330-83fd-948c6c5ec810']",
      "\nDuring handling of the above exception, another exception occurred:\n",
      "\u001b[0;31mCPLE_OpenFailedError\u001b[0m                      Traceback (most recent call last)",
      "File \u001b[0;32mrasterio/_base.pyx:310\u001b[0m, in \u001b[0;36mrasterio._base.DatasetBase.__init__\u001b[0;34m()\u001b[0m\n",
      "File \u001b[0;32mrasterio/_base.pyx:221\u001b[0m, in \u001b[0;36mrasterio._base.open_dataset\u001b[0;34m()\u001b[0m\n",
      "File \u001b[0;32mrasterio/_err.pyx:359\u001b[0m, in \u001b[0;36mrasterio._err.exc_wrap_pointer\u001b[0;34m()\u001b[0m\n",
      "\u001b[0;31mCPLE_OpenFailedError\u001b[0m: '/vsicurl/https://s3.openlandmap.org/arco/lc_glad.glcluc_c_30m_s_20000101_20001231_go_epsg.4326_v20230901.tif' does not exist in the file system, and is not recognized as a supported dataset name.",
      "\nDuring handling of the above exception, another exception occurred:\n",
      "\u001b[0;31mRasterioIOError\u001b[0m                           Traceback (most recent call last)",
      "Cell \u001b[0;32mIn[14], line 1\u001b[0m\n\u001b[0;32m----> 1\u001b[0m \u001b[43molanm_land_cover\u001b[49m\u001b[38;5;241;43m.\u001b[39;49m\u001b[43mget_land_use_class_percentages\u001b[49m\u001b[43m(\u001b[49m\n\u001b[1;32m      2\u001b[0m \u001b[43m    \u001b[49m\u001b[43mstart_date\u001b[49m\u001b[38;5;241;43m=\u001b[39;49m\u001b[43mstart_date\u001b[49m\u001b[43m,\u001b[49m\n\u001b[1;32m      3\u001b[0m \u001b[43m    \u001b[49m\u001b[43mend_date\u001b[49m\u001b[38;5;241;43m=\u001b[39;49m\u001b[43mend_date\u001b[49m\u001b[43m,\u001b[49m\n\u001b[1;32m      4\u001b[0m \u001b[43m)\u001b[49m\n",
      "File \u001b[0;32m~/environmental-risk-metrics/src/environmental_risk_metrics/metrics/land_use_change.py:426\u001b[0m, in \u001b[0;36mOpenLandMapLandCover.get_land_use_class_percentages\u001b[0;34m(self, start_date, end_date, all_touched)\u001b[0m\n\u001b[1;32m    419\u001b[0m \u001b[38;5;28;01mdef\u001b[39;00m \u001b[38;5;21mget_land_use_class_percentages\u001b[39m(\n\u001b[1;32m    420\u001b[0m     \u001b[38;5;28mself\u001b[39m,\n\u001b[1;32m    421\u001b[0m     start_date: \u001b[38;5;28mstr\u001b[39m,\n\u001b[1;32m    422\u001b[0m     end_date: \u001b[38;5;28mstr\u001b[39m,\n\u001b[1;32m    423\u001b[0m     all_touched: \u001b[38;5;28mbool\u001b[39m \u001b[38;5;241m=\u001b[39m \u001b[38;5;28;01mTrue\u001b[39;00m,\n\u001b[1;32m    424\u001b[0m ) \u001b[38;5;241m-\u001b[39m\u001b[38;5;241m>\u001b[39m pd\u001b[38;5;241m.\u001b[39mDataFrame:\n\u001b[1;32m    425\u001b[0m     percentage_list \u001b[38;5;241m=\u001b[39m []\n\u001b[0;32m--> 426\u001b[0m     ds_list \u001b[38;5;241m=\u001b[39m \u001b[38;5;28;43mself\u001b[39;49m\u001b[38;5;241;43m.\u001b[39;49m\u001b[43mload_xarray\u001b[49m\u001b[43m(\u001b[49m\n\u001b[1;32m    427\u001b[0m \u001b[43m        \u001b[49m\u001b[43mstart_date\u001b[49m\u001b[38;5;241;43m=\u001b[39;49m\u001b[43mstart_date\u001b[49m\u001b[43m,\u001b[49m\n\u001b[1;32m    428\u001b[0m \u001b[43m        \u001b[49m\u001b[43mend_date\u001b[49m\u001b[38;5;241;43m=\u001b[39;49m\u001b[43mend_date\u001b[49m\u001b[43m,\u001b[49m\n\u001b[1;32m    429\u001b[0m \u001b[43m    \u001b[49m\u001b[43m)\u001b[49m\n\u001b[1;32m    430\u001b[0m     \u001b[38;5;28;01mfor\u001b[39;00m ds, geometry \u001b[38;5;129;01min\u001b[39;00m \u001b[38;5;28mzip\u001b[39m(ds_list, \u001b[38;5;28mself\u001b[39m\u001b[38;5;241m.\u001b[39mgdf[\u001b[38;5;124m\"\u001b[39m\u001b[38;5;124mgeometry\u001b[39m\u001b[38;5;124m\"\u001b[39m]):\n\u001b[1;32m    431\u001b[0m         clipped_data \u001b[38;5;241m=\u001b[39m ds\u001b[38;5;241m.\u001b[39mrio\u001b[38;5;241m.\u001b[39mclip(geometry, \u001b[38;5;28mself\u001b[39m\u001b[38;5;241m.\u001b[39mgdf\u001b[38;5;241m.\u001b[39mcrs, all_touched\u001b[38;5;241m=\u001b[39mall_touched)\n",
      "File \u001b[0;32m~/environmental-risk-metrics/src/environmental_risk_metrics/metrics/land_use_change.py:408\u001b[0m, in \u001b[0;36mOpenLandMapLandCover.load_xarray\u001b[0;34m(self, start_date, end_date)\u001b[0m\n\u001b[1;32m    406\u001b[0m \u001b[38;5;28;01mfor\u001b[39;00m year \u001b[38;5;129;01min\u001b[39;00m available_years:\n\u001b[1;32m    407\u001b[0m     url \u001b[38;5;241m=\u001b[39m OPENLANDMAP_LC[year]\n\u001b[0;32m--> 408\u001b[0m     da \u001b[38;5;241m=\u001b[39m \u001b[43mrioxarray\u001b[49m\u001b[38;5;241;43m.\u001b[39;49m\u001b[43mopen_rasterio\u001b[49m\u001b[43m(\u001b[49m\u001b[43murl\u001b[49m\u001b[43m)\u001b[49m\n\u001b[1;32m    409\u001b[0m     da \u001b[38;5;241m=\u001b[39m da\u001b[38;5;241m.\u001b[39massign_coords(time\u001b[38;5;241m=\u001b[39mpd\u001b[38;5;241m.\u001b[39mTimestamp(\u001b[38;5;124mf\u001b[39m\u001b[38;5;124m\"\u001b[39m\u001b[38;5;132;01m{\u001b[39;00myear\u001b[38;5;132;01m}\u001b[39;00m\u001b[38;5;124m-01-01\u001b[39m\u001b[38;5;124m\"\u001b[39m))\n\u001b[1;32m    410\u001b[0m     da \u001b[38;5;241m=\u001b[39m da\u001b[38;5;241m.\u001b[39mrio\u001b[38;5;241m.\u001b[39mclip_box(\n\u001b[1;32m    411\u001b[0m         minx\u001b[38;5;241m=\u001b[39mminx, miny\u001b[38;5;241m=\u001b[39mminy, maxx\u001b[38;5;241m=\u001b[39mmaxx, maxy\u001b[38;5;241m=\u001b[39mmaxy, crs\u001b[38;5;241m=\u001b[39m\u001b[38;5;28mself\u001b[39m\u001b[38;5;241m.\u001b[39mgdf\u001b[38;5;241m.\u001b[39mcrs\n\u001b[1;32m    412\u001b[0m     )\n",
      "File \u001b[0;32m~/miniforge3/envs/farmon/lib/python3.10/site-packages/rioxarray/_io.py:1135\u001b[0m, in \u001b[0;36mopen_rasterio\u001b[0;34m(filename, parse_coordinates, chunks, cache, lock, masked, mask_and_scale, variable, group, default_name, decode_times, decode_timedelta, band_as_variable, **open_kwargs)\u001b[0m\n\u001b[1;32m   1133\u001b[0m     \u001b[38;5;28;01melse\u001b[39;00m:\n\u001b[1;32m   1134\u001b[0m         manager \u001b[38;5;241m=\u001b[39m URIManager(file_opener, filename, mode\u001b[38;5;241m=\u001b[39m\u001b[38;5;124m\"\u001b[39m\u001b[38;5;124mr\u001b[39m\u001b[38;5;124m\"\u001b[39m, kwargs\u001b[38;5;241m=\u001b[39mopen_kwargs)\n\u001b[0;32m-> 1135\u001b[0m     riods \u001b[38;5;241m=\u001b[39m \u001b[43mmanager\u001b[49m\u001b[38;5;241;43m.\u001b[39;49m\u001b[43macquire\u001b[49m\u001b[43m(\u001b[49m\u001b[43m)\u001b[49m\n\u001b[1;32m   1136\u001b[0m     captured_warnings \u001b[38;5;241m=\u001b[39m rio_warnings\u001b[38;5;241m.\u001b[39mcopy()\n\u001b[1;32m   1138\u001b[0m \u001b[38;5;66;03m# raise the NotGeoreferencedWarning if applicable\u001b[39;00m\n",
      "File \u001b[0;32m~/miniforge3/envs/farmon/lib/python3.10/site-packages/xarray/backends/file_manager.py:193\u001b[0m, in \u001b[0;36mCachingFileManager.acquire\u001b[0;34m(self, needs_lock)\u001b[0m\n\u001b[1;32m    178\u001b[0m \u001b[38;5;28;01mdef\u001b[39;00m \u001b[38;5;21macquire\u001b[39m(\u001b[38;5;28mself\u001b[39m, needs_lock\u001b[38;5;241m=\u001b[39m\u001b[38;5;28;01mTrue\u001b[39;00m):\n\u001b[1;32m    179\u001b[0m \u001b[38;5;250m    \u001b[39m\u001b[38;5;124;03m\"\"\"Acquire a file object from the manager.\u001b[39;00m\n\u001b[1;32m    180\u001b[0m \n\u001b[1;32m    181\u001b[0m \u001b[38;5;124;03m    A new file is only opened if it has expired from the\u001b[39;00m\n\u001b[0;32m   (...)\u001b[0m\n\u001b[1;32m    191\u001b[0m \u001b[38;5;124;03m        An open file object, as returned by ``opener(*args, **kwargs)``.\u001b[39;00m\n\u001b[1;32m    192\u001b[0m \u001b[38;5;124;03m    \"\"\"\u001b[39;00m\n\u001b[0;32m--> 193\u001b[0m     file, _ \u001b[38;5;241m=\u001b[39m \u001b[38;5;28;43mself\u001b[39;49m\u001b[38;5;241;43m.\u001b[39;49m\u001b[43m_acquire_with_cache_info\u001b[49m\u001b[43m(\u001b[49m\u001b[43mneeds_lock\u001b[49m\u001b[43m)\u001b[49m\n\u001b[1;32m    194\u001b[0m     \u001b[38;5;28;01mreturn\u001b[39;00m file\n",
      "File \u001b[0;32m~/miniforge3/envs/farmon/lib/python3.10/site-packages/xarray/backends/file_manager.py:217\u001b[0m, in \u001b[0;36mCachingFileManager._acquire_with_cache_info\u001b[0;34m(self, needs_lock)\u001b[0m\n\u001b[1;32m    215\u001b[0m     kwargs \u001b[38;5;241m=\u001b[39m kwargs\u001b[38;5;241m.\u001b[39mcopy()\n\u001b[1;32m    216\u001b[0m     kwargs[\u001b[38;5;124m\"\u001b[39m\u001b[38;5;124mmode\u001b[39m\u001b[38;5;124m\"\u001b[39m] \u001b[38;5;241m=\u001b[39m \u001b[38;5;28mself\u001b[39m\u001b[38;5;241m.\u001b[39m_mode\n\u001b[0;32m--> 217\u001b[0m file \u001b[38;5;241m=\u001b[39m \u001b[38;5;28;43mself\u001b[39;49m\u001b[38;5;241;43m.\u001b[39;49m\u001b[43m_opener\u001b[49m\u001b[43m(\u001b[49m\u001b[38;5;241;43m*\u001b[39;49m\u001b[38;5;28;43mself\u001b[39;49m\u001b[38;5;241;43m.\u001b[39;49m\u001b[43m_args\u001b[49m\u001b[43m,\u001b[49m\u001b[43m \u001b[49m\u001b[38;5;241;43m*\u001b[39;49m\u001b[38;5;241;43m*\u001b[39;49m\u001b[43mkwargs\u001b[49m\u001b[43m)\u001b[49m\n\u001b[1;32m    218\u001b[0m \u001b[38;5;28;01mif\u001b[39;00m \u001b[38;5;28mself\u001b[39m\u001b[38;5;241m.\u001b[39m_mode \u001b[38;5;241m==\u001b[39m \u001b[38;5;124m\"\u001b[39m\u001b[38;5;124mw\u001b[39m\u001b[38;5;124m\"\u001b[39m:\n\u001b[1;32m    219\u001b[0m     \u001b[38;5;66;03m# ensure file doesn't get overridden when opened again\u001b[39;00m\n\u001b[1;32m    220\u001b[0m     \u001b[38;5;28mself\u001b[39m\u001b[38;5;241m.\u001b[39m_mode \u001b[38;5;241m=\u001b[39m \u001b[38;5;124m\"\u001b[39m\u001b[38;5;124ma\u001b[39m\u001b[38;5;124m\"\u001b[39m\n",
      "File \u001b[0;32m~/miniforge3/envs/farmon/lib/python3.10/site-packages/rasterio/env.py:463\u001b[0m, in \u001b[0;36mensure_env_with_credentials.<locals>.wrapper\u001b[0;34m(*args, **kwds)\u001b[0m\n\u001b[1;32m    460\u001b[0m     session \u001b[38;5;241m=\u001b[39m DummySession()\n\u001b[1;32m    462\u001b[0m \u001b[38;5;28;01mwith\u001b[39;00m env_ctor(session\u001b[38;5;241m=\u001b[39msession):\n\u001b[0;32m--> 463\u001b[0m     \u001b[38;5;28;01mreturn\u001b[39;00m \u001b[43mf\u001b[49m\u001b[43m(\u001b[49m\u001b[38;5;241;43m*\u001b[39;49m\u001b[43margs\u001b[49m\u001b[43m,\u001b[49m\u001b[43m \u001b[49m\u001b[38;5;241;43m*\u001b[39;49m\u001b[38;5;241;43m*\u001b[39;49m\u001b[43mkwds\u001b[49m\u001b[43m)\u001b[49m\n",
      "File \u001b[0;32m~/miniforge3/envs/farmon/lib/python3.10/site-packages/rasterio/__init__.py:355\u001b[0m, in \u001b[0;36mopen\u001b[0;34m(fp, mode, driver, width, height, count, crs, transform, dtype, nodata, sharing, opener, **kwargs)\u001b[0m\n\u001b[1;32m    352\u001b[0m     path \u001b[38;5;241m=\u001b[39m _parse_path(raw_dataset_path)\n\u001b[1;32m    354\u001b[0m \u001b[38;5;28;01mif\u001b[39;00m mode \u001b[38;5;241m==\u001b[39m \u001b[38;5;124m\"\u001b[39m\u001b[38;5;124mr\u001b[39m\u001b[38;5;124m\"\u001b[39m:\n\u001b[0;32m--> 355\u001b[0m     dataset \u001b[38;5;241m=\u001b[39m \u001b[43mDatasetReader\u001b[49m\u001b[43m(\u001b[49m\u001b[43mpath\u001b[49m\u001b[43m,\u001b[49m\u001b[43m \u001b[49m\u001b[43mdriver\u001b[49m\u001b[38;5;241;43m=\u001b[39;49m\u001b[43mdriver\u001b[49m\u001b[43m,\u001b[49m\u001b[43m \u001b[49m\u001b[43msharing\u001b[49m\u001b[38;5;241;43m=\u001b[39;49m\u001b[43msharing\u001b[49m\u001b[43m,\u001b[49m\u001b[43m \u001b[49m\u001b[38;5;241;43m*\u001b[39;49m\u001b[38;5;241;43m*\u001b[39;49m\u001b[43mkwargs\u001b[49m\u001b[43m)\u001b[49m\n\u001b[1;32m    356\u001b[0m \u001b[38;5;28;01melif\u001b[39;00m mode \u001b[38;5;241m==\u001b[39m \u001b[38;5;124m\"\u001b[39m\u001b[38;5;124mr+\u001b[39m\u001b[38;5;124m\"\u001b[39m:\n\u001b[1;32m    357\u001b[0m     dataset \u001b[38;5;241m=\u001b[39m get_writer_for_path(path, driver\u001b[38;5;241m=\u001b[39mdriver)(\n\u001b[1;32m    358\u001b[0m         path, mode, driver\u001b[38;5;241m=\u001b[39mdriver, sharing\u001b[38;5;241m=\u001b[39msharing, \u001b[38;5;241m*\u001b[39m\u001b[38;5;241m*\u001b[39mkwargs\n\u001b[1;32m    359\u001b[0m     )\n",
      "File \u001b[0;32mrasterio/_base.pyx:312\u001b[0m, in \u001b[0;36mrasterio._base.DatasetBase.__init__\u001b[0;34m()\u001b[0m\n",
      "\u001b[0;31mRasterioIOError\u001b[0m: '/vsicurl/https://s3.openlandmap.org/arco/lc_glad.glcluc_c_30m_s_20000101_20001231_go_epsg.4326_v20230901.tif' does not exist in the file system, and is not recognized as a supported dataset name."
     ]
    }
   ],
   "source": [
    "olanm_land_cover.get_land_use_class_percentages(\n",
    "    start_date=start_date,\n",
    "    end_date=end_date,\n",
    ")"
   ]
  },
  {
   "cell_type": "code",
   "execution_count": 17,
   "metadata": {},
   "outputs": [
    {
     "name": "stderr",
     "output_type": "stream",
     "text": [
      "100%|██████████| 21/21 [00:00<00:00, 130.39it/s]\n",
      "100%|██████████| 21/21 [00:00<00:00, 126.87it/s]\n",
      "100%|██████████| 21/21 [00:00<00:00, 126.11it/s]\n",
      "100%|██████████| 21/21 [00:00<00:00, 126.69it/s]\n"
     ]
    },
    {
     "data": {
      "text/plain": [
       "[lccs_class  Crops\n",
       " time             \n",
       " 2000-01-01  100.0\n",
       " 2001-01-01  100.0\n",
       " 2002-01-01  100.0\n",
       " 2003-01-01  100.0\n",
       " 2004-01-01  100.0\n",
       " 2005-01-01  100.0\n",
       " 2006-01-01  100.0\n",
       " 2007-01-01  100.0\n",
       " 2008-01-01  100.0\n",
       " 2009-01-01  100.0\n",
       " 2010-01-01  100.0\n",
       " 2011-01-01  100.0\n",
       " 2012-01-01  100.0\n",
       " 2013-01-01  100.0\n",
       " 2014-01-01  100.0\n",
       " 2015-01-01  100.0\n",
       " 2016-01-01  100.0\n",
       " 2017-01-01  100.0\n",
       " 2018-01-01  100.0\n",
       " 2019-01-01  100.0\n",
       " 2020-01-01  100.0,\n",
       " lccs_class  Crops\n",
       " time             \n",
       " 2000-01-01  100.0\n",
       " 2001-01-01  100.0\n",
       " 2002-01-01  100.0\n",
       " 2003-01-01  100.0\n",
       " 2004-01-01  100.0\n",
       " 2005-01-01  100.0\n",
       " 2006-01-01  100.0\n",
       " 2007-01-01  100.0\n",
       " 2008-01-01  100.0\n",
       " 2009-01-01  100.0\n",
       " 2010-01-01  100.0\n",
       " 2011-01-01  100.0\n",
       " 2012-01-01  100.0\n",
       " 2013-01-01  100.0\n",
       " 2014-01-01  100.0\n",
       " 2015-01-01  100.0\n",
       " 2016-01-01  100.0\n",
       " 2017-01-01  100.0\n",
       " 2018-01-01  100.0\n",
       " 2019-01-01  100.0\n",
       " 2020-01-01  100.0]"
      ]
     },
     "execution_count": 17,
     "metadata": {},
     "output_type": "execute_result"
    }
   ],
   "source": [
    "\n",
    "\n",
    "\n",
    "luc = esa_land_cover.load_xarray(\n",
    "    start_date=start_date,\n",
    "    end_date=end_date,\n",
    ")\n",
    "\n",
    "class_percentages = esa_land_cover.get_land_use_class_percentages(\n",
    "    start_date=start_date,\n",
    "    end_date=end_date,\n",
    ")\n",
    "class_percentages\n"
   ]
  },
  {
   "cell_type": "code",
   "execution_count": 18,
   "metadata": {},
   "outputs": [
    {
     "ename": "TypeError",
     "evalue": "OpenLandMapLandCover.__init__() missing 1 required positional argument: 'gdf'",
     "output_type": "error",
     "traceback": [
      "\u001b[0;31m---------------------------------------------------------------------------\u001b[0m",
      "\u001b[0;31mTypeError\u001b[0m                                 Traceback (most recent call last)",
      "Cell \u001b[0;32mIn[18], line 1\u001b[0m\n\u001b[0;32m----> 1\u001b[0m olanm_land_cover \u001b[38;5;241m=\u001b[39m \u001b[43mOpenLandMapLandCover\u001b[49m\u001b[43m(\u001b[49m\u001b[43muse_esri_classes\u001b[49m\u001b[38;5;241;43m=\u001b[39;49m\u001b[38;5;28;43;01mTrue\u001b[39;49;00m\u001b[43m)\u001b[49m\n\u001b[1;32m      3\u001b[0m olanm_percentages \u001b[38;5;241m=\u001b[39m olanm_land_cover\u001b[38;5;241m.\u001b[39mget_land_use_class_percentages(\n\u001b[1;32m      4\u001b[0m     start_date\u001b[38;5;241m=\u001b[39mstart_date,\n\u001b[1;32m      5\u001b[0m     end_date\u001b[38;5;241m=\u001b[39mend_date,\n\u001b[1;32m      6\u001b[0m     polygon\u001b[38;5;241m=\u001b[39mpolygon,\n\u001b[1;32m      7\u001b[0m     polygon_crs\u001b[38;5;241m=\u001b[39m\u001b[38;5;124m\"\u001b[39m\u001b[38;5;124mEPSG:4326\u001b[39m\u001b[38;5;124m\"\u001b[39m,\n\u001b[1;32m      8\u001b[0m )\n\u001b[1;32m      9\u001b[0m olanm_percentages\n",
      "\u001b[0;31mTypeError\u001b[0m: OpenLandMapLandCover.__init__() missing 1 required positional argument: 'gdf'"
     ]
    }
   ],
   "source": [
    "olanm_land_cover = OpenLandMapLandCover(use_esri_classes=True)\n",
    "\n",
    "olanm_percentages = olanm_land_cover.get_land_use_class_percentages(\n",
    "    start_date=start_date,\n",
    "    end_date=end_date,\n",
    "    polygon=polygon,\n",
    "    polygon_crs=\"EPSG:4326\",\n",
    ")\n",
    "olanm_percentages\n"
   ]
  },
  {
   "cell_type": "code",
   "execution_count": 6,
   "metadata": {},
   "outputs": [
    {
     "data": {
      "application/vnd.jupyter.widget-view+json": {
       "model_id": "0a57de5005da4a1eac560c9c7c635989",
       "version_major": 2,
       "version_minor": 0
      },
      "text/plain": [
       "Map(center=[np.float64(10.239830347739712), np.float64(51.41950298024139)], controls=(ZoomControl(options=['po…"
      ]
     },
     "execution_count": 6,
     "metadata": {},
     "output_type": "execute_result"
    }
   ],
   "source": [
    "olanm_land_cover = OpenLandMapLandCover(use_esri_classes=True)\n",
    "olanm_land_cover.create_map(\n",
    "    polygons=polygon,\n",
    "    polygon_crs=\"EPSG:4326\",\n",
    ")"
   ]
  }
 ],
 "metadata": {
  "kernelspec": {
   "display_name": "farmon",
   "language": "python",
   "name": "python3"
  },
  "language_info": {
   "codemirror_mode": {
    "name": "ipython",
    "version": 3
   },
   "file_extension": ".py",
   "mimetype": "text/x-python",
   "name": "python",
   "nbconvert_exporter": "python",
   "pygments_lexer": "ipython3",
   "version": "3.10.15"
  }
 },
 "nbformat": 4,
 "nbformat_minor": 2
}
