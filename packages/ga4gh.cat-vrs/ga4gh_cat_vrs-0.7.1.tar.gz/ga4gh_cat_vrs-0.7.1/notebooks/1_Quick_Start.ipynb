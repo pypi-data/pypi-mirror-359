{
 "cells": [
  {
   "cell_type": "code",
   "execution_count": 1,
   "metadata": {},
   "outputs": [],
   "source": [
    "from ga4gh.cat_vrs.models import CategoricalVariant"
   ]
  },
  {
   "cell_type": "code",
   "execution_count": 2,
   "metadata": {},
   "outputs": [],
   "source": [
    "cv_dict = {\n",
    "    \"id\": \"clinvar:1177130\",\n",
    "    \"type\": \"CategoricalVariant\",\n",
    "    \"name\": \"t(2;15)(q23.1;q25.3)\",\n",
    "    \"extensions\": [\n",
    "        {\n",
    "            \"name\": \"cytogenetic location\",\n",
    "            \"value\": \"2q23.1-23.2\"\n",
    "        },\n",
    "        {\n",
    "            \"name\": \"clinvar variation type\",\n",
    "            \"value\": \"Translocation\"\n",
    "        }\n",
    "    ]\n",
    "}"
   ]
  },
  {
   "cell_type": "code",
   "execution_count": 3,
   "metadata": {},
   "outputs": [
    {
     "data": {
      "text/plain": [
       "CategoricalVariant(id='clinvar:1177130', type='CategoricalVariant', name='t(2;15)(q23.1;q25.3)', description=None, aliases=None, extensions=[Extension(id=None, extensions=None, name='cytogenetic location', value='2q23.1-23.2', description=None), Extension(id=None, extensions=None, name='clinvar variation type', value='Translocation', description=None)], members=None, constraints=None, mappings=None)"
      ]
     },
     "execution_count": 3,
     "metadata": {},
     "output_type": "execute_result"
    }
   ],
   "source": [
    "cv = CategoricalVariant(**cv_dict)\n",
    "cv"
   ]
  },
  {
   "cell_type": "code",
   "execution_count": 4,
   "metadata": {},
   "outputs": [
    {
     "data": {
      "text/plain": [
       "{'id': 'clinvar:1177130',\n",
       " 'type': 'CategoricalVariant',\n",
       " 'name': 't(2;15)(q23.1;q25.3)',\n",
       " 'extensions': [{'name': 'cytogenetic location', 'value': '2q23.1-23.2'},\n",
       "  {'name': 'clinvar variation type', 'value': 'Translocation'}]}"
      ]
     },
     "execution_count": 4,
     "metadata": {},
     "output_type": "execute_result"
    }
   ],
   "source": [
    "cv.model_dump(exclude_none=True)"
   ]
  }
 ],
 "metadata": {
  "kernelspec": {
   "display_name": "Python 3",
   "language": "python",
   "name": "python3"
  },
  "language_info": {
   "codemirror_mode": {
    "name": "ipython",
    "version": 3
   },
   "file_extension": ".py",
   "mimetype": "text/x-python",
   "name": "python",
   "nbconvert_exporter": "python",
   "pygments_lexer": "ipython3",
   "version": "3.12.9"
  }
 },
 "nbformat": 4,
 "nbformat_minor": 2
}
