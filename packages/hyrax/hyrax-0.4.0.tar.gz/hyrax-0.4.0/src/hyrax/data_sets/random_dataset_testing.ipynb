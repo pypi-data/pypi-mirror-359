{
 "cells": [
  {
   "cell_type": "code",
   "execution_count": null,
   "id": "3af4943b",
   "metadata": {},
   "outputs": [],
   "source": [
    "from hyrax import Hyrax\n",
    "from hyrax.data_sets import HyraxRandomDataset, HyraxRandomIterableDataset"
   ]
  },
  {
   "cell_type": "code",
   "execution_count": null,
   "id": "3fe0703f",
   "metadata": {},
   "outputs": [],
   "source": [
    "h = Hyrax()\n",
    "h.config[\"data_set\"][\"name\"] = \"HyraxRandomDataset\"\n",
    "h.config[\"model\"][\"name\"] = \"HyraxLoopback\""
   ]
  },
  {
   "cell_type": "code",
   "execution_count": null,
   "id": "837b9bad",
   "metadata": {},
   "outputs": [],
   "source": [
    "ds = h.prepare()\n",
    "ds[0]"
   ]
  },
  {
   "cell_type": "code",
   "execution_count": null,
   "id": "9e1edefc",
   "metadata": {},
   "outputs": [],
   "source": [
    "h.train()"
   ]
  },
  {
   "cell_type": "code",
   "execution_count": null,
   "id": "572fd02a",
   "metadata": {},
   "outputs": [],
   "source": [
    "dm = HyraxRandomDataset(h.config)\n",
    "di = HyraxRandomIterableDataset(h.config)"
   ]
  },
  {
   "cell_type": "code",
   "execution_count": null,
   "id": "dac6ef85",
   "metadata": {},
   "outputs": [],
   "source": [
    "print(f\"DM ids: {list(dm.ids())}\")\n",
    "print(f\"DI ids: {list(di.ids())}\")"
   ]
  },
  {
   "cell_type": "code",
   "execution_count": null,
   "id": "ac16297d",
   "metadata": {},
   "outputs": [],
   "source": [
    "next(iter(di))"
   ]
  },
  {
   "cell_type": "code",
   "execution_count": null,
   "id": "067689ec",
   "metadata": {},
   "outputs": [],
   "source": [
    "dm[0]"
   ]
  }
 ],
 "metadata": {
  "kernelspec": {
   "display_name": "hyrax",
   "language": "python",
   "name": "python3"
  },
  "language_info": {
   "codemirror_mode": {
    "name": "ipython",
    "version": 3
   },
   "file_extension": ".py",
   "mimetype": "text/x-python",
   "name": "python",
   "nbconvert_exporter": "python",
   "pygments_lexer": "ipython3",
   "version": "3.12.9"
  }
 },
 "nbformat": 4,
 "nbformat_minor": 5
}
