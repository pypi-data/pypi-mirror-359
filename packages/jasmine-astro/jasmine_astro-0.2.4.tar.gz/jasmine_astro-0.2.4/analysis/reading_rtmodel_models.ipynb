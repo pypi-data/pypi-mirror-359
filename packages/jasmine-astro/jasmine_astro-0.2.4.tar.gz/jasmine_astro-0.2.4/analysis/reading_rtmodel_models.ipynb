{
 "cells": [
  {
   "metadata": {},
   "cell_type": "code",
   "outputs": [],
   "execution_count": null,
   "source": "from jasmine import ModelResults",
   "id": "f6803211e1108d42"
  },
  {
   "metadata": {},
   "cell_type": "code",
   "outputs": [],
   "execution_count": null,
   "source": "model = ModelResults(file_to_be_read='/Users/stela/Documents/Scripts/RTModel_project/RTModel/events/event001/FinalModels/LX0000-1.txt')",
   "id": "9c01ffcecff72a65"
  },
  {
   "metadata": {
    "ExecuteTime": {
     "end_time": "2024-05-25T11:45:11.416762Z",
     "start_time": "2024-05-25T11:45:11.411319Z"
    }
   },
   "cell_type": "code",
   "source": "model.model_type, model.model_extensive_name",
   "id": "9b551ed1f97c6b17",
   "execution_count": 3,
   "outputs": []
  },
  {
   "metadata": {
    "ExecuteTime": {
     "end_time": "2024-05-25T11:45:11.422496Z",
     "start_time": "2024-05-25T11:45:11.418364Z"
    }
   },
   "cell_type": "code",
   "source": "model.model_parameters",
   "id": "6c1886dc2591c6e9",
   "execution_count": 4,
   "outputs": []
  }
 ],
 "metadata": {
  "kernelspec": {
   "display_name": "Python 3",
   "language": "python",
   "name": "python3"
  },
  "language_info": {
   "codemirror_mode": {
    "name": "ipython",
    "version": 2
   },
   "file_extension": ".py",
   "mimetype": "text/x-python",
   "name": "python",
   "nbconvert_exporter": "python",
   "pygments_lexer": "ipython2",
   "version": "2.7.6"
  }
 },
 "nbformat": 4,
 "nbformat_minor": 5
}
