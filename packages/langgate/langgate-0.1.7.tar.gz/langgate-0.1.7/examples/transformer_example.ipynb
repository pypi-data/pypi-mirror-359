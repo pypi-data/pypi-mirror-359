{
 "cells": [
  {
   "cell_type": "markdown",
   "metadata": {},
   "source": [
    "# Parameter Transformation Example\n",
    "\n",
    "This notebook demonstrates how to use the `LocalTransformerClient` to transform input parameters for LLM requests based on model-specific configurations."
   ]
  },
  {
   "cell_type": "code",
   "execution_count": 1,
   "metadata": {},
   "outputs": [],
   "source": [
    "import os\n",
    "from pprint import pprint as pp\n",
    "\n",
    "# Optional environment variables\n",
    "# os.environ[\"LANGGATE_CONFIG\"] = \"path/to/langgate_config.yaml\"\n",
    "# os.environ[\"LOG_LEVEL\"] = \"debug\""
   ]
  },
  {
   "cell_type": "markdown",
   "metadata": {},
   "source": [
    "## Initialize the Transformer Client"
   ]
  },
  {
   "cell_type": "code",
   "execution_count": 2,
   "metadata": {},
   "outputs": [
    {
     "name": "stdout",
     "output_type": "stream",
     "text": [
      "\u001b[2m2025-06-17 23:26:22\u001b[0m [\u001b[32m\u001b[1mdebug    \u001b[0m] \u001b[1mresolved_config_path          \u001b[0m \u001b[36mexists\u001b[0m=\u001b[35mTrue\u001b[0m \u001b[36mpath\u001b[0m=\u001b[35m/Users/someuser/langgate/examples/langgate_config.yaml\u001b[0m \u001b[36msource\u001b[0m=\u001b[35mdefault\u001b[0m\n",
      "\u001b[2m2025-06-17 23:26:22\u001b[0m [\u001b[32m\u001b[1mdebug    \u001b[0m] \u001b[1mresolved_env_file_path        \u001b[0m \u001b[36mexists\u001b[0m=\u001b[35mFalse\u001b[0m \u001b[36mpath\u001b[0m=\u001b[35m/Users/someuser/langgate/examples/.env\u001b[0m \u001b[36msource\u001b[0m=\u001b[35mdefault\u001b[0m\n",
      "\u001b[2m2025-06-17 23:26:22\u001b[0m [\u001b[32m\u001b[1minfo     \u001b[0m] \u001b[1mloaded_config                 \u001b[0m \u001b[36mconfig_path\u001b[0m=\u001b[35m/Users/someuser/langgate/examples/langgate_config.yaml\u001b[0m\n",
      "\u001b[2m2025-06-17 23:26:22\u001b[0m [\u001b[32m\u001b[1mdebug    \u001b[0m] \u001b[1minitialized_local_transformer_client\u001b[0m\n"
     ]
    }
   ],
   "source": [
    "from langgate.transform import LocalTransformerClient\n",
    "\n",
    "# Initialize the transformer client\n",
    "transformer = LocalTransformerClient()"
   ]
  },
  {
   "cell_type": "markdown",
   "metadata": {},
   "source": [
    "## Define Input Parameters\n",
    "\n",
    "These are the parameters that would typically be provided by your application code."
   ]
  },
  {
   "cell_type": "code",
   "execution_count": 3,
   "metadata": {},
   "outputs": [],
   "source": [
    "# Sample user parameters\n",
    "input_params = {\n",
    "    \"temperature\": 0.7,\n",
    "    \"max_tokens\": 1000,\n",
    "    \"stream\": True,\n",
    "}"
   ]
  },
  {
   "cell_type": "markdown",
   "metadata": {},
   "source": [
    "## Transform Parameters for a Specific Model\n",
    "\n",
    "The transformer will apply transformations based on the model configuration in `langgate_config.yaml`."
   ]
  },
  {
   "cell_type": "code",
   "execution_count": 4,
   "metadata": {},
   "outputs": [
    {
     "name": "stdout",
     "output_type": "stream",
     "text": [
      "Original parameters for anthropic/claude-sonnet-4:\n",
      "{'max_tokens': 1000, 'stream': True, 'temperature': 0.7}\n",
      "\n",
      "Transformed parameters:\n",
      "('anthropic',\n",
      " {'api_key': SecretStr('**********'),\n",
      "  'base_url': 'https://api.anthropic.com',\n",
      "  'max_tokens': 1000,\n",
      "  'model': 'claude-sonnet-4-0',\n",
      "  'stream': True,\n",
      "  'temperature': 0.7})\n"
     ]
    }
   ],
   "source": [
    "# Transform parameters for an Anthropic model\n",
    "model_id = \"anthropic/claude-sonnet-4\"\n",
    "\n",
    "transformed = await transformer.get_params(model_id, input_params)\n",
    "\n",
    "print(f\"Original parameters for {model_id}:\")\n",
    "pp(input_params)\n",
    "\n",
    "print(\"\\nTransformed parameters:\")\n",
    "pp(transformed)"
   ]
  },
  {
   "cell_type": "markdown",
   "metadata": {},
   "source": [
    "## Working with Model-Specific Configurations\n",
    "\n",
    "Different models may have different parameter transformations defined in `langgate_config.yaml`.\n",
    "You can define \"virtual models\" with IDs referring to a model + a configuration."
   ]
  },
  {
   "cell_type": "code",
   "execution_count": 5,
   "metadata": {},
   "outputs": [
    {
     "name": "stdout",
     "output_type": "stream",
     "text": [
      "Original parameters for anthropic/claude-sonnet-4-reasoning:\n",
      "{'max_tokens': 1000, 'stream': True, 'temperature': 0.7}\n",
      "\n",
      "Transformed parameters:\n",
      "('anthropic',\n",
      " {'api_key': SecretStr('**********'),\n",
      "  'base_url': 'https://api.anthropic.com',\n",
      "  'max_tokens': 1000,\n",
      "  'model': 'claude-sonnet-4-0',\n",
      "  'stream': True,\n",
      "  'thinking': {'budget_tokens': 1024, 'type': 'enabled'}})\n"
     ]
    }
   ],
   "source": [
    "# Using a model with a specific configuration.\n",
    "# Anthropic has no actual model with this ID. We define it ourselves,\n",
    "# to reference claude-sonnet-4 with a specific reasoning configuration.\n",
    "model_id = \"anthropic/claude-sonnet-4-reasoning\"\n",
    "\n",
    "transformed = await transformer.get_params(model_id, input_params)\n",
    "\n",
    "print(f\"Original parameters for {model_id}:\")\n",
    "pp(input_params)\n",
    "\n",
    "print(\"\\nTransformed parameters:\")\n",
    "pp(transformed)"
   ]
  }
 ],
 "metadata": {
  "kernelspec": {
   "display_name": ".venv",
   "language": "python",
   "name": "python3"
  },
  "language_info": {
   "codemirror_mode": {
    "name": "ipython",
    "version": 3
   },
   "file_extension": ".py",
   "mimetype": "text/x-python",
   "name": "python",
   "nbconvert_exporter": "python",
   "pygments_lexer": "ipython3",
   "version": "3.13.2"
  }
 },
 "nbformat": 4,
 "nbformat_minor": 4
}
