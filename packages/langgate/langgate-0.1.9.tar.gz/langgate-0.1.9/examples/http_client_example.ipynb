{
 "cells": [
  {
   "cell_type": "markdown",
   "metadata": {},
   "source": [
    "# HTTP Client Example\n",
    "\n",
    "This notebook demonstrates how to use the `HTTPRegistryClient` to connect to a remote LangGate service for model information."
   ]
  },
  {
   "cell_type": "code",
   "execution_count": 1,
   "metadata": {},
   "outputs": [],
   "source": [
    "import os\n",
    "from pprint import pprint as pp\n",
    "from pydantic import SecretStr\n",
    "\n",
    "# Configure server URL\n",
    "LANGGATE_URL = \"http://localhost:4000/api/v1\"\n",
    "\n",
    "# If running the langgate server behind Envoy proxy in docker:\n",
    "# LANGGATE_URL = \"http://localhost:10000/api/v1\"\n",
    "\n",
    "# If running and accessing langgate from within a kubernetes cluster:\n",
    "# LANGGATE_URL = \"http://langgate.ns.svc.cluster.local:10000/api/v1\"\n",
    "\n",
    "# Optional: Set API key (if your LangGate service requires authentication)\n",
    "api_key = SecretStr(\"your_api_key\")"
   ]
  },
  {
   "cell_type": "markdown",
   "metadata": {},
   "source": [
    "## Initialize the HTTP Client"
   ]
  },
  {
   "cell_type": "code",
   "execution_count": 2,
   "metadata": {},
   "outputs": [
    {
     "name": "stdout",
     "output_type": "stream",
     "text": [
      "\u001b[2m2025-06-17 23:20:36\u001b[0m [\u001b[32m\u001b[1mdebug    \u001b[0m] \u001b[1mcreating_http_registry_client_singleton\u001b[0m\n",
      "\u001b[2m2025-06-17 23:20:36\u001b[0m [\u001b[32m\u001b[1mdebug    \u001b[0m] \u001b[1minitialized_base_http_registry_client\u001b[0m \u001b[36mapi_key\u001b[0m=\u001b[35mSecretStr('**********')\u001b[0m \u001b[36mbase_url\u001b[0m=\u001b[35mhttp://localhost:4000/api/v1\u001b[0m \u001b[36mmodel_info_cls\u001b[0m=\u001b[35m<class 'langgate.core.models.LLMInfo'>\u001b[0m\n",
      "\u001b[2m2025-06-17 23:20:36\u001b[0m [\u001b[32m\u001b[1mdebug    \u001b[0m] \u001b[1minitialized_http_registry_client_singleton\u001b[0m\n"
     ]
    }
   ],
   "source": [
    "from langgate.client.http import HTTPRegistryClient\n",
    "\n",
    "# Initialize the HTTP client\n",
    "# HTTPRegistryClient is a singleton\n",
    "client = HTTPRegistryClient(base_url=LANGGATE_URL, api_key=api_key)"
   ]
  },
  {
   "cell_type": "markdown",
   "metadata": {},
   "source": [
    "## List Available Models"
   ]
  },
  {
   "cell_type": "code",
   "execution_count": 3,
   "metadata": {},
   "outputs": [
    {
     "name": "stdout",
     "output_type": "stream",
     "text": [
      "\u001b[2m2025-06-17 23:20:41\u001b[0m [\u001b[32m\u001b[1mdebug    \u001b[0m] \u001b[1mrefreshing_model_cache        \u001b[0m\n",
      "\u001b[2m2025-06-17 23:20:41\u001b[0m [\u001b[32m\u001b[1mdebug    \u001b[0m] \u001b[1mrefreshed_model_cache         \u001b[0m \u001b[36mmodel_count\u001b[0m=\u001b[35m58\u001b[0m\n",
      "Available models: 58\n",
      "- openai/gpt-4.1: GPT-4.1\n",
      "- openai/gpt-4.1-mini: GPT-4.1 mini\n",
      "- openai/gpt-4.1-nano: GPT-4.1 nano\n",
      "- openai/gpt-4o: GPT-4o\n",
      "- openai/gpt-4o-mini: GPT-4o mini\n"
     ]
    }
   ],
   "source": [
    "try:\n",
    "    # List available models\n",
    "    models = await client.list_models()\n",
    "    print(f\"Available models: {len(models)}\")\n",
    "    for model in models[:5]:  # Show first 5 models\n",
    "        print(f\"- {model.id}: {model.name}\")\n",
    "except Exception as e:\n",
    "    print(f\"Error connecting to the LangGate service: {str(e)}\")\n",
    "    print(\"Note: This example requires a running LangGate service.\")"
   ]
  },
  {
   "cell_type": "markdown",
   "metadata": {},
   "source": [
    "## Get Detailed Model Information"
   ]
  },
  {
   "cell_type": "code",
   "execution_count": 4,
   "metadata": {},
   "outputs": [
    {
     "name": "stdout",
     "output_type": "stream",
     "text": [
      "\n",
      "Model: GPT-4.1\n",
      "Provider: OpenAI\n",
      "\n",
      "Model metadata:\n",
      "{'capabilities': {'supports_parallel_tool_calls': True,\n",
      "                  'supports_prompt_caching': True,\n",
      "                  'supports_response_schema': True,\n",
      "                  'supports_system_messages': True,\n",
      "                  'supports_tool_choice': True,\n",
      "                  'supports_tools': True,\n",
      "                  'supports_vision': True},\n",
      " 'context_window': {'max_input_tokens': 1047576, 'max_output_tokens': 32768},\n",
      " 'costs': {'cache_read_input_token_cost': Decimal('5E-7'),\n",
      "           'input_cost_per_token': Decimal('0.000002'),\n",
      "           'output_cost_per_token': Decimal('0.000008')},\n",
      " 'description': \"GPT-4.1 is the latest iteration of OpenAI's flagship model \"\n",
      "                'with improved capabilities across all domains.',\n",
      " 'id': 'openai/gpt-4.1',\n",
      " 'name': 'GPT-4.1',\n",
      " 'provider': {'id': 'openai', 'name': 'OpenAI'},\n",
      " 'provider_id': 'openai',\n",
      " 'updated_dt': datetime.datetime(2025, 6, 17, 22, 15, 17, 856172, tzinfo=TzInfo(UTC))}\n"
     ]
    }
   ],
   "source": [
    "try:\n",
    "    # Get detailed information about a specific model\n",
    "    if models and len(models) > 0:\n",
    "        model_id = models[0].id\n",
    "        model_info = await client.get_model_info(model_id)\n",
    "\n",
    "        print(f\"\\nModel: {model_info.name}\")\n",
    "        print(f\"Provider: {model_info.provider.name}\")\n",
    "\n",
    "        print(\"\\nModel metadata:\")\n",
    "        pp(model_info.model_dump(exclude_none=True))\n",
    "except Exception as e:\n",
    "    print(f\"Error fetching model information: {str(e)}\")\n",
    "    print(\"Note: This example requires a running LangGate service.\")"
   ]
  }
 ],
 "metadata": {
  "kernelspec": {
   "display_name": ".venv",
   "language": "python",
   "name": "python3"
  },
  "language_info": {
   "codemirror_mode": {
    "name": "ipython",
    "version": 3
   },
   "file_extension": ".py",
   "mimetype": "text/x-python",
   "name": "python",
   "nbconvert_exporter": "python",
   "pygments_lexer": "ipython3",
   "version": "3.13.2"
  }
 },
 "nbformat": 4,
 "nbformat_minor": 4
}
