{
 "cells": [
  {
   "cell_type": "code",
   "source": [
    "from line_solver import *\n",
    "GlobalConstants.setVerbose(VerboseLevel.STD)"
   ],
   "metadata": {
    "collapsed": false,
    "ExecuteTime": {
     "end_time": "2025-05-14T05:15:06.321707Z",
     "start_time": "2025-05-14T05:15:06.319469Z"
    }
   },
   "id": "f7f879166a5915ce",
   "outputs": [],
   "execution_count": 5
  },
  {
   "cell_type": "code",
   "source": [
    "model = Network(\"M/M/1 model\")\n",
    "source = Source(model, \"mySource\")\n",
    "queue = Queue(model, \"myQueue\", SchedStrategy.FCFS)\n",
    "sink = Sink(model, \"mySink\")\n",
    "\n",
    "# An M/M/1 queue with arrival rate 0.5 and service rate 1.0\n",
    "openclass = OpenClass(model, \"Class1\")\n",
    "source.setArrival(openclass, Exp(1.0))\n",
    "queue.setService(openclass, Exp(2.0))\n",
    "\n",
    "model.addLink(source, queue)\n",
    "model.addLink(queue, sink)"
   ],
   "metadata": {
    "collapsed": false,
    "ExecuteTime": {
     "end_time": "2025-05-14T05:15:06.383115Z",
     "start_time": "2025-05-14T05:15:06.379808Z"
    }
   },
   "id": "efab7afb7190e806",
   "outputs": [],
   "execution_count": 6
  },
  {
   "cell_type": "code",
   "source": [
    "solver = SolverJMT(model)\n",
    "table = solver.getAvgTable()  # pandas.DataFrame\n",
    "#model.jsimgView() ## uncomment to visualize model"
   ],
   "metadata": {
    "collapsed": false,
    "ExecuteTime": {
     "end_time": "2025-05-14T05:15:07.070723Z",
     "start_time": "2025-05-14T05:15:06.412267Z"
    }
   },
   "id": "ca8edb4c7cec0496",
   "outputs": [
    {
     "name": "stdout",
     "output_type": "stream",
     "text": [
      "JMT Model: /tmp/workspace/jsim/59433524732099335/jmodel.jsim\n",
      "    Station JobClass    QLen    Util   RespT  ResidT    ArvR    Tput\n",
      "0  mySource   Class1  0.0000  0.0000  0.0000  0.0000  0.0000  1.0096\n",
      "1   myQueue   Class1  0.9442  0.5034  0.9851  0.9851  1.0096  1.0016\n"
     ]
    }
   ],
   "execution_count": 7
  },
  {
   "metadata": {
    "ExecuteTime": {
     "end_time": "2025-05-14T05:15:07.085121Z",
     "start_time": "2025-05-14T05:15:07.083517Z"
    }
   },
   "cell_type": "code",
   "source": [
    "# uncomment the next lines to filter specific results\n",
    "# print(table[\"RespT\"].tolist())\n",
    "# print(tget(table,\"myQueue\"))\n",
    "# print(tget(table,\"myQueue\")[\"RespT\"].tolist())\n",
    "# print(tget(table,\"Class1\")[\"RespT\"].tolist())\n",
    "# print(tget(table,\"myQueue\",\"Class1\")[\"RespT\"].tolist())"
   ],
   "id": "1a9fd71d2e202a62",
   "outputs": [],
   "execution_count": 8
  }
 ],
 "metadata": {
  "kernelspec": {
   "display_name": "Python 3",
   "language": "python",
   "name": "python3"
  },
  "language_info": {
   "codemirror_mode": {
    "name": "ipython",
    "version": 2
   },
   "file_extension": ".py",
   "mimetype": "text/x-python",
   "name": "python",
   "nbconvert_exporter": "python",
   "pygments_lexer": "ipython2",
   "version": "2.7.6"
  }
 },
 "nbformat": 4,
 "nbformat_minor": 5
}
