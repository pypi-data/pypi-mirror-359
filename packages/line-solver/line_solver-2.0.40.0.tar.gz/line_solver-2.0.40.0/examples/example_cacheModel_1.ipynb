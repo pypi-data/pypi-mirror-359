{
 "cells": [
  {
   "metadata": {
    "ExecuteTime": {
     "end_time": "2025-07-01T08:19:55.039859Z",
     "start_time": "2025-07-01T08:19:55.036816Z"
    }
   },
   "cell_type": "code",
   "source": [
    "from line_solver import *\n",
    "\n",
    "import numpy as np\n",
    "\n",
    "GlobalConstants.setVerbose(VerboseLevel.STD)"
   ],
   "id": "2c12645d075cb4ad",
   "outputs": [],
   "execution_count": 8
  },
  {
   "metadata": {
    "ExecuteTime": {
     "end_time": "2025-07-01T08:19:55.062831Z",
     "start_time": "2025-07-01T08:19:55.057691Z"
    }
   },
   "cell_type": "code",
   "source": [
    "model = Network('model')\n",
    "\n",
    "n = 5  # number of items\n",
    "m = 2  # cache capacity\n",
    "\n",
    "source = Source(model, 'Source')\n",
    "cacheNode = Cache(model, 'Cache', n, m, ReplacementStrategy.RR)\n",
    "sink = Sink(model, 'Sink')\n",
    "\n",
    "jobClass = OpenClass(model, 'InitClass', 0)\n",
    "hitClass = OpenClass(model, 'HitClass', 0)\n",
    "missClass = OpenClass(model, 'MissClass', 0)\n",
    "\n",
    "source.setArrival(jobClass, Exp(2))\n",
    "\n",
    "alpha = 1.4\n",
    "pAccess = Zipf(alpha, n)  # Zipf-like item references\n",
    "cacheNode.setRead(jobClass, pAccess)\n",
    "\n",
    "cacheNode.setHitClass(jobClass, hitClass)\n",
    "cacheNode.setMissClass(jobClass, missClass)\n",
    "\n",
    "P = model.initRoutingMatrix()\n",
    "P.set(jobClass, jobClass, source, cacheNode, 1.0)\n",
    "P.set(hitClass, hitClass, cacheNode, sink, 1.0)\n",
    "P.set(missClass, missClass, cacheNode, sink, 1.0)\n",
    "\n",
    "model.link(P)"
   ],
   "id": "a71b02657afadf35",
   "outputs": [],
   "execution_count": 9
  },
  {
   "metadata": {
    "ExecuteTime": {
     "end_time": "2025-07-01T08:19:55.123585Z",
     "start_time": "2025-07-01T08:19:55.111108Z"
    }
   },
   "cell_type": "code",
   "source": [
    "solver = np.empty(4, dtype=object)\n",
    "AvgTable = np.empty(4, dtype=object)\n",
    "\n",
    "#TODO: CTMC fails\n",
    "#solver[0] = SolverCTMC(model, \"keep\",False, \"cutoff\", 1, \"seed\",1)\n",
    "#AvgTable[0] = solver[0].getAvgNodeTable()\n",
    "\n",
    "#model.reset()\n",
    "#TODO: SSA fails\n",
    "#solver[1] = SolverSSA(model, \"samples\", 100000, \"verbose\", True, \"method\",\"serial\", \"seed\", 1)\n",
    "#AvgTable[1] = solver[1].getAvgNodeTable()\n",
    "\n",
    "model.reset()\n",
    "solver[2] = SolverMVA(model)\n",
    "AvgTable[2] = solver[2].getAvgNodeTable()\n",
    "\n",
    "model.reset()\n",
    "#TODO: this does not seem to execute rayint\n",
    "solver[3] = SolverNC(model)\n",
    "AvgTable[3] = solver[3].getAvgNodeTable()\n",
    "\n",
    "hitRatio = cacheNode.getHitRatio(); print(hitRatio)\n",
    "missRatio = cacheNode.getMissRatio(); print(missRatio)"
   ],
   "id": "bf27b3b9092d4d06",
   "outputs": [
    {
     "name": "stdout",
     "output_type": "stream",
     "text": [
      "MVA [method: default(default), lang: java, env: 21.0.7] completed in 0.001000s.\n",
      "     Node   JobClass  QLen  Util  RespT  ResidT    ArvR    Tput\n",
      "0  Source  InitClass   0.0   0.0    0.0     0.0  0.0000  2.0000\n",
      "3   Cache  InitClass   0.0   0.0    0.0     0.0  2.0000  0.0000\n",
      "4   Cache   HitClass   0.0   0.0    0.0     0.0  0.0000  1.1127\n",
      "5   Cache  MissClass   0.0   0.0    0.0     0.0  0.0000  0.8873\n",
      "7    Sink   HitClass   0.0   0.0    0.0     0.0  1.1127  0.0000\n",
      "8    Sink  MissClass   0.0   0.0    0.0     0.0  0.8873  0.0000\n",
      "NC [method: default(exact), lang: java, env: 21.0.7] completed in 0.001000s.\n",
      "     Node   JobClass  QLen  Util  RespT  ResidT  ArvR  Tput\n",
      "0  Source  InitClass   0.0   0.0    0.0     0.0   0.0   2.0\n",
      "3   Cache  InitClass   0.0   0.0    0.0     0.0   2.0   0.0\n",
      "4   Cache   HitClass   0.0   0.0    0.0     0.0   0.0   1.0\n",
      "5   Cache  MissClass   0.0   0.0    0.0     0.0   0.0   1.0\n",
      "7    Sink   HitClass   0.0   0.0    0.0     0.0   1.0   0.0\n",
      "8    Sink  MissClass   0.0   0.0    0.0     0.0   1.0   0.0\n",
      "[ 0.5   0.0   0.0 ]\n",
      "\n",
      "[ 0.5   1.0   1.0 ]\n",
      "\n"
     ]
    }
   ],
   "execution_count": 10
  }
 ],
 "metadata": {
  "kernelspec": {
   "display_name": "Python 3",
   "language": "python",
   "name": "python3"
  },
  "language_info": {
   "codemirror_mode": {
    "name": "ipython",
    "version": 2
   },
   "file_extension": ".py",
   "mimetype": "text/x-python",
   "name": "python",
   "nbconvert_exporter": "python",
   "pygments_lexer": "ipython2",
   "version": "2.7.6"
  }
 },
 "nbformat": 4,
 "nbformat_minor": 5
}
