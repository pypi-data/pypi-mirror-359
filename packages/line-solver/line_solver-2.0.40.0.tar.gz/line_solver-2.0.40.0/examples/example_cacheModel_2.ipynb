{
 "cells": [
  {
   "metadata": {
    "ExecuteTime": {
     "end_time": "2025-07-01T05:17:19.188758Z",
     "start_time": "2025-07-01T05:17:17.941357Z"
    }
   },
   "cell_type": "code",
   "source": [
    "from line_solver import *\n",
    "\n",
    "import numpy as np\n",
    "GlobalConstants.setVerbose(VerboseLevel.STD)"
   ],
   "outputs": [],
   "execution_count": 1
  },
  {
   "metadata": {
    "ExecuteTime": {
     "end_time": "2025-07-01T05:17:19.345069Z",
     "start_time": "2025-07-01T05:17:19.268374Z"
    }
   },
   "cell_type": "code",
   "source": [
    "\n",
    "model = Network('model')\n",
    "n = 5  # number of items\n",
    "m = 2  # cache capacity\n",
    "\n",
    "delay = Delay(model, 'Delay')\n",
    "cacheNode = Cache(model, 'Cache', n, m, ReplacementStrategy.FIFO)\n",
    "jobClass = ClosedClass(model, 'JobClass', 1, delay, 0)\n",
    "hitClass = ClosedClass(model, 'HitClass', 0, delay, 0)\n",
    "missClass = ClosedClass(model, 'MissClass', 0, delay, 0)\n",
    "\n",
    "delay.setService(jobClass, Exp(1))\n",
    "\n",
    "# Uniform item references - create Matrix from numpy array\n",
    "prob_array = np.ones(n) / n\n",
    "pAccess = DiscreteSampler(jlineMatrixFromArray(prob_array))\n",
    "cacheNode.setRead(jobClass, pAccess)\n",
    "\n",
    "cacheNode.setHitClass(jobClass, hitClass)\n",
    "cacheNode.setMissClass(jobClass, missClass)\n",
    "P = model.initRoutingMatrix()\n",
    "P.set(jobClass, jobClass, delay, cacheNode, 1.0)\n",
    "P.set(hitClass, jobClass, cacheNode, delay, 1.0)\n",
    "P.set(missClass, jobClass, cacheNode, delay, 1.0)\n",
    "\n",
    "model.link(P)\n"
   ],
   "outputs": [],
   "execution_count": 2
  },
  {
   "metadata": {
    "ExecuteTime": {
     "end_time": "2025-07-01T05:17:37.801359Z",
     "start_time": "2025-07-01T05:17:36.920521Z"
    }
   },
   "cell_type": "code",
   "source": [
    "solver = np.array([], dtype=object)\n",
    "\n",
    "# SolverCTMC\n",
    "solver = np.append(solver, SolverCTMC(model, 'keep', False, 'seed', 1))\n",
    "print('SOLVER: SolverCTMC')\n",
    "AvgTable1 = solver[0].getAvgNodeTable()\n",
    "\n",
    "# Reset model\n",
    "model.reset()\n",
    "\n",
    "# SolverSSA\n",
    "solver = np.append(solver, SolverSSA(model, 'samples', 10000, 'verbose', True, 'method', 'serial', 'seed', 1))\n",
    "print('\\nSOLVER: SolverSSA')\n",
    "AvgTable2 = solver[1].getAvgNodeTable()\n",
    "\n",
    "# SolverMVA\n",
    "solver = np.append(solver, SolverMVA(model, 'seed', 1))\n",
    "print('\\nSOLVER: SolverMVA')\n",
    "AvgTable3 = solver[2].getAvgNodeTable()\n"
   ],
   "outputs": [
    {
     "name": "stdout",
     "output_type": "stream",
     "text": [
      "SOLVER: SolverCTMC\n",
      "                Node   JobClass  QLen  Util  RespT  ResidT    ArvR    Tput\n",
      "0              Delay   JobClass   1.0   1.0    1.0  0.3333  0.3333  0.3333\n",
      "1              Delay   HitClass   0.0   0.0    0.0  0.0000  0.3333  0.3333\n",
      "2              Delay  MissClass   0.0   0.0    0.0  0.0000  0.3333  0.3333\n",
      "4              Cache   HitClass   0.0   0.0    0.0  0.0000  0.0000  0.3333\n",
      "5              Cache  MissClass   0.0   0.0    0.0  0.0000  0.0000  0.3333\n",
      "6  CS_Cache_to_Delay   JobClass   0.0   0.0    0.0  0.0000  0.3333  1.0000\n",
      "7  CS_Cache_to_Delay   HitClass   0.0   0.0    0.0  0.0000  0.3333  0.0000\n",
      "8  CS_Cache_to_Delay  MissClass   0.0   0.0    0.0  0.0000  0.3333  0.0000\n",
      "\n",
      "SOLVER: SolverSSA\n",
      "SSA samples:   10000\n",
      "SSA [method: serial, lang: java, env: 21.0.7] completed in 0.794000s.\n",
      "                Node   JobClass  QLen  Util  RespT  ResidT  ArvR  Tput\n",
      "0              Delay   JobClass   1.0   1.0    1.0     1.0   1.0   1.0\n",
      "3              Cache   JobClass   0.0   0.0    0.0     0.0   1.0   0.0\n",
      "4              Cache   HitClass   0.0   0.0    0.0     0.0   0.0   0.4\n",
      "5              Cache  MissClass   0.0   0.0    0.0     0.0   0.0   0.6\n",
      "6  CS_Cache_to_Delay   JobClass   0.0   0.0    0.0     0.0   0.0   1.0\n",
      "7  CS_Cache_to_Delay   HitClass   0.0   0.0    0.0     0.0   0.4   0.0\n",
      "8  CS_Cache_to_Delay  MissClass   0.0   0.0    0.0     0.0   0.6   0.0\n",
      "\n",
      "SOLVER: SolverMVA\n",
      "MVA [method: default(default), lang: java, env: 21.0.7] completed in 0.008000s.\n",
      "                Node   JobClass  QLen  Util  RespT  ResidT  ArvR  Tput\n",
      "0              Delay   JobClass   1.0   1.0    1.0     1.0   1.0   1.0\n",
      "3              Cache   JobClass   0.0   0.0    0.0     0.0   1.0   0.0\n",
      "4              Cache   HitClass   0.0   0.0    0.0     0.0   0.0   0.4\n",
      "5              Cache  MissClass   0.0   0.0    0.0     0.0   0.0   0.6\n",
      "6  CS_Cache_to_Delay   JobClass   0.0   0.0    0.0     0.0   0.0   1.0\n",
      "7  CS_Cache_to_Delay   HitClass   0.0   0.0    0.0     0.0   0.4   0.0\n",
      "8  CS_Cache_to_Delay  MissClass   0.0   0.0    0.0     0.0   0.6   0.0\n"
     ]
    }
   ],
   "execution_count": 4
  }
 ],
 "metadata": {
  "kernelspec": {
   "display_name": "Python 3",
   "language": "python",
   "name": "python3"
  },
  "language_info": {
   "codemirror_mode": {
    "name": "ipython",
    "version": 3
   },
   "file_extension": ".py",
   "mimetype": "text/x-python",
   "name": "python",
   "nbconvert_exporter": "python",
   "pygments_lexer": "ipython3",
   "version": "3.8.0"
  }
 },
 "nbformat": 4,
 "nbformat_minor": 4
}
