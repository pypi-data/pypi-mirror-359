{
  "cells": [
    {
      "cell_type": "markdown",
      "source": "This example demonstrates correct setup of cache routing using an intermediate router node.",
      "metadata": {}
    },
    {
      "cell_type": "code",
      "source": [
        "from line_solver import *\n",
        "import numpy as np\n",
        "GlobalConstants.setVerbose(VerboseLevel.STD)"
      ],
      "metadata": {
        "ExecuteTime": {
          "end_time": "2025-07-01T05:01:39.570416Z",
          "start_time": "2025-07-01T05:01:39.567252Z"
        }
      },
      "outputs": [],
      "execution_count": 3
    },
    {
      "metadata": {
        "ExecuteTime": {
          "end_time": "2025-07-01T05:01:39.662818Z",
          "start_time": "2025-07-01T05:01:39.637756Z"
        }
      },
      "cell_type": "code",
      "source": [
        "# Uniform item references - create Matrix from numpy array\n",
        "prob_array = np.ones(n) / n\n",
        "pAccess = DiscreteSampler(jlineMatrixFromArray(prob_array))\n",
        "cacheNode.setRead(jobClass, pAccess)\n"
      ],
      "outputs": [],
      "execution_count": null
    },
    {
      "metadata": {},
      "cell_type": "code",
      "outputs": [],
      "execution_count": null,
      "source": [
        "solver = np.array([], dtype = object)\n",
        "\n",
        "# SolverCTMC\n",
        "solver = np.append(solver, SolverCTMC(model, 'keep', False, 'cutoff', 1, 'seed', 1))\n",
        "print('SOLVER: SolverCTMC')\n",
        "\n",
        "AvgTable1 = solver[0].getAvgNodeTable()\n",
        "\n",
        "# Reset model\n",
        "model.reset()\n",
        "\n",
        "# SolverSSA\n",
        "solver = np.append(solver, SolverSSA(model, 'samples', 10000, 'verbose', True, 'method', 'serial', 'seed', 1))\n",
        "print('\\nSOLVER: SolverSSA')\n",
        "\n",
        "AvgTable2 = solver[1].getAvgNodeTable()\n",
        "\n",
        "# Reset model\n",
        "model.reset()\n",
        "\n",
        "# SolverMVA\n",
        "solver = np.append(solver, SolverMVA(model, 'seed', 1))\n",
        "print('\\nSOLVER: SolverMVA')\n",
        "\n",
        "AvgTable3 = solver[2].getAvgNodeTable()\n",
        "\n",
        "# Reset model\n",
        "model.reset()\n",
        "\n",
        "# SolverNC\n",
        "solver = np.append(solver, SolverNC(model, 'seed', 1))\n",
        "print('\\nSOLVER: SolverNC')\n",
        "\n",
        "AvgTable4 = solver[3].getAvgNodeTable()\n",
        "\n",
        "print(f'\\nHit Ratio: {cacheNode.getHitRatio()}')\n",
        "print(f'Miss Ratio: {cacheNode.getMissRatio()}')\n",
        "\n"
      ]
    }
  ],
  "metadata": {
    "kernelspec": {
      "display_name": "Python 3",
      "language": "python",
      "name": "python3"
    },
    "language_info": {
      "codemirror_mode": {
        "name": "ipython",
        "version": 3
      },
      "file_extension": ".py",
      "mimetype": "text/x-python",
      "name": "python",
      "nbconvert_exporter": "python",
      "pygments_lexer": "ipython3",
      "version": "3.8.0"
    }
  },
  "nbformat": 4,
  "nbformat_minor": 4
}
