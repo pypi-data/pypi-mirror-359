{
 "cells": [
  {
   "cell_type": "code",
   "metadata": {
    "ExecuteTime": {
     "end_time": "2025-07-01T05:16:12.189415Z",
     "start_time": "2025-07-01T05:16:10.602071Z"
    }
   },
   "source": [
    "from line_solver import *\n",
    "import numpy as np\n",
    "GlobalConstants.setVerbose(VerboseLevel.STD)"
   ],
   "outputs": [],
   "execution_count": 1
  },
  {
   "cell_type": "code",
   "metadata": {
    "ExecuteTime": {
     "end_time": "2025-07-01T05:16:12.203604Z",
     "start_time": "2025-07-01T05:16:12.198169Z"
    }
   },
   "source": [
    "# Cache model example 4\n",
    "\n",
    "model = Network('model')"
   ],
   "outputs": [],
   "execution_count": 2
  },
  {
   "cell_type": "code",
   "metadata": {
    "ExecuteTime": {
     "end_time": "2025-07-01T05:16:12.357504Z",
     "start_time": "2025-07-01T05:16:12.347087Z"
    }
   },
   "source": [
    "# Multi-level cache hierarchy\n",
    "node = np.empty(4, dtype = object)\n",
    "node[0] = Delay(model, 'CPU')\n",
    "node[1] = Queue(model, 'L1Cache', SchedStrategy.FCFS)\n",
    "node[2] = Queue(model, 'L2Cache', SchedStrategy.FCFS)\n",
    "node[3] = Queue(model, 'Memory', SchedStrategy.FCFS)\n",
    "jobclass = ClosedClass(model, 'Requests', 5, node[0], 0)"
   ],
   "outputs": [],
   "execution_count": 3
  },
  {
   "cell_type": "code",
   "metadata": {
    "ExecuteTime": {
     "end_time": "2025-07-01T05:16:12.404658Z",
     "start_time": "2025-07-01T05:16:12.399047Z"
    }
   },
   "source": [
    "# Cache hit/miss service times\n",
    "node[0].setService(jobclass, Exp(10.0))  # CPU processing\n",
    "node[1].setService(jobclass, Exp(100.0))  # L1 cache access\n",
    "node[2].setService(jobclass, Exp(50.0))   # L2 cache access\n",
    "node[3].setService(jobclass, Exp(5.0))    # Memory access"
   ],
   "outputs": [],
   "execution_count": 4
  },
  {
   "cell_type": "code",
   "metadata": {
    "ExecuteTime": {
     "end_time": "2025-07-01T05:16:12.545420Z",
     "start_time": "2025-07-01T05:16:12.537937Z"
    }
   },
   "source": [
    "# Cache hierarchy routing (hit/miss probabilities)\n",
    "P = model.initRoutingMatrix()\n",
    "\n",
    "# CPU to L1 cache\n",
    "P.set(jobclass, jobclass, node[0], node[1], 1.0)\n",
    "\n",
    "# L1 hit back to CPU, miss to L2\n",
    "P.set(jobclass, jobclass, node[1], node[0], 0.8)  # L1 hit rate\n",
    "P.set(jobclass, jobclass, node[1], node[2], 0.2)  # L1 miss rate\n",
    "\n",
    "# L2 hit back to CPU, miss to memory\n",
    "P.set(jobclass, jobclass, node[2], node[0], 0.9)  # L2 hit rate\n",
    "P.set(jobclass, jobclass, node[2], node[3], 0.1)  # L2 miss rate\n",
    "\n",
    "# Memory always hits (back to CPU)\n",
    "P.set(jobclass, jobclass, node[3], node[0], 1.0)\n",
    "model.link(P)"
   ],
   "outputs": [],
   "execution_count": 5
  },
  {
   "cell_type": "code",
   "metadata": {
    "ExecuteTime": {
     "end_time": "2025-07-01T05:16:50.618223Z",
     "start_time": "2025-07-01T05:16:50.613145Z"
    }
   },
   "source": [
    "# Solve\n",
    "solver = SolverMVA(model)\n",
    "AvgTable = solver.getAvgNodeTable()"
   ],
   "outputs": [
    {
     "name": "stdout",
     "output_type": "stream",
     "text": [
      "MVA [method: default(exact), lang: java, env: 21.0.7] completed in 0.000000s.\n",
      "      Node  JobClass    QLen    Util   RespT  ResidT     ArvR     Tput\n",
      "0      CPU  Requests  4.0514  4.0514  0.1000  0.1000  40.5139  40.5139\n",
      "1  L1Cache  Requests  0.5774  0.4051  0.0143  0.0143  40.5139  40.5139\n",
      "2  L2Cache  Requests  0.1856  0.1621  0.0229  0.0046   8.1028   8.1028\n",
      "3   Memory  Requests  0.1856  0.1621  0.2291  0.0046   0.8103   0.8103\n"
     ]
    }
   ],
   "execution_count": 8
  }
 ],
 "metadata": {
  "kernelspec": {
   "display_name": "Python 3",
   "language": "python",
   "name": "python3"
  },
  "language_info": {
   "codemirror_mode": {
    "name": "ipython",
    "version": 3
   },
   "file_extension": ".py",
   "mimetype": "text/x-python",
   "name": "python",
   "nbconvert_exporter": "python",
   "pygments_lexer": "ipython3",
   "version": "3.8.0"
  }
 },
 "nbformat": 4,
 "nbformat_minor": 4
}
