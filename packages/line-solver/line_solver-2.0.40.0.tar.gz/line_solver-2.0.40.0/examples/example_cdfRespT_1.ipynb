{
 "cells": [
  {
   "cell_type": "code",
   "metadata": {
    "ExecuteTime": {
     "end_time": "2025-07-01T05:19:19.854283Z",
     "start_time": "2025-07-01T05:19:18.605721Z"
    }
   },
   "source": [
    "from line_solver import *\n",
    "import numpy as np\n",
    "GlobalConstants.setVerbose(VerboseLevel.STD)"
   ],
   "outputs": [],
   "execution_count": 1
  },
  {
   "cell_type": "code",
   "metadata": {
    "ExecuteTime": {
     "end_time": "2025-07-01T05:19:19.952009Z",
     "start_time": "2025-07-01T05:19:19.946242Z"
    }
   },
   "source": [
    "# CDF Response Time Analysis Example 1\n",
    "# Demonstrates cumulative distribution function analysis\n",
    "\n",
    "model = Network('model')"
   ],
   "outputs": [],
   "execution_count": 2
  },
  {
   "cell_type": "code",
   "metadata": {
    "ExecuteTime": {
     "end_time": "2025-07-01T05:19:20.017019Z",
     "start_time": "2025-07-01T05:19:19.996899Z"
    }
   },
   "source": [
    "# Create simple queueing network\n",
    "node = np.empty(3, dtype = object)\n",
    "node[0] = Source(model, 'Source')\n",
    "node[1] = Queue(model, 'Queue1', SchedStrategy.FCFS)\n",
    "node[2] = Sink(model, 'Sink')\n",
    "jobclass = OpenClass(model, 'Class1')"
   ],
   "outputs": [],
   "execution_count": 3
  },
  {
   "cell_type": "code",
   "metadata": {
    "ExecuteTime": {
     "end_time": "2025-07-01T05:19:20.064374Z",
     "start_time": "2025-07-01T05:19:20.057507Z"
    }
   },
   "source": [
    "# Service configuration\n",
    "node[0].setArrival(jobclass, Exp(0.6))\n",
    "node[1].setService(jobclass, Exp(1.2))"
   ],
   "outputs": [],
   "execution_count": 4
  },
  {
   "cell_type": "code",
   "metadata": {
    "ExecuteTime": {
     "end_time": "2025-07-01T05:19:20.114866Z",
     "start_time": "2025-07-01T05:19:20.108078Z"
    }
   },
   "source": [
    "# Routing\n",
    "P = model.initRoutingMatrix()\n",
    "P.set(jobclass, jobclass, node[0], node[1], 1.0)\n",
    "P.set(jobclass, jobclass, node[1], node[2], 1.0)\n",
    "model.link(P)"
   ],
   "outputs": [],
   "execution_count": 5
  },
  {
   "cell_type": "code",
   "metadata": {
    "ExecuteTime": {
     "end_time": "2025-07-01T05:19:21.154157Z",
     "start_time": "2025-07-01T05:19:20.157528Z"
    }
   },
   "source": [
    "# Solve and analyze CDF\n",
    "solver = SolverJMT(model, 'samples', 10000)\n",
    "\n",
    "avgTable = solver.getAvgTable() # Note: For actual CDF analysis, additional methods would be needed\n",
    "# #This example shows the basic setup for response time analysis\n",
    "\n"
   ],
   "outputs": [
    {
     "name": "stdout",
     "output_type": "stream",
     "text": [
      "JMT Model: /tmp/workspace/jsim/6590644226881476200/jmodel.jsim\n",
      "  Station JobClass    QLen    Util   RespT  ResidT    ArvR    Tput\n",
      "0  Source   Class1  0.0000  0.0000  0.0000  0.0000  0.0000  0.5994\n",
      "1  Queue1   Class1  0.9555  0.4874  1.5905  1.5905  0.5994  0.5999\n"
     ]
    }
   ],
   "execution_count": 6
  }
 ],
 "metadata": {
  "kernelspec": {
   "display_name": "Python 3",
   "language": "python",
   "name": "python3"
  },
  "language_info": {
   "codemirror_mode": {
    "name": "ipython",
    "version": 3
   },
   "file_extension": ".py",
   "mimetype": "text/x-python",
   "name": "python",
   "nbconvert_exporter": "python",
   "pygments_lexer": "ipython3",
   "version": "3.8.0"
  }
 },
 "nbformat": 4,
 "nbformat_minor": 4
}
