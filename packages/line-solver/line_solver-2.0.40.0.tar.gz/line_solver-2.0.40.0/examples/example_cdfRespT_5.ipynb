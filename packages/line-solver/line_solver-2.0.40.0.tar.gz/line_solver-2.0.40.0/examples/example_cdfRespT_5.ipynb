{
 "cells": [
  {
   "cell_type": "code",
   "metadata": {
    "ExecuteTime": {
     "end_time": "2025-07-01T05:25:27.508419Z",
     "start_time": "2025-07-01T05:25:26.092424Z"
    }
   },
   "source": [
    "from line_solver import *\n",
    "import numpy as np\n",
    "GlobalConstants.setVerbose(VerboseLevel.STD)"
   ],
   "outputs": [],
   "execution_count": 1
  },
  {
   "cell_type": "code",
   "metadata": {
    "ExecuteTime": {
     "end_time": "2025-07-01T05:25:27.612868Z",
     "start_time": "2025-07-01T05:25:27.609130Z"
    }
   },
   "source": [
    "# CDF Response Time Analysis Example 5\n",
    "# Demonstrates cumulative distribution function analysis\n",
    "\n",
    "model = Network('model')"
   ],
   "outputs": [],
   "execution_count": 2
  },
  {
   "cell_type": "code",
   "metadata": {
    "ExecuteTime": {
     "end_time": "2025-07-01T05:25:27.668317Z",
     "start_time": "2025-07-01T05:25:27.657166Z"
    }
   },
   "source": [
    "# Create simple queueing network\n",
    "node = np.empty(3, dtype = object)\n",
    "node[0] = Source(model, 'Source')\n",
    "node[1] = Queue(model, 'Queue1', SchedStrategy.FCFS)\n",
    "node[2] = Sink(model, 'Sink')\n",
    "jobclass = OpenClass(model, 'Class1')"
   ],
   "outputs": [],
   "execution_count": 3
  },
  {
   "cell_type": "code",
   "metadata": {
    "ExecuteTime": {
     "end_time": "2025-07-01T05:25:27.725177Z",
     "start_time": "2025-07-01T05:25:27.717852Z"
    }
   },
   "source": [
    "# Service configuration\n",
    "node[0].setArrival(jobclass, Exp(1.0))\n",
    "node[1].setService(jobclass, Exp(2.0))"
   ],
   "outputs": [],
   "execution_count": 4
  },
  {
   "cell_type": "code",
   "metadata": {
    "ExecuteTime": {
     "end_time": "2025-07-01T05:25:27.772848Z",
     "start_time": "2025-07-01T05:25:27.767290Z"
    }
   },
   "source": [
    "# Routing\n",
    "P = model.initRoutingMatrix()\n",
    "P.set(jobclass, jobclass, node[0], node[1], 1.0)\n",
    "P.set(jobclass, jobclass, node[1], node[2], 1.0)\n",
    "model.link(P)"
   ],
   "outputs": [],
   "execution_count": 5
  },
  {
   "cell_type": "code",
   "metadata": {
    "ExecuteTime": {
     "end_time": "2025-07-01T05:25:28.733561Z",
     "start_time": "2025-07-01T05:25:27.817133Z"
    }
   },
   "source": [
    "# Solve and analyze CDF\n",
    "solver = SolverJMT(model, 'samples', 10000)\n",
    "\n",
    "avgTable = solver.getAvgTable()\n",
    "#Note: For actual CDF analysis, additional methods would be needed\n",
    "#This example shows the basic setup for response time analysis"
   ],
   "outputs": [
    {
     "name": "stdout",
     "output_type": "stream",
     "text": [
      "JMT Model: /tmp/workspace/jsim/12176136397820634420/jmodel.jsim\n",
      "  Station JobClass    QLen    Util   RespT  ResidT    ArvR    Tput\n",
      "0  Source   Class1  0.0000  0.0000  0.0000  0.0000  0.0000  0.9989\n",
      "1  Queue1   Class1  0.9555  0.4874  0.9543  0.9543  0.9989  0.9999\n"
     ]
    }
   ],
   "execution_count": 6
  }
 ],
 "metadata": {
  "kernelspec": {
   "display_name": "Python 3",
   "language": "python",
   "name": "python3"
  },
  "language_info": {
   "codemirror_mode": {
    "name": "ipython",
    "version": 3
   },
   "file_extension": ".py",
   "mimetype": "text/x-python",
   "name": "python",
   "nbconvert_exporter": "python",
   "pygments_lexer": "ipython3",
   "version": "3.8.0"
  }
 },
 "nbformat": 4,
 "nbformat_minor": 4
}
