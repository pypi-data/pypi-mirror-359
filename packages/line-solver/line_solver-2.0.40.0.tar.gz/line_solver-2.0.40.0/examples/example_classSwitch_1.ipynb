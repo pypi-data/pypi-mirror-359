{
 "cells": [
  {
   "metadata": {},
   "cell_type": "markdown",
   "source": [
    "A basic M/M/1 with explicit definition of a classwitch node\n",
    "Recommended ClassSwitch declaration style"
   ],
   "id": "c2b0c0e34d2649ad"
  },
  {
   "cell_type": "code",
   "source": [
    "from line_solver import *\n",
    "GlobalConstants.setVerbose(VerboseLevel.STD)"
   ],
   "metadata": {
    "collapsed": false,
    "ExecuteTime": {
     "end_time": "2025-05-17T07:08:53.587523Z",
     "start_time": "2025-05-17T07:08:53.585288Z"
    }
   },
   "id": "1b0f9c5a8ccd35c7",
   "outputs": [],
   "execution_count": 13
  },
  {
   "cell_type": "code",
   "source": [
    "\n",
    "model = Network('mm1cs')\n",
    "\n",
    "# Block 1: nodes\n",
    "node = np.empty(4, dtype=object)\n",
    "node[0] = Source(model, 'Source 1')\n",
    "node[1] = Queue(model, 'Queue 1', SchedStrategy.FCFS)\n",
    "node[2] = Sink(model, 'Sink 1')\n",
    "node[3] = ClassSwitch(model, 'ClassSwitch 1')\n",
    "\n",
    "# Block 2: classes\n",
    "jobclass = np.empty(2, dtype=object)\n",
    "jobclass[0] = OpenClass(model, 'Class1', 0)\n",
    "jobclass[1] = OpenClass(model, 'Class2', 0)\n",
    "\n",
    "node[0].setArrival(jobclass[0], Exp.fitMean(10.00)) # (Source 1,Class1)\n",
    "node[0].setArrival(jobclass[1], Exp.fitMean(2.00)) # (Source 1,Class2)\n",
    "\n",
    "node[1].setService(jobclass[0], Exp.fitMean(1.00)) # (Queue 1,Class1)\n",
    "node[1].setService(jobclass[1], Exp.fitMean(1.00)) # (Queue 1,Class2)\n"
   ],
   "metadata": {
    "collapsed": false,
    "ExecuteTime": {
     "end_time": "2025-05-17T07:08:53.596389Z",
     "start_time": "2025-05-17T07:08:53.592766Z"
    }
   },
   "id": "c764847f8cd95da4",
   "outputs": [],
   "execution_count": 14
  },
  {
   "cell_type": "code",
   "source": [
    "# Block 3: topology\n",
    "# The class switching matrix can now be declared after the classes, so the\n",
    "# ClassSwitch node can be declared outside Block 1.\n",
    "\n",
    "csmatrix = node[3].initClassSwitchMatrix() # element (i,j) = probability that class i switches to j\n",
    "csmatrix[jobclass[0]][jobclass[0]] = 0.3\n",
    "csmatrix[jobclass[0]][jobclass[1]] = 0.7\n",
    "csmatrix[jobclass[1]][jobclass[0]] = 1.0\n",
    "csmatrix[jobclass[1]][jobclass[1]] = 0.0\n",
    "node[3].setClassSwitchingMatrix(csmatrix)\n",
    "\n",
    "P = model.initRoutingMatrix() # initialize routing matrix\n",
    "P.set(jobclass[0],jobclass[0],node[0],node[3],1.0) # (Source 1,Class1) -> (ClassSwitch 1,Class1)\n",
    "P.set(jobclass[0],jobclass[0],node[1],node[2],1.0) # (Queue 1,Class1) -> (Sink 1,Class1)\n",
    "P.set(jobclass[0],jobclass[0],node[3],node[1],1.0) # (ClassSwitch 1,Class1) -> (Queue 1,Class1)\n",
    "P.set(jobclass[1],jobclass[1],node[0],node[3],1.0) # (Source 1,Class2) -> (ClassSwitch 1,Class2)\n",
    "P.set(jobclass[1],jobclass[1],node[1],node[2],1.0) # (Queue 1,Class2) -> (Sink 1,Class2)\n",
    "P.set(jobclass[1],jobclass[1],node[3],node[1],1.0) # (ClassSwitch 1,Class2) -> (Queue 1,Class2)\n",
    "model.link(P)"
   ],
   "metadata": {
    "collapsed": false,
    "ExecuteTime": {
     "end_time": "2025-05-17T07:08:53.648642Z",
     "start_time": "2025-05-17T07:08:53.643738Z"
    }
   },
   "id": "5fcade5ed686b00b",
   "outputs": [],
   "execution_count": 15
  },
  {
   "cell_type": "code",
   "source": "AvgTable = SolverMVA(model).getAvgTable()",
   "metadata": {
    "collapsed": false,
    "ExecuteTime": {
     "end_time": "2025-05-17T07:08:53.705367Z",
     "start_time": "2025-05-17T07:08:53.699224Z"
    }
   },
   "id": "8e0b3e924e49f205",
   "outputs": [
    {
     "name": "stdout",
     "output_type": "stream",
     "text": [
      "    Station JobClass    QLen  Util   RespT  ResidT  ArvR  Tput\n",
      "0  Source 1   Class1  0.0000  0.00  0.0000  0.0000  0.00  0.10\n",
      "1  Source 1   Class2  0.0000  0.00  0.0000  0.0000  0.00  0.50\n",
      "2   Queue 1   Class1  1.3249  0.53  2.4997  2.2081  0.53  0.53\n",
      "3   Queue 1   Class2  0.1750  0.07  2.4997  0.2916  0.07  0.07\n"
     ]
    }
   ],
   "execution_count": 16
  },
  {
   "cell_type": "code",
   "source": "AvgSysTable = SolverMVA(model).getAvgSysTable()",
   "metadata": {
    "collapsed": false,
    "ExecuteTime": {
     "end_time": "2025-05-17T07:08:53.756483Z",
     "start_time": "2025-05-17T07:08:53.751669Z"
    }
   },
   "id": "1f0ed31e7d595f28",
   "outputs": [
    {
     "name": "stdout",
     "output_type": "stream",
     "text": [
      "    Chain       JobClasses  SysRespT  SysTput\n",
      "0  Chain1  (Class1 Class2)    2.4997      0.6\n"
     ]
    }
   ],
   "execution_count": 17
  },
  {
   "metadata": {
    "ExecuteTime": {
     "end_time": "2025-05-17T07:08:53.818188Z",
     "start_time": "2025-05-17T07:08:53.813111Z"
    }
   },
   "cell_type": "code",
   "source": "AvgChainTable = SolverMVA(model).getAvgChainTable()",
   "id": "d0922fa16f57fc10",
   "outputs": [
    {
     "name": "stdout",
     "output_type": "stream",
     "text": [
      "    Station   Chain    QLen  Util   RespT  ResidT  ArvR  Tput\n",
      "0  Source 1  Chain1  0.0000   0.0  0.0000  0.0000   0.0   0.6\n",
      "1   Queue 1  Chain1  1.4998   0.6  2.4997  1.9845   0.6   0.6\n"
     ]
    }
   ],
   "execution_count": 18
  }
 ],
 "metadata": {
  "kernelspec": {
   "display_name": "Python 3",
   "language": "python",
   "name": "python3"
  },
  "language_info": {
   "codemirror_mode": {
    "name": "ipython",
    "version": 2
   },
   "file_extension": ".py",
   "mimetype": "text/x-python",
   "name": "python",
   "nbconvert_exporter": "python",
   "pygments_lexer": "ipython2",
   "version": "2.7.6"
  }
 },
 "nbformat": 4,
 "nbformat_minor": 5
}
