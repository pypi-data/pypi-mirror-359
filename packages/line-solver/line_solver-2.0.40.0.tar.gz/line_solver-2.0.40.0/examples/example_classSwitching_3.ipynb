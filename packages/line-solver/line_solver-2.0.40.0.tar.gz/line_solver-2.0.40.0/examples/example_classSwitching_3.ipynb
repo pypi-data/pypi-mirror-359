{
 "cells": [
  {
   "metadata": {
    "ExecuteTime": {
     "end_time": "2025-07-01T05:43:22.371921Z",
     "start_time": "2025-07-01T05:43:22.369780Z"
    }
   },
   "cell_type": "code",
   "source": [
    "from line_solver import *\n",
    "import numpy as np\n",
    "GlobalConstants.setVerbose(VerboseLevel.STD)"
   ],
   "outputs": [],
   "execution_count": 18
  },
  {
   "metadata": {
    "ExecuteTime": {
     "end_time": "2025-07-01T05:43:22.428468Z",
     "start_time": "2025-07-01T05:43:22.426765Z"
    }
   },
   "cell_type": "code",
   "source": [
    "# Class switching example 3\n",
    "\n",
    "model = Network('model')"
   ],
   "outputs": [],
   "execution_count": 19
  },
  {
   "metadata": {
    "ExecuteTime": {
     "end_time": "2025-07-01T05:43:22.480701Z",
     "start_time": "2025-07-01T05:43:22.477869Z"
    }
   },
   "cell_type": "code",
   "source": [
    "# Multi-class network with class switching\n",
    "node = np.empty(3, dtype = object)\n",
    "node[0] = Delay(model, 'Delay')\n",
    "node[1] = Queue(model, 'Queue1', SchedStrategy.PS)\n",
    "node[2] = Queue(model, 'Queue2', SchedStrategy.FCFS)\n",
    "jobclass = np.empty(2, dtype = object)\n",
    "jobclass[0] = ClosedClass(model, 'Class1', 3, node[0], 0)\n",
    "jobclass[1] = ClosedClass(model, 'Class2', 2, node[0], 0)"
   ],
   "outputs": [],
   "execution_count": 20
  },
  {
   "metadata": {
    "ExecuteTime": {
     "end_time": "2025-07-01T05:43:22.532015Z",
     "start_time": "2025-07-01T05:43:22.529495Z"
    }
   },
   "cell_type": "code",
   "source": [
    "# Service configurations\n",
    "node[0].setService(jobclass[0], Exp(1.0))\n",
    "node[0].setService(jobclass[1], Exp(1.2))\n",
    "node[1].setService(jobclass[0], Exp(2.0))\n",
    "node[1].setService(jobclass[1], Exp(1.8))\n",
    "node[2].setService(jobclass[0], Exp(1.5))\n",
    "node[2].setService(jobclass[1], Exp(1.3))"
   ],
   "outputs": [],
   "execution_count": 21
  },
  {
   "metadata": {
    "ExecuteTime": {
     "end_time": "2025-07-01T05:43:22.590176Z",
     "start_time": "2025-07-01T05:43:22.587661Z"
    }
   },
   "cell_type": "code",
   "source": [
    "# Class switching routing matrix\n",
    "P = model.initRoutingMatrix() # Class 1 can switch to Class 2\n",
    "P.set(jobclass[0], jobclass[0], node[0], node[1], 0.6)\n",
    "P.set(jobclass[0], jobclass[1], node[0], node[2], 0.4)  # Class switch\n",
    "P.set(jobclass[0], jobclass[0], node[1], node[0], 1.0)\n",
    "P.set(jobclass[1], jobclass[1], node[0], node[2], 0.7)\n",
    "P.set(jobclass[1], jobclass[0], node[0], node[1], 0.3)  # Class switch\n",
    "P.set(jobclass[1], jobclass[1], node[2], node[0], 1.0)\n",
    "model.link(P)"
   ],
   "outputs": [],
   "execution_count": 22
  },
  {
   "metadata": {
    "ExecuteTime": {
     "end_time": "2025-07-01T05:43:22.692689Z",
     "start_time": "2025-07-01T05:43:22.637396Z"
    }
   },
   "cell_type": "code",
   "source": [
    "#Solver\n",
    "solver = SolverCTMC(model)\n",
    "avgTable = solver.getAvgTable()"
   ],
   "outputs": [
    {
     "name": "stdout",
     "output_type": "stream",
     "text": [
      "  Station JobClass    QLen    Util   RespT  ResidT    ArvR    Tput\n",
      "0   Delay   Class1  0.8746  0.8746  1.0000  0.4286  0.8746  0.8746\n",
      "1   Delay   Class2  0.9717  0.9717  0.8333  0.4762  1.1661  1.1661\n",
      "2  Queue1   Class1  0.6865  0.4373  0.7849  0.3364  0.8746  0.8746\n",
      "5  Queue2   Class2  2.4673  0.8970  2.1159  1.2091  1.1661  1.1661\n"
     ]
    }
   ],
   "execution_count": 23
  }
 ],
 "metadata": {
  "kernelspec": {
   "display_name": "Python 3",
   "language": "python",
   "name": "python3"
  },
  "language_info": {
   "codemirror_mode": {
    "name": "ipython",
    "version": 3
   },
   "file_extension": ".py",
   "mimetype": "text/x-python",
   "name": "python",
   "nbconvert_exporter": "python",
   "pygments_lexer": "ipython3",
   "version": "3.8.0"
  }
 },
 "nbformat": 4,
 "nbformat_minor": 4
}
