{
 "cells": [
  {
   "cell_type": "code",
   "source": [
    "from line_solver import *\n",
    "GlobalConstants.setVerbose(VerboseLevel.STD)"
   ],
   "metadata": {
    "collapsed": false,
    "ExecuteTime": {
     "end_time": "2025-07-01T06:04:55.173554Z",
     "start_time": "2025-07-01T06:04:53.906754Z"
    }
   },
   "outputs": [],
   "execution_count": 1
  },
  {
   "cell_type": "code",
   "source": [
    "\n",
    "model = Network('model')\n",
    "\n",
    "node = np.empty(2, dtype=object)\n",
    "node[0] = Delay(model, 'Delay')\n",
    "node[1] = Queue(model, 'Queue1', SchedStrategy.FCFS)\n",
    "\n",
    "jobclass = ClosedClass(model, 'Class1', 10, node[0], 0)\n",
    "\n",
    "node[0].setService(jobclass, Exp.fitMean(1.0)) # mean = 1\n",
    "node[1].setService(jobclass, Exp.fitMean(1.5)) # mean = 1.5\n",
    "\n",
    "P = model.initRoutingMatrix()\n",
    "pmatrix = [[0.7,0.3],[1.0,0]]\n",
    "for i in range(len(node)):\n",
    "    for j in range(len(node)):\n",
    "        P.set(jobclass, jobclass, node[i], node[j], pmatrix[i][j])        \n",
    "model.link(P)"
   ],
   "metadata": {
    "collapsed": false,
    "ExecuteTime": {
     "end_time": "2025-07-01T06:04:55.249931Z",
     "start_time": "2025-07-01T06:04:55.231902Z"
    }
   },
   "outputs": [],
   "execution_count": 2
  },
  {
   "cell_type": "code",
   "source": [
    "solver = np.array([], dtype=object)\n",
    "solver = np.append(solver, SolverCTMC(model,'keep',True))\n",
    "solver = np.append(solver, SolverJMT(model,'seed',23000,'verbose',True,'keep',True))\n",
    "solver = np.append(solver, SolverSSA(model,'seed',23000,'verbose',False,'samples',10000))\n",
    "solver = np.append(solver, SolverFluid(model))\n",
    "solver = np.append(solver, SolverMVA(model))\n",
    "solver = np.append(solver, SolverNC(model,'exact'))\n",
    "#solver = np.append(solver, SolverMAM(model))\n",
    "#solver = np.append(solver, LINE(model))\n",
    "\n",
    "AvgTable = np.empty(len(solver), dtype=object)\n",
    "for s in range(len(solver)):\n",
    "    print(f'\\nSOLVER: {solver[s].getName()}')\n",
    "    AvgTable[s] = solver[s].getAvgTable()\n"
   ],
   "metadata": {
    "collapsed": false,
    "ExecuteTime": {
     "end_time": "2025-07-01T06:04:57.151771Z",
     "start_time": "2025-07-01T06:04:55.287773Z"
    }
   },
   "outputs": [
    {
     "name": "stdout",
     "output_type": "stream",
     "text": [
      "\n",
      "SOLVER: SolverCTMC\n",
      "  Station JobClass   QLen    Util   RespT  ResidT    ArvR    Tput\n",
      "0   Delay   Class1  2.222  2.2220   1.000  1.0000  2.2220  2.2220\n",
      "1  Queue1   Class1  7.778  0.9999  11.668  3.5004  0.6666  0.6666\n",
      "\n",
      "SOLVER: SolverJMT\n",
      "JMT Model: /tmp/workspace/jsim/3644085523683736578/jmodel.jsim\n",
      "  Station JobClass    QLen    Util    RespT  ResidT    ArvR    Tput\n",
      "0   Delay   Class1  2.1909  2.1909   1.0081  1.0081  2.2124  2.2129\n",
      "1  Queue1   Class1  7.7331  0.9998  11.5734  3.4720  0.6757  0.6802\n",
      "\n",
      "SOLVER: SolverSSA\n",
      "  Station JobClass    QLen    Util    RespT  ResidT    ArvR    Tput\n",
      "0   Delay   Class1  2.1284  2.1284   1.0000  1.0000  2.1564  2.1284\n",
      "1  Queue1   Class1  7.8716  0.9578  11.8095  3.5428  0.6385  0.6666\n",
      "\n",
      "SOLVER: SolverFluid\n",
      "Fluid [method: closing, lang: java, env: 21.0.7] completed in 0.018150s.\n",
      "  Station JobClass    QLen    Util    RespT  ResidT        ArvR    Tput\n",
      "0   Delay   Class1  2.2222  2.2222   1.0000     1.0  4.6477e-07  2.2222\n",
      "1  Queue1   Class1  7.7778  1.0000  11.6667     3.5  0.0000e+00  0.6667\n",
      "\n",
      "SOLVER: SolverMVA\n",
      "MVA [method: default(exact), lang: java, env: 21.0.7] completed in 0.010000s.\n",
      "  Station JobClass   QLen    Util   RespT  ResidT  ArvR    Tput\n",
      "0   Delay   Class1  2.222  0.2222   1.000  1.0000   0.0  2.2220\n",
      "1  Queue1   Class1  7.778  0.9999  11.668  3.5004   0.0  0.6666\n",
      "\n",
      "SOLVER: SolverNC\n",
      "NC [method: exact, lang: java, env: 21.0.7] completed in 0.017000s.\n",
      "  Station JobClass    QLen    Util    RespT  ResidT  ArvR    Tput\n",
      "0   Delay   Class1  1.7002  0.2222   0.7652  0.7652   0.0  2.2220\n",
      "1  Queue1   Class1  7.7780  0.9999  11.6680  3.5004   0.0  0.6666\n"
     ]
    }
   ],
   "execution_count": 3
  }
 ],
 "metadata": {
  "kernelspec": {
   "display_name": "Python 3",
   "language": "python",
   "name": "python3"
  },
  "language_info": {
   "codemirror_mode": {
    "name": "ipython",
    "version": 3
   },
   "file_extension": ".py",
   "mimetype": "text/x-python",
   "name": "python",
   "nbconvert_exporter": "python",
   "pygments_lexer": "ipython3",
   "version": "3.6.4"
  }
 },
 "nbformat": 4,
 "nbformat_minor": 2
}
