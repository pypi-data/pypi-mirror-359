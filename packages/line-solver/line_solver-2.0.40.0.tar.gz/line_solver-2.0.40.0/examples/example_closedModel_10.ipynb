{
 "cells": [
  {
   "cell_type": "code",
   "metadata": {
    "ExecuteTime": {
     "end_time": "2025-07-01T06:02:59.811741Z",
     "start_time": "2025-07-01T06:02:58.270394Z"
    }
   },
   "source": [
    "from line_solver import *\n",
    "import numpy as np\n",
    "GlobalConstants.setVerbose(VerboseLevel.STD)"
   ],
   "outputs": [],
   "execution_count": 1
  },
  {
   "metadata": {
    "ExecuteTime": {
     "end_time": "2025-07-01T06:02:59.928963Z",
     "start_time": "2025-07-01T06:02:59.910223Z"
    }
   },
   "cell_type": "code",
   "source": [
    "# Tandem queueing network\n",
    "model = Network('model')\n",
    "node = np.empty(4, dtype = object)\n",
    "node[0] = Delay(model, 'Source')\n",
    "node[1] = Queue(model, 'Queue1', SchedStrategy.FCFS)\n",
    "node[2] = Queue(model, 'Queue2', SchedStrategy.FCFS)\n",
    "node[3] = Delay(model, 'Sink')\n",
    "\n",
    "jobclass = np.empty(1, dtype = object)\n",
    "jobclass[0] = ClosedClass(model, 'Class1', 10, node[0], 0)#Service distributions\n",
    "\n",
    "node[0].setService(jobclass[0], Exp(1))\n",
    "node[1].setService(jobclass[0], Exp(2))\n",
    "node[2].setService(jobclass[0], Exp(1.5))\n",
    "node[3].setService(jobclass[0], Exp(0.1))#Serial routing through the tandem\n",
    "\n",
    "P = model.initRoutingMatrix()\n",
    "P.set(jobclass[0], jobclass[0], node[0], node[1], 1.0)\n",
    "P.set(jobclass[0], jobclass[0], node[1], node[2], 1.0)\n",
    "P.set(jobclass[0], jobclass[0], node[2], node[3], 1.0)\n",
    "P.set(jobclass[0], jobclass[0], node[3], node[0], 1.0)\n",
    "model.link(P)"
   ],
   "outputs": [],
   "execution_count": 2
  },
  {
   "metadata": {
    "ExecuteTime": {
     "end_time": "2025-07-01T06:03:01.463979Z",
     "start_time": "2025-07-01T06:02:59.958242Z"
    }
   },
   "cell_type": "code",
   "source": [
    "# Solve with various methods\n",
    "solvers = [    SolverMVA(model, 'exact'),    SolverCTMC(model),    SolverJMT(model, 'seed', 23000, 'samples', 10000)]\n",
    "for solver in solvers:\n",
    "    print(f'SOLVER: {solver.getName()}')\n",
    "    avgTable = solver.getAvgTable()"
   ],
   "outputs": [
    {
     "name": "stdout",
     "output_type": "stream",
     "text": [
      "SOLVER: SolverMVA\n",
      "MVA [method: exact, lang: java, env: 21.0.7] completed in 0.018000s.\n",
      "  Station JobClass    QLen    Util    RespT   ResidT    ArvR    Tput\n",
      "0  Source   Class1  0.5939  0.5939   1.0000   1.0000  0.5939  0.5939\n",
      "1  Queue1   Class1  0.9447  0.2970   1.5906   1.5906  0.5939  0.5939\n",
      "2  Queue2   Class1  2.5222  0.3959   4.2466   4.2466  0.5939  0.5939\n",
      "3    Sink   Class1  5.9392  5.9392  10.0000  10.0000  0.5939  0.5939\n",
      "SOLVER: SolverCTMC\n",
      "  Station JobClass    QLen    Util    RespT   ResidT    ArvR    Tput\n",
      "0  Source   Class1  0.7734  0.7734   1.0000   1.0000  0.7734  0.7734\n",
      "1  Queue1   Class1  0.5807  0.3867   0.7509   0.7509  0.7734  0.7734\n",
      "2  Queue2   Class1  0.9121  0.5156   1.1794   1.1794  0.7734  0.7734\n",
      "3    Sink   Class1  7.7337  7.7337  10.0000  10.0000  0.7734  0.7734\n",
      "SOLVER: SolverJMT\n",
      "JMT Model: /tmp/workspace/jsim/9396071410213085016/jmodel.jsim\n",
      "  Station JobClass    QLen    Util   RespT  ResidT    ArvR    Tput\n",
      "0  Source   Class1  0.7711  0.7711  0.9841  0.9841  0.7780  0.7857\n",
      "1  Queue1   Class1  0.5658  0.3830  0.7763  0.7763  0.7857  0.7781\n",
      "2  Queue2   Class1  0.9388  0.5219  1.1887  1.1887  0.7781  0.7874\n",
      "3    Sink   Class1  7.7129  7.7129  9.7731  9.7731  0.7874  0.7780\n"
     ]
    }
   ],
   "execution_count": 3
  }
 ],
 "metadata": {
  "kernelspec": {
   "display_name": "Python 3",
   "language": "python",
   "name": "python3"
  },
  "language_info": {
   "codemirror_mode": {
    "name": "ipython",
    "version": 3
   },
   "file_extension": ".py",
   "mimetype": "text/x-python",
   "name": "python",
   "nbconvert_exporter": "python",
   "pygments_lexer": "ipython3",
   "version": "3.8.0"
  }
 },
 "nbformat": 4,
 "nbformat_minor": 4
}
