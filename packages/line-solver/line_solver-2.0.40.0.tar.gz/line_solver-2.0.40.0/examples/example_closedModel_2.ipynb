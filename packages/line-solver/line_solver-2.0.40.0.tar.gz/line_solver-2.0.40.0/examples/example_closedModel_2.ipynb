{
 "cells": [
  {
   "cell_type": "code",
   "source": "from line_solver import *\nimport numpy as np\nGlobalConstants.setVerbose(VerboseLevel.STD)",
   "metadata": {
    "ExecuteTime": {
     "end_time": "2025-07-01T06:04:48.300008Z",
     "start_time": "2025-07-01T06:04:47.048338Z"
    }
   },
   "outputs": [],
   "execution_count": 1
  },
  {
   "metadata": {
    "ExecuteTime": {
     "end_time": "2025-07-01T06:04:48.417185Z",
     "start_time": "2025-07-01T06:04:48.379962Z"
    }
   },
   "cell_type": "code",
   "source": [
    "\n",
    "model = Network('model')\n",
    "\n",
    "node = np.empty(2, dtype=object)\n",
    "node[0] = Delay(model, 'Delay')\n",
    "node[1] = Queue(model, 'Queue1', SchedStrategy.PS)\n",
    "\n",
    "jobclass = np.empty(2, dtype=object)\n",
    "jobclass[0] = ClosedClass(model, 'Class1', 2, node[0], 0)\n",
    "jobclass[1] = ClosedClass(model, 'Class2', 2, node[0], 0)\n",
    "\n",
    "node[0].setService(jobclass[0], Erlang(3, 2))\n",
    "node[0].setService(jobclass[1], HyperExp(0.5, 3.0, 10.0))\n",
    "\n",
    "node[1].setService(jobclass[0], HyperExp(0.1, 1.0, 10.0))\n",
    "node[1].setService(jobclass[1], Exp(1))\n",
    "\n",
    "P = model.initRoutingMatrix()\n",
    "P.set(jobclass[0], jobclass[0], node[0], node[0], 0.3)\n",
    "P.set(jobclass[0], jobclass[0], node[0], node[1], 0.1)\n",
    "P.set(jobclass[0], jobclass[0], node[1], node[0], 0.2)\n",
    "\n",
    "P.set(jobclass[0], jobclass[1], node[0], node[0], 0.6)\n",
    "P.set(jobclass[0], jobclass[1], node[1], node[0], 0.8)\n",
    "\n",
    "P.set(jobclass[1], jobclass[0], node[1], node[0], 1.0)\n",
    "\n",
    "P.set(jobclass[1], jobclass[1], node[0], node[1], 1.0)\n",
    "\n",
    "model.link(P)"
   ],
   "outputs": [],
   "execution_count": 2
  },
  {
   "metadata": {
    "ExecuteTime": {
     "end_time": "2025-07-01T06:04:50.403886Z",
     "start_time": "2025-07-01T06:04:48.424530Z"
    }
   },
   "cell_type": "code",
   "source": [
    "solver = np.array([], dtype=object)\n",
    "solver = np.append(solver, SolverCTMC(model))\n",
    "solver = np.append(solver, SolverJMT(model, 'seed', 23000, 'verbose', True, 'samples', 5000))\n",
    "solver = np.append(solver, SolverSSA(model, 'seed', 23000, 'verbose', True, 'samples', 5000))\n",
    "solver = np.append(solver, SolverFluid(model))\n",
    "solver = np.append(solver, SolverMVA(model, 'exact'))\n",
    "solver = np.append(solver, SolverNC(model, 'exact'))\n",
    "solver = np.append(solver, SolverMAM(model))\n",
    "#solver = np.append(solver, LINE(model))\n",
    "\n",
    "AvgTable = np.empty(len(solver), dtype=object)\n",
    "for s in range(len(solver)):\n",
    "    print(f'\\nSOLVER: {solver[s].getName()}')\n",
    "    AvgTable[s] = solver[s].getAvgTable()\n"
   ],
   "outputs": [
    {
     "name": "stdout",
     "output_type": "stream",
     "text": [
      "\n",
      "SOLVER: SolverCTMC\n",
      "  Station JobClass    QLen    Util   RespT  ResidT    ArvR    Tput\n",
      "0   Delay   Class1  0.9308  0.9308  0.6667  0.3968  1.3962  1.3962\n",
      "1   Delay   Class2  0.2057  0.2057  0.2167  0.0877  0.9494  0.9494\n",
      "2  Queue1   Class1  0.0778  0.0265  0.5575  0.0332  0.1396  0.1396\n",
      "3  Queue1   Class2  2.7857  0.9494  2.9342  1.1876  0.9494  0.9494\n",
      "\n",
      "SOLVER: SolverJMT\n",
      "JMT Model: /tmp/workspace/jsim/7064826922066450347/jmodel.jsim\n",
      "  Station JobClass    QLen    Util   RespT  ResidT    ArvR    Tput\n",
      "0   Delay   Class1  0.9301  0.9301  0.6699  0.3988  1.4084  1.4078\n",
      "1   Delay   Class2  0.2020  0.2020  0.2143  0.0867  0.9506  0.9506\n",
      "2  Queue1   Class1  0.0747  0.0186  0.5499  0.0327  0.1372  0.1372\n",
      "3  Queue1   Class2  2.8076  0.9530  2.9302  1.1860  0.9506  0.9506\n",
      "\n",
      "SOLVER: SolverSSA\n",
      "SSA samples:    5000\n",
      "SSA [method: default(serial), lang: java, env: 21.0.7] completed in 0.329000s.\n",
      "  Station JobClass    QLen    Util   RespT  ResidT    ArvR    Tput\n",
      "0   Delay   Class1  0.9858  0.9858  0.6550  0.3899  1.4201  1.5050\n",
      "1   Delay   Class2  0.2251  0.2251  0.2245  0.0909  1.0123  1.0029\n",
      "2  Queue1   Class1  0.0769  0.0286  0.5629  0.0335  0.1505  0.1366\n",
      "3  Queue1   Class2  2.7122  1.0029  2.8815  1.1663  1.0029  0.9412\n",
      "\n",
      "SOLVER: SolverFluid\n",
      "Fluid [method: closing, lang: java, env: 21.0.7] completed in 0.042634s.\n",
      "  Station JobClass    QLen    Util   RespT  ResidT        ArvR    Tput\n",
      "0   Delay   Class1  0.8107  0.8107  0.5667  0.3373  1.8578e-07  1.4306\n",
      "1   Delay   Class2  0.2108  0.2108  0.2167  0.0877  1.5189e-08  0.9728\n",
      "2  Queue1   Class1  0.0810  0.0272  0.5659  0.0337  0.0000e+00  0.1431\n",
      "3  Queue1   Class2  2.8976  0.9728  2.9785  1.2056  4.5744e-07  0.9728\n",
      "\n",
      "SOLVER: SolverMVA\n",
      "MVA [method: exact, lang: java, env: 21.0.7] completed in 0.012000s.\n",
      "  Station JobClass    QLen    Util   RespT  ResidT  ArvR    Tput\n",
      "0   Delay   Class1  0.9308  0.1163  0.6667  0.3968   0.0  1.3962\n",
      "1   Delay   Class2  0.2057  0.0257  0.2167  0.0877   0.0  0.9494\n",
      "2  Queue1   Class1  0.0778  0.0265  0.5575  0.0332   0.0  0.1396\n",
      "3  Queue1   Class2  2.7857  0.9494  2.9342  1.1876   0.0  0.9494\n",
      "\n",
      "SOLVER: SolverNC\n",
      "NC [method: exact, lang: java, env: 21.0.7] completed in 0.022000s.\n",
      "  Station JobClass    QLen    Util   RespT  ResidT  ArvR    Tput\n",
      "0   Delay   Class1  0.3568  0.2327  0.2556  0.1521   0.0  1.3962\n",
      "1   Delay   Class2  0.0789  0.0514  0.0831  0.0336   0.0  0.9494\n",
      "2  Queue1   Class1  0.0778  0.0265  0.5575  0.0332   0.0  0.1396\n",
      "3  Queue1   Class2  2.7857  0.9494  2.9342  1.1876   0.0  0.9494\n",
      "\n",
      "SOLVER: SolverMAM\n",
      "MAM [method: default, lang: java, env: 21.0.7] completed in 0.005000s.\n",
      "  Station JobClass    QLen    Util   RespT  ResidT  ArvR    Tput\n",
      "0   Delay   Class1  0.7414  0.7414  0.6667  0.3968   0.0  1.1122\n",
      "1   Delay   Class2  0.1639  0.1639  0.2167  0.0877   0.0  0.7563\n",
      "2  Queue1   Class1  0.0863  0.0211  0.7764  0.0462   0.0  0.1112\n",
      "3  Queue1   Class2  3.0902  0.7563  4.0861  1.6539   0.0  0.7563\n"
     ]
    }
   ],
   "execution_count": 3
  }
 ],
 "metadata": {
  "kernelspec": {
   "display_name": "Python 3",
   "language": "python",
   "name": "python3"
  },
  "language_info": {
   "codemirror_mode": {
    "name": "ipython",
    "version": 3
   },
   "file_extension": ".py",
   "mimetype": "text/x-python",
   "name": "python",
   "nbconvert_exporter": "python",
   "pygments_lexer": "ipython3",
   "version": "3.9.0"
  }
 },
 "nbformat": 4,
 "nbformat_minor": 4
}
