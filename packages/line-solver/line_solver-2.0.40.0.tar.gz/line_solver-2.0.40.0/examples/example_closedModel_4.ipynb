{
 "cells": [
  {
   "cell_type": "code",
   "source": [
    "from line_solver import *\n",
    "GlobalConstants.setVerbose(VerboseLevel.STD)"
   ],
   "metadata": {
    "collapsed": false,
    "ExecuteTime": {
     "end_time": "2025-07-02T06:43:22.084018Z",
     "start_time": "2025-07-02T06:43:20.713201Z"
    }
   },
   "outputs": [],
   "execution_count": 1
  },
  {
   "cell_type": "code",
   "source": [
    "\n",
    "model = Network('model')\n",
    "\n",
    "# Block 1: nodes\n",
    "node1 = Delay(model, \"Delay\")\n",
    "node2 = Queue(model, \"Queue1\", SchedStrategy.FCFS)\n",
    "node3 = Queue(model, \"Queue2\", SchedStrategy.FCFS)\n",
    "node2.setNumberOfServers(3)\n",
    "node3.setNumberOfServers(3)\n",
    "\n",
    "# Block 2: classes\n",
    "jobclass1 = ClosedClass(model, \"Class1\", 2, node1, 0)\n",
    "jobclass2 = ClosedClass(model, \"Class2\", 2, node1, 0)\n",
    "jobclass3 = ClosedClass(model, \"Class3\", 2, node1, 0)\n",
    "jobclass4 = ClosedClass(model, \"Class4\", 1, node1, 0)\n",
    "\n",
    "node1.setService(jobclass1, Exp(1)) # (Delay,Class1)\n",
    "node1.setService(jobclass2, Exp(1)) # (Delay,Class2)\n",
    "node1.setService(jobclass3, Exp(10)) # (Delay,Class3)\n",
    "node1.setService(jobclass4, Exp(1)) # (Delay,Class4)\n",
    "\n",
    "node2.setService(jobclass1, Exp(1)) # (Queue1,Class1)\n",
    "node2.setService(jobclass2, Erlang(1, 2)) # (Queue1,Class2)\n",
    "node2.setService(jobclass3, Exp(10)) # (Queue1,Class3)\n",
    "node2.setService(jobclass4, Exp(1)) # (Queue1,Class4)\n",
    "\n",
    "node3.setService(jobclass1, Disabled.getInstance()) # (Queue2,Class1)\n",
    "node3.setService(jobclass2, Disabled.getInstance()) # (Queue2,Class2)\n",
    "node3.setService(jobclass3, Erlang(1, 2)) # (Queue2,Class3)\n",
    "node3.setService(jobclass4, Exp(1)) # (Queue2,Class4)\n",
    "\n",
    "# Block 3: topology\n",
    "routingMatrix = model.initRoutingMatrix()\n",
    "\n",
    "routingMatrix.set(jobclass1, jobclass1, node1, node2, 0.50)\n",
    "routingMatrix.set(jobclass1, jobclass1, node2, node1, 1.00)\n",
    "routingMatrix.set(jobclass1, jobclass1, node3, node1, 1.00)\n",
    "\n",
    "routingMatrix.set(jobclass1, jobclass2, node1, node2, 0.50)\n",
    "\n",
    "routingMatrix.set(jobclass2, jobclass2, node2, node1, 1.00)\n",
    "routingMatrix.set(jobclass2, jobclass2, node3, node1, 1.00)\n",
    "\n",
    "routingMatrix.set(jobclass2, jobclass1, node1, node2, 1.00)\n",
    "\n",
    "routingMatrix.set(jobclass3, jobclass3, node1, node2, 0.25)\n",
    "routingMatrix.set(jobclass3, jobclass3, node1, node3, 0.25)\n",
    "routingMatrix.set(jobclass3, jobclass3, node2, node1, 1.00)\n",
    "routingMatrix.set(jobclass3, jobclass3, node3, node1, 1.00)\n",
    "\n",
    "routingMatrix.set(jobclass3, jobclass4, node1, node2, 0.50)\n",
    "\n",
    "routingMatrix.set(jobclass4, jobclass4, node2, node1, 1.00)\n",
    "routingMatrix.set(jobclass4, jobclass4, node3, node1, 1.00)\n",
    "\n",
    "routingMatrix.set(jobclass4, jobclass3, node1, node2, 1.00)\n",
    "\n",
    "model.link(routingMatrix)"
   ],
   "metadata": {
    "collapsed": false,
    "ExecuteTime": {
     "end_time": "2025-07-02T06:43:22.121741Z",
     "start_time": "2025-07-02T06:43:22.094325Z"
    }
   },
   "outputs": [],
   "execution_count": 2
  },
  {
   "cell_type": "code",
   "source": [
    "solver = np.array([], dtype=object)\n",
    "#solver = np.append(solver, SolverCTMC(model,'keep',True))\n",
    "solver = np.append(solver, SolverJMT(model,'seed',23000,'verbose',True,'keep',True))\n",
    "solver = np.append(solver, SolverSSA(model,'seed',23000,'verbose',False,'samples',10000))\n",
    "solver = np.append(solver, SolverFluid(model))\n",
    "solver = np.append(solver, SolverMVA(model))\n",
    "solver = np.append(solver, SolverNC(model))\n",
    "#solver = np.append(solver, SolverMAM(model))\n",
    "#solver = np.append(solver, LINE(model))\n",
    "\n",
    "AvgTable = np.empty(len(solver), dtype=object)\n",
    "for s in range(len(solver)):\n",
    "    print(f'\\nSOLVER: {solver[s].getName()}')\n",
    "    AvgTable[s] = solver[s].getAvgTable()\n"
   ],
   "metadata": {
    "collapsed": false,
    "ExecuteTime": {
     "end_time": "2025-07-02T06:43:27.455202Z",
     "start_time": "2025-07-02T06:43:22.220666Z"
    }
   },
   "outputs": [
    {
     "name": "stdout",
     "output_type": "stream",
     "text": [
      "\n",
      "SOLVER: SolverJMT\n",
      "JMT Model: /tmp/workspace/jsim/18411886409502539410/jmodel.jsim\n",
      "   Station JobClass    QLen    Util   RespT  ResidT    ArvR    Tput\n",
      "0    Delay   Class1  0.9624  0.9624  0.9955  0.6636  0.9759  0.9775\n",
      "1    Delay   Class2  0.4710  0.4710  0.9964  0.3321  0.4934  0.4884\n",
      "2    Delay   Class3  0.1332  0.1332  0.1000  0.0667  1.3475  1.3475\n",
      "3    Delay   Class4  0.6728  0.6728  0.9911  0.3304  0.6810  0.6811\n",
      "4   Queue1   Class1  1.4139  0.3323  1.4149  0.9433  0.9758  0.9780\n",
      "5   Queue1   Class2  1.1780  0.3303  2.4004  0.8001  0.4883  0.4883\n",
      "6   Queue1   Class3  0.5653  0.0337  0.5611  0.2806  1.0220  1.0216\n",
      "7   Queue1   Class4  0.9404  0.2327  1.3560  0.4520  0.6795  0.6812\n",
      "10  Queue2   Class3  0.6757  0.2252  1.9819  0.3303  0.3370  0.3382\n",
      "\n",
      "SOLVER: SolverSSA\n",
      "   Station JobClass    QLen    Util   RespT  ResidT    ArvR    Tput\n",
      "0    Delay   Class1  1.0338  1.0338  1.0000  0.6667  0.9770  1.0338\n",
      "1    Delay   Class2  0.5031  0.5031  1.0000  0.3333  0.3820  0.5031\n",
      "2    Delay   Class3  0.1400  0.1400  0.1000  0.0667  1.3586  1.3997\n",
      "3    Delay   Class4  0.7067  0.7067  1.0000  0.3333  0.7011  0.7067\n",
      "4   Queue1   Class1  1.3200  0.3400  1.3511  0.9008  1.0200  0.9770\n",
      "5   Queue1   Class2  1.1431  0.3446  2.9919  0.9973  0.5169  0.3820\n",
      "6   Queue1   Class3  0.5466  0.0352  0.5294  0.2647  1.0566  1.0325\n",
      "7   Queue1   Class4  0.9229  0.2333  1.3164  0.4388  0.6998  0.7011\n",
      "10  Queue2   Class3  0.6838  0.2333  2.0965  0.3494  0.3499  0.3262\n",
      "\n",
      "SOLVER: SolverFluid\n",
      "Fluid [method: closing, lang: java, env: 21.0.7] completed in 0.742758s.\n",
      "   Station JobClass    QLen    Util   RespT  ResidT        ArvR    Tput\n",
      "0    Delay   Class1  1.0199  1.0199  1.0000  0.6667  0.0000e+00  1.0199\n",
      "1    Delay   Class2  0.5099  0.5099  1.0000  0.3333  0.0000e+00  0.5099\n",
      "2    Delay   Class3  0.1668  0.1668  0.1000  0.0667  0.0000e+00  1.6683\n",
      "3    Delay   Class4  0.8350  0.8350  1.0000  0.3333  2.5189e-05  0.8350\n",
      "4   Queue1   Class1  1.2351  0.4117  1.2111  0.8074  4.4723e-05  1.0198\n",
      "5   Queue1   Class2  1.2351  0.0000     inf     inf  5.0993e-01  0.0000\n",
      "6   Queue1   Class3  0.1518  0.0506  0.1211  0.0606  0.0000e+00  1.2531\n",
      "7   Queue1   Class4  1.0113  0.3371  1.2111  0.4037  0.0000e+00  0.8350\n",
      "10  Queue2   Class3  0.8351  0.0000     inf     inf  4.1708e-01  0.0000\n",
      "\n",
      "SOLVER: SolverMVA\n",
      "MVA [method: default(lin), lang: java, env: 21.0.7] completed in 0.026000s.\n",
      "   Station JobClass    QLen    Util   RespT  ResidT  ArvR    Tput\n",
      "0    Delay   Class1  0.5723  0.0863  0.4734  0.3156   0.0  1.2089\n",
      "1    Delay   Class2  0.2861  0.0432  0.4734  0.1578   0.0  0.6044\n",
      "2    Delay   Class3  0.0566  0.0085  0.0473  0.0316   0.0  1.1963\n",
      "3    Delay   Class4  0.2832  0.0427  0.4734  0.1578   0.0  0.5981\n",
      "4   Queue1   Class1  1.5708  0.4030  1.2994  0.8662   0.0  1.2089\n",
      "5   Queue1   Class2  1.5708  0.4030  2.5987  0.8662   0.0  0.6044\n",
      "6   Queue1   Class3  0.2676  0.0299  0.2982  0.1491   0.0  0.8972\n",
      "7   Queue1   Class4  1.7838  0.1994  2.9822  0.9941   0.0  0.5981\n",
      "10  Queue2   Class3  0.6089  0.1994  2.0360  0.3393   0.0  0.2991\n",
      "\n",
      "SOLVER: SolverNC\n",
      "NC [method: default(cub), lang: java, env: 21.0.7] completed in 0.144000s.\n",
      "   Station JobClass    QLen    Util   RespT  ResidT  ArvR    Tput\n",
      "0    Delay   Class1  0.8720  0.0616  1.0114  0.6743   0.0  0.8622\n",
      "1    Delay   Class2  0.4360  0.0308  1.0114  0.3371   0.0  0.4311\n",
      "2    Delay   Class3  0.1462  0.0103  0.1011  0.0674   0.0  1.4458\n",
      "3    Delay   Class4  0.7311  0.0516  1.0114  0.3371   0.0  0.7229\n",
      "4   Queue1   Class1  1.3460  0.2874  1.5611  1.0407   0.0  0.8622\n",
      "5   Queue1   Class2  1.3460  0.2874  3.1222  1.0407   0.0  0.4311\n",
      "6   Queue1   Class3  0.1768  0.0361  0.1631  0.0815   0.0  1.0843\n",
      "7   Queue1   Class4  1.1789  0.2410  1.6308  0.5436   0.0  0.7229\n",
      "10  Queue2   Class3  0.7669  0.2410  2.1219  0.3536   0.0  0.3614\n"
     ]
    }
   ],
   "execution_count": 3
  }
 ],
 "metadata": {
  "kernelspec": {
   "display_name": "Python 3",
   "language": "python",
   "name": "python3"
  },
  "language_info": {
   "codemirror_mode": {
    "name": "ipython",
    "version": 3
   },
   "file_extension": ".py",
   "mimetype": "text/x-python",
   "name": "python",
   "nbconvert_exporter": "python",
   "pygments_lexer": "ipython3",
   "version": "3.6.4"
  }
 },
 "nbformat": 4,
 "nbformat_minor": 2
}
