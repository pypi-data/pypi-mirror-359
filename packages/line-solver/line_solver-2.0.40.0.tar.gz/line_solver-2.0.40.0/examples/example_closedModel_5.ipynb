{
 "cells": [
  {
   "cell_type": "markdown",
   "metadata": {},
   "source": "This example shows a 1-line exact MVA solution of a cyclic queueing network."
  },
  {
   "metadata": {
    "ExecuteTime": {
     "end_time": "2025-07-01T06:04:23.638612Z",
     "start_time": "2025-07-01T06:04:22.195901Z"
    }
   },
   "cell_type": "code",
   "source": [
    "from line_solver import *\n",
    "import numpy as np\n",
    "GlobalConstants.setVerbose(VerboseLevel.STD)"
   ],
   "outputs": [],
   "execution_count": 1
  },
  {
   "metadata": {
    "ExecuteTime": {
     "end_time": "2025-07-01T06:04:23.723899Z",
     "start_time": "2025-07-01T06:04:23.721624Z"
    }
   },
   "cell_type": "code",
   "source": [
    "# Service times - S(i,r) - mean service time of class r at station i\n",
    "D = np.array([[10, 5], [5, 9]])\n",
    "# Number of jobs - N(r) - number of jobs of class r\n",
    "N = np.array([1, 2])\n",
    "# Think times - Z(r) - mean service time of class r at delay station i\n",
    "Z = np.array([[91, 92], [93, 94]])"
   ],
   "outputs": [],
   "execution_count": 2
  },
  {
   "metadata": {
    "ExecuteTime": {
     "end_time": "2025-07-01T06:04:23.823823Z",
     "start_time": "2025-07-01T06:04:23.781721Z"
    }
   },
   "cell_type": "code",
   "source": [
    "# Create cyclic model using the Network.cyclicPsInf method\n",
    "\n",
    "model = Network.cyclicPsInf(N, D, Z)"
   ],
   "outputs": [],
   "execution_count": 3
  },
  {
   "metadata": {
    "ExecuteTime": {
     "end_time": "2025-07-01T06:04:23.971127Z",
     "start_time": "2025-07-01T06:04:23.838226Z"
    }
   },
   "cell_type": "code",
   "source": [
    "# Solve using exact MVA\n",
    "avgTable = SolverMVA(model, 'exact').getAvgTable()"
   ],
   "outputs": [
    {
     "name": "stdout",
     "output_type": "stream",
     "text": [
      "MVA [method: exact, lang: java, env: 21.0.7] completed in 0.023000s.\n",
      "  Station JobClass    QLen    Util  RespT  ResidT    ArvR    Tput\n",
      "0  Queue1   Class1  0.6667  0.0073   10.0    10.0  0.0667  0.0667\n",
      "1  Queue1   Class2  0.7143  0.0078    5.0     5.0  0.1429  0.1429\n",
      "2  Queue2   Class1  0.3333  0.0036    5.0     5.0  0.0667  0.0667\n",
      "3  Queue2   Class2  1.2857  0.0140    9.0     9.0  0.1429  0.1429\n"
     ]
    }
   ],
   "execution_count": 4
  }
 ],
 "metadata": {
  "kernelspec": {
   "display_name": "Python 3",
   "language": "python",
   "name": "python3"
  },
  "language_info": {
   "codemirror_mode": {
    "name": "ipython",
    "version": 3
   },
   "file_extension": ".py",
   "mimetype": "text/x-python",
   "name": "python",
   "nbconvert_exporter": "python",
   "pygments_lexer": "ipython3",
   "version": "3.8.0"
  }
 },
 "nbformat": 4,
 "nbformat_minor": 4
}
