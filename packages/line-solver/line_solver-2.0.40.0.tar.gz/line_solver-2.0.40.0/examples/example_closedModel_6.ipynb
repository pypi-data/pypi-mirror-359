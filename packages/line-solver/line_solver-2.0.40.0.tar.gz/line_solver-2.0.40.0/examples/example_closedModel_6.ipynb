{
 "cells": [
  {
   "metadata": {
    "ExecuteTime": {
     "end_time": "2025-07-01T06:04:02.172915Z",
     "start_time": "2025-07-01T06:04:00.934960Z"
    }
   },
   "cell_type": "code",
   "source": [
    "from line_solver import *\n",
    "import numpy as np\n",
    "GlobalConstants.setVerbose(VerboseLevel.STD)"
   ],
   "id": "e49b037df98b45c2",
   "outputs": [],
   "execution_count": 1
  },
  {
   "metadata": {
    "ExecuteTime": {
     "end_time": "2025-07-01T06:04:02.278337Z",
     "start_time": "2025-07-01T06:04:02.243386Z"
    }
   },
   "cell_type": "code",
   "source": [
    "\n",
    "model = Network('model')\n",
    "# Create models\n",
    "node = np.empty(4, dtype = object)\n",
    "node[0] = ClassSwitch(model, 'CS', [[0, 1], [1, 0]])\n",
    "node[1] = Queue(model, 'Queue1', SchedStrategy.PS)\n",
    "node[2] = Queue(model, 'Queue2', SchedStrategy.PS)\n",
    "node[3] = Queue(model, 'Delay', SchedStrategy.INF)\n",
    "\n",
    "# Create job classes\n",
    "jobclass = np.empty(2, dtype = object)\n",
    "jobclass[0] = ClosedClass(model, 'Class1', 15, node[3], 0)\n",
    "jobclass[1] = ClosedClass(model, 'Class2', 5, node[3], 0)\n",
    "\n",
    "# Set service times\n",
    "node[1].setService(jobclass[0], Exp.fitMean(1.5))  #mean = 1.5\n",
    "node[1].setService(jobclass[1], Erlang.fitMeanAndOrder(1.5, 2))  #mean = 1.5\n",
    "\n",
    "node[2].setService(jobclass[0], Erlang.fitMeanAndOrder(1.5, 2))  #mean = 1.5\n",
    "node[2].setService(jobclass[1], Exp.fitMean(1.5))  #mean = 1.5\n",
    "\n",
    "node[3].setService(jobclass[0], Exp.fitMean(1.0))  #mean = 1\n",
    "node[3].setService(jobclass[1], Exp.fitMean(1.0))  #mean = 1\n",
    "\n",
    "# Add links\n",
    "model.addLink(node[1], node[0])\n",
    "model.addLink(node[2], node[0])\n",
    "model.addLink(node[0], node[3])\n",
    "model.addLink(node[3], node[1])\n",
    "model.addLink(node[3], node[2])\n",
    "\n",
    "# Set routing strategies\n",
    "node[0].setRouting(jobclass[0], RoutingStrategy.RAND)\n",
    "node[1].setRouting(jobclass[0], RoutingStrategy.RAND)\n",
    "node[2].setRouting(jobclass[0], RoutingStrategy.RAND)\n",
    "node[3].setRouting(jobclass[0], RoutingStrategy.RROBIN)\n",
    "\n",
    "node[0].setRouting(jobclass[1], RoutingStrategy.RAND)\n",
    "node[1].setRouting(jobclass[1], RoutingStrategy.RAND)\n",
    "node[2].setRouting(jobclass[1], RoutingStrategy.RAND)\n",
    "\n",
    "# Set weighted round robin routing using probability routing\n",
    "node[3].setProbRouting(jobclass[1], node[1], 1.0/3.0)  # weight 1 out of 3 total\n",
    "node[3].setProbRouting(jobclass[1], node[2], 2.0/3.0)  # weight 2 out of 3 total"
   ],
   "id": "f9e6dd94a85a54a8",
   "outputs": [],
   "execution_count": 2
  },
  {
   "metadata": {
    "ExecuteTime": {
     "end_time": "2025-07-01T06:04:03.565085Z",
     "start_time": "2025-07-01T06:04:02.307496Z"
    }
   },
   "cell_type": "code",
   "source": [
    "# Solve with SolverJMT\n",
    "solver = np.array([], dtype = object)\n",
    "solver = np.append(solver, SolverJMT(model, 'seed', 23000, 'verbose', True))\n",
    "\n",
    "AvgTable = np.empty(len(solver), dtype = object)\n",
    "for s in range(len(solver)):\n",
    "    print(f'\\nSOLVER: {solver[s].getName()}')\n",
    "    AvgTable[s] = solver[s].getAvgTable()"
   ],
   "id": "4c97c44e671ea563",
   "outputs": [
    {
     "name": "stdout",
     "output_type": "stream",
     "text": [
      "\n",
      "SOLVER: SolverJMT\n",
      "JMT Model: /tmp/workspace/jsim/7506848299018704886/jmodel.jsim\n",
      "  Station JobClass    QLen    Util    RespT  ResidT    ArvR    Tput\n",
      "0  Queue1   Class1  0.9601  0.4161   3.7168  0.9292  0.2871  0.2865\n",
      "1  Queue1   Class2  0.7494  0.2795   4.1231  0.6872  0.1907  0.1916\n",
      "2  Queue2   Class1  7.1108  0.4300  24.7030  6.1758  0.2834  0.2826\n",
      "3  Queue2   Class2  9.9742  0.5701  26.3746  8.7915  0.3815  0.3784\n",
      "4   Delay   Class1  0.5610  0.5610   0.9873  0.4937  0.5668  0.5676\n",
      "5   Delay   Class2  0.5668  0.5668   1.0069  0.5034  0.5617  0.5617\n"
     ]
    }
   ],
   "execution_count": 3
  }
 ],
 "metadata": {},
 "nbformat": 4,
 "nbformat_minor": 5
}
