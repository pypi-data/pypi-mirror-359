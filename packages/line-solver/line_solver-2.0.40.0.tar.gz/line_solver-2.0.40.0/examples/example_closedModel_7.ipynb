{
 "cells": [
  {
   "cell_type": "code",
   "metadata": {
    "ExecuteTime": {
     "end_time": "2025-07-01T06:03:50.282947Z",
     "start_time": "2025-07-01T06:03:50.280599Z"
    }
   },
   "source": [
    "from line_solver import *\n",
    "\n",
    "import numpy as np\n",
    "GlobalConstants.setVerbose(VerboseLevel.STD)"
   ],
   "outputs": [],
   "execution_count": 8
  },
  {
   "metadata": {
    "ExecuteTime": {
     "end_time": "2025-07-01T06:03:50.315770Z",
     "start_time": "2025-07-01T06:03:50.314119Z"
    }
   },
   "cell_type": "code",
   "source": [
    "#Comparison of product-form scheduling policies\n",
    "c = 1"
   ],
   "outputs": [],
   "execution_count": 9
  },
  {
   "metadata": {
    "ExecuteTime": {
     "end_time": "2025-07-01T06:03:50.371149Z",
     "start_time": "2025-07-01T06:03:50.367486Z"
    }
   },
   "cell_type": "code",
   "source": [
    "# PS (Processor Sharing) Model\n",
    "psmodel = Network('PS scheduling model')\n",
    "\n",
    "node = np.empty(2, dtype = object)\n",
    "node[0] = Delay(psmodel, 'Delay')\n",
    "node[1] = Queue(psmodel, 'Queue1', SchedStrategy.PS)\n",
    "node[1].setNumberOfServers(c)\n",
    "\n",
    "jobclass = np.empty(2, dtype = object)\n",
    "jobclass[0] = ClosedClass(psmodel, 'Class1', 2, node[0], 0)\n",
    "jobclass[1] = ClosedClass(psmodel, 'Class2', 2, node[0], 0)\n",
    "\n",
    "node[0].setService(jobclass[0], Erlang(3, 2))\n",
    "node[0].setService(jobclass[1], HyperExp(0.5, 3.0, 10.0))\n",
    "node[1].setService(jobclass[0], Exp(1))\n",
    "node[1].setService(jobclass[1], Exp(1))\n",
    "\n",
    "P = psmodel.initRoutingMatrix()\n",
    "P.set(jobclass[0], jobclass[0], node[0], node[1], 1.0)\n",
    "P.set(jobclass[0], jobclass[0], node[1], node[0], 1.0)\n",
    "P.set(jobclass[1], jobclass[1], node[0], node[1], 1.0)\n",
    "P.set(jobclass[1], jobclass[1], node[1], node[0], 1.0)\n",
    "psmodel.link(P)\n",
    "\n"
   ],
   "outputs": [],
   "execution_count": 10
  },
  {
   "metadata": {
    "ExecuteTime": {
     "end_time": "2025-07-01T06:03:50.423253Z",
     "start_time": "2025-07-01T06:03:50.417780Z"
    }
   },
   "cell_type": "code",
   "source": [
    "# FCFS (First-Come-First-Served) Model\n",
    "fcfsmodel = Network('FCFS scheduling model')\n",
    "\n",
    "node = np.empty(2, dtype = object)\n",
    "node[0] = Delay(fcfsmodel, 'Delay')\n",
    "node[1] = Queue(fcfsmodel, 'Queue1', SchedStrategy.FCFS)\n",
    "node[1].setNumberOfServers(c)\n",
    "jobclass = np.empty(2, dtype = object)\n",
    "jobclass[0] = ClosedClass(fcfsmodel, 'Class1', 2, node[0], 0)\n",
    "jobclass[1] = ClosedClass(fcfsmodel, 'Class2', 2, node[0], 0)\n",
    "node[0].setService(jobclass[0], Erlang(3, 2))\n",
    "node[0].setService(jobclass[1], HyperExp(0.5, 3.0, 10.0))\n",
    "node[1].setService(jobclass[0], Exp(1))\n",
    "node[1].setService(jobclass[1], Exp(1))\n",
    "P = fcfsmodel.initRoutingMatrix()\n",
    "P.set(jobclass[0], jobclass[0], node[0], node[1], 1.0)\n",
    "P.set(jobclass[0], jobclass[0], node[1], node[0], 1.0)\n",
    "P.set(jobclass[1], jobclass[1], node[0], node[1], 1.0)\n",
    "P.set(jobclass[1], jobclass[1], node[1], node[0], 1.0)\n",
    "fcfsmodel.link(P)"
   ],
   "outputs": [],
   "execution_count": 11
  },
  {
   "metadata": {
    "ExecuteTime": {
     "end_time": "2025-07-01T06:03:50.472501Z",
     "start_time": "2025-07-01T06:03:50.468367Z"
    }
   },
   "cell_type": "code",
   "source": [
    "# LCFS-PR (Last-Come-First-Served Preemptive Resume) Model\n",
    "lcfsprmodel = Network('LCFS-PR scheduling model')\n",
    "\n",
    "node = np.empty(2, dtype = object)\n",
    "node[0] = Delay(lcfsprmodel, 'Delay')\n",
    "node[1] = Queue(lcfsprmodel, 'Queue1', SchedStrategy.LCFSPR)\n",
    "node[1].setNumberOfServers(c)\n",
    "jobclass = np.empty(2, dtype = object)\n",
    "jobclass[0] = ClosedClass(lcfsprmodel, 'Class1', 2, node[0], 0)\n",
    "jobclass[1] = ClosedClass(lcfsprmodel, 'Class2', 2, node[0], 0)\n",
    "node[0].setService(jobclass[0], Erlang(3, 2))\n",
    "node[0].setService(jobclass[1], HyperExp(0.5, 3.0, 10.0))\n",
    "node[1].setService(jobclass[0], Exp(1))\n",
    "node[1].setService(jobclass[1], Exp(1))\n",
    "P = lcfsprmodel.initRoutingMatrix()\n",
    "P.set(jobclass[0], jobclass[0], node[0], node[1], 1.0)\n",
    "P.set(jobclass[0], jobclass[0], node[1], node[0], 1.0)\n",
    "P.set(jobclass[1], jobclass[1], node[0], node[1], 1.0)\n",
    "P.set(jobclass[1], jobclass[1], node[1], node[0], 1.0)\n",
    "lcfsprmodel.link(P)"
   ],
   "outputs": [],
   "execution_count": 12
  },
  {
   "metadata": {
    "ExecuteTime": {
     "end_time": "2025-07-01T06:03:50.765163Z",
     "start_time": "2025-07-01T06:03:50.519128Z"
    }
   },
   "cell_type": "code",
   "source": [
    "# Solve all mofrls with CTMC solver\n",
    "models = [psmodel, fcfsmodel, lcfsprmodel]\n",
    "model_names = ['PS scheduling model', 'FCFS scheduling model', 'LCFS-PR scheduling model']\n",
    "for i, model in enumerate(models):\n",
    "    print(f'MODEL: {model_names[i]}')\n",
    "    solver = SolverCTMC(model)\n",
    "    avgTable = solver.getAvgTable()"
   ],
   "outputs": [
    {
     "name": "stdout",
     "output_type": "stream",
     "text": [
      "MODEL: PS scheduling model\n",
      "  Station JobClass    QLen    Util   RespT  ResidT    ArvR    Tput\n",
      "0   Delay   Class1  0.3086  0.3086  0.6667  0.6667  0.4629  0.4629\n",
      "1   Delay   Class2  0.1162  0.1162  0.2167  0.2167  0.5365  0.5365\n",
      "2  Queue1   Class1  1.6914  0.4629  3.6538  3.6538  0.4629  0.4629\n",
      "3  Queue1   Class2  1.8838  0.5365  3.5110  3.5110  0.5365  0.5365\n",
      "MODEL: FCFS scheduling model\n",
      "  Station JobClass    QLen    Util   RespT  ResidT    ArvR    Tput\n",
      "0   Delay   Class1  0.3086  0.3086  0.6667  0.6667  0.4629  0.4629\n",
      "1   Delay   Class2  0.1162  0.1162  0.2167  0.2167  0.5365  0.5365\n",
      "2  Queue1   Class1  1.6914  0.4629  3.6538  3.6538  0.4629  0.4629\n",
      "3  Queue1   Class2  1.8838  0.5365  3.5110  3.5110  0.5365  0.5365\n",
      "MODEL: LCFS-PR scheduling model\n"
     ]
    },
    {
     "name": "stderr",
     "output_type": "stream",
     "text": [
      "java.lang.RuntimeException: LCFSPR scheduling not supported\n",
      "\tat jline.lang.state.State.afterEvent(State.java:2236)\n",
      "\tat jline.lang.state.State.afterEvent(State.java:1763)\n",
      "\tat jline.lang.state.State.afterEventHashed(State.java:4635)\n",
      "\tat jline.solvers.ctmc.SolverCTMC.solver_ctmc(SolverCTMC.java:1162)\n",
      "\tat jline.solvers.ctmc.SolverCTMC.solver_ctmc_analyzer(SolverCTMC.java:770)\n",
      "\tat jline.solvers.ctmc.SolverCTMC.runAnalyzer(SolverCTMC.java:554)\n",
      "\tat jline.solvers.NetworkSolver.getAvg(NetworkSolver.java:266)\n",
      "\tat jline.solvers.NetworkSolver.getAvgTable(NetworkSolver.java:592)\n"
     ]
    },
    {
     "ename": "java.lang.RuntimeException",
     "evalue": "java.lang.RuntimeException: Unable to compute results and therefore unable to print AvgTable.",
     "output_type": "error",
     "traceback": [
      "\u001B[31m---------------------------------------------------------------------------\u001B[39m",
      "\u001B[31mException\u001B[39m                                 Traceback (most recent call last)",
      "\u001B[36mFile \u001B[39m\u001B[32mNetworkSolver.java:606\u001B[39m, in \u001B[36mjline.solvers.NetworkSolver.getAvgTable\u001B[39m\u001B[34m()\u001B[39m\n",
      "\u001B[31mException\u001B[39m: Java Exception",
      "\nThe above exception was the direct cause of the following exception:\n",
      "\u001B[31mjava.lang.RuntimeException\u001B[39m                Traceback (most recent call last)",
      "\u001B[36mCell\u001B[39m\u001B[36m \u001B[39m\u001B[32mIn[13]\u001B[39m\u001B[32m, line 7\u001B[39m\n\u001B[32m      5\u001B[39m \u001B[38;5;28mprint\u001B[39m(\u001B[33mf\u001B[39m\u001B[33m'\u001B[39m\u001B[33mMODEL: \u001B[39m\u001B[38;5;132;01m{\u001B[39;00mmodel_names[i]\u001B[38;5;132;01m}\u001B[39;00m\u001B[33m'\u001B[39m)\n\u001B[32m      6\u001B[39m solver = SolverCTMC(model)\n\u001B[32m----> \u001B[39m\u001B[32m7\u001B[39m avgTable = \u001B[43msolver\u001B[49m\u001B[43m.\u001B[49m\u001B[43mgetAvgTable\u001B[49m\u001B[43m(\u001B[49m\u001B[43m)\u001B[49m\n",
      "\u001B[36mFile \u001B[39m\u001B[32m/mnt/c/Users/gcasale/Dropbox/code/line-solver.git/python/line_solver/solvers.py:181\u001B[39m, in \u001B[36mNetworkSolver.getAvgTable\u001B[39m\u001B[34m(self)\u001B[39m\n\u001B[32m    180\u001B[39m \u001B[38;5;28;01mdef\u001B[39;00m\u001B[38;5;250m \u001B[39m\u001B[34mgetAvgTable\u001B[39m(\u001B[38;5;28mself\u001B[39m):\n\u001B[32m--> \u001B[39m\u001B[32m181\u001B[39m     table = \u001B[38;5;28;43mself\u001B[39;49m\u001B[43m.\u001B[49m\u001B[43mobj\u001B[49m\u001B[43m.\u001B[49m\u001B[43mgetAvgTable\u001B[49m\u001B[43m(\u001B[49m\u001B[43m)\u001B[49m\n\u001B[32m    183\u001B[39m     \u001B[38;5;66;03m# convert to NumPy\u001B[39;00m\n\u001B[32m    185\u001B[39m     QLen = np.array(\u001B[38;5;28mlist\u001B[39m(table.getQLen()))\n",
      "\u001B[31mjava.lang.RuntimeException\u001B[39m: java.lang.RuntimeException: Unable to compute results and therefore unable to print AvgTable."
     ]
    }
   ],
   "execution_count": 13
  }
 ],
 "metadata": {
  "kernelspec": {
   "display_name": "Python 3",
   "language": "python",
   "name": "python3"
  },
  "language_info": {
   "codemirror_mode": {
    "name": "ipython",
    "version": 3
   },
   "file_extension": ".py",
   "mimetype": "text/x-python",
   "name": "python",
   "nbconvert_exporter": "python",
   "pygments_lexer": "ipython3",
   "version": "3.8.0"
  }
 },
 "nbformat": 4,
 "nbformat_minor": 4
}
