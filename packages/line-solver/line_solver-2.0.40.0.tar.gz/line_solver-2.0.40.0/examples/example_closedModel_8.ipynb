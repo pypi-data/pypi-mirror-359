{
 "cells": [
  {
   "metadata": {
    "ExecuteTime": {
     "end_time": "2025-07-01T06:03:21.816141Z",
     "start_time": "2025-07-01T06:03:20.433255Z"
    }
   },
   "cell_type": "code",
   "source": [
    "from line_solver import *\n",
    "\n",
    "import numpy as np\n",
    "GlobalConstants.setVerbose(VerboseLevel.STD)"
   ],
   "outputs": [],
   "execution_count": 1
  },
  {
   "metadata": {
    "ExecuteTime": {
     "end_time": "2025-07-01T06:03:21.909687Z",
     "start_time": "2025-07-01T06:03:21.888534Z"
    }
   },
   "cell_type": "code",
   "source": [
    "# Closed model with load-dependent service\n",
    "model = Network('model')\n",
    "\n",
    "node = np.empty(2, dtype = object)\n",
    "node[0] = Delay(model, 'Delay')\n",
    "node[1] = Queue(model, 'Queue1', SchedStrategy.PS)\n",
    "jobclass = np.empty(1, dtype = object)\n",
    "jobclass[0] = ClosedClass(model, 'Class1', 3, node[0], 0)\n",
    "node[0].setService(jobclass[0], Exp(1))#Load-dependent service with different rates based on queue length\n",
    "node[1].setService(jobclass[0], Exp(1))  #Base rate\n",
    "P = model.initRoutingMatrix()\n",
    "P.set(jobclass[0], jobclass[0], node[0], node[1], 1.0)\n",
    "P.set(jobclass[0], jobclass[0], node[1], node[0], 1.0)\n",
    "model.link(P)"
   ],
   "outputs": [],
   "execution_count": 2
  },
  {
   "metadata": {
    "ExecuteTime": {
     "end_time": "2025-07-01T06:03:22.124769Z",
     "start_time": "2025-07-01T06:03:21.929136Z"
    }
   },
   "cell_type": "code",
   "source": [
    "# Solve with multiple solvers\n",
    "solvers = [    SolverCTMC(model),    SolverMVA(model, 'exact'),    SolverNC(model, 'exact')]\n",
    "for solver in solvers:\n",
    "    print(f'SOLVER: {solver.getName()}')\n",
    "    avgTable = solver.getAvgTable()"
   ],
   "outputs": [
    {
     "name": "stdout",
     "output_type": "stream",
     "text": [
      "SOLVER: SolverCTMC\n",
      "  Station JobClass    QLen    Util  RespT  ResidT    ArvR    Tput\n",
      "0   Delay   Class1  0.9375  0.9375    1.0     1.0  0.9375  0.9375\n",
      "1  Queue1   Class1  2.0625  0.9375    2.2     2.2  0.9375  0.9375\n",
      "SOLVER: SolverMVA\n",
      "MVA [method: exact, lang: java, env: 21.0.7] completed in 0.011000s.\n",
      "  Station JobClass    QLen    Util  RespT  ResidT    ArvR    Tput\n",
      "0   Delay   Class1  0.9375  0.3125    1.0     1.0  0.9375  0.9375\n",
      "1  Queue1   Class1  2.0625  0.9375    2.2     2.2  0.9375  0.9375\n",
      "SOLVER: SolverNC\n",
      "NC [method: exact, lang: java, env: 21.0.7] completed in 0.040000s.\n",
      "  Station JobClass    QLen    Util  RespT  ResidT    ArvR    Tput\n",
      "0   Delay   Class1  0.9375  0.3125    1.0     1.0  0.9375  0.9375\n",
      "1  Queue1   Class1  2.0625  0.9375    2.2     2.2  0.9375  0.9375\n"
     ]
    }
   ],
   "execution_count": 3
  }
 ],
 "metadata": {
  "kernelspec": {
   "display_name": "Python 3",
   "language": "python",
   "name": "python3"
  },
  "language_info": {
   "codemirror_mode": {
    "name": "ipython",
    "version": 3
   },
   "file_extension": ".py",
   "mimetype": "text/x-python",
   "name": "python",
   "nbconvert_exporter": "python",
   "pygments_lexer": "ipython3",
   "version": "3.8.0"
  }
 },
 "nbformat": 4,
 "nbformat_minor": 4
}
