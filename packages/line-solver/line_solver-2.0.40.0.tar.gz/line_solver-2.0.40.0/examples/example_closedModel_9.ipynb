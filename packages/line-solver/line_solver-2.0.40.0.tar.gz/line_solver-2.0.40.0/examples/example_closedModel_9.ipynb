{
 "cells": [
  {
   "cell_type": "code",
   "metadata": {
    "ExecuteTime": {
     "end_time": "2025-07-01T06:03:14.668766Z",
     "start_time": "2025-07-01T06:03:13.460822Z"
    }
   },
   "source": [
    "from line_solver import *\n",
    "\n",
    "import numpy as np\n",
    "GlobalConstants.setVerbose(VerboseLevel.STD)"
   ],
   "outputs": [],
   "execution_count": 1
  },
  {
   "metadata": {
    "ExecuteTime": {
     "end_time": "2025-07-01T06:03:14.770023Z",
     "start_time": "2025-07-01T06:03:14.738639Z"
    }
   },
   "cell_type": "code",
   "source": [
    "# Multi-class closed queueing network\n",
    "\n",
    "model = Network('model')\n",
    "\n",
    "node = np.empty(3, dtype = object)\n",
    "node[0] = Delay(model, 'Delay')\n",
    "node[1] = Queue(model, 'Queue1', SchedStrategy.FCFS)\n",
    "node[2] = Queue(model, 'Queue2', SchedStrategy.PS)\n",
    "jobclass = np.empty(3, dtype = object)\n",
    "jobclass[0] = ClosedClass(model, 'Class1', 2, node[0], 0)\n",
    "jobclass[1] = ClosedClass(model, 'Class2', 3, node[0], 0)\n",
    "jobclass[2] = ClosedClass(model, 'Class3', 1, node[0], 0)# Service time distributions\n",
    "node[0].setService(jobclass[0], Exp(2))\n",
    "node[0].setService(jobclass[1], Exp(1))\n",
    "node[0].setService(jobclass[2], Exp(0.5))\n",
    "node[1].setService(jobclass[0], Exp(1))\n",
    "node[1].setService(jobclass[1], Exp(2))\n",
    "node[1].setService(jobclass[2], Exp(1))\n",
    "node[2].setService(jobclass[0], Exp(3))\n",
    "node[2].setService(jobclass[1], Exp(1))\n",
    "node[2].setService(jobclass[2], Exp(2))# Routing probabilities\n",
    "\n",
    "P = model.initRoutingMatrix()# Class 1 routing\n",
    "P.set(jobclass[0], jobclass[0], node[0], node[1], 0.6)\n",
    "P.set(jobclass[0], jobclass[0], node[0], node[2], 0.4)\n",
    "P.set(jobclass[0], jobclass[0], node[1], node[0], 1.0)\n",
    "P.set(jobclass[0], jobclass[0], node[2], node[0], 1.0)# Class 2 routing\n",
    "P.set(jobclass[1], jobclass[1], node[0], node[1], 0.3)\n",
    "P.set(jobclass[1], jobclass[1], node[0], node[2], 0.7)\n",
    "P.set(jobclass[1], jobclass[1], node[1], node[0], 1.0)\n",
    "P.set(jobclass[1], jobclass[1], node[2], node[0], 1.0)# Class 3 routing\n",
    "P.set(jobclass[2], jobclass[2], node[0], node[1], 0.8)\n",
    "P.set(jobclass[2], jobclass[2], node[0], node[2], 0.2)\n",
    "P.set(jobclass[2], jobclass[2], node[1], node[0], 1.0)\n",
    "P.set(jobclass[2], jobclass[2], node[2], node[0], 1.0)\n",
    "model.link(P)"
   ],
   "outputs": [],
   "execution_count": 2
  },
  {
   "metadata": {
    "ExecuteTime": {
     "end_time": "2025-07-01T06:03:15.266231Z",
     "start_time": "2025-07-01T06:03:14.812086Z"
    }
   },
   "cell_type": "code",
   "source": [
    "# Solve with various methods\n",
    "solvers = [    SolverMVA(model, 'exact'),    SolverCTMC(model),    SolverJMT(model, 'seed', 23000, 'samples', 10000)]\n",
    "for solver in solvers:\n",
    "    print(f'SOLVER: {solver.getName()}')\n",
    "    avgTable = solver.getAvgTable()"
   ],
   "outputs": [
    {
     "name": "stdout",
     "output_type": "stream",
     "text": [
      "SOLVER: SolverMVA\n"
     ]
    },
    {
     "name": "stderr",
     "output_type": "stream",
     "text": [
      "Jul 01, 2025 7:03:14 AM jline.io.InputOutputKt line_printf\n",
      "SEVERE: [runAnalyzer] The exact method requires the model to have a product-form solution. This model does not have one.\n",
      "java.lang.RuntimeException: [runAnalyzer] The exact method requires the model to have a product-form solution. This model does not have one.\n",
      "\tat jline.io.InputOutputKt.line_error(InputOutput.kt:78)\n",
      "\tat jline.solvers.mva.MVARunner.runAnalyzer(MVARunner.java:184)\n",
      "\tat jline.solvers.mva.SolverMVA.runAnalyzer(SolverMVA.java:102)\n",
      "\tat jline.solvers.NetworkSolver.getAvg(NetworkSolver.java:266)\n",
      "\tat jline.solvers.NetworkSolver.getAvgTable(NetworkSolver.java:592)\n"
     ]
    },
    {
     "ename": "java.lang.RuntimeException",
     "evalue": "java.lang.RuntimeException: Unable to compute results and therefore unable to print AvgTable.",
     "output_type": "error",
     "traceback": [
      "\u001B[31m---------------------------------------------------------------------------\u001B[39m",
      "\u001B[31mException\u001B[39m                                 Traceback (most recent call last)",
      "\u001B[36mFile \u001B[39m\u001B[32mNetworkSolver.java:606\u001B[39m, in \u001B[36mjline.solvers.NetworkSolver.getAvgTable\u001B[39m\u001B[34m()\u001B[39m\n",
      "\u001B[31mException\u001B[39m: Java Exception",
      "\nThe above exception was the direct cause of the following exception:\n",
      "\u001B[31mjava.lang.RuntimeException\u001B[39m                Traceback (most recent call last)",
      "\u001B[36mCell\u001B[39m\u001B[36m \u001B[39m\u001B[32mIn[3]\u001B[39m\u001B[32m, line 5\u001B[39m\n\u001B[32m      3\u001B[39m \u001B[38;5;28;01mfor\u001B[39;00m solver \u001B[38;5;129;01min\u001B[39;00m solvers:\n\u001B[32m      4\u001B[39m     \u001B[38;5;28mprint\u001B[39m(\u001B[33mf\u001B[39m\u001B[33m'\u001B[39m\u001B[33mSOLVER: \u001B[39m\u001B[38;5;132;01m{\u001B[39;00msolver.getName()\u001B[38;5;132;01m}\u001B[39;00m\u001B[33m'\u001B[39m)\n\u001B[32m----> \u001B[39m\u001B[32m5\u001B[39m     avgTable = \u001B[43msolver\u001B[49m\u001B[43m.\u001B[49m\u001B[43mgetAvgTable\u001B[49m\u001B[43m(\u001B[49m\u001B[43m)\u001B[49m\n",
      "\u001B[36mFile \u001B[39m\u001B[32m/mnt/c/Users/gcasale/Dropbox/code/line-solver.git/python/line_solver/solvers.py:181\u001B[39m, in \u001B[36mNetworkSolver.getAvgTable\u001B[39m\u001B[34m(self)\u001B[39m\n\u001B[32m    180\u001B[39m \u001B[38;5;28;01mdef\u001B[39;00m\u001B[38;5;250m \u001B[39m\u001B[34mgetAvgTable\u001B[39m(\u001B[38;5;28mself\u001B[39m):\n\u001B[32m--> \u001B[39m\u001B[32m181\u001B[39m     table = \u001B[38;5;28;43mself\u001B[39;49m\u001B[43m.\u001B[49m\u001B[43mobj\u001B[49m\u001B[43m.\u001B[49m\u001B[43mgetAvgTable\u001B[49m\u001B[43m(\u001B[49m\u001B[43m)\u001B[49m\n\u001B[32m    183\u001B[39m     \u001B[38;5;66;03m# convert to NumPy\u001B[39;00m\n\u001B[32m    185\u001B[39m     QLen = np.array(\u001B[38;5;28mlist\u001B[39m(table.getQLen()))\n",
      "\u001B[31mjava.lang.RuntimeException\u001B[39m: java.lang.RuntimeException: Unable to compute results and therefore unable to print AvgTable."
     ]
    }
   ],
   "execution_count": 3
  }
 ],
 "metadata": {
  "kernelspec": {
   "display_name": "Python 3",
   "language": "python",
   "name": "python3"
  },
  "language_info": {
   "codemirror_mode": {
    "name": "ipython",
    "version": 3
   },
   "file_extension": ".py",
   "mimetype": "text/x-python",
   "name": "python",
   "nbconvert_exporter": "python",
   "pygments_lexer": "ipython3",
   "version": "3.8.0"
  }
 },
 "nbformat": 4,
 "nbformat_minor": 4
}
