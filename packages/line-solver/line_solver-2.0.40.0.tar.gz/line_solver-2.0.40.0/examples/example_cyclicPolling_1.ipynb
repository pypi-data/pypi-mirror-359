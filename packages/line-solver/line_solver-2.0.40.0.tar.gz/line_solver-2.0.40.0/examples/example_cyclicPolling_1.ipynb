{
 "cells": [
  {
   "cell_type": "code",
   "metadata": {
    "ExecuteTime": {
     "end_time": "2025-07-01T06:07:53.432312Z",
     "start_time": "2025-07-01T06:07:53.430143Z"
    }
   },
   "source": [
    "from line_solver import *\n",
    "import numpy as np\n",
    "GlobalConstants.setVerbose(VerboseLevel.STD)"
   ],
   "outputs": [],
   "execution_count": 14
  },
  {
   "cell_type": "code",
   "metadata": {
    "ExecuteTime": {
     "end_time": "2025-07-01T06:07:53.452109Z",
     "start_time": "2025-07-01T06:07:53.450387Z"
    }
   },
   "source": [
    "#Cyclic Polling System Example 1\n",
    "#Models polling systems with cyclic server behavior\n",
    "model = Network('model')"
   ],
   "outputs": [],
   "execution_count": 15
  },
  {
   "cell_type": "code",
   "metadata": {
    "ExecuteTime": {
     "end_time": "2025-07-01T06:07:53.511110Z",
     "start_time": "2025-07-01T06:07:53.497239Z"
    }
   },
   "source": [
    "#Create polling system with 3 queues\n",
    "num_queues = 3\n",
    "node = np.empty(num_queues + 1, dtype = object)\n",
    "node[0] = Source(model, 'Source')\n",
    "for i in range(1, num_queues + 1):\n",
    "    node[i] = Queue(model, f'Queue{i}', SchedStrategy.POLLING)\n",
    "jobclass = OpenClass(model, 'Class1')"
   ],
   "outputs": [
    {
     "ename": "AttributeError",
     "evalue": "type object 'SchedStrategy' has no attribute 'POLLING'",
     "output_type": "error",
     "traceback": [
      "\u001B[31m---------------------------------------------------------------------------\u001B[39m",
      "\u001B[31mAttributeError\u001B[39m                            Traceback (most recent call last)",
      "\u001B[36mCell\u001B[39m\u001B[36m \u001B[39m\u001B[32mIn[16]\u001B[39m\u001B[32m, line 6\u001B[39m\n\u001B[32m      4\u001B[39m node[\u001B[32m0\u001B[39m] = Source(model, \u001B[33m'\u001B[39m\u001B[33mSource\u001B[39m\u001B[33m'\u001B[39m)\n\u001B[32m      5\u001B[39m \u001B[38;5;28;01mfor\u001B[39;00m i \u001B[38;5;129;01min\u001B[39;00m \u001B[38;5;28mrange\u001B[39m(\u001B[32m1\u001B[39m, num_queues + \u001B[32m1\u001B[39m):\n\u001B[32m----> \u001B[39m\u001B[32m6\u001B[39m     node[i] = Queue(model, \u001B[33mf\u001B[39m\u001B[33m'\u001B[39m\u001B[33mQueue\u001B[39m\u001B[38;5;132;01m{\u001B[39;00mi\u001B[38;5;132;01m}\u001B[39;00m\u001B[33m'\u001B[39m, \u001B[43mSchedStrategy\u001B[49m\u001B[43m.\u001B[49m\u001B[43mPOLLING\u001B[49m)\n\u001B[32m      7\u001B[39m jobclass = OpenClass(model, \u001B[33m'\u001B[39m\u001B[33mClass1\u001B[39m\u001B[33m'\u001B[39m)\n",
      "\u001B[31mAttributeError\u001B[39m: type object 'SchedStrategy' has no attribute 'POLLING'"
     ]
    }
   ],
   "execution_count": 16
  },
  {
   "cell_type": "code",
   "execution_count": null,
   "metadata": {},
   "outputs": [],
   "source": [
    "# Configure polling parameters\n",
    "node[0].setArrival(jobclass, Exp(0.8))\n",
    "for i in range(1, num_queues + 1):\n",
    "    node[i].setService(jobclass, Exp(1.5))\n",
    "    # Set polling parameters (switchover times, etc.)\n",
    "    node[i].setPollingType('cyclic')"
   ]
  },
  {
   "cell_type": "code",
   "metadata": {
    "ExecuteTime": {
     "end_time": "2025-07-01T06:07:53.547397300Z",
     "start_time": "2025-07-01T06:07:27.041043Z"
    }
   },
   "source": [
    "# Cyclic routing for polling\n",
    "P = model.initRoutingMatrix()\n",
    "P.set(jobclass, jobclass, node[0], node[1], 1.0)\n",
    "\n",
    "# Arrive at first queue\n",
    "# Cyclic polling routing would be configured here\n",
    "# For simplification, using basic routing\n",
    "for i in range(1, num_queues):\n",
    "    P.set(jobclass, jobclass, node[i], node[i+1], 1.0)\n",
    "model.link(P)"
   ],
   "outputs": [
    {
     "ename": "NameError",
     "evalue": "name 'jobclass' is not defined",
     "output_type": "error",
     "traceback": [
      "\u001B[31m---------------------------------------------------------------------------\u001B[39m",
      "\u001B[31mNameError\u001B[39m                                 Traceback (most recent call last)",
      "\u001B[36mCell\u001B[39m\u001B[36m \u001B[39m\u001B[32mIn[9]\u001B[39m\u001B[32m, line 3\u001B[39m\n\u001B[32m      1\u001B[39m \u001B[38;5;66;03m# Cyclic routing for polling\u001B[39;00m\n\u001B[32m      2\u001B[39m P = model.initRoutingMatrix()\n\u001B[32m----> \u001B[39m\u001B[32m3\u001B[39m P.set(\u001B[43mjobclass\u001B[49m, jobclass, node[\u001B[32m0\u001B[39m], node[\u001B[32m1\u001B[39m], \u001B[32m1.0\u001B[39m)\n\u001B[32m      4\u001B[39m \u001B[38;5;66;03m# Arrive at first queue\u001B[39;00m\n\u001B[32m      5\u001B[39m \u001B[38;5;66;03m# Cyclic polling routing would be configured here\u001B[39;00m\n\u001B[32m      6\u001B[39m \u001B[38;5;66;03m# For simplification, using basic routing\u001B[39;00m\n\u001B[32m      7\u001B[39m \u001B[38;5;28;01mfor\u001B[39;00m i \u001B[38;5;129;01min\u001B[39;00m \u001B[38;5;28mrange\u001B[39m(\u001B[32m1\u001B[39m, num_queues):\n",
      "\u001B[31mNameError\u001B[39m: name 'jobclass' is not defined"
     ]
    }
   ],
   "execution_count": 9
  },
  {
   "cell_type": "code",
   "metadata": {
    "ExecuteTime": {
     "end_time": "2025-07-01T06:07:53.549555900Z",
     "start_time": "2025-07-01T06:07:44.693493Z"
    }
   },
   "source": [
    "# Solve polling system\n",
    "solver = SolverJMT(model, 'samples', 10000)\n",
    "print(solver.getAvgTable())"
   ],
   "outputs": [
    {
     "ename": "SyntaxError",
     "evalue": "invalid syntax (2585138721.py, line 2)",
     "output_type": "error",
     "traceback": [
      "  \u001B[36mCell\u001B[39m\u001B[36m \u001B[39m\u001B[32mIn[10]\u001B[39m\u001B[32m, line 2\u001B[39m\n\u001B[31m    \u001B[39m\u001B[31msolver = SolverJMT(model, 'samples', 10000)print(solver.getAvgTable())\u001B[39m\n                                               ^\n\u001B[31mSyntaxError\u001B[39m\u001B[31m:\u001B[39m invalid syntax\n"
     ]
    }
   ],
   "execution_count": 10
  }
 ],
 "metadata": {
  "kernelspec": {
   "display_name": "Python 3",
   "language": "python",
   "name": "python3"
  },
  "language_info": {
   "codemirror_mode": {
    "name": "ipython",
    "version": 3
   },
   "file_extension": ".py",
   "mimetype": "text/x-python",
   "name": "python",
   "nbconvert_exporter": "python",
   "pygments_lexer": "ipython3",
   "version": "3.8.0"
  }
 },
 "nbformat": 4,
 "nbformat_minor": 4
}
