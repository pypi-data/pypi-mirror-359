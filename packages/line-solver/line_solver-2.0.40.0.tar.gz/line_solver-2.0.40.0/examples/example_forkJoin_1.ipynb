{
 "cells": [
  {
   "cell_type": "code",
   "id": "initial_id",
   "metadata": {
    "collapsed": true,
    "ExecuteTime": {
     "end_time": "2025-05-17T06:52:04.444870Z",
     "start_time": "2025-05-17T06:52:03.764812Z"
    }
   },
   "source": [
    "import time\n",
    "from line_solver import *\n",
    "GlobalConstants.setVerbose(VerboseLevel.STD)"
   ],
   "outputs": [],
   "execution_count": 1
  },
  {
   "cell_type": "code",
   "source": [
    "t = time.time()\n",
    "model = Network('model')\n",
    "\n",
    "source = Source(model,'Source')\n",
    "queue1 = Queue(model,'Queue1',SchedStrategy.FCFS)\n",
    "queue2 = Queue(model,'Queue2',SchedStrategy.FCFS)\n",
    "fork = Fork(model,'Fork')\n",
    "join = Join(model,'Join', fork)\n",
    "sink = Sink(model,'Sink')\n",
    "\n",
    "jobclass1 = OpenClass(model, 'class1')\n",
    "\n",
    "source.setArrival(jobclass1, Exp(0.05))\n",
    "queue1.setService(jobclass1, Exp(1.0))\n",
    "queue2.setService(jobclass1, Exp(2.0))\n",
    "\n",
    "P = model.initRoutingMatrix()\n",
    "P.set(jobclass1, jobclass1, source, fork, 1.0)\n",
    "P.set(jobclass1, jobclass1, fork, queue1, 1.0)\n",
    "P.set(jobclass1, jobclass1, fork, queue2, 1.0)\n",
    "P.set(jobclass1, jobclass1, queue1, join, 1.0)\n",
    "P.set(jobclass1, jobclass1, queue2, join, 1.0)\n",
    "P.set(jobclass1, jobclass1, join, sink, 1.0)\n",
    "\n",
    "model.link(P)"
   ],
   "metadata": {
    "collapsed": false,
    "ExecuteTime": {
     "end_time": "2025-05-17T06:52:04.468971Z",
     "start_time": "2025-05-17T06:52:04.448190Z"
    }
   },
   "id": "3b204d2d5a3a029f",
   "outputs": [],
   "execution_count": 2
  },
  {
   "cell_type": "code",
   "source": [
    "solver = np.array([], dtype=object)\n",
    "solver = np.append(solver, SolverJMT(model,'seed',23000,'verbose',False,'keep',True))\n",
    "solver = np.append(solver, SolverMVA(model)) # this worked before, so a regression error\n",
    "\n",
    "AvgTable = np.empty(len(solver), dtype=object)\n",
    "for s in range(len(solver)):\n",
    "    print(f'\\nSOLVER: {solver[s].getName()}')\n",
    "    AvgTable[s] = solver[s].getAvgTable()\n",
    "    "
   ],
   "metadata": {
    "collapsed": false,
    "ExecuteTime": {
     "end_time": "2025-05-17T06:52:05.515756Z",
     "start_time": "2025-05-17T06:52:04.553527Z"
    }
   },
   "id": "19b311ca76098e3c",
   "outputs": [
    {
     "name": "stdout",
     "output_type": "stream",
     "text": [
      "\n",
      "SOLVER: SolverJMT\n",
      "  Station JobClass    QLen    Util   RespT  ResidT    ArvR    Tput\n",
      "0  Source   class1  0.0000  0.0000  0.0000  0.0000  0.0000  0.0511\n",
      "1  Queue1   class1  0.0555  0.0519  1.0825  0.5412  0.0511  0.0509\n",
      "2  Queue2   class1  0.0262  0.0256  0.5022  0.2511  0.0511  0.0511\n",
      "3    Join   class1  0.0466  0.0000  0.4520  0.4520  0.1026  0.0509\n",
      "\n",
      "SOLVER: SolverMVA\n",
      "  Station JobClass    QLen   Util   RespT  ResidT  ArvR  Tput\n",
      "0  Source   class1  0.0000  0.000  0.0000  0.0000  0.00  0.05\n",
      "1  Queue1   class1  0.0526  0.050  1.0517  0.5259  0.05  0.05\n",
      "2  Queue2   class1  0.0256  0.025  0.5125  0.2562  0.05  0.05\n",
      "3    Join   class1  0.0437  0.000  0.4373  0.4373  0.10  0.05\n"
     ]
    }
   ],
   "execution_count": 3
  }
 ],
 "metadata": {
  "kernelspec": {
   "display_name": "Python 3",
   "language": "python",
   "name": "python3"
  },
  "language_info": {
   "codemirror_mode": {
    "name": "ipython",
    "version": 2
   },
   "file_extension": ".py",
   "mimetype": "text/x-python",
   "name": "python",
   "nbconvert_exporter": "python",
   "pygments_lexer": "ipython2",
   "version": "2.7.6"
  }
 },
 "nbformat": 4,
 "nbformat_minor": 5
}
