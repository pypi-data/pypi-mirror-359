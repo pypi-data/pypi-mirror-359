{
 "cells": [
  {
   "cell_type": "code",
   "execution_count": null,
   "metadata": {},
   "outputs": [],
   "source": [
    "from line_solver import *\n",
    "import numpy as np\n",
    "GlobalConstants.setVerbose(VerboseLevel.STD)"
   ]
  },
  {
   "cell_type": "code",
   "execution_count": null,
   "metadata": {},
   "outputs": [],
   "source": [
    "#Advanced Fork-Join Example 11#Complex fork-join with 1 parallel branches\n",
    "model = Network('model')\n",
    "\n"
   ]
  },
  {
   "cell_type": "code",
   "execution_count": null,
   "metadata": {},
   "outputs": [],
   "source": [
    "num_branches = 1#Create complex fork-join networksourc\n",
    "e = Source(model, 'Source')\n",
    "fork = Fork(model, 'Fork')\n",
    "fork.setTasksPerLink(num_branches)#Create multiple parallel queuesqueue\n",
    "s = []for i in range(num_branches):    queue = Queue(model, f'Queue{i+1}', SchedStrategy.PS)\n",
    "queues.append(queue)\n",
    "\n",
    "joi\n",
    "n = Join(model, 'Join', fork)\n",
    "sink = Sink(model, 'Sink')\n",
    "\n",
    "jobclas\n",
    "s = OpenClass(model, 'Class1')\n",
    "\n"
   ]
  },
  {
   "cell_type": "code",
   "execution_count": null,
   "metadata": {},
   "outputs": [],
   "source": [
    "#Service configurationssource.setArrival(jobclass, Exp(0.5))for i, queue in enumerate(queues):    queue.setService(jobclass, Exp(1.0 + i * 0.1))\n",
    "\n"
   ]
  },
  {
   "cell_type": "code",
   "execution_count": null,
   "metadata": {},
   "outputs": [],
   "source": [
    "# Fork-join routingP = model.initRoutingMatrix()\n",
    "P.set(jobclass, jobclass, source, fork, 1.0)for queue in queues:    P.set(jobclass, jobclass, fork, queue, 1.0)\n",
    "P.set(jobclass, jobclass, queue, join, 1.0)\n",
    "P.set(jobclass, jobclass, join, sink, 1.0)\n",
    "model.link(P)\n",
    "\n"
   ]
  },
  {
   "cell_type": "code",
   "execution_count": null,
   "metadata": {},
   "outputs": [],
   "source": [
    "#Solver\n",
    "solver = SolverJMT(model, 'samples', 10000)\n",
    "print(solver.getAvgTable())"
   ]
  }
 ],
 "metadata": {
  "kernelspec": {
   "display_name": "Python 3",
   "language": "python",
   "name": "python3"
  },
  "language_info": {
   "codemirror_mode": {
    "name": "ipython",
    "version": 3
   },
   "file_extension": ".py",
   "mimetype": "text/x-python",
   "name": "python",
   "nbconvert_exporter": "python",
   "pygments_lexer": "ipython3",
   "version": "3.8.0"
  }
 },
 "nbformat": 4,
 "nbformat_minor": 4
}
