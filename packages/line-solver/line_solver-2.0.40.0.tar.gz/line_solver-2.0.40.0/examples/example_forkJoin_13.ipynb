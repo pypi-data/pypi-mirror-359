{
 "cells": [
  {
   "cell_type": "code",
   "metadata": {
    "ExecuteTime": {
     "end_time": "2025-07-01T07:22:37.137697Z",
     "start_time": "2025-07-01T07:22:35.580655Z"
    }
   },
   "source": [
    "from line_solver import *\n",
    "import numpy as np\n",
    "GlobalConstants.setVerbose(VerboseLevel.STD)"
   ],
   "outputs": [],
   "execution_count": 1
  },
  {
   "cell_type": "code",
   "metadata": {
    "ExecuteTime": {
     "end_time": "2025-07-01T07:22:37.222577Z",
     "start_time": "2025-07-01T07:22:37.216480Z"
    }
   },
   "source": [
    "#Advanced Fork-Join Example 13\n",
    "#Complex fork-join with 3 parallel branches\n",
    "model = Network('model')"
   ],
   "outputs": [],
   "execution_count": 2
  },
  {
   "cell_type": "code",
   "metadata": {
    "ExecuteTime": {
     "end_time": "2025-07-01T07:22:37.283169Z",
     "start_time": "2025-07-01T07:22:37.266674Z"
    }
   },
   "source": [
    "num_branches = 3 #Create complex fork-join network\n",
    "source = Source(model, 'Source')\n",
    "fork = Fork(model, 'Fork')\n",
    "fork.setTasksPerLink(num_branches)#Create multiple parallel queues\n",
    "queues = []\n",
    "for i in range(num_branches):\n",
    "    queue = Queue(model, f'Queue{i+1}', SchedStrategy.PS)\n",
    "queues.append(queue)\n",
    "\n",
    "join = Join(model, 'Join', fork)\n",
    "sink = Sink(model, 'Sink')\n",
    "\n",
    "jobclass = OpenClass(model, 'Class1')"
   ],
   "outputs": [],
   "execution_count": 3
  },
  {
   "cell_type": "code",
   "metadata": {
    "ExecuteTime": {
     "end_time": "2025-07-01T07:22:37.325029Z",
     "start_time": "2025-07-01T07:22:37.317814Z"
    }
   },
   "source": [
    "#Service configurations\n",
    "source.setArrival(jobclass, Exp(0.5))\n",
    "for i, queue in enumerate(queues):\n",
    "    queue.setService(jobclass, Exp(1.0 + i * 0.1))"
   ],
   "outputs": [],
   "execution_count": 4
  },
  {
   "cell_type": "code",
   "metadata": {
    "ExecuteTime": {
     "end_time": "2025-07-01T07:22:37.374305Z",
     "start_time": "2025-07-01T07:22:37.367456Z"
    }
   },
   "source": [
    "# Fork-join routing\n",
    "P = model.initRoutingMatrix()\n",
    "P.set(jobclass, jobclass, source, fork, 1.0)\n",
    "for queue in queues:\n",
    "    P.set(jobclass, jobclass, fork, queue, 1.0)\n",
    "P.set(jobclass, jobclass, queue, join, 1.0)\n",
    "P.set(jobclass, jobclass, join, sink, 1.0)\n",
    "model.link(P)"
   ],
   "outputs": [],
   "execution_count": 5
  },
  {
   "cell_type": "code",
   "metadata": {
    "ExecuteTime": {
     "end_time": "2025-07-01T07:23:02.911392Z",
     "start_time": "2025-07-01T07:22:37.425297Z"
    }
   },
   "source": [
    "#Solver\n",
    "solver = SolverJMT(model, 'samples', 15000)\n",
    "print(solver.getAvgTable())"
   ],
   "outputs": [
    {
     "name": "stdout",
     "output_type": "stream",
     "text": [
      "JMT Model: /tmp/workspace/jsim/6594738917514101608/jmodel.jsim\n"
     ]
    },
    {
     "name": "stderr",
     "output_type": "stream",
     "text": [
      "JMT did not output a result file, the simulation has likely failed.\n",
      "\n",
      "KeyboardInterrupt\n",
      "\n"
     ]
    }
   ],
   "execution_count": 6
  }
 ],
 "metadata": {
  "kernelspec": {
   "display_name": "Python 3",
   "language": "python",
   "name": "python3"
  },
  "language_info": {
   "codemirror_mode": {
    "name": "ipython",
    "version": 3
   },
   "file_extension": ".py",
   "mimetype": "text/x-python",
   "name": "python",
   "nbconvert_exporter": "python",
   "pygments_lexer": "ipython3",
   "version": "3.8.0"
  }
 },
 "nbformat": 4,
 "nbformat_minor": 4
}
