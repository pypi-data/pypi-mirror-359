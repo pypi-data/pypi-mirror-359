{
 "cells": [
  {
   "cell_type": "code",
   "metadata": {
    "ExecuteTime": {
     "end_time": "2025-07-01T07:28:27.612818Z",
     "start_time": "2025-07-01T07:28:27.610518Z"
    }
   },
   "source": [
    "from line_solver import *\n",
    "import numpy as np\n",
    "GlobalConstants.setVerbose(VerboseLevel.STD)"
   ],
   "outputs": [],
   "execution_count": 15
  },
  {
   "cell_type": "code",
   "metadata": {
    "ExecuteTime": {
     "end_time": "2025-07-01T07:28:27.627861Z",
     "start_time": "2025-07-01T07:28:27.625376Z"
    }
   },
   "source": [
    "# Fork-Join queueing network\n",
    "model = Network('model')"
   ],
   "outputs": [],
   "execution_count": 16
  },
  {
   "cell_type": "code",
   "metadata": {
    "ExecuteTime": {
     "end_time": "2025-07-01T07:28:27.690644Z",
     "start_time": "2025-07-01T07:28:27.687956Z"
    }
   },
   "source": [
    "# Create network \n",
    "source = Source(model, 'Source')\n",
    "\n",
    "queue1 = Queue(model, 'Queue1', SchedStrategy.PS)\n",
    "queue2 = Queue(model, 'Queue2', SchedStrategy.PS)\n",
    "\n",
    "fork = Fork(model, 'Fork')\n",
    "fork.setTasksPerLink(2)\n",
    "join = Join(model, 'Join', fork)\n",
    "\n",
    "sink = Sink(model, 'Sink')"
   ],
   "outputs": [],
   "execution_count": 17
  },
  {
   "cell_type": "code",
   "metadata": {
    "ExecuteTime": {
     "end_time": "2025-07-01T07:28:27.739866Z",
     "start_time": "2025-07-01T07:28:27.737965Z"
    }
   },
   "source": [
    "# Create job classes\n",
    "jobclass1 = OpenClass(model, 'class1')\n",
    "jobclass2 = OpenClass(model, 'class2')"
   ],
   "outputs": [],
   "execution_count": 18
  },
  {
   "cell_type": "code",
   "metadata": {
    "ExecuteTime": {
     "end_time": "2025-07-01T07:28:27.793679Z",
     "start_time": "2025-07-01T07:28:27.791374Z"
    }
   },
   "source": [
    "#Set arrival and service processes\n",
    "# Class 1\n",
    "source.setArrival(jobclass1, Exp(0.25))\n",
    "queue1.setService(jobclass1, Exp(1.0))\n",
    "queue2.setService(jobclass1, Exp(0.75))\n",
    "# Class 2\n",
    "source.setArrival(jobclass2, Exp(0.25))\n",
    "queue1.setService(jobclass2, Immediate())\n",
    "queue2.setService(jobclass2, Exp(2.0))"
   ],
   "outputs": [],
   "execution_count": 19
  },
  {
   "cell_type": "code",
   "metadata": {
    "ExecuteTime": {
     "end_time": "2025-07-01T07:28:27.850936Z",
     "start_time": "2025-07-01T07:28:27.848008Z"
    }
   },
   "source": [
    "# Set routing matrix\n",
    "P = model.initRoutingMatrix() # Class 1 routing\n",
    "P.set(jobclass1, jobclass1, source, fork, 1.0)\n",
    "P.set(jobclass1, jobclass1, fork, queue1, 1.0)\n",
    "P.set(jobclass1, jobclass1, fork, queue2, 1.0)\n",
    "P.set(jobclass1, jobclass1, queue1, join, 1.0)\n",
    "P.set(jobclass1, jobclass1, queue2, join, 1.0)\n",
    "P.set(jobclass1, jobclass1, join, sink, 1.0) # Class 2 routing\n",
    "P.set(jobclass2, jobclass2, source, fork, 1.0)\n",
    "P.set(jobclass2, jobclass2, fork, queue1, 1.0)\n",
    "P.set(jobclass2, jobclass2, fork, queue2, 1.0)\n",
    "P.set(jobclass2, jobclass2, queue1, join, 1.0)\n",
    "P.set(jobclass2, jobclass2, queue2, join, 1.0)\n",
    "P.set(jobclass2, jobclass2, join, sink, 1.0)\n",
    "model.link(P)"
   ],
   "outputs": [],
   "execution_count": 20
  },
  {
   "cell_type": "code",
   "metadata": {
    "ExecuteTime": {
     "end_time": "2025-07-01T07:28:28.166071Z",
     "start_time": "2025-07-01T07:28:27.897919Z"
    }
   },
   "source": [
    "# Solve with multiple methods\n",
    "solvers = [ SolverJMT(model, 'seed', 23000), SolverMVA(model)]\n",
    "for i, solver in enumerate(solvers):\n",
    "    print(f'SOLVER {i+1}: {solver.getName()}')\n",
    "\n",
    "avgTable = solver.getAvgTable()"
   ],
   "outputs": [
    {
     "name": "stdout",
     "output_type": "stream",
     "text": [
      "SOLVER 1: SolverJMT\n",
      "SOLVER 2: SolverMVA\n",
      "MVA [method: default(egflin), lang: java, env: 21.0.7] completed in 0.173000s.\n",
      "  Station JobClass     QLen    Util       RespT   ResidT  ArvR  Tput\n",
      "0  Source   class1   0.0000  0.0000  0.0000e+00   0.0000   0.0  0.25\n",
      "1  Source   class2   0.0000  0.0000  0.0000e+00   0.0000   0.0  0.25\n",
      "2  Queue1   class1   1.0000  0.5000  2.0000e+00   1.0000   0.5  0.50\n",
      "3  Queue1   class2   0.0000  0.0000  2.0000e-08   0.0000   0.5  0.50\n",
      "4  Queue2   class1   7.9989  0.6667  1.5998e+01   7.9990   0.5  0.50\n",
      "5  Queue2   class2   2.9996  0.2500  5.9992e+00   2.9996   0.5  0.50\n",
      "6    Join   class1  23.4382  0.0000  2.3438e+01  23.4385   1.0  0.25\n",
      "7    Join   class2   8.9976  0.0000  8.9977e+00   8.9977   1.0  0.25\n"
     ]
    }
   ],
   "execution_count": 21
  }
 ],
 "metadata": {
  "kernelspec": {
   "display_name": "Python 3",
   "language": "python",
   "name": "python3"
  },
  "language_info": {
   "codemirror_mode": {
    "name": "ipython",
    "version": 3
   },
   "file_extension": ".py",
   "mimetype": "text/x-python",
   "name": "python",
   "nbconvert_exporter": "python",
   "pygments_lexer": "ipython3",
   "version": "3.8.0"
  }
 },
 "nbformat": 4,
 "nbformat_minor": 4
}
