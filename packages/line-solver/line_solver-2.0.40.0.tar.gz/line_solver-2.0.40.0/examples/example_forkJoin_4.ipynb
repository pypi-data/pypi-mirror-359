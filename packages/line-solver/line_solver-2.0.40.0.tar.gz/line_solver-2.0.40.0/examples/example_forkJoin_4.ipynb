{
 "cells": [
  {
   "cell_type": "code",
   "metadata": {
    "ExecuteTime": {
     "end_time": "2025-07-01T07:17:23.223112Z",
     "start_time": "2025-07-01T07:17:23.219704Z"
    }
   },
   "source": [
    "from line_solver import *\n",
    "import numpy as np\n",
    "GlobalConstants.setVerbose(VerboseLevel.STD)"
   ],
   "outputs": [],
   "execution_count": 7
  },
  {
   "cell_type": "code",
   "metadata": {
    "ExecuteTime": {
     "end_time": "2025-07-01T07:17:23.242611Z",
     "start_time": "2025-07-01T07:17:23.240944Z"
    }
   },
   "source": [
    "# Fork-Join network example 4\n",
    "model = Network('model')"
   ],
   "outputs": [],
   "execution_count": 8
  },
  {
   "cell_type": "code",
   "metadata": {
    "ExecuteTime": {
     "end_time": "2025-07-01T07:17:23.302184Z",
     "start_time": "2025-07-01T07:17:23.299824Z"
    }
   },
   "source": [
    "# Create fork-join structure\n",
    "source = Source(model, 'Source')\n",
    "\n",
    "queue1 = Queue(model, 'Queue1', SchedStrategy.PS)\n",
    "queue2 = Queue(model, 'Queue2', SchedStrategy.PS)\n",
    "\n",
    "fork = Fork(model, 'Fork')\n",
    "fork.setTasksPerLink(4)\n",
    "join = Join(model, 'Join', fork)\n",
    "\n",
    "sink = Sink(model, 'Sink')\n",
    "jobclass = OpenClass(model, 'Class1')"
   ],
   "outputs": [],
   "execution_count": 9
  },
  {
   "cell_type": "code",
   "metadata": {
    "ExecuteTime": {
     "end_time": "2025-07-01T07:17:23.362362Z",
     "start_time": "2025-07-01T07:17:23.359808Z"
    }
   },
   "source": [
    "#Service configurations\n",
    "source.setArrival(jobclass, Exp(0.5))\n",
    "queue1.setService(jobclass, Exp(1.4))\n",
    "queue2.setService(jobclass, Exp(1.2000000000000002))"
   ],
   "outputs": [],
   "execution_count": 10
  },
  {
   "cell_type": "code",
   "metadata": {
    "ExecuteTime": {
     "end_time": "2025-07-01T07:17:23.414618Z",
     "start_time": "2025-07-01T07:17:23.411990Z"
    }
   },
   "source": [
    "# Fork-join routing\n",
    "P = model.initRoutingMatrix()\n",
    "P.set(jobclass, jobclass, source, fork, 1.0)\n",
    "P.set(jobclass, jobclass, fork, queue1, 1.0)\n",
    "P.set(jobclass, jobclass, fork, queue2, 1.0)\n",
    "P.set(jobclass, jobclass, queue1, join, 1.0)\n",
    "P.set(jobclass, jobclass, queue2, join, 1.0)\n",
    "P.set(jobclass, jobclass, join, sink, 1.0)\n",
    "model.link(P)"
   ],
   "outputs": [],
   "execution_count": 11
  },
  {
   "cell_type": "code",
   "metadata": {
    "ExecuteTime": {
     "end_time": "2025-07-01T07:17:34.909491Z",
     "start_time": "2025-07-01T07:17:23.467731Z"
    }
   },
   "source": [
    "#Solver\n",
    "solver = SolverJMT(model, 'samples', 10000)\n",
    "print(solver.getAvgTable())"
   ],
   "outputs": [
    {
     "name": "stdout",
     "output_type": "stream",
     "text": [
      "JMT Model: /tmp/workspace/jsim/11438100049147490199/jmodel.jsim\n"
     ]
    },
    {
     "name": "stderr",
     "output_type": "stream",
     "text": [
      "JMT did not output a result file, the simulation has likely failed.\n",
      "\n",
      "KeyboardInterrupt\n",
      "\n"
     ]
    }
   ],
   "execution_count": 12
  }
 ],
 "metadata": {
  "kernelspec": {
   "display_name": "Python 3",
   "language": "python",
   "name": "python3"
  },
  "language_info": {
   "codemirror_mode": {
    "name": "ipython",
    "version": 3
   },
   "file_extension": ".py",
   "mimetype": "text/x-python",
   "name": "python",
   "nbconvert_exporter": "python",
   "pygments_lexer": "ipython3",
   "version": "3.8.0"
  }
 },
 "nbformat": 4,
 "nbformat_minor": 4
}
