{
 "cells": [
  {
   "cell_type": "code",
   "execution_count": null,
   "metadata": {},
   "outputs": [],
   "source": [
    "from line_solver import *\n",
    "import numpy as np\n",
    "GlobalConstants.setVerbose(VerboseLevel.STD)"
   ]
  },
  {
   "cell_type": "code",
   "execution_count": null,
   "metadata": {},
   "outputs": [],
   "source": [
    "# Fork-Join network example 5\n",
    "model = Network('model')"
   ]
  },
  {
   "cell_type": "code",
   "execution_count": null,
   "metadata": {},
   "outputs": [],
   "source": [
    "# Create fork-join structure\n",
    "source = Source(model, 'Source')\n",
    "\n",
    "queue1 = Queue(model, 'Queue1', SchedStrategy.PS)\n",
    "queue2 = Queue(model, 'Queue2', SchedStrategy.PS)\n",
    "\n",
    "fork = Fork(model, 'Fork')\n",
    "fork.setTasksPerLink(5)\n",
    "join = Join(model, 'Join', fork)\n",
    "\n",
    "sink = Sink(model, 'Sink')\n",
    "jobclass = OpenClass(model, 'Class1')"
   ]
  },
  {
   "cell_type": "code",
   "execution_count": null,
   "metadata": {},
   "outputs": [],
   "source": [
    "#Service configurations\n",
    "source.setArrival(jobclass, Exp(0.5))\n",
    "queue1.setService(jobclass, Exp(1.5))\n",
    "queue2.setService(jobclass, Exp(1.3))"
   ]
  },
  {
   "cell_type": "code",
   "execution_count": null,
   "metadata": {},
   "outputs": [],
   "source": [
    "# Fork-join routing\n",
    "P = model.initRoutingMatrix()\n",
    "P.set(jobclass, jobclass, source, fork, 1.0)\n",
    "P.set(jobclass, jobclass, fork, queue1, 1.0)\n",
    "P.set(jobclass, jobclass, fork, queue2, 1.0)\n",
    "P.set(jobclass, jobclass, queue1, join, 1.0)\n",
    "P.set(jobclass, jobclass, queue2, join, 1.0)\n",
    "P.set(jobclass, jobclass, join, sink, 1.0)\n",
    "model.link(P)"
   ]
  },
  {
   "cell_type": "code",
   "execution_count": null,
   "metadata": {},
   "outputs": [],
   "source": [
    "#Solver\n",
    "solver = SolverJMT(model, 'samples', 10000)\n",
    "print(solver.getAvgTable())"
   ]
  }
 ],
 "metadata": {
  "kernelspec": {
   "display_name": "Python 3",
   "language": "python",
   "name": "python3"
  },
  "language_info": {
   "codemirror_mode": {
    "name": "ipython",
    "version": 3
   },
   "file_extension": ".py",
   "mimetype": "text/x-python",
   "name": "python",
   "nbconvert_exporter": "python",
   "pygments_lexer": "ipython3",
   "version": "3.8.0"
  }
 },
 "nbformat": 4,
 "nbformat_minor": 4
}
