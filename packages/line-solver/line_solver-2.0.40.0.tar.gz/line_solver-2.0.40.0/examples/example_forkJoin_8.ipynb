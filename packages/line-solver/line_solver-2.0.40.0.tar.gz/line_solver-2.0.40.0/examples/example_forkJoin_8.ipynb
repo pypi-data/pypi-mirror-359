{
 "cells": [
  {
   "cell_type": "code",
   "execution_count": null,
   "metadata": {},
   "outputs": [],
   "source": [
    "from line_solver import *\n",
    "import numpy as np\n",
    "GlobalConstants.setVerbose(VerboseLevel.STD)"
   ]
  },
  {
   "cell_type": "code",
   "execution_count": null,
   "metadata": {},
   "outputs": [],
   "source": [
    "# Fork-Join network example 8\n",
    "\n",
    "model = Network('model')\n",
    "\n"
   ]
  },
  {
   "cell_type": "code",
   "execution_count": null,
   "metadata": {},
   "outputs": [],
   "source": [
    "# Create fork-join structuresource = Source(\n\\1, 'Source')\n",
    "\n",
    "queu\n",
    "e1 = Queue(model, 'Queue1', SchedStrategy.PS)\n",
    "queue2 = Queue(model, 'Queue2', SchedStrategy.PS)\n",
    "\n",
    "for\n",
    "k = Fork(model, 'Fork')\n",
    "fork.setTasksPerLink(8)\n",
    "join = Join(model, 'Join', fork)\n",
    "\n",
    "sin\n",
    "k = Sink(model, 'Sink')\n",
    "jobclass = OpenClass(model, 'Class1')\n",
    "\n"
   ]
  },
  {
   "cell_type": "code",
   "execution_count": null,
   "metadata": {},
   "outputs": [],
   "source": [
    "#Service configurationssource.setArrival(jobclass, Exp(0.5))\n",
    "queue1.setService(jobclass, Exp(1.8))\n",
    "queue2.setService(jobclass, Exp(1.6))\n",
    "\n"
   ]
  },
  {
   "cell_type": "code",
   "execution_count": null,
   "metadata": {},
   "outputs": [],
   "source": [
    "# Fork-join routingP = model.initRoutingMatrix()\n",
    "P.set(jobclass, jobclass, source, fork, 1.0)\n",
    "P.set(jobclass, jobclass, fork, queue1, 1.0)\n",
    "P.set(jobclass, jobclass, fork, queue2, 1.0)\n",
    "P.set(jobclass, jobclass, queue1, join, 1.0)\n",
    "P.set(jobclass, jobclass, queue2, join, 1.0)\n",
    "P.set(jobclass, jobclass, join, sink, 1.0)\n",
    "model.link(P)\n",
    "\n"
   ]
  },
  {
   "cell_type": "code",
   "execution_count": null,
   "metadata": {},
   "outputs": [],
   "source": [
    "#Solver\n",
    "solver = SolverJMT(model, 'samples', 10000)\n",
    "print(solver.getAvgTable())"
   ]
  }
 ],
 "metadata": {
  "kernelspec": {
   "display_name": "Python 3",
   "language": "python",
   "name": "python3"
  },
  "language_info": {
   "codemirror_mode": {
    "name": "ipython",
    "version": 3
   },
   "file_extension": ".py",
   "mimetype": "text/x-python",
   "name": "python",
   "nbconvert_exporter": "python",
   "pygments_lexer": "ipython3",
   "version": "3.8.0"
  }
 },
 "nbformat": 4,
 "nbformat_minor": 4
}
