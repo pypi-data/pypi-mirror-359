{
 "cells": [
  {
   "cell_type": "code",
   "metadata": {
    "ExecuteTime": {
     "end_time": "2025-07-01T07:24:26.736675Z",
     "start_time": "2025-07-01T07:24:25.402857Z"
    }
   },
   "source": [
    "from line_solver import *\n",
    "import numpy as np\n",
    "GlobalConstants.setVerbose(VerboseLevel.STD)"
   ],
   "outputs": [],
   "execution_count": 1
  },
  {
   "cell_type": "code",
   "metadata": {
    "ExecuteTime": {
     "end_time": "2025-07-01T07:24:26.829520Z",
     "start_time": "2025-07-01T07:24:26.824066Z"
    }
   },
   "source": [
    "#Fork-Join with Class Switching\n",
    "#Jobs change class after fork operation\n",
    "model = Network('model')\n",
    "\n"
   ],
   "outputs": [],
   "execution_count": 2
  },
  {
   "cell_type": "code",
   "metadata": {
    "ExecuteTime": {
     "end_time": "2025-07-01T07:24:26.857552Z",
     "start_time": "2025-07-01T07:24:26.845739Z"
    }
   },
   "source": [
    "# Create fork-join with class switching\n",
    "source = Source(model, 'Source')\n",
    "\n",
    "queue1 = Queue(model, 'Queue1', SchedStrategy.PS)\n",
    "queue2 = Queue(model, 'Queue2', SchedStrategy.FCFS)\n",
    "\n",
    "fork = Fork(model, 'Fork')\n",
    "join = Join(model, 'Join', fork)\n",
    "\n",
    "sink = Sink(model, 'Sink')#Two classes that can switch\n",
    "jobclass1 = OpenClass(model, 'Class1')\n",
    "jobclass2 = OpenClass(model, 'Class2')"
   ],
   "outputs": [],
   "execution_count": 3
  },
  {
   "cell_type": "code",
   "metadata": {
    "ExecuteTime": {
     "end_time": "2025-07-01T07:24:26.911776Z",
     "start_time": "2025-07-01T07:24:26.900095Z"
    }
   },
   "source": [
    "#Service configurations\n",
    "source.setArrival(jobclass1, Exp(0.4))\n",
    "queue1.setService(jobclass1, Exp(1.2))\n",
    "queue1.setService(jobclass2, Exp(0.8))\n",
    "queue2.setService(jobclass1, Exp(1.0))\n",
    "queue2.setService(jobclass2, Exp(1.5))"
   ],
   "outputs": [],
   "execution_count": 4
  },
  {
   "cell_type": "code",
   "metadata": {
    "ExecuteTime": {
     "end_time": "2025-07-01T07:24:26.958274Z",
     "start_time": "2025-07-01T07:24:26.946532Z"
    }
   },
   "source": [
    "# Routing with class switching\n",
    "P = model.initRoutingMatrix() # Class 1 routing with switching after fork\n",
    "P.set(jobclass1, jobclass1, source, fork, 1.0)\n",
    "P.set(jobclass1, jobclass2, fork, queue1, 0.6)  #Switch to class 2\n",
    "P.set(jobclass1, jobclass1, fork, queue2, 0.4)  #Stay class 1#Return routing\n",
    "P.set(jobclass1, jobclass1, queue2, join, 1.0)\n",
    "P.set(jobclass2, jobclass2, queue1, join, 1.0)\n",
    "P.set(jobclass1, jobclass1, join, sink, 1.0)\n",
    "P.set(jobclass2, jobclass2, join, sink, 1.0)\n",
    "model.link(P)"
   ],
   "outputs": [],
   "execution_count": 5
  },
  {
   "cell_type": "code",
   "metadata": {
    "ExecuteTime": {
     "end_time": "2025-07-01T07:24:42.716906Z",
     "start_time": "2025-07-01T07:24:40.889264Z"
    }
   },
   "source": [
    "#Solver\n",
    "solver = SolverJMT(model, 'samples', 10000)\n",
    "avgTable = solver.getAvgTable()"
   ],
   "outputs": [
    {
     "name": "stdout",
     "output_type": "stream",
     "text": [
      "JMT Model: /tmp/workspace/jsim/9172246576812701812/jmodel.jsim\n",
      "  Station JobClass    QLen    Util   RespT  ResidT    ArvR    Tput\n",
      "0  Source   Class1  0.0000  0.0000  0.0000  0.0000  0.0000  0.4040\n",
      "3  Queue1   Class2  0.9548  0.5096  2.3984  1.1992  0.4040  0.4001\n",
      "4  Queue2   Class1  0.6644  0.4090  1.7076  0.8538  0.4040  0.4034\n",
      "6    Join   Class1  0.5777  0.0000  1.4670  0.7335  0.4034  0.4009\n",
      "7    Join   Class2  0.2626  0.0000  0.6882  0.3441  0.4001  0.0000\n"
     ]
    }
   ],
   "execution_count": 7
  }
 ],
 "metadata": {
  "kernelspec": {
   "display_name": "Python 3",
   "language": "python",
   "name": "python3"
  },
  "language_info": {
   "codemirror_mode": {
    "name": "ipython",
    "version": 3
   },
   "file_extension": ".py",
   "mimetype": "text/x-python",
   "name": "python",
   "nbconvert_exporter": "python",
   "pygments_lexer": "ipython3",
   "version": "3.8.0"
  }
 },
 "nbformat": 4,
 "nbformat_minor": 4
}
