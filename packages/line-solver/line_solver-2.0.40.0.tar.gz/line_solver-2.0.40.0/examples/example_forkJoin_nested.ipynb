{
 "cells": [
  {
   "cell_type": "code",
   "metadata": {
    "ExecuteTime": {
     "end_time": "2025-07-01T07:26:29.056216Z",
     "start_time": "2025-07-01T07:26:27.504255Z"
    }
   },
   "source": [
    "from line_solver import *\n",
    "import numpy as np\n",
    "GlobalConstants.setVerbose(VerboseLevel.STD)"
   ],
   "outputs": [],
   "execution_count": 1
  },
  {
   "cell_type": "code",
   "metadata": {
    "ExecuteTime": {
     "end_time": "2025-07-01T07:26:29.194084Z",
     "start_time": "2025-07-01T07:26:29.188744Z"
    }
   },
   "source": [
    "#Nested Fork-Join Network\n",
    "#Fork-join structures within fork-join structures\n",
    "model = Network('model')"
   ],
   "outputs": [],
   "execution_count": 2
  },
  {
   "cell_type": "code",
   "metadata": {
    "ExecuteTime": {
     "end_time": "2025-07-01T07:26:29.248226Z",
     "start_time": "2025-07-01T07:26:29.236267Z"
    }
   },
   "source": [
    "# Create nested fork-join structure\n",
    "source = Source(model, 'Source')\n",
    "\n",
    "outer_fork = Fork(model, 'OuterFork')\n",
    "inner_fork1 = Fork(model, 'InnerFork1')\n",
    "\n",
    "inner_fork2 = Fork(model, 'InnerFork2')#Queues in nested structure\n",
    "queue1 = Queue(model, 'Queue1', SchedStrategy.PS)\n",
    "\n",
    "queue2 = Queue(model, 'Queue2', SchedStrategy.PS)\n",
    "queue3 = Queue(model, 'Queue3', SchedStrategy.PS)\n",
    "\n",
    "queue4 = Queue(model, 'Queue4', SchedStrategy.PS)\n",
    "inner_join1 = Join(model, 'InnerJoin1', inner_fork1)\n",
    "\n",
    "inner_join2 = Join(model, 'InnerJoin2', inner_fork2)\n",
    "outer_join = Join(model, 'OuterJoin', outer_fork)\n",
    "\n",
    "sink = Sink(model, 'Sink')\n",
    "jobclass = OpenClass(model, 'Class1')"
   ],
   "outputs": [],
   "execution_count": 3
  },
  {
   "cell_type": "code",
   "metadata": {
    "ExecuteTime": {
     "end_time": "2025-07-01T07:26:29.294564Z",
     "start_time": "2025-07-01T07:26:29.287341Z"
    }
   },
   "source": [
    "#Service configurations\n",
    "source.setArrival(jobclass, Exp(0.3))\n",
    "queue1.setService(jobclass, Exp(1.5))\n",
    "queue2.setService(jobclass, Exp(1.2))\n",
    "queue3.setService(jobclass, Exp(1.8))\n",
    "queue4.setService(jobclass, Exp(1.0))"
   ],
   "outputs": [],
   "execution_count": 4
  },
  {
   "cell_type": "code",
   "metadata": {
    "ExecuteTime": {
     "end_time": "2025-07-01T07:26:29.344443Z",
     "start_time": "2025-07-01T07:26:29.337216Z"
    }
   },
   "source": [
    "# Nested fork-join routing\n",
    "P = model.initRoutingMatrix()#Outer level\n",
    "P.set(jobclass, jobclass, source, outer_fork, 1.0)\n",
    "P.set(jobclass, jobclass, outer_fork, inner_fork1, 1.0)\n",
    "P.set(jobclass, jobclass, outer_fork, inner_fork2, 1.0)#Inner level 1\n",
    "P.set(jobclass, jobclass, inner_fork1, queue1, 1.0)\n",
    "P.set(jobclass, jobclass, inner_fork1, queue2, 1.0)\n",
    "P.set(jobclass, jobclass, queue1, inner_join1, 1.0)\n",
    "P.set(jobclass, jobclass, queue2, inner_join1, 1.0)#Inner level 2\n",
    "P.set(jobclass, jobclass, inner_fork2, queue3, 1.0)\n",
    "P.set(jobclass, jobclass, inner_fork2, queue4, 1.0)\n",
    "P.set(jobclass, jobclass, queue3, inner_join2, 1.0)\n",
    "P.set(jobclass, jobclass, queue4, inner_join2, 1.0)#Back to outer level\n",
    "P.set(jobclass, jobclass, inner_join1, outer_join, 1.0)\n",
    "P.set(jobclass, jobclass, inner_join2, outer_join, 1.0)\n",
    "P.set(jobclass, jobclass, outer_join, sink, 1.0)\n",
    "model.link(P)"
   ],
   "outputs": [],
   "execution_count": 5
  },
  {
   "cell_type": "code",
   "metadata": {
    "ExecuteTime": {
     "end_time": "2025-07-01T07:26:30.826758Z",
     "start_time": "2025-07-01T07:26:29.386428Z"
    }
   },
   "source": [
    "# Solve nested system\n",
    "solver = SolverJMT(model, 'samples', 20000)\n",
    "avgTable = solver.getAvgTable()"
   ],
   "outputs": [
    {
     "name": "stdout",
     "output_type": "stream",
     "text": [
      "JMT Model: /tmp/workspace/jsim/16077761416864889519/jmodel.jsim\n",
      "      Station JobClass    QLen    Util   RespT  ResidT    ArvR    Tput\n",
      "0      Source   Class1  0.0000  0.0000  0.0000  0.0000  0.0000  0.2979\n",
      "1      Queue1   Class1  0.2435  0.1946  0.8339  0.2085  0.2979  0.2979\n",
      "2      Queue2   Class1  0.3341  0.2504  1.1050  0.2763  0.2979  0.2977\n",
      "3      Queue3   Class1  0.1945  0.1632  0.6714  0.1678  0.2979  0.2979\n",
      "4      Queue4   Class1  0.4120  0.2893  1.3683  0.3421  0.2979  0.2985\n",
      "5  InnerJoin1   Class1  0.3021  0.0000  0.4990  0.2495  0.5978  0.2977\n",
      "6  InnerJoin2   Class1  0.3390  0.0000  0.5742  0.2871  0.5888  0.2985\n",
      "7   OuterJoin   Class1  0.3870  0.0000  0.6496  0.6496  0.5889  0.2984\n"
     ]
    }
   ],
   "execution_count": 6
  }
 ],
 "metadata": {
  "kernelspec": {
   "display_name": "Python 3",
   "language": "python",
   "name": "python3"
  },
  "language_info": {
   "codemirror_mode": {
    "name": "ipython",
    "version": 3
   },
   "file_extension": ".py",
   "mimetype": "text/x-python",
   "name": "python",
   "nbconvert_exporter": "python",
   "pygments_lexer": "ipython3",
   "version": "3.8.0"
  }
 },
 "nbformat": 4,
 "nbformat_minor": 4
}
