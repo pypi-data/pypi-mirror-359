{
 "cells": [
  {
   "cell_type": "code",
   "metadata": {
    "ExecuteTime": {
     "end_time": "2025-07-01T07:28:02.339190Z",
     "start_time": "2025-07-01T07:28:00.849874Z"
    }
   },
   "source": [
    "from line_solver import *\n",
    "import numpy as np\n",
    "GlobalConstants.setVerbose(VerboseLevel.STD)"
   ],
   "outputs": [],
   "execution_count": 1
  },
  {
   "cell_type": "code",
   "metadata": {
    "ExecuteTime": {
     "end_time": "2025-07-01T07:28:02.469499Z",
     "start_time": "2025-07-01T07:28:02.464313Z"
    }
   },
   "source": [
    "#Series of Fork-Join Networks#Multiple fork-join stages in series\n",
    "model = Network('model')"
   ],
   "outputs": [],
   "execution_count": 2
  },
  {
   "cell_type": "code",
   "metadata": {
    "ExecuteTime": {
     "end_time": "2025-07-01T07:28:02.535613Z",
     "start_time": "2025-07-01T07:28:02.517620Z"
    }
   },
   "source": [
    "# Create series of fork-join stages\n",
    "source = Source(model, 'Source') #First fork-join stage\n",
    "fork1 = Fork(model, 'Fork1')\n",
    "queue1a = Queue(model, 'Queue1A', SchedStrategy.PS)\n",
    "\n",
    "queue1b = Queue(model, 'Queue1B', SchedStrategy.PS)\n",
    "join1 = Join(model, 'Join1', fork1) #Second fork-join stage\n",
    "fork2 = Fork(model, 'Fork2')\n",
    "queue2a = Queue(model, 'Queue2A', SchedStrategy.FCFS)\n",
    "\n",
    "queue2b = Queue(model, 'Queue2B', SchedStrategy.FCFS)\n",
    "join2 = Join(model, 'Join2', fork2)\n",
    "\n",
    "sink = Sink(model, 'Sink')\n",
    "jobclass = OpenClass(model, 'Class1')"
   ],
   "outputs": [],
   "execution_count": 3
  },
  {
   "cell_type": "code",
   "metadata": {
    "ExecuteTime": {
     "end_time": "2025-07-01T07:28:02.583340Z",
     "start_time": "2025-07-01T07:28:02.576540Z"
    }
   },
   "source": [
    "#Service configurations\n",
    "source.setArrival(jobclass, Exp(0.4))\n",
    "queue1a.setService(jobclass, Exp(1.2))\n",
    "queue1b.setService(jobclass, Exp(1.5))\n",
    "queue2a.setService(jobclass, Exp(1.8))\n",
    "queue2b.setService(jobclass, Exp(1.0))"
   ],
   "outputs": [],
   "execution_count": 4
  },
  {
   "cell_type": "code",
   "metadata": {
    "ExecuteTime": {
     "end_time": "2025-07-01T07:28:02.645127Z",
     "start_time": "2025-07-01T07:28:02.636577Z"
    }
   },
   "source": [
    "# Series fork-join routing\n",
    "P = model.initRoutingMatrix() #First stage\n",
    "P.set(jobclass, jobclass, source, fork1, 1.0)\n",
    "P.set(jobclass, jobclass, fork1, queue1a, 1.0)\n",
    "P.set(jobclass, jobclass, fork1, queue1b, 1.0)\n",
    "P.set(jobclass, jobclass, queue1a, join1, 1.0)\n",
    "P.set(jobclass, jobclass, queue1b, join1, 1.0) #Between stages\n",
    "P.set(jobclass, jobclass, join1, fork2, 1.0) #Second stage\n",
    "P.set(jobclass, jobclass, fork2, queue2a, 1.0)\n",
    "P.set(jobclass, jobclass, fork2, queue2b, 1.0)\n",
    "P.set(jobclass, jobclass, queue2a, join2, 1.0)\n",
    "P.set(jobclass, jobclass, queue2b, join2, 1.0) #To sink\n",
    "P.set(jobclass, jobclass, join2, sink, 1.0)\n",
    "model.link(P)"
   ],
   "outputs": [],
   "execution_count": 5
  },
  {
   "cell_type": "code",
   "metadata": {
    "ExecuteTime": {
     "end_time": "2025-07-01T07:28:04.669299Z",
     "start_time": "2025-07-01T07:28:02.687101Z"
    }
   },
   "source": [
    "# Solve series system\n",
    "solver = SolverJMT(model, 'samples', 15000)\n",
    "print(solver.getAvgTable())"
   ],
   "outputs": [
    {
     "name": "stdout",
     "output_type": "stream",
     "text": [
      "JMT Model: /tmp/workspace/jsim/14820943968983302100/jmodel.jsim\n",
      "   Station JobClass    QLen    Util   RespT  ResidT    ArvR    Tput\n",
      "0   Source   Class1  0.0000  0.0000  0.0000  0.0000  0.0000  0.4000\n",
      "1  Queue1A   Class1  0.4804  0.3361  1.2683  0.6342  0.4000  0.3999\n",
      "2  Queue1B   Class1  0.3686  0.2697  0.8925  0.4462  0.4000  0.3999\n",
      "3    Join1   Class1  0.4451  0.0000  0.5516  0.5516  0.8097  0.3999\n",
      "4  Queue2A   Class1  0.2935  0.2250  0.7251  0.3626  0.3999  0.3999\n",
      "5  Queue2B   Class1  0.6899  0.4031  1.6644  0.8322  0.3999  0.4008\n",
      "6    Join2   Class1  0.5463  0.0000  0.6751  0.6751  0.8022  0.3985\n",
      "   Station JobClass    QLen    Util   RespT  ResidT    ArvR    Tput\n",
      "0   Source   Class1  0.0000  0.0000  0.0000  0.0000  0.0000  0.4000\n",
      "1  Queue1A   Class1  0.4804  0.3361  1.2683  0.6342  0.4000  0.3999\n",
      "2  Queue1B   Class1  0.3686  0.2697  0.8925  0.4462  0.4000  0.3999\n",
      "3    Join1   Class1  0.4451  0.0000  0.5516  0.5516  0.8097  0.3999\n",
      "4  Queue2A   Class1  0.2935  0.2250  0.7251  0.3626  0.3999  0.3999\n",
      "5  Queue2B   Class1  0.6899  0.4031  1.6644  0.8322  0.3999  0.4008\n",
      "6    Join2   Class1  0.5463  0.0000  0.6751  0.6751  0.8022  0.3985\n"
     ]
    }
   ],
   "execution_count": 6
  }
 ],
 "metadata": {
  "kernelspec": {
   "display_name": "Python 3",
   "language": "python",
   "name": "python3"
  },
  "language_info": {
   "codemirror_mode": {
    "name": "ipython",
    "version": 3
   },
   "file_extension": ".py",
   "mimetype": "text/x-python",
   "name": "python",
   "nbconvert_exporter": "python",
   "pygments_lexer": "ipython3",
   "version": "3.8.0"
  }
 },
 "nbformat": 4,
 "nbformat_minor": 4
}
