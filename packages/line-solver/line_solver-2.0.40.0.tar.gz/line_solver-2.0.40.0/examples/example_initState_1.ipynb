{
 "cells": [
  {
   "cell_type": "code",
   "id": "9585b24c724d6f81",
   "metadata": {
    "collapsed": true,
    "ExecuteTime": {
     "end_time": "2025-05-17T06:52:10.435207Z",
     "start_time": "2025-05-17T06:52:09.733928Z"
    }
   },
   "source": [
    "from line_solver import *\n",
    "GlobalConstants.setVerbose(VerboseLevel.STD)"
   ],
   "outputs": [],
   "execution_count": 1
  },
  {
   "cell_type": "code",
   "source": [
    "model = Network('model')\n",
    "\n",
    "node = np.empty(2, dtype=object)\n",
    "node[0] = Delay(model, 'Delay')\n",
    "node[1] = Queue(model, 'Queue1', SchedStrategy.FCFS)\n",
    "jobclass = ClosedClass(model, 'Class1', 5, node[1], 0)\n",
    "\n",
    "node[0].setService(jobclass, Exp(1.0))\n",
    "node[1].setService(jobclass, Exp(0.7))\n",
    "\n",
    "M = model.getNumberOfStations()\n",
    "K = model.getNumberOfClasses()\n",
    "\n",
    "P = model.initRoutingMatrix()\n",
    "pmatrix = [[0,1],[1,0]]\n",
    "P.setRoutingMatrix(jobclass,node,pmatrix)\n",
    "model.link(P)"
   ],
   "metadata": {
    "collapsed": false,
    "ExecuteTime": {
     "end_time": "2025-05-17T06:52:10.617142Z",
     "start_time": "2025-05-17T06:52:10.597994Z"
    }
   },
   "id": "bb95804fedee978f",
   "outputs": [],
   "execution_count": 2
  },
  {
   "cell_type": "code",
   "source": [
    "# TODO: getTranHandles method not available yet in JLINE\n",
    "#Qt,Ut,Tt = model.getTranHandles()\n",
    "\n",
    "# options = Solver.defaultOptions;\n",
    "# options.verbose=0;\n",
    "# options.samples=1e4;\n",
    "# options.stiff=true;\n",
    "# options.timespan = [0,40];\n",
    "# \n",
    "# %% This part illustrates the execution of different solvers\n",
    "# solver={};\n",
    "# solver{end+1} = SolverCTMC(model,options);\n",
    "# %solver{end+1} = SolverJMT(model,options);\n",
    "# %solver{end+1} = SolverSSA(model,options);\n",
    "# solver{end+1} = SolverFluid(model,options);\n",
    "# %solver{end+1} = SolverMVA(model,options);\n",
    "# dashing = {'-','+'};\n",
    "# \n",
    "# %%\n",
    "# model.initDefault;\n",
    "# disp('Prior 1: prior all on default initialization')\n",
    "# disp('Initial state is:')\n",
    "# state=model.getState();\n",
    "# [state{1}(1,:),state{2}(1,:)]\n",
    "# for s=1:length(solver)\n",
    "# fprintf(1,'SOLVER: %s\\n',solver{s}.getName());\n",
    "# [QNt,UNt,TNt] = solver{s}.getTranAvg(Qt,Ut,Tt);\n",
    "# subplot(1,2,1);\n",
    "# plot(QNt{2,1}.t,QNt{2,1}.metric,dashing{s}); hold all\n",
    "# solver{s}.reset();\n",
    "# end\n",
    "# title('Prior on default state');\n",
    "# ylabel('Queue length - station 2, class 1');\n",
    "# ylim([3,5])\n",
    "# xlabel('Time t');\n",
    "# xlim(options.timespan)\n",
    "# legend('ctmc','fluid','Location','SouthEast')\n",
    "\n",
    "# model.initFromMarginal([2;3]);\n",
    "# disp('Prior 2: prior all on first found state with given marginal')\n",
    "# disp('Initial state is:')\n",
    "# state=model.getState();\n",
    "# [state{1}(1,:),state{2}(1,:)]\n",
    "# for s=1:length(solver)\n",
    "# solver{s}.reset();\n",
    "# fprintf(1,'SOLVER: %s\\n',solver{s}.getName());\n",
    "# [QNt_marg,UNt_marg,TNt_marg] = solver{s}.getTranAvg(Qt,Ut,Tt);\n",
    "# subplot(1,2,2);\n",
    "# plot(QNt_marg{2,1}.t,QNt_marg{2,1}.metric,dashing{s}); hold all\n",
    "# solver{s}.reset();\n",
    "# end\n",
    "# title('Prior on state with 3 jobs in station 2');\n",
    "# ylabel('Queue length - station 2, class 1');\n",
    "# ylim([3,5])\n",
    "# xlabel('Time t');\n",
    "# xlim(options.timespan)\n",
    "# %legend('ctmc','fluid')"
   ],
   "metadata": {
    "collapsed": false,
    "ExecuteTime": {
     "end_time": "2025-05-17T06:52:10.661814Z",
     "start_time": "2025-05-17T06:52:10.659660Z"
    }
   },
   "id": "initial_id",
   "outputs": [],
   "execution_count": 3
  }
 ],
 "metadata": {
  "kernelspec": {
   "display_name": "Python 3",
   "language": "python",
   "name": "python3"
  },
  "language_info": {
   "codemirror_mode": {
    "name": "ipython",
    "version": 2
   },
   "file_extension": ".py",
   "mimetype": "text/x-python",
   "name": "python",
   "nbconvert_exporter": "python",
   "pygments_lexer": "ipython2",
   "version": "2.7.6"
  }
 },
 "nbformat": 4,
 "nbformat_minor": 5
}
