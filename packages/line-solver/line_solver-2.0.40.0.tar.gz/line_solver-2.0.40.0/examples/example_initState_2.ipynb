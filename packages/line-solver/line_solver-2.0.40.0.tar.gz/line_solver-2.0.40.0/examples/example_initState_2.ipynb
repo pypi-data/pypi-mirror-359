{
 "cells": [
  {
   "cell_type": "code",
   "metadata": {
    "ExecuteTime": {
     "end_time": "2025-07-01T07:34:59.784473Z",
     "start_time": "2025-07-01T07:34:59.781824Z"
    }
   },
   "source": [
    "from line_solver import *\n",
    "import numpy as np\n",
    "GlobalConstants.setVerbose(VerboseLevel.STD)"
   ],
   "outputs": [],
   "execution_count": 6
  },
  {
   "cell_type": "code",
   "metadata": {
    "ExecuteTime": {
     "end_time": "2025-07-01T07:34:59.802215Z",
     "start_time": "2025-07-01T07:34:59.799826Z"
    }
   },
   "source": [
    "# Initial state configuration example 2\n",
    "model = Network('model')"
   ],
   "outputs": [],
   "execution_count": 7
  },
  {
   "cell_type": "code",
   "metadata": {
    "ExecuteTime": {
     "end_time": "2025-07-01T07:34:59.849612Z",
     "start_time": "2025-07-01T07:34:59.847224Z"
    }
   },
   "source": [
    "# Network with specific initial state\n",
    "node = np.empty(3, dtype = object)\n",
    "node[0] = Delay(model, 'Delay')\n",
    "node[1] = Queue(model, 'Queue1', SchedStrategy.PS)\n",
    "node[2] = Queue(model, 'Queue2', SchedStrategy.FCFS)\n",
    "jobclass = ClosedClass(model, 'Class1', 5, node[0], 2)  #Start with 2 jobs at node[0]"
   ],
   "outputs": [],
   "execution_count": 8
  },
  {
   "cell_type": "code",
   "metadata": {
    "ExecuteTime": {
     "end_time": "2025-07-01T07:34:59.934933Z",
     "start_time": "2025-07-01T07:34:59.932137Z"
    }
   },
   "source": [
    "# Service configurations\n",
    "node[0].setService(jobclass, Exp(1.0))\n",
    "node[1].setService(jobclass, Exp(1.5))\n",
    "node[2].setService(jobclass, Exp(1.2))"
   ],
   "outputs": [],
   "execution_count": 9
  },
  {
   "cell_type": "code",
   "metadata": {
    "ExecuteTime": {
     "end_time": "2025-07-01T07:35:00.025860Z",
     "start_time": "2025-07-01T07:35:00.019255Z"
    }
   },
   "source": [
    "# Routing configuration\n",
    "P = model.initRoutingMatrix()\n",
    "P.set(jobclass, jobclass, node[0], node[1], 0.5)\n",
    "P.set(jobclass, jobclass, node[0], node[2], 0.5)\n",
    "P.set(jobclass, jobclass, node[1], node[0], 1.0)\n",
    "P.set(jobclass, jobclass, node[2], node[0], 1.0)\n",
    "model.link(P)"
   ],
   "outputs": [],
   "execution_count": 10
  },
  {
   "cell_type": "code",
   "metadata": {
    "ExecuteTime": {
     "end_time": "2025-07-01T07:35:00.286228Z",
     "start_time": "2025-07-01T07:35:00.118612Z"
    }
   },
   "source": [
    "#Set specific initial state\n",
    "#Jobs are initially distributed as specified in ClosedClass constructor\n",
    "#This affects the initial conditions for the solver\n",
    "\n",
    "#Solve\n",
    "solver = SolverCTMC(model)\n",
    "print(solver.getAvgTable())\n"
   ],
   "outputs": [
    {
     "name": "stdout",
     "output_type": "stream",
     "text": [
      "  Station JobClass    QLen    Util   RespT  ResidT    ArvR    Tput\n",
      "0   Delay   Class1  1.9016  1.9016  1.0000  1.0000  1.9016  1.9016\n",
      "1  Queue1   Class1  1.2336  0.6339  1.2975  0.6487  0.9508  0.9508\n",
      "2  Queue2   Class1  1.8648  0.7923  1.9613  0.9806  0.9508  0.9508\n",
      "  Station JobClass    QLen    Util   RespT  ResidT    ArvR    Tput\n",
      "0   Delay   Class1  1.9016  1.9016  1.0000  1.0000  1.9016  1.9016\n",
      "1  Queue1   Class1  1.2336  0.6339  1.2975  0.6487  0.9508  0.9508\n",
      "2  Queue2   Class1  1.8648  0.7923  1.9613  0.9806  0.9508  0.9508\n"
     ]
    }
   ],
   "execution_count": 11
  }
 ],
 "metadata": {
  "kernelspec": {
   "display_name": "Python 3",
   "language": "python",
   "name": "python3"
  },
  "language_info": {
   "codemirror_mode": {
    "name": "ipython",
    "version": 3
   },
   "file_extension": ".py",
   "mimetype": "text/x-python",
   "name": "python",
   "nbconvert_exporter": "python",
   "pygments_lexer": "ipython3",
   "version": "3.8.0"
  }
 },
 "nbformat": 4,
 "nbformat_minor": 4
}
