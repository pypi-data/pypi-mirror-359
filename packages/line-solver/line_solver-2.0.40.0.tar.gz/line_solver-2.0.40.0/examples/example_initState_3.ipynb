{
 "cells": [
  {
   "cell_type": "code",
   "metadata": {
    "ExecuteTime": {
     "end_time": "2025-07-01T07:35:45.368660Z",
     "start_time": "2025-07-01T07:35:44.129834Z"
    }
   },
   "source": [
    "from line_solver import *\n",
    "import numpy as np\n",
    "GlobalConstants.setVerbose(VerboseLevel.STD)"
   ],
   "outputs": [],
   "execution_count": 1
  },
  {
   "cell_type": "code",
   "metadata": {
    "ExecuteTime": {
     "end_time": "2025-07-01T07:35:45.444478Z",
     "start_time": "2025-07-01T07:35:45.440445Z"
    }
   },
   "source": [
    "# Initial state configuration example 3\n",
    "model = Network('model')"
   ],
   "outputs": [],
   "execution_count": 2
  },
  {
   "cell_type": "code",
   "metadata": {
    "ExecuteTime": {
     "end_time": "2025-07-01T07:35:45.507930Z",
     "start_time": "2025-07-01T07:35:45.497508Z"
    }
   },
   "source": [
    "# Network with specific initial state\n",
    "node = np.empty(3, dtype = object)\n",
    "node[0] = Delay(model, 'Delay')\n",
    "node[1] = Queue(model, 'Queue1', SchedStrategy.PS)\n",
    "node[2] = Queue(model, 'Queue2', SchedStrategy.FCFS)\n",
    "jobclass = ClosedClass(model, 'Class1', 6, node[0], 3)  #Start with 3 jobs at node[0]"
   ],
   "outputs": [],
   "execution_count": 3
  },
  {
   "cell_type": "code",
   "metadata": {
    "ExecuteTime": {
     "end_time": "2025-07-01T07:35:45.554775Z",
     "start_time": "2025-07-01T07:35:45.548351Z"
    }
   },
   "source": [
    "# Service configurations\n",
    "node[0].setService(jobclass, Exp(1.0))\n",
    "node[1].setService(jobclass, Exp(1.5))\n",
    "node[2].setService(jobclass, Exp(1.2))"
   ],
   "outputs": [],
   "execution_count": 4
  },
  {
   "cell_type": "code",
   "metadata": {
    "ExecuteTime": {
     "end_time": "2025-07-01T07:35:45.606204Z",
     "start_time": "2025-07-01T07:35:45.600657Z"
    }
   },
   "source": [
    "# Routing configuration\n",
    "P = model.initRoutingMatrix()\n",
    "P.set(jobclass, jobclass, node[0], node[1], 0.5)\n",
    "P.set(jobclass, jobclass, node[0], node[2], 0.5)\n",
    "P.set(jobclass, jobclass, node[1], node[0], 1.0)\n",
    "P.set(jobclass, jobclass, node[2], node[0], 1.0)\n",
    "model.link(P)"
   ],
   "outputs": [],
   "execution_count": 5
  },
  {
   "cell_type": "code",
   "metadata": {
    "ExecuteTime": {
     "end_time": "2025-07-01T07:35:45.783484Z",
     "start_time": "2025-07-01T07:35:45.658581Z"
    }
   },
   "source": [
    "#Set specific initial state\n",
    "#Jobs are initially distributed as specified in ClosedClass constructor\n",
    "#This affects the initial conditions for the solver\n",
    "\n",
    "#Solve\n",
    "solver = SolverCTMC(model)\n",
    "print(solver.getAvgTable())\n"
   ],
   "outputs": [
    {
     "name": "stdout",
     "output_type": "stream",
     "text": [
      "  Station JobClass    QLen    Util   RespT  ResidT    ArvR    Tput\n",
      "0   Delay   Class1  2.0421  2.0421  1.0000  1.0000  2.0421  2.0421\n",
      "1  Queue1   Class1  1.5204  0.6807  1.4891  0.7445  1.0210  1.0210\n",
      "2  Queue2   Class1  2.4375  0.8509  2.3873  1.1937  1.0210  1.0210\n",
      "  Station JobClass    QLen    Util   RespT  ResidT    ArvR    Tput\n",
      "0   Delay   Class1  2.0421  2.0421  1.0000  1.0000  2.0421  2.0421\n",
      "1  Queue1   Class1  1.5204  0.6807  1.4891  0.7445  1.0210  1.0210\n",
      "2  Queue2   Class1  2.4375  0.8509  2.3873  1.1937  1.0210  1.0210\n"
     ]
    }
   ],
   "execution_count": 6
  }
 ],
 "metadata": {
  "kernelspec": {
   "display_name": "Python 3",
   "language": "python",
   "name": "python3"
  },
  "language_info": {
   "codemirror_mode": {
    "name": "ipython",
    "version": 3
   },
   "file_extension": ".py",
   "mimetype": "text/x-python",
   "name": "python",
   "nbconvert_exporter": "python",
   "pygments_lexer": "ipython3",
   "version": "3.8.0"
  }
 },
 "nbformat": 4,
 "nbformat_minor": 4
}
