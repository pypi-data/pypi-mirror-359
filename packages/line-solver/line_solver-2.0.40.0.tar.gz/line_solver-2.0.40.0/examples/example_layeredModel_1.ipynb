{
 "cells": [
  {
   "metadata": {},
   "cell_type": "markdown",
   "source": [
    "This example is not yet full functional (getRawAvgTables is missing)\n",
    "\n",
    "This example illustrates the execution on a layered queueing network model.\n",
    "Performance indexes now refer to processors, tasks, entries, and activities.\n",
    "Indexes refer to the submodel (layer) where the processor or task acts as a server.\n",
    "NaN indexes indicate that the metric is not supported by the node type."
   ]
  },
  {
   "cell_type": "code",
   "metadata": {
    "ExecuteTime": {
     "end_time": "2025-06-15T09:48:43.965238Z",
     "start_time": "2025-06-15T09:48:42.531036Z"
    }
   },
   "source": [
    "from line_solver import *\n",
    "GlobalConstants.setVerbose(VerboseLevel.SILENT)"
   ],
   "outputs": [],
   "execution_count": 1
  },
  {
   "cell_type": "code",
   "source": [
    "model = LayeredNetwork('myLayeredModel')\n",
    "P = np.empty(2, dtype=object)\n",
    "P[0] = Processor(model, 'P1', 1, SchedStrategy.PS)\n",
    "P[1] = Processor(model, 'P2', 1, SchedStrategy.PS)\n",
    "T = np.empty(2, dtype=object)\n",
    "T[0] = Task(model, 'T1', 10, SchedStrategy.REF).on(P[0]).setThinkTime(Exp.fitMean(100))\n",
    "T[1] = Task(model, 'T2', 1, SchedStrategy.FCFS).on(P[1]).setThinkTime(Immediate())\n",
    "E = np.empty(2, dtype=object)\n",
    "E[0] = Entry(model, 'E1').on(T[0])\n",
    "E[1] = Entry(model, 'E2').on(T[1])\n",
    "A = np.empty(4, dtype=object)\n",
    "A[0] = Activity(model, 'AS1', Exp.fitMean(1.6)).on(T[0]).boundTo(E[0])\n",
    "A[1] = Activity(model, 'AS2', Immediate()).on(T[0]).synchCall(E[1],1)\n",
    "A[2] = Activity(model, 'AS3', Exp.fitMean(5.0)).on(T[1]).boundTo(E[1])\n",
    "A[3] = Activity(model, 'AS4', Exp.fitMean(1.0)).on(T[1]).repliesTo(E[1])\n",
    "T[0].addPrecedence(ActivityPrecedence.Serial(A[0], A[1]))\n",
    "T[1].addPrecedence(ActivityPrecedence.Serial(A[2], A[3]))"
   ],
   "metadata": {
    "collapsed": false,
    "ExecuteTime": {
     "end_time": "2025-06-15T09:48:44.167104Z",
     "start_time": "2025-06-15T09:48:44.153707Z"
    }
   },
   "outputs": [],
   "execution_count": 2
  },
  {
   "cell_type": "code",
   "source": [
    "solver = np.array([], dtype=object)\n",
    "\n",
    "solver = np.append(solver, SolverLQNS(model))\n",
    "solver = np.append(solver, SolverLN(model))\n",
    "\n",
    "AvgTable = np.empty(len(solver), dtype=object)\n",
    "for s in range(len(solver)):\n",
    "    print(f'\\nSOLVER: {solver[s].getName()}')    \n",
    "    print(solver[s].getAvgTable())\n",
    "    \n",
    "# useLQNSnaming = true\n",
    "# [AvgTable[2], CallAvgTable[2]] = solver[0].getRawAvgTables()\n",
    "# AvgTable[2]\n",
    "# CallAvgTable[2]"
   ],
   "metadata": {
    "collapsed": false,
    "ExecuteTime": {
     "end_time": "2025-06-15T09:48:44.692207Z",
     "start_time": "2025-06-15T09:48:44.208700Z"
    }
   },
   "outputs": [
    {
     "ename": "java.lang.RuntimeException",
     "evalue": "java.lang.RuntimeException: SolverLQNS requires the 'lqns' and 'lqsim' commands to be available in your system PATH.\nYou can install them from: http://www.sce.carleton.ca/rads/lqns/\n\n",
     "output_type": "error",
     "traceback": [
      "\u001B[31m---------------------------------------------------------------------------\u001B[39m",
      "\u001B[31mException\u001B[39m                                 Traceback (most recent call last)",
      "\u001B[36mFile \u001B[39m\u001B[32mSolverLQNS.java:45\u001B[39m, in \u001B[36mjline.solvers.lqns.SolverLQNS.<init>\u001B[39m\u001B[34m()\u001B[39m\n",
      "\u001B[31mException\u001B[39m: Java Exception",
      "\nThe above exception was the direct cause of the following exception:\n",
      "\u001B[31mjava.lang.RuntimeException\u001B[39m                Traceback (most recent call last)",
      "\u001B[36mCell\u001B[39m\u001B[36m \u001B[39m\u001B[32mIn[3]\u001B[39m\u001B[32m, line 3\u001B[39m\n\u001B[32m      1\u001B[39m solver = np.array([], dtype=\u001B[38;5;28mobject\u001B[39m)\n\u001B[32m----> \u001B[39m\u001B[32m3\u001B[39m solver = np.append(solver, \u001B[43mSolverLQNS\u001B[49m\u001B[43m(\u001B[49m\u001B[43mmodel\u001B[49m\u001B[43m)\u001B[49m)\n\u001B[32m      4\u001B[39m solver = np.append(solver, SolverLN(model))\n\u001B[32m      6\u001B[39m AvgTable = np.empty(\u001B[38;5;28mlen\u001B[39m(solver), dtype=\u001B[38;5;28mobject\u001B[39m)\n",
      "\u001B[36mFile \u001B[39m\u001B[32m/mnt/c/Users/gcasale/Dropbox/code/line-solver.git/python/line_solver/solvers.py:461\u001B[39m, in \u001B[36mSolverLQNS.__init__\u001B[39m\u001B[34m(self, *args)\u001B[39m\n\u001B[32m    459\u001B[39m \u001B[38;5;28msuper\u001B[39m().\u001B[34m__init__\u001B[39m(options, args)\n\u001B[32m    460\u001B[39m model = args[\u001B[32m0\u001B[39m]\n\u001B[32m--> \u001B[39m\u001B[32m461\u001B[39m \u001B[38;5;28mself\u001B[39m.obj = \u001B[43mjpype\u001B[49m\u001B[43m.\u001B[49m\u001B[43mJPackage\u001B[49m\u001B[43m(\u001B[49m\u001B[33;43m'\u001B[39;49m\u001B[33;43mjline\u001B[39;49m\u001B[33;43m'\u001B[39;49m\u001B[43m)\u001B[49m\u001B[43m.\u001B[49m\u001B[43msolvers\u001B[49m\u001B[43m.\u001B[49m\u001B[43mlqns\u001B[49m\u001B[43m.\u001B[49m\u001B[43mSolverLQNS\u001B[49m\u001B[43m(\u001B[49m\u001B[43mmodel\u001B[49m\u001B[43m.\u001B[49m\u001B[43mobj\u001B[49m\u001B[43m,\u001B[49m\u001B[43m \u001B[49m\u001B[38;5;28;43mself\u001B[39;49m\u001B[43m.\u001B[49m\u001B[43msolveropt\u001B[49m\u001B[43m.\u001B[49m\u001B[43mobj\u001B[49m\u001B[43m)\u001B[49m\n",
      "\u001B[31mjava.lang.RuntimeException\u001B[39m: java.lang.RuntimeException: SolverLQNS requires the 'lqns' and 'lqsim' commands to be available in your system PATH.\nYou can install them from: http://www.sce.carleton.ca/rads/lqns/\n\n"
     ]
    }
   ],
   "execution_count": 3
  }
 ],
 "metadata": {
  "kernelspec": {
   "display_name": "Python 3",
   "language": "python",
   "name": "python3"
  },
  "language_info": {
   "codemirror_mode": {
    "name": "ipython",
    "version": 3
   },
   "file_extension": ".py",
   "mimetype": "text/x-python",
   "name": "python",
   "nbconvert_exporter": "python",
   "pygments_lexer": "ipython3",
   "version": "3.6.4"
  }
 },
 "nbformat": 4,
 "nbformat_minor": 2
}
