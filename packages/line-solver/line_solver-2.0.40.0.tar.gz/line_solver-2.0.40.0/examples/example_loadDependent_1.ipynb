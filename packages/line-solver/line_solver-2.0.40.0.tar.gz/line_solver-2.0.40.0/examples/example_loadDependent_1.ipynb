{
 "cells": [
  {
   "cell_type": "markdown",
   "source": "WARNING: this example is not fully functional yet",
   "metadata": {
    "collapsed": false
   },
   "id": "f504839c7e753f35"
  },
  {
   "cell_type": "code",
   "source": [
    "from line_solver import *\n",
    "GlobalConstants.setVerbose(VerboseLevel.STD)"
   ],
   "metadata": {
    "collapsed": false,
    "ExecuteTime": {
     "end_time": "2025-05-17T06:54:00.334293Z",
     "start_time": "2025-05-17T06:53:59.658261Z"
    }
   },
   "id": "2a6c869fa9057919",
   "outputs": [],
   "execution_count": 1
  },
  {
   "cell_type": "code",
   "source": [
    "N = 16 # number of jobs\n",
    "c = 2 # number of servers\n",
    "\n",
    "model = Network('model')\n",
    "node = np.empty(2, dtype=object)\n",
    "node[0] = Delay(model, 'Delay')\n",
    "node[1] = Queue(model, 'Queue1', SchedStrategy.FCFS)\n",
    "\n",
    "jobclass = ClosedClass(model, 'Class1', N, node[0], 0)\n",
    "\n",
    "node[0].setService(jobclass, Exp.fitMean(1.0)) # mean = 1\n",
    "node[1].setService(jobclass, Exp.fitMean(1.5)) # mean = 1.5\n",
    "node[1].setNumberOfServers(c)\n",
    "\n",
    "model.link(Network.serialRouting(node))\n",
    "\n",
    "# TODO: NC not functional yet on load-dependent models\n",
    "# msT=SolverNC(model).getAvgTable()\n",
    "# print(msT)"
   ],
   "metadata": {
    "collapsed": false,
    "ExecuteTime": {
     "end_time": "2025-05-17T06:54:00.436351Z",
     "start_time": "2025-05-17T06:54:00.421546Z"
    }
   },
   "id": "872654342869e1c9",
   "outputs": [],
   "execution_count": 2
  },
  {
   "cell_type": "code",
   "source": [
    "# casted with scaling function that depends on the total queue\n",
    "ldmodel = Network('model')\n",
    "node = np.empty(2, dtype=object)\n",
    "node[0] = Delay(ldmodel, 'Delay')\n",
    "node[1] = Queue(ldmodel, 'Queue1', SchedStrategy.FCFS)\n",
    "\n",
    "jobclass = ClosedClass(ldmodel, 'Class1', N, node[0], 0)\n",
    "\n",
    "node[0].setService(jobclass, Exp.fitMean(1.0)) # mean = 1\n",
    "node[1].setService(jobclass, Exp.fitMean(1.5)) # mean = 1.5\n",
    "\n",
    "node[1].setLoadDependence(np.minimum(np.arange(0,N,1),c)) # multi-server with c servers\n",
    "\n",
    "ldmodel.link(Network.serialRouting(node))\n",
    "\n",
    "#lldAvgTableCTMC=SolverCTMC(ldmodel).getAvgTable\n",
    "\n",
    "# TODO: not implemented yet in JLINE"
   ],
   "metadata": {
    "collapsed": false,
    "ExecuteTime": {
     "end_time": "2025-05-17T06:54:00.499480Z",
     "start_time": "2025-05-17T06:54:00.478623Z"
    }
   },
   "id": "3b4929fbdb789da7",
   "outputs": [],
   "execution_count": 3
  },
  {
   "metadata": {
    "ExecuteTime": {
     "end_time": "2025-05-17T06:54:00.646078Z",
     "start_time": "2025-05-17T06:54:00.528305Z"
    }
   },
   "cell_type": "code",
   "source": "lldAvgTableNC=SolverNC(ldmodel).getAvgTable()",
   "id": "171a4faf09e518e2",
   "outputs": [
    {
     "name": "stdout",
     "output_type": "stream",
     "text": [
      "  Station JobClass     QLen    Util  RespT  ResidT    ArvR    Tput\n",
      "0   Delay   Class1   1.3333  1.3333    1.0     1.0  1.3333  1.3333\n",
      "1  Queue1   Class1  14.6667  1.0000   11.0    11.0  1.3333  1.3333\n"
     ]
    }
   ],
   "execution_count": 4
  },
  {
   "metadata": {
    "ExecuteTime": {
     "end_time": "2025-05-17T06:54:00.671670Z",
     "start_time": "2025-05-17T06:54:00.660869Z"
    }
   },
   "cell_type": "code",
   "source": "lldAvgTableRD=SolverNC(ldmodel,'method','rd').getAvgTable()",
   "id": "c057d2f06c8a195a",
   "outputs": [
    {
     "name": "stdout",
     "output_type": "stream",
     "text": [
      "  Station JobClass     QLen    Util    RespT   ResidT    ArvR    Tput\n",
      "0   Delay   Class1   1.3243  1.3243   1.0000   1.0000  1.3243  1.3243\n",
      "1  Queue1   Class1  14.6757  0.9932  11.0817  11.0817  1.3243  1.3243\n"
     ]
    }
   ],
   "execution_count": 5
  },
  {
   "metadata": {
    "ExecuteTime": {
     "end_time": "2025-05-17T06:54:00.751998Z",
     "start_time": "2025-05-17T06:54:00.714041Z"
    }
   },
   "cell_type": "code",
   "source": "lldAvgTableNRP=SolverNC(ldmodel,'method','nrp').getAvgTable()",
   "id": "479058fc6045d8ca",
   "outputs": [
    {
     "name": "stdout",
     "output_type": "stream",
     "text": [
      "  Station JobClass     QLen    Util  RespT  ResidT    ArvR    Tput\n",
      "0   Delay   Class1   1.3333  1.3333    1.0     1.0  1.3333  1.3333\n",
      "1  Queue1   Class1  14.6667  1.0000   11.0    11.0  1.3333  1.3333\n"
     ]
    }
   ],
   "execution_count": 6
  },
  {
   "metadata": {
    "ExecuteTime": {
     "end_time": "2025-05-17T06:54:00.780655Z",
     "start_time": "2025-05-17T06:54:00.773453Z"
    }
   },
   "cell_type": "code",
   "source": "lldAvgTableNRL=SolverNC(ldmodel,'method','nrl').getAvgTable()",
   "id": "20401292f216d012",
   "outputs": [
    {
     "name": "stdout",
     "output_type": "stream",
     "text": [
      "  Station JobClass     QLen    Util    RespT   ResidT    ArvR    Tput\n",
      "0   Delay   Class1   1.3334  1.3334   1.0000   1.0000  1.3334  1.3334\n",
      "1  Queue1   Class1  14.6666  1.0000  10.9998  10.9998  1.3334  1.3334\n"
     ]
    }
   ],
   "execution_count": 7
  },
  {
   "metadata": {
    "ExecuteTime": {
     "end_time": "2025-05-17T06:54:00.847916Z",
     "start_time": "2025-05-17T06:54:00.832602Z"
    }
   },
   "cell_type": "code",
   "source": "lldAvgTableMVALD=SolverMVA(ldmodel,'method','exact').getAvgTable()",
   "id": "e5a0acb919526898",
   "outputs": [
    {
     "name": "stdout",
     "output_type": "stream",
     "text": [
      "  Station JobClass     QLen    Util  RespT  ResidT    ArvR    Tput\n",
      "0   Delay   Class1   1.3333  1.3333    1.0     1.0  1.3333  1.3333\n",
      "1  Queue1   Class1  14.6667  1.0000   11.0    11.0  1.3333  1.3333\n"
     ]
    }
   ],
   "execution_count": 8
  },
  {
   "metadata": {
    "ExecuteTime": {
     "end_time": "2025-05-17T06:54:00.906585Z",
     "start_time": "2025-05-17T06:54:00.894683Z"
    }
   },
   "cell_type": "code",
   "source": "lldAvgTableQD=SolverMVA(ldmodel,'method','qd').getAvgTable()",
   "id": "dc1f1ee1d02f4b22",
   "outputs": [
    {
     "name": "stdout",
     "output_type": "stream",
     "text": [
      "  Station JobClass     QLen    Util    RespT   ResidT    ArvR    Tput\n",
      "0   Delay   Class1   1.3259  1.3259   1.0000   1.0000  1.3259  1.3259\n",
      "1  Queue1   Class1  14.6742  0.9944  11.0677  11.0677  1.3259  1.3259\n"
     ]
    }
   ],
   "execution_count": 9
  },
  {
   "cell_type": "code",
   "source": [
    "# casted with scaling function that depends on the per-class queue population\n",
    "# cdmodel = Network('model');\n",
    "# node{1} = Delay(cdmodel, 'Delay');\n",
    "# node{2} = Queue(cdmodel, 'Queue1', SchedStrategy.FCFS);\n",
    "# jobclass{1} = ClosedClass(cdmodel, 'Class1', N, node{1}, 0);\n",
    "# node{1}.setService(jobclass{1}, Exp.fitMean(1.0)); % mean = 1\n",
    "# node{2}.setService(jobclass{1}, Exp.fitMean(1.5)); % mean = 1.5\n",
    "# node{2}.setClassDependence(@(ni) min(sum(ni),c)); % ni is a vector where ni(r) is the number of jobs in class r at station i\n",
    "# \n",
    "# cdmodel.link(Network.serialRouting(node));\n",
    "# \n",
    "# cdAvgTableCTMC=SolverCTMC(cdmodel).getAvgTable\n",
    "# cdAvgTableCD=SolverMVA(cdmodel,'method','qd').getAvgTable"
   ],
   "metadata": {
    "collapsed": false,
    "ExecuteTime": {
     "end_time": "2025-05-17T06:54:00.958121Z",
     "start_time": "2025-05-17T06:54:00.955966Z"
    }
   },
   "id": "initial_id",
   "outputs": [],
   "execution_count": 10
  }
 ],
 "metadata": {
  "kernelspec": {
   "display_name": "Python 3",
   "language": "python",
   "name": "python3"
  },
  "language_info": {
   "codemirror_mode": {
    "name": "ipython",
    "version": 2
   },
   "file_extension": ".py",
   "mimetype": "text/x-python",
   "name": "python",
   "nbconvert_exporter": "python",
   "pygments_lexer": "ipython2",
   "version": "2.7.6"
  }
 },
 "nbformat": 4,
 "nbformat_minor": 5
}
