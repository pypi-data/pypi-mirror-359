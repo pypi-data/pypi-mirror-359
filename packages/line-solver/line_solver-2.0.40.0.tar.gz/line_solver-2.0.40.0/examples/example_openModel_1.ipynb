{
 "cells": [
  {
   "cell_type": "code",
   "id": "4930fb9c4fab467c",
   "metadata": {
    "collapsed": true,
    "ExecuteTime": {
     "end_time": "2025-06-30T07:24:49.606516Z",
     "start_time": "2025-06-30T07:24:49.604206Z"
    }
   },
   "source": [
    "from line_solver import *\n",
    "GlobalConstants.setVerbose(VerboseLevel.STD)"
   ],
   "outputs": [],
   "execution_count": 19
  },
  {
   "cell_type": "code",
   "source": [
    "model = Network('model')\n",
    "\n",
    "node = np.empty(4, dtype=object)\n",
    "node[0] = Delay(model, 'Delay')\n",
    "node[1] = Queue(model, 'Queue1', SchedStrategy.FCFS)\n",
    "node[2] = Source(model,'Source')\n",
    "node[3] = Sink(model,'Sink')\n",
    "\n",
    "jobclass = OpenClass(model, 'Class1', 0)\n",
    "\n",
    "node[0].setService(jobclass, HyperExp(0.5,3.0,10.0))\n",
    "node[1].setService(jobclass, Exp(1))\n",
    "node[2].setArrival(jobclass, Exp(0.1))\n",
    "\n",
    "M = model.getNumberOfStations()\n",
    "K = model.getNumberOfClasses()\n",
    "\n",
    "P = model.initRoutingMatrix()\n",
    "P.set(jobclass, jobclass, [[0,1,0,0],[0,0,0,1],[1,0,0,0],[0,0,0,0]])\n",
    "\n",
    "model.link(P)"
   ],
   "metadata": {
    "collapsed": false,
    "ExecuteTime": {
     "end_time": "2025-06-30T07:24:49.662161Z",
     "start_time": "2025-06-30T07:24:49.658724Z"
    }
   },
   "id": "bf3848b78f83c1f7",
   "outputs": [],
   "execution_count": 20
  },
  {
   "cell_type": "markdown",
   "source": [
    "This example shows the execution of the solver on a 1-class 2-node open model."
   ],
   "metadata": {
    "collapsed": false
   },
   "id": "b4e133009e163fe"
  },
  {
   "cell_type": "code",
   "source": [
    "#options = Solver.defaultOptions\n",
    "#options.keep = True\n",
    "#options.verbose = 1\n",
    "#options.cutoff = 10\n",
    "#options.seed = 23000\n",
    "#options.iter_max = 200\n",
    "#options.samples = 2000\n",
    "\n",
    "# This part illustrates the execution of different solvers\n",
    "solver = np.array([], dtype=object)\n",
    "solver = np.append(solver, SolverCTMC(model,'keep',True,'cutoff',1))\n",
    "solver = np.append(solver, SolverJMT(model,'seed',23000,'verbose',False,'keep',True))\n",
    "solver = np.append(solver, SolverSSA(model,'seed',23000,'verbose',True,'samples',10000))\n",
    "solver = np.append(solver, SolverFluid(model))\n",
    "solver = np.append(solver, SolverMVA(model))\n",
    "solver = np.append(solver, SolverNC(model))\n",
    "#solver = np.append(solver, SolverMAM(model)) # TODO: bug in MAM\n",
    "#solver = np.append(solver, LINE(model))\n",
    "\n",
    "AvgTable = np.empty(len(solver), dtype=object)\n",
    "for s in range(len(solver)):\n",
    "    print(f'\\nSOLVER: {solver[s].getName()}')\n",
    "    AvgTable[s] = solver[s].getAvgTable()"
   ],
   "metadata": {
    "collapsed": false,
    "ExecuteTime": {
     "end_time": "2025-06-30T07:24:51.128Z",
     "start_time": "2025-06-30T07:24:49.720223Z"
    }
   },
   "id": "initial_id",
   "outputs": [
    {
     "name": "stdout",
     "output_type": "stream",
     "text": [
      "\n",
      "SOLVER: SolverCTMC\n",
      "  Station JobClass    QLen    Util   RespT  ResidT    ArvR    Tput\n",
      "0   Delay   Class1  0.0193  0.0193  0.2167  0.2167  0.0892  0.0892\n",
      "1  Queue1   Class1  0.0892  0.0892  1.0000  1.0000  0.0892  0.0892\n",
      "2  Source   Class1  0.0000  0.0000  0.0000  0.0000  0.0000  0.0892\n",
      "\n",
      "SOLVER: SolverJMT\n",
      "  Station JobClass    QLen    Util   RespT  ResidT    ArvR    Tput\n",
      "0   Delay   Class1  0.0227  0.0227  0.2148  0.2148  0.0996  0.0996\n",
      "1  Queue1   Class1  0.1133  0.1022  1.1075  1.1075  0.0996  0.1000\n",
      "2  Source   Class1  0.0000  0.0000  0.0000  0.0000  0.0000  0.0996\n",
      "\n",
      "SOLVER: SolverSSA\n",
      "SSA samples:   10000\n",
      "SSA [method: default(serial), lang: java, env: 21.0.7] completed in 0.673000s.\n",
      "  Station JobClass    QLen    Util   RespT  ResidT    ArvR    Tput\n",
      "0   Delay   Class1  0.0215  0.0215  0.2196  0.2196  0.1000  0.0981\n",
      "1  Queue1   Class1  0.1086  0.0981  1.1105  1.1105  0.0981  0.0978\n",
      "2  Source   Class1  0.0000  0.0000  0.0000  0.0000  0.0000  0.1000\n",
      "\n",
      "SOLVER: SolverFluid\n",
      "Fluid [method: closing, lang: java, env: 21.0.7] completed in 0.005765s.\n",
      "  Station JobClass    QLen    Util   RespT  ResidT  ArvR  Tput\n",
      "0   Delay   Class1  0.0217  0.0217  0.2167  0.2167   0.0   0.1\n",
      "1  Queue1   Class1  0.1000  0.1000  1.0000  1.0000   0.0   0.1\n",
      "2  Source   Class1  0.0000  0.0000  0.0000  0.0000   0.0   0.1\n",
      "\n",
      "SOLVER: SolverNC\n"
     ]
    },
    {
     "name": "stderr",
     "output_type": "stream",
     "text": [
      "java.lang.RuntimeException: The load-dependent solver does not support open classes yet.\n",
      "\tat jline.solvers.nc.handlers.Solver_ncldKt.solver_ncld(Solver_ncld.kt:56)\n",
      "\tat jline.solvers.nc.analyzers.Solver_ncld_analyzerKt.solver_ncld_analyzer(Solver_ncld_analyzer.kt:62)\n",
      "\tat jline.solvers.nc.SolverNC.runAnalyzer(SolverNC.java:249)\n",
      "\tat jline.solvers.NetworkSolver.getAvg(NetworkSolver.java:266)\n",
      "\tat jline.solvers.NetworkSolver.getAvgTable(NetworkSolver.java:592)\n"
     ]
    },
    {
     "ename": "java.lang.RuntimeException",
     "evalue": "java.lang.RuntimeException: Unable to compute results and therefore unable to print AvgTable.",
     "output_type": "error",
     "traceback": [
      "\u001B[31m---------------------------------------------------------------------------\u001B[39m",
      "\u001B[31mException\u001B[39m                                 Traceback (most recent call last)",
      "\u001B[36mFile \u001B[39m\u001B[32mNetworkSolver.java:606\u001B[39m, in \u001B[36mjline.solvers.NetworkSolver.getAvgTable\u001B[39m\u001B[34m()\u001B[39m\n",
      "\u001B[31mException\u001B[39m: Java Exception",
      "\nThe above exception was the direct cause of the following exception:\n",
      "\u001B[31mjava.lang.RuntimeException\u001B[39m                Traceback (most recent call last)",
      "\u001B[36mCell\u001B[39m\u001B[36m \u001B[39m\u001B[32mIn[21]\u001B[39m\u001B[32m, line 23\u001B[39m\n\u001B[32m     21\u001B[39m \u001B[38;5;28;01mfor\u001B[39;00m s \u001B[38;5;129;01min\u001B[39;00m \u001B[38;5;28mrange\u001B[39m(\u001B[38;5;28mlen\u001B[39m(solver)):\n\u001B[32m     22\u001B[39m     \u001B[38;5;28mprint\u001B[39m(\u001B[33mf\u001B[39m\u001B[33m'\u001B[39m\u001B[38;5;130;01m\\n\u001B[39;00m\u001B[33mSOLVER: \u001B[39m\u001B[38;5;132;01m{\u001B[39;00msolver[s].getName()\u001B[38;5;132;01m}\u001B[39;00m\u001B[33m'\u001B[39m)\n\u001B[32m---> \u001B[39m\u001B[32m23\u001B[39m     AvgTable[s] = \u001B[43msolver\u001B[49m\u001B[43m[\u001B[49m\u001B[43ms\u001B[49m\u001B[43m]\u001B[49m\u001B[43m.\u001B[49m\u001B[43mgetAvgTable\u001B[49m\u001B[43m(\u001B[49m\u001B[43m)\u001B[49m\n",
      "\u001B[36mFile \u001B[39m\u001B[32m/mnt/c/Users/gcasale/Dropbox/code/line-solver.git/python/line_solver/solvers.py:181\u001B[39m, in \u001B[36mNetworkSolver.getAvgTable\u001B[39m\u001B[34m(self)\u001B[39m\n\u001B[32m    180\u001B[39m \u001B[38;5;28;01mdef\u001B[39;00m\u001B[38;5;250m \u001B[39m\u001B[34mgetAvgTable\u001B[39m(\u001B[38;5;28mself\u001B[39m):\n\u001B[32m--> \u001B[39m\u001B[32m181\u001B[39m     table = \u001B[38;5;28;43mself\u001B[39;49m\u001B[43m.\u001B[49m\u001B[43mobj\u001B[49m\u001B[43m.\u001B[49m\u001B[43mgetAvgTable\u001B[49m\u001B[43m(\u001B[49m\u001B[43m)\u001B[49m\n\u001B[32m    183\u001B[39m     \u001B[38;5;66;03m# convert to NumPy\u001B[39;00m\n\u001B[32m    185\u001B[39m     QLen = np.array(\u001B[38;5;28mlist\u001B[39m(table.getQLen()))\n",
      "\u001B[31mjava.lang.RuntimeException\u001B[39m: java.lang.RuntimeException: Unable to compute results and therefore unable to print AvgTable."
     ]
    }
   ],
   "execution_count": 21
  }
 ],
 "metadata": {
  "kernelspec": {
   "display_name": "Python 3",
   "language": "python",
   "name": "python3"
  },
  "language_info": {
   "codemirror_mode": {
    "name": "ipython",
    "version": 2
   },
   "file_extension": ".py",
   "mimetype": "text/x-python",
   "name": "python",
   "nbconvert_exporter": "python",
   "pygments_lexer": "ipython2",
   "version": "2.7.6"
  }
 },
 "nbformat": 4,
 "nbformat_minor": 5
}
