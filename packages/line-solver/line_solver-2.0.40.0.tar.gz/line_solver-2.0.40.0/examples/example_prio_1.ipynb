{
 "cells": [
  {
   "cell_type": "code",
   "id": "initial_id",
   "metadata": {
    "collapsed": true,
    "ExecuteTime": {
     "end_time": "2025-05-17T06:54:25.639734Z",
     "start_time": "2025-05-17T06:54:24.918636Z"
    }
   },
   "source": [
    "from line_solver import *\n",
    "GlobalConstants.setVerbose(VerboseLevel.STD)"
   ],
   "outputs": [],
   "execution_count": 1
  },
  {
   "cell_type": "code",
   "source": [
    "# multiclass example with PS, SIRO, FCFS, HOL priority\n",
    "model = Network('MyNetwork')\n",
    "\n",
    "# Block 1: nodes\n",
    "node = np.empty(6, dtype=object)\n",
    "node[0] = Source(model, 'Source')\n",
    "node[1] = Queue(model, 'Queue1', SchedStrategy.PS)\n",
    "node[2] = Queue(model, 'Queue2', SchedStrategy.PS)\n",
    "node[3] = Queue(model, 'Queue3', SchedStrategy.PS)\n",
    "node[4] = Queue(model, 'Queue4', SchedStrategy.PS)\n",
    "node[5] = Sink(model, 'Sink')\n",
    "\n",
    "# Block 2: classes\n",
    "jobclass = np.empty(3, dtype=object)\n",
    "jobclass[0] = OpenClass(model, 'Class1', 0)\n",
    "jobclass[1] = OpenClass(model, 'Class2', 1) # higher priority\n",
    "jobclass[2] = OpenClass(model, 'Class3', 0)\n",
    "\n",
    "node[0].setArrival(jobclass[0], Exp.fitMean(10.0)) # (Source of Customers,Class0)\n",
    "node[0].setArrival(jobclass[1], Exp.fitMean(10.0)) # (Source of Customers,Class1)\n",
    "node[0].setArrival(jobclass[2], Exp.fitMean(10.0)) # (Source of Customers,Class2)\n",
    "node[1].setService(jobclass[0], Exp.fitMean(0.3)) # (WebServer,Class0)\n",
    "node[1].setService(jobclass[1], Exp.fitMean(0.5)) # (WebServer,Class1)\n",
    "node[1].setService(jobclass[2], Exp.fitMean(0.6)) # (WebServer,Class2)\n",
    "node[2].setService(jobclass[0], Exp.fitMean(1.1)) # (Storage1,Class0)\n",
    "node[2].setService(jobclass[1], Exp.fitMean(1.3)) # (Storage1,Class1)\n",
    "node[2].setService(jobclass[2], Exp.fitMean(1.5)) # (Storage1,Class2)\n",
    "node[3].setService(jobclass[0], Exp.fitMean(2.0)) # (Storage2,Class0)\n",
    "node[3].setService(jobclass[1], Exp.fitMean(2.1)) # (Storage2,Class1)\n",
    "node[3].setService(jobclass[2], Exp.fitMean(1.9)) # (Storage2,Class2)\n",
    "node[4].setService(jobclass[0], Exp.fitMean(2.5)) # (Storage3,Class0)\n",
    "node[4].setService(jobclass[1], Exp.fitMean(1.9)) # (Storage3,Class1)\n",
    "node[4].setService(jobclass[2], Exp.fitMean(4.3)) # (Storage3,Class2)\n",
    "\n",
    "# Block 3: topology\n",
    "P = model.initRoutingMatrix() # initialize routing matrix \n",
    "P.set(jobclass[0],jobclass[0],node[0],node[1], 1.0) # (Source of Customers,Class0) -> (WebServer,Class0)\n",
    "P.set(jobclass[0],jobclass[0],node[1],node[2], 2.50e-01) # (WebServer,Class0) -> (Storage1,Class0)\n",
    "P.set(jobclass[0],jobclass[0],node[1],node[3], 2.50e-01) # (WebServer,Class0) -> (Storage2,Class0)\n",
    "P.set(jobclass[0],jobclass[0],node[1],node[4], 2.50e-01) # (WebServer,Class0) -> (Storage3,Class0)\n",
    "P.set(jobclass[0],jobclass[0],node[1],node[5], 2.50e-01) # (WebServer,Class0) -> (Out,Class0)\n",
    "P.set(jobclass[0],jobclass[0],node[2],node[1], 1.0) # (Storage1,Class0) -> (WebServer,Class0)\n",
    "P.set(jobclass[0],jobclass[0],node[3],node[1], 1.0) # (Storage2,Class0) -> (WebServer,Class0)\n",
    "P.set(jobclass[0],jobclass[0],node[4],node[1], 1.0) # (Storage3,Class0) -> (WebServer,Class0)\n",
    "P.set(jobclass[1],jobclass[1],node[0],node[1], 1.0) # (Source of Customers,Class1) -> (WebServer,Class1)\n",
    "P.set(jobclass[1],jobclass[1],node[1],node[2],2.50e-01) # (WebServer,Class1) -> (Storage1,Class1)\n",
    "P.set(jobclass[1],jobclass[1],node[1],node[3],2.50e-01) # (WebServer,Class1) -> (Storage2,Class1)\n",
    "P.set(jobclass[1],jobclass[1],node[1],node[4],2.50e-01) # (WebServer,Class1) -> (Storage3,Class1)\n",
    "P.set(jobclass[1],jobclass[1],node[1],node[5],2.50e-01) # (WebServer,Class1) -> (Out,Class1)\n",
    "P.set(jobclass[1],jobclass[1],node[2],node[1],1.0) # (Storage1,Class1) -> (WebServer,Class1)\n",
    "P.set(jobclass[1],jobclass[1],node[3],node[1],1.0) # (Storage2,Class1) -> (WebServer,Class1)\n",
    "P.set(jobclass[1],jobclass[1],node[4],node[1],1.0) # (Storage3,Class1) -> (WebServer,Class1)\n",
    "P.set(jobclass[2],jobclass[2],node[0],node[1],1.0) # (Source of Customers,Class2) -> (WebServer,Class2)\n",
    "P.set(jobclass[2],jobclass[2],node[1],node[2],2.50e-01) # (WebServer,Class2) -> (Storage1,Class2)\n",
    "P.set(jobclass[2],jobclass[2],node[1],node[3],2.50e-01) # (WebServer,Class2) -> (Storage2,Class2)\n",
    "P.set(jobclass[2],jobclass[2],node[1],node[4],2.50e-01) # (WebServer,Class2) -> (Storage3,Class2)\n",
    "P.set(jobclass[2],jobclass[2],node[1],node[5],2.50e-01) # (WebServer,Class2) -> (Out,Class2)\n",
    "P.set(jobclass[2],jobclass[2],node[2],node[1],1.0) # (Storage1,Class2) -> (WebServer,Class2)\n",
    "P.set(jobclass[2],jobclass[2],node[3],node[1],1.0) # (Storage2,Class2) -> (WebServer,Class2)\n",
    "P.set(jobclass[2],jobclass[2],node[4],node[1],1.0) # (Storage3,Class2) -> (WebServer,Class2)\n",
    "model.link(P)"
   ],
   "metadata": {
    "collapsed": false,
    "ExecuteTime": {
     "end_time": "2025-05-17T06:54:25.818829Z",
     "start_time": "2025-05-17T06:54:25.760Z"
    }
   },
   "id": "2d0af03a60ffaab4",
   "outputs": [],
   "execution_count": 2
  },
  {
   "cell_type": "code",
   "source": [
    "solver = SolverCTMC(model,'keep',True,'cutoff',1)\n",
    "AvgTable = solver.getAvgTable()\n",
    "print(AvgTable)"
   ],
   "metadata": {
    "collapsed": false,
    "ExecuteTime": {
     "end_time": "2025-05-17T06:54:26.123245Z",
     "start_time": "2025-05-17T06:54:25.827676Z"
    }
   },
   "id": "b1ed1c4bc0a10843",
   "outputs": [
    {
     "name": "stdout",
     "output_type": "stream",
     "text": [
      "   Station JobClass    QLen    Util   RespT  ResidT    ArvR    Tput\n",
      "0   Source   Class1  0.0000  0.0000  0.0000  0.0000  0.0000  0.0538\n",
      "1   Source   Class2  0.0000  0.0000  0.0000  0.0000  0.0000  0.0523\n",
      "2   Source   Class3  0.0000  0.0000  0.0000  0.0000  0.0000  0.0445\n",
      "3   Queue1   Class1  0.0806  0.0645  0.3747  1.4989  0.2151  0.2151\n",
      "4   Queue1   Class2  0.1252  0.1046  0.5984  2.3935  0.2093  0.2093\n",
      "5   Queue1   Class3  0.1276  0.1068  0.7170  2.8679  0.1780  0.1780\n",
      "6   Queue2   Class1  0.0682  0.0591  1.2680  1.2680  0.0538  0.0538\n",
      "7   Queue2   Class2  0.0777  0.0680  1.4844  1.4844  0.0523  0.0523\n",
      "8   Queue2   Class3  0.0764  0.0667  1.7162  1.7162  0.0445  0.0445\n",
      "9   Queue3   Class1  0.1319  0.1075  2.4531  2.4531  0.0538  0.0538\n",
      "10  Queue3   Class2  0.1344  0.1099  2.5693  2.5693  0.0523  0.0523\n",
      "11  Queue3   Class3  0.1064  0.0845  2.3902  2.3902  0.0445  0.0445\n",
      "12  Queue4   Class1  0.1817  0.1344  3.3791  3.3791  0.0538  0.0538\n",
      "13  Queue4   Class2  0.1395  0.0994  2.6668  2.6668  0.0523  0.0523\n",
      "14  Queue4   Class3  0.2447  0.1913  5.4999  5.4999  0.0445  0.0445\n",
      "   Station JobClass    QLen    Util   RespT  ResidT    ArvR    Tput\n",
      "0   Source   Class1  0.0000  0.0000  0.0000  0.0000  0.0000  0.0538\n",
      "1   Source   Class2  0.0000  0.0000  0.0000  0.0000  0.0000  0.0523\n",
      "2   Source   Class3  0.0000  0.0000  0.0000  0.0000  0.0000  0.0445\n",
      "3   Queue1   Class1  0.0806  0.0645  0.3747  1.4989  0.2151  0.2151\n",
      "4   Queue1   Class2  0.1252  0.1046  0.5984  2.3935  0.2093  0.2093\n",
      "5   Queue1   Class3  0.1276  0.1068  0.7170  2.8679  0.1780  0.1780\n",
      "6   Queue2   Class1  0.0682  0.0591  1.2680  1.2680  0.0538  0.0538\n",
      "7   Queue2   Class2  0.0777  0.0680  1.4844  1.4844  0.0523  0.0523\n",
      "8   Queue2   Class3  0.0764  0.0667  1.7162  1.7162  0.0445  0.0445\n",
      "9   Queue3   Class1  0.1319  0.1075  2.4531  2.4531  0.0538  0.0538\n",
      "10  Queue3   Class2  0.1344  0.1099  2.5693  2.5693  0.0523  0.0523\n",
      "11  Queue3   Class3  0.1064  0.0845  2.3902  2.3902  0.0445  0.0445\n",
      "12  Queue4   Class1  0.1817  0.1344  3.3791  3.3791  0.0538  0.0538\n",
      "13  Queue4   Class2  0.1395  0.0994  2.6668  2.6668  0.0523  0.0523\n",
      "14  Queue4   Class3  0.2447  0.1913  5.4999  5.4999  0.0445  0.0445\n"
     ]
    }
   ],
   "execution_count": 3
  },
  {
   "cell_type": "code",
   "source": [
    "solver = SolverFluid(model)\n",
    "AvgTable = solver.getAvgTable()\n",
    "print(AvgTable)"
   ],
   "metadata": {
    "collapsed": false,
    "ExecuteTime": {
     "end_time": "2025-05-17T06:54:26.225811Z",
     "start_time": "2025-05-17T06:54:26.137005Z"
    }
   },
   "id": "e8d3f346ea510596",
   "outputs": [
    {
     "name": "stdout",
     "output_type": "stream",
     "text": [
      "   Station JobClass  QLen  Util  RespT  ResidT  ArvR  Tput\n",
      "0   Source   Class1  0.00  0.00    0.0     0.0   0.0   0.1\n",
      "1   Source   Class2  0.00  0.00    0.0     0.0   0.0   0.1\n",
      "2   Source   Class3  0.00  0.00    0.0     0.0   0.0   0.1\n",
      "3   Queue1   Class1  0.12  0.12    0.3     1.2   0.0   0.4\n",
      "4   Queue1   Class2  0.20  0.20    0.5     2.0   0.0   0.4\n",
      "5   Queue1   Class3  0.24  0.24    0.6     2.4   0.0   0.4\n",
      "6   Queue2   Class1  0.11  0.11    1.1     1.1   0.0   0.1\n",
      "7   Queue2   Class2  0.13  0.13    1.3     1.3   0.0   0.1\n",
      "8   Queue2   Class3  0.15  0.15    1.5     1.5   0.0   0.1\n",
      "9   Queue3   Class1  0.20  0.20    2.0     2.0   0.0   0.1\n",
      "10  Queue3   Class2  0.21  0.21    2.1     2.1   0.0   0.1\n",
      "11  Queue3   Class3  0.19  0.19    1.9     1.9   0.0   0.1\n",
      "12  Queue4   Class1  0.25  0.25    2.5     2.5   0.0   0.1\n",
      "13  Queue4   Class2  0.19  0.19    1.9     1.9   0.0   0.1\n",
      "14  Queue4   Class3  0.43  0.43    4.3     4.3   0.0   0.1\n",
      "   Station JobClass  QLen  Util  RespT  ResidT  ArvR  Tput\n",
      "0   Source   Class1  0.00  0.00    0.0     0.0   0.0   0.1\n",
      "1   Source   Class2  0.00  0.00    0.0     0.0   0.0   0.1\n",
      "2   Source   Class3  0.00  0.00    0.0     0.0   0.0   0.1\n",
      "3   Queue1   Class1  0.12  0.12    0.3     1.2   0.0   0.4\n",
      "4   Queue1   Class2  0.20  0.20    0.5     2.0   0.0   0.4\n",
      "5   Queue1   Class3  0.24  0.24    0.6     2.4   0.0   0.4\n",
      "6   Queue2   Class1  0.11  0.11    1.1     1.1   0.0   0.1\n",
      "7   Queue2   Class2  0.13  0.13    1.3     1.3   0.0   0.1\n",
      "8   Queue2   Class3  0.15  0.15    1.5     1.5   0.0   0.1\n",
      "9   Queue3   Class1  0.20  0.20    2.0     2.0   0.0   0.1\n",
      "10  Queue3   Class2  0.21  0.21    2.1     2.1   0.0   0.1\n",
      "11  Queue3   Class3  0.19  0.19    1.9     1.9   0.0   0.1\n",
      "12  Queue4   Class1  0.25  0.25    2.5     2.5   0.0   0.1\n",
      "13  Queue4   Class2  0.19  0.19    1.9     1.9   0.0   0.1\n",
      "14  Queue4   Class3  0.43  0.43    4.3     4.3   0.0   0.1\n"
     ]
    }
   ],
   "execution_count": 4
  },
  {
   "cell_type": "code",
   "source": [
    "solver = SolverMVA(model)\n",
    "AvgTable = solver.getAvgTable()"
   ],
   "metadata": {
    "collapsed": false,
    "ExecuteTime": {
     "end_time": "2025-05-17T06:54:26.284177Z",
     "start_time": "2025-05-17T06:54:26.246467Z"
    }
   },
   "id": "fd4b2c4a6564d3b9",
   "outputs": [
    {
     "name": "stdout",
     "output_type": "stream",
     "text": [
      "   Station JobClass    QLen  Util    RespT   ResidT  ArvR  Tput\n",
      "0   Source   Class1  0.0000  0.00   0.0000   0.0000   0.0   0.1\n",
      "1   Source   Class2  0.0000  0.00   0.0000   0.0000   0.0   0.1\n",
      "2   Source   Class3  0.0000  0.00   0.0000   0.0000   0.0   0.1\n",
      "3   Queue1   Class1  0.2727  0.12   0.6818   2.7273   0.0   0.4\n",
      "4   Queue1   Class2  0.4545  0.20   1.1364   4.5455   0.0   0.4\n",
      "5   Queue1   Class3  0.5455  0.24   1.3636   5.4545   0.0   0.4\n",
      "6   Queue2   Class1  0.1803  0.11   1.8033   1.8033   0.0   0.1\n",
      "7   Queue2   Class2  0.2131  0.13   2.1311   2.1311   0.0   0.1\n",
      "8   Queue2   Class3  0.2459  0.15   2.4590   2.4590   0.0   0.1\n",
      "9   Queue3   Class1  0.5000  0.20   5.0000   5.0000   0.0   0.1\n",
      "10  Queue3   Class2  0.5250  0.21   5.2500   5.2500   0.0   0.1\n",
      "11  Queue3   Class3  0.4750  0.19   4.7500   4.7500   0.0   0.1\n",
      "12  Queue4   Class1  1.9227  0.25  19.2267  19.2267   0.0   0.1\n",
      "13  Queue4   Class2  1.4612  0.19  14.6123  14.6123   0.0   0.1\n",
      "14  Queue4   Class3  3.3070  0.43  33.0700  33.0700   0.0   0.1\n"
     ]
    }
   ],
   "execution_count": 5
  },
  {
   "cell_type": "code",
   "source": [
    "solver = SolverJMT(model,'seed',23000,'verbose',False,'keep',True)\n",
    "AvgTable = solver.getAvgTable()"
   ],
   "metadata": {
    "collapsed": false,
    "ExecuteTime": {
     "end_time": "2025-05-17T06:54:27.886589Z",
     "start_time": "2025-05-17T06:54:26.300059Z"
    }
   },
   "id": "19b311ca76098e3c",
   "outputs": [
    {
     "name": "stdout",
     "output_type": "stream",
     "text": [
      "   Station JobClass    QLen    Util    RespT   ResidT    ArvR    Tput\n",
      "0   Source   Class1  0.0000  0.0000   0.0000   0.0000  0.0000  0.1010\n",
      "1   Source   Class2  0.0000  0.0000   0.0000   0.0000  0.0000  0.0983\n",
      "2   Source   Class3  0.0000  0.0000   0.0000   0.0000  0.0000  0.1008\n",
      "3   Queue1   Class1  0.2729  0.1098   0.6852   2.7408  0.4115  0.4115\n",
      "4   Queue1   Class2  0.4435  0.1960   1.1263   4.5054  0.4007  0.4007\n",
      "5   Queue1   Class3  0.5443  0.2793   1.3218   5.2872  0.3929  0.3871\n",
      "6   Queue2   Class1  0.1722  0.1071   1.7438   1.7438  0.0998  0.0999\n",
      "7   Queue2   Class2  0.2183  0.1276   2.0800   2.0800  0.1005  0.0989\n",
      "8   Queue2   Class3  0.2271  0.1389   2.3788   2.3788  0.0990  0.0990\n",
      "9   Queue3   Class1  0.4820  0.2064   4.9717   4.9717  0.0992  0.0991\n",
      "10  Queue3   Class2  0.5287  0.1842   4.8793   4.8793  0.1046  0.1034\n",
      "11  Queue3   Class3  0.4668  0.1856   4.4622   4.4622  0.1000  0.1000\n",
      "12  Queue4   Class1  1.6893  0.2585  16.0697  16.0697  0.0964  0.0963\n",
      "13  Queue4   Class2  1.3777  0.1798  13.0724  13.0724  0.1030  0.1034\n",
      "14  Queue4   Class3  2.9519  0.4197  27.1442  27.1442  0.1009  0.1011\n"
     ]
    }
   ],
   "execution_count": 6
  }
 ],
 "metadata": {
  "kernelspec": {
   "display_name": "Python 3",
   "language": "python",
   "name": "python3"
  },
  "language_info": {
   "codemirror_mode": {
    "name": "ipython",
    "version": 2
   },
   "file_extension": ".py",
   "mimetype": "text/x-python",
   "name": "python",
   "nbconvert_exporter": "python",
   "pygments_lexer": "ipython2",
   "version": "2.7.6"
  }
 },
 "nbformat": 4,
 "nbformat_minor": 5
}
