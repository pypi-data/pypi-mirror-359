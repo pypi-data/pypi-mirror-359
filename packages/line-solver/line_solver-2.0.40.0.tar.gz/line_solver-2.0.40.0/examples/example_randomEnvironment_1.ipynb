{
 "cells": [
  {
   "cell_type": "code",
   "source": [
    "from line_solver import *\n",
    "GlobalConstants.setVerbose(VerboseLevel.STD)"
   ],
   "metadata": {
    "collapsed": false,
    "ExecuteTime": {
     "end_time": "2025-05-17T06:54:34.644790Z",
     "start_time": "2025-05-17T06:54:33.957358Z"
    }
   },
   "id": "e5b643ca6db90f63",
   "outputs": [],
   "execution_count": 1
  },
  {
   "cell_type": "code",
   "source": [
    "N = 1\n",
    "M = 2\n",
    "E = 2\n",
    "envModel = Env('MyEnv', E)\n",
    "envName = ['Stage1', 'Stage2']\n",
    "envType = ['UP', 'DOWN']\n",
    "\n",
    "rate = np.array([[2,1],[1,2]])"
   ],
   "metadata": {
    "collapsed": false,
    "ExecuteTime": {
     "end_time": "2025-05-17T06:54:34.732592Z",
     "start_time": "2025-05-17T06:54:34.724719Z"
    }
   },
   "id": "be89dcf9f773ee40",
   "outputs": [],
   "execution_count": 2
  },
  {
   "cell_type": "code",
   "source": [
    "def example_randomEnvironment_genqn(rate, N):\n",
    "    # sn1\n",
    "    qnet = Network('qn1')\n",
    "    \n",
    "    node = np.empty(2, dtype=object)\n",
    "    node[0] = Delay(qnet, 'Queue1')\n",
    "    node[1] = Queue(qnet, 'Queue2', SchedStrategy.PS)\n",
    "\n",
    "    jobclass = np.empty(1, dtype=object)\n",
    "    jobclass[0] = ClosedClass(qnet, 'Class1', N, node[0], 0)\n",
    "    \n",
    "    node[0].setService(jobclass[0], Exp(rate[0]))\n",
    "    node[1].setService(jobclass[0], Exp(rate[1]))\n",
    "    \n",
    "    P = qnet.initRoutingMatrix()\n",
    "    P.set(jobclass[0],jobclass[0], [[0,1],[1,0]])\n",
    "    qnet.link(P)\n",
    "    return qnet"
   ],
   "metadata": {
    "collapsed": false,
    "ExecuteTime": {
     "end_time": "2025-05-17T06:54:34.749032Z",
     "start_time": "2025-05-17T06:54:34.746211Z"
    }
   },
   "id": "ee2686164cd5d763",
   "outputs": [],
   "execution_count": 3
  },
  {
   "cell_type": "code",
   "source": [
    "envSubModel = [example_randomEnvironment_genqn(rate[:,0],N), example_randomEnvironment_genqn(rate[:,1],N)]\n",
    "\n",
    "for e in range(E):\n",
    "    envModel.addStage(e, envName[e], envType[e], envSubModel[e])\n",
    " \n",
    "envRates = [[0,1], [0.5,0.5]]\n",
    "for e in range(E):\n",
    "    for h in range(E):\n",
    "        if envRates[e][h]>0.0:\n",
    "            envModel.addTransition(e, h, Exp(envRates[e][h]))\n"
   ],
   "metadata": {
    "collapsed": false,
    "ExecuteTime": {
     "end_time": "2025-05-17T06:54:34.821341Z",
     "start_time": "2025-05-17T06:54:34.796977Z"
    }
   },
   "id": "466e397ba3955800",
   "outputs": [],
   "execution_count": 4
  },
  {
   "cell_type": "markdown",
   "source": [
    "The metasolver considers an environment with 2 stages and a queueing network with 2 stations.\n",
    "Every time the stage changes, the queueing network will modify the service rates of the stations."
   ],
   "metadata": {
    "collapsed": false
   },
   "id": "71b9822ab1d183ea"
  },
  {
   "cell_type": "code",
   "source": [
    "##options.iter_tol = 1e-5\n",
    "# options = Solver.defaultOptions\n",
    "# options.timespan = [0,Inf]\n",
    "# options.iter_max = 100\n",
    "# options.iter_tol = 0.01\n",
    "# options.method = 'default'\n",
    "# options.verbose = true\n",
    "\n",
    "#TODO: getStageTable not implemented yet\n",
    "#envModel.getStageTable() \n",
    "\n",
    "#TODO: refactor Java Env to be closer to MATLAB \n",
    "# sfoptions = SolverFluid.defaultOptions\n",
    "# sfoptions.timespan = [0,1e3]\n",
    "# sfoptions.verbose = false\n",
    " \n",
    "solvers = np.empty(2, dtype=object)\n",
    "solvers[0] = SolverFluid(envSubModel[0])\n",
    "solvers[1] = SolverFluid(envSubModel[1])\n",
    "# envSolver = SolverEnv(envModel,@(model) SolverFluid(model, sfoptions),options)\n",
    "solver = SolverEnv(envModel, solvers)\n",
    "# [QN,UN,TN] = envSolver.getAvg()\n",
    "avgTable = solver.getEnsembleAvg()\n",
    "print(avgTable)\n"
   ],
   "metadata": {
    "collapsed": false,
    "ExecuteTime": {
     "end_time": "2025-05-17T06:54:34.985796Z",
     "start_time": "2025-05-17T06:54:34.848949Z"
    }
   },
   "id": "initial_id",
   "outputs": [
    {
     "name": "stdout",
     "output_type": "stream",
     "text": [
      "End time of transient analysis unspecified, setting the timespan option to [0.000000, 30.000000].\n",
      "End time of transient analysis unspecified, setting the timespan option to [0.000000, 30.000000].\n",
      "None\n"
     ]
    }
   ],
   "execution_count": 5
  }
 ],
 "metadata": {
  "kernelspec": {
   "display_name": "Python 3",
   "language": "python",
   "name": "python3"
  },
  "language_info": {
   "codemirror_mode": {
    "name": "ipython",
    "version": 2
   },
   "file_extension": ".py",
   "mimetype": "text/x-python",
   "name": "python",
   "nbconvert_exporter": "python",
   "pygments_lexer": "ipython2",
   "version": "2.7.6"
  }
 },
 "nbformat": 4,
 "nbformat_minor": 5
}
