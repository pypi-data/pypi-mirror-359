{
 "cells": [
  {
   "cell_type": "markdown",
   "source": [
    "WARNING: this example is not yet fully functional"
   ],
   "metadata": {
    "collapsed": false
   },
   "id": "dcad857c796f5ad3"
  },
  {
   "cell_type": "code",
   "source": [
    "from line_solver import *\n",
    "GlobalConstants.setVerbose(VerboseLevel.STD)"
   ],
   "metadata": {
    "collapsed": false,
    "ExecuteTime": {
     "end_time": "2025-05-17T06:54:42.945325Z",
     "start_time": "2025-05-17T06:54:42.256562Z"
    }
   },
   "id": "initial_id",
   "outputs": [],
   "execution_count": 1
  },
  {
   "cell_type": "code",
   "source": [
    "model = Network('model')\n",
    "\n",
    "node = np.empty(3, dtype=object)\n",
    "node[0] = Delay(model, 'Delay')\n",
    "node[1] = Queue(model, 'Queue1', SchedStrategy.PS)\n",
    "node[2] = Queue(model, 'Queue2', SchedStrategy.FCFS)\n",
    "\n",
    "jobclass = np.empty(2, dtype=object)\n",
    "jobclass[0] = ClosedClass(model, 'Class1', 1, node[0], 0)\n",
    "jobclass[1] = ClosedClass(model, 'Class2', 2, node[0], 0)\n",
    "\n",
    "# renewal\n",
    "map21 = APH([1,0],[[-2,2],[0,-0.5]])\n",
    "map22 = MAP([-1],[1]) \n",
    "# non-renewal\n",
    "map31 = MAP([[-20,0],[0,-1]],[[0,20],[0.8,0.2]])\n",
    "map32 = MAP([[-20,0],[0,-1]],[[0,20],[0.8,0.2]])\n",
    "\n",
    "node[0].setService(jobclass[0], HyperExp.fitMeanAndSCV(1.0,25.0))\n",
    "node[1].setService(jobclass[0], map21)\n",
    "node[2].setService(jobclass[0], map31)\n",
    "\n",
    "node[0].setService(jobclass[1], HyperExp.fitMeanAndSCV(1.0,25.0))\n",
    "node[1].setService(jobclass[1], map22)\n",
    "node[2].setService(jobclass[1], map32)\n",
    "\n",
    "model.addLink(node[0], node[0])\n",
    "model.addLink(node[0], node[1])\n",
    "model.addLink(node[0], node[2])\n",
    "model.addLink(node[1], node[0])\n",
    "model.addLink(node[2], node[0])\n",
    "\n",
    "node[0].setRouting(jobclass[0],RoutingStrategy.RROBIN) # if changed to RAND the EJML exception goes\n",
    "node[1].setProbRouting(jobclass[0], node[0], 1.0)\n",
    "node[2].setProbRouting(jobclass[0], node[0], 1.0)\n",
    "\n",
    "node[0].setRouting(jobclass[1],RoutingStrategy.RROBIN) # if changed to RAND the EJML exception goes\n",
    "node[1].setProbRouting(jobclass[1], node[0], 1.0)\n",
    "node[2].setProbRouting(jobclass[1], node[0], 1.0)"
   ],
   "metadata": {
    "collapsed": false,
    "ExecuteTime": {
     "end_time": "2025-05-17T06:54:43.091313Z",
     "start_time": "2025-05-17T06:54:43.023319Z"
    }
   },
   "id": "618813b9e09def60",
   "outputs": [],
   "execution_count": 2
  },
  {
   "cell_type": "code",
   "source": [
    "solver = np.array([], dtype=object)\n",
    "#solver = np.append(solver, SolverCTMC(model,'keep',False))"
   ],
   "metadata": {
    "collapsed": false,
    "ExecuteTime": {
     "end_time": "2025-05-17T06:54:43.101293Z",
     "start_time": "2025-05-17T06:54:43.099361Z"
    }
   },
   "id": "cae4b61bc6f3da51",
   "outputs": [],
   "execution_count": 3
  },
  {
   "metadata": {
    "ExecuteTime": {
     "end_time": "2025-05-17T06:54:43.151329Z",
     "start_time": "2025-05-17T06:54:43.149570Z"
    }
   },
   "cell_type": "code",
   "source": [
    "#TODO: bug in SolverJMT in handling this case: the state of the source is [1 0 2 0] rather than [1 0 2 0 1 1] and nvars in the third row is all zeros but it should be [1     1     0     0     0]\n",
    "#solver = np.append(solver, SolverJMT(model,'seed',23000,'samples',100000,'keep',True))"
   ],
   "id": "e442e9c4b611745c",
   "outputs": [],
   "execution_count": 4
  },
  {
   "metadata": {
    "ExecuteTime": {
     "end_time": "2025-05-17T06:54:43.200903Z",
     "start_time": "2025-05-17T06:54:43.199227Z"
    }
   },
   "cell_type": "code",
   "source": [
    "#TODO: same bug as above\n",
    "#solver = np.append(solver, SolverSSA(model,'seed',23000,'verbose',True,'samples',50000))"
   ],
   "id": "8fb025f7670baf66",
   "outputs": [],
   "execution_count": 5
  },
  {
   "cell_type": "code",
   "source": [
    "AvgTable = np.empty(len(solver), dtype=object)\n",
    "for s in range(len(solver)):\n",
    "    print(f'\\nSOLVER: {solver[s].getName()}')\n",
    "    AvgTable[s] = solver[s].getAvgTable()\n",
    "    print(AvgTable[s])"
   ],
   "metadata": {
    "collapsed": false,
    "ExecuteTime": {
     "end_time": "2025-05-17T06:54:43.250546Z",
     "start_time": "2025-05-17T06:54:43.248461Z"
    }
   },
   "id": "b6372443a630adb",
   "outputs": [],
   "execution_count": 6
  }
 ],
 "metadata": {
  "kernelspec": {
   "display_name": "Python 3",
   "language": "python",
   "name": "python3"
  },
  "language_info": {
   "codemirror_mode": {
    "name": "ipython",
    "version": 2
   },
   "file_extension": ".py",
   "mimetype": "text/x-python",
   "name": "python",
   "nbconvert_exporter": "python",
   "pygments_lexer": "ipython2",
   "version": "2.7.6"
  }
 },
 "nbformat": 4,
 "nbformat_minor": 5
}
