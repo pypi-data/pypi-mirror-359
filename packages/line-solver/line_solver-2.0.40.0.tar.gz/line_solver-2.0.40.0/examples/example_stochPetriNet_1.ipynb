{
 "cells": [
  {
   "metadata": {
    "ExecuteTime": {
     "end_time": "2025-07-01T06:34:14.815506Z",
     "start_time": "2025-07-01T06:34:14.813270Z"
    }
   },
   "cell_type": "code",
   "source": [
    "from line_solver import *\n",
    "import numpy as np\n",
    "GlobalConstants.setVerbose(VerboseLevel.STD)"
   ],
   "outputs": [],
   "execution_count": 7
  },
  {
   "metadata": {
    "ExecuteTime": {
     "end_time": "2025-07-01T06:34:14.869402Z",
     "start_time": "2025-07-01T06:34:14.867417Z"
    }
   },
   "cell_type": "code",
   "source": [
    "#Stochastic Petri Net Example 1\n",
    "# Petri net modeled as queueing network\n",
    "# Note: This is a queueing network representation of Petri net behavior\n",
    "model = Network('model')"
   ],
   "outputs": [],
   "execution_count": 8
  },
  {
   "metadata": {
    "ExecuteTime": {
     "end_time": "2025-07-01T06:34:14.939304Z",
     "start_time": "2025-07-01T06:34:14.936273Z"
    }
   },
   "cell_type": "code",
   "source": [
    "#Petri net with 3 places and 2 transitions\n",
    "num_places = 3\n",
    "num_transitions = 2 #Places represented as queues/delays\n",
    "places = []\n",
    "for i in range(num_places):\n",
    "    if i == 0:\n",
    "        place = Delay(model, f'Place{i}')  #Source place\n",
    "    else:\n",
    "        place = Queue(model, f'Place{i}', SchedStrategy.INF)  #Infinite server\n",
    "    places.append(place) #Transitions represented as service processes\n",
    "jobclass = ClosedClass(model, 'Tokens', 4, places[0], 2)"
   ],
   "outputs": [],
   "execution_count": 9
  },
  {
   "metadata": {
    "ExecuteTime": {
     "end_time": "2025-07-01T06:34:14.984432Z",
     "start_time": "2025-07-01T06:34:14.982161Z"
    }
   },
   "cell_type": "code",
   "source": [
    "#Transition firing rates (service rates)\n",
    "for i, place in enumerate(places):\n",
    "    firing_rate = 1.0 + i * 0.2\n",
    "    place.setService(jobclass, Exp(firing_rate))"
   ],
   "outputs": [],
   "execution_count": 10
  },
  {
   "metadata": {
    "ExecuteTime": {
     "end_time": "2025-07-01T06:34:15.043481Z",
     "start_time": "2025-07-01T06:34:15.039446Z"
    }
   },
   "cell_type": "code",
   "source": [
    "#Petri net structure (simplified as routing)\n",
    "P = model.initRoutingMatrix() #Cyclic structure representing token flow\n",
    "for i in range(num_places - 1):\n",
    "    P.set(jobclass, jobclass, places[i], places[i+1], 1.0)\n",
    "#Close the loop\n",
    "P.set(jobclass, jobclass, places[-1], places[0], 1.0)\n",
    "model.link(P)"
   ],
   "outputs": [],
   "execution_count": 11
  },
  {
   "metadata": {
    "ExecuteTime": {
     "end_time": "2025-07-01T06:34:15.200032Z",
     "start_time": "2025-07-01T06:34:15.086866Z"
    }
   },
   "cell_type": "code",
   "source": [
    "# Solve Petri net representation\n",
    "solver = SolverCTMC(model)\n",
    "avgTable = solver.getAvgTable()"
   ],
   "outputs": [
    {
     "name": "stdout",
     "output_type": "stream",
     "text": [
      "  Station JobClass    QLen    Util   RespT  ResidT    ArvR    Tput\n",
      "0  Place0   Tokens  1.5701  1.5701  1.0000  1.0000  1.5701  1.5701\n",
      "1  Place1   Tokens  1.3084  1.3084  0.8333  0.8333  1.5701  1.5701\n",
      "2  Place2   Tokens  1.1215  1.1215  0.7143  0.7143  1.5701  1.5701\n"
     ]
    }
   ],
   "execution_count": 12
  }
 ],
 "metadata": {
  "kernelspec": {
   "display_name": "Python 3",
   "language": "python",
   "name": "python3"
  },
  "language_info": {
   "codemirror_mode": {
    "name": "ipython",
    "version": 3
   },
   "file_extension": ".py",
   "mimetype": "text/x-python",
   "name": "python",
   "nbconvert_exporter": "python",
   "pygments_lexer": "ipython3",
   "version": "3.8.0"
  }
 },
 "nbformat": 4,
 "nbformat_minor": 4
}
