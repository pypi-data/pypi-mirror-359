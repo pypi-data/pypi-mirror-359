{
 "cells": [
  {
   "cell_type": "code",
   "metadata": {
    "ExecuteTime": {
     "end_time": "2025-07-01T06:34:30.152368Z",
     "start_time": "2025-07-01T06:34:28.662741Z"
    }
   },
   "source": [
    "from line_solver import *\n",
    "import numpy as np\n",
    "GlobalConstants.setVerbose(VerboseLevel.STD)"
   ],
   "outputs": [],
   "execution_count": 1
  },
  {
   "metadata": {
    "ExecuteTime": {
     "end_time": "2025-07-01T06:34:30.278328Z",
     "start_time": "2025-07-01T06:34:30.274153Z"
    }
   },
   "cell_type": "code",
   "source": [
    "#Stochastic Petri Net Example 2\n",
    "# Petri net modeled as queueing network\n",
    "# Note: This is a queueing network representation of Petri net behavior\n",
    "model = Network('model')"
   ],
   "outputs": [],
   "execution_count": 2
  },
  {
   "metadata": {
    "ExecuteTime": {
     "end_time": "2025-07-01T06:34:30.301392Z",
     "start_time": "2025-07-01T06:34:30.291438Z"
    }
   },
   "cell_type": "code",
   "source": [
    "#Petri net with 4 places and 3 transitions\n",
    "num_places = 4\n",
    "num_transitions = 3 #Places represented as queues/delays\n",
    "places = []\n",
    "for i in range(num_places):\n",
    "    if i == 0:\n",
    "        place = Delay(model, f'Place{i}')  #Source place\n",
    "    else:\n",
    "        place = Queue(model, f'Place{i}', SchedStrategy.INF)  #Infinite server\n",
    "    places.append(place) #Transitions represented as service processes\n",
    "jobclass = ClosedClass(model, 'Tokens', 5, places[0], 3)"
   ],
   "outputs": [],
   "execution_count": 3
  },
  {
   "metadata": {
    "ExecuteTime": {
     "end_time": "2025-07-01T06:34:30.364696Z",
     "start_time": "2025-07-01T06:34:30.357554Z"
    }
   },
   "cell_type": "code",
   "source": [
    "#Transition firing rates (service rates)\n",
    "for i, place in enumerate(places):\n",
    "    firing_rate = 1.0 + i * 0.2\n",
    "    place.setService(jobclass, Exp(firing_rate))"
   ],
   "outputs": [],
   "execution_count": 4
  },
  {
   "metadata": {
    "ExecuteTime": {
     "end_time": "2025-07-01T06:34:30.415047Z",
     "start_time": "2025-07-01T06:34:30.407634Z"
    }
   },
   "cell_type": "code",
   "source": [
    "#Petri net structure (simplified as routing)\n",
    "P = model.initRoutingMatrix() #Cyclic structure representing token flow\n",
    "for i in range(num_places - 1):\n",
    "    P.set(jobclass, jobclass, places[i], places[i+1], 1.0)\n",
    "    #Close the loop\n",
    "    P.set(jobclass, jobclass, places[-1], places[0], 1.0)\n",
    "model.link(P)"
   ],
   "outputs": [],
   "execution_count": 5
  },
  {
   "metadata": {
    "ExecuteTime": {
     "end_time": "2025-07-01T06:34:30.579411Z",
     "start_time": "2025-07-01T06:34:30.456153Z"
    }
   },
   "cell_type": "code",
   "source": [
    "# Solve Petri net representation\n",
    "solver = SolverCTMC(model)\n",
    "avgTable = solver.getAvgTable()"
   ],
   "outputs": [
    {
     "name": "stdout",
     "output_type": "stream",
     "text": [
      "  Station JobClass    QLen    Util   RespT  ResidT   ArvR   Tput\n",
      "0  Place0   Tokens  1.5760  1.5760  1.0000  1.0000  1.576  1.576\n",
      "1  Place1   Tokens  1.3133  1.3133  0.8333  0.8333  1.576  1.576\n",
      "2  Place2   Tokens  1.1257  1.1257  0.7143  0.7143  1.576  1.576\n",
      "3  Place3   Tokens  0.9850  0.9850  0.6250  0.6250  1.576  1.576\n"
     ]
    }
   ],
   "execution_count": 6
  }
 ],
 "metadata": {
  "kernelspec": {
   "display_name": "Python 3",
   "language": "python",
   "name": "python3"
  },
  "language_info": {
   "codemirror_mode": {
    "name": "ipython",
    "version": 3
   },
   "file_extension": ".py",
   "mimetype": "text/x-python",
   "name": "python",
   "nbconvert_exporter": "python",
   "pygments_lexer": "ipython3",
   "version": "3.8.0"
  }
 },
 "nbformat": 4,
 "nbformat_minor": 4
}
