{
 "cells": [
  {
   "cell_type": "code",
   "metadata": {
    "ExecuteTime": {
     "end_time": "2025-07-01T06:34:40.268359Z",
     "start_time": "2025-07-01T06:34:38.816063Z"
    }
   },
   "source": [
    "from line_solver import *\n",
    "import numpy as np\n",
    "GlobalConstants.setVerbose(VerboseLevel.STD)"
   ],
   "outputs": [],
   "execution_count": 1
  },
  {
   "metadata": {
    "ExecuteTime": {
     "end_time": "2025-07-01T06:34:40.372106Z",
     "start_time": "2025-07-01T06:34:40.367002Z"
    }
   },
   "cell_type": "code",
   "source": [
    "#Stochastic Petri Net Example 3\n",
    "# Petri net modeled as queueing network\n",
    "# Note: This is a queueing network representation of Petri net behavior\n",
    "model = Network('model')"
   ],
   "outputs": [],
   "execution_count": 2
  },
  {
   "metadata": {
    "ExecuteTime": {
     "end_time": "2025-07-01T06:34:40.430436Z",
     "start_time": "2025-07-01T06:34:40.418687Z"
    }
   },
   "cell_type": "code",
   "source": [
    "#Petri net with 5 places and 4 transitions\n",
    "num_places = 5\n",
    "num_transitions = 4 #Places represented as queues/delays\n",
    "places = []\n",
    "for i in range(num_places):\n",
    "    if i == 0:\n",
    "        place = Delay(model, f'Place{i}')  #Source place\n",
    "    else:\n",
    "        place = Queue(model, f'Place{i}', SchedStrategy.INF)  #Infinite server\n",
    "    places.append(place) #Transitions represented as service processes\n",
    "jobclass = ClosedClass(model, 'Tokens', 6, places[0], 4)"
   ],
   "outputs": [],
   "execution_count": 3
  },
  {
   "metadata": {
    "ExecuteTime": {
     "end_time": "2025-07-01T06:34:40.474199Z",
     "start_time": "2025-07-01T06:34:40.467557Z"
    }
   },
   "cell_type": "code",
   "source": [
    "#Transition firing rates (service rates)\n",
    "for i, place in enumerate(places):\n",
    "    firing_rate = 1.0 + i * 0.2\n",
    "    place.setService(jobclass, Exp(firing_rate))"
   ],
   "outputs": [],
   "execution_count": 4
  },
  {
   "metadata": {
    "ExecuteTime": {
     "end_time": "2025-07-01T06:34:40.522604Z",
     "start_time": "2025-07-01T06:34:40.517420Z"
    }
   },
   "cell_type": "code",
   "source": [
    "#Petri net structure (simplified as routing)\n",
    "P = model.initRoutingMatrix() #Cyclic structure representing token flow\n",
    "for i in range(num_places - 1):\n",
    "    P.set(jobclass, jobclass, places[i], places[i+1], 1.0)\n",
    "    #Close the loop\n",
    "    P.set(jobclass, jobclass, places[-1], places[0], 1.0)\n",
    "model.link(P)"
   ],
   "outputs": [],
   "execution_count": 5
  },
  {
   "metadata": {
    "ExecuteTime": {
     "end_time": "2025-07-01T06:34:40.805490Z",
     "start_time": "2025-07-01T06:34:40.566134Z"
    }
   },
   "cell_type": "code",
   "source": [
    "# Solve Petri net representation\n",
    "solver = SolverCTMC(model)\n",
    "avgTable = solver.getAvgTable()"
   ],
   "outputs": [
    {
     "name": "stdout",
     "output_type": "stream",
     "text": [
      "  Station JobClass    QLen    Util   RespT  ResidT    ArvR    Tput\n",
      "0  Place0   Tokens  1.6094  1.6094  1.0000  1.0000  1.6094  1.6094\n",
      "1  Place1   Tokens  1.3411  1.3411  0.8333  0.8333  1.6094  1.6094\n",
      "2  Place2   Tokens  1.1495  1.1495  0.7143  0.7143  1.6094  1.6094\n",
      "3  Place3   Tokens  1.0059  1.0059  0.6250  0.6250  1.6094  1.6094\n",
      "4  Place4   Tokens  0.8941  0.8941  0.5556  0.5556  1.6094  1.6094\n"
     ]
    }
   ],
   "execution_count": 6
  }
 ],
 "metadata": {
  "kernelspec": {
   "display_name": "Python 3",
   "language": "python",
   "name": "python3"
  },
  "language_info": {
   "codemirror_mode": {
    "name": "ipython",
    "version": 3
   },
   "file_extension": ".py",
   "mimetype": "text/x-python",
   "name": "python",
   "nbconvert_exporter": "python",
   "pygments_lexer": "ipython3",
   "version": "3.8.0"
  }
 },
 "nbformat": 4,
 "nbformat_minor": 4
}
