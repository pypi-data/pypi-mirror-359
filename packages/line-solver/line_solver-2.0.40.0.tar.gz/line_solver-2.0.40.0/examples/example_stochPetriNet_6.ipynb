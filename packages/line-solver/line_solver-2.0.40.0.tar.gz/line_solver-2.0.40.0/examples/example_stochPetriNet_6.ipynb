{
 "cells": [
  {
   "cell_type": "code",
   "metadata": {
    "ExecuteTime": {
     "end_time": "2025-07-01T06:35:25.752545Z",
     "start_time": "2025-07-01T06:35:25.750372Z"
    }
   },
   "source": [
    "from line_solver import *\n",
    "import numpy as np\n",
    "GlobalConstants.setVerbose(VerboseLevel.STD)"
   ],
   "outputs": [],
   "execution_count": 6
  },
  {
   "metadata": {
    "ExecuteTime": {
     "end_time": "2025-07-01T06:35:25.773422Z",
     "start_time": "2025-07-01T06:35:25.771407Z"
    }
   },
   "cell_type": "code",
   "source": [
    "#Stochastic Petri Net Example 6\n",
    "#Petri net modeled as queueing network\n",
    "#Note: This is a queueing network representation of Petri net behavior\n",
    "model = Network('model')"
   ],
   "outputs": [],
   "execution_count": 7
  },
  {
   "metadata": {
    "ExecuteTime": {
     "end_time": "2025-07-01T06:35:25.829129Z",
     "start_time": "2025-07-01T06:35:25.826521Z"
    }
   },
   "cell_type": "code",
   "source": [
    "#Petri net with 8 places and 7 transitions\n",
    "num_places = 8\n",
    "num_transitions = 7 #Places represented as queues/delays\n",
    "places = []\n",
    "for i in range(num_places):\n",
    "    if i == 0:\n",
    "        place = Delay(model, f'Place{i}')  #Source place\n",
    "    else:\n",
    "        place = Queue(model, f'Place{i}', SchedStrategy.INF)  #Infinite server\n",
    "    places.append(place) #Transitions represented as service processes\n",
    "jobclass = ClosedClass(model, 'Tokens', 9, places[0], 7)"
   ],
   "outputs": [],
   "execution_count": 8
  },
  {
   "metadata": {
    "ExecuteTime": {
     "end_time": "2025-07-01T06:35:25.910663Z",
     "start_time": "2025-07-01T06:35:25.908340Z"
    }
   },
   "cell_type": "code",
   "source": [
    "#Transition firing rates (service rates)\n",
    "for i, place in enumerate(places):\n",
    "    firing_rate = 1.0 + i * 0.2\n",
    "    place.setService(jobclass, Exp(firing_rate))"
   ],
   "outputs": [],
   "execution_count": 9
  },
  {
   "metadata": {
    "ExecuteTime": {
     "end_time": "2025-07-01T06:35:25.983287Z",
     "start_time": "2025-07-01T06:35:25.977471Z"
    }
   },
   "cell_type": "code",
   "source": [
    "#Petri net structure (simplified as routing)\n",
    "P = model.initRoutingMatrix() #Cyclic structure representing token flow\n",
    "for i in range(num_places - 1):\n",
    "    P.set(jobclass, jobclass, places[i], places[i+1], 1.0)\n",
    "    #Close the loop\n",
    "    P.set(jobclass, jobclass, places[-1], places[0], 1.0)\n",
    "model.link(P)"
   ],
   "outputs": [],
   "execution_count": 10
  },
  {
   "metadata": {
    "jupyter": {
     "is_executing": true
    },
    "ExecuteTime": {
     "start_time": "2025-07-01T06:35:26.028902Z"
    }
   },
   "cell_type": "code",
   "source": [
    "# Solve Petri net representation\n",
    "solver = SolverCTMC(model)\n",
    "avgTable = solver.getAvgTable()"
   ],
   "outputs": [
    {
     "name": "stderr",
     "output_type": "stream",
     "text": [
      "CTMC size may be too large to solve. Stopping SolverCTMC. Set options.force=true to bypass this control.\n"
     ]
    }
   ],
   "execution_count": null
  }
 ],
 "metadata": {
  "kernelspec": {
   "display_name": "Python 3",
   "language": "python",
   "name": "python3"
  },
  "language_info": {
   "codemirror_mode": {
    "name": "ipython",
    "version": 3
   },
   "file_extension": ".py",
   "mimetype": "text/x-python",
   "name": "python",
   "nbconvert_exporter": "python",
   "pygments_lexer": "ipython3",
   "version": "3.8.0"
  }
 },
 "nbformat": 4,
 "nbformat_minor": 4
}
