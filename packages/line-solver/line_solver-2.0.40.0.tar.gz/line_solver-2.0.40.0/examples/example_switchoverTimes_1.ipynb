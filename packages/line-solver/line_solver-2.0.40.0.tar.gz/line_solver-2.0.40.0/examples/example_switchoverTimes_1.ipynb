{
 "cells": [
  {
   "cell_type": "code",
   "metadata": {
    "ExecuteTime": {
     "end_time": "2025-07-01T07:41:08.206604Z",
     "start_time": "2025-07-01T07:41:06.785424Z"
    }
   },
   "source": [
    "from line_solver import *\n",
    "import numpy as np\n",
    "GlobalConstants.setVerbose(VerboseLevel.STD)"
   ],
   "outputs": [],
   "execution_count": 1
  },
  {
   "cell_type": "code",
   "metadata": {
    "ExecuteTime": {
     "end_time": "2025-07-01T07:41:08.295122Z",
     "start_time": "2025-07-01T07:41:08.287804Z"
    }
   },
   "source": [
    "# Switchover Times Example 1\n",
    "# System with setup/switchover times between job types\n",
    "model = Network('model')"
   ],
   "outputs": [],
   "execution_count": 2
  },
  {
   "cell_type": "code",
   "metadata": {
    "ExecuteTime": {
     "end_time": "2025-07-01T07:41:08.316385Z",
     "start_time": "2025-07-01T07:41:08.302277Z"
    }
   },
   "source": [
    "# Multi-class system with switchover overhead\n",
    "node = np.empty(3, dtype = object)\n",
    "node[0] = Source(model, 'Source')\n",
    "node[1] = Queue(model, 'MainQueue', SchedStrategy.FCFS)\n",
    "node[2] = Sink(model, 'Sink')#Multiple job classes requiring different setups\n",
    "jobclass = np.empty(3, dtype = object)\n",
    "jobclass[0] = OpenClass(model, 'TypeA')\n",
    "jobclass[1] = OpenClass(model, 'TypeB')\n",
    "jobclass[2] = OpenClass(model, 'TypeC')"
   ],
   "outputs": [],
   "execution_count": 3
  },
  {
   "cell_type": "code",
   "metadata": {
    "ExecuteTime": {
     "end_time": "2025-07-01T07:41:08.375738Z",
     "start_time": "2025-07-01T07:41:08.368430Z"
    }
   },
   "source": [
    "# Arrival and service with switchover consideration\n",
    "for i in range(3):\n",
    "    node[0].setArrival(jobclass[i], Exp(0.3))    #Service time includes switchover overhead\n",
    "base_service = 1.0\n",
    "switchover_overhead = 0.1 * (i + 1)\n",
    "effective_service = base_service + switchover_overhead\n",
    "node[1].setService(jobclass[i], Exp(1.0 / effective_service))"
   ],
   "outputs": [],
   "execution_count": 4
  },
  {
   "cell_type": "code",
   "metadata": {
    "ExecuteTime": {
     "end_time": "2025-07-01T07:41:08.427974Z",
     "start_time": "2025-07-01T07:41:08.416830Z"
    }
   },
   "source": [
    "# Routing\n",
    "P = model.initRoutingMatrix()\n",
    "for i in range(3):\n",
    "    P.set(jobclass[i], jobclass[i], node[0], node[1], 1.0)\n",
    "    P.set(jobclass[i], jobclass[i], node[1], node[2], 1.0)\n",
    "model.link(P)"
   ],
   "outputs": [],
   "execution_count": 5
  },
  {
   "cell_type": "code",
   "metadata": {
    "ExecuteTime": {
     "end_time": "2025-07-01T07:41:08.968322Z",
     "start_time": "2025-07-01T07:41:08.467089Z"
    }
   },
   "source": [
    "# Solve system with switchover times\n",
    "solver = SolverMVA(model)\n",
    "\n",
    "avgTable = solver.getAvgTable()\n",
    "print('\\nNote: Service times include switchover overhead.')\n"
   ],
   "outputs": [
    {
     "name": "stderr",
     "output_type": "stream",
     "text": [
      "java.lang.NullPointerException: Parameter specified as non-null is null: method jline.api.SN.SnGetResidTFromRespTKt.snGetResidTFromRespT, parameter RNclass\n",
      "\tat jline.api.SN.SnGetResidTFromRespTKt.snGetResidTFromRespT(SnGetResidTFromRespT.kt)\n",
      "\tat jline.solvers.mva.MVARunner.runAnalyzer(MVARunner.java:639)\n",
      "\tat jline.solvers.mva.SolverMVA.runAnalyzer(SolverMVA.java:102)\n",
      "\tat jline.solvers.NetworkSolver.getAvg(NetworkSolver.java:266)\n",
      "\tat jline.solvers.NetworkSolver.getAvgTable(NetworkSolver.java:592)\n"
     ]
    },
    {
     "ename": "java.lang.RuntimeException",
     "evalue": "java.lang.RuntimeException: Unable to compute results and therefore unable to print AvgTable.",
     "output_type": "error",
     "traceback": [
      "\u001B[31m---------------------------------------------------------------------------\u001B[39m",
      "\u001B[31mException\u001B[39m                                 Traceback (most recent call last)",
      "\u001B[36mFile \u001B[39m\u001B[32mNetworkSolver.java:606\u001B[39m, in \u001B[36mjline.solvers.NetworkSolver.getAvgTable\u001B[39m\u001B[34m()\u001B[39m\n",
      "\u001B[31mException\u001B[39m: Java Exception",
      "\nThe above exception was the direct cause of the following exception:\n",
      "\u001B[31mjava.lang.RuntimeException\u001B[39m                Traceback (most recent call last)",
      "\u001B[36mCell\u001B[39m\u001B[36m \u001B[39m\u001B[32mIn[6]\u001B[39m\u001B[32m, line 4\u001B[39m\n\u001B[32m      1\u001B[39m \u001B[38;5;66;03m# Solve system with switchover times\u001B[39;00m\n\u001B[32m      2\u001B[39m solver = SolverMVA(model)\n\u001B[32m----> \u001B[39m\u001B[32m4\u001B[39m avgTable = \u001B[43msolver\u001B[49m\u001B[43m.\u001B[49m\u001B[43mgetAvgTable\u001B[49m\u001B[43m(\u001B[49m\u001B[43m)\u001B[49m\n\u001B[32m      5\u001B[39m \u001B[38;5;28mprint\u001B[39m(\u001B[33m'\u001B[39m\u001B[38;5;130;01m\\n\u001B[39;00m\u001B[33mNote: Service times include switchover overhead.\u001B[39m\u001B[33m'\u001B[39m)\n",
      "\u001B[36mFile \u001B[39m\u001B[32m/mnt/c/Users/gcasale/Dropbox/code/line-solver.git/python/line_solver/solvers.py:181\u001B[39m, in \u001B[36mNetworkSolver.getAvgTable\u001B[39m\u001B[34m(self)\u001B[39m\n\u001B[32m    180\u001B[39m \u001B[38;5;28;01mdef\u001B[39;00m\u001B[38;5;250m \u001B[39m\u001B[34mgetAvgTable\u001B[39m(\u001B[38;5;28mself\u001B[39m):\n\u001B[32m--> \u001B[39m\u001B[32m181\u001B[39m     table = \u001B[38;5;28;43mself\u001B[39;49m\u001B[43m.\u001B[49m\u001B[43mobj\u001B[49m\u001B[43m.\u001B[49m\u001B[43mgetAvgTable\u001B[49m\u001B[43m(\u001B[49m\u001B[43m)\u001B[49m\n\u001B[32m    183\u001B[39m     \u001B[38;5;66;03m# convert to NumPy\u001B[39;00m\n\u001B[32m    185\u001B[39m     QLen = np.array(\u001B[38;5;28mlist\u001B[39m(table.getQLen()))\n",
      "\u001B[31mjava.lang.RuntimeException\u001B[39m: java.lang.RuntimeException: Unable to compute results and therefore unable to print AvgTable."
     ]
    }
   ],
   "execution_count": 6
  }
 ],
 "metadata": {
  "kernelspec": {
   "display_name": "Python 3",
   "language": "python",
   "name": "python3"
  },
  "language_info": {
   "codemirror_mode": {
    "name": "ipython",
    "version": 3
   },
   "file_extension": ".py",
   "mimetype": "text/x-python",
   "name": "python",
   "nbconvert_exporter": "python",
   "pygments_lexer": "ipython3",
   "version": "3.8.0"
  }
 },
 "nbformat": 4,
 "nbformat_minor": 4
}
