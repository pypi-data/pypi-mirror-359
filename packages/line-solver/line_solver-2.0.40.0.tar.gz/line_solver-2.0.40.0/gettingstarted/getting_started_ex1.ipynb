{
 "cells": [
  {
   "cell_type": "code",
   "metadata": {
    "ExecuteTime": {
     "end_time": "2025-05-17T06:50:45.283058Z",
     "start_time": "2025-05-17T06:50:44.746287Z"
    }
   },
   "source": [
    "from line_solver import *\n",
    "GlobalConstants.setVerbose(VerboseLevel.STD)"
   ],
   "outputs": [],
   "execution_count": 2
  },
  {
   "cell_type": "code",
   "metadata": {
    "ExecuteTime": {
     "end_time": "2025-05-17T06:50:45.314565Z",
     "start_time": "2025-05-17T06:50:45.297210Z"
    }
   },
   "source": [
    "model = Network('M/M/1')\n",
    "# Block 1: nodes\n",
    "source = Source(model, 'mySource')\n",
    "queue = Queue(model, 'myQueue', SchedStrategy.FCFS)\n",
    "sink = Sink(model, 'mySink')\n",
    "# Block 2: classes\n",
    "oclass = OpenClass(model, 'myClass')\n",
    "source.setArrival(oclass, Exp(1))\n",
    "queue.setService(oclass, Exp(2))\n",
    "# Block 3: topology\n",
    "model.link(Network.serialRouting(source, queue, sink))"
   ],
   "outputs": [],
   "execution_count": 3
  },
  {
   "cell_type": "code",
   "source": [
    "# Block 4: solution\n",
    "AvgTable = SolverJMT(model, 'seed', 23000, 'verbose', VerboseLevel.SILENT).getAvgTable()"
   ],
   "metadata": {
    "collapsed": false,
    "ExecuteTime": {
     "end_time": "2025-05-17T06:50:46.168071Z",
     "start_time": "2025-05-17T06:50:45.350047Z"
    }
   },
   "outputs": [
    {
     "name": "stdout",
     "output_type": "stream",
     "text": [
      "    Station JobClass    QLen    Util   RespT  ResidT    ArvR    Tput\n",
      "0  mySource  myClass  0.0000  0.0000  0.0000  0.0000  0.0000  0.9989\n",
      "1   myQueue  myClass  0.9555  0.4874  0.9543  0.9543  0.9989  0.9999\n"
     ]
    }
   ],
   "execution_count": 4
  },
  {
   "cell_type": "code",
   "source": [
    "# select a particular table row\n",
    "print(tget(AvgTable, queue, oclass))"
   ],
   "metadata": {
    "collapsed": false,
    "ExecuteTime": {
     "end_time": "2025-05-17T06:50:46.208177Z",
     "start_time": "2025-05-17T06:50:46.201669Z"
    }
   },
   "outputs": [
    {
     "name": "stdout",
     "output_type": "stream",
     "text": [
      "   Station JobClass    QLen    Util   RespT  ResidT    ArvR    Tput\n",
      "1  myQueue  myClass  0.9555  0.4874  0.9543  0.9543  0.9989  0.9999\n"
     ]
    }
   ],
   "execution_count": 5
  },
  {
   "cell_type": "code",
   "source": [
    "# select a particular table row by node and class label\n",
    "print(tget(AvgTable, 'myQueue', 'myClass'))"
   ],
   "metadata": {
    "collapsed": false,
    "ExecuteTime": {
     "end_time": "2025-05-17T06:50:46.323209Z",
     "start_time": "2025-05-17T06:50:46.317753Z"
    }
   },
   "outputs": [
    {
     "name": "stdout",
     "output_type": "stream",
     "text": [
      "   Station JobClass    QLen    Util   RespT  ResidT    ArvR    Tput\n",
      "1  myQueue  myClass  0.9555  0.4874  0.9543  0.9543  0.9989  0.9999\n"
     ]
    }
   ],
   "execution_count": 6
  },
  {
   "metadata": {
    "ExecuteTime": {
     "end_time": "2025-05-17T06:50:46.373308Z",
     "start_time": "2025-05-17T06:50:46.371002Z"
    }
   },
   "cell_type": "code",
   "source": "print(AvgTable['RespT'].tolist())",
   "outputs": [
    {
     "name": "stdout",
     "output_type": "stream",
     "text": [
      "[0.0, 0.9542929280966826]\n"
     ]
    }
   ],
   "execution_count": 7
  },
  {
   "metadata": {
    "ExecuteTime": {
     "end_time": "2025-05-17T06:50:46.436238Z",
     "start_time": "2025-05-17T06:50:46.431474Z"
    }
   },
   "cell_type": "code",
   "source": "print(tget(AvgTable,'myQueue','myClass')['RespT'].tolist())",
   "outputs": [
    {
     "name": "stdout",
     "output_type": "stream",
     "text": [
      "[0.9542929280966826]\n"
     ]
    }
   ],
   "execution_count": 8
  }
 ],
 "metadata": {
  "kernelspec": {
   "display_name": "Python 3",
   "language": "python",
   "name": "python3"
  },
  "language_info": {
   "codemirror_mode": {
    "name": "ipython",
    "version": 3
   },
   "file_extension": ".py",
   "mimetype": "text/x-python",
   "name": "python",
   "nbconvert_exporter": "python",
   "pygments_lexer": "ipython3",
   "version": "3.6.4"
  }
 },
 "nbformat": 4,
 "nbformat_minor": 2
}
