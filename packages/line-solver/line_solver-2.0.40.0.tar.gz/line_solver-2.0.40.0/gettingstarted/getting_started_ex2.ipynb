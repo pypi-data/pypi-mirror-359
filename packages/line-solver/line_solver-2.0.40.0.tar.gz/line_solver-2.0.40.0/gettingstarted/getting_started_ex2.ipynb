{
 "cells": [
  {
   "cell_type": "code",
   "metadata": {
    "is_executing": true,
    "ExecuteTime": {
     "end_time": "2025-05-17T08:42:52.608526Z",
     "start_time": "2025-05-17T08:42:51.859535Z"
    }
   },
   "source": [
    "from line_solver import *\n",
    "import os\n",
    "GlobalConstants.setVerbose(VerboseLevel.STD)"
   ],
   "outputs": [],
   "execution_count": 1
  },
  {
   "cell_type": "code",
   "metadata": {
    "ExecuteTime": {
     "end_time": "2025-05-17T08:42:52.771467Z",
     "start_time": "2025-05-17T08:42:52.692368Z"
    }
   },
   "source": [
    "model = Network('M/G/1')\n",
    "source = Source(model, 'Source')\n",
    "queue = Queue(model, 'Queue', SchedStrategy.FCFS)\n",
    "sink = Sink(model, 'Sink')\n",
    "jobclass1 = OpenClass(model, 'Class1')\n",
    "jobclass2 = OpenClass(model, 'Class2')\n",
    "source.setArrival(jobclass1, Exp(0.5))\n",
    "source.setArrival(jobclass2, Exp(0.5))\n",
    "queue.setService(jobclass1, Erlang.fitMeanAndSCV(1, 1 / 3))\n",
    "queue.setService(jobclass2, Replayer(lineRootFolder() + \"/gettingstarted/example_trace.txt\"))\n"
   ],
   "outputs": [],
   "execution_count": 2
  },
  {
   "cell_type": "code",
   "source": [
    "P = model.initRoutingMatrix()\n",
    "P.set(jobclass1, jobclass1, Network.serialRouting(source,queue,sink))\n",
    "P.set(jobclass2, jobclass2, Network.serialRouting(source,queue,sink))\n",
    "model.link(P)"
   ],
   "metadata": {
    "collapsed": false,
    "ExecuteTime": {
     "end_time": "2025-05-17T08:42:52.785140Z",
     "start_time": "2025-05-17T08:42:52.779517Z"
    }
   },
   "outputs": [],
   "execution_count": 3
  },
  {
   "cell_type": "code",
   "source": "jmtAvgTable = SolverJMT(model,'seed',23000).getAvgTable()",
   "metadata": {
    "collapsed": false,
    "ExecuteTime": {
     "end_time": "2025-05-17T08:42:53.738088Z",
     "start_time": "2025-05-17T08:42:52.827028Z"
    }
   },
   "outputs": [
    {
     "name": "stdout",
     "output_type": "stream",
     "text": [
      "JMT Model: /tmp/workspace/jsim/9212014908653419720/jmodel.jsim\n",
      "  Station JobClass    QLen    Util   RespT  ResidT    ArvR    Tput\n",
      "0  Source   Class1  0.0000  0.0000  0.0000  0.0000  0.0000  0.5002\n",
      "1  Source   Class2  0.0000  0.0000  0.0000  0.0000  0.0000  0.4911\n",
      "2   Queue   Class1  0.8615  0.4984  1.7389  1.7389  0.5002  0.4995\n",
      "3   Queue   Class2  0.4375  0.0492  0.8588  0.8588  0.4911  0.4906\n"
     ]
    }
   ],
   "execution_count": 4
  },
  {
   "cell_type": "code",
   "source": [
    "queue.setService(jobclass2, Replayer(lineRootFolder() + \"/gettingstarted/example_trace.txt\").fitAPH())\n",
    "jmtAvgTable = SolverJMT(model,'seed',23000).getAvgTable()"
   ],
   "metadata": {
    "collapsed": false,
    "ExecuteTime": {
     "end_time": "2025-05-17T08:42:54.592136Z",
     "start_time": "2025-05-17T08:42:53.755709Z"
    }
   },
   "outputs": [
    {
     "name": "stdout",
     "output_type": "stream",
     "text": [
      "JMT Model: /tmp/workspace/jsim/6139239644320018363/jmodel.jsim\n",
      "  Station JobClass    QLen    Util   RespT  ResidT    ArvR    Tput\n",
      "0  Source   Class1  0.0000  0.0000  0.0000  0.0000  0.0000  0.5002\n",
      "1  Source   Class2  0.0000  0.0000  0.0000  0.0000  0.0000  0.4911\n",
      "2   Queue   Class1  0.8615  0.4984  1.7389  1.7389  0.5002  0.4995\n",
      "3   Queue   Class2  0.4375  0.0492  0.8588  0.8588  0.4911  0.4906\n"
     ]
    }
   ],
   "execution_count": 5
  },
  {
   "cell_type": "code",
   "source": "ctmcAvgTable2 = SolverCTMC(model,'cutoff',2,'verbose',True).getAvgTable()",
   "metadata": {
    "ExecuteTime": {
     "end_time": "2025-05-17T08:42:54.654171Z",
     "start_time": "2025-05-17T08:42:54.596016Z"
    }
   },
   "outputs": [
    {
     "name": "stdout",
     "output_type": "stream",
     "text": [
      "  Station JobClass    QLen    Util   RespT  ResidT    ArvR    Tput\n",
      "0  Source   Class1  0.0000  0.0000  0.0000  0.0000  0.0000  0.4411\n",
      "1  Source   Class2  0.0000  0.0000  0.0000  0.0000  0.0000  0.4758\n",
      "2   Queue   Class1  0.5674  0.4411  1.2863  1.2863  0.4411  0.4411\n",
      "3   Queue   Class2  0.2446  0.0481  0.5140  0.5140  0.4758  0.4758\n"
     ]
    }
   ],
   "execution_count": 6
  },
  {
   "metadata": {
    "collapsed": false,
    "ExecuteTime": {
     "end_time": "2025-05-17T08:42:56.162375Z",
     "start_time": "2025-05-17T08:42:54.669299Z"
    }
   },
   "cell_type": "code",
   "source": "ctmcAvgTable4 = SolverCTMC(model,'cutoff',4,'verbose',True).getAvgTable()",
   "outputs": [
    {
     "name": "stdout",
     "output_type": "stream",
     "text": [
      "  Station JobClass    QLen    Util   RespT  ResidT    ArvR    Tput\n",
      "0  Source   Class1  0.0000  0.0000  0.0000  0.0000  0.0000  0.4916\n",
      "1  Source   Class2  0.0000  0.0000  0.0000  0.0000  0.0000  0.4957\n",
      "2   Queue   Class1  0.7958  0.4916  1.6188  1.6188  0.4916  0.4916\n",
      "3   Queue   Class2  0.3756  0.0501  0.7577  0.7577  0.4957  0.4957\n"
     ]
    }
   ],
   "execution_count": 7
  }
 ],
 "metadata": {
  "kernelspec": {
   "display_name": "Python 3",
   "language": "python",
   "name": "python3"
  },
  "language_info": {
   "codemirror_mode": {
    "name": "ipython",
    "version": 3
   },
   "file_extension": ".py",
   "mimetype": "text/x-python",
   "name": "python",
   "nbconvert_exporter": "python",
   "pygments_lexer": "ipython3",
   "version": "3.6.4"
  }
 },
 "nbformat": 4,
 "nbformat_minor": 2
}
