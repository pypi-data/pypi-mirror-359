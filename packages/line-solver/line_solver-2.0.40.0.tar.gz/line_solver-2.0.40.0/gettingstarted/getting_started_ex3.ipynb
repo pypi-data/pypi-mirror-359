{
 "cells": [
  {
   "cell_type": "code",
   "metadata": {
    "ExecuteTime": {
     "end_time": "2025-05-17T06:51:06.583896Z",
     "start_time": "2025-05-17T06:51:05.940272Z"
    }
   },
   "source": [
    "from line_solver import *\n",
    "GlobalConstants.setVerbose(VerboseLevel.STD)"
   ],
   "outputs": [],
   "execution_count": 1
  },
  {
   "cell_type": "code",
   "metadata": {
    "ExecuteTime": {
     "end_time": "2025-05-17T06:51:06.676027Z",
     "start_time": "2025-05-17T06:51:06.662177Z"
    }
   },
   "source": [
    "model = Network('MRP')\n",
    "# Block 1: nodes\n",
    "delay = Delay(model, 'WorkingState')\n",
    "queue = Queue(model, 'RepairQueue', SchedStrategy.FCFS)\n",
    "queue.setNumberOfServers(2)\n",
    "# Block 2: classes\n",
    "cclass = ClosedClass(model, 'Machines', 3, delay)\n",
    "delay.setService(cclass, Exp(0.5))\n",
    "queue.setService(cclass, Exp(4.0))\n",
    "# Block 3: topology\n",
    "model.link(Network.serialRouting(delay, queue))"
   ],
   "outputs": [],
   "execution_count": 2
  },
  {
   "cell_type": "code",
   "source": [
    "# Block 4: solution\n",
    "solver = SolverCTMC(model)\n",
    "ctmcAvgTable = solver.getAvgTable()"
   ],
   "metadata": {
    "collapsed": false,
    "ExecuteTime": {
     "end_time": "2025-05-17T06:51:06.798460Z",
     "start_time": "2025-05-17T06:51:06.718231Z"
    }
   },
   "outputs": [
    {
     "name": "stdout",
     "output_type": "stream",
     "text": [
      "        Station  JobClass    QLen    Util   RespT  ResidT    ArvR    Tput\n",
      "0  WorkingState  Machines  2.6648  2.6648  2.0000  2.0000  1.3324  1.3324\n",
      "1   RepairQueue  Machines  0.3352  0.1666  0.2515  0.2515  1.3324  1.3324\n"
     ]
    }
   ],
   "execution_count": 3
  },
  {
   "cell_type": "code",
   "source": [
    "stateSpace, nodeStateSpace = solver.getStateSpace()\n",
    "print(\"CTMC state space:\")\n",
    "print(stateSpace)\n",
    "print(nodeStateSpace)"
   ],
   "metadata": {
    "ExecuteTime": {
     "end_time": "2025-05-17T06:51:06.823037Z",
     "start_time": "2025-05-17T06:51:06.807991Z"
    }
   },
   "outputs": [
    {
     "name": "stdout",
     "output_type": "stream",
     "text": [
      "CTMC state space:\n",
      "[[0. 1. 2.]\n",
      " [1. 0. 2.]\n",
      " [2. 0. 1.]\n",
      " [3. 0. 0.]]\n",
      "{0: array([[0.],\n",
      "       [1.],\n",
      "       [2.],\n",
      "       [3.]]), 1: array([[1., 2.],\n",
      "       [0., 2.],\n",
      "       [0., 1.],\n",
      "       [0., 0.]])}\n"
     ]
    }
   ],
   "execution_count": 4
  },
  {
   "cell_type": "code",
   "source": [
    "infGen, eventFilt = solver.getGenerator()\n",
    "print(\"CTMC infinitesimal generator:\")\n",
    "print(infGen)"
   ],
   "metadata": {
    "collapsed": false,
    "ExecuteTime": {
     "end_time": "2025-05-17T06:51:06.865407Z",
     "start_time": "2025-05-17T06:51:06.862234Z"
    }
   },
   "outputs": [
    {
     "name": "stdout",
     "output_type": "stream",
     "text": [
      "CTMC infinitesimal generator:\n",
      "[[-8.   8.   0.   0. ]\n",
      " [ 0.5 -8.5  8.   0. ]\n",
      " [ 0.   1.  -5.   4. ]\n",
      " [ 0.   0.   1.5 -1.5]]\n"
     ]
    }
   ],
   "execution_count": 5
  },
  {
   "metadata": {
    "ExecuteTime": {
     "end_time": "2025-05-17T06:51:06.959392Z",
     "start_time": "2025-05-17T06:51:06.942375Z"
    }
   },
   "cell_type": "code",
   "source": "SolverCTMC.printInfGen(infGen, stateSpace)\n",
   "outputs": [
    {
     "name": "stdout",
     "output_type": "stream",
     "text": [
      "[ 0.0   1.0   2.0 ] -> [ 1.0   0.0   2.0 ] : 8.0\n",
      "[ 1.0   0.0   2.0 ] -> [ 0.0   1.0   2.0 ] : 0.5\n",
      "[ 1.0   0.0   2.0 ] -> [ 2.0   0.0   1.0 ] : 8.0\n",
      "[ 2.0   0.0   1.0 ] -> [ 1.0   0.0   2.0 ] : 1.0\n",
      "[ 2.0   0.0   1.0 ] -> [ 3.0   0.0   0.0 ] : 4.0\n",
      "[ 3.0   0.0   0.0 ] -> [ 2.0   0.0   1.0 ] : 1.5\n"
     ]
    }
   ],
   "execution_count": 6
  }
 ],
 "metadata": {
  "kernelspec": {
   "display_name": "Python 3",
   "language": "python",
   "name": "python3"
  },
  "language_info": {
   "codemirror_mode": {
    "name": "ipython",
    "version": 3
   },
   "file_extension": ".py",
   "mimetype": "text/x-python",
   "name": "python",
   "nbconvert_exporter": "python",
   "pygments_lexer": "ipython3",
   "version": "3.6.4"
  }
 },
 "nbformat": 4,
 "nbformat_minor": 2
}
