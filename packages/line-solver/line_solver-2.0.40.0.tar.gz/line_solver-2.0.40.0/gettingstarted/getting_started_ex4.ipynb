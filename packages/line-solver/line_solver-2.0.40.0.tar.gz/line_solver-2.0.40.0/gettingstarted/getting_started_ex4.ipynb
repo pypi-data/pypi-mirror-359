{
 "cells": [
  {
   "cell_type": "markdown",
   "metadata": {},
   "source": ""
  },
  {
   "cell_type": "code",
   "metadata": {
    "ExecuteTime": {
     "end_time": "2025-05-17T06:51:11.622403Z",
     "start_time": "2025-05-17T06:51:10.979823Z"
    }
   },
   "source": [
    "from line_solver import *\n",
    "GlobalConstants.setVerbose(VerboseLevel.STD)"
   ],
   "outputs": [],
   "execution_count": 1
  },
  {
   "cell_type": "code",
   "metadata": {
    "ExecuteTime": {
     "end_time": "2025-05-17T06:51:11.724159Z",
     "start_time": "2025-05-17T06:51:11.706347Z"
    }
   },
   "source": [
    "model = Network('RRLB')\n",
    "source = Source(model, 'Source')\n",
    "lb = Router(model, 'LB')\n",
    "queue1 = Queue(model, 'Queue1', SchedStrategy.PS)\n",
    "queue2 = Queue(model, 'Queue2', SchedStrategy.PS)\n",
    "sink = Sink(model, 'Sink')\n",
    "oclass = OpenClass(model, 'Class1')\n",
    "source.setArrival(oclass, Exp(1))\n",
    "queue1.setService(oclass, Exp(2))\n",
    "queue2.setService(oclass, Exp(2))"
   ],
   "outputs": [],
   "execution_count": 2
  },
  {
   "cell_type": "code",
   "source": [
    "model.addLinks([[source, lb], \n",
    "               [lb, queue1],  \n",
    "               [lb, queue2],\n",
    "               [queue1, sink],\n",
    "               [queue2, sink]])\n",
    "lb.setRouting(oclass, RoutingStrategy.RAND)\n",
    "jmtAvgTable = SolverJMT(model,'seed',23000).getAvgTable()"
   ],
   "metadata": {
    "collapsed": false,
    "ExecuteTime": {
     "end_time": "2025-05-17T06:51:12.626795Z",
     "start_time": "2025-05-17T06:51:11.735091Z"
    }
   },
   "outputs": [
    {
     "name": "stdout",
     "output_type": "stream",
     "text": [
      "JMT Model: /tmp/workspace/jsim/13067453044074740030/jmodel.jsim\n",
      "  Station JobClass    QLen    Util   RespT  ResidT    ArvR    Tput\n",
      "0  Source   Class1  0.0000  0.0000  0.0000  0.0000  0.0000  1.0135\n",
      "1  Queue1   Class1  0.3161  0.2468  0.6541  0.6541  0.5014  0.5010\n",
      "2  Queue2   Class1  0.3340  0.2508  0.6841  0.3420  0.5045  0.5041\n"
     ]
    }
   ],
   "execution_count": 3
  },
  {
   "cell_type": "code",
   "source": [
    "model.reset()\n",
    "lb.setRouting(oclass, RoutingStrategy.RROBIN)\n",
    "jmtAvgTableRR = SolverJMT(model,'seed',23000).getAvgTable()"
   ],
   "metadata": {
    "collapsed": false,
    "ExecuteTime": {
     "end_time": "2025-05-17T06:51:13.323155Z",
     "start_time": "2025-05-17T06:51:12.638310Z"
    }
   },
   "outputs": [
    {
     "name": "stdout",
     "output_type": "stream",
     "text": [
      "JMT Model: /tmp/workspace/jsim/11170051926963609404/jmodel.jsim\n",
      "  Station JobClass    QLen    Util   RespT  ResidT    ArvR    Tput\n",
      "0  Source   Class1  0.0000  0.0000  0.0000  0.0000  0.0000  1.0089\n",
      "1  Queue1   Class1  0.3043  0.2612  0.5848  0.5848  0.5029  0.5053\n",
      "2  Queue2   Class1  0.2928  0.2440  0.5729  0.2865  0.5050  0.5053\n"
     ]
    }
   ],
   "execution_count": 4
  }
 ],
 "metadata": {
  "kernelspec": {
   "display_name": "Python 3",
   "language": "python",
   "name": "python3"
  },
  "language_info": {
   "codemirror_mode": {
    "name": "ipython",
    "version": 3
   },
   "file_extension": ".py",
   "mimetype": "text/x-python",
   "name": "python",
   "nbconvert_exporter": "python",
   "pygments_lexer": "ipython3",
   "version": "3.6.4"
  }
 },
 "nbformat": 4,
 "nbformat_minor": 2
}
