{
 "cells": [
  {
   "cell_type": "markdown",
   "metadata": {},
   "source": ""
  },
  {
   "cell_type": "code",
   "metadata": {
    "ExecuteTime": {
     "end_time": "2025-06-15T09:43:58.167486Z",
     "start_time": "2025-06-15T09:43:56.857489Z"
    }
   },
   "source": [
    "from line_solver import *\n",
    "GlobalConstants.setVerbose(VerboseLevel.STD)"
   ],
   "outputs": [],
   "execution_count": 1
  },
  {
   "cell_type": "code",
   "metadata": {
    "ExecuteTime": {
     "end_time": "2025-06-15T09:43:58.427108Z",
     "start_time": "2025-06-15T09:43:58.326640Z"
    }
   },
   "source": [
    "model = Network('RL')\n",
    "queue = Queue(model, 'Queue', SchedStrategy.FCFS)\n",
    "K = 3\n",
    "N = (1, 0, 0)\n",
    "jobclass = []\n",
    "for k in range(K):\n",
    "    jobclass.append(ClosedClass(model, 'Class' + str(k+1), N[k], queue))\n",
    "    queue.setService(jobclass[k], Erlang.fitMeanAndOrder(1+k, 2))\n",
    "P = model.initRoutingMatrix()\n",
    "P.set(jobclass[0], jobclass[1], queue, queue, 1.0)\n",
    "P.set(jobclass[1], jobclass[2], queue, queue, 1.0)\n",
    "P.set(jobclass[2], jobclass[0], queue, queue, 1.0)\n",
    "model.link(P)\n",
    "sn = model.getStruct()"
   ],
   "outputs": [],
   "execution_count": 2
  },
  {
   "cell_type": "code",
   "source": "ncAvgTable = SolverNC(model).getAvgTable()",
   "metadata": {
    "collapsed": false,
    "ExecuteTime": {
     "end_time": "2025-06-15T09:43:58.476630Z",
     "start_time": "2025-06-15T09:43:58.438694Z"
    }
   },
   "outputs": [
    {
     "name": "stdout",
     "output_type": "stream",
     "text": [
      "NC [method: default(exact), lang: java, env: 21.0.7] completed in 0.009000s.\n",
      "  Station JobClass    QLen    Util  RespT  ResidT    ArvR    Tput\n",
      "0   Queue   Class1  0.1667  0.1667    1.0  0.3333  0.1667  0.1667\n",
      "1   Queue   Class2  0.3333  0.3333    2.0  0.6667  0.1667  0.1667\n",
      "2   Queue   Class3  0.5000  0.5000    3.0  1.0000  0.1667  0.1667\n"
     ]
    }
   ],
   "execution_count": 3
  },
  {
   "cell_type": "code",
   "source": "ncAvgSysTable = SolverNC(model).getAvgSysTable()",
   "metadata": {
    "collapsed": false,
    "ExecuteTime": {
     "end_time": "2025-06-15T09:43:58.514414Z",
     "start_time": "2025-06-15T09:43:58.507774Z"
    }
   },
   "outputs": [
    {
     "name": "stdout",
     "output_type": "stream",
     "text": [
      "NC [method: default(exact), lang: java, env: 21.0.7] completed in 0.001000s.\n",
      "    Chain              JobClasses  SysRespT  SysTput\n",
      "0  Chain1  (Class1 Class2 Class3)       2.0      0.5\n"
     ]
    }
   ],
   "execution_count": 4
  },
  {
   "cell_type": "code",
   "source": [
    "jobclass[0].completes = False\n",
    "jobclass[1].completes = False\n",
    "ncAvgSysTable2 = SolverNC(model).getAvgSysTable()"
   ],
   "metadata": {
    "collapsed": false,
    "ExecuteTime": {
     "end_time": "2025-06-15T09:43:58.573490Z",
     "start_time": "2025-06-15T09:43:58.568064Z"
    }
   },
   "outputs": [
    {
     "name": "stdout",
     "output_type": "stream",
     "text": [
      "NC [method: default(exact), lang: java, env: 21.0.7] completed in 0.001000s.\n",
      "    Chain              JobClasses  SysRespT  SysTput\n",
      "0  Chain1  (Class1 Class2 Class3)       6.0   0.1667\n"
     ]
    }
   ],
   "execution_count": 5
  },
  {
   "metadata": {
    "ExecuteTime": {
     "end_time": "2025-06-15T09:43:58.631358Z",
     "start_time": "2025-06-15T09:43:58.626786Z"
    }
   },
   "cell_type": "code",
   "source": "ncAvgSysTable = SolverNC(model).getAvgSysTable()",
   "outputs": [
    {
     "name": "stdout",
     "output_type": "stream",
     "text": [
      "NC [method: default(exact), lang: java, env: 21.0.7] completed in 0.000000s.\n",
      "    Chain              JobClasses  SysRespT  SysTput\n",
      "0  Chain1  (Class1 Class2 Class3)       6.0   0.1667\n"
     ]
    }
   ],
   "execution_count": 6
  }
 ],
 "metadata": {
  "kernelspec": {
   "display_name": "Python 3",
   "language": "python",
   "name": "python3"
  },
  "language_info": {
   "codemirror_mode": {
    "name": "ipython",
    "version": 3
   },
   "file_extension": ".py",
   "mimetype": "text/x-python",
   "name": "python",
   "nbconvert_exporter": "python",
   "pygments_lexer": "ipython3",
   "version": "3.6.4"
  }
 },
 "nbformat": 4,
 "nbformat_minor": 2
}
