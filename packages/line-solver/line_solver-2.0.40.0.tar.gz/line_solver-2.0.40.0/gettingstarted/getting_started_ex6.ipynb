{
 "cells": [
  {
   "cell_type": "markdown",
   "metadata": {},
   "source": "WARNING: this example is not yet fully functional"
  },
  {
   "cell_type": "code",
   "metadata": {
    "ExecuteTime": {
     "end_time": "2025-05-17T06:51:21.503706Z",
     "start_time": "2025-05-17T06:51:20.834383Z"
    }
   },
   "source": [
    "from line_solver import *\n",
    "GlobalConstants.setVerbose(VerboseLevel.STD)"
   ],
   "outputs": [],
   "execution_count": 1
  },
  {
   "cell_type": "code",
   "metadata": {
    "ExecuteTime": {
     "end_time": "2025-05-17T06:51:21.601399Z",
     "start_time": "2025-05-17T06:51:21.583449Z"
    }
   },
   "source": [
    "model = Network('Model')\n",
    "# Block 1: nodes\n",
    "clientDelay = Delay(model, 'Client')\n",
    "cacheNode = Cache(model, 'Cache', 1000, 50, ReplacementStrategy.LRU)\n",
    "cacheDelay = Delay(model, 'CacheDelay')"
   ],
   "outputs": [],
   "execution_count": 2
  },
  {
   "cell_type": "code",
   "source": [
    "# Block 2: classes\n",
    "clientClass = ClosedClass(model, 'ClientClass', 1, clientDelay, 0)\n",
    "hitClass = ClosedClass(model, 'HitClass', 0, clientDelay, 0)\n",
    "missClass = ClosedClass(model, 'MissClass', 0, clientDelay, 0)\n",
    "\n",
    "clientDelay.setService(clientClass, Immediate())\n",
    "cacheDelay.setService(hitClass, Exp.fitMean(0.2))\n",
    "cacheDelay.setService(missClass, Exp.fitMean(1.0))\n",
    "\n",
    "cacheNode.setRead(clientClass, Zipf(1.4, 1000))\n",
    "cacheNode.setHitClass(clientClass, hitClass)\n",
    "cacheNode.setMissClass(clientClass, missClass)"
   ],
   "metadata": {
    "collapsed": false,
    "ExecuteTime": {
     "end_time": "2025-05-17T06:51:21.672898Z",
     "start_time": "2025-05-17T06:51:21.639485Z"
    }
   },
   "outputs": [],
   "execution_count": 3
  },
  {
   "cell_type": "code",
   "source": [
    "# Block 3: topology\n",
    "P = model.initRoutingMatrix()\n",
    "# routing from client to cache\n",
    "P.set(clientClass, clientClass, clientDelay, cacheNode, 1.0)\n",
    "# routing out of the cache\n",
    "P.set(hitClass, hitClass, cacheNode, cacheDelay, 1.0)\n",
    "P.set(missClass, missClass, cacheNode, cacheDelay, 1.0)\n",
    "# return to the client\n",
    "P.set(hitClass, clientClass, cacheDelay, clientDelay, 1.0)\n",
    "P.set(missClass, clientClass, cacheDelay, clientDelay, 1.0)\n",
    "# routing from cacheNode\n",
    "model.link(P)"
   ],
   "metadata": {
    "collapsed": false,
    "ExecuteTime": {
     "end_time": "2025-05-17T06:51:21.699108Z",
     "start_time": "2025-05-17T06:51:21.687009Z"
    }
   },
   "outputs": [],
   "execution_count": 4
  },
  {
   "cell_type": "code",
   "source": [
    "# SSA not working on this case in Java but MVA works fine\n",
    "# Block 4: solution\n",
    "mvaAvgTable = SolverMVA(model,'verbose',True).getAvgTable()"
   ],
   "metadata": {
    "collapsed": false,
    "ExecuteTime": {
     "end_time": "2025-05-17T06:51:22.649770Z",
     "start_time": "2025-05-17T06:51:21.738986Z"
    }
   },
   "outputs": [
    {
     "name": "stdout",
     "output_type": "stream",
     "text": [
      "      Station     JobClass        QLen        Util       RespT      ResidT  \\\n",
      "0      Client  ClientClass  1.5285e-05  2.6108e-08  5.8546e-06  5.8546e-06   \n",
      "4  CacheDelay     HitClass  4.0268e-01  4.0269e-01  2.0000e-01  1.5424e-01   \n",
      "5  CacheDelay    MissClass  5.9730e-01  5.9731e-01  9.9998e-01  2.2878e-01   \n",
      "\n",
      "   ArvR    Tput  \n",
      "0   0.0  2.6108  \n",
      "4   0.0  2.0134  \n",
      "5   0.0  0.5973  \n"
     ]
    }
   ],
   "execution_count": 5
  },
  {
   "metadata": {
    "ExecuteTime": {
     "end_time": "2025-05-17T06:51:23.176433Z",
     "start_time": "2025-05-17T06:51:22.678162Z"
    }
   },
   "cell_type": "code",
   "source": "ssaAvgTable = SolverSSA(model,'samples',2000,'seed',1,'verbose',True).getAvgTable()",
   "outputs": [
    {
     "name": "stdout",
     "output_type": "stream",
     "text": [
      "SSA samples:    2000\n",
      "SolverSSA analysis (method: default, lang: java) completed. Runtime: 0.451000 seconds.\n",
      "      Station     JobClass    QLen    Util       RespT  ResidT  ArvR    Tput\n",
      "0      Client  ClientClass  0.0000  0.0000  1.0000e-08  0.0000   0.0  3.1646\n",
      "4  CacheDelay     HitClass  0.5675  0.5675  2.0000e-01  0.1646   0.0  2.8374\n",
      "5  CacheDelay    MissClass  0.4325  0.4325  1.0000e+00  0.1768   0.0  0.4325\n"
     ]
    }
   ],
   "execution_count": 6
  },
  {
   "metadata": {
    "ExecuteTime": {
     "end_time": "2025-05-17T06:51:23.193511Z",
     "start_time": "2025-05-17T06:51:23.191239Z"
    }
   },
   "cell_type": "code",
   "source": "# ssaAvgTablePara = SolverSSA(model,'samples',20000,'seed',1,'verbose',True,'parallel').getAvgTable()",
   "outputs": [],
   "execution_count": 7
  }
 ],
 "metadata": {
  "kernelspec": {
   "display_name": "Python 3",
   "language": "python",
   "name": "python3"
  },
  "language_info": {
   "codemirror_mode": {
    "name": "ipython",
    "version": 3
   },
   "file_extension": ".py",
   "mimetype": "text/x-python",
   "name": "python",
   "nbconvert_exporter": "python",
   "pygments_lexer": "ipython3",
   "version": "3.6.4"
  }
 },
 "nbformat": 4,
 "nbformat_minor": 2
}
