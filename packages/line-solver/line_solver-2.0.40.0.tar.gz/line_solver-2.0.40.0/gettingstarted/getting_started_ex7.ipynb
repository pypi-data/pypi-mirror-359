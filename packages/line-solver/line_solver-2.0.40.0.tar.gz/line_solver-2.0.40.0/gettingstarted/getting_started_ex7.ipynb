{
 "cells": [
  {
   "cell_type": "markdown",
   "metadata": {},
   "source": "WARNING: this example is not yet fully functional"
  },
  {
   "cell_type": "code",
   "metadata": {
    "ExecuteTime": {
     "end_time": "2025-05-17T06:51:27.952203Z",
     "start_time": "2025-05-17T06:51:27.310587Z"
    }
   },
   "source": [
    "from line_solver import *\n",
    "GlobalConstants.setVerbose(VerboseLevel.STD)\n",
    "# import matplotlib.pyplot as plt"
   ],
   "outputs": [],
   "execution_count": 1
  },
  {
   "cell_type": "code",
   "metadata": {
    "ExecuteTime": {
     "end_time": "2025-05-17T06:51:28.048171Z",
     "start_time": "2025-05-17T06:51:28.034677Z"
    }
   },
   "source": [
    "model = Network('Model')\n",
    "\n",
    "# Block 1: nodes\n",
    "node = np.empty(2, dtype=object)\n",
    "node[0] = Delay(model, 'Delay')\n",
    "node[1] = Queue(model, 'Queue1', SchedStrategy.PS)\n",
    "\n",
    "# Block 2: classes\n",
    "jobclass = np.empty(2, dtype=object)\n",
    "jobclass[0] = ClosedClass(model, 'Class1', 5, node[0], 0)\n",
    "node[0].setService(jobclass[0], Exp(1.0))\n",
    "node[1].setService(jobclass[0], Exp(0.5))\n",
    "\n",
    "# Block 3: topology\n",
    "model.link(Network.serialRouting(node[0], node[1]))"
   ],
   "outputs": [],
   "execution_count": 2
  },
  {
   "cell_type": "code",
   "source": [
    "# Block 4: solution\n",
    "RDfluid = SolverFluid(model).getCdfRespT()"
   ],
   "metadata": {
    "collapsed": false,
    "ExecuteTime": {
     "end_time": "2025-05-17T06:51:28.232969Z",
     "start_time": "2025-05-17T06:51:28.089377Z"
    }
   },
   "outputs": [],
   "execution_count": 3
  },
  {
   "cell_type": "code",
   "source": [
    "# TODO: empty result, the function is not implemented yet in JLINE\n",
    "RDsim = SolverJMT(model, 'seed', 23000, 'samples', 10000).getCdfRespT()\n",
    "\n",
    "# # Plot results\n",
    "# semilogx(RDsim{2,1}(:,2),1-RDsim{2,1}(:,1),'r'); hold all;\n",
    "# semilogx(RDfluid{2,1}(:,2),1-RDfluid{2,1}(:,1),'k--');\n",
    "# legend('jmt-transient','fluid-steady','Location','Best');\n",
    "# ylabel('Pr(T > t)'); xlabel('time t');"
   ],
   "metadata": {
    "collapsed": false,
    "ExecuteTime": {
     "end_time": "2025-05-17T06:51:28.254201Z",
     "start_time": "2025-05-17T06:51:28.241742Z"
    }
   },
   "outputs": [],
   "execution_count": 4
  }
 ],
 "metadata": {
  "kernelspec": {
   "display_name": "Python 3",
   "language": "python",
   "name": "python3"
  },
  "language_info": {
   "codemirror_mode": {
    "name": "ipython",
    "version": 3
   },
   "file_extension": ".py",
   "mimetype": "text/x-python",
   "name": "python",
   "nbconvert_exporter": "python",
   "pygments_lexer": "ipython3",
   "version": "3.6.4"
  }
 },
 "nbformat": 4,
 "nbformat_minor": 2
}
