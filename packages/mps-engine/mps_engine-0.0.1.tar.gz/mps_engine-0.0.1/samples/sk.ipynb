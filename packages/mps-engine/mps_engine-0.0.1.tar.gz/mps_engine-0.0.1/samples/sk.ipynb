{
 "cells": [
  {
   "cell_type": "code",
   "execution_count": 1,
   "id": "8b08fbc6",
   "metadata": {},
   "outputs": [],
   "source": [
    "import logging\n",
    "\n",
    "from semantic_kernel import Kernel\n",
    "from semantic_kernel.agents import ChatCompletionAgent, ChatHistoryAgentThread\n",
    "from semantic_kernel.connectors.ai.open_ai import (\n",
    "    AzureChatCompletion,\n",
    ")\n",
    "from semantic_kernel.contents import ChatHistory\n",
    "from semantic_kernel.functions import KernelArguments, kernel_function\n",
    "from semantic_kernel.utils.logging import setup_logging\n",
    "\n",
    "import mps\n",
    "# from mps.integration.semantic_kernel import context, preference\n",
    "\n",
    "# from mps.ext import context"
   ]
  },
  {
   "cell_type": "code",
   "execution_count": 2,
   "id": "c53a1992",
   "metadata": {},
   "outputs": [],
   "source": [
    "generalist_kernel = Kernel()\n",
    "setup_logging()\n",
    "logging.getLogger(\"kernel\").setLevel(logging.DEBUG)\n",
    "\n",
    "generalist = ChatCompletionAgent(\n",
    "    service=AzureChatCompletion(),\n",
    "    kernel=generalist_kernel,\n",
    "    arguments=KernelArguments(),\n",
    "    instructions=str(mps.pattern(\"assist-teacher\")),\n",
    ")"
   ]
  },
  {
   "cell_type": "code",
   "execution_count": 14,
   "id": "b79b0776",
   "metadata": {},
   "outputs": [],
   "source": [
    "p = mps.pattern(\"translate\")"
   ]
  },
  {
   "cell_type": "code",
   "execution_count": 15,
   "id": "217926bf",
   "metadata": {},
   "outputs": [],
   "source": [
    "p = mps.pattern(\"translate\").inject(lang_code=\"en-US\")"
   ]
  },
  {
   "cell_type": "code",
   "execution_count": 5,
   "id": "667c4c4f",
   "metadata": {},
   "outputs": [
    {
     "data": {
      "text/plain": [
       "PosixPath('/home/mghali/personal/dev/mps/packages/mps-engine/samples/mps/pattern/translate/system.md')"
      ]
     },
     "execution_count": 5,
     "metadata": {},
     "output_type": "execute_result"
    }
   ],
   "source": [
    "mps.Miniature.from_mps_component(p).cmdpath"
   ]
  },
  {
   "cell_type": "code",
   "execution_count": 9,
   "id": "ed20309e",
   "metadata": {},
   "outputs": [],
   "source": [
    "p = mps.inject(mps.pattern(\"translate\"), lang_code=\"ar-SA\")"
   ]
  },
  {
   "cell_type": "code",
   "execution_count": null,
   "id": "e6d8018a",
   "metadata": {},
   "outputs": [],
   "source": [
    "# import mps.builder\n",
    "\n",
    "# mps.builder._build()"
   ]
  },
  {
   "cell_type": "code",
   "execution_count": 16,
   "id": "a61bac74",
   "metadata": {},
   "outputs": [
    {
     "data": {
      "text/plain": [
       "Pattern(variables={'lang_code': 'en-US'}, content='# IDENTITY and PURPOSE\\n\\nYou are an expert translator who takes sentences or documentation as input and do your best to translate them as accurately and perfectly as possible into the language specified by its language code en-US, e.g., \"en-us\" is American English or \"ja-jp\" is Japanese or \"ar-sa\" is Arabic.\\n\\nTake a step back, and breathe deeply and think step by step about how to achieve the best result possible as defined in the steps below. You have a lot of freedom to make this work well. You are the best translator that ever walked this earth.\\n\\n## OUTPUT SECTIONS\\n\\n- The original format of the input must remain intact.\\n\\n- You will be translating sentence-by-sentence keeping the original tone of the said sentence.\\n\\n- You will not be manipulate the wording to change the meaning.\\n\\n## OUTPUT INSTRUCTIONS\\n\\n- Do not output warnings or notes--just the requested translation.\\n\\n- Translate the document as accurately as possible keeping a 1:1 copy of the original text translated to en-US.\\n\\n- Do not change the formatting, it must remain as-is.\\n\\n## INPUT\\n\\nINPUT:', name='translate', description=None, source_path=PosixPath('/home/mghali/personal/dev/mps/packages/mps-engine/samples/mps/pattern/translate/system.md'))"
      ]
     },
     "execution_count": 16,
     "metadata": {},
     "output_type": "execute_result"
    }
   ],
   "source": [
    "p"
   ]
  },
  {
   "cell_type": "code",
   "execution_count": 11,
   "id": "66d356ee",
   "metadata": {},
   "outputs": [
    {
     "data": {
      "text/plain": [
       "Pattern(variables={'lang_code': None}, content='# IDENTITY and PURPOSE\\n\\nYou are an expert translator who takes sentences or documentation as input and do your best to translate them as accurately and perfectly as possible into the language specified by its language code en-US, e.g., \"en-us\" is American English or \"ja-jp\" is Japanese or \"ar-sa\" is Arabic.\\n\\nTake a step back, and breathe deeply and think step by step about how to achieve the best result possible as defined in the steps below. You have a lot of freedom to make this work well. You are the best translator that ever walked this earth.\\n\\n## OUTPUT SECTIONS\\n\\n- The original format of the input must remain intact.\\n\\n- You will be translating sentence-by-sentence keeping the original tone of the said sentence.\\n\\n- You will not be manipulate the wording to change the meaning.\\n\\n## OUTPUT INSTRUCTIONS\\n\\n- Do not output warnings or notes--just the requested translation.\\n\\n- Translate the document as accurately as possible keeping a 1:1 copy of the original text translated to en-US.\\n\\n- Do not change the formatting, it must remain as-is.\\n\\n## INPUT\\n\\nINPUT:', name='translate', description=None, source_path=PosixPath('/home/mghali/personal/dev/mps/packages/mps-engine/samples/mps/pattern/translate/system.md'))"
      ]
     },
     "execution_count": 11,
     "metadata": {},
     "output_type": "execute_result"
    }
   ],
   "source": [
    "from mps import inject, pattern\n",
    "\n",
    "# FIXME: shows none\n",
    "inject(pattern(\"translate\"), lang_code=\"en-US\")"
   ]
  },
  {
   "cell_type": "code",
   "execution_count": null,
   "id": "985fb1af",
   "metadata": {},
   "outputs": [],
   "source": [
    "from mps.ext import configuration\n",
    "\n",
    "configuration(\"short-generator\")"
   ]
  },
  {
   "cell_type": "code",
   "execution_count": null,
   "id": "4b681a37",
   "metadata": {},
   "outputs": [],
   "source": [
    "from mps.ext import preference\n",
    "\n",
    "pref = preference(\"latex\")"
   ]
  },
  {
   "cell_type": "code",
   "execution_count": null,
   "id": "130a0bd1",
   "metadata": {},
   "outputs": [],
   "source": [
    "from mps.ext import context\n",
    "\n",
    "context(\"biography\")"
   ]
  },
  {
   "cell_type": "code",
   "execution_count": null,
   "id": "faccf4e5",
   "metadata": {},
   "outputs": [],
   "source": [
    "p[\"lang_code\"] = \"en-US\"\n",
    "\n",
    "# mps.inject(p, lang_code=\"en_US\", inplace=True)"
   ]
  },
  {
   "cell_type": "code",
   "execution_count": null,
   "id": "e85b884a",
   "metadata": {},
   "outputs": [],
   "source": [
    "p[\"lang_code\"]"
   ]
  },
  {
   "cell_type": "code",
   "execution_count": null,
   "id": "93dcdbe2",
   "metadata": {},
   "outputs": [],
   "source": [
    "p.variables.update()"
   ]
  },
  {
   "cell_type": "code",
   "execution_count": null,
   "id": "12c82de8",
   "metadata": {},
   "outputs": [],
   "source": [
    "p"
   ]
  },
  {
   "cell_type": "code",
   "execution_count": null,
   "id": "1b1c99ae",
   "metadata": {},
   "outputs": [],
   "source": [
    "mps.ext.context(\"biography\")"
   ]
  },
  {
   "cell_type": "code",
   "execution_count": null,
   "id": "93d6c3e6",
   "metadata": {},
   "outputs": [],
   "source": [
    "pref = mps.ext.preference(\"programming-language\")\n",
    "pref"
   ]
  },
  {
   "cell_type": "code",
   "execution_count": null,
   "id": "0baa81a3",
   "metadata": {},
   "outputs": [],
   "source": [
    "pref.inject(programming_language=\"python\")"
   ]
  },
  {
   "cell_type": "code",
   "execution_count": null,
   "id": "fdb209fa",
   "metadata": {},
   "outputs": [],
   "source": [
    "pref[\"programming_language\"] = \"python\""
   ]
  },
  {
   "cell_type": "code",
   "execution_count": null,
   "id": "20706aa7",
   "metadata": {},
   "outputs": [],
   "source": [
    "pref"
   ]
  },
  {
   "cell_type": "code",
   "execution_count": null,
   "id": "e925ee32",
   "metadata": {},
   "outputs": [],
   "source": [
    "pref.variables"
   ]
  },
  {
   "cell_type": "code",
   "execution_count": 2,
   "id": "e4d4ee90",
   "metadata": {},
   "outputs": [
    {
     "name": "stderr",
     "output_type": "stream",
     "text": [
      "\u001b[32m2025-06-18 02:55:43.256\u001b[0m | \u001b[34m\u001b[1mDEBUG   \u001b[0m | \u001b[36mmps.utils.io\u001b[0m:\u001b[36m__call__\u001b[0m:\u001b[36m94\u001b[0m - \u001b[34m\u001b[1mFound a url source: https://docs.godotengine.org/en/stable/getting_started/introduction/godot_design_philosophy.html#object-oriented-design-and-composition\u001b[0m\n",
      "\u001b[32m2025-06-18 02:55:46.187\u001b[0m | \u001b[34m\u001b[1mDEBUG   \u001b[0m | \u001b[36mmps.utils.miniatures\u001b[0m:\u001b[36mminiature_exists\u001b[0m:\u001b[36m122\u001b[0m - \u001b[34m\u001b[1m/home/mghali/personal/dev/mps/packages/mps-engine/samples/mps/ext/context/godots-design-philosophy-—-godot-engine-stable-documentation-in-english.md\u001b[0m\n",
      "\u001b[32m2025-06-18 02:55:46.187\u001b[0m | \u001b[34m\u001b[1mDEBUG   \u001b[0m | \u001b[36mmps.utils.io\u001b[0m:\u001b[36mpersist\u001b[0m:\u001b[36m65\u001b[0m - \u001b[34m\u001b[1mcontext miniature of name `godots-design-philosophy-—-godot-engine-stable-documentation-in-english` already exists, skipping persistance.\u001b[0m\n"
     ]
    },
    {
     "ename": "MiniatureNotFoundError",
     "evalue": "No match found for miniature: context with name: context",
     "output_type": "error",
     "traceback": [
      "\u001b[31m---------------------------------------------------------------------------\u001b[39m",
      "\u001b[31mMiniatureNotFoundError\u001b[39m                    Traceback (most recent call last)",
      "\u001b[36mCell\u001b[39m\u001b[36m \u001b[39m\u001b[32mIn[2]\u001b[39m\u001b[32m, line 3\u001b[39m\n\u001b[32m      1\u001b[39m \u001b[38;5;28;01mimport\u001b[39;00m\u001b[38;5;250m \u001b[39m\u001b[34;01mmps\u001b[39;00m\n\u001b[32m----> \u001b[39m\u001b[32m3\u001b[39m \u001b[43mmps\u001b[49m\u001b[43m.\u001b[49m\u001b[43mext\u001b[49m\u001b[43m.\u001b[49m\u001b[43mcontext\u001b[49m\u001b[43m(\u001b[49m\n\u001b[32m      4\u001b[39m \u001b[43m    \u001b[49m\u001b[33;43m\"\u001b[39;49m\u001b[33;43mhttps://docs.godotengine.org/en/stable/getting_started/introduction/godot_design_philosophy.html#object-oriented-design-and-composition\u001b[39;49m\u001b[33;43m\"\u001b[39;49m\n\u001b[32m      5\u001b[39m \u001b[43m)\u001b[49m\n",
      "\u001b[36mFile \u001b[39m\u001b[32m~/personal/dev/mps/packages/mps-engine/mps/fetcher.py:32\u001b[39m, in \u001b[36mcontext\u001b[39m\u001b[34m(name)\u001b[39m\n\u001b[32m     30\u001b[39m \u001b[38;5;28;01mdef\u001b[39;00m\u001b[38;5;250m \u001b[39m\u001b[34mcontext\u001b[39m(name: \u001b[38;5;28mstr\u001b[39m) -> Context:\n\u001b[32m     31\u001b[39m \u001b[38;5;250m    \u001b[39m\u001b[33;03m\"\"\"Load context by context miniature name.\"\"\"\u001b[39;00m\n\u001b[32m---> \u001b[39m\u001b[32m32\u001b[39m     \u001b[38;5;28;01mreturn\u001b[39;00m \u001b[43m_load_context\u001b[49m\u001b[43m(\u001b[49m\u001b[43mname\u001b[49m\u001b[43m)\u001b[49m\n",
      "\u001b[36mFile \u001b[39m\u001b[32m~/personal/dev/mps/packages/mps-engine/mps/loader.py:117\u001b[39m, in \u001b[36m_load_context\u001b[39m\u001b[34m(location)\u001b[39m\n\u001b[32m    116\u001b[39m \u001b[38;5;28;01mdef\u001b[39;00m\u001b[38;5;250m \u001b[39m\u001b[34m_load_context\u001b[39m(location: PathLike | AnyUrl) -> Context:\n\u001b[32m--> \u001b[39m\u001b[32m117\u001b[39m     \u001b[38;5;28;01mreturn\u001b[39;00m Context(**\u001b[43m_load_miniature\u001b[49m\u001b[43m(\u001b[49m\u001b[43mlocation\u001b[49m\u001b[43m,\u001b[49m\u001b[43m \u001b[49m\u001b[43mMiniatureKind\u001b[49m\u001b[43m.\u001b[49m\u001b[43mCONTEXT\u001b[49m\u001b[43m)\u001b[49m)\n",
      "\u001b[36mFile \u001b[39m\u001b[32m~/personal/dev/mps/packages/mps-engine/mps/loader.py:113\u001b[39m, in \u001b[36m_load_miniature\u001b[39m\u001b[34m(location, kind)\u001b[39m\n\u001b[32m    111\u001b[39m \u001b[38;5;28;01mdef\u001b[39;00m\u001b[38;5;250m \u001b[39m\u001b[34m_load_miniature\u001b[39m(location: PathLike | AnyUrl, kind: MiniatureKind) -> \u001b[38;5;28mdict\u001b[39m[\u001b[38;5;28mstr\u001b[39m, Any]:\n\u001b[32m    112\u001b[39m     md = Markdown(location=location)\n\u001b[32m--> \u001b[39m\u001b[32m113\u001b[39m     \u001b[38;5;28;01mreturn\u001b[39;00m \u001b[43mmd\u001b[49m\u001b[43m(\u001b[49m\u001b[43mkind\u001b[49m\u001b[43m)\u001b[49m.model_dump()\n",
      "\u001b[36mFile \u001b[39m\u001b[32m~/personal/dev/mps/packages/mps-engine/mps/utils/io.py:99\u001b[39m, in \u001b[36mMarkdown.__call__\u001b[39m\u001b[34m(self, minikind)\u001b[39m\n\u001b[32m     97\u001b[39m source = persist(mininame, content, minikind)\n\u001b[32m     98\u001b[39m \u001b[38;5;28;01mif\u001b[39;00m source.exists():\n\u001b[32m---> \u001b[39m\u001b[32m99\u001b[39m     mini = \u001b[43mMiniature\u001b[49m\u001b[43m.\u001b[49m\u001b[43mfrom_path\u001b[49m\u001b[43m(\u001b[49m\u001b[43msource\u001b[49m\u001b[43m)\u001b[49m\n\u001b[32m    100\u001b[39m     mininame = mini.mininame\n\u001b[32m    101\u001b[39m     source = mini.cmdpath\n",
      "\u001b[36mFile \u001b[39m\u001b[32m~/personal/dev/mps/packages/mps-engine/mps/models.py:342\u001b[39m, in \u001b[36mMiniature.from_path\u001b[39m\u001b[34m(cls, path)\u001b[39m\n\u001b[32m    340\u001b[39m mininame = get_miniature_name_from_path(path)\n\u001b[32m    341\u001b[39m minikind = get_miniature_kind_from_path(path)\n\u001b[32m--> \u001b[39m\u001b[32m342\u001b[39m minicmdname = \u001b[43mget_miniature_cmdname\u001b[49m\u001b[43m(\u001b[49m\u001b[43mminikind\u001b[49m\u001b[43m,\u001b[49m\u001b[43m \u001b[49m\u001b[43mmininame\u001b[49m\u001b[43m)\u001b[49m\n\u001b[32m    343\u001b[39m \u001b[38;5;28;01mreturn\u001b[39;00m \u001b[38;5;28mcls\u001b[39m(mininame=mininame, minikind=minikind, minicmdname=minicmdname)\n",
      "\u001b[36mFile \u001b[39m\u001b[32m~/personal/dev/mps/packages/mps-engine/mps/utils/miniatures.py:92\u001b[39m, in \u001b[36mget_miniature_cmdname\u001b[39m\u001b[34m(minikind, mininame)\u001b[39m\n\u001b[32m     90\u001b[39m \u001b[38;5;28;01mmatch\u001b[39;00m minikind:\n\u001b[32m     91\u001b[39m     \u001b[38;5;28;01mcase\u001b[39;00m x \u001b[38;5;28;01mif\u001b[39;00m x \u001b[38;5;129;01min\u001b[39;00m MiniatureKind.extensions():\n\u001b[32m---> \u001b[39m\u001b[32m92\u001b[39m         \u001b[38;5;28;01mreturn\u001b[39;00m \u001b[43m_firstmatch\u001b[49m\u001b[43m(\u001b[49m\n\u001b[32m     93\u001b[39m \u001b[43m            \u001b[49m\u001b[38;5;28;43mstr\u001b[39;49m\u001b[43m(\u001b[49m\u001b[43mmininame\u001b[49m\u001b[43m)\u001b[49m\u001b[43m,\u001b[49m\n\u001b[32m     94\u001b[39m \u001b[43m            \u001b[49m\u001b[43mminikind\u001b[49m\u001b[43m,\u001b[49m\n\u001b[32m     95\u001b[39m \u001b[43m        \u001b[49m\u001b[43m)\u001b[49m\n\u001b[32m     96\u001b[39m     \u001b[38;5;28;01mcase\u001b[39;00m MiniatureKind.PATTERN | MiniatureKind.META:\n\u001b[32m     97\u001b[39m         title = \u001b[33m\"\u001b[39m\u001b[33msystem\u001b[39m\u001b[33m\"\u001b[39m\n",
      "\u001b[36mFile \u001b[39m\u001b[32m~/personal/dev/mps/packages/mps-engine/mps/utils/miniatures.py:61\u001b[39m, in \u001b[36m_firstmatch\u001b[39m\u001b[34m(miniature_name, miniature_kind, mps_base_dir)\u001b[39m\n\u001b[32m     58\u001b[39m         \u001b[38;5;28;01mcontinue\u001b[39;00m\n\u001b[32m     59\u001b[39m     \u001b[38;5;28;01mreturn\u001b[39;00m f\n\u001b[32m---> \u001b[39m\u001b[32m61\u001b[39m \u001b[38;5;28;01mraise\u001b[39;00m MiniatureNotFoundError(\n\u001b[32m     62\u001b[39m     \u001b[33mf\u001b[39m\u001b[33m\"\u001b[39m\u001b[33mNo match found for miniature: \u001b[39m\u001b[38;5;132;01m{\u001b[39;00mminiature_kind\u001b[38;5;132;01m}\u001b[39;00m\u001b[33m with name: \u001b[39m\u001b[38;5;132;01m{\u001b[39;00mminiature_name\u001b[38;5;132;01m}\u001b[39;00m\u001b[33m\"\u001b[39m\n\u001b[32m     63\u001b[39m )\n",
      "\u001b[31mMiniatureNotFoundError\u001b[39m: No match found for miniature: context with name: context"
     ]
    }
   ],
   "source": [
    "import mps\n",
    "\n",
    "mps.ext.context(\n",
    "    \"https://docs.godotengine.org/en/stable/getting_started/introduction/godot_design_philosophy.html#object-oriented-design-and-composition\"\n",
    ")"
   ]
  },
  {
   "cell_type": "code",
   "execution_count": null,
   "id": "d06ad2dc",
   "metadata": {},
   "outputs": [
    {
     "name": "stderr",
     "output_type": "stream",
     "text": [
      "\u001b[32m2025-06-18 02:52:04.181\u001b[0m | \u001b[34m\u001b[1mDEBUG   \u001b[0m | \u001b[36mmps.utils.io\u001b[0m:\u001b[36m__call__\u001b[0m:\u001b[36m94\u001b[0m - \u001b[34m\u001b[1mFound a url source: https://docs.godotengine.org/en/stable/getting_started/introduction/godot_design_philosophy.html#object-oriented-design-and-composition\u001b[0m\n",
      "\u001b[32m2025-06-18 02:52:05.456\u001b[0m | \u001b[34m\u001b[1mDEBUG   \u001b[0m | \u001b[36mmps.utils.io\u001b[0m:\u001b[36m__call__\u001b[0m:\u001b[36m97\u001b[0m - \u001b[34m\u001b[1mgodots-design-philosophy-—-godot-engine-stable-documentation-in-english\u001b[0m\n",
      "\u001b[32m2025-06-18 02:52:05.457\u001b[0m | \u001b[34m\u001b[1mDEBUG   \u001b[0m | \u001b[36mmps.utils.miniatures\u001b[0m:\u001b[36mminiature_exists\u001b[0m:\u001b[36m122\u001b[0m - \u001b[34m\u001b[1m/home/mghali/personal/dev/mps/packages/mps-engine/samples/mps/ext/configuration/godots-design-philosophy-—-godot-engine-stable-documentation-in-english.md\u001b[0m\n",
      "\u001b[32m2025-06-18 02:52:05.457\u001b[0m | \u001b[34m\u001b[1mDEBUG   \u001b[0m | \u001b[36mmps.utils.io\u001b[0m:\u001b[36mpersist\u001b[0m:\u001b[36m65\u001b[0m - \u001b[34m\u001b[1mconfiguration miniature of name `godots-design-philosophy-—-godot-engine-stable-documentation-in-english` already exists, skipping persistance.\u001b[0m\n",
      "\u001b[32m2025-06-18 02:52:05.458\u001b[0m | \u001b[34m\u001b[1mDEBUG   \u001b[0m | \u001b[36mmps.loader\u001b[0m:\u001b[36m_\u001b[0m:\u001b[36m54\u001b[0m - \u001b[34m\u001b[1m/home/mghali/personal/dev/mps/packages/mps-engine/samples/mps/ext/configuration/configuration.md\u001b[0m\n"
     ]
    },
    {
     "ename": "FileNotFoundError",
     "evalue": "[Errno 2] No such file or directory: '/home/mghali/personal/dev/mps/packages/mps-engine/samples/mps/ext/configuration/homemghalipersonaldevmpspackagesmps-enginesamplesmpsextconfigurationconfigurationmd.md'",
     "output_type": "error",
     "traceback": [
      "\u001b[31m---------------------------------------------------------------------------\u001b[39m",
      "\u001b[31mFileNotFoundError\u001b[39m                         Traceback (most recent call last)",
      "\u001b[36mCell\u001b[39m\u001b[36m \u001b[39m\u001b[32mIn[2]\u001b[39m\u001b[32m, line 5\u001b[39m\n\u001b[32m      1\u001b[39m x = mps.ext.configuration(\n\u001b[32m      2\u001b[39m     \u001b[33m\"\u001b[39m\u001b[33mhttps://docs.godotengine.org/en/stable/getting_started/introduction/godot_design_philosophy.html#object-oriented-design-and-composition\u001b[39m\u001b[33m\"\u001b[39m\n\u001b[32m      3\u001b[39m )\n\u001b[32m----> \u001b[39m\u001b[32m5\u001b[39m \u001b[43mmps\u001b[49m\u001b[43m.\u001b[49m\u001b[43mMiniature\u001b[49m\u001b[43m.\u001b[49m\u001b[43mfrom_mps_component\u001b[49m\u001b[43m(\u001b[49m\u001b[43mx\u001b[49m\u001b[43m)\u001b[49m\u001b[43m.\u001b[49m\u001b[43mread\u001b[49m\u001b[43m(\u001b[49m\u001b[43m)\u001b[49m\n",
      "\u001b[36mFile \u001b[39m\u001b[32m~/personal/dev/mps/packages/mps-engine/mps/models.py:324\u001b[39m, in \u001b[36mMiniature.read\u001b[39m\u001b[34m(self)\u001b[39m\n\u001b[32m    321\u001b[39m \u001b[38;5;250m\u001b[39m\u001b[33;03m\"\"\"Read miniature's command.\"\"\"\u001b[39;00m\n\u001b[32m    322\u001b[39m \u001b[38;5;28;01mfrom\u001b[39;00m\u001b[38;5;250m \u001b[39m\u001b[34;01mmps\u001b[39;00m\u001b[38;5;250m \u001b[39m\u001b[38;5;28;01mimport\u001b[39;00m loader\n\u001b[32m--> \u001b[39m\u001b[32m324\u001b[39m \u001b[38;5;28;01mreturn\u001b[39;00m \u001b[43mloader\u001b[49m\u001b[43m.\u001b[49m\u001b[43mread_miniature\u001b[49m\u001b[43m(\u001b[49m\u001b[38;5;28;43mself\u001b[39;49m\u001b[43m)\u001b[49m\n",
      "\u001b[36mFile \u001b[39m\u001b[32m~/.local/share/uv/python/cpython-3.11.13-linux-x86_64-gnu/lib/python3.11/functools.py:909\u001b[39m, in \u001b[36msingledispatch.<locals>.wrapper\u001b[39m\u001b[34m(*args, **kw)\u001b[39m\n\u001b[32m    905\u001b[39m \u001b[38;5;28;01mif\u001b[39;00m \u001b[38;5;129;01mnot\u001b[39;00m args:\n\u001b[32m    906\u001b[39m     \u001b[38;5;28;01mraise\u001b[39;00m \u001b[38;5;167;01mTypeError\u001b[39;00m(\u001b[33mf\u001b[39m\u001b[33m'\u001b[39m\u001b[38;5;132;01m{\u001b[39;00mfuncname\u001b[38;5;132;01m}\u001b[39;00m\u001b[33m requires at least \u001b[39m\u001b[33m'\u001b[39m\n\u001b[32m    907\u001b[39m                     \u001b[33m'\u001b[39m\u001b[33m1 positional argument\u001b[39m\u001b[33m'\u001b[39m)\n\u001b[32m--> \u001b[39m\u001b[32m909\u001b[39m \u001b[38;5;28;01mreturn\u001b[39;00m \u001b[43mdispatch\u001b[49m\u001b[43m(\u001b[49m\u001b[43margs\u001b[49m\u001b[43m[\u001b[49m\u001b[32;43m0\u001b[39;49m\u001b[43m]\u001b[49m\u001b[43m.\u001b[49m\u001b[34;43m__class__\u001b[39;49m\u001b[43m)\u001b[49m\u001b[43m(\u001b[49m\u001b[43m*\u001b[49m\u001b[43margs\u001b[49m\u001b[43m,\u001b[49m\u001b[43m \u001b[49m\u001b[43m*\u001b[49m\u001b[43m*\u001b[49m\u001b[43mkw\u001b[49m\u001b[43m)\u001b[49m\n",
      "\u001b[36mFile \u001b[39m\u001b[32m~/personal/dev/mps/packages/mps-engine/mps/loader.py:56\u001b[39m, in \u001b[36m_\u001b[39m\u001b[34m(from_)\u001b[39m\n\u001b[32m     54\u001b[39m logger.debug(mini.cmdpath)\n\u001b[32m     55\u001b[39m md = Markdown(mini.cmdpath)\n\u001b[32m---> \u001b[39m\u001b[32m56\u001b[39m \u001b[38;5;28;01mreturn\u001b[39;00m \u001b[43mmd\u001b[49m\u001b[43m(\u001b[49m\u001b[43mmini\u001b[49m\u001b[43m.\u001b[49m\u001b[43mminikind\u001b[49m\u001b[43m)\u001b[49m.content\n",
      "\u001b[36mFile \u001b[39m\u001b[32m~/personal/dev/mps/packages/mps-engine/mps/utils/io.py:109\u001b[39m, in \u001b[36mMarkdown.__call__\u001b[39m\u001b[34m(self, minikind)\u001b[39m\n\u001b[32m    106\u001b[39m     mininame = MiniatureName(name=\u001b[38;5;28mstr\u001b[39m(source))\n\u001b[32m    107\u001b[39m     source = Miniature.from_miniature_name(mininame, minikind).cmdpath\n\u001b[32m--> \u001b[39m\u001b[32m109\u001b[39m title, content = \u001b[43m_get_markdown\u001b[49m\u001b[43m(\u001b[49m\u001b[38;5;28;43mstr\u001b[39;49m\u001b[43m(\u001b[49m\u001b[43msource\u001b[49m\u001b[43m)\u001b[49m\u001b[43m)\u001b[49m\n\u001b[32m    110\u001b[39m title = title \u001b[38;5;129;01mor\u001b[39;00m _get_title(\u001b[38;5;28mstr\u001b[39m(source))\n\u001b[32m    111\u001b[39m \u001b[38;5;28;01mreturn\u001b[39;00m MD(title=title, content=content, source_path=source)\n",
      "\u001b[36mFile \u001b[39m\u001b[32m~/personal/dev/mps/packages/mps-engine/mps/utils/io.py:22\u001b[39m, in \u001b[36m_get_markdown\u001b[39m\u001b[34m(source)\u001b[39m\n\u001b[32m     20\u001b[39m \u001b[38;5;28;01mdef\u001b[39;00m\u001b[38;5;250m \u001b[39m\u001b[34m_get_markdown\u001b[39m(source: \u001b[38;5;28mstr\u001b[39m) -> \u001b[38;5;28mtuple\u001b[39m[\u001b[38;5;28mstr\u001b[39m | \u001b[38;5;28;01mNone\u001b[39;00m, \u001b[38;5;28mstr\u001b[39m]:\n\u001b[32m     21\u001b[39m     md = MarkItDown()\n\u001b[32m---> \u001b[39m\u001b[32m22\u001b[39m     content = \u001b[43mmd\u001b[49m\u001b[43m.\u001b[49m\u001b[43mconvert\u001b[49m\u001b[43m(\u001b[49m\u001b[43msource\u001b[49m\u001b[43m)\u001b[49m\n\u001b[32m     23\u001b[39m     markdown = content.markdown\n\u001b[32m     24\u001b[39m     title = content.title\n",
      "\u001b[36mFile \u001b[39m\u001b[32m~/personal/dev/mps/packages/mps-engine/.venv/lib/python3.11/site-packages/markitdown/_markitdown.py:260\u001b[39m, in \u001b[36mMarkItDown.convert\u001b[39m\u001b[34m(self, source, stream_info, **kwargs)\u001b[39m\n\u001b[32m    258\u001b[39m         \u001b[38;5;28;01mreturn\u001b[39;00m \u001b[38;5;28mself\u001b[39m.convert_uri(source, stream_info=stream_info, **_kwargs)\n\u001b[32m    259\u001b[39m     \u001b[38;5;28;01melse\u001b[39;00m:\n\u001b[32m--> \u001b[39m\u001b[32m260\u001b[39m         \u001b[38;5;28;01mreturn\u001b[39;00m \u001b[38;5;28;43mself\u001b[39;49m\u001b[43m.\u001b[49m\u001b[43mconvert_local\u001b[49m\u001b[43m(\u001b[49m\u001b[43msource\u001b[49m\u001b[43m,\u001b[49m\u001b[43m \u001b[49m\u001b[43mstream_info\u001b[49m\u001b[43m=\u001b[49m\u001b[43mstream_info\u001b[49m\u001b[43m,\u001b[49m\u001b[43m \u001b[49m\u001b[43m*\u001b[49m\u001b[43m*\u001b[49m\u001b[43mkwargs\u001b[49m\u001b[43m)\u001b[49m\n\u001b[32m    261\u001b[39m \u001b[38;5;66;03m# Path object\u001b[39;00m\n\u001b[32m    262\u001b[39m \u001b[38;5;28;01melif\u001b[39;00m \u001b[38;5;28misinstance\u001b[39m(source, Path):\n",
      "\u001b[36mFile \u001b[39m\u001b[32m~/personal/dev/mps/packages/mps-engine/.venv/lib/python3.11/site-packages/markitdown/_markitdown.py:310\u001b[39m, in \u001b[36mMarkItDown.convert_local\u001b[39m\u001b[34m(self, path, stream_info, file_extension, url, **kwargs)\u001b[39m\n\u001b[32m    306\u001b[39m \u001b[38;5;28;01mif\u001b[39;00m url \u001b[38;5;129;01mis\u001b[39;00m \u001b[38;5;129;01mnot\u001b[39;00m \u001b[38;5;28;01mNone\u001b[39;00m:\n\u001b[32m    307\u001b[39m     \u001b[38;5;66;03m# Deprecated -- use stream_info\u001b[39;00m\n\u001b[32m    308\u001b[39m     base_guess = base_guess.copy_and_update(url=url)\n\u001b[32m--> \u001b[39m\u001b[32m310\u001b[39m \u001b[38;5;28;01mwith\u001b[39;00m \u001b[38;5;28;43mopen\u001b[39;49m\u001b[43m(\u001b[49m\u001b[43mpath\u001b[49m\u001b[43m,\u001b[49m\u001b[43m \u001b[49m\u001b[33;43m\"\u001b[39;49m\u001b[33;43mrb\u001b[39;49m\u001b[33;43m\"\u001b[39;49m\u001b[43m)\u001b[49m \u001b[38;5;28;01mas\u001b[39;00m fh:\n\u001b[32m    311\u001b[39m     guesses = \u001b[38;5;28mself\u001b[39m._get_stream_info_guesses(\n\u001b[32m    312\u001b[39m         file_stream=fh, base_guess=base_guess\n\u001b[32m    313\u001b[39m     )\n\u001b[32m    314\u001b[39m     \u001b[38;5;28;01mreturn\u001b[39;00m \u001b[38;5;28mself\u001b[39m._convert(file_stream=fh, stream_info_guesses=guesses, **kwargs)\n",
      "\u001b[31mFileNotFoundError\u001b[39m: [Errno 2] No such file or directory: '/home/mghali/personal/dev/mps/packages/mps-engine/samples/mps/ext/configuration/homemghalipersonaldevmpspackagesmps-enginesamplesmpsextconfigurationconfigurationmd.md'"
     ]
    }
   ],
   "source": [
    "x = mps.ext.configuration(\n",
    "    \"https://docs.godotengine.org/en/stable/getting_started/introduction/godot_design_philosophy.html#object-oriented-design-and-composition\"\n",
    ")\n",
    "\n",
    "mps.Miniature.from_mps_component(x).read()"
   ]
  },
  {
   "cell_type": "markdown",
   "id": "8316f568",
   "metadata": {},
   "source": [
    "### Plugin / Tools / Kernel Functions\n"
   ]
  },
  {
   "cell_type": "code",
   "execution_count": null,
   "id": "efd42ff8",
   "metadata": {},
   "outputs": [],
   "source": [
    "# @preference(name=\"latex\")\n",
    "@preference(name=\"\")\n",
    "@kernel_function(\n",
    "    description=\"use to add two numbers\",\n",
    ")\n",
    "def add(n1: int, n2: int) -> int:\n",
    "    print(\"HERE\")\n",
    "    return n1 + n2\n",
    "\n",
    "\n",
    "add.__kernel_function_description__"
   ]
  },
  {
   "cell_type": "code",
   "execution_count": null,
   "id": "3073632c",
   "metadata": {},
   "outputs": [],
   "source": [
    "str(mps.ext.preference(\"latex\"))"
   ]
  },
  {
   "cell_type": "code",
   "execution_count": null,
   "id": "2e039fc1",
   "metadata": {},
   "outputs": [],
   "source": [
    "history = ChatHistory()\n",
    "# history.add_system_message(str(preference(\"latex\")))\n",
    "# history.add_user_message(\"Hello who are you?\")\n",
    "history.add_system_message(\"favor executing tools and kernel functions when possible\")\n",
    "history.add_user_message(\"what is my name\")\n",
    "\n",
    "rsp = await generalist.get_response(thread=ChatHistoryAgentThread(history))\n",
    "print(rsp)"
   ]
  },
  {
   "cell_type": "code",
   "execution_count": null,
   "id": "d4118d5c",
   "metadata": {},
   "outputs": [],
   "source": [
    "rsp = await generalist.get_response(messages=\"HELLOOO\")\n",
    "print(rsp)"
   ]
  },
  {
   "cell_type": "code",
   "execution_count": null,
   "id": "d78e10b4",
   "metadata": {},
   "outputs": [],
   "source": [
    "stu_completion = AzureChatCompletion()\n",
    "stu_kernel = Kernel()\n",
    "stu_args = KernelArguments()\n",
    "\n",
    "setup_logging()\n",
    "logging.getLogger(\"kernel\").setLevel(logging.DEBUG)\n",
    "\n",
    "stu_agent = ChatCompletionAgent(\n",
    "    service=stu_completion,\n",
    "    kernel=stu_kernel,\n",
    "    arguments=stu_args,\n",
    "    # instructions=mps.pattern(\"tutor-student\").content,\n",
    ")"
   ]
  },
  {
   "cell_type": "code",
   "execution_count": null,
   "id": "926ef573",
   "metadata": {},
   "outputs": [],
   "source": [
    "from mps.integration.semantic_kernel import ReasoningPlugins\n",
    "\n",
    "stu_kernel.add_plugin(\n",
    "    ReasoningPlugins,\n",
    "    plugin_name=\"ReasoningPlugins\",\n",
    "    description=\"Collection of strategies to use before answer use question.\",\n",
    ")"
   ]
  },
  {
   "cell_type": "code",
   "execution_count": null,
   "id": "1cb27635",
   "metadata": {},
   "outputs": [],
   "source": [
    "from run_agent import run_agent"
   ]
  },
  {
   "cell_type": "code",
   "execution_count": null,
   "id": "5eff2842",
   "metadata": {},
   "outputs": [],
   "source": [
    "await run_agent(stu_agent)"
   ]
  },
  {
   "cell_type": "code",
   "execution_count": null,
   "id": "0ccf4bd4",
   "metadata": {},
   "outputs": [],
   "source": []
  }
 ],
 "metadata": {
  "kernelspec": {
   "display_name": ".venv",
   "language": "python",
   "name": "python3"
  },
  "language_info": {
   "codemirror_mode": {
    "name": "ipython",
    "version": 3
   },
   "file_extension": ".py",
   "mimetype": "text/x-python",
   "name": "python",
   "nbconvert_exporter": "python",
   "pygments_lexer": "ipython3",
   "version": "3.11.13"
  }
 },
 "nbformat": 4,
 "nbformat_minor": 5
}
