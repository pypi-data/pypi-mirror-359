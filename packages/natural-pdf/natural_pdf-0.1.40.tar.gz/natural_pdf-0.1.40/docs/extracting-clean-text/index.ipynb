{
 "cells": [
  {
   "cell_type": "markdown",
   "id": "a8cdf2b5",
   "metadata": {},
   "source": [
    "# Extract Clean Text Without Headers and Footers\n",
    "\n",
    "You've got a PDF where you need the main content, but every page has headers, footers, watermarks, or other junk that's messing up your text extraction. Here's how to get just the content you want.\n",
    "\n",
    "## The Problem\n",
    "\n",
    "PDFs often have repeated content on every page that you don't want:\n",
    "\n",
    "- Company headers with logos and contact info\n",
    "- Page numbers and footers  \n",
    "- \"CONFIDENTIAL\" watermarks\n",
    "- Navigation elements from web-to-PDF conversions\n",
    "\n",
    "When you extract text normally, all this noise gets mixed in with your actual content.\n",
    "\n",
    "## Quick Solution: Exclude by Pattern\n",
    "\n",
    "If the unwanted content is consistent across pages, you can exclude it once:"
   ]
  },
  {
   "cell_type": "code",
   "execution_count": 1,
   "id": "57639ae7",
   "metadata": {
    "execution": {
     "iopub.execute_input": "2025-06-24T13:49:50.899158Z",
     "iopub.status.busy": "2025-06-24T13:49:50.898970Z",
     "iopub.status.idle": "2025-06-24T13:49:52.427628Z",
     "shell.execute_reply": "2025-06-24T13:49:52.427156Z"
    }
   },
   "outputs": [
    {
     "name": "stderr",
     "output_type": "stream",
     "text": [
      "CropBox missing from /Page, defaulting to MediaBox\n"
     ]
    }
   ],
   "source": [
    "from natural_pdf import PDF\n",
    "\n",
    "pdf = PDF(\"https://github.com/jsoma/natural-pdf/raw/refs/heads/main/pdfs/01-practice.pdf\")\n",
    "page = pdf.pages[0]\n",
    "\n",
    "# Find and exclude the header (top 10% of page)\n",
    "header_region = page.create_region(0, 0, page.width, page.height * 0.1)\n",
    "page.add_exclusion(header_region)\n",
    "\n",
    "# Find and exclude footer (bottom 10% of page)  \n",
    "footer_region = page.create_region(0, page.height * 0.9, page.width, page.height)\n",
    "page.add_exclusion(footer_region)\n",
    "\n",
    "# Now extract clean text\n",
    "clean_text = page.extract_text()"
   ]
  },
  {
   "cell_type": "markdown",
   "id": "b6a1447d",
   "metadata": {},
   "source": [
    "## Exclude Specific Elements\n",
    "\n",
    "For more precision, exclude specific text or elements:"
   ]
  },
  {
   "cell_type": "code",
   "execution_count": 2,
   "id": "ee4ac021",
   "metadata": {
    "execution": {
     "iopub.execute_input": "2025-06-24T13:49:52.429877Z",
     "iopub.status.busy": "2025-06-24T13:49:52.429621Z",
     "iopub.status.idle": "2025-06-24T13:49:52.436732Z",
     "shell.execute_reply": "2025-06-24T13:49:52.436192Z"
    }
   },
   "outputs": [
    {
     "data": {
      "text/plain": [
       "<Page number=1 index=0>"
      ]
     },
     "execution_count": 2,
     "metadata": {},
     "output_type": "execute_result"
    }
   ],
   "source": [
    "# Exclude anything containing \"CONFIDENTIAL\"\n",
    "confidential = page.find('text:contains(\"CONFIDENTIAL\")')\n",
    "if confidential:\n",
    "    page.add_exclusion(confidential.above())  # Everything above it\n",
    "\n",
    "# Exclude page numbers (usually small text with just numbers)\n",
    "page_nums = page.find_all('text:contains(\"^\\\\d+$\")', regex=True)\n",
    "for num in page_nums:\n",
    "    page.add_exclusion(num)\n",
    "\n",
    "# Exclude elements by position (like top-right logos)\n",
    "top_right = page.create_region(page.width * 0.7, 0, page.width, page.height * 0.15)\n",
    "page.add_exclusion(top_right)"
   ]
  },
  {
   "cell_type": "markdown",
   "id": "b633cc5d",
   "metadata": {},
   "source": [
    "## Apply Exclusions to All Pages\n",
    "\n",
    "Set up exclusions that work across your entire document:"
   ]
  },
  {
   "cell_type": "code",
   "execution_count": 3,
   "id": "798eaaca",
   "metadata": {
    "execution": {
     "iopub.execute_input": "2025-06-24T13:49:52.438878Z",
     "iopub.status.busy": "2025-06-24T13:49:52.438720Z",
     "iopub.status.idle": "2025-06-24T13:49:52.449840Z",
     "shell.execute_reply": "2025-06-24T13:49:52.449366Z"
    }
   },
   "outputs": [],
   "source": [
    "# Define exclusions that adapt to each page\n",
    "def exclude_header(page):\n",
    "    # Top 50 points of every page\n",
    "    return page.create_region(0, 0, page.width, 50)\n",
    "\n",
    "def exclude_footer(page):\n",
    "    # Bottom 30 points of every page  \n",
    "    return page.create_region(0, page.height - 30, page.width, page.height)\n",
    "\n",
    "def exclude_watermark(page):\n",
    "    # Find \"DRAFT\" watermark if it exists\n",
    "    draft = page.find('text:contains(\"DRAFT\")')\n",
    "    return draft.create_region() if draft else None\n",
    "\n",
    "# Apply to entire PDF\n",
    "pdf.add_exclusion(exclude_header, label=\"Headers\")\n",
    "pdf.add_exclusion(exclude_footer, label=\"Footers\") \n",
    "pdf.add_exclusion(exclude_watermark, label=\"Watermarks\")\n",
    "\n",
    "# Extract clean text from any page\n",
    "clean_text = pdf.pages[0].extract_text()  # Headers/footers automatically excluded"
   ]
  },
  {
   "cell_type": "markdown",
   "id": "d3dc8f42",
   "metadata": {},
   "source": [
    "## Remove Noise from Scanned Documents\n",
    "\n",
    "For scanned PDFs, apply OCR first, then filter by confidence:"
   ]
  },
  {
   "cell_type": "code",
   "execution_count": 4,
   "id": "32f3646f",
   "metadata": {
    "execution": {
     "iopub.execute_input": "2025-06-24T13:49:52.451568Z",
     "iopub.status.busy": "2025-06-24T13:49:52.451425Z",
     "iopub.status.idle": "2025-06-24T13:50:04.894421Z",
     "shell.execute_reply": "2025-06-24T13:50:04.894016Z"
    }
   },
   "outputs": [
    {
     "data": {
      "application/vnd.jupyter.widget-view+json": {
       "model_id": "1cf5e5f4e77643fa90b42344b9ba3e66",
       "version_major": 2,
       "version_minor": 0
      },
      "text/plain": [
       "Rendering pages:   0%|          | 0/1 [00:00<?, ?it/s]"
      ]
     },
     "metadata": {},
     "output_type": "display_data"
    },
    {
     "name": "stderr",
     "output_type": "stream",
     "text": [
      "Using CPU. Note: This module is much faster with a GPU.\n"
     ]
    },
    {
     "name": "stderr",
     "output_type": "stream",
     "text": [
      "/Users/soma/Development/natural-pdf/.venv/lib/python3.11/site-packages/torch/utils/data/dataloader.py:683: UserWarning: 'pin_memory' argument is set as true but not supported on MPS now, then device pinned memory won't be used.\n",
      "  warnings.warn(warn_msg)\n"
     ]
    }
   ],
   "source": [
    "# Apply OCR\n",
    "page.apply_ocr(engine='easyocr', languages=['en'])\n",
    "\n",
    "# Only use high-confidence OCR text\n",
    "reliable_text = page.find_all('text[source=ocr][confidence>=0.8]')\n",
    "clean_text = reliable_text.extract_text()\n",
    "\n",
    "# Or exclude low-confidence noise\n",
    "noisy_text = page.find_all('text[source=ocr][confidence<0.5]')\n",
    "for noise in noisy_text:\n",
    "    page.add_exclusion(noise)"
   ]
  },
  {
   "cell_type": "markdown",
   "id": "edd213a1",
   "metadata": {},
   "source": [
    "## Handle Multi-Column Layouts\n",
    "\n",
    "Extract text from specific columns or sections:"
   ]
  },
  {
   "cell_type": "code",
   "execution_count": 5,
   "id": "70b9e5af",
   "metadata": {
    "execution": {
     "iopub.execute_input": "2025-06-24T13:50:04.896204Z",
     "iopub.status.busy": "2025-06-24T13:50:04.895978Z",
     "iopub.status.idle": "2025-06-24T13:50:04.904772Z",
     "shell.execute_reply": "2025-06-24T13:50:04.904458Z"
    }
   },
   "outputs": [],
   "source": [
    "# Extract just the main content column (avoiding sidebars)\n",
    "main_column = page.create_region(\n",
    "    x0=page.width * 0.1,      # Start 10% from left\n",
    "    top=page.height * 0.15,   # Skip header area\n",
    "    x1=page.width * 0.7,      # End before sidebar\n",
    "    bottom=page.height * 0.9   # Stop before footer\n",
    ")\n",
    "\n",
    "column_text = main_column.extract_text()"
   ]
  },
  {
   "cell_type": "markdown",
   "id": "a45a8a39",
   "metadata": {},
   "source": [
    "## Visual Debugging\n",
    "\n",
    "See what you're excluding before committing:"
   ]
  },
  {
   "cell_type": "code",
   "execution_count": 6,
   "id": "57c03b9b",
   "metadata": {
    "execution": {
     "iopub.execute_input": "2025-06-24T13:50:04.906112Z",
     "iopub.status.busy": "2025-06-24T13:50:04.905989Z",
     "iopub.status.idle": "2025-06-24T13:50:04.937909Z",
     "shell.execute_reply": "2025-06-24T13:50:04.937517Z"
    }
   },
   "outputs": [
    {
     "data": {
      "text/plain": [
       "<Page number=1 index=0>"
      ]
     },
     "execution_count": 6,
     "metadata": {},
     "output_type": "execute_result"
    }
   ],
   "source": [
    "# Highlight what you're about to exclude\n",
    "header = page.create_region(0, 0, page.width, 50)\n",
    "footer = page.create_region(0, page.height - 30, page.width, page.height)\n",
    "\n",
    "header.highlight(color=\"red\", label=\"Will exclude\")\n",
    "footer.highlight(color=\"red\", label=\"Will exclude\") \n",
    "\n",
    "# Show the page to verify\n",
    "page.show()\n",
    "\n",
    "# If it looks right, apply the exclusions\n",
    "page.add_exclusion(header)\n",
    "page.add_exclusion(footer)"
   ]
  },
  {
   "cell_type": "markdown",
   "id": "ff152ca4",
   "metadata": {},
   "source": [
    "## Compare Before and After"
   ]
  },
  {
   "cell_type": "code",
   "execution_count": 7,
   "id": "db56c618",
   "metadata": {
    "execution": {
     "iopub.execute_input": "2025-06-24T13:50:04.939448Z",
     "iopub.status.busy": "2025-06-24T13:50:04.939321Z",
     "iopub.status.idle": "2025-06-24T13:50:04.958894Z",
     "shell.execute_reply": "2025-06-24T13:50:04.958622Z"
    }
   },
   "outputs": [
    {
     "name": "stdout",
     "output_type": "stream",
     "text": [
      "Original: 2247 characters\n",
      "Clean: 2247 characters\n",
      "Removed: 0 characters\n"
     ]
    }
   ],
   "source": [
    "# Extract with and without exclusions to see the difference\n",
    "full_text = page.extract_text(use_exclusions=False)\n",
    "clean_text = page.extract_text(use_exclusions=True)\n",
    "\n",
    "print(f\"Original: {len(full_text)} characters\")\n",
    "print(f\"Clean: {len(clean_text)} characters\")\n",
    "print(f\"Removed: {len(full_text) - len(clean_text)} characters\")"
   ]
  },
  {
   "cell_type": "markdown",
   "id": "10bfa5c8",
   "metadata": {
    "lines_to_next_cell": 0
   },
   "source": [
    "## Common Patterns\n",
    "\n",
    "### Corporate Reports"
   ]
  },
  {
   "cell_type": "code",
   "execution_count": 8,
   "id": "97b9b083",
   "metadata": {
    "execution": {
     "iopub.execute_input": "2025-06-24T13:50:04.960147Z",
     "iopub.status.busy": "2025-06-24T13:50:04.960034Z",
     "iopub.status.idle": "2025-06-24T13:50:04.962845Z",
     "shell.execute_reply": "2025-06-24T13:50:04.962565Z"
    }
   },
   "outputs": [
    {
     "data": {
      "text/plain": [
       "<Page number=1 index=0>"
      ]
     },
     "execution_count": 8,
     "metadata": {},
     "output_type": "execute_result"
    }
   ],
   "source": [
    "# Remove headers with logos and contact info\n",
    "page.add_exclusion(page.create_region(0, 0, page.width, 80))\n",
    "\n",
    "# Remove footers with page numbers and dates\n",
    "page.add_exclusion(page.create_region(0, page.height - 40, page.width, page.height))"
   ]
  },
  {
   "cell_type": "markdown",
   "id": "20257014",
   "metadata": {
    "lines_to_next_cell": 0
   },
   "source": [
    "### Academic Papers  "
   ]
  },
  {
   "cell_type": "code",
   "execution_count": 9,
   "id": "7d2c6984",
   "metadata": {
    "execution": {
     "iopub.execute_input": "2025-06-24T13:50:04.964094Z",
     "iopub.status.busy": "2025-06-24T13:50:04.963979Z",
     "iopub.status.idle": "2025-06-24T13:50:04.968936Z",
     "shell.execute_reply": "2025-06-24T13:50:04.968617Z"
    }
   },
   "outputs": [],
   "source": [
    "# Remove running headers with paper title\n",
    "header = page.find('text[size<=10]').above() if page.find('text[size<=10]') else None\n",
    "if header:\n",
    "    page.add_exclusion(header)\n",
    "\n",
    "# Remove footnotes (small text at bottom)\n",
    "footnotes = page.find_all('text[size<=8]')\n",
    "for note in footnotes:\n",
    "    if note.top > page.height * 0.8:  # Bottom 20% of page\n",
    "        page.add_exclusion(note)"
   ]
  },
  {
   "cell_type": "markdown",
   "id": "0799bf0e",
   "metadata": {
    "lines_to_next_cell": 0
   },
   "source": [
    "### Government Documents"
   ]
  },
  {
   "cell_type": "code",
   "execution_count": 10,
   "id": "8462059a",
   "metadata": {
    "execution": {
     "iopub.execute_input": "2025-06-24T13:50:04.970443Z",
     "iopub.status.busy": "2025-06-24T13:50:04.970181Z",
     "iopub.status.idle": "2025-06-24T13:50:04.972893Z",
     "shell.execute_reply": "2025-06-24T13:50:04.972622Z"
    }
   },
   "outputs": [],
   "source": [
    "# Remove classification markings\n",
    "classifications = page.find_all('text:contains(\"CONFIDENTIAL|SECRET|UNCLASSIFIED\")', regex=True)\n",
    "for mark in classifications:\n",
    "    page.add_exclusion(mark)\n",
    "\n",
    "# Remove agency headers\n",
    "agency_header = page.find('text:contains(\"Department of|Agency|Office of\")', regex=True)\n",
    "if agency_header:\n",
    "    page.add_exclusion(agency_header.above())"
   ]
  },
  {
   "cell_type": "markdown",
   "id": "33b1232b",
   "metadata": {},
   "source": [
    "## When Things Go Wrong\n",
    "\n",
    "- **Problem**: Headers vary between pages\n",
    "- **Solution**: Use adaptive exclusions\n",
    "\n",
    "```py\n",
    "def smart_header_exclusion(page):\n",
    "    # Look for common header patterns\n",
    "    logo = page.find('image')\n",
    "    company_name = page.find('text:contains(\"ACME Corp\")')\n",
    "    \n",
    "    if logo:\n",
    "        return logo.above()\n",
    "    elif company_name and company_name.top < page.height * 0.2:\n",
    "        return company_name.above()\n",
    "    else:\n",
    "        return page.create_region(0, 0, page.width, 60)  # Fallback\n",
    "\n",
    "pdf.add_exclusion(smart_header_exclusion)\n",
    "```\n",
    "\n",
    "- **Problem**: Need to preserve some header information  \n",
    "- **Solution**: Extract before excluding\n",
    "\n",
    "```py\n",
    "# Get the document title from the header first\n",
    "title = page.find('text[size>=14]:bold')\n",
    "document_title = title.text if title else \"Unknown\"\n",
    "\n",
    "# Then exclude the header for clean body text\n",
    "page.add_exclusion(page.create_region(0, 0, page.width, 100))\n",
    "body_text = page.extract_text()\n",
    "```\n",
    "\n",
    "## Handling Right-to-left (Arabic, Hebrew) Text\n",
    "Natural-PDF now automatically detects bidirectional (RTL) lines and applies the Unicode **BiDi** algorithm when you call `page.extract_text()`.  \n",
    "This means the returned string is in *logical* reading order with brackets/parentheses correctly mirrored and Western digits left untouched."
   ]
  },
  {
   "cell_type": "code",
   "execution_count": 11,
   "id": "5fbcaaf7",
   "metadata": {
    "execution": {
     "iopub.execute_input": "2025-06-24T13:50:04.974097Z",
     "iopub.status.busy": "2025-06-24T13:50:04.973994Z",
     "iopub.status.idle": "2025-06-24T13:50:04.995996Z",
     "shell.execute_reply": "2025-06-24T13:50:04.995720Z"
    }
   },
   "outputs": [],
   "source": [
    "# Arabic example – no special flags required\n",
    "page = pdf.pages[0]\n",
    "body = page.extract_text()  # parentheses and numbers appear correctly\n",
    "\n",
    "# String queries work naturally\n",
    "row = page.find(\"text:contains('الجريدة الرسمية')\")\n",
    "\n",
    "# Disable the BiDi pass if you need raw PDF order\n",
    "raw = page.extract_text(bidi=False)"
   ]
  },
  {
   "cell_type": "markdown",
   "id": "238777e8",
   "metadata": {},
   "source": [
    "> Tip: This RTL handling is line-aware, so mixed LTR/RTL documents (e.g. Arabic with English dates) still extract correctly without affecting Latin text on other pages. "
   ]
  }
 ],
 "metadata": {
  "jupytext": {
   "cell_metadata_filter": "-all",
   "main_language": "python",
   "notebook_metadata_filter": "-all",
   "text_representation": {
    "extension": ".md",
    "format_name": "markdown"
   }
  },
  "language_info": {
   "codemirror_mode": {
    "name": "ipython",
    "version": 3
   },
   "file_extension": ".py",
   "mimetype": "text/x-python",
   "name": "python",
   "nbconvert_exporter": "python",
   "pygments_lexer": "ipython3",
   "version": "3.11.11"
  },
  "widgets": {
   "application/vnd.jupyter.widget-state+json": {
    "state": {
     "1cf5e5f4e77643fa90b42344b9ba3e66": {
      "model_module": "@jupyter-widgets/controls",
      "model_module_version": "2.0.0",
      "model_name": "HBoxModel",
      "state": {
       "_dom_classes": [],
       "_model_module": "@jupyter-widgets/controls",
       "_model_module_version": "2.0.0",
       "_model_name": "HBoxModel",
       "_view_count": null,
       "_view_module": "@jupyter-widgets/controls",
       "_view_module_version": "2.0.0",
       "_view_name": "HBoxView",
       "box_style": "",
       "children": [
        "IPY_MODEL_7974470255bc403db0bedf7b8df909db",
        "IPY_MODEL_595d877d6c2e44c996a748abb70b4c72",
        "IPY_MODEL_3e772233a2fc404f8e2fa106d097d19c"
       ],
       "layout": "IPY_MODEL_2c0689fe8b844be5881a7f063c3ab8c9",
       "tabbable": null,
       "tooltip": null
      }
     },
     "299b420c959c42879851f9444de81c99": {
      "model_module": "@jupyter-widgets/base",
      "model_module_version": "2.0.0",
      "model_name": "LayoutModel",
      "state": {
       "_model_module": "@jupyter-widgets/base",
       "_model_module_version": "2.0.0",
       "_model_name": "LayoutModel",
       "_view_count": null,
       "_view_module": "@jupyter-widgets/base",
       "_view_module_version": "2.0.0",
       "_view_name": "LayoutView",
       "align_content": null,
       "align_items": null,
       "align_self": null,
       "border_bottom": null,
       "border_left": null,
       "border_right": null,
       "border_top": null,
       "bottom": null,
       "display": null,
       "flex": null,
       "flex_flow": null,
       "grid_area": null,
       "grid_auto_columns": null,
       "grid_auto_flow": null,
       "grid_auto_rows": null,
       "grid_column": null,
       "grid_gap": null,
       "grid_row": null,
       "grid_template_areas": null,
       "grid_template_columns": null,
       "grid_template_rows": null,
       "height": null,
       "justify_content": null,
       "justify_items": null,
       "left": null,
       "margin": null,
       "max_height": null,
       "max_width": null,
       "min_height": null,
       "min_width": null,
       "object_fit": null,
       "object_position": null,
       "order": null,
       "overflow": null,
       "padding": null,
       "right": null,
       "top": null,
       "visibility": null,
       "width": null
      }
     },
     "2c0689fe8b844be5881a7f063c3ab8c9": {
      "model_module": "@jupyter-widgets/base",
      "model_module_version": "2.0.0",
      "model_name": "LayoutModel",
      "state": {
       "_model_module": "@jupyter-widgets/base",
       "_model_module_version": "2.0.0",
       "_model_name": "LayoutModel",
       "_view_count": null,
       "_view_module": "@jupyter-widgets/base",
       "_view_module_version": "2.0.0",
       "_view_name": "LayoutView",
       "align_content": null,
       "align_items": null,
       "align_self": null,
       "border_bottom": null,
       "border_left": null,
       "border_right": null,
       "border_top": null,
       "bottom": null,
       "display": null,
       "flex": null,
       "flex_flow": null,
       "grid_area": null,
       "grid_auto_columns": null,
       "grid_auto_flow": null,
       "grid_auto_rows": null,
       "grid_column": null,
       "grid_gap": null,
       "grid_row": null,
       "grid_template_areas": null,
       "grid_template_columns": null,
       "grid_template_rows": null,
       "height": null,
       "justify_content": null,
       "justify_items": null,
       "left": null,
       "margin": null,
       "max_height": null,
       "max_width": null,
       "min_height": null,
       "min_width": null,
       "object_fit": null,
       "object_position": null,
       "order": null,
       "overflow": null,
       "padding": null,
       "right": null,
       "top": null,
       "visibility": "hidden",
       "width": null
      }
     },
     "3e772233a2fc404f8e2fa106d097d19c": {
      "model_module": "@jupyter-widgets/controls",
      "model_module_version": "2.0.0",
      "model_name": "HTMLModel",
      "state": {
       "_dom_classes": [],
       "_model_module": "@jupyter-widgets/controls",
       "_model_module_version": "2.0.0",
       "_model_name": "HTMLModel",
       "_view_count": null,
       "_view_module": "@jupyter-widgets/controls",
       "_view_module_version": "2.0.0",
       "_view_name": "HTMLView",
       "description": "",
       "description_allow_html": false,
       "layout": "IPY_MODEL_b5c2502211864f509f79c2e5b8414ab2",
       "placeholder": "​",
       "style": "IPY_MODEL_4663a336f91748a6a65e394dcedd8b0d",
       "tabbable": null,
       "tooltip": null,
       "value": " 0/1 [00:00&lt;?, ?it/s]"
      }
     },
     "4663a336f91748a6a65e394dcedd8b0d": {
      "model_module": "@jupyter-widgets/controls",
      "model_module_version": "2.0.0",
      "model_name": "HTMLStyleModel",
      "state": {
       "_model_module": "@jupyter-widgets/controls",
       "_model_module_version": "2.0.0",
       "_model_name": "HTMLStyleModel",
       "_view_count": null,
       "_view_module": "@jupyter-widgets/base",
       "_view_module_version": "2.0.0",
       "_view_name": "StyleView",
       "background": null,
       "description_width": "",
       "font_size": null,
       "text_color": null
      }
     },
     "486d532ea9e94e339a98848174b9f792": {
      "model_module": "@jupyter-widgets/controls",
      "model_module_version": "2.0.0",
      "model_name": "ProgressStyleModel",
      "state": {
       "_model_module": "@jupyter-widgets/controls",
       "_model_module_version": "2.0.0",
       "_model_name": "ProgressStyleModel",
       "_view_count": null,
       "_view_module": "@jupyter-widgets/base",
       "_view_module_version": "2.0.0",
       "_view_name": "StyleView",
       "bar_color": null,
       "description_width": ""
      }
     },
     "595d877d6c2e44c996a748abb70b4c72": {
      "model_module": "@jupyter-widgets/controls",
      "model_module_version": "2.0.0",
      "model_name": "FloatProgressModel",
      "state": {
       "_dom_classes": [],
       "_model_module": "@jupyter-widgets/controls",
       "_model_module_version": "2.0.0",
       "_model_name": "FloatProgressModel",
       "_view_count": null,
       "_view_module": "@jupyter-widgets/controls",
       "_view_module_version": "2.0.0",
       "_view_name": "ProgressView",
       "bar_style": "",
       "description": "",
       "description_allow_html": false,
       "layout": "IPY_MODEL_299b420c959c42879851f9444de81c99",
       "max": 1.0,
       "min": 0.0,
       "orientation": "horizontal",
       "style": "IPY_MODEL_486d532ea9e94e339a98848174b9f792",
       "tabbable": null,
       "tooltip": null,
       "value": 1.0
      }
     },
     "7974470255bc403db0bedf7b8df909db": {
      "model_module": "@jupyter-widgets/controls",
      "model_module_version": "2.0.0",
      "model_name": "HTMLModel",
      "state": {
       "_dom_classes": [],
       "_model_module": "@jupyter-widgets/controls",
       "_model_module_version": "2.0.0",
       "_model_name": "HTMLModel",
       "_view_count": null,
       "_view_module": "@jupyter-widgets/controls",
       "_view_module_version": "2.0.0",
       "_view_name": "HTMLView",
       "description": "",
       "description_allow_html": false,
       "layout": "IPY_MODEL_975c8e18ceaa4ef88795e31096e7060a",
       "placeholder": "​",
       "style": "IPY_MODEL_f8906cc3e71441318c4b2814b7bbad1b",
       "tabbable": null,
       "tooltip": null,
       "value": "Rendering pages:   0%"
      }
     },
     "975c8e18ceaa4ef88795e31096e7060a": {
      "model_module": "@jupyter-widgets/base",
      "model_module_version": "2.0.0",
      "model_name": "LayoutModel",
      "state": {
       "_model_module": "@jupyter-widgets/base",
       "_model_module_version": "2.0.0",
       "_model_name": "LayoutModel",
       "_view_count": null,
       "_view_module": "@jupyter-widgets/base",
       "_view_module_version": "2.0.0",
       "_view_name": "LayoutView",
       "align_content": null,
       "align_items": null,
       "align_self": null,
       "border_bottom": null,
       "border_left": null,
       "border_right": null,
       "border_top": null,
       "bottom": null,
       "display": null,
       "flex": null,
       "flex_flow": null,
       "grid_area": null,
       "grid_auto_columns": null,
       "grid_auto_flow": null,
       "grid_auto_rows": null,
       "grid_column": null,
       "grid_gap": null,
       "grid_row": null,
       "grid_template_areas": null,
       "grid_template_columns": null,
       "grid_template_rows": null,
       "height": null,
       "justify_content": null,
       "justify_items": null,
       "left": null,
       "margin": null,
       "max_height": null,
       "max_width": null,
       "min_height": null,
       "min_width": null,
       "object_fit": null,
       "object_position": null,
       "order": null,
       "overflow": null,
       "padding": null,
       "right": null,
       "top": null,
       "visibility": null,
       "width": null
      }
     },
     "b5c2502211864f509f79c2e5b8414ab2": {
      "model_module": "@jupyter-widgets/base",
      "model_module_version": "2.0.0",
      "model_name": "LayoutModel",
      "state": {
       "_model_module": "@jupyter-widgets/base",
       "_model_module_version": "2.0.0",
       "_model_name": "LayoutModel",
       "_view_count": null,
       "_view_module": "@jupyter-widgets/base",
       "_view_module_version": "2.0.0",
       "_view_name": "LayoutView",
       "align_content": null,
       "align_items": null,
       "align_self": null,
       "border_bottom": null,
       "border_left": null,
       "border_right": null,
       "border_top": null,
       "bottom": null,
       "display": null,
       "flex": null,
       "flex_flow": null,
       "grid_area": null,
       "grid_auto_columns": null,
       "grid_auto_flow": null,
       "grid_auto_rows": null,
       "grid_column": null,
       "grid_gap": null,
       "grid_row": null,
       "grid_template_areas": null,
       "grid_template_columns": null,
       "grid_template_rows": null,
       "height": null,
       "justify_content": null,
       "justify_items": null,
       "left": null,
       "margin": null,
       "max_height": null,
       "max_width": null,
       "min_height": null,
       "min_width": null,
       "object_fit": null,
       "object_position": null,
       "order": null,
       "overflow": null,
       "padding": null,
       "right": null,
       "top": null,
       "visibility": null,
       "width": null
      }
     },
     "f8906cc3e71441318c4b2814b7bbad1b": {
      "model_module": "@jupyter-widgets/controls",
      "model_module_version": "2.0.0",
      "model_name": "HTMLStyleModel",
      "state": {
       "_model_module": "@jupyter-widgets/controls",
       "_model_module_version": "2.0.0",
       "_model_name": "HTMLStyleModel",
       "_view_count": null,
       "_view_module": "@jupyter-widgets/base",
       "_view_module_version": "2.0.0",
       "_view_name": "StyleView",
       "background": null,
       "description_width": "",
       "font_size": null,
       "text_color": null
      }
     }
    },
    "version_major": 2,
    "version_minor": 0
   }
  }
 },
 "nbformat": 4,
 "nbformat_minor": 5
}
