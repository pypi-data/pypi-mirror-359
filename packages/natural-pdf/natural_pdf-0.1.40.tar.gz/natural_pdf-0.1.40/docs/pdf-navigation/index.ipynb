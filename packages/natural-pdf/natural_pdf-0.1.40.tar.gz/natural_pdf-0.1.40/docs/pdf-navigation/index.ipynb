{
 "cells": [
  {
   "cell_type": "markdown",
   "id": "cea44511",
   "metadata": {},
   "source": [
    "# PDF Navigation\n",
    "\n",
    "This guide covers the basics of working with PDFs in Natural PDF - opening documents, accessing pages, and navigating through content.\n",
    "\n",
    "## Opening a PDF\n",
    "\n",
    "The main entry point to Natural PDF is the `PDF` class:"
   ]
  },
  {
   "cell_type": "code",
   "execution_count": 1,
   "id": "5018816d",
   "metadata": {
    "execution": {
     "iopub.execute_input": "2025-05-06T15:29:08.740402Z",
     "iopub.status.busy": "2025-05-06T15:29:08.734976Z",
     "iopub.status.idle": "2025-05-06T15:29:28.221631Z",
     "shell.execute_reply": "2025-05-06T15:29:28.216697Z"
    }
   },
   "outputs": [],
   "source": [
    "from natural_pdf import PDF\n",
    "\n",
    "# Open a PDF file\n",
    "pdf = PDF(\"https://github.com/jsoma/natural-pdf/raw/refs/heads/main/pdfs/0500000US42001.pdf\")"
   ]
  },
  {
   "cell_type": "markdown",
   "id": "3b70ec1d",
   "metadata": {},
   "source": [
    "## Accessing Pages\n",
    "\n",
    "Once you have a PDF object, you can access its pages:"
   ]
  },
  {
   "cell_type": "code",
   "execution_count": 2,
   "id": "7bb5210a",
   "metadata": {
    "execution": {
     "iopub.execute_input": "2025-05-06T15:29:28.227525Z",
     "iopub.status.busy": "2025-05-06T15:29:28.226770Z",
     "iopub.status.idle": "2025-05-06T15:29:28.295935Z",
     "shell.execute_reply": "2025-05-06T15:29:28.287560Z"
    }
   },
   "outputs": [
    {
     "name": "stdout",
     "output_type": "stream",
     "text": [
      "This PDF has 153 pages\n",
      "Page 1 has 985 characters\n",
      "Page 2 has 778 characters\n",
      "Page 3 has 522 characters\n",
      "Page 4 has 984 characters\n",
      "Page 5 has 778 characters\n",
      "Page 6 has 523 characters\n",
      "Page 7 has 982 characters\n",
      "Page 8 has 772 characters\n",
      "Page 9 has 522 characters\n",
      "Page 10 has 1008 characters\n",
      "Page 11 has 796 characters\n",
      "Page 12 has 532 characters\n",
      "Page 13 has 986 characters\n",
      "Page 14 has 780 characters\n",
      "Page 15 has 523 characters\n",
      "Page 16 has 990 characters\n",
      "Page 17 has 782 characters\n",
      "Page 18 has 520 characters\n",
      "Page 19 has 1006 characters\n",
      "Page 20 has 795 characters\n"
     ]
    }
   ],
   "source": [
    "# Get the total number of pages\n",
    "num_pages = len(pdf)\n",
    "print(f\"This PDF has {num_pages} pages\")\n",
    "\n",
    "# Get a specific page (0-indexed)\n",
    "first_page = pdf.pages[0]\n",
    "last_page = pdf.pages[-1]\n",
    "\n",
    "# Iterate through the first 20 pages\n",
    "for page in pdf.pages[:20]:\n",
    "    print(f\"Page {page.number} has {len(page.extract_text())} characters\")"
   ]
  },
  {
   "cell_type": "markdown",
   "id": "a4d25146",
   "metadata": {},
   "source": [
    "## Page Properties\n",
    "\n",
    "Each `Page` object has useful properties:"
   ]
  },
  {
   "cell_type": "code",
   "execution_count": 3,
   "id": "d81361a9",
   "metadata": {
    "execution": {
     "iopub.execute_input": "2025-05-06T15:29:28.300583Z",
     "iopub.status.busy": "2025-05-06T15:29:28.299300Z",
     "iopub.status.idle": "2025-05-06T15:29:28.306074Z",
     "shell.execute_reply": "2025-05-06T15:29:28.304750Z"
    }
   },
   "outputs": [
    {
     "name": "stdout",
     "output_type": "stream",
     "text": [
      "612 792\n",
      "20\n",
      "19\n"
     ]
    }
   ],
   "source": [
    "# Page dimensions in points (1/72 inch)\n",
    "print(page.width, page.height)\n",
    "\n",
    "# Page number (1-indexed as shown in PDF viewers)\n",
    "print(page.number)\n",
    "\n",
    "# Page index (0-indexed position in the PDF)\n",
    "print(page.index)"
   ]
  },
  {
   "cell_type": "markdown",
   "id": "374e5388",
   "metadata": {},
   "source": [
    "## Working Across Pages\n",
    "\n",
    "Natural PDF makes it easy to work with content across multiple pages:"
   ]
  },
  {
   "cell_type": "code",
   "execution_count": 4,
   "id": "1d5af8dc",
   "metadata": {
    "execution": {
     "iopub.execute_input": "2025-05-06T15:29:28.309971Z",
     "iopub.status.busy": "2025-05-06T15:29:28.309813Z",
     "iopub.status.idle": "2025-05-06T15:29:28.609805Z",
     "shell.execute_reply": "2025-05-06T15:29:28.609200Z"
    }
   },
   "outputs": [
    {
     "data": {
      "text/plain": [
       "<natural_pdf.core.pdf.PDF at 0x109bee9b0>"
      ]
     },
     "execution_count": 4,
     "metadata": {},
     "output_type": "execute_result"
    }
   ],
   "source": [
    "# Extract text from all pages\n",
    "all_text = pdf.extract_text()\n",
    "\n",
    "# Find elements across all pages\n",
    "all_headings = pdf.find_all('text[size>=14]:bold')\n",
    "\n",
    "# Add exclusion zones to all pages (like headers/footers)\n",
    "pdf.add_exclusion(\n",
    "    lambda page: page.find('text:contains(\"CONFIDENTIAL\")').above() if page.find('text:contains(\"CONFIDENTIAL\")') else None,\n",
    "    label=\"header\"\n",
    ")"
   ]
  },
  {
   "cell_type": "markdown",
   "id": "2a985e69",
   "metadata": {},
   "source": [
    "## The Page Collection\n",
    "\n",
    "The `pdf.pages` object is a `PageCollection` that allows batch operations on pages:"
   ]
  },
  {
   "cell_type": "code",
   "execution_count": 5,
   "id": "e40e668a",
   "metadata": {
    "execution": {
     "iopub.execute_input": "2025-05-06T15:29:28.619314Z",
     "iopub.status.busy": "2025-05-06T15:29:28.619147Z",
     "iopub.status.idle": "2025-05-06T15:29:28.663741Z",
     "shell.execute_reply": "2025-05-06T15:29:28.657352Z"
    }
   },
   "outputs": [
    {
     "name": "stderr",
     "output_type": "stream",
     "text": [
      "\u001b[2m2025-05-06T15:29:28.620225Z\u001b[0m [\u001b[33m\u001b[1mwarning  \u001b[0m] \u001b[1mIgnoring unsupported layout keyword argument: 'apply_exclusions'\u001b[0m \u001b[36mlineno\u001b[0m=\u001b[35m64\u001b[0m \u001b[36mmodule\u001b[0m=\u001b[35mnatural_pdf.utils.text_extraction\u001b[0m\n"
     ]
    },
    {
     "name": "stderr",
     "output_type": "stream",
     "text": [
      "[2025-05-06 11:29:28,620] [ WARNING] text_extraction.py:64 - Ignoring unsupported layout keyword argument: 'apply_exclusions'\n"
     ]
    },
    {
     "name": "stderr",
     "output_type": "stream",
     "text": [
      "\u001b[2m2025-05-06T15:29:28.631200Z\u001b[0m [\u001b[33m\u001b[1mwarning  \u001b[0m] \u001b[1mIgnoring unsupported layout keyword argument: 'apply_exclusions'\u001b[0m \u001b[36mlineno\u001b[0m=\u001b[35m64\u001b[0m \u001b[36mmodule\u001b[0m=\u001b[35mnatural_pdf.utils.text_extraction\u001b[0m\n"
     ]
    },
    {
     "name": "stderr",
     "output_type": "stream",
     "text": [
      "[2025-05-06 11:29:28,631] [ WARNING] text_extraction.py:64 - Ignoring unsupported layout keyword argument: 'apply_exclusions'\n"
     ]
    },
    {
     "name": "stderr",
     "output_type": "stream",
     "text": [
      "\u001b[2m2025-05-06T15:29:28.640121Z\u001b[0m [\u001b[33m\u001b[1mwarning  \u001b[0m] \u001b[1mIgnoring unsupported layout keyword argument: 'apply_exclusions'\u001b[0m \u001b[36mlineno\u001b[0m=\u001b[35m64\u001b[0m \u001b[36mmodule\u001b[0m=\u001b[35mnatural_pdf.utils.text_extraction\u001b[0m\n"
     ]
    },
    {
     "name": "stderr",
     "output_type": "stream",
     "text": [
      "[2025-05-06 11:29:28,640] [ WARNING] text_extraction.py:64 - Ignoring unsupported layout keyword argument: 'apply_exclusions'\n"
     ]
    }
   ],
   "source": [
    "# Extract text from specific pages\n",
    "text = pdf.pages[2:5].extract_text()\n",
    "\n",
    "# Find elements across specific pages\n",
    "elements = pdf.pages[2:5].find_all('text:contains(\"Annual Report\")')"
   ]
  },
  {
   "cell_type": "markdown",
   "id": "f5289225",
   "metadata": {},
   "source": [
    "## Document Sections Across Pages\n",
    "\n",
    "You can extract sections that span across multiple pages:"
   ]
  },
  {
   "cell_type": "code",
   "execution_count": 6,
   "id": "000d35c1",
   "metadata": {
    "execution": {
     "iopub.execute_input": "2025-05-06T15:29:28.669882Z",
     "iopub.status.busy": "2025-05-06T15:29:28.666082Z",
     "iopub.status.idle": "2025-05-06T15:29:28.694812Z",
     "shell.execute_reply": "2025-05-06T15:29:28.693762Z"
    }
   },
   "outputs": [],
   "source": [
    "# Get sections with headings as section starts\n",
    "sections = pdf.pages.get_sections(\n",
    "    start_elements='text[size>=14]:bold',\n",
    "    new_section_on_page_break=False\n",
    ")"
   ]
  },
  {
   "cell_type": "markdown",
   "id": "34d13b57",
   "metadata": {},
   "source": [
    "## Next Steps\n",
    "\n",
    "Now that you know how to navigate PDFs, you can:\n",
    "\n",
    "- [Find elements using selectors](../element-selection/index.ipynb)\n",
    "- [Extract text from your documents](../text-extraction/index.ipynb)\n",
    "- [Work with specific regions](../regions/index.ipynb)"
   ]
  }
 ],
 "metadata": {
  "jupytext": {
   "cell_metadata_filter": "-all",
   "main_language": "python",
   "notebook_metadata_filter": "-all",
   "text_representation": {
    "extension": ".md",
    "format_name": "markdown"
   }
  },
  "language_info": {
   "codemirror_mode": {
    "name": "ipython",
    "version": 3
   },
   "file_extension": ".py",
   "mimetype": "text/x-python",
   "name": "python",
   "nbconvert_exporter": "python",
   "pygments_lexer": "ipython3",
   "version": "3.10.13"
  }
 },
 "nbformat": 4,
 "nbformat_minor": 5
}
