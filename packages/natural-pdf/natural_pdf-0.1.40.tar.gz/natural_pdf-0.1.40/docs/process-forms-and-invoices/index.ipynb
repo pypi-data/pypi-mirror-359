{
 "cells": [
  {
   "cell_type": "markdown",
   "id": "9933e237",
   "metadata": {},
   "source": [
    "# Extract Data from Forms and Invoices\n",
    "\n",
    "You have a stack of invoices, forms, or structured documents where you need to pull out specific pieces of information - invoice numbers, totals, dates, names, etc. Here's how to automate that extraction.\n",
    "\n",
    "## The Problem\n",
    "\n",
    "Manual data entry from PDFs is slow and error-prone. You need to:\n",
    "- Extract the same fields from hundreds of similar documents\n",
    "- Handle slight variations in layout between documents  \n",
    "- Get structured data you can actually work with\n",
    "- Maintain accuracy while processing quickly\n",
    "\n",
    "## Quick Solution: List the Fields You Want\n",
    "\n",
    "Don't overthink it - just tell Natural PDF what information you're looking for:"
   ]
  },
  {
   "cell_type": "code",
   "execution_count": 1,
   "id": "86c7d2bf",
   "metadata": {
    "execution": {
     "iopub.execute_input": "2025-06-18T20:15:52.367059Z",
     "iopub.status.busy": "2025-06-18T20:15:52.366924Z",
     "iopub.status.idle": "2025-06-18T20:15:58.405706Z",
     "shell.execute_reply": "2025-06-18T20:15:58.405198Z"
    }
   },
   "outputs": [
    {
     "name": "stderr",
     "output_type": "stream",
     "text": [
      "CropBox missing from /Page, defaulting to MediaBox\n"
     ]
    },
    {
     "name": "stderr",
     "output_type": "stream",
     "text": [
      "Device set to use mps:0\n"
     ]
    },
    {
     "name": "stdout",
     "output_type": "stream",
     "text": [
      "Site: Durham’s Meatpacking  \n",
      "Violations: 7\n",
      "Date: February 3, 1905\n",
      "Inspection #: None\n",
      "Confidence – Site: 0.58\n",
      "Confidence – Violations: 0.41\n"
     ]
    }
   ],
   "source": [
    "from natural_pdf import PDF\n",
    "\n",
    "pdf = PDF(\"https://github.com/jsoma/natural-pdf/raw/refs/heads/main/pdfs/01-practice.pdf\")\n",
    "page = pdf.pages[0]\n",
    "\n",
    "# Extract data using a simple list that matches the inspection report columns\n",
    "data = page.extract(schema=[\"site\", \"violation count\", \"date\", \"inspection number\", \"summary\"]).extracted()\n",
    "\n",
    "# Access the extracted information\n",
    "print(f\"Site: {data.site}\")\n",
    "print(f\"Violations: {data.violation_count}\")\n",
    "print(f\"Date: {data.date}\")\n",
    "print(f\"Inspection #: {data.inspection_number}\")\n",
    "\n",
    "# Check confidence levels\n",
    "print(f\"Confidence – Site: {data.site_confidence:.2f}\")\n",
    "print(f\"Confidence – Violations: {data.violation_count_confidence:.2f}\")"
   ]
  },
  {
   "cell_type": "markdown",
   "id": "274322a2",
   "metadata": {},
   "source": [
    "This works completely offline using document question-answering models.\n",
    "\n",
    "## For Complex Data: Use Pydantic Schemas\n",
    "\n",
    "When you need more control over data types and validation:"
   ]
  },
  {
   "cell_type": "code",
   "execution_count": 2,
   "id": "96611ec3",
   "metadata": {
    "execution": {
     "iopub.execute_input": "2025-06-18T20:15:58.408378Z",
     "iopub.status.busy": "2025-06-18T20:15:58.408075Z",
     "iopub.status.idle": "2025-06-18T20:15:59.078516Z",
     "shell.execute_reply": "2025-06-18T20:15:59.078035Z"
    }
   },
   "outputs": [
    {
     "name": "stdout",
     "output_type": "stream",
     "text": [
      "Extraction failed with error Stored result for 'structured' indicates a failed extraction attempt. Error: Error code: 400 - [{'error': {'code': 400, 'message': 'API key not valid. Please pass a valid API key.', 'status': 'INVALID_ARGUMENT', 'details': [{'@type': 'type.googleapis.com/google.rpc.ErrorInfo', 'reason': 'API_KEY_INVALID', 'domain': 'googleapis.com', 'metadata': {'service': 'generativelanguage.googleapis.com'}}, {'@type': 'type.googleapis.com/google.rpc.LocalizedMessage', 'locale': 'en-US', 'message': 'API key not valid. Please pass a valid API key.'}]}}]\n"
     ]
    }
   ],
   "source": [
    "from pydantic import BaseModel, Field\n",
    "from openai import OpenAI\n",
    "\n",
    "# Define exactly what you want to extract for the inspection report\n",
    "class InspectionReport(BaseModel):\n",
    "    site_name: str = Field(description=\"Name of the inspection site\")\n",
    "    violation_count: int = Field(description=\"Number of violations found\")\n",
    "    inspection_date: str = Field(description=\"Inspection date in any format\")\n",
    "    inspection_number: str = Field(description=\"Inspection reference ID\")\n",
    "    summary: str = Field(description=\"Inspection summary paragraph\")\n",
    "\n",
    "# Set up LLM client (using Anthropic here)\n",
    "client = OpenAI(\n",
    "    api_key=\"your-api-key\",\n",
    "    base_url=\"https://generativelanguage.googleapis.com/v1beta/openai/\"\n",
    ")\n",
    "\n",
    "# Extract structured data\n",
    "page.extract(schema=InspectionReport, client=client, model=\"gemini-2.0-flash\")\n",
    "\n",
    "try:\n",
    "    report_data = page.extracted()\n",
    "    print(f\"Site: {report_data.site_name}\")\n",
    "    print(f\"Violations: {report_data.violation_count}\")\n",
    "    print(f\"Inspection #: {report_data.inspection_number}\")\n",
    "except Exception as e:\n",
    "    print(\"Extraction failed with error\", e)"
   ]
  },
  {
   "cell_type": "markdown",
   "id": "45a1c73b",
   "metadata": {},
   "source": [
    "## Handle Different Document Layouts\n",
    "\n",
    "For documents that vary in structure, use spatial hints:"
   ]
  },
  {
   "cell_type": "code",
   "execution_count": 3,
   "id": "6b769d93",
   "metadata": {
    "execution": {
     "iopub.execute_input": "2025-06-18T20:15:59.080740Z",
     "iopub.status.busy": "2025-06-18T20:15:59.080558Z",
     "iopub.status.idle": "2025-06-18T20:15:59.655393Z",
     "shell.execute_reply": "2025-06-18T20:15:59.654752Z"
    }
   },
   "outputs": [],
   "source": [
    "# Sometimes data is in specific areas of the page\n",
    "header_region = page.create_region(0, 0, page.width, page.height * 0.3)\n",
    "footer_region = page.create_region(0, page.height * 0.7, page.width, page.height)\n",
    "\n",
    "# Extract company info from header\n",
    "company_data = header_region.extract(\n",
    "    schema=[\"company name\", \"address\", \"phone\"]\n",
    ").extracted()\n",
    "\n",
    "# Extract totals from footer  \n",
    "totals_data = footer_region.extract(\n",
    "    schema=[\"subtotal\", \"tax\", \"total\"]\n",
    ").extracted()"
   ]
  },
  {
   "cell_type": "markdown",
   "id": "fc1ea5da",
   "metadata": {},
   "source": [
    "## Process Multiple Documents\n",
    "\n",
    "Batch process a folder of similar documents:"
   ]
  },
  {
   "cell_type": "code",
   "execution_count": 4,
   "id": "05071980",
   "metadata": {
    "execution": {
     "iopub.execute_input": "2025-06-18T20:15:59.657755Z",
     "iopub.status.busy": "2025-06-18T20:15:59.657549Z",
     "iopub.status.idle": "2025-06-18T20:15:59.666806Z",
     "shell.execute_reply": "2025-06-18T20:15:59.666105Z"
    }
   },
   "outputs": [
    {
     "name": "stdout",
     "output_type": "stream",
     "text": [
      "Processed 0 forms\n"
     ]
    }
   ],
   "source": [
    "import os\n",
    "from pathlib import Path\n",
    "\n",
    "# Define your extraction schema\n",
    "class FormData(BaseModel):\n",
    "    applicant_name: str\n",
    "    application_date: str  \n",
    "    reference_number: str\n",
    "    status: str = Field(default=\"unknown\")\n",
    "\n",
    "# Process all PDFs in a folder\n",
    "form_results = []\n",
    "pdf_folder = Path(\"forms/\")\n",
    "\n",
    "for pdf_file in pdf_folder.glob(\"*.pdf\"):\n",
    "    print(f\"Processing {pdf_file.name}...\")\n",
    "    \n",
    "    pdf = PDF(str(pdf_file))\n",
    "    page = pdf.pages[0]  # Assuming single-page forms\n",
    "    \n",
    "    # Extract data\n",
    "    page.extract(schema=FormData, client=client)\n",
    "    data = page.extracted()\n",
    "    \n",
    "    # Add filename for tracking\n",
    "    result = {\n",
    "        \"filename\": pdf_file.name,\n",
    "        \"applicant_name\": data.applicant_name,\n",
    "        \"application_date\": data.application_date,\n",
    "        \"reference_number\": data.reference_number,\n",
    "        \"status\": data.status\n",
    "    }\n",
    "    form_results.append(result)\n",
    "    \n",
    "    pdf.close()  # Clean up\n",
    "\n",
    "# Save results to CSV\n",
    "import pandas as pd\n",
    "df = pd.DataFrame(form_results)\n",
    "df.to_csv(\"extracted_form_data.csv\", index=False)\n",
    "print(f\"Processed {len(form_results)} forms\")"
   ]
  },
  {
   "cell_type": "markdown",
   "id": "044b81ee",
   "metadata": {},
   "source": [
    "## Handle Scanned Documents\n",
    "\n",
    "For image-based PDFs, apply OCR first:"
   ]
  },
  {
   "cell_type": "code",
   "execution_count": 5,
   "id": "5399e1fe",
   "metadata": {
    "execution": {
     "iopub.execute_input": "2025-06-18T20:15:59.672593Z",
     "iopub.status.busy": "2025-06-18T20:15:59.672184Z",
     "iopub.status.idle": "2025-06-18T20:16:14.271707Z",
     "shell.execute_reply": "2025-06-18T20:16:14.271291Z"
    }
   },
   "outputs": [
    {
     "data": {
      "application/vnd.jupyter.widget-view+json": {
       "model_id": "8ad5c2967eb54bfca1d52397138358e4",
       "version_major": 2,
       "version_minor": 0
      },
      "text/plain": [
       "Rendering pages:   0%|          | 0/1 [00:00<?, ?it/s]"
      ]
     },
     "metadata": {},
     "output_type": "display_data"
    },
    {
     "name": "stderr",
     "output_type": "stream",
     "text": [
      "Using CPU. Note: This module is much faster with a GPU.\n"
     ]
    },
    {
     "name": "stderr",
     "output_type": "stream",
     "text": [
      "/Users/soma/Development/natural-pdf/.venv/lib/python3.11/site-packages/torch/utils/data/dataloader.py:683: UserWarning: 'pin_memory' argument is set as true but not supported on MPS now, then device pinned memory won't be used.\n",
      "  warnings.warn(warn_msg)\n"
     ]
    },
    {
     "name": "stdout",
     "output_type": "stream",
     "text": [
      "Using 29 high-confidence OCR elements\n"
     ]
    }
   ],
   "source": [
    "# Apply OCR before extraction\n",
    "page.apply_ocr(engine='easyocr', languages=['en'])\n",
    "\n",
    "# Filter out low-confidence OCR text to avoid noise\n",
    "reliable_text = page.find_all('text[source=ocr][confidence>=0.8]')\n",
    "print(f\"Using {len(reliable_text)} high-confidence OCR elements\")\n",
    "\n",
    "# Now extract data (works on OCR'd text)\n",
    "data = page.extract(schema=[\"invoice number\", \"total\", \"date\"]).extracted()"
   ]
  },
  {
   "cell_type": "markdown",
   "id": "3e63327b",
   "metadata": {},
   "source": [
    "## Common Form Patterns\n",
    "\n",
    "## Validation and Error Handling\n",
    "\n",
    "Check your extracted data for common issues:\n",
    "\n",
    "```py\n",
    "def validate_invoice_data(data):\n",
    "    issues = []\n",
    "    \n",
    "    # Check for missing required fields\n",
    "    if not data.invoice_number or data.invoice_number.strip() == \"\":\n",
    "        issues.append(\"Missing invoice number\")\n",
    "    \n",
    "    # Validate amounts\n",
    "    if data.total_amount <= 0:\n",
    "        issues.append(\"Invalid total amount\")\n",
    "    \n",
    "    # Check date format\n",
    "    try:\n",
    "        from datetime import datetime\n",
    "        datetime.strptime(data.invoice_date, \"%Y-%m-%d\")\n",
    "    except ValueError:\n",
    "        # Try common date formats\n",
    "        common_formats = [\"%m/%d/%Y\", \"%d/%m/%Y\", \"%B %d, %Y\"]\n",
    "        date_valid = False\n",
    "        for fmt in common_formats:\n",
    "            try:\n",
    "                datetime.strptime(data.invoice_date, fmt)\n",
    "                date_valid = True\n",
    "                break\n",
    "            except ValueError:\n",
    "                continue\n",
    "        if not date_valid:\n",
    "            issues.append(f\"Invalid date format: {data.invoice_date}\")\n",
    "    \n",
    "    return issues\n",
    "\n",
    "# Validate extracted data\n",
    "validation_issues = validate_invoice_data(invoice_data)\n",
    "if validation_issues:\n",
    "    print(\"Data quality issues found:\")\n",
    "    for issue in validation_issues:\n",
    "        print(f\"- {issue}\")\n",
    "else:\n",
    "    print(\"Data validation passed!\")\n",
    "```\n",
    "\n",
    "## Improve Accuracy with Context\n",
    "\n",
    "Give the AI more context for better extraction:\n",
    "\n",
    "```py\n",
    "# Add context about the document type\n",
    "extraction_prompt = \"\"\"\n",
    "This is a medical insurance claim form. \n",
    "Extract the following information, paying attention to:\n",
    "- Policy numbers are usually 10-12 digits\n",
    "- Claim amounts should be in dollars\n",
    "- Dates should be in MM/DD/YYYY format\n",
    "- Provider names are usually at the top of the form\n",
    "\"\"\"\n",
    "\n",
    "class InsuranceClaim(BaseModel):\n",
    "    policy_number: str = Field(description=\"Insurance policy number (10-12 digits)\")\n",
    "    claim_amount: float = Field(description=\"Total claim amount in USD\")\n",
    "    service_date: str = Field(description=\"Date of service in MM/DD/YYYY format\")\n",
    "    provider_name: str = Field(description=\"Healthcare provider name\")\n",
    "    patient_name: str = Field(description=\"Patient full name\")\n",
    "\n",
    "# Use custom prompt for better results\n",
    "page.extract(\n",
    "    schema=InsuranceClaim, \n",
    "    client=client,\n",
    "    prompt=extraction_prompt\n",
    ")\n",
    "```\n",
    "\n",
    "## Debug Extraction Issues\n",
    "\n",
    "When extraction isn't working well:\n",
    "\n",
    "```py\n",
    "# 1. Check what text the AI can actually see\n",
    "extracted_text = page.extract_text()\n",
    "print(\"Available text:\")\n",
    "print(extracted_text[:500])  # First 500 characters\n",
    "\n",
    "# 2. Try extracting with lower confidence threshold\n",
    "data = page.extract(\n",
    "    schema=[\"invoice number\", \"total\"], \n",
    "    min_confidence=0.5  # Lower threshold\n",
    ").extracted()\n",
    "\n",
    "# 3. Check confidence scores for each field\n",
    "for field_name in data.__fields__:\n",
    "    confidence_field = f\"{field_name}_confidence\"\n",
    "    if hasattr(data, confidence_field):\n",
    "        confidence = getattr(data, confidence_field)\n",
    "        value = getattr(data, field_name)\n",
    "        print(f\"{field_name}: '{value}' (confidence: {confidence:.2f})\")\n",
    "\n",
    "# 4. Try vision mode if text mode fails\n",
    "if any(getattr(data, f\"{field}_confidence\", 0) < 0.7 for field in [\"invoice_number\", \"total\"]):\n",
    "    print(\"Low confidence detected, trying vision mode...\")\n",
    "    page.extract(schema=[\"invoice number\", \"total\"], client=client, using='vision')\n",
    "    data = page.extracted()\n",
    "```\n"
   ]
  }
 ],
 "metadata": {
  "jupytext": {
   "cell_metadata_filter": "-all",
   "main_language": "python",
   "notebook_metadata_filter": "-all",
   "text_representation": {
    "extension": ".md",
    "format_name": "markdown"
   }
  },
  "language_info": {
   "codemirror_mode": {
    "name": "ipython",
    "version": 3
   },
   "file_extension": ".py",
   "mimetype": "text/x-python",
   "name": "python",
   "nbconvert_exporter": "python",
   "pygments_lexer": "ipython3",
   "version": "3.11.11"
  },
  "widgets": {
   "application/vnd.jupyter.widget-state+json": {
    "state": {
     "1b8e8b61e35d4b248eba9060f5eb8c84": {
      "model_module": "@jupyter-widgets/base",
      "model_module_version": "2.0.0",
      "model_name": "LayoutModel",
      "state": {
       "_model_module": "@jupyter-widgets/base",
       "_model_module_version": "2.0.0",
       "_model_name": "LayoutModel",
       "_view_count": null,
       "_view_module": "@jupyter-widgets/base",
       "_view_module_version": "2.0.0",
       "_view_name": "LayoutView",
       "align_content": null,
       "align_items": null,
       "align_self": null,
       "border_bottom": null,
       "border_left": null,
       "border_right": null,
       "border_top": null,
       "bottom": null,
       "display": null,
       "flex": null,
       "flex_flow": null,
       "grid_area": null,
       "grid_auto_columns": null,
       "grid_auto_flow": null,
       "grid_auto_rows": null,
       "grid_column": null,
       "grid_gap": null,
       "grid_row": null,
       "grid_template_areas": null,
       "grid_template_columns": null,
       "grid_template_rows": null,
       "height": null,
       "justify_content": null,
       "justify_items": null,
       "left": null,
       "margin": null,
       "max_height": null,
       "max_width": null,
       "min_height": null,
       "min_width": null,
       "object_fit": null,
       "object_position": null,
       "order": null,
       "overflow": null,
       "padding": null,
       "right": null,
       "top": null,
       "visibility": "hidden",
       "width": null
      }
     },
     "3920a6b30d4744cfa6cfb8b274abc160": {
      "model_module": "@jupyter-widgets/controls",
      "model_module_version": "2.0.0",
      "model_name": "HTMLModel",
      "state": {
       "_dom_classes": [],
       "_model_module": "@jupyter-widgets/controls",
       "_model_module_version": "2.0.0",
       "_model_name": "HTMLModel",
       "_view_count": null,
       "_view_module": "@jupyter-widgets/controls",
       "_view_module_version": "2.0.0",
       "_view_name": "HTMLView",
       "description": "",
       "description_allow_html": false,
       "layout": "IPY_MODEL_615b75491db544c680e02ed2a08739ef",
       "placeholder": "​",
       "style": "IPY_MODEL_9e806692ead948abbb041c21b92afc3d",
       "tabbable": null,
       "tooltip": null,
       "value": "Rendering pages:   0%"
      }
     },
     "3e25093628264e45964c92465f107965": {
      "model_module": "@jupyter-widgets/controls",
      "model_module_version": "2.0.0",
      "model_name": "HTMLModel",
      "state": {
       "_dom_classes": [],
       "_model_module": "@jupyter-widgets/controls",
       "_model_module_version": "2.0.0",
       "_model_name": "HTMLModel",
       "_view_count": null,
       "_view_module": "@jupyter-widgets/controls",
       "_view_module_version": "2.0.0",
       "_view_name": "HTMLView",
       "description": "",
       "description_allow_html": false,
       "layout": "IPY_MODEL_e30336aa75df49f3bead9e87a203f10c",
       "placeholder": "​",
       "style": "IPY_MODEL_5994b2d5f9b5401f8aaea130000d4620",
       "tabbable": null,
       "tooltip": null,
       "value": " 0/1 [00:00&lt;?, ?it/s]"
      }
     },
     "5994b2d5f9b5401f8aaea130000d4620": {
      "model_module": "@jupyter-widgets/controls",
      "model_module_version": "2.0.0",
      "model_name": "HTMLStyleModel",
      "state": {
       "_model_module": "@jupyter-widgets/controls",
       "_model_module_version": "2.0.0",
       "_model_name": "HTMLStyleModel",
       "_view_count": null,
       "_view_module": "@jupyter-widgets/base",
       "_view_module_version": "2.0.0",
       "_view_name": "StyleView",
       "background": null,
       "description_width": "",
       "font_size": null,
       "text_color": null
      }
     },
     "5f91c93380c7486da224400c65e222f6": {
      "model_module": "@jupyter-widgets/controls",
      "model_module_version": "2.0.0",
      "model_name": "ProgressStyleModel",
      "state": {
       "_model_module": "@jupyter-widgets/controls",
       "_model_module_version": "2.0.0",
       "_model_name": "ProgressStyleModel",
       "_view_count": null,
       "_view_module": "@jupyter-widgets/base",
       "_view_module_version": "2.0.0",
       "_view_name": "StyleView",
       "bar_color": null,
       "description_width": ""
      }
     },
     "60a869be00c14425aaf72a5ca870cba6": {
      "model_module": "@jupyter-widgets/controls",
      "model_module_version": "2.0.0",
      "model_name": "FloatProgressModel",
      "state": {
       "_dom_classes": [],
       "_model_module": "@jupyter-widgets/controls",
       "_model_module_version": "2.0.0",
       "_model_name": "FloatProgressModel",
       "_view_count": null,
       "_view_module": "@jupyter-widgets/controls",
       "_view_module_version": "2.0.0",
       "_view_name": "ProgressView",
       "bar_style": "",
       "description": "",
       "description_allow_html": false,
       "layout": "IPY_MODEL_a626b14b5de649c2b8d1cf34b2cc58a8",
       "max": 1.0,
       "min": 0.0,
       "orientation": "horizontal",
       "style": "IPY_MODEL_5f91c93380c7486da224400c65e222f6",
       "tabbable": null,
       "tooltip": null,
       "value": 1.0
      }
     },
     "615b75491db544c680e02ed2a08739ef": {
      "model_module": "@jupyter-widgets/base",
      "model_module_version": "2.0.0",
      "model_name": "LayoutModel",
      "state": {
       "_model_module": "@jupyter-widgets/base",
       "_model_module_version": "2.0.0",
       "_model_name": "LayoutModel",
       "_view_count": null,
       "_view_module": "@jupyter-widgets/base",
       "_view_module_version": "2.0.0",
       "_view_name": "LayoutView",
       "align_content": null,
       "align_items": null,
       "align_self": null,
       "border_bottom": null,
       "border_left": null,
       "border_right": null,
       "border_top": null,
       "bottom": null,
       "display": null,
       "flex": null,
       "flex_flow": null,
       "grid_area": null,
       "grid_auto_columns": null,
       "grid_auto_flow": null,
       "grid_auto_rows": null,
       "grid_column": null,
       "grid_gap": null,
       "grid_row": null,
       "grid_template_areas": null,
       "grid_template_columns": null,
       "grid_template_rows": null,
       "height": null,
       "justify_content": null,
       "justify_items": null,
       "left": null,
       "margin": null,
       "max_height": null,
       "max_width": null,
       "min_height": null,
       "min_width": null,
       "object_fit": null,
       "object_position": null,
       "order": null,
       "overflow": null,
       "padding": null,
       "right": null,
       "top": null,
       "visibility": null,
       "width": null
      }
     },
     "8ad5c2967eb54bfca1d52397138358e4": {
      "model_module": "@jupyter-widgets/controls",
      "model_module_version": "2.0.0",
      "model_name": "HBoxModel",
      "state": {
       "_dom_classes": [],
       "_model_module": "@jupyter-widgets/controls",
       "_model_module_version": "2.0.0",
       "_model_name": "HBoxModel",
       "_view_count": null,
       "_view_module": "@jupyter-widgets/controls",
       "_view_module_version": "2.0.0",
       "_view_name": "HBoxView",
       "box_style": "",
       "children": [
        "IPY_MODEL_3920a6b30d4744cfa6cfb8b274abc160",
        "IPY_MODEL_60a869be00c14425aaf72a5ca870cba6",
        "IPY_MODEL_3e25093628264e45964c92465f107965"
       ],
       "layout": "IPY_MODEL_1b8e8b61e35d4b248eba9060f5eb8c84",
       "tabbable": null,
       "tooltip": null
      }
     },
     "9e806692ead948abbb041c21b92afc3d": {
      "model_module": "@jupyter-widgets/controls",
      "model_module_version": "2.0.0",
      "model_name": "HTMLStyleModel",
      "state": {
       "_model_module": "@jupyter-widgets/controls",
       "_model_module_version": "2.0.0",
       "_model_name": "HTMLStyleModel",
       "_view_count": null,
       "_view_module": "@jupyter-widgets/base",
       "_view_module_version": "2.0.0",
       "_view_name": "StyleView",
       "background": null,
       "description_width": "",
       "font_size": null,
       "text_color": null
      }
     },
     "a626b14b5de649c2b8d1cf34b2cc58a8": {
      "model_module": "@jupyter-widgets/base",
      "model_module_version": "2.0.0",
      "model_name": "LayoutModel",
      "state": {
       "_model_module": "@jupyter-widgets/base",
       "_model_module_version": "2.0.0",
       "_model_name": "LayoutModel",
       "_view_count": null,
       "_view_module": "@jupyter-widgets/base",
       "_view_module_version": "2.0.0",
       "_view_name": "LayoutView",
       "align_content": null,
       "align_items": null,
       "align_self": null,
       "border_bottom": null,
       "border_left": null,
       "border_right": null,
       "border_top": null,
       "bottom": null,
       "display": null,
       "flex": null,
       "flex_flow": null,
       "grid_area": null,
       "grid_auto_columns": null,
       "grid_auto_flow": null,
       "grid_auto_rows": null,
       "grid_column": null,
       "grid_gap": null,
       "grid_row": null,
       "grid_template_areas": null,
       "grid_template_columns": null,
       "grid_template_rows": null,
       "height": null,
       "justify_content": null,
       "justify_items": null,
       "left": null,
       "margin": null,
       "max_height": null,
       "max_width": null,
       "min_height": null,
       "min_width": null,
       "object_fit": null,
       "object_position": null,
       "order": null,
       "overflow": null,
       "padding": null,
       "right": null,
       "top": null,
       "visibility": null,
       "width": null
      }
     },
     "e30336aa75df49f3bead9e87a203f10c": {
      "model_module": "@jupyter-widgets/base",
      "model_module_version": "2.0.0",
      "model_name": "LayoutModel",
      "state": {
       "_model_module": "@jupyter-widgets/base",
       "_model_module_version": "2.0.0",
       "_model_name": "LayoutModel",
       "_view_count": null,
       "_view_module": "@jupyter-widgets/base",
       "_view_module_version": "2.0.0",
       "_view_name": "LayoutView",
       "align_content": null,
       "align_items": null,
       "align_self": null,
       "border_bottom": null,
       "border_left": null,
       "border_right": null,
       "border_top": null,
       "bottom": null,
       "display": null,
       "flex": null,
       "flex_flow": null,
       "grid_area": null,
       "grid_auto_columns": null,
       "grid_auto_flow": null,
       "grid_auto_rows": null,
       "grid_column": null,
       "grid_gap": null,
       "grid_row": null,
       "grid_template_areas": null,
       "grid_template_columns": null,
       "grid_template_rows": null,
       "height": null,
       "justify_content": null,
       "justify_items": null,
       "left": null,
       "margin": null,
       "max_height": null,
       "max_width": null,
       "min_height": null,
       "min_width": null,
       "object_fit": null,
       "object_position": null,
       "order": null,
       "overflow": null,
       "padding": null,
       "right": null,
       "top": null,
       "visibility": null,
       "width": null
      }
     }
    },
    "version_major": 2,
    "version_minor": 0
   }
  }
 },
 "nbformat": 4,
 "nbformat_minor": 5
}
