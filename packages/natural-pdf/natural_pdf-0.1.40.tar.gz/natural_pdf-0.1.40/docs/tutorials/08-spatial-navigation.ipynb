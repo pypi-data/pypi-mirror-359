{
 "cells": [
  {
   "cell_type": "markdown",
   "id": "d504ef47",
   "metadata": {},
   "source": [
    "# Spatial Navigation\n",
    "\n",
    "Spatial navigation lets you work with PDF content based on the physical layout of elements on the page. It's perfect for finding elements relative to each other and extracting information in context."
   ]
  },
  {
   "cell_type": "code",
   "execution_count": 1,
   "id": "ae743c4b",
   "metadata": {
    "execution": {
     "iopub.execute_input": "2025-06-27T23:43:58.557057Z",
     "iopub.status.busy": "2025-06-27T23:43:58.556941Z",
     "iopub.status.idle": "2025-06-27T23:43:58.559821Z",
     "shell.execute_reply": "2025-06-27T23:43:58.559384Z"
    }
   },
   "outputs": [],
   "source": [
    "#%pip install natural-pdf"
   ]
  },
  {
   "cell_type": "code",
   "execution_count": 2,
   "id": "efb847db",
   "metadata": {
    "execution": {
     "iopub.execute_input": "2025-06-27T23:43:58.561738Z",
     "iopub.status.busy": "2025-06-27T23:43:58.561386Z",
     "iopub.status.idle": "2025-06-27T23:44:01.476052Z",
     "shell.execute_reply": "2025-06-27T23:44:01.475394Z"
    }
   },
   "outputs": [
    {
     "data": {
      "text/plain": [
       "'Jungle Health and Safety Inspection Service'"
      ]
     },
     "execution_count": 2,
     "metadata": {},
     "output_type": "execute_result"
    }
   ],
   "source": [
    "from natural_pdf import PDF\n",
    "\n",
    "# Load a PDF\n",
    "pdf = PDF(\"https://github.com/jsoma/natural-pdf/raw/refs/heads/main/pdfs/01-practice.pdf\")\n",
    "page = pdf.pages[0]\n",
    "\n",
    "# Find the title of the document\n",
    "title = page.find('text:contains(\"Jungle Health\")')\n",
    "\n",
    "# Visualize our starting point\n",
    "title.show(color=\"red\", label=\"Document Title\")\n",
    "\n",
    "# Display the title text\n",
    "title.text"
   ]
  },
  {
   "cell_type": "markdown",
   "id": "5b225a7e",
   "metadata": {},
   "source": [
    "## Finding Elements Above and Below"
   ]
  },
  {
   "cell_type": "code",
   "execution_count": 3,
   "id": "52be1ac0",
   "metadata": {
    "execution": {
     "iopub.execute_input": "2025-06-27T23:44:01.484411Z",
     "iopub.status.busy": "2025-06-27T23:44:01.483527Z",
     "iopub.status.idle": "2025-06-27T23:44:01.506053Z",
     "shell.execute_reply": "2025-06-27T23:44:01.505644Z"
    }
   },
   "outputs": [
    {
     "data": {
      "text/plain": [
       "'INS-UP70N51NCL41R\\nSite: Durham’s Meatpacking Chicago, Ill.\\nDate: February 3, 1905\\nViolation Count: 7'"
      ]
     },
     "execution_count": 3,
     "metadata": {},
     "output_type": "execute_result"
    }
   ],
   "source": [
    "# Create a region below the title\n",
    "region_below = title.below(height=100)\n",
    "\n",
    "# Visualize the region\n",
    "region_below.show(color=\"blue\", label=\"Below Title\")\n",
    "\n",
    "# Find and extract text from this region\n",
    "text_below = region_below.extract_text()\n",
    "text_below"
   ]
  },
  {
   "cell_type": "markdown",
   "id": "ab7c8621",
   "metadata": {},
   "source": [
    "## Finding Content Between Elements"
   ]
  },
  {
   "cell_type": "code",
   "execution_count": 4,
   "id": "5af0776a",
   "metadata": {
    "execution": {
     "iopub.execute_input": "2025-06-27T23:44:01.507860Z",
     "iopub.status.busy": "2025-06-27T23:44:01.507714Z",
     "iopub.status.idle": "2025-06-27T23:44:01.530147Z",
     "shell.execute_reply": "2025-06-27T23:44:01.529803Z"
    }
   },
   "outputs": [
    {
     "data": {
      "text/plain": [
       "'Site: Durham’s Meatpacking Chicago, Ill.'"
      ]
     },
     "execution_count": 4,
     "metadata": {},
     "output_type": "execute_result"
    }
   ],
   "source": [
    "# Find two labels to serve as boundaries\n",
    "site_label = page.find('text:contains(\"Site:\")')\n",
    "date_label = page.find('text:contains(\"Date:\")')\n",
    "\n",
    "# Get the region between these labels\n",
    "between_region = site_label.below(\n",
    "    include_source=True,     # Include starting element\n",
    "    until='text:contains(\"Date:\")',  # Stop at this element\n",
    "    include_endpoint=False    # Don't include ending element\n",
    ")\n",
    "\n",
    "# Visualize the region between labels\n",
    "between_region.show(color=\"green\", label=\"Between\")\n",
    "\n",
    "# Extract text from this bounded area\n",
    "between_region.extract_text()"
   ]
  },
  {
   "cell_type": "markdown",
   "id": "273fee56",
   "metadata": {},
   "source": [
    "## Navigating Left and Right"
   ]
  },
  {
   "cell_type": "code",
   "execution_count": 5,
   "id": "44a57b59",
   "metadata": {
    "execution": {
     "iopub.execute_input": "2025-06-27T23:44:01.532755Z",
     "iopub.status.busy": "2025-06-27T23:44:01.532634Z",
     "iopub.status.idle": "2025-06-27T23:44:01.571726Z",
     "shell.execute_reply": "2025-06-27T23:44:01.570845Z"
    }
   },
   "outputs": [
    {
     "data": {
      "text/plain": [
       "'Durham’s Meatpacking Chicago, Ill.\\nFebruary 3, 1905\\ntion Count: 7\\nmary: Worst of any, however, were the fertilize\\ne people could not be shown to the visitor - for\\nr at a hundred yards, and as for the other men\\nof which there were open vats near the level\\nhe vats; and when they were fished out, there\\niting - sometimes they would be overlooked fo\\nworld as Durham’s Pure Leaf Lard!\\nations\\nute Description\\n.7 Unsanitary Working Conditions.\\n3 Inadequate Protective Equipment.\\n9 Ineffective Injury Prevention.\\n5 Failure to Properly Store Hazardous M\\n2 Lack of Adequate Fire Safety Measure\\n4 Inadequate Ventilation Systems.\\n.7 Insufficient Employee Training for Safe\\nJungle Healt'"
      ]
     },
     "execution_count": 5,
     "metadata": {},
     "output_type": "execute_result"
    }
   ],
   "source": [
    "# Find a field label\n",
    "site_label = page.find('text:contains(\"Site:\")')\n",
    "\n",
    "# Get the content to the right (the field value)\n",
    "value_region = site_label.right(width=200)\n",
    "\n",
    "# Visualize the label and value regions\n",
    "site_label.show(color=\"red\", label=\"Label\")\n",
    "value_region.show(color=\"blue\", label=\"Value\")\n",
    "\n",
    "# Extract just the value text\n",
    "value_region.extract_text()"
   ]
  },
  {
   "cell_type": "markdown",
   "id": "1fbd8e99",
   "metadata": {},
   "source": [
    "## Finding Adjacent Elements"
   ]
  },
  {
   "cell_type": "code",
   "execution_count": 6,
   "id": "781a2b0f",
   "metadata": {
    "execution": {
     "iopub.execute_input": "2025-06-27T23:44:01.574427Z",
     "iopub.status.busy": "2025-06-27T23:44:01.574295Z",
     "iopub.status.idle": "2025-06-27T23:44:01.633090Z",
     "shell.execute_reply": "2025-06-27T23:44:01.632171Z"
    }
   },
   "outputs": [
    {
     "data": {
      "text/plain": [
       "{'current': 'Site: ', 'next': 'i', 'previous': 'S'}"
      ]
     },
     "execution_count": 6,
     "metadata": {},
     "output_type": "execute_result"
    }
   ],
   "source": [
    "# Start with a label element\n",
    "label = page.find('text:contains(\"Site:\")')\n",
    "\n",
    "# Find the next and previous elements in reading order\n",
    "next_elem = label.next()\n",
    "prev_elem = label.prev()\n",
    "\n",
    "# Visualize all three elements\n",
    "label.show(color=\"red\", label=\"Current\")\n",
    "next_elem.show(color=\"green\", label=\"Next\") if next_elem else None\n",
    "prev_elem.show(color=\"blue\", label=\"Previous\") if prev_elem else None\n",
    "\n",
    "# Show the text of adjacent elements\n",
    "{\n",
    "    \"current\": label.text,\n",
    "    \"next\": next_elem.text if next_elem else \"None\",\n",
    "    \"previous\": prev_elem.text if prev_elem else \"None\"\n",
    "}"
   ]
  },
  {
   "cell_type": "markdown",
   "id": "49ef7633",
   "metadata": {},
   "source": [
    "## Combining with Element Selectors"
   ]
  },
  {
   "cell_type": "code",
   "execution_count": 7,
   "id": "b1ce8470",
   "metadata": {
    "execution": {
     "iopub.execute_input": "2025-06-27T23:44:01.638425Z",
     "iopub.status.busy": "2025-06-27T23:44:01.638202Z",
     "iopub.status.idle": "2025-06-27T23:44:01.691900Z",
     "shell.execute_reply": "2025-06-27T23:44:01.691243Z"
    }
   },
   "outputs": [
    {
     "data": {
      "text/plain": [
       "{'summary': 'Summary: ',\n",
       " 'next_bold': 'u',\n",
       " 'nearest_line': <LineElement type=horizontal width=2.0 bbox=(50.0, 352.0, 550.0, 352.0)>}"
      ]
     },
     "execution_count": 7,
     "metadata": {},
     "output_type": "execute_result"
    }
   ],
   "source": [
    "# Find a section label\n",
    "summary = page.find('text:contains(\"Summary:\")')\n",
    "\n",
    "# Find the next bold text element\n",
    "next_bold = summary.next('text:bold', limit=20)\n",
    "\n",
    "# Find the nearest line element\n",
    "nearest_line = summary.nearest('line')\n",
    "\n",
    "# Visualize what we found\n",
    "summary.show(color=\"red\", label=\"Summary\")\n",
    "next_bold.show(color=\"blue\", label=\"Next Bold\") if next_bold else None\n",
    "nearest_line.show(color=\"green\", label=\"Nearest Line\") if nearest_line else None\n",
    "\n",
    "# Show the content we found\n",
    "{\n",
    "    \"summary\": summary.text,\n",
    "    \"next_bold\": next_bold.text if next_bold else \"None found\",\n",
    "    \"nearest_line\": nearest_line if nearest_line else \"None found\"\n",
    "}"
   ]
  },
  {
   "cell_type": "markdown",
   "id": "8bec6bf9",
   "metadata": {},
   "source": [
    "## Extracting Table Rows with Spatial Navigation"
   ]
  },
  {
   "cell_type": "code",
   "execution_count": 8,
   "id": "65cc13a3",
   "metadata": {
    "execution": {
     "iopub.execute_input": "2025-06-27T23:44:01.696442Z",
     "iopub.status.busy": "2025-06-27T23:44:01.696190Z",
     "iopub.status.idle": "2025-06-27T23:44:01.726787Z",
     "shell.execute_reply": "2025-06-27T23:44:01.721352Z"
    }
   },
   "outputs": [],
   "source": [
    "# Find a table heading\n",
    "table_heading = page.find('text:contains(\"Statute\")')\n",
    "table_heading.show(color=\"purple\", label=\"Table Header\")\n",
    "\n",
    "# Extract table rows using spatial navigation\n",
    "rows = []\n",
    "current = table_heading\n",
    "\n",
    "# Get the next 4 rows\n",
    "for i in range(4):\n",
    "    # Find the next row below the current one\n",
    "    next_row = current.below(height=15)\n",
    "    \n",
    "    if next_row:\n",
    "        rows.append(next_row)\n",
    "        current = next_row  # Move to the next row\n",
    "    else:\n",
    "        break\n",
    "\n",
    "# Visualize all found rows\n",
    "page.clear_highlights()\n",
    "for i, row in enumerate(rows):\n",
    "    row.highlight(label=f\"Row {i+1}\", use_color_cycling=True)"
   ]
  },
  {
   "cell_type": "code",
   "execution_count": 9,
   "id": "c964980f",
   "metadata": {
    "execution": {
     "iopub.execute_input": "2025-06-27T23:44:01.741226Z",
     "iopub.status.busy": "2025-06-27T23:44:01.738801Z",
     "iopub.status.idle": "2025-06-27T23:44:01.751813Z",
     "shell.execute_reply": "2025-06-27T23:44:01.750629Z"
    }
   },
   "outputs": [
    {
     "data": {
      "text/plain": [
       "['4.12.7 Unsanitary Working Conditions. Critical',\n",
       " '4.12.7 Unsanitary Working Conditions. Critical\\n5.8.3 Inadequate Protective Equipment. Serious',\n",
       " '5.8.3 Inadequate Protective Equipment. Serious',\n",
       " '6.3.9 Ineffective Injury Prevention. Serious']"
      ]
     },
     "execution_count": 9,
     "metadata": {},
     "output_type": "execute_result"
    }
   ],
   "source": [
    "# Extract text from each row\n",
    "[row.extract_text() for row in rows]"
   ]
  },
  {
   "cell_type": "markdown",
   "id": "80a7799d",
   "metadata": {},
   "source": [
    "## Extracting Key-Value Pairs"
   ]
  },
  {
   "cell_type": "code",
   "execution_count": 10,
   "id": "ede978cc",
   "metadata": {
    "execution": {
     "iopub.execute_input": "2025-06-27T23:44:01.756036Z",
     "iopub.status.busy": "2025-06-27T23:44:01.755845Z",
     "iopub.status.idle": "2025-06-27T23:44:01.804813Z",
     "shell.execute_reply": "2025-06-27T23:44:01.803489Z"
    }
   },
   "outputs": [
    {
     "data": {
      "text/plain": [
       "{'Site': 'Durham’s Meatpacking Chicago, Ill.\\nFebruary 3, 1905\\ntion Count: 7\\nmary: Worst of any, however, were the fertilize\\ne people could not be shown to the visitor - for\\nr at a hundred yards, and as for the other men\\nof which there were open vats near the level\\nhe vats; and when they were fished out, there\\niting - sometimes they would be overlooked fo\\nworld as Durham’s Pure Leaf Lard!\\nations\\nute Description\\n.7 Unsanitary Working Conditions.\\n3 Inadequate Protective Equipment.\\n9 Ineffective Injury Prevention.\\n5 Failure to Properly Store Hazardous M\\n2 Lack of Adequate Fire Safety Measure\\n4 Inadequate Ventilation Systems.\\n.7 Insufficient Employee Training for Safe\\nJungle Healt',\n",
       " 'Date': 'Durham’s Meatpacking Chicago, Ill.\\nFebruary 3, 1905\\non Count: 7\\nary: Worst of any, however, were the fertilizer\\npeople could not be shown to the visitor - for t\\nat a hundred yards, and as for the other men,\\nof which there were open vats near the level o\\ne vats; and when they were fished out, there w\\nng - sometimes they would be overlooked for\\nworld as Durham’s Pure Leaf Lard!\\ntions\\nte Description\\n7 Unsanitary Working Conditions.\\nInadequate Protective Equipment.\\nIneffective Injury Prevention.\\nFailure to Properly Store Hazardous Ma\\nLack of Adequate Fire Safety Measures\\nInadequate Ventilation Systems.\\n7 Insufficient Employee Training for Safe W\\nJungle Health',\n",
       " 'Violation Count': 'eatpacking Chicago, Ill.\\n, 1905\\n7\\nof any, however, were the fertilizer men, and\\nld not be shown to the visitor - for the odor of\\nd yards, and as for the other men, who worke\\nre were open vats near the level of the floor, t\\nwhen they were fished out, there was never e\\nmes they would be overlooked for days, till all\\nrham’s Pure Leaf Lard!\\nription\\nnitary Working Conditions.\\nquate Protective Equipment.\\nctive Injury Prevention.\\ne to Properly Store Hazardous Materials.\\nof Adequate Fire Safety Measures.\\nquate Ventilation Systems.\\nicient Employee Training for Safe Work Practi\\nJungle Health and Safety Ins',\n",
       " 'Summary': 'm’s Meatpacking Chicago, Ill.\\nuary 3, 1905\\nount: 7\\nWorst of any, however, were the fertilizer men\\nple could not be shown to the visitor - for the o\\nhundred yards, and as for the other men, who\\nich there were open vats near the level of the\\ns; and when they were fished out, there was n\\nsometimes they would be overlooked for days\\nas Durham’s Pure Leaf Lard!\\ns\\nDescription\\nUnsanitary Working Conditions.\\nInadequate Protective Equipment.\\nIneffective Injury Prevention.\\nFailure to Properly Store Hazardous Material\\nLack of Adequate Fire Safety Measures.\\nInadequate Ventilation Systems.\\nInsufficient Employee Training for Safe Work\\nJungle Health and S'}"
      ]
     },
     "execution_count": 10,
     "metadata": {},
     "output_type": "execute_result"
    }
   ],
   "source": [
    "# Find all potential field labels (text with a colon)\n",
    "labels = page.find_all('text:contains(\":\")') \n",
    "\n",
    "# Visualize the labels\n",
    "labels.show(color=\"blue\", label=\"Labels\")\n",
    "\n",
    "# Extract key-value pairs\n",
    "field_data = {}\n",
    "\n",
    "for label in labels:\n",
    "    # Clean up the label text\n",
    "    key = label.text.strip().rstrip(':')\n",
    "    \n",
    "    # Skip if not a proper label\n",
    "    if not key:\n",
    "        continue\n",
    "    \n",
    "    # Get the value to the right\n",
    "    value = label.right(width=200).extract_text().strip()\n",
    "    \n",
    "    # Add to our collection\n",
    "    field_data[key] = value\n",
    "\n",
    "# Show the extracted data\n",
    "field_data"
   ]
  },
  {
   "cell_type": "markdown",
   "id": "49877b60",
   "metadata": {},
   "source": [
    "Spatial navigation mimics how humans read documents, letting you navigate content based on physical relationships between elements. It's especially useful for extracting structured data from forms, tables, and formatted documents.\n",
    "\n",
    "## TODO\n",
    "\n",
    "* Add examples for navigating across multiple pages using `pdf.pages` slicing and `below(..., until=...)` that spans pages.\n",
    "* Show how to chain selectors, e.g., `page.find('text:bold').below().right()` for complex paths.\n",
    "* Include a sidebar on performance when many spatial calls are chained and how to cache intermediate regions.\n",
    "* Add examples using `.until()` for one-liner \"from here until X\" extractions.\n",
    "* Show using `width=\"element\"` vs `\"full\"` in `.below()` and `.above()` to restrict horizontal span.\n",
    "* Demonstrate attribute selectors (e.g., `line[width>2]`) and `:not()` pseudo-class for exclusion in spatial chains.\n",
    "* Briefly introduce `.expand()` for fine-tuning region size after spatial selection.\n",
    "\n",
    "## Chaining Spatial Calls\n",
    "\n",
    "Spatial helpers like `.below()`, `.right()`, `.nearest()` and friends **return Element or Region objects**, so you can keep chaining operations just like you would with jQuery or BeautifulSoup.\n",
    "\n",
    "1. Start with a selector (string or Element).\n",
    "2. Apply a spatial function.\n",
    "3. Optionally, add another selector to narrow the result.\n",
    "4. Repeat!\n",
    "\n",
    "### Example 1 – Heading → next bold word → value to its right"
   ]
  },
  {
   "cell_type": "code",
   "execution_count": 11,
   "id": "1ec935a0",
   "metadata": {
    "execution": {
     "iopub.execute_input": "2025-06-27T23:44:01.809806Z",
     "iopub.status.busy": "2025-06-27T23:44:01.809397Z",
     "iopub.status.idle": "2025-06-27T23:44:01.840720Z",
     "shell.execute_reply": "2025-06-27T23:44:01.839718Z"
    }
   },
   "outputs": [
    {
     "data": {
      "text/plain": [
       "'e: Durha\\nte: Febr\\nolation C\\nmmary:\\nese peop\\nitor at a h\\nme of wh\\no the vats\\nhibiting -\\nthe world\\nolation\\ntatute\\n12.7\\n8.3\\n3.9\\n1.5\\n9.2\\n6.4\\n0.2.7'"
      ]
     },
     "execution_count": 11,
     "metadata": {},
     "output_type": "execute_result"
    }
   ],
   "source": [
    "# Step 1 – find the heading text\n",
    "heading = page.find('text:contains(\"Summary:\")')\n",
    "\n",
    "# Step 2 – get the first bold word after that heading (skip up to 30 elements)\n",
    "value_label = heading.next('text:bold', limit=30)\n",
    "\n",
    "# Step 3 – grab the value region to the right of that bold word\n",
    "value_region = value_label.right(until='line')  # Extend until the boundary line\n",
    "\n",
    "value_region.show(color=\"orange\", label=\"Summary Value\")\n",
    "value_region.extract_text()"
   ]
  },
  {
   "cell_type": "markdown",
   "id": "2aaeb961",
   "metadata": {},
   "source": [
    "### Example 2 – Find a label anywhere on the document and walk to its value in one chain"
   ]
  },
  {
   "cell_type": "code",
   "execution_count": 12,
   "id": "09649e92",
   "metadata": {
    "execution": {
     "iopub.execute_input": "2025-06-27T23:44:01.847082Z",
     "iopub.status.busy": "2025-06-27T23:44:01.846854Z",
     "iopub.status.idle": "2025-06-27T23:44:01.852789Z",
     "shell.execute_reply": "2025-06-27T23:44:01.850831Z"
    }
   },
   "outputs": [],
   "source": [
    "inspection_date_value = (\n",
    "    page.find('text:startswith(\"Date:\")')\n",
    "        .right(width=500, height='element')            # Move right to get the date value region\n",
    "        .find('text')                # Narrow to text elements only\n",
    ")"
   ]
  },
  {
   "cell_type": "markdown",
   "id": "814b0571",
   "metadata": {},
   "source": [
    "Because each call returns an element, **you never lose the spatial context** – you can always add another `.below()` or `.nearest()` later."
   ]
  }
 ],
 "metadata": {
  "jupytext": {
   "cell_metadata_filter": "-all",
   "main_language": "python",
   "notebook_metadata_filter": "-all",
   "text_representation": {
    "extension": ".md",
    "format_name": "markdown"
   }
  },
  "language_info": {
   "codemirror_mode": {
    "name": "ipython",
    "version": 3
   },
   "file_extension": ".py",
   "mimetype": "text/x-python",
   "name": "python",
   "nbconvert_exporter": "python",
   "pygments_lexer": "ipython3",
   "version": "3.10.13"
  }
 },
 "nbformat": 4,
 "nbformat_minor": 5
}