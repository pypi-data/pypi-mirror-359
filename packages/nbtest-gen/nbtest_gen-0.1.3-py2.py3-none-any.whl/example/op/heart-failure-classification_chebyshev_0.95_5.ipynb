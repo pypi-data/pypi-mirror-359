{
 "cells": [
  {
   "cell_type": "code",
   "execution_count": null,
   "id": "79bebb7e",
   "metadata": {},
   "outputs": [],
   "source": [
    "import nbtest\n",
    "import json\n",
    "import numpy as np\n",
    "random_seed = np.random.randint(10000)"
   ]
  },
  {
   "cell_type": "code",
   "execution_count": null,
   "id": "9e3f80fe",
   "metadata": {},
   "outputs": [],
   "source": [
    "import pandas as pd\n",
    "import matplotlib.pyplot as plt\n",
    "df = pd.read_csv('./heart_failure.csv')\n",
    "nbtest.assert_df_var(df, 5655280085.135918, atol=0.0, test_id='4')\n",
    "nbtest.assert_df_mean(df, 20331.504464625676, atol=0.0, test_id='3')\n",
    "nbtest.assert_column_types(df, ['int64', 'float64', 'int64', 'int64', 'int64', 'int64', 'int64', 'float64', 'float64', 'int64', 'int64', 'int64', 'int64'], test_id='2')\n",
    "nbtest.assert_column_names(df, ['DEATH_EVENT', 'age', 'anaemia', 'creatinine_phosphokinase', 'diabetes', 'ejection_fraction', 'high_blood_pressure', 'platelets', 'serum_creatinine', 'serum_sodium', 'sex', 'smoking', 'time'], test_id='1')\n",
    "nbtest.assert_shape(df, (299, 13), test_id='0')"
   ]
  },
  {
   "cell_type": "code",
   "execution_count": null,
   "id": "5a3a420e",
   "metadata": {},
   "outputs": [],
   "source": [
    "nbtest_tmpvar_0 = df.head(n=10)\n",
    "nbtest.assert_df_var(nbtest_tmpvar_0, 5735375787.815456, atol=0.0, test_id='9')\n",
    "nbtest.assert_df_mean(nbtest_tmpvar_0, 20584.102, atol=0.0, test_id='8')\n",
    "nbtest.assert_column_types(nbtest_tmpvar_0, ['int64', 'float64', 'int64', 'int64', 'int64', 'int64', 'int64', 'float64', 'float64', 'int64', 'int64', 'int64', 'int64'], test_id='7')\n",
    "nbtest.assert_column_names(nbtest_tmpvar_0, ['DEATH_EVENT', 'age', 'anaemia', 'creatinine_phosphokinase', 'diabetes', 'ejection_fraction', 'high_blood_pressure', 'platelets', 'serum_creatinine', 'serum_sodium', 'sex', 'smoking', 'time'], test_id='6')\n",
    "nbtest.assert_shape(nbtest_tmpvar_0, (10, 13), test_id='5')"
   ]
  },
  {
   "cell_type": "code",
   "execution_count": null,
   "id": "5ba23724",
   "metadata": {},
   "outputs": [],
   "source": [
    "df.info()"
   ]
  },
  {
   "cell_type": "code",
   "execution_count": null,
   "id": "e21b83d9",
   "metadata": {},
   "outputs": [],
   "source": [
    "nbtest_tmpvar_2 = df.isnull().any()\n",
    "nbtest.assert_allclose(nbtest_tmpvar_2.sum(), 0.0, atol=0.0, test_id='10')"
   ]
  },
  {
   "cell_type": "code",
   "execution_count": null,
   "id": "cd8a1534",
   "metadata": {},
   "outputs": [],
   "source": [
    "df.shape\n",
    "nbtest.assert_shape(df, (299, 13), test_id='11')"
   ]
  },
  {
   "cell_type": "code",
   "execution_count": null,
   "id": "84e78a53",
   "metadata": {},
   "outputs": [],
   "source": [
    "nbtest_tmpvar_3 = df.describe()\n",
    "nbtest.assert_df_var(nbtest_tmpvar_3, 9311258132.272377, atol=0.0, test_id='16')\n",
    "nbtest.assert_df_mean(nbtest_tmpvar_3, 19528.024571370242, atol=0.0, test_id='15')\n",
    "nbtest.assert_column_types(nbtest_tmpvar_3, ['float64', 'float64', 'float64', 'float64', 'float64', 'float64', 'float64', 'float64', 'float64', 'float64', 'float64', 'float64', 'float64'], test_id='14')\n",
    "nbtest.assert_column_names(nbtest_tmpvar_3, ['DEATH_EVENT', 'age', 'anaemia', 'creatinine_phosphokinase', 'diabetes', 'ejection_fraction', 'high_blood_pressure', 'platelets', 'serum_creatinine', 'serum_sodium', 'sex', 'smoking', 'time'], test_id='13')\n",
    "nbtest.assert_shape(nbtest_tmpvar_3, (8, 13), test_id='12')"
   ]
  },
  {
   "cell_type": "code",
   "execution_count": null,
   "id": "960aedeb",
   "metadata": {},
   "outputs": [],
   "source": [
    "for i in df.columns:\n",
    "  print(i)\n",
    "  print(df[f\"{i}\"].value_counts())"
   ]
  },
  {
   "cell_type": "code",
   "execution_count": null,
   "id": "e69a8b3d",
   "metadata": {},
   "outputs": [],
   "source": [
    "import seaborn as sns\n",
    "import matplotlib.pyplot as plt\n",
    "sns.pairplot(df, vars=['age', 'anaemia', 'creatinine_phosphokinase', 'diabetes', 'ejection_fraction', 'high_blood_pressure', 'platelets', 'serum_creatinine', 'serum_sodium', 'sex', 'smoking', 'time', 'DEATH_EVENT'], hue='DEATH_EVENT')\n",
    "nbtest_tmpvar_4 = plt.gcf()\n",
    "nbtest.assert_plot_equal(nbtest_tmpvar_4, '/home/verve/ml_nb_testing/comp_analysis/nbtest-gen/example/op/reference_plot_nbtest_tmpvar_4.png', tol=0.0, test_id='17')\n",
    "plt.show()"
   ]
  },
  {
   "cell_type": "code",
   "execution_count": null,
   "id": "8bc0eaad",
   "metadata": {},
   "outputs": [],
   "source": [
    "korelasyon_matrisi = df.corr().abs()\n",
    "plt.figure(figsize=(8, 6), dpi=100)\n",
    "sns.heatmap(korelasyon_matrisi, annot=True, cmap='rocket_r', fmt='.2f', linewidths=1)\n",
    "plt.title('Korelasyon Heatmap')\n",
    "nbtest_tmpvar_6 = plt.gcf()\n",
    "nbtest.assert_plot_equal(nbtest_tmpvar_6, '/home/verve/ml_nb_testing/comp_analysis/nbtest-gen/example/op/reference_plot_nbtest_tmpvar_6.png', tol=0.0, test_id='18')\n",
    "plt.show()"
   ]
  },
  {
   "cell_type": "code",
   "execution_count": null,
   "id": "ec774fa9",
   "metadata": {},
   "outputs": [],
   "source": [
    "print(df.corr().abs()[\"DEATH_EVENT\"].nlargest(15))"
   ]
  },
  {
   "cell_type": "code",
   "execution_count": null,
   "id": "a1e53463",
   "metadata": {},
   "outputs": [],
   "source": [
    "col_reduced = df.corr().abs()[\"DEATH_EVENT\"].nlargest(6).index\n",
    "col_reduced"
   ]
  },
  {
   "cell_type": "code",
   "execution_count": null,
   "id": "cb327897",
   "metadata": {},
   "outputs": [],
   "source": [
    "x = df[['time', 'serum_creatinine', 'ejection_fraction', 'age', 'serum_sodium']].values # Numpy Array\n",
    "y = df.iloc[:,-1].values # Numpy Array"
   ]
  },
  {
   "cell_type": "code",
   "execution_count": null,
   "id": "815bd3e7",
   "metadata": {},
   "outputs": [],
   "source": [
    "from sklearn.model_selection import train_test_split\n",
    "x_train, x_test, y_train, y_test = train_test_split(x, y, test_size=0.2, random_state=2)"
   ]
  },
  {
   "cell_type": "code",
   "execution_count": null,
   "id": "89405361",
   "metadata": {},
   "outputs": [],
   "source": [
    "from sklearn.metrics import roc_curve, auc, accuracy_score\n",
    "from sklearn.metrics import confusion_matrix\n",
    "from sklearn.metrics import ConfusionMatrixDisplay\n",
    "from sklearn.preprocessing import StandardScaler\n",
    "sc=StandardScaler()\n",
    "X_train = sc.fit_transform(x_train)\n",
    "X_test = sc.transform(x_test)"
   ]
  },
  {
   "cell_type": "code",
   "execution_count": null,
   "id": "8e0165b1",
   "metadata": {},
   "outputs": [],
   "source": [
    "from sklearn.linear_model import LogisticRegression\n",
    "logr = LogisticRegression(random_state=0)\n",
    "nbtest_tmpvar_7 = logr.fit(X_train, y_train)\n",
    "nbtest.assert_sklearn_model(nbtest_tmpvar_7, '/home/verve/ml_nb_testing/comp_analysis/nbtest-gen/example/op/sklearn_model_19.pkl', test_id='19')\n",
    "y_pred = logr.predict(X_test)\n",
    "cm = confusion_matrix(y_test, y_pred, labels=logr.classes_)\n",
    "disp = ConfusionMatrixDisplay(confusion_matrix=cm, display_labels=logr.classes_)\n",
    "disp.plot(cmap='YlGnBu')\n",
    "nbtest_tmpvar_8 = plt.gcf()\n",
    "nbtest.assert_plot_equal(nbtest_tmpvar_8, '/home/verve/ml_nb_testing/comp_analysis/nbtest-gen/example/op/reference_plot_nbtest_tmpvar_8.png', tol=22.879555345561432, test_id='20')\n",
    "plt.show()\n",
    "print()\n",
    "print('accuracy: ', accuracy_score(y_test, y_pred))\n",
    "nbtest.assert_allclose(accuracy_score(y_test, y_pred), 0.8266666666666668, atol=0.29287843515318385, test_id='21')"
   ]
  },
  {
   "cell_type": "code",
   "execution_count": null,
   "id": "e97294a0",
   "metadata": {},
   "outputs": [],
   "source": [
    "import sklearn\n",
    "y_proba = logr.predict_proba(X_test)\n",
    "fpr, tpr, thresholds = roc_curve(y_test, y_proba[:, 1], pos_label=1)\n",
    "roc_auc = auc(fpr, tpr)\n",
    "nbtest.assert_allclose(roc_auc, 0.8674270018480545, atol=0.28750827339982776, test_id='22')\n",
    "plt.figure(figsize=(10, 6))\n",
    "plt.plot(fpr, tpr, color='darkorange', lw=2, label='ROC curve (area = {:.2f})'.format(roc_auc))\n",
    "plt.plot([0, 1], [0, 1], color='navy', lw=2, linestyle='--')\n",
    "plt.xlim([0.0, 1.0])\n",
    "plt.ylim([0.0, 1.05])\n",
    "plt.xlabel('False Positive Rate')\n",
    "plt.ylabel('True Positive Rate')\n",
    "plt.title('Receiver Operating Characteristic (ROC) Curve')\n",
    "plt.legend(loc='lower right')\n",
    "nbtest_tmpvar_9 = plt.gcf()\n",
    "nbtest.assert_plot_equal(nbtest_tmpvar_9, '/home/verve/ml_nb_testing/comp_analysis/nbtest-gen/example/op/reference_plot_nbtest_tmpvar_9.png', tol=0.6532214195025082, test_id='23')\n",
    "plt.show()\n",
    "print(sklearn.metrics.roc_auc_score(y_test, y_pred))\n",
    "nbtest.assert_allclose(sklearn.metrics.roc_auc_score(y_test, y_pred), 0.810173539910382, atol=0.29269272197038404, test_id='24')"
   ]
  },
  {
   "cell_type": "code",
   "execution_count": null,
   "id": "e0863e54",
   "metadata": {},
   "outputs": [],
   "source": [
    "from sklearn.neighbors import KNeighborsClassifier\n",
    "knn = KNeighborsClassifier(n_neighbors=5, metric='euclidean')\n",
    "nbtest_tmpvar_10 = knn.fit(X_train, y_train)\n",
    "nbtest.assert_sklearn_model(nbtest_tmpvar_10, '/home/verve/ml_nb_testing/comp_analysis/nbtest-gen/example/op/sklearn_model_25.pkl', test_id='25')\n",
    "y_pred = knn.predict(X_test)\n",
    "cm = confusion_matrix(y_test, y_pred, labels=knn.classes_)\n",
    "disp = ConfusionMatrixDisplay(confusion_matrix=cm, display_labels=knn.classes_)\n",
    "disp.plot(cmap='YlGnBu')\n",
    "nbtest_tmpvar_11 = plt.gcf()\n",
    "nbtest.assert_plot_equal(nbtest_tmpvar_11, '/home/verve/ml_nb_testing/comp_analysis/nbtest-gen/example/op/reference_plot_nbtest_tmpvar_11.png', tol=29.955032484330612, test_id='26')\n",
    "plt.show()\n",
    "print()\n",
    "print('accuracy: ', accuracy_score(y_test, y_pred))\n",
    "nbtest.assert_allclose(accuracy_score(y_test, y_pred), 0.7966666666666666, atol=0.29962940072325644, test_id='27')"
   ]
  },
  {
   "cell_type": "code",
   "execution_count": null,
   "id": "655eaa38",
   "metadata": {},
   "outputs": [],
   "source": [
    "import matplotlib.pyplot as plt\n",
    "y_proba = knn.predict_proba(X_test)\n",
    "fpr, tpr, thresholds = roc_curve(y_test, y_proba[:, 1], pos_label=1)\n",
    "roc_auc = auc(fpr, tpr)\n",
    "nbtest.assert_allclose(roc_auc, 0.8486903068909648, atol=0.3258471661094631, test_id='28')\n",
    "plt.figure(figsize=(10, 6))\n",
    "plt.plot(fpr, tpr, color='darkorange', lw=2, label='ROC curve (area = {:.2f})'.format(roc_auc))\n",
    "plt.plot([0, 1], [0, 1], color='navy', lw=2, linestyle='--')\n",
    "plt.xlim([0.0, 1.0])\n",
    "plt.ylim([0.0, 1.05])\n",
    "plt.xlabel('False Positive Rate')\n",
    "plt.ylabel('True Positive Rate')\n",
    "plt.title('Receiver Operating Characteristic (ROC) Curve')\n",
    "plt.legend(loc='lower right')\n",
    "nbtest_tmpvar_12 = plt.gcf()\n",
    "nbtest.assert_plot_equal(nbtest_tmpvar_12, '/home/verve/ml_nb_testing/comp_analysis/nbtest-gen/example/op/reference_plot_nbtest_tmpvar_12.png', tol=2.464720081286026, test_id='29')\n",
    "plt.show()\n",
    "print(sklearn.metrics.roc_auc_score(y_test, y_pred))\n",
    "nbtest.assert_allclose(sklearn.metrics.roc_auc_score(y_test, y_pred), 0.7826717361585782, atol=0.3096991242461878, test_id='30')"
   ]
  },
  {
   "cell_type": "code",
   "execution_count": null,
   "id": "71cf2573",
   "metadata": {},
   "outputs": [],
   "source": [
    "from sklearn.svm import SVC\n",
    "svc = SVC(kernel='rbf', probability=True)\n",
    "nbtest_tmpvar_13 = svc.fit(X_train, y_train)\n",
    "nbtest.assert_sklearn_model(nbtest_tmpvar_13, '/home/verve/ml_nb_testing/comp_analysis/nbtest-gen/example/op/sklearn_model_31.pkl', test_id='31')\n",
    "y_pred = svc.predict(X_test)\n",
    "cm = confusion_matrix(y_test, y_pred, labels=svc.classes_)\n",
    "disp = ConfusionMatrixDisplay(confusion_matrix=cm, display_labels=svc.classes_)\n",
    "disp.plot(cmap='YlGnBu')\n",
    "nbtest_tmpvar_14 = plt.gcf()\n",
    "nbtest.assert_plot_equal(nbtest_tmpvar_14, '/home/verve/ml_nb_testing/comp_analysis/nbtest-gen/example/op/reference_plot_nbtest_tmpvar_14.png', tol=30.288301825703325, test_id='32')\n",
    "plt.show()\n",
    "print()\n",
    "print('accuracy: ', accuracy_score(y_test, y_pred))\n",
    "nbtest.assert_allclose(accuracy_score(y_test, y_pred), 0.7833333333333334, atol=0.31972210155418135, test_id='33')"
   ]
  },
  {
   "cell_type": "code",
   "execution_count": null,
   "id": "7b945d35",
   "metadata": {},
   "outputs": [],
   "source": [
    "import matplotlib.pyplot as plt\n",
    "y_proba = svc.predict_proba(X_test)\n",
    "fpr, tpr, thresholds = roc_curve(y_test, y_proba[:, 1], pos_label=1)\n",
    "roc_auc = auc(fpr, tpr)\n",
    "nbtest.assert_allclose(roc_auc, 0.8534918071694388, atol=0.3497786312782621, test_id='34')\n",
    "plt.figure(figsize=(10, 6))\n",
    "plt.plot(fpr, tpr, color='darkorange', lw=2, label='ROC curve (area = {:.2f})'.format(roc_auc))\n",
    "plt.plot([0, 1], [0, 1], color='navy', lw=2, linestyle='--')\n",
    "plt.xlim([0.0, 1.0])\n",
    "plt.ylim([0.0, 1.05])\n",
    "plt.xlabel('False Positive Rate')\n",
    "plt.ylabel('True Positive Rate')\n",
    "plt.title('Receiver Operating Characteristic (ROC) Curve')\n",
    "plt.legend(loc='lower right')\n",
    "nbtest_tmpvar_15 = plt.gcf()\n",
    "nbtest.assert_plot_equal(nbtest_tmpvar_15, '/home/verve/ml_nb_testing/comp_analysis/nbtest-gen/example/op/reference_plot_nbtest_tmpvar_15.png', tol=0.9483862808689512, test_id='35')\n",
    "plt.show()\n",
    "print(sklearn.metrics.roc_auc_score(y_test, y_pred))\n",
    "nbtest.assert_allclose(sklearn.metrics.roc_auc_score(y_test, y_pred), 0.7755074238626871, atol=0.29779334332832824, test_id='36')"
   ]
  },
  {
   "cell_type": "code",
   "execution_count": null,
   "id": "335145c0",
   "metadata": {},
   "outputs": [],
   "source": [
    "from sklearn.naive_bayes import GaussianNB\n",
    "gnb = GaussianNB()\n",
    "nbtest_tmpvar_16 = gnb.fit(X_train, y_train)\n",
    "nbtest.assert_sklearn_model(nbtest_tmpvar_16, '/home/verve/ml_nb_testing/comp_analysis/nbtest-gen/example/op/sklearn_model_37.pkl', test_id='37')\n",
    "y_pred = gnb.predict(X_test)\n",
    "cm = confusion_matrix(y_test, y_pred, labels=gnb.classes_)\n",
    "disp = ConfusionMatrixDisplay(confusion_matrix=cm, display_labels=gnb.classes_)\n",
    "disp.plot(cmap='YlGnBu')\n",
    "nbtest_tmpvar_17 = plt.gcf()\n",
    "nbtest.assert_plot_equal(nbtest_tmpvar_17, '/home/verve/ml_nb_testing/comp_analysis/nbtest-gen/example/op/reference_plot_nbtest_tmpvar_17.png', tol=17.260492858074375, test_id='38')\n",
    "plt.show()\n",
    "print()\n",
    "print('accuracy: ', accuracy_score(y_test, y_pred))\n",
    "nbtest.assert_allclose(accuracy_score(y_test, y_pred), 0.8099999999999999, atol=0.08944271909999145, test_id='39')"
   ]
  },
  {
   "cell_type": "code",
   "execution_count": null,
   "id": "53dbe050",
   "metadata": {},
   "outputs": [],
   "source": [
    "import matplotlib.pyplot as plt\n",
    "y_proba = gnb.predict_proba(X_test)\n",
    "fpr, tpr, thresholds = roc_curve(y_test, y_proba[:, 1], pos_label=1)\n",
    "roc_auc = auc(fpr, tpr)\n",
    "nbtest.assert_allclose(roc_auc, 0.8392267869800765, atol=0.20856929210932415, test_id='40')\n",
    "plt.figure(figsize=(10, 6))\n",
    "plt.plot(fpr, tpr, color='darkorange', lw=2, label='ROC curve (area = {:.2f})'.format(roc_auc))\n",
    "plt.plot([0, 1], [0, 1], color='navy', lw=2, linestyle='--')\n",
    "plt.xlim([0.0, 1.0])\n",
    "plt.ylim([0.0, 1.05])\n",
    "plt.xlabel('False Positive Rate')\n",
    "plt.ylabel('True Positive Rate')\n",
    "plt.title('Receiver Operating Characteristic (ROC) Curve')\n",
    "plt.legend(loc='lower right')\n",
    "nbtest_tmpvar_18 = plt.gcf()\n",
    "nbtest.assert_plot_equal(nbtest_tmpvar_18, '/home/verve/ml_nb_testing/comp_analysis/nbtest-gen/example/op/reference_plot_nbtest_tmpvar_18.png', tol=1.4747673034099207, test_id='41')\n",
    "plt.show()\n",
    "print(sklearn.metrics.roc_auc_score(y_test, y_pred))\n",
    "nbtest.assert_allclose(sklearn.metrics.roc_auc_score(y_test, y_pred), 0.7580974215842637, atol=0.09938234537853743, test_id='42')"
   ]
  },
  {
   "cell_type": "code",
   "execution_count": null,
   "id": "fcdebffc",
   "metadata": {},
   "outputs": [],
   "source": [
    "from sklearn.tree import DecisionTreeClassifier\n",
    "dtc = DecisionTreeClassifier(criterion='entropy', random_state=10)\n",
    "nbtest_tmpvar_19 = dtc.fit(X_train, y_train)\n",
    "nbtest.assert_sklearn_model(nbtest_tmpvar_19, '/home/verve/ml_nb_testing/comp_analysis/nbtest-gen/example/op/sklearn_model_43.pkl', test_id='43')\n",
    "y_pred = dtc.predict(X_test)\n",
    "cm = confusion_matrix(y_test, y_pred, labels=dtc.classes_)\n",
    "disp = ConfusionMatrixDisplay(confusion_matrix=cm, display_labels=dtc.classes_)\n",
    "disp.plot(cmap='YlGnBu')\n",
    "nbtest_tmpvar_20 = plt.gcf()\n",
    "nbtest.assert_plot_equal(nbtest_tmpvar_20, '/home/verve/ml_nb_testing/comp_analysis/nbtest-gen/example/op/reference_plot_nbtest_tmpvar_20.png', tol=23.318500904392362, test_id='44')\n",
    "plt.show()\n",
    "print()\n",
    "print('accuracy: ', accuracy_score(y_test, y_pred))\n",
    "nbtest.assert_allclose(accuracy_score(y_test, y_pred), 0.76, atol=0.16733200530681513, test_id='45')"
   ]
  },
  {
   "cell_type": "code",
   "execution_count": null,
   "id": "487628f3",
   "metadata": {},
   "outputs": [],
   "source": [
    "import matplotlib.pyplot as plt\n",
    "y_proba = dtc.predict_proba(X_test)\n",
    "fpr, tpr, thresholds = roc_curve(y_test, y_proba[:, 1], pos_label=1)\n",
    "roc_auc = auc(fpr, tpr)\n",
    "nbtest.assert_allclose(roc_auc, 0.734294922913344, atol=0.11849631924549342, test_id='46')\n",
    "plt.figure(figsize=(10, 6))\n",
    "plt.plot(fpr, tpr, color='darkorange', lw=2, label='ROC curve (area = {:.2f})'.format(roc_auc))\n",
    "plt.plot([0, 1], [0, 1], color='navy', lw=2, linestyle='--')\n",
    "plt.xlim([0.0, 1.0])\n",
    "plt.ylim([0.0, 1.05])\n",
    "plt.xlabel('False Positive Rate')\n",
    "plt.ylabel('True Positive Rate')\n",
    "plt.title('Receiver Operating Characteristic (ROC) Curve')\n",
    "plt.legend(loc='lower right')\n",
    "nbtest_tmpvar_21 = plt.gcf()\n",
    "nbtest.assert_plot_equal(nbtest_tmpvar_21, '/home/verve/ml_nb_testing/comp_analysis/nbtest-gen/example/op/reference_plot_nbtest_tmpvar_21.png', tol=9.974209443813443, test_id='47')\n",
    "plt.show()\n",
    "print(sklearn.metrics.roc_auc_score(y_test, y_pred))\n",
    "nbtest.assert_allclose(sklearn.metrics.roc_auc_score(y_test, y_pred), 0.734294922913344, atol=0.11849631924549342, test_id='48')"
   ]
  },
  {
   "cell_type": "code",
   "execution_count": null,
   "id": "6b0d7f5c",
   "metadata": {},
   "outputs": [],
   "source": [
    "from sklearn.ensemble import RandomForestClassifier\n",
    "rfc = RandomForestClassifier(n_estimators=35, criterion='entropy', random_state=24)\n",
    "nbtest_tmpvar_22 = rfc.fit(X_train, y_train)\n",
    "nbtest.assert_sklearn_model(nbtest_tmpvar_22, '/home/verve/ml_nb_testing/comp_analysis/nbtest-gen/example/op/sklearn_model_49.pkl', test_id='49')\n",
    "y_pred = rfc.predict(X_test)\n",
    "cm = confusion_matrix(y_test, y_pred, labels=rfc.classes_)\n",
    "disp = ConfusionMatrixDisplay(confusion_matrix=cm, display_labels=rfc.classes_)\n",
    "disp.plot(cmap='YlGnBu')\n",
    "nbtest_tmpvar_23 = plt.gcf()\n",
    "nbtest.assert_plot_equal(nbtest_tmpvar_23, '/home/verve/ml_nb_testing/comp_analysis/nbtest-gen/example/op/reference_plot_nbtest_tmpvar_23.png', tol=27.44728481568448, test_id='50')\n",
    "plt.show()\n",
    "print()\n",
    "print('accuracy: ', accuracy_score(y_test, y_pred))\n",
    "nbtest.assert_allclose(accuracy_score(y_test, y_pred), 0.7833333333333334, atol=0.24944382578492927, test_id='51')"
   ]
  },
  {
   "cell_type": "code",
   "execution_count": null,
   "id": "784b8b25",
   "metadata": {},
   "outputs": [],
   "source": [
    "import matplotlib.pyplot as plt\n",
    "y_proba = rfc.predict_proba(X_test)\n",
    "fpr, tpr, thresholds = roc_curve(y_test, y_proba[:, 1], pos_label=1)\n",
    "roc_auc = auc(fpr, tpr)\n",
    "nbtest.assert_allclose(roc_auc, 0.8649053679020783, atol=0.2886294155083467, test_id='52')\n",
    "plt.figure(figsize=(10, 6))\n",
    "plt.plot(fpr, tpr, color='darkorange', lw=2, label='ROC curve (area = {:.2f})'.format(roc_auc))\n",
    "plt.plot([0, 1], [0, 1], color='navy', lw=2, linestyle='--')\n",
    "plt.xlim([0.0, 1.0])\n",
    "plt.ylim([0.0, 1.05])\n",
    "plt.xlabel('False Positive Rate')\n",
    "plt.ylabel('True Positive Rate')\n",
    "plt.title('Receiver Operating Characteristic (ROC) Curve')\n",
    "plt.legend(loc='lower right')\n",
    "nbtest_tmpvar_24 = plt.gcf()\n",
    "nbtest.assert_plot_equal(nbtest_tmpvar_24, '/home/verve/ml_nb_testing/comp_analysis/nbtest-gen/example/op/reference_plot_nbtest_tmpvar_24.png', tol=3.2038784193697003, test_id='53')\n",
    "plt.show()\n",
    "print(sklearn.metrics.roc_auc_score(y_test, y_pred))\n",
    "nbtest.assert_allclose(sklearn.metrics.roc_auc_score(y_test, y_pred), 0.7656695716564138, atol=0.2053773449540554, test_id='54')"
   ]
  }
 ],
 "metadata": {},
 "nbformat": 4,
 "nbformat_minor": 5
}
