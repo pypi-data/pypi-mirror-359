{
 "cells": [
  {
   "cell_type": "code",
   "execution_count": 1,
   "id": "1fd92156",
   "metadata": {},
   "outputs": [],
   "source": [
    "import nbtest\n",
    "import json\n",
    "import numpy as np\n",
    "random_seed = np.random.randint(10000)"
   ]
  },
  {
   "cell_type": "code",
   "execution_count": 2,
   "id": "cd0586b3",
   "metadata": {},
   "outputs": [],
   "source": [
    "import numpy as np\n",
    "import pandas as pd\n",
    "import matplotlib.pyplot as plt\n",
    "import seaborn as sns\n",
    "from sklearn.impute import SimpleImputer\n",
    "import missingno as msno\n",
    "from sklearn.metrics import mean_squared_error, r2_score\n",
    "from sklearn.model_selection import train_test_split, cross_val_score\n",
    "from sklearn.preprocessing import StandardScaler\n",
    "from sklearn.linear_model import LinearRegression\n",
    "from sklearn.svm import SVR\n",
    "from sklearn.tree import DecisionTreeRegressor\n",
    "from sklearn.ensemble import RandomForestRegressor\n",
    "from sklearn.preprocessing import PolynomialFeatures\n",
    "import warnings\n",
    "warnings.filterwarnings('ignore')"
   ]
  },
  {
   "cell_type": "code",
   "execution_count": 3,
   "id": "36005fd5",
   "metadata": {},
   "outputs": [],
   "source": [
    "train_df = pd.read_csv('./input/train.csv')\n",
    "nbtest.assert_df_var(train_df, 1010233951.91292, atol=0.0, test_id='4')\n",
    "nbtest.assert_df_mean(train_df, 5457.8776753972, atol=0.0, test_id='3')\n",
    "nbtest.assert_column_types(train_df, [\n",
    "    'int64', 'int64', 'int64', 'object', 'int64', 'object', 'object', \n",
    "     'object', 'int64', 'int64', 'object', 'object', 'int64', 'int64', \n",
    "    'object', 'int64', 'object', 'object', 'object', 'object', 'int64',\n",
    "    'object', 'object', 'object', 'object', 'object', 'object', 'int64',\n",
    "    'object', 'int64', 'object', 'int64', 'int64', 'object', 'object', \n",
    "    'object', 'object', 'float64', 'int64', 'int64', 'object', 'object',\n",
    "    'object', 'int64', 'int64', 'object', 'object', 'object', 'int64',\n",
    "    'object', 'float64', 'object', 'int64', 'int64', 'object', 'float64', \n",
    "    'object', 'object', 'int64', 'int64', 'object', 'int64', 'int64', \n",
    "    'int64', 'object', 'int64', 'object', 'object', 'object', 'object', \n",
    "    'int64', 'object', 'int64', 'object', 'int64', 'int64', 'object', \n",
    "    'int64', 'int64', 'int64', 'int64'], test_id='2')\n",
    "nbtest.assert_column_names(train_df, [\n",
    "    '1stFlrSF', '2ndFlrSF', '3SsnPorch', 'Alley', 'BedroomAbvGr', \n",
    "    'BldgType', 'BsmtCond', 'BsmtExposure', 'BsmtFinSF1', 'BsmtFinSF2',\n",
    "    'BsmtFinType1', 'BsmtFinType2', 'BsmtFullBath', 'BsmtHalfBath', \n",
    "    'BsmtQual', 'BsmtUnfSF', 'CentralAir', 'Condition1', 'Condition2', \n",
    "    'Electrical', 'EnclosedPorch', 'ExterCond', 'ExterQual', \n",
    "    'Exterior1st', 'Exterior2nd', 'Fence', 'FireplaceQu', 'Fireplaces',\n",
    "    'Foundation', 'FullBath', 'Functional', 'GarageArea', 'GarageCars',\n",
    "    'GarageCond', 'GarageFinish', 'GarageQual', 'GarageType', \n",
    "    'GarageYrBlt', 'GrLivArea', 'HalfBath', 'Heating', 'HeatingQC', \n",
    "    'HouseStyle', 'Id', 'KitchenAbvGr', 'KitchenQual', 'LandContour', \n",
    "    'LandSlope', 'LotArea', 'LotConfig', 'LotFrontage', 'LotShape', \n",
    "    'LowQualFinSF', 'MSSubClass', 'MSZoning', 'MasVnrArea', 'MasVnrType', \n",
    "    'MiscFeature', 'MiscVal', 'MoSold', 'Neighborhood','OpenPorchSF', 'OverallCond', 'OverallQual', 'PavedDrive', \n",
    "    'PoolArea', 'PoolQC', 'RoofMatl', 'RoofStyle', 'SaleCondition', \n",
    "    'SalePrice', 'SaleType', 'ScreenPorch', 'Street', 'TotRmsAbvGrd', \n",
    "    'TotalBsmtSF', 'Utilities', 'WoodDeckSF', 'YearBuilt', \n",
    "    'YearRemodAdd', 'YrSold'], test_id='1')\n",
    "nbtest.assert_shape(train_df, (1460, 81), test_id='0')"
   ]
  },
  {
   "cell_type": "code",
   "execution_count": 4,
   "id": "73a02151",
   "metadata": {},
   "outputs": [],
   "source": [
    "nbtest_tmpvar_0 = train_df.head(10)\n",
    "nbtest.assert_df_var(nbtest_tmpvar_0, np.float64(1010819066.8543522), atol=np.float64(0.0), test_id='9')\n",
    "nbtest.assert_df_mean(nbtest_tmpvar_0, np.float64(5668.179419525066), atol=np.float64(0.0), test_id='8')\n",
    "nbtest.assert_column_types(nbtest_tmpvar_0, ['int64', 'int64', 'int64', 'object', 'int64', 'object', 'object', 'object', 'int64', 'int64', 'object', 'object', 'int64', 'int64', 'object', 'int64', 'object', 'object', 'object', 'object', 'int64', 'object', 'object', 'object', 'object', 'object', 'object', 'int64', 'object', 'int64', 'object', 'int64', 'int64', 'object', 'object', 'object', 'object', 'float64', 'int64', 'int64', 'object', 'object', 'object', 'int64', 'int64', 'object', 'object', 'object', 'int64', 'object', 'float64', 'object', 'int64', 'int64', 'object', 'float64', 'object', 'object', 'int64', 'int64', 'object', 'int64', 'int64', 'int64', 'object', 'int64', 'object', 'object', 'object', 'object', 'int64', 'object', 'int64', 'object', 'int64', 'int64', 'object', 'int64', 'int64', 'int64', 'int64'], test_id='7')\n",
    "nbtest.assert_column_names(nbtest_tmpvar_0, ['1stFlrSF', '2ndFlrSF', '3SsnPorch', 'Alley', 'BedroomAbvGr', 'BldgType', 'BsmtCond', 'BsmtExposure', 'BsmtFinSF1', 'BsmtFinSF2', 'BsmtFinType1', 'BsmtFinType2', 'BsmtFullBath', 'BsmtHalfBath', 'BsmtQual', 'BsmtUnfSF', 'CentralAir', 'Condition1', 'Condition2', 'Electrical', 'EnclosedPorch', 'ExterCond', 'ExterQual', 'Exterior1st', 'Exterior2nd', 'Fence', 'FireplaceQu', 'Fireplaces', 'Foundation', 'FullBath', 'Functional', 'GarageArea', 'GarageCars', 'GarageCond', 'GarageFinish', 'GarageQual', 'GarageType', 'GarageYrBlt', 'GrLivArea', 'HalfBath', 'Heating', 'HeatingQC', 'HouseStyle', 'Id', 'KitchenAbvGr', 'KitchenQual', 'LandContour', 'LandSlope', 'LotArea', 'LotConfig', 'LotFrontage', 'LotShape', 'LowQualFinSF', 'MSSubClass', 'MSZoning', 'MasVnrArea', 'MasVnrType', 'MiscFeature', 'MiscVal', 'MoSold', 'Neighborhood', 'OpenPorchSF', 'OverallCond', 'OverallQual', 'PavedDrive', 'PoolArea', 'PoolQC', 'RoofMatl', 'RoofStyle', 'SaleCondition', 'SalePrice', 'SaleType', 'ScreenPorch', 'Street', 'TotRmsAbvGrd', 'TotalBsmtSF', 'Utilities', 'WoodDeckSF', 'YearBuilt', 'YearRemodAdd', 'YrSold'], test_id='6')\n",
    "nbtest.assert_shape(nbtest_tmpvar_0, (10, 81), test_id='5')"
   ]
  },
  {
   "cell_type": "code",
   "execution_count": 5,
   "id": "d1140bc0",
   "metadata": {},
   "outputs": [],
   "source": [
    "train_df = train_df.drop('Id', axis=1)"
   ]
  },
  {
   "cell_type": "code",
   "execution_count": 6,
   "id": "ddfa6829",
   "metadata": {},
   "outputs": [],
   "source": [
    "nbtest_tmpvar_1 = train_df.head(3)\n",
    "nbtest.assert_df_var(nbtest_tmpvar_1, np.float64(1103547059.2994075), atol=np.float64(0.0), test_id='14')\n",
    "nbtest.assert_df_mean(nbtest_tmpvar_1, np.float64(6172.873873873874), atol=np.float64(0.0), test_id='13')\n",
    "nbtest.assert_column_types(nbtest_tmpvar_1, ['int64', 'int64', 'int64', 'object', 'int64', 'object', 'object', 'object', 'int64', 'int64', 'object', 'object', 'int64', 'int64', 'object', 'int64', 'object', 'object', 'object', 'object', 'int64', 'object', 'object', 'object', 'object', 'object', 'object', 'int64', 'object', 'int64', 'object', 'int64', 'int64', 'object', 'object', 'object', 'object', 'float64', 'int64', 'int64', 'object', 'object', 'object', 'int64', 'object', 'object', 'object', 'int64', 'object', 'float64', 'object', 'int64', 'int64', 'object', 'float64', 'object', 'object', 'int64', 'int64', 'object', 'int64', 'int64', 'int64', 'object', 'int64', 'object', 'object', 'object', 'object', 'int64', 'object', 'int64', 'object', 'int64', 'int64', 'object', 'int64', 'int64', 'int64', 'int64'], test_id='12')\n",
    "nbtest.assert_column_names(nbtest_tmpvar_1, ['1stFlrSF', '2ndFlrSF', '3SsnPorch', 'Alley', 'BedroomAbvGr', 'BldgType', 'BsmtCond', 'BsmtExposure', 'BsmtFinSF1', 'BsmtFinSF2', 'BsmtFinType1', 'BsmtFinType2', 'BsmtFullBath', 'BsmtHalfBath', 'BsmtQual', 'BsmtUnfSF', 'CentralAir', 'Condition1', 'Condition2', 'Electrical', 'EnclosedPorch', 'ExterCond', 'ExterQual', 'Exterior1st', 'Exterior2nd', 'Fence', 'FireplaceQu', 'Fireplaces', 'Foundation', 'FullBath', 'Functional', 'GarageArea', 'GarageCars', 'GarageCond', 'GarageFinish', 'GarageQual', 'GarageType', 'GarageYrBlt', 'GrLivArea', 'HalfBath', 'Heating', 'HeatingQC', 'HouseStyle', 'KitchenAbvGr', 'KitchenQual', 'LandContour', 'LandSlope', 'LotArea', 'LotConfig', 'LotFrontage', 'LotShape', 'LowQualFinSF', 'MSSubClass', 'MSZoning', 'MasVnrArea', 'MasVnrType', 'MiscFeature', 'MiscVal', 'MoSold', 'Neighborhood', 'OpenPorchSF', 'OverallCond', 'OverallQual', 'PavedDrive', 'PoolArea', 'PoolQC', 'RoofMatl', 'RoofStyle', 'SaleCondition', 'SalePrice', 'SaleType', 'ScreenPorch', 'Street', 'TotRmsAbvGrd', 'TotalBsmtSF', 'Utilities', 'WoodDeckSF', 'YearBuilt', 'YearRemodAdd', 'YrSold'], test_id='11')\n",
    "nbtest.assert_shape(nbtest_tmpvar_1, (3, 80), test_id='10')"
   ]
  },
  {
   "cell_type": "code",
   "execution_count": 10,
   "id": "9a608216",
   "metadata": {},
   "outputs": [
    {
     "ename": "AssertionError",
     "evalue": "\nItems are not equal:\nitem=1\n\n ACTUAL: 80\n DESIRED: 81",
     "output_type": "error",
     "traceback": [
      "\u001b[0;31m---------------------------------------------------------------------------\u001b[0m",
      "\u001b[0;31mAssertionError\u001b[0m                            Traceback (most recent call last)",
      "Cell \u001b[0;32mIn[10], line 2\u001b[0m\n\u001b[1;32m      1\u001b[0m train_df\u001b[38;5;241m.\u001b[39mshape\n\u001b[0;32m----> 2\u001b[0m \u001b[43mnbtest\u001b[49m\u001b[38;5;241;43m.\u001b[39;49m\u001b[43massert_shape\u001b[49m\u001b[43m(\u001b[49m\u001b[43mtrain_df\u001b[49m\u001b[43m,\u001b[49m\u001b[43m \u001b[49m\u001b[43m(\u001b[49m\u001b[38;5;241;43m1460\u001b[39;49m\u001b[43m,\u001b[49m\u001b[43m \u001b[49m\u001b[38;5;241;43m81\u001b[39;49m\u001b[43m)\u001b[49m\u001b[43m,\u001b[49m\u001b[43m \u001b[49m\u001b[43mtest_id\u001b[49m\u001b[38;5;241;43m=\u001b[39;49m\u001b[38;5;124;43m'\u001b[39;49m\u001b[38;5;124;43m15\u001b[39;49m\u001b[38;5;124;43m'\u001b[39;49m\u001b[43m)\u001b[49m\n",
      "File \u001b[0;32m~/ml_nb_testing/comp_analysis/nbtest-gen/nbtest_plugin/src/nbtest/nbtest.py:84\u001b[0m, in \u001b[0;36massert_shape\u001b[0;34m(a, b, err_msg, test_id)\u001b[0m\n\u001b[1;32m     82\u001b[0m     \u001b[38;5;28;01mpass\u001b[39;00m\n\u001b[1;32m     83\u001b[0m \u001b[38;5;28;01melse\u001b[39;00m:\n\u001b[0;32m---> 84\u001b[0m     \u001b[43mnp\u001b[49m\u001b[38;5;241;43m.\u001b[39;49m\u001b[43mtesting\u001b[49m\u001b[38;5;241;43m.\u001b[39;49m\u001b[43massert_equal\u001b[49m\u001b[43m(\u001b[49m\u001b[43ma\u001b[49m\u001b[38;5;241;43m.\u001b[39;49m\u001b[43mshape\u001b[49m\u001b[43m,\u001b[49m\u001b[43m \u001b[49m\u001b[43mb\u001b[49m\u001b[43m,\u001b[49m\u001b[43m \u001b[49m\u001b[43merr_msg\u001b[49m\u001b[38;5;241;43m=\u001b[39;49m\u001b[43merr_msg\u001b[49m\u001b[43m)\u001b[49m\n",
      "    \u001b[0;31m[... skipping hidden 1 frame]\u001b[0m\n",
      "File \u001b[0;32m~/miniconda3/envs/release/lib/python3.10/site-packages/numpy/testing/_private/utils.py:414\u001b[0m, in \u001b[0;36massert_equal\u001b[0;34m(actual, desired, err_msg, verbose, strict)\u001b[0m\n\u001b[1;32m    411\u001b[0m \u001b[38;5;28;01mtry\u001b[39;00m:\n\u001b[1;32m    412\u001b[0m     \u001b[38;5;66;03m# Explicitly use __eq__ for comparison, gh-2552\u001b[39;00m\n\u001b[1;32m    413\u001b[0m     \u001b[38;5;28;01mif\u001b[39;00m \u001b[38;5;129;01mnot\u001b[39;00m (desired \u001b[38;5;241m==\u001b[39m actual):\n\u001b[0;32m--> 414\u001b[0m         \u001b[38;5;28;01mraise\u001b[39;00m \u001b[38;5;167;01mAssertionError\u001b[39;00m(msg)\n\u001b[1;32m    416\u001b[0m \u001b[38;5;28;01mexcept\u001b[39;00m (\u001b[38;5;167;01mDeprecationWarning\u001b[39;00m, \u001b[38;5;167;01mFutureWarning\u001b[39;00m) \u001b[38;5;28;01mas\u001b[39;00m e:\n\u001b[1;32m    417\u001b[0m     \u001b[38;5;66;03m# this handles the case when the two types are not even comparable\u001b[39;00m\n\u001b[1;32m    418\u001b[0m     \u001b[38;5;28;01mif\u001b[39;00m \u001b[38;5;124m'\u001b[39m\u001b[38;5;124melementwise == comparison\u001b[39m\u001b[38;5;124m'\u001b[39m \u001b[38;5;129;01min\u001b[39;00m e\u001b[38;5;241m.\u001b[39margs[\u001b[38;5;241m0\u001b[39m]:\n",
      "\u001b[0;31mAssertionError\u001b[0m: \nItems are not equal:\nitem=1\n\n ACTUAL: 80\n DESIRED: 81"
     ]
    }
   ],
   "source": [
    "train_df.shape\n",
    "nbtest.assert_shape(train_df, (1460, 81), test_id='15')"
   ]
  },
  {
   "cell_type": "code",
   "execution_count": 15,
   "id": "cc3205f6",
   "metadata": {},
   "outputs": [],
   "source": [
    "train_df.drop_duplicates(inplace=True)"
   ]
  },
  {
   "cell_type": "code",
   "execution_count": 16,
   "id": "3e07e2ce",
   "metadata": {},
   "outputs": [],
   "source": [
    "nbtest_tmpvar_3 = train_df.dtypes.value_counts()\n",
    "nbtest.assert_allclose(nbtest_tmpvar_3.sum(), np.float64(80.0), atol=np.float64(0.0), test_id='16')"
   ]
  },
  {
   "cell_type": "code",
   "execution_count": 17,
   "id": "ea290c97",
   "metadata": {},
   "outputs": [
    {
     "name": "stdout",
     "output_type": "stream",
     "text": [
      "<class 'pandas.core.frame.DataFrame'>\n",
      "RangeIndex: 1460 entries, 0 to 1459\n",
      "Data columns (total 80 columns):\n",
      " #   Column         Non-Null Count  Dtype  \n",
      "---  ------         --------------  -----  \n",
      " 0   MSSubClass     1460 non-null   int64  \n",
      " 1   MSZoning       1460 non-null   object \n",
      " 2   LotFrontage    1201 non-null   float64\n",
      " 3   LotArea        1460 non-null   int64  \n",
      " 4   Street         1460 non-null   object \n",
      " 5   Alley          91 non-null     object \n",
      " 6   LotShape       1460 non-null   object \n",
      " 7   LandContour    1460 non-null   object \n",
      " 8   Utilities      1460 non-null   object \n",
      " 9   LotConfig      1460 non-null   object \n",
      " 10  LandSlope      1460 non-null   object \n",
      " 11  Neighborhood   1460 non-null   object \n",
      " 12  Condition1     1460 non-null   object \n",
      " 13  Condition2     1460 non-null   object \n",
      " 14  BldgType       1460 non-null   object \n",
      " 15  HouseStyle     1460 non-null   object \n",
      " 16  OverallQual    1460 non-null   int64  \n",
      " 17  OverallCond    1460 non-null   int64  \n",
      " 18  YearBuilt      1460 non-null   int64  \n",
      " 19  YearRemodAdd   1460 non-null   int64  \n",
      " 20  RoofStyle      1460 non-null   object \n",
      " 21  RoofMatl       1460 non-null   object \n",
      " 22  Exterior1st    1460 non-null   object \n",
      " 23  Exterior2nd    1460 non-null   object \n",
      " 24  MasVnrType     588 non-null    object \n",
      " 25  MasVnrArea     1452 non-null   float64\n",
      " 26  ExterQual      1460 non-null   object \n",
      " 27  ExterCond      1460 non-null   object \n",
      " 28  Foundation     1460 non-null   object \n",
      " 29  BsmtQual       1423 non-null   object \n",
      " 30  BsmtCond       1423 non-null   object \n",
      " 31  BsmtExposure   1422 non-null   object \n",
      " 32  BsmtFinType1   1423 non-null   object \n",
      " 33  BsmtFinSF1     1460 non-null   int64  \n",
      " 34  BsmtFinType2   1422 non-null   object \n",
      " 35  BsmtFinSF2     1460 non-null   int64  \n",
      " 36  BsmtUnfSF      1460 non-null   int64  \n",
      " 37  TotalBsmtSF    1460 non-null   int64  \n",
      " 38  Heating        1460 non-null   object \n",
      " 39  HeatingQC      1460 non-null   object \n",
      " 40  CentralAir     1460 non-null   object \n",
      " 41  Electrical     1459 non-null   object \n",
      " 42  1stFlrSF       1460 non-null   int64  \n",
      " 43  2ndFlrSF       1460 non-null   int64  \n",
      " 44  LowQualFinSF   1460 non-null   int64  \n",
      " 45  GrLivArea      1460 non-null   int64  \n",
      " 46  BsmtFullBath   1460 non-null   int64  \n",
      " 47  BsmtHalfBath   1460 non-null   int64  \n",
      " 48  FullBath       1460 non-null   int64  \n",
      " 49  HalfBath       1460 non-null   int64  \n",
      " 50  BedroomAbvGr   1460 non-null   int64  \n",
      " 51  KitchenAbvGr   1460 non-null   int64  \n",
      " 52  KitchenQual    1460 non-null   object \n",
      " 53  TotRmsAbvGrd   1460 non-null   int64  \n",
      " 54  Functional     1460 non-null   object \n",
      " 55  Fireplaces     1460 non-null   int64  \n",
      " 56  FireplaceQu    770 non-null    object \n",
      " 57  GarageType     1379 non-null   object \n",
      " 58  GarageYrBlt    1379 non-null   float64\n",
      " 59  GarageFinish   1379 non-null   object \n",
      " 60  GarageCars     1460 non-null   int64  \n",
      " 61  GarageArea     1460 non-null   int64  \n",
      " 62  GarageQual     1379 non-null   object \n",
      " 63  GarageCond     1379 non-null   object \n",
      " 64  PavedDrive     1460 non-null   object \n",
      " 65  WoodDeckSF     1460 non-null   int64  \n",
      " 66  OpenPorchSF    1460 non-null   int64  \n",
      " 67  EnclosedPorch  1460 non-null   int64  \n",
      " 68  3SsnPorch      1460 non-null   int64  \n",
      " 69  ScreenPorch    1460 non-null   int64  \n",
      " 70  PoolArea       1460 non-null   int64  \n",
      " 71  PoolQC         7 non-null      object \n",
      " 72  Fence          281 non-null    object \n",
      " 73  MiscFeature    54 non-null     object \n",
      " 74  MiscVal        1460 non-null   int64  \n",
      " 75  MoSold         1460 non-null   int64  \n",
      " 76  YrSold         1460 non-null   int64  \n",
      " 77  SaleType       1460 non-null   object \n",
      " 78  SaleCondition  1460 non-null   object \n",
      " 79  SalePrice      1460 non-null   int64  \n",
      "dtypes: float64(3), int64(34), object(43)\n",
      "memory usage: 912.6+ KB\n"
     ]
    }
   ],
   "source": [
    "train_df.info()"
   ]
  },
  {
   "cell_type": "code",
   "execution_count": 18,
   "id": "45e6efc2",
   "metadata": {},
   "outputs": [
    {
     "name": "stdout",
     "output_type": "stream",
     "text": [
      "['MSSubClass', 'LotFrontage', 'LotArea', 'OverallQual', 'OverallCond', 'YearBuilt', 'YearRemodAdd', 'MasVnrArea', 'BsmtFinSF1', 'BsmtFinSF2', 'BsmtUnfSF', 'TotalBsmtSF', '1stFlrSF', '2ndFlrSF', 'LowQualFinSF', 'GrLivArea', 'BsmtFullBath', 'BsmtHalfBath', 'FullBath', 'HalfBath', 'BedroomAbvGr', 'KitchenAbvGr', 'TotRmsAbvGrd', 'Fireplaces', 'GarageYrBlt', 'GarageCars', 'GarageArea', 'WoodDeckSF', 'OpenPorchSF', 'EnclosedPorch', '3SsnPorch', 'ScreenPorch', 'PoolArea', 'MiscVal', 'MoSold', 'YrSold', 'SalePrice']\n"
     ]
    }
   ],
   "source": [
    "numerical_features = list(train_df.select_dtypes(include=['float64', 'int64']).columns)\n",
    "print(numerical_features)\n",
    "nbtest.assert_equal(numerical_features, ['MSSubClass', 'LotFrontage', 'LotArea', 'OverallQual', 'OverallCond', 'YearBuilt', 'YearRemodAdd', 'MasVnrArea', 'BsmtFinSF1', 'BsmtFinSF2', 'BsmtUnfSF', 'TotalBsmtSF', '1stFlrSF', '2ndFlrSF', 'LowQualFinSF', 'GrLivArea', 'BsmtFullBath', 'BsmtHalfBath', 'FullBath', 'HalfBath', 'BedroomAbvGr', 'KitchenAbvGr', 'TotRmsAbvGrd', 'Fireplaces', 'GarageYrBlt', 'GarageCars', 'GarageArea', 'WoodDeckSF', 'OpenPorchSF', 'EnclosedPorch', '3SsnPorch', 'ScreenPorch', 'PoolArea', 'MiscVal', 'MoSold', 'YrSold', 'SalePrice'], test_id='17')"
   ]
  },
  {
   "cell_type": "code",
   "execution_count": 19,
   "id": "cf3d169c",
   "metadata": {},
   "outputs": [
    {
     "name": "stdout",
     "output_type": "stream",
     "text": [
      "['MSZoning', 'Street', 'Alley', 'LotShape', 'LandContour', 'Utilities', 'LotConfig', 'LandSlope', 'Neighborhood', 'Condition1', 'Condition2', 'BldgType', 'HouseStyle', 'RoofStyle', 'RoofMatl', 'Exterior1st', 'Exterior2nd', 'MasVnrType', 'ExterQual', 'ExterCond', 'Foundation', 'BsmtQual', 'BsmtCond', 'BsmtExposure', 'BsmtFinType1', 'BsmtFinType2', 'Heating', 'HeatingQC', 'CentralAir', 'Electrical', 'KitchenQual', 'Functional', 'FireplaceQu', 'GarageType', 'GarageFinish', 'GarageQual', 'GarageCond', 'PavedDrive', 'PoolQC', 'Fence', 'MiscFeature', 'SaleType', 'SaleCondition']\n"
     ]
    }
   ],
   "source": [
    "categorical_features = list(train_df.select_dtypes(exclude=['float64', 'int64']).columns)\n",
    "print(categorical_features)\n",
    "nbtest.assert_equal(categorical_features, ['MSZoning', 'Street', 'Alley', 'LotShape', 'LandContour', 'Utilities', 'LotConfig', 'LandSlope', 'Neighborhood', 'Condition1', 'Condition2', 'BldgType', 'HouseStyle', 'RoofStyle', 'RoofMatl', 'Exterior1st', 'Exterior2nd', 'MasVnrType', 'ExterQual', 'ExterCond', 'Foundation', 'BsmtQual', 'BsmtCond', 'BsmtExposure', 'BsmtFinType1', 'BsmtFinType2', 'Heating', 'HeatingQC', 'CentralAir', 'Electrical', 'KitchenQual', 'Functional', 'FireplaceQu', 'GarageType', 'GarageFinish', 'GarageQual', 'GarageCond', 'PavedDrive', 'PoolQC', 'Fence', 'MiscFeature', 'SaleType', 'SaleCondition'], test_id='18')"
   ]
  },
  {
   "cell_type": "code",
   "execution_count": 22,
   "id": "ebd2a902",
   "metadata": {},
   "outputs": [
    {
     "ename": "AssertionError",
     "evalue": "\nNot equal to tolerance rtol=1e-07, atol=0\n\nMismatched elements: 1 / 1 (100%)\nMax absolute difference among violations: 0.1\nMax relative difference among violations: 1.27728602e-05\n ACTUAL: array(7829)\n DESIRED: array(7829.1)",
     "output_type": "error",
     "traceback": [
      "\u001b[0;31m---------------------------------------------------------------------------\u001b[0m",
      "\u001b[0;31mAssertionError\u001b[0m                            Traceback (most recent call last)",
      "Cell \u001b[0;32mIn[22], line 2\u001b[0m\n\u001b[1;32m      1\u001b[0m nbtest_tmpvar_5 \u001b[38;5;241m=\u001b[39m train_df\u001b[38;5;241m.\u001b[39misnull()\u001b[38;5;241m.\u001b[39msum()\n\u001b[0;32m----> 2\u001b[0m \u001b[43mnbtest\u001b[49m\u001b[38;5;241;43m.\u001b[39;49m\u001b[43massert_allclose\u001b[49m\u001b[43m(\u001b[49m\u001b[43mnbtest_tmpvar_5\u001b[49m\u001b[38;5;241;43m.\u001b[39;49m\u001b[43msum\u001b[49m\u001b[43m(\u001b[49m\u001b[43m)\u001b[49m\u001b[43m,\u001b[49m\u001b[43m \u001b[49m\u001b[43mnp\u001b[49m\u001b[38;5;241;43m.\u001b[39;49m\u001b[43mfloat64\u001b[49m\u001b[43m(\u001b[49m\u001b[38;5;241;43m7829.1\u001b[39;49m\u001b[43m)\u001b[49m\u001b[43m,\u001b[49m\u001b[43m \u001b[49m\u001b[43matol\u001b[49m\u001b[38;5;241;43m=\u001b[39;49m\u001b[43mnp\u001b[49m\u001b[38;5;241;43m.\u001b[39;49m\u001b[43mfloat64\u001b[49m\u001b[43m(\u001b[49m\u001b[38;5;241;43m0.0\u001b[39;49m\u001b[43m)\u001b[49m\u001b[43m,\u001b[49m\u001b[43m \u001b[49m\u001b[43mtest_id\u001b[49m\u001b[38;5;241;43m=\u001b[39;49m\u001b[38;5;124;43m'\u001b[39;49m\u001b[38;5;124;43m19\u001b[39;49m\u001b[38;5;124;43m'\u001b[39;49m\u001b[43m)\u001b[49m\n",
      "File \u001b[0;32m~/ml_nb_testing/comp_analysis/nbtest-gen/nbtest_plugin/src/nbtest/nbtest.py:33\u001b[0m, in \u001b[0;36massert_allclose\u001b[0;34m(a, b, rtol, atol, err_msg, type, test_id)\u001b[0m\n\u001b[1;32m     31\u001b[0m     \u001b[38;5;28;01mpass\u001b[39;00m\n\u001b[1;32m     32\u001b[0m \u001b[38;5;28;01melse\u001b[39;00m:\n\u001b[0;32m---> 33\u001b[0m     \u001b[43mnp\u001b[49m\u001b[38;5;241;43m.\u001b[39;49m\u001b[43mtesting\u001b[49m\u001b[38;5;241;43m.\u001b[39;49m\u001b[43massert_allclose\u001b[49m\u001b[43m(\u001b[49m\u001b[43ma\u001b[49m\u001b[43m,\u001b[49m\u001b[43m \u001b[49m\u001b[43mb\u001b[49m\u001b[43m,\u001b[49m\u001b[43m \u001b[49m\u001b[43mrtol\u001b[49m\u001b[38;5;241;43m=\u001b[39;49m\u001b[43mrtol\u001b[49m\u001b[43m,\u001b[49m\u001b[43m \u001b[49m\u001b[43matol\u001b[49m\u001b[38;5;241;43m=\u001b[39;49m\u001b[43matol\u001b[49m\u001b[43m,\u001b[49m\u001b[43m \u001b[49m\u001b[43merr_msg\u001b[49m\u001b[38;5;241;43m=\u001b[39;49m\u001b[43merr_msg\u001b[49m\u001b[43m)\u001b[49m\n",
      "    \u001b[0;31m[... skipping hidden 1 frame]\u001b[0m\n",
      "File \u001b[0;32m~/miniconda3/envs/release/lib/python3.10/contextlib.py:79\u001b[0m, in \u001b[0;36mContextDecorator.__call__.<locals>.inner\u001b[0;34m(*args, **kwds)\u001b[0m\n\u001b[1;32m     76\u001b[0m \u001b[38;5;129m@wraps\u001b[39m(func)\n\u001b[1;32m     77\u001b[0m \u001b[38;5;28;01mdef\u001b[39;00m\u001b[38;5;250m \u001b[39m\u001b[38;5;21minner\u001b[39m(\u001b[38;5;241m*\u001b[39margs, \u001b[38;5;241m*\u001b[39m\u001b[38;5;241m*\u001b[39mkwds):\n\u001b[1;32m     78\u001b[0m     \u001b[38;5;28;01mwith\u001b[39;00m \u001b[38;5;28mself\u001b[39m\u001b[38;5;241m.\u001b[39m_recreate_cm():\n\u001b[0;32m---> 79\u001b[0m         \u001b[38;5;28;01mreturn\u001b[39;00m \u001b[43mfunc\u001b[49m\u001b[43m(\u001b[49m\u001b[38;5;241;43m*\u001b[39;49m\u001b[43margs\u001b[49m\u001b[43m,\u001b[49m\u001b[43m \u001b[49m\u001b[38;5;241;43m*\u001b[39;49m\u001b[38;5;241;43m*\u001b[39;49m\u001b[43mkwds\u001b[49m\u001b[43m)\u001b[49m\n",
      "File \u001b[0;32m~/miniconda3/envs/release/lib/python3.10/site-packages/numpy/testing/_private/utils.py:885\u001b[0m, in \u001b[0;36massert_array_compare\u001b[0;34m(comparison, x, y, err_msg, verbose, header, precision, equal_nan, equal_inf, strict, names)\u001b[0m\n\u001b[1;32m    880\u001b[0m         err_msg \u001b[38;5;241m+\u001b[39m\u001b[38;5;241m=\u001b[39m \u001b[38;5;124m'\u001b[39m\u001b[38;5;130;01m\\n\u001b[39;00m\u001b[38;5;124m'\u001b[39m \u001b[38;5;241m+\u001b[39m \u001b[38;5;124m'\u001b[39m\u001b[38;5;130;01m\\n\u001b[39;00m\u001b[38;5;124m'\u001b[39m\u001b[38;5;241m.\u001b[39mjoin(remarks)\n\u001b[1;32m    881\u001b[0m         msg \u001b[38;5;241m=\u001b[39m build_err_msg([ox, oy], err_msg,\n\u001b[1;32m    882\u001b[0m                             verbose\u001b[38;5;241m=\u001b[39mverbose, header\u001b[38;5;241m=\u001b[39mheader,\n\u001b[1;32m    883\u001b[0m                             names\u001b[38;5;241m=\u001b[39mnames,\n\u001b[1;32m    884\u001b[0m                             precision\u001b[38;5;241m=\u001b[39mprecision)\n\u001b[0;32m--> 885\u001b[0m         \u001b[38;5;28;01mraise\u001b[39;00m \u001b[38;5;167;01mAssertionError\u001b[39;00m(msg)\n\u001b[1;32m    886\u001b[0m \u001b[38;5;28;01mexcept\u001b[39;00m \u001b[38;5;167;01mValueError\u001b[39;00m:\n\u001b[1;32m    887\u001b[0m     \u001b[38;5;28;01mimport\u001b[39;00m\u001b[38;5;250m \u001b[39m\u001b[38;5;21;01mtraceback\u001b[39;00m\n",
      "\u001b[0;31mAssertionError\u001b[0m: \nNot equal to tolerance rtol=1e-07, atol=0\n\nMismatched elements: 1 / 1 (100%)\nMax absolute difference among violations: 0.1\nMax relative difference among violations: 1.27728602e-05\n ACTUAL: array(7829)\n DESIRED: array(7829.1)"
     ]
    }
   ],
   "source": [
    "nbtest_tmpvar_5 = train_df.isnull().sum()\n",
    "nbtest.assert_allclose(nbtest_tmpvar_5.sum(), np.float64(7829.1), atol=np.float64(0.0), test_id='19')"
   ]
  },
  {
   "cell_type": "code",
   "execution_count": null,
   "id": "98ea86f4",
   "metadata": {},
   "outputs": [],
   "source": [
    "nbtest_tmpvar_6 = train_df.describe()\n",
    "nbtest.assert_df_var(nbtest_tmpvar_6, np.float64(2477680803.1303663), atol=np.float64(0.0), test_id='24')\n",
    "nbtest.assert_df_mean(nbtest_tmpvar_6, np.float64(6766.960801175723), atol=np.float64(0.0), test_id='23')\n",
    "nbtest.assert_column_types(nbtest_tmpvar_6, ['float64', 'float64', 'float64', 'float64', 'float64', 'float64', 'float64', 'float64', 'float64', 'float64', 'float64', 'float64', 'float64', 'float64', 'float64', 'float64', 'float64', 'float64', 'float64', 'float64', 'float64', 'float64', 'float64', 'float64', 'float64', 'float64', 'float64', 'float64', 'float64', 'float64', 'float64', 'float64', 'float64', 'float64', 'float64', 'float64', 'float64'], test_id='22')\n",
    "nbtest.assert_column_names(nbtest_tmpvar_6, ['1stFlrSF', '2ndFlrSF', '3SsnPorch', 'BedroomAbvGr', 'BsmtFinSF1', 'BsmtFinSF2', 'BsmtFullBath', 'BsmtHalfBath', 'BsmtUnfSF', 'EnclosedPorch', 'Fireplaces', 'FullBath', 'GarageArea', 'GarageCars', 'GarageYrBlt', 'GrLivArea', 'HalfBath', 'KitchenAbvGr', 'LotArea', 'LotFrontage', 'LowQualFinSF', 'MSSubClass', 'MasVnrArea', 'MiscVal', 'MoSold', 'OpenPorchSF', 'OverallCond', 'OverallQual', 'PoolArea', 'SalePrice', 'ScreenPorch', 'TotRmsAbvGrd', 'TotalBsmtSF', 'WoodDeckSF', 'YearBuilt', 'YearRemodAdd', 'YrSold'], test_id='21')\n",
    "nbtest.assert_shape(nbtest_tmpvar_6, (8, 37), test_id='20')"
   ]
  },
  {
   "cell_type": "code",
   "execution_count": null,
   "id": "a5ce8032",
   "metadata": {},
   "outputs": [],
   "source": [
    "numeric_df = train_df.select_dtypes(include=[float, int])\n",
    "nbtest_tmpvar_7 = numeric_df.corr()\n",
    "nbtest.assert_df_var(nbtest_tmpvar_7, np.float64(0.05950563856963451), atol=np.float64(0.0), test_id='29')\n",
    "nbtest.assert_df_mean(nbtest_tmpvar_7, np.float64(0.1289884890116645), atol=np.float64(0.0), test_id='28')\n",
    "nbtest.assert_column_types(nbtest_tmpvar_7, ['float64', 'float64', 'float64', 'float64', 'float64', 'float64', 'float64', 'float64', 'float64', 'float64', 'float64', 'float64', 'float64', 'float64', 'float64', 'float64', 'float64', 'float64', 'float64', 'float64', 'float64', 'float64', 'float64', 'float64', 'float64', 'float64', 'float64', 'float64', 'float64', 'float64', 'float64', 'float64', 'float64', 'float64', 'float64', 'float64', 'float64'], test_id='27')\n",
    "nbtest.assert_column_names(nbtest_tmpvar_7, ['1stFlrSF', '2ndFlrSF', '3SsnPorch', 'BedroomAbvGr', 'BsmtFinSF1', 'BsmtFinSF2', 'BsmtFullBath', 'BsmtHalfBath', 'BsmtUnfSF', 'EnclosedPorch', 'Fireplaces', 'FullBath', 'GarageArea', 'GarageCars', 'GarageYrBlt', 'GrLivArea', 'HalfBath', 'KitchenAbvGr', 'LotArea', 'LotFrontage', 'LowQualFinSF', 'MSSubClass', 'MasVnrArea', 'MiscVal', 'MoSold', 'OpenPorchSF', 'OverallCond', 'OverallQual', 'PoolArea', 'SalePrice', 'ScreenPorch', 'TotRmsAbvGrd', 'TotalBsmtSF', 'WoodDeckSF', 'YearBuilt', 'YearRemodAdd', 'YrSold'], test_id='26')\n",
    "nbtest.assert_shape(nbtest_tmpvar_7, (37, 37), test_id='25')"
   ]
  },
  {
   "cell_type": "code",
   "execution_count": null,
   "id": "5256f5be",
   "metadata": {},
   "outputs": [],
   "source": [
    "duplicated_columns = train_df.columns[train_df.columns.duplicated()]\n",
    "if len(duplicated_columns) > 0:\n",
    "    print(\"Duplicated columns:\", duplicated_columns)\n",
    "else:\n",
    "    print(\"No duplicated columns found.\")"
   ]
  },
  {
   "cell_type": "code",
   "execution_count": null,
   "id": "24413d41",
   "metadata": {},
   "outputs": [],
   "source": [
    "duplicated_rows = train_df[train_df.duplicated()]\n",
    "if not duplicated_rows.empty:\n",
    "    print(\"Duplicated rows:\")\n",
    "    print(duplicated_rows)\n",
    "else:\n",
    "    print(\"No duplicated rows found.\")"
   ]
  },
  {
   "cell_type": "code",
   "execution_count": null,
   "id": "89046fe9",
   "metadata": {},
   "outputs": [],
   "source": [
    "msno.matrix(train_df)"
   ]
  },
  {
   "cell_type": "code",
   "execution_count": null,
   "id": "90ef8fd2",
   "metadata": {},
   "outputs": [],
   "source": [
    "imputer = SimpleImputer(missing_values=np.nan, strategy='mean')\n",
    "null_numerical_columns = ['LotFrontage', 'MasVnrArea', 'GarageYrBlt']\n",
    "imputer.fit(train_df[null_numerical_columns])\n",
    "train_df[null_numerical_columns] = imputer.transform(train_df[null_numerical_columns])"
   ]
  },
  {
   "cell_type": "code",
   "execution_count": null,
   "id": "c46e0642",
   "metadata": {},
   "outputs": [],
   "source": [
    "imputer = SimpleImputer(missing_values=np.nan, strategy='most_frequent')\n",
    "null_catagorical_columns = ['Alley', 'MasVnrType', 'BsmtQual', 'BsmtCond', 'BsmtExposure', 'BsmtFinType1', 'BsmtFinType2', 'Electrical', 'FireplaceQu', 'GarageType', 'GarageFinish', 'GarageQual', 'GarageCond', 'PoolQC', 'Fence', 'MiscFeature']\n",
    "imputer.fit(train_df[null_catagorical_columns])\n",
    "train_df[null_catagorical_columns] = imputer.transform(train_df[null_catagorical_columns])"
   ]
  },
  {
   "cell_type": "code",
   "execution_count": null,
   "id": "41f91d4e",
   "metadata": {},
   "outputs": [],
   "source": [
    "nbtest_tmpvar_10 = train_df.isnull().sum().sum()\n",
    "nbtest.assert_allclose(nbtest_tmpvar_10, np.float64(0.0), atol=np.float64(0.0), test_id='30')"
   ]
  },
  {
   "cell_type": "code",
   "execution_count": null,
   "id": "87141ea5",
   "metadata": {},
   "outputs": [],
   "source": [
    "dummies = pd.get_dummies(train_df[categorical_features], drop_first=True)\n",
    "train_df = pd.concat([train_df, dummies], axis=1)\n",
    "train_df.drop(categorical_features, axis=1, inplace=True)\n",
    "nbtest_tmpvar_12 = train_df.head()\n",
    "nbtest.assert_df_var(nbtest_tmpvar_12, np.float64(1093361665.2591379), atol=np.float64(0.0), test_id='35')\n",
    "nbtest.assert_df_mean(nbtest_tmpvar_12, np.float64(6104.275675675675), atol=np.float64(0.0), test_id='34')\n",
    "nbtest.assert_column_types(nbtest_tmpvar_12, ['int64', 'int64', 'int64', 'bool', 'int64', 'bool', 'bool', 'bool', 'bool', 'bool', 'bool', 'bool', 'bool', 'bool', 'bool', 'int64', 'int64', 'bool', 'bool', 'bool', 'bool', 'bool', 'bool', 'bool', 'bool', 'bool', 'bool', 'int64', 'int64', 'bool', 'bool', 'bool', 'int64', 'bool', 'bool', 'bool', 'bool', 'bool', 'bool', 'bool', 'bool', 'bool', 'bool', 'bool', 'bool', 'bool', 'bool', 'bool', 'bool', 'bool', 'bool', 'bool', 'bool', 'int64', 'bool', 'bool', 'bool', 'bool', 'bool', 'bool', 'bool', 'bool', 'bool', 'bool', 'bool', 'bool', 'bool', 'bool', 'bool', 'bool', 'bool', 'bool', 'bool', 'bool', 'bool', 'bool', 'bool', 'bool', 'bool', 'bool', 'bool', 'bool', 'bool', 'bool', 'bool', 'bool', 'bool', 'bool', 'bool', 'bool', 'bool', 'bool', 'bool', 'bool', 'bool', 'bool', 'bool', 'int64', 'bool', 'bool', 'bool', 'bool', 'bool', 'int64', 'bool', 'bool', 'bool', 'bool', 'bool', 'bool', 'int64', 'int64', 'bool', 'bool', 'bool', 'bool', 'bool', 'bool', 'bool', 'bool', 'bool', 'bool', 'bool', 'bool', 'bool', 'bool', 'bool', 'float64', 'int64', 'int64', 'bool', 'bool', 'bool', 'bool', 'bool', 'bool', 'bool', 'bool', 'bool', 'bool', 'bool', 'bool', 'bool', 'bool', 'bool', 'bool', 'int64', 'bool', 'bool', 'bool', 'bool', 'bool', 'bool', 'bool', 'bool', 'int64', 'bool', 'bool', 'bool', 'bool', 'float64', 'bool', 'bool', 'bool', 'int64', 'int64', 'bool', 'bool', 'bool', 'bool', 'float64', 'bool', 'bool', 'bool', 'bool', 'bool', 'int64', 'int64', 'bool', 'bool', 'bool', 'bool', 'bool', 'bool', 'bool', 'bool', 'bool', 'bool', 'bool', 'bool', 'bool', 'bool', 'bool', 'bool', 'bool', 'bool', 'bool', 'bool', 'bool', 'bool', 'bool', 'bool', 'int64', 'int64', 'int64', 'bool', 'bool', 'int64', 'bool', 'bool', 'bool', 'bool', 'bool', 'bool', 'bool', 'bool', 'bool', 'bool', 'bool', 'bool', 'bool', 'bool', 'bool', 'bool', 'bool', 'bool', 'bool', 'int64', 'bool', 'bool', 'bool', 'bool', 'bool', 'bool', 'bool', 'bool', 'int64', 'bool', 'int64', 'int64', 'bool', 'int64', 'int64', 'int64', 'int64'], test_id='33')\n",
    "nbtest.assert_column_names(nbtest_tmpvar_12, ['1stFlrSF', '2ndFlrSF', '3SsnPorch', 'Alley_Pave', 'BedroomAbvGr', 'BldgType_2fmCon', 'BldgType_Duplex', 'BldgType_Twnhs', 'BldgType_TwnhsE', 'BsmtCond_Gd', 'BsmtCond_Po', 'BsmtCond_TA', 'BsmtExposure_Gd', 'BsmtExposure_Mn', 'BsmtExposure_No', 'BsmtFinSF1', 'BsmtFinSF2', 'BsmtFinType1_BLQ', 'BsmtFinType1_GLQ', 'BsmtFinType1_LwQ', 'BsmtFinType1_Rec', 'BsmtFinType1_Unf', 'BsmtFinType2_BLQ', 'BsmtFinType2_GLQ', 'BsmtFinType2_LwQ', 'BsmtFinType2_Rec', 'BsmtFinType2_Unf', 'BsmtFullBath', 'BsmtHalfBath', 'BsmtQual_Fa', 'BsmtQual_Gd', 'BsmtQual_TA', 'BsmtUnfSF', 'CentralAir_Y', 'Condition1_Feedr', 'Condition1_Norm', 'Condition1_PosA', 'Condition1_PosN', 'Condition1_RRAe', 'Condition1_RRAn', 'Condition1_RRNe', 'Condition1_RRNn', 'Condition2_Feedr', 'Condition2_Norm', 'Condition2_PosA', 'Condition2_PosN', 'Condition2_RRAe', 'Condition2_RRAn', 'Condition2_RRNn', 'Electrical_FuseF', 'Electrical_FuseP', 'Electrical_Mix', 'Electrical_SBrkr', 'EnclosedPorch', 'ExterCond_Fa', 'ExterCond_Gd', 'ExterCond_Po', 'ExterCond_TA', 'ExterQual_Fa', 'ExterQual_Gd', 'ExterQual_TA', 'Exterior1st_AsphShn', 'Exterior1st_BrkComm', 'Exterior1st_BrkFace', 'Exterior1st_CBlock', 'Exterior1st_CemntBd', 'Exterior1st_HdBoard', 'Exterior1st_ImStucc', 'Exterior1st_MetalSd', 'Exterior1st_Plywood', 'Exterior1st_Stone', 'Exterior1st_Stucco', 'Exterior1st_VinylSd', 'Exterior1st_Wd Sdng', 'Exterior1st_WdShing', 'Exterior2nd_AsphShn', 'Exterior2nd_Brk Cmn', 'Exterior2nd_BrkFace', 'Exterior2nd_CBlock', 'Exterior2nd_CmentBd', 'Exterior2nd_HdBoard', 'Exterior2nd_ImStucc', 'Exterior2nd_MetalSd', 'Exterior2nd_Other', 'Exterior2nd_Plywood', 'Exterior2nd_Stone', 'Exterior2nd_Stucco', 'Exterior2nd_VinylSd', 'Exterior2nd_Wd Sdng', 'Exterior2nd_Wd Shng', 'Fence_GdWo', 'Fence_MnPrv', 'Fence_MnWw', 'FireplaceQu_Fa', 'FireplaceQu_Gd', 'FireplaceQu_Po', 'FireplaceQu_TA', 'Fireplaces', 'Foundation_CBlock', 'Foundation_PConc', 'Foundation_Slab', 'Foundation_Stone', 'Foundation_Wood', 'FullBath', 'Functional_Maj2', 'Functional_Min1', 'Functional_Min2', 'Functional_Mod', 'Functional_Sev', 'Functional_Typ', 'GarageArea', 'GarageCars', 'GarageCond_Fa', 'GarageCond_Gd', 'GarageCond_Po', 'GarageCond_TA', 'GarageFinish_RFn', 'GarageFinish_Unf', 'GarageQual_Fa', 'GarageQual_Gd', 'GarageQual_Po', 'GarageQual_TA', 'GarageType_Attchd', 'GarageType_Basment', 'GarageType_BuiltIn', 'GarageType_CarPort', 'GarageType_Detchd', 'GarageYrBlt', 'GrLivArea', 'HalfBath', 'HeatingQC_Fa', 'HeatingQC_Gd', 'HeatingQC_Po', 'HeatingQC_TA', 'Heating_GasA', 'Heating_GasW', 'Heating_Grav', 'Heating_OthW', 'Heating_Wall', 'HouseStyle_1.5Unf', 'HouseStyle_1Story', 'HouseStyle_2.5Fin', 'HouseStyle_2.5Unf', 'HouseStyle_2Story', 'HouseStyle_SFoyer', 'HouseStyle_SLvl', 'KitchenAbvGr', 'KitchenQual_Fa', 'KitchenQual_Gd', 'KitchenQual_TA', 'LandContour_HLS', 'LandContour_Low', 'LandContour_Lvl', 'LandSlope_Mod', 'LandSlope_Sev', 'LotArea', 'LotConfig_CulDSac', 'LotConfig_FR2', 'LotConfig_FR3', 'LotConfig_Inside', 'LotFrontage', 'LotShape_IR2', 'LotShape_IR3', 'LotShape_Reg', 'LowQualFinSF', 'MSSubClass', 'MSZoning_FV', 'MSZoning_RH', 'MSZoning_RL', 'MSZoning_RM', 'MasVnrArea', 'MasVnrType_BrkFace', 'MasVnrType_Stone', 'MiscFeature_Othr', 'MiscFeature_Shed', 'MiscFeature_TenC', 'MiscVal', 'MoSold', 'Neighborhood_Blueste', 'Neighborhood_BrDale', 'Neighborhood_BrkSide', 'Neighborhood_ClearCr', 'Neighborhood_CollgCr', 'Neighborhood_Crawfor', 'Neighborhood_Edwards', 'Neighborhood_Gilbert', 'Neighborhood_IDOTRR', 'Neighborhood_MeadowV', 'Neighborhood_Mitchel', 'Neighborhood_NAmes', 'Neighborhood_NPkVill', 'Neighborhood_NWAmes', 'Neighborhood_NoRidge', 'Neighborhood_NridgHt', 'Neighborhood_OldTown', 'Neighborhood_SWISU', 'Neighborhood_Sawyer', 'Neighborhood_SawyerW', 'Neighborhood_Somerst', 'Neighborhood_StoneBr', 'Neighborhood_Timber', 'Neighborhood_Veenker', 'OpenPorchSF', 'OverallCond', 'OverallQual', 'PavedDrive_P', 'PavedDrive_Y', 'PoolArea', 'PoolQC_Fa', 'PoolQC_Gd', 'RoofMatl_CompShg', 'RoofMatl_Membran', 'RoofMatl_Metal', 'RoofMatl_Roll', 'RoofMatl_Tar&Grv', 'RoofMatl_WdShake', 'RoofMatl_WdShngl', 'RoofStyle_Gable', 'RoofStyle_Gambrel', 'RoofStyle_Hip', 'RoofStyle_Mansard', 'RoofStyle_Shed', 'SaleCondition_AdjLand', 'SaleCondition_Alloca', 'SaleCondition_Family', 'SaleCondition_Normal', 'SaleCondition_Partial', 'SalePrice', 'SaleType_CWD', 'SaleType_Con', 'SaleType_ConLD', 'SaleType_ConLI', 'SaleType_ConLw', 'SaleType_New', 'SaleType_Oth', 'SaleType_WD', 'ScreenPorch', 'Street_Pave', 'TotRmsAbvGrd', 'TotalBsmtSF', 'Utilities_NoSeWa', 'WoodDeckSF', 'YearBuilt', 'YearRemodAdd', 'YrSold'], test_id='32')\n",
    "nbtest.assert_shape(nbtest_tmpvar_12, (5, 245), test_id='31')"
   ]
  },
  {
   "cell_type": "code",
   "execution_count": null,
   "id": "ad291175",
   "metadata": {},
   "outputs": [],
   "source": [
    "sns.distplot(train_df['SalePrice']);"
   ]
  },
  {
   "cell_type": "code",
   "execution_count": null,
   "id": "4d432fc7",
   "metadata": {},
   "outputs": [],
   "source": [
    "plt.figure(figsize=(8, 6))\n",
    "plt.bar(train_df['OverallQual'], train_df['SalePrice'], color='skyblue')  # Create the bar plot\n",
    "plt.xlabel('OverallQual', fontsize=12)\n",
    "plt.ylabel('SalePrice', fontsize=12)\n",
    "plt.title('SalePrice vs OverallQual', fontsize=16) \n",
    "plt.show()"
   ]
  },
  {
   "cell_type": "code",
   "execution_count": null,
   "id": "2ccc45de",
   "metadata": {},
   "outputs": [],
   "source": [
    "plt.figure(figsize=(12, 6))  \n",
    "sns.lineplot(x=\"YearBuilt\", y=\"SalePrice\", data=train_df, label='SalePrice', marker='o', color='grey')\n",
    "plt.title(\"SalePrice vs YearBuilt\", fontsize=16)\n",
    "plt.xlabel(\"YearBuilt\", fontsize=12)\n",
    "plt.ylabel(\"SalePrice\", fontsize=12)\n",
    "plt.xticks(range(min(train_df['YearBuilt']), max(train_df['YearBuilt']) + 1, 10))  # Adjust the interval (e.g., 10 years)\n",
    "plt.legend()\n",
    "plt.tight_layout()\n",
    "plt.show()"
   ]
  },
  {
   "cell_type": "code",
   "execution_count": null,
   "id": "f12cf35f",
   "metadata": {},
   "outputs": [],
   "source": [
    "sns.set(style=\"whitegrid\")\n",
    "ax = sns.barplot(x=\"GarageCars\", y=\"SalePrice\", data=train_df, color='red')\n",
    "plt.title(\"SalePrice vs GarageCars\", fontsize=16)\n",
    "ax.set_xlabel(\"GarageCars\", fontsize=12)\n",
    "ax.set_ylabel(\"SalePrice\", fontsize=12)\n",
    "plt.tight_layout()\n",
    "plt.show()"
   ]
  },
  {
   "cell_type": "code",
   "execution_count": null,
   "id": "c7600e21",
   "metadata": {},
   "outputs": [],
   "source": [
    "X = train_df.drop('SalePrice', axis=1)\n",
    "y = train_df['SalePrice']"
   ]
  },
  {
   "cell_type": "code",
   "execution_count": null,
   "id": "aa5320b0",
   "metadata": {},
   "outputs": [],
   "source": [
    "(X_train, X_test, y_train, y_test) = train_test_split(X, y, test_size=0.2, random_state=42)\n",
    "nbtest.assert_allclose(y_test.sum(), np.float64(52653527.8), atol=np.float64(4399553.153431287), test_id='47')\n",
    "nbtest.assert_allclose(y_train.sum(), np.float64(211491418.2), atol=np.float64(4399553.153431287), test_id='46')\n",
    "nbtest.assert_df_var(X_test, np.float64(6352315.126173922), atol=np.float64(3308759.542386007), test_id='45')\n",
    "nbtest.assert_df_mean(X_test, np.float64(687.0465843962103), atol=np.float64(28.569827511047944), test_id='44')\n",
    "nbtest.assert_column_types(X_test, ['int64', 'int64', 'int64', 'bool', 'int64', 'bool', 'bool', 'bool', 'bool', 'bool', 'bool', 'bool', 'bool', 'bool', 'bool', 'int64', 'int64', 'bool', 'bool', 'bool', 'bool', 'bool', 'bool', 'bool', 'bool', 'bool', 'bool', 'int64', 'int64', 'bool', 'bool', 'bool', 'int64', 'bool', 'bool', 'bool', 'bool', 'bool', 'bool', 'bool', 'bool', 'bool', 'bool', 'bool', 'bool', 'bool', 'bool', 'bool', 'bool', 'bool', 'bool', 'bool', 'bool', 'int64', 'bool', 'bool', 'bool', 'bool', 'bool', 'bool', 'bool', 'bool', 'bool', 'bool', 'bool', 'bool', 'bool', 'bool', 'bool', 'bool', 'bool', 'bool', 'bool', 'bool', 'bool', 'bool', 'bool', 'bool', 'bool', 'bool', 'bool', 'bool', 'bool', 'bool', 'bool', 'bool', 'bool', 'bool', 'bool', 'bool', 'bool', 'bool', 'bool', 'bool', 'bool', 'bool', 'bool', 'int64', 'bool', 'bool', 'bool', 'bool', 'bool', 'int64', 'bool', 'bool', 'bool', 'bool', 'bool', 'bool', 'int64', 'int64', 'bool', 'bool', 'bool', 'bool', 'bool', 'bool', 'bool', 'bool', 'bool', 'bool', 'bool', 'bool', 'bool', 'bool', 'bool', 'float64', 'int64', 'int64', 'bool', 'bool', 'bool', 'bool', 'bool', 'bool', 'bool', 'bool', 'bool', 'bool', 'bool', 'bool', 'bool', 'bool', 'bool', 'bool', 'int64', 'bool', 'bool', 'bool', 'bool', 'bool', 'bool', 'bool', 'bool', 'int64', 'bool', 'bool', 'bool', 'bool', 'float64', 'bool', 'bool', 'bool', 'int64', 'int64', 'bool', 'bool', 'bool', 'bool', 'float64', 'bool', 'bool', 'bool', 'bool', 'bool', 'int64', 'int64', 'bool', 'bool', 'bool', 'bool', 'bool', 'bool', 'bool', 'bool', 'bool', 'bool', 'bool', 'bool', 'bool', 'bool', 'bool', 'bool', 'bool', 'bool', 'bool', 'bool', 'bool', 'bool', 'bool', 'bool', 'int64', 'int64', 'int64', 'bool', 'bool', 'int64', 'bool', 'bool', 'bool', 'bool', 'bool', 'bool', 'bool', 'bool', 'bool', 'bool', 'bool', 'bool', 'bool', 'bool', 'bool', 'bool', 'bool', 'bool', 'bool', 'bool', 'bool', 'bool', 'bool', 'bool', 'bool', 'bool', 'bool', 'int64', 'bool', 'int64', 'int64', 'bool', 'int64', 'int64', 'int64', 'int64'], test_id='43')\n",
    "nbtest.assert_column_names(X_test, ['1stFlrSF', '2ndFlrSF', '3SsnPorch', 'Alley_Pave', 'BedroomAbvGr', 'BldgType_2fmCon', 'BldgType_Duplex', 'BldgType_Twnhs', 'BldgType_TwnhsE', 'BsmtCond_Gd', 'BsmtCond_Po', 'BsmtCond_TA', 'BsmtExposure_Gd', 'BsmtExposure_Mn', 'BsmtExposure_No', 'BsmtFinSF1', 'BsmtFinSF2', 'BsmtFinType1_BLQ', 'BsmtFinType1_GLQ', 'BsmtFinType1_LwQ', 'BsmtFinType1_Rec', 'BsmtFinType1_Unf', 'BsmtFinType2_BLQ', 'BsmtFinType2_GLQ', 'BsmtFinType2_LwQ', 'BsmtFinType2_Rec', 'BsmtFinType2_Unf', 'BsmtFullBath', 'BsmtHalfBath', 'BsmtQual_Fa', 'BsmtQual_Gd', 'BsmtQual_TA', 'BsmtUnfSF', 'CentralAir_Y', 'Condition1_Feedr', 'Condition1_Norm', 'Condition1_PosA', 'Condition1_PosN', 'Condition1_RRAe', 'Condition1_RRAn', 'Condition1_RRNe', 'Condition1_RRNn', 'Condition2_Feedr', 'Condition2_Norm', 'Condition2_PosA', 'Condition2_PosN', 'Condition2_RRAe', 'Condition2_RRAn', 'Condition2_RRNn', 'Electrical_FuseF', 'Electrical_FuseP', 'Electrical_Mix', 'Electrical_SBrkr', 'EnclosedPorch', 'ExterCond_Fa', 'ExterCond_Gd', 'ExterCond_Po', 'ExterCond_TA', 'ExterQual_Fa', 'ExterQual_Gd', 'ExterQual_TA', 'Exterior1st_AsphShn', 'Exterior1st_BrkComm', 'Exterior1st_BrkFace', 'Exterior1st_CBlock', 'Exterior1st_CemntBd', 'Exterior1st_HdBoard', 'Exterior1st_ImStucc', 'Exterior1st_MetalSd', 'Exterior1st_Plywood', 'Exterior1st_Stone', 'Exterior1st_Stucco', 'Exterior1st_VinylSd', 'Exterior1st_Wd Sdng', 'Exterior1st_WdShing', 'Exterior2nd_AsphShn', 'Exterior2nd_Brk Cmn', 'Exterior2nd_BrkFace', 'Exterior2nd_CBlock', 'Exterior2nd_CmentBd', 'Exterior2nd_HdBoard', 'Exterior2nd_ImStucc', 'Exterior2nd_MetalSd', 'Exterior2nd_Other', 'Exterior2nd_Plywood', 'Exterior2nd_Stone', 'Exterior2nd_Stucco', 'Exterior2nd_VinylSd', 'Exterior2nd_Wd Sdng', 'Exterior2nd_Wd Shng', 'Fence_GdWo', 'Fence_MnPrv', 'Fence_MnWw', 'FireplaceQu_Fa', 'FireplaceQu_Gd', 'FireplaceQu_Po', 'FireplaceQu_TA', 'Fireplaces', 'Foundation_CBlock', 'Foundation_PConc', 'Foundation_Slab', 'Foundation_Stone', 'Foundation_Wood', 'FullBath', 'Functional_Maj2', 'Functional_Min1', 'Functional_Min2', 'Functional_Mod', 'Functional_Sev', 'Functional_Typ', 'GarageArea', 'GarageCars', 'GarageCond_Fa', 'GarageCond_Gd', 'GarageCond_Po', 'GarageCond_TA', 'GarageFinish_RFn', 'GarageFinish_Unf', 'GarageQual_Fa', 'GarageQual_Gd', 'GarageQual_Po', 'GarageQual_TA', 'GarageType_Attchd', 'GarageType_Basment', 'GarageType_BuiltIn', 'GarageType_CarPort', 'GarageType_Detchd', 'GarageYrBlt', 'GrLivArea', 'HalfBath', 'HeatingQC_Fa', 'HeatingQC_Gd', 'HeatingQC_Po', 'HeatingQC_TA', 'Heating_GasA', 'Heating_GasW', 'Heating_Grav', 'Heating_OthW', 'Heating_Wall', 'HouseStyle_1.5Unf', 'HouseStyle_1Story', 'HouseStyle_2.5Fin', 'HouseStyle_2.5Unf', 'HouseStyle_2Story', 'HouseStyle_SFoyer', 'HouseStyle_SLvl', 'KitchenAbvGr', 'KitchenQual_Fa', 'KitchenQual_Gd', 'KitchenQual_TA', 'LandContour_HLS', 'LandContour_Low', 'LandContour_Lvl', 'LandSlope_Mod', 'LandSlope_Sev', 'LotArea', 'LotConfig_CulDSac', 'LotConfig_FR2', 'LotConfig_FR3', 'LotConfig_Inside', 'LotFrontage', 'LotShape_IR2', 'LotShape_IR3', 'LotShape_Reg', 'LowQualFinSF', 'MSSubClass', 'MSZoning_FV', 'MSZoning_RH', 'MSZoning_RL', 'MSZoning_RM', 'MasVnrArea', 'MasVnrType_BrkFace', 'MasVnrType_Stone', 'MiscFeature_Othr', 'MiscFeature_Shed', 'MiscFeature_TenC', 'MiscVal', 'MoSold', 'Neighborhood_Blueste', 'Neighborhood_BrDale', 'Neighborhood_BrkSide', 'Neighborhood_ClearCr', 'Neighborhood_CollgCr', 'Neighborhood_Crawfor', 'Neighborhood_Edwards', 'Neighborhood_Gilbert', 'Neighborhood_IDOTRR', 'Neighborhood_MeadowV', 'Neighborhood_Mitchel', 'Neighborhood_NAmes', 'Neighborhood_NPkVill', 'Neighborhood_NWAmes', 'Neighborhood_NoRidge', 'Neighborhood_NridgHt', 'Neighborhood_OldTown', 'Neighborhood_SWISU', 'Neighborhood_Sawyer', 'Neighborhood_SawyerW', 'Neighborhood_Somerst', 'Neighborhood_StoneBr', 'Neighborhood_Timber', 'Neighborhood_Veenker', 'OpenPorchSF', 'OverallCond', 'OverallQual', 'PavedDrive_P', 'PavedDrive_Y', 'PoolArea', 'PoolQC_Fa', 'PoolQC_Gd', 'RoofMatl_CompShg', 'RoofMatl_Membran', 'RoofMatl_Metal', 'RoofMatl_Roll', 'RoofMatl_Tar&Grv', 'RoofMatl_WdShake', 'RoofMatl_WdShngl', 'RoofStyle_Gable', 'RoofStyle_Gambrel', 'RoofStyle_Hip', 'RoofStyle_Mansard', 'RoofStyle_Shed', 'SaleCondition_AdjLand', 'SaleCondition_Alloca', 'SaleCondition_Family', 'SaleCondition_Normal', 'SaleCondition_Partial', 'SaleType_CWD', 'SaleType_Con', 'SaleType_ConLD', 'SaleType_ConLI', 'SaleType_ConLw', 'SaleType_New', 'SaleType_Oth', 'SaleType_WD', 'ScreenPorch', 'Street_Pave', 'TotRmsAbvGrd', 'TotalBsmtSF', 'Utilities_NoSeWa', 'WoodDeckSF', 'YearBuilt', 'YearRemodAdd', 'YrSold'], test_id='42')\n",
    "nbtest.assert_shape(X_test, (292, 244), test_id='41')\n",
    "nbtest.assert_df_var(X_train, np.float64(5926676.622348467), atol=np.float64(827236.2395055152), test_id='40')\n",
    "nbtest.assert_df_mean(X_train, np.float64(681.345931445321), atol=np.float64(7.142456877762172), test_id='39')\n",
    "nbtest.assert_column_types(X_train, ['int64', 'int64', 'int64', 'bool', 'int64', 'bool', 'bool', 'bool', 'bool', 'bool', 'bool', 'bool', 'bool', 'bool', 'bool', 'int64', 'int64', 'bool', 'bool', 'bool', 'bool', 'bool', 'bool', 'bool', 'bool', 'bool', 'bool', 'int64', 'int64', 'bool', 'bool', 'bool', 'int64', 'bool', 'bool', 'bool', 'bool', 'bool', 'bool', 'bool', 'bool', 'bool', 'bool', 'bool', 'bool', 'bool', 'bool', 'bool', 'bool', 'bool', 'bool', 'bool', 'bool', 'int64', 'bool', 'bool', 'bool', 'bool', 'bool', 'bool', 'bool', 'bool', 'bool', 'bool', 'bool', 'bool', 'bool', 'bool', 'bool', 'bool', 'bool', 'bool', 'bool', 'bool', 'bool', 'bool', 'bool', 'bool', 'bool', 'bool', 'bool', 'bool', 'bool', 'bool', 'bool', 'bool', 'bool', 'bool', 'bool', 'bool', 'bool', 'bool', 'bool', 'bool', 'bool', 'bool', 'bool', 'int64', 'bool', 'bool', 'bool', 'bool', 'bool', 'int64', 'bool', 'bool', 'bool', 'bool', 'bool', 'bool', 'int64', 'int64', 'bool', 'bool', 'bool', 'bool', 'bool', 'bool', 'bool', 'bool', 'bool', 'bool', 'bool', 'bool', 'bool', 'bool', 'bool', 'float64', 'int64', 'int64', 'bool', 'bool', 'bool', 'bool', 'bool', 'bool', 'bool', 'bool', 'bool', 'bool', 'bool', 'bool', 'bool', 'bool', 'bool', 'bool', 'int64', 'bool', 'bool', 'bool', 'bool', 'bool', 'bool', 'bool', 'bool', 'int64', 'bool', 'bool', 'bool', 'bool', 'float64', 'bool', 'bool', 'bool', 'int64', 'int64', 'bool', 'bool', 'bool', 'bool', 'float64', 'bool', 'bool', 'bool', 'bool', 'bool', 'int64', 'int64', 'bool', 'bool', 'bool', 'bool', 'bool', 'bool', 'bool', 'bool', 'bool', 'bool', 'bool', 'bool', 'bool', 'bool', 'bool', 'bool', 'bool', 'bool', 'bool', 'bool', 'bool', 'bool', 'bool', 'bool', 'int64', 'int64', 'int64', 'bool', 'bool', 'int64', 'bool', 'bool', 'bool', 'bool', 'bool', 'bool', 'bool', 'bool', 'bool', 'bool', 'bool', 'bool', 'bool', 'bool', 'bool', 'bool', 'bool', 'bool', 'bool', 'bool', 'bool', 'bool', 'bool', 'bool', 'bool', 'bool', 'bool', 'int64', 'bool', 'int64', 'int64', 'bool', 'int64', 'int64', 'int64', 'int64'], test_id='38')\n",
    "nbtest.assert_column_names(X_train, ['1stFlrSF', '2ndFlrSF', '3SsnPorch', 'Alley_Pave', 'BedroomAbvGr', 'BldgType_2fmCon', 'BldgType_Duplex', 'BldgType_Twnhs', 'BldgType_TwnhsE', 'BsmtCond_Gd', 'BsmtCond_Po', 'BsmtCond_TA', 'BsmtExposure_Gd', 'BsmtExposure_Mn', 'BsmtExposure_No', 'BsmtFinSF1', 'BsmtFinSF2', 'BsmtFinType1_BLQ', 'BsmtFinType1_GLQ', 'BsmtFinType1_LwQ', 'BsmtFinType1_Rec', 'BsmtFinType1_Unf', 'BsmtFinType2_BLQ', 'BsmtFinType2_GLQ', 'BsmtFinType2_LwQ', 'BsmtFinType2_Rec', 'BsmtFinType2_Unf', 'BsmtFullBath', 'BsmtHalfBath', 'BsmtQual_Fa', 'BsmtQual_Gd', 'BsmtQual_TA', 'BsmtUnfSF', 'CentralAir_Y', 'Condition1_Feedr', 'Condition1_Norm', 'Condition1_PosA', 'Condition1_PosN', 'Condition1_RRAe', 'Condition1_RRAn', 'Condition1_RRNe', 'Condition1_RRNn', 'Condition2_Feedr', 'Condition2_Norm', 'Condition2_PosA', 'Condition2_PosN', 'Condition2_RRAe', 'Condition2_RRAn', 'Condition2_RRNn', 'Electrical_FuseF', 'Electrical_FuseP', 'Electrical_Mix', 'Electrical_SBrkr', 'EnclosedPorch', 'ExterCond_Fa', 'ExterCond_Gd', 'ExterCond_Po', 'ExterCond_TA', 'ExterQual_Fa', 'ExterQual_Gd', 'ExterQual_TA', 'Exterior1st_AsphShn', 'Exterior1st_BrkComm', 'Exterior1st_BrkFace', 'Exterior1st_CBlock', 'Exterior1st_CemntBd', 'Exterior1st_HdBoard', 'Exterior1st_ImStucc', 'Exterior1st_MetalSd', 'Exterior1st_Plywood', 'Exterior1st_Stone', 'Exterior1st_Stucco', 'Exterior1st_VinylSd', 'Exterior1st_Wd Sdng', 'Exterior1st_WdShing', 'Exterior2nd_AsphShn', 'Exterior2nd_Brk Cmn', 'Exterior2nd_BrkFace', 'Exterior2nd_CBlock', 'Exterior2nd_CmentBd', 'Exterior2nd_HdBoard', 'Exterior2nd_ImStucc', 'Exterior2nd_MetalSd', 'Exterior2nd_Other', 'Exterior2nd_Plywood', 'Exterior2nd_Stone', 'Exterior2nd_Stucco', 'Exterior2nd_VinylSd', 'Exterior2nd_Wd Sdng', 'Exterior2nd_Wd Shng', 'Fence_GdWo', 'Fence_MnPrv', 'Fence_MnWw', 'FireplaceQu_Fa', 'FireplaceQu_Gd', 'FireplaceQu_Po', 'FireplaceQu_TA', 'Fireplaces', 'Foundation_CBlock', 'Foundation_PConc', 'Foundation_Slab', 'Foundation_Stone', 'Foundation_Wood', 'FullBath', 'Functional_Maj2', 'Functional_Min1', 'Functional_Min2', 'Functional_Mod', 'Functional_Sev', 'Functional_Typ', 'GarageArea', 'GarageCars', 'GarageCond_Fa', 'GarageCond_Gd', 'GarageCond_Po', 'GarageCond_TA', 'GarageFinish_RFn', 'GarageFinish_Unf', 'GarageQual_Fa', 'GarageQual_Gd', 'GarageQual_Po', 'GarageQual_TA', 'GarageType_Attchd', 'GarageType_Basment', 'GarageType_BuiltIn', 'GarageType_CarPort', 'GarageType_Detchd', 'GarageYrBlt', 'GrLivArea', 'HalfBath', 'HeatingQC_Fa', 'HeatingQC_Gd', 'HeatingQC_Po', 'HeatingQC_TA', 'Heating_GasA', 'Heating_GasW', 'Heating_Grav', 'Heating_OthW', 'Heating_Wall', 'HouseStyle_1.5Unf', 'HouseStyle_1Story', 'HouseStyle_2.5Fin', 'HouseStyle_2.5Unf', 'HouseStyle_2Story', 'HouseStyle_SFoyer', 'HouseStyle_SLvl', 'KitchenAbvGr', 'KitchenQual_Fa', 'KitchenQual_Gd', 'KitchenQual_TA', 'LandContour_HLS', 'LandContour_Low', 'LandContour_Lvl', 'LandSlope_Mod', 'LandSlope_Sev', 'LotArea', 'LotConfig_CulDSac', 'LotConfig_FR2', 'LotConfig_FR3', 'LotConfig_Inside', 'LotFrontage', 'LotShape_IR2', 'LotShape_IR3', 'LotShape_Reg', 'LowQualFinSF', 'MSSubClass', 'MSZoning_FV', 'MSZoning_RH', 'MSZoning_RL', 'MSZoning_RM', 'MasVnrArea', 'MasVnrType_BrkFace', 'MasVnrType_Stone', 'MiscFeature_Othr', 'MiscFeature_Shed', 'MiscFeature_TenC', 'MiscVal', 'MoSold', 'Neighborhood_Blueste', 'Neighborhood_BrDale', 'Neighborhood_BrkSide', 'Neighborhood_ClearCr', 'Neighborhood_CollgCr', 'Neighborhood_Crawfor', 'Neighborhood_Edwards', 'Neighborhood_Gilbert', 'Neighborhood_IDOTRR', 'Neighborhood_MeadowV', 'Neighborhood_Mitchel', 'Neighborhood_NAmes', 'Neighborhood_NPkVill', 'Neighborhood_NWAmes', 'Neighborhood_NoRidge', 'Neighborhood_NridgHt', 'Neighborhood_OldTown', 'Neighborhood_SWISU', 'Neighborhood_Sawyer', 'Neighborhood_SawyerW', 'Neighborhood_Somerst', 'Neighborhood_StoneBr', 'Neighborhood_Timber', 'Neighborhood_Veenker', 'OpenPorchSF', 'OverallCond', 'OverallQual', 'PavedDrive_P', 'PavedDrive_Y', 'PoolArea', 'PoolQC_Fa', 'PoolQC_Gd', 'RoofMatl_CompShg', 'RoofMatl_Membran', 'RoofMatl_Metal', 'RoofMatl_Roll', 'RoofMatl_Tar&Grv', 'RoofMatl_WdShake', 'RoofMatl_WdShngl', 'RoofStyle_Gable', 'RoofStyle_Gambrel', 'RoofStyle_Hip', 'RoofStyle_Mansard', 'RoofStyle_Shed', 'SaleCondition_AdjLand', 'SaleCondition_Alloca', 'SaleCondition_Family', 'SaleCondition_Normal', 'SaleCondition_Partial', 'SaleType_CWD', 'SaleType_Con', 'SaleType_ConLD', 'SaleType_ConLI', 'SaleType_ConLw', 'SaleType_New', 'SaleType_Oth', 'SaleType_WD', 'ScreenPorch', 'Street_Pave', 'TotRmsAbvGrd', 'TotalBsmtSF', 'Utilities_NoSeWa', 'WoodDeckSF', 'YearBuilt', 'YearRemodAdd', 'YrSold'], test_id='37')\n",
    "nbtest.assert_shape(X_train, (1168, 244), test_id='36')\n",
    "nbtest.assert_df_leakage(X_test, X_test)"
   ]
  },
  {
   "cell_type": "code",
   "execution_count": null,
   "id": "c8e0d76d",
   "metadata": {},
   "outputs": [],
   "source": [
    "sc = StandardScaler()\n",
    "X_train = sc.fit_transform(X_train)\n",
    "X_test = sc.transform(X_test)"
   ]
  },
  {
   "cell_type": "code",
   "execution_count": null,
   "id": "13c2394b",
   "metadata": {},
   "outputs": [],
   "source": [
    "models = {'Multiple Linear Regression': LinearRegression(), 'Polynomial Regression': LinearRegression(), 'Support Vector Regression': SVR(), 'Decision Tree Regression': DecisionTreeRegressor(), 'Random Forest Regression': RandomForestRegressor()}\n",
    "poly_degree = 2\n",
    "cv_scores = {}\n",
    "for (model_name, model) in models.items():\n",
    "    if model_name == 'Polynomial Regression':\n",
    "        poly_features = PolynomialFeatures(degree=poly_degree)\n",
    "        X_train_poly = poly_features.fit_transform(X_train)\n",
    "        scores = cross_val_score(model, X_train_poly, y_train, scoring='neg_mean_squared_error', cv=5)\n",
    "    else:\n",
    "        scores = cross_val_score(model, X_train, y_train, scoring='neg_mean_squared_error', cv=5)\n",
    "    mse_scores = -scores\n",
    "    cv_scores[model_name] = mse_scores.mean()\n",
    "best_model_name = min(cv_scores, key=cv_scores.get)\n",
    "best_model = models[best_model_name]\n",
    "if best_model_name == 'Polynomial Regression':\n",
    "    poly_features = PolynomialFeatures(degree=poly_degree)\n",
    "    X_train_poly = poly_features.fit_transform(X_train)\n",
    "    best_model.fit(X_train_poly, y_train)\n",
    "else:\n",
    "    best_model.fit(X_train, y_train)\n",
    "if best_model_name == 'Polynomial Regression':\n",
    "    X_test_poly = poly_features.transform(X_test)\n",
    "    y_pred = best_model.predict(X_test_poly)\n",
    "else:\n",
    "    y_pred = best_model.predict(X_test)\n",
    "mse = mean_squared_error(y_test, y_pred)\n",
    "nbtest.assert_allclose(mse, np.float64(787647226.7354023), atol=np.float64(1011963364.3065666), test_id='48')\n",
    "print(f'Best Model: {best_model_name}')\n",
    "print(f'Mean Squared Error on Test Data: {mse}')"
   ]
  },
  {
   "cell_type": "code",
   "execution_count": null,
   "id": "6d6af166",
   "metadata": {},
   "outputs": [],
   "source": [
    "results = {'Model': [], 'Cross-Validation MSE': [], 'Test MSE': []}\n",
    "for (model_name, model) in models.items():\n",
    "    if model_name == 'Polynomial Regression':\n",
    "        poly_features = PolynomialFeatures(degree=poly_degree)\n",
    "        X_train_poly = poly_features.fit_transform(X_train)\n",
    "        scores = cross_val_score(model, X_train_poly, y_train, scoring='neg_mean_squared_error', cv=5)\n",
    "    else:\n",
    "        scores = cross_val_score(model, X_train, y_train, scoring='neg_mean_squared_error', cv=5)\n",
    "    mse_scores = -scores\n",
    "    cv_mse_mean = mse_scores.mean()\n",
    "    if model_name == 'Polynomial Regression':\n",
    "        poly_features = PolynomialFeatures(degree=poly_degree)\n",
    "        X_train_poly = poly_features.fit_transform(X_train)\n",
    "        model.fit(X_train_poly, y_train)\n",
    "        X_test_poly = poly_features.transform(X_test)\n",
    "        y_pred = model.predict(X_test_poly)\n",
    "    else:\n",
    "        model.fit(X_train, y_train)\n",
    "        y_pred = model.predict(X_test)\n",
    "    test_mse = mean_squared_error(y_test, y_pred)\n",
    "    results['Model'].append(model_name)\n",
    "    results['Cross-Validation MSE'].append(cv_mse_mean)\n",
    "    results['Test MSE'].append(test_mse)\n",
    "results_df = pd.DataFrame(results)\n",
    "nbtest.assert_df_var(results_df, np.float64(1.858580200281258e+19), atol=np.float64(1.1907119133240058e+20), test_id='53')\n",
    "nbtest.assert_df_mean(results_df, np.float64(3336910080.8797717), atol=np.float64(4196674915.10804), test_id='52')\n",
    "nbtest.assert_column_types(results_df, ['float64', 'object', 'float64'], test_id='51')\n",
    "nbtest.assert_column_names(results_df, ['Cross-Validation MSE', 'Model', 'Test MSE'], test_id='50')\n",
    "nbtest.assert_shape(results_df, (5, 3), test_id='49')\n",
    "print(results_df)\n",
    "nbtest.assert_df_var(results_df, np.float64(1.858580200281258e+19), atol=np.float64(1.1907119133240058e+20), test_id='58')\n",
    "nbtest.assert_df_mean(results_df, np.float64(3336910080.8797717), atol=np.float64(4196674915.10804), test_id='57')\n",
    "nbtest.assert_column_types(results_df, ['float64', 'object', 'float64'], test_id='56')\n",
    "nbtest.assert_column_names(results_df, ['Cross-Validation MSE', 'Model', 'Test MSE'], test_id='55')\n",
    "nbtest.assert_shape(results_df, (5, 3), test_id='54')"
   ]
  },
  {
   "cell_type": "code",
   "execution_count": null,
   "id": "f4c48a9f",
   "metadata": {},
   "outputs": [],
   "source": [
    "regressor = RandomForestRegressor(n_estimators=10, random_state=0)\n",
    "nbtest_tmpvar_17 = regressor.fit(X_train, y_train)\n",
    "nbtest.assert_sklearn_model(nbtest_tmpvar_17, '/home/user/sample/sklearn_model_60.pkl', test_id='60')"
   ]
  },
  {
   "cell_type": "code",
   "execution_count": null,
   "id": "9f6d7ff3",
   "metadata": {},
   "outputs": [],
   "source": [
    "y_pred = regressor.predict(X_test)"
   ]
  },
  {
   "cell_type": "code",
   "execution_count": null,
   "id": "5bdee0d7",
   "metadata": {},
   "outputs": [],
   "source": [
    "nbtest_tmpvar_18 = r2_score(y_test, y_pred)\n",
    "nbtest.assert_allclose(nbtest_tmpvar_18, np.float64(0.8518700626137194), atol=np.float64(0.14292746696544567), test_id='61')"
   ]
  },
  {
   "cell_type": "code",
   "execution_count": null,
   "id": "fb57312a",
   "metadata": {},
   "outputs": [],
   "source": [
    "plt.figure(figsize=(8, 8))\n",
    "plt.scatter(y_test, y_pred, alpha=0.5, color = 'green')\n",
    "plt.xlabel(\"Actual Values\")\n",
    "plt.ylabel(\"Predicted Values\")\n",
    "plt.title(\"Random Forest Regression\")\n",
    "plt.grid(True)\n",
    "plt.show()"
   ]
  }
 ],
 "metadata": {
  "kernelspec": {
   "display_name": "Python 3 (ipykernel)",
   "language": "python",
   "name": "python3"
  },
  "language_info": {
   "codemirror_mode": {
    "name": "ipython",
    "version": 3
   },
   "file_extension": ".py",
   "mimetype": "text/x-python",
   "name": "python",
   "nbconvert_exporter": "python",
   "pygments_lexer": "ipython3",
   "version": "3.10.13"
  }
 },
 "nbformat": 4,
 "nbformat_minor": 5
}
