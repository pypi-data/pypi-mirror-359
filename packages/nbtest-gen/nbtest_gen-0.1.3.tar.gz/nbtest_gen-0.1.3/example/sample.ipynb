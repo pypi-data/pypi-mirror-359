{
 "cells": [
  {
   "cell_type": "code",
   "execution_count": null,
   "id": "7ad48a14",
   "metadata": {},
   "outputs": [],
   "source": [
    "import nbtest\n",
    "import json\n",
    "import numpy as np\n",
    "random_seed = np.random.randint(10000)"
   ]
  },
  {
   "cell_type": "code",
   "execution_count": null,
   "id": "2a61ae25",
   "metadata": {},
   "outputs": [],
   "source": [
    "import pandas as pd\n",
    "import matplotlib.pyplot as plt\n",
    "df = pd.read_csv('./heart_failure.csv')\n",
    "nbtest.assert_df_var(df, 5655280085.135918, atol=0.0, test_id='4')\n",
    "nbtest.assert_df_mean(df, 20331.504464625676, atol=0.0, test_id='3')\n",
    "nbtest.assert_column_types(df, ['int64', 'float64', 'int64', 'int64', 'int64', 'int64', 'int64', 'float64', 'float64', 'int64', 'int64', 'int64', 'int64'], test_id='2')\n",
    "nbtest.assert_column_names(df, ['DEATH_EVENT', 'age', 'anaemia', 'creatinine_phosphokinase', 'diabetes', 'ejection_fraction', 'high_blood_pressure', 'platelets', 'serum_creatinine', 'serum_sodium', 'sex', 'smoking', 'time'], test_id='1')\n",
    "nbtest.assert_shape(df, (299, 12), test_id='0')"
   ]
  },
  {
   "cell_type": "code",
   "execution_count": null,
   "id": "8a6346bc",
   "metadata": {},
   "outputs": [],
   "source": [
    "nbtest_tmpvar_0 = df.head(n=10)\n",
    "nbtest.assert_df_var(nbtest_tmpvar_0, 5735375787.815456, atol=0.0, test_id='9')\n",
    "nbtest.assert_df_mean(nbtest_tmpvar_0, 20584.102, atol=0.0, test_id='8')\n",
    "nbtest.assert_column_types(nbtest_tmpvar_0, ['int64', 'float64', 'int64', 'int64', 'int64', 'int64', 'int64', 'float64', 'float64', 'int64', 'int64', 'int64', 'int64'], test_id='7')\n",
    "nbtest.assert_column_names(nbtest_tmpvar_0, ['DEATH_EVENT', 'age', 'anaemia', 'creatinine_phosphokinase', 'diabetes', 'ejection_fraction', 'high_blood_pressure', 'platelets', 'serum_creatinine', 'serum_sodium', 'sex', 'smoking', 'time'], test_id='6')\n",
    "nbtest.assert_shape(nbtest_tmpvar_0, (10, 13), test_id='5')"
   ]
  },
  {
   "cell_type": "code",
   "execution_count": null,
   "id": "b86061f3",
   "metadata": {},
   "outputs": [],
   "source": [
    "df.info()"
   ]
  },
  {
   "cell_type": "code",
   "execution_count": null,
   "id": "94033012",
   "metadata": {},
   "outputs": [],
   "source": [
    "nbtest_tmpvar_2 = df.isnull().any()\n",
    "nbtest.assert_allclose(nbtest_tmpvar_2.sum(), 0.0, atol=0.0, test_id='10')"
   ]
  },
  {
   "cell_type": "code",
   "execution_count": null,
   "id": "0b7a765d",
   "metadata": {},
   "outputs": [],
   "source": [
    "df.shape\n",
    "nbtest.assert_shape(df, (299, 13), test_id='11')"
   ]
  },
  {
   "cell_type": "code",
   "execution_count": null,
   "id": "3fb4c34b",
   "metadata": {},
   "outputs": [],
   "source": [
    "nbtest_tmpvar_3 = df.describe()\n",
    "nbtest.assert_df_var(nbtest_tmpvar_3, 9311258132.272377, atol=0.0, test_id='16')\n",
    "nbtest.assert_df_mean(nbtest_tmpvar_3, 19528.024571370242, atol=0.0, test_id='15')\n",
    "nbtest.assert_column_types(nbtest_tmpvar_3, ['float64', 'float64', 'float64', 'float64', 'float64', 'float64', 'float64', 'float64', 'float64', 'float64', 'float64', 'float64', 'float64'], test_id='14')\n",
    "nbtest.assert_column_names(nbtest_tmpvar_3, ['DEATH_EVENT', 'age', 'anaemia', 'creatinine_phosphokinase', 'diabetes', 'ejection_fraction', 'high_blood_pressure', 'platelets', 'serum_creatinine', 'serum_sodium', 'sex', 'smoking', 'time'], test_id='13')\n",
    "nbtest.assert_shape(nbtest_tmpvar_3, (8, 13), test_id='12')"
   ]
  },
  {
   "cell_type": "code",
   "execution_count": null,
   "id": "4e00fa48",
   "metadata": {},
   "outputs": [],
   "source": [
    "for i in df.columns:\n",
    "  print(i)\n",
    "  print(df[f\"{i}\"].value_counts())"
   ]
  },
  {
   "cell_type": "code",
   "execution_count": null,
   "id": "53a4c77b",
   "metadata": {},
   "outputs": [],
   "source": [
    "import seaborn as sns\n",
    "import matplotlib.pyplot as plt\n",
    "sns.pairplot(df, vars=['age', 'anaemia', 'creatinine_phosphokinase', 'diabetes',\n",
    "       'ejection_fraction', 'high_blood_pressure', 'platelets',\n",
    "       'serum_creatinine', 'serum_sodium', 'sex', 'smoking', 'time','DEATH_EVENT'], hue='DEATH_EVENT')\n",
    "plt.show()"
   ]
  },
  {
   "cell_type": "code",
   "execution_count": null,
   "id": "68ad3b76",
   "metadata": {},
   "outputs": [],
   "source": [
    "korelasyon_matrisi = df.corr().abs()\n",
    "plt.figure(figsize=(8, 6), dpi=100)\n",
    "sns.heatmap(korelasyon_matrisi, annot=True, cmap='rocket_r', fmt=\".2f\", linewidths=1)\n",
    "plt.title(\"Korelasyon Heatmap\")\n",
    "plt.show()"
   ]
  },
  {
   "cell_type": "code",
   "execution_count": null,
   "id": "49c3a9a6",
   "metadata": {},
   "outputs": [],
   "source": [
    "print(df.corr().abs()[\"DEATH_EVENT\"].nlargest(15))"
   ]
  },
  {
   "cell_type": "code",
   "execution_count": null,
   "id": "c8c4464e",
   "metadata": {},
   "outputs": [],
   "source": [
    "col_reduced = df.corr().abs()[\"DEATH_EVENT\"].nlargest(6).index\n",
    "col_reduced"
   ]
  },
  {
   "cell_type": "code",
   "execution_count": null,
   "id": "c73c118f",
   "metadata": {},
   "outputs": [],
   "source": [
    "x = df[['time', 'serum_creatinine', 'ejection_fraction', 'age', 'serum_sodium']].values # Numpy Array\n",
    "y = df.iloc[:,-1].values # Numpy Array"
   ]
  },
  {
   "cell_type": "code",
   "execution_count": null,
   "id": "266b80e1",
   "metadata": {},
   "outputs": [],
   "source": [
    "from sklearn.model_selection import train_test_split\n",
    "x_train, x_test, y_train, y_test = train_test_split(x, y, test_size=0.2, random_state=2)"
   ]
  },
  {
   "cell_type": "code",
   "execution_count": null,
   "id": "c23bf29c",
   "metadata": {},
   "outputs": [],
   "source": [
    "from sklearn.metrics import roc_curve, auc, accuracy_score\n",
    "from sklearn.metrics import confusion_matrix\n",
    "from sklearn.metrics import ConfusionMatrixDisplay\n",
    "from sklearn.preprocessing import StandardScaler\n",
    "sc=StandardScaler()\n",
    "X_train = sc.fit_transform(x_train)\n",
    "X_test = sc.transform(x_test)"
   ]
  },
  {
   "cell_type": "code",
   "execution_count": null,
   "id": "ed492c48",
   "metadata": {},
   "outputs": [],
   "source": [
    "from sklearn.linear_model import LogisticRegression\n",
    "logr = LogisticRegression(random_state=0)\n",
    "nbtest_tmpvar_4 = logr.fit(X_train, y_train)\n",
    "nbtest.assert_sklearn_model(nbtest_tmpvar_4, '/home/verve/ml_nb_testing/comp_analysis/nbtest-gen/example/op/sklearn_model_17.pkl', test_id='17')\n",
    "y_pred = logr.predict(X_test)\n",
    "cm = confusion_matrix(y_test, y_pred, labels=logr.classes_)\n",
    "disp = ConfusionMatrixDisplay(confusion_matrix=cm, display_labels=logr.classes_)\n",
    "disp.plot(cmap='YlGnBu')\n",
    "plt.show()\n",
    "print()\n",
    "print('accuracy: ', accuracy_score(y_test, y_pred))\n",
    "nbtest.assert_allclose(accuracy_score(y_test, y_pred), 0.8400000000000001, atol=0.11155467020454334, test_id='18')"
   ]
  },
  {
   "cell_type": "code",
   "execution_count": null,
   "id": "8e847f79",
   "metadata": {},
   "outputs": [],
   "source": [
    "import sklearn\n",
    "y_proba = logr.predict_proba(X_test)\n",
    "(fpr, tpr, thresholds) = roc_curve(y_test, y_proba[:, 1], pos_label=1)\n",
    "roc_auc = auc(fpr, tpr)\n",
    "nbtest.assert_allclose(roc_auc, 0.9108934567101145, atol=0.1456452575839852, test_id='19')\n",
    "plt.figure(figsize=(10, 6))\n",
    "plt.plot(fpr, tpr, color='darkorange', lw=2, label='ROC curve (area = {:.2f})'.format(roc_auc))\n",
    "plt.plot([0, 1], [0, 1], color='navy', lw=2, linestyle='--')\n",
    "plt.xlim([0.0, 1.0])\n",
    "plt.ylim([0.0, 1.05])\n",
    "plt.xlabel('False Positive Rate')\n",
    "plt.ylabel('True Positive Rate')\n",
    "plt.title('Receiver Operating Characteristic (ROC) Curve')\n",
    "plt.legend(loc='lower right')\n",
    "plt.show()\n",
    "print(sklearn.metrics.roc_auc_score(y_test, y_pred))\n",
    "nbtest.assert_allclose(sklearn.metrics.roc_auc_score(y_test, y_pred), 0.8110204833719143, atol=0.14027071488727222, test_id='20')"
   ]
  },
  {
   "cell_type": "code",
   "execution_count": null,
   "id": "1f589d13",
   "metadata": {},
   "outputs": [],
   "source": [
    "from sklearn.neighbors import KNeighborsClassifier\n",
    "knn = KNeighborsClassifier(n_neighbors=5, metric='euclidean')\n",
    "nbtest_tmpvar_5 = knn.fit(X_train, y_train)\n",
    "nbtest.assert_sklearn_model(nbtest_tmpvar_5, '/home/verve/ml_nb_testing/comp_analysis/nbtest-gen/example/op/sklearn_model_21.pkl', test_id='21')\n",
    "y_pred = knn.predict(X_test)\n",
    "cm = confusion_matrix(y_test, y_pred, labels=knn.classes_)\n",
    "disp = ConfusionMatrixDisplay(confusion_matrix=cm, display_labels=knn.classes_)\n",
    "disp.plot(cmap='YlGnBu')\n",
    "plt.show()\n",
    "print()\n",
    "print('accuracy: ', accuracy_score(y_test, y_pred))\n",
    "nbtest.assert_allclose(accuracy_score(y_test, y_pred), 0.8, atol=0.1563471919941143, test_id='22')"
   ]
  },
  {
   "cell_type": "code",
   "execution_count": null,
   "id": "ae6b331f",
   "metadata": {},
   "outputs": [],
   "source": [
    "import matplotlib.pyplot as plt\n",
    "y_proba = knn.predict_proba(X_test)\n",
    "(fpr, tpr, thresholds) = roc_curve(y_test, y_proba[:, 1], pos_label=1)\n",
    "roc_auc = auc(fpr, tpr)\n",
    "nbtest.assert_allclose(roc_auc, 0.852153813699536, atol=0.20428763685163875, test_id='23')\n",
    "plt.figure(figsize=(10, 6))\n",
    "plt.plot(fpr, tpr, color='darkorange', lw=2, label='ROC curve (area = {:.2f})'.format(roc_auc))\n",
    "plt.plot([0, 1], [0, 1], color='navy', lw=2, linestyle='--')\n",
    "plt.xlim([0.0, 1.0])\n",
    "plt.ylim([0.0, 1.05])\n",
    "plt.xlabel('False Positive Rate')\n",
    "plt.ylabel('True Positive Rate')\n",
    "plt.title('Receiver Operating Characteristic (ROC) Curve')\n",
    "plt.legend(loc='lower right')\n",
    "plt.show()\n",
    "print(sklearn.metrics.roc_auc_score(y_test, y_pred))\n",
    "nbtest.assert_allclose(sklearn.metrics.roc_auc_score(y_test, y_pred), 0.7645997097367632, atol=0.1841917680044929, test_id='24')"
   ]
  },
  {
   "cell_type": "code",
   "execution_count": null,
   "id": "9bb2db9a",
   "metadata": {},
   "outputs": [],
   "source": [
    "from sklearn.svm import SVC\n",
    "svc = SVC(kernel='rbf', probability=True)\n",
    "nbtest_tmpvar_6 = svc.fit(X_train, y_train)\n",
    "nbtest.assert_sklearn_model(nbtest_tmpvar_6, '/home/verve/ml_nb_testing/comp_analysis/nbtest-gen/example/op/sklearn_model_25.pkl', test_id='25')\n",
    "y_pred = svc.predict(X_test)\n",
    "cm = confusion_matrix(y_test, y_pred, labels=svc.classes_)\n",
    "disp = ConfusionMatrixDisplay(confusion_matrix=cm, display_labels=svc.classes_)\n",
    "disp.plot(cmap='YlGnBu')\n",
    "plt.show()\n",
    "print()\n",
    "print('accuracy: ', accuracy_score(y_test, y_pred))\n",
    "nbtest.assert_allclose(accuracy_score(y_test, y_pred), 0.7933333333333333, atol=0.15347819244295127, test_id='26')"
   ]
  },
  {
   "cell_type": "code",
   "execution_count": null,
   "id": "cd6d8151",
   "metadata": {},
   "outputs": [],
   "source": [
    "import matplotlib.pyplot as plt\n",
    "y_proba = svc.predict_proba(X_test)\n",
    "(fpr, tpr, thresholds) = roc_curve(y_test, y_proba[:, 1], pos_label=1)\n",
    "roc_auc = auc(fpr, tpr)\n",
    "nbtest.assert_allclose(roc_auc, 0.8907349966966368, atol=0.12229281055777137, test_id='27')\n",
    "plt.figure(figsize=(10, 6))\n",
    "plt.plot(fpr, tpr, color='darkorange', lw=2, label='ROC curve (area = {:.2f})'.format(roc_auc))\n",
    "plt.plot([0, 1], [0, 1], color='navy', lw=2, linestyle='--')\n",
    "plt.xlim([0.0, 1.0])\n",
    "plt.ylim([0.0, 1.05])\n",
    "plt.xlabel('False Positive Rate')\n",
    "plt.ylabel('True Positive Rate')\n",
    "plt.title('Receiver Operating Characteristic (ROC) Curve')\n",
    "plt.legend(loc='lower right')\n",
    "plt.show()\n",
    "print(sklearn.metrics.roc_auc_score(y_test, y_pred))\n",
    "nbtest.assert_allclose(sklearn.metrics.roc_auc_score(y_test, y_pred), 0.7559464317638447, atol=0.23756857957372185, test_id='28')"
   ]
  },
  {
   "cell_type": "code",
   "execution_count": null,
   "id": "3ead28d5",
   "metadata": {},
   "outputs": [],
   "source": [
    "from sklearn.naive_bayes import GaussianNB\n",
    "gnb = GaussianNB()\n",
    "nbtest_tmpvar_7 = gnb.fit(X_train, y_train)\n",
    "nbtest.assert_sklearn_model(nbtest_tmpvar_7, '/home/verve/ml_nb_testing/comp_analysis/nbtest-gen/example/op/sklearn_model_29.pkl', test_id='29')\n",
    "y_pred = gnb.predict(X_test)\n",
    "cm = confusion_matrix(y_test, y_pred, labels=gnb.classes_)\n",
    "disp = ConfusionMatrixDisplay(confusion_matrix=cm, display_labels=gnb.classes_)\n",
    "disp.plot(cmap='YlGnBu')\n",
    "plt.show()\n",
    "print()\n",
    "print('accuracy: ', accuracy_score(y_test, y_pred))\n",
    "nbtest.assert_allclose(accuracy_score(y_test, y_pred), 0.8266666666666665, atol=0.12110601416389959, test_id='30')"
   ]
  },
  {
   "cell_type": "code",
   "execution_count": null,
   "id": "ea3652fd",
   "metadata": {},
   "outputs": [],
   "source": [
    "import matplotlib.pyplot as plt\n",
    "y_proba = gnb.predict_proba(X_test)\n",
    "(fpr, tpr, thresholds) = roc_curve(y_test, y_proba[:, 1], pos_label=1)\n",
    "roc_auc = auc(fpr, tpr)\n",
    "nbtest.assert_allclose(roc_auc, 0.9026079458477707, atol=0.16769145439539307, test_id='31')\n",
    "plt.figure(figsize=(10, 6))\n",
    "plt.plot(fpr, tpr, color='darkorange', lw=2, label='ROC curve (area = {:.2f})'.format(roc_auc))\n",
    "plt.plot([0, 1], [0, 1], color='navy', lw=2, linestyle='--')\n",
    "plt.xlim([0.0, 1.0])\n",
    "plt.ylim([0.0, 1.05])\n",
    "plt.xlabel('False Positive Rate')\n",
    "plt.ylabel('True Positive Rate')\n",
    "plt.title('Receiver Operating Characteristic (ROC) Curve')\n",
    "plt.legend(loc='lower right')\n",
    "plt.show()\n",
    "print(sklearn.metrics.roc_auc_score(y_test, y_pred))\n",
    "nbtest.assert_allclose(sklearn.metrics.roc_auc_score(y_test, y_pred), 0.7738830023961791, atol=0.25162112938452746, test_id='32')"
   ]
  },
  {
   "cell_type": "code",
   "execution_count": null,
   "id": "12e147a6",
   "metadata": {},
   "outputs": [],
   "source": [
    "from sklearn.tree import DecisionTreeClassifier\n",
    "dtc = DecisionTreeClassifier(criterion='entropy', random_state=10)\n",
    "nbtest_tmpvar_8 = dtc.fit(X_train, y_train)\n",
    "nbtest.assert_sklearn_model(nbtest_tmpvar_8, '/home/verve/ml_nb_testing/comp_analysis/nbtest-gen/example/op/sklearn_model_33.pkl', test_id='33')\n",
    "y_pred = dtc.predict(X_test)\n",
    "cm = confusion_matrix(y_test, y_pred, labels=dtc.classes_)\n",
    "disp = ConfusionMatrixDisplay(confusion_matrix=cm, display_labels=dtc.classes_)\n",
    "disp.plot(cmap='YlGnBu')\n",
    "plt.show()\n",
    "print()\n",
    "print('accuracy: ', accuracy_score(y_test, y_pred))\n",
    "nbtest.assert_allclose(accuracy_score(y_test, y_pred), 0.7966666666666666, atol=0.2599145158615723, test_id='34')"
   ]
  },
  {
   "cell_type": "code",
   "execution_count": null,
   "id": "d36a1790",
   "metadata": {},
   "outputs": [],
   "source": [
    "import matplotlib.pyplot as plt\n",
    "y_proba = dtc.predict_proba(X_test)\n",
    "(fpr, tpr, thresholds) = roc_curve(y_test, y_proba[:, 1], pos_label=1)\n",
    "roc_auc = auc(fpr, tpr)\n",
    "nbtest.assert_allclose(roc_auc, 0.7767401710692505, atol=0.31520372185936313, test_id='35')\n",
    "plt.figure(figsize=(10, 6))\n",
    "plt.plot(fpr, tpr, color='darkorange', lw=2, label='ROC curve (area = {:.2f})'.format(roc_auc))\n",
    "plt.plot([0, 1], [0, 1], color='navy', lw=2, linestyle='--')\n",
    "plt.xlim([0.0, 1.0])\n",
    "plt.ylim([0.0, 1.05])\n",
    "plt.xlabel('False Positive Rate')\n",
    "plt.ylabel('True Positive Rate')\n",
    "plt.title('Receiver Operating Characteristic (ROC) Curve')\n",
    "plt.legend(loc='lower right')\n",
    "plt.show()\n",
    "print(sklearn.metrics.roc_auc_score(y_test, y_pred))\n",
    "nbtest.assert_allclose(sklearn.metrics.roc_auc_score(y_test, y_pred), 0.7767401710692505, atol=0.31520372185936313, test_id='36')"
   ]
  },
  {
   "cell_type": "code",
   "execution_count": null,
   "id": "3c26a62e",
   "metadata": {},
   "outputs": [],
   "source": [
    "from sklearn.ensemble import RandomForestClassifier\n",
    "rfc = RandomForestClassifier(n_estimators=35, criterion='entropy', random_state=24)\n",
    "nbtest_tmpvar_9 = rfc.fit(X_train, y_train)\n",
    "nbtest.assert_sklearn_model(nbtest_tmpvar_9, '/home/verve/ml_nb_testing/comp_analysis/nbtest-gen/example/op/sklearn_model_37.pkl', test_id='37')\n",
    "y_pred = rfc.predict(X_test)\n",
    "cm = confusion_matrix(y_test, y_pred, labels=rfc.classes_)\n",
    "disp = ConfusionMatrixDisplay(confusion_matrix=cm, display_labels=rfc.classes_)\n",
    "disp.plot(cmap='YlGnBu')\n",
    "plt.show()\n",
    "print()\n",
    "print('accuracy: ', accuracy_score(y_test, y_pred))\n",
    "nbtest.assert_allclose(accuracy_score(y_test, y_pred), 0.8233333333333335, atol=0.16055459438389716, test_id='38')"
   ]
  },
  {
   "cell_type": "code",
   "execution_count": null,
   "id": "bf333c89",
   "metadata": {},
   "outputs": [],
   "source": [
    "import matplotlib.pyplot as plt\n",
    "y_proba = rfc.predict_proba(X_test)\n",
    "(fpr, tpr, thresholds) = roc_curve(y_test, y_proba[:, 1], pos_label=1)\n",
    "roc_auc = auc(fpr, tpr)\n",
    "nbtest.assert_allclose(roc_auc, 0.90482373467913, atol=0.11338564795799509, test_id='39')\n",
    "plt.figure(figsize=(10, 6))\n",
    "plt.plot(fpr, tpr, color='darkorange', lw=2, label='ROC curve (area = {:.2f})'.format(roc_auc))\n",
    "plt.plot([0, 1], [0, 1], color='navy', lw=2, linestyle='--')\n",
    "plt.xlim([0.0, 1.0])\n",
    "plt.ylim([0.0, 1.05])\n",
    "plt.xlabel('False Positive Rate')\n",
    "plt.ylabel('True Positive Rate')\n",
    "plt.title('Receiver Operating Characteristic (ROC) Curve')\n",
    "plt.legend(loc='lower right')\n",
    "plt.show()\n",
    "print(sklearn.metrics.roc_auc_score(y_test, y_pred))\n",
    "nbtest.assert_allclose(sklearn.metrics.roc_auc_score(y_test, y_pred), 0.7813223693084752, atol=0.21843646804798797, test_id='40')"
   ]
  }
 ],
 "metadata": {
  "kernelspec": {
   "display_name": "Python 3 (ipykernel)",
   "language": "python",
   "name": "python3"
  },
  "language_info": {
   "codemirror_mode": {
    "name": "ipython",
    "version": 3
   },
   "file_extension": ".py",
   "mimetype": "text/x-python",
   "name": "python",
   "nbconvert_exporter": "python",
   "pygments_lexer": "ipython3",
   "version": "3.10.13"
  }
 },
 "nbformat": 4,
 "nbformat_minor": 5
}
