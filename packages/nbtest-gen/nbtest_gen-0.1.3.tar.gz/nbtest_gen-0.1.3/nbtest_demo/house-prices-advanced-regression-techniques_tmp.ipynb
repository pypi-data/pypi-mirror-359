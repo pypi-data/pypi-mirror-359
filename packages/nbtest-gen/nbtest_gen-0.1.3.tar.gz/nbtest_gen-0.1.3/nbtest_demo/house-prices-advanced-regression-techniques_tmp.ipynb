{
 "cells": [
  {
   "cell_type": "code",
   "execution_count": null,
   "id": "46a1b801",
   "metadata": {},
   "outputs": [],
   "source": [
    "import nbtest\n",
    "import json\n",
    "import numpy as np\n",
    "random_seed = np.random.randint(10000)"
   ]
  },
  {
   "cell_type": "code",
   "execution_count": null,
   "id": "5af6af49",
   "metadata": {},
   "outputs": [],
   "source": [
    "import numpy as np\n",
    "import pandas as pd\n",
    "import matplotlib.pyplot as plt\n",
    "import seaborn as sns\n",
    "from sklearn.impute import SimpleImputer\n",
    "import missingno as msno\n",
    "from sklearn.metrics import mean_squared_error, r2_score\n",
    "from sklearn.model_selection import train_test_split, cross_val_score\n",
    "from sklearn.preprocessing import StandardScaler\n",
    "from sklearn.linear_model import LinearRegression\n",
    "from sklearn.svm import SVR\n",
    "from sklearn.tree import DecisionTreeRegressor\n",
    "from sklearn.ensemble import RandomForestRegressor\n",
    "from sklearn.preprocessing import PolynomialFeatures\n",
    "import nbtest\n",
    "import warnings\n",
    "warnings.filterwarnings('ignore')"
   ]
  },
  {
   "cell_type": "code",
   "execution_count": null,
   "id": "bc6cb8a3",
   "metadata": {},
   "outputs": [],
   "source": [
    "train_df = pd.read_csv('./input/train.csv')\n",
    "nbtest.instrument(train_df, 3, 1, 'house-prices-advanced-regression-techniques', 'train_df', api='read_csv')"
   ]
  },
  {
   "cell_type": "code",
   "execution_count": null,
   "id": "95503370",
   "metadata": {},
   "outputs": [],
   "source": [
    "nbtest_tmpvar_0 = train_df.head(10)\n",
    "nbtest.instrument(nbtest_tmpvar_0, 4, 1, 'house-prices-advanced-regression-techniques', 'nbtest_tmpvar_0', api='head')"
   ]
  },
  {
   "cell_type": "code",
   "execution_count": null,
   "id": "3d78385f",
   "metadata": {},
   "outputs": [],
   "source": [
    "train_df = train_df.drop('Id', axis=1)"
   ]
  },
  {
   "cell_type": "code",
   "execution_count": null,
   "id": "70d00b1b",
   "metadata": {},
   "outputs": [],
   "source": [
    "nbtest_tmpvar_1 = train_df.head(3)\n",
    "nbtest.instrument(nbtest_tmpvar_1, 6, 1, 'house-prices-advanced-regression-techniques', 'nbtest_tmpvar_1', api='head')"
   ]
  },
  {
   "cell_type": "code",
   "execution_count": null,
   "id": "a21cca80",
   "metadata": {},
   "outputs": [],
   "source": [
    "train_df.shape\n",
    "nbtest.instrument(train_df.shape, 7, 1, 'house-prices-advanced-regression-techniques', 'train_df.shape')"
   ]
  },
  {
   "cell_type": "code",
   "execution_count": null,
   "id": "d2e56abf",
   "metadata": {},
   "outputs": [],
   "source": [
    "nbtest_tmpvar_2 = train_df.drop_duplicates(inplace=True)\n",
    "nbtest.instrument(nbtest_tmpvar_2, 8, 1, 'house-prices-advanced-regression-techniques', 'nbtest_tmpvar_2', api='drop_duplicates')"
   ]
  },
  {
   "cell_type": "code",
   "execution_count": null,
   "id": "cd8286c2",
   "metadata": {},
   "outputs": [],
   "source": [
    "nbtest_tmpvar_3 = train_df.dtypes.value_counts()\n",
    "nbtest.instrument(nbtest_tmpvar_3, 9, 1, 'house-prices-advanced-regression-techniques', 'nbtest_tmpvar_3', api='value_counts')"
   ]
  },
  {
   "cell_type": "code",
   "execution_count": null,
   "id": "2d6e392d",
   "metadata": {},
   "outputs": [],
   "source": [
    "nbtest_tmpvar_4 = train_df.info()\n",
    "nbtest.instrument(nbtest_tmpvar_4, 10, 1, 'house-prices-advanced-regression-techniques', 'nbtest_tmpvar_4', api='info')"
   ]
  },
  {
   "cell_type": "code",
   "execution_count": null,
   "id": "e6b6ae4c",
   "metadata": {},
   "outputs": [],
   "source": [
    "numerical_features = list(train_df.select_dtypes(include=['float64', 'int64']).columns)\n",
    "print(numerical_features)\n",
    "nbtest.instrument(numerical_features, 11, 2, 'house-prices-advanced-regression-techniques', 'numerical_features')"
   ]
  },
  {
   "cell_type": "code",
   "execution_count": null,
   "id": "34199d73",
   "metadata": {},
   "outputs": [],
   "source": [
    "categorical_features = list(train_df.select_dtypes(exclude=['float64', 'int64']).columns)\n",
    "print(categorical_features)\n",
    "nbtest.instrument(categorical_features, 12, 2, 'house-prices-advanced-regression-techniques', 'categorical_features')"
   ]
  },
  {
   "cell_type": "code",
   "execution_count": null,
   "id": "69a513ac",
   "metadata": {},
   "outputs": [],
   "source": [
    "nbtest_tmpvar_5 = train_df.isnull().sum()\n",
    "nbtest.instrument(nbtest_tmpvar_5, 13, 1, 'house-prices-advanced-regression-techniques', 'nbtest_tmpvar_5', api='sum')"
   ]
  },
  {
   "cell_type": "code",
   "execution_count": null,
   "id": "b71026df",
   "metadata": {},
   "outputs": [],
   "source": [
    "nbtest_tmpvar_6 = train_df.describe()\n",
    "nbtest.instrument(nbtest_tmpvar_6, 14, 1, 'house-prices-advanced-regression-techniques', 'nbtest_tmpvar_6', api='describe')"
   ]
  },
  {
   "cell_type": "code",
   "execution_count": null,
   "id": "e9eef1d6",
   "metadata": {},
   "outputs": [],
   "source": [
    "numeric_df = train_df.select_dtypes(include=[float, int])\n",
    "nbtest_tmpvar_7 = numeric_df.corr()\n",
    "nbtest.instrument(nbtest_tmpvar_7, 15, 2, 'house-prices-advanced-regression-techniques', 'nbtest_tmpvar_7', api='corr')"
   ]
  },
  {
   "cell_type": "code",
   "execution_count": null,
   "id": "bf1355f9",
   "metadata": {},
   "outputs": [],
   "source": [
    "duplicated_columns = train_df.columns[train_df.columns.duplicated()]\n",
    "if len(duplicated_columns) > 0:\n",
    "    print('Duplicated columns:', duplicated_columns)\n",
    "else:\n",
    "    print('No duplicated columns found.')"
   ]
  },
  {
   "cell_type": "code",
   "execution_count": null,
   "id": "58a6f316",
   "metadata": {},
   "outputs": [],
   "source": [
    "duplicated_rows = train_df[train_df.duplicated()]\n",
    "if not duplicated_rows.empty:\n",
    "    print('Duplicated rows:')\n",
    "    print(duplicated_rows)\n",
    "    nbtest.instrument(duplicated_rows, 17, 4, 'house-prices-advanced-regression-techniques', 'duplicated_rows')\n",
    "else:\n",
    "    print('No duplicated rows found.')"
   ]
  },
  {
   "cell_type": "code",
   "execution_count": null,
   "id": "54d06c01",
   "metadata": {},
   "outputs": [],
   "source": [
    "msno.matrix(train_df)"
   ]
  },
  {
   "cell_type": "code",
   "execution_count": null,
   "id": "908df039",
   "metadata": {},
   "outputs": [],
   "source": [
    "imputer = SimpleImputer(missing_values=np.nan, strategy='mean')\n",
    "null_numerical_columns = ['LotFrontage', 'MasVnrArea', 'GarageYrBlt']\n",
    "nbtest_tmpvar_8 = imputer.fit(train_df[null_numerical_columns])\n",
    "nbtest.instrument(nbtest_tmpvar_8, 19, 3, 'house-prices-advanced-regression-techniques', 'nbtest_tmpvar_8', api='fit')\n",
    "train_df[null_numerical_columns] = imputer.transform(train_df[null_numerical_columns])"
   ]
  },
  {
   "cell_type": "code",
   "execution_count": null,
   "id": "4a5467af",
   "metadata": {},
   "outputs": [],
   "source": [
    "imputer = SimpleImputer(missing_values=np.nan, strategy='most_frequent')\n",
    "null_catagorical_columns = ['Alley', 'MasVnrType', 'BsmtQual', 'BsmtCond', 'BsmtExposure', 'BsmtFinType1', 'BsmtFinType2', 'Electrical', 'FireplaceQu', 'GarageType', 'GarageFinish', 'GarageQual', 'GarageCond', 'PoolQC', 'Fence', 'MiscFeature']\n",
    "nbtest_tmpvar_9 = imputer.fit(train_df[null_catagorical_columns])\n",
    "nbtest.instrument(nbtest_tmpvar_9, 20, 3, 'house-prices-advanced-regression-techniques', 'nbtest_tmpvar_9', api='fit')\n",
    "train_df[null_catagorical_columns] = imputer.transform(train_df[null_catagorical_columns])"
   ]
  },
  {
   "cell_type": "code",
   "execution_count": null,
   "id": "e22e8f3e",
   "metadata": {},
   "outputs": [],
   "source": [
    "nbtest_tmpvar_10 = train_df.isnull().sum().sum()\n",
    "nbtest.instrument(nbtest_tmpvar_10, 21, 1, 'house-prices-advanced-regression-techniques', 'nbtest_tmpvar_10', api='sum')"
   ]
  },
  {
   "cell_type": "code",
   "execution_count": null,
   "id": "b117feb2",
   "metadata": {},
   "outputs": [],
   "source": [
    "dummies = pd.get_dummies(train_df[categorical_features], drop_first=True)\n",
    "train_df = pd.concat([train_df, dummies], axis=1)\n",
    "nbtest_tmpvar_11 = train_df.drop(categorical_features, axis=1, inplace=True)\n",
    "nbtest.instrument(nbtest_tmpvar_11, 22, 3, 'house-prices-advanced-regression-techniques', 'nbtest_tmpvar_11', api='drop')\n",
    "nbtest_tmpvar_12 = train_df.head()\n",
    "nbtest.instrument(nbtest_tmpvar_12, 22, 4, 'house-prices-advanced-regression-techniques', 'nbtest_tmpvar_12', api='head')"
   ]
  },
  {
   "cell_type": "code",
   "execution_count": null,
   "id": "1c333300",
   "metadata": {},
   "outputs": [],
   "source": [
    "sns.distplot(train_df['SalePrice'])"
   ]
  },
  {
   "cell_type": "code",
   "execution_count": null,
   "id": "f1cd3c6c",
   "metadata": {},
   "outputs": [],
   "source": [
    "plt.figure(figsize=(8, 6))\n",
    "plt.bar(train_df['OverallQual'], train_df['SalePrice'], color='skyblue')\n",
    "plt.xlabel('OverallQual', fontsize=12)\n",
    "plt.ylabel('SalePrice', fontsize=12)\n",
    "plt.title('SalePrice vs OverallQual', fontsize=16)\n",
    "plt.show()"
   ]
  },
  {
   "cell_type": "code",
   "execution_count": null,
   "id": "847c663f",
   "metadata": {},
   "outputs": [],
   "source": [
    "plt.figure(figsize=(12, 6))\n",
    "sns.lineplot(x='YearBuilt', y='SalePrice', data=train_df, label='SalePrice', marker='o', color='grey')\n",
    "plt.title('SalePrice vs YearBuilt', fontsize=16)\n",
    "plt.xlabel('YearBuilt', fontsize=12)\n",
    "plt.ylabel('SalePrice', fontsize=12)\n",
    "plt.xticks(range(min(train_df['YearBuilt']), max(train_df['YearBuilt']) + 1, 10))\n",
    "plt.legend()\n",
    "plt.tight_layout()\n",
    "plt.show()"
   ]
  },
  {
   "cell_type": "code",
   "execution_count": null,
   "id": "85a98509",
   "metadata": {},
   "outputs": [],
   "source": [
    "sns.set(style='whitegrid')\n",
    "ax = sns.barplot(x='GarageCars', y='SalePrice', data=train_df, color='red')\n",
    "plt.title('SalePrice vs GarageCars', fontsize=16)\n",
    "ax.set_xlabel('GarageCars', fontsize=12)\n",
    "ax.set_ylabel('SalePrice', fontsize=12)\n",
    "plt.tight_layout()\n",
    "plt.show()"
   ]
  },
  {
   "cell_type": "code",
   "execution_count": null,
   "id": "4ced98f2",
   "metadata": {},
   "outputs": [],
   "source": [
    "X = train_df.drop('SalePrice', axis=1)\n",
    "y = train_df['SalePrice']"
   ]
  },
  {
   "cell_type": "code",
   "execution_count": null,
   "id": "a51e4d91",
   "metadata": {},
   "outputs": [],
   "source": [
    "(X_train, X_test, y_train, y_test) = train_test_split(X, y, test_size=0.2, random_state=random_seed)\n",
    "nbtest.instrument(y_test, 28, 1, 'house-prices-advanced-regression-techniques', 'y_test', api='train_test_split')\n",
    "nbtest.instrument(y_train, 28, 1, 'house-prices-advanced-regression-techniques', 'y_train', api='train_test_split')\n",
    "nbtest.instrument(X_test, 28, 1, 'house-prices-advanced-regression-techniques', 'X_test', api='train_test_split')\n",
    "nbtest.instrument(X_train, 28, 1, 'house-prices-advanced-regression-techniques', 'X_train', api='train_test_split')\n",
    "nbtest.assert_df_leakage(X_test, X_test)"
   ]
  },
  {
   "cell_type": "code",
   "execution_count": null,
   "id": "a88228d8",
   "metadata": {},
   "outputs": [],
   "source": [
    "sc = StandardScaler()\n",
    "X_train = sc.fit_transform(X_train)\n",
    "X_test = sc.transform(X_test)"
   ]
  },
  {
   "cell_type": "code",
   "execution_count": null,
   "id": "867fb74d",
   "metadata": {},
   "outputs": [],
   "source": [
    "models = {'Multiple Linear Regression': LinearRegression(), 'Polynomial Regression': LinearRegression(), 'Support Vector Regression': SVR(), 'Decision Tree Regression': DecisionTreeRegressor(), 'Random Forest Regression': RandomForestRegressor()}\n",
    "poly_degree = 2\n",
    "cv_scores = {}\n",
    "for (model_name, model) in models.items():\n",
    "    if model_name == 'Polynomial Regression':\n",
    "        poly_features = PolynomialFeatures(degree=poly_degree)\n",
    "        X_train_poly = poly_features.fit_transform(X_train)\n",
    "        scores = cross_val_score(model, X_train_poly, y_train, scoring='neg_mean_squared_error', cv=5)\n",
    "    else:\n",
    "        scores = cross_val_score(model, X_train, y_train, scoring='neg_mean_squared_error', cv=5)\n",
    "    mse_scores = -scores\n",
    "    cv_scores[model_name] = mse_scores.mean()\n",
    "best_model_name = min(cv_scores, key=cv_scores.get)\n",
    "best_model = models[best_model_name]\n",
    "if best_model_name == 'Polynomial Regression':\n",
    "    poly_features = PolynomialFeatures(degree=poly_degree)\n",
    "    X_train_poly = poly_features.fit_transform(X_train)\n",
    "    nbtest_tmpvar_13 = best_model.fit(X_train_poly, y_train)\n",
    "    nbtest.instrument(nbtest_tmpvar_13, 30, 24, 'house-prices-advanced-regression-techniques', 'nbtest_tmpvar_13', api='fit')\n",
    "else:\n",
    "    nbtest_tmpvar_14 = best_model.fit(X_train, y_train)\n",
    "    nbtest.instrument(nbtest_tmpvar_14, 30, 26, 'house-prices-advanced-regression-techniques', 'nbtest_tmpvar_14', api='fit')\n",
    "if best_model_name == 'Polynomial Regression':\n",
    "    X_test_poly = poly_features.transform(X_test)\n",
    "    y_pred = best_model.predict(X_test_poly)\n",
    "else:\n",
    "    y_pred = best_model.predict(X_test)\n",
    "mse = mean_squared_error(y_test, y_pred)\n",
    "nbtest.instrument(mse, 30, 32, 'house-prices-advanced-regression-techniques', 'mse', api='mean_squared_error')\n",
    "print(f'Best Model: {best_model_name}')\n",
    "print(f'Mean Squared Error on Test Data: {mse}')"
   ]
  },
  {
   "cell_type": "code",
   "execution_count": null,
   "id": "b523b1c9",
   "metadata": {},
   "outputs": [],
   "source": [
    "results = {'Model': [], 'Cross-Validation MSE': [], 'Test MSE': []}\n",
    "for (model_name, model) in models.items():\n",
    "    if model_name == 'Polynomial Regression':\n",
    "        poly_features = PolynomialFeatures(degree=poly_degree)\n",
    "        X_train_poly = poly_features.fit_transform(X_train)\n",
    "        scores = cross_val_score(model, X_train_poly, y_train, scoring='neg_mean_squared_error', cv=5)\n",
    "    else:\n",
    "        scores = cross_val_score(model, X_train, y_train, scoring='neg_mean_squared_error', cv=5)\n",
    "    mse_scores = -scores\n",
    "    cv_mse_mean = mse_scores.mean()\n",
    "    if model_name == 'Polynomial Regression':\n",
    "        poly_features = PolynomialFeatures(degree=poly_degree)\n",
    "        X_train_poly = poly_features.fit_transform(X_train)\n",
    "        nbtest_tmpvar_15 = model.fit(X_train_poly, y_train)\n",
    "        nbtest.instrument(nbtest_tmpvar_15, 31, 18, 'house-prices-advanced-regression-techniques', 'nbtest_tmpvar_15', api='fit')\n",
    "        X_test_poly = poly_features.transform(X_test)\n",
    "        y_pred = model.predict(X_test_poly)\n",
    "    else:\n",
    "        nbtest_tmpvar_16 = model.fit(X_train, y_train)\n",
    "        nbtest.instrument(nbtest_tmpvar_16, 31, 22, 'house-prices-advanced-regression-techniques', 'nbtest_tmpvar_16', api='fit')\n",
    "        y_pred = model.predict(X_test)\n",
    "    test_mse = mean_squared_error(y_test, y_pred)\n",
    "    nbtest.instrument(test_mse, 31, 24, 'house-prices-advanced-regression-techniques', 'test_mse', api='mean_squared_error')\n",
    "    results['Model'].append(model_name)\n",
    "    results['Cross-Validation MSE'].append(cv_mse_mean)\n",
    "    results['Test MSE'].append(test_mse)\n",
    "results_df = pd.DataFrame(results)\n",
    "nbtest.instrument(results_df, 31, 28, 'house-prices-advanced-regression-techniques', 'results_df', api='DataFrame')\n",
    "print(results_df)\n",
    "nbtest.instrument(results_df, 31, 29, 'house-prices-advanced-regression-techniques', 'results_df')"
   ]
  },
  {
   "cell_type": "code",
   "execution_count": null,
   "id": "06c4ff12",
   "metadata": {},
   "outputs": [],
   "source": [
    "regressor = RandomForestRegressor(n_estimators=10, random_state=random_seed)\n",
    "nbtest_tmpvar_17 = regressor.fit(X_train, y_train)\n",
    "nbtest.instrument(nbtest_tmpvar_17, 32, 2, 'house-prices-advanced-regression-techniques', 'nbtest_tmpvar_17', api='fit')"
   ]
  },
  {
   "cell_type": "code",
   "execution_count": null,
   "id": "d007b654",
   "metadata": {},
   "outputs": [],
   "source": [
    "y_pred = regressor.predict(X_test)"
   ]
  },
  {
   "cell_type": "code",
   "execution_count": null,
   "id": "e583b4f9",
   "metadata": {},
   "outputs": [],
   "source": [
    "nbtest_tmpvar_18 = r2_score(y_test, y_pred)\n",
    "nbtest.instrument(nbtest_tmpvar_18, 34, 1, 'house-prices-advanced-regression-techniques', 'nbtest_tmpvar_18', api='r2_score')"
   ]
  },
  {
   "cell_type": "code",
   "execution_count": null,
   "id": "06de27e6",
   "metadata": {},
   "outputs": [],
   "source": [
    "plt.figure(figsize=(8, 8))\n",
    "plt.scatter(y_test, y_pred, alpha=0.5, color='green')\n",
    "plt.xlabel('Actual Values')\n",
    "plt.ylabel('Predicted Values')\n",
    "plt.title('Random Forest Regression')\n",
    "plt.grid(True)\n",
    "plt.show()"
   ]
  }
 ],
 "metadata": {},
 "nbformat": 4,
 "nbformat_minor": 5
}
