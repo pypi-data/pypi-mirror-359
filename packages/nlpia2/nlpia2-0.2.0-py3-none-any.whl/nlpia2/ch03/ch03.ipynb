{
 "cells": [
  {
   "cell_type": "markdown",
   "metadata": {},
   "source": [
    "# BOW"
   ]
  },
  {
   "cell_type": "code",
   "execution_count": 1,
   "metadata": {},
   "outputs": [],
   "source": [
    "from nltk.tokenize import TreebankWordTokenizer"
   ]
  },
  {
   "cell_type": "code",
   "execution_count": 2,
   "metadata": {},
   "outputs": [],
   "source": [
    "sentence = \"\"\"The faster Harry got to the store, the faster Harry, the faster, would get home.\"\"\""
   ]
  },
  {
   "cell_type": "code",
   "execution_count": 3,
   "metadata": {},
   "outputs": [],
   "source": [
    "tokenizer = TreebankWordTokenizer()"
   ]
  },
  {
   "cell_type": "code",
   "execution_count": 4,
   "metadata": {},
   "outputs": [],
   "source": [
    "tokens = tokenizer.tokenize(sentence.lower())"
   ]
  },
  {
   "cell_type": "code",
   "execution_count": 5,
   "metadata": {},
   "outputs": [
    {
     "data": {
      "text/plain": [
       "['the',\n",
       " 'faster',\n",
       " 'harry',\n",
       " 'got',\n",
       " 'to',\n",
       " 'the',\n",
       " 'store',\n",
       " ',',\n",
       " 'the',\n",
       " 'faster',\n",
       " 'harry',\n",
       " ',',\n",
       " 'the',\n",
       " 'faster',\n",
       " ',',\n",
       " 'would',\n",
       " 'get',\n",
       " 'home',\n",
       " '.']"
      ]
     },
     "execution_count": 5,
     "metadata": {},
     "output_type": "execute_result"
    }
   ],
   "source": [
    "tokens"
   ]
  },
  {
   "cell_type": "markdown",
   "metadata": {},
   "source": [
    "Counter to count to occurences.."
   ]
  },
  {
   "cell_type": "code",
   "execution_count": 6,
   "metadata": {},
   "outputs": [],
   "source": [
    "from collections import Counter"
   ]
  },
  {
   "cell_type": "code",
   "execution_count": 7,
   "metadata": {},
   "outputs": [],
   "source": [
    "bow = Counter(tokens)"
   ]
  },
  {
   "cell_type": "code",
   "execution_count": 8,
   "metadata": {},
   "outputs": [
    {
     "data": {
      "text/plain": [
       "Counter({'the': 4,\n",
       "         'faster': 3,\n",
       "         'harry': 2,\n",
       "         'got': 1,\n",
       "         'to': 1,\n",
       "         'store': 1,\n",
       "         ',': 3,\n",
       "         'would': 1,\n",
       "         'get': 1,\n",
       "         'home': 1,\n",
       "         '.': 1})"
      ]
     },
     "execution_count": 8,
     "metadata": {},
     "output_type": "execute_result"
    }
   ],
   "source": [
    "bow"
   ]
  },
  {
   "cell_type": "markdown",
   "metadata": {},
   "source": [
    "Ranking the keys in dictionary"
   ]
  },
  {
   "cell_type": "code",
   "execution_count": 9,
   "metadata": {},
   "outputs": [
    {
     "data": {
      "text/plain": [
       "[('the', 4), ('faster', 3), (',', 3), ('harry', 2)]"
      ]
     },
     "execution_count": 9,
     "metadata": {},
     "output_type": "execute_result"
    }
   ],
   "source": [
    "bow.most_common(4)"
   ]
  },
  {
   "cell_type": "markdown",
   "metadata": {},
   "source": [
    "# TF"
   ]
  },
  {
   "cell_type": "code",
   "execution_count": 10,
   "metadata": {},
   "outputs": [],
   "source": [
    "tf_harry = bow['harry']"
   ]
  },
  {
   "cell_type": "code",
   "execution_count": 11,
   "metadata": {},
   "outputs": [
    {
     "data": {
      "text/plain": [
       "2"
      ]
     },
     "execution_count": 11,
     "metadata": {},
     "output_type": "execute_result"
    }
   ],
   "source": [
    "tf_harry"
   ]
  },
  {
   "cell_type": "code",
   "execution_count": 12,
   "metadata": {},
   "outputs": [],
   "source": [
    "no_of_unique_words = len(bow)"
   ]
  },
  {
   "cell_type": "code",
   "execution_count": 13,
   "metadata": {},
   "outputs": [],
   "source": [
    "tf = tf_harry / no_of_unique_words"
   ]
  },
  {
   "cell_type": "code",
   "execution_count": 14,
   "metadata": {},
   "outputs": [
    {
     "data": {
      "text/plain": [
       "0.1818"
      ]
     },
     "execution_count": 14,
     "metadata": {},
     "output_type": "execute_result"
    }
   ],
   "source": [
    "round(tf, 4)"
   ]
  },
  {
   "cell_type": "markdown",
   "metadata": {},
   "source": [
    "Kite eg"
   ]
  },
  {
   "cell_type": "code",
   "execution_count": 15,
   "metadata": {},
   "outputs": [],
   "source": [
    "kite_text = \"\"\" A kite is traditionally a tethered heavier-than-air craft with wing surfaces that react\n",
    "against the air to create lift and drag. A kite consists of wings, tethers, and anchors.\n",
    "Kites often have a bridle to guide the face of the kite at the correct angle so the wind\n",
    "can lift it. A kite’s wing also may be so designed so a bridle is not needed; when\n",
    "kiting a sailplane for launch, the tether meets the wing at a single point. A kite may\n",
    "have fixed or moving anchors. Untraditionally in technical kiting, a kite consists of\n",
    "tether-set-coupled wing sets; even in technical kiting, though, a wing in the system is\n",
    "still often called the kite.\n",
    "The lift that sustains the kite in flight is generated when air flows around the kite’s\n",
    "surface, producing low pressure above and high pressure below the wings. The\n",
    "interaction with the wind also generates horizontal drag along the direction of the\n",
    "wind. The resultant force vector from the lift and drag force components is opposed\n",
    "by the tension of one or more of the lines or tethers to which the kite is attached. The\n",
    "anchor point of the kite line may be static or moving (such as the towing of a kite by\n",
    "a running person, boat, free-falling anchors as in paragliders and fugitive parakites\n",
    "or vehicle).\n",
    "The same principles of fluid flow apply in liquids and kites are also used under water.\n",
    "A hybrid tethered craft comprising both a lighter-than-air balloon as well as a kite\n",
    "lifting surface is called a kytoon.\n",
    "Kites have a long and varied history and many different types are flown\n",
    "individually and at festivals worldwide. Kites may be flown for recreation, art or\n",
    "other practical uses. Sport kites can be flown in aerial ballet, sometimes as part of a\n",
    "competition. Power kites are multi-line steerable kites designed to generate large forces\n",
    "which can be used to power activities such as kite surfing, kite landboarding, kite\n",
    "fishing, kite buggying and a new trend snow kiting. Even Man-lifting kites have\n",
    "been made. \"\"\""
   ]
  },
  {
   "cell_type": "code",
   "execution_count": 16,
   "metadata": {},
   "outputs": [
    {
     "data": {
      "text/plain": [
       "1965"
      ]
     },
     "execution_count": 16,
     "metadata": {},
     "output_type": "execute_result"
    }
   ],
   "source": [
    "len(kite_text)"
   ]
  },
  {
   "cell_type": "code",
   "execution_count": 17,
   "metadata": {},
   "outputs": [],
   "source": [
    "tokens = tokenizer.tokenize(kite_text.lower())"
   ]
  },
  {
   "cell_type": "code",
   "execution_count": 18,
   "metadata": {},
   "outputs": [
    {
     "data": {
      "text/plain": [
       "365"
      ]
     },
     "execution_count": 18,
     "metadata": {},
     "output_type": "execute_result"
    }
   ],
   "source": [
    "len(tokens) #Length before removing stopwords"
   ]
  },
  {
   "cell_type": "code",
   "execution_count": 19,
   "metadata": {},
   "outputs": [],
   "source": [
    "token_counts = Counter(tokens)"
   ]
  },
  {
   "cell_type": "code",
   "execution_count": 20,
   "metadata": {},
   "outputs": [
    {
     "data": {
      "text/plain": [
       "Counter({'a': 20,\n",
       "         'kite': 16,\n",
       "         'is': 7,\n",
       "         'traditionally': 1,\n",
       "         'tethered': 2,\n",
       "         'heavier-than-air': 1,\n",
       "         'craft': 2,\n",
       "         'with': 2,\n",
       "         'wing': 5,\n",
       "         'surfaces': 1,\n",
       "         'that': 2,\n",
       "         'react': 1,\n",
       "         'against': 1,\n",
       "         'the': 26,\n",
       "         'air': 2,\n",
       "         'to': 5,\n",
       "         'create': 1,\n",
       "         'lift': 4,\n",
       "         'and': 10,\n",
       "         'drag.': 1,\n",
       "         'consists': 2,\n",
       "         'of': 10,\n",
       "         'wings': 1,\n",
       "         ',': 14,\n",
       "         'tethers': 2,\n",
       "         'anchors.': 2,\n",
       "         'kites': 8,\n",
       "         'often': 2,\n",
       "         'have': 4,\n",
       "         'bridle': 2,\n",
       "         'guide': 1,\n",
       "         'face': 1,\n",
       "         'at': 3,\n",
       "         'correct': 1,\n",
       "         'angle': 1,\n",
       "         'so': 3,\n",
       "         'wind': 2,\n",
       "         'can': 3,\n",
       "         'it.': 1,\n",
       "         '’': 2,\n",
       "         's': 2,\n",
       "         'also': 3,\n",
       "         'may': 4,\n",
       "         'be': 5,\n",
       "         'designed': 2,\n",
       "         'not': 1,\n",
       "         'needed': 1,\n",
       "         ';': 2,\n",
       "         'when': 2,\n",
       "         'kiting': 3,\n",
       "         'sailplane': 1,\n",
       "         'for': 2,\n",
       "         'launch': 1,\n",
       "         'tether': 1,\n",
       "         'meets': 1,\n",
       "         'single': 1,\n",
       "         'point.': 1,\n",
       "         'fixed': 1,\n",
       "         'or': 6,\n",
       "         'moving': 2,\n",
       "         'untraditionally': 1,\n",
       "         'in': 7,\n",
       "         'technical': 2,\n",
       "         'tether-set-coupled': 1,\n",
       "         'sets': 1,\n",
       "         'even': 2,\n",
       "         'though': 1,\n",
       "         'system': 1,\n",
       "         'still': 1,\n",
       "         'called': 2,\n",
       "         'kite.': 1,\n",
       "         'sustains': 1,\n",
       "         'flight': 1,\n",
       "         'generated': 1,\n",
       "         'flows': 1,\n",
       "         'around': 1,\n",
       "         'surface': 2,\n",
       "         'producing': 1,\n",
       "         'low': 1,\n",
       "         'pressure': 2,\n",
       "         'above': 1,\n",
       "         'high': 1,\n",
       "         'below': 1,\n",
       "         'wings.': 1,\n",
       "         'interaction': 1,\n",
       "         'generates': 1,\n",
       "         'horizontal': 1,\n",
       "         'drag': 2,\n",
       "         'along': 1,\n",
       "         'direction': 1,\n",
       "         'wind.': 1,\n",
       "         'resultant': 1,\n",
       "         'force': 2,\n",
       "         'vector': 1,\n",
       "         'from': 1,\n",
       "         'components': 1,\n",
       "         'opposed': 1,\n",
       "         'by': 2,\n",
       "         'tension': 1,\n",
       "         'one': 1,\n",
       "         'more': 1,\n",
       "         'lines': 1,\n",
       "         'which': 2,\n",
       "         'attached.': 1,\n",
       "         'anchor': 1,\n",
       "         'point': 1,\n",
       "         'line': 1,\n",
       "         'static': 1,\n",
       "         '(': 1,\n",
       "         'such': 2,\n",
       "         'as': 6,\n",
       "         'towing': 1,\n",
       "         'running': 1,\n",
       "         'person': 1,\n",
       "         'boat': 1,\n",
       "         'free-falling': 1,\n",
       "         'anchors': 1,\n",
       "         'paragliders': 1,\n",
       "         'fugitive': 1,\n",
       "         'parakites': 1,\n",
       "         'vehicle': 1,\n",
       "         ')': 1,\n",
       "         '.': 2,\n",
       "         'same': 1,\n",
       "         'principles': 1,\n",
       "         'fluid': 1,\n",
       "         'flow': 1,\n",
       "         'apply': 1,\n",
       "         'liquids': 1,\n",
       "         'are': 3,\n",
       "         'used': 2,\n",
       "         'under': 1,\n",
       "         'water.': 1,\n",
       "         'hybrid': 1,\n",
       "         'comprising': 1,\n",
       "         'both': 1,\n",
       "         'lighter-than-air': 1,\n",
       "         'balloon': 1,\n",
       "         'well': 1,\n",
       "         'lifting': 1,\n",
       "         'kytoon.': 1,\n",
       "         'long': 1,\n",
       "         'varied': 1,\n",
       "         'history': 1,\n",
       "         'many': 1,\n",
       "         'different': 1,\n",
       "         'types': 1,\n",
       "         'flown': 3,\n",
       "         'individually': 1,\n",
       "         'festivals': 1,\n",
       "         'worldwide.': 1,\n",
       "         'recreation': 1,\n",
       "         'art': 1,\n",
       "         'other': 1,\n",
       "         'practical': 1,\n",
       "         'uses.': 1,\n",
       "         'sport': 1,\n",
       "         'aerial': 1,\n",
       "         'ballet': 1,\n",
       "         'sometimes': 1,\n",
       "         'part': 1,\n",
       "         'competition.': 1,\n",
       "         'power': 2,\n",
       "         'multi-line': 1,\n",
       "         'steerable': 1,\n",
       "         'generate': 1,\n",
       "         'large': 1,\n",
       "         'forces': 1,\n",
       "         'activities': 1,\n",
       "         'surfing': 1,\n",
       "         'landboarding': 1,\n",
       "         'fishing': 1,\n",
       "         'buggying': 1,\n",
       "         'new': 1,\n",
       "         'trend': 1,\n",
       "         'snow': 1,\n",
       "         'kiting.': 1,\n",
       "         'man-lifting': 1,\n",
       "         'been': 1,\n",
       "         'made': 1})"
      ]
     },
     "execution_count": 20,
     "metadata": {},
     "output_type": "execute_result"
    }
   ],
   "source": [
    "token_counts"
   ]
  },
  {
   "cell_type": "code",
   "execution_count": 21,
   "metadata": {},
   "outputs": [
    {
     "data": {
      "text/plain": [
       "180"
      ]
     },
     "execution_count": 21,
     "metadata": {},
     "output_type": "execute_result"
    }
   ],
   "source": [
    "len(token_counts) # length of Token counts before removing stopwords"
   ]
  },
  {
   "cell_type": "code",
   "execution_count": 22,
   "metadata": {},
   "outputs": [],
   "source": [
    "import nltk"
   ]
  },
  {
   "cell_type": "code",
   "execution_count": 23,
   "metadata": {},
   "outputs": [
    {
     "data": {
      "text/plain": [
       "True"
      ]
     },
     "execution_count": 23,
     "metadata": {},
     "output_type": "execute_result"
    }
   ],
   "source": [
    "nltk.download('stopwords', quiet=True)"
   ]
  },
  {
   "cell_type": "code",
   "execution_count": 24,
   "metadata": {},
   "outputs": [],
   "source": [
    "stopwords = nltk.corpus.stopwords.words('english')"
   ]
  },
  {
   "cell_type": "code",
   "execution_count": 25,
   "metadata": {},
   "outputs": [],
   "source": [
    "tokens = [ x for x in tokens if x not in stopwords ]"
   ]
  },
  {
   "cell_type": "code",
   "execution_count": 26,
   "metadata": {},
   "outputs": [
    {
     "data": {
      "text/plain": [
       "['kite',\n",
       " 'traditionally',\n",
       " 'tethered',\n",
       " 'heavier-than-air',\n",
       " 'craft',\n",
       " 'wing',\n",
       " 'surfaces',\n",
       " 'react',\n",
       " 'air',\n",
       " 'create',\n",
       " 'lift',\n",
       " 'drag.',\n",
       " 'kite',\n",
       " 'consists',\n",
       " 'wings',\n",
       " ',',\n",
       " 'tethers',\n",
       " ',',\n",
       " 'anchors.',\n",
       " 'kites',\n",
       " 'often',\n",
       " 'bridle',\n",
       " 'guide',\n",
       " 'face',\n",
       " 'kite',\n",
       " 'correct',\n",
       " 'angle',\n",
       " 'wind',\n",
       " 'lift',\n",
       " 'it.',\n",
       " 'kite',\n",
       " '’',\n",
       " 'wing',\n",
       " 'also',\n",
       " 'may',\n",
       " 'designed',\n",
       " 'bridle',\n",
       " 'needed',\n",
       " ';',\n",
       " 'kiting',\n",
       " 'sailplane',\n",
       " 'launch',\n",
       " ',',\n",
       " 'tether',\n",
       " 'meets',\n",
       " 'wing',\n",
       " 'single',\n",
       " 'point.',\n",
       " 'kite',\n",
       " 'may',\n",
       " 'fixed',\n",
       " 'moving',\n",
       " 'anchors.',\n",
       " 'untraditionally',\n",
       " 'technical',\n",
       " 'kiting',\n",
       " ',',\n",
       " 'kite',\n",
       " 'consists',\n",
       " 'tether-set-coupled',\n",
       " 'wing',\n",
       " 'sets',\n",
       " ';',\n",
       " 'even',\n",
       " 'technical',\n",
       " 'kiting',\n",
       " ',',\n",
       " 'though',\n",
       " ',',\n",
       " 'wing',\n",
       " 'system',\n",
       " 'still',\n",
       " 'often',\n",
       " 'called',\n",
       " 'kite.',\n",
       " 'lift',\n",
       " 'sustains',\n",
       " 'kite',\n",
       " 'flight',\n",
       " 'generated',\n",
       " 'air',\n",
       " 'flows',\n",
       " 'around',\n",
       " 'kite',\n",
       " '’',\n",
       " 'surface',\n",
       " ',',\n",
       " 'producing',\n",
       " 'low',\n",
       " 'pressure',\n",
       " 'high',\n",
       " 'pressure',\n",
       " 'wings.',\n",
       " 'interaction',\n",
       " 'wind',\n",
       " 'also',\n",
       " 'generates',\n",
       " 'horizontal',\n",
       " 'drag',\n",
       " 'along',\n",
       " 'direction',\n",
       " 'wind.',\n",
       " 'resultant',\n",
       " 'force',\n",
       " 'vector',\n",
       " 'lift',\n",
       " 'drag',\n",
       " 'force',\n",
       " 'components',\n",
       " 'opposed',\n",
       " 'tension',\n",
       " 'one',\n",
       " 'lines',\n",
       " 'tethers',\n",
       " 'kite',\n",
       " 'attached.',\n",
       " 'anchor',\n",
       " 'point',\n",
       " 'kite',\n",
       " 'line',\n",
       " 'may',\n",
       " 'static',\n",
       " 'moving',\n",
       " '(',\n",
       " 'towing',\n",
       " 'kite',\n",
       " 'running',\n",
       " 'person',\n",
       " ',',\n",
       " 'boat',\n",
       " ',',\n",
       " 'free-falling',\n",
       " 'anchors',\n",
       " 'paragliders',\n",
       " 'fugitive',\n",
       " 'parakites',\n",
       " 'vehicle',\n",
       " ')',\n",
       " '.',\n",
       " 'principles',\n",
       " 'fluid',\n",
       " 'flow',\n",
       " 'apply',\n",
       " 'liquids',\n",
       " 'kites',\n",
       " 'also',\n",
       " 'used',\n",
       " 'water.',\n",
       " 'hybrid',\n",
       " 'tethered',\n",
       " 'craft',\n",
       " 'comprising',\n",
       " 'lighter-than-air',\n",
       " 'balloon',\n",
       " 'well',\n",
       " 'kite',\n",
       " 'lifting',\n",
       " 'surface',\n",
       " 'called',\n",
       " 'kytoon.',\n",
       " 'kites',\n",
       " 'long',\n",
       " 'varied',\n",
       " 'history',\n",
       " 'many',\n",
       " 'different',\n",
       " 'types',\n",
       " 'flown',\n",
       " 'individually',\n",
       " 'festivals',\n",
       " 'worldwide.',\n",
       " 'kites',\n",
       " 'may',\n",
       " 'flown',\n",
       " 'recreation',\n",
       " ',',\n",
       " 'art',\n",
       " 'practical',\n",
       " 'uses.',\n",
       " 'sport',\n",
       " 'kites',\n",
       " 'flown',\n",
       " 'aerial',\n",
       " 'ballet',\n",
       " ',',\n",
       " 'sometimes',\n",
       " 'part',\n",
       " 'competition.',\n",
       " 'power',\n",
       " 'kites',\n",
       " 'multi-line',\n",
       " 'steerable',\n",
       " 'kites',\n",
       " 'designed',\n",
       " 'generate',\n",
       " 'large',\n",
       " 'forces',\n",
       " 'used',\n",
       " 'power',\n",
       " 'activities',\n",
       " 'kite',\n",
       " 'surfing',\n",
       " ',',\n",
       " 'kite',\n",
       " 'landboarding',\n",
       " ',',\n",
       " 'kite',\n",
       " 'fishing',\n",
       " ',',\n",
       " 'kite',\n",
       " 'buggying',\n",
       " 'new',\n",
       " 'trend',\n",
       " 'snow',\n",
       " 'kiting.',\n",
       " 'even',\n",
       " 'man-lifting',\n",
       " 'kites',\n",
       " 'made',\n",
       " '.']"
      ]
     },
     "execution_count": 26,
     "metadata": {},
     "output_type": "execute_result"
    }
   ],
   "source": [
    "tokens"
   ]
  },
  {
   "cell_type": "code",
   "execution_count": 27,
   "metadata": {},
   "outputs": [
    {
     "data": {
      "text/plain": [
       "220"
      ]
     },
     "execution_count": 27,
     "metadata": {},
     "output_type": "execute_result"
    }
   ],
   "source": [
    "len(tokens) #Length after removing stopwords"
   ]
  },
  {
   "cell_type": "code",
   "execution_count": 28,
   "metadata": {},
   "outputs": [],
   "source": [
    "kite_counts = Counter(tokens)"
   ]
  },
  {
   "cell_type": "code",
   "execution_count": 29,
   "metadata": {},
   "outputs": [
    {
     "data": {
      "text/plain": [
       "Counter({'kite': 16,\n",
       "         'traditionally': 1,\n",
       "         'tethered': 2,\n",
       "         'heavier-than-air': 1,\n",
       "         'craft': 2,\n",
       "         'wing': 5,\n",
       "         'surfaces': 1,\n",
       "         'react': 1,\n",
       "         'air': 2,\n",
       "         'create': 1,\n",
       "         'lift': 4,\n",
       "         'drag.': 1,\n",
       "         'consists': 2,\n",
       "         'wings': 1,\n",
       "         ',': 14,\n",
       "         'tethers': 2,\n",
       "         'anchors.': 2,\n",
       "         'kites': 8,\n",
       "         'often': 2,\n",
       "         'bridle': 2,\n",
       "         'guide': 1,\n",
       "         'face': 1,\n",
       "         'correct': 1,\n",
       "         'angle': 1,\n",
       "         'wind': 2,\n",
       "         'it.': 1,\n",
       "         '’': 2,\n",
       "         'also': 3,\n",
       "         'may': 4,\n",
       "         'designed': 2,\n",
       "         'needed': 1,\n",
       "         ';': 2,\n",
       "         'kiting': 3,\n",
       "         'sailplane': 1,\n",
       "         'launch': 1,\n",
       "         'tether': 1,\n",
       "         'meets': 1,\n",
       "         'single': 1,\n",
       "         'point.': 1,\n",
       "         'fixed': 1,\n",
       "         'moving': 2,\n",
       "         'untraditionally': 1,\n",
       "         'technical': 2,\n",
       "         'tether-set-coupled': 1,\n",
       "         'sets': 1,\n",
       "         'even': 2,\n",
       "         'though': 1,\n",
       "         'system': 1,\n",
       "         'still': 1,\n",
       "         'called': 2,\n",
       "         'kite.': 1,\n",
       "         'sustains': 1,\n",
       "         'flight': 1,\n",
       "         'generated': 1,\n",
       "         'flows': 1,\n",
       "         'around': 1,\n",
       "         'surface': 2,\n",
       "         'producing': 1,\n",
       "         'low': 1,\n",
       "         'pressure': 2,\n",
       "         'high': 1,\n",
       "         'wings.': 1,\n",
       "         'interaction': 1,\n",
       "         'generates': 1,\n",
       "         'horizontal': 1,\n",
       "         'drag': 2,\n",
       "         'along': 1,\n",
       "         'direction': 1,\n",
       "         'wind.': 1,\n",
       "         'resultant': 1,\n",
       "         'force': 2,\n",
       "         'vector': 1,\n",
       "         'components': 1,\n",
       "         'opposed': 1,\n",
       "         'tension': 1,\n",
       "         'one': 1,\n",
       "         'lines': 1,\n",
       "         'attached.': 1,\n",
       "         'anchor': 1,\n",
       "         'point': 1,\n",
       "         'line': 1,\n",
       "         'static': 1,\n",
       "         '(': 1,\n",
       "         'towing': 1,\n",
       "         'running': 1,\n",
       "         'person': 1,\n",
       "         'boat': 1,\n",
       "         'free-falling': 1,\n",
       "         'anchors': 1,\n",
       "         'paragliders': 1,\n",
       "         'fugitive': 1,\n",
       "         'parakites': 1,\n",
       "         'vehicle': 1,\n",
       "         ')': 1,\n",
       "         '.': 2,\n",
       "         'principles': 1,\n",
       "         'fluid': 1,\n",
       "         'flow': 1,\n",
       "         'apply': 1,\n",
       "         'liquids': 1,\n",
       "         'used': 2,\n",
       "         'water.': 1,\n",
       "         'hybrid': 1,\n",
       "         'comprising': 1,\n",
       "         'lighter-than-air': 1,\n",
       "         'balloon': 1,\n",
       "         'well': 1,\n",
       "         'lifting': 1,\n",
       "         'kytoon.': 1,\n",
       "         'long': 1,\n",
       "         'varied': 1,\n",
       "         'history': 1,\n",
       "         'many': 1,\n",
       "         'different': 1,\n",
       "         'types': 1,\n",
       "         'flown': 3,\n",
       "         'individually': 1,\n",
       "         'festivals': 1,\n",
       "         'worldwide.': 1,\n",
       "         'recreation': 1,\n",
       "         'art': 1,\n",
       "         'practical': 1,\n",
       "         'uses.': 1,\n",
       "         'sport': 1,\n",
       "         'aerial': 1,\n",
       "         'ballet': 1,\n",
       "         'sometimes': 1,\n",
       "         'part': 1,\n",
       "         'competition.': 1,\n",
       "         'power': 2,\n",
       "         'multi-line': 1,\n",
       "         'steerable': 1,\n",
       "         'generate': 1,\n",
       "         'large': 1,\n",
       "         'forces': 1,\n",
       "         'activities': 1,\n",
       "         'surfing': 1,\n",
       "         'landboarding': 1,\n",
       "         'fishing': 1,\n",
       "         'buggying': 1,\n",
       "         'new': 1,\n",
       "         'trend': 1,\n",
       "         'snow': 1,\n",
       "         'kiting.': 1,\n",
       "         'man-lifting': 1,\n",
       "         'made': 1})"
      ]
     },
     "execution_count": 29,
     "metadata": {},
     "output_type": "execute_result"
    }
   ],
   "source": [
    "kite_counts"
   ]
  },
  {
   "cell_type": "code",
   "execution_count": 30,
   "metadata": {},
   "outputs": [
    {
     "data": {
      "text/plain": [
       "146"
      ]
     },
     "execution_count": 30,
     "metadata": {},
     "output_type": "execute_result"
    }
   ],
   "source": [
    "len(kite_counts) # length of Token counts after removing stopwords"
   ]
  },
  {
   "cell_type": "markdown",
   "metadata": {},
   "source": [
    "Vectorizing"
   ]
  },
  {
   "cell_type": "code",
   "execution_count": 31,
   "metadata": {},
   "outputs": [],
   "source": [
    "document_vector = []"
   ]
  },
  {
   "cell_type": "code",
   "execution_count": 32,
   "metadata": {},
   "outputs": [],
   "source": [
    "document_length = len(tokens)"
   ]
  },
  {
   "cell_type": "code",
   "execution_count": 33,
   "metadata": {},
   "outputs": [],
   "source": [
    "for key, value in kite_counts.most_common():\n",
    "    document_vector.append(value / document_length)"
   ]
  },
  {
   "cell_type": "code",
   "execution_count": 34,
   "metadata": {},
   "outputs": [
    {
     "data": {
      "text/plain": [
       "[0.07272727272727272,\n",
       " 0.06363636363636363,\n",
       " 0.03636363636363636,\n",
       " 0.022727272727272728,\n",
       " 0.01818181818181818,\n",
       " 0.01818181818181818,\n",
       " 0.013636363636363636,\n",
       " 0.013636363636363636,\n",
       " 0.013636363636363636,\n",
       " 0.00909090909090909,\n",
       " 0.00909090909090909,\n",
       " 0.00909090909090909,\n",
       " 0.00909090909090909,\n",
       " 0.00909090909090909,\n",
       " 0.00909090909090909,\n",
       " 0.00909090909090909,\n",
       " 0.00909090909090909,\n",
       " 0.00909090909090909,\n",
       " 0.00909090909090909,\n",
       " 0.00909090909090909,\n",
       " 0.00909090909090909,\n",
       " 0.00909090909090909,\n",
       " 0.00909090909090909,\n",
       " 0.00909090909090909,\n",
       " 0.00909090909090909,\n",
       " 0.00909090909090909,\n",
       " 0.00909090909090909,\n",
       " 0.00909090909090909,\n",
       " 0.00909090909090909,\n",
       " 0.00909090909090909,\n",
       " 0.00909090909090909,\n",
       " 0.00909090909090909,\n",
       " 0.004545454545454545,\n",
       " 0.004545454545454545,\n",
       " 0.004545454545454545,\n",
       " 0.004545454545454545,\n",
       " 0.004545454545454545,\n",
       " 0.004545454545454545,\n",
       " 0.004545454545454545,\n",
       " 0.004545454545454545,\n",
       " 0.004545454545454545,\n",
       " 0.004545454545454545,\n",
       " 0.004545454545454545,\n",
       " 0.004545454545454545,\n",
       " 0.004545454545454545,\n",
       " 0.004545454545454545,\n",
       " 0.004545454545454545,\n",
       " 0.004545454545454545,\n",
       " 0.004545454545454545,\n",
       " 0.004545454545454545,\n",
       " 0.004545454545454545,\n",
       " 0.004545454545454545,\n",
       " 0.004545454545454545,\n",
       " 0.004545454545454545,\n",
       " 0.004545454545454545,\n",
       " 0.004545454545454545,\n",
       " 0.004545454545454545,\n",
       " 0.004545454545454545,\n",
       " 0.004545454545454545,\n",
       " 0.004545454545454545,\n",
       " 0.004545454545454545,\n",
       " 0.004545454545454545,\n",
       " 0.004545454545454545,\n",
       " 0.004545454545454545,\n",
       " 0.004545454545454545,\n",
       " 0.004545454545454545,\n",
       " 0.004545454545454545,\n",
       " 0.004545454545454545,\n",
       " 0.004545454545454545,\n",
       " 0.004545454545454545,\n",
       " 0.004545454545454545,\n",
       " 0.004545454545454545,\n",
       " 0.004545454545454545,\n",
       " 0.004545454545454545,\n",
       " 0.004545454545454545,\n",
       " 0.004545454545454545,\n",
       " 0.004545454545454545,\n",
       " 0.004545454545454545,\n",
       " 0.004545454545454545,\n",
       " 0.004545454545454545,\n",
       " 0.004545454545454545,\n",
       " 0.004545454545454545,\n",
       " 0.004545454545454545,\n",
       " 0.004545454545454545,\n",
       " 0.004545454545454545,\n",
       " 0.004545454545454545,\n",
       " 0.004545454545454545,\n",
       " 0.004545454545454545,\n",
       " 0.004545454545454545,\n",
       " 0.004545454545454545,\n",
       " 0.004545454545454545,\n",
       " 0.004545454545454545,\n",
       " 0.004545454545454545,\n",
       " 0.004545454545454545,\n",
       " 0.004545454545454545,\n",
       " 0.004545454545454545,\n",
       " 0.004545454545454545,\n",
       " 0.004545454545454545,\n",
       " 0.004545454545454545,\n",
       " 0.004545454545454545,\n",
       " 0.004545454545454545,\n",
       " 0.004545454545454545,\n",
       " 0.004545454545454545,\n",
       " 0.004545454545454545,\n",
       " 0.004545454545454545,\n",
       " 0.004545454545454545,\n",
       " 0.004545454545454545,\n",
       " 0.004545454545454545,\n",
       " 0.004545454545454545,\n",
       " 0.004545454545454545,\n",
       " 0.004545454545454545,\n",
       " 0.004545454545454545,\n",
       " 0.004545454545454545,\n",
       " 0.004545454545454545,\n",
       " 0.004545454545454545,\n",
       " 0.004545454545454545,\n",
       " 0.004545454545454545,\n",
       " 0.004545454545454545,\n",
       " 0.004545454545454545,\n",
       " 0.004545454545454545,\n",
       " 0.004545454545454545,\n",
       " 0.004545454545454545,\n",
       " 0.004545454545454545,\n",
       " 0.004545454545454545,\n",
       " 0.004545454545454545,\n",
       " 0.004545454545454545,\n",
       " 0.004545454545454545,\n",
       " 0.004545454545454545,\n",
       " 0.004545454545454545,\n",
       " 0.004545454545454545,\n",
       " 0.004545454545454545,\n",
       " 0.004545454545454545,\n",
       " 0.004545454545454545,\n",
       " 0.004545454545454545,\n",
       " 0.004545454545454545,\n",
       " 0.004545454545454545,\n",
       " 0.004545454545454545,\n",
       " 0.004545454545454545,\n",
       " 0.004545454545454545,\n",
       " 0.004545454545454545,\n",
       " 0.004545454545454545,\n",
       " 0.004545454545454545,\n",
       " 0.004545454545454545,\n",
       " 0.004545454545454545,\n",
       " 0.004545454545454545,\n",
       " 0.004545454545454545]"
      ]
     },
     "execution_count": 34,
     "metadata": {},
     "output_type": "execute_result"
    }
   ],
   "source": [
    "document_vector"
   ]
  },
  {
   "cell_type": "markdown",
   "metadata": {},
   "source": [
    "Adding another document to the corpus."
   ]
  },
  {
   "cell_type": "code",
   "execution_count": 35,
   "metadata": {},
   "outputs": [],
   "source": [
    "docs = [\"The faster Harry got to the store, the faster and faster Harry would get home.\"]"
   ]
  },
  {
   "cell_type": "code",
   "execution_count": 36,
   "metadata": {},
   "outputs": [],
   "source": [
    "docs.append(\"Harry is hairy and faster than Jill.\")"
   ]
  },
  {
   "cell_type": "code",
   "execution_count": 37,
   "metadata": {},
   "outputs": [],
   "source": [
    "docs.append(\"Jill is not as hairy as Harry.\")"
   ]
  },
  {
   "cell_type": "code",
   "execution_count": 38,
   "metadata": {},
   "outputs": [],
   "source": [
    "doc_tokens = []"
   ]
  },
  {
   "cell_type": "code",
   "execution_count": 39,
   "metadata": {},
   "outputs": [],
   "source": [
    "for doc in docs:\n",
    "    doc_tokens += [sorted(tokenizer.tokenize(doc.lower()))]"
   ]
  },
  {
   "cell_type": "code",
   "execution_count": 40,
   "metadata": {},
   "outputs": [
    {
     "data": {
      "text/plain": [
       "3"
      ]
     },
     "execution_count": 40,
     "metadata": {},
     "output_type": "execute_result"
    }
   ],
   "source": [
    "len(doc_tokens) # Total no of docs"
   ]
  },
  {
   "cell_type": "code",
   "execution_count": 41,
   "metadata": {},
   "outputs": [
    {
     "data": {
      "text/plain": [
       "17"
      ]
     },
     "execution_count": 41,
     "metadata": {},
     "output_type": "execute_result"
    }
   ],
   "source": [
    "len(doc_tokens[0]) # Length for the first doc"
   ]
  },
  {
   "cell_type": "code",
   "execution_count": 42,
   "metadata": {},
   "outputs": [
    {
     "data": {
      "text/plain": [
       "8"
      ]
     },
     "execution_count": 42,
     "metadata": {},
     "output_type": "execute_result"
    }
   ],
   "source": [
    "len(doc_tokens[1]) # Length for the second doc"
   ]
  },
  {
   "cell_type": "code",
   "execution_count": 43,
   "metadata": {},
   "outputs": [],
   "source": [
    "all_doc_tokens = sum(doc_tokens, [])"
   ]
  },
  {
   "cell_type": "code",
   "execution_count": 44,
   "metadata": {},
   "outputs": [
    {
     "data": {
      "text/plain": [
       "[',',\n",
       " '.',\n",
       " 'and',\n",
       " 'faster',\n",
       " 'faster',\n",
       " 'faster',\n",
       " 'get',\n",
       " 'got',\n",
       " 'harry',\n",
       " 'harry',\n",
       " 'home',\n",
       " 'store',\n",
       " 'the',\n",
       " 'the',\n",
       " 'the',\n",
       " 'to',\n",
       " 'would',\n",
       " '.',\n",
       " 'and',\n",
       " 'faster',\n",
       " 'hairy',\n",
       " 'harry',\n",
       " 'is',\n",
       " 'jill',\n",
       " 'than',\n",
       " '.',\n",
       " 'as',\n",
       " 'as',\n",
       " 'hairy',\n",
       " 'harry',\n",
       " 'is',\n",
       " 'jill',\n",
       " 'not']"
      ]
     },
     "execution_count": 44,
     "metadata": {},
     "output_type": "execute_result"
    }
   ],
   "source": [
    "all_doc_tokens"
   ]
  },
  {
   "cell_type": "code",
   "execution_count": 45,
   "metadata": {},
   "outputs": [
    {
     "data": {
      "text/plain": [
       "33"
      ]
     },
     "execution_count": 45,
     "metadata": {},
     "output_type": "execute_result"
    }
   ],
   "source": [
    "len(all_doc_tokens)"
   ]
  },
  {
   "cell_type": "code",
   "execution_count": 46,
   "metadata": {},
   "outputs": [],
   "source": [
    "lexicon = sorted( set(all_doc_tokens) )"
   ]
  },
  {
   "cell_type": "code",
   "execution_count": 47,
   "metadata": {},
   "outputs": [
    {
     "data": {
      "text/plain": [
       "[',',\n",
       " '.',\n",
       " 'and',\n",
       " 'as',\n",
       " 'faster',\n",
       " 'get',\n",
       " 'got',\n",
       " 'hairy',\n",
       " 'harry',\n",
       " 'home',\n",
       " 'is',\n",
       " 'jill',\n",
       " 'not',\n",
       " 'store',\n",
       " 'than',\n",
       " 'the',\n",
       " 'to',\n",
       " 'would']"
      ]
     },
     "execution_count": 47,
     "metadata": {},
     "output_type": "execute_result"
    }
   ],
   "source": [
    "lexicon"
   ]
  },
  {
   "cell_type": "markdown",
   "metadata": {},
   "source": [
    "Creating an ordered dict for all the tokens"
   ]
  },
  {
   "cell_type": "code",
   "execution_count": 48,
   "metadata": {},
   "outputs": [],
   "source": [
    "from collections import OrderedDict"
   ]
  },
  {
   "cell_type": "code",
   "execution_count": 49,
   "metadata": {},
   "outputs": [],
   "source": [
    "zero_vector = OrderedDict( (token, 0) for token in lexicon)"
   ]
  },
  {
   "cell_type": "code",
   "execution_count": 50,
   "metadata": {},
   "outputs": [
    {
     "data": {
      "text/plain": [
       "OrderedDict([(',', 0),\n",
       "             ('.', 0),\n",
       "             ('and', 0),\n",
       "             ('as', 0),\n",
       "             ('faster', 0),\n",
       "             ('get', 0),\n",
       "             ('got', 0),\n",
       "             ('hairy', 0),\n",
       "             ('harry', 0),\n",
       "             ('home', 0),\n",
       "             ('is', 0),\n",
       "             ('jill', 0),\n",
       "             ('not', 0),\n",
       "             ('store', 0),\n",
       "             ('than', 0),\n",
       "             ('the', 0),\n",
       "             ('to', 0),\n",
       "             ('would', 0)])"
      ]
     },
     "execution_count": 50,
     "metadata": {},
     "output_type": "execute_result"
    }
   ],
   "source": [
    "zero_vector"
   ]
  },
  {
   "cell_type": "code",
   "execution_count": 51,
   "metadata": {},
   "outputs": [],
   "source": [
    "import copy"
   ]
  },
  {
   "cell_type": "code",
   "execution_count": 52,
   "metadata": {},
   "outputs": [],
   "source": [
    "doc_vectors = []"
   ]
  },
  {
   "cell_type": "code",
   "execution_count": 53,
   "metadata": {},
   "outputs": [],
   "source": [
    "for doc in docs:\n",
    "    vec = copy.copy(zero_vector)\n",
    "    tokens = tokenizer.tokenize(doc.lower())\n",
    "    token_counts = Counter(tokens)\n",
    "    for key, value in token_counts.items():\n",
    "        vec[key] = value / len(lexicon)\n",
    "    doc_vectors.append(vec)"
   ]
  },
  {
   "cell_type": "markdown",
   "metadata": {},
   "source": [
    "# Zipf's Law"
   ]
  },
  {
   "cell_type": "code",
   "execution_count": 54,
   "metadata": {},
   "outputs": [
    {
     "name": "stderr",
     "output_type": "stream",
     "text": [
      "[nltk_data] Downloading package brown to\n",
      "[nltk_data]     C:\\Users\\Shamweel\\AppData\\Roaming\\nltk_data...\n",
      "[nltk_data]   Package brown is already up-to-date!\n"
     ]
    },
    {
     "data": {
      "text/plain": [
       "True"
      ]
     },
     "execution_count": 54,
     "metadata": {},
     "output_type": "execute_result"
    }
   ],
   "source": [
    "nltk.download('brown')"
   ]
  },
  {
   "cell_type": "code",
   "execution_count": 55,
   "metadata": {},
   "outputs": [],
   "source": [
    "from nltk.corpus import brown"
   ]
  },
  {
   "cell_type": "code",
   "execution_count": 56,
   "metadata": {},
   "outputs": [
    {
     "data": {
      "text/plain": [
       "['The',\n",
       " 'Fulton',\n",
       " 'County',\n",
       " 'Grand',\n",
       " 'Jury',\n",
       " 'said',\n",
       " 'Friday',\n",
       " 'an',\n",
       " 'investigation',\n",
       " 'of']"
      ]
     },
     "execution_count": 56,
     "metadata": {},
     "output_type": "execute_result"
    }
   ],
   "source": [
    "brown.words()[:10]"
   ]
  },
  {
   "cell_type": "code",
   "execution_count": 57,
   "metadata": {},
   "outputs": [
    {
     "data": {
      "text/plain": [
       "[('The', 'AT'),\n",
       " ('Fulton', 'NP-TL'),\n",
       " ('County', 'NN-TL'),\n",
       " ('Grand', 'JJ-TL'),\n",
       " ('Jury', 'NN-TL')]"
      ]
     },
     "execution_count": 57,
     "metadata": {},
     "output_type": "execute_result"
    }
   ],
   "source": [
    "brown.tagged_words()[:5]"
   ]
  },
  {
   "cell_type": "code",
   "execution_count": 58,
   "metadata": {},
   "outputs": [
    {
     "data": {
      "text/plain": [
       "1161192"
      ]
     },
     "execution_count": 58,
     "metadata": {},
     "output_type": "execute_result"
    }
   ],
   "source": [
    "len(brown.words())"
   ]
  },
  {
   "cell_type": "code",
   "execution_count": 59,
   "metadata": {},
   "outputs": [],
   "source": [
    "from collections import Counter"
   ]
  },
  {
   "cell_type": "code",
   "execution_count": 60,
   "metadata": {},
   "outputs": [],
   "source": [
    "puncs = set( (',', '.', '--', '-', '!', '?', ':', ';', '``', \"''\", '(', ')', '[', ']') )"
   ]
  },
  {
   "cell_type": "code",
   "execution_count": 61,
   "metadata": {},
   "outputs": [],
   "source": [
    "word_list = (x.lower() for x in brown.words() if x not in puncs)"
   ]
  },
  {
   "cell_type": "code",
   "execution_count": 62,
   "metadata": {},
   "outputs": [],
   "source": [
    "token_counts = Counter(word_list)"
   ]
  },
  {
   "cell_type": "code",
   "execution_count": 63,
   "metadata": {},
   "outputs": [
    {
     "data": {
      "text/plain": [
       "[('the', 69971),\n",
       " ('of', 36412),\n",
       " ('and', 28853),\n",
       " ('to', 26158),\n",
       " ('a', 23195),\n",
       " ('in', 21337),\n",
       " ('that', 10594),\n",
       " ('is', 10109),\n",
       " ('was', 9815),\n",
       " ('he', 9548),\n",
       " ('for', 9489),\n",
       " ('it', 8760),\n",
       " ('with', 7289),\n",
       " ('as', 7253),\n",
       " ('his', 6996),\n",
       " ('on', 6741),\n",
       " ('be', 6377),\n",
       " ('at', 5372),\n",
       " ('by', 5306),\n",
       " ('i', 5164)]"
      ]
     },
     "execution_count": 63,
     "metadata": {},
     "output_type": "execute_result"
    }
   ],
   "source": [
    "token_counts.most_common(20)"
   ]
  },
  {
   "cell_type": "markdown",
   "metadata": {},
   "source": [
    "# TF-IDF"
   ]
  },
  {
   "cell_type": "code",
   "execution_count": 64,
   "metadata": {},
   "outputs": [],
   "source": [
    "kite_history = \"\"\" Kites were invented in China, where materials ideal for kite building were readily\n",
    "available: silk fabric for sail material; fine, high-tensile-strength silk for flying line;\n",
    "and resilient bamboo for a strong, lightweight framework.\n",
    "The kite has been claimed as the invention of the 5th-century BC Chinese\n",
    "philosophers Mozi (also Mo Di) and Lu Ban (also Gongshu Ban). By 549 AD\n",
    "paper kites were certainly being flown, as it was recorded that in that year a paper\n",
    "kite was used as a message for a rescue mission. Ancient and medieval Chinese\n",
    "sources describe kites being used for measuring distances, testing the wind, lifting\n",
    "men, signaling, and communication for military operations. The earliest known\n",
    "Chinese kites were flat (not bowed) and often rectangular. Later, tailless kites\n",
    "incorporated a stabilizing bowline. Kites were decorated with mythological motifs\n",
    "and legendary figures; some were fitted with strings and whistles to make musical\n",
    "sounds while flying. From China, kites were introduced to Cambodia, Thailand,\n",
    "India, Japan, Korea and the western world.\n",
    "After its introduction into India, the kite further evolved into the fighter kite, known\n",
    "as the patang in India, where thousands are flown every year on festivals such as\n",
    "Makar Sankranti.\n",
    "Kites were known throughout Polynesia, as far as New Zealand, with the\n",
    "assumption being that the knowledge diffused from China along with the people.\n",
    "Anthropomorphic kites made from cloth and wood were used in religious ceremonies\n",
    "to send prayers to the gods. Polynesian kite traditions are used by anthropologists get\n",
    "an idea of early “primitive” Asian traditions that are believed to have at one time\n",
    "existed in Asia. \"\"\""
   ]
  },
  {
   "cell_type": "code",
   "execution_count": 65,
   "metadata": {},
   "outputs": [],
   "source": [
    "kite_intro = kite_text.lower()"
   ]
  },
  {
   "cell_type": "code",
   "execution_count": 66,
   "metadata": {},
   "outputs": [],
   "source": [
    "intro_tokens = tokenizer.tokenize(kite_intro)"
   ]
  },
  {
   "cell_type": "code",
   "execution_count": 67,
   "metadata": {},
   "outputs": [],
   "source": [
    "kite_history = kite_history.lower()"
   ]
  },
  {
   "cell_type": "code",
   "execution_count": 68,
   "metadata": {},
   "outputs": [],
   "source": [
    "history_tokens = tokenizer.tokenize(kite_history)"
   ]
  },
  {
   "cell_type": "code",
   "execution_count": 69,
   "metadata": {},
   "outputs": [],
   "source": [
    "intro_total = len(intro_tokens)"
   ]
  },
  {
   "cell_type": "code",
   "execution_count": 70,
   "metadata": {},
   "outputs": [
    {
     "data": {
      "text/plain": [
       "365"
      ]
     },
     "execution_count": 70,
     "metadata": {},
     "output_type": "execute_result"
    }
   ],
   "source": [
    "intro_total"
   ]
  },
  {
   "cell_type": "code",
   "execution_count": 71,
   "metadata": {},
   "outputs": [],
   "source": [
    "history_total = len(history_tokens)"
   ]
  },
  {
   "cell_type": "code",
   "execution_count": 72,
   "metadata": {},
   "outputs": [
    {
     "data": {
      "text/plain": [
       "297"
      ]
     },
     "execution_count": 72,
     "metadata": {},
     "output_type": "execute_result"
    }
   ],
   "source": [
    "history_total"
   ]
  },
  {
   "cell_type": "markdown",
   "metadata": {},
   "source": [
    "Occurences of \" kite \" in each document"
   ]
  },
  {
   "cell_type": "code",
   "execution_count": 73,
   "metadata": {},
   "outputs": [],
   "source": [
    "intro_tf = {}"
   ]
  },
  {
   "cell_type": "code",
   "execution_count": 74,
   "metadata": {},
   "outputs": [],
   "source": [
    "history_tf = {}"
   ]
  },
  {
   "cell_type": "code",
   "execution_count": 75,
   "metadata": {},
   "outputs": [],
   "source": [
    "intro_counts = Counter(intro_tokens)"
   ]
  },
  {
   "cell_type": "code",
   "execution_count": 76,
   "metadata": {},
   "outputs": [
    {
     "data": {
      "text/plain": [
       "Counter({'a': 20,\n",
       "         'kite': 16,\n",
       "         'is': 7,\n",
       "         'traditionally': 1,\n",
       "         'tethered': 2,\n",
       "         'heavier-than-air': 1,\n",
       "         'craft': 2,\n",
       "         'with': 2,\n",
       "         'wing': 5,\n",
       "         'surfaces': 1,\n",
       "         'that': 2,\n",
       "         'react': 1,\n",
       "         'against': 1,\n",
       "         'the': 26,\n",
       "         'air': 2,\n",
       "         'to': 5,\n",
       "         'create': 1,\n",
       "         'lift': 4,\n",
       "         'and': 10,\n",
       "         'drag.': 1,\n",
       "         'consists': 2,\n",
       "         'of': 10,\n",
       "         'wings': 1,\n",
       "         ',': 14,\n",
       "         'tethers': 2,\n",
       "         'anchors.': 2,\n",
       "         'kites': 8,\n",
       "         'often': 2,\n",
       "         'have': 4,\n",
       "         'bridle': 2,\n",
       "         'guide': 1,\n",
       "         'face': 1,\n",
       "         'at': 3,\n",
       "         'correct': 1,\n",
       "         'angle': 1,\n",
       "         'so': 3,\n",
       "         'wind': 2,\n",
       "         'can': 3,\n",
       "         'it.': 1,\n",
       "         '’': 2,\n",
       "         's': 2,\n",
       "         'also': 3,\n",
       "         'may': 4,\n",
       "         'be': 5,\n",
       "         'designed': 2,\n",
       "         'not': 1,\n",
       "         'needed': 1,\n",
       "         ';': 2,\n",
       "         'when': 2,\n",
       "         'kiting': 3,\n",
       "         'sailplane': 1,\n",
       "         'for': 2,\n",
       "         'launch': 1,\n",
       "         'tether': 1,\n",
       "         'meets': 1,\n",
       "         'single': 1,\n",
       "         'point.': 1,\n",
       "         'fixed': 1,\n",
       "         'or': 6,\n",
       "         'moving': 2,\n",
       "         'untraditionally': 1,\n",
       "         'in': 7,\n",
       "         'technical': 2,\n",
       "         'tether-set-coupled': 1,\n",
       "         'sets': 1,\n",
       "         'even': 2,\n",
       "         'though': 1,\n",
       "         'system': 1,\n",
       "         'still': 1,\n",
       "         'called': 2,\n",
       "         'kite.': 1,\n",
       "         'sustains': 1,\n",
       "         'flight': 1,\n",
       "         'generated': 1,\n",
       "         'flows': 1,\n",
       "         'around': 1,\n",
       "         'surface': 2,\n",
       "         'producing': 1,\n",
       "         'low': 1,\n",
       "         'pressure': 2,\n",
       "         'above': 1,\n",
       "         'high': 1,\n",
       "         'below': 1,\n",
       "         'wings.': 1,\n",
       "         'interaction': 1,\n",
       "         'generates': 1,\n",
       "         'horizontal': 1,\n",
       "         'drag': 2,\n",
       "         'along': 1,\n",
       "         'direction': 1,\n",
       "         'wind.': 1,\n",
       "         'resultant': 1,\n",
       "         'force': 2,\n",
       "         'vector': 1,\n",
       "         'from': 1,\n",
       "         'components': 1,\n",
       "         'opposed': 1,\n",
       "         'by': 2,\n",
       "         'tension': 1,\n",
       "         'one': 1,\n",
       "         'more': 1,\n",
       "         'lines': 1,\n",
       "         'which': 2,\n",
       "         'attached.': 1,\n",
       "         'anchor': 1,\n",
       "         'point': 1,\n",
       "         'line': 1,\n",
       "         'static': 1,\n",
       "         '(': 1,\n",
       "         'such': 2,\n",
       "         'as': 6,\n",
       "         'towing': 1,\n",
       "         'running': 1,\n",
       "         'person': 1,\n",
       "         'boat': 1,\n",
       "         'free-falling': 1,\n",
       "         'anchors': 1,\n",
       "         'paragliders': 1,\n",
       "         'fugitive': 1,\n",
       "         'parakites': 1,\n",
       "         'vehicle': 1,\n",
       "         ')': 1,\n",
       "         '.': 2,\n",
       "         'same': 1,\n",
       "         'principles': 1,\n",
       "         'fluid': 1,\n",
       "         'flow': 1,\n",
       "         'apply': 1,\n",
       "         'liquids': 1,\n",
       "         'are': 3,\n",
       "         'used': 2,\n",
       "         'under': 1,\n",
       "         'water.': 1,\n",
       "         'hybrid': 1,\n",
       "         'comprising': 1,\n",
       "         'both': 1,\n",
       "         'lighter-than-air': 1,\n",
       "         'balloon': 1,\n",
       "         'well': 1,\n",
       "         'lifting': 1,\n",
       "         'kytoon.': 1,\n",
       "         'long': 1,\n",
       "         'varied': 1,\n",
       "         'history': 1,\n",
       "         'many': 1,\n",
       "         'different': 1,\n",
       "         'types': 1,\n",
       "         'flown': 3,\n",
       "         'individually': 1,\n",
       "         'festivals': 1,\n",
       "         'worldwide.': 1,\n",
       "         'recreation': 1,\n",
       "         'art': 1,\n",
       "         'other': 1,\n",
       "         'practical': 1,\n",
       "         'uses.': 1,\n",
       "         'sport': 1,\n",
       "         'aerial': 1,\n",
       "         'ballet': 1,\n",
       "         'sometimes': 1,\n",
       "         'part': 1,\n",
       "         'competition.': 1,\n",
       "         'power': 2,\n",
       "         'multi-line': 1,\n",
       "         'steerable': 1,\n",
       "         'generate': 1,\n",
       "         'large': 1,\n",
       "         'forces': 1,\n",
       "         'activities': 1,\n",
       "         'surfing': 1,\n",
       "         'landboarding': 1,\n",
       "         'fishing': 1,\n",
       "         'buggying': 1,\n",
       "         'new': 1,\n",
       "         'trend': 1,\n",
       "         'snow': 1,\n",
       "         'kiting.': 1,\n",
       "         'man-lifting': 1,\n",
       "         'been': 1,\n",
       "         'made': 1})"
      ]
     },
     "execution_count": 76,
     "metadata": {},
     "output_type": "execute_result"
    }
   ],
   "source": [
    "intro_counts"
   ]
  },
  {
   "cell_type": "code",
   "execution_count": 77,
   "metadata": {},
   "outputs": [],
   "source": [
    "intro_tf['kite'] = intro_counts['kite'] / intro_total"
   ]
  },
  {
   "cell_type": "code",
   "execution_count": 78,
   "metadata": {},
   "outputs": [],
   "source": [
    "history_counts = Counter(history_tokens)"
   ]
  },
  {
   "cell_type": "code",
   "execution_count": 79,
   "metadata": {},
   "outputs": [
    {
     "data": {
      "text/plain": [
       "Counter({'kites': 9,\n",
       "         'were': 9,\n",
       "         'invented': 1,\n",
       "         'in': 5,\n",
       "         'china': 3,\n",
       "         ',': 19,\n",
       "         'where': 2,\n",
       "         'materials': 1,\n",
       "         'ideal': 1,\n",
       "         'for': 7,\n",
       "         'kite': 6,\n",
       "         'building': 1,\n",
       "         'readily': 1,\n",
       "         'available': 1,\n",
       "         ':': 1,\n",
       "         'silk': 2,\n",
       "         'fabric': 1,\n",
       "         'sail': 1,\n",
       "         'material': 1,\n",
       "         ';': 3,\n",
       "         'fine': 1,\n",
       "         'high-tensile-strength': 1,\n",
       "         'flying': 1,\n",
       "         'line': 1,\n",
       "         'and': 9,\n",
       "         'resilient': 1,\n",
       "         'bamboo': 1,\n",
       "         'a': 5,\n",
       "         'strong': 1,\n",
       "         'lightweight': 1,\n",
       "         'framework.': 1,\n",
       "         'the': 13,\n",
       "         'has': 1,\n",
       "         'been': 1,\n",
       "         'claimed': 1,\n",
       "         'as': 7,\n",
       "         'invention': 1,\n",
       "         'of': 2,\n",
       "         '5th-century': 1,\n",
       "         'bc': 1,\n",
       "         'chinese': 3,\n",
       "         'philosophers': 1,\n",
       "         'mozi': 1,\n",
       "         '(': 3,\n",
       "         'also': 2,\n",
       "         'mo': 1,\n",
       "         'di': 1,\n",
       "         ')': 3,\n",
       "         'lu': 1,\n",
       "         'ban': 2,\n",
       "         'gongshu': 1,\n",
       "         '.': 2,\n",
       "         'by': 2,\n",
       "         '549': 1,\n",
       "         'ad': 1,\n",
       "         'paper': 2,\n",
       "         'certainly': 1,\n",
       "         'being': 3,\n",
       "         'flown': 2,\n",
       "         'it': 1,\n",
       "         'was': 2,\n",
       "         'recorded': 1,\n",
       "         'that': 4,\n",
       "         'year': 2,\n",
       "         'used': 4,\n",
       "         'message': 1,\n",
       "         'rescue': 1,\n",
       "         'mission.': 1,\n",
       "         'ancient': 1,\n",
       "         'medieval': 1,\n",
       "         'sources': 1,\n",
       "         'describe': 1,\n",
       "         'measuring': 1,\n",
       "         'distances': 1,\n",
       "         'testing': 1,\n",
       "         'wind': 1,\n",
       "         'lifting': 1,\n",
       "         'men': 1,\n",
       "         'signaling': 1,\n",
       "         'communication': 1,\n",
       "         'military': 1,\n",
       "         'operations.': 1,\n",
       "         'earliest': 1,\n",
       "         'known': 3,\n",
       "         'flat': 1,\n",
       "         'not': 1,\n",
       "         'bowed': 1,\n",
       "         'often': 1,\n",
       "         'rectangular.': 1,\n",
       "         'later': 1,\n",
       "         'tailless': 1,\n",
       "         'incorporated': 1,\n",
       "         'stabilizing': 1,\n",
       "         'bowline.': 1,\n",
       "         'decorated': 1,\n",
       "         'with': 4,\n",
       "         'mythological': 1,\n",
       "         'motifs': 1,\n",
       "         'legendary': 1,\n",
       "         'figures': 1,\n",
       "         'some': 1,\n",
       "         'fitted': 1,\n",
       "         'strings': 1,\n",
       "         'whistles': 1,\n",
       "         'to': 5,\n",
       "         'make': 1,\n",
       "         'musical': 1,\n",
       "         'sounds': 1,\n",
       "         'while': 1,\n",
       "         'flying.': 1,\n",
       "         'from': 3,\n",
       "         'introduced': 1,\n",
       "         'cambodia': 1,\n",
       "         'thailand': 1,\n",
       "         'india': 3,\n",
       "         'japan': 1,\n",
       "         'korea': 1,\n",
       "         'western': 1,\n",
       "         'world.': 1,\n",
       "         'after': 1,\n",
       "         'its': 1,\n",
       "         'introduction': 1,\n",
       "         'into': 2,\n",
       "         'further': 1,\n",
       "         'evolved': 1,\n",
       "         'fighter': 1,\n",
       "         'patang': 1,\n",
       "         'thousands': 1,\n",
       "         'are': 3,\n",
       "         'every': 1,\n",
       "         'on': 1,\n",
       "         'festivals': 1,\n",
       "         'such': 1,\n",
       "         'makar': 1,\n",
       "         'sankranti.': 1,\n",
       "         'throughout': 1,\n",
       "         'polynesia': 1,\n",
       "         'far': 1,\n",
       "         'new': 1,\n",
       "         'zealand': 1,\n",
       "         'assumption': 1,\n",
       "         'knowledge': 1,\n",
       "         'diffused': 1,\n",
       "         'along': 1,\n",
       "         'people.': 1,\n",
       "         'anthropomorphic': 1,\n",
       "         'made': 1,\n",
       "         'cloth': 1,\n",
       "         'wood': 1,\n",
       "         'religious': 1,\n",
       "         'ceremonies': 1,\n",
       "         'send': 1,\n",
       "         'prayers': 1,\n",
       "         'gods.': 1,\n",
       "         'polynesian': 1,\n",
       "         'traditions': 2,\n",
       "         'anthropologists': 1,\n",
       "         'get': 1,\n",
       "         'an': 1,\n",
       "         'idea': 1,\n",
       "         'early': 1,\n",
       "         '“': 1,\n",
       "         'primitive': 1,\n",
       "         '”': 1,\n",
       "         'asian': 1,\n",
       "         'believed': 1,\n",
       "         'have': 1,\n",
       "         'at': 1,\n",
       "         'one': 1,\n",
       "         'time': 1,\n",
       "         'existed': 1,\n",
       "         'asia': 1})"
      ]
     },
     "execution_count": 79,
     "metadata": {},
     "output_type": "execute_result"
    }
   ],
   "source": [
    "history_counts"
   ]
  },
  {
   "cell_type": "code",
   "execution_count": 80,
   "metadata": {},
   "outputs": [],
   "source": [
    "history_tf['kite'] = history_counts['kite'] / history_total"
   ]
  },
  {
   "cell_type": "code",
   "execution_count": 81,
   "metadata": {},
   "outputs": [
    {
     "data": {
      "text/plain": [
       "'Term Frequency of \"kite\" in intro is: 0.0438'"
      ]
     },
     "execution_count": 81,
     "metadata": {},
     "output_type": "execute_result"
    }
   ],
   "source": [
    "'Term Frequency of \"kite\" in intro is: {:.4f}'.format(intro_tf['kite'])"
   ]
  },
  {
   "cell_type": "code",
   "execution_count": 82,
   "metadata": {},
   "outputs": [
    {
     "data": {
      "text/plain": [
       "'Term Frequency of \"kite\" in history is: 0.0202'"
      ]
     },
     "execution_count": 82,
     "metadata": {},
     "output_type": "execute_result"
    }
   ],
   "source": [
    "'Term Frequency of \"kite\" in history is: {:.4f}' .format(history_tf['kite'])"
   ]
  },
  {
   "cell_type": "markdown",
   "metadata": {},
   "source": [
    "Occurences of \" and \" in each document"
   ]
  },
  {
   "cell_type": "code",
   "execution_count": 83,
   "metadata": {},
   "outputs": [],
   "source": [
    "intro_tf['and'] = intro_counts['and'] / intro_total"
   ]
  },
  {
   "cell_type": "code",
   "execution_count": 84,
   "metadata": {},
   "outputs": [],
   "source": [
    "history_tf['and'] = history_counts['and'] / history_total"
   ]
  },
  {
   "cell_type": "code",
   "execution_count": 85,
   "metadata": {},
   "outputs": [
    {
     "name": "stdout",
     "output_type": "stream",
     "text": [
      "Term Frequency of \"and\" in intro is: 0.0274\n"
     ]
    }
   ],
   "source": [
    "print('Term Frequency of \"and\" in intro is: {:.4f}' .format(intro_tf['and']))"
   ]
  },
  {
   "cell_type": "code",
   "execution_count": 86,
   "metadata": {},
   "outputs": [
    {
     "name": "stdout",
     "output_type": "stream",
     "text": [
      "Term Frequency of \"and\" in history is: 0.0303\n"
     ]
    }
   ],
   "source": [
    "print('Term Frequency of \"and\" in history is: {:.4f}' .format(history_tf['and']))"
   ]
  },
  {
   "cell_type": "markdown",
   "metadata": {},
   "source": [
    "TF- IDF for Topic Analysis"
   ]
  },
  {
   "cell_type": "code",
   "execution_count": 87,
   "metadata": {},
   "outputs": [],
   "source": [
    "num_docs_containing_and = 0"
   ]
  },
  {
   "cell_type": "code",
   "execution_count": 88,
   "metadata": {},
   "outputs": [],
   "source": [
    "for doc in [intro_tokens, history_tokens]:\n",
    "    if 'and' in doc:\n",
    "        num_docs_containing_and += 1"
   ]
  },
  {
   "cell_type": "code",
   "execution_count": 89,
   "metadata": {},
   "outputs": [],
   "source": [
    "num_docs_containing_kite = 0"
   ]
  },
  {
   "cell_type": "code",
   "execution_count": 90,
   "metadata": {},
   "outputs": [],
   "source": [
    "for doc in [intro_tokens, history_tokens]:\n",
    "    if 'kite' in doc:\n",
    "        num_docs_containing_kite += 1"
   ]
  },
  {
   "cell_type": "code",
   "execution_count": 91,
   "metadata": {},
   "outputs": [],
   "source": [
    "num_docs_containing_china = 0"
   ]
  },
  {
   "cell_type": "code",
   "execution_count": 92,
   "metadata": {},
   "outputs": [],
   "source": [
    "for doc in [intro_tokens, history_tokens]:\n",
    "    if 'china' in doc:\n",
    "        num_docs_containing_china += 1"
   ]
  },
  {
   "cell_type": "code",
   "execution_count": 93,
   "metadata": {},
   "outputs": [],
   "source": [
    "intro_tf['china'] = intro_counts['china'] / intro_total"
   ]
  },
  {
   "cell_type": "code",
   "execution_count": 94,
   "metadata": {},
   "outputs": [],
   "source": [
    "history_tf['china'] = history_counts['china'] / history_total"
   ]
  },
  {
   "cell_type": "markdown",
   "metadata": {},
   "source": [
    "IDF for the words in Corpus"
   ]
  },
  {
   "cell_type": "code",
   "execution_count": 95,
   "metadata": {},
   "outputs": [],
   "source": [
    "num_docs = 2\n",
    "intro_idf = {}\n",
    "history_idf = {}"
   ]
  },
  {
   "cell_type": "code",
   "execution_count": 96,
   "metadata": {},
   "outputs": [],
   "source": [
    "intro_idf['and'] = num_docs / num_docs_containing_and\n",
    "history_idf['and'] = num_docs / num_docs_containing_and\n",
    "intro_idf['kite'] = num_docs / num_docs_containing_kite\n",
    "history_idf['kite'] = num_docs / num_docs_containing_kite\n",
    "intro_idf['china'] = num_docs / num_docs_containing_china\n",
    "history_idf['china'] = num_docs / num_docs_containing_china"
   ]
  },
  {
   "cell_type": "markdown",
   "metadata": {},
   "source": [
    "TF-IDF maintained for each word in corpus"
   ]
  },
  {
   "cell_type": "code",
   "execution_count": 97,
   "metadata": {},
   "outputs": [],
   "source": [
    "intro_tfidf = {}"
   ]
  },
  {
   "cell_type": "code",
   "execution_count": 98,
   "metadata": {},
   "outputs": [],
   "source": [
    "intro_tfidf['and'] = intro_tf['and'] * intro_idf['and']\n",
    "intro_tfidf['kite'] = intro_tf['kite'] * intro_idf['kite']\n",
    "intro_tfidf['china'] = intro_tf['china'] * intro_idf['china']"
   ]
  },
  {
   "cell_type": "code",
   "execution_count": 99,
   "metadata": {},
   "outputs": [],
   "source": [
    "history_tfidf = {}"
   ]
  },
  {
   "cell_type": "code",
   "execution_count": 100,
   "metadata": {},
   "outputs": [],
   "source": [
    "history_tfidf['and'] = history_tf['and'] * history_idf['and']\n",
    "history_tfidf['kite'] = history_tf['kite'] * history_idf['kite']\n",
    "history_tfidf['china'] = history_tf['china'] * history_idf['china']"
   ]
  },
  {
   "cell_type": "markdown",
   "metadata": {},
   "source": [
    "### Relevance Matching"
   ]
  },
  {
   "cell_type": "code",
   "execution_count": 101,
   "metadata": {},
   "outputs": [],
   "source": [
    "document_tfidf_vectors = []"
   ]
  },
  {
   "cell_type": "code",
   "execution_count": 102,
   "metadata": {},
   "outputs": [
    {
     "data": {
      "text/plain": [
       "['The faster Harry got to the store, the faster and faster Harry would get home.',\n",
       " 'Harry is hairy and faster than Jill.',\n",
       " 'Jill is not as hairy as Harry.']"
      ]
     },
     "execution_count": 102,
     "metadata": {},
     "output_type": "execute_result"
    }
   ],
   "source": [
    "docs"
   ]
  },
  {
   "cell_type": "code",
   "execution_count": 103,
   "metadata": {},
   "outputs": [],
   "source": [
    "for doc in docs:\n",
    "    vec = copy.copy(zero_vector)\n",
    "    tokens = tokenizer.tokenize(doc.lower())\n",
    "    token_counts = Counter(tokens)\n",
    "    for key, value in token_counts.items():\n",
    "        docs_containing_key = 0\n",
    "        for _doc in docs:\n",
    "            if key in _doc:\n",
    "                docs_containing_key += 1\n",
    "            tf = value / len(lexicon)\n",
    "            if docs_containing_key:\n",
    "                idf = len(docs) / docs_containing_key\n",
    "            else:\n",
    "                idf = 0\n",
    "            vec[key] = tf * idf\n",
    "    document_tfidf_vectors.append(vec)"
   ]
  },
  {
   "cell_type": "code",
   "execution_count": 104,
   "metadata": {},
   "outputs": [
    {
     "data": {
      "text/plain": [
       "OrderedDict([(',', 0),\n",
       "             ('.', 0.05555555555555555),\n",
       "             ('and', 0),\n",
       "             ('as', 0.1111111111111111),\n",
       "             ('faster', 0),\n",
       "             ('get', 0),\n",
       "             ('got', 0),\n",
       "             ('hairy', 0.08333333333333333),\n",
       "             ('harry', 0.0),\n",
       "             ('home', 0),\n",
       "             ('is', 0.08333333333333333),\n",
       "             ('jill', 0.0),\n",
       "             ('not', 0.16666666666666666),\n",
       "             ('store', 0),\n",
       "             ('than', 0),\n",
       "             ('the', 0),\n",
       "             ('to', 0),\n",
       "             ('would', 0)])"
      ]
     },
     "execution_count": 104,
     "metadata": {},
     "output_type": "execute_result"
    }
   ],
   "source": [
    "vec"
   ]
  },
  {
   "cell_type": "code",
   "execution_count": 105,
   "metadata": {},
   "outputs": [],
   "source": [
    "query = \"How long does it take to get to the store?\""
   ]
  },
  {
   "cell_type": "code",
   "execution_count": 106,
   "metadata": {},
   "outputs": [],
   "source": [
    "query_vec = copy.copy(zero_vector)"
   ]
  },
  {
   "cell_type": "code",
   "execution_count": 107,
   "metadata": {},
   "outputs": [],
   "source": [
    "tokens = tokenizer.tokenize(query.lower())\n",
    "token_counts = Counter(tokens)"
   ]
  },
  {
   "cell_type": "code",
   "execution_count": 108,
   "metadata": {},
   "outputs": [],
   "source": [
    "import math"
   ]
  },
  {
   "cell_type": "code",
   "execution_count": 109,
   "metadata": {},
   "outputs": [],
   "source": [
    "def cosine_sim(vec1, vec2):\n",
    "    \"\"\" Let's convert our dictionaries to lists for easier matching.\"\"\"\n",
    "    vec1 = [val for val in vec1.values()]\n",
    "    vec2 = [val for val in vec2.values()]\n",
    "\n",
    "    dot_prod = 0\n",
    "    for i, v in enumerate(vec1):\n",
    "        dot_prod += v * vec2[i]\n",
    "    mag_1 = math.sqrt(sum([x**2 for x in vec1]))\n",
    "    mag_2 = math.sqrt(sum([x**2 for x in vec2]))\n",
    "\n",
    "    return dot_prod / (mag_1 * mag_2)"
   ]
  },
  {
   "cell_type": "code",
   "execution_count": 110,
   "metadata": {},
   "outputs": [],
   "source": [
    "for key, value in token_counts.items():\n",
    "    docs_containing_key = 0\n",
    "    for _doc in docs:\n",
    "        if key in _doc.lower():\n",
    "            docs_containing_key += 1\n",
    "    if docs_containing_key == 0:\n",
    "            continue\n",
    "    tf = value / len(tokens)\n",
    "    idf = len(docs) / docs_containing_key\n",
    "    query_vec[key] = tf * idf"
   ]
  },
  {
   "cell_type": "code",
   "execution_count": 111,
   "metadata": {},
   "outputs": [
    {
     "data": {
      "text/plain": [
       "0.6132857433407973"
      ]
     },
     "execution_count": 111,
     "metadata": {},
     "output_type": "execute_result"
    }
   ],
   "source": [
    "cosine_sim(query_vec, document_tfidf_vectors[0])"
   ]
  },
  {
   "cell_type": "code",
   "execution_count": 112,
   "metadata": {},
   "outputs": [
    {
     "data": {
      "text/plain": [
       "0.0"
      ]
     },
     "execution_count": 112,
     "metadata": {},
     "output_type": "execute_result"
    }
   ],
   "source": [
    "cosine_sim(query_vec, document_tfidf_vectors[1])"
   ]
  },
  {
   "cell_type": "code",
   "execution_count": 113,
   "metadata": {},
   "outputs": [
    {
     "data": {
      "text/plain": [
       "0.0"
      ]
     },
     "execution_count": 113,
     "metadata": {},
     "output_type": "execute_result"
    }
   ],
   "source": [
    "cosine_sim(query_vec, document_tfidf_vectors[2])"
   ]
  },
  {
   "cell_type": "markdown",
   "metadata": {},
   "source": [
    "### Using SK-Learn Package"
   ]
  },
  {
   "cell_type": "code",
   "execution_count": 114,
   "metadata": {},
   "outputs": [],
   "source": [
    "from sklearn.feature_extraction.text import TfidfVectorizer"
   ]
  },
  {
   "cell_type": "code",
   "execution_count": 115,
   "metadata": {},
   "outputs": [],
   "source": [
    "corpus = docs"
   ]
  },
  {
   "cell_type": "code",
   "execution_count": 116,
   "metadata": {},
   "outputs": [],
   "source": [
    "vectorizer = TfidfVectorizer(min_df = 1)"
   ]
  },
  {
   "cell_type": "code",
   "execution_count": 118,
   "metadata": {},
   "outputs": [],
   "source": [
    "tf_idf_vectors = vectorizer.fit_transform(corpus)"
   ]
  },
  {
   "cell_type": "code",
   "execution_count": 119,
   "metadata": {},
   "outputs": [
    {
     "data": {
      "text/plain": [
       "array([[0.16, 0.  , 0.48, 0.21, 0.21, 0.  , 0.25, 0.21, 0.  , 0.  , 0.  ,\n",
       "        0.21, 0.  , 0.64, 0.21, 0.21],\n",
       "       [0.37, 0.  , 0.37, 0.  , 0.  , 0.37, 0.29, 0.  , 0.37, 0.37, 0.  ,\n",
       "        0.  , 0.49, 0.  , 0.  , 0.  ],\n",
       "       [0.  , 0.75, 0.  , 0.  , 0.  , 0.29, 0.22, 0.  , 0.29, 0.29, 0.38,\n",
       "        0.  , 0.  , 0.  , 0.  , 0.  ]])"
      ]
     },
     "execution_count": 119,
     "metadata": {},
     "output_type": "execute_result"
    }
   ],
   "source": [
    "tf_idf_vectors.todense().round(2)"
   ]
  },
  {
   "cell_type": "code",
   "execution_count": 120,
   "metadata": {},
   "outputs": [],
   "source": [
    "import pandas as pd"
   ]
  },
  {
   "cell_type": "code",
   "execution_count": 121,
   "metadata": {},
   "outputs": [],
   "source": [
    "df = pd.DataFrame(tf_idf_vectors.todense(), columns=vectorizer.get_feature_names())"
   ]
  },
  {
   "cell_type": "code",
   "execution_count": 122,
   "metadata": {},
   "outputs": [
    {
     "data": {
      "text/html": [
       "<div>\n",
       "<style scoped>\n",
       "    .dataframe tbody tr th:only-of-type {\n",
       "        vertical-align: middle;\n",
       "    }\n",
       "\n",
       "    .dataframe tbody tr th {\n",
       "        vertical-align: top;\n",
       "    }\n",
       "\n",
       "    .dataframe thead th {\n",
       "        text-align: right;\n",
       "    }\n",
       "</style>\n",
       "<table border=\"1\" class=\"dataframe\">\n",
       "  <thead>\n",
       "    <tr style=\"text-align: right;\">\n",
       "      <th></th>\n",
       "      <th>and</th>\n",
       "      <th>as</th>\n",
       "      <th>faster</th>\n",
       "      <th>get</th>\n",
       "      <th>got</th>\n",
       "      <th>hairy</th>\n",
       "      <th>harry</th>\n",
       "      <th>home</th>\n",
       "      <th>is</th>\n",
       "      <th>jill</th>\n",
       "      <th>not</th>\n",
       "      <th>store</th>\n",
       "      <th>than</th>\n",
       "      <th>the</th>\n",
       "      <th>to</th>\n",
       "      <th>would</th>\n",
       "    </tr>\n",
       "  </thead>\n",
       "  <tbody>\n",
       "    <tr>\n",
       "      <th>0</th>\n",
       "      <td>0.161488</td>\n",
       "      <td>0.000000</td>\n",
       "      <td>0.484464</td>\n",
       "      <td>0.212337</td>\n",
       "      <td>0.212337</td>\n",
       "      <td>0.000000</td>\n",
       "      <td>0.250820</td>\n",
       "      <td>0.212337</td>\n",
       "      <td>0.000000</td>\n",
       "      <td>0.000000</td>\n",
       "      <td>0.000000</td>\n",
       "      <td>0.212337</td>\n",
       "      <td>0.000000</td>\n",
       "      <td>0.637012</td>\n",
       "      <td>0.212337</td>\n",
       "      <td>0.212337</td>\n",
       "    </tr>\n",
       "    <tr>\n",
       "      <th>1</th>\n",
       "      <td>0.369308</td>\n",
       "      <td>0.000000</td>\n",
       "      <td>0.369308</td>\n",
       "      <td>0.000000</td>\n",
       "      <td>0.000000</td>\n",
       "      <td>0.369308</td>\n",
       "      <td>0.286801</td>\n",
       "      <td>0.000000</td>\n",
       "      <td>0.369308</td>\n",
       "      <td>0.369308</td>\n",
       "      <td>0.000000</td>\n",
       "      <td>0.000000</td>\n",
       "      <td>0.485596</td>\n",
       "      <td>0.000000</td>\n",
       "      <td>0.000000</td>\n",
       "      <td>0.000000</td>\n",
       "    </tr>\n",
       "    <tr>\n",
       "      <th>2</th>\n",
       "      <td>0.000000</td>\n",
       "      <td>0.751432</td>\n",
       "      <td>0.000000</td>\n",
       "      <td>0.000000</td>\n",
       "      <td>0.000000</td>\n",
       "      <td>0.285742</td>\n",
       "      <td>0.221904</td>\n",
       "      <td>0.000000</td>\n",
       "      <td>0.285742</td>\n",
       "      <td>0.285742</td>\n",
       "      <td>0.375716</td>\n",
       "      <td>0.000000</td>\n",
       "      <td>0.000000</td>\n",
       "      <td>0.000000</td>\n",
       "      <td>0.000000</td>\n",
       "      <td>0.000000</td>\n",
       "    </tr>\n",
       "  </tbody>\n",
       "</table>\n",
       "</div>"
      ],
      "text/plain": [
       "        and        as    faster       get       got     hairy     harry  \\\n",
       "0  0.161488  0.000000  0.484464  0.212337  0.212337  0.000000  0.250820   \n",
       "1  0.369308  0.000000  0.369308  0.000000  0.000000  0.369308  0.286801   \n",
       "2  0.000000  0.751432  0.000000  0.000000  0.000000  0.285742  0.221904   \n",
       "\n",
       "       home        is      jill       not     store      than       the  \\\n",
       "0  0.212337  0.000000  0.000000  0.000000  0.212337  0.000000  0.637012   \n",
       "1  0.000000  0.369308  0.369308  0.000000  0.000000  0.485596  0.000000   \n",
       "2  0.000000  0.285742  0.285742  0.375716  0.000000  0.000000  0.000000   \n",
       "\n",
       "         to     would  \n",
       "0  0.212337  0.212337  \n",
       "1  0.000000  0.000000  \n",
       "2  0.000000  0.000000  "
      ]
     },
     "execution_count": 122,
     "metadata": {},
     "output_type": "execute_result"
    }
   ],
   "source": [
    "df"
   ]
  },
  {
   "cell_type": "code",
   "execution_count": 123,
   "metadata": {},
   "outputs": [],
   "source": [
    "sentence = \" I went home to get some stuff.\""
   ]
  },
  {
   "cell_type": "code",
   "execution_count": 125,
   "metadata": {},
   "outputs": [],
   "source": [
    "sentence_tfidf = vectorizer.transform([sentence])"
   ]
  },
  {
   "cell_type": "code",
   "execution_count": 127,
   "metadata": {},
   "outputs": [
    {
     "data": {
      "text/plain": [
       "matrix([[0.        , 0.        , 0.        , 0.57735027, 0.        ,\n",
       "         0.        , 0.        , 0.57735027, 0.        , 0.        ,\n",
       "         0.        , 0.        , 0.        , 0.        , 0.57735027,\n",
       "         0.        ]])"
      ]
     },
     "execution_count": 127,
     "metadata": {},
     "output_type": "execute_result"
    }
   ],
   "source": [
    "sentence_tfidf.todense()"
   ]
  },
  {
   "cell_type": "code",
   "execution_count": 131,
   "metadata": {},
   "outputs": [],
   "source": [
    "df = pd.concat( [ df, pd.DataFrame(sentence_tfidf.todense(), columns = vectorizer.get_feature_names())] )"
   ]
  },
  {
   "cell_type": "code",
   "execution_count": 132,
   "metadata": {},
   "outputs": [
    {
     "data": {
      "text/html": [
       "<div>\n",
       "<style scoped>\n",
       "    .dataframe tbody tr th:only-of-type {\n",
       "        vertical-align: middle;\n",
       "    }\n",
       "\n",
       "    .dataframe tbody tr th {\n",
       "        vertical-align: top;\n",
       "    }\n",
       "\n",
       "    .dataframe thead th {\n",
       "        text-align: right;\n",
       "    }\n",
       "</style>\n",
       "<table border=\"1\" class=\"dataframe\">\n",
       "  <thead>\n",
       "    <tr style=\"text-align: right;\">\n",
       "      <th></th>\n",
       "      <th>and</th>\n",
       "      <th>as</th>\n",
       "      <th>faster</th>\n",
       "      <th>get</th>\n",
       "      <th>got</th>\n",
       "      <th>hairy</th>\n",
       "      <th>harry</th>\n",
       "      <th>home</th>\n",
       "      <th>is</th>\n",
       "      <th>jill</th>\n",
       "      <th>not</th>\n",
       "      <th>store</th>\n",
       "      <th>than</th>\n",
       "      <th>the</th>\n",
       "      <th>to</th>\n",
       "      <th>would</th>\n",
       "    </tr>\n",
       "  </thead>\n",
       "  <tbody>\n",
       "    <tr>\n",
       "      <th>0</th>\n",
       "      <td>0.161488</td>\n",
       "      <td>0.000000</td>\n",
       "      <td>0.484464</td>\n",
       "      <td>0.212337</td>\n",
       "      <td>0.212337</td>\n",
       "      <td>0.000000</td>\n",
       "      <td>0.250820</td>\n",
       "      <td>0.212337</td>\n",
       "      <td>0.000000</td>\n",
       "      <td>0.000000</td>\n",
       "      <td>0.000000</td>\n",
       "      <td>0.212337</td>\n",
       "      <td>0.000000</td>\n",
       "      <td>0.637012</td>\n",
       "      <td>0.212337</td>\n",
       "      <td>0.212337</td>\n",
       "    </tr>\n",
       "    <tr>\n",
       "      <th>1</th>\n",
       "      <td>0.369308</td>\n",
       "      <td>0.000000</td>\n",
       "      <td>0.369308</td>\n",
       "      <td>0.000000</td>\n",
       "      <td>0.000000</td>\n",
       "      <td>0.369308</td>\n",
       "      <td>0.286801</td>\n",
       "      <td>0.000000</td>\n",
       "      <td>0.369308</td>\n",
       "      <td>0.369308</td>\n",
       "      <td>0.000000</td>\n",
       "      <td>0.000000</td>\n",
       "      <td>0.485596</td>\n",
       "      <td>0.000000</td>\n",
       "      <td>0.000000</td>\n",
       "      <td>0.000000</td>\n",
       "    </tr>\n",
       "    <tr>\n",
       "      <th>2</th>\n",
       "      <td>0.000000</td>\n",
       "      <td>0.751432</td>\n",
       "      <td>0.000000</td>\n",
       "      <td>0.000000</td>\n",
       "      <td>0.000000</td>\n",
       "      <td>0.285742</td>\n",
       "      <td>0.221904</td>\n",
       "      <td>0.000000</td>\n",
       "      <td>0.285742</td>\n",
       "      <td>0.285742</td>\n",
       "      <td>0.375716</td>\n",
       "      <td>0.000000</td>\n",
       "      <td>0.000000</td>\n",
       "      <td>0.000000</td>\n",
       "      <td>0.000000</td>\n",
       "      <td>0.000000</td>\n",
       "    </tr>\n",
       "    <tr>\n",
       "      <th>0</th>\n",
       "      <td>0.000000</td>\n",
       "      <td>0.000000</td>\n",
       "      <td>0.000000</td>\n",
       "      <td>0.577350</td>\n",
       "      <td>0.000000</td>\n",
       "      <td>0.000000</td>\n",
       "      <td>0.000000</td>\n",
       "      <td>0.577350</td>\n",
       "      <td>0.000000</td>\n",
       "      <td>0.000000</td>\n",
       "      <td>0.000000</td>\n",
       "      <td>0.000000</td>\n",
       "      <td>0.000000</td>\n",
       "      <td>0.000000</td>\n",
       "      <td>0.577350</td>\n",
       "      <td>0.000000</td>\n",
       "    </tr>\n",
       "  </tbody>\n",
       "</table>\n",
       "</div>"
      ],
      "text/plain": [
       "        and        as    faster       get       got     hairy     harry  \\\n",
       "0  0.161488  0.000000  0.484464  0.212337  0.212337  0.000000  0.250820   \n",
       "1  0.369308  0.000000  0.369308  0.000000  0.000000  0.369308  0.286801   \n",
       "2  0.000000  0.751432  0.000000  0.000000  0.000000  0.285742  0.221904   \n",
       "0  0.000000  0.000000  0.000000  0.577350  0.000000  0.000000  0.000000   \n",
       "\n",
       "       home        is      jill       not     store      than       the  \\\n",
       "0  0.212337  0.000000  0.000000  0.000000  0.212337  0.000000  0.637012   \n",
       "1  0.000000  0.369308  0.369308  0.000000  0.000000  0.485596  0.000000   \n",
       "2  0.000000  0.285742  0.285742  0.375716  0.000000  0.000000  0.000000   \n",
       "0  0.577350  0.000000  0.000000  0.000000  0.000000  0.000000  0.000000   \n",
       "\n",
       "         to     would  \n",
       "0  0.212337  0.212337  \n",
       "1  0.000000  0.000000  \n",
       "2  0.000000  0.000000  \n",
       "0  0.577350  0.000000  "
      ]
     },
     "execution_count": 132,
     "metadata": {},
     "output_type": "execute_result"
    }
   ],
   "source": [
    "df"
   ]
  },
  {
   "cell_type": "code",
   "execution_count": null,
   "metadata": {},
   "outputs": [],
   "source": []
  }
 ],
 "metadata": {
  "kernelspec": {
   "display_name": "Python 3",
   "language": "python",
   "name": "python3"
  },
  "language_info": {
   "codemirror_mode": {
    "name": "ipython",
    "version": 3
   },
   "file_extension": ".py",
   "mimetype": "text/x-python",
   "name": "python",
   "nbconvert_exporter": "python",
   "pygments_lexer": "ipython3",
   "version": "3.6.7"
  }
 },
 "nbformat": 4,
 "nbformat_minor": 2
}
