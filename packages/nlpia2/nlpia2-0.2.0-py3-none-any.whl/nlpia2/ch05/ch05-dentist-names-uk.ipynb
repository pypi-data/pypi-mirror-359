{
 "cells": [
  {
   "cell_type": "markdown",
   "id": "0ac4c866",
   "metadata": {},
   "source": [
    "Predicting baby name sex using PyTorch for Logistic Regression\n",
    "\n",
    "### References\n",
    "\n",
    "- [Logistic Regression with PyTorch](https://proai.org/pytorch-logistic-regression) by [Denny Loevlie](https://twitter.com/DennisLoevlie)\n",
    "- [PyTorch OO design compared with SkLearn](https://jeancochrane.com/blog/pytorch-functional-api) by [Jean Cochrane](https://JeanCochrane.com)\n",
    "- [Building Your First Network in PyTorch](https://t.co/m9I4e0tfrC) by [Ta-Ying Cheng](https://www.linkedin.com/in/tim-ta-ying-cheng-411857139/)\n",
    "- [data.world US baby names since 1880](https://data.world/ssa/baby-names-for-us-states-territories)\n",
    "\n"
   ]
  },
  {
   "cell_type": "code",
   "execution_count": 1,
   "id": "b621a253",
   "metadata": {},
   "outputs": [],
   "source": [
    "import numpy as np\n",
    "import pandas as pd\n",
    "# neither year nor len are statistically significant predictors of sex\n",
    "from pathlib import Path"
   ]
  },
  {
   "cell_type": "code",
   "execution_count": 2,
   "id": "e3fab11c",
   "metadata": {},
   "outputs": [
    {
     "data": {
      "text/plain": [
       "PosixPath('/home/hobs/code/tangibleai/nlpia2/src/nlpia2/ch05')"
      ]
     },
     "execution_count": 2,
     "metadata": {},
     "output_type": "execute_result"
    }
   ],
   "source": [
    "CWD = Path('.').absolute().resolve()   # __file__.parent\n",
    "DATA_DIR = '.nlpia2-data'\n",
    "DATA_FILE = 'dentist-names-uk.csv.gz'\n",
    "CWD"
   ]
  },
  {
   "cell_type": "code",
   "execution_count": 4,
   "id": "b8b24f40",
   "metadata": {},
   "outputs": [
    {
     "data": {
      "text/plain": [
       "PosixPath('/home/hobs/code/tangibleai/nlpia2/.nlpia2-data')"
      ]
     },
     "execution_count": 4,
     "metadata": {},
     "output_type": "execute_result"
    }
   ],
   "source": [
    "def find_file(filename, parent=Path('.').absolute().resolve(), data_dir_name='.nlpia2-data', max_parents=20):\n",
    "    for i in range(max_parents):\n",
    "        data_dir = parent / data_dir_name \n",
    "        filepath = data_dir / filename\n",
    "        if filepath.is_file():\n",
    "            return filepath\n",
    "        parent = parent.parent\n",
    "\n",
    "def find_dir(dirname, parent=Path('.').absolute().resolve(), max_parents=20):\n",
    "    for i in range(max_parents):\n",
    "        data_dir = parent / dirname\n",
    "        if data_dir.is_dir():\n",
    "            return data_dir\n",
    "        parent = parent.parent\n",
    "\n",
    "DATA_DIR = find_dir('.nlpia2-data')\n",
    "DATA_DIR"
   ]
  },
  {
   "cell_type": "code",
   "execution_count": 7,
   "id": "fd3d6c09",
   "metadata": {},
   "outputs": [
    {
     "data": {
      "text/html": [
       "<div>\n",
       "<style scoped>\n",
       "    .dataframe tbody tr th:only-of-type {\n",
       "        vertical-align: middle;\n",
       "    }\n",
       "\n",
       "    .dataframe tbody tr th {\n",
       "        vertical-align: top;\n",
       "    }\n",
       "\n",
       "    .dataframe thead th {\n",
       "        text-align: right;\n",
       "    }\n",
       "</style>\n",
       "<table border=\"1\" class=\"dataframe\">\n",
       "  <thead>\n",
       "    <tr style=\"text-align: right;\">\n",
       "      <th></th>\n",
       "      <th>GDC_NO</th>\n",
       "      <th>DENTISTNAME</th>\n",
       "      <th>ADDRESS1</th>\n",
       "      <th>ADDRESS2</th>\n",
       "      <th>ADDRESS3</th>\n",
       "      <th>ADDRESS4</th>\n",
       "      <th>POSTCODE</th>\n",
       "      <th>TELEPHONE_NO</th>\n",
       "      <th>DENTISTTYPE</th>\n",
       "      <th>LANGUAGES</th>\n",
       "      <th>GDCLOOKUP</th>\n",
       "      <th>LCG</th>\n",
       "      <th>LGD</th>\n",
       "    </tr>\n",
       "  </thead>\n",
       "  <tbody>\n",
       "    <tr>\n",
       "      <th>0</th>\n",
       "      <td>227292</td>\n",
       "      <td>MISS JULIA NICHOLL</td>\n",
       "      <td>105 MONKSTOWN ROAD</td>\n",
       "      <td>MONKSTOWN</td>\n",
       "      <td>NEWTOWNABBEY</td>\n",
       "      <td>NaN</td>\n",
       "      <td>BT37 0LG</td>\n",
       "      <td>2890863498</td>\n",
       "      <td>GDS</td>\n",
       "      <td>NaN</td>\n",
       "      <td>Click Here</td>\n",
       "      <td>NORTHERN</td>\n",
       "      <td>NEWTOWNABBEY</td>\n",
       "    </tr>\n",
       "    <tr>\n",
       "      <th>1</th>\n",
       "      <td>58671</td>\n",
       "      <td>MRS J M MCCANN</td>\n",
       "      <td>49/51 MAIN STREET</td>\n",
       "      <td>NaN</td>\n",
       "      <td>FINTONA</td>\n",
       "      <td>NaN</td>\n",
       "      <td>BT78 2AG</td>\n",
       "      <td>2882840150</td>\n",
       "      <td>GDS</td>\n",
       "      <td>NaN</td>\n",
       "      <td>Click Here</td>\n",
       "      <td>WESTERN</td>\n",
       "      <td>OMAGH</td>\n",
       "    </tr>\n",
       "    <tr>\n",
       "      <th>2</th>\n",
       "      <td>56689</td>\n",
       "      <td>E A TONER</td>\n",
       "      <td>74 SPRINGFIELD ROAD</td>\n",
       "      <td>NaN</td>\n",
       "      <td>BELFAST</td>\n",
       "      <td>NaN</td>\n",
       "      <td>BT12 7AH</td>\n",
       "      <td>2890322691</td>\n",
       "      <td>GDS</td>\n",
       "      <td>NaN</td>\n",
       "      <td>Click Here</td>\n",
       "      <td>BELFAST</td>\n",
       "      <td>BELFAST</td>\n",
       "    </tr>\n",
       "    <tr>\n",
       "      <th>3</th>\n",
       "      <td>68878</td>\n",
       "      <td>M TODD</td>\n",
       "      <td>77 MAIN STREET</td>\n",
       "      <td>NaN</td>\n",
       "      <td>MOIRA</td>\n",
       "      <td>NaN</td>\n",
       "      <td>BT67 0LH</td>\n",
       "      <td>2892612836</td>\n",
       "      <td>HOLDING NUMBER</td>\n",
       "      <td>NaN</td>\n",
       "      <td>Click Here</td>\n",
       "      <td>SOUTH EASTERN</td>\n",
       "      <td>LISBURN</td>\n",
       "    </tr>\n",
       "    <tr>\n",
       "      <th>4</th>\n",
       "      <td>257719</td>\n",
       "      <td>MR RICHARD MORRISON</td>\n",
       "      <td>26 CHURCH STREET</td>\n",
       "      <td>NaN</td>\n",
       "      <td>ANTRIM</td>\n",
       "      <td>NaN</td>\n",
       "      <td>BT41 4BA</td>\n",
       "      <td>2894463234</td>\n",
       "      <td>GDS</td>\n",
       "      <td>NaN</td>\n",
       "      <td>Click Here</td>\n",
       "      <td>NORTHERN</td>\n",
       "      <td>ANTRIM</td>\n",
       "    </tr>\n",
       "  </tbody>\n",
       "</table>\n",
       "</div>"
      ],
      "text/plain": [
       "   GDC_NO          DENTISTNAME             ADDRESS1   ADDRESS2      ADDRESS3  \\\n",
       "0  227292   MISS JULIA NICHOLL   105 MONKSTOWN ROAD  MONKSTOWN  NEWTOWNABBEY   \n",
       "1   58671       MRS J M MCCANN    49/51 MAIN STREET        NaN       FINTONA   \n",
       "2   56689            E A TONER  74 SPRINGFIELD ROAD        NaN       BELFAST   \n",
       "3   68878               M TODD       77 MAIN STREET        NaN         MOIRA   \n",
       "4  257719  MR RICHARD MORRISON     26 CHURCH STREET        NaN        ANTRIM   \n",
       "\n",
       "  ADDRESS4  POSTCODE  TELEPHONE_NO     DENTISTTYPE LANGUAGES   GDCLOOKUP  \\\n",
       "0      NaN  BT37 0LG    2890863498             GDS       NaN  Click Here   \n",
       "1      NaN  BT78 2AG    2882840150             GDS       NaN  Click Here   \n",
       "2      NaN  BT12 7AH    2890322691             GDS       NaN  Click Here   \n",
       "3      NaN  BT67 0LH    2892612836  HOLDING NUMBER       NaN  Click Here   \n",
       "4      NaN  BT41 4BA    2894463234             GDS       NaN  Click Here   \n",
       "\n",
       "             LCG           LGD  \n",
       "0       NORTHERN  NEWTOWNABBEY  \n",
       "1        WESTERN         OMAGH  \n",
       "2        BELFAST       BELFAST  \n",
       "3  SOUTH EASTERN       LISBURN  \n",
       "4       NORTHERN        ANTRIM  "
      ]
     },
     "execution_count": 7,
     "metadata": {},
     "output_type": "execute_result"
    }
   ],
   "source": [
    "df = pd.read_csv('https://www.opendatani.gov.uk/dataset/7a65dda8-5d57-4344-bc0a-9cca26a3a57c/resource/0290d4c7-8241-41f0-8221-22cc9d307a3e/download/dental_list_june_2019.csv', encoding='latin')\n",
    "df.head()"
   ]
  },
  {
   "cell_type": "code",
   "execution_count": 14,
   "id": "61a6172f",
   "metadata": {},
   "outputs": [
    {
     "data": {
      "text/plain": [
       "0.0065549890750182084"
      ]
     },
     "execution_count": 14,
     "metadata": {},
     "output_type": "execute_result"
    }
   ],
   "source": [
    "df['isdennis'] = ['den' in name for name in df['DENTISTNAME'].str.lower()]\n",
    "df['isdennis'].sum() / len(df)"
   ]
  },
  {
   "cell_type": "code",
   "execution_count": 15,
   "id": "c0867697",
   "metadata": {},
   "outputs": [
    {
     "data": {
      "text/plain": [
       "1373"
      ]
     },
     "execution_count": 15,
     "metadata": {},
     "output_type": "execute_result"
    }
   ],
   "source": [
    "len(df)"
   ]
  },
  {
   "cell_type": "code",
   "execution_count": null,
   "id": "021bedab",
   "metadata": {},
   "outputs": [],
   "source": []
  }
 ],
 "metadata": {
  "kernelspec": {
   "display_name": "Python 3 (ipykernel)",
   "language": "python",
   "name": "python3"
  },
  "language_info": {
   "codemirror_mode": {
    "name": "ipython",
    "version": 3
   },
   "file_extension": ".py",
   "mimetype": "text/x-python",
   "name": "python",
   "nbconvert_exporter": "python",
   "pygments_lexer": "ipython3",
   "version": "3.8.8"
  }
 },
 "nbformat": 4,
 "nbformat_minor": 5
}
