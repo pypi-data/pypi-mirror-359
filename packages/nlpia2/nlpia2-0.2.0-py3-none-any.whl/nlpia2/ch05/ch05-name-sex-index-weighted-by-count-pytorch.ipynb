{
 "cells": [
  {
   "cell_type": "markdown",
   "id": "0ac4c866",
   "metadata": {},
   "source": [
    "Predicting baby name sex using PyTorch for Logistic Regression\n",
    "\n",
    "### References\n",
    "\n",
    "- [Logistic Regression with PyTorch](https://proai.org/pytorch-logistic-regression) by [Denny Loevlie](https://twitter.com/DennisLoevlie)\n",
    "- [PyTorch OO design compared with SkLearn](https://jeancochrane.com/blog/pytorch-functional-api) by [Jean Cochrane](https://JeanCochrane.com)\n",
    "- [Building Your First Network in PyTorch](https://t.co/m9I4e0tfrC) by [Ta-Ying Cheng](https://www.linkedin.com/in/tim-ta-ying-cheng-411857139/)\n",
    "- [data.world US baby names since 1880](https://data.world/ssa/baby-names-for-us-states-territories)\n",
    "\n"
   ]
  },
  {
   "cell_type": "code",
   "execution_count": 2,
   "id": "b621a253",
   "metadata": {},
   "outputs": [],
   "source": [
    "import numpy as np\n",
    "import pandas as pd\n",
    "# neither year nor len are statistically significant predictors of sex\n",
    "from pathlib import Path"
   ]
  },
  {
   "cell_type": "code",
   "execution_count": 3,
   "id": "e3fab11c",
   "metadata": {},
   "outputs": [
    {
     "data": {
      "text/plain": [
       "PosixPath('/home/hobs/code/tangibleai/nlpia2/src/nlpia2/ch05')"
      ]
     },
     "execution_count": 3,
     "metadata": {},
     "output_type": "execute_result"
    }
   ],
   "source": [
    "CWD = Path('.').absolute().resolve()\n",
    "DATA_DIR = '.nlpia2-data'\n",
    "DATA_FILE = 'baby-names-region.csv.gz'\n",
    "CWD"
   ]
  },
  {
   "cell_type": "code",
   "execution_count": 4,
   "id": "b8b24f40",
   "metadata": {},
   "outputs": [
    {
     "name": "stdout",
     "output_type": "stream",
     "text": [
      "/home/hobs/code/tangibleai/nlpia2/src/nlpia2/ch05/.nlpia2-data/baby-names-region.csv.gz\n",
      "/home/hobs/code/tangibleai/nlpia2/src/nlpia2/.nlpia2-data/baby-names-region.csv.gz\n",
      "/home/hobs/code/tangibleai/nlpia2/src/.nlpia2-data/baby-names-region.csv.gz\n",
      "/home/hobs/code/tangibleai/nlpia2/.nlpia2-data/baby-names-region.csv.gz\n"
     ]
    },
    {
     "data": {
      "text/plain": [
       "PosixPath('/home/hobs/code/tangibleai/nlpia2/.nlpia2-data/baby-names-region.csv.gz')"
      ]
     },
     "execution_count": 4,
     "metadata": {},
     "output_type": "execute_result"
    }
   ],
   "source": [
    "parent = CWD\n",
    "data_dir = parent / DATA_DIR \n",
    "filepath = data_dir / DATA_FILE\n",
    "for i in range(10):\n",
    "    print(filepath)\n",
    "    if filepath.is_file():\n",
    "        break\n",
    "    parent = parent.parent\n",
    "    data_dir = parent / DATA_DIR \n",
    "    filepath = data_dir / DATA_FILE\n",
    "filepath"
   ]
  },
  {
   "cell_type": "code",
   "execution_count": 5,
   "id": "fd3d6c09",
   "metadata": {},
   "outputs": [],
   "source": [
    "df = pd.read_csv(filepath)"
   ]
  },
  {
   "cell_type": "code",
   "execution_count": 6,
   "id": "7995427f",
   "metadata": {},
   "outputs": [
    {
     "data": {
      "text/html": [
       "<div>\n",
       "<style scoped>\n",
       "    .dataframe tbody tr th:only-of-type {\n",
       "        vertical-align: middle;\n",
       "    }\n",
       "\n",
       "    .dataframe tbody tr th {\n",
       "        vertical-align: top;\n",
       "    }\n",
       "\n",
       "    .dataframe thead th {\n",
       "        text-align: right;\n",
       "    }\n",
       "</style>\n",
       "<table border=\"1\" class=\"dataframe\">\n",
       "  <thead>\n",
       "    <tr style=\"text-align: right;\">\n",
       "      <th></th>\n",
       "      <th>region</th>\n",
       "      <th>sex</th>\n",
       "      <th>year</th>\n",
       "      <th>name</th>\n",
       "      <th>count</th>\n",
       "      <th>freq</th>\n",
       "    </tr>\n",
       "  </thead>\n",
       "  <tbody>\n",
       "    <tr>\n",
       "      <th>6139665</th>\n",
       "      <td>WV</td>\n",
       "      <td>F</td>\n",
       "      <td>1987</td>\n",
       "      <td>Brittani</td>\n",
       "      <td>10</td>\n",
       "      <td>0.000003</td>\n",
       "    </tr>\n",
       "    <tr>\n",
       "      <th>2565339</th>\n",
       "      <td>MD</td>\n",
       "      <td>F</td>\n",
       "      <td>1954</td>\n",
       "      <td>Ida</td>\n",
       "      <td>18</td>\n",
       "      <td>0.000005</td>\n",
       "    </tr>\n",
       "    <tr>\n",
       "      <th>22297</th>\n",
       "      <td>AK</td>\n",
       "      <td>M</td>\n",
       "      <td>1988</td>\n",
       "      <td>Maxwell</td>\n",
       "      <td>5</td>\n",
       "      <td>0.000001</td>\n",
       "    </tr>\n",
       "    <tr>\n",
       "      <th>5114650</th>\n",
       "      <td>TN</td>\n",
       "      <td>F</td>\n",
       "      <td>1972</td>\n",
       "      <td>Charlene</td>\n",
       "      <td>24</td>\n",
       "      <td>0.000008</td>\n",
       "    </tr>\n",
       "    <tr>\n",
       "      <th>2126395</th>\n",
       "      <td>KS</td>\n",
       "      <td>M</td>\n",
       "      <td>1954</td>\n",
       "      <td>Todd</td>\n",
       "      <td>11</td>\n",
       "      <td>0.000003</td>\n",
       "    </tr>\n",
       "  </tbody>\n",
       "</table>\n",
       "</div>"
      ],
      "text/plain": [
       "        region sex  year      name  count      freq\n",
       "6139665     WV   F  1987  Brittani     10  0.000003\n",
       "2565339     MD   F  1954       Ida     18  0.000005\n",
       "22297       AK   M  1988   Maxwell      5  0.000001\n",
       "5114650     TN   F  1972  Charlene     24  0.000008\n",
       "2126395     KS   M  1954      Todd     11  0.000003"
      ]
     },
     "execution_count": 6,
     "metadata": {},
     "output_type": "execute_result"
    }
   ],
   "source": [
    "np.random.seed(451)\n",
    "df = df.sample(10_000)\n",
    "df.head()"
   ]
  },
  {
   "cell_type": "code",
   "execution_count": 7,
   "id": "c2ce77ed",
   "metadata": {},
   "outputs": [
    {
     "data": {
      "text/plain": [
       "array(['Brittani', 'Ida', 'Maxwell', 'Charlene', 'Todd', 'Aubrey',\n",
       "       'Arianna', 'Otis', 'Trenton', 'Faustino'], dtype=object)"
      ]
     },
     "execution_count": 7,
     "metadata": {},
     "output_type": "execute_result"
    }
   ],
   "source": [
    "names = df['name'].unique()\n",
    "names[:10]"
   ]
  },
  {
   "cell_type": "code",
   "execution_count": 8,
   "id": "fff4a397",
   "metadata": {},
   "outputs": [
    {
     "data": {
      "text/plain": [
       "0.4025"
      ]
     },
     "execution_count": 8,
     "metadata": {},
     "output_type": "execute_result"
    }
   ],
   "source": [
    "len(names) / len(df)"
   ]
  },
  {
   "cell_type": "code",
   "execution_count": 9,
   "id": "7c65cb6c",
   "metadata": {},
   "outputs": [],
   "source": [
    "# df = pd.get_dummies(df, columns=['region'])\n",
    "# df.head()"
   ]
  },
  {
   "cell_type": "code",
   "execution_count": 10,
   "id": "1f7bcd1b",
   "metadata": {},
   "outputs": [
    {
     "data": {
      "text/html": [
       "<div>\n",
       "<style scoped>\n",
       "    .dataframe tbody tr th:only-of-type {\n",
       "        vertical-align: middle;\n",
       "    }\n",
       "\n",
       "    .dataframe tbody tr th {\n",
       "        vertical-align: top;\n",
       "    }\n",
       "\n",
       "    .dataframe thead th {\n",
       "        text-align: right;\n",
       "    }\n",
       "</style>\n",
       "<table border=\"1\" class=\"dataframe\">\n",
       "  <thead>\n",
       "    <tr style=\"text-align: right;\">\n",
       "      <th></th>\n",
       "      <th></th>\n",
       "      <th>year</th>\n",
       "      <th>count</th>\n",
       "      <th>freq</th>\n",
       "    </tr>\n",
       "    <tr>\n",
       "      <th>name</th>\n",
       "      <th>sex</th>\n",
       "      <th></th>\n",
       "      <th></th>\n",
       "      <th></th>\n",
       "    </tr>\n",
       "  </thead>\n",
       "  <tbody>\n",
       "    <tr>\n",
       "      <th>Aaden</th>\n",
       "      <th>M</th>\n",
       "      <td>2008</td>\n",
       "      <td>51</td>\n",
       "      <td>0.000015</td>\n",
       "    </tr>\n",
       "    <tr>\n",
       "      <th>Aahana</th>\n",
       "      <th>F</th>\n",
       "      <td>2018</td>\n",
       "      <td>26</td>\n",
       "      <td>0.000009</td>\n",
       "    </tr>\n",
       "    <tr>\n",
       "      <th>Aahil</th>\n",
       "      <th>M</th>\n",
       "      <td>2019</td>\n",
       "      <td>5</td>\n",
       "      <td>0.000002</td>\n",
       "    </tr>\n",
       "    <tr>\n",
       "      <th>Aaleyah</th>\n",
       "      <th>F</th>\n",
       "      <td>2010</td>\n",
       "      <td>17</td>\n",
       "      <td>0.000005</td>\n",
       "    </tr>\n",
       "    <tr>\n",
       "      <th>Aalia</th>\n",
       "      <th>F</th>\n",
       "      <td>4033</td>\n",
       "      <td>13</td>\n",
       "      <td>0.000004</td>\n",
       "    </tr>\n",
       "  </tbody>\n",
       "</table>\n",
       "</div>"
      ],
      "text/plain": [
       "             year  count      freq\n",
       "name    sex                       \n",
       "Aaden   M    2008     51  0.000015\n",
       "Aahana  F    2018     26  0.000009\n",
       "Aahil   M    2019      5  0.000002\n",
       "Aaleyah F    2010     17  0.000005\n",
       "Aalia   F    4033     13  0.000004"
      ]
     },
     "execution_count": 10,
     "metadata": {},
     "output_type": "execute_result"
    }
   ],
   "source": [
    "df = df.groupby(['name', 'sex']).sum()\n",
    "df.head()"
   ]
  },
  {
   "cell_type": "code",
   "execution_count": 11,
   "id": "00953070",
   "metadata": {},
   "outputs": [
    {
     "data": {
      "text/html": [
       "<div>\n",
       "<style scoped>\n",
       "    .dataframe tbody tr th:only-of-type {\n",
       "        vertical-align: middle;\n",
       "    }\n",
       "\n",
       "    .dataframe tbody tr th {\n",
       "        vertical-align: top;\n",
       "    }\n",
       "\n",
       "    .dataframe thead th {\n",
       "        text-align: right;\n",
       "    }\n",
       "</style>\n",
       "<table border=\"1\" class=\"dataframe\">\n",
       "  <thead>\n",
       "    <tr style=\"text-align: right;\">\n",
       "      <th></th>\n",
       "      <th></th>\n",
       "      <th>year</th>\n",
       "      <th>count</th>\n",
       "      <th>freq</th>\n",
       "      <th>name</th>\n",
       "      <th>sex</th>\n",
       "    </tr>\n",
       "    <tr>\n",
       "      <th>name</th>\n",
       "      <th>sex</th>\n",
       "      <th></th>\n",
       "      <th></th>\n",
       "      <th></th>\n",
       "      <th></th>\n",
       "      <th></th>\n",
       "    </tr>\n",
       "  </thead>\n",
       "  <tbody>\n",
       "    <tr>\n",
       "      <th>Aaden</th>\n",
       "      <th>M</th>\n",
       "      <td>2008</td>\n",
       "      <td>51</td>\n",
       "      <td>0.000015</td>\n",
       "      <td>Aaden</td>\n",
       "      <td>M</td>\n",
       "    </tr>\n",
       "    <tr>\n",
       "      <th>Aahana</th>\n",
       "      <th>F</th>\n",
       "      <td>2018</td>\n",
       "      <td>26</td>\n",
       "      <td>0.000009</td>\n",
       "      <td>Aahana</td>\n",
       "      <td>F</td>\n",
       "    </tr>\n",
       "    <tr>\n",
       "      <th>Aahil</th>\n",
       "      <th>M</th>\n",
       "      <td>2019</td>\n",
       "      <td>5</td>\n",
       "      <td>0.000002</td>\n",
       "      <td>Aahil</td>\n",
       "      <td>M</td>\n",
       "    </tr>\n",
       "    <tr>\n",
       "      <th>Aaleyah</th>\n",
       "      <th>F</th>\n",
       "      <td>2010</td>\n",
       "      <td>17</td>\n",
       "      <td>0.000005</td>\n",
       "      <td>Aaleyah</td>\n",
       "      <td>F</td>\n",
       "    </tr>\n",
       "    <tr>\n",
       "      <th>Aalia</th>\n",
       "      <th>F</th>\n",
       "      <td>4033</td>\n",
       "      <td>13</td>\n",
       "      <td>0.000004</td>\n",
       "      <td>Aalia</td>\n",
       "      <td>F</td>\n",
       "    </tr>\n",
       "  </tbody>\n",
       "</table>\n",
       "</div>"
      ],
      "text/plain": [
       "             year  count      freq     name sex\n",
       "name    sex                                    \n",
       "Aaden   M    2008     51  0.000015    Aaden   M\n",
       "Aahana  F    2018     26  0.000009   Aahana   F\n",
       "Aahil   M    2019      5  0.000002    Aahil   M\n",
       "Aaleyah F    2010     17  0.000005  Aaleyah   F\n",
       "Aalia   F    4033     13  0.000004    Aalia   F"
      ]
     },
     "execution_count": 11,
     "metadata": {},
     "output_type": "execute_result"
    }
   ],
   "source": [
    "df['name'] = df.index.get_level_values('name')\n",
    "df['sex'] = df.index.get_level_values('sex')\n",
    "df.head()"
   ]
  },
  {
   "cell_type": "code",
   "execution_count": null,
   "id": "0082b11e",
   "metadata": {},
   "outputs": [],
   "source": [
    "df_with_duplicates = df;"
   ]
  },
  {
   "cell_type": "code",
   "execution_count": 1,
   "id": "522d84d5",
   "metadata": {},
   "outputs": [
    {
     "ename": "NameError",
     "evalue": "name 'df' is not defined",
     "output_type": "error",
     "traceback": [
      "\u001b[1;31m---------------------------------------------------------------------------\u001b[0m",
      "\u001b[1;31mNameError\u001b[0m                                 Traceback (most recent call last)",
      "\u001b[1;32m~\\AppData\\Local\\Temp/ipykernel_18460/753250909.py\u001b[0m in \u001b[0;36m<module>\u001b[1;34m\u001b[0m\n\u001b[1;32m----> 1\u001b[1;33m \u001b[0mdf\u001b[0m\u001b[1;33m.\u001b[0m\u001b[0mquery\u001b[0m\u001b[1;33m(\u001b[0m\u001b[1;34m'name == \"Sam\"'\u001b[0m\u001b[1;33m)\u001b[0m\u001b[1;33m\u001b[0m\u001b[1;33m\u001b[0m\u001b[0m\n\u001b[0m",
      "\u001b[1;31mNameError\u001b[0m: name 'df' is not defined"
     ]
    }
   ],
   "source": [
    "df.query('name == \"Sam\"')\n"
   ]
  },
  {
   "cell_type": "code",
   "execution_count": 13,
   "id": "7a4a0cbd",
   "metadata": {},
   "outputs": [
    {
     "data": {
      "text/html": [
       "<div>\n",
       "<style scoped>\n",
       "    .dataframe tbody tr th:only-of-type {\n",
       "        vertical-align: middle;\n",
       "    }\n",
       "\n",
       "    .dataframe tbody tr th {\n",
       "        vertical-align: top;\n",
       "    }\n",
       "\n",
       "    .dataframe thead th {\n",
       "        text-align: right;\n",
       "    }\n",
       "</style>\n",
       "<table border=\"1\" class=\"dataframe\">\n",
       "  <thead>\n",
       "    <tr style=\"text-align: right;\">\n",
       "      <th></th>\n",
       "      <th>year</th>\n",
       "      <th>count</th>\n",
       "      <th>freq</th>\n",
       "      <th>name</th>\n",
       "      <th>sex</th>\n",
       "    </tr>\n",
       "    <tr>\n",
       "      <th>sex</th>\n",
       "      <th></th>\n",
       "      <th></th>\n",
       "      <th></th>\n",
       "      <th></th>\n",
       "      <th></th>\n",
       "    </tr>\n",
       "  </thead>\n",
       "  <tbody>\n",
       "    <tr>\n",
       "      <th>F</th>\n",
       "      <td>1983</td>\n",
       "      <td>5</td>\n",
       "      <td>0.000002</td>\n",
       "      <td>Chris</td>\n",
       "      <td>F</td>\n",
       "    </tr>\n",
       "    <tr>\n",
       "      <th>M</th>\n",
       "      <td>7850</td>\n",
       "      <td>239</td>\n",
       "      <td>0.000069</td>\n",
       "      <td>Chris</td>\n",
       "      <td>M</td>\n",
       "    </tr>\n",
       "  </tbody>\n",
       "</table>\n",
       "</div>"
      ],
      "text/plain": [
       "     year  count      freq   name sex\n",
       "sex                                  \n",
       "F    1983      5  0.000002  Chris   F\n",
       "M    7850    239  0.000069  Chris   M"
      ]
     },
     "execution_count": 13,
     "metadata": {},
     "output_type": "execute_result"
    }
   ],
   "source": [
    "df.loc[pd.IndexSlice['Chris', :]]"
   ]
  },
  {
   "cell_type": "code",
   "execution_count": 14,
   "id": "11612de1",
   "metadata": {},
   "outputs": [
    {
     "data": {
      "text/html": [
       "<div>\n",
       "<style scoped>\n",
       "    .dataframe tbody tr th:only-of-type {\n",
       "        vertical-align: middle;\n",
       "    }\n",
       "\n",
       "    .dataframe tbody tr th {\n",
       "        vertical-align: top;\n",
       "    }\n",
       "\n",
       "    .dataframe thead th {\n",
       "        text-align: right;\n",
       "    }\n",
       "</style>\n",
       "<table border=\"1\" class=\"dataframe\">\n",
       "  <thead>\n",
       "    <tr style=\"text-align: right;\">\n",
       "      <th></th>\n",
       "      <th></th>\n",
       "      <th>year</th>\n",
       "      <th>count</th>\n",
       "      <th>freq</th>\n",
       "      <th>name</th>\n",
       "      <th>sex</th>\n",
       "      <th>istrain</th>\n",
       "    </tr>\n",
       "    <tr>\n",
       "      <th>name</th>\n",
       "      <th>sex</th>\n",
       "      <th></th>\n",
       "      <th></th>\n",
       "      <th></th>\n",
       "      <th></th>\n",
       "      <th></th>\n",
       "      <th></th>\n",
       "    </tr>\n",
       "  </thead>\n",
       "  <tbody>\n",
       "    <tr>\n",
       "      <th>Aaden</th>\n",
       "      <th>M</th>\n",
       "      <td>2008</td>\n",
       "      <td>51</td>\n",
       "      <td>0.000015</td>\n",
       "      <td>Aaden</td>\n",
       "      <td>M</td>\n",
       "      <td>True</td>\n",
       "    </tr>\n",
       "    <tr>\n",
       "      <th>Aahana</th>\n",
       "      <th>F</th>\n",
       "      <td>2018</td>\n",
       "      <td>26</td>\n",
       "      <td>0.000009</td>\n",
       "      <td>Aahana</td>\n",
       "      <td>F</td>\n",
       "      <td>True</td>\n",
       "    </tr>\n",
       "    <tr>\n",
       "      <th>Aahil</th>\n",
       "      <th>M</th>\n",
       "      <td>2019</td>\n",
       "      <td>5</td>\n",
       "      <td>0.000002</td>\n",
       "      <td>Aahil</td>\n",
       "      <td>M</td>\n",
       "      <td>True</td>\n",
       "    </tr>\n",
       "    <tr>\n",
       "      <th>Aaleyah</th>\n",
       "      <th>F</th>\n",
       "      <td>2010</td>\n",
       "      <td>17</td>\n",
       "      <td>0.000005</td>\n",
       "      <td>Aaleyah</td>\n",
       "      <td>F</td>\n",
       "      <td>True</td>\n",
       "    </tr>\n",
       "    <tr>\n",
       "      <th>Aalia</th>\n",
       "      <th>F</th>\n",
       "      <td>4033</td>\n",
       "      <td>13</td>\n",
       "      <td>0.000004</td>\n",
       "      <td>Aalia</td>\n",
       "      <td>F</td>\n",
       "      <td>True</td>\n",
       "    </tr>\n",
       "  </tbody>\n",
       "</table>\n",
       "</div>"
      ],
      "text/plain": [
       "             year  count      freq     name sex  istrain\n",
       "name    sex                                             \n",
       "Aaden   M    2008     51  0.000015    Aaden   M     True\n",
       "Aahana  F    2018     26  0.000009   Aahana   F     True\n",
       "Aahil   M    2019      5  0.000002    Aahil   M     True\n",
       "Aaleyah F    2010     17  0.000005  Aaleyah   F     True\n",
       "Aalia   F    4033     13  0.000004    Aalia   F     True"
      ]
     },
     "execution_count": 14,
     "metadata": {},
     "output_type": "execute_result"
    }
   ],
   "source": [
    "df['istrain'] = np.random.rand(len(df)) < .9\n",
    "df.head()"
   ]
  },
  {
   "cell_type": "code",
   "execution_count": 15,
   "id": "aaa31338",
   "metadata": {},
   "outputs": [
    {
     "data": {
      "text/plain": [
       "0.9042000943841435"
      ]
     },
     "execution_count": 15,
     "metadata": {},
     "output_type": "execute_result"
    }
   ],
   "source": [
    "istrain = df['istrain']\n",
    "del df['istrain']\n",
    "istrain.sum() / len(istrain)"
   ]
  },
  {
   "cell_type": "code",
   "execution_count": 16,
   "id": "826e29ec",
   "metadata": {},
   "outputs": [
    {
     "data": {
      "text/plain": [
       "TfidfVectorizer(analyzer='char', lowercase=False, ngram_range=(1, 3))"
      ]
     },
     "execution_count": 16,
     "metadata": {},
     "output_type": "execute_result"
    }
   ],
   "source": [
    "from sklearn.feature_extraction.text import TfidfVectorizer\n",
    "vectorizer = TfidfVectorizer(analyzer='char', ngram_range=(1, 3), lowercase=False)\n",
    "vectorizer"
   ]
  },
  {
   "cell_type": "code",
   "execution_count": 17,
   "id": "6fe93803",
   "metadata": {},
   "outputs": [
    {
     "data": {
      "text/plain": [
       "TfidfVectorizer(analyzer='char', lowercase=False, ngram_range=(1, 3))"
      ]
     },
     "execution_count": 17,
     "metadata": {},
     "output_type": "execute_result"
    }
   ],
   "source": [
    "vectorizer.fit(df['name'][istrain])"
   ]
  },
  {
   "cell_type": "code",
   "execution_count": 18,
   "id": "4c44dccb",
   "metadata": {
    "scrolled": true
   },
   "outputs": [
    {
     "data": {
      "text/html": [
       "<div>\n",
       "<style scoped>\n",
       "    .dataframe tbody tr th:only-of-type {\n",
       "        vertical-align: middle;\n",
       "    }\n",
       "\n",
       "    .dataframe tbody tr th {\n",
       "        vertical-align: top;\n",
       "    }\n",
       "\n",
       "    .dataframe thead th {\n",
       "        text-align: right;\n",
       "    }\n",
       "</style>\n",
       "<table border=\"1\" class=\"dataframe\">\n",
       "  <thead>\n",
       "    <tr style=\"text-align: right;\">\n",
       "      <th></th>\n",
       "      <th>0</th>\n",
       "      <th>1</th>\n",
       "      <th>2</th>\n",
       "      <th>3</th>\n",
       "      <th>4</th>\n",
       "      <th>5</th>\n",
       "      <th>6</th>\n",
       "      <th>7</th>\n",
       "      <th>8</th>\n",
       "      <th>9</th>\n",
       "      <th>...</th>\n",
       "      <th>3653</th>\n",
       "      <th>3654</th>\n",
       "      <th>3655</th>\n",
       "      <th>3656</th>\n",
       "      <th>3657</th>\n",
       "      <th>3658</th>\n",
       "      <th>3659</th>\n",
       "      <th>3660</th>\n",
       "      <th>3661</th>\n",
       "      <th>3662</th>\n",
       "    </tr>\n",
       "  </thead>\n",
       "  <tbody>\n",
       "    <tr>\n",
       "      <th>0</th>\n",
       "      <td>0.193687</td>\n",
       "      <td>0.395438</td>\n",
       "      <td>0.506137</td>\n",
       "      <td>0.000000</td>\n",
       "      <td>0.000000</td>\n",
       "      <td>0.0</td>\n",
       "      <td>0.0</td>\n",
       "      <td>0.0</td>\n",
       "      <td>0.0</td>\n",
       "      <td>0.0</td>\n",
       "      <td>...</td>\n",
       "      <td>0.0</td>\n",
       "      <td>0.0</td>\n",
       "      <td>0.0</td>\n",
       "      <td>0.0</td>\n",
       "      <td>0.0</td>\n",
       "      <td>0.0</td>\n",
       "      <td>0.0</td>\n",
       "      <td>0.0</td>\n",
       "      <td>0.0</td>\n",
       "      <td>0.0</td>\n",
       "    </tr>\n",
       "    <tr>\n",
       "      <th>1</th>\n",
       "      <td>0.182726</td>\n",
       "      <td>0.373059</td>\n",
       "      <td>0.000000</td>\n",
       "      <td>0.454870</td>\n",
       "      <td>0.000000</td>\n",
       "      <td>0.0</td>\n",
       "      <td>0.0</td>\n",
       "      <td>0.0</td>\n",
       "      <td>0.0</td>\n",
       "      <td>0.0</td>\n",
       "      <td>...</td>\n",
       "      <td>0.0</td>\n",
       "      <td>0.0</td>\n",
       "      <td>0.0</td>\n",
       "      <td>0.0</td>\n",
       "      <td>0.0</td>\n",
       "      <td>0.0</td>\n",
       "      <td>0.0</td>\n",
       "      <td>0.0</td>\n",
       "      <td>0.0</td>\n",
       "      <td>0.0</td>\n",
       "    </tr>\n",
       "    <tr>\n",
       "      <th>2</th>\n",
       "      <td>0.185518</td>\n",
       "      <td>0.378759</td>\n",
       "      <td>0.000000</td>\n",
       "      <td>0.461821</td>\n",
       "      <td>0.000000</td>\n",
       "      <td>0.0</td>\n",
       "      <td>0.0</td>\n",
       "      <td>0.0</td>\n",
       "      <td>0.0</td>\n",
       "      <td>0.0</td>\n",
       "      <td>...</td>\n",
       "      <td>0.0</td>\n",
       "      <td>0.0</td>\n",
       "      <td>0.0</td>\n",
       "      <td>0.0</td>\n",
       "      <td>0.0</td>\n",
       "      <td>0.0</td>\n",
       "      <td>0.0</td>\n",
       "      <td>0.0</td>\n",
       "      <td>0.0</td>\n",
       "      <td>0.0</td>\n",
       "    </tr>\n",
       "    <tr>\n",
       "      <th>3</th>\n",
       "      <td>0.166921</td>\n",
       "      <td>0.340790</td>\n",
       "      <td>0.000000</td>\n",
       "      <td>0.000000</td>\n",
       "      <td>0.389490</td>\n",
       "      <td>0.0</td>\n",
       "      <td>0.0</td>\n",
       "      <td>0.0</td>\n",
       "      <td>0.0</td>\n",
       "      <td>0.0</td>\n",
       "      <td>...</td>\n",
       "      <td>0.0</td>\n",
       "      <td>0.0</td>\n",
       "      <td>0.0</td>\n",
       "      <td>0.0</td>\n",
       "      <td>0.0</td>\n",
       "      <td>0.0</td>\n",
       "      <td>0.0</td>\n",
       "      <td>0.0</td>\n",
       "      <td>0.0</td>\n",
       "      <td>0.0</td>\n",
       "    </tr>\n",
       "    <tr>\n",
       "      <th>4</th>\n",
       "      <td>0.214766</td>\n",
       "      <td>0.438473</td>\n",
       "      <td>0.000000</td>\n",
       "      <td>0.000000</td>\n",
       "      <td>0.501131</td>\n",
       "      <td>0.0</td>\n",
       "      <td>0.0</td>\n",
       "      <td>0.0</td>\n",
       "      <td>0.0</td>\n",
       "      <td>0.0</td>\n",
       "      <td>...</td>\n",
       "      <td>0.0</td>\n",
       "      <td>0.0</td>\n",
       "      <td>0.0</td>\n",
       "      <td>0.0</td>\n",
       "      <td>0.0</td>\n",
       "      <td>0.0</td>\n",
       "      <td>0.0</td>\n",
       "      <td>0.0</td>\n",
       "      <td>0.0</td>\n",
       "      <td>0.0</td>\n",
       "    </tr>\n",
       "  </tbody>\n",
       "</table>\n",
       "<p>5 rows × 3663 columns</p>\n",
       "</div>"
      ],
      "text/plain": [
       "       0         1         2         3         4     5     6     7     8     \\\n",
       "0  0.193687  0.395438  0.506137  0.000000  0.000000   0.0   0.0   0.0   0.0   \n",
       "1  0.182726  0.373059  0.000000  0.454870  0.000000   0.0   0.0   0.0   0.0   \n",
       "2  0.185518  0.378759  0.000000  0.461821  0.000000   0.0   0.0   0.0   0.0   \n",
       "3  0.166921  0.340790  0.000000  0.000000  0.389490   0.0   0.0   0.0   0.0   \n",
       "4  0.214766  0.438473  0.000000  0.000000  0.501131   0.0   0.0   0.0   0.0   \n",
       "\n",
       "   9     ...  3653  3654  3655  3656  3657  3658  3659  3660  3661  3662  \n",
       "0   0.0  ...   0.0   0.0   0.0   0.0   0.0   0.0   0.0   0.0   0.0   0.0  \n",
       "1   0.0  ...   0.0   0.0   0.0   0.0   0.0   0.0   0.0   0.0   0.0   0.0  \n",
       "2   0.0  ...   0.0   0.0   0.0   0.0   0.0   0.0   0.0   0.0   0.0   0.0  \n",
       "3   0.0  ...   0.0   0.0   0.0   0.0   0.0   0.0   0.0   0.0   0.0   0.0  \n",
       "4   0.0  ...   0.0   0.0   0.0   0.0   0.0   0.0   0.0   0.0   0.0   0.0  \n",
       "\n",
       "[5 rows x 3663 columns]"
      ]
     },
     "execution_count": 18,
     "metadata": {},
     "output_type": "execute_result"
    }
   ],
   "source": [
    "vecs = vectorizer.transform(df['name'])\n",
    "vecs = pd.DataFrame.sparse.from_spmatrix(vecs)\n",
    "vecs.head()\n"
   ]
  },
  {
   "cell_type": "code",
   "execution_count": 19,
   "id": "5de36f81",
   "metadata": {},
   "outputs": [
    {
     "data": {
      "text/html": [
       "<div>\n",
       "<style scoped>\n",
       "    .dataframe tbody tr th:only-of-type {\n",
       "        vertical-align: middle;\n",
       "    }\n",
       "\n",
       "    .dataframe tbody tr th {\n",
       "        vertical-align: top;\n",
       "    }\n",
       "\n",
       "    .dataframe thead th {\n",
       "        text-align: right;\n",
       "    }\n",
       "</style>\n",
       "<table border=\"1\" class=\"dataframe\">\n",
       "  <thead>\n",
       "    <tr style=\"text-align: right;\">\n",
       "      <th></th>\n",
       "      <th></th>\n",
       "      <th>A</th>\n",
       "      <th>Aa</th>\n",
       "      <th>Aad</th>\n",
       "      <th>Aah</th>\n",
       "      <th>Aal</th>\n",
       "    </tr>\n",
       "    <tr>\n",
       "      <th>name</th>\n",
       "      <th>sex</th>\n",
       "      <th></th>\n",
       "      <th></th>\n",
       "      <th></th>\n",
       "      <th></th>\n",
       "      <th></th>\n",
       "    </tr>\n",
       "  </thead>\n",
       "  <tbody>\n",
       "    <tr>\n",
       "      <th>Aaden</th>\n",
       "      <th>M</th>\n",
       "      <td>0.193687</td>\n",
       "      <td>0.395438</td>\n",
       "      <td>0.506137</td>\n",
       "      <td>0.000000</td>\n",
       "      <td>0.000000</td>\n",
       "    </tr>\n",
       "    <tr>\n",
       "      <th>Aahana</th>\n",
       "      <th>F</th>\n",
       "      <td>0.182726</td>\n",
       "      <td>0.373059</td>\n",
       "      <td>0.000000</td>\n",
       "      <td>0.454870</td>\n",
       "      <td>0.000000</td>\n",
       "    </tr>\n",
       "    <tr>\n",
       "      <th>Aahil</th>\n",
       "      <th>M</th>\n",
       "      <td>0.185518</td>\n",
       "      <td>0.378759</td>\n",
       "      <td>0.000000</td>\n",
       "      <td>0.461821</td>\n",
       "      <td>0.000000</td>\n",
       "    </tr>\n",
       "    <tr>\n",
       "      <th>Aaleyah</th>\n",
       "      <th>F</th>\n",
       "      <td>0.166921</td>\n",
       "      <td>0.340790</td>\n",
       "      <td>0.000000</td>\n",
       "      <td>0.000000</td>\n",
       "      <td>0.389490</td>\n",
       "    </tr>\n",
       "    <tr>\n",
       "      <th>Aalia</th>\n",
       "      <th>F</th>\n",
       "      <td>0.214766</td>\n",
       "      <td>0.438473</td>\n",
       "      <td>0.000000</td>\n",
       "      <td>0.000000</td>\n",
       "      <td>0.501131</td>\n",
       "    </tr>\n",
       "  </tbody>\n",
       "</table>\n",
       "</div>"
      ],
      "text/plain": [
       "                    A        Aa       Aad       Aah       Aal\n",
       "name    sex                                                  \n",
       "Aaden   M    0.193687  0.395438  0.506137  0.000000  0.000000\n",
       "Aahana  F    0.182726  0.373059  0.000000  0.454870  0.000000\n",
       "Aahil   M    0.185518  0.378759  0.000000  0.461821  0.000000\n",
       "Aaleyah F    0.166921  0.340790  0.000000  0.000000  0.389490\n",
       "Aalia   F    0.214766  0.438473  0.000000  0.000000  0.501131"
      ]
     },
     "execution_count": 19,
     "metadata": {},
     "output_type": "execute_result"
    }
   ],
   "source": [
    "vecs.columns = vectorizer.get_feature_names_out()\n",
    "vecs.index = df.index\n",
    "vecs.head()[vecs.columns[:5]]"
   ]
  },
  {
   "cell_type": "code",
   "execution_count": 20,
   "id": "44b66572",
   "metadata": {},
   "outputs": [
    {
     "data": {
      "text/plain": [
       "(4238, 3663)"
      ]
     },
     "execution_count": 20,
     "metadata": {},
     "output_type": "execute_result"
    }
   ],
   "source": [
    "vecs.shape"
   ]
  },
  {
   "cell_type": "code",
   "execution_count": 21,
   "id": "3cb58b01",
   "metadata": {},
   "outputs": [
    {
     "data": {
      "text/plain": [
       "<module 'torch' from '/home/hobs/anaconda3/envs/nlpia2/lib/python3.8/site-packages/torch/__init__.py'>"
      ]
     },
     "execution_count": 21,
     "metadata": {},
     "output_type": "execute_result"
    }
   ],
   "source": [
    "import torch\n",
    "torch"
   ]
  },
  {
   "cell_type": "code",
   "execution_count": 22,
   "id": "67a15ea4",
   "metadata": {},
   "outputs": [],
   "source": [
    "class LogisticRegressionNN(torch.nn.Module):\n",
    "\n",
    "    def __init__(self, num_features, num_outputs=1):\n",
    "         super().__init__()\n",
    "         self.linear = torch.nn.Linear(num_features, num_outputs)\n",
    "\n",
    "    def forward(self, X):\n",
    "        return torch.sigmoid(self.linear(X))"
   ]
  },
  {
   "cell_type": "code",
   "execution_count": 23,
   "id": "ddee9b83",
   "metadata": {},
   "outputs": [],
   "source": [
    "def make_tensor(X):\n",
    "    \"\"\" Convert numpy ndarray to torch.Tensor \"\"\"\n",
    "    X = getattr(X, 'values', X)\n",
    "    return X if isinstance(X, torch.Tensor) else torch.Tensor(X)\n",
    "\n",
    "def make_array(x):\n",
    "    \"\"\" Convert torch.Tensor to numpy 1-D array \"\"\"\n",
    "    if hasattr(x, 'detach'):\n",
    "        return torch.squeeze(x).detach().numpy()\n",
    "    return x"
   ]
  },
  {
   "cell_type": "code",
   "execution_count": 24,
   "id": "be975bf8",
   "metadata": {},
   "outputs": [],
   "source": [
    "num_features = vecs.shape[1]  # number of unique n-grams in our \"vocabulary\"\n",
    "num_outputs = 1    # number of nesses (sexes) to predict, we're predicting only femaleness"
   ]
  },
  {
   "cell_type": "code",
   "execution_count": 25,
   "id": "b7e489a0",
   "metadata": {},
   "outputs": [],
   "source": [
    "from tqdm import tqdm\n",
    "import time\n",
    "import json\n",
    "import copy\n",
    "\n",
    "# Fraction of the tensors y_pred and y that are the same \n",
    "# (y_pred == y).sum() / len(y)\n",
    "def measure_binary_accuracy(y_pred, y):\n",
    "    \"\"\" Round y_pred and y then count the preds that are equal to the truth to compute fraction correct \"\"\"\n",
    "    y_pred = make_array(y_pred).round()\n",
    "    y = make_array(y).round()\n",
    "    num_correct = (y_pred == y).sum()\n",
    "    return num_correct / len(y)"
   ]
  },
  {
   "cell_type": "code",
   "execution_count": 26,
   "id": "05bf6535",
   "metadata": {},
   "outputs": [],
   "source": [
    "def measure_performance(model, X_train, X_test, y_train, y_test, criterion):\n",
    "    with torch.no_grad():\n",
    "        # Calculating the loss and accuracy for the train dataset\n",
    "        accuracy_train = measure_binary_accuracy(model(X_train), y_train)\n",
    "        outputs_test = torch.squeeze(model(X_test))\n",
    "        accuracy_test = measure_binary_accuracy(outputs_test, y_test)\n",
    "        loss_test = criterion(outputs_test, y_test)\n",
    "        return dict(i=i, \n",
    "                    # loss_train=loss.item(),\n",
    "                    accuracy_train=accuracy_train,\n",
    "                    loss_test=loss_test.item(),\n",
    "                    accuracy_test=accuracy_test)"
   ]
  },
  {
   "cell_type": "code",
   "execution_count": 27,
   "id": "d1e0166c",
   "metadata": {},
   "outputs": [
    {
     "data": {
      "text/plain": [
       "LogisticRegressionNN(\n",
       "  (linear): Linear(in_features=3663, out_features=1, bias=True)\n",
       ")"
      ]
     },
     "execution_count": 27,
     "metadata": {},
     "output_type": "execute_result"
    }
   ],
   "source": [
    "model = LogisticRegressionNN(num_features=vecs.shape[1], num_outputs=1)\n",
    "model"
   ]
  },
  {
   "cell_type": "code",
   "execution_count": 28,
   "id": "5e610459",
   "metadata": {},
   "outputs": [
    {
     "data": {
      "text/plain": [
       "SGD (\n",
       "Parameter Group 0\n",
       "    dampening: 0\n",
       "    lr: 0.01\n",
       "    momentum: 0\n",
       "    nesterov: False\n",
       "    weight_decay: 0\n",
       ")"
      ]
     },
     "execution_count": 28,
     "metadata": {},
     "output_type": "execute_result"
    }
   ],
   "source": [
    "learning_rate = 0.01\n",
    "optimizer = torch.optim.SGD(model.parameters(), lr=learning_rate)\n",
    "optimizer"
   ]
  },
  {
   "cell_type": "code",
   "execution_count": 29,
   "id": "bdc2d0ac",
   "metadata": {},
   "outputs": [
    {
     "data": {
      "text/plain": [
       "BCELoss()"
      ]
     },
     "execution_count": 29,
     "metadata": {},
     "output_type": "execute_result"
    }
   ],
   "source": [
    "# BCE: Binary Cross Entropy\n",
    "criterion = torch.nn.BCELoss()\n",
    "criterion"
   ]
  },
  {
   "cell_type": "code",
   "execution_count": 30,
   "id": "80db21f8",
   "metadata": {},
   "outputs": [],
   "source": [
    "def rand_range(min_value=0.001, max_value=1):\n",
    "    scale = max_value - min_value\n",
    "    return scale * np.random.rand() + min_value"
   ]
  },
  {
   "cell_type": "code",
   "execution_count": 31,
   "id": "0faa5497",
   "metadata": {},
   "outputs": [],
   "source": [
    "def rand_range_log(min_value=0.001, max_value=1):\n",
    "    min_log = np.log(min_value)\n",
    "    max_log = np.log(max_value)\n",
    "    return np.exp(rand_range(np.log(min_value), np.log(max_value)))"
   ]
  },
  {
   "cell_type": "markdown",
   "id": "50dce2c2",
   "metadata": {},
   "source": [
    "Create random hyperparameter table for optimizer learning_rate and momentum"
   ]
  },
  {
   "cell_type": "code",
   "execution_count": 37,
   "id": "39d7315b",
   "metadata": {},
   "outputs": [
    {
     "data": {
      "text/html": [
       "<div>\n",
       "<style scoped>\n",
       "    .dataframe tbody tr th:only-of-type {\n",
       "        vertical-align: middle;\n",
       "    }\n",
       "\n",
       "    .dataframe tbody tr th {\n",
       "        vertical-align: top;\n",
       "    }\n",
       "\n",
       "    .dataframe thead th {\n",
       "        text-align: right;\n",
       "    }\n",
       "</style>\n",
       "<table border=\"1\" class=\"dataframe\">\n",
       "  <thead>\n",
       "    <tr style=\"text-align: right;\">\n",
       "      <th></th>\n",
       "      <th>lr</th>\n",
       "      <th>momentum</th>\n",
       "    </tr>\n",
       "  </thead>\n",
       "  <tbody>\n",
       "    <tr>\n",
       "      <th>0</th>\n",
       "      <td>0.073095</td>\n",
       "      <td>0</td>\n",
       "    </tr>\n",
       "    <tr>\n",
       "      <th>1</th>\n",
       "      <td>0.001478</td>\n",
       "      <td>0</td>\n",
       "    </tr>\n",
       "    <tr>\n",
       "      <th>2</th>\n",
       "      <td>0.001076</td>\n",
       "      <td>0</td>\n",
       "    </tr>\n",
       "    <tr>\n",
       "      <th>3</th>\n",
       "      <td>0.002069</td>\n",
       "      <td>0</td>\n",
       "    </tr>\n",
       "    <tr>\n",
       "      <th>4</th>\n",
       "      <td>0.015807</td>\n",
       "      <td>0</td>\n",
       "    </tr>\n",
       "    <tr>\n",
       "      <th>5</th>\n",
       "      <td>0.487281</td>\n",
       "      <td>0</td>\n",
       "    </tr>\n",
       "    <tr>\n",
       "      <th>6</th>\n",
       "      <td>0.011604</td>\n",
       "      <td>0</td>\n",
       "    </tr>\n",
       "    <tr>\n",
       "      <th>7</th>\n",
       "      <td>0.002934</td>\n",
       "      <td>0</td>\n",
       "    </tr>\n",
       "    <tr>\n",
       "      <th>8</th>\n",
       "      <td>0.011900</td>\n",
       "      <td>0</td>\n",
       "    </tr>\n",
       "    <tr>\n",
       "      <th>9</th>\n",
       "      <td>0.185356</td>\n",
       "      <td>0</td>\n",
       "    </tr>\n",
       "    <tr>\n",
       "      <th>10</th>\n",
       "      <td>0.009439</td>\n",
       "      <td>0</td>\n",
       "    </tr>\n",
       "    <tr>\n",
       "      <th>11</th>\n",
       "      <td>0.388439</td>\n",
       "      <td>0</td>\n",
       "    </tr>\n",
       "    <tr>\n",
       "      <th>12</th>\n",
       "      <td>0.288949</td>\n",
       "      <td>0</td>\n",
       "    </tr>\n",
       "    <tr>\n",
       "      <th>13</th>\n",
       "      <td>0.035230</td>\n",
       "      <td>0</td>\n",
       "    </tr>\n",
       "    <tr>\n",
       "      <th>14</th>\n",
       "      <td>0.063792</td>\n",
       "      <td>0</td>\n",
       "    </tr>\n",
       "    <tr>\n",
       "      <th>15</th>\n",
       "      <td>0.824830</td>\n",
       "      <td>0</td>\n",
       "    </tr>\n",
       "    <tr>\n",
       "      <th>16</th>\n",
       "      <td>0.090292</td>\n",
       "      <td>0</td>\n",
       "    </tr>\n",
       "    <tr>\n",
       "      <th>17</th>\n",
       "      <td>0.055230</td>\n",
       "      <td>0</td>\n",
       "    </tr>\n",
       "    <tr>\n",
       "      <th>18</th>\n",
       "      <td>0.011917</td>\n",
       "      <td>0</td>\n",
       "    </tr>\n",
       "    <tr>\n",
       "      <th>19</th>\n",
       "      <td>0.011418</td>\n",
       "      <td>0</td>\n",
       "    </tr>\n",
       "    <tr>\n",
       "      <th>20</th>\n",
       "      <td>0.081180</td>\n",
       "      <td>0</td>\n",
       "    </tr>\n",
       "    <tr>\n",
       "      <th>21</th>\n",
       "      <td>0.143307</td>\n",
       "      <td>0</td>\n",
       "    </tr>\n",
       "    <tr>\n",
       "      <th>22</th>\n",
       "      <td>0.004667</td>\n",
       "      <td>0</td>\n",
       "    </tr>\n",
       "    <tr>\n",
       "      <th>23</th>\n",
       "      <td>0.027113</td>\n",
       "      <td>0</td>\n",
       "    </tr>\n",
       "    <tr>\n",
       "      <th>24</th>\n",
       "      <td>0.006897</td>\n",
       "      <td>0</td>\n",
       "    </tr>\n",
       "    <tr>\n",
       "      <th>25</th>\n",
       "      <td>0.003799</td>\n",
       "      <td>0</td>\n",
       "    </tr>\n",
       "    <tr>\n",
       "      <th>26</th>\n",
       "      <td>0.101760</td>\n",
       "      <td>0</td>\n",
       "    </tr>\n",
       "    <tr>\n",
       "      <th>27</th>\n",
       "      <td>0.580667</td>\n",
       "      <td>0</td>\n",
       "    </tr>\n",
       "    <tr>\n",
       "      <th>28</th>\n",
       "      <td>0.845265</td>\n",
       "      <td>0</td>\n",
       "    </tr>\n",
       "    <tr>\n",
       "      <th>29</th>\n",
       "      <td>0.007562</td>\n",
       "      <td>0</td>\n",
       "    </tr>\n",
       "  </tbody>\n",
       "</table>\n",
       "</div>"
      ],
      "text/plain": [
       "          lr  momentum\n",
       "0   0.073095         0\n",
       "1   0.001478         0\n",
       "2   0.001076         0\n",
       "3   0.002069         0\n",
       "4   0.015807         0\n",
       "5   0.487281         0\n",
       "6   0.011604         0\n",
       "7   0.002934         0\n",
       "8   0.011900         0\n",
       "9   0.185356         0\n",
       "10  0.009439         0\n",
       "11  0.388439         0\n",
       "12  0.288949         0\n",
       "13  0.035230         0\n",
       "14  0.063792         0\n",
       "15  0.824830         0\n",
       "16  0.090292         0\n",
       "17  0.055230         0\n",
       "18  0.011917         0\n",
       "19  0.011418         0\n",
       "20  0.081180         0\n",
       "21  0.143307         0\n",
       "22  0.004667         0\n",
       "23  0.027113         0\n",
       "24  0.006897         0\n",
       "25  0.003799         0\n",
       "26  0.101760         0\n",
       "27  0.580667         0\n",
       "28  0.845265         0\n",
       "29  0.007562         0"
      ]
     },
     "execution_count": 37,
     "metadata": {},
     "output_type": "execute_result"
    }
   ],
   "source": [
    "# lr: learning_rate\n",
    "hyperparam_ranges = dict(lr=[0.001, 1.0], momentum=[0.00001, 1.0])\n",
    "hyperparam_table = []\n",
    "num_attempts = 10\n",
    "for i in range(num_attempts):\n",
    "    hyperparam_values = dict()\n",
    "    for k, v in hyperparam_ranges.items():\n",
    "        hyperparam_values[k] = rand_range_log(*hyperparam_ranges[k])\n",
    "    hyperparam_table.append(hyperparam_values)\n",
    "for d in hyperparam_table:\n",
    "    d['momentum'] = 0\n",
    "pd.DataFrame(hyperparam_table)"
   ]
  },
  {
   "cell_type": "code",
   "execution_count": 38,
   "id": "87e5f31e",
   "metadata": {},
   "outputs": [
    {
     "data": {
      "text/plain": [
       "LogisticRegressionNN(\n",
       "  (linear): Linear(in_features=3663, out_features=1, bias=True)\n",
       ")"
      ]
     },
     "execution_count": 38,
     "metadata": {},
     "output_type": "execute_result"
    }
   ],
   "source": [
    "model = LogisticRegressionNN(num_features=vecs.shape[1], num_outputs=1)\n",
    "model"
   ]
  },
  {
   "cell_type": "code",
   "execution_count": 39,
   "id": "b11366cf",
   "metadata": {},
   "outputs": [
    {
     "data": {
      "text/plain": [
       "SGD (\n",
       "Parameter Group 0\n",
       "    dampening: 0\n",
       "    lr: 0.07309499536069454\n",
       "    momentum: 0\n",
       "    nesterov: False\n",
       "    weight_decay: 0\n",
       ")"
      ]
     },
     "execution_count": 39,
     "metadata": {},
     "output_type": "execute_result"
    }
   ],
   "source": [
    "optimizer = torch.optim.SGD(model.parameters(), **hyperparam_table[0])\n",
    "optimizer"
   ]
  },
  {
   "cell_type": "code",
   "execution_count": 1,
   "id": "3316103d",
   "metadata": {},
   "outputs": [
    {
     "ename": "NameError",
     "evalue": "name 'time' is not defined",
     "output_type": "error",
     "traceback": [
      "\u001b[1;31m---------------------------------------------------------------------------\u001b[0m",
      "\u001b[1;31mNameError\u001b[0m                                 Traceback (most recent call last)",
      "\u001b[1;32m~\\AppData\\Local\\Temp/ipykernel_12724/2590811263.py\u001b[0m in \u001b[0;36m<module>\u001b[1;34m\u001b[0m\n\u001b[0;32m      2\u001b[0m \u001b[0mnum_epochs\u001b[0m\u001b[1;33m=\u001b[0m\u001b[1;36m200\u001b[0m\u001b[1;33m\u001b[0m\u001b[1;33m\u001b[0m\u001b[0m\n\u001b[0;32m      3\u001b[0m \u001b[1;33m\u001b[0m\u001b[0m\n\u001b[1;32m----> 4\u001b[1;33m \u001b[0mt0\u001b[0m \u001b[1;33m=\u001b[0m \u001b[0mtime\u001b[0m\u001b[1;33m.\u001b[0m\u001b[0mtime\u001b[0m\u001b[1;33m(\u001b[0m\u001b[1;33m)\u001b[0m\u001b[1;33m\u001b[0m\u001b[1;33m\u001b[0m\u001b[0m\n\u001b[0m\u001b[0;32m      5\u001b[0m \u001b[1;32mfor\u001b[0m \u001b[0mi\u001b[0m\u001b[1;33m,\u001b[0m \u001b[0mhyperparam_values\u001b[0m \u001b[1;32min\u001b[0m \u001b[0menumerate\u001b[0m\u001b[1;33m(\u001b[0m\u001b[0mhyperparam_table\u001b[0m\u001b[1;33m)\u001b[0m\u001b[1;33m:\u001b[0m\u001b[1;33m\u001b[0m\u001b[1;33m\u001b[0m\u001b[0m\n\u001b[0;32m      6\u001b[0m     \u001b[0mt1\u001b[0m \u001b[1;33m=\u001b[0m \u001b[0mtime\u001b[0m\u001b[1;33m.\u001b[0m\u001b[0mtime\u001b[0m\u001b[1;33m(\u001b[0m\u001b[1;33m)\u001b[0m\u001b[1;33m\u001b[0m\u001b[1;33m\u001b[0m\u001b[0m\n",
      "\u001b[1;31mNameError\u001b[0m: name 'time' is not defined"
     ]
    }
   ],
   "source": [
    "# pbar = tqdm(hyperparam_table, desc='Training attempt', total=len(hyperparam_table))\n",
    "num_epochs=200\n",
    "\n",
    "t0 = time.time()\n",
    "for i, hyperparam_values in enumerate(hyperparam_table):\n",
    "    t1 = time.time()\n",
    "    model = LogisticRegressionNN(num_features=vecs.shape[1], num_outputs=1)\n",
    "    optimizer = torch.optim.Adam(model.parameters(), **hyperparam_values)\n",
    "    criterion_train = torch.nn.BCELoss(weight=torch.Tensor(df[['count']][istrain].values))  # BCE: Binary Cross Entropy\n",
    "    criterion_test = torch.nn.BCELoss(weight=torch.Tensor(df[['count']][~istrain].values))  # BCE: Binary Cross Entropy\n",
    "    X = vecs.values\n",
    "    y = (df[['sex']] == 'F').values\n",
    "    X_train = torch.Tensor(X[istrain])\n",
    "    X_test = torch.Tensor(X[~istrain])\n",
    "    y_train = torch.Tensor(y[istrain])\n",
    "    y_test = torch.Tensor(y[~istrain])\n",
    "\n",
    "    pbar_epochs = tqdm(range(num_epochs), desc='Epoch:', total=num_epochs)\n",
    "    results = [None] * num_epochs\n",
    "    for epoch in pbar_epochs:\n",
    "        optimizer.zero_grad() # Setting our stored gradients equal to zero\n",
    "        outputs = model(X_train)\n",
    "        loss_train = criterion_train(outputs, y_train) \n",
    "        loss_train.backward() # Computes the gradient of the given tensor w.r.t. the weights/bias\n",
    "        loss_train = loss_train.item()\n",
    "        optimizer.step() # Updates weights and biases with the optimizer (SGD)\n",
    "        # print(f'Train loss: {np.round(loss_train.detach().numpy(), 4):0.4f}')\n",
    "        outputs_test = model(X_test)\n",
    "        loss_test = criterion_test(outputs_test, y_test).item()\n",
    "        accuracy_test = measure_binary_accuracy(outputs_test, y_test)\n",
    "        results[epoch] = dict(loss_train=loss_train, loss_test=loss_test, accuracy_test=accuracy_test)\n",
    "        # pbar_epochs.set_description(f'loss_train/test: {loss_train:.4f}/{loss_test:.4f}')\n",
    "    t2 = time.time()\n",
    "    results[-1]['time_per_attempt'] = t2 - t1\n",
    "    results[-1]['total_time'] = t2 - t0\n",
    "    hyperparam_table[i].update(results[-1])\n",
    "    print(f'attempt {i:04d}/{len(hyperparam_table)}')\n",
    "    for k, v in hyperparam_table[i].items():\n",
    "        print(f'{k}: {v}')"
   ]
  },
  {
   "cell_type": "code",
   "execution_count": 58,
   "id": "6e12ac7e",
   "metadata": {},
   "outputs": [
    {
     "ename": "AttributeError",
     "evalue": "'float' object has no attribute 'item'",
     "output_type": "error",
     "traceback": [
      "\u001b[0;31m---------------------------------------------------------------------------\u001b[0m",
      "\u001b[0;31mAttributeError\u001b[0m                            Traceback (most recent call last)",
      "\u001b[0;32m/tmp/ipykernel_148683/365907333.py\u001b[0m in \u001b[0;36m<module>\u001b[0;34m\u001b[0m\n\u001b[0;32m----> 1\u001b[0;31m \u001b[0mhyperparam_table\u001b[0m\u001b[0;34m[\u001b[0m\u001b[0;34m-\u001b[0m\u001b[0;36m1\u001b[0m\u001b[0;34m]\u001b[0m\u001b[0;34m[\u001b[0m\u001b[0;34m'loss_train'\u001b[0m\u001b[0;34m]\u001b[0m\u001b[0;34m.\u001b[0m\u001b[0mitem\u001b[0m\u001b[0;34m(\u001b[0m\u001b[0;34m)\u001b[0m\u001b[0;34m\u001b[0m\u001b[0;34m\u001b[0m\u001b[0m\n\u001b[0m\u001b[1;32m      2\u001b[0m \u001b[0;34m\u001b[0m\u001b[0m\n",
      "\u001b[0;31mAttributeError\u001b[0m: 'float' object has no attribute 'item'"
     ]
    }
   ],
   "source": [
    "hyperparam_table[-1]['loss_train'].item()\n",
    "\n"
   ]
  },
  {
   "cell_type": "code",
   "execution_count": 132,
   "id": "67f9af1c",
   "metadata": {},
   "outputs": [
    {
     "data": {
      "text/html": [
       "<div>\n",
       "<style scoped>\n",
       "    .dataframe tbody tr th:only-of-type {\n",
       "        vertical-align: middle;\n",
       "    }\n",
       "\n",
       "    .dataframe tbody tr th {\n",
       "        vertical-align: top;\n",
       "    }\n",
       "\n",
       "    .dataframe thead th {\n",
       "        text-align: right;\n",
       "    }\n",
       "</style>\n",
       "<table border=\"1\" class=\"dataframe\">\n",
       "  <thead>\n",
       "    <tr style=\"text-align: right;\">\n",
       "      <th></th>\n",
       "      <th>lr</th>\n",
       "      <th>momentum</th>\n",
       "      <th>loss_train</th>\n",
       "    </tr>\n",
       "  </thead>\n",
       "  <tbody>\n",
       "    <tr>\n",
       "      <th>0</th>\n",
       "      <td>0.006897</td>\n",
       "      <td>0.000149</td>\n",
       "      <td>tensor(0.6831, grad_fn=&lt;BinaryCrossEntropyBack...</td>\n",
       "    </tr>\n",
       "    <tr>\n",
       "      <th>1</th>\n",
       "      <td>0.003799</td>\n",
       "      <td>0.002150</td>\n",
       "      <td>tensor(0.6836, grad_fn=&lt;BinaryCrossEntropyBack...</td>\n",
       "    </tr>\n",
       "    <tr>\n",
       "      <th>2</th>\n",
       "      <td>0.101760</td>\n",
       "      <td>0.005800</td>\n",
       "      <td>tensor(0.6828, grad_fn=&lt;BinaryCrossEntropyBack...</td>\n",
       "    </tr>\n",
       "    <tr>\n",
       "      <th>3</th>\n",
       "      <td>0.580667</td>\n",
       "      <td>0.237036</td>\n",
       "      <td>tensor(0.6832, grad_fn=&lt;BinaryCrossEntropyBack...</td>\n",
       "    </tr>\n",
       "    <tr>\n",
       "      <th>4</th>\n",
       "      <td>0.845265</td>\n",
       "      <td>0.000022</td>\n",
       "      <td>tensor(0.6834, grad_fn=&lt;BinaryCrossEntropyBack...</td>\n",
       "    </tr>\n",
       "    <tr>\n",
       "      <th>...</th>\n",
       "      <td>...</td>\n",
       "      <td>...</td>\n",
       "      <td>...</td>\n",
       "    </tr>\n",
       "    <tr>\n",
       "      <th>95</th>\n",
       "      <td>0.042495</td>\n",
       "      <td>0.006755</td>\n",
       "      <td>tensor(0.6835, grad_fn=&lt;BinaryCrossEntropyBack...</td>\n",
       "    </tr>\n",
       "    <tr>\n",
       "      <th>96</th>\n",
       "      <td>0.014527</td>\n",
       "      <td>0.123773</td>\n",
       "      <td>tensor(0.6824, grad_fn=&lt;BinaryCrossEntropyBack...</td>\n",
       "    </tr>\n",
       "    <tr>\n",
       "      <th>97</th>\n",
       "      <td>0.008243</td>\n",
       "      <td>0.000038</td>\n",
       "      <td>tensor(0.6825, grad_fn=&lt;BinaryCrossEntropyBack...</td>\n",
       "    </tr>\n",
       "    <tr>\n",
       "      <th>98</th>\n",
       "      <td>0.005621</td>\n",
       "      <td>0.001474</td>\n",
       "      <td>tensor(0.6826, grad_fn=&lt;BinaryCrossEntropyBack...</td>\n",
       "    </tr>\n",
       "    <tr>\n",
       "      <th>99</th>\n",
       "      <td>0.087193</td>\n",
       "      <td>0.000012</td>\n",
       "      <td>tensor(0.6826, grad_fn=&lt;BinaryCrossEntropyBack...</td>\n",
       "    </tr>\n",
       "  </tbody>\n",
       "</table>\n",
       "<p>100 rows × 3 columns</p>\n",
       "</div>"
      ],
      "text/plain": [
       "          lr  momentum                                         loss_train\n",
       "0   0.006897  0.000149  tensor(0.6831, grad_fn=<BinaryCrossEntropyBack...\n",
       "1   0.003799  0.002150  tensor(0.6836, grad_fn=<BinaryCrossEntropyBack...\n",
       "2   0.101760  0.005800  tensor(0.6828, grad_fn=<BinaryCrossEntropyBack...\n",
       "3   0.580667  0.237036  tensor(0.6832, grad_fn=<BinaryCrossEntropyBack...\n",
       "4   0.845265  0.000022  tensor(0.6834, grad_fn=<BinaryCrossEntropyBack...\n",
       "..       ...       ...                                                ...\n",
       "95  0.042495  0.006755  tensor(0.6835, grad_fn=<BinaryCrossEntropyBack...\n",
       "96  0.014527  0.123773  tensor(0.6824, grad_fn=<BinaryCrossEntropyBack...\n",
       "97  0.008243  0.000038  tensor(0.6825, grad_fn=<BinaryCrossEntropyBack...\n",
       "98  0.005621  0.001474  tensor(0.6826, grad_fn=<BinaryCrossEntropyBack...\n",
       "99  0.087193  0.000012  tensor(0.6826, grad_fn=<BinaryCrossEntropyBack...\n",
       "\n",
       "[100 rows x 3 columns]"
      ]
     },
     "execution_count": 132,
     "metadata": {},
     "output_type": "execute_result"
    }
   ],
   "source": [
    "hyperparam_df = pd.DataFrame(hyperparam_table)\n",
    "hyperparam_df"
   ]
  },
  {
   "cell_type": "code",
   "execution_count": 131,
   "id": "8592d117",
   "metadata": {},
   "outputs": [
    {
     "ename": "SyntaxError",
     "evalue": "duplicate argument 'optimizer' in function definition (3048412353.py, line 1)",
     "output_type": "error",
     "traceback": [
      "\u001b[0;36m  File \u001b[0;32m\"/tmp/ipykernel_120329/3048412353.py\"\u001b[0;36m, line \u001b[0;32m1\u001b[0m\n\u001b[0;31m    def fit(model=model, X=vecs.values, y=(df[['sex']] == 'F').values, optimizer=None,\u001b[0m\n\u001b[0m    ^\u001b[0m\n\u001b[0;31mSyntaxError\u001b[0m\u001b[0;31m:\u001b[0m duplicate argument 'optimizer' in function definition\n"
     ]
    }
   ],
   "source": [
    "def fit(model=model, X=vecs.values, y=(df[['sex']] == 'F').values, optimizer=None,\n",
    "        num_epochs=30, learning_rate=.1, criterion=criterion, optimizer=optimizer):\n",
    "    pbar = tqdm(range(num_epochs), desc='Epoch', total=num_epochs)\n",
    "    X_train = torch.Tensor(X[istrain])\n",
    "    X_test = torch.Tensor(X[~istrain])\n",
    "    y_train = torch.Tensor(y[istrain])\n",
    "    y_test = torch.Tensor(y[~istrain])\n",
    "\n",
    "    results = []\n",
    "    for i in pbar:\n",
    "        optimizer.zero_grad() # Setting our stored gradients equal to zero\n",
    "        outputs = model(X_train)\n",
    "        loss_train = criterion(outputs, y_train) \n",
    "        loss_train.backward() # Computes the gradient of the given tensor w.r.t. the weights/bias\n",
    "        optimizer.step() # Updates weights and biases with the optimizer (SGD)\n",
    "        # print(f'Train loss: {np.round(loss_train.detach().numpy(), 4):0.4f}')\n",
    "#         num_learning_rate_steps = 20\n",
    "#         if not i % np.round(num_epochs / num_learning_rate_steps):\n",
    "#             results.append(\n",
    "#                 measure_performance(model=model,\n",
    "#                                     X_train=X_train, X_test=X_test, y_train=y_train, y_test=y_test,\n",
    "#                                     criterion=criterion))\n",
    "#             results[-1]['loss_train'] = loss_train.item()\n",
    "#             results[-1]['learning_rate'] = learning_rate\n",
    "#             pbar.set_description(\n",
    "#                 f'LR: {np.round(learning_rate, 2)}'\n",
    "#                 f', Test loss: {np.round(results[-1][\"loss_test\"], 2)}'\n",
    "#                 f', Train loss: {np.round(results[-1][\"loss_train\"], 3)}'\n",
    "#                 f', Test acc: {np.round(results[-1][\"accuracy_test\"], 2)}'\n",
    "#                 f', Train acc: {np.round(results[-1][\"accuracy_train\"], 3)}'\n",
    "#             )\n",
    "#             # learning_rate *= .9\n",
    "    return results"
   ]
  },
  {
   "cell_type": "code",
   "execution_count": 46,
   "id": "d0969d5b",
   "metadata": {},
   "outputs": [
    {
     "name": "stderr",
     "output_type": "stream",
     "text": [
      "Epoch:  67%|██████████████████████████████████████████████████████████████████████████████████████████▋                                             | 20/30 [00:00<00:00, 102.87it/s]"
     ]
    },
    {
     "name": "stdout",
     "output_type": "stream",
     "text": [
      "Train loss: 0.6725\n",
      "Train loss: 0.6725\n",
      "Train loss: 0.6725\n",
      "Train loss: 0.6725\n",
      "Train loss: 0.6725\n",
      "Train loss: 0.6725\n",
      "Train loss: 0.6725\n",
      "Train loss: 0.6725\n",
      "Train loss: 0.6725\n",
      "Train loss: 0.6725\n",
      "Train loss: 0.6725\n",
      "Train loss: 0.6725\n",
      "Train loss: 0.6725\n",
      "Train loss: 0.6725\n",
      "Train loss: 0.6725\n",
      "Train loss: 0.6725\n",
      "Train loss: 0.6725\n",
      "Train loss: 0.6725\n",
      "Train loss: 0.6724\n",
      "Train loss: 0.6724\n",
      "Train loss: 0.6724\n",
      "Train loss: 0.6724\n",
      "Train loss: 0.6724\n",
      "Train loss: 0.6724\n",
      "Train loss: 0.6724\n",
      "Train loss: 0.6724\n",
      "Train loss: 0.6724\n"
     ]
    },
    {
     "name": "stderr",
     "output_type": "stream",
     "text": [
      "\r",
      "Epoch: 100%|████████████████████████████████████████████████████████████████████████████████████████████████████████████████████████████████████████| 30/30 [00:00<00:00, 106.04it/s]"
     ]
    },
    {
     "name": "stdout",
     "output_type": "stream",
     "text": [
      "Train loss: 0.6724\n",
      "Train loss: 0.6724\n",
      "Train loss: 0.6724\n"
     ]
    },
    {
     "name": "stderr",
     "output_type": "stream",
     "text": [
      "\n"
     ]
    }
   ],
   "source": [
    "results = fit()"
   ]
  },
  {
   "cell_type": "code",
   "execution_count": null,
   "id": "b0603da6",
   "metadata": {},
   "outputs": [],
   "source": [
    "pd.DataFrame(results)"
   ]
  },
  {
   "cell_type": "code",
   "execution_count": null,
   "id": "f2297203",
   "metadata": {},
   "outputs": [],
   "source": [
    "# model.score(vecs[~istrain], y[~istrain], sample_weight=df['count'][~istrain])"
   ]
  },
  {
   "cell_type": "code",
   "execution_count": null,
   "id": "4c092733",
   "metadata": {},
   "outputs": [],
   "source": [
    "# model.classes_\n"
   ]
  },
  {
   "cell_type": "code",
   "execution_count": null,
   "id": "a3ece04b",
   "metadata": {},
   "outputs": [],
   "source": [
    "names = ['Dewey', 'Kemal', 'Copeland', 'Vishvesh']\n",
    "ourvecs = vectorizer.transform(names)\n",
    "ourvecs = pd.DataFrame.sparse.from_spmatrix(ourvecs)\n",
    "ourvecs.columns = vectorizer.get_feature_names_out()\n",
    "ourvecs.index = list(zip(names, 'M'*len(names)))\n",
    "ourvecs"
   ]
  },
  {
   "cell_type": "code",
   "execution_count": null,
   "id": "af8e2b55",
   "metadata": {},
   "outputs": [],
   "source": [
    "ourtensors = "
   ]
  },
  {
   "cell_type": "code",
   "execution_count": null,
   "id": "ef4126c8",
   "metadata": {},
   "outputs": [],
   "source": [
    "names = ['Maria', 'Syndee', 'Aditi', 'Constance']\n",
    "vecs = vectorizer.transform(names)\n",
    "vecs = pd.DataFrame.sparse.from_spmatrix(vecs)\n",
    "vecs.columns = vectorizer.get_feature_names_out()\n",
    "vecs.index = list(zip(names, 'M'*len(names)))\n",
    "pd.DataFrame(model.predict_proba(vecs)[:,0], index=vecs.index)"
   ]
  },
  {
   "cell_type": "code",
   "execution_count": null,
   "id": "226bd675",
   "metadata": {},
   "outputs": [],
   "source": []
  },
  {
   "cell_type": "code",
   "execution_count": null,
   "id": "497674cf",
   "metadata": {},
   "outputs": [],
   "source": [
    "class LogisticRegressionNumpyNN(LogisticRegressionNN):\n",
    "\n",
    "    def __init__(self, *args, **kwargs):\n",
    "         super().__init__(*args, **kwargs)\n",
    "\n",
    "    def predict_proba(self, X):\n",
    "        return self.forward(make_tensor(X))\n",
    "    \n",
    "    def predict(self, X):\n",
    "        return (np.array(self.forward(make_tesnor(X))) > 0.5).astype(int)\n",
    "    \n",
    "# ', '.join([v for v in dir(LogisticRegression) if v[0] != '_'])"
   ]
  }
 ],
 "metadata": {
  "kernelspec": {
   "display_name": "Python 3 (ipykernel)",
   "language": "python",
   "name": "python3"
  },
  "language_info": {
   "codemirror_mode": {
    "name": "ipython",
    "version": 3
   },
   "file_extension": ".py",
   "mimetype": "text/x-python",
   "name": "python",
   "nbconvert_exporter": "python",
   "pygments_lexer": "ipython3",
   "version": "3.8.8"
  }
 },
 "nbformat": 4,
 "nbformat_minor": 5
}
