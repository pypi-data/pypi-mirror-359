{
 "cells": [
  {
   "cell_type": "code",
   "execution_count": 37,
   "id": "b621a253",
   "metadata": {},
   "outputs": [],
   "source": [
    "import numpy as np\n",
    "import pandas as pd\n",
    "# neither year nor len are statistically significant predictors of sex\n",
    "from pathlib import Path\n",
    "import numpy as np\n",
    "import pandas as pd"
   ]
  },
  {
   "cell_type": "code",
   "execution_count": 38,
   "id": "e3fab11c",
   "metadata": {},
   "outputs": [
    {
     "data": {
      "text/plain": [
       "PosixPath('/home/hobs/code/tangibleai/nlpia2/src/nlpia2/ch05')"
      ]
     },
     "execution_count": 38,
     "metadata": {},
     "output_type": "execute_result"
    }
   ],
   "source": [
    "CWD = Path('.').absolute().resolve()\n",
    "DATA_DIR = '.nlpia2-data'\n",
    "DATA_FILE = 'baby-names-region.csv.gz'\n",
    "CWD"
   ]
  },
  {
   "cell_type": "code",
   "execution_count": 39,
   "id": "b8b24f40",
   "metadata": {},
   "outputs": [
    {
     "name": "stdout",
     "output_type": "stream",
     "text": [
      "/home/hobs/code/tangibleai/nlpia2/src/nlpia2/ch05/.nlpia2-data/baby-names-region.csv.gz\n",
      "/home/hobs/code/tangibleai/nlpia2/src/nlpia2/.nlpia2-data/baby-names-region.csv.gz\n",
      "/home/hobs/code/tangibleai/nlpia2/src/.nlpia2-data/baby-names-region.csv.gz\n",
      "/home/hobs/code/tangibleai/nlpia2/.nlpia2-data/baby-names-region.csv.gz\n"
     ]
    },
    {
     "data": {
      "text/plain": [
       "PosixPath('/home/hobs/code/tangibleai/nlpia2/.nlpia2-data/baby-names-region.csv.gz')"
      ]
     },
     "execution_count": 39,
     "metadata": {},
     "output_type": "execute_result"
    }
   ],
   "source": [
    "parent = CWD\n",
    "data_dir = parent / DATA_DIR \n",
    "filepath = data_dir / DATA_FILE\n",
    "for i in range(10):\n",
    "    print(filepath)\n",
    "    if filepath.is_file():\n",
    "        break\n",
    "    parent = parent.parent\n",
    "    data_dir = parent / DATA_DIR \n",
    "    filepath = data_dir / DATA_FILE\n",
    "filepath"
   ]
  },
  {
   "cell_type": "code",
   "execution_count": 40,
   "id": "fd3d6c09",
   "metadata": {},
   "outputs": [],
   "source": [
    "df = pd.read_csv(filepath)"
   ]
  },
  {
   "cell_type": "code",
   "execution_count": 41,
   "id": "7995427f",
   "metadata": {},
   "outputs": [
    {
     "data": {
      "text/html": [
       "<div>\n",
       "<style scoped>\n",
       "    .dataframe tbody tr th:only-of-type {\n",
       "        vertical-align: middle;\n",
       "    }\n",
       "\n",
       "    .dataframe tbody tr th {\n",
       "        vertical-align: top;\n",
       "    }\n",
       "\n",
       "    .dataframe thead th {\n",
       "        text-align: right;\n",
       "    }\n",
       "</style>\n",
       "<table border=\"1\" class=\"dataframe\">\n",
       "  <thead>\n",
       "    <tr style=\"text-align: right;\">\n",
       "      <th></th>\n",
       "      <th>region</th>\n",
       "      <th>sex</th>\n",
       "      <th>year</th>\n",
       "      <th>name</th>\n",
       "      <th>count</th>\n",
       "      <th>freq</th>\n",
       "    </tr>\n",
       "  </thead>\n",
       "  <tbody>\n",
       "    <tr>\n",
       "      <th>6139665</th>\n",
       "      <td>WV</td>\n",
       "      <td>F</td>\n",
       "      <td>1987</td>\n",
       "      <td>Brittani</td>\n",
       "      <td>10</td>\n",
       "      <td>0.000003</td>\n",
       "    </tr>\n",
       "    <tr>\n",
       "      <th>2565339</th>\n",
       "      <td>MD</td>\n",
       "      <td>F</td>\n",
       "      <td>1954</td>\n",
       "      <td>Ida</td>\n",
       "      <td>18</td>\n",
       "      <td>0.000005</td>\n",
       "    </tr>\n",
       "    <tr>\n",
       "      <th>22297</th>\n",
       "      <td>AK</td>\n",
       "      <td>M</td>\n",
       "      <td>1988</td>\n",
       "      <td>Maxwell</td>\n",
       "      <td>5</td>\n",
       "      <td>0.000001</td>\n",
       "    </tr>\n",
       "    <tr>\n",
       "      <th>5114650</th>\n",
       "      <td>TN</td>\n",
       "      <td>F</td>\n",
       "      <td>1972</td>\n",
       "      <td>Charlene</td>\n",
       "      <td>24</td>\n",
       "      <td>0.000008</td>\n",
       "    </tr>\n",
       "    <tr>\n",
       "      <th>2126395</th>\n",
       "      <td>KS</td>\n",
       "      <td>M</td>\n",
       "      <td>1954</td>\n",
       "      <td>Todd</td>\n",
       "      <td>11</td>\n",
       "      <td>0.000003</td>\n",
       "    </tr>\n",
       "  </tbody>\n",
       "</table>\n",
       "</div>"
      ],
      "text/plain": [
       "        region sex  year      name  count      freq\n",
       "6139665     WV   F  1987  Brittani     10  0.000003\n",
       "2565339     MD   F  1954       Ida     18  0.000005\n",
       "22297       AK   M  1988   Maxwell      5  0.000001\n",
       "5114650     TN   F  1972  Charlene     24  0.000008\n",
       "2126395     KS   M  1954      Todd     11  0.000003"
      ]
     },
     "execution_count": 41,
     "metadata": {},
     "output_type": "execute_result"
    }
   ],
   "source": [
    "np.random.seed(451)\n",
    "df = df.sample(10_000)\n",
    "df.head()"
   ]
  },
  {
   "cell_type": "code",
   "execution_count": 42,
   "id": "c2ce77ed",
   "metadata": {},
   "outputs": [
    {
     "data": {
      "text/plain": [
       "array(['Brittani', 'Ida', 'Maxwell', 'Charlene', 'Todd', 'Aubrey',\n",
       "       'Arianna', 'Otis', 'Trenton', 'Faustino'], dtype=object)"
      ]
     },
     "execution_count": 42,
     "metadata": {},
     "output_type": "execute_result"
    }
   ],
   "source": [
    "names = df['name'].unique()\n",
    "names[:10]"
   ]
  },
  {
   "cell_type": "code",
   "execution_count": 43,
   "id": "ca9893d1",
   "metadata": {},
   "outputs": [
    {
     "data": {
      "text/plain": [
       "0.4025"
      ]
     },
     "execution_count": 43,
     "metadata": {},
     "output_type": "execute_result"
    }
   ],
   "source": [
    "len(names) / len(df)"
   ]
  },
  {
   "cell_type": "code",
   "execution_count": null,
   "id": "129b2900",
   "metadata": {},
   "outputs": [],
   "source": [
    "# df = pd.get_dummies(df, columns=['region'])\n",
    "# df.head()"
   ]
  },
  {
   "cell_type": "code",
   "execution_count": 44,
   "id": "1f7bcd1b",
   "metadata": {},
   "outputs": [
    {
     "data": {
      "text/html": [
       "<div>\n",
       "<style scoped>\n",
       "    .dataframe tbody tr th:only-of-type {\n",
       "        vertical-align: middle;\n",
       "    }\n",
       "\n",
       "    .dataframe tbody tr th {\n",
       "        vertical-align: top;\n",
       "    }\n",
       "\n",
       "    .dataframe thead th {\n",
       "        text-align: right;\n",
       "    }\n",
       "</style>\n",
       "<table border=\"1\" class=\"dataframe\">\n",
       "  <thead>\n",
       "    <tr style=\"text-align: right;\">\n",
       "      <th></th>\n",
       "      <th></th>\n",
       "      <th>year</th>\n",
       "      <th>count</th>\n",
       "      <th>freq</th>\n",
       "    </tr>\n",
       "    <tr>\n",
       "      <th>name</th>\n",
       "      <th>sex</th>\n",
       "      <th></th>\n",
       "      <th></th>\n",
       "      <th></th>\n",
       "    </tr>\n",
       "  </thead>\n",
       "  <tbody>\n",
       "    <tr>\n",
       "      <th>Aaden</th>\n",
       "      <th>M</th>\n",
       "      <td>2008.0</td>\n",
       "      <td>51.0</td>\n",
       "      <td>0.000015</td>\n",
       "    </tr>\n",
       "    <tr>\n",
       "      <th>Aahana</th>\n",
       "      <th>F</th>\n",
       "      <td>2018.0</td>\n",
       "      <td>26.0</td>\n",
       "      <td>0.000009</td>\n",
       "    </tr>\n",
       "    <tr>\n",
       "      <th>Aahil</th>\n",
       "      <th>M</th>\n",
       "      <td>2019.0</td>\n",
       "      <td>5.0</td>\n",
       "      <td>0.000002</td>\n",
       "    </tr>\n",
       "    <tr>\n",
       "      <th>Aaleyah</th>\n",
       "      <th>F</th>\n",
       "      <td>2010.0</td>\n",
       "      <td>17.0</td>\n",
       "      <td>0.000005</td>\n",
       "    </tr>\n",
       "    <tr>\n",
       "      <th>Aalia</th>\n",
       "      <th>F</th>\n",
       "      <td>2016.5</td>\n",
       "      <td>6.5</td>\n",
       "      <td>0.000002</td>\n",
       "    </tr>\n",
       "  </tbody>\n",
       "</table>\n",
       "</div>"
      ],
      "text/plain": [
       "               year  count      freq\n",
       "name    sex                         \n",
       "Aaden   M    2008.0   51.0  0.000015\n",
       "Aahana  F    2018.0   26.0  0.000009\n",
       "Aahil   M    2019.0    5.0  0.000002\n",
       "Aaleyah F    2010.0   17.0  0.000005\n",
       "Aalia   F    2016.5    6.5  0.000002"
      ]
     },
     "execution_count": 44,
     "metadata": {},
     "output_type": "execute_result"
    }
   ],
   "source": [
    "df = df.groupby(['name', 'sex']).mean()\n",
    "df.head()"
   ]
  },
  {
   "cell_type": "code",
   "execution_count": 57,
   "id": "a176a35b",
   "metadata": {},
   "outputs": [
    {
     "data": {
      "text/html": [
       "<div>\n",
       "<style scoped>\n",
       "    .dataframe tbody tr th:only-of-type {\n",
       "        vertical-align: middle;\n",
       "    }\n",
       "\n",
       "    .dataframe tbody tr th {\n",
       "        vertical-align: top;\n",
       "    }\n",
       "\n",
       "    .dataframe thead th {\n",
       "        text-align: right;\n",
       "    }\n",
       "</style>\n",
       "<table border=\"1\" class=\"dataframe\">\n",
       "  <thead>\n",
       "    <tr style=\"text-align: right;\">\n",
       "      <th></th>\n",
       "      <th></th>\n",
       "      <th>year</th>\n",
       "      <th>count</th>\n",
       "      <th>freq</th>\n",
       "      <th>name</th>\n",
       "      <th>sex</th>\n",
       "    </tr>\n",
       "    <tr>\n",
       "      <th>name</th>\n",
       "      <th>sex</th>\n",
       "      <th></th>\n",
       "      <th></th>\n",
       "      <th></th>\n",
       "      <th></th>\n",
       "      <th></th>\n",
       "    </tr>\n",
       "  </thead>\n",
       "  <tbody>\n",
       "    <tr>\n",
       "      <th>Aaden</th>\n",
       "      <th>M</th>\n",
       "      <td>2008.0</td>\n",
       "      <td>51.0</td>\n",
       "      <td>0.000015</td>\n",
       "      <td>Aaden</td>\n",
       "      <td>M</td>\n",
       "    </tr>\n",
       "    <tr>\n",
       "      <th>Aahana</th>\n",
       "      <th>F</th>\n",
       "      <td>2018.0</td>\n",
       "      <td>26.0</td>\n",
       "      <td>0.000009</td>\n",
       "      <td>Aahana</td>\n",
       "      <td>F</td>\n",
       "    </tr>\n",
       "    <tr>\n",
       "      <th>Aahil</th>\n",
       "      <th>M</th>\n",
       "      <td>2019.0</td>\n",
       "      <td>5.0</td>\n",
       "      <td>0.000002</td>\n",
       "      <td>Aahil</td>\n",
       "      <td>M</td>\n",
       "    </tr>\n",
       "    <tr>\n",
       "      <th>Aaleyah</th>\n",
       "      <th>F</th>\n",
       "      <td>2010.0</td>\n",
       "      <td>17.0</td>\n",
       "      <td>0.000005</td>\n",
       "      <td>Aaleyah</td>\n",
       "      <td>F</td>\n",
       "    </tr>\n",
       "    <tr>\n",
       "      <th>Aalia</th>\n",
       "      <th>F</th>\n",
       "      <td>2016.5</td>\n",
       "      <td>6.5</td>\n",
       "      <td>0.000002</td>\n",
       "      <td>Aalia</td>\n",
       "      <td>F</td>\n",
       "    </tr>\n",
       "  </tbody>\n",
       "</table>\n",
       "</div>"
      ],
      "text/plain": [
       "               year  count      freq     name sex\n",
       "name    sex                                      \n",
       "Aaden   M    2008.0   51.0  0.000015    Aaden   M\n",
       "Aahana  F    2018.0   26.0  0.000009   Aahana   F\n",
       "Aahil   M    2019.0    5.0  0.000002    Aahil   M\n",
       "Aaleyah F    2010.0   17.0  0.000005  Aaleyah   F\n",
       "Aalia   F    2016.5    6.5  0.000002    Aalia   F"
      ]
     },
     "execution_count": 57,
     "metadata": {},
     "output_type": "execute_result"
    }
   ],
   "source": [
    "df['name'] = df.index.get_level_values('name')\n",
    "df['sex'] = df.index.get_level_values('sex')\n",
    "df.head()"
   ]
  },
  {
   "cell_type": "code",
   "execution_count": 61,
   "id": "2a25d50b",
   "metadata": {},
   "outputs": [
    {
     "data": {
      "text/html": [
       "<div>\n",
       "<style scoped>\n",
       "    .dataframe tbody tr th:only-of-type {\n",
       "        vertical-align: middle;\n",
       "    }\n",
       "\n",
       "    .dataframe tbody tr th {\n",
       "        vertical-align: top;\n",
       "    }\n",
       "\n",
       "    .dataframe thead th {\n",
       "        text-align: right;\n",
       "    }\n",
       "</style>\n",
       "<table border=\"1\" class=\"dataframe\">\n",
       "  <thead>\n",
       "    <tr style=\"text-align: right;\">\n",
       "      <th></th>\n",
       "      <th></th>\n",
       "      <th>year</th>\n",
       "      <th>count</th>\n",
       "      <th>freq</th>\n",
       "      <th>name</th>\n",
       "      <th>sex</th>\n",
       "    </tr>\n",
       "    <tr>\n",
       "      <th>name</th>\n",
       "      <th>sex</th>\n",
       "      <th></th>\n",
       "      <th></th>\n",
       "      <th></th>\n",
       "      <th></th>\n",
       "      <th></th>\n",
       "    </tr>\n",
       "  </thead>\n",
       "  <tbody>\n",
       "    <tr>\n",
       "      <th rowspan=\"2\" valign=\"top\">Chris</th>\n",
       "      <th>F</th>\n",
       "      <td>1983.0</td>\n",
       "      <td>5.00</td>\n",
       "      <td>0.000002</td>\n",
       "      <td>Chris</td>\n",
       "      <td>F</td>\n",
       "    </tr>\n",
       "    <tr>\n",
       "      <th>M</th>\n",
       "      <td>1962.5</td>\n",
       "      <td>59.75</td>\n",
       "      <td>0.000017</td>\n",
       "      <td>Chris</td>\n",
       "      <td>M</td>\n",
       "    </tr>\n",
       "  </tbody>\n",
       "</table>\n",
       "</div>"
      ],
      "text/plain": [
       "             year  count      freq   name sex\n",
       "name  sex                                    \n",
       "Chris F    1983.0   5.00  0.000002  Chris   F\n",
       "      M    1962.5  59.75  0.000017  Chris   M"
      ]
     },
     "execution_count": 61,
     "metadata": {},
     "output_type": "execute_result"
    }
   ],
   "source": [
    "df.query('name == \"Chris\"')\n"
   ]
  },
  {
   "cell_type": "code",
   "execution_count": 63,
   "id": "7a4a0cbd",
   "metadata": {},
   "outputs": [
    {
     "data": {
      "text/html": [
       "<div>\n",
       "<style scoped>\n",
       "    .dataframe tbody tr th:only-of-type {\n",
       "        vertical-align: middle;\n",
       "    }\n",
       "\n",
       "    .dataframe tbody tr th {\n",
       "        vertical-align: top;\n",
       "    }\n",
       "\n",
       "    .dataframe thead th {\n",
       "        text-align: right;\n",
       "    }\n",
       "</style>\n",
       "<table border=\"1\" class=\"dataframe\">\n",
       "  <thead>\n",
       "    <tr style=\"text-align: right;\">\n",
       "      <th></th>\n",
       "      <th>year</th>\n",
       "      <th>count</th>\n",
       "      <th>freq</th>\n",
       "      <th>name</th>\n",
       "      <th>sex</th>\n",
       "    </tr>\n",
       "    <tr>\n",
       "      <th>sex</th>\n",
       "      <th></th>\n",
       "      <th></th>\n",
       "      <th></th>\n",
       "      <th></th>\n",
       "      <th></th>\n",
       "    </tr>\n",
       "  </thead>\n",
       "  <tbody>\n",
       "    <tr>\n",
       "      <th>F</th>\n",
       "      <td>1983.0</td>\n",
       "      <td>5.00</td>\n",
       "      <td>0.000002</td>\n",
       "      <td>Chris</td>\n",
       "      <td>F</td>\n",
       "    </tr>\n",
       "    <tr>\n",
       "      <th>M</th>\n",
       "      <td>1962.5</td>\n",
       "      <td>59.75</td>\n",
       "      <td>0.000017</td>\n",
       "      <td>Chris</td>\n",
       "      <td>M</td>\n",
       "    </tr>\n",
       "  </tbody>\n",
       "</table>\n",
       "</div>"
      ],
      "text/plain": [
       "       year  count      freq   name sex\n",
       "sex                                    \n",
       "F    1983.0   5.00  0.000002  Chris   F\n",
       "M    1962.5  59.75  0.000017  Chris   M"
      ]
     },
     "execution_count": 63,
     "metadata": {},
     "output_type": "execute_result"
    }
   ],
   "source": [
    "df.loc[pd.IndexSlice['Chris', :]]"
   ]
  },
  {
   "cell_type": "code",
   "execution_count": 65,
   "id": "11612de1",
   "metadata": {},
   "outputs": [
    {
     "data": {
      "text/html": [
       "<div>\n",
       "<style scoped>\n",
       "    .dataframe tbody tr th:only-of-type {\n",
       "        vertical-align: middle;\n",
       "    }\n",
       "\n",
       "    .dataframe tbody tr th {\n",
       "        vertical-align: top;\n",
       "    }\n",
       "\n",
       "    .dataframe thead th {\n",
       "        text-align: right;\n",
       "    }\n",
       "</style>\n",
       "<table border=\"1\" class=\"dataframe\">\n",
       "  <thead>\n",
       "    <tr style=\"text-align: right;\">\n",
       "      <th></th>\n",
       "      <th></th>\n",
       "      <th>year</th>\n",
       "      <th>count</th>\n",
       "      <th>freq</th>\n",
       "      <th>name</th>\n",
       "      <th>sex</th>\n",
       "      <th>istrain</th>\n",
       "    </tr>\n",
       "    <tr>\n",
       "      <th>name</th>\n",
       "      <th>sex</th>\n",
       "      <th></th>\n",
       "      <th></th>\n",
       "      <th></th>\n",
       "      <th></th>\n",
       "      <th></th>\n",
       "      <th></th>\n",
       "    </tr>\n",
       "  </thead>\n",
       "  <tbody>\n",
       "    <tr>\n",
       "      <th>Aaden</th>\n",
       "      <th>M</th>\n",
       "      <td>2008.0</td>\n",
       "      <td>51.0</td>\n",
       "      <td>0.000015</td>\n",
       "      <td>Aaden</td>\n",
       "      <td>M</td>\n",
       "      <td>True</td>\n",
       "    </tr>\n",
       "    <tr>\n",
       "      <th>Aahana</th>\n",
       "      <th>F</th>\n",
       "      <td>2018.0</td>\n",
       "      <td>26.0</td>\n",
       "      <td>0.000009</td>\n",
       "      <td>Aahana</td>\n",
       "      <td>F</td>\n",
       "      <td>True</td>\n",
       "    </tr>\n",
       "    <tr>\n",
       "      <th>Aahil</th>\n",
       "      <th>M</th>\n",
       "      <td>2019.0</td>\n",
       "      <td>5.0</td>\n",
       "      <td>0.000002</td>\n",
       "      <td>Aahil</td>\n",
       "      <td>M</td>\n",
       "      <td>True</td>\n",
       "    </tr>\n",
       "    <tr>\n",
       "      <th>Aaleyah</th>\n",
       "      <th>F</th>\n",
       "      <td>2010.0</td>\n",
       "      <td>17.0</td>\n",
       "      <td>0.000005</td>\n",
       "      <td>Aaleyah</td>\n",
       "      <td>F</td>\n",
       "      <td>False</td>\n",
       "    </tr>\n",
       "    <tr>\n",
       "      <th>Aalia</th>\n",
       "      <th>F</th>\n",
       "      <td>2016.5</td>\n",
       "      <td>6.5</td>\n",
       "      <td>0.000002</td>\n",
       "      <td>Aalia</td>\n",
       "      <td>F</td>\n",
       "      <td>True</td>\n",
       "    </tr>\n",
       "  </tbody>\n",
       "</table>\n",
       "</div>"
      ],
      "text/plain": [
       "               year  count      freq     name sex  istrain\n",
       "name    sex                                               \n",
       "Aaden   M    2008.0   51.0  0.000015    Aaden   M     True\n",
       "Aahana  F    2018.0   26.0  0.000009   Aahana   F     True\n",
       "Aahil   M    2019.0    5.0  0.000002    Aahil   M     True\n",
       "Aaleyah F    2010.0   17.0  0.000005  Aaleyah   F    False\n",
       "Aalia   F    2016.5    6.5  0.000002    Aalia   F     True"
      ]
     },
     "execution_count": 65,
     "metadata": {},
     "output_type": "execute_result"
    }
   ],
   "source": [
    "df['istrain'] = np.random.rand(len(df)) < .9\n",
    "df.head()"
   ]
  },
  {
   "cell_type": "code",
   "execution_count": 66,
   "id": "aaa31338",
   "metadata": {},
   "outputs": [
    {
     "data": {
      "text/plain": [
       "0.8966493629070316"
      ]
     },
     "execution_count": 66,
     "metadata": {},
     "output_type": "execute_result"
    }
   ],
   "source": [
    "istrain = df['istrain']\n",
    "del df['istrain']\n",
    "istrain.sum() / len(istrain)"
   ]
  },
  {
   "cell_type": "code",
   "execution_count": 67,
   "id": "3cb58b01",
   "metadata": {},
   "outputs": [
    {
     "data": {
      "text/plain": [
       "LogisticRegression(class_weight='balanced')"
      ]
     },
     "execution_count": 67,
     "metadata": {},
     "output_type": "execute_result"
    }
   ],
   "source": [
    "from sklearn.linear_model import LogisticRegression\n",
    "model = LogisticRegression(class_weight='balanced')\n",
    "model"
   ]
  },
  {
   "cell_type": "code",
   "execution_count": 75,
   "id": "625d4203",
   "metadata": {},
   "outputs": [
    {
     "data": {
      "text/html": [
       "<div>\n",
       "<style scoped>\n",
       "    .dataframe tbody tr th:only-of-type {\n",
       "        vertical-align: middle;\n",
       "    }\n",
       "\n",
       "    .dataframe tbody tr th {\n",
       "        vertical-align: top;\n",
       "    }\n",
       "\n",
       "    .dataframe thead th {\n",
       "        text-align: right;\n",
       "    }\n",
       "</style>\n",
       "<table border=\"1\" class=\"dataframe\">\n",
       "  <thead>\n",
       "    <tr style=\"text-align: right;\">\n",
       "      <th></th>\n",
       "      <th></th>\n",
       "      <th>len</th>\n",
       "    </tr>\n",
       "    <tr>\n",
       "      <th>name</th>\n",
       "      <th>sex</th>\n",
       "      <th></th>\n",
       "    </tr>\n",
       "  </thead>\n",
       "  <tbody>\n",
       "    <tr>\n",
       "      <th>Aaden</th>\n",
       "      <th>M</th>\n",
       "      <td>5</td>\n",
       "    </tr>\n",
       "    <tr>\n",
       "      <th>Aahana</th>\n",
       "      <th>F</th>\n",
       "      <td>6</td>\n",
       "    </tr>\n",
       "    <tr>\n",
       "      <th>Aahil</th>\n",
       "      <th>M</th>\n",
       "      <td>5</td>\n",
       "    </tr>\n",
       "    <tr>\n",
       "      <th>Aaleyah</th>\n",
       "      <th>F</th>\n",
       "      <td>7</td>\n",
       "    </tr>\n",
       "    <tr>\n",
       "      <th>Aalia</th>\n",
       "      <th>F</th>\n",
       "      <td>5</td>\n",
       "    </tr>\n",
       "  </tbody>\n",
       "</table>\n",
       "</div>"
      ],
      "text/plain": [
       "             len\n",
       "name    sex     \n",
       "Aaden   M      5\n",
       "Aahana  F      6\n",
       "Aahil   M      5\n",
       "Aaleyah F      7\n",
       "Aalia   F      5"
      ]
     },
     "execution_count": 75,
     "metadata": {},
     "output_type": "execute_result"
    }
   ],
   "source": [
    "# df['name'] = df.index.values\n",
    "df['len'] = df['name'].str.len()\n",
    "X = df[['len']]\n",
    "y = df['sex']\n",
    "X.head()"
   ]
  },
  {
   "cell_type": "code",
   "execution_count": 76,
   "id": "d23f9a79",
   "metadata": {},
   "outputs": [
    {
     "data": {
      "text/plain": [
       "LogisticRegression(class_weight='balanced')"
      ]
     },
     "execution_count": 76,
     "metadata": {},
     "output_type": "execute_result"
    }
   ],
   "source": [
    "model.fit(X[istrain], y[istrain], sample_weight=df['freq'][istrain])"
   ]
  },
  {
   "cell_type": "code",
   "execution_count": 77,
   "id": "ea715ee6",
   "metadata": {},
   "outputs": [
    {
     "data": {
      "text/plain": [
       "0.448398409763099"
      ]
     },
     "execution_count": 77,
     "metadata": {},
     "output_type": "execute_result"
    }
   ],
   "source": [
    "model.score(X[istrain], y[istrain], sample_weight=df['freq'][istrain])"
   ]
  },
  {
   "cell_type": "code",
   "execution_count": 78,
   "id": "18e817b5",
   "metadata": {},
   "outputs": [
    {
     "data": {
      "text/plain": [
       "0.510545746795573"
      ]
     },
     "execution_count": 78,
     "metadata": {},
     "output_type": "execute_result"
    }
   ],
   "source": [
    "model.score(X[~istrain], y[~istrain], sample_weight=df['freq'][~istrain])"
   ]
  },
  {
   "cell_type": "code",
   "execution_count": 82,
   "id": "826e29ec",
   "metadata": {},
   "outputs": [
    {
     "data": {
      "text/plain": [
       "TfidfVectorizer(analyzer='char', lowercase=False, ngram_range=(1, 3))"
      ]
     },
     "execution_count": 82,
     "metadata": {},
     "output_type": "execute_result"
    }
   ],
   "source": [
    "from sklearn.feature_extraction.text import TfidfVectorizer\n",
    "vectorizer = TfidfVectorizer(analyzer='char', ngram_range=(1, 3), lowercase=False)\n",
    "vectorizer"
   ]
  },
  {
   "cell_type": "code",
   "execution_count": 83,
   "id": "6fe93803",
   "metadata": {},
   "outputs": [
    {
     "data": {
      "text/plain": [
       "TfidfVectorizer(analyzer='char', lowercase=False, ngram_range=(1, 3))"
      ]
     },
     "execution_count": 83,
     "metadata": {},
     "output_type": "execute_result"
    }
   ],
   "source": [
    "vectorizer.fit(df['name'][istrain])"
   ]
  },
  {
   "cell_type": "code",
   "execution_count": 87,
   "id": "4c44dccb",
   "metadata": {},
   "outputs": [
    {
     "data": {
      "text/html": [
       "<div>\n",
       "<style scoped>\n",
       "    .dataframe tbody tr th:only-of-type {\n",
       "        vertical-align: middle;\n",
       "    }\n",
       "\n",
       "    .dataframe tbody tr th {\n",
       "        vertical-align: top;\n",
       "    }\n",
       "\n",
       "    .dataframe thead th {\n",
       "        text-align: right;\n",
       "    }\n",
       "</style>\n",
       "<table border=\"1\" class=\"dataframe\">\n",
       "  <thead>\n",
       "    <tr style=\"text-align: right;\">\n",
       "      <th></th>\n",
       "      <th>0</th>\n",
       "      <th>1</th>\n",
       "      <th>2</th>\n",
       "      <th>3</th>\n",
       "      <th>4</th>\n",
       "      <th>5</th>\n",
       "      <th>6</th>\n",
       "      <th>7</th>\n",
       "      <th>8</th>\n",
       "      <th>9</th>\n",
       "      <th>...</th>\n",
       "      <th>3666</th>\n",
       "      <th>3667</th>\n",
       "      <th>3668</th>\n",
       "      <th>3669</th>\n",
       "      <th>3670</th>\n",
       "      <th>3671</th>\n",
       "      <th>3672</th>\n",
       "      <th>3673</th>\n",
       "      <th>3674</th>\n",
       "      <th>3675</th>\n",
       "    </tr>\n",
       "  </thead>\n",
       "  <tbody>\n",
       "    <tr>\n",
       "      <th>0</th>\n",
       "      <td>0.195328</td>\n",
       "      <td>0.401890</td>\n",
       "      <td>0.508442</td>\n",
       "      <td>0.000000</td>\n",
       "      <td>0.000000</td>\n",
       "      <td>0.0</td>\n",
       "      <td>0.0</td>\n",
       "      <td>0.0</td>\n",
       "      <td>0.0</td>\n",
       "      <td>0.0</td>\n",
       "      <td>...</td>\n",
       "      <td>0.0</td>\n",
       "      <td>0.0</td>\n",
       "      <td>0.0</td>\n",
       "      <td>0.0</td>\n",
       "      <td>0.0</td>\n",
       "      <td>0.0</td>\n",
       "      <td>0.0</td>\n",
       "      <td>0.0</td>\n",
       "      <td>0.0</td>\n",
       "      <td>0.0</td>\n",
       "    </tr>\n",
       "    <tr>\n",
       "      <th>1</th>\n",
       "      <td>0.183625</td>\n",
       "      <td>0.377812</td>\n",
       "      <td>0.000000</td>\n",
       "      <td>0.455313</td>\n",
       "      <td>0.000000</td>\n",
       "      <td>0.0</td>\n",
       "      <td>0.0</td>\n",
       "      <td>0.0</td>\n",
       "      <td>0.0</td>\n",
       "      <td>0.0</td>\n",
       "      <td>...</td>\n",
       "      <td>0.0</td>\n",
       "      <td>0.0</td>\n",
       "      <td>0.0</td>\n",
       "      <td>0.0</td>\n",
       "      <td>0.0</td>\n",
       "      <td>0.0</td>\n",
       "      <td>0.0</td>\n",
       "      <td>0.0</td>\n",
       "      <td>0.0</td>\n",
       "      <td>0.0</td>\n",
       "    </tr>\n",
       "    <tr>\n",
       "      <th>2</th>\n",
       "      <td>0.186853</td>\n",
       "      <td>0.384453</td>\n",
       "      <td>0.000000</td>\n",
       "      <td>0.463316</td>\n",
       "      <td>0.000000</td>\n",
       "      <td>0.0</td>\n",
       "      <td>0.0</td>\n",
       "      <td>0.0</td>\n",
       "      <td>0.0</td>\n",
       "      <td>0.0</td>\n",
       "      <td>...</td>\n",
       "      <td>0.0</td>\n",
       "      <td>0.0</td>\n",
       "      <td>0.0</td>\n",
       "      <td>0.0</td>\n",
       "      <td>0.0</td>\n",
       "      <td>0.0</td>\n",
       "      <td>0.0</td>\n",
       "      <td>0.0</td>\n",
       "      <td>0.0</td>\n",
       "      <td>0.0</td>\n",
       "    </tr>\n",
       "    <tr>\n",
       "      <th>3</th>\n",
       "      <td>0.165018</td>\n",
       "      <td>0.339527</td>\n",
       "      <td>0.000000</td>\n",
       "      <td>0.000000</td>\n",
       "      <td>0.394721</td>\n",
       "      <td>0.0</td>\n",
       "      <td>0.0</td>\n",
       "      <td>0.0</td>\n",
       "      <td>0.0</td>\n",
       "      <td>0.0</td>\n",
       "      <td>...</td>\n",
       "      <td>0.0</td>\n",
       "      <td>0.0</td>\n",
       "      <td>0.0</td>\n",
       "      <td>0.0</td>\n",
       "      <td>0.0</td>\n",
       "      <td>0.0</td>\n",
       "      <td>0.0</td>\n",
       "      <td>0.0</td>\n",
       "      <td>0.0</td>\n",
       "      <td>0.0</td>\n",
       "    </tr>\n",
       "    <tr>\n",
       "      <th>4</th>\n",
       "      <td>0.213283</td>\n",
       "      <td>0.438833</td>\n",
       "      <td>0.000000</td>\n",
       "      <td>0.000000</td>\n",
       "      <td>0.510171</td>\n",
       "      <td>0.0</td>\n",
       "      <td>0.0</td>\n",
       "      <td>0.0</td>\n",
       "      <td>0.0</td>\n",
       "      <td>0.0</td>\n",
       "      <td>...</td>\n",
       "      <td>0.0</td>\n",
       "      <td>0.0</td>\n",
       "      <td>0.0</td>\n",
       "      <td>0.0</td>\n",
       "      <td>0.0</td>\n",
       "      <td>0.0</td>\n",
       "      <td>0.0</td>\n",
       "      <td>0.0</td>\n",
       "      <td>0.0</td>\n",
       "      <td>0.0</td>\n",
       "    </tr>\n",
       "  </tbody>\n",
       "</table>\n",
       "<p>5 rows × 3676 columns</p>\n",
       "</div>"
      ],
      "text/plain": [
       "       0         1         2         3         4     5     6     7     8     \\\n",
       "0  0.195328  0.401890  0.508442  0.000000  0.000000   0.0   0.0   0.0   0.0   \n",
       "1  0.183625  0.377812  0.000000  0.455313  0.000000   0.0   0.0   0.0   0.0   \n",
       "2  0.186853  0.384453  0.000000  0.463316  0.000000   0.0   0.0   0.0   0.0   \n",
       "3  0.165018  0.339527  0.000000  0.000000  0.394721   0.0   0.0   0.0   0.0   \n",
       "4  0.213283  0.438833  0.000000  0.000000  0.510171   0.0   0.0   0.0   0.0   \n",
       "\n",
       "   9     ...  3666  3667  3668  3669  3670  3671  3672  3673  3674  3675  \n",
       "0   0.0  ...   0.0   0.0   0.0   0.0   0.0   0.0   0.0   0.0   0.0   0.0  \n",
       "1   0.0  ...   0.0   0.0   0.0   0.0   0.0   0.0   0.0   0.0   0.0   0.0  \n",
       "2   0.0  ...   0.0   0.0   0.0   0.0   0.0   0.0   0.0   0.0   0.0   0.0  \n",
       "3   0.0  ...   0.0   0.0   0.0   0.0   0.0   0.0   0.0   0.0   0.0   0.0  \n",
       "4   0.0  ...   0.0   0.0   0.0   0.0   0.0   0.0   0.0   0.0   0.0   0.0  \n",
       "\n",
       "[5 rows x 3676 columns]"
      ]
     },
     "execution_count": 87,
     "metadata": {},
     "output_type": "execute_result"
    }
   ],
   "source": [
    "vecs = vectorizer.transform(df['name'])\n",
    "vecs = pd.DataFrame.sparse.from_spmatrix(vecs)\n",
    "vecs.head()\n"
   ]
  },
  {
   "cell_type": "code",
   "execution_count": 91,
   "id": "86b96286",
   "metadata": {},
   "outputs": [
    {
     "data": {
      "text/html": [
       "<div>\n",
       "<style scoped>\n",
       "    .dataframe tbody tr th:only-of-type {\n",
       "        vertical-align: middle;\n",
       "    }\n",
       "\n",
       "    .dataframe tbody tr th {\n",
       "        vertical-align: top;\n",
       "    }\n",
       "\n",
       "    .dataframe thead th {\n",
       "        text-align: right;\n",
       "    }\n",
       "</style>\n",
       "<table border=\"1\" class=\"dataframe\">\n",
       "  <thead>\n",
       "    <tr style=\"text-align: right;\">\n",
       "      <th></th>\n",
       "      <th></th>\n",
       "      <th>A</th>\n",
       "      <th>Aa</th>\n",
       "      <th>Aad</th>\n",
       "      <th>Aah</th>\n",
       "      <th>Aal</th>\n",
       "    </tr>\n",
       "    <tr>\n",
       "      <th>name</th>\n",
       "      <th>sex</th>\n",
       "      <th></th>\n",
       "      <th></th>\n",
       "      <th></th>\n",
       "      <th></th>\n",
       "      <th></th>\n",
       "    </tr>\n",
       "  </thead>\n",
       "  <tbody>\n",
       "    <tr>\n",
       "      <th>Aaden</th>\n",
       "      <th>M</th>\n",
       "      <td>0.195328</td>\n",
       "      <td>0.401890</td>\n",
       "      <td>0.508442</td>\n",
       "      <td>0.000000</td>\n",
       "      <td>0.000000</td>\n",
       "    </tr>\n",
       "    <tr>\n",
       "      <th>Aahana</th>\n",
       "      <th>F</th>\n",
       "      <td>0.183625</td>\n",
       "      <td>0.377812</td>\n",
       "      <td>0.000000</td>\n",
       "      <td>0.455313</td>\n",
       "      <td>0.000000</td>\n",
       "    </tr>\n",
       "    <tr>\n",
       "      <th>Aahil</th>\n",
       "      <th>M</th>\n",
       "      <td>0.186853</td>\n",
       "      <td>0.384453</td>\n",
       "      <td>0.000000</td>\n",
       "      <td>0.463316</td>\n",
       "      <td>0.000000</td>\n",
       "    </tr>\n",
       "    <tr>\n",
       "      <th>Aaleyah</th>\n",
       "      <th>F</th>\n",
       "      <td>0.165018</td>\n",
       "      <td>0.339527</td>\n",
       "      <td>0.000000</td>\n",
       "      <td>0.000000</td>\n",
       "      <td>0.394721</td>\n",
       "    </tr>\n",
       "    <tr>\n",
       "      <th>Aalia</th>\n",
       "      <th>F</th>\n",
       "      <td>0.213283</td>\n",
       "      <td>0.438833</td>\n",
       "      <td>0.000000</td>\n",
       "      <td>0.000000</td>\n",
       "      <td>0.510171</td>\n",
       "    </tr>\n",
       "  </tbody>\n",
       "</table>\n",
       "</div>"
      ],
      "text/plain": [
       "                    A        Aa       Aad       Aah       Aal\n",
       "name    sex                                                  \n",
       "Aaden   M    0.195328  0.401890  0.508442  0.000000  0.000000\n",
       "Aahana  F    0.183625  0.377812  0.000000  0.455313  0.000000\n",
       "Aahil   M    0.186853  0.384453  0.000000  0.463316  0.000000\n",
       "Aaleyah F    0.165018  0.339527  0.000000  0.000000  0.394721\n",
       "Aalia   F    0.213283  0.438833  0.000000  0.000000  0.510171"
      ]
     },
     "execution_count": 91,
     "metadata": {},
     "output_type": "execute_result"
    }
   ],
   "source": [
    "vecs.columns = vectorizer.get_feature_names_out()\n",
    "vecs.index = df.index\n",
    "vecs.head()[vecs.columns[:5]]"
   ]
  },
  {
   "cell_type": "code",
   "execution_count": 93,
   "id": "c41ddfde",
   "metadata": {},
   "outputs": [
    {
     "data": {
      "text/plain": [
       "LogisticRegression(class_weight='balanced')"
      ]
     },
     "execution_count": 93,
     "metadata": {},
     "output_type": "execute_result"
    }
   ],
   "source": [
    "model.fit(vecs[istrain], y[istrain], sample_weight=df['freq'][istrain])"
   ]
  },
  {
   "cell_type": "code",
   "execution_count": 96,
   "id": "f2297203",
   "metadata": {},
   "outputs": [
    {
     "data": {
      "text/plain": [
       "0.510545746795573"
      ]
     },
     "execution_count": 96,
     "metadata": {},
     "output_type": "execute_result"
    }
   ],
   "source": [
    "model.score(vecs[~istrain], y[~istrain], sample_weight=df['freq'][~istrain])"
   ]
  },
  {
   "cell_type": "code",
   "execution_count": 97,
   "id": "67c3b56b",
   "metadata": {},
   "outputs": [
    {
     "data": {
      "text/plain": [
       "array(['F', 'M'], dtype=object)"
      ]
     },
     "execution_count": 97,
     "metadata": {},
     "output_type": "execute_result"
    }
   ],
   "source": [
    "model.classes_\n"
   ]
  },
  {
   "cell_type": "code",
   "execution_count": 101,
   "id": "77e217d1",
   "metadata": {},
   "outputs": [
    {
     "data": {
      "text/plain": [
       "array([[0.46525322, 0.53474678],\n",
       "       [0.46525837, 0.53474163],\n",
       "       [0.46520632, 0.53479368],\n",
       "       [0.46526069, 0.53473931]])"
      ]
     },
     "execution_count": 101,
     "metadata": {},
     "output_type": "execute_result"
    }
   ],
   "source": [
    "model.predict_proba(vectorizer.transform(['Kemal', 'Lane', 'Hobson', 'Vish']))"
   ]
  },
  {
   "cell_type": "code",
   "execution_count": 102,
   "id": "72d74a01",
   "metadata": {},
   "outputs": [
    {
     "data": {
      "text/plain": [
       "array([[0.46529297, 0.53470703],\n",
       "       [0.46524354, 0.53475646],\n",
       "       [0.46520632, 0.53479368]])"
      ]
     },
     "execution_count": 102,
     "metadata": {},
     "output_type": "execute_result"
    }
   ],
   "source": [
    "model.predict_proba(vectorizer.transform(['Maria', 'Syndee', 'Hobson']))"
   ]
  },
  {
   "cell_type": "code",
   "execution_count": null,
   "id": "a89936b4",
   "metadata": {},
   "outputs": [],
   "source": []
  }
 ],
 "metadata": {
  "kernelspec": {
   "display_name": "Python 3 (ipykernel)",
   "language": "python",
   "name": "python3"
  },
  "language_info": {
   "codemirror_mode": {
    "name": "ipython",
    "version": 3
   },
   "file_extension": ".py",
   "mimetype": "text/x-python",
   "name": "python",
   "nbconvert_exporter": "python",
   "pygments_lexer": "ipython3",
   "version": "3.8.8"
  }
 },
 "nbformat": 4,
 "nbformat_minor": 5
}
