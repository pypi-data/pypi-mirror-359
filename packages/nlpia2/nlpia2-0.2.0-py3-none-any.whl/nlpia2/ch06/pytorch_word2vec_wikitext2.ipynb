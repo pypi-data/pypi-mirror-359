{
 "cells": [
  {
   "cell_type": "code",
   "execution_count": 6,
   "id": "0916d679",
   "metadata": {},
   "outputs": [],
   "source": [
    "from collections import Counter\n",
    "import csv\n",
    "import datetime  # noqa\n",
    "\n",
    "import pandas as pd\n",
    "import torch\n",
    "from torch import nn\n",
    "import torchtext\n",
    "import datasets\n",
    "\n",
    "from torch.utils.data import Dataset, DataLoader"
   ]
  },
  {
   "cell_type": "code",
   "execution_count": 22,
   "id": "649e9960",
   "metadata": {},
   "outputs": [],
   "source": [
    "dsets = torchtext.datasets.WikiText2()\n",
    "NUM_TEXTS = 10_000"
   ]
  },
  {
   "cell_type": "code",
   "execution_count": 23,
   "id": "7a9196be",
   "metadata": {},
   "outputs": [
    {
     "ename": "ValueError",
     "evalue": "not enough values to unpack (expected 2, got 1)",
     "output_type": "error",
     "traceback": [
      "\u001b[0;31m---------------------------------------------------------------------------\u001b[0m",
      "\u001b[0;31mValueError\u001b[0m                                Traceback (most recent call last)",
      "Input \u001b[0;32mIn [23]\u001b[0m, in \u001b[0;36m<module>\u001b[0;34m\u001b[0m\n\u001b[0;32m----> 1\u001b[0m \u001b[38;5;28;01mfor\u001b[39;00m i, row \u001b[38;5;129;01min\u001b[39;00m \u001b[38;5;28menumerate\u001b[39m(dsets[\u001b[38;5;241m0\u001b[39m]\u001b[38;5;241m.\u001b[39mdecode()):\n\u001b[1;32m      2\u001b[0m     \u001b[38;5;28mprint\u001b[39m(row)\n\u001b[1;32m      3\u001b[0m     \u001b[38;5;28;01mif\u001b[39;00m i \u001b[38;5;241m>\u001b[39m \u001b[38;5;241m5\u001b[39m:\n",
      "File \u001b[0;32m~/anaconda3/envs/nessvec/lib/python3.9/site-packages/torch/utils/data/datapipes/iter/routeddecoder.py:50\u001b[0m, in \u001b[0;36mRoutedDecoderIterDataPipe.__iter__\u001b[0;34m(self)\u001b[0m\n\u001b[1;32m     48\u001b[0m \u001b[38;5;28;01mfor\u001b[39;00m data \u001b[38;5;129;01min\u001b[39;00m \u001b[38;5;28mself\u001b[39m\u001b[38;5;241m.\u001b[39mdatapipe:\n\u001b[1;32m     49\u001b[0m     pathname \u001b[38;5;241m=\u001b[39m data[\u001b[38;5;241m0\u001b[39m]\n\u001b[0;32m---> 50\u001b[0m     result \u001b[38;5;241m=\u001b[39m \u001b[38;5;28;43mself\u001b[39;49m\u001b[38;5;241;43m.\u001b[39;49m\u001b[43mdecoder\u001b[49m\u001b[43m(\u001b[49m\u001b[43mdata\u001b[49m\u001b[43m)\u001b[49m\n\u001b[1;32m     51\u001b[0m     \u001b[38;5;28;01myield\u001b[39;00m (pathname, result[pathname])\n",
      "File \u001b[0;32m~/anaconda3/envs/nessvec/lib/python3.9/site-packages/torch/utils/data/datapipes/utils/decoder.py:310\u001b[0m, in \u001b[0;36mDecoder.__call__\u001b[0;34m(self, data)\u001b[0m\n\u001b[1;32m    309\u001b[0m \u001b[38;5;28;01mdef\u001b[39;00m \u001b[38;5;21m__call__\u001b[39m(\u001b[38;5;28mself\u001b[39m, data):\n\u001b[0;32m--> 310\u001b[0m     \u001b[38;5;28;01mreturn\u001b[39;00m \u001b[38;5;28;43mself\u001b[39;49m\u001b[38;5;241;43m.\u001b[39;49m\u001b[43mdecode\u001b[49m\u001b[43m(\u001b[49m\u001b[43mdata\u001b[49m\u001b[43m)\u001b[49m\n",
      "File \u001b[0;32m~/anaconda3/envs/nessvec/lib/python3.9/site-packages/torch/utils/data/datapipes/utils/decoder.py:299\u001b[0m, in \u001b[0;36mDecoder.decode\u001b[0;34m(self, data)\u001b[0m\n\u001b[1;32m    296\u001b[0m     data \u001b[38;5;241m=\u001b[39m [data]\n\u001b[1;32m    298\u001b[0m \u001b[38;5;28;01mif\u001b[39;00m data \u001b[38;5;129;01mis\u001b[39;00m \u001b[38;5;129;01mnot\u001b[39;00m \u001b[38;5;28;01mNone\u001b[39;00m:\n\u001b[0;32m--> 299\u001b[0m     \u001b[38;5;28;01mfor\u001b[39;00m k, v \u001b[38;5;129;01min\u001b[39;00m data:\n\u001b[1;32m    300\u001b[0m         \u001b[38;5;66;03m# TODO: xinyu, figure out why Nvidia do this?\u001b[39;00m\n\u001b[1;32m    301\u001b[0m         \u001b[38;5;28;01mif\u001b[39;00m k[\u001b[38;5;241m0\u001b[39m] \u001b[38;5;241m==\u001b[39m \u001b[38;5;124m\"\u001b[39m\u001b[38;5;124m_\u001b[39m\u001b[38;5;124m\"\u001b[39m:\n\u001b[1;32m    302\u001b[0m             \u001b[38;5;28;01mif\u001b[39;00m \u001b[38;5;28misinstance\u001b[39m(v, \u001b[38;5;28mbytes\u001b[39m):\n",
      "\u001b[0;31mValueError\u001b[0m: not enough values to unpack (expected 2, got 1)"
     ]
    }
   ],
   "source": [
    "ddsets[0].type"
   ]
  },
  {
   "cell_type": "code",
   "execution_count": 10,
   "id": "c49ad995",
   "metadata": {},
   "outputs": [],
   "source": [
    ">>> for dset, name in zip(dsets, 'train val test'.split()):\n",
    ">>>     dset = list(dset)[:NUM_TEXTS]\n",
    ">>>     filepath = DATA_DIR / f'WikiText2-{name}-{len(dset)}.txt'\n",
    ">>>     with open(filepath, 'wt') as fout:\n",
    "...         fout.writelines(dset)"
   ]
  },
  {
   "cell_type": "code",
   "execution_count": 3,
   "id": "6a353589",
   "metadata": {},
   "outputs": [
    {
     "data": {
      "text/plain": [
       "PosixPath('/home/hobs/nessvec-data')"
      ]
     },
     "execution_count": 3,
     "metadata": {},
     "output_type": "execute_result"
    }
   ],
   "source": [
    "from pathlib import Path\n",
    "DATA_DIR = Path('~').expanduser().absolute() / 'nessvec-data'\n",
    "DATA_DIR"
   ]
  },
  {
   "cell_type": "code",
   "execution_count": 7,
   "id": "347bfe54",
   "metadata": {},
   "outputs": [],
   "source": [
    "import re\n",
    "\n",
    "def tokenize_row(row):\n",
    "    row['all_tokens'] = [\n",
    "        tok for tok in re.findall(r\"\\w+\", row['text'].lower()) if tok]\n",
    "    return row"
   ]
  },
  {
   "cell_type": "code",
   "execution_count": 8,
   "id": "faab185a",
   "metadata": {},
   "outputs": [],
   "source": [
    "BATCH_SIZE = 2**12  # 4096\n",
    "CPU_CORES = 7"
   ]
  },
  {
   "cell_type": "code",
   "execution_count": 9,
   "id": "29c19dd9",
   "metadata": {},
   "outputs": [],
   "source": [
    "WINDOW_WIDTH = 3\n",
    "EMBED_DIM = 100  # <1> Quite small, just for the tutorial"
   ]
  },
  {
   "cell_type": "code",
   "execution_count": null,
   "id": "e697072e",
   "metadata": {},
   "outputs": [],
   "source": []
  },
  {
   "cell_type": "code",
   "execution_count": 10,
   "id": "90688662",
   "metadata": {},
   "outputs": [],
   "source": [
    "import pandas as pd\n",
    "import torchtext\n",
    "\n",
    "dsets = torchtext.datasets.WikiText2()\n",
    "num_texts = 10000\n",
    "filepaths = []\n",
    "\n",
    "for name, dset in zip('train validation test'.split(), dsets):\n",
    "    df = pd.DataFrame(dsets[0], columns=['text'])\n",
    "    df['label'] = 1\n",
    "    filepaths.append(str(DATA_DIR / f'WikiText2-{name}'))\n",
    "    with open(filepaths[-1] + f'.{num_texts}.txt', 'wt') as fout:\n",
    "        fout.writelines(df['text'][:num_texts])"
   ]
  },
  {
   "cell_type": "code",
   "execution_count": 11,
   "id": "0582e049",
   "metadata": {},
   "outputs": [
    {
     "name": "stderr",
     "output_type": "stream",
     "text": [
      "WARNING:datasets.builder:Using custom data configuration default-e60dda664d838043\n"
     ]
    },
    {
     "name": "stdout",
     "output_type": "stream",
     "text": [
      "Downloading and preparing dataset text/default to /home/hobs/.cache/huggingface/datasets/text/default-e60dda664d838043/0.0.0/08f6fb1dd2dab0a18ea441c359e1d63794ea8cb53e7863e6edf8fc5655e47ec4...\n"
     ]
    },
    {
     "data": {
      "application/vnd.jupyter.widget-view+json": {
       "model_id": "fd03599640c04974a501a3b1c8c6b62b",
       "version_major": 2,
       "version_minor": 0
      },
      "text/plain": [
       "  0%|          | 0/1 [00:00<?, ?it/s]"
      ]
     },
     "metadata": {},
     "output_type": "display_data"
    },
    {
     "data": {
      "application/vnd.jupyter.widget-view+json": {
       "model_id": "5470e5737c0e4cdaba3f0c6fe41f5395",
       "version_major": 2,
       "version_minor": 0
      },
      "text/plain": [
       "  0%|          | 0/1 [00:00<?, ?it/s]"
      ]
     },
     "metadata": {},
     "output_type": "display_data"
    },
    {
     "name": "stdout",
     "output_type": "stream",
     "text": [
      "Dataset text downloaded and prepared to /home/hobs/.cache/huggingface/datasets/text/default-e60dda664d838043/0.0.0/08f6fb1dd2dab0a18ea441c359e1d63794ea8cb53e7863e6edf8fc5655e47ec4. Subsequent calls will reuse this data.\n"
     ]
    },
    {
     "data": {
      "application/vnd.jupyter.widget-view+json": {
       "model_id": "829cabae261744048b14751c58abf5af",
       "version_major": 2,
       "version_minor": 0
      },
      "text/plain": [
       "  0%|          | 0/1 [00:00<?, ?it/s]"
      ]
     },
     "metadata": {},
     "output_type": "display_data"
    }
   ],
   "source": [
    "dset = datasets.load_dataset('text', data_files=filepaths[0] + f'.{num_texts}.txt')"
   ]
  },
  {
   "cell_type": "code",
   "execution_count": null,
   "id": "ecc0ba2c",
   "metadata": {},
   "outputs": [],
   "source": []
  },
  {
   "cell_type": "code",
   "execution_count": 12,
   "id": "09adfab9",
   "metadata": {},
   "outputs": [
    {
     "ename": "NameError",
     "evalue": "name 'tokenize' is not defined",
     "output_type": "error",
     "traceback": [
      "\u001b[0;31m---------------------------------------------------------------------------\u001b[0m",
      "\u001b[0;31mNameError\u001b[0m                                 Traceback (most recent call last)",
      "Input \u001b[0;32mIn [12]\u001b[0m, in \u001b[0;36m<module>\u001b[0;34m\u001b[0m\n\u001b[0;32m----> 1\u001b[0m dset \u001b[38;5;241m=\u001b[39m dset\u001b[38;5;241m.\u001b[39mmap(\u001b[43mtokenize\u001b[49m)\n",
      "\u001b[0;31mNameError\u001b[0m: name 'tokenize' is not defined"
     ]
    }
   ],
   "source": [
    "dset = dset.map(tokenize_row)"
   ]
  },
  {
   "cell_type": "code",
   "execution_count": 33,
   "id": "7ae44777",
   "metadata": {},
   "outputs": [],
   "source": [
    "counts = Counter([i for s in dset['train']['all_tokens'] for i in s])\n",
    "counts = {k: v for k, v in counts.items() if v > 10}  # Filtering\n",
    "vocab = list(counts.keys())\n",
    "n_v = len(vocab)\n",
    "id2tok = dict(enumerate(vocab))\n",
    "tok2id = {token: id for id, token in id2tok.items()}"
   ]
  },
  {
   "cell_type": "code",
   "execution_count": 34,
   "id": "0790ac10",
   "metadata": {},
   "outputs": [],
   "source": [
    "def remove_rare_tokens(row):\n",
    "    row['tokens'] = [t for t in row['all_tokens'] if t in vocab]\n",
    "    return row"
   ]
  },
  {
   "cell_type": "code",
   "execution_count": 35,
   "id": "943e4324",
   "metadata": {},
   "outputs": [
    {
     "data": {
      "application/vnd.jupyter.widget-view+json": {
       "model_id": "552482dc7c4b40c6b967508c97475496",
       "version_major": 2,
       "version_minor": 0
      },
      "text/plain": [
       "0ex [00:00, ?ex/s]"
      ]
     },
     "metadata": {},
     "output_type": "display_data"
    }
   ],
   "source": [
    "dset = dset.map(remove_rare_tokens)"
   ]
  },
  {
   "cell_type": "code",
   "execution_count": 36,
   "id": "09b13286",
   "metadata": {},
   "outputs": [],
   "source": [
    "def windowizer(row, wsize=WINDOW_WIDTH):\n",
    "    \"\"\" Compute sentence (str) to sliding-window of skip-gram pairs. \"\"\"\n",
    "    doc = row['tokens']\n",
    "    out = []\n",
    "    for i, wd in enumerate(doc):\n",
    "        target = tok2id[wd]\n",
    "        window = [\n",
    "            i + j for j in range(-wsize, wsize + 1, 1)\n",
    "            if (i + j >= 0) & (i + j < len(doc)) & (j != 0)\n",
    "        ]\n",
    "\n",
    "        out += [(target, tok2id[doc[w]]) for w in window]\n",
    "    row['moving_window'] = out\n",
    "    return row"
   ]
  },
  {
   "cell_type": "code",
   "execution_count": 37,
   "id": "15f3dd91",
   "metadata": {},
   "outputs": [
    {
     "data": {
      "application/vnd.jupyter.widget-view+json": {
       "model_id": "f04cfb126958463ab18bb5f918e18809",
       "version_major": 2,
       "version_minor": 0
      },
      "text/plain": [
       "0ex [00:00, ?ex/s]"
      ]
     },
     "metadata": {},
     "output_type": "display_data"
    }
   ],
   "source": [
    "dset = dset.map(windowizer)"
   ]
  },
  {
   "cell_type": "code",
   "execution_count": 38,
   "id": "6e5e7c35",
   "metadata": {},
   "outputs": [],
   "source": [
    "# def neighbor_pairs(tokens, window_width=WINDOW_WIDTH):\n",
    "#     \"\"\" skip-grams: pairs of words that are within window_width of each other\n",
    "\n",
    "#     >>> neighbor_pairs('We are all one .'.split(), 3)\n",
    "#     [\n",
    "#      (We, are),\n",
    "#      (We, all),\n",
    "#      (We, one),\n",
    "#      (are, all),\n",
    "#     ...\n",
    "#     \"\"\"\n",
    "#     pairs = []\n",
    "#     for i, wd in enumerate(tokens):\n",
    "#         target = tok2id[wd]\n",
    "#         window = [\n",
    "#             i + j for j in\n",
    "#             range(-window_width, window_width + 1, 1)\n",
    "#             if (i + j >= 0)\n",
    "#             & (i + j < len(tokens))\n",
    "#             & (j != 0)\n",
    "#         ]\n",
    "\n",
    "#         pairs.extend([(target, tok2id[tokens[w]]) for w in window])\n",
    "#     # huggingface datasets are dictionaries for every text element\n",
    "#     return pairs"
   ]
  },
  {
   "cell_type": "code",
   "execution_count": 39,
   "id": "1afa5466",
   "metadata": {},
   "outputs": [],
   "source": [
    "class Word2VecDataset(Dataset):\n",
    "    \"\"\"\n",
    "    Takes a HuggingFace dataset as an input, to be used for a Word2Vec dataloader.\n",
    "    \"\"\"\n",
    "\n",
    "    def __init__(self, dataset, vocab_size, wsize=3):\n",
    "        self.dataset = dataset\n",
    "        self.vocab_size = vocab_size\n",
    "        self.data = [i for s in dataset['moving_window'] for i in s]\n",
    "\n",
    "    def __len__(self):\n",
    "        return len(self.data)\n",
    "\n",
    "    def __getitem__(self, idx):\n",
    "        return self.data[idx]"
   ]
  },
  {
   "cell_type": "code",
   "execution_count": 40,
   "id": "77ee40a1",
   "metadata": {},
   "outputs": [],
   "source": [
    "dataloader = {}\n",
    "for k in dset.keys():\n",
    "    dataloader = {\n",
    "        k: DataLoader(\n",
    "            Word2VecDataset(\n",
    "                dset[k],\n",
    "                vocab_size=n_v),\n",
    "            batch_size=BATCH_SIZE,\n",
    "            shuffle=True,\n",
    "            num_workers=CPU_CORES - 1)\n",
    "    }"
   ]
  },
  {
   "cell_type": "code",
   "execution_count": 41,
   "id": "57898d42",
   "metadata": {},
   "outputs": [],
   "source": [
    "def one_hot_encode(input_id, size):\n",
    "    vec = torch.zeros(size).float()\n",
    "    vec[input_id] = 1.0\n",
    "    return vec"
   ]
  },
  {
   "cell_type": "markdown",
   "id": "cb242e80",
   "metadata": {},
   "source": [
    "### OHE Example\n",
    "Example one-hot encoder showing the shapes of the neural network weight matrices and input dataset for a 10-word vocabulary and 3-word sentence."
   ]
  },
  {
   "cell_type": "code",
   "execution_count": 42,
   "id": "a8128e62",
   "metadata": {},
   "outputs": [
    {
     "name": "stdout",
     "output_type": "stream",
     "text": [
      "Parameter containing:\n",
      "tensor([[0., 1., 2., 3., 4., 5., 6., 7., 8., 9.]], requires_grad=True)\n",
      "tensor([3.], grad_fn=<SqueezeBackward3>)\n"
     ]
    }
   ],
   "source": [
    "ohe = one_hot_encode(input_id=3, size=10)\n",
    "linear_layer = nn.Linear(10, 1, bias=False)\n",
    "\n",
    "with torch.no_grad():\n",
    "    linear_layer.weight = torch.nn.Parameter(\n",
    "        torch.arange(10, dtype=torch.float).reshape(linear_layer.weight.shape))\n",
    "\n",
    "print(linear_layer.weight)\n",
    "print(linear_layer(ohe))"
   ]
  },
  {
   "cell_type": "markdown",
   "id": "1116394e",
   "metadata": {},
   "source": [
    "### Instantiate Word2Vec model object"
   ]
  },
  {
   "cell_type": "code",
   "execution_count": 43,
   "id": "0dc88542",
   "metadata": {},
   "outputs": [],
   "source": [
    "class Word2Vec(nn.Module):\n",
    "    def __init__(self, vocab_size, embedding_size):\n",
    "        super().__init__()\n",
    "        self.embed = nn.Embedding(vocab_size, embedding_size)\n",
    "        self.expand = nn.Linear(embedding_size, vocab_size, bias=False)\n",
    "\n",
    "    def forward(self, input):\n",
    "        # Encode input to lower-dimensional representation\n",
    "        hidden = self.embed(input)\n",
    "        # Expand hidden layer to predictions\n",
    "        logits = self.expand(hidden)\n",
    "        return logits"
   ]
  },
  {
   "cell_type": "code",
   "execution_count": 44,
   "id": "2ee6822f",
   "metadata": {},
   "outputs": [],
   "source": [
    "model = Word2Vec(n_v, EMBED_SIZE)\n",
    "\n",
    "# Relevant if you have a GPU:\n",
    "device = torch.device('cuda') if torch.cuda.is_available() else torch.device('cpu')\n",
    "model.to(device)\n",
    "\n",
    "# Define training parameters\n",
    "LR = 5e-4\n",
    "EPOCHS = 10\n",
    "loss_fn = nn.CrossEntropyLoss()\n",
    "optimizer = torch.optim.AdamW(model.parameters(), lr=LR)"
   ]
  },
  {
   "cell_type": "markdown",
   "id": "e8d4577f",
   "metadata": {},
   "source": [
    "### Train Word2Vec language model"
   ]
  },
  {
   "cell_type": "code",
   "execution_count": 21,
   "id": "63491b2b",
   "metadata": {},
   "outputs": [
    {
     "name": "stderr",
     "output_type": "stream",
     "text": [
      "loss[0] = 8.67662239074707:   0%|              | 4/5970 [00:00<14:12,  7.00it/s]"
     ]
    },
    {
     "name": "stdout",
     "output_type": "stream",
     "text": [
      "tensor([2123,   94,   13,  ...,  140,  364, 1206]) tensor([ 229, 1914, 1012,  ...,   14,  120,  253])\n"
     ]
    },
    {
     "name": "stderr",
     "output_type": "stream",
     "text": [
      "loss[0] = 7.107980251312256:  10%|█          | 600/5970 [01:10<14:31,  6.16it/s]"
     ]
    },
    {
     "name": "stdout",
     "output_type": "stream",
     "text": [
      "tensor([2087,   13,    5,  ..., 1593,   56, 3870]) tensor([  32,    8, 2687,  ..., 4708,  428,  132])\n"
     ]
    },
    {
     "name": "stderr",
     "output_type": "stream",
     "text": [
      "loss[0] = 6.509765625:  20%|███▏            | 1197/5970 [02:17<13:42,  5.80it/s]"
     ]
    },
    {
     "name": "stdout",
     "output_type": "stream",
     "text": [
      "tensor([ 517, 1643,  387,  ...,   94,   23,   13]) tensor([ 276, 3764,  261,  ...,    8,    9,  272])\n"
     ]
    },
    {
     "name": "stderr",
     "output_type": "stream",
     "text": [
      "loss[0] = 6.41121768951416:  30%|███▎       | 1794/5970 [03:25<12:54,  5.39it/s]"
     ]
    },
    {
     "name": "stdout",
     "output_type": "stream",
     "text": [
      "tensor([1862,  326, 2572,  ...,  245,   14,  386]) tensor([ 26,   5,  18,  ...,   8,  18, 387])\n"
     ]
    },
    {
     "name": "stderr",
     "output_type": "stream",
     "text": [
      "loss[0] = 6.308187961578369:  40%|████      | 2391/5970 [04:34<10:11,  5.85it/s]"
     ]
    },
    {
     "name": "stdout",
     "output_type": "stream",
     "text": [
      "tensor([4084,  226, 1760,  ..., 1755, 1761,   14]) tensor([   8,    9, 1778,  ...,    8, 1392,    9])\n"
     ]
    },
    {
     "name": "stderr",
     "output_type": "stream",
     "text": [
      "loss[0] = 6.311797142028809:  50%|█████     | 2988/5970 [05:45<09:08,  5.43it/s]"
     ]
    },
    {
     "name": "stdout",
     "output_type": "stream",
     "text": [
      "tensor([   9,  253,   17,  ..., 1351,    9, 2916]) tensor([  25,   32,   32,  ...,  495, 2365,   26])\n"
     ]
    },
    {
     "name": "stderr",
     "output_type": "stream",
     "text": [
      "loss[0] = 6.2237114906311035:  60%|█████▍   | 3585/5970 [06:54<06:52,  5.78it/s]"
     ]
    },
    {
     "name": "stdout",
     "output_type": "stream",
     "text": [
      "tensor([  41, 3101, 4526,  ...,    8, 2542,  244]) tensor([1761,    9,    8,  ..., 1716,   13,  389])\n"
     ]
    },
    {
     "name": "stderr",
     "output_type": "stream",
     "text": [
      "loss[0] = 6.250300884246826:  70%|███████   | 4182/5970 [08:04<05:11,  5.75it/s]"
     ]
    },
    {
     "name": "stdout",
     "output_type": "stream",
     "text": [
      "tensor([1512,   26,  372,  ...,    9, 2118,   35]) tensor([ 253,  102,  229,  ..., 4745,  116, 1879])\n"
     ]
    },
    {
     "name": "stderr",
     "output_type": "stream",
     "text": [
      "loss[0] = 6.29862117767334:  80%|████████▊  | 4779/5970 [09:13<03:25,  5.79it/s]"
     ]
    },
    {
     "name": "stdout",
     "output_type": "stream",
     "text": [
      "tensor([  91, 4574,    9,  ...,  418,  269,  223]) tensor([2561,  223,    8,  ..., 1084,   25,    9])\n"
     ]
    },
    {
     "name": "stderr",
     "output_type": "stream",
     "text": [
      "loss[0] = 6.220264911651611:  90%|█████████ | 5376/5970 [10:24<01:48,  5.47it/s]"
     ]
    },
    {
     "name": "stdout",
     "output_type": "stream",
     "text": [
      "tensor([  26,  120, 3233,  ...,   32, 1635,  112]) tensor([1078, 2409,    9,  ...,  983,   18, 4087])\n"
     ]
    },
    {
     "name": "stderr",
     "output_type": "stream",
     "text": [
      "loss[0] = 6.220264911651611: 100%|█████████▉| 5969/5970 [11:33<00:00,  8.25it/s]"
     ]
    },
    {
     "ename": "NameError",
     "evalue": "name 'save_model' is not defined",
     "output_type": "error",
     "traceback": [
      "\u001b[0;31m---------------------------------------------------------------------------\u001b[0m",
      "\u001b[0;31mNameError\u001b[0m                                 Traceback (most recent call last)",
      "Input \u001b[0;32mIn [21]\u001b[0m, in \u001b[0;36m<module>\u001b[0;34m\u001b[0m\n\u001b[1;32m     23\u001b[0m     epoch_loss \u001b[38;5;241m/\u001b[39m\u001b[38;5;241m=\u001b[39m \u001b[38;5;28mlen\u001b[39m(dataloader[\u001b[38;5;124m'\u001b[39m\u001b[38;5;124mtrain\u001b[39m\u001b[38;5;124m'\u001b[39m])\n\u001b[1;32m     24\u001b[0m     running_loss\u001b[38;5;241m.\u001b[39mappend(epoch_loss)\n\u001b[0;32m---> 26\u001b[0m \u001b[43msave_model\u001b[49m(model, loss)\n",
      "\u001b[0;31mNameError\u001b[0m: name 'save_model' is not defined"
     ]
    }
   ],
   "source": [
    "from tqdm import tqdm  # noqa\n",
    "running_loss = []\n",
    "\n",
    "pbar = tqdm(range(EPOCHS * len(dataloader['train'])))\n",
    "for epoch in range(EPOCHS):\n",
    "    epoch_loss = 0\n",
    "    for sample_num, (center, context) in enumerate(dataloader['train']):\n",
    "        if sample_num % len(dataloader['train']) == 2:\n",
    "            print(center, context)\n",
    "            # center: tensor([ 229,    0, 2379,  ...,  402,  553,  521])\n",
    "            # context: tensor([ 112, 1734,  802,  ...,   28,  852,  363])\n",
    "        center, context = center.to(device), context.to(device)\n",
    "        optimizer.zero_grad()\n",
    "        logits = model(input=context)\n",
    "        loss = loss_fn(logits, center)\n",
    "        if not sample_num % 10000:\n",
    "            # print(center, context)\n",
    "            pbar.set_description(f'loss[{sample_num}] = {loss.item()}')\n",
    "        epoch_loss += loss.item()\n",
    "        loss.backward()\n",
    "        optimizer.step()\n",
    "        pbar.update(1)\n",
    "    epoch_loss /= len(dataloader['train'])\n",
    "    running_loss.append(epoch_loss)\n",
    "\n",
    "save_model(model, loss)"
   ]
  },
  {
   "cell_type": "code",
   "execution_count": 59,
   "id": "123fb780",
   "metadata": {},
   "outputs": [],
   "source": [
    "def save_model(model, loss=torch.tensor(float(\"NaN\")), name='Word2Vec', model_dir=Path(DATA_DIR) / 'models'):\n",
    "    \"\"\" Save the model with a unique timestamped filename including shape and loss \"\"\"\n",
    "    try:\n",
    "        loss = loss.item()\n",
    "    except AttributeError:\n",
    "        pass\n",
    "    model_dir.mkdir(exist_ok=True)\n",
    "\n",
    "    num_embeddings, embedding_dim = model.state_dict()[\"embed.weight\"].shape\n",
    "    now = datetime.datetime.now()\n",
    "\n",
    "    # filename = f'Word2Vec-state_dict-{now.isoformat()[:13]}.pt'\n",
    "    # filename = f'Word2Vec-state_dict-{num_embeddings}x{embedding_dim}+{embedding_dim}x{num_embeddings}.pt'\n",
    "    filename = f'{name}-state_dict-{num_embeddings}x{embedding_dim}-{now.isoformat()[:13]}-loss_{loss}.pt'\n",
    "\n",
    "    torch.save(model.state_dict(), model_dir / filename)\n",
    "    return model_dir / filename"
   ]
  },
  {
   "cell_type": "code",
   "execution_count": 60,
   "id": "d1393bbb",
   "metadata": {},
   "outputs": [
    {
     "name": "stdout",
     "output_type": "stream",
     "text": [
      "4943x100\n"
     ]
    },
    {
     "data": {
      "text/plain": [
       "PosixPath('/home/hobs/nessvec-data/models/Word2Vec-state_dict-4943x100-2022-02-22T22-loss_6.232699871063232.pt')"
      ]
     },
     "execution_count": 60,
     "metadata": {},
     "output_type": "execute_result"
    }
   ],
   "source": [
    "save_model(model, loss)"
   ]
  },
  {
   "cell_type": "code",
   "execution_count": 55,
   "id": "bc910a37",
   "metadata": {},
   "outputs": [
    {
     "data": {
      "text/plain": [
       "torch.Size([4943, 100])"
      ]
     },
     "execution_count": 55,
     "metadata": {},
     "output_type": "execute_result"
    }
   ],
   "source": [
    "model.state_dict()[\"expand.weight\"].shape"
   ]
  },
  {
   "cell_type": "markdown",
   "id": "4bb858cd",
   "metadata": {},
   "source": [
    "### Learning curve"
   ]
  },
  {
   "cell_type": "code",
   "execution_count": 61,
   "id": "e3fd0268",
   "metadata": {},
   "outputs": [
    {
     "data": {
      "image/png": "[encoded data removed]",
      "text/plain": [
       "<Figure size 432x288 with 1 Axes>"
      ]
     },
     "metadata": {},
     "output_type": "display_data"
    },
    {
     "data": {
      "image/png": "[encoded data removed]",
      "text/plain": [
       "<Figure size 432x288 with 1 Axes>"
      ]
     },
     "metadata": {},
     "output_type": "display_data"
    }
   ],
   "source": [
    "import seaborn as sns  # noqa\n",
    "import matplotlib.pyplot as plt  # noqa\n",
    "sns.set_theme()\n",
    "plt.plot(running_loss)\n",
    "plt.show(block=False)\n",
    "\n",
    "sns.set_theme()\n",
    "# sns.set_style('whitegrid')\n",
    "# learning curve\n",
    "plt.grid('on')\n",
    "plt.xlabel('Epoch')\n",
    "plt.ylabel('Loss')\n",
    "plt.show(block=False)"
   ]
  },
  {
   "cell_type": "code",
   "execution_count": 64,
   "id": "18d84309",
   "metadata": {},
   "outputs": [
    {
     "name": "stdout",
     "output_type": "stream",
     "text": [
      "father ['mother', 'own', 'name', 'book', 'him', 'career', 'family', 'john', 'life', 'role'] \n",
      "\n",
      "mother ['brother', 'father', 'parents', 'wife', 'personal', 'jack', 'brothers', 'children', 'name', 'friend'] \n",
      "\n",
      "writer ['james', 'self', 'executive', 'wheeler', 'making', 'album', 'studio', 'entertainment', 'nesbitt', 'cover'] \n",
      "\n",
      "woman ['me', 'care', 'looking', 'love', 'serious', 'got', 'tell', 'makes', 'want', 'know'] \n",
      "\n",
      "man ['who', 'bass', 'as', 'an', 'is', 'he', 'however', 'was', 'long', 'she'] \n",
      "\n",
      "black ['is', 'be', 'not', 'white', 'that', 'are', 'often', 'also', 'it', 'this'] \n",
      "\n",
      "japanese ['contest', 'spear', 'portion', 'mayor', 'chutzpah', 'table', 'crescent', 'frederick', 'orozco', 'complicated'] \n",
      "\n",
      "men ['were', 'other', 'are', 'their', 'two', 'some', 'more', 'people', 'of', 'and'] \n",
      "\n",
      "women ['show', 'league', 'team', 'football', 'underground', 'national', 'men', 'teams', 'best', 'television'] \n",
      "\n",
      "people ['about', 'more', 'some', 'are', 'have', 'or', 'all', 'were', 'they', 'to'] \n",
      "\n",
      "person ['process', 'believe', 'particular', 'true', 'changes', 'write', 'specific', 'might', 'moral', 'unique'] \n",
      "\n"
     ]
    }
   ],
   "source": [
    "###################################################\n",
    "# Evaluation (word semantic similarity)\n",
    "\n",
    "###################################################\n",
    "# Vectors = embedding layer model weights\n",
    "\n",
    "wordvecs = model.expand.weight.cpu().detach().numpy()\n",
    "tokens = ['father', 'mother', 'writer', 'woman', 'man', 'black', 'japanese', 'men', 'women', 'people', 'person']\n",
    "\n",
    "# Vectors = embedding layer model weights\n",
    "###################################################\n",
    "\n",
    "\n",
    "\n",
    "from scipy.spatial import distance  # noqa\n",
    "import numpy as np  # noqa\n",
    "\n",
    "\n",
    "def get_distance_matrix(wordvecs, metric):\n",
    "    dist_matrix = distance.squareform(distance.pdist(wordvecs, metric))\n",
    "    return dist_matrix\n",
    "\n",
    "\n",
    "def get_k_similar_words(word, dist_matrix, k=10):\n",
    "    idx = tok2id[word]\n",
    "    dists = dist_matrix[idx]\n",
    "    ind = np.argpartition(dists, k)[:k + 1]\n",
    "    ind = ind[np.argsort(dists[ind])][1:]\n",
    "    out = [(i, id2tok[i], dists[i]) for i in ind]\n",
    "    return out\n",
    "\n",
    "\n",
    "dmat = get_distance_matrix(wordvecs, 'cosine')\n",
    "for word in tokens:\n",
    "    print(word, [t[1] for t in get_k_similar_words(word, dmat)], \"\\n\")"
   ]
  },
  {
   "cell_type": "code",
   "execution_count": 1,
   "id": "041640ac",
   "metadata": {},
   "outputs": [
    {
     "ename": "NameError",
     "evalue": "name 'tok2id' is not defined",
     "output_type": "error",
     "traceback": [
      "\u001b[0;31m---------------------------------------------------------------------------\u001b[0m",
      "\u001b[0;31mNameError\u001b[0m                                 Traceback (most recent call last)",
      "Input \u001b[0;32mIn [1]\u001b[0m, in \u001b[0;36m<module>\u001b[0;34m\u001b[0m\n\u001b[0;32m----> 1\u001b[0m \u001b[43mtok2id\u001b[49m\u001b[38;5;241m.\u001b[39mitems(\u001b[38;5;241m10\u001b[39m)\n",
      "\u001b[0;31mNameError\u001b[0m: name 'tok2id' is not defined"
     ]
    }
   ],
   "source": [
    "tok2id.items(10)\n"
   ]
  },
  {
   "cell_type": "code",
   "execution_count": null,
   "id": "70a82b24",
   "metadata": {},
   "outputs": [],
   "source": []
  }
 ],
 "metadata": {
  "kernelspec": {
   "display_name": "Python 3 (ipykernel)",
   "language": "python",
   "name": "python3"
  },
  "language_info": {
   "codemirror_mode": {
    "name": "ipython",
    "version": 3
   },
   "file_extension": ".py",
   "mimetype": "text/x-python",
   "name": "python",
   "nbconvert_exporter": "python",
   "pygments_lexer": "ipython3",
   "version": "3.9.7"
  }
 },
 "nbformat": 4,
 "nbformat_minor": 5
}
