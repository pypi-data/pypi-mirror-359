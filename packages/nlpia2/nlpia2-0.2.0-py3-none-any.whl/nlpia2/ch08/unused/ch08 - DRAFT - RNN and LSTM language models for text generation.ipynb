{
 "cells": [
  {
   "cell_type": "markdown",
   "id": "2d371533",
   "metadata": {},
   "source": [
    "## References\n",
    "- [analyticsvidhya.com/blog](https://www.analyticsvidhya.com/blog/2020/08/build-a-natural-language-generation-nlg-system-using-pytorch/)\n",
    "- [drive.google.com ... plots_text.pickle](https://drive.google.com/file/d/1PakdWMKYNyC5-2G_CSlLtkBsHezFpMHJ/view)"
   ]
  },
  {
   "cell_type": "code",
   "execution_count": 1,
   "id": "7009c119",
   "metadata": {},
   "outputs": [
    {
     "data": {
      "text/plain": [
       "500"
      ]
     },
     "execution_count": 1,
     "metadata": {},
     "output_type": "execute_result"
    }
   ],
   "source": [
    "import pickle\n",
    "\n",
    "from nessvec.constants import DATA_DIR\n",
    "\n",
    "with (DATA_DIR / \"corpora\" / \"cmu_movie_plots.pickle\").open('rb') as fin:\n",
    "    movie_plots = pickle.load(fin)\n",
    "\n",
    "len(movie_plots)"
   ]
  },
  {
   "cell_type": "code",
   "execution_count": 2,
   "id": "362aa207",
   "metadata": {},
   "outputs": [
    {
     "data": {
      "text/html": [
       "<div>\n",
       "<style scoped>\n",
       "    .dataframe tbody tr th:only-of-type {\n",
       "        vertical-align: middle;\n",
       "    }\n",
       "\n",
       "    .dataframe tbody tr th {\n",
       "        vertical-align: top;\n",
       "    }\n",
       "\n",
       "    .dataframe thead th {\n",
       "        text-align: right;\n",
       "    }\n",
       "</style>\n",
       "<table border=\"1\" class=\"dataframe\">\n",
       "  <thead>\n",
       "    <tr style=\"text-align: right;\">\n",
       "      <th></th>\n",
       "      <th>text</th>\n",
       "    </tr>\n",
       "  </thead>\n",
       "  <tbody>\n",
       "    <tr>\n",
       "      <th>0</th>\n",
       "      <td>barry is a private with the 101st airborne div...</td>\n",
       "    </tr>\n",
       "    <tr>\n",
       "      <th>1</th>\n",
       "      <td>chinese exorcist one-eyebrow priest  leads a p...</td>\n",
       "    </tr>\n",
       "    <tr>\n",
       "      <th>2</th>\n",
       "      <td>while playing baseball on a busy street in gre...</td>\n",
       "    </tr>\n",
       "    <tr>\n",
       "      <th>3</th>\n",
       "      <td>thadeous and fabious ([[danny mcbride  are son...</td>\n",
       "    </tr>\n",
       "    <tr>\n",
       "      <th>4</th>\n",
       "      <td>{{plot}} jung su-ji is a quiet, mysterious bea...</td>\n",
       "    </tr>\n",
       "  </tbody>\n",
       "</table>\n",
       "</div>"
      ],
      "text/plain": [
       "                                                text\n",
       "0  barry is a private with the 101st airborne div...\n",
       "1  chinese exorcist one-eyebrow priest  leads a p...\n",
       "2  while playing baseball on a busy street in gre...\n",
       "3  thadeous and fabious ([[danny mcbride  are son...\n",
       "4  {{plot}} jung su-ji is a quiet, mysterious bea..."
      ]
     },
     "execution_count": 2,
     "metadata": {},
     "output_type": "execute_result"
    }
   ],
   "source": [
    "import pandas as pd\n",
    "import numpy as np\n",
    "np.random.seed(451)\n",
    "\n",
    "df = pd.DataFrame(movie_plots, columns=['text'])\n",
    "df.head()"
   ]
  },
  {
   "cell_type": "code",
   "execution_count": null,
   "id": "75061812",
   "metadata": {},
   "outputs": [],
   "source": []
  },
  {
   "cell_type": "code",
   "execution_count": 3,
   "id": "4e9e34b1",
   "metadata": {},
   "outputs": [],
   "source": [
    "import re\n",
    "\n",
    "\n",
    "def tokenize(text, pattern=r'\\w+(?:\\'\\w+)?|[^\\w\\s]'):\n",
    "    r\"\"\" Split English text into words, ignoring 1 internal punctuation\"\n",
    "\n",
    "    `return list(re.findall(r'\\w+(?:\\'\\w+)?|[^\\w\\s]', text))`\n",
    "    \"\"\"\n",
    "    return list(re.findall(pattern, text))\n",
    "\n",
    "\n",
    "def create_seq(text, seq_len=5):\n",
    "    sequences = []\n",
    "    tokens = tokenize(text)\n",
    "    if len(tokens) > seq_len:\n",
    "        for i in range(seq_len, len(tokens)):\n",
    "            ngram = tokens[i - seq_len:i + 1]\n",
    "            sequences.append(\" \".join(ngram))  \n",
    "    else:\n",
    "        sequences = [\" \".join(tokens)]\n",
    "    return sequences"
   ]
  },
  {
   "cell_type": "code",
   "execution_count": 4,
   "id": "ab312854",
   "metadata": {},
   "outputs": [
    {
     "data": {
      "text/plain": [
       "'a village in rural thailand is celebrating loy krathong, when the festivities are disrupted by the d...'"
      ]
     },
     "execution_count": 4,
     "metadata": {},
     "output_type": "execute_result"
    }
   ],
   "source": [
    "movie_plots[-1][:100] + '...'\n"
   ]
  },
  {
   "cell_type": "code",
   "execution_count": 5,
   "id": "dab9dfc5",
   "metadata": {},
   "outputs": [
    {
     "data": {
      "text/plain": [
       "12394           rope\n",
       "3069     concurrence\n",
       "14150        suppose\n",
       "4738         elegant\n",
       "3107        conflict\n",
       "dtype: object"
      ]
     },
     "execution_count": 5,
     "metadata": {},
     "output_type": "execute_result"
    }
   ],
   "source": [
    "from itertools import chain\n",
    "\n",
    "vocab = sorted(set(chain(*(set(tokenize(s)) for s in movie_plots))))\n",
    "int2token = pd.Series(vocab)\n",
    "token2int = pd.Series(int2token.index.values, index=int2token.values)\n",
    "int2token.sample(5)"
   ]
  },
  {
   "cell_type": "code",
   "execution_count": 6,
   "id": "c2ca5cca",
   "metadata": {},
   "outputs": [
    {
     "data": {
      "text/plain": [
       "['a village in rural thailand is',\n",
       " 'village in rural thailand is celebrating',\n",
       " 'in rural thailand is celebrating loy']"
      ]
     },
     "execution_count": 6,
     "metadata": {},
     "output_type": "execute_result"
    }
   ],
   "source": [
    "five_grams = create_seq(movie_plots[-1])\n",
    "five_grams[:3]"
   ]
  },
  {
   "cell_type": "code",
   "execution_count": null,
   "id": "14d03151",
   "metadata": {},
   "outputs": [],
   "source": []
  }
 ],
 "metadata": {
  "kernelspec": {
   "display_name": "Python 3 (ipykernel)",
   "language": "python",
   "name": "python3"
  },
  "language_info": {
   "codemirror_mode": {
    "name": "ipython",
    "version": 3
   },
   "file_extension": ".py",
   "mimetype": "text/x-python",
   "name": "python",
   "nbconvert_exporter": "python",
   "pygments_lexer": "ipython3",
   "version": "3.9.7"
  }
 },
 "nbformat": 4,
 "nbformat_minor": 5
}
