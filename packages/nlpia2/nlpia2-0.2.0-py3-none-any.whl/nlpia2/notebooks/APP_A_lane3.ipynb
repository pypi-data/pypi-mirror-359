{
 "cells": [
  {
   "cell_type": "markdown",
   "id": "71a28bfa",
   "metadata": {},
   "source": [
    "#### [APP_A_lane3](/home/hobs/code/hobs/nlpia-manuscript/manuscript/adoc/APP_A_lane3.adoc)"
   ]
  }
 ],
 "metadata": {},
 "nbformat": 4,
 "nbformat_minor": 5
}
