{
 "cells": [
  {
   "cell_type": "markdown",
   "id": "4668d9e7",
   "metadata": {},
   "source": [
    "#### [APP_B_lane3](/home/hobs/code/hobs/nlpia-manuscript/manuscript/adoc/APP_B_lane3.adoc)"
   ]
  },
  {
   "cell_type": "markdown",
   "id": "a775169d",
   "metadata": {},
   "source": [
    "#### "
   ]
  },
  {
   "cell_type": "code",
   "execution_count": null,
   "id": "89c2bad5",
   "metadata": {},
   "outputs": [],
   "source": [
    "hist -f my_new_python_program.py"
   ]
  },
  {
   "cell_type": "markdown",
   "id": "5734756b",
   "metadata": {},
   "source": [
    "#### "
   ]
  },
  {
   "cell_type": "code",
   "execution_count": null,
   "id": "73a69e9e",
   "metadata": {},
   "outputs": [],
   "source": [
    "re.findall(r'H|Hobson|Cole', 'Hobson Lane, Cole Howard, and Hannes Max Hapke')"
   ]
  },
  {
   "cell_type": "markdown",
   "id": "3e120d48",
   "metadata": {},
   "source": [
    "#### "
   ]
  },
  {
   "cell_type": "code",
   "execution_count": null,
   "id": "a3f9b957",
   "metadata": {},
   "outputs": [],
   "source": [
    "import re\n",
    "match = re.match(r'(kitt|dogg)y', \"doggy\")\n",
    "match.group()"
   ]
  },
  {
   "cell_type": "markdown",
   "id": "19d1a2e4",
   "metadata": {},
   "source": [
    "#### "
   ]
  },
  {
   "cell_type": "code",
   "execution_count": null,
   "id": "2a6e766c",
   "metadata": {},
   "outputs": [],
   "source": [
    "match.group(0)"
   ]
  },
  {
   "cell_type": "markdown",
   "id": "656f97ec",
   "metadata": {},
   "source": [
    "#### "
   ]
  },
  {
   "cell_type": "code",
   "execution_count": null,
   "id": "02cc9536",
   "metadata": {},
   "outputs": [],
   "source": [
    "match.groups()"
   ]
  },
  {
   "cell_type": "markdown",
   "id": "91a08a87",
   "metadata": {},
   "source": [
    "#### "
   ]
  },
  {
   "cell_type": "code",
   "execution_count": null,
   "id": "a7a7ad8f",
   "metadata": {},
   "outputs": [],
   "source": [
    "match = re.match(r'((kitt|dogg)(y))', \"doggy\")  # <1>\n",
    "match.groups()"
   ]
  },
  {
   "cell_type": "markdown",
   "id": "9007a577",
   "metadata": {},
   "source": [
    "#### "
   ]
  },
  {
   "cell_type": "code",
   "execution_count": null,
   "id": "7e96d854",
   "metadata": {},
   "outputs": [],
   "source": [
    "match.group(2)"
   ]
  }
 ],
 "metadata": {},
 "nbformat": 4,
 "nbformat_minor": 5
}
