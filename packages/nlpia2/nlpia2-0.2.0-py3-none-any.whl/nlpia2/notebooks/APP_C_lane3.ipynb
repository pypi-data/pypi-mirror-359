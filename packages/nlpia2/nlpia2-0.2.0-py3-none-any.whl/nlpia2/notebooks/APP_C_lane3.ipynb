{
 "cells": [
  {
   "cell_type": "markdown",
   "id": "9ddba7d3",
   "metadata": {},
   "source": [
    "#### [APP_C_lane3](/home/hobs/code/hobs/nlpia-manuscript/manuscript/adoc/APP_C_lane3.adoc)"
   ]
  },
  {
   "cell_type": "markdown",
   "id": "2faeb81e",
   "metadata": {},
   "source": [
    "#### .Creating a vector"
   ]
  },
  {
   "cell_type": "code",
   "execution_count": null,
   "id": "d917b3b3",
   "metadata": {},
   "outputs": [],
   "source": [
    "import numpy as np\n",
    "np.array(range(4))  # <1>"
   ]
  },
  {
   "cell_type": "markdown",
   "id": "cfc5fc4c",
   "metadata": {},
   "source": [
    "#### .Creating a vector"
   ]
  },
  {
   "cell_type": "code",
   "execution_count": null,
   "id": "55ae3dad",
   "metadata": {},
   "outputs": [],
   "source": [
    "x = np.range(4)  # <2>\n",
    "x"
   ]
  },
  {
   "cell_type": "markdown",
   "id": "17f9cc03",
   "metadata": {},
   "source": [
    "#### .Creating a vector"
   ]
  },
  {
   "cell_type": "code",
   "execution_count": null,
   "id": "49a3ec23",
   "metadata": {},
   "outputs": [],
   "source": [
    "x[3] = 4  # <3>\n",
    "x"
   ]
  },
  {
   "cell_type": "markdown",
   "id": "99f7a11a",
   "metadata": {},
   "source": [
    "#### .Creating a vector"
   ]
  },
  {
   "cell_type": "code",
   "execution_count": null,
   "id": "fa9d7eb5",
   "metadata": {},
   "outputs": [],
   "source": [
    "x * 2  # <4>"
   ]
  },
  {
   "cell_type": "markdown",
   "id": "ba6ad666",
   "metadata": {},
   "source": [
    "#### .Creating a vector"
   ]
  },
  {
   "cell_type": "code",
   "execution_count": null,
   "id": "49732b67",
   "metadata": {},
   "outputs": [],
   "source": [
    "x = np.array([3,4])\n",
    "np.linalg.norm(x)"
   ]
  },
  {
   "cell_type": "markdown",
   "id": "764cec10",
   "metadata": {},
   "source": [
    "#### .Creating a vector"
   ]
  },
  {
   "cell_type": "code",
   "execution_count": null,
   "id": "cdf8570b",
   "metadata": {},
   "outputs": [],
   "source": [
    "y = x*2\n",
    "y"
   ]
  },
  {
   "cell_type": "markdown",
   "id": "43d393a0",
   "metadata": {},
   "source": [
    "#### .Creating a vector"
   ]
  },
  {
   "cell_type": "code",
   "execution_count": null,
   "id": "a9c949ef",
   "metadata": {},
   "outputs": [],
   "source": [
    "np.linalg.norm(y)"
   ]
  },
  {
   "cell_type": "markdown",
   "id": "aef02bda",
   "metadata": {},
   "source": [
    "#### .Creating a vector"
   ]
  },
  {
   "cell_type": "code",
   "execution_count": null,
   "id": "c27472b9",
   "metadata": {},
   "outputs": [],
   "source": [
    "x_normalized = x / np.linalg.norm(x)\n",
    "x_normalized"
   ]
  },
  {
   "cell_type": "markdown",
   "id": "9f440148",
   "metadata": {},
   "source": [
    "#### .Creating a vector"
   ]
  },
  {
   "cell_type": "code",
   "execution_count": null,
   "id": "7266d4cb",
   "metadata": {},
   "outputs": [],
   "source": [
    "np.linalg.norm(x_normalized)"
   ]
  },
  {
   "cell_type": "markdown",
   "id": "fa864f7e",
   "metadata": {},
   "source": [
    "#### .Vector difference"
   ]
  },
  {
   "cell_type": "code",
   "execution_count": null,
   "id": "231943da",
   "metadata": {},
   "outputs": [],
   "source": [
    "a = np.array([1, 1])\n",
    "b = np.array([4, 8])\n",
    "b - a"
   ]
  },
  {
   "cell_type": "markdown",
   "id": "0849765a",
   "metadata": {},
   "source": [
    "#### .Vector difference"
   ]
  },
  {
   "cell_type": "code",
   "execution_count": null,
   "id": "20ffba15",
   "metadata": {},
   "outputs": [],
   "source": [
    "X = np.array([a, b])\n",
    "np.diff(X, axis=0)"
   ]
  },
  {
   "cell_type": "markdown",
   "id": "b32f1793",
   "metadata": {},
   "source": [
    "#### .Vector difference"
   ]
  },
  {
   "cell_type": "code",
   "execution_count": null,
   "id": "4d87510f",
   "metadata": {},
   "outputs": [],
   "source": [
    "d = b - a\n",
    "d.sum()"
   ]
  },
  {
   "cell_type": "markdown",
   "id": "6988e35a",
   "metadata": {},
   "source": [
    "#### .Vector difference"
   ]
  },
  {
   "cell_type": "code",
   "execution_count": null,
   "id": "8f144e63",
   "metadata": {},
   "outputs": [],
   "source": [
    "np.abs(a - b).sum()"
   ]
  },
  {
   "cell_type": "markdown",
   "id": "269890b4",
   "metadata": {},
   "source": [
    "#### .Vector difference"
   ]
  },
  {
   "cell_type": "code",
   "execution_count": null,
   "id": "08012645",
   "metadata": {},
   "outputs": [],
   "source": [
    "r = np.random.rand(300)\n",
    "s = np.random.rand(300)\n",
    "l1 = np.abs(r - s).sum()  # <1>\n",
    "l1"
   ]
  },
  {
   "cell_type": "markdown",
   "id": "fb1274f1",
   "metadata": {},
   "source": [
    "#### .Vector difference"
   ]
  },
  {
   "cell_type": "code",
   "execution_count": null,
   "id": "f64bf4a0",
   "metadata": {},
   "outputs": [],
   "source": [
    "euclidean_distance = np.sqrt(sum((vector1 - vector2) ** 2))"
   ]
  },
  {
   "cell_type": "markdown",
   "id": "4c9d96c2",
   "metadata": {},
   "source": [
    "#### .Cosine distance"
   ]
  },
  {
   "cell_type": "code",
   "execution_count": null,
   "id": "1f42de75",
   "metadata": {},
   "outputs": [],
   "source": [
    "import numpy as np\n",
    "vector_query = np.array([1, 1])  # <1>\n",
    "vector_tc = np.array([1, 0])     # <2>\n",
    "vector_wired = np.array([5, 6])  # <3>"
   ]
  },
  {
   "cell_type": "markdown",
   "id": "32d489e1",
   "metadata": {},
   "source": [
    "#### .Cosine distance"
   ]
  },
  {
   "cell_type": "code",
   "execution_count": null,
   "id": "e5b538da",
   "metadata": {},
   "outputs": [],
   "source": [
    "normalized_query = vector_query / np.linalg.norm(vector_query)\n",
    "normalized_query"
   ]
  },
  {
   "cell_type": "markdown",
   "id": "abfbca82",
   "metadata": {},
   "source": [
    "#### .Cosine distance"
   ]
  },
  {
   "cell_type": "code",
   "execution_count": null,
   "id": "aa52075f",
   "metadata": {},
   "outputs": [],
   "source": [
    "normalized_tc = vector_tc / np.linalg.norm(vector_tc)\n",
    "normalized_tc"
   ]
  },
  {
   "cell_type": "markdown",
   "id": "cf82ce8c",
   "metadata": {},
   "source": [
    "#### .Cosine distance"
   ]
  },
  {
   "cell_type": "code",
   "execution_count": null,
   "id": "6cff9533",
   "metadata": {},
   "outputs": [],
   "source": [
    "normalized_wired = vector_wired / np.linalg.norm(vector_wired)\n",
    "normalized_wired"
   ]
  },
  {
   "cell_type": "markdown",
   "id": "0cd57574",
   "metadata": {},
   "source": [
    "#### .Cosine distance"
   ]
  },
  {
   "cell_type": "code",
   "execution_count": null,
   "id": "e4903c1e",
   "metadata": {},
   "outputs": [],
   "source": [
    "np.dot(normalized_query, normalized_tc)  # <1>"
   ]
  },
  {
   "cell_type": "markdown",
   "id": "579816ca",
   "metadata": {},
   "source": [
    "#### .Cosine distance"
   ]
  },
  {
   "cell_type": "code",
   "execution_count": null,
   "id": "371ca5ef",
   "metadata": {},
   "outputs": [],
   "source": [
    "np.dot(normalized_query, normalized_wired)  # <2>"
   ]
  },
  {
   "cell_type": "markdown",
   "id": "cbc88869",
   "metadata": {},
   "source": [
    "#### .Cosine distance"
   ]
  },
  {
   "cell_type": "code",
   "execution_count": null,
   "id": "a43bb070",
   "metadata": {},
   "outputs": [],
   "source": [
    "1 - np.dot(normalized_query, normalized_tc)  # cosine distance"
   ]
  },
  {
   "cell_type": "markdown",
   "id": "0cb6c131",
   "metadata": {},
   "source": [
    "#### .Cosine distance"
   ]
  },
  {
   "cell_type": "code",
   "execution_count": null,
   "id": "54e2808f",
   "metadata": {},
   "outputs": [],
   "source": [
    "1 - np.dot(normalized_query, normalized_wired)  # cosine distance"
   ]
  },
  {
   "cell_type": "markdown",
   "id": "13ee777d",
   "metadata": {},
   "source": [
    "#### "
   ]
  },
  {
   "cell_type": "code",
   "execution_count": null,
   "id": "eab931b8",
   "metadata": {},
   "outputs": [],
   "source": [
    "a = np.array([1, 3, 5, 7])\n",
    "b = np.array([2, 4, 6, 8])\n",
    "a * b"
   ]
  },
  {
   "cell_type": "markdown",
   "id": "3d7be5ce",
   "metadata": {},
   "source": [
    "#### "
   ]
  },
  {
   "cell_type": "code",
   "execution_count": null,
   "id": "028d71ec",
   "metadata": {},
   "outputs": [],
   "source": [
    "(a * b).sum()"
   ]
  },
  {
   "cell_type": "markdown",
   "id": "aa33818f",
   "metadata": {},
   "source": [
    "#### "
   ]
  },
  {
   "cell_type": "code",
   "execution_count": null,
   "id": "b011f60a",
   "metadata": {},
   "outputs": [],
   "source": [
    "np.dot(a, b)"
   ]
  },
  {
   "cell_type": "markdown",
   "id": "ab7c189c",
   "metadata": {},
   "source": [
    "#### "
   ]
  },
  {
   "cell_type": "code",
   "execution_count": null,
   "id": "efa3a99f",
   "metadata": {},
   "outputs": [],
   "source": [
    "X = np.array([range(4), range(4, 8)])\n",
    "X  # <1>\n",
    "array([[0, 1, 2, 3],"
   ]
  },
  {
   "cell_type": "markdown",
   "id": "7f0e6b7f",
   "metadata": {},
   "source": [
    "#### "
   ]
  },
  {
   "cell_type": "code",
   "execution_count": null,
   "id": "13839e7b",
   "metadata": {},
   "outputs": [],
   "source": [
    "X.shape"
   ]
  },
  {
   "cell_type": "markdown",
   "id": "2ac6e213",
   "metadata": {},
   "source": [
    "#### "
   ]
  },
  {
   "cell_type": "code",
   "execution_count": null,
   "id": "e56fa2e4",
   "metadata": {},
   "outputs": [],
   "source": [
    "X"
   ]
  },
  {
   "cell_type": "markdown",
   "id": "904e3d92",
   "metadata": {},
   "source": [
    "#### "
   ]
  },
  {
   "cell_type": "code",
   "execution_count": null,
   "id": "97fac610",
   "metadata": {},
   "outputs": [],
   "source": [
    "X.T  # <1>"
   ]
  },
  {
   "cell_type": "markdown",
   "id": "588737af",
   "metadata": {},
   "source": [
    "#### "
   ]
  },
  {
   "cell_type": "code",
   "execution_count": null,
   "id": "91e74c49",
   "metadata": {},
   "outputs": [],
   "source": [
    "X.T.shape"
   ]
  },
  {
   "cell_type": "markdown",
   "id": "a04a6fce",
   "metadata": {},
   "source": [
    "#### "
   ]
  },
  {
   "cell_type": "code",
   "execution_count": null,
   "id": "3299fb4c",
   "metadata": {},
   "outputs": [],
   "source": [
    "A = np.array([[1, 2, 3],\n",
    "              [4, 5, 6]])\n",
    "A.shape"
   ]
  },
  {
   "cell_type": "markdown",
   "id": "ac2d610d",
   "metadata": {},
   "source": [
    "#### "
   ]
  },
  {
   "cell_type": "code",
   "execution_count": null,
   "id": "9111b0ec",
   "metadata": {},
   "outputs": [],
   "source": [
    "B = np.array([[1, 2],\n",
    "              [3, 4],\n",
    "              [5, 6]])\n",
    "B.shape"
   ]
  },
  {
   "cell_type": "markdown",
   "id": "79aa5eb8",
   "metadata": {},
   "source": [
    "#### "
   ]
  },
  {
   "cell_type": "code",
   "execution_count": null,
   "id": "a21a5af0",
   "metadata": {},
   "outputs": [],
   "source": [
    "C = np.matmul(A, B)  # <1>\n",
    "C"
   ]
  },
  {
   "cell_type": "markdown",
   "id": "5db79fd4",
   "metadata": {},
   "source": [
    "#### "
   ]
  },
  {
   "cell_type": "code",
   "execution_count": null,
   "id": "041e8be8",
   "metadata": {},
   "outputs": [],
   "source": [
    "C.shape"
   ]
  },
  {
   "cell_type": "markdown",
   "id": "1026fbf4",
   "metadata": {},
   "source": [
    "#### "
   ]
  },
  {
   "cell_type": "code",
   "execution_count": null,
   "id": "c16cb5d7",
   "metadata": {},
   "outputs": [],
   "source": [
    "B.dot(A.T) == np.matmul(A, B.T)  # <1>"
   ]
  },
  {
   "cell_type": "markdown",
   "id": "4f75362b",
   "metadata": {},
   "source": [
    "#### "
   ]
  },
  {
   "cell_type": "code",
   "execution_count": null,
   "id": "8433e47e",
   "metadata": {},
   "outputs": [],
   "source": [
    "A = np.array([[0, 1, 2],\n",
    "              [3, 4, 5]])\n",
    "A * A"
   ]
  },
  {
   "cell_type": "markdown",
   "id": "f5dd83f4",
   "metadata": {},
   "source": [
    "#### "
   ]
  },
  {
   "cell_type": "code",
   "execution_count": null,
   "id": "c5fda1c1",
   "metadata": {},
   "outputs": [],
   "source": [
    "A ** 2"
   ]
  },
  {
   "cell_type": "markdown",
   "id": "160c002f",
   "metadata": {},
   "source": [
    "#### "
   ]
  },
  {
   "cell_type": "code",
   "execution_count": null,
   "id": "6d248df7",
   "metadata": {},
   "outputs": [],
   "source": [
    "A = np.array([[ 1,  2,  3,  4],\n",
    "              [ 5,  6,  7,  8],\n",
    "              [ 9, 10, 11, 12],\n",
    "              [13, 14, 15, 16]])\n",
    "I = np.eye(4)  # <1>\n",
    "I"
   ]
  },
  {
   "cell_type": "markdown",
   "id": "54708b70",
   "metadata": {},
   "source": [
    "#### "
   ]
  },
  {
   "cell_type": "code",
   "execution_count": null,
   "id": "32d2c9e0",
   "metadata": {},
   "outputs": [],
   "source": [
    "A = np.array([[ 1,  2,  3,  4],\n",
    "              [ 5,  6,  7,  8],\n",
    "              [ 9, 10, 11, 12],\n",
    "              [13, 14, 15, 16]])\n",
    "M = np.fliplr(I)  # <1>\n",
    "M"
   ]
  },
  {
   "cell_type": "markdown",
   "id": "371a0dcf",
   "metadata": {},
   "source": [
    "#### "
   ]
  },
  {
   "cell_type": "code",
   "execution_count": null,
   "id": "bc5eb06f",
   "metadata": {},
   "outputs": [],
   "source": [
    "np.matmul(A, M)"
   ]
  },
  {
   "cell_type": "markdown",
   "id": "3464ffc4",
   "metadata": {},
   "source": [
    "#### "
   ]
  },
  {
   "cell_type": "code",
   "execution_count": null,
   "id": "7d3c6de0",
   "metadata": {},
   "outputs": [],
   "source": [
    "A = np.array([[ 1,  2,  3,  4],\n",
    "              [ 5,  6,  7,  8],\n",
    "              [ 9, 10, 11, 12],\n",
    "              [13, 14, 15, 16]])\n",
    "S2"
   ]
  },
  {
   "cell_type": "markdown",
   "id": "5d1169d5",
   "metadata": {},
   "source": [
    "#### "
   ]
  },
  {
   "cell_type": "code",
   "execution_count": null,
   "id": "725c298e",
   "metadata": {},
   "outputs": [],
   "source": [
    "M"
   ]
  },
  {
   "cell_type": "markdown",
   "id": "5c3ea42d",
   "metadata": {},
   "source": [
    "#### "
   ]
  },
  {
   "cell_type": "code",
   "execution_count": null,
   "id": "d86e758d",
   "metadata": {},
   "outputs": [],
   "source": [
    "MS = np.matmul(S, M)\n",
    "MS"
   ]
  },
  {
   "cell_type": "markdown",
   "id": "e5dc61f3",
   "metadata": {},
   "source": [
    "#### "
   ]
  },
  {
   "cell_type": "code",
   "execution_count": null,
   "id": "ee058fd7",
   "metadata": {},
   "outputs": [],
   "source": [
    "np.matmul(A, MS)"
   ]
  }
 ],
 "metadata": {},
 "nbformat": 4,
 "nbformat_minor": 5
}
