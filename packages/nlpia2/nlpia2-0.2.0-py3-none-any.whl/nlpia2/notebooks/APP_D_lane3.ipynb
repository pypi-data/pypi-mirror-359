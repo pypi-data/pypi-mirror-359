{
 "cells": [
  {
   "cell_type": "markdown",
   "id": "f3650458",
   "metadata": {},
   "source": [
    "#### [APP_D_lane3](/home/hobs/code/hobs/nlpia-manuscript/manuscript/adoc/APP_D_lane3.adoc)"
   ]
  },
  {
   "cell_type": "markdown",
   "id": "cdfa3dba",
   "metadata": {},
   "source": [
    "#### .Counting what the model got right"
   ]
  },
  {
   "cell_type": "code",
   "execution_count": null,
   "id": "1d6a0820",
   "metadata": {},
   "outputs": [],
   "source": [
    "y_true = np.array([0, 0, 0, 1, 1, 1, 1, 1, 1, 1])  # <1>\n",
    "y_pred = np.array([0, 0, 1, 1, 1, 1, 1, 0, 0, 0])  # <2>\n",
    "true_positives = ((y_pred == y_true) & (y_pred == 1)).sum()\n",
    "true_positives  # <3>"
   ]
  },
  {
   "cell_type": "markdown",
   "id": "12f7ff75",
   "metadata": {},
   "source": [
    "#### .Counting what the model got right"
   ]
  },
  {
   "cell_type": "code",
   "execution_count": null,
   "id": "ae9d5b81",
   "metadata": {},
   "outputs": [],
   "source": [
    "true_negatives = ((y_pred == y_true) & (y_pred == 0)).sum()\n",
    "true_negatives  # <4>"
   ]
  },
  {
   "cell_type": "markdown",
   "id": "3f65d140",
   "metadata": {},
   "source": [
    "#### .Counting what the model got right"
   ]
  },
  {
   "cell_type": "code",
   "execution_count": null,
   "id": "6971d104",
   "metadata": {},
   "outputs": [],
   "source": [
    "false_positives = ((y_pred != y_true) & (y_pred == 1)).sum()\n",
    "false_positives  # <1>"
   ]
  },
  {
   "cell_type": "markdown",
   "id": "93529cec",
   "metadata": {},
   "source": [
    "#### .Counting what the model got right"
   ]
  },
  {
   "cell_type": "code",
   "execution_count": null,
   "id": "d774708c",
   "metadata": {},
   "outputs": [],
   "source": [
    "false_negatives = ((y_pred != y_true) & (y_pred == 0)).sum()\n",
    "false_negatives  # <2>"
   ]
  },
  {
   "cell_type": "markdown",
   "id": "648130e9",
   "metadata": {},
   "source": [
    "#### .Counting what the model got right"
   ]
  },
  {
   "cell_type": "code",
   "execution_count": null,
   "id": "8675f279",
   "metadata": {},
   "outputs": [],
   "source": [
    "confusion = [[true_positives, false_positives],\n",
    "             [false_negatives, true_negatives]]\n",
    "confusion"
   ]
  },
  {
   "cell_type": "markdown",
   "id": "1b6963a9",
   "metadata": {},
   "source": [
    "#### .Counting what the model got right"
   ]
  },
  {
   "cell_type": "code",
   "execution_count": null,
   "id": "37917c40",
   "metadata": {},
   "outputs": [],
   "source": [
    "import pandas as pd\n",
    "confusion = pd.DataFrame(confusion, columns=[1, 0], index=[1, 0])\n",
    "confusion.index.name = r'pred \\ truth'\n",
    "confusion"
   ]
  },
  {
   "cell_type": "markdown",
   "id": "e3f8bb9e",
   "metadata": {},
   "source": [
    "#### .Precision"
   ]
  },
  {
   "cell_type": "code",
   "execution_count": null,
   "id": "15fc8144",
   "metadata": {},
   "outputs": [],
   "source": [
    "precision = true_positives / (true_positives + false_positives)\n",
    "precision"
   ]
  },
  {
   "cell_type": "markdown",
   "id": "6c14bd24",
   "metadata": {},
   "source": [
    "#### .Precision"
   ]
  },
  {
   "cell_type": "code",
   "execution_count": null,
   "id": "d3a2661f",
   "metadata": {},
   "outputs": [],
   "source": [
    "recall = true_positives / (true_positives + false_negatives)\n",
    "recall"
   ]
  },
  {
   "cell_type": "markdown",
   "id": "216bb143",
   "metadata": {},
   "source": [
    "#### .Precision"
   ]
  },
  {
   "cell_type": "code",
   "execution_count": null,
   "id": "75b8b7f1",
   "metadata": {},
   "outputs": [],
   "source": [
    "f1_score = 2 * (precision * recall) / (precision + recall)\n",
    "f1_score"
   ]
  },
  {
   "cell_type": "markdown",
   "id": "658a43b7",
   "metadata": {},
   "source": [
    "#### .RMSE"
   ]
  },
  {
   "cell_type": "code",
   "execution_count": null,
   "id": "8c036107",
   "metadata": {},
   "outputs": [],
   "source": [
    "y_true = np.array([0, 0, 0, 1, 1, 1, 1, 1, 1, 1])\n",
    "y_pred = np.array([0, 0, 1, 1, 1, 1, 1, 0, 0, 0])\n",
    "rmse = np.sqrt((y_true - y_pred) ** 2) / len(y_true))\n",
    "rmse"
   ]
  },
  {
   "cell_type": "markdown",
   "id": "5027ea72",
   "metadata": {},
   "source": [
    "#### .RMSE"
   ]
  },
  {
   "cell_type": "code",
   "execution_count": null,
   "id": "b89ee017",
   "metadata": {},
   "outputs": [],
   "source": [
    "corr = pd.DataFrame([y_true, y_pred]).T.corr()\n",
    "corr[0][1]"
   ]
  },
  {
   "cell_type": "markdown",
   "id": "6dd71c6b",
   "metadata": {},
   "source": [
    "#### .RMSE"
   ]
  },
  {
   "cell_type": "code",
   "execution_count": null,
   "id": "7733d919",
   "metadata": {},
   "outputs": [],
   "source": [
    "np.mean((y_pred - np.mean(y_pred)) * (y_true - np.mean(y_true))) /\n",
    "    np.std(y_pred) / np.std(y_true)"
   ]
  }
 ],
 "metadata": {},
 "nbformat": 4,
 "nbformat_minor": 5
}
