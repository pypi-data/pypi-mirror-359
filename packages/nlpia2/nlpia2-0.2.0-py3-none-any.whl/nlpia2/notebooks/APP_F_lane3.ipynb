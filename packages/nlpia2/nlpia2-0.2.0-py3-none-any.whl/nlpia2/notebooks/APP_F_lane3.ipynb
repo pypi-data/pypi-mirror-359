{
 "cells": [
  {
   "cell_type": "markdown",
   "id": "90d50def",
   "metadata": {},
   "source": [
    "#### [APP_F_lane3](/home/hobs/code/hobs/nlpia-manuscript/manuscript/adoc/APP_F_lane3.adoc)"
   ]
  }
 ],
 "metadata": {},
 "nbformat": 4,
 "nbformat_minor": 5
}
