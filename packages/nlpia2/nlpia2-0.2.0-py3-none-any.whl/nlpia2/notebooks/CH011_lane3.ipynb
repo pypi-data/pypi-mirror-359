{
 "cells": [
  {
   "cell_type": "markdown",
   "id": "5b3ddee8",
   "metadata": {},
   "source": [
    "#### [CH011_lane3](/home/hobs/code/hobs/nlpia-manuscript/manuscript/adoc/CH011_lane3.adoc)"
   ]
  },
  {
   "cell_type": "markdown",
   "id": "26e45724",
   "metadata": {},
   "source": [
    "#### "
   ]
  },
  {
   "cell_type": "code",
   "execution_count": null,
   "id": "9e36418a",
   "metadata": {},
   "outputs": [],
   "source": [
    "re.split(r'[!.?]+[\\s$]+',\n",
    "    \"Hello World.... Are you there?!?! I'm going to Mars!\")"
   ]
  },
  {
   "cell_type": "markdown",
   "id": "9ccb172c",
   "metadata": {},
   "source": [
    "#### "
   ]
  },
  {
   "cell_type": "code",
   "execution_count": null,
   "id": "555ed70f",
   "metadata": {},
   "outputs": [],
   "source": [
    "re.split(\n",
    "   r'[!.?]+[\\s$]+',\n",
    "   \"The author wrote \\\"'It isn't conscious.' Turing said.\\\"\")"
   ]
  },
  {
   "cell_type": "markdown",
   "id": "6dcfd78d",
   "metadata": {},
   "source": [
    "#### "
   ]
  },
  {
   "cell_type": "code",
   "execution_count": null,
   "id": "be86a92c",
   "metadata": {},
   "outputs": [],
   "source": [
    "re.split(r'(?<!\\d)\\.|\\.(?!\\d)', \"I went to GT.You?\")"
   ]
  },
  {
   "cell_type": "markdown",
   "id": "0bf29099",
   "metadata": {},
   "source": [
    "#### "
   ]
  },
  {
   "cell_type": "code",
   "execution_count": null,
   "id": "b649050a",
   "metadata": {},
   "outputs": [],
   "source": [
    "import spacy\n",
    "nlp = spacy.load('en_core_web_md')\n",
    "doc = nlp(\"Are you an M.D. Dr. Gebru? either way you are brilliant.\")\n",
    "[s.text for s in doc.sents]"
   ]
  },
  {
   "cell_type": "markdown",
   "id": "50e3a910",
   "metadata": {},
   "source": [
    "#### "
   ]
  },
  {
   "cell_type": "code",
   "execution_count": null,
   "id": "672c649e",
   "metadata": {},
   "outputs": [],
   "source": [
    "nlp.pipeline"
   ]
  },
  {
   "cell_type": "markdown",
   "id": "12b46a3c",
   "metadata": {},
   "source": [
    "#### "
   ]
  },
  {
   "cell_type": "code",
   "execution_count": null,
   "id": "45b50f18",
   "metadata": {},
   "outputs": [],
   "source": [
    "nlp = spacy.load(\"en_core_web_md\", exclude=[\n",
    "   'tok2vec', 'parser', 'lemmatizer',  # <1>\n",
    "   'ner', 'tagger', 'attribute_ruler'])\n",
    "nlp.pipeline  # <2>"
   ]
  },
  {
   "cell_type": "markdown",
   "id": "9f50af15",
   "metadata": {},
   "source": [
    "#### "
   ]
  },
  {
   "cell_type": "code",
   "execution_count": null,
   "id": "f5e35761",
   "metadata": {},
   "outputs": [],
   "source": [
    "import time \n",
    "nlp.enable_pipe('senter')\n",
    "nlp.pipeline"
   ]
  },
  {
   "cell_type": "markdown",
   "id": "09020249",
   "metadata": {},
   "source": [
    "#### "
   ]
  },
  {
   "cell_type": "code",
   "execution_count": null,
   "id": "a3673686",
   "metadata": {},
   "outputs": [],
   "source": [
    "t0 = time.time(); lines2 = extract_lines(nlp=nlp); t1=time.time()\n",
    "t1 - t0"
   ]
  },
  {
   "cell_type": "markdown",
   "id": "0eea9adc",
   "metadata": {},
   "source": [
    "#### "
   ]
  },
  {
   "cell_type": "code",
   "execution_count": null,
   "id": "080e50e1",
   "metadata": {},
   "outputs": [],
   "source": [
    "import pandas as pd\n",
    "df_regex = pd.DataFrame(lines)  # <1>\n",
    "df_spacy = pd.DataFrame(lines2)  # <2>\n",
    "(df_regex['sents_regex'][df_regex.is_body]"
   ]
  },
  {
   "cell_type": "markdown",
   "id": "f4471671",
   "metadata": {},
   "source": [
    "#### "
   ]
  },
  {
   "cell_type": "code",
   "execution_count": null,
   "id": "2624b635",
   "metadata": {},
   "outputs": [],
   "source": [
    "df_regex['sents_regex'].iloc[59]"
   ]
  },
  {
   "cell_type": "markdown",
   "id": "4a17fa38",
   "metadata": {},
   "source": [
    "#### "
   ]
  },
  {
   "cell_type": "code",
   "execution_count": null,
   "id": "3488dadd",
   "metadata": {},
   "outputs": [],
   "source": [
    "df_spacy['sents_spacy'].iloc[59]"
   ]
  },
  {
   "cell_type": "markdown",
   "id": "4380b9ee",
   "metadata": {},
   "source": [
    "#### "
   ]
  },
  {
   "cell_type": "code",
   "execution_count": null,
   "id": "daa7def3",
   "metadata": {},
   "outputs": [],
   "source": [
    "import pandas as pd\n",
    "url = 'https://gitlab.com/tangibleai/nlpia2/-/raw/main/'\n",
    "url += 'src/nlpia2/data/nlpia_lines.csv'  # <1>\n",
    "df = pd.read_csv(url, index_col=0)\n",
    "df9 = df[df.chapter == 9].copy()\n",
    "df9.shape"
   ]
  },
  {
   "cell_type": "markdown",
   "id": "8152c684",
   "metadata": {},
   "source": [
    "#### "
   ]
  },
  {
   "cell_type": "code",
   "execution_count": null,
   "id": "68028028",
   "metadata": {},
   "outputs": [],
   "source": [
    "pd.options.display.max_colwidth=25\n",
    "df9[['text', 'is_title', 'is_body', 'is_bullet']]"
   ]
  },
  {
   "cell_type": "markdown",
   "id": "c51aeeb6",
   "metadata": {},
   "source": [
    "#### "
   ]
  },
  {
   "cell_type": "code",
   "execution_count": null,
   "id": "a32e0db4",
   "metadata": {},
   "outputs": [],
   "source": [
    "texts = df9.text[df9.is_body]\n",
    "texts.shape"
   ]
  },
  {
   "cell_type": "markdown",
   "id": "3e67da51",
   "metadata": {},
   "source": [
    "#### "
   ]
  },
  {
   "cell_type": "code",
   "execution_count": null,
   "id": "053a722b",
   "metadata": {},
   "outputs": [],
   "source": [
    "from sentence_transformers import SentenceTransformer\n",
    "minibert = SentenceTransformer('all-MiniLM-L12-v2')\n",
    "vecs = minibert.encode(list(texts))\n",
    "vecs.shape"
   ]
  },
  {
   "cell_type": "markdown",
   "id": "348cacdd",
   "metadata": {},
   "source": [
    "#### "
   ]
  },
  {
   "cell_type": "code",
   "execution_count": null,
   "id": "dd782545",
   "metadata": {},
   "outputs": [],
   "source": [
    "from numpy.linalg import norm\n",
    "dfe = pd.DataFrame([list(v / norm(v)) for v in vecs])\n",
    "cos_sim = dfe.values.dot(dfe.values.T)\n",
    "cos_sim.shape"
   ]
  },
  {
   "cell_type": "markdown",
   "id": "e297f704",
   "metadata": {},
   "source": [
    "#### "
   ]
  },
  {
   "cell_type": "code",
   "execution_count": null,
   "id": "d4c7cda7",
   "metadata": {},
   "outputs": [],
   "source": [
    "import seaborn as sns\n",
    "from matplotlib import pyplot as plt\n",
    "sns.heatmap(cos_sim)"
   ]
  },
  {
   "cell_type": "markdown",
   "id": "97db2d36",
   "metadata": {},
   "source": [
    "#### "
   ]
  },
  {
   "cell_type": "code",
   "execution_count": null,
   "id": "7e4c2242",
   "metadata": {},
   "outputs": [],
   "source": [
    "plt.xticks(rotation=-35, ha='left')\n",
    "plt.show(block=False)"
   ]
  },
  {
   "cell_type": "markdown",
   "id": "cbd7a884",
   "metadata": {},
   "source": [
    "#### .Download wikipedia article text without"
   ]
  },
  {
   "cell_type": "code",
   "execution_count": null,
   "id": "d2a26fdd",
   "metadata": {},
   "outputs": [],
   "source": [
    "!pip install nlpia2_wikipedia  # <1>\n",
    "import wikipedia as wiki\n",
    "page = wiki.page('Timnit Gebru')\n",
    "text = page.content  # <2>"
   ]
  },
  {
   "cell_type": "markdown",
   "id": "fb874704",
   "metadata": {},
   "source": [
    "#### .Download wikipedia article text without"
   ]
  },
  {
   "cell_type": "code",
   "execution_count": null,
   "id": "1a389db7",
   "metadata": {},
   "outputs": [],
   "source": [
    "i1 = text.index('Stochastic')\n",
    "text[i1:i1+51]"
   ]
  },
  {
   "cell_type": "markdown",
   "id": "14a909ea",
   "metadata": {},
   "source": [
    "#### .Download wikipedia article text without"
   ]
  },
  {
   "cell_type": "code",
   "execution_count": null,
   "id": "0170036c",
   "metadata": {},
   "outputs": [],
   "source": [
    "import re"
   ]
  },
  {
   "cell_type": "markdown",
   "id": "1164198d",
   "metadata": {},
   "source": [
    "#### "
   ]
  },
  {
   "cell_type": "code",
   "execution_count": null,
   "id": "75ebb6fd",
   "metadata": {},
   "outputs": [],
   "source": [
    "doc = nlp(text)  # <1>\n",
    "doc.ents[:6]  # <2>"
   ]
  },
  {
   "cell_type": "markdown",
   "id": "85dae9ea",
   "metadata": {},
   "source": [
    "#### "
   ]
  },
  {
   "cell_type": "code",
   "execution_count": null,
   "id": "25c8df9c",
   "metadata": {},
   "outputs": [],
   "source": [
    "first_sentence = list(doc.sents)[0]\n",
    "' '.join(['{}_{}'.format(tok, tok.pos_) for tok in first_sentence])"
   ]
  },
  {
   "cell_type": "markdown",
   "id": "4bd4c9c7",
   "metadata": {},
   "source": [
    "#### "
   ]
  },
  {
   "cell_type": "code",
   "execution_count": null,
   "id": "71651209",
   "metadata": {},
   "outputs": [],
   "source": [
    "spacy.explain('CCONJ')"
   ]
  },
  {
   "cell_type": "markdown",
   "id": "86f7de64",
   "metadata": {},
   "source": [
    "#### "
   ]
  },
  {
   "cell_type": "code",
   "execution_count": null,
   "id": "43bdebeb",
   "metadata": {},
   "outputs": [],
   "source": [
    "' '.join(['{}_{}'.format(tok, tok.tag_) for tok in first_sentence])"
   ]
  },
  {
   "cell_type": "markdown",
   "id": "9cbf8838",
   "metadata": {},
   "source": [
    "#### "
   ]
  },
  {
   "cell_type": "code",
   "execution_count": null,
   "id": "c2fee140",
   "metadata": {},
   "outputs": [],
   "source": [
    "spacy.explain('VBZ')"
   ]
  },
  {
   "cell_type": "markdown",
   "id": "da53d4b0",
   "metadata": {},
   "source": [
    "#### "
   ]
  },
  {
   "cell_type": "code",
   "execution_count": null,
   "id": "b35f6bfb",
   "metadata": {},
   "outputs": [],
   "source": [
    "import pandas as pd\n",
    "def token_dict(token):\n",
    "   return dict(TOK=token.text,\n",
    "       POS=token.pos_, TAG=token.tag_,\n",
    "       ENT_TYPE=token.ent_type_, DEP=token.dep_,\n",
    "       children=[c for c in token.children])\n",
    "token_dict(doc[0])"
   ]
  },
  {
   "cell_type": "markdown",
   "id": "0597a79c",
   "metadata": {},
   "source": [
    "#### "
   ]
  },
  {
   "cell_type": "code",
   "execution_count": null,
   "id": "1044149d",
   "metadata": {},
   "outputs": [],
   "source": [
    "def doc2df(doc):\n",
    "   return pd.DataFrame([token_dict(tok) for tok in doc])\n",
    "pd.options.display.max_colwidth=20\n",
    "doc2df(doc)"
   ]
  },
  {
   "cell_type": "markdown",
   "id": "644119c0",
   "metadata": {},
   "source": [
    "#### "
   ]
  },
  {
   "cell_type": "code",
   "execution_count": null,
   "id": "232e3323",
   "metadata": {},
   "outputs": [],
   "source": [
    "nlp = spacy.load('en_core_web_lg')\n",
    "doc = nlp(text)\n",
    "doc2df(doc)"
   ]
  },
  {
   "cell_type": "markdown",
   "id": "7c211938",
   "metadata": {},
   "source": [
    "#### .Timnit Gebru Wikipedia article text excerpt"
   ]
  },
  {
   "cell_type": "code",
   "execution_count": null,
   "id": "b91e28d0",
   "metadata": {},
   "outputs": [],
   "source": [
    "i0 = text.index('In a six')\n",
    "text_gebru = text[i0:i0+308]  # <1>\n",
    "text_gebru"
   ]
  },
  {
   "cell_type": "markdown",
   "id": "ecab0038",
   "metadata": {},
   "source": [
    "#### .Coreference chains from Wikipedia text"
   ]
  },
  {
   "cell_type": "code",
   "execution_count": null,
   "id": "9bca0944",
   "metadata": {},
   "outputs": [],
   "source": [
    "import spacy, coreferee  # <1>\n",
    "nlptrf = spacy.load('en_core_web_trf')\n",
    "nlptrf.add_pipe('coreferee')"
   ]
  },
  {
   "cell_type": "markdown",
   "id": "504f8cf0",
   "metadata": {},
   "source": [
    "#### .Coreference chains from Wikipedia text"
   ]
  },
  {
   "cell_type": "code",
   "execution_count": null,
   "id": "f2b6e329",
   "metadata": {},
   "outputs": [],
   "source": [
    "doc_gebru = nlptrf(text_gebru)  # <2>\n",
    "doc_gebru._.coref_chains"
   ]
  },
  {
   "cell_type": "markdown",
   "id": "64d6c1e8",
   "metadata": {},
   "source": [
    "#### .Coreference chains from Wikipedia text"
   ]
  },
  {
   "cell_type": "code",
   "execution_count": null,
   "id": "dbd504c5",
   "metadata": {},
   "outputs": [],
   "source": [
    "doc_gebru._.coref_chains.print()"
   ]
  },
  {
   "cell_type": "markdown",
   "id": "90e04820",
   "metadata": {},
   "source": [
    "#### .Coreference chains from Wikipedia text"
   ]
  },
  {
   "cell_type": "code",
   "execution_count": null,
   "id": "f67a7d43",
   "metadata": {},
   "outputs": [],
   "source": [
    "def stringify_coreferences(doc):\n",
    "    i, headers, sents = 0, [], []\n",
    "    for sent in doc.sents:\n",
    "        headers.append('')\n",
    "        sents.append('')\n",
    "        for t in sent:\n",
    "            tok = t.text + t.whitespace_\n",
    "            idx = str(i)\n",
    "            if len(idx) >= len(tok):\n",
    "                idx = ' ' * len(tok)\n",
    "            else:\n",
    "                idx += ' ' * (len(tok) - len(idx))\n",
    "            headers[-1] += idx\n",
    "            sents[-1] += tok\n",
    "            i += 1\n",
    "    return headers, sents"
   ]
  },
  {
   "cell_type": "markdown",
   "id": "18c74f5b",
   "metadata": {},
   "source": [
    "#### .Coreference chains from Wikipedia text"
   ]
  },
  {
   "cell_type": "code",
   "execution_count": null,
   "id": "80e0eac3",
   "metadata": {},
   "outputs": [],
   "source": [
    "def wrap_header_strings(headers, sents, width=70):\n",
    "    lines = []\n",
    "    for h, s in zip(headers, sents):\n",
    "        i = 0\n",
    "        while i < len(s):\n",
    "            i += width\n",
    "            lines.append(h[i-width:i])\n",
    "            lines.append(s[i-width:i])\n",
    "            lines.append('')\n",
    "    return lines"
   ]
  },
  {
   "cell_type": "markdown",
   "id": "9c7cc238",
   "metadata": {},
   "source": [
    "#### "
   ]
  },
  {
   "cell_type": "code",
   "execution_count": null,
   "id": "bec46c32",
   "metadata": {},
   "outputs": [],
   "source": [
    "headers, sents = stringify_coreferences(doc_gebru)\n",
    "lines = wrap_header_strings(headers, sents)\n",
    "print('\\n'.join(lines))"
   ]
  },
  {
   "cell_type": "markdown",
   "id": "7ad5e91e",
   "metadata": {},
   "source": [
    "#### "
   ]
  },
  {
   "cell_type": "code",
   "execution_count": null,
   "id": "fd43d157",
   "metadata": {},
   "outputs": [],
   "source": [
    "doc_gebru._.coref_chains.print()"
   ]
  },
  {
   "cell_type": "markdown",
   "id": "8c39e203",
   "metadata": {},
   "source": [
    "#### "
   ]
  },
  {
   "cell_type": "code",
   "execution_count": null,
   "id": "9322f71a",
   "metadata": {},
   "outputs": [],
   "source": [
    "text = \"Gebru was unethically fired from her Ethical AI team.\"\n",
    "doc = nlp(text)\n",
    "doc2df(doc)"
   ]
  },
  {
   "cell_type": "markdown",
   "id": "e1b3c731",
   "metadata": {},
   "source": [
    "#### "
   ]
  },
  {
   "cell_type": "code",
   "execution_count": null,
   "id": "d523176f",
   "metadata": {},
   "outputs": [],
   "source": [
    "def token_dict2(token):\n",
    "   d = token_dict(token)\n",
    "   d['children'] = list(token.children)  # <1>\n",
    "   return d\n",
    "token_dict2(doc[0])"
   ]
  },
  {
   "cell_type": "markdown",
   "id": "c4af178a",
   "metadata": {},
   "source": [
    "#### "
   ]
  },
  {
   "cell_type": "code",
   "execution_count": null,
   "id": "f9079615",
   "metadata": {},
   "outputs": [],
   "source": [
    "def doc2df(doc):\n",
    "    df = pd.DataFrame([token_dict2(t) for t in doc])\n",
    "    return df.set_index('TOK')\n",
    "doc2df(doc)"
   ]
  },
  {
   "cell_type": "markdown",
   "id": "77381900",
   "metadata": {},
   "source": [
    "#### "
   ]
  },
  {
   "cell_type": "code",
   "execution_count": null,
   "id": "497ee64e",
   "metadata": {},
   "outputs": [],
   "source": [
    "doc2df(doc)['children']['fired']"
   ]
  },
  {
   "cell_type": "markdown",
   "id": "914de3e4",
   "metadata": {},
   "source": [
    "#### "
   ]
  },
  {
   "cell_type": "code",
   "execution_count": null,
   "id": "099df211",
   "metadata": {},
   "outputs": [],
   "source": [
    "from spacy.displacy import render\n",
    "sentence = \"In 1541 Desoto wrote in his journal about the Pascagoula.\"\n",
    "parsed_sent = nlp(sentence)\n",
    "with open('pascagoula.html', 'w') as f:\n",
    "    f.write(render(docs=parsed_sent, page=True, options=dict(compact=True)))"
   ]
  },
  {
   "cell_type": "markdown",
   "id": "231e9810",
   "metadata": {},
   "source": [
    "#### "
   ]
  },
  {
   "cell_type": "code",
   "execution_count": null,
   "id": "c0faccd8",
   "metadata": {},
   "outputs": [],
   "source": [
    "import benepar\n",
    "benepar.download('benepar_en3')"
   ]
  },
  {
   "cell_type": "markdown",
   "id": "1e6cc9ca",
   "metadata": {},
   "source": [
    "#### "
   ]
  },
  {
   "cell_type": "code",
   "execution_count": null,
   "id": "9d569a69",
   "metadata": {},
   "outputs": [],
   "source": [
    "doc_dataframe(nlp(\"In 1541 Desoto met the Pascagoula.\"))"
   ]
  },
  {
   "cell_type": "markdown",
   "id": "e62a5702",
   "metadata": {},
   "source": [
    "#### .Creating a POS pattern matcher with spaCy"
   ]
  },
  {
   "cell_type": "code",
   "execution_count": null,
   "id": "d19db992",
   "metadata": {},
   "outputs": [],
   "source": [
    "from spacy.matcher import Matcher\n",
    "doc = nlp(\"In 1541 Desoto met the Pascagoula.\")\n",
    "matcher = Matcher(nlp.vocab)\n",
    "matcher.add(\n",
    "    key='met',\n",
    "    patterns=[pattern])\n",
    "matches = matcher(doc)\n",
    "matches"
   ]
  },
  {
   "cell_type": "markdown",
   "id": "1e8ee428",
   "metadata": {},
   "source": [
    "#### .Creating a POS pattern matcher with spaCy"
   ]
  },
  {
   "cell_type": "code",
   "execution_count": null,
   "id": "204f93a3",
   "metadata": {},
   "outputs": [],
   "source": [
    "start = matches[0][1]\n",
    "stop = matches[0][2]\n",
    "doc[start:stop]  # <2>"
   ]
  },
  {
   "cell_type": "markdown",
   "id": "44a59eae",
   "metadata": {},
   "source": [
    "#### .Creating a POS pattern matcher with spaCy"
   ]
  },
  {
   "cell_type": "code",
   "execution_count": null,
   "id": "d22ff081",
   "metadata": {},
   "outputs": [],
   "source": [
    "doc = nlp(\"October 24: Lewis and Clark met their\" \\\n",
    "    \"first Mandan Chief, Big White.\")\n",
    "m = matcher(doc)[0]\n",
    "m"
   ]
  },
  {
   "cell_type": "markdown",
   "id": "d7d7ddc7",
   "metadata": {},
   "source": [
    "#### .Creating a POS pattern matcher with spaCy"
   ]
  },
  {
   "cell_type": "code",
   "execution_count": null,
   "id": "848c36f7",
   "metadata": {},
   "outputs": [],
   "source": [
    "doc[m[1]:m[2]]"
   ]
  },
  {
   "cell_type": "markdown",
   "id": "9e3614d3",
   "metadata": {},
   "source": [
    "#### .Creating a POS pattern matcher with spaCy"
   ]
  },
  {
   "cell_type": "code",
   "execution_count": null,
   "id": "c81a431c",
   "metadata": {},
   "outputs": [],
   "source": [
    "doc = nlp(\"On 11 October 1986, Gorbachev and Reagan met at Höfði house\")\n",
    "matcher(doc)"
   ]
  },
  {
   "cell_type": "markdown",
   "id": "621be16f",
   "metadata": {},
   "source": [
    "#### .Creating a POS pattern matcher with spaCy"
   ]
  },
  {
   "cell_type": "code",
   "execution_count": null,
   "id": "99d43254",
   "metadata": {},
   "outputs": [],
   "source": [
    "doc = nlp(\n",
    "    \"On 11 October 1986, Gorbachev and Reagan met at Hofoi house\"\n",
    "    )\n",
    "pattern = [\n",
    "    {'POS': {'IN': ['NOUN', 'PROPN']}, 'OP': '+'},\n",
    "    {'LEMMA': 'and'},\n",
    "    {'POS': {'IN': ['NOUN', 'PROPN']}, 'OP': '+'},\n",
    "    {'IS_ALPHA': True, 'OP': '*'},\n",
    "    {'LEMMA': 'meet'}\n",
    "    ]\n",
    "matcher.add('met', None, pattern)  # <1>\n",
    "matches = matcher(doc)\n",
    "pd.DataFrame(matches, columns=)"
   ]
  },
  {
   "cell_type": "markdown",
   "id": "906edf19",
   "metadata": {},
   "source": [
    "#### .Creating a POS pattern matcher with spaCy"
   ]
  },
  {
   "cell_type": "code",
   "execution_count": null,
   "id": "1a734a74",
   "metadata": {},
   "outputs": [],
   "source": [
    "doc[m[-1][1]:m[-1][2]]  # <3>"
   ]
  },
  {
   "cell_type": "markdown",
   "id": "89cef6c8",
   "metadata": {},
   "source": [
    "#### "
   ]
  },
  {
   "cell_type": "code",
   "execution_count": null,
   "id": "ba24c042",
   "metadata": {},
   "outputs": [],
   "source": [
    "import pandas as pd\n",
    "pd.options.display.max_colwidth = 20\n",
    "from nlpia2.nell import read_nell_tsv, simplify_names\n",
    "df = read_nell_tsv(nrows=1000)\n",
    "df[df.columns[:4]].head()"
   ]
  },
  {
   "cell_type": "markdown",
   "id": "6c892c12",
   "metadata": {},
   "source": [
    "#### "
   ]
  },
  {
   "cell_type": "code",
   "execution_count": null,
   "id": "55a3ee58",
   "metadata": {},
   "outputs": [],
   "source": [
    "pd.options.display.max_colwidth = 40\n",
    "df['entity'].str.split(':').str[1:].str.join(':')"
   ]
  },
  {
   "cell_type": "markdown",
   "id": "9499c4f3",
   "metadata": {},
   "source": [
    "#### "
   ]
  },
  {
   "cell_type": "code",
   "execution_count": null,
   "id": "8000881d",
   "metadata": {},
   "outputs": [],
   "source": [
    "df['entity'].str.split(':').str[-1]"
   ]
  },
  {
   "cell_type": "markdown",
   "id": "52dc6ed5",
   "metadata": {},
   "source": [
    "#### "
   ]
  },
  {
   "cell_type": "code",
   "execution_count": null,
   "id": "7b9f3941",
   "metadata": {},
   "outputs": [],
   "source": [
    "df = simplify_names(df)  # <1>\n",
    "df[df.columns[[0, 1, 2, 4]]].head()"
   ]
  },
  {
   "cell_type": "markdown",
   "id": "e119769a",
   "metadata": {},
   "source": [
    "#### "
   ]
  },
  {
   "cell_type": "code",
   "execution_count": null,
   "id": "a37b3c3f",
   "metadata": {},
   "outputs": [],
   "source": [
    "islatlon = df['relation'] == 'latlon'\n",
    "df[islatlon].head()"
   ]
  },
  {
   "cell_type": "markdown",
   "id": "537a3a6f",
   "metadata": {},
   "source": [
    "#### "
   ]
  },
  {
   "cell_type": "code",
   "execution_count": null,
   "id": "dd4a7425",
   "metadata": {},
   "outputs": [],
   "source": [
    "def get_wikidata_qid(wikiarticle, wikisite=\"enwiki\"):\n",
    "    WIKIDATA_URL='https://www.wikidata.org/w/api.php'\n",
    "    resp = requests.get(WIKIDATA_URL, timeout=5, params={\n",
    "        'action': 'wbgetentities',\n",
    "        'titles': wikiarticle,\n",
    "        'sites': wikisite,\n",
    "        'props': '',\n",
    "        'format': 'json'\n",
    "    }).json()\n",
    "    return list(resp['entities'])[0]\n",
    "tg_qid = get_wikidata_qid('Timnit Gebru')\n",
    "tg_qid"
   ]
  },
  {
   "cell_type": "markdown",
   "id": "343f352e",
   "metadata": {},
   "source": [
    "#### "
   ]
  },
  {
   "cell_type": "code",
   "execution_count": null,
   "id": "70f819f5",
   "metadata": {},
   "outputs": [],
   "source": [
    "NOTABLE_WORK_PID = 'P800'     # <1>\n",
    "INSTANCE_OF_PID = 'P31'       # <2>\n",
    "SCH_ARTICLE_QID= 'Q13442814'  # <3>\n",
    "query = f\"\"\"\n",
    "    SELECT ?article WHERE {{"
   ]
  },
  {
   "cell_type": "markdown",
   "id": "d9c1f7a2",
   "metadata": {},
   "source": [
    "#### "
   ]
  },
  {
   "cell_type": "code",
   "execution_count": null,
   "id": "76352d0f",
   "metadata": {},
   "outputs": [],
   "source": [
    "from SPARQLWrapper import SPARQLWrapper, JSON\n",
    "endpoint_url = \"https://query.wikidata.org/sparql\"\n",
    "sparql = SPARQLWrapper(endpoint_url)\n",
    "sparql.setReturnFormat(JSON)  # <1>"
   ]
  },
  {
   "cell_type": "markdown",
   "id": "fac7baf6",
   "metadata": {},
   "source": [
    "#### "
   ]
  },
  {
   "cell_type": "code",
   "execution_count": null,
   "id": "f5a34434",
   "metadata": {},
   "outputs": [],
   "source": [
    "sparql.setQuery(query)\n",
    "result = sparql.queryAndConvert()\n",
    "result"
   ]
  },
  {
   "cell_type": "markdown",
   "id": "831d22bc",
   "metadata": {},
   "source": [
    "#### "
   ]
  },
  {
   "cell_type": "code",
   "execution_count": null,
   "id": "f91866c2",
   "metadata": {},
   "outputs": [],
   "source": [
    "import re\n",
    "uri = result['results']['bindings'][0]['article']['value']\n",
    "match_id = re.search(r'entity/(Q\\d+)', uri)\n",
    "article_qid = match_id.group(1)\n",
    "AUTHOR_PID = 'P50'\n",
    "query = f\"\"\"\n",
    "     SELECT ?author ?authorLabel WHERE {{\n",
    "     wd:{article_qid} wdt:{AUTHOR_PID} ?author.\n",
    "     SERVICE wikibase:label {{ bd:serviceParam wikibase:language \"en\". }}\n",
    "     }}\n",
    "     \"\"\"\n",
    "sparql.setQuery(query)\n",
    "result = sparql.queryAndConvert()['results']['bindings']\n",
    "authors = [record['authorLabel']['value'] for record in result]\n",
    "authors"
   ]
  },
  {
   "cell_type": "markdown",
   "id": "dc2e4489",
   "metadata": {},
   "source": [
    "#### "
   ]
  },
  {
   "cell_type": "code",
   "execution_count": null,
   "id": "3f7bf8ae",
   "metadata": {},
   "outputs": [],
   "source": [
    "query = \"\"\"\n",
    "SELECT ?author ?authorLabel WHERE {\n",
    "    {\n",
    "    SELECT ?article WHERE {\n",
    "        wd:Q59753117 wdt:P800 ?article.\n",
    "        ?article wdt:P31 wd:Q13442814.\n",
    "        }\n",
    "    }\n",
    "    ?article wdt:P50 ?author.\n",
    "    SERVICE wikibase:label {"
   ]
  }
 ],
 "metadata": {},
 "nbformat": 4,
 "nbformat_minor": 5
}
