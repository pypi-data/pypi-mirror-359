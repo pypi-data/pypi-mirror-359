{
 "cells": [
  {
   "cell_type": "markdown",
   "id": "712e58fd",
   "metadata": {},
   "source": [
    "#### [CH01_lane3](/home/hobs/code/hobs/nlpia-manuscript/manuscript/adoc/CH01_lane3.adoc)"
   ]
  },
  {
   "cell_type": "markdown",
   "id": "4df162fd",
   "metadata": {},
   "source": [
    "#### "
   ]
  },
  {
   "cell_type": "code",
   "execution_count": null,
   "id": "74b3c716",
   "metadata": {},
   "outputs": [],
   "source": [
    "import re  # <1>\n",
    "r = \"(hi|hello|hey)[ ,:.!]*([a-z]*)\"  # <2>\n",
    "re.match(r, 'Hello Rosa', flags=re.IGNORECASE)  # <3>"
   ]
  },
  {
   "cell_type": "markdown",
   "id": "34a74bfe",
   "metadata": {},
   "source": [
    "#### "
   ]
  },
  {
   "cell_type": "code",
   "execution_count": null,
   "id": "84e94d34",
   "metadata": {},
   "outputs": [],
   "source": [
    "re.match(r, \"hi ho, hi ho, it's off to work ...\", flags=re.IGNORECASE)"
   ]
  },
  {
   "cell_type": "markdown",
   "id": "e1b36f94",
   "metadata": {},
   "source": [
    "#### "
   ]
  },
  {
   "cell_type": "code",
   "execution_count": null,
   "id": "60ecffc6",
   "metadata": {},
   "outputs": [],
   "source": [
    "re.match(r, \"hey, what's up\", flags=re.IGNORECASE)"
   ]
  },
  {
   "cell_type": "markdown",
   "id": "4b77cc53",
   "metadata": {},
   "source": [
    "#### "
   ]
  },
  {
   "cell_type": "code",
   "execution_count": null,
   "id": "bc3f4ffe",
   "metadata": {},
   "outputs": [],
   "source": [
    "r = r\"[^a-z]*([y]o|[h']?ello|ok|hey|(good[ ])(morn[gin']{0,3}|\"\n",
    "r += r\"afternoon|even[gin']{0,3}))[\\s,;:]{1,3}([a-z]{1,20})\"\n",
    "re_greeting = re.compile(r, flags=re.IGNORECASE)  # <1>\n",
    "re_greeting.match('Hello Rosa')"
   ]
  },
  {
   "cell_type": "markdown",
   "id": "17b4ed1c",
   "metadata": {},
   "source": [
    "#### "
   ]
  },
  {
   "cell_type": "code",
   "execution_count": null,
   "id": "4e3ba9bf",
   "metadata": {},
   "outputs": [],
   "source": [
    "re_greeting.match('Hello Rosa').groups()"
   ]
  },
  {
   "cell_type": "markdown",
   "id": "88f813cc",
   "metadata": {},
   "source": [
    "#### "
   ]
  },
  {
   "cell_type": "code",
   "execution_count": null,
   "id": "842a5185",
   "metadata": {},
   "outputs": [],
   "source": [
    "re_greeting.match(\"Good morning Rosa\")"
   ]
  },
  {
   "cell_type": "markdown",
   "id": "fbd608b2",
   "metadata": {},
   "source": [
    "#### "
   ]
  },
  {
   "cell_type": "code",
   "execution_count": null,
   "id": "26da89b6",
   "metadata": {},
   "outputs": [],
   "source": [
    "re_greeting.match(\"Good Manning Rosa\")  # <2>\n",
    "re_greeting.match('Good evening Rosa Parks').groups()  # <3>"
   ]
  },
  {
   "cell_type": "markdown",
   "id": "9b0fd260",
   "metadata": {},
   "source": [
    "#### "
   ]
  },
  {
   "cell_type": "code",
   "execution_count": null,
   "id": "663e5871",
   "metadata": {},
   "outputs": [],
   "source": [
    "re_greeting.match(\"Good Morn'n Rosa\")"
   ]
  },
  {
   "cell_type": "markdown",
   "id": "f0a34f40",
   "metadata": {},
   "source": [
    "#### "
   ]
  },
  {
   "cell_type": "code",
   "execution_count": null,
   "id": "9290be29",
   "metadata": {},
   "outputs": [],
   "source": [
    "re_greeting.match(\"yo Rosa\")"
   ]
  },
  {
   "cell_type": "markdown",
   "id": "a75c3a4a",
   "metadata": {},
   "source": [
    "#### "
   ]
  },
  {
   "cell_type": "code",
   "execution_count": null,
   "id": "99758527",
   "metadata": {},
   "outputs": [],
   "source": [
    "my_names = set(['rosa', 'rose', 'chatty', 'chatbot', 'bot',\n",
    "    'chatterbot'])\n",
    "curt_names = set(['hal', 'you', 'u'])\n",
    "greeter_name = ''  # <1>\n",
    "match = re_greeting.match(input())\n",
    "if match:\n",
    "    at_name = match.groups()[-1]\n",
    "    if at_name in curt_names:\n",
    "        print(\"Good one.\")\n",
    "    elif at_name.lower() in my_names:\n",
    "        print(\"Hi {}, How are you?\".format(greeter_name))"
   ]
  },
  {
   "cell_type": "markdown",
   "id": "c311c711",
   "metadata": {},
   "source": [
    "#### "
   ]
  },
  {
   "cell_type": "code",
   "execution_count": null,
   "id": "99a1ebcb",
   "metadata": {},
   "outputs": [],
   "source": [
    "from collections import Counter\n",
    "Counter(\"Guten Morgen Rosa\".split())"
   ]
  },
  {
   "cell_type": "markdown",
   "id": "abeb44b2",
   "metadata": {},
   "source": [
    "#### "
   ]
  },
  {
   "cell_type": "code",
   "execution_count": null,
   "id": "5e599f59",
   "metadata": {},
   "outputs": [],
   "source": [
    "Counter(\"Good morning Rosa!\".split())"
   ]
  },
  {
   "cell_type": "markdown",
   "id": "a9faa9b9",
   "metadata": {},
   "source": [
    "#### "
   ]
  },
  {
   "cell_type": "code",
   "execution_count": null,
   "id": "b06c191b",
   "metadata": {},
   "outputs": [],
   "source": [
    "from itertools import permutations\n",
    "[\" \".join(combo) for combo in\n",
    "    permutations(\"Good morning Rosa!\".split(), 3)\n",
    "    ]"
   ]
  },
  {
   "cell_type": "markdown",
   "id": "20526ddf",
   "metadata": {},
   "source": [
    "#### "
   ]
  },
  {
   "cell_type": "code",
   "execution_count": null,
   "id": "cc8eae65",
   "metadata": {},
   "outputs": [],
   "source": [
    "s = \"\"\"Find textbooks with titles containing 'NLP',\n",
    "    or 'natural' and 'language', or\n",
    "    'computational' and  'linguistics'.\"\"\"\n",
    "len(set(s.split()))"
   ]
  },
  {
   "cell_type": "markdown",
   "id": "cdca206e",
   "metadata": {},
   "source": [
    "#### "
   ]
  },
  {
   "cell_type": "code",
   "execution_count": null,
   "id": "25b06c8b",
   "metadata": {},
   "outputs": [],
   "source": [
    "import numpy as np\n",
    "np.arange(1, 12 + 1).prod()  # factorial(12) = arange(1, 13).prod()"
   ]
  }
 ],
 "metadata": {},
 "nbformat": 4,
 "nbformat_minor": 5
}
