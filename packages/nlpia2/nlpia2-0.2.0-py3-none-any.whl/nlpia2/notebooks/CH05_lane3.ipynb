{
 "cells": [
  {
   "cell_type": "markdown",
   "id": "29ccee52",
   "metadata": {},
   "source": [
    "#### [CH05_lane3](/home/hobs/code/hobs/nlpia-manuscript/manuscript/adoc/CH05_lane3.adoc)"
   ]
  },
  {
   "cell_type": "markdown",
   "id": "911978ef",
   "metadata": {},
   "source": [
    "#### "
   ]
  },
  {
   "cell_type": "code",
   "execution_count": null,
   "id": "2031364f",
   "metadata": {},
   "outputs": [],
   "source": [
    "def logistic(x, w=1., phase=0, gain=1):\n",
    "   return gain / (1. + np.exp(-w * (x - phase)))"
   ]
  },
  {
   "cell_type": "markdown",
   "id": "873caedd",
   "metadata": {},
   "source": [
    "#### "
   ]
  },
  {
   "cell_type": "code",
   "execution_count": null,
   "id": "f820ec93",
   "metadata": {},
   "outputs": [],
   "source": [
    "import pandas as pd\n",
    "import numpy as np\n",
    "import seaborn as sns\n",
    "sns.set_style()\n",
    "xy = pd.DataFrame(np.arange(-50, 50) / 10., columns=['x'])\n",
    "for w, phase in zip([1, 3, 1, 1, .5], [0, 0, 2, -1, 0]):\n",
    "   kwargs = dict(w=w, phase=phase)\n",
    "   xy[f'{kwargs}'] = logistic(xy['x'], **kwargs)\n",
    "xy.plot(grid=\"on\", ylabel=\"y\")"
   ]
  },
  {
   "cell_type": "markdown",
   "id": "c5856bc9",
   "metadata": {},
   "source": [
    "#### "
   ]
  },
  {
   "cell_type": "code",
   "execution_count": null,
   "id": "a23c4e8b",
   "metadata": {},
   "outputs": [],
   "source": [
    "from collections import Counter\n",
    "np.random.seed(451)\n",
    "tokens = \"green egg egg ham ham ham spam spam spam spam\".split()\n",
    "bow = Counter(tokens)\n",
    "x = pd.Series(bow)\n",
    "x"
   ]
  },
  {
   "cell_type": "markdown",
   "id": "cb59e4c2",
   "metadata": {},
   "source": [
    "#### "
   ]
  },
  {
   "cell_type": "code",
   "execution_count": null,
   "id": "0e19629e",
   "metadata": {},
   "outputs": [],
   "source": [
    "x1, x2, x3, x4 = x\n",
    "x1, x2, x3, x4"
   ]
  },
  {
   "cell_type": "markdown",
   "id": "64752061",
   "metadata": {},
   "source": [
    "#### "
   ]
  },
  {
   "cell_type": "code",
   "execution_count": null,
   "id": "01debea2",
   "metadata": {},
   "outputs": [],
   "source": [
    "w0 = np.round(.1 * np.random.randn(), 2)\n",
    "w0"
   ]
  },
  {
   "cell_type": "markdown",
   "id": "2b5a6b50",
   "metadata": {},
   "source": [
    "#### "
   ]
  },
  {
   "cell_type": "code",
   "execution_count": null,
   "id": "251497a9",
   "metadata": {},
   "outputs": [],
   "source": [
    "w1, w2, w3, w4 = (.1 * np.random.randn(len(x))).round(2)\n",
    "w1, w2, w3, w4"
   ]
  },
  {
   "cell_type": "markdown",
   "id": "366f2c66",
   "metadata": {},
   "source": [
    "#### "
   ]
  },
  {
   "cell_type": "code",
   "execution_count": null,
   "id": "1d3fc439",
   "metadata": {},
   "outputs": [],
   "source": [
    "x = np.array([1, x1, x2, x3, x4])  # <1>\n",
    "w = np.array([w0, w1, w2, w3, w4])  # <2>\n",
    "y = np.sum(w * x)  # <3>\n",
    "y"
   ]
  },
  {
   "cell_type": "markdown",
   "id": "189410b8",
   "metadata": {},
   "source": [
    "#### "
   ]
  },
  {
   "cell_type": "code",
   "execution_count": null,
   "id": "08bcb73a",
   "metadata": {},
   "outputs": [],
   "source": [
    "threshold = 0.0\n",
    "y = int(y > threshold)"
   ]
  },
  {
   "cell_type": "markdown",
   "id": "7bbea671",
   "metadata": {},
   "source": [
    "#### "
   ]
  },
  {
   "cell_type": "code",
   "execution_count": null,
   "id": "8bb228ab",
   "metadata": {},
   "outputs": [],
   "source": [
    "y = logistic(x)"
   ]
  },
  {
   "cell_type": "markdown",
   "id": "caf78e73",
   "metadata": {},
   "source": [
    "#### "
   ]
  },
  {
   "cell_type": "code",
   "execution_count": null,
   "id": "8608df79",
   "metadata": {},
   "outputs": [],
   "source": [
    "def neuron(x, w):\n",
    "   z = sum(wi * xi for xi, wi in zip(x, w))  # <1>\n",
    "   return z > 0  # <2>"
   ]
  },
  {
   "cell_type": "markdown",
   "id": "d11d9b2e",
   "metadata": {},
   "source": [
    "#### "
   ]
  },
  {
   "cell_type": "code",
   "execution_count": null,
   "id": "058c0b7e",
   "metadata": {},
   "outputs": [],
   "source": [
    "def neuron(x, w):\n",
    "   z = np.array(wi).dot(w)\n",
    "   return z > 0"
   ]
  },
  {
   "cell_type": "markdown",
   "id": "6717d8c7",
   "metadata": {},
   "source": [
    "#### "
   ]
  },
  {
   "cell_type": "code",
   "execution_count": null,
   "id": "2e05d8e4",
   "metadata": {},
   "outputs": [],
   "source": [
    "import pandas as pd\n",
    "import numpy as np\n",
    "pd.options.display.max_rows = 7"
   ]
  },
  {
   "cell_type": "markdown",
   "id": "6c54c6a8",
   "metadata": {},
   "source": [
    "#### "
   ]
  },
  {
   "cell_type": "code",
   "execution_count": null,
   "id": "d6583590",
   "metadata": {},
   "outputs": [],
   "source": [
    "np.random.seed(451)\n",
    "URL = 'https://gitlab.com/tangibleai/nlpia2/'\n",
    "'-/raw/main/src/nlpia2/data/baby-names-us-10k.csv.gz'\n",
    "df = pd.read_csv(URL)  # <1>\n",
    "df = df.sample(10_000)  # <2>\n",
    "df.shape"
   ]
  },
  {
   "cell_type": "markdown",
   "id": "dd05077c",
   "metadata": {},
   "source": [
    "#### "
   ]
  },
  {
   "cell_type": "code",
   "execution_count": null,
   "id": "35abb3b0",
   "metadata": {},
   "outputs": [],
   "source": [
    "df.groupby(['name', 'sex'])['count'].sum()[('Timothy',)]"
   ]
  },
  {
   "cell_type": "markdown",
   "id": "33451abf",
   "metadata": {},
   "source": [
    "#### "
   ]
  },
  {
   "cell_type": "code",
   "execution_count": null,
   "id": "9068e68f",
   "metadata": {},
   "outputs": [],
   "source": [
    "df = df.set_index(['name', 'sex'])\n",
    "groups = df.groupby(['name', 'sex'])\n",
    "counts = groups['count'].sum()\n",
    "counts"
   ]
  },
  {
   "cell_type": "markdown",
   "id": "a9423547",
   "metadata": {},
   "source": [
    "#### "
   ]
  },
  {
   "cell_type": "code",
   "execution_count": null,
   "id": "04b458e6",
   "metadata": {},
   "outputs": [],
   "source": [
    "from sklearn.feature_extraction.text import TfidfVectorizer\n",
    "vectorizer = TfidfVectorizer(\n",
    "    use_idf=False,  # <1>\n",
    "    analyzer='char',\n",
    "    ngram_range=(1, 3)  # <2>\n",
    "    )\n",
    "vectorizer"
   ]
  },
  {
   "cell_type": "markdown",
   "id": "63cdada0",
   "metadata": {},
   "source": [
    "#### "
   ]
  },
  {
   "cell_type": "code",
   "execution_count": null,
   "id": "6e66ba39",
   "metadata": {},
   "outputs": [],
   "source": [
    "df = pd.DataFrame([list(tup) for tup in counts.index.values],\n",
    "                  columns=['name', 'sex'])\n",
    "df['count'] = counts.values\n",
    "df"
   ]
  },
  {
   "cell_type": "markdown",
   "id": "9ecc98c3",
   "metadata": {},
   "source": [
    "#### "
   ]
  },
  {
   "cell_type": "code",
   "execution_count": null,
   "id": "a2850b5e",
   "metadata": {},
   "outputs": [],
   "source": [
    "df['istrain'] = np.random.rand(len(df)) < .9\n",
    "df"
   ]
  },
  {
   "cell_type": "markdown",
   "id": "57e1ca06",
   "metadata": {},
   "source": [
    "#### "
   ]
  },
  {
   "cell_type": "code",
   "execution_count": null,
   "id": "180aaf6a",
   "metadata": {},
   "outputs": [],
   "source": [
    "df.index = pd.MultiIndex.from_tuples(\n",
    "    zip(df['name'], df['sex']), names=['name_', 'sex_'])\n",
    "df"
   ]
  },
  {
   "cell_type": "markdown",
   "id": "709c467a",
   "metadata": {},
   "source": [
    "#### "
   ]
  },
  {
   "cell_type": "code",
   "execution_count": null,
   "id": "5cb99a76",
   "metadata": {},
   "outputs": [],
   "source": [
    "df_most_common = {}  # <1>\n",
    "for name, group in df.groupby('name'):\n",
    "    row_dict = group.iloc[group['count'].argmax()].to_dict()  # <2>\n",
    "    df_most_common[(name, row_dict['sex'])] = row_dict\n",
    "df_most_common = pd.DataFrame(df_most_common).T  # <3>"
   ]
  },
  {
   "cell_type": "markdown",
   "id": "57702672",
   "metadata": {},
   "source": [
    "#### "
   ]
  },
  {
   "cell_type": "code",
   "execution_count": null,
   "id": "4329e637",
   "metadata": {},
   "outputs": [],
   "source": [
    "df_most_common['istest'] = ~df_most_common['istrain'].astype(bool)\n",
    "df_most_common"
   ]
  },
  {
   "cell_type": "markdown",
   "id": "c4df6600",
   "metadata": {},
   "source": [
    "#### "
   ]
  },
  {
   "cell_type": "code",
   "execution_count": null,
   "id": "db10f14e",
   "metadata": {},
   "outputs": [],
   "source": [
    "df['istest'] = df_most_common['istest']\n",
    "df['istest'] = df['istest'].fillna(False)\n",
    "df['istrain'] = ~df['istest']\n",
    "istrain = df['istrain']\n",
    "df['istrain'].sum() / len(df)"
   ]
  },
  {
   "cell_type": "markdown",
   "id": "faf4f5b0",
   "metadata": {},
   "source": [
    "#### "
   ]
  },
  {
   "cell_type": "code",
   "execution_count": null,
   "id": "81a634ac",
   "metadata": {},
   "outputs": [],
   "source": [
    "df['istest'].sum() / len(df)"
   ]
  },
  {
   "cell_type": "markdown",
   "id": "52e71d94",
   "metadata": {},
   "source": [
    "#### "
   ]
  },
  {
   "cell_type": "code",
   "execution_count": null,
   "id": "629722ca",
   "metadata": {},
   "outputs": [],
   "source": [
    "(df['istrain'].sum() + df['istest'].sum()) / len(df)"
   ]
  },
  {
   "cell_type": "markdown",
   "id": "d42e1d1e",
   "metadata": {},
   "source": [
    "#### "
   ]
  },
  {
   "cell_type": "code",
   "execution_count": null,
   "id": "4665ed56",
   "metadata": {},
   "outputs": [],
   "source": [
    "unique_names = df['name'][istrain].unique()\n",
    "unique_names = df['name'][istrain].unique()\n",
    "vectorizer.fit(unique_names)\n",
    "vecs = vectorizer.transform(df['name'])\n",
    "vecs"
   ]
  },
  {
   "cell_type": "markdown",
   "id": "263546c4",
   "metadata": {},
   "source": [
    "#### "
   ]
  },
  {
   "cell_type": "code",
   "execution_count": null,
   "id": "73132e2b",
   "metadata": {},
   "outputs": [],
   "source": [
    "vectorizer = TfidfVectorizer(analyzer='char',\n",
    "   ngram_range=(1, 3), use_idf=False, lowercase=False)\n",
    "vectorizer = vectorizer.fit(unique_names)\n",
    "vecs = vectorizer.transform(df['name'])\n",
    "vecs = pd.DataFrame(vecs.toarray())\n",
    "vecs.columns = vectorizer.get_feature_names_out()\n",
    "vecs.index = df.index\n",
    "vecs.iloc[:,:5]"
   ]
  },
  {
   "cell_type": "markdown",
   "id": "218db756",
   "metadata": {},
   "source": [
    "#### "
   ]
  },
  {
   "cell_type": "code",
   "execution_count": null,
   "id": "1f9e1ef4",
   "metadata": {},
   "outputs": [],
   "source": [
    "import pandas as pd\n",
    "import re\n",
    "dfs = pd.read_html('https://en.wikipedia.org/wiki/'\n",
    "    + 'Comparison_of_deep-learning_software')\n",
    "tabl = dfs[0]"
   ]
  },
  {
   "cell_type": "markdown",
   "id": "0ec804f1",
   "metadata": {},
   "source": [
    "#### "
   ]
  },
  {
   "cell_type": "code",
   "execution_count": null,
   "id": "b57aea13",
   "metadata": {},
   "outputs": [],
   "source": [
    "bincols = list(tabl.loc[:, 'OpenMP support':].columns)\n",
    "bincols += ['Open source', 'Platform', 'Interface']\n",
    "dfd = {}\n",
    "for i, row in tabl.iterrows():\n",
    "   rowd = row.fillna('No').to_dict()\n",
    "   for c in bincols:\n",
    "       text = str(rowd[c]).strip().lower()\n",
    "       tokens = re.split(r'\\W+', text)"
   ]
  },
  {
   "cell_type": "markdown",
   "id": "acc0dcdb",
   "metadata": {},
   "source": [
    "#### "
   ]
  },
  {
   "cell_type": "code",
   "execution_count": null,
   "id": "63b0a3bf",
   "metadata": {},
   "outputs": [],
   "source": [
    "tabl = pd.DataFrame(dfd).T\n",
    "scores = tabl[bincols].T.sum()  # <1>\n",
    "tabl['Portability'] = scores\n",
    "tabl = tabl.sort_values('Portability', ascending=False)\n",
    "tabl = tabl.reset_index()\n",
    "tabl[['Software', 'Portability']][:10]"
   ]
  },
  {
   "cell_type": "markdown",
   "id": "fb7ae1ef",
   "metadata": {},
   "source": [
    "#### "
   ]
  },
  {
   "cell_type": "code",
   "execution_count": null,
   "id": "f8136b7b",
   "metadata": {},
   "outputs": [],
   "source": [
    "import torch"
   ]
  },
  {
   "cell_type": "markdown",
   "id": "aac045fc",
   "metadata": {},
   "source": [
    "#### "
   ]
  },
  {
   "cell_type": "code",
   "execution_count": null,
   "id": "9c801694",
   "metadata": {},
   "outputs": [],
   "source": [
    "loss_func_train = torch.nn.BCELoss(\n",
    "    weight=torch.Tensor(df[['count']][istrain].values))\n",
    "loss_func_test = torch.nn.BCELoss(  # <1>\n",
    "    weight=torch.Tensor(df[['count']][~istrain].values))\n",
    "loss_func_train"
   ]
  },
  {
   "cell_type": "markdown",
   "id": "831fbb01",
   "metadata": {},
   "source": [
    "#### "
   ]
  },
  {
   "cell_type": "code",
   "execution_count": null,
   "id": "4bde986f",
   "metadata": {},
   "outputs": [],
   "source": [
    "from torch.optim import SGD\n",
    "hyperparams = {'momentum': 0.001, 'lr': 0.02}  # <1>\n",
    "optimizer = SGD(\n",
    "    model.parameters(), **hyperparams)  # <2>\n",
    "optimizer"
   ]
  },
  {
   "cell_type": "markdown",
   "id": "df65ad99",
   "metadata": {},
   "source": [
    "#### "
   ]
  },
  {
   "cell_type": "code",
   "execution_count": null,
   "id": "ac47b385",
   "metadata": {},
   "outputs": [],
   "source": [
    "X = vecs.values\n",
    "y = (df[['sex']] == 'F').values\n",
    "X_train = torch.Tensor(X[istrain])\n",
    "X_test = torch.Tensor(X[~istrain])\n",
    "y_train = torch.Tensor(y[istrain])\n",
    "y_test = torch.Tensor(y[~istrain])"
   ]
  },
  {
   "cell_type": "markdown",
   "id": "d1dafb95",
   "metadata": {},
   "source": [
    "#### "
   ]
  },
  {
   "cell_type": "code",
   "execution_count": null,
   "id": "fb018c19",
   "metadata": {},
   "outputs": [],
   "source": [
    "from tqdm import tqdm"
   ]
  },
  {
   "cell_type": "markdown",
   "id": "f57012ed",
   "metadata": {},
   "source": [
    "#### "
   ]
  },
  {
   "cell_type": "code",
   "execution_count": null,
   "id": "2cda8d40",
   "metadata": {},
   "outputs": [],
   "source": [
    "def make_array(x):\n",
    "    if hasattr(x, 'detach'):\n",
    "        return torch.squeeze(x).detach().numpy()\n",
    "    return x"
   ]
  },
  {
   "cell_type": "markdown",
   "id": "fd75d8b4",
   "metadata": {},
   "source": [
    "#### "
   ]
  },
  {
   "cell_type": "code",
   "execution_count": null,
   "id": "74e6321f",
   "metadata": {},
   "outputs": [],
   "source": [
    "def measure_binary_accuracy(y_pred, y):\n",
    "    y_pred = make_array(y_pred).round()\n",
    "    y = make_array(y).round()\n",
    "    num_correct = (y_pred == y).sum()\n",
    "    return num_correct / len(y)"
   ]
  },
  {
   "cell_type": "markdown",
   "id": "d011e079",
   "metadata": {},
   "source": [
    "#### "
   ]
  },
  {
   "cell_type": "code",
   "execution_count": null,
   "id": "9b15086d",
   "metadata": {},
   "outputs": [],
   "source": [
    "X = vectorizer.transform(\n",
    "    ['John', 'Greg', 'Vishvesh',  # <1>\n",
    "model(torch.Tensor(X.todense()))"
   ]
  }
 ],
 "metadata": {},
 "nbformat": 4,
 "nbformat_minor": 5
}
