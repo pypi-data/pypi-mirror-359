{
 "cells": [
  {
   "cell_type": "markdown",
   "id": "635e58ec",
   "metadata": {},
   "source": [
    "#### [CH11_lane3](/home/hobs/code/hobs/nlpia-manuscript/manuscript/adoc/CH11_lane3.adoc)"
   ]
  },
  {
   "cell_type": "markdown",
   "id": "c1af2a0d",
   "metadata": {},
   "source": [
    "#### "
   ]
  },
  {
   "cell_type": "code",
   "execution_count": null,
   "id": "88363135",
   "metadata": {},
   "outputs": [],
   "source": [
    "re.split(r'[!.?]+[\\s$]+',\n",
    "    \"Hello World.... Are you there?!?! I'm going to Mars!\")"
   ]
  },
  {
   "cell_type": "markdown",
   "id": "f412361a",
   "metadata": {},
   "source": [
    "#### "
   ]
  },
  {
   "cell_type": "code",
   "execution_count": null,
   "id": "818eecb0",
   "metadata": {},
   "outputs": [],
   "source": [
    "re.split(\n",
    "   r'[!.?]+[\\s$]+',\n",
    "   \"The author wrote \\\"'It isn't conscious.' Turing said.\\\"\")"
   ]
  },
  {
   "cell_type": "markdown",
   "id": "8c7c0229",
   "metadata": {},
   "source": [
    "#### "
   ]
  },
  {
   "cell_type": "code",
   "execution_count": null,
   "id": "ec2efbad",
   "metadata": {},
   "outputs": [],
   "source": [
    "re.split(r'(?<!\\d)\\.|\\.(?!\\d)', \"I went to GT.You?\")"
   ]
  },
  {
   "cell_type": "markdown",
   "id": "8ad2bf27",
   "metadata": {},
   "source": [
    "#### "
   ]
  },
  {
   "cell_type": "code",
   "execution_count": null,
   "id": "0bcd0fbd",
   "metadata": {},
   "outputs": [],
   "source": [
    "import spacy\n",
    "nlp = spacy.load('en_core_web_md')\n",
    "doc = nlp(\"Are you an M.D. Dr. Gebru? either way you are brilliant.\")\n",
    "[s.text for s in doc.sents]"
   ]
  },
  {
   "cell_type": "markdown",
   "id": "7e856dbd",
   "metadata": {},
   "source": [
    "#### "
   ]
  },
  {
   "cell_type": "code",
   "execution_count": null,
   "id": "879fa3a3",
   "metadata": {},
   "outputs": [],
   "source": [
    "nlp.pipeline"
   ]
  },
  {
   "cell_type": "markdown",
   "id": "d445ca61",
   "metadata": {},
   "source": [
    "#### "
   ]
  },
  {
   "cell_type": "code",
   "execution_count": null,
   "id": "d7b99e5c",
   "metadata": {},
   "outputs": [],
   "source": [
    "nlp = spacy.load(\"en_core_web_md\", exclude=[\n",
    "   'tok2vec', 'parser', 'lemmatizer',  # <1>\n",
    "   'ner', 'tagger', 'attribute_ruler'])\n",
    "nlp.pipeline  # <2>"
   ]
  },
  {
   "cell_type": "markdown",
   "id": "daee4923",
   "metadata": {},
   "source": [
    "#### "
   ]
  },
  {
   "cell_type": "code",
   "execution_count": null,
   "id": "f1301a1d",
   "metadata": {},
   "outputs": [],
   "source": [
    "import time \n",
    "nlp.enable_pipe('senter')\n",
    "nlp.pipeline"
   ]
  },
  {
   "cell_type": "markdown",
   "id": "8fd81525",
   "metadata": {},
   "source": [
    "#### "
   ]
  },
  {
   "cell_type": "code",
   "execution_count": null,
   "id": "816ca985",
   "metadata": {},
   "outputs": [],
   "source": [
    "t0 = time.time(); lines2 = extract_lines(nlp=nlp); t1=time.time()\n",
    "t1 - t0"
   ]
  },
  {
   "cell_type": "markdown",
   "id": "cd2c2a43",
   "metadata": {},
   "source": [
    "#### "
   ]
  },
  {
   "cell_type": "code",
   "execution_count": null,
   "id": "c2080011",
   "metadata": {},
   "outputs": [],
   "source": [
    "import pandas as pd\n",
    "df_regex = pd.DataFrame(lines)  # <1>\n",
    "df_spacy = pd.DataFrame(lines2)  # <2>\n",
    "(df_regex['sents_regex'][df_regex.is_body]\n",
    " == df_spacy['sents_spacy'][df_spacy.is_body]\n",
    ").sum() / df_regex.is_body.sum()"
   ]
  },
  {
   "cell_type": "markdown",
   "id": "866fd412",
   "metadata": {},
   "source": [
    "#### "
   ]
  },
  {
   "cell_type": "code",
   "execution_count": null,
   "id": "bfeb0292",
   "metadata": {},
   "outputs": [],
   "source": [
    "df_regex['sents_regex'].iloc[59]"
   ]
  },
  {
   "cell_type": "markdown",
   "id": "0ac9edb2",
   "metadata": {},
   "source": [
    "#### "
   ]
  },
  {
   "cell_type": "code",
   "execution_count": null,
   "id": "45043278",
   "metadata": {},
   "outputs": [],
   "source": [
    "df_spacy['sents_spacy'].iloc[59]"
   ]
  },
  {
   "cell_type": "markdown",
   "id": "cd4ff1c3",
   "metadata": {},
   "source": [
    "#### "
   ]
  },
  {
   "cell_type": "code",
   "execution_count": null,
   "id": "0719933c",
   "metadata": {},
   "outputs": [],
   "source": [
    "import pandas as pd\n",
    "url = 'https://gitlab.com/tangibleai/nlpia2/-/raw/main/'\n",
    "url += 'src/nlpia2/data/nlpia_lines.csv'  # <1>\n",
    "df = pd.read_csv(url, index_col=0)\n",
    "df9 = df[df.chapter == 9].copy()\n",
    "df9.shape"
   ]
  },
  {
   "cell_type": "markdown",
   "id": "795b5714",
   "metadata": {},
   "source": [
    "#### "
   ]
  },
  {
   "cell_type": "code",
   "execution_count": null,
   "id": "cf5e7bc9",
   "metadata": {},
   "outputs": [],
   "source": [
    "pd.options.display.max_colwidth=25\n",
    "df9[['text', 'is_title', 'is_body', 'is_bullet']]"
   ]
  },
  {
   "cell_type": "markdown",
   "id": "7a2a1761",
   "metadata": {},
   "source": [
    "#### "
   ]
  },
  {
   "cell_type": "code",
   "execution_count": null,
   "id": "657139b1",
   "metadata": {},
   "outputs": [],
   "source": [
    "texts = df9.text[df9.is_body]\n",
    "texts.shape"
   ]
  },
  {
   "cell_type": "markdown",
   "id": "d22547c8",
   "metadata": {},
   "source": [
    "#### "
   ]
  },
  {
   "cell_type": "code",
   "execution_count": null,
   "id": "d44cb231",
   "metadata": {},
   "outputs": [],
   "source": [
    "from sentence_transformers import SentenceTransformer\n",
    "minibert = SentenceTransformer('all-MiniLM-L12-v2')\n",
    "vecs = minibert.encode(list(texts))\n",
    "vecs.shape"
   ]
  },
  {
   "cell_type": "markdown",
   "id": "210e37b7",
   "metadata": {},
   "source": [
    "#### "
   ]
  },
  {
   "cell_type": "code",
   "execution_count": null,
   "id": "ab47cdde",
   "metadata": {},
   "outputs": [],
   "source": [
    "from numpy.linalg import norm\n",
    "dfe = pd.DataFrame([list(v / norm(v)) for v in vecs])\n",
    "cos_sim = dfe.values.dot(dfe.values.T)\n",
    "cos_sim.shape"
   ]
  },
  {
   "cell_type": "markdown",
   "id": "382f0dd1",
   "metadata": {},
   "source": [
    "#### "
   ]
  },
  {
   "cell_type": "code",
   "execution_count": null,
   "id": "d411a058",
   "metadata": {},
   "outputs": [],
   "source": [
    "import seaborn as sns\n",
    "from matplotlib import pyplot as plt\n",
    "sns.heatmap(cos_sim)"
   ]
  },
  {
   "cell_type": "markdown",
   "id": "e7a0839f",
   "metadata": {},
   "source": [
    "#### "
   ]
  },
  {
   "cell_type": "code",
   "execution_count": null,
   "id": "17752383",
   "metadata": {},
   "outputs": [],
   "source": [
    "plt.xticks(rotation=-35, ha='left')\n",
    "plt.show(block=False)"
   ]
  },
  {
   "cell_type": "markdown",
   "id": "d7a962bd",
   "metadata": {},
   "source": [
    "#### "
   ]
  },
  {
   "cell_type": "code",
   "execution_count": null,
   "id": "0524431a",
   "metadata": {},
   "outputs": [],
   "source": [
    "i1 = text.index('Stochastic')\n",
    "text[i1:i1+51]"
   ]
  },
  {
   "cell_type": "markdown",
   "id": "cceb2d79",
   "metadata": {},
   "source": [
    "#### "
   ]
  },
  {
   "cell_type": "code",
   "execution_count": null,
   "id": "94930c96",
   "metadata": {},
   "outputs": [],
   "source": [
    "import re\n",
    "lat = r'([-]?[0-9]?[0-9][.][0-9]{2,10})'\n",
    "lon = r'([-]?1?[0-9]?[0-9][.][0-9]{2,10})'\n",
    "sep = r'[,/ ]{1,3}'\n",
    "re_gps = re.compile(lat + sep + lon)\n",
    "re_gps.findall('http://...maps/@34.0551066,-118.2496763...')"
   ]
  },
  {
   "cell_type": "markdown",
   "id": "31d1df73",
   "metadata": {},
   "source": [
    "#### "
   ]
  },
  {
   "cell_type": "code",
   "execution_count": null,
   "id": "6c269b6f",
   "metadata": {},
   "outputs": [],
   "source": [
    "re_gps.findall(\"https://www.openstreetmap.org/#map=10/5.9666/116.0566\")"
   ]
  },
  {
   "cell_type": "markdown",
   "id": "b7737d80",
   "metadata": {},
   "source": [
    "#### "
   ]
  },
  {
   "cell_type": "code",
   "execution_count": null,
   "id": "74c16cfb",
   "metadata": {},
   "outputs": [],
   "source": [
    "re_gps.findall(\"Zig Zag Cafe is at 45.344, -121.9431 on my GPS.\")"
   ]
  },
  {
   "cell_type": "markdown",
   "id": "5b087d9f",
   "metadata": {},
   "source": [
    "#### "
   ]
  },
  {
   "cell_type": "code",
   "execution_count": null,
   "id": "1434b273",
   "metadata": {},
   "outputs": [],
   "source": [
    "doc = nlp(text)  # <1>\n",
    "doc.ents[:6]  # <2>"
   ]
  },
  {
   "cell_type": "markdown",
   "id": "2349ae0f",
   "metadata": {},
   "source": [
    "#### "
   ]
  },
  {
   "cell_type": "code",
   "execution_count": null,
   "id": "e9fa298c",
   "metadata": {},
   "outputs": [],
   "source": [
    "first_sentence = list(doc.sents)[0]\n",
    "' '.join(['{}_{}'.format(tok, tok.pos_) for tok in first_sentence])"
   ]
  },
  {
   "cell_type": "markdown",
   "id": "71070c04",
   "metadata": {},
   "source": [
    "#### "
   ]
  },
  {
   "cell_type": "code",
   "execution_count": null,
   "id": "effea21f",
   "metadata": {},
   "outputs": [],
   "source": [
    "spacy.explain('CCONJ')"
   ]
  },
  {
   "cell_type": "markdown",
   "id": "dfb33e6e",
   "metadata": {},
   "source": [
    "#### "
   ]
  },
  {
   "cell_type": "code",
   "execution_count": null,
   "id": "68510c94",
   "metadata": {},
   "outputs": [],
   "source": [
    "' '.join(['{}_{}'.format(tok, tok.tag_) for tok in first_sentence])"
   ]
  },
  {
   "cell_type": "markdown",
   "id": "83ad5e17",
   "metadata": {},
   "source": [
    "#### "
   ]
  },
  {
   "cell_type": "code",
   "execution_count": null,
   "id": "3eb30115",
   "metadata": {},
   "outputs": [],
   "source": [
    "spacy.explain('VBZ')"
   ]
  },
  {
   "cell_type": "markdown",
   "id": "ad08501b",
   "metadata": {},
   "source": [
    "#### "
   ]
  },
  {
   "cell_type": "code",
   "execution_count": null,
   "id": "34e8130d",
   "metadata": {},
   "outputs": [],
   "source": [
    "import pandas as pd\n",
    "def token_dict(token):\n",
    "   return dict(TOK=token.text,\n",
    "       POS=token.pos_, TAG=token.tag_,\n",
    "       ENT_TYPE=token.ent_type_, DEP=token.dep_,\n",
    "       children=[c for c in token.children])\n",
    "token_dict(doc[0])"
   ]
  },
  {
   "cell_type": "markdown",
   "id": "6beb8412",
   "metadata": {},
   "source": [
    "#### "
   ]
  },
  {
   "cell_type": "code",
   "execution_count": null,
   "id": "f2250d21",
   "metadata": {},
   "outputs": [],
   "source": [
    "def doc2df(doc):\n",
    "   return pd.DataFrame([token_dict(tok) for tok in doc])\n",
    "pd.options.display.max_colwidth=20\n",
    "doc2df(doc)"
   ]
  },
  {
   "cell_type": "markdown",
   "id": "a7b41865",
   "metadata": {},
   "source": [
    "#### "
   ]
  },
  {
   "cell_type": "code",
   "execution_count": null,
   "id": "2e5d880f",
   "metadata": {},
   "outputs": [],
   "source": [
    "nlp = spacy.load('en_core_web_lg')\n",
    "doc = nlp(text)\n",
    "doc2df(doc)"
   ]
  },
  {
   "cell_type": "markdown",
   "id": "a4db8c3c",
   "metadata": {},
   "source": [
    "#### .An excerpt from the \"Timnit Gebru\" Wikipedia article"
   ]
  },
  {
   "cell_type": "code",
   "execution_count": null,
   "id": "cc326af1",
   "metadata": {},
   "outputs": [],
   "source": [
    "i0 = text.index('In a six')\n",
    "text_gebru = text[i0:i0+308]  # <1>\n",
    "text_gebru"
   ]
  },
  {
   "cell_type": "markdown",
   "id": "3131276a",
   "metadata": {},
   "source": [
    "#### .Coreference chains from Wikipedia text"
   ]
  },
  {
   "cell_type": "code",
   "execution_count": null,
   "id": "a0a9c60e",
   "metadata": {},
   "outputs": [],
   "source": [
    "import spacy, coreferee  # <1>\n",
    "nlptrf = spacy.load('en_core_web_trf')\n",
    "nlptrf.add_pipe('coreferee')"
   ]
  },
  {
   "cell_type": "markdown",
   "id": "240baa20",
   "metadata": {},
   "source": [
    "#### .Coreference chains from Wikipedia text"
   ]
  },
  {
   "cell_type": "code",
   "execution_count": null,
   "id": "84eb29df",
   "metadata": {},
   "outputs": [],
   "source": [
    "doc_gebru = nlptrf(text_gebru)  # <2>\n",
    "doc_gebru._.coref_chains"
   ]
  },
  {
   "cell_type": "markdown",
   "id": "9b65c4e1",
   "metadata": {},
   "source": [
    "#### .Coreference chains from Wikipedia text"
   ]
  },
  {
   "cell_type": "code",
   "execution_count": null,
   "id": "337c77fa",
   "metadata": {},
   "outputs": [],
   "source": [
    "doc_gebru._.coref_chains.print()"
   ]
  },
  {
   "cell_type": "markdown",
   "id": "0de2cd9e",
   "metadata": {},
   "source": [
    "#### .Coreference chains from Wikipedia text"
   ]
  },
  {
   "cell_type": "code",
   "execution_count": null,
   "id": "509dcede",
   "metadata": {},
   "outputs": [],
   "source": [
    "def stringify_coreferences(doc):\n",
    "    i, headers, sents = 0, [], []\n",
    "    for sent in doc.sents:\n",
    "        headers.append('')\n",
    "        sents.append('')\n",
    "        for t in sent:\n",
    "            tok = t.text + t.whitespace_\n",
    "            idx = str(i)\n",
    "            if len(idx) >= len(tok):\n",
    "                idx = ' ' * len(tok)\n",
    "            else:\n",
    "                idx += ' ' * (len(tok) - len(idx))\n",
    "            headers[-1] += idx\n",
    "            sents[-1] += tok\n",
    "            i += 1\n",
    "    return headers, sents"
   ]
  },
  {
   "cell_type": "markdown",
   "id": "bd44bbdf",
   "metadata": {},
   "source": [
    "#### .Coreference chains from Wikipedia text"
   ]
  },
  {
   "cell_type": "code",
   "execution_count": null,
   "id": "a2792f93",
   "metadata": {},
   "outputs": [],
   "source": [
    "def wrap_header_strings(headers, sents, width=70):\n",
    "    lines = []\n",
    "    for h, s in zip(headers, sents):\n",
    "        i = 0\n",
    "        while i < len(s):\n",
    "            i += width\n",
    "            lines.append(h[i-width:i])\n",
    "            lines.append(s[i-width:i])\n",
    "            lines.append('')"
   ]
  },
  {
   "cell_type": "markdown",
   "id": "d91f2642",
   "metadata": {},
   "source": [
    "#### "
   ]
  },
  {
   "cell_type": "code",
   "execution_count": null,
   "id": "4d30f02d",
   "metadata": {},
   "outputs": [],
   "source": [
    "headers, sents = stringify_coreferences(doc_gebru)\n",
    "lines = wrap_header_strings(headers, sents)\n",
    "print('\\n'.join(lines))"
   ]
  },
  {
   "cell_type": "markdown",
   "id": "fe2fdd17",
   "metadata": {},
   "source": [
    "#### "
   ]
  },
  {
   "cell_type": "code",
   "execution_count": null,
   "id": "5ca3e3f4",
   "metadata": {},
   "outputs": [],
   "source": [
    "doc_gebru._.coref_chains.print()"
   ]
  },
  {
   "cell_type": "markdown",
   "id": "503c42d4",
   "metadata": {},
   "source": [
    "#### "
   ]
  },
  {
   "cell_type": "code",
   "execution_count": null,
   "id": "6d296137",
   "metadata": {},
   "outputs": [],
   "source": [
    "text = \"Gebru was unethically fired from her Ethical AI team.\"\n",
    "doc = nlp(text)\n",
    "doc2df(doc)"
   ]
  },
  {
   "cell_type": "markdown",
   "id": "e81324a9",
   "metadata": {},
   "source": [
    "#### "
   ]
  },
  {
   "cell_type": "code",
   "execution_count": null,
   "id": "71ce49a0",
   "metadata": {},
   "outputs": [],
   "source": [
    "def token_dict2(token):\n",
    "   d = token_dict(token)\n",
    "   d['children'] = list(token.children)  # <1>\n",
    "   return d\n",
    "token_dict2(doc[0])"
   ]
  },
  {
   "cell_type": "markdown",
   "id": "db17c83b",
   "metadata": {},
   "source": [
    "#### "
   ]
  },
  {
   "cell_type": "code",
   "execution_count": null,
   "id": "cb90b120",
   "metadata": {},
   "outputs": [],
   "source": [
    "def doc2df(doc):\n",
    "    df = pd.DataFrame([token_dict2(t) for t in doc])\n",
    "    return df.set_index('TOK')\n",
    "doc2df(doc)"
   ]
  },
  {
   "cell_type": "markdown",
   "id": "13cae661",
   "metadata": {},
   "source": [
    "#### "
   ]
  },
  {
   "cell_type": "code",
   "execution_count": null,
   "id": "7cb36c5e",
   "metadata": {},
   "outputs": [],
   "source": [
    "doc2df(doc)['children']['fired']"
   ]
  },
  {
   "cell_type": "markdown",
   "id": "b0fe745d",
   "metadata": {},
   "source": [
    "#### "
   ]
  },
  {
   "cell_type": "code",
   "execution_count": null,
   "id": "336e7366",
   "metadata": {},
   "outputs": [],
   "source": [
    "from spacy.displacy import render\n",
    "sentence = \"In 1541 Desoto wrote in his journal about the Pascagoula.\"\n",
    "parsed_sent = nlp(sentence)\n",
    "with open('pascagoula.html', 'w') as f:\n",
    "    f.write(render(docs=parsed_sent, page=True, options=dict(compact=True)))"
   ]
  },
  {
   "cell_type": "markdown",
   "id": "daf83832",
   "metadata": {},
   "source": [
    "#### "
   ]
  },
  {
   "cell_type": "code",
   "execution_count": null,
   "id": "55759caa",
   "metadata": {},
   "outputs": [],
   "source": [
    "import benepar\n",
    "benepar.download('benepar_en3')"
   ]
  },
  {
   "cell_type": "markdown",
   "id": "c064aa3e",
   "metadata": {},
   "source": [
    "#### "
   ]
  },
  {
   "cell_type": "code",
   "execution_count": null,
   "id": "1c333efa",
   "metadata": {},
   "outputs": [],
   "source": [
    "import spacy"
   ]
  },
  {
   "cell_type": "markdown",
   "id": "0b4ee6b0",
   "metadata": {},
   "source": [
    "#### "
   ]
  },
  {
   "cell_type": "code",
   "execution_count": null,
   "id": "c43bb553",
   "metadata": {},
   "outputs": [],
   "source": [
    "doc_dataframe(nlp(\"In 1541 Desoto met the Pascagoula.\"))"
   ]
  },
  {
   "cell_type": "markdown",
   "id": "34fa58d9",
   "metadata": {},
   "source": [
    "#### "
   ]
  },
  {
   "cell_type": "code",
   "execution_count": null,
   "id": "fd3fcfaa",
   "metadata": {},
   "outputs": [],
   "source": [
    "pattern = ["
   ]
  },
  {
   "cell_type": "markdown",
   "id": "db707c60",
   "metadata": {},
   "source": [
    "#### .Creating a POS pattern matcher with spaCy"
   ]
  },
  {
   "cell_type": "code",
   "execution_count": null,
   "id": "ee5a2dff",
   "metadata": {},
   "outputs": [],
   "source": [
    "from spacy.matcher import Matcher\n",
    "doc = nlp(\"In 1541 Desoto met the Pascagoula.\")\n",
    "matcher = Matcher(nlp.vocab)\n",
    "matcher.add(\n",
    "    key='met',\n",
    "    patterns=[pattern])\n",
    "matches = matcher(doc)\n",
    "matches"
   ]
  },
  {
   "cell_type": "markdown",
   "id": "304a0a97",
   "metadata": {},
   "source": [
    "#### .Creating a POS pattern matcher with spaCy"
   ]
  },
  {
   "cell_type": "code",
   "execution_count": null,
   "id": "f72826b7",
   "metadata": {},
   "outputs": [],
   "source": [
    "start = matches[0][1]\n",
    "stop = matches[0][2]\n",
    "doc[start:stop]  # <2>"
   ]
  },
  {
   "cell_type": "markdown",
   "id": "5bb17303",
   "metadata": {},
   "source": [
    "#### .Creating a POS pattern matcher with spaCy"
   ]
  },
  {
   "cell_type": "code",
   "execution_count": null,
   "id": "b027231d",
   "metadata": {},
   "outputs": [],
   "source": [
    "doc = nlp(\"October 24: Lewis and Clark met their\" \\\n",
    "    \"first Mandan Chief, Big White.\")\n",
    "m = matcher(doc)[0]\n",
    "m"
   ]
  },
  {
   "cell_type": "markdown",
   "id": "1dd373b2",
   "metadata": {},
   "source": [
    "#### .Creating a POS pattern matcher with spaCy"
   ]
  },
  {
   "cell_type": "code",
   "execution_count": null,
   "id": "d0ccc8b4",
   "metadata": {},
   "outputs": [],
   "source": [
    "doc[m[1]:m[2]]"
   ]
  },
  {
   "cell_type": "markdown",
   "id": "da8ecdef",
   "metadata": {},
   "source": [
    "#### .Creating a POS pattern matcher with spaCy"
   ]
  },
  {
   "cell_type": "code",
   "execution_count": null,
   "id": "dc6539f5",
   "metadata": {},
   "outputs": [],
   "source": [
    "doc = nlp(\"On 11 October 1986, Gorbachev and Reagan met at Höfði house\")\n",
    "matcher(doc)"
   ]
  },
  {
   "cell_type": "markdown",
   "id": "27dde29f",
   "metadata": {},
   "source": [
    "#### .Creating a POS pattern matcher with spaCy"
   ]
  },
  {
   "cell_type": "code",
   "execution_count": null,
   "id": "f51482d2",
   "metadata": {},
   "outputs": [],
   "source": [
    "doc = nlp(\n",
    "    \"On 11 October 1986, Gorbachev and Reagan met at Hofoi house\"\n",
    "    )\n",
    "pattern = [\n",
    "    {'POS': {'IN': ['NOUN', 'PROPN']}, 'OP': '+'},\n",
    "    {'LEMMA': 'and'},\n",
    "    {'POS': {'IN': ['NOUN', 'PROPN']}, 'OP': '+'},\n",
    "    {'IS_ALPHA': True, 'OP': '*'},\n",
    "    {'LEMMA': 'meet'}\n",
    "    ]\n",
    "matcher.add('met', None, pattern)  # <1>\n",
    "matches = matcher(doc)\n",
    "pd.DataFrame(matches, columns=)"
   ]
  },
  {
   "cell_type": "markdown",
   "id": "a7d4e498",
   "metadata": {},
   "source": [
    "#### .Creating a POS pattern matcher with spaCy"
   ]
  },
  {
   "cell_type": "code",
   "execution_count": null,
   "id": "1906f9f4",
   "metadata": {},
   "outputs": [],
   "source": [
    "doc[m[-1][1]:m[-1][2]]  # <3>"
   ]
  },
  {
   "cell_type": "markdown",
   "id": "394338a4",
   "metadata": {},
   "source": [
    "#### "
   ]
  },
  {
   "cell_type": "code",
   "execution_count": null,
   "id": "a2955ab6",
   "metadata": {},
   "outputs": [],
   "source": [
    "import pandas as pd\n",
    "pd.options.display.max_colwidth = 20\n",
    "from nlpia2.nell import read_nell_tsv, simplify_names\n",
    "df = read_nell_tsv(nrows=1000)\n",
    "df[df.columns[:4]].head()"
   ]
  },
  {
   "cell_type": "markdown",
   "id": "d1b4ed5e",
   "metadata": {},
   "source": [
    "#### "
   ]
  },
  {
   "cell_type": "code",
   "execution_count": null,
   "id": "b97f2d84",
   "metadata": {},
   "outputs": [],
   "source": [
    "pd.options.display.max_colwidth = 40\n",
    "df['entity'].str.split(':').str[1:].str.join(':')"
   ]
  },
  {
   "cell_type": "markdown",
   "id": "3982e86e",
   "metadata": {},
   "source": [
    "#### "
   ]
  },
  {
   "cell_type": "code",
   "execution_count": null,
   "id": "f44e1ef3",
   "metadata": {},
   "outputs": [],
   "source": [
    "df['entity'].str.split(':').str[-1]"
   ]
  },
  {
   "cell_type": "markdown",
   "id": "b9018eec",
   "metadata": {},
   "source": [
    "#### "
   ]
  },
  {
   "cell_type": "code",
   "execution_count": null,
   "id": "d5e01c00",
   "metadata": {},
   "outputs": [],
   "source": [
    "df = simplify_names(df)  # <1>\n",
    "df[df.columns[[0, 1, 2, 4]]].head()"
   ]
  },
  {
   "cell_type": "markdown",
   "id": "e823908c",
   "metadata": {},
   "source": [
    "#### "
   ]
  },
  {
   "cell_type": "code",
   "execution_count": null,
   "id": "3bb65cbf",
   "metadata": {},
   "outputs": [],
   "source": [
    "islatlon = df['relation'] == 'latlon'\n",
    "df[islatlon].head()"
   ]
  },
  {
   "cell_type": "markdown",
   "id": "cc48ff44",
   "metadata": {},
   "source": [
    "#### "
   ]
  },
  {
   "cell_type": "code",
   "execution_count": null,
   "id": "45ddd023",
   "metadata": {},
   "outputs": [],
   "source": [
    "def get_wikidata_qid(wikiarticle, wikisite=\"enwiki\"):\n",
    "    WIKIDATA_URL='https://www.wikidata.org/w/api.php'\n",
    "    resp = requests.get(WIKIDATA_URL, timeout=5, params={\n",
    "        'action': 'wbgetentities',\n",
    "        'titles': wikiarticle,\n",
    "        'sites': wikisite,\n",
    "        'props': '',\n",
    "        'format': 'json'\n",
    "    }).json()\n",
    "    return list(resp['entities'])[0]\n",
    "tg_qid = get_wikidata_qid('Timnit Gebru')\n",
    "tg_qid"
   ]
  },
  {
   "cell_type": "markdown",
   "id": "b38ddf41",
   "metadata": {},
   "source": [
    "#### "
   ]
  },
  {
   "cell_type": "code",
   "execution_count": null,
   "id": "49a356d1",
   "metadata": {},
   "outputs": [],
   "source": [
    "NOTABLE_WORK_PID = 'P800'     # <1>\n",
    "INSTANCE_OF_PID = 'P31'       # <2>\n",
    "SCH_ARTICLE_QID= 'Q13442814'  # <3>\n",
    "query = f\"\"\""
   ]
  },
  {
   "cell_type": "markdown",
   "id": "531c051e",
   "metadata": {},
   "source": [
    "#### "
   ]
  },
  {
   "cell_type": "code",
   "execution_count": null,
   "id": "578ed3fd",
   "metadata": {},
   "outputs": [],
   "source": [
    "from SPARQLWrapper import SPARQLWrapper, JSON\n",
    "endpoint_url = \"https://query.wikidata.org/sparql\"\n",
    "sparql = SPARQLWrapper(endpoint_url)\n",
    "sparql.setReturnFormat(JSON)  # <1>"
   ]
  },
  {
   "cell_type": "markdown",
   "id": "39d24679",
   "metadata": {},
   "source": [
    "#### "
   ]
  },
  {
   "cell_type": "code",
   "execution_count": null,
   "id": "00a73d0c",
   "metadata": {},
   "outputs": [],
   "source": [
    "sparql.setQuery(query)\n",
    "result = sparql.queryAndConvert()\n",
    "result"
   ]
  },
  {
   "cell_type": "markdown",
   "id": "fae9e5e6",
   "metadata": {},
   "source": [
    "#### "
   ]
  },
  {
   "cell_type": "code",
   "execution_count": null,
   "id": "1d051544",
   "metadata": {},
   "outputs": [],
   "source": [
    "import re\n",
    "uri = result['results']['bindings'][0]['article']['value']\n",
    "match_id = re.search(r'entity/(Q\\d+)', uri)\n",
    "article_qid = match_id.group(1)\n",
    "AUTHOR_PID = 'P50'\n",
    "query = f\"\"\"\n",
    "     SELECT ?author ?authorLabel WHERE {{\n",
    "     wd:{article_qid} wdt:{AUTHOR_PID} ?author.\n",
    "     SERVICE wikibase:label {{ bd:serviceParam wikibase:language \"en\". }}\n",
    "     }}\n",
    "     \"\"\"\n",
    "sparql.setQuery(query)\n",
    "result = sparql.queryAndConvert()['results']['bindings']\n",
    "authors = [record['authorLabel']['value'] for record in result]\n",
    "authors"
   ]
  },
  {
   "cell_type": "markdown",
   "id": "15487912",
   "metadata": {},
   "source": [
    "#### "
   ]
  },
  {
   "cell_type": "code",
   "execution_count": null,
   "id": "a83959b7",
   "metadata": {},
   "outputs": [],
   "source": [
    "query = \"\"\"\n",
    "SELECT ?author ?authorLabel WHERE {\n",
    "    {\n",
    "    SELECT ?article WHERE {\n",
    "        wd:Q59753117 wdt:P800 ?article.\n",
    "        ?article wdt:P31 wd:Q13442814.\n",
    "        }\n",
    "    }\n",
    "    ?article wdt:P50 ?author.\n",
    "    SERVICE wikibase:label {"
   ]
  }
 ],
 "metadata": {},
 "nbformat": 4,
 "nbformat_minor": 5
}
