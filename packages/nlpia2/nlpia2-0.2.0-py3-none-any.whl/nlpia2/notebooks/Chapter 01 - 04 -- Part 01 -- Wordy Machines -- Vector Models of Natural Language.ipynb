{
 "cells": [
  {
   "cell_type": "markdown",
   "id": "831b18b5",
   "metadata": {},
   "source": [
    "#### [Chapter 01 - 04 -- Part 01 -- Wordy Machines -- Vector Models of Natural Language](/home/hobs/code/hobs/nlpia-manuscript/manuscript/adoc/Chapter 01 - 04 -- Part 01 -- Wordy Machines -- Vector Models of Natural Language.adoc)"
   ]
  }
 ],
 "metadata": {},
 "nbformat": 4,
 "nbformat_minor": 5
}
