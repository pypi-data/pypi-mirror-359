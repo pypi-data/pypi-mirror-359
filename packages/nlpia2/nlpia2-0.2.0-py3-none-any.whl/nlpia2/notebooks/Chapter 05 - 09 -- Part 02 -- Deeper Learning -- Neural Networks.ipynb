{
 "cells": [
  {
   "cell_type": "markdown",
   "id": "75d393f8",
   "metadata": {},
   "source": [
    "#### [Chapter 05 - 09 -- Part 02 -- Deeper Learning -- Neural Networks](/home/hobs/code/hobs/nlpia-manuscript/manuscript/adoc/Chapter 05 - 09 -- Part 02 -- Deeper Learning -- Neural Networks.adoc)"
   ]
  }
 ],
 "metadata": {},
 "nbformat": 4,
 "nbformat_minor": 5
}
