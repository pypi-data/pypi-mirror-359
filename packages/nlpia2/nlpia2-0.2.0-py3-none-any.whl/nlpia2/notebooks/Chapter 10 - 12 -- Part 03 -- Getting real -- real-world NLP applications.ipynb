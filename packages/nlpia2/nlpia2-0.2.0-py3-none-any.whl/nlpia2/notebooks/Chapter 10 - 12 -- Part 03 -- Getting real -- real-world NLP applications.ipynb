{
 "cells": [
  {
   "cell_type": "markdown",
   "id": "43bde8e0",
   "metadata": {},
   "source": [
    "#### [Chapter 10 - 12 -- Part 03 -- Getting real -- real-world NLP applications](/home/hobs/code/hobs/nlpia-manuscript/manuscript/adoc/Chapter 10 - 12 -- Part 03 -- Getting real -- real-world NLP applications.adoc)"
   ]
  }
 ],
 "metadata": {},
 "nbformat": 4,
 "nbformat_minor": 5
}
