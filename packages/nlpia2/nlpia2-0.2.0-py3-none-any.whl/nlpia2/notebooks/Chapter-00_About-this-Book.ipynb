{
 "cells": [
  {
   "cell_type": "markdown",
   "id": "d028200f",
   "metadata": {},
   "source": [
    "#### [`Chapter-00_About-this-Book`](/home/hobs/code/hobs/nlpia-manuscript/manuscript/adoc/Chapter-00_About-this-Book.adoc)"
   ]
  }
 ],
 "metadata": {
  "kernelspec": {
   "display_name": "Python 3 (ipykernel)",
   "language": "python",
   "name": "python3"
  },
  "language_info": {
   "codemirror_mode": {
    "name": "ipython",
    "version": 3
   },
   "file_extension": ".py",
   "mimetype": "text/x-python",
   "name": "python",
   "nbconvert_exporter": "python",
   "pygments_lexer": "ipython3",
   "version": "3.10.12"
  }
 },
 "nbformat": 4,
 "nbformat_minor": 5
}
