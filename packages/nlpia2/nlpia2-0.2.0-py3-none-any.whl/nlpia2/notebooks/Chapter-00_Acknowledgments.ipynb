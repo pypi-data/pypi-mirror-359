{
 "cells": [
  {
   "cell_type": "markdown",
   "id": "46eb243f",
   "metadata": {},
   "source": [
    "#### [`Chapter-00_Acknowledgments`](/home/hobs/code/hobs/nlpia-manuscript/manuscript/adoc/Chapter-00_Acknowledgments.adoc)"
   ]
  }
 ],
 "metadata": {},
 "nbformat": 4,
 "nbformat_minor": 5
}
