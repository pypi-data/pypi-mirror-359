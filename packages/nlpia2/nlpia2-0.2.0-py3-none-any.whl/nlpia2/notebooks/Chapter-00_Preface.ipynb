{
 "cells": [
  {
   "cell_type": "markdown",
   "id": "5b38b1f8",
   "metadata": {},
   "source": [
    "#### [`Chapter-00_Preface`](/home/hobs/code/hobs/nlpia-manuscript/manuscript/adoc/Chapter-00_Preface.adoc)"
   ]
  }
 ],
 "metadata": {},
 "nbformat": 4,
 "nbformat_minor": 5
}
