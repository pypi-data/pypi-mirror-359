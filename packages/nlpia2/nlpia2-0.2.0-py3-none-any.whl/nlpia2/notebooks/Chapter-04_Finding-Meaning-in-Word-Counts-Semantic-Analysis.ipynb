{
 "cells": [
  {
   "cell_type": "markdown",
   "id": "7f980034",
   "metadata": {},
   "source": [
    "#### [`Chapter-04_Finding-Meaning-in-Word-Counts-Semantic-Analysis`](/home/hobs/code/hobs/nlpia-manuscript/manuscript/adoc/Chapter-04_Finding-Meaning-in-Word-Counts-Semantic-Analysis.adoc)"
   ]
  },
  {
   "cell_type": "markdown",
   "id": "9cb465ff",
   "metadata": {},
   "source": [
    "#### .Sample weights for your topics"
   ]
  },
  {
   "cell_type": "code",
   "execution_count": null,
   "id": "5fafa0b0",
   "metadata": {},
   "outputs": [],
   "source": [
    "import numpy as np\n",
    "topic = {}\n",
    "tfidf = dict(list(zip('cat dog apple lion NYC love'.split(),\n",
    "    np.random.rand(6))))  # <1>\n",
    "topic['petness'] = (.3 * tfidf['cat'] +\\\n",
    "                    .3 * tfidf['dog'] +\\\n",
    "                     0 * tfidf['apple'] +\\\n",
    "                     0 * tfidf['lion'] -\\\n",
    "                    .2 * tfidf['NYC'] +\\\n",
    "                    .2 * tfidf['love'])  # <2>\n",
    "topic['animalness']  = (.1 * tfidf['cat']  +\\\n",
    "                        .1 * tfidf['dog'] -\\\n",
    "                        .1 * tfidf['apple'] +\\\n",
    "                        .5 * tfidf['lion'] +\\\n",
    "                        .1 * tfidf['NYC'] -\\\n",
    "                        .1 * tfidf['love'])\n",
    "topic['cityness']    = ( 0 * tfidf['cat']  -\\\n",
    "                        .1 * tfidf['dog'] +\\\n",
    "                        .2 * tfidf['apple'] -\\\n",
    "                        .1 * tfidf['lion'] +\\\n",
    "                        .5 * tfidf['NYC'] +\\\n",
    "                        .1 * tfidf['love'])"
   ]
  },
  {
   "cell_type": "markdown",
   "id": "0e97c06b",
   "metadata": {},
   "source": [
    "#### "
   ]
  },
  {
   "cell_type": "code",
   "execution_count": null,
   "id": "b3c0b8f0",
   "metadata": {},
   "outputs": [],
   "source": [
    "word_vector = {}\n",
    "word_vector['cat']  =  .3*topic['petness'] +\\\n",
    "                       .1*topic['animalness'] +\\\n",
    "                        0*topic['cityness']\n",
    "word_vector['dog']  =  .3*topic['petness'] +\\\n",
    "                       .1*topic['animalness'] -\\\n",
    "                       .1*topic['cityness']\n",
    "word_vector['apple']=   0*topic['petness'] -\\\n",
    "                       .1*topic['animalness'] +\\\n",
    "                       .2*topic['cityness']\n",
    "word_vector['lion'] =   0*topic['petness'] +\\\n",
    "                       .5*topic['animalness'] -\\\n",
    "                       .1*topic['cityness']\n",
    "word_vector['NYC']  = -.2*topic['petness'] +\\\n",
    "                       .1*topic['animalness'] +\\\n",
    "                       .5*topic['cityness']\n",
    "word_vector['love'] =  .2*topic['petness'] -\\\n",
    "                       .1*topic['animalness'] +\\\n",
    "                       .1*topic['cityness']"
   ]
  },
  {
   "cell_type": "markdown",
   "id": "3ddf9744",
   "metadata": {},
   "source": [
    "#### .The toxic comment dataset"
   ]
  },
  {
   "cell_type": "code",
   "execution_count": null,
   "id": "00fe0936",
   "metadata": {},
   "outputs": [],
   "source": [
    "import pandas as pd\n",
    "pd.options.display.width = 120  # <1>\n",
    "DATA_DIR = ('https://gitlab.com/tangibleai/nlpia/-/raw/master/'\n",
    "            'src/nlpia/data')\n",
    "url= DATA_DIR + '/toxic_comment_small.csv'\n",
    "comments = pd.read_csv(url)\n",
    "index = ['comment{}{}'.format(i, '!'*j) for (i,j) in\n",
    "         zip(range(len(comments)), comments.toxic)\n",
    "        ]  # <2>\n",
    "comments = pd.DataFrame(\n",
    "    comments.values, columns=comments.columns, index=index)\n",
    "mask = comments.toxic.astype(bool).values\n",
    "comments['toxic'] = comments.toxic.astype(int)\n",
    "len(comments)"
   ]
  },
  {
   "cell_type": "markdown",
   "id": "6394a8e3",
   "metadata": {},
   "source": [
    "#### .The toxic comment dataset"
   ]
  },
  {
   "cell_type": "code",
   "execution_count": null,
   "id": "680c8abe",
   "metadata": {},
   "outputs": [],
   "source": [
    "comments.toxic.sum()"
   ]
  },
  {
   "cell_type": "markdown",
   "id": "140bb5b1",
   "metadata": {},
   "source": [
    "#### .The toxic comment dataset"
   ]
  },
  {
   "cell_type": "code",
   "execution_count": null,
   "id": "6aeb0304",
   "metadata": {},
   "outputs": [],
   "source": [
    "comments.head(6)"
   ]
  },
  {
   "cell_type": "markdown",
   "id": "960276ba",
   "metadata": {},
   "source": [
    "#### .The toxic comment dataset"
   ]
  },
  {
   "cell_type": "code",
   "execution_count": null,
   "id": "dbba43de",
   "metadata": {},
   "outputs": [],
   "source": [
    "from sklearn.feature_extraction.text import TfidfVectorizer\n",
    "import spacy\n",
    "nlp = spacy.load(\"en_core_web_sm\")\n",
    "def spacy_tokenize(sentence):\n",
    "   return [token.text for token in nlp(sentence.lower())]\n",
    "tfidf_model = TfidfVectorizer(tokenizer=spacy_tokenize)\n",
    "tfidf_docs = tfidf_model.fit_transform(\\\n",
    "    raw_documents=comments.text).toarray()\n",
    "tfidf_docs.shape"
   ]
  },
  {
   "cell_type": "markdown",
   "id": "1462c117",
   "metadata": {},
   "source": [
    "#### "
   ]
  },
  {
   "cell_type": "code",
   "execution_count": null,
   "id": "ef5a002e",
   "metadata": {},
   "outputs": [],
   "source": [
    "mask = comments.toxic.astype(bool).values  # <1>\n",
    "toxic_centroid = tfidf_docs[mask].mean(axis=0)  # <2>\n",
    "nontoxic_centroid = tfidf_docs[~mask].mean(axis=0)  # <3>"
   ]
  },
  {
   "cell_type": "markdown",
   "id": "f795880b",
   "metadata": {},
   "source": [
    "#### "
   ]
  },
  {
   "cell_type": "code",
   "execution_count": null,
   "id": "e23bcc3e",
   "metadata": {},
   "outputs": [],
   "source": [
    "centroid_axis = toxic_centroid - nontoxic_centroid\n",
    "toxicity_score = tfidf_docs.dot(centroid_axis)  # <1>\n",
    "toxicity_score.round(3)"
   ]
  },
  {
   "cell_type": "markdown",
   "id": "7387e633",
   "metadata": {},
   "source": [
    "#### "
   ]
  },
  {
   "cell_type": "code",
   "execution_count": null,
   "id": "2f5a8048",
   "metadata": {},
   "outputs": [],
   "source": [
    "from sklearn.preprocessing import MinMaxScaler\n",
    "comments['manual_score'] = MinMaxScaler().fit_transform(\\\n",
    "    toxicity_score.reshape(-1,1))\n",
    "comments['manual_predict'] = (comments.manual_score > .5).astype(int)\n",
    "comments['toxic manual_predict manual_score'.split()].round(2).head(6)"
   ]
  },
  {
   "cell_type": "markdown",
   "id": "beacc923",
   "metadata": {},
   "source": [
    "#### "
   ]
  },
  {
   "cell_type": "code",
   "execution_count": null,
   "id": "d8ac28f2",
   "metadata": {},
   "outputs": [],
   "source": [
    "(1 - (comments.toxic - comments.manual_predict).abs().sum() \n",
    "    / len(comments))"
   ]
  },
  {
   "cell_type": "markdown",
   "id": "cffe7fc9",
   "metadata": {},
   "source": [
    "#### .LDA model performance with train-test split"
   ]
  },
  {
   "cell_type": "code",
   "execution_count": null,
   "id": "732a058f",
   "metadata": {},
   "outputs": [],
   "source": [
    "from sklearn.model_selection import train_test_split\n",
    "X_train, X_test, y_train, y_test = train_test_split(tfidf_docs,\\\n",
    "    comments.toxic.values, test_size=0.5, random_state=271828)\n",
    "lda_tfidf = LDA(n_components=1)\n",
    "lda = lda_tfidf.fit(X_train, y_train)  # <1>\n",
    "round(float(lda.score(X_train, y_train)), 3)"
   ]
  },
  {
   "cell_type": "markdown",
   "id": "fb06a2e2",
   "metadata": {},
   "source": [
    "#### .LDA model performance with train-test split"
   ]
  },
  {
   "cell_type": "code",
   "execution_count": null,
   "id": "3cf62889",
   "metadata": {},
   "outputs": [],
   "source": [
    "round(float(lda.score(X_test, y_test)), 3)"
   ]
  },
  {
   "cell_type": "markdown",
   "id": "566cdfd7",
   "metadata": {},
   "source": [
    "#### .LDA model performance with train-test split"
   ]
  },
  {
   "cell_type": "code",
   "execution_count": null,
   "id": "77254cdd",
   "metadata": {},
   "outputs": [],
   "source": [
    "from sklearn.metrics import confusion_matrix\n",
    "confusion_matrix(y_test, lda.predict(X_test))"
   ]
  },
  {
   "cell_type": "markdown",
   "id": "fe8b0ccb",
   "metadata": {},
   "source": [
    "#### .LDA model performance with train-test split"
   ]
  },
  {
   "cell_type": "code",
   "execution_count": null,
   "id": "7ee99a38",
   "metadata": {},
   "outputs": [],
   "source": [
    "import matplotlib.pyplot as plt\n",
    "from sklearn.metrics import plot_confusion_matrix\n",
    "plot_confusion_matrix(lda,X_test, y_test, cmap=\"Greys\",\n",
    "               display_labels=['non-toxic', 'toxic'], colorbar=False)\n",
    "plt.show()"
   ]
  },
  {
   "cell_type": "markdown",
   "id": "e7c60a98",
   "metadata": {},
   "source": [
    "#### .PCA Magic"
   ]
  },
  {
   "cell_type": "code",
   "execution_count": null,
   "id": "14c57e3d",
   "metadata": {},
   "outputs": [],
   "source": [
    "import pandas as pd\n",
    "pd.set_option('display.max_columns', 6)  # <1>\n",
    "from sklearn.decomposition import PCA\n",
    "import seaborn\n",
    "from matplotlib import pyplot as plt\n",
    "DATA_DIR = ('https://gitlab.com/tangibleai/nlpia/'\n",
    "            '-/raw/master/src/nlpia/data')\n",
    "df = pd.read_csv(DATA_DIR + '/pointcloud.csv.gz', index_col=0)\n",
    "pca = PCA(n_components=2)  # <3>\n",
    "df2d = pd.DataFrame(pca.fit_transform(df), columns=list('xy'))\n",
    "df2d.plot(kind='scatter', x='x', y='y')\n",
    "plt.show()"
   ]
  },
  {
   "cell_type": "markdown",
   "id": "79f51314",
   "metadata": {},
   "source": [
    "#### "
   ]
  },
  {
   "cell_type": "code",
   "execution_count": null,
   "id": "ea35c5c2",
   "metadata": {},
   "outputs": [],
   "source": [
    "tfidf_docs.shape"
   ]
  },
  {
   "cell_type": "markdown",
   "id": "87c9525d",
   "metadata": {},
   "source": [
    "#### "
   ]
  },
  {
   "cell_type": "code",
   "execution_count": null,
   "id": "ab145aed",
   "metadata": {},
   "outputs": [],
   "source": [
    "from sklearn.decomposition import TruncatedSVD\n",
    "svd = TruncatedSVD(n_components=16, n_iter=100)  # <1>\n",
    "columns = ['topic{}'.format(i) for i in range(svd.n_components)]"
   ]
  },
  {
   "cell_type": "markdown",
   "id": "c71d2add",
   "metadata": {},
   "source": [
    "#### "
   ]
  },
  {
   "cell_type": "code",
   "execution_count": null,
   "id": "922adb09",
   "metadata": {},
   "outputs": [],
   "source": [
    "list(tfidf_model.vocabulary_.items())[:5]  # <1>"
   ]
  },
  {
   "cell_type": "markdown",
   "id": "ee5676d1",
   "metadata": {},
   "source": [
    "#### "
   ]
  },
  {
   "cell_type": "code",
   "execution_count": null,
   "id": "8bb4fc98",
   "metadata": {},
   "outputs": [],
   "source": [
    "column_nums, terms = zip(*sorted(zip(tfidf.vocabulary_.values(),\n",
    "    tfidf.vocabulary_.keys())))  # <2>\n",
    "terms[:5]"
   ]
  },
  {
   "cell_type": "markdown",
   "id": "d52c2a2f",
   "metadata": {},
   "source": [
    "#### "
   ]
  },
  {
   "cell_type": "code",
   "execution_count": null,
   "id": "226b3918",
   "metadata": {},
   "outputs": [],
   "source": [
    "topic_term_matrix = pd.DataFrame(\n",
    "    svd.components_, columns=terms,\n",
    "    index=['topic{}'.format(i) for i in range(16)])\n",
    "pd.options.display.max_columns = 8\n",
    "topic_term_matrix.sample(5, axis='columns',\n",
    "    random_state=271828).head(4)  # <1>"
   ]
  },
  {
   "cell_type": "markdown",
   "id": "300fa475",
   "metadata": {},
   "source": [
    "#### "
   ]
  },
  {
   "cell_type": "code",
   "execution_count": null,
   "id": "97ec38e5",
   "metadata": {},
   "outputs": [],
   "source": [
    "pd.options.display.max_columns = 8\n",
    "toxic_terms = topic_term_matrix[\n",
    "    'pathetic crazy stupid idiot lazy hate die kill'.split()\n",
    "    ].round(3) * 100  # <1>\n",
    "toxic_terms"
   ]
  },
  {
   "cell_type": "markdown",
   "id": "ac37911b",
   "metadata": {},
   "source": [
    "#### "
   ]
  },
  {
   "cell_type": "code",
   "execution_count": null,
   "id": "59eb74ee",
   "metadata": {},
   "outputs": [],
   "source": [
    "toxic_terms.T.sum()"
   ]
  },
  {
   "cell_type": "markdown",
   "id": "71c8cb42",
   "metadata": {},
   "source": [
    "#### "
   ]
  },
  {
   "cell_type": "code",
   "execution_count": null,
   "id": "4f6af512",
   "metadata": {},
   "outputs": [],
   "source": [
    "tfidf_docs = tfidf_docs - tfidf_docs.mean()"
   ]
  },
  {
   "cell_type": "markdown",
   "id": "bbb3d51e",
   "metadata": {},
   "source": [
    "#### "
   ]
  },
  {
   "cell_type": "code",
   "execution_count": null,
   "id": "e4624ce6",
   "metadata": {},
   "outputs": [],
   "source": [
    "X_train_16d, X_test_16d, y_train_16d, y_test_16d = train_test_split(\n",
    "    svd_topic_vectors, comments.toxic.values, test_size=0.5,\n",
    "    random_state=271828)\n",
    "lda_lsa = LinearDiscriminantAnalysis(n_components=1)\n",
    "lda_lsa = lda_lsa.fit(X_train_16d, y_train_16d)\n",
    "round(float(lda_lsa.score(X_train_16d, y_train_16d)), 3)"
   ]
  },
  {
   "cell_type": "markdown",
   "id": "0b5339f5",
   "metadata": {},
   "source": [
    "#### "
   ]
  },
  {
   "cell_type": "code",
   "execution_count": null,
   "id": "cf75e345",
   "metadata": {},
   "outputs": [],
   "source": [
    "round(float(lda_lsa.score(X_test_16d, y_test_16d)), 3)"
   ]
  },
  {
   "cell_type": "markdown",
   "id": "0fcd2750",
   "metadata": {},
   "source": [
    "#### "
   ]
  },
  {
   "cell_type": "code",
   "execution_count": null,
   "id": "3e75184e",
   "metadata": {},
   "outputs": [],
   "source": [
    "from sklearn.metrics import f1_score\n",
    "f1_score(y_test_16d, lda_lsa.predict(X_test_16d).round(3)"
   ]
  },
  {
   "cell_type": "markdown",
   "id": "74402b51",
   "metadata": {},
   "source": [
    "#### "
   ]
  },
  {
   "cell_type": "code",
   "execution_count": null,
   "id": "1981e613",
   "metadata": {},
   "outputs": [],
   "source": [
    "hparam_table = pd.DataFrame()\n",
    "tfidf_performance = {'classifier': 'LDA',\n",
    "                     'features': 'tf-idf (spacy tokenizer)',\n",
    "                     'train_accuracy': 0.99 ,\n",
    "                     'test_accuracy': 0.554,\n",
    "                     'test_precision': 0.383 ,"
   ]
  },
  {
   "cell_type": "markdown",
   "id": "ecea0bd7",
   "metadata": {},
   "source": [
    "#### .A function that creates a record in hyperparameter table."
   ]
  },
  {
   "cell_type": "code",
   "execution_count": null,
   "id": "b375d24e",
   "metadata": {},
   "outputs": [],
   "source": [
    "def hparam_rec(model, X_train, y_train, X_test, y_test,\n",
    "               model_name, features):\n",
    "    return {\n",
    "        'classifier': model_name,\n",
    "        'features': features,\n",
    "        'train_accuracy': float(model.score(X_train, y_train)),\n",
    "        'test_accuracy': float(model.score(X_test, y_test)),\n",
    "        'test_precision':\n",
    "            precision_score(y_test, model.predict(X_test)),\n",
    "        'test_recall':\n",
    "            recall_score(y_test, model.predict(X_test)),\n",
    "        'test_f1': f1_score(y_test, model.predict(X_test))\n",
    "        }\n",
    "lsa_performance = hparam_rec(lda_lsa, X_train_16d, y_train_16d,\n",
    "       X_test_16d,y_test_16d, 'LDA', 'LSA (16 components)'))\n",
    "hparam_table = hparam_table.append(lsa_performance)\n",
    "hparam_table.T  # <1>"
   ]
  },
  {
   "cell_type": "markdown",
   "id": "a7eae39a",
   "metadata": {},
   "source": [
    "#### .A function that creates a record in hyperparameter table."
   ]
  },
  {
   "cell_type": "code",
   "execution_count": null,
   "id": "61a2358a",
   "metadata": {},
   "outputs": [],
   "source": [
    "def evaluate_model(X,y, classifier, classifier_name, features):\n",
    "    X_train, X_test, y_train, y_test = train_test_split(\n",
    "        X, y, test_size=0.5, random_state=271828)\n",
    "    classifier = classifier.fit(X_train, y_train)\n",
    "    return hparam_rec(classifier, X_train, y_train, X_test,y_test,\n",
    "                      classifier_name, features)"
   ]
  },
  {
   "cell_type": "markdown",
   "id": "89158789",
   "metadata": {},
   "source": [
    "#### "
   ]
  },
  {
   "cell_type": "code",
   "execution_count": null,
   "id": "b8c5b85e",
   "metadata": {},
   "outputs": [],
   "source": [
    "total_corpus_len = 0\n",
    "for document_text in comments.text:\n",
    "    total_corpus_len += len(spacy_tokenize(document_text))\n",
    "mean_document_len = total_corpus_len / len(sms)\n",
    "round(mean_document_len, 2)"
   ]
  },
  {
   "cell_type": "markdown",
   "id": "2ed50b74",
   "metadata": {},
   "source": [
    "#### "
   ]
  },
  {
   "cell_type": "code",
   "execution_count": null,
   "id": "46436a30",
   "metadata": {},
   "outputs": [],
   "source": [
    "sum([len(spacy_tokenize(t)) for t in comments.text]\n",
    "    ) * 1. / len(comments.text)"
   ]
  },
  {
   "cell_type": "markdown",
   "id": "5e395ca9",
   "metadata": {},
   "source": [
    "#### "
   ]
  },
  {
   "cell_type": "code",
   "execution_count": null,
   "id": "ef5b2e05",
   "metadata": {},
   "outputs": [],
   "source": [
    "from sklearn.feature_extraction.text import CountVectorizer\n",
    "counter = CountVectorizer(tokenizer=spacy_tokenize)\n",
    "bow_docs = pd.DataFrame(counter.fit_transform("
   ]
  },
  {
   "cell_type": "markdown",
   "id": "77441f8a",
   "metadata": {},
   "source": [
    "#### "
   ]
  },
  {
   "cell_type": "code",
   "execution_count": null,
   "id": "f211086a",
   "metadata": {},
   "outputs": [],
   "source": [
    "column_nums, terms = zip(*sorted(zip(counter.vocabulary_.values(),\n",
    "    counter.vocabulary_.keys())))"
   ]
  },
  {
   "cell_type": "markdown",
   "id": "7d58fa0f",
   "metadata": {},
   "source": [
    "#### "
   ]
  },
  {
   "cell_type": "code",
   "execution_count": null,
   "id": "991e242b",
   "metadata": {},
   "outputs": [],
   "source": [
    "comments.loc['comment0'].text"
   ]
  },
  {
   "cell_type": "markdown",
   "id": "82319e13",
   "metadata": {},
   "source": [
    "#### "
   ]
  },
  {
   "cell_type": "code",
   "execution_count": null,
   "id": "dc9e352f",
   "metadata": {},
   "outputs": [],
   "source": [
    "bow_docs.loc['comment0'][bow_docs.loc['comment0'] > 0].head()"
   ]
  },
  {
   "cell_type": "markdown",
   "id": "cb7e68a7",
   "metadata": {},
   "source": [
    "#### "
   ]
  },
  {
   "cell_type": "code",
   "execution_count": null,
   "id": "fe1e968f",
   "metadata": {},
   "outputs": [],
   "source": [
    "from sklearn.decomposition import LatentDirichletAllocation as LDiA\n",
    "ldia = LDiA(n_components=16, learning_method='batch')\n",
    "ldia = ldia.fit(bow_docs)  # <1>\n",
    "ldia.components_.shape"
   ]
  },
  {
   "cell_type": "markdown",
   "id": "7ff1b2fc",
   "metadata": {},
   "source": [
    "#### "
   ]
  },
  {
   "cell_type": "code",
   "execution_count": null,
   "id": "d2091842",
   "metadata": {},
   "outputs": [],
   "source": [
    "pd.set_option('display.width', 75)\n",
    "term_topic_matrix = pd.DataFrame(ldia.components_, index=terms,\\ \n",
    "    columns=columns)  # <1>\n",
    "term_topic_matrix.round(2).head(3)"
   ]
  },
  {
   "cell_type": "markdown",
   "id": "c0a7c8dc",
   "metadata": {},
   "source": [
    "#### "
   ]
  },
  {
   "cell_type": "code",
   "execution_count": null,
   "id": "689f7b34",
   "metadata": {},
   "outputs": [],
   "source": [
    "toxic_terms= components.loc['pathetic crazy stupid lazy idiot hate die kill'.split()].round(2)\n",
    "toxic_terms"
   ]
  },
  {
   "cell_type": "markdown",
   "id": "09140d04",
   "metadata": {},
   "source": [
    "#### "
   ]
  },
  {
   "cell_type": "code",
   "execution_count": null,
   "id": "b26be25d",
   "metadata": {},
   "outputs": [],
   "source": [
    "non_trivial_terms = [term for term in components.index"
   ]
  },
  {
   "cell_type": "markdown",
   "id": "31d656ba",
   "metadata": {},
   "source": [
    "#### "
   ]
  },
  {
   "cell_type": "code",
   "execution_count": null,
   "id": "943de3b6",
   "metadata": {},
   "outputs": [],
   "source": [
    "ldia16_topic_vectors = ldia.transform(bow_docs)\n",
    "ldia16_topic_vectors = pd.DataFrame(ldia16_topic_vectors,\\\n",
    "    index=index, columns=columns)\n",
    "ldia16_topic_vectors.round(2).head()"
   ]
  },
  {
   "cell_type": "markdown",
   "id": "5745cc82",
   "metadata": {},
   "source": [
    "#### "
   ]
  },
  {
   "cell_type": "code",
   "execution_count": null,
   "id": "991ceba2",
   "metadata": {},
   "outputs": [],
   "source": [
    "model_ldia16 = LinearDiscriminantAnalysis()\n",
    "ldia16_performance=evaluate_model(ldia16_topic_vectors,"
   ]
  },
  {
   "cell_type": "markdown",
   "id": "bccc46f1",
   "metadata": {},
   "source": [
    "#### "
   ]
  },
  {
   "cell_type": "code",
   "execution_count": null,
   "id": "96d9cf96",
   "metadata": {},
   "outputs": [],
   "source": [
    "hparam_table = hparam_table.append(ldia16_performance,\n",
    "   ignore_index = True)\n",
    "hparam_table.T"
   ]
  },
  {
   "cell_type": "markdown",
   "id": "75ece2f6",
   "metadata": {},
   "source": [
    "#### "
   ]
  },
  {
   "cell_type": "code",
   "execution_count": null,
   "id": "a99d3406",
   "metadata": {},
   "outputs": [],
   "source": [
    "ldia32 = LDiA(n_components=32, learning_method='batch')\n",
    "ldia32 = ldia32.fit(bow_docs)\n",
    "model_ldia32 = LinearDiscriminantAnalysis()\n",
    "ldia32_performance =evaluate_model(ldia32_topic_vectors,\n",
    "         comments.toxic, model_ldia32, 'LDA', 'LDIA (32d)')\n",
    "hparam_table = hparam_table.append(ldia32_performance,\n",
    "          ignore_index = True)\n",
    "hparam_table.T"
   ]
  },
  {
   "cell_type": "markdown",
   "id": "6f4b6c1c",
   "metadata": {},
   "source": [
    "#### "
   ]
  },
  {
   "cell_type": "code",
   "execution_count": null,
   "id": "931851d9",
   "metadata": {},
   "outputs": [],
   "source": [
    "import sklearn\n",
    "sklearn.__file__"
   ]
  },
  {
   "cell_type": "markdown",
   "id": "c6cfd1ad",
   "metadata": {},
   "source": [
    "#### "
   ]
  },
  {
   "cell_type": "code",
   "execution_count": null,
   "id": "44cb715a",
   "metadata": {},
   "outputs": [],
   "source": [
    "from sklearn.discriminant_analysis\\\n",
    "    import LinearDiscriminantAnalysis as LDA\n",
    "LDA??"
   ]
  },
  {
   "cell_type": "markdown",
   "id": "d1226b39",
   "metadata": {},
   "source": [
    "#### "
   ]
  },
  {
   "cell_type": "code",
   "execution_count": null,
   "id": "47219f02",
   "metadata": {},
   "outputs": [],
   "source": [
    "similarity = 1. / (1. + distance)\n",
    "distance = (1. / similarity) - 1."
   ]
  },
  {
   "cell_type": "markdown",
   "id": "89b17e0c",
   "metadata": {},
   "source": [
    "#### "
   ]
  },
  {
   "cell_type": "code",
   "execution_count": null,
   "id": "6eea0b28",
   "metadata": {},
   "outputs": [],
   "source": [
    "similarity = 1. - distance\n",
    "distance = 1. - similarity"
   ]
  },
  {
   "cell_type": "markdown",
   "id": "4cb1f550",
   "metadata": {},
   "source": [
    "#### "
   ]
  },
  {
   "cell_type": "code",
   "execution_count": null,
   "id": "d73042da",
   "metadata": {},
   "outputs": [],
   "source": [
    "import math\n",
    "angular_distance = math.acos(cosine_similarity) / math.pi\n",
    "distance = 1. / similarity - 1.\n",
    "similarity = 1. - distance"
   ]
  },
  {
   "cell_type": "markdown",
   "id": "14b15d5c",
   "metadata": {},
   "source": [
    "#### "
   ]
  },
  {
   "cell_type": "code",
   "execution_count": null,
   "id": "c682ccbf",
   "metadata": {},
   "outputs": [],
   "source": [
    "REPO_URL = 'https://gitlab.com/tangibleai/qary/-/raw/master'\n",
    "FAQ_DIR = 'src/qary/data/faq'\n",
    "FAQ_FILENAME = 'short-faqs.csv'\n",
    "DS_FAQ_URL = '/'.join([REPO_URL, FAQ_DIR, FAQ_FILENAME])\n",
    "df = pd.read_csv(DS_FAQ_URL)"
   ]
  },
  {
   "cell_type": "markdown",
   "id": "a27cfd97",
   "metadata": {},
   "source": [
    "#### "
   ]
  },
  {
   "cell_type": "code",
   "execution_count": null,
   "id": "210090c1",
   "metadata": {},
   "outputs": [],
   "source": [
    "vectorizer = TfidfVectorizer()\n",
    "vectorizer.fit(df['question'])\n",
    "tfidfvectors = vectorizer.transform(df['question'])\n",
    "svd = TruncatedSVD(n_components=16, n_iterations=100)\n",
    "tfidfvectors_16d = svd.fit_transform(tfidfvectors)\n",
    "def bot_reply(question):\n",
    "      question_tfidf = vectorizer.transform([question]).todense()\n",
    "      question_16d = svd.transform(question_tfidf)\n",
    "      idx = question_16d.dot(tfidfvectors_16d.T).argmax()\n",
    "      print(\n",
    "           f\"Your question:\\n  {question}\\n\\n\"\n",
    "           f\"Most similar FAQ question:\\n  {df['question'][idx]}\\n\\n\"\n",
    "           f\"Answer to that FAQ question:\\n  {df['answer'][idx]}\\n\\n\"\n",
    "          )"
   ]
  },
  {
   "cell_type": "markdown",
   "id": "433a5a92",
   "metadata": {},
   "source": [
    "#### "
   ]
  },
  {
   "cell_type": "code",
   "execution_count": null,
   "id": "ec3afb49",
   "metadata": {},
   "outputs": [],
   "source": [
    "bot_reply(\"What's overfitting a model?\")"
   ]
  },
  {
   "cell_type": "markdown",
   "id": "e49a8c0a",
   "metadata": {},
   "source": [
    "#### "
   ]
  },
  {
   "cell_type": "code",
   "execution_count": null,
   "id": "6482fd6a",
   "metadata": {},
   "outputs": [],
   "source": [
    "bot_reply(\"How do I decrease overfitting for Logistic Regression?\")"
   ]
  }
 ],
 "metadata": {},
 "nbformat": 4,
 "nbformat_minor": 5
}
