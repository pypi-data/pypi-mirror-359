{
 "cells": [
  {
   "cell_type": "markdown",
   "id": "099b3041",
   "metadata": {},
   "source": [
    "#### [`Chapter-05_Word-Brain-artificial-neural-networks-for-NLP`](/home/hobs/code/hobs/nlpia-manuscript/manuscript/adoc/Chapter-05_Word-Brain-artificial-neural-networks-for-NLP.adoc)"
   ]
  },
  {
   "cell_type": "markdown",
   "id": "087f865d",
   "metadata": {},
   "source": [
    "#### "
   ]
  },
  {
   "cell_type": "code",
   "execution_count": null,
   "id": "9ca958c6",
   "metadata": {},
   "outputs": [],
   "source": [
    "def logistic(x, w=1., phase=0, gain=1):\n",
    "   return gain / (1. + np.exp(-w * (x - phase)))"
   ]
  },
  {
   "cell_type": "markdown",
   "id": "43c97d2a",
   "metadata": {},
   "source": [
    "#### "
   ]
  },
  {
   "cell_type": "code",
   "execution_count": null,
   "id": "97bfe1dd",
   "metadata": {},
   "outputs": [],
   "source": [
    "import pandas as pd\n",
    "import numpy as np\n",
    "import seaborn as sns\n",
    "sns.set_style()\n",
    "xy = pd.DataFrame(np.arange(-50, 50) / 10., columns=['x'])\n",
    "for w, phase in zip([1, 3, 1, 1, .5], [0, 0, 2, -1, 0]):\n",
    "   kwargs = dict(w=w, phase=phase)\n",
    "   xy[f'{kwargs}'] = logistic(xy['x'], **kwargs)\n",
    "xy.plot(grid=\"on\", ylabel=\"y\")"
   ]
  },
  {
   "cell_type": "markdown",
   "id": "5d4963f6",
   "metadata": {},
   "source": [
    "#### "
   ]
  },
  {
   "cell_type": "code",
   "execution_count": null,
   "id": "90671537",
   "metadata": {},
   "outputs": [],
   "source": [
    "from collections import Counter\n",
    "np.random.seed(451)\n",
    "tokens = \"green egg egg ham ham ham spam spam spam spam\".split()\n",
    "bow = Counter(tokens)\n",
    "x = pd.Series(bow)\n",
    "x"
   ]
  },
  {
   "cell_type": "markdown",
   "id": "dd7f2dc6",
   "metadata": {},
   "source": [
    "#### "
   ]
  },
  {
   "cell_type": "code",
   "execution_count": null,
   "id": "062f0ca6",
   "metadata": {},
   "outputs": [],
   "source": [
    "x1, x2, x3, x4 = x\n",
    "x1, x2, x3, x4"
   ]
  },
  {
   "cell_type": "markdown",
   "id": "dfd184b6",
   "metadata": {},
   "source": [
    "#### "
   ]
  },
  {
   "cell_type": "code",
   "execution_count": null,
   "id": "456c1eac",
   "metadata": {},
   "outputs": [],
   "source": [
    "w0 = np.round(.1 * np.random.randn(), 2)\n",
    "w0"
   ]
  },
  {
   "cell_type": "markdown",
   "id": "58795771",
   "metadata": {},
   "source": [
    "#### "
   ]
  },
  {
   "cell_type": "code",
   "execution_count": null,
   "id": "ce5e1204",
   "metadata": {},
   "outputs": [],
   "source": [
    "w1, w2, w3, w4 = (.1 * np.random.randn(len(x))).round(2)\n",
    "w1, w2, w3, w4"
   ]
  },
  {
   "cell_type": "markdown",
   "id": "af254137",
   "metadata": {},
   "source": [
    "#### "
   ]
  },
  {
   "cell_type": "code",
   "execution_count": null,
   "id": "4552f931",
   "metadata": {},
   "outputs": [],
   "source": [
    "x = np.array([1, x1, x2, x3, x4])  # <1>\n",
    "w = np.array([w0, w1, w2, w3, w4])  # <2>\n",
    "y = np.sum(w * x)  # <3>\n",
    "y"
   ]
  },
  {
   "cell_type": "markdown",
   "id": "62c4acf8",
   "metadata": {},
   "source": [
    "#### "
   ]
  },
  {
   "cell_type": "code",
   "execution_count": null,
   "id": "86cfb592",
   "metadata": {},
   "outputs": [],
   "source": [
    "threshold = 0.0\n",
    "y = int(y > threshold)"
   ]
  },
  {
   "cell_type": "markdown",
   "id": "b455514e",
   "metadata": {},
   "source": [
    "#### "
   ]
  },
  {
   "cell_type": "code",
   "execution_count": null,
   "id": "c7fdb3f7",
   "metadata": {},
   "outputs": [],
   "source": [
    "y = logistic(x)"
   ]
  },
  {
   "cell_type": "markdown",
   "id": "5346587e",
   "metadata": {},
   "source": [
    "#### "
   ]
  },
  {
   "cell_type": "code",
   "execution_count": null,
   "id": "fa3012b2",
   "metadata": {},
   "outputs": [],
   "source": [
    "def neuron(x, w):\n",
    "   z = sum(wi * xi for xi, wi in zip(x, w))  # <1>\n",
    "   return z > 0  # <2>"
   ]
  },
  {
   "cell_type": "markdown",
   "id": "01aac0f0",
   "metadata": {},
   "source": [
    "#### "
   ]
  },
  {
   "cell_type": "code",
   "execution_count": null,
   "id": "44d4c2d6",
   "metadata": {},
   "outputs": [],
   "source": [
    "def neuron(x, w):\n",
    "   z = np.array(wi).dot(w)\n",
    "   return z > 0"
   ]
  },
  {
   "cell_type": "markdown",
   "id": "49e765a8",
   "metadata": {},
   "source": [
    "#### "
   ]
  },
  {
   "cell_type": "code",
   "execution_count": null,
   "id": "8172153a",
   "metadata": {},
   "outputs": [],
   "source": [
    "import pandas as pd\n",
    "import numpy as np\n",
    "pd.options.display.max_rows = 7"
   ]
  },
  {
   "cell_type": "markdown",
   "id": "632abb45",
   "metadata": {},
   "source": [
    "#### "
   ]
  },
  {
   "cell_type": "code",
   "execution_count": null,
   "id": "eca022a1",
   "metadata": {},
   "outputs": [],
   "source": [
    "np.random.seed(451)\n",
    "df = pd.read_csv(  # <1>\n",
    "    'https://proai.org/baby-names-us.csv.gz')\n",
    "df.to_csv(  # <2>\n",
    "    'baby-names-us.csv.gz', compression='gzip')\n",
    "df = df.sample(10_000)  # <3>\n",
    "df.shape"
   ]
  },
  {
   "cell_type": "markdown",
   "id": "289d8512",
   "metadata": {},
   "source": [
    "#### "
   ]
  },
  {
   "cell_type": "code",
   "execution_count": null,
   "id": "80aea2da",
   "metadata": {},
   "outputs": [],
   "source": [
    "df.groupby(['name', 'sex'])['count'].sum()[('Timothy',)]"
   ]
  },
  {
   "cell_type": "markdown",
   "id": "c44aebf6",
   "metadata": {},
   "source": [
    "#### "
   ]
  },
  {
   "cell_type": "code",
   "execution_count": null,
   "id": "ddad0d34",
   "metadata": {},
   "outputs": [],
   "source": [
    "df = df.set_index(['name', 'sex'])\n",
    "groups = df.groupby(['name', 'sex'])"
   ]
  },
  {
   "cell_type": "markdown",
   "id": "269ea845",
   "metadata": {},
   "source": [
    "#### "
   ]
  },
  {
   "cell_type": "code",
   "execution_count": null,
   "id": "375d494e",
   "metadata": {},
   "outputs": [],
   "source": [
    "from sklearn.feature_extraction.text import TfidfVectorizer\n",
    "vectorizer = TfidfVectorizer(\n",
    "    use_idf=False,  # <1>\n",
    "    analyzer='char',\n",
    "    ngram_range=(1, 3)  # <2>\n",
    "    )\n",
    "vectorizer"
   ]
  },
  {
   "cell_type": "markdown",
   "id": "07fa2143",
   "metadata": {},
   "source": [
    "#### "
   ]
  },
  {
   "cell_type": "code",
   "execution_count": null,
   "id": "2c074f5f",
   "metadata": {},
   "outputs": [],
   "source": [
    "df = pd.DataFrame([list(tup) for tup in counts.index.values],\n",
    "                  columns=['name', 'sex'])\n",
    "df['count'] = counts.values\n",
    "df"
   ]
  },
  {
   "cell_type": "markdown",
   "id": "88efb033",
   "metadata": {},
   "source": [
    "#### "
   ]
  },
  {
   "cell_type": "code",
   "execution_count": null,
   "id": "43e0e92a",
   "metadata": {},
   "outputs": [],
   "source": [
    "df['istrain'] = np.random.rand(len(df)) < .9\n",
    "df"
   ]
  },
  {
   "cell_type": "markdown",
   "id": "5a6745c9",
   "metadata": {},
   "source": [
    "#### "
   ]
  },
  {
   "cell_type": "code",
   "execution_count": null,
   "id": "85e06f45",
   "metadata": {},
   "outputs": [],
   "source": [
    "df.index = pd.MultiIndex.from_tuples(\n",
    "    zip(df['name'], df['sex']), names=['name_', 'sex_'])\n",
    "df"
   ]
  },
  {
   "cell_type": "markdown",
   "id": "3bfc4b2c",
   "metadata": {},
   "source": [
    "#### "
   ]
  },
  {
   "cell_type": "code",
   "execution_count": null,
   "id": "e8c562e1",
   "metadata": {},
   "outputs": [],
   "source": [
    "df_most_common = {}  # <1>\n",
    "for name, group in df.groupby('name'):\n",
    "    row_dict = group.iloc[group['count'].argmax()].to_dict()  # <2>\n",
    "    df_most_common[(name, row_dict['sex'])] = row_dict\n",
    "df_most_common = pd.DataFrame(df_most_common).T  # <3>        "
   ]
  },
  {
   "cell_type": "markdown",
   "id": "484f72bb",
   "metadata": {},
   "source": [
    "#### "
   ]
  },
  {
   "cell_type": "code",
   "execution_count": null,
   "id": "99fb503d",
   "metadata": {},
   "outputs": [],
   "source": [
    "df_most_common['istest'] = ~df_most_common['istrain'].astype(bool)\n",
    "df_most_common"
   ]
  },
  {
   "cell_type": "markdown",
   "id": "ebc6156d",
   "metadata": {},
   "source": [
    "#### "
   ]
  },
  {
   "cell_type": "code",
   "execution_count": null,
   "id": "f531b115",
   "metadata": {},
   "outputs": [],
   "source": [
    "df['istest'] = df_most_common['istest']\n",
    "df['istest'] = df['istest'].fillna(False)\n",
    "df['istrain'] = ~df['istest']\n",
    "istrain = df['istrain']\n",
    "df['istrain'].sum() / len(df)"
   ]
  },
  {
   "cell_type": "markdown",
   "id": "48a3b3c9",
   "metadata": {},
   "source": [
    "#### "
   ]
  },
  {
   "cell_type": "code",
   "execution_count": null,
   "id": "204e3b2c",
   "metadata": {},
   "outputs": [],
   "source": [
    "df['istest'].sum() / len(df)"
   ]
  },
  {
   "cell_type": "markdown",
   "id": "b6528cda",
   "metadata": {},
   "source": [
    "#### "
   ]
  },
  {
   "cell_type": "code",
   "execution_count": null,
   "id": "413d764b",
   "metadata": {},
   "outputs": [],
   "source": [
    "(df['istrain'].sum() + df['istest'].sum()) / len(df)"
   ]
  },
  {
   "cell_type": "markdown",
   "id": "bcdf888a",
   "metadata": {},
   "source": [
    "#### "
   ]
  },
  {
   "cell_type": "code",
   "execution_count": null,
   "id": "ab843aca",
   "metadata": {},
   "outputs": [],
   "source": [
    "unique_names = df['name'][istrain].unique()\n",
    "unique_names = df['name'][istrain].unique()\n",
    "vectorizer.fit(unique_names)\n",
    "vecs = vectorizer.transform(df['name'])\n",
    "vecs"
   ]
  },
  {
   "cell_type": "markdown",
   "id": "a1df9d80",
   "metadata": {},
   "source": [
    "#### "
   ]
  },
  {
   "cell_type": "code",
   "execution_count": null,
   "id": "7c6d718a",
   "metadata": {},
   "outputs": [],
   "source": [
    "vectorizer = TfidfVectorizer(analyzer='char',\n",
    "   ngram_range=(1, 3), use_idf=False, lowercase=False)\n",
    "vectorizer = vectorizer.fit(unique_names)\n",
    "vecs = vectorizer.transform(df['name'])\n",
    "vecs = pd.DataFrame(vecs.toarray())\n",
    "vecs.columns = vectorizer.get_feature_names_out()\n",
    "vecs.index = df.index\n",
    "vecs.iloc[:,:5]"
   ]
  },
  {
   "cell_type": "markdown",
   "id": "0f2317e9",
   "metadata": {},
   "source": [
    "#### "
   ]
  },
  {
   "cell_type": "code",
   "execution_count": null,
   "id": "761703f4",
   "metadata": {},
   "outputs": [],
   "source": [
    "import pandas as pd\n",
    "import re\n",
    "dfs = pd.read_html('https://en.wikipedia.org/wiki/'\n",
    "    + 'Comparison_of_deep-learning_software')\n",
    "tabl = dfs[0]"
   ]
  },
  {
   "cell_type": "markdown",
   "id": "924015f5",
   "metadata": {},
   "source": [
    "#### "
   ]
  },
  {
   "cell_type": "code",
   "execution_count": null,
   "id": "76f86db9",
   "metadata": {},
   "outputs": [],
   "source": [
    "bincols = list(tabl.loc[:, 'OpenMP support':].columns)\n",
    "bincols += ['Open source', 'Platform', 'Interface']"
   ]
  },
  {
   "cell_type": "markdown",
   "id": "8d3ee7dc",
   "metadata": {},
   "source": [
    "#### "
   ]
  },
  {
   "cell_type": "code",
   "execution_count": null,
   "id": "ff49f20f",
   "metadata": {},
   "outputs": [],
   "source": [
    "tabl = pd.DataFrame(dfd).T\n",
    "scores = tabl[bincols].T.sum()  # <1>\n",
    "tabl['Portability'] = scores\n",
    "tabl = tabl.sort_values('Portability', ascending=False)\n",
    "tabl = tabl.reset_index()\n",
    "tabl[['Software', 'Portability']][:10]"
   ]
  },
  {
   "cell_type": "markdown",
   "id": "9f2678d8",
   "metadata": {},
   "source": [
    "#### "
   ]
  },
  {
   "cell_type": "code",
   "execution_count": null,
   "id": "e6233056",
   "metadata": {},
   "outputs": [],
   "source": [
    "loss_func_train = torch.nn.BCELoss(\n",
    "    weight=torch.Tensor(df[['count']][istrain].values))\n",
    "loss_func_test = torch.nn.BCELoss(  # <1>\n",
    "    weight=torch.Tensor(df[['count']][~istrain].values))\n",
    "loss_func_train"
   ]
  },
  {
   "cell_type": "markdown",
   "id": "a34718bc",
   "metadata": {},
   "source": [
    "#### "
   ]
  },
  {
   "cell_type": "code",
   "execution_count": null,
   "id": "23d199cd",
   "metadata": {},
   "outputs": [],
   "source": [
    "from torch.optim import SGD\n",
    "hyperparams = {'momentum': 0.001, 'lr': 0.02}  # <1>\n",
    "optimizer = SGD(\n",
    "    model.parameters(), **hyperparams)  # <2>\n",
    "optimizer"
   ]
  },
  {
   "cell_type": "markdown",
   "id": "e095318d",
   "metadata": {},
   "source": [
    "#### "
   ]
  },
  {
   "cell_type": "code",
   "execution_count": null,
   "id": "6477a6af",
   "metadata": {},
   "outputs": [],
   "source": [
    "X = vecs.values\n",
    "y = (df[['sex']] == 'F').values\n",
    "X_train = torch.Tensor(X[istrain])\n",
    "X_test = torch.Tensor(X[~istrain])\n",
    "y_train = torch.Tensor(y[istrain])\n",
    "y_test = torch.Tensor(y[~istrain])"
   ]
  },
  {
   "cell_type": "markdown",
   "id": "4102fee3",
   "metadata": {},
   "source": [
    "#### "
   ]
  },
  {
   "cell_type": "code",
   "execution_count": null,
   "id": "17084dec",
   "metadata": {},
   "outputs": [],
   "source": [
    "from tqdm import tqdm"
   ]
  },
  {
   "cell_type": "markdown",
   "id": "adc64681",
   "metadata": {},
   "source": [
    "#### "
   ]
  },
  {
   "cell_type": "code",
   "execution_count": null,
   "id": "7fae0220",
   "metadata": {},
   "outputs": [],
   "source": [
    "def make_array(x):\n",
    "    if hasattr(x, 'detach'):\n",
    "        return torch.squeeze(x).detach().numpy()\n",
    "    return x"
   ]
  },
  {
   "cell_type": "markdown",
   "id": "cdb7717e",
   "metadata": {},
   "source": [
    "#### "
   ]
  },
  {
   "cell_type": "code",
   "execution_count": null,
   "id": "6df15367",
   "metadata": {},
   "outputs": [],
   "source": [
    "def measure_binary_accuracy(y_pred, y):\n",
    "    y_pred = make_array(y_pred).round()\n",
    "    y = make_array(y).round()\n",
    "    num_correct = (y_pred == y).sum()\n",
    "    return num_correct / len(y)"
   ]
  },
  {
   "cell_type": "markdown",
   "id": "65bb169c",
   "metadata": {},
   "source": [
    "#### "
   ]
  },
  {
   "cell_type": "code",
   "execution_count": null,
   "id": "278b79c6",
   "metadata": {},
   "outputs": [],
   "source": [
    "X = vectorizer.transform(\n",
    "    ['John', 'Greg', 'Vishvesh',  # <1>\n",
    "model(torch.Tensor(X.todense()))"
   ]
  }
 ],
 "metadata": {},
 "nbformat": 4,
 "nbformat_minor": 5
}
