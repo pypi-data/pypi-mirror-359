{
 "cells": [
  {
   "cell_type": "markdown",
   "id": "723604c7",
   "metadata": {},
   "source": [
    "#### [`Chapter-06_Reasoning-with-word-embeddings-word-vectors`](/home/hobs/code/hobs/nlpia-manuscript/manuscript/adoc/Chapter-06_Reasoning-with-word-embeddings-word-vectors.adoc)"
   ]
  },
  {
   "cell_type": "markdown",
   "id": "be8d0784",
   "metadata": {},
   "source": [
    "#### "
   ]
  },
  {
   "cell_type": "code",
   "execution_count": null,
   "id": "c11b6010",
   "metadata": {},
   "outputs": [],
   "source": [
    "from nessvec.indexers import Index  # <1>\n",
    "index = Index(num_vecs=100_000)  # <2>\n",
    "index.get_nearest(\"Engineer\").round(2)"
   ]
  },
  {
   "cell_type": "markdown",
   "id": "4cf623f1",
   "metadata": {},
   "source": [
    "#### "
   ]
  },
  {
   "cell_type": "code",
   "execution_count": null,
   "id": "dfd81d90",
   "metadata": {},
   "outputs": [],
   "source": [
    "index.get_nearest(\"Programmer\").round(2)"
   ]
  },
  {
   "cell_type": "markdown",
   "id": "26acc510",
   "metadata": {},
   "source": [
    "#### "
   ]
  },
  {
   "cell_type": "code",
   "execution_count": null,
   "id": "db727588",
   "metadata": {},
   "outputs": [],
   "source": [
    "index.get_nearest(\"Developer\").round(2)"
   ]
  },
  {
   "cell_type": "markdown",
   "id": "be4822de",
   "metadata": {},
   "source": [
    "#### "
   ]
  },
  {
   "cell_type": "code",
   "execution_count": null,
   "id": "53a65096",
   "metadata": {},
   "outputs": [],
   "source": [
    "\"Chief\" + \"Engineer\""
   ]
  },
  {
   "cell_type": "markdown",
   "id": "29e6ec19",
   "metadata": {},
   "source": [
    "#### "
   ]
  },
  {
   "cell_type": "code",
   "execution_count": null,
   "id": "8799a573",
   "metadata": {},
   "outputs": [],
   "source": [
    "\"Chief\" + \" \" + \"Engineer\""
   ]
  },
  {
   "cell_type": "markdown",
   "id": "2bb1c332",
   "metadata": {},
   "source": [
    "#### "
   ]
  },
  {
   "cell_type": "code",
   "execution_count": null,
   "id": "09c563b0",
   "metadata": {},
   "outputs": [],
   "source": [
    "chief = (index.data[index.vocab[\"Chief\"]]\n",
    "    + index.data[index.vocab[\"Engineer\"]])\n",
    "index.get_nearest(chief)"
   ]
  },
  {
   "cell_type": "markdown",
   "id": "e8368c49",
   "metadata": {},
   "source": [
    "#### "
   ]
  },
  {
   "cell_type": "code",
   "execution_count": null,
   "id": "6c6fbf93",
   "metadata": {},
   "outputs": [],
   "source": [
    "answer_vector = wv['woman'] + wv['Europe'] + wv['physics'] +\n",
    "    wv['scientist']"
   ]
  },
  {
   "cell_type": "markdown",
   "id": "834a0610",
   "metadata": {},
   "source": [
    "#### "
   ]
  },
  {
   "cell_type": "code",
   "execution_count": null,
   "id": "9dcbd1d8",
   "metadata": {},
   "outputs": [],
   "source": [
    "answer_vector = wv['woman'] + wv['Europe'] + wv['physics'] +\\\n",
    "    wv['scientist'] - wv['male'] - 2 * wv['man']"
   ]
  },
  {
   "cell_type": "markdown",
   "id": "f2e3a32b",
   "metadata": {},
   "source": [
    "#### "
   ]
  },
  {
   "cell_type": "code",
   "execution_count": null,
   "id": "7c5fa424",
   "metadata": {},
   "outputs": [],
   "source": [
    "answer_vector = wv['Louis_Pasteur'] - wv['germs'] + wv['physics']"
   ]
  },
  {
   "cell_type": "markdown",
   "id": "c7feeed6",
   "metadata": {},
   "source": [
    "#### "
   ]
  },
  {
   "cell_type": "code",
   "execution_count": null,
   "id": "983d663b",
   "metadata": {},
   "outputs": [],
   "source": [
    "wv['Marie_Curie'] - wv['science'] + wv['music']"
   ]
  },
  {
   "cell_type": "markdown",
   "id": "319c3940",
   "metadata": {},
   "source": [
    "#### .Compute nessvector"
   ]
  },
  {
   "cell_type": "code",
   "execution_count": null,
   "id": "393224bd",
   "metadata": {},
   "outputs": [],
   "source": [
    "from nessvec.examples.ch06.nessvectors import *  # <1>\n",
    "nessvector('Marie_Curie').round(2)"
   ]
  },
  {
   "cell_type": "markdown",
   "id": "ecde2c0c",
   "metadata": {},
   "source": [
    "#### "
   ]
  },
  {
   "cell_type": "code",
   "execution_count": null,
   "id": "70dd0538",
   "metadata": {},
   "outputs": [],
   "source": [
    "import torchtext\n",
    "dsets = torchtext.datasets.WikiText2()\n",
    "num_texts = 10000\n",
    "filepath = DATA_DIR / f'WikiText2-{num_texts}.txt'\n",
    "with open(filepath, 'wt') as fout:\n",
    "    fout.writelines(list(dsets[0])[:num_texts])"
   ]
  },
  {
   "cell_type": "markdown",
   "id": "fe9819d3",
   "metadata": {},
   "source": [
    "#### "
   ]
  },
  {
   "cell_type": "code",
   "execution_count": null,
   "id": "6f02624b",
   "metadata": {},
   "outputs": [],
   "source": [
    "!tail -n 3 ~/nessvec-data/WikiText2-10000.txt\n",
    "import datasets\n",
    "dset = datasets.load_dataset('text', data_files=str(filepath))\n",
    "dset"
   ]
  },
  {
   "cell_type": "markdown",
   "id": "012884a9",
   "metadata": {},
   "source": [
    "#### "
   ]
  },
  {
   "cell_type": "code",
   "execution_count": null,
   "id": "4f0202ed",
   "metadata": {},
   "outputs": [],
   "source": [
    "dset = dset.map(tokenize_row)\n",
    "dset\n",
    "vocab = list(set(\n",
    "    [tok for row in dset['train']['tokens'] for tok in row]))\n",
    "vocab[:4]"
   ]
  },
  {
   "cell_type": "markdown",
   "id": "4800b424",
   "metadata": {},
   "source": [
    "#### "
   ]
  },
  {
   "cell_type": "code",
   "execution_count": null,
   "id": "cfc87cbe",
   "metadata": {},
   "outputs": [],
   "source": [
    "id2tok = dict(enumerate(vocab))\n",
    "list(id2tok.items())[:4]"
   ]
  },
  {
   "cell_type": "markdown",
   "id": "eba9c98e",
   "metadata": {},
   "source": [
    "#### "
   ]
  },
  {
   "cell_type": "code",
   "execution_count": null,
   "id": "0545e1c1",
   "metadata": {},
   "outputs": [],
   "source": [
    "tok2id = {tok: i for (i, tok) in id2tok.items()}\n",
    "list(tok2id.items())[:4]"
   ]
  },
  {
   "cell_type": "markdown",
   "id": "bf12903e",
   "metadata": {},
   "source": [
    "#### "
   ]
  },
  {
   "cell_type": "code",
   "execution_count": null,
   "id": "6b445647",
   "metadata": {},
   "outputs": [],
   "source": [
    "def windowizer(row, wsize=WINDOW_WIDTH):"
   ]
  },
  {
   "cell_type": "markdown",
   "id": "30d0f84a",
   "metadata": {},
   "source": [
    "#### "
   ]
  },
  {
   "cell_type": "code",
   "execution_count": null,
   "id": "13b5bea7",
   "metadata": {},
   "outputs": [],
   "source": [
    "def skip_grams(tokens, window_width=WINDOW_WIDTH):\n",
    "   pairs = []\n",
    "   for i, wd in enumerate(tokens):\n",
    "       target = tok2id[wd]\n",
    "       window = [\n",
    "           i + j for j in\n",
    "           range(-window_width, window_width + 1, 1)\n",
    "           if (i + j >= 0)\n",
    "           & (i + j < len(tokens))\n",
    "           & (j != 0)\n",
    "       ]\n",
    "from torch.utils.data import Dataset\n",
    "class Word2VecDataset(Dataset):\n",
    "   def __init__(self, dataset, vocab_size, wsize=WINDOW_WIDTH):\n",
    "       self.dataset = dataset\n",
    "       self.vocab_size = vocab_size\n",
    "       self.data = [i for s in dataset['moving_window'] for i in s]\n",
    "\n",
    "   def __len__(self):\n",
    "       return len(self.data)\n",
    "\n",
    "   def __getitem__(self, idx):\n",
    "       return self.data[idx]"
   ]
  },
  {
   "cell_type": "markdown",
   "id": "3a7c0673",
   "metadata": {},
   "source": [
    "#### "
   ]
  },
  {
   "cell_type": "code",
   "execution_count": null,
   "id": "bea7e679",
   "metadata": {},
   "outputs": [],
   "source": [
    "model = Word2Vec()\n",
    "model\n",
    "import torch\n",
    "if torch.cuda.is_available():\n",
    "    device = torch.device('cuda')\n",
    "else:\n",
    "    device = torch.device('cpu')\n",
    "device\n",
    "model.to(device)"
   ]
  },
  {
   "cell_type": "markdown",
   "id": "d22bfef1",
   "metadata": {},
   "source": [
    "#### "
   ]
  },
  {
   "cell_type": "code",
   "execution_count": null,
   "id": "a3ba1ff1",
   "metadata": {},
   "outputs": [],
   "source": [
    "from tqdm import tqdm  # noqa\n",
    "EPOCHS = 10\n",
    "LEARNING_RATE = 5e-4"
   ]
  },
  {
   "cell_type": "markdown",
   "id": "ab59d948",
   "metadata": {},
   "source": [
    "#### "
   ]
  },
  {
   "cell_type": "code",
   "execution_count": null,
   "id": "ffa59ae8",
   "metadata": {},
   "outputs": [],
   "source": [
    "from gensim.models.keyedvectors import KeyedVectors\n",
    "from nlpia.loaders import get_data\n",
    "word_vectors = get_data('w2v', limit=200000)  # <1>"
   ]
  },
  {
   "cell_type": "markdown",
   "id": "0951984f",
   "metadata": {},
   "source": [
    "#### "
   ]
  },
  {
   "cell_type": "code",
   "execution_count": null,
   "id": "6cb55d67",
   "metadata": {},
   "outputs": [],
   "source": [
    "word_vectors.most_similar(positive=['cooking', 'potatoes'], topn=5)"
   ]
  },
  {
   "cell_type": "markdown",
   "id": "d362488b",
   "metadata": {},
   "source": [
    "#### "
   ]
  },
  {
   "cell_type": "code",
   "execution_count": null,
   "id": "0d76ab37",
   "metadata": {},
   "outputs": [],
   "source": [
    "word_vectors.most_similar(positive=['germany', 'france'], topn=1)"
   ]
  },
  {
   "cell_type": "markdown",
   "id": "4045037c",
   "metadata": {},
   "source": [
    "#### "
   ]
  },
  {
   "cell_type": "code",
   "execution_count": null,
   "id": "1850ce89",
   "metadata": {},
   "outputs": [],
   "source": [
    "word_vectors.doesnt_match(\"potatoes milk cake computer\".split())"
   ]
  },
  {
   "cell_type": "markdown",
   "id": "ca9773e7",
   "metadata": {},
   "source": [
    "#### "
   ]
  },
  {
   "cell_type": "code",
   "execution_count": null,
   "id": "bbd9a351",
   "metadata": {},
   "outputs": [],
   "source": [
    "word_vectors.most_similar(positive=['king', 'woman'],\n",
    "    negative=['man'], topn=2)"
   ]
  },
  {
   "cell_type": "markdown",
   "id": "b0b84614",
   "metadata": {},
   "source": [
    "#### "
   ]
  },
  {
   "cell_type": "code",
   "execution_count": null,
   "id": "3f721c5c",
   "metadata": {},
   "outputs": [],
   "source": [
    "word_vectors.similarity('princess', 'queen')"
   ]
  },
  {
   "cell_type": "markdown",
   "id": "19ea85c3",
   "metadata": {},
   "source": [
    "#### "
   ]
  },
  {
   "cell_type": "code",
   "execution_count": null,
   "id": "aac2b771",
   "metadata": {},
   "outputs": [],
   "source": [
    "token_list"
   ]
  },
  {
   "cell_type": "markdown",
   "id": "56f966cd",
   "metadata": {},
   "source": [
    "#### "
   ]
  },
  {
   "cell_type": "code",
   "execution_count": null,
   "id": "90b96b9a",
   "metadata": {},
   "outputs": [],
   "source": [
    "from gensim.models.word2vec import Word2Vec"
   ]
  },
  {
   "cell_type": "markdown",
   "id": "63d083dc",
   "metadata": {},
   "source": [
    "#### "
   ]
  },
  {
   "cell_type": "code",
   "execution_count": null,
   "id": "0bb3bfc8",
   "metadata": {},
   "outputs": [],
   "source": [
    "num_features = 300  # <1>\n",
    "min_word_count = 3  # <2>\n",
    "num_workers = 2  # <3>\n",
    "window_size = 6  # <4>\n",
    "subsampling = 1e-3  # <5>"
   ]
  },
  {
   "cell_type": "markdown",
   "id": "7fec36c0",
   "metadata": {},
   "source": [
    "#### "
   ]
  },
  {
   "cell_type": "code",
   "execution_count": null,
   "id": "9e00efc7",
   "metadata": {},
   "outputs": [],
   "source": [
    "model = Word2Vec(\n",
    "    token_list,\n",
    "    workers=num_workers,\n",
    "    size=num_features,\n",
    "    min_count=min_word_count,\n",
    "    window=window_size,\n",
    "    sample=subsampling)"
   ]
  },
  {
   "cell_type": "markdown",
   "id": "68703873",
   "metadata": {},
   "source": [
    "#### "
   ]
  },
  {
   "cell_type": "code",
   "execution_count": null,
   "id": "184c4c82",
   "metadata": {},
   "outputs": [],
   "source": [
    "model.init_sims(replace=True)"
   ]
  },
  {
   "cell_type": "markdown",
   "id": "262ef014",
   "metadata": {},
   "source": [
    "#### "
   ]
  },
  {
   "cell_type": "code",
   "execution_count": null,
   "id": "279a964b",
   "metadata": {},
   "outputs": [],
   "source": [
    "model_name = \"my_domain_specific_word2vec_model\"\n",
    "model.save(model_name)"
   ]
  },
  {
   "cell_type": "markdown",
   "id": "11ec2bf2",
   "metadata": {},
   "source": [
    "#### "
   ]
  },
  {
   "cell_type": "code",
   "execution_count": null,
   "id": "b8168ee7",
   "metadata": {},
   "outputs": [],
   "source": [
    "from gensim.models.word2vec import Word2Vec\n",
    "model_name = \"my_domain_specific_word2vec_model\"\n",
    "model = Word2Vec.load(model_name)\n",
    "model.most_similar('radiology')"
   ]
  },
  {
   "cell_type": "markdown",
   "id": "b4a1c3e0",
   "metadata": {},
   "source": [
    "#### "
   ]
  },
  {
   "cell_type": "code",
   "execution_count": null,
   "id": "676c04a1",
   "metadata": {},
   "outputs": [],
   "source": [
    "import spacy\n",
    "nlp = spacy.load(\"en_core_web_sm\")\n",
    "text = \"This is an example sentence.\"\n",
    "doc = nlp(text)\n",
    "for token in doc:\n",
    "   print(token.text, token.vector)"
   ]
  },
  {
   "cell_type": "markdown",
   "id": "58910306",
   "metadata": {},
   "source": [
    "#### "
   ]
  },
  {
   "cell_type": "code",
   "execution_count": null,
   "id": "bed88066",
   "metadata": {},
   "outputs": [],
   "source": [
    "from nessvec.files import load_fasttext\n",
    "df = load_fasttext()  # <1>\n",
    "df.head().round(2)"
   ]
  },
  {
   "cell_type": "markdown",
   "id": "de947341",
   "metadata": {},
   "source": [
    "#### "
   ]
  },
  {
   "cell_type": "code",
   "execution_count": null,
   "id": "aef644a2",
   "metadata": {},
   "outputs": [],
   "source": [
    "df.loc['prosocial']  # <2>"
   ]
  },
  {
   "cell_type": "markdown",
   "id": "fb32f32e",
   "metadata": {},
   "source": [
    "#### .Examine word2vec vocabulary frequencies"
   ]
  },
  {
   "cell_type": "code",
   "execution_count": null,
   "id": "636d0d50",
   "metadata": {},
   "outputs": [],
   "source": [
    "import pandas as pd\n",
    "vocab = pd.Series(wv.vocab)\n",
    "vocab.iloc[1000000:100006]"
   ]
  },
  {
   "cell_type": "markdown",
   "id": "134fe187",
   "metadata": {},
   "source": [
    "#### .Examine word2vec vocabulary frequencies"
   ]
  },
  {
   "cell_type": "code",
   "execution_count": null,
   "id": "f080d59b",
   "metadata": {},
   "outputs": [],
   "source": [
    "wv['Illini']"
   ]
  },
  {
   "cell_type": "markdown",
   "id": "b0382e73",
   "metadata": {},
   "source": [
    "#### .Examine word2vec vocabulary frequencies"
   ]
  },
  {
   "cell_type": "code",
   "execution_count": null,
   "id": "bf91d1e7",
   "metadata": {},
   "outputs": [],
   "source": [
    "import numpy as np\n",
    "np.linalg.norm(wv['Illinois'] - wv['Illini'])  # <1>"
   ]
  },
  {
   "cell_type": "markdown",
   "id": "49eba926",
   "metadata": {},
   "source": [
    "#### .Examine word2vec vocabulary frequencies"
   ]
  },
  {
   "cell_type": "code",
   "execution_count": null,
   "id": "deb11d0a",
   "metadata": {},
   "outputs": [],
   "source": [
    "cos_similarity = np.dot(wv['Illinois'], wv['Illini']) / (\n",
    "    np.linalg.norm(wv['Illinois']) *\\\n",
    "    np.linalg.norm(wv['Illini']))  # <2>\n",
    "cos_similarity"
   ]
  },
  {
   "cell_type": "markdown",
   "id": "d3686e5b",
   "metadata": {},
   "source": [
    "#### .Examine word2vec vocabulary frequencies"
   ]
  },
  {
   "cell_type": "code",
   "execution_count": null,
   "id": "0e090019",
   "metadata": {},
   "outputs": [],
   "source": [
    "1 - cos_similarity # <3>"
   ]
  },
  {
   "cell_type": "markdown",
   "id": "13763e6c",
   "metadata": {},
   "source": [
    "#### .Examine word2vec vocabulary frequencies"
   ]
  },
  {
   "cell_type": "code",
   "execution_count": null,
   "id": "2d3f0cca",
   "metadata": {},
   "outputs": [],
   "source": [
    "from nlpia.data.loaders import get_data\n",
    "cities = get_data('cities')\n",
    "cities.head(1).T"
   ]
  },
  {
   "cell_type": "markdown",
   "id": "6bf23081",
   "metadata": {},
   "source": [
    "#### .Some US state data"
   ]
  },
  {
   "cell_type": "code",
   "execution_count": null,
   "id": "b27c0cef",
   "metadata": {},
   "outputs": [],
   "source": [
    "us = cities[(cities.country_code == 'US') &\\\n",
    "    (cities.admin1_code.notnull())].copy()\n",
    "states = pd.read_csv(\\\n",
    "    'http://www.fonz.net/blog/wp-content/uploads/2008/04/states.csv')\n",
    "states = dict(zip(states.Abbreviation, states.State))\n",
    "us['city'] = us.name.copy()\n",
    "us['st'] = us.admin1_code.copy()\n",
    "us['state'] = us.st.map(states)\n",
    "us[us.columns[-3:]].head()"
   ]
  },
  {
   "cell_type": "markdown",
   "id": "34d154cb",
   "metadata": {},
   "source": [
    "#### .Some US state data"
   ]
  },
  {
   "cell_type": "code",
   "execution_count": null,
   "id": "3fc5b587",
   "metadata": {},
   "outputs": [],
   "source": [
    "vocab = pd.np.concatenate([us.city, us.st, us.state])\n",
    "vocab = np.array([word for word in vocab if word in wv.wv])\n",
    "vocab[:10]"
   ]
  },
  {
   "cell_type": "markdown",
   "id": "12292fcd",
   "metadata": {},
   "source": [
    "#### .Some US state data"
   ]
  },
  {
   "cell_type": "code",
   "execution_count": null,
   "id": "677cf8b6",
   "metadata": {},
   "outputs": [],
   "source": [
    "city_plus_state = []\n",
    "for c, state, st in zip(us.city, us.state, us.st):\n",
    "    if c not in vocab:\n",
    "        continue\n",
    "    row = []\n",
    "    if state in vocab:\n",
    "        row.extend(wv[c] + wv[state])\n",
    "    else:\n",
    "        row.extend(wv[c] + wv[st])\n",
    "    city_plus_state.append(row)\n",
    "us_300D = pd.DataFrame(city_plus_state)"
   ]
  },
  {
   "cell_type": "markdown",
   "id": "666829a5",
   "metadata": {},
   "source": [
    "#### "
   ]
  },
  {
   "cell_type": "code",
   "execution_count": null,
   "id": "1a283b2e",
   "metadata": {},
   "outputs": [],
   "source": [
    "word_model.distance('man', 'nurse')"
   ]
  },
  {
   "cell_type": "markdown",
   "id": "445ee5f4",
   "metadata": {},
   "source": [
    "#### "
   ]
  },
  {
   "cell_type": "code",
   "execution_count": null,
   "id": "f23ea517",
   "metadata": {},
   "outputs": [],
   "source": [
    "word_model.distance('woman', 'nurse')"
   ]
  },
  {
   "cell_type": "markdown",
   "id": "c27f93cc",
   "metadata": {},
   "source": [
    "#### "
   ]
  },
  {
   "cell_type": "code",
   "execution_count": null,
   "id": "bf9b78c8",
   "metadata": {},
   "outputs": [],
   "source": [
    "from sklearn.decomposition import PCA\n",
    "pca = PCA(n_components=2)  # <1>\n",
    "us_300D = get_data('cities_us_wordvectors')\n",
    "us_2D = pca.fit_transform(us_300D.iloc[:, :300])  # <2>"
   ]
  },
  {
   "cell_type": "markdown",
   "id": "8a7e918e",
   "metadata": {},
   "source": [
    "#### "
   ]
  },
  {
   "cell_type": "code",
   "execution_count": null,
   "id": "b31928b4",
   "metadata": {},
   "outputs": [],
   "source": [
    "import seaborn\n",
    "from matplotlib import pyplot as plt\n",
    "from nlpia.plots import offline_plotly_scatter_bubble\n",
    "df = get_data('cities_us_wordvectors_pca2_meta')\n",
    "html = offline_plotly_scatter_bubble(\n",
    "    df.sort_values('population', ascending=False)[:350].copy()\\\n",
    "        .sort_values('population'),\n",
    "    filename='plotly_scatter_bubble.html',"
   ]
  },
  {
   "cell_type": "markdown",
   "id": "d519fbba",
   "metadata": {},
   "source": [
    "#### "
   ]
  },
  {
   "cell_type": "code",
   "execution_count": null,
   "id": "9a52a13b",
   "metadata": {},
   "outputs": [],
   "source": [
    "import requests\n",
    "repo = 'https://gitlab.com/tangibleai/nlpia2/-/raw/main'\n",
    "name = 'Chapter-06_Reasoning-with-word-embeddings-word-vectors.adoc'\n",
    "url = f'{repo}/src/nlpia2/data/{name}'\n",
    "adoc_text = requests.get(url)"
   ]
  },
  {
   "cell_type": "markdown",
   "id": "d4ad022e",
   "metadata": {},
   "source": [
    "#### "
   ]
  },
  {
   "cell_type": "code",
   "execution_count": null,
   "id": "39a4e019",
   "metadata": {},
   "outputs": [],
   "source": [
    "from pathlib import Path\n",
    "path = Path.cwd() / name\n",
    "with path.open('w') as fout:\n",
    "    fout.write(adoc_text)"
   ]
  },
  {
   "cell_type": "markdown",
   "id": "0b815d12",
   "metadata": {},
   "source": [
    "#### "
   ]
  },
  {
   "cell_type": "code",
   "execution_count": null,
   "id": "8d7720f0",
   "metadata": {},
   "outputs": [],
   "source": [
    "import subprocess\n",
    "subprocess.run(args=[   # <1>\n",
    "    'asciidoc3', '-a', '-n', '-a', 'icons', path.name])"
   ]
  },
  {
   "cell_type": "markdown",
   "id": "2c149526",
   "metadata": {},
   "source": [
    "#### "
   ]
  },
  {
   "cell_type": "code",
   "execution_count": null,
   "id": "09dfcd2f",
   "metadata": {},
   "outputs": [],
   "source": [
    "if os.path.exists(chapt6_html) and os.path.getsize(chapt6_html) > 0:\n",
    "    chapter6_html = open(chapt6_html, 'r').read()\n",
    "    bsoup = BeautifulSoup(chapter6_html, 'html.parser')\n",
    "    text = bsoup.get_text()  # <1>"
   ]
  },
  {
   "cell_type": "markdown",
   "id": "0c8d4b5e",
   "metadata": {},
   "source": [
    "#### "
   ]
  },
  {
   "cell_type": "code",
   "execution_count": null,
   "id": "28ae5e24",
   "metadata": {},
   "outputs": [],
   "source": [
    "import spacy\n",
    "nlp = spacy.load('en_core_web_md')"
   ]
  },
  {
   "cell_type": "markdown",
   "id": "06877b99",
   "metadata": {},
   "source": [
    "#### "
   ]
  },
  {
   "cell_type": "code",
   "execution_count": null,
   "id": "4f23dca3",
   "metadata": {},
   "outputs": [],
   "source": [
    "import numpy as np\n",
    "vector = np.array([1, 2, 3, 4])  # <1>\n",
    "np.sqrt(sum(vector**2)) "
   ]
  },
  {
   "cell_type": "markdown",
   "id": "06b8156f",
   "metadata": {},
   "source": [
    "#### "
   ]
  },
  {
   "cell_type": "code",
   "execution_count": null,
   "id": "42658809",
   "metadata": {},
   "outputs": [],
   "source": [
    "np.linalg.norm(vector)  # <2>"
   ]
  },
  {
   "cell_type": "markdown",
   "id": "ed27c1e6",
   "metadata": {},
   "source": [
    "#### "
   ]
  },
  {
   "cell_type": "code",
   "execution_count": null,
   "id": "557ec859",
   "metadata": {},
   "outputs": [],
   "source": [
    "import numpy as np\n",
    "for i, sent_vec in enumerate(sent_vecs):\n",
    "    sent_vecs[i] = sent_vec / np.linalg.norm(sent_vec)"
   ]
  },
  {
   "cell_type": "markdown",
   "id": "7c610577",
   "metadata": {},
   "source": [
    "#### "
   ]
  },
  {
   "cell_type": "code",
   "execution_count": null,
   "id": "4a02c5b5",
   "metadata": {},
   "outputs": [],
   "source": [
    "np_array_sent_vecs_norm = np.array(sent_vecs)\n",
    "similarity_matrix = np_array_sent_vecs_norm.dot(\n",
    "    np_array_sent_vecs_norm.T)  # <1>"
   ]
  },
  {
   "cell_type": "markdown",
   "id": "dde73a01",
   "metadata": {},
   "source": [
    "#### "
   ]
  },
  {
   "cell_type": "code",
   "execution_count": null,
   "id": "d005c97c",
   "metadata": {},
   "outputs": [],
   "source": [
    "import re\n",
    "import networkx as nx\n",
    "similarity_matrix = np.triu(similarity_matrix, k=1)  # <1>\n",
    "iterator = np.nditer(similarity_matrix,\n",
    "    flags=['multi_index'], order='C')\n",
    "node_labels = dict()\n",
    "G = nx.Graph()\n",
    "pattern = re.compile(\n",
    "   r'[\\w\\s]*[\\'\\\"]?[\\w\\s]+\\-?[\\w\\s]*[\\'\\\"]?[\\w\\s]*'\n",
    "   )  # <2>"
   ]
  },
  {
   "cell_type": "markdown",
   "id": "cac13d84",
   "metadata": {},
   "source": [
    "#### .Plot an undirected graph"
   ]
  },
  {
   "cell_type": "code",
   "execution_count": null,
   "id": "30340643",
   "metadata": {},
   "outputs": [],
   "source": [
    "import matplotlib.pyplot as plt\n",
    "plt.subplot(1, 1, 1)  # <1>\n",
    "pos = nx.spring_layout(G, k=0.15, seed=42)  # <2>\n",
    "nx.draw_networkx(G,\n",
    "   pos=pos,  # <3>\n",
    "   with_labels=True,\n",
    "   labels=node_labels,\n",
    "   font_weight='bold')\n",
    "plt.show()"
   ]
  }
 ],
 "metadata": {},
 "nbformat": 4,
 "nbformat_minor": 5
}
