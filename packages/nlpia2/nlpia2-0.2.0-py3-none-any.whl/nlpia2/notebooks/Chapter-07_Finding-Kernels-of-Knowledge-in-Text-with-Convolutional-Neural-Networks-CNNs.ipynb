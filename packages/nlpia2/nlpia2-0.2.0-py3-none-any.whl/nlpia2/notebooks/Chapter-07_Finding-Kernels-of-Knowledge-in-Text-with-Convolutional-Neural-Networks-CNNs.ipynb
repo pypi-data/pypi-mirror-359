{
 "cells": [
  {
   "cell_type": "markdown",
   "id": "f7000389",
   "metadata": {},
   "source": [
    "#### [`Chapter-07_Finding-Kernels-of-Knowledge-in-Text-with-Convolutional-Neural-Networks-CNNs`](/home/hobs/code/hobs/nlpia-manuscript/manuscript/adoc/Chapter-07_Finding-Kernels-of-Knowledge-in-Text-with-Convolutional-Neural-Networks-CNNs.adoc)"
   ]
  },
  {
   "cell_type": "markdown",
   "id": "69048b97",
   "metadata": {},
   "source": [
    "#### "
   ]
  },
  {
   "cell_type": "code",
   "execution_count": null,
   "id": "9a8a811b",
   "metadata": {},
   "outputs": [],
   "source": [
    "import pandas as pd\n",
    "import spacy\n",
    "nlp = spacy.load('en_core_web_md')  # <1>\n",
    "text = 'right ones in the right order you can nudge the world'\n",
    "doc = nlp(text)\n",
    "df = pd.DataFrame([\n",
    "   {k: getattr(t, k) for k in 'text pos_'.split()}\n",
    "   for t in doc])"
   ]
  },
  {
   "cell_type": "markdown",
   "id": "d04dc532",
   "metadata": {},
   "source": [
    "#### "
   ]
  },
  {
   "cell_type": "code",
   "execution_count": null,
   "id": "46a1068f",
   "metadata": {},
   "outputs": [],
   "source": [
    "pd.get_dummies(df, columns=['pos_'], prefix='', prefix_sep='')"
   ]
  },
  {
   "cell_type": "markdown",
   "id": "ff5aabff",
   "metadata": {},
   "source": [
    "#### .Python implementation of correlation"
   ]
  },
  {
   "cell_type": "code",
   "execution_count": null,
   "id": "f2e801e4",
   "metadata": {},
   "outputs": [],
   "source": [
    "def corr(a, b):\n",
    "   \"\"\" Compute the Pearson correlation coefficient R \"\"\"\n",
    "   a = a - np.mean(a)\n",
    "   b = b - np.mean(b)\n",
    "   return sum(a * b) / np.sqrt(sum(a*a) * sum(b*b))\n",
    "a = np.array([0, 1, 2, 0, 1, 2, 0, 1, 2])\n",
    "b = np.array([0, 1, 2, 3, 4, 5, 6, 7, 8])\n",
    "corr(a, b)"
   ]
  },
  {
   "cell_type": "markdown",
   "id": "b4dbe4d4",
   "metadata": {},
   "source": [
    "#### .Python implementation of correlation"
   ]
  },
  {
   "cell_type": "code",
   "execution_count": null,
   "id": "51c7facd",
   "metadata": {},
   "outputs": [],
   "source": [
    "corr(a, a)"
   ]
  },
  {
   "cell_type": "markdown",
   "id": "93ca4282",
   "metadata": {},
   "source": [
    "#### .Tag a quote with parts of speech"
   ]
  },
  {
   "cell_type": "code",
   "execution_count": null,
   "id": "5868e0e7",
   "metadata": {},
   "outputs": [],
   "source": [
    "nlp = spacy.load('en_core_web_md')\n",
    "quote = \"The right word may be effective, but no word was ever\" \\\n",
    "   \" as effective as a rightly timed pause.\"\n",
    "tagged_words = {\n",
    "   t.text: [t.pos_, int(t.pos_ == 'ADV')]  # <1>\n",
    "   for t in nlp(quote)}\n",
    "df_quote = pd.DataFrame(tagged_words, index=['POS', 'ADV'])\n",
    "print(df_quote)"
   ]
  },
  {
   "cell_type": "markdown",
   "id": "31793341",
   "metadata": {},
   "source": [
    "#### .Tag a quote with parts of speech"
   ]
  },
  {
   "cell_type": "code",
   "execution_count": null,
   "id": "34d3ba29",
   "metadata": {},
   "outputs": [],
   "source": [
    "inpt = list(df_quote.loc['ADV'])\n",
    "print(inpt)"
   ]
  },
  {
   "cell_type": "markdown",
   "id": "8d6590f0",
   "metadata": {},
   "source": [
    "#### .Tag a quote with parts of speech"
   ]
  },
  {
   "cell_type": "code",
   "execution_count": null,
   "id": "7d30b536",
   "metadata": {},
   "outputs": [],
   "source": [
    "kernel = [.5, .5]  # <1>\n",
    "output = []\n",
    "for i in range(len(inpt) - 1):  # <2>\n",
    "   z = 0\n",
    "   for k, weight in enumerate(kernel):  # <3>\n",
    "       z = z + weight * inpt[i + k]\n",
    "   output.append(z)\n",
    "print(f'inpt:\\n{inpt}')\n",
    "print(f'len(inpt): {len(inpt)}')\n",
    "print(f'output:\\n{[int(o) if int(o)==o else o for o in output]}')\n",
    "print(f'len(output): {len(output)}')"
   ]
  },
  {
   "cell_type": "markdown",
   "id": "5a2dff76",
   "metadata": {},
   "source": [
    "#### .Line plot of input (is_adv) and output (adverbiness)"
   ]
  },
  {
   "cell_type": "code",
   "execution_count": null,
   "id": "e0a92cd7",
   "metadata": {},
   "outputs": [],
   "source": [
    "import pandas as pd\n",
    "from matplotlib import pyplot as plt\n",
    "plt.rcParams['figure.dpi'] = 120  # <1>\n",
    "import seaborn as sns\n",
    "sns.set_theme('paper')  # <2>\n",
    "df = pd.DataFrame([inpt, output], index=['inpt', 'output']).T\n",
    "ax = df.plot(style=['+-', 'o:'], linewidth=3)"
   ]
  },
  {
   "cell_type": "markdown",
   "id": "2c3370b9",
   "metadata": {},
   "source": [
    "#### .Line plot of input (is_adv) and output (adverbiness)"
   ]
  },
  {
   "cell_type": "code",
   "execution_count": null,
   "id": "5634eb23",
   "metadata": {},
   "outputs": [],
   "source": [
    "def convolve(inpt, kernel):\n",
    "   output = []\n",
    "   for i in range(len(inpt) - len(kernel) + 1):  # <1>\n",
    "       output.append(\n",
    "           sum(\n",
    "               [\n",
    "                   inpt[i + k] * kernel[k]\n",
    "                   for k in range(len(kernel))  # <2>\n",
    "               ]\n",
    "           )\n",
    "       )\n",
    "   return output"
   ]
  },
  {
   "cell_type": "markdown",
   "id": "4ceab8f2",
   "metadata": {},
   "source": [
    "#### "
   ]
  },
  {
   "cell_type": "code",
   "execution_count": null,
   "id": "1714b8c2",
   "metadata": {},
   "outputs": [],
   "source": [
    "tags = 'ADV ADJ VERB NOUN'.split()\n",
    "tagged_words = [\n",
    "   [tok.text] + [int(tok.pos_ == tag) for tag in tags]  # <1>\n",
    "   for tok in nlp(quote)]  # <2>\n",
    "df = pd.DataFrame(tagged_words, columns=['token'] + tags).T\n",
    "print(df)"
   ]
  },
  {
   "cell_type": "markdown",
   "id": "340ca82f",
   "metadata": {},
   "source": [
    "#### "
   ]
  },
  {
   "cell_type": "code",
   "execution_count": null,
   "id": "bc3a2cb5",
   "metadata": {},
   "outputs": [],
   "source": [
    "import torch\n",
    "x = torch.tensor(\n",
    "    df.iloc[1:].astype(float).values,\n",
    "    dtype=torch.float32)  # <1>\n",
    "x = x.unsqueeze(0) # <2>"
   ]
  },
  {
   "cell_type": "markdown",
   "id": "b500604f",
   "metadata": {},
   "source": [
    "#### "
   ]
  },
  {
   "cell_type": "code",
   "execution_count": null,
   "id": "fa72b880",
   "metadata": {},
   "outputs": [],
   "source": [
    "kernel = pd.DataFrame(\n",
    "          [[1, 0, 0.],\n",
    "           [0, 0, 0.],\n",
    "           [0, 1, 0.],\n",
    "           [0, 0, 1.]], index=tags)\n",
    "print(kernel)"
   ]
  },
  {
   "cell_type": "markdown",
   "id": "1ea13821",
   "metadata": {},
   "source": [
    "#### .Load hard-coded weights into a Conv1d layer"
   ]
  },
  {
   "cell_type": "code",
   "execution_count": null,
   "id": "032369b1",
   "metadata": {},
   "outputs": [],
   "source": [
    "kernel = torch.tensor(kernel.values, dtype=torch.float32)\n",
    "kernel = kernel.unsqueeze(0)  # <1>\n",
    "conv = torch.nn.Conv1d(in_channels=4,\n",
    "                    out_channels=1,\n",
    "                    kernel_size=3,\n",
    "                    bias=False)\n",
    "conv.load_state_dict({'weight': kernel})\n",
    "print(conv.weight)\n",
    "y = np.array(conv.forward(x).detach()).squeeze()\n",
    "df.loc['y'] = pd.Series(y)\n",
    "df"
   ]
  },
  {
   "cell_type": "markdown",
   "id": "6b18a65d",
   "metadata": {},
   "source": [
    "#### .Download secret message"
   ]
  },
  {
   "cell_type": "code",
   "execution_count": null,
   "id": "8f0443f3",
   "metadata": {},
   "outputs": [],
   "source": [
    "from nlpia2.init import maybe_download\n",
    "url = 'https://upload.wikimedia.org/wikipedia/' \\"
   ]
  },
  {
   "cell_type": "markdown",
   "id": "157317fe",
   "metadata": {},
   "source": [
    "#### .Download secret message"
   ]
  },
  {
   "cell_type": "code",
   "execution_count": null,
   "id": "9a6e0b2e",
   "metadata": {},
   "outputs": [],
   "source": [
    "filepath = maybe_download(url)  # <1>\n",
    "filepath"
   ]
  },
  {
   "cell_type": "markdown",
   "id": "86833ef4",
   "metadata": {},
   "source": [
    "#### .Download secret message"
   ]
  },
  {
   "cell_type": "code",
   "execution_count": null,
   "id": "c1870945",
   "metadata": {},
   "outputs": [],
   "source": [
    "from scipy.io import wavfile\n",
    "sample_rate, audio = wavfile.read(filepath)\n",
    "print(f'sample_rate: {sample_rate}')\n",
    "print(f'audio:\\n{audio}')"
   ]
  },
  {
   "cell_type": "markdown",
   "id": "df926766",
   "metadata": {},
   "source": [
    "#### .Download secret message"
   ]
  },
  {
   "cell_type": "code",
   "execution_count": null,
   "id": "c0e5ff5e",
   "metadata": {},
   "outputs": [],
   "source": [
    "pd.options.display.max_rows = 7\n",
    "audio = audio[:sample_rate * 2]  # <1>\n",
    "audio = np.abs(audio - audio.max() / 2) - .5  # <2>\n",
    "audio = audio / audio.max()  # <3>\n",
    "audio = audio[::sample_rate // 400]  # <4>\n",
    "audio = pd.Series(audio, name='audio')\n",
    "audio.index = 1000 * audio.index / sample_rate  # <5>\n",
    "audio.index.name = 'time (ms)'\n",
    "print(f'audio:\\n{audio}')"
   ]
  },
  {
   "cell_type": "markdown",
   "id": "2a09d33d",
   "metadata": {},
   "source": [
    "#### .Dot detecting kernel"
   ]
  },
  {
   "cell_type": "code",
   "execution_count": null,
   "id": "e4e00cdd",
   "metadata": {},
   "outputs": [],
   "source": [
    "kernel = [-1] * 24 + [1] * 24 + [-1] * 24  # <1>\n",
    "kernel = pd.Series(kernel, index=2.5 * np.arange(len(kernel)))\n",
    "kernel.index.name = 'Time (ms)'\n",
    "ax = kernel.plot(linewidth=3, ylabel='Kernel weight')"
   ]
  },
  {
   "cell_type": "markdown",
   "id": "61de239a",
   "metadata": {},
   "source": [
    "#### .Dot detecting kernel"
   ]
  },
  {
   "cell_type": "code",
   "execution_count": null,
   "id": "663db9a6",
   "metadata": {},
   "outputs": [],
   "source": [
    "kernel = np.array(kernel) / sum(np.abs(kernel))  # <1>\n",
    "pad = [0] * (len(kernel) // 2)  # <2>\n",
    "isdot = convolve(audio.values, kernel)\n",
    "isdot =  np.array(pad[:-1] + list(isdot) + pad)  # <3>\n",
    "df = pd.DataFrame()\n",
    "df['audio'] = audio\n",
    "df['isdot'] = isdot - isdot.min()\n",
    "ax = df.plot()"
   ]
  },
  {
   "cell_type": "markdown",
   "id": "5a6f629d",
   "metadata": {},
   "source": [
    "#### .Dot detecting kernel"
   ]
  },
  {
   "cell_type": "code",
   "execution_count": null,
   "id": "d4c40792",
   "metadata": {},
   "outputs": [],
   "source": [
    "isdot = np.convolve(audio.values, kernel, mode='same')  # <1>\n",
    "df['isdot'] = isdot - isdot.min()\n",
    "ax = df.plot()"
   ]
  },
  {
   "cell_type": "markdown",
   "id": "d9a94bd3",
   "metadata": {},
   "source": [
    "#### .Load news posts"
   ]
  },
  {
   "cell_type": "code",
   "execution_count": null,
   "id": "9dadd4d7",
   "metadata": {},
   "outputs": [],
   "source": [
    "df = pd.read_csv(HOME_DATA_DIR / 'news.csv')\n",
    "df = df[['text', 'target']]  # <1>\n",
    "print(df)"
   ]
  },
  {
   "cell_type": "markdown",
   "id": "9c25fce7",
   "metadata": {},
   "source": [
    "#### .Learn your embeddings from scratch"
   ]
  },
  {
   "cell_type": "code",
   "execution_count": null,
   "id": "8be4730e",
   "metadata": {},
   "outputs": [],
   "source": [
    "from torch import nn\n",
    "\n",
    "embedding = nn.Embedding(\n",
    "    num_embeddings=2000,  # <1>\n",
    "    embedding_dim=64,  # <2>\n",
    "    padding_idx=0)\n",
    "----\n",
    "<1> your vocab must be the same same as in your tokenizer\n",
    "<2> 50-100 dimensions are fine for small vocabularies and corpora\n",
    "\n",
    "The embedding layer will be the first layer in your CNN.\n",
    "That will convert your token IDs into their own unique 64-D word vectors.\n",
    "And backpropagation during training will adjust the weights in each dimension for each word to match 64 different ways that words can be used to talk about news-worthy disasters.\n",
    "These embeddings won't represent the complete meaning of words the way the FastText and GloVe vectors did in chapter 6.\n",
    "These embeddings are good for only one thing, determining if a Tweet contains newsworthy disaster information or not.\n",
    "\n",
    "Finally you can train your CNN to see how well it will do on an extremely narrow dataset like the Kaggle disaster tweets dataset.\n",
    "Those hours of work crafting a CNN will pay off with super-fast training time and impressive accuracy.\n",
    "\n",
    ".Learn your embeddings from scratch\n",
    "[source,python]\n",
    "----\n",
    "from nlpia2.ch07.cnn.train79 import Pipeline  # <1>\n",
    "\n",
    "pipeline = Pipeline(\n",
    "    vocab_size=2000,\n",
    "    embeddings=(2000, 64),\n",
    "    epochs=7,\n",
    "    torch_random_state=433994,  # <2>\n",
    "    split_random_state=1460940,\n",
    ")\n",
    "\n",
    "pipeline = pipeline.train()\n",
    "----\n",
    "<1> nlpia2/src/nlpia2/ch07/cnn/train79.py (https://gitlab.com/tangibleai/nlpia2/-/tree/main/src/nlpia2/ch07/cnn/train79.py)\n",
    "<2> set random seeds so others can reproduce your results\n",
    "\n",
    "[source,text]\n",
    "----\n",
    "Epoch: 1, loss: 0.66147, Train accuracy: 0.61392, Test accuracy: 0.63648\n",
    "Epoch: 2, loss: 0.64491, Train accuracy: 0.69712, Test accuracy: 0.70735\n",
    "Epoch: 3, loss: 0.55865, Train accuracy: 0.73391, Test accuracy: 0.74278\n",
    "Epoch: 4, loss: 0.38538, Train accuracy: 0.76558, Test accuracy: 0.77165\n",
    "Epoch: 5, loss: 0.27227, Train accuracy: 0.79288, Test accuracy: 0.77690\n",
    "Epoch: 6, loss: 0.29682, Train accuracy: 0.82119, Test accuracy: 0.78609\n",
    "Epoch: 7, loss: 0.23429, Train accuracy: 0.82951, Test accuracy: 0.79003\n",
    "----\n",
    "\n",
    "After only 7 passes through your training dataset you achieved 79% accuracy on your test set.\n",
    "And on modern laptop CPU this should take less than a minute.\n",
    "And you kept the overfitting to a minimum by minimizing the total parameters in your model.\n",
    "The CNN uses very few parameters compared to the embedding layer.\n",
    "\n",
    "What happens if you continue the training for a bit longer?\n",
    "\n",
    ".Continue training\n",
    "[source,python]\n",
    "----\n",
    "pipeline.epochs = 13  # <1>\n",
    "pipeline = pipeline.train()\n",
    "----\n",
    "<1> 7 + 13 will give you 20 total epochs of training\n",
    "\n",
    "[source,python]"
   ]
  },
  {
   "cell_type": "markdown",
   "id": "0ce1759b",
   "metadata": {},
   "source": [
    "#### "
   ]
  },
  {
   "cell_type": "code",
   "execution_count": null,
   "id": "15ec54cc",
   "metadata": {},
   "outputs": [],
   "source": [
    "def describe_model(model):  # <1>\n",
    "    state = model.state_dict()\n",
    "    names = state.keys()\n",
    "    weights = state.values()\n",
    "    params = model.parameters()\n",
    "    df = pd.DataFrame()\n",
    "    df['name'] = list(state.keys())\n",
    "    df['all'] = p.numel(),\n",
    "    df['learned'] = [\n",
    "        p.requires_grad  # <2>\n",
    "        for p in params],  # <3>\n",
    "    size=p.size(),\n",
    "    )"
   ]
  },
  {
   "cell_type": "markdown",
   "id": "ac3aeb6e",
   "metadata": {},
   "source": [
    "#### .Make room for GloVE embeddings"
   ]
  },
  {
   "cell_type": "code",
   "execution_count": null,
   "id": "00badeaa",
   "metadata": {},
   "outputs": [],
   "source": [
    "from torch import nn\n",
    "embedding = nn.Embedding(\n",
    "    num_embeddings=2000,  # <1>\n",
    "    embedding_dim=50,  # <2>\n",
    "    padding_idx=0)"
   ]
  },
  {
   "cell_type": "markdown",
   "id": "971325f6",
   "metadata": {},
   "source": [
    "#### .Make room for GloVE embeddings"
   ]
  },
  {
   "cell_type": "code",
   "execution_count": null,
   "id": "62ee7ffb",
   "metadata": {},
   "outputs": [],
   "source": [
    "from nessvec.files import load_vecs_df\n",
    "glove = load_vecs_df(HOME_DATA_DIR / 'glove.6B.50d.txt')\n",
    "zeroes = [0.] * 50\n",
    "embed = []\n",
    "for tok in vocab:  # <1>\n",
    "    if tok in glove.index:\n",
    "        embed.append(glove.loc[tok])\n",
    "    else:\n",
    "        embed.append(zeros.copy())  # <2>\n",
    "embed = np.array(embed)\n",
    "embed.shape"
   ]
  },
  {
   "cell_type": "markdown",
   "id": "76983033",
   "metadata": {},
   "source": [
    "#### .Make room for GloVE embeddings"
   ]
  },
  {
   "cell_type": "code",
   "execution_count": null,
   "id": "215b1799",
   "metadata": {},
   "outputs": [],
   "source": [
    "pd.Series(vocab)"
   ]
  },
  {
   "cell_type": "markdown",
   "id": "030ba985",
   "metadata": {},
   "source": [
    "#### .Initialize your embedding layer with GloVE vectors"
   ]
  },
  {
   "cell_type": "code",
   "execution_count": null,
   "id": "e5b1faab",
   "metadata": {},
   "outputs": [],
   "source": [
    "embed = torch.Tensor(embed)  # <1>\n",
    "print(f'embed.size(): {embed.size()}')\n",
    "embed = nn.Embedding.from_pretrained(embed, freeze=False)  # <2>\n",
    "print(embed)\n",
    "----\n",
    "<1> convert Pandas DataFrame to a torch.Tensor\n",
    "<2> freeze=False allows your Embedding layer to fine-tune your embeddings\n",
    "\n",
    "\n",
    "==== Detecting meaningful patterns\n",
    "\n",
    "How you say something, the order of the words, makes a big difference.\n",
    "You combine words to create patterns that mean something significant to you, so that you can convey that meaning to someone else.\n",
    "\n",
    "If you want your machine to be a meaningful natural language processor, it will need to be able to detect more than just the presence or absence of particular tokens.\n",
    "You want your machine to detect meaningful patterns hidden within word sequences.footnote:[_International Association of Facilitators Handbook_, https://books.google.com/books?id=TgWsY7oSgtsC&lpg=PT35&dq=%22beneath%20the%20words%22%20empathy%20listening&pg=PT35#v=onepage&q=%22beneath%20the%20words%22%20empathy%20listening&f=false]\n",
    "\n",
    "Convolutions are the filters that bring out meaningful patterns from words.\n",
    "And the best part is, you don't have no longer have to hard-code these patterns into the convolutional kernel.\n",
    "The training process will search for the best possible pattern-matching convolutions for your particular problem.\n",
    "Each time you propagate the error from your labeled dataset back through the network (backpropagation), the optimizer will adjust the weights in each of your filters so that they get better and better at detecting meaning and classifying your text examples.\n",
    "\n",
    "=== Robustifying your CNN with dropout\n",
    "// SUM: Dropout is critical to prevent overfitting for neural networks because of they have so many degrees of freedom (learnable parameters).\n",
    "\n",
    "Most neural networks are susceptible to adversarial examples that trick them into outputting incorrect classifications or text.\n",
    "And sometimes neural networks are susceptible to changes as straight forward as synonym substitution, misspellings, or insertion of slang.\n",
    "Sometimes all it takes is a little \"word salad\" -- nonsensical random words -- to distract and confuse an NLP algorithm.\n",
    "Humans know how to ignore noise and filter out distractors, but machines sometimes have trouble with this.\n",
    "\n",
    "_Robust NLP_ is the study of approaches and techniques for building machines that are smart enough to handle unusual text from diverse sources.footnote:[Robin Jia's thesis on Robust NLP (https://robinjia.github.io/assets/pdf/robinjia_thesis.pdf) and his presentation with Kai-Wei Chang, He He and Sameer Singh (https://robustnlp-tutorial.github.io)]\n",
    "In fact, research into robust NLP may uncover paths toward artificial general intelligence.\n",
    "Humans are able to learn new words and concepts from just a few examples.\n",
    "And we generalize well, not too much and not too little.\n",
    "Machines need a little help.\n",
    "And if you can figure out the \"secret sauce\" that makes us humans good at this, then you can encode it into your NLP pipelines.\n",
    "\n",
    "One popular technique for increasing the robustness of neural networks  is _random dropout_.\n",
    "_Random dropout_, or just _dropout_, has become popular because of its ease and effectiveness.\n",
    "Your neural networks will almost always benefit from a dropout layer.\n",
    "A dropout layer randomly hides some of the neurons outputs from the neurons listening to them.\n",
    "This causes that pathway in your artificial brain to go quiet and forces the other neurons to learn from the particular examples that are in front of it during that dropout.\n",
    "\n",
    "It's counter-intuitive, but dropout helps your neural network to spread the learning around.\n",
    "Without a dropout layer, your network will focus on the words and patterns and convolutional filters that helped it achieve the greatest accuracy boost.\n",
    "But you need your neurons to diversify their patterns so that your network can be \"robust\" to common variations on natural language text.\n",
    "\n",
    "The best place in your neural network to install a dropout layer is close to the end, just before you run the fully connected linear layer that computes the predictions on a batch of data.\n",
    "This vector of weights passing into your linear layer are the outputs from your CNN and pooling layers.\n",
    "Each one of these values represents a sequence of words, or patterns of meaning and syntax.\n",
    "By hiding some of these patterns from your prediction layer, it forces your prediction layer to diversify its \"thinking.\"\n",
    "Though your software isn't really thinking about anything, it's OK to anthropomorphize it a bit, if it helps you develop intuitions about why techniques like random dropout can improve your model's accuracy.\n",
    "\n",
    "== PyTorch CNN to process disaster toots\n",
    "// SUM: With CNNs you can separate personal rants on Twitter from newsworthy factual content and the only new CNN layers to your pipeline are convolution and pooling.\n",
    "\n",
    "Now comes the fun part.\n",
    "You are going to build a real world CNN that can distinguish real world news from sensationalism.\n",
    "Your model can help you filter out Tweets abiout the culture wars so you can focus on news from real war zones.\n",
    "\n",
    "First you will see where your new convolution layers fit into the pipeline.\n",
    "Then you'll assemble all the pieces to train a CNN on a dataset of \"disaster tweets.\"\n",
    "And if doom scrolling and disaster is not your thing, the CNN is easily adaptable to any labeled dataset of tweets.\n",
    "You can even pick a hashtag that you like and use that as you target label."
   ]
  },
  {
   "cell_type": "markdown",
   "id": "06ad4ead",
   "metadata": {},
   "source": [
    "#### .CNN hyperparameters"
   ]
  },
  {
   "cell_type": "code",
   "execution_count": null,
   "id": "4e4ce1b3",
   "metadata": {},
   "outputs": [],
   "source": [
    "class CNNTextClassifier(nn.Module):\n",
    "\n",
    "    def __init__(self, embeddings):\n",
    "        super().__init__()\n",
    "\n",
    "        self.seq_len = 40  # <1>\n",
    "        self.vocab_size = 10000  # <2>\n",
    "        self.embedding_size = 50  # <3>\n",
    "        self.out_channels = 5  # <4>\n",
    "        self.kernel_lengths = [2, 3, 4, 5, 6]  # <5>\n",
    "        self.stride = 1  # <6>\n",
    "        self.dropout = nn.Dropout(0)  # <7>\n",
    "        self.pool_stride = self.stride  # <8>\n",
    "        self.conv_out_seq_len = calc_out_seq_len(  # <9>\n",
    "            seq_len=self.seq_len,\n",
    "            kernel_lengths=self.kernel_lengths,\n",
    "            stride=self.stride,\n",
    "            )\n",
    "----\n",
    "<1> `N_`: assume a maximum text length of 40 tokens\n",
    "<2> `V`: number of unique tokens (words) in your vocabulary\n",
    "<3> `E`: number of word embedding dimensions (kernel input channels)\n",
    "<4> `F`: number of filters (kernel output channels)\n",
    "<5> `K`: number of columns of weights in each kernel\n",
    "<6> `S`: number of time steps (tokens) to slide the kernel forward with each step\n",
    "<7> `D`: portion of convolution output to ignore. 0 dropout increases overfitting\n",
    "<8> `P`: pooling strides greater than 1 will increase feature reduction\n",
    "<9> `C`: total convolutional output size based on kernel and pooling hyperparameters\n",
    "\n",
    "Just as for your hand-crafted convolutions earlier in this chapter, the sequence length is reduced by each convolutional operation.\n",
    "And the amount of shortening depends on the size of the kernel and the stride.\n",
    "The PyTorch documentation for a `Conv1d` layer provides this formula and a detailed explanation of the terms.footnote:[(https://pytorch.org/docs/stable/generated/torch.nn.Conv1d.html)]\n",
    "\n",
    "[source,python]\n",
    "----\n",
    "def calc_conv_out_seq_len(seq_len, kernel_len,\n",
    "                          stride=1, dilation=1, padding=0):\n",
    "    \"\"\"\n",
    "    L_out =     (L_in + 2 * padding - dilation * (kernel_size - 1) - 1)\n",
    "            1 + _______________________________________________________\n",
    "                                        stride\n",
    "    \"\"\"\n",
    "    return (\n",
    "        1 + (seq_len +\n",
    "             2 * padding - dilation * (kernel_len - 1) - 1\n",
    "            ) //\n",
    "        stride\n",
    "        )\n",
    "----\n",
    "\n",
    "Your first CNN layer is an `nn.Embedding` layer that converts a sequence of word id integers into a sequence of embedding vectors.\n",
    "It has as many rows as you have unique tokens in your vocabulary (including the new padding token).\n",
    "And it has a column for each dimension of the embedding vectors.\n",
    "You can load these embedding vectors from GloVe or any other pretrained embeddings.\n",
    "\n",
    "\n",
    ".Initialize CNN embedding\n",
    "[source,python]\n",
    "----\n",
    "self.embed = nn.Embedding(\n",
    "    self.vocab_size,  # <1>\n",
    "    self.embedding_size,  # <2>\n",
    "    padding_idx=0)\n",
    "state = self.embed.state_dict()"
   ]
  },
  {
   "cell_type": "markdown",
   "id": "3bcb2e8d",
   "metadata": {},
   "source": [
    "#### .Construct convolution and pooling layers"
   ]
  },
  {
   "cell_type": "code",
   "execution_count": null,
   "id": "621c3714",
   "metadata": {},
   "outputs": [],
   "source": [
    "self.convolvers = []\n",
    "self.poolers = []\n",
    "total_out_len = 0\n",
    "for i, kernel_len in enumerate(self.kernel_lengths):\n",
    "    self.convolvers.append(\n",
    "        nn.Conv1d(in_channels=self.embedding_size,\n",
    "                  out_channels=self.out_channels,\n",
    "                  kernel_size=kernel_len,\n",
    "                  stride=self.stride))\n",
    "    print(f'conv[{i}].weight.shape: {self.convolvers[-1].weight.shape}')\n",
    "    conv_output_len = calc_conv_out_seq_len(\n",
    "        seq_len=self.seq_len, kernel_len=kernel_len, stride=self.stride)\n",
    "    print(f'conv_output_len: {conv_output_len}')\n",
    "    self.poolers.append(\n",
    "        nn.MaxPool1d(kernel_size=conv_output_len, stride=self.stride))\n",
    "    total_out_len += calc_conv_out_seq_len(\n",
    "        seq_len=conv_output_len, kernel_len=conv_output_len,\n",
    "        stride=self.stride)\n",
    "    print(f'total_out_len: {total_out_len}')\n",
    "    print(f'poolers[{i}]: {self.poolers[-1]}')\n",
    "print(f'total_out_len: {total_out_len}')\n",
    "self.linear_layer = nn.Linear(self.out_channels * total_out_len, 1)\n",
    "print(f'linear_layer: {self.linear_layer}')\n",
    "----\n",
    "\n",
    "Unlike the previous examples, you're going to now create multiple convolution and pooling layers.\n",
    "For this example we won't layer them up as is often done in computer vision.\n",
    "Instead you will concatenate the convolution and pooling outputs together.\n",
    "This is effective because you've limited the dimensionality of your convolution and pooling output by performing global max pooling and keeping the number of output channels much smaller than the number of embedding dimensions.\n",
    "\n",
    "\n",
    "\n",
    "You can use print statements to help debug mismatching matrix shapes for each layer of your CNN.\n",
    "And you want to make sure you don't unintentionally create too many trainable parameters that cause more overfitting than you'd like:\n",
    "Your pooling outputs each contain a sequence length of 1, but they also contain 5 channels for the embedding dimensions combined together during convolution.\n",
    "So the concatenated and pooled convolution outout is a 5x5 tensor which produces a 25-D linear layer for the output tensor that encodes the meaning of each text.\n",
    "\n",
    ".CNN layer shapes\n",
    "[source,python]\n",
    "----\n",
    "conv[0].weight.shape: torch.Size([5, 50, 2])\n",
    "conv_output_len: 39\n",
    "total_pool_out_len: 1\n",
    "poolers[0]: MaxPool1d(kernel_size=39, stride=1, padding=0, dilation=1,\n",
    "    ceil_mode=False)\n",
    "conv[1].weight.shape: torch.Size([5, 50, 3])\n",
    "conv_output_len: 38\n",
    "total_pool_out_len: 2\n",
    "poolers[1]: MaxPool1d(kernel_size=38, stride=1, padding=0, dilation=1,\n",
    "    ceil_mode=False)\n",
    "conv[2].weight.shape: torch.Size([5, 50, 4])\n",
    "conv_output_len: 37\n",
    "total_pool_out_len: 3\n",
    "poolers[2]: MaxPool1d(kernel_size=37, stride=1, padding=0, dilation=1,\n",
    "    ceil_mode=False)\n",
    "conv[3].weight.shape: torch.Size([5, 50, 5])\n",
    "conv_output_len: 36\n",
    "total_pool_out_len: 4\n",
    "poolers[3]: MaxPool1d(kernel_size=36, stride=1, padding=0, dilation=1,\n",
    "    ceil_mode=False)\n",
    "conv[4].weight.shape: torch.Size([5, 50, 6])\n",
    "conv_output_len: 35\n",
    "total_pool_out_len: 5\n",
    "poolers[4]: MaxPool1d(kernel_size=35, stride=1, padding=0, dilation=1,"
   ]
  },
  {
   "cell_type": "markdown",
   "id": "9201e7e2",
   "metadata": {},
   "source": [
    "#### "
   ]
  },
  {
   "cell_type": "code",
   "execution_count": null,
   "id": "b802ecd5",
   "metadata": {},
   "outputs": [],
   "source": [
    "Epoch:  1, loss: 0.76782, Train accuracy: 0.59028, Test accuracy: 0.64961\n",
    "Epoch:  2, loss: 0.64052, Train accuracy: 0.65947, Test accuracy: 0.67060\n",
    "Epoch:  3, loss: 0.51934, Train accuracy: 0.68632, Test accuracy: 0.68766\n",
    "...\n",
    "Epoch: 55, loss: 0.04995, Train accuracy: 0.80558, Test accuracy: 0.72966\n",
    "Epoch: 65, loss: 0.05682, Train accuracy: 0.80835, Test accuracy: 0.72178\n",
    "Epoch: 75, loss: 0.04491, Train accuracy: 0.81287, Test accuracy: 0.71522\n",
    "----\n",
    "\n",
    "By reducing the number of channels from 5 to 3 for each embedding you can reduce the total output dimensionality from 25 to 15.\n",
    "This will limit the overfitting but reduce the convergence rate unless you increase the learning coefficient:\n",
    "\n",
    "\n",
    "[source,python]\n",
    "----\n",
    "Epoch:  1, loss: 0.61644, Train accuracy: 0.57773, Test accuracy: 0.58005\n",
    "Epoch:  2, loss: 0.52941, Train accuracy: 0.63232, Test accuracy: 0.64567\n",
    "Epoch:  3, loss: 0.45162, Train accuracy: 0.67202, Test accuracy: 0.65486\n",
    "...\n",
    "Epoch: 55, loss: 0.21011, Train accuracy: 0.79200, Test accuracy: 0.69816\n",
    "Epoch: 65, loss: 0.21707, Train accuracy: 0.79434, Test accuracy: 0.69423\n",
    "Epoch: 75, loss: 0.20077, Train accuracy: 0.79784, Test accuracy: 0.70079\n",
    "----\n",
    "\n",
    "=== Pooling\n",
    "\n",
    "Pooling aggregates the data from a large tensor to compress the information into fewer values.\n",
    "This is often called a \"reduce\" operation in the world of \"Big Data\" where the map-reduce software pattern is common.\n",
    "Convolution and pooling lend themselves well to the map-reduce software pattern and can be parallelized within a GPU automatically using PyTorch.\n",
    "You can even use multi-server HPC (high performance computing) systems to speed up your training.\n",
    "But CNNs are so efficient, you aren't likely to need this kind of horsepower.\n",
    "\n",
    "All the statistics you're used to calculating on a matrix of data can be useful as pooling functions for CNNs:\n",
    "\n",
    "* `min`\n",
    "* `max`\n",
    "* `std`\n",
    "* `sum`\n",
    "* `mean`\n",
    "\n",
    "The most common and most successful aggregations\n",
    "\n",
    "\n",
    "// * For each input example you applied a filter (weights and activation function).\n",
    "// * Convolved across the length of the input, which would output a 1D vector slightly smaller than the original input (1x398 which is input with the filter starting left-aligned and finishing right-aligned) for each filter\n",
    "// * For each filter output (there are 250 of them, remember), you took the single maximum value from that 1D vector.\n",
    "// * At this point you have a single vector (per input example) that is 1x250 (the number of filters).\n",
    "\n",
    "=== Linear layer\n",
    "\n",
    "The concatenated encodings approach gave you a lot of information about each microblog post.\n",
    "The encoding vector had 1856 values.\n",
    "The largest word vectors you worked with in chapter 6 were 300 dimensions.\n",
    "And all you really want for this particular pipeline is the binary answer to the question \"is it news worthy or not?\"\n",
    "\n",
    "Do you remember in chapter 6 how you had to when you were trying to get a neural network to predict \"yes or no\" questions about the occurrence or absence of particular words?\n",
    "Even though you didn't really pay attention to the answer to all those thousands of questions (one for each word in your vocabulary), it was the same problem you have now.\n",
    "So you can use the same approach, a `torch.nn.Linear` layer will optimally combine all the pieces of information together from a high dimensional vector to answer whatever question you pose it.\n",
    "\n",
    "So you need to add a Linear layer with as many weights as you have encoding dimensions that are being output from your pooling layers.\n",
    "\n",
    "Listing 7.26 shows the code you can use to calculate the size of the linear layer.\n",
    "\n",
    "// Listing 7.26"
   ]
  },
  {
   "cell_type": "markdown",
   "id": "265c2c39",
   "metadata": {},
   "source": [
    "#### .Compute the tensor size for the output of a 1D convolution"
   ]
  },
  {
   "cell_type": "code",
   "execution_count": null,
   "id": "461ad49e",
   "metadata": {},
   "outputs": [],
   "source": [
    "out_pool_total = 0\n",
    "for kernel_len, stride in zip(kernel_lengths, strides):\n",
    "    out_conv = (\n",
    "        (in_seq_len - dilation * (kernel_len - 1) - 1) // stride) + 1\n",
    "    out_pool = (\n",
    "        (out_conv - dilation * (kernel_len - 1) - 1) // stride) + 1\n",
    "    out_pool_total += out_pool\n",
    "----\n",
    "\n",
    "=== Getting fit\n",
    "// SUM: A convolutional neural network can train quickly on even a modest laptop so you can experiment with various hyperparameter combinations and often achieve better performance faster than with more complicated models.\n",
    "\n",
    "Before you can train your CNN you need to tell it how to adjust the weights (parameters) with each batch of training data.\n",
    "You need to compute two pieces, the slopes of the weights relative to the loss function (the gradient) and an estimate of how far to try to descend that slope (the learning rate).\n",
    "For the single-layer perceptrons and even the logistic regressions of the previous chapters you were able to get away with using some general purpose optimizers like \"Adam.\"\n",
    "And you can often set the learning rate to a fixed value for CNNs\n",
    "And those will work well for CNNs too.\n",
    "However, if you want to speed up your training you can try to find an optimizer that's a bit more clever about how it adjusts all those parameters of your model.\n",
    "Geoffrey Hinton called this approach \"rmsprop\" because he uses the root mean square (RMS) formula to compute the moving average of the recent gradients.\n",
    "RMSprop aggregates an exponentially decaying window of the weights for each batch of data to improve the estimate of the parameter gradient (slopes) and speed up learning.footnote:[Slide 14 \"Four ways to speed up machine learning\" from \"Overview of mini‐batch gradient descent\" by Hinton (https://www.cs.toronto.edu/~tijmen/csc321/slides/lecture_slides_lec6.pdf)] footnote:[Ph D thesis \"Optimizing Neural Networks that Generate Images\" by Tijmen Tieleman (https://www.cs.toronto.edu/~tijmen/tijmen_thesis.pdf)]\n",
    "It is usually a good bet for backpropagation within a convolutional neural network for NLP.\n",
    "\n",
    "\n",
    "=== Hyperparameter Tuning\n",
    "\n",
    "Explore the hyperparameter space to see if you can beat my performance.\n",
    "Fernando Lopez and others have achieved 80% validation and test set accuracy on this dataset using 1-D convolution.\n",
    "There's likely a lot of room to grow.\n",
    "\n",
    "The nlpia2 package contains a command line script that accepts arguments for many of the hyperparameters you might want to adjust.\n",
    "Give it a try and see if you can find a more fertile part of the hyperspace universe of possibilities.\n",
    "You can see my latest attempt in listing 7.27\n",
    "\n",
    "// Listing 7.27\n",
    ".Command line script for optimizing hyperparameters\n",
    "[source,bash]\n",
    "----\n",
    "python train.py --dropout_portion=.35 --epochs=16 --batch_size=8 --win=True\n",
    "----\n",
    "\n",
    "[source,text]\n",
    "----\n",
    "Epoch:  1, loss: 0.44480, Train accuracy: 0.58152, Test accuracy: 0.64829\n",
    "Epoch:  2, loss: 0.27265, Train accuracy: 0.63640, Test accuracy: 0.69029\n",
    "...\n",
    "Epoch: 15, loss: 0.03373, Train accuracy: 0.83871, Test accuracy: 0.79396\n",
    "Epoch: 16, loss: 0.09545, Train accuracy: 0.84718, Test accuracy: 0.79134\n",
    "----\n",
    "\n",
    "Did you notice the `win=True` flag in listing 7.27?\n",
    "That is an Easter Egg or cheat code I created for myself within my CNN pipeline.\n",
    "Whenever I discover a winning ticket in the \"Lottery Ticket Hypothesis\" game, I hard code it into my pipeline.\n",
    "In order for this to work, you have to keep track of the random seeds you use and the exact dataset and software you are using.\n",
    "If you can recreate all of these pieces, it's usually possible to recreate a particularly lucky \"draw\" to build on and improve later as you think of new architecture or parameter tweaks.\n",
    "\n",
    "In fact, this winning random number sequence initialized the weights of the model so well that the test accuracy started off better than the training set accuracy.\n",
    "It took 8 epochs for the training accuracy to overtake the test set accuracy.\n",
    "After 16 passes through the dataset (epochs), the model is fit 5% better to the training set than the test set.\n",
    "\n",
    "If you want to achieve higher test set accuracy and reduce the overfitting, you can try adding some regularization or increasing the amount of data ignored within the Dropout layer.\n",
    "For most neural networks, dropout ratios of 30% to 50% often work well to prevent overfitting without delaying the learning too long.\n",
    "A single-layer CNN doesn't benefit much from dropout ratios above 20%.\n",
    "\n",
    ".CNN hyperparameter tuning"
   ]
  }
 ],
 "metadata": {},
 "nbformat": 4,
 "nbformat_minor": 5
}
