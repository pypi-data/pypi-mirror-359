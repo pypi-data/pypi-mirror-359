{
 "cells": [
  {
   "cell_type": "markdown",
   "id": "ce878614",
   "metadata": {},
   "source": [
    "#### [`Chapter-08_Reduce,-Reuse,-Recycle-Recurrent-Neural-Networks`](/home/hobs/code/hobs/nlpia-manuscript/manuscript/adoc/Chapter-08_Reduce,-Reuse,-Recycle-Recurrent-Neural-Networks.adoc)"
   ]
  },
  {
   "cell_type": "markdown",
   "id": "26a20b9b",
   "metadata": {},
   "source": [
    "#### .Recurrence in PyTorch"
   ]
  },
  {
   "cell_type": "code",
   "execution_count": null,
   "id": "a2f27d11",
   "metadata": {},
   "outputs": [],
   "source": [
    "from torch import nn\n",
    "class RNN(nn.Module):\n",
    "\n",
    "    def __init__(self,\n",
    "            vocab_size, hidden_size, output_size):  # <1>\n",
    "        super().__init__()\n",
    "        self.W_c2h = nn.Linear(\n",
    "            vocab_size + hidden_size, hidden_size)  # <2>\n",
    "        self.W_c2y = nn.Linear(vocab_size + hidden_size, output_size)\n",
    "        self.softmax = nn.LogSoftmax(dim=1)\n",
    "\n",
    "    def forward(self, x, hidden):  # <3>\n",
    "        combined = torch.cat((x, hidden), axis=1)  # <4>\n",
    "        hidden = self.W_c2h(combined)  # <5>\n",
    "        y = self.W_c2y(combined)  # <6>\n",
    "        y = self.softmax(y)\n",
    "        return y, hidden  # <7>"
   ]
  },
  {
   "cell_type": "markdown",
   "id": "f28bcbc6",
   "metadata": {},
   "source": [
    "#### .SpaCy tags tokens with RNNs"
   ]
  },
  {
   "cell_type": "code",
   "execution_count": null,
   "id": "9c578abf",
   "metadata": {},
   "outputs": [],
   "source": [
    "import pandas as pd\n",
    "from nlpia2.spacy_language_model import nlp\n",
    "tagged_tokens = list(nlp('Hello world. Goodbye now!'))\n",
    "interesting_tags = 'text dep_ head lang_ lemma_ pos_ sentiment'\n",
    "interesting_tags = (interesting_tags +  'shape_ tag_').split()\n",
    "pd.DataFrame([\n",
    "        [getattr(t, a) for a in interesting_tags]\n",
    "        for t in tagged_tokens],\n",
    "    columns=interesting_tags)"
   ]
  },
  {
   "cell_type": "markdown",
   "id": "a8cb4dd6",
   "metadata": {},
   "source": [
    "#### .SpaCy tags tokens with RNNs"
   ]
  },
  {
   "cell_type": "code",
   "execution_count": null,
   "id": "27ff7259",
   "metadata": {},
   "outputs": [],
   "source": [
    "from nlpia2.string_normalizers import Asciifier\n",
    "asciify = Asciifier()\n",
    "asciify(\"O’Néàl\")"
   ]
  },
  {
   "cell_type": "markdown",
   "id": "57452fb7",
   "metadata": {},
   "source": [
    "#### .SpaCy tags tokens with RNNs"
   ]
  },
  {
   "cell_type": "code",
   "execution_count": null,
   "id": "a9c8f660",
   "metadata": {},
   "outputs": [],
   "source": [
    "asciify(\"Çetin\")"
   ]
  },
  {
   "cell_type": "markdown",
   "id": "9d275f47",
   "metadata": {},
   "source": [
    "#### .Load the"
   ]
  },
  {
   "cell_type": "code",
   "execution_count": null,
   "id": "aa2425a4",
   "metadata": {},
   "outputs": [],
   "source": [
    "repo = 'tangibleai/nlpia2'  # <1>\n",
    "filepath = 'src/nlpia2/data/surname-nationality.csv.gz'\n",
    "url = f\"https://gitlab.com/{repo}/-/raw/main/{filepath}\"\n",
    "df = pd.read_csv(url)  # <2>\n",
    "df[['surname', 'nationality']].sort_values('surname').head(9)"
   ]
  },
  {
   "cell_type": "markdown",
   "id": "8538855b",
   "metadata": {},
   "source": [
    "#### .Load the"
   ]
  },
  {
   "cell_type": "code",
   "execution_count": null,
   "id": "0210ba40",
   "metadata": {},
   "outputs": [],
   "source": [
    "df['nationality'].nunique()"
   ]
  },
  {
   "cell_type": "markdown",
   "id": "47a3784f",
   "metadata": {},
   "source": [
    "#### .Load the"
   ]
  },
  {
   "cell_type": "code",
   "execution_count": null,
   "id": "08a72f44",
   "metadata": {},
   "outputs": [],
   "source": [
    "sorted(df['nationality'].unique())"
   ]
  },
  {
   "cell_type": "markdown",
   "id": "61c8f8d2",
   "metadata": {},
   "source": [
    "#### "
   ]
  },
  {
   "cell_type": "code",
   "execution_count": null,
   "id": "d8748561",
   "metadata": {},
   "outputs": [],
   "source": [
    "fraction_unique = {}\n",
    "for i, g in df.groupby('nationality'):\n",
    "    fraction_unique[i] = g['surname'].nunique() / len(g)\n",
    "pd.Series(fraction_unique).sort_values().head(7)"
   ]
  },
  {
   "cell_type": "markdown",
   "id": "6e421186",
   "metadata": {},
   "source": [
    "#### "
   ]
  },
  {
   "cell_type": "code",
   "execution_count": null,
   "id": "84fde15f",
   "metadata": {},
   "outputs": [],
   "source": [
    "arabic = [x.strip() for x in open('.nlpia2-data/names/Arabic.txt')]\n",
    "arabic = pd.Series(sorted(arabic))"
   ]
  },
  {
   "cell_type": "markdown",
   "id": "fe3bda58",
   "metadata": {},
   "source": [
    "#### "
   ]
  },
  {
   "cell_type": "code",
   "execution_count": null,
   "id": "8eaa793f",
   "metadata": {},
   "outputs": [],
   "source": [
    "df.groupby('surname')\n",
    "overlap = {}\n",
    "for i, g in df.groupby('surname'):\n",
    "    n = g['nationality'].nunique()\n",
    "    if n > 1:\n",
    "        overlap[i] = {'nunique': n, 'unique': list(g['nationality'].unique())}\n",
    "overlap.sort_values('nunique', ascending=False)"
   ]
  },
  {
   "cell_type": "markdown",
   "id": "d1938393",
   "metadata": {},
   "source": [
    "#### .Heart of an RNN"
   ]
  },
  {
   "cell_type": "code",
   "execution_count": null,
   "id": "2450b4b1",
   "metadata": {},
   "outputs": [],
   "source": [
    "class RNN(nn.Module):\n",
    "def __init__(self, n_hidden=128, categories, char2i):  # <1>\n",
    "    super().__init__()\n",
    "    self.categories = categories\n",
    "    self.n_categories = len(self.categories)  # <2>\n",
    "    print(f'RNN.categories: {self.categories}')\n",
    "    print(f'RNN.n_categories: {self.n_categories}')\n",
    "def forward(self, x, hidden):  # <3>\n",
    "    combined = torch.cat((x, hidden), 1)\n",
    "    hidden = self.W_c2h(combined)\n",
    "    y = self.W_c2y(combined)\n",
    "    y = self.softmax(y)\n",
    "    return y, hidden  # <4>"
   ]
  },
  {
   "cell_type": "markdown",
   "id": "71abde9b",
   "metadata": {},
   "source": [
    "#### .Heart of an RNN"
   ]
  },
  {
   "cell_type": "code",
   "execution_count": null,
   "id": "9d8f1ff4",
   "metadata": {},
   "outputs": [],
   "source": [
    "def train_sample(model, category_tensor, char_seq_tens,\n",
    "                criterion=nn.NLLLoss(), lr=.005):"
   ]
  },
  {
   "cell_type": "markdown",
   "id": "f624a4e2",
   "metadata": {},
   "source": [
    "#### "
   ]
  },
  {
   "cell_type": "code",
   "execution_count": null,
   "id": "85906979",
   "metadata": {},
   "outputs": [],
   "source": [
    "%run classify_name_nationality.py  # <1>"
   ]
  },
  {
   "cell_type": "markdown",
   "id": "36b08748",
   "metadata": {},
   "source": [
    "#### "
   ]
  },
  {
   "cell_type": "code",
   "execution_count": null,
   "id": "e89e6003",
   "metadata": {},
   "outputs": [],
   "source": [
    "model.predict_category(\"Khalid\")"
   ]
  },
  {
   "cell_type": "markdown",
   "id": "e4a0deeb",
   "metadata": {},
   "source": [
    "#### "
   ]
  },
  {
   "cell_type": "code",
   "execution_count": null,
   "id": "080681bd",
   "metadata": {},
   "outputs": [],
   "source": [
    "predictions = topk_predictions(model, 'Khalid', topk=4)\n",
    "predictions"
   ]
  },
  {
   "cell_type": "markdown",
   "id": "add673c2",
   "metadata": {},
   "source": [
    "#### "
   ]
  },
  {
   "cell_type": "code",
   "execution_count": null,
   "id": "3efe3a4e",
   "metadata": {},
   "outputs": [],
   "source": [
    "predictions = topk_predictions(model, 'Khalid', topk=4)\n",
    "predictions['likelihood'] = np.exp(predictions['log_loss'])\n",
    "predictions"
   ]
  },
  {
   "cell_type": "markdown",
   "id": "a60b8784",
   "metadata": {},
   "source": [
    "#### "
   ]
  },
  {
   "cell_type": "code",
   "execution_count": null,
   "id": "c7b7d360",
   "metadata": {},
   "outputs": [],
   "source": [
    "def predict_hidden(self, text=\"Khalid\"):"
   ]
  },
  {
   "cell_type": "markdown",
   "id": "453d5c7b",
   "metadata": {},
   "source": [
    "#### "
   ]
  },
  {
   "cell_type": "code",
   "execution_count": null,
   "id": "d7ad288c",
   "metadata": {},
   "outputs": [],
   "source": [
    "def predict_proba(self, text=\"Khalid\"):\n",
    "   text_tensor = self.encode_one_hot_seq(text)\n",
    "   with torch.no_grad():\n",
    "       hidden = self.hidden_init\n",
    "       for i in range(text_tensor.shape[0]):\n",
    "           y, hidden = self(text_tensor[i], hidden)\n",
    "   return y  # <1>"
   ]
  },
  {
   "cell_type": "markdown",
   "id": "ee7eace6",
   "metadata": {},
   "source": [
    "#### "
   ]
  },
  {
   "cell_type": "code",
   "execution_count": null,
   "id": "45e641f3",
   "metadata": {},
   "outputs": [],
   "source": [
    "def predict_category(self, text):\n",
    "   tensor = self.encode_one_hot_seq(text)\n",
    "   y = self.predict_proba(tensor)  # <1>\n",
    "   pred_i = y.topk(1)[1][0].item()  # <2>\n",
    "   return self.categories[pred_i]"
   ]
  },
  {
   "cell_type": "markdown",
   "id": "a576348f",
   "metadata": {},
   "source": [
    "#### "
   ]
  },
  {
   "cell_type": "code",
   "execution_count": null,
   "id": "b0868203",
   "metadata": {},
   "outputs": [],
   "source": [
    "text = 'Khalid'\n",
    "pred_categories = []\n",
    "pred_hiddens = []\n",
    "for i in range(1, len(text) + 1):\n",
    "   pred_hiddens.append(model.predict_hidden(text[:i]))  # <1>\n",
    "   pred_categories.append(model.predict_category(text[:i]))\n",
    "pd.Series(pred_categories, input_texts)"
   ]
  },
  {
   "cell_type": "markdown",
   "id": "4a0a5fac",
   "metadata": {},
   "source": [
    "#### "
   ]
  },
  {
   "cell_type": "code",
   "execution_count": null,
   "id": "bb64300e",
   "metadata": {},
   "outputs": [],
   "source": [
    "hiddens = [h[0].tolist() for h in hiddens]\n",
    "df_hidden = pd.DataFrame(hidden_lists, index=list(text))\n",
    "df_hidden = df_hidden.T.round(2)  # <1>"
   ]
  },
  {
   "cell_type": "markdown",
   "id": "8044981f",
   "metadata": {},
   "source": [
    "#### "
   ]
  },
  {
   "cell_type": "code",
   "execution_count": null,
   "id": "f8d603e0",
   "metadata": {},
   "outputs": [],
   "source": [
    "position = pd.Series(range(len(text)), index=df_hidden.index)\n",
    "pd.DataFrame(position).T"
   ]
  },
  {
   "cell_type": "markdown",
   "id": "06047370",
   "metadata": {},
   "source": [
    "#### "
   ]
  },
  {
   "cell_type": "code",
   "execution_count": null,
   "id": "6a7f77ac",
   "metadata": {},
   "outputs": [],
   "source": [
    "df_hidden_raw.corrwith(position).sort_values()"
   ]
  },
  {
   "cell_type": "markdown",
   "id": "88b7d3eb",
   "metadata": {},
   "source": [
    "#### "
   ]
  },
  {
   "cell_type": "code",
   "execution_count": null,
   "id": "deb3bce4",
   "metadata": {},
   "outputs": [],
   "source": [
    "lines = open('data/wikitext-2/train.txt').readlines()\n",
    "for line in lines[:4]:\n",
    "    print(line.rstrip()[:70])\n",
    "from nlpia2.ch08.data import Corpus\n",
    "corpus = Corpus('data/wikitext-2')\n",
    "corpus.train"
   ]
  },
  {
   "cell_type": "markdown",
   "id": "de34af41",
   "metadata": {},
   "source": [
    "#### "
   ]
  },
  {
   "cell_type": "code",
   "execution_count": null,
   "id": "14b52717",
   "metadata": {},
   "outputs": [],
   "source": [
    "vocab = corpus.dictionary\n",
    "[vocab.idx2word[i] for i in corpus.train[:7]]"
   ]
  },
  {
   "cell_type": "markdown",
   "id": "f5691073",
   "metadata": {},
   "source": [
    "#### "
   ]
  },
  {
   "cell_type": "code",
   "execution_count": null,
   "id": "d229696c",
   "metadata": {},
   "outputs": [],
   "source": [
    "def batchify_slow(x, batch_size=8, num_batches=5):\n",
    "   batches = []\n",
    "   for i in range(int(len(x)/batch_size)):\n",
    "       if i > num_batches:\n",
    "           break\n",
    "       batches.append(x[i*batch_size:i*batch_size + batch_size])\n",
    "   return batches\n",
    "batches = batchify_slow(corpus.train)"
   ]
  },
  {
   "cell_type": "markdown",
   "id": "84bf04d2",
   "metadata": {},
   "source": [
    "#### "
   ]
  },
  {
   "cell_type": "code",
   "execution_count": null,
   "id": "b0a2d6d8",
   "metadata": {},
   "outputs": [],
   "source": [
    "batches"
   ]
  },
  {
   "cell_type": "markdown",
   "id": "f543a8e3",
   "metadata": {},
   "source": [
    "#### "
   ]
  },
  {
   "cell_type": "code",
   "execution_count": null,
   "id": "865620ef",
   "metadata": {},
   "outputs": [],
   "source": [
    "torch.stack(batches)"
   ]
  },
  {
   "cell_type": "markdown",
   "id": "3e3b1dae",
   "metadata": {},
   "source": [
    "#### "
   ]
  },
  {
   "cell_type": "code",
   "execution_count": null,
   "id": "e64ea38d",
   "metadata": {},
   "outputs": [],
   "source": [
    "r = sigmoid(W_i2r.mm(x) + b_i2r +    W_h2r.mm(h) + b_h2r)  # <1>\n",
    "z = sigmoid(W_i2z.mm(x) + b_i2z +    W_h2z.mm(h) + b_h2z)  # <2>\n",
    "n =    tanh(W_i2n.mm(x) + b_i2n + r∗(W_h2n.mm(h) + b_h2n))  # <3>"
   ]
  },
  {
   "cell_type": "markdown",
   "id": "f9888ea2",
   "metadata": {},
   "source": [
    "#### "
   ]
  },
  {
   "cell_type": "code",
   "execution_count": null,
   "id": "77e392a2",
   "metadata": {},
   "outputs": [],
   "source": [
    "def count_parameters(model, learned=True):\n",
    "    return sum(\n",
    "        p.numel() for p in model.parameters()  # <1>\n",
    "        if not learned or p.requires_grad  # <2>\n",
    "    )"
   ]
  },
  {
   "cell_type": "markdown",
   "id": "2cf4875c",
   "metadata": {},
   "source": [
    "#### "
   ]
  },
  {
   "cell_type": "code",
   "execution_count": null,
   "id": "6c4ce96d",
   "metadata": {},
   "outputs": [],
   "source": [
    "import jsonlines  # <1>\n",
    "with jsonlines.open('experiments.jsonl') as fin:\n",
    "    lines = list(fin)\n",
    "df = pd.DataFrame(lines)\n",
    "df.to_csv('experiments.csv')\n",
    "cols = 'learned_parameters rnn_type epochs lr num_layers'\n",
    "cols += ' dropout epoch_time test_loss'\n",
    "cols = cols.split()\n",
    "df[cols].round(2).sort_values('test_loss', ascending=False)"
   ]
  },
  {
   "cell_type": "markdown",
   "id": "2274bc44",
   "metadata": {},
   "source": [
    "#### "
   ]
  },
  {
   "cell_type": "code",
   "execution_count": null,
   "id": "1e39f178",
   "metadata": {},
   "outputs": [],
   "source": [
    "df"
   ]
  },
  {
   "cell_type": "markdown",
   "id": "aded6f1b",
   "metadata": {},
   "source": [
    "#### "
   ]
  },
  {
   "cell_type": "code",
   "execution_count": null,
   "id": "1898f756",
   "metadata": {},
   "outputs": [],
   "source": [
    "r = sigmoid(W_i2r.mm(x) + b_i2r +    W_h2r.mm(h) + b_h2r)\n",
    "z = sigmoid(W_i2z.mm(x) + b_i2z +    W_h2z.mm(h) + b_h2z)\n",
    "n =    tanh(W_i2n.mm(x) + b_i2n + r∗(W_h2n.mm(h) + b_h2n))\n",
    "\n",
    "f = sigmoid(W_i2f.mm(x) + b_i2f + W_h2f.mm(h) + b_h2f)  # <1>\n",
    "i = sigmoid(W_i2i.mm(x) + b_i2i + W_h2i.mm(h) + b_h2i)  # <2>\n",
    "g = tanh(W_i2g.mm(x) + b_i2g + W_h2y.mm(h) + b_h2g)  # <3>\n",
    "o = sigmoid(W_i2o.mm(x) + b_i2o + W_h2o.mm(h) + b_h2o)  # <4>\n",
    "c = f*c + i*g  # <5>\n",
    "h = o*tanh(c)\n",
    "----\n",
    "<1> LSTM forgetting gate (GRU reset gate)\n",
    "<2> LSTM input relevance gate (GRU update gate)\n",
    "<3> LSTM cell gate, notice the redundant biases b_i2i and b_h2i\n",
    "<4> LSTM output gate\n",
    "<5> cell state\n",
    "\n",
    "\n",
    "=== Give your RNN a tuneup\n",
    "// SUM: Hyperparameter tuning tricks, like increasing dropout percentages and reducing the number of learnable weights can help an RNN improve its accuracy and generalization in the real world. Bigger isn't always better. And to get your model out of a rut, increase the temperature during runtime.\n",
    "\n",
    "As you learned in Chapter 7, hyperparameter tuning becomes more and more important as your neural networks get more and more complicated.\n",
    "Your intuitions about layers, network capacity and training time will get fuzzier and fuzzier as the models get complicated.\n",
    "RNNs are particularly intuitive.\n",
    "To jumpstart your intuition we've trained dozens of different basic RNNs with different combinations of hyperparameters such as the number of layers and number of hidden units in each layer.\n",
    "You can explore all the hyperparameters that you are curious about using the code in `nlpia2/ch08`.footnote:[The `hypertune.py` script in the `ch08/rnn_word` module within the `nlpia2` Python package https://gitlab.com/tangibleai/nlpia2/-/blob/main/src/nlpia2/ch08/rnn_word/hypertune.py]\n",
    "\n",
    "[source,python]\n",
    "----\n",
    "import pandas as pd\n",
    "import jsonlines\n",
    "\n",
    "with jsonlines.open('experiments.jsonl') as fin:\n",
    "    lines = list(fin)\n",
    "df = pd.DataFrame(lines)\n",
    "df.to_csv('experiments.csv')\n",
    "cols = 'rnn_type epochs lr num_layers dropout epoch_time test_loss'\n",
    "cols = cols.split()\n",
    "df[cols].round(2).sort_values('test_loss').head(10)\n",
    "----\n",
    "\n",
    "[source,text]\n",
    "----\n",
    "    epochs   lr  num_layers  dropout  epoch_time  test_loss\n",
    "37      12  2.0           2      0.2       35.43       5.23\n",
    "28      12  2.0           1      0.0       22.66       5.23\n",
    "49      32  0.5           2      0.0       32.35       5.22\n",
    "57      32  0.5           2      0.2       35.50       5.22\n",
    "38      12  2.0           3      0.2       46.14       5.21\n",
    "50      32  0.5           3      0.0       37.36       5.20\n",
    "52      32  2.0           1      0.0       22.90       5.10\n",
    "55      32  2.0           5      0.0       56.23       5.09\n",
    "53      32  2.0           2      0.0       32.49       5.06\n",
    "54      32  2.0           3      0.0       38.78       5.04\n",
    "----\n",
    "\n",
    "It's a really exciting thing to explore the hyperspace of options like this and discover surprising tricks for building accurate models.\n",
    "Surprisingly, for this RNN language model trained on a small subset of Wikipedia, you can get great results without maximizing the size and capacity of the model.\n",
    "You can achieve better accuracy with a 3-layer RNN than with a 5-layer RNN.\n",
    "You just need to start with an aggressive learning rate and keep the dropout to a minimum.\n",
    "And the fewer layers you have the faster the model will train.\n",
    "\n",
    "[TIP]\n",
    "===="
   ]
  },
  {
   "cell_type": "markdown",
   "id": "9fe3c40f",
   "metadata": {},
   "source": [
    "#### "
   ]
  },
  {
   "cell_type": "code",
   "execution_count": null,
   "id": "21ae8af0",
   "metadata": {},
   "outputs": [],
   "source": [
    "from nlpia2.ch08.rnn_word.data import Corpus\n",
    "corpus = Corpus('data/wikitext-2')\n",
    "passage = corpus.train.numpy()[-89:-35]"
   ]
  },
  {
   "cell_type": "markdown",
   "id": "93b1872d",
   "metadata": {},
   "source": [
    "#### "
   ]
  },
  {
   "cell_type": "code",
   "execution_count": null,
   "id": "d2dfab96",
   "metadata": {},
   "outputs": [],
   "source": [
    "' '.join([vocab.idx2word[i] for i in passage])"
   ]
  },
  {
   "cell_type": "markdown",
   "id": "4cd89315",
   "metadata": {},
   "source": [
    "#### "
   ]
  },
  {
   "cell_type": "code",
   "execution_count": null,
   "id": "c99d2a08",
   "metadata": {},
   "outputs": [],
   "source": [
    "num_eos = sum([vocab.idx2word[i] == '<eos>' for i in"
   ]
  },
  {
   "cell_type": "markdown",
   "id": "42c61193",
   "metadata": {},
   "source": [
    "#### "
   ]
  },
  {
   "cell_type": "code",
   "execution_count": null,
   "id": "f66e4b4c",
   "metadata": {},
   "outputs": [],
   "source": [
    "num_eos"
   ]
  },
  {
   "cell_type": "markdown",
   "id": "fc6a6ea1",
   "metadata": {},
   "source": [
    "#### "
   ]
  },
  {
   "cell_type": "code",
   "execution_count": null,
   "id": "6cb64acd",
   "metadata": {},
   "outputs": [],
   "source": [
    "num_unk = sum([vocab.idx2word[i] == '<unk>' for i in"
   ]
  },
  {
   "cell_type": "markdown",
   "id": "360569e3",
   "metadata": {},
   "source": [
    "#### "
   ]
  },
  {
   "cell_type": "code",
   "execution_count": null,
   "id": "50face7e",
   "metadata": {},
   "outputs": [],
   "source": [
    "num_unk"
   ]
  },
  {
   "cell_type": "markdown",
   "id": "73ad151d",
   "metadata": {},
   "source": [
    "#### "
   ]
  },
  {
   "cell_type": "code",
   "execution_count": null,
   "id": "c1bc00d0",
   "metadata": {},
   "outputs": [],
   "source": [
    "num_normal = sum([\n",
    "    vocab.idx2word[i] not in ('<unk>', '<eos>')\n",
    "    for i in corpus.train.numpy()])\n",
    "num_normal"
   ]
  },
  {
   "cell_type": "markdown",
   "id": "795167d7",
   "metadata": {},
   "source": [
    "#### "
   ]
  },
  {
   "cell_type": "code",
   "execution_count": null,
   "id": "65b41b71",
   "metadata": {},
   "outputs": [],
   "source": [
    "num_unk / (num_normal + num_eos + num_unk)"
   ]
  },
  {
   "cell_type": "markdown",
   "id": "2f6270b8",
   "metadata": {},
   "source": [
    "#### "
   ]
  },
  {
   "cell_type": "code",
   "execution_count": null,
   "id": "7ae423d7",
   "metadata": {},
   "outputs": [],
   "source": [
    "import torch\n",
    "from preprocessing import Corpus\n",
    "from generate import generate_words\n",
    "from model import RNNModel"
   ]
  },
  {
   "cell_type": "markdown",
   "id": "27b43587",
   "metadata": {},
   "source": [
    "#### "
   ]
  },
  {
   "cell_type": "code",
   "execution_count": null,
   "id": "9c81106c",
   "metadata": {},
   "outputs": [],
   "source": [
    "print(' '.join(w for w in words))"
   ]
  }
 ],
 "metadata": {},
 "nbformat": 4,
 "nbformat_minor": 5
}
