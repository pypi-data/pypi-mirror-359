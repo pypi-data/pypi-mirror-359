{
 "cells": [
  {
   "cell_type": "markdown",
   "id": "55e72136",
   "metadata": {},
   "source": [
    "#### [`Chapter-11_Information-extraction-and-knowledge-graphs-grounding`](/home/hobs/code/hobs/nlpia-manuscript/manuscript/adoc/Chapter-11_Information-extraction-and-knowledge-graphs-grounding.adoc)"
   ]
  },
  {
   "cell_type": "markdown",
   "id": "6163c748",
   "metadata": {},
   "source": [
    "#### "
   ]
  },
  {
   "cell_type": "code",
   "execution_count": null,
   "id": "68e2577c",
   "metadata": {},
   "outputs": [],
   "source": [
    "re.split(r'[!.?]+[\\s$]+',\n",
    "    \"Hello World.... Are you there?!?! I'm going to Mars!\")"
   ]
  },
  {
   "cell_type": "markdown",
   "id": "922a9e23",
   "metadata": {},
   "source": [
    "#### "
   ]
  },
  {
   "cell_type": "code",
   "execution_count": null,
   "id": "cb6d51d7",
   "metadata": {},
   "outputs": [],
   "source": [
    "re.split(\n",
    "   r'[!.?]+[\\s$]+',\n",
    "   \"The author wrote \\\"'It isn't conscious.' Turing said.\\\"\")"
   ]
  },
  {
   "cell_type": "markdown",
   "id": "c19abe68",
   "metadata": {},
   "source": [
    "#### "
   ]
  },
  {
   "cell_type": "code",
   "execution_count": null,
   "id": "958abb46",
   "metadata": {},
   "outputs": [],
   "source": [
    "re.split(r'(?<!\\d)\\.|\\.(?!\\d)', \"I went to GT.You?\")"
   ]
  },
  {
   "cell_type": "markdown",
   "id": "0fe1bd62",
   "metadata": {},
   "source": [
    "#### "
   ]
  },
  {
   "cell_type": "code",
   "execution_count": null,
   "id": "5b84ddbd",
   "metadata": {},
   "outputs": [],
   "source": [
    "import spacy\n",
    "nlp = spacy.load('en_core_web_md')\n",
    "doc = nlp(\"Are you an M.D. Dr. Gebru? either way you are brilliant.\")\n",
    "[s.text for s in doc.sents]"
   ]
  },
  {
   "cell_type": "markdown",
   "id": "819f03d0",
   "metadata": {},
   "source": [
    "#### "
   ]
  },
  {
   "cell_type": "code",
   "execution_count": null,
   "id": "5bd7aa2c",
   "metadata": {},
   "outputs": [],
   "source": [
    "nlp.pipeline"
   ]
  },
  {
   "cell_type": "markdown",
   "id": "8a47f75b",
   "metadata": {},
   "source": [
    "#### "
   ]
  },
  {
   "cell_type": "code",
   "execution_count": null,
   "id": "1a5bfa16",
   "metadata": {},
   "outputs": [],
   "source": [
    "nlp = spacy.load(\"en_core_web_md\", exclude=[\n",
    "   'tok2vec', 'parser', 'lemmatizer',  # <1>\n",
    "   'ner', 'tagger', 'attribute_ruler'])\n",
    "nlp.pipeline  # <2>"
   ]
  },
  {
   "cell_type": "markdown",
   "id": "d4581780",
   "metadata": {},
   "source": [
    "#### "
   ]
  },
  {
   "cell_type": "code",
   "execution_count": null,
   "id": "ee00077f",
   "metadata": {},
   "outputs": [],
   "source": [
    "nlp.enable_pipe('senter')\n",
    "nlp.pipeline"
   ]
  },
  {
   "cell_type": "markdown",
   "id": "ae657cbf",
   "metadata": {},
   "source": [
    "#### "
   ]
  },
  {
   "cell_type": "code",
   "execution_count": null,
   "id": "a80500ea",
   "metadata": {},
   "outputs": [],
   "source": [
    "t0 = time.time(); lines2 = extract_lines(nlp=nlp); t1=time.time()\n",
    "t1 - t0"
   ]
  },
  {
   "cell_type": "markdown",
   "id": "9af95942",
   "metadata": {},
   "source": [
    "#### "
   ]
  },
  {
   "cell_type": "code",
   "execution_count": null,
   "id": "747fda16",
   "metadata": {},
   "outputs": [],
   "source": [
    "df_md = pd.DataFrame(lines)  # <1>\n",
    "df_fast = pd.DataFrame(lines2)  # <2>\n",
    "(df_md['sents_spacy'][df_md.is_body]\n",
    " == df_fast['sents_spacy'][df_fast.is_body]\n",
    " ).sum() / df_md.is_body.sum()"
   ]
  },
  {
   "cell_type": "markdown",
   "id": "31c9e6ba",
   "metadata": {},
   "source": [
    "#### "
   ]
  },
  {
   "cell_type": "code",
   "execution_count": null,
   "id": "e29e293c",
   "metadata": {},
   "outputs": [],
   "source": [
    "df_md['sents_spacy'][df_md.is_body]"
   ]
  },
  {
   "cell_type": "markdown",
   "id": "94dba71c",
   "metadata": {},
   "source": [
    "#### "
   ]
  },
  {
   "cell_type": "code",
   "execution_count": null,
   "id": "4c789a54",
   "metadata": {},
   "outputs": [],
   "source": [
    "df_fast['sents_spacy'][df_fast.is_body]"
   ]
  },
  {
   "cell_type": "markdown",
   "id": "9f8831d8",
   "metadata": {},
   "source": [
    "#### "
   ]
  },
  {
   "cell_type": "code",
   "execution_count": null,
   "id": "ee92f48e",
   "metadata": {},
   "outputs": [],
   "source": [
    "import pandas as pd\n",
    "url = 'https://gitlab.com/tangibleai/nlpia2/-/raw/main/'\n",
    "url += 'src/nlpia2/data/nlpia_lines.csv'  # <1>\n",
    "df = pd.read_csv(url, index_col=0)\n",
    "df9 = df[df.chapter == 9].copy()\n",
    "df9.shape"
   ]
  },
  {
   "cell_type": "markdown",
   "id": "745acca9",
   "metadata": {},
   "source": [
    "#### "
   ]
  },
  {
   "cell_type": "code",
   "execution_count": null,
   "id": "b0b30a56",
   "metadata": {},
   "outputs": [],
   "source": [
    "pd.options.display.max_colwidth=25\n",
    "df9[['text', 'is_title', 'is_body', 'is_bullet']]"
   ]
  },
  {
   "cell_type": "markdown",
   "id": "d0acb829",
   "metadata": {},
   "source": [
    "#### "
   ]
  },
  {
   "cell_type": "code",
   "execution_count": null,
   "id": "26e82cd0",
   "metadata": {},
   "outputs": [],
   "source": [
    "texts = df9.text[df9.is_body]\n",
    "texts.shape"
   ]
  },
  {
   "cell_type": "markdown",
   "id": "b3845ec0",
   "metadata": {},
   "source": [
    "#### "
   ]
  },
  {
   "cell_type": "code",
   "execution_count": null,
   "id": "7be41f05",
   "metadata": {},
   "outputs": [],
   "source": [
    "from sentence_transformers import SentenceTransformer\n",
    "minibert = SentenceTransformer('all-MiniLM-L12-v2')\n",
    "vecs = minibert.encode(list(texts))\n",
    "vecs.shape"
   ]
  },
  {
   "cell_type": "markdown",
   "id": "8c6c462c",
   "metadata": {},
   "source": [
    "#### "
   ]
  },
  {
   "cell_type": "code",
   "execution_count": null,
   "id": "a1c82e73",
   "metadata": {},
   "outputs": [],
   "source": [
    "from numpy.linalg import norm\n",
    "dfe = pd.DataFrame([list(v / norm(v)) for v in vecs])\n",
    "cos_sim = dfe.values.dot(dfe.values.T)\n",
    "cos_sim.shape"
   ]
  },
  {
   "cell_type": "markdown",
   "id": "05a16129",
   "metadata": {},
   "source": [
    "#### "
   ]
  },
  {
   "cell_type": "code",
   "execution_count": null,
   "id": "9eed0b94",
   "metadata": {},
   "outputs": [],
   "source": [
    "import seaborn as sns\n",
    "from matplotlib import pyplot as plt\n",
    "sns.heatmap(cos_sim)"
   ]
  },
  {
   "cell_type": "markdown",
   "id": "05848462",
   "metadata": {},
   "source": [
    "#### "
   ]
  },
  {
   "cell_type": "code",
   "execution_count": null,
   "id": "337051c2",
   "metadata": {},
   "outputs": [],
   "source": [
    "plt.xticks(rotation=-35, ha='left')\n",
    "plt.show(block=False)"
   ]
  },
  {
   "cell_type": "markdown",
   "id": "f9bd1ce1",
   "metadata": {},
   "source": [
    "#### "
   ]
  },
  {
   "cell_type": "code",
   "execution_count": null,
   "id": "5e273aa8",
   "metadata": {},
   "outputs": [],
   "source": [
    "from nlpia2 import wikipedia as wiki\n",
    "page = wiki.page('Timnit Gebru')\n",
    "text = page.content"
   ]
  },
  {
   "cell_type": "markdown",
   "id": "8533afff",
   "metadata": {},
   "source": [
    "#### "
   ]
  },
  {
   "cell_type": "code",
   "execution_count": null,
   "id": "9e5d881b",
   "metadata": {},
   "outputs": [],
   "source": [
    "i1 = text.index('Stochastic')\n",
    "text[i1:i1+51]"
   ]
  },
  {
   "cell_type": "markdown",
   "id": "c7e090c5",
   "metadata": {},
   "source": [
    "#### "
   ]
  },
  {
   "cell_type": "code",
   "execution_count": null,
   "id": "e1a3f3d2",
   "metadata": {},
   "outputs": [],
   "source": [
    "import re\n",
    "lat = r'([-]?[0-9]?[0-9][.][0-9]{2,10})'\n",
    "lon = r'([-]?1?[0-9]?[0-9][.][0-9]{2,10})'\n",
    "sep = r'[,/ ]{1,3}'\n",
    "re_gps = re.compile(lat + sep + lon)\n",
    "re_gps.findall('http://...maps/@34.0551066,-118.2496763...')"
   ]
  },
  {
   "cell_type": "markdown",
   "id": "c89ef01f",
   "metadata": {},
   "source": [
    "#### "
   ]
  },
  {
   "cell_type": "code",
   "execution_count": null,
   "id": "1cd73302",
   "metadata": {},
   "outputs": [],
   "source": [
    "doc = nlp(text)\n",
    "doc.ents[:6]  # <1>"
   ]
  },
  {
   "cell_type": "markdown",
   "id": "6b1ce122",
   "metadata": {},
   "source": [
    "#### "
   ]
  },
  {
   "cell_type": "code",
   "execution_count": null,
   "id": "2e6ccae0",
   "metadata": {},
   "outputs": [],
   "source": [
    "first_sentence = list(doc.sents)[0]\n",
    "' '.join(['{}_{}'.format(tok, tok.pos_) for tok in first_sentence])"
   ]
  },
  {
   "cell_type": "markdown",
   "id": "e49eedaa",
   "metadata": {},
   "source": [
    "#### "
   ]
  },
  {
   "cell_type": "code",
   "execution_count": null,
   "id": "1a8903b0",
   "metadata": {},
   "outputs": [],
   "source": [
    "spacy.explain('CCONJ')"
   ]
  },
  {
   "cell_type": "markdown",
   "id": "5d3fb603",
   "metadata": {},
   "source": [
    "#### "
   ]
  },
  {
   "cell_type": "code",
   "execution_count": null,
   "id": "255bdb7a",
   "metadata": {},
   "outputs": [],
   "source": [
    "' '.join(['{}_{}'.format(tok, tok.tag_) for tok in first_sentence])"
   ]
  },
  {
   "cell_type": "markdown",
   "id": "d007203e",
   "metadata": {},
   "source": [
    "#### "
   ]
  },
  {
   "cell_type": "code",
   "execution_count": null,
   "id": "ca2b97eb",
   "metadata": {},
   "outputs": [],
   "source": [
    "spacy.explain('VBZ')"
   ]
  },
  {
   "cell_type": "markdown",
   "id": "8cbda4ba",
   "metadata": {},
   "source": [
    "#### "
   ]
  },
  {
   "cell_type": "code",
   "execution_count": null,
   "id": "1037f76f",
   "metadata": {},
   "outputs": [],
   "source": [
    "import pandas as pd\n",
    "def token_dict(token):\n",
    "   return dict(TOK=token.text,\n",
    "       POS=token.pos_, TAG=token.tag_,"
   ]
  },
  {
   "cell_type": "markdown",
   "id": "18dde562",
   "metadata": {},
   "source": [
    "#### "
   ]
  },
  {
   "cell_type": "code",
   "execution_count": null,
   "id": "a85de76a",
   "metadata": {},
   "outputs": [],
   "source": [
    "def doc2df(doc):\n",
    "   return pd.DataFrame([token_dict(tok) for tok in doc])\n",
    "pd.options.display.max_colwidth=20\n",
    "doc2df(doc)"
   ]
  },
  {
   "cell_type": "markdown",
   "id": "572c9793",
   "metadata": {},
   "source": [
    "#### "
   ]
  },
  {
   "cell_type": "code",
   "execution_count": null,
   "id": "bc87ac1a",
   "metadata": {},
   "outputs": [],
   "source": [
    "nlp = spacy.load('en_core_web_lg')\n",
    "doc = nlp(text)\n",
    "doc2df(doc)"
   ]
  },
  {
   "cell_type": "markdown",
   "id": "e74a27b1",
   "metadata": {},
   "source": [
    "#### "
   ]
  },
  {
   "cell_type": "code",
   "execution_count": null,
   "id": "53499637",
   "metadata": {},
   "outputs": [],
   "source": [
    "i0 = text.index('In a six')\n",
    "text_gebru = text[i0:i0+308]\n",
    "text_gebru"
   ]
  },
  {
   "cell_type": "markdown",
   "id": "af0f7542",
   "metadata": {},
   "source": [
    "#### "
   ]
  },
  {
   "cell_type": "code",
   "execution_count": null,
   "id": "4fae92d9",
   "metadata": {},
   "outputs": [],
   "source": [
    "!python -m spacy.cli download 'en_core_web_trf'  # <1>\n",
    "import spacy, coreferee  # <2>\n",
    "nlptrf = spacy.load('en_core_web_trf')\n",
    "nlptrf.add_pipe('coreferee')"
   ]
  },
  {
   "cell_type": "markdown",
   "id": "a7f2b3d6",
   "metadata": {},
   "source": [
    "#### "
   ]
  },
  {
   "cell_type": "code",
   "execution_count": null,
   "id": "7fd9a43d",
   "metadata": {},
   "outputs": [],
   "source": [
    "doc_gebru = nlptrf(text_gebru)\n",
    "doc_gebru._.coref_chains"
   ]
  },
  {
   "cell_type": "markdown",
   "id": "96f4c45b",
   "metadata": {},
   "source": [
    "#### "
   ]
  },
  {
   "cell_type": "code",
   "execution_count": null,
   "id": "c8b6ea88",
   "metadata": {},
   "outputs": [],
   "source": [
    "doc_gebru._.coref_chains.print()"
   ]
  },
  {
   "cell_type": "markdown",
   "id": "d75ac10e",
   "metadata": {},
   "source": [
    "#### "
   ]
  },
  {
   "cell_type": "code",
   "execution_count": null,
   "id": "d2c29e1b",
   "metadata": {},
   "outputs": [],
   "source": [
    "text = \"Gebru was unethically fired from her Ethical AI team.\"\n",
    "doc = nlp(text)\n",
    "doc2df(doc)"
   ]
  },
  {
   "cell_type": "markdown",
   "id": "8d5c49c9",
   "metadata": {},
   "source": [
    "#### "
   ]
  },
  {
   "cell_type": "code",
   "execution_count": null,
   "id": "dd5c1bc0",
   "metadata": {},
   "outputs": [],
   "source": [
    "def token_dict2(token):\n",
    "   d = token_dict(token)\n",
    "   d['children'] = list(token.children)  # <1>\n",
    "   return d\n",
    "token_dict2(doc[0])"
   ]
  },
  {
   "cell_type": "markdown",
   "id": "0a9b5f18",
   "metadata": {},
   "source": [
    "#### "
   ]
  },
  {
   "cell_type": "code",
   "execution_count": null,
   "id": "05a871b9",
   "metadata": {},
   "outputs": [],
   "source": [
    "def doc2df(doc):\n",
    "    df = pd.DataFrame([token_dict2(t) for t in doc])\n",
    "    return df.set_index('TOK')\n",
    "doc2df(doc)"
   ]
  },
  {
   "cell_type": "markdown",
   "id": "3aaac7a2",
   "metadata": {},
   "source": [
    "#### "
   ]
  },
  {
   "cell_type": "code",
   "execution_count": null,
   "id": "477a4494",
   "metadata": {},
   "outputs": [],
   "source": [
    "doc2df(doc)['children']['fired']"
   ]
  },
  {
   "cell_type": "markdown",
   "id": "c7d07e91",
   "metadata": {},
   "source": [
    "#### "
   ]
  },
  {
   "cell_type": "code",
   "execution_count": null,
   "id": "4ca01c24",
   "metadata": {},
   "outputs": [],
   "source": [
    "from spacy.displacy import render\n",
    "sentence = \"In 1541 Desoto wrote in his journal about the Pascagoula.\"\n",
    "parsed_sent = nlp(sentence)\n",
    "with open('pascagoula.html', 'w') as f:\n",
    "    f.write(render(docs=parsed_sent, page=True, options=dict(compact=True)))"
   ]
  },
  {
   "cell_type": "markdown",
   "id": "a9bc6ef8",
   "metadata": {},
   "source": [
    "#### "
   ]
  },
  {
   "cell_type": "code",
   "execution_count": null,
   "id": "5f3cadac",
   "metadata": {},
   "outputs": [],
   "source": [
    "import benepar\n",
    "benepar.download('benepar_en3')"
   ]
  },
  {
   "cell_type": "markdown",
   "id": "b5ed6cd1",
   "metadata": {},
   "source": [
    "#### "
   ]
  },
  {
   "cell_type": "code",
   "execution_count": null,
   "id": "7bb08c27",
   "metadata": {},
   "outputs": [],
   "source": [
    "import spacy\n",
    "nlp = spacy.load(\"en_core_web_md\")\n",
    "if spacy.__version__.startswith('2'):\n",
    "    nlp.add_pipe(benepar.BeneparComponent(\"benepar_en3\"))\n",
    "else:"
   ]
  },
  {
   "cell_type": "markdown",
   "id": "43dce81a",
   "metadata": {},
   "source": [
    "#### "
   ]
  },
  {
   "cell_type": "code",
   "execution_count": null,
   "id": "4169eda7",
   "metadata": {},
   "outputs": [],
   "source": [
    "doc_dataframe(nlp(\"In 1541 Desoto met the Pascagoula.\"))"
   ]
  },
  {
   "cell_type": "markdown",
   "id": "acba2268",
   "metadata": {},
   "source": [
    "#### "
   ]
  },
  {
   "cell_type": "code",
   "execution_count": null,
   "id": "8581d01c",
   "metadata": {},
   "outputs": [],
   "source": [
    "pattern = [\n",
    "    {'POS': {'IN': ['NOUN', 'PROPN']}, 'OP': '+'},"
   ]
  },
  {
   "cell_type": "markdown",
   "id": "2a2c2302",
   "metadata": {},
   "source": [
    "#### .Creating a POS pattern matcher with spaCy"
   ]
  },
  {
   "cell_type": "code",
   "execution_count": null,
   "id": "e3a83cd5",
   "metadata": {},
   "outputs": [],
   "source": [
    "from spacy.matcher import Matcher\n",
    "doc = nlp(\"In 1541 Desoto met the Pascagoula.\")\n",
    "matcher = Matcher(nlp.vocab)\n",
    "matcher.add(\n",
    "    key='met',\n",
    "    patterns=[pattern])\n",
    "matches = matcher(doc)\n",
    "matches"
   ]
  },
  {
   "cell_type": "markdown",
   "id": "8c60e99a",
   "metadata": {},
   "source": [
    "#### .Creating a POS pattern matcher with spaCy"
   ]
  },
  {
   "cell_type": "code",
   "execution_count": null,
   "id": "11aedec6",
   "metadata": {},
   "outputs": [],
   "source": [
    "start = matches[0][1]\n",
    "stop = matches[0][2]\n",
    "doc[start:stop]  # <2>"
   ]
  },
  {
   "cell_type": "markdown",
   "id": "d4229500",
   "metadata": {},
   "source": [
    "#### .Creating a POS pattern matcher with spaCy"
   ]
  },
  {
   "cell_type": "code",
   "execution_count": null,
   "id": "c42dc7e1",
   "metadata": {},
   "outputs": [],
   "source": [
    "doc = nlp(\"October 24: Lewis and Clark met their\" \\\n",
    "    \"first Mandan Chief, Big White.\")\n",
    "m = matcher(doc)[0]\n",
    "m"
   ]
  },
  {
   "cell_type": "markdown",
   "id": "2711c07f",
   "metadata": {},
   "source": [
    "#### .Creating a POS pattern matcher with spaCy"
   ]
  },
  {
   "cell_type": "code",
   "execution_count": null,
   "id": "b49161e5",
   "metadata": {},
   "outputs": [],
   "source": [
    "doc[m[1]:m[2]]"
   ]
  },
  {
   "cell_type": "markdown",
   "id": "c6378895",
   "metadata": {},
   "source": [
    "#### .Creating a POS pattern matcher with spaCy"
   ]
  },
  {
   "cell_type": "code",
   "execution_count": null,
   "id": "bcf5f30e",
   "metadata": {},
   "outputs": [],
   "source": [
    "doc = nlp(\"On 11 October 1986, Gorbachev and Reagan met at Höfði house\")\n",
    "matcher(doc)"
   ]
  },
  {
   "cell_type": "markdown",
   "id": "21ab8e9e",
   "metadata": {},
   "source": [
    "#### .Creating a POS pattern matcher with spaCy"
   ]
  },
  {
   "cell_type": "code",
   "execution_count": null,
   "id": "b5482981",
   "metadata": {},
   "outputs": [],
   "source": [
    "doc = nlp(\n",
    "    \"On 11 October 1986, Gorbachev and Reagan met at Hofoi house\"\n",
    "    )\n",
    "pattern = [\n",
    "    {'POS': {'IN': ['NOUN', 'PROPN']}, 'OP': '+'},\n",
    "    {'LEMMA': 'and'},\n",
    "    {'POS': {'IN': ['NOUN', 'PROPN']}, 'OP': '+'},\n",
    "    {'IS_ALPHA': True, 'OP': '*'},\n",
    "    {'LEMMA': 'meet'}\n",
    "    ]\n",
    "matcher.add('met', None, pattern)  # <1>\n",
    "matches = matcher(doc)\n",
    "pd.DataFrame(matches, columns=)"
   ]
  },
  {
   "cell_type": "markdown",
   "id": "dc316305",
   "metadata": {},
   "source": [
    "#### .Creating a POS pattern matcher with spaCy"
   ]
  },
  {
   "cell_type": "code",
   "execution_count": null,
   "id": "082b57ec",
   "metadata": {},
   "outputs": [],
   "source": [
    "doc[m[-1][1]:m[-1][2]]  # <3>"
   ]
  },
  {
   "cell_type": "markdown",
   "id": "6a8409fa",
   "metadata": {},
   "source": [
    "#### "
   ]
  },
  {
   "cell_type": "code",
   "execution_count": null,
   "id": "3603a6e6",
   "metadata": {},
   "outputs": [],
   "source": [
    "import pandas as pd\n",
    "pd.options.display.max_colwidth = 20\n",
    "from nlpia2.nell import read_nell_tsv, simplify_names\n",
    "df = read_nell_tsv(nrows=1000)\n",
    "df[df.columns[:4]].head()"
   ]
  },
  {
   "cell_type": "markdown",
   "id": "c8cc3f32",
   "metadata": {},
   "source": [
    "#### "
   ]
  },
  {
   "cell_type": "code",
   "execution_count": null,
   "id": "654f1d0e",
   "metadata": {},
   "outputs": [],
   "source": [
    "pd.options.display.max_colwidth = 40\n",
    "df['entity'].str.split(':').str[1:].str.join(':')"
   ]
  },
  {
   "cell_type": "markdown",
   "id": "21ed6261",
   "metadata": {},
   "source": [
    "#### "
   ]
  },
  {
   "cell_type": "code",
   "execution_count": null,
   "id": "8025642e",
   "metadata": {},
   "outputs": [],
   "source": [
    "df['entity'].str.split(':').str[-1]"
   ]
  },
  {
   "cell_type": "markdown",
   "id": "24cb4848",
   "metadata": {},
   "source": [
    "#### "
   ]
  },
  {
   "cell_type": "code",
   "execution_count": null,
   "id": "193522d3",
   "metadata": {},
   "outputs": [],
   "source": [
    "df = simplify_names(df)  # <1>\n",
    "df[df.columns[[0, 1, 2, 4]]].head()"
   ]
  },
  {
   "cell_type": "markdown",
   "id": "8363ce5a",
   "metadata": {},
   "source": [
    "#### "
   ]
  },
  {
   "cell_type": "code",
   "execution_count": null,
   "id": "103f4bd4",
   "metadata": {},
   "outputs": [],
   "source": [
    "islatlon = df['relation'] == 'latlon'\n",
    "df[islatlon].head()"
   ]
  },
  {
   "cell_type": "markdown",
   "id": "17fd395d",
   "metadata": {},
   "source": [
    "#### "
   ]
  },
  {
   "cell_type": "code",
   "execution_count": null,
   "id": "e7f6f709",
   "metadata": {},
   "outputs": [],
   "source": [
    "def get_wikidata_qid(wikiarticle, wikisite=\"enwiki\"):\n",
    "    WIKIDATA_URL='https://www.wikidata.org/w/api.php'\n",
    "    resp = requests.get(WIKIDATA_URL, timeout=5, params={\n",
    "        'action': 'wbgetentities',\n",
    "        'titles': wikiarticle,\n",
    "        'sites': wikisite,\n",
    "        'props': '',\n",
    "        'format': 'json'\n",
    "    }).json()\n",
    "    return list(resp['entities'])[0]\n",
    "tg_qid = get_wikidata_qid('Timnit Gebru')\n",
    "tg_qid"
   ]
  },
  {
   "cell_type": "markdown",
   "id": "843ad843",
   "metadata": {},
   "source": [
    "#### "
   ]
  },
  {
   "cell_type": "code",
   "execution_count": null,
   "id": "625d1334",
   "metadata": {},
   "outputs": [],
   "source": [
    "NOTABLE_WORK_PID = 'P800'     # <1>\n",
    "INSTANCE_OF_PID = 'P31'       # <2>\n",
    "SCH_ARTICLE_QID= 'Q13442814'  # <3>\n",
    "query = f\"\"\"\n",
    "    SELECT ?article WHERE {{"
   ]
  },
  {
   "cell_type": "markdown",
   "id": "6b09d61b",
   "metadata": {},
   "source": [
    "#### "
   ]
  },
  {
   "cell_type": "code",
   "execution_count": null,
   "id": "feebaa00",
   "metadata": {},
   "outputs": [],
   "source": [
    "from SPARQLWrapper import SPARQLWrapper, JSON\n",
    "endpoint_url = \"https://query.wikidata.org/sparql\"\n",
    "sparql = SPARQLWrapper(endpoint_url)\n",
    "sparql.setReturnFormat(JSON)  # <1>"
   ]
  },
  {
   "cell_type": "markdown",
   "id": "920461a6",
   "metadata": {},
   "source": [
    "#### "
   ]
  },
  {
   "cell_type": "code",
   "execution_count": null,
   "id": "88cb689a",
   "metadata": {},
   "outputs": [],
   "source": [
    "sparql.setQuery(query)\n",
    "result = sparql.queryAndConvert()\n",
    "result"
   ]
  },
  {
   "cell_type": "markdown",
   "id": "f33cac3c",
   "metadata": {},
   "source": [
    "#### "
   ]
  },
  {
   "cell_type": "code",
   "execution_count": null,
   "id": "79e12f7a",
   "metadata": {},
   "outputs": [],
   "source": [
    "import re\n",
    "uri = result['results']['bindings'][0]['article']['value']\n",
    "match_id = re.search(r'entity/(Q\\d+)', uri)\n",
    "article_qid = match_id.group(1)\n",
    "AUTHOR_PID = 'P50'\n",
    "query = f\"\"\"\n",
    "     SELECT ?author ?authorLabel WHERE {{\n",
    "     wd:{article_qid} wdt:{AUTHOR_PID} ?author.\n",
    "     SERVICE wikibase:label {{ bd:serviceParam wikibase:language \"en\". }}\n",
    "     }}\n",
    "     \"\"\"\n",
    "sparql.setQuery(query)\n",
    "result = sparql.queryAndConvert()['results']['bindings']\n",
    "authors = [record['authorLabel']['value'] for record in result]\n",
    "authors"
   ]
  },
  {
   "cell_type": "markdown",
   "id": "c83448f7",
   "metadata": {},
   "source": [
    "#### "
   ]
  },
  {
   "cell_type": "code",
   "execution_count": null,
   "id": "a2611816",
   "metadata": {},
   "outputs": [],
   "source": [
    "query = \"\"\"\n",
    "SELECT ?author ?authorLabel WHERE {\n",
    "    {\n",
    "    SELECT ?article WHERE {\n",
    "        wd:Q59753117 wdt:P800 ?article.\n",
    "        ?article wdt:P31 wd:Q13442814.\n",
    "        }\n",
    "    }\n",
    "    ?article wdt:P50 ?author.\n",
    "    SERVICE wikibase:label {"
   ]
  }
 ],
 "metadata": {},
 "nbformat": 4,
 "nbformat_minor": 5
}
