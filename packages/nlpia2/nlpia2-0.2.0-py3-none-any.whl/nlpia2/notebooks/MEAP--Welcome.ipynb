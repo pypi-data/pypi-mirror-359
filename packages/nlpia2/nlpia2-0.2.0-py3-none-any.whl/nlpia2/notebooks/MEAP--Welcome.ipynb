{
 "cells": [
  {
   "cell_type": "markdown",
   "id": "c55c529a",
   "metadata": {},
   "source": [
    "#### [MEAP--Welcome](/home/hobs/code/hobs/nlpia-manuscript/manuscript/adoc/MEAP--Welcome.adoc)"
   ]
  }
 ],
 "metadata": {},
 "nbformat": 4,
 "nbformat_minor": 5
}
