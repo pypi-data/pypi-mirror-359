{
 "cells": [
  {
   "cell_type": "markdown",
   "id": "83d1ab47",
   "metadata": {},
   "source": [
    "#### [MEAP-2e-Web-Copy](/home/hobs/code/hobs/nlpia-manuscript/manuscript/adoc/MEAP-2e-Web-Copy.adoc)"
   ]
  }
 ],
 "metadata": {},
 "nbformat": 4,
 "nbformat_minor": 5
}
