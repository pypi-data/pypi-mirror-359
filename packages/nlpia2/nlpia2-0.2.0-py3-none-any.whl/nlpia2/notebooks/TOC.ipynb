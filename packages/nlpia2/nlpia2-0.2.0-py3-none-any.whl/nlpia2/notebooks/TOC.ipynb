{
 "cells": [
  {
   "cell_type": "markdown",
   "id": "b2be6801",
   "metadata": {},
   "source": [
    "#### [TOC](/home/hobs/code/hobs/nlpia-manuscript/manuscript/adoc/TOC.adoc)"
   ]
  }
 ],
 "metadata": {},
 "nbformat": 4,
 "nbformat_minor": 5
}
