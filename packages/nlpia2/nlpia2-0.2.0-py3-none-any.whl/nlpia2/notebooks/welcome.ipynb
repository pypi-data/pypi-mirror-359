{
 "cells": [
  {
   "cell_type": "markdown",
   "id": "efc674a7",
   "metadata": {},
   "source": [
    "#### [welcome](/home/hobs/code/hobs/nlpia-manuscript/manuscript/adoc/welcome.adoc)"
   ]
  }
 ],
 "metadata": {},
 "nbformat": 4,
 "nbformat_minor": 5
}
