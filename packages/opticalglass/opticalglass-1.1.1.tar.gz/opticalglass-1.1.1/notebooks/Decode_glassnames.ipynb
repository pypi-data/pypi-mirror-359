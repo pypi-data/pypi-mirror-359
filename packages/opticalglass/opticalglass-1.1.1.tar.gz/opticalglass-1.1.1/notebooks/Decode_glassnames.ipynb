{
 "cells": [
  {
   "cell_type": "code",
   "execution_count": 1,
   "metadata": {},
   "outputs": [],
   "source": [
    "import opticalglass.glassfactory as gfact\n",
    "from opticalglass.glass import decode_glass_name, glass_catalog_stats"
   ]
  },
  {
   "cell_type": "code",
   "execution_count": 2,
   "metadata": {},
   "outputs": [
    {
     "data": {
      "text/plain": [
       "(['F2'], (('F', '2'), '', ''))"
      ]
     },
     "execution_count": 2,
     "metadata": {},
     "output_type": "execute_result"
    }
   ],
   "source": [
    "'F2'.split('-'), decode_glass_name('F2')"
   ]
  },
  {
   "cell_type": "code",
   "execution_count": 3,
   "metadata": {},
   "outputs": [
    {
     "data": {
      "text/plain": [
       "(['N', 'BK7'], (('BK', '7'), 'N', ''))"
      ]
     },
     "execution_count": 3,
     "metadata": {},
     "output_type": "execute_result"
    }
   ],
   "source": [
    "'N-BK7'.split('-'), decode_glass_name('N-BK7')"
   ]
  },
  {
   "cell_type": "code",
   "execution_count": 4,
   "metadata": {},
   "outputs": [
    {
     "data": {
      "text/plain": [
       "(['FD60', 'W'], (('FD', '60'), '', 'W'))"
      ]
     },
     "execution_count": 4,
     "metadata": {},
     "output_type": "execute_result"
    }
   ],
   "source": [
    "'FD60-W'.split('-'), decode_glass_name('FD60-W')"
   ]
  },
  {
   "cell_type": "code",
   "execution_count": 5,
   "metadata": {},
   "outputs": [
    {
     "data": {
      "text/plain": [
       "(['MC', 'FCD1', 'M20'], (('FCD', '1'), 'MC', 'M20'))"
      ]
     },
     "execution_count": 5,
     "metadata": {},
     "output_type": "execute_result"
    }
   ],
   "source": [
    "'MC-FCD1-M20'.split('-'), decode_glass_name('MC-FCD1-M20')"
   ]
  },
  {
   "cell_type": "code",
   "execution_count": 6,
   "metadata": {},
   "outputs": [
    {
     "data": {
      "text/plain": [
       "(['SF57HTultra'], (('SF', '57'), '', 'HTULTRA'))"
      ]
     },
     "execution_count": 6,
     "metadata": {},
     "output_type": "execute_result"
    }
   ],
   "source": [
    "'SF57HTultra'.split('-'), decode_glass_name('SF57HTultra')"
   ]
  },
  {
   "cell_type": "code",
   "execution_count": 16,
   "metadata": {},
   "outputs": [],
   "source": [
    "def decode_glass_catalog(glass_cat_name):\n",
    "    \"\"\"Decode all of the glass names in glass_cat_name.\n",
    "\n",
    "    Print out the original glass names and the decoded version side by side.\n",
    "    Args:\n",
    "        glass_cat_name (str): name of a supported glass catalog\n",
    "        \n",
    "    Returns:\n",
    "        group_num (dict): all the non-unique group-num pairs\n",
    "        prefixes (dict): all the non-null prefixes used\n",
    "        suffixes (dict): all the non-null suffixes used\n",
    "        \"\"\"\n",
    "    from opticalglass.util import Counter\n",
    "    prefixes = Counter()\n",
    "    suffixes = Counter()\n",
    "    group_nums = Counter()\n",
    "    glass_cat = gfact.get_glass_catalog(glass_cat_name)\n",
    "    glasses = glass_cat.get_glass_names()\n",
    "    glass_list = []\n",
    "    for gn in glasses:\n",
    "        group_num, prefix, suffix = decode_glass_name(gn)\n",
    "        if prefix != '':\n",
    "            prefixes[prefix] += 1\n",
    "        if suffix != '':\n",
    "            suffixes[suffix] += 1\n",
    "        group_nums[group_num] += 1\n",
    "        glass_list.append(((group_num, prefix, suffix), gn, glass_cat_name))\n",
    "        #print(\"{:14s} {:>2s}  {:8s}  {:12s}\".format(gn, prefix, group_num, suffix))\n",
    "    group_nums = {k:v for k,v in group_nums.items() if v>1}\n",
    "    return group_nums, prefixes, suffixes, glass_list"
   ]
  },
  {
   "cell_type": "code",
   "execution_count": 17,
   "metadata": {},
   "outputs": [],
   "source": [
    "glist = []\n",
    "for glass_cat_name in gfact._cat_names:\n",
    "    glist += decode_glass_catalog(glass_cat_name)[3]"
   ]
  },
  {
   "cell_type": "code",
   "execution_count": 18,
   "metadata": {},
   "outputs": [
    {
     "data": {
      "text/plain": [
       "985"
      ]
     },
     "execution_count": 18,
     "metadata": {},
     "output_type": "execute_result"
    }
   ],
   "source": [
    "len(glist)"
   ]
  },
  {
   "cell_type": "code",
   "execution_count": 19,
   "metadata": {},
   "outputs": [
    {
     "data": {
      "text/plain": [
       "[((('FK', '61'), 'H', ''), 'H-FK61', 'CDGM'),\n",
       " ((('FK', '61'), 'H', 'B'), 'H-FK61B', 'CDGM'),\n",
       " ((('FK', '71'), 'H', ''), 'H-FK71', 'CDGM'),\n",
       " ((('QK', '1'), 'H', ''), 'H-QK1', 'CDGM'),\n",
       " ((('QK', '3'), 'H', 'L'), 'H-QK3L', 'CDGM'),\n",
       " ((('K', '1'), 'H', ''), 'H-K1', 'CDGM'),\n",
       " ((('K', '2'), 'H', ''), 'H-K2', 'CDGM'),\n",
       " ((('K', '3'), 'H', ''), 'H-K3', 'CDGM'),\n",
       " ((('K', '4'), '', 'A'), 'K4A', 'CDGM')]"
      ]
     },
     "execution_count": 19,
     "metadata": {},
     "output_type": "execute_result"
    }
   ],
   "source": [
    "glist[:9]"
   ]
  },
  {
   "cell_type": "code",
   "execution_count": 20,
   "metadata": {},
   "outputs": [],
   "source": [
    "gn = 'LASKN1'"
   ]
  },
  {
   "cell_type": "markdown",
   "metadata": {},
   "source": [
    "### Test for exact match of input to catalog names"
   ]
  },
  {
   "cell_type": "code",
   "execution_count": 25,
   "metadata": {},
   "outputs": [
    {
     "data": {
      "text/plain": [
       "[((('LASKN', '1'), 'K', ''), 'K-LaSKn1', 'Sumita')]"
      ]
     },
     "execution_count": 25,
     "metadata": {},
     "output_type": "execute_result"
    }
   ],
   "source": [
    "[g for g in glist if gn.upper() == g[0][0][0].upper()+g[0][0][1]]"
   ]
  },
  {
   "cell_type": "code",
   "execution_count": 26,
   "metadata": {},
   "outputs": [
    {
     "data": {
      "text/plain": [
       "('FK', '61')"
      ]
     },
     "execution_count": 26,
     "metadata": {},
     "output_type": "execute_result"
    }
   ],
   "source": [
    "glist[0][0][0][0],glist[0][0][0][1]"
   ]
  },
  {
   "cell_type": "markdown",
   "metadata": {},
   "source": [
    "### Test for a match to the group_num part of a catalog name"
   ]
  },
  {
   "cell_type": "code",
   "execution_count": 27,
   "metadata": {},
   "outputs": [
    {
     "data": {
      "text/plain": [
       "('LASKN1', (('LASKN', '1'), '', ''), 'LASKN1')"
      ]
     },
     "execution_count": 27,
     "metadata": {},
     "output_type": "execute_result"
    }
   ],
   "source": [
    "gn_decode = decode_glass_name(gn)\n",
    "gn_decode_uc = gn_decode[0][0].upper()+gn_decode[0][1]\n",
    "gn, gn_decode, gn_decode_uc"
   ]
  },
  {
   "cell_type": "code",
   "execution_count": 28,
   "metadata": {},
   "outputs": [
    {
     "data": {
      "text/plain": [
       "[((('LASKN', '1'), 'K', ''), 'K-LaSKn1', 'Sumita')]"
      ]
     },
     "execution_count": 28,
     "metadata": {},
     "output_type": "execute_result"
    }
   ],
   "source": [
    "[(gn_decode, gn, gc) for gn_decode, gn, gc in glist if gn_decode_uc == gn_decode[0][0].upper() + gn_decode[0][1]]"
   ]
  },
  {
   "cell_type": "code",
   "execution_count": 29,
   "metadata": {},
   "outputs": [],
   "source": [
    "gn = 'BK7'"
   ]
  },
  {
   "cell_type": "markdown",
   "metadata": {},
   "source": [
    "### Test for exact match of input to catalog names"
   ]
  },
  {
   "cell_type": "code",
   "execution_count": 30,
   "metadata": {},
   "outputs": [
    {
     "data": {
      "text/plain": [
       "[((('BK', '7'), 'J', 'A'), 'J-BK7A', 'Hikari'),\n",
       " ((('BK', '7'), 'N', ''), 'N-BK7', 'Schott'),\n",
       " ((('BK', '7'), 'N', 'HT'), 'N-BK7HT', 'Schott'),\n",
       " ((('BK', '7'), 'N', 'HTI'), 'N-BK7HTi', 'Schott'),\n",
       " ((('BK', '7'), 'P', ''), 'P-BK7', 'Schott'),\n",
       " ((('BK', '7'), 'K', ''), 'K-BK7', 'Sumita')]"
      ]
     },
     "execution_count": 30,
     "metadata": {},
     "output_type": "execute_result"
    }
   ],
   "source": [
    "[g for g in glist if gn.upper() == g[0][0][0].upper()+g[0][0][1]]"
   ]
  },
  {
   "cell_type": "markdown",
   "metadata": {},
   "source": [
    "### Test for a match to the group_num part of a catalog name"
   ]
  },
  {
   "cell_type": "code",
   "execution_count": 31,
   "metadata": {},
   "outputs": [
    {
     "data": {
      "text/plain": [
       "('BK7', (('BK', '7'), '', ''), 'BK7')"
      ]
     },
     "execution_count": 31,
     "metadata": {},
     "output_type": "execute_result"
    }
   ],
   "source": [
    "gn_decode = decode_glass_name(gn)\n",
    "gn_decode_uc = gn_decode[0][0].upper()+gn_decode[0][1]\n",
    "gn, gn_decode, gn_decode_uc"
   ]
  },
  {
   "cell_type": "code",
   "execution_count": 32,
   "metadata": {},
   "outputs": [
    {
     "data": {
      "text/plain": [
       "[((('BK', '7'), 'J', 'A'), 'J-BK7A', 'Hikari'),\n",
       " ((('BK', '7'), 'N', ''), 'N-BK7', 'Schott'),\n",
       " ((('BK', '7'), 'N', 'HT'), 'N-BK7HT', 'Schott'),\n",
       " ((('BK', '7'), 'N', 'HTI'), 'N-BK7HTi', 'Schott'),\n",
       " ((('BK', '7'), 'P', ''), 'P-BK7', 'Schott'),\n",
       " ((('BK', '7'), 'K', ''), 'K-BK7', 'Sumita')]"
      ]
     },
     "execution_count": 32,
     "metadata": {},
     "output_type": "execute_result"
    }
   ],
   "source": [
    "[(gn_decode, gn, gc) for gn_decode, gn, gc in glist if gn_decode_uc == gn_decode[0][0].upper() + gn_decode[0][1]]"
   ]
  },
  {
   "cell_type": "code",
   "execution_count": 33,
   "metadata": {},
   "outputs": [],
   "source": [
    "gn = 'K3'"
   ]
  },
  {
   "cell_type": "markdown",
   "metadata": {},
   "source": [
    "### Test for exact match of input to catalog names"
   ]
  },
  {
   "cell_type": "code",
   "execution_count": 35,
   "metadata": {},
   "outputs": [
    {
     "data": {
      "text/plain": [
       "[((('K', '3'), 'H', ''), 'H-K3', 'CDGM'),\n",
       " ((('K', '3'), 'J', ''), 'J-K3', 'Hikari')]"
      ]
     },
     "execution_count": 35,
     "metadata": {},
     "output_type": "execute_result"
    }
   ],
   "source": [
    "[g for g in glist if gn.upper() == g[0][0][0].upper()+g[0][0][1]]"
   ]
  },
  {
   "cell_type": "markdown",
   "metadata": {},
   "source": [
    "### Test for a match to the group_num part of a catalog name"
   ]
  },
  {
   "cell_type": "code",
   "execution_count": 36,
   "metadata": {},
   "outputs": [
    {
     "data": {
      "text/plain": [
       "('K3', (('K', '3'), '', ''), 'K3')"
      ]
     },
     "execution_count": 36,
     "metadata": {},
     "output_type": "execute_result"
    }
   ],
   "source": [
    "gn_decode = decode_glass_name(gn)\n",
    "gn_decode_uc = gn_decode[0][0].upper()+gn_decode[0][1]\n",
    "gn, gn_decode, gn_decode_uc"
   ]
  },
  {
   "cell_type": "code",
   "execution_count": 37,
   "metadata": {},
   "outputs": [
    {
     "data": {
      "text/plain": [
       "[((('K', '3'), 'H', ''), 'H-K3', 'CDGM'),\n",
       " ((('K', '3'), 'J', ''), 'J-K3', 'Hikari')]"
      ]
     },
     "execution_count": 37,
     "metadata": {},
     "output_type": "execute_result"
    }
   ],
   "source": [
    "[(gn_decode, gn, gc) for gn_decode, gn, gc in glist if gn_decode_uc == gn_decode[0][0].upper() + gn_decode[0][1]]"
   ]
  },
  {
   "cell_type": "code",
   "execution_count": 38,
   "metadata": {},
   "outputs": [],
   "source": [
    "cdgm_decoded = gfact.get_glass_catalog('CDGM').glass_list"
   ]
  },
  {
   "cell_type": "code",
   "execution_count": 39,
   "metadata": {},
   "outputs": [],
   "source": [
    "hikari_decoded = gfact.get_glass_catalog('Hikari').glass_list"
   ]
  },
  {
   "cell_type": "code",
   "execution_count": 40,
   "metadata": {},
   "outputs": [],
   "source": [
    "hoya_decoded = gfact.get_glass_catalog('Hoya').glass_list"
   ]
  },
  {
   "cell_type": "code",
   "execution_count": 41,
   "metadata": {},
   "outputs": [],
   "source": [
    "ohara_decoded = gfact.get_glass_catalog('Ohara').glass_list"
   ]
  },
  {
   "cell_type": "code",
   "execution_count": 42,
   "metadata": {},
   "outputs": [
    {
     "data": {
      "text/plain": [
       "[((('BAH', '10'), 'S', ''), 'S-BAH10', 'Ohara'),\n",
       " ((('BAH', '11'), 'S', ''), 'S-BAH11', 'Ohara'),\n",
       " ((('BAH', '27'), 'S', ''), 'S-BAH27', 'Ohara'),\n",
       " ((('BAH', '28'), 'S', ''), 'S-BAH28', 'Ohara'),\n",
       " ((('BAL', '12'), 'S', ''), 'S-BAL12', 'Ohara'),\n",
       " ((('BAL', '14'), 'S', ''), 'S-BAL14', 'Ohara'),\n",
       " ((('BAL', '2'), 'S', ''), 'S-BAL 2', 'Ohara'),\n",
       " ((('BAL', '3'), 'S', ''), 'S-BAL 3', 'Ohara'),\n",
       " ((('BAL', '35'), 'S', ''), 'S-BAL35', 'Ohara'),\n",
       " ((('BAL', '41'), 'S', ''), 'S-BAL41', 'Ohara'),\n",
       " ((('BAL', '42'), 'S', ''), 'S-BAL42', 'Ohara'),\n",
       " ((('BAM', '12'), 'S', ''), 'S-BAM12', 'Ohara'),\n",
       " ((('BAM', '4'), 'S', ''), 'S-BAM 4', 'Ohara'),\n",
       " ((('BSL', '7'), 'S', ''), 'S-BSL 7', 'Ohara'),\n",
       " ((('BSM', '10'), 'S', ''), 'S-BSM10', 'Ohara'),\n",
       " ((('BSM', '14'), 'S', ''), 'S-BSM14', 'Ohara'),\n",
       " ((('BSM', '15'), 'S', ''), 'S-BSM15', 'Ohara'),\n",
       " ((('BSM', '16'), 'S', ''), 'S-BSM16', 'Ohara'),\n",
       " ((('BSM', '18'), 'S', ''), 'S-BSM18', 'Ohara'),\n",
       " ((('BSM', '2'), 'S', ''), 'S-BSM 2', 'Ohara'),\n",
       " ((('BSM', '25'), 'S', ''), 'S-BSM25', 'Ohara'),\n",
       " ((('BSM', '28'), 'S', ''), 'S-BSM28', 'Ohara'),\n",
       " ((('BSM', '71'), 'S', ''), 'S-BSM71', 'Ohara'),\n",
       " ((('BSM', '81'), 'S', ''), 'S-BSM81', 'Ohara'),\n",
       " ((('FPL', '51'), 'S', ''), 'S-FPL51', 'Ohara'),\n",
       " ((('FPL', '53'), 'S', ''), 'S-FPL53', 'Ohara'),\n",
       " ((('FPL', '55'), 'S', ''), 'S-FPL55', 'Ohara'),\n",
       " ((('FPM', '2'), 'S', ''), 'S-FPM2', 'Ohara'),\n",
       " ((('FPM', '3'), 'S', ''), 'S-FPM3', 'Ohara'),\n",
       " ((('FSL', '5'), 'S', ''), 'S-FSL 5', 'Ohara'),\n",
       " ((('FTM', '16'), 'S', ''), 'S-FTM16', 'Ohara'),\n",
       " ((('LAH', '51'), 'S', ''), 'S-LAH51', 'Ohara'),\n",
       " ((('LAH', '52'), 'S', ''), 'S-LAH52', 'Ohara'),\n",
       " ((('LAH', '52'), 'S', 'Q'), 'S-LAH52Q', 'Ohara'),\n",
       " ((('LAH', '53'), 'S', ''), 'S-LAH53', 'Ohara'),\n",
       " ((('LAH', '53'), 'S', 'V'), 'S-LAH53V', 'Ohara'),\n",
       " ((('LAH', '55'), 'S', 'V'), 'S-LAH55V', 'Ohara'),\n",
       " ((('LAH', '55'), 'S', 'VS'), 'S-LAH55VS', 'Ohara'),\n",
       " ((('LAH', '58'), 'S', ''), 'S-LAH58', 'Ohara'),\n",
       " ((('LAH', '59'), 'S', ''), 'S-LAH59', 'Ohara'),\n",
       " ((('LAH', '60'), 'S', ''), 'S-LAH60', 'Ohara'),\n",
       " ((('LAH', '60'), 'S', 'V'), 'S-LAH60V', 'Ohara'),\n",
       " ((('LAH', '63'), 'S', ''), 'S-LAH63', 'Ohara'),\n",
       " ((('LAH', '63'), 'S', 'Q'), 'S-LAH63Q', 'Ohara'),\n",
       " ((('LAH', '64'), 'S', ''), 'S-LAH64', 'Ohara'),\n",
       " ((('LAH', '65'), 'S', 'V'), 'S-LAH65V', 'Ohara'),\n",
       " ((('LAH', '65'), 'S', 'VS'), 'S-LAH65VS', 'Ohara'),\n",
       " ((('LAH', '66'), 'S', ''), 'S-LAH66', 'Ohara'),\n",
       " ((('LAH', '71'), 'S', ''), 'S-LAH71', 'Ohara'),\n",
       " ((('LAH', '79'), 'S', ''), 'S-LAH79', 'Ohara'),\n",
       " ((('LAH', '88'), 'S', ''), 'S-LAH88', 'Ohara'),\n",
       " ((('LAH', '89'), 'S', ''), 'S-LAH89', 'Ohara'),\n",
       " ((('LAH', '92'), 'S', ''), 'S-LAH92', 'Ohara'),\n",
       " ((('LAH', '93'), 'S', ''), 'S-LAH93', 'Ohara'),\n",
       " ((('LAH', '95'), 'S', ''), 'S-LAH95', 'Ohara'),\n",
       " ((('LAH', '96'), 'S', ''), 'S-LAH96', 'Ohara'),\n",
       " ((('LAH', '97'), 'S', ''), 'S-LAH97', 'Ohara'),\n",
       " ((('LAH', '98'), 'S', ''), 'S-LAH98', 'Ohara'),\n",
       " ((('LAH', '99'), 'S', ''), 'S-LAH99', 'Ohara'),\n",
       " ((('LAL', '10'), 'S', ''), 'S-LAL10', 'Ohara'),\n",
       " ((('LAL', '12'), 'S', ''), 'S-LAL12', 'Ohara'),\n",
       " ((('LAL', '13'), 'S', ''), 'S-LAL13', 'Ohara'),\n",
       " ((('LAL', '14'), 'S', ''), 'S-LAL14', 'Ohara'),\n",
       " ((('LAL', '18'), 'S', ''), 'S-LAL18', 'Ohara'),\n",
       " ((('LAL', '19'), 'S', ''), 'S-LAL19', 'Ohara'),\n",
       " ((('LAL', '20'), 'S', ''), 'S-LAL20', 'Ohara'),\n",
       " ((('LAL', '21'), 'S', ''), 'S-LAL21', 'Ohara'),\n",
       " ((('LAL', '54'), 'S', ''), 'S-LAL54', 'Ohara'),\n",
       " ((('LAL', '54'), 'S', 'Q'), 'S-LAL54Q', 'Ohara'),\n",
       " ((('LAL', '58'), 'S', ''), 'S-LAL58', 'Ohara'),\n",
       " ((('LAL', '59'), 'S', ''), 'S-LAL59', 'Ohara'),\n",
       " ((('LAL', '61'), 'S', ''), 'S-LAL61', 'Ohara'),\n",
       " ((('LAL', '7'), 'S', ''), 'S-LAL 7', 'Ohara'),\n",
       " ((('LAL', '8'), 'S', ''), 'S-LAL 8', 'Ohara'),\n",
       " ((('LAL', '9'), 'S', ''), 'S-LAL 9', 'Ohara'),\n",
       " ((('LAM', '2'), 'S', ''), 'S-LAM 2', 'Ohara'),\n",
       " ((('LAM', '3'), 'S', ''), 'S-LAM 3', 'Ohara'),\n",
       " ((('LAM', '54'), 'S', ''), 'S-LAM54', 'Ohara'),\n",
       " ((('LAM', '55'), 'S', ''), 'S-LAM55', 'Ohara'),\n",
       " ((('LAM', '60'), 'S', ''), 'S-LAM60', 'Ohara'),\n",
       " ((('LAM', '61'), 'S', ''), 'S-LAM61', 'Ohara'),\n",
       " ((('LAM', '66'), 'S', ''), 'S-LAM66', 'Ohara'),\n",
       " ((('LAM', '7'), 'S', ''), 'S-LAM 7', 'Ohara'),\n",
       " ((('LAM', '73'), 'S', ''), 'S-LAM73', 'Ohara'),\n",
       " ((('NBH', '5'), 'S', ''), 'S-NBH 5', 'Ohara'),\n",
       " ((('NBH', '51'), 'S', ''), 'S-NBH51', 'Ohara'),\n",
       " ((('NBH', '52'), 'S', 'V'), 'S-NBH52V', 'Ohara'),\n",
       " ((('NBH', '53'), 'S', 'V'), 'S-NBH53V', 'Ohara'),\n",
       " ((('NBH', '55'), 'S', ''), 'S-NBH55', 'Ohara'),\n",
       " ((('NBH', '56'), 'S', ''), 'S-NBH56', 'Ohara'),\n",
       " ((('NBH', '57'), 'S', ''), 'S-NBH57', 'Ohara'),\n",
       " ((('NBH', '58'), 'S', ''), 'S-NBH58', 'Ohara'),\n",
       " ((('NBH', '8'), 'S', ''), 'S-NBH 8', 'Ohara'),\n",
       " ((('NBM', '51'), 'S', ''), 'S-NBM51', 'Ohara'),\n",
       " ((('NPH', '1'), 'S', ''), 'S-NPH 1', 'Ohara'),\n",
       " ((('NPH', '1'), 'S', 'W'), 'S-NPH 1W', 'Ohara'),\n",
       " ((('NPH', '2'), 'S', ''), 'S-NPH 2', 'Ohara'),\n",
       " ((('NPH', '3'), 'S', ''), 'S-NPH 3', 'Ohara'),\n",
       " ((('NPH', '4'), 'S', ''), 'S-NPH 4', 'Ohara'),\n",
       " ((('NPH', '5'), 'S', ''), 'S-NPH 5', 'Ohara'),\n",
       " ((('NPH', '53'), 'S', ''), 'S-NPH53', 'Ohara'),\n",
       " ((('NPH', '7'), 'S', ''), 'S-NPH 7', 'Ohara'),\n",
       " ((('NSL', '3'), 'S', ''), 'S-NSL 3', 'Ohara'),\n",
       " ((('NSL', '36'), 'S', ''), 'S-NSL36', 'Ohara'),\n",
       " ((('PHM', '52'), 'S', ''), 'S-PHM52', 'Ohara'),\n",
       " ((('PHM', '53'), 'S', ''), 'S-PHM53', 'Ohara'),\n",
       " ((('TIH', '1'), 'S', ''), 'S-TIH 1', 'Ohara'),\n",
       " ((('TIH', '10'), 'S', ''), 'S-TIH10', 'Ohara'),\n",
       " ((('TIH', '11'), 'S', ''), 'S-TIH11', 'Ohara'),\n",
       " ((('TIH', '13'), 'S', ''), 'S-TIH13', 'Ohara'),\n",
       " ((('TIH', '14'), 'S', ''), 'S-TIH14', 'Ohara'),\n",
       " ((('TIH', '18'), 'S', ''), 'S-TIH18', 'Ohara'),\n",
       " ((('TIH', '23'), 'S', ''), 'S-TIH23', 'Ohara'),\n",
       " ((('TIH', '3'), 'S', ''), 'S-TIH 3', 'Ohara'),\n",
       " ((('TIH', '4'), 'S', ''), 'S-TIH 4', 'Ohara'),\n",
       " ((('TIH', '53'), 'S', ''), 'S-TIH53', 'Ohara'),\n",
       " ((('TIH', '53'), 'S', 'W'), 'S-TIH53W', 'Ohara'),\n",
       " ((('TIH', '57'), 'S', ''), 'S-TIH57', 'Ohara'),\n",
       " ((('TIH', '6'), 'S', ''), 'S-TIH 6', 'Ohara'),\n",
       " ((('TIL', '1'), 'S', ''), 'S-TIL 1', 'Ohara'),\n",
       " ((('TIL', '2'), 'S', ''), 'S-TIL 2', 'Ohara'),\n",
       " ((('TIL', '25'), 'S', ''), 'S-TIL25', 'Ohara'),\n",
       " ((('TIL', '26'), 'S', ''), 'S-TIL26', 'Ohara'),\n",
       " ((('TIL', '27'), 'S', ''), 'S-TIL27', 'Ohara'),\n",
       " ((('TIL', '6'), 'S', ''), 'S-TIL 6', 'Ohara'),\n",
       " ((('TIM', '1'), 'S', ''), 'S-TIM 1', 'Ohara'),\n",
       " ((('TIM', '2'), 'S', ''), 'S-TIM 2', 'Ohara'),\n",
       " ((('TIM', '22'), 'S', ''), 'S-TIM22', 'Ohara'),\n",
       " ((('TIM', '25'), 'S', ''), 'S-TIM25', 'Ohara'),\n",
       " ((('TIM', '27'), 'S', ''), 'S-TIM27', 'Ohara'),\n",
       " ((('TIM', '28'), 'S', ''), 'S-TIM28', 'Ohara'),\n",
       " ((('TIM', '35'), 'S', ''), 'S-TIM35', 'Ohara'),\n",
       " ((('TIM', '5'), 'S', ''), 'S-TIM 5', 'Ohara'),\n",
       " ((('TIM', '8'), 'S', ''), 'S-TIM 8', 'Ohara')]"
      ]
     },
     "execution_count": 42,
     "metadata": {},
     "output_type": "execute_result"
    }
   ],
   "source": [
    "ohara_decoded"
   ]
  },
  {
   "cell_type": "code",
   "execution_count": 43,
   "metadata": {},
   "outputs": [],
   "source": [
    "schott_decoded = gfact.get_glass_catalog('Schott').glass_list"
   ]
  },
  {
   "cell_type": "code",
   "execution_count": 44,
   "metadata": {},
   "outputs": [],
   "source": [
    "schott_decoded = sorted(schott_decoded, key=lambda g: g[0][0])"
   ]
  },
  {
   "cell_type": "code",
   "execution_count": 45,
   "metadata": {},
   "outputs": [
    {
     "data": {
      "text/plain": [
       "[((('LAK', '10'), 'N', ''), 'N-LAK10', 'Schott'),\n",
       " ((('LAK', '12'), 'N', ''), 'N-LAK12', 'Schott'),\n",
       " ((('LAK', '14'), 'N', ''), 'N-LAK14', 'Schott'),\n",
       " ((('LAK', '21'), 'N', ''), 'N-LAK21', 'Schott'),\n",
       " ((('LAK', '22'), 'N', ''), 'N-LAK22', 'Schott'),\n",
       " ((('LAK', '33'), 'N', 'B'), 'N-LAK33B', 'Schott'),\n",
       " ((('LAK', '34'), 'N', ''), 'N-LAK34', 'Schott'),\n",
       " ((('LAK', '7'), 'N', ''), 'N-LAK7', 'Schott'),\n",
       " ((('LAK', '8'), 'N', ''), 'N-LAK8', 'Schott'),\n",
       " ((('LAK', '9'), 'N', ''), 'N-LAK9', 'Schott')]"
      ]
     },
     "execution_count": 45,
     "metadata": {},
     "output_type": "execute_result"
    }
   ],
   "source": [
    "[glass for glass in schott_decoded if glass[0][0][0] == 'LAK' and glass[0][1] == 'N']"
   ]
  },
  {
   "cell_type": "code",
   "execution_count": 46,
   "metadata": {},
   "outputs": [],
   "source": [
    "schott_lookup = {gn_decode: (gn, gc) for gn_decode, gn, gc in schott_decoded}"
   ]
  },
  {
   "cell_type": "code",
   "execution_count": 47,
   "metadata": {},
   "outputs": [
    {
     "data": {
      "text/plain": [
       "{(('BAF', '10'), 'N', ''): ('N-BAF10', 'Schott'),\n",
       " (('BAF', '4'), 'N', ''): ('N-BAF4', 'Schott'),\n",
       " (('BAF', '51'), 'N', ''): ('N-BAF51', 'Schott'),\n",
       " (('BAF', '52'), 'N', ''): ('N-BAF52', 'Schott'),\n",
       " (('BAK', '1'), 'N', ''): ('N-BAK1', 'Schott'),\n",
       " (('BAK', '2'), 'N', ''): ('N-BAK2', 'Schott'),\n",
       " (('BAK', '4'), 'N', ''): ('N-BAK4', 'Schott'),\n",
       " (('BAK', '4'), 'N', 'HT'): ('N-BAK4HT', 'Schott'),\n",
       " (('BALF', '4'), 'N', ''): ('N-BALF4', 'Schott'),\n",
       " (('BALF', '5'), 'N', ''): ('N-BALF5', 'Schott'),\n",
       " (('BASF', '2'), 'N', ''): ('N-BASF2', 'Schott'),\n",
       " (('BASF', '64'), 'N', ''): ('N-BASF64', 'Schott'),\n",
       " (('BK', '10'), 'N', ''): ('N-BK10', 'Schott'),\n",
       " (('BK', '7'), 'N', ''): ('N-BK7', 'Schott'),\n",
       " (('BK', '7'), 'N', 'HT'): ('N-BK7HT', 'Schott'),\n",
       " (('BK', '7'), 'N', 'HTI'): ('N-BK7HTi', 'Schott'),\n",
       " (('BK', '7'), 'P', ''): ('P-BK7', 'Schott'),\n",
       " (('F', '2'), '', ''): ('F2', 'Schott'),\n",
       " (('F', '2'), '', 'HT'): ('F2HT', 'Schott'),\n",
       " (('F', '2'), 'N', ''): ('N-F2', 'Schott'),\n",
       " (('F', '5'), '', ''): ('F5', 'Schott'),\n",
       " (('FK', '5'), '', 'HTI'): ('FK5HTi', 'Schott'),\n",
       " (('FK', '5'), 'N', ''): ('N-FK5', 'Schott'),\n",
       " (('FK', '51'), 'N', 'A'): ('N-FK51A', 'Schott'),\n",
       " (('FK', '58'), 'N', ''): ('N-FK58', 'Schott'),\n",
       " (('K', '10'), '', ''): ('K10', 'Schott'),\n",
       " (('K', '5'), 'N', ''): ('N-K5', 'Schott'),\n",
       " (('K', '7'), '', ''): ('K7', 'Schott'),\n",
       " (('KF', '9'), 'N', ''): ('N-KF9', 'Schott'),\n",
       " (('KZFS', '11'), 'N', ''): ('N-KZFS11', 'Schott'),\n",
       " (('KZFS', '2'), 'N', ''): ('N-KZFS2', 'Schott'),\n",
       " (('KZFS', '4'), 'N', ''): ('N-KZFS4', 'Schott'),\n",
       " (('KZFS', '4'), 'N', 'HT'): ('N-KZFS4HT', 'Schott'),\n",
       " (('KZFS', '5'), 'N', ''): ('N-KZFS5', 'Schott'),\n",
       " (('KZFS', '8'), 'N', ''): ('N-KZFS8', 'Schott'),\n",
       " (('LAF', '2'), 'N', ''): ('N-LAF2', 'Schott'),\n",
       " (('LAF', '21'), 'N', ''): ('N-LAF21', 'Schott'),\n",
       " (('LAF', '33'), 'N', ''): ('N-LAF33', 'Schott'),\n",
       " (('LAF', '34'), 'N', ''): ('N-LAF34', 'Schott'),\n",
       " (('LAF', '35'), 'N', ''): ('N-LAF35', 'Schott'),\n",
       " (('LAF', '37'), 'P', ''): ('P-LAF37', 'Schott'),\n",
       " (('LAF', '7'), 'N', ''): ('N-LAF7', 'Schott'),\n",
       " (('LAFN', '7'), '', ''): ('LAFN7', 'Schott'),\n",
       " (('LAK', '10'), 'N', ''): ('N-LAK10', 'Schott'),\n",
       " (('LAK', '12'), 'N', ''): ('N-LAK12', 'Schott'),\n",
       " (('LAK', '14'), 'N', ''): ('N-LAK14', 'Schott'),\n",
       " (('LAK', '21'), 'N', ''): ('N-LAK21', 'Schott'),\n",
       " (('LAK', '22'), 'N', ''): ('N-LAK22', 'Schott'),\n",
       " (('LAK', '33'), 'N', 'B'): ('N-LAK33B', 'Schott'),\n",
       " (('LAK', '34'), 'N', ''): ('N-LAK34', 'Schott'),\n",
       " (('LAK', '35'), 'P', ''): ('P-LAK35', 'Schott'),\n",
       " (('LAK', '7'), 'N', ''): ('N-LAK7', 'Schott'),\n",
       " (('LAK', '8'), 'N', ''): ('N-LAK8', 'Schott'),\n",
       " (('LAK', '9'), 'N', ''): ('N-LAK9', 'Schott'),\n",
       " (('LASF', '31'), 'N', 'A'): ('N-LASF31A', 'Schott'),\n",
       " (('LASF', '35'), '', ''): ('LASF35', 'Schott'),\n",
       " (('LASF', '40'), 'N', ''): ('N-LASF40', 'Schott'),\n",
       " (('LASF', '41'), 'N', ''): ('N-LASF41', 'Schott'),\n",
       " (('LASF', '43'), 'N', ''): ('N-LASF43', 'Schott'),\n",
       " (('LASF', '44'), 'N', ''): ('N-LASF44', 'Schott'),\n",
       " (('LASF', '45'), 'N', ''): ('N-LASF45', 'Schott'),\n",
       " (('LASF', '45'), 'N', 'HT'): ('N-LASF45HT', 'Schott'),\n",
       " (('LASF', '46'), 'N', 'A'): ('N-LASF46A', 'Schott'),\n",
       " (('LASF', '46'), 'N', 'B'): ('N-LASF46B', 'Schott'),\n",
       " (('LASF', '47'), 'P', ''): ('P-LASF47', 'Schott'),\n",
       " (('LASF', '50'), 'P', ''): ('P-LASF50', 'Schott'),\n",
       " (('LASF', '51'), 'P', ''): ('P-LASF51', 'Schott'),\n",
       " (('LASF', '9'), 'N', ''): ('N-LASF9', 'Schott'),\n",
       " (('LASF', '9'), 'N', 'HT'): ('N-LASF9HT', 'Schott'),\n",
       " (('LF', '5'), '', ''): ('LF5', 'Schott'),\n",
       " (('LF', '5'), '', 'HTI'): ('LF5HTi', 'Schott'),\n",
       " (('LLF', '1'), '', ''): ('LLF1', 'Schott'),\n",
       " (('LLF', '1'), '', 'HTI'): ('LLF1HTi', 'Schott'),\n",
       " (('PK', '51'), 'N', ''): ('N-PK51', 'Schott'),\n",
       " (('PK', '52'), 'N', 'A'): ('N-PK52A', 'Schott'),\n",
       " (('PSK', '3'), 'N', ''): ('N-PSK3', 'Schott'),\n",
       " (('PSK', '53'), 'N', 'A'): ('N-PSK53A', 'Schott'),\n",
       " (('SF', '1'), 'N', ''): ('N-SF1', 'Schott'),\n",
       " (('SF', '1'), '', ''): ('SF1', 'Schott'),\n",
       " (('SF', '10'), 'N', ''): ('N-SF10', 'Schott'),\n",
       " (('SF', '10'), '', ''): ('SF10', 'Schott'),\n",
       " (('SF', '11'), 'N', ''): ('N-SF11', 'Schott'),\n",
       " (('SF', '11'), '', ''): ('SF11', 'Schott'),\n",
       " (('SF', '14'), 'N', ''): ('N-SF14', 'Schott'),\n",
       " (('SF', '15'), 'N', ''): ('N-SF15', 'Schott'),\n",
       " (('SF', '2'), 'N', ''): ('N-SF2', 'Schott'),\n",
       " (('SF', '2'), '', ''): ('SF2', 'Schott'),\n",
       " (('SF', '4'), 'N', ''): ('N-SF4', 'Schott'),\n",
       " (('SF', '4'), '', ''): ('SF4', 'Schott'),\n",
       " (('SF', '5'), 'N', ''): ('N-SF5', 'Schott'),\n",
       " (('SF', '5'), '', ''): ('SF5', 'Schott'),\n",
       " (('SF', '56'), '', 'A'): ('SF56A', 'Schott'),\n",
       " (('SF', '57'), 'N', ''): ('N-SF57', 'Schott'),\n",
       " (('SF', '57'), 'N', 'HT'): ('N-SF57HT', 'Schott'),\n",
       " (('SF', '57'), 'N', 'HTULTRA'): ('N-SF57HTultra', 'Schott'),\n",
       " (('SF', '57'), '', ''): ('SF57', 'Schott'),\n",
       " (('SF', '57'), '', 'HTULTRA'): ('SF57HTultra', 'Schott'),\n",
       " (('SF', '6'), 'N', ''): ('N-SF6', 'Schott'),\n",
       " (('SF', '6'), 'N', 'HT'): ('N-SF6HT', 'Schott'),\n",
       " (('SF', '6'), 'N', 'HTULTRA'): ('N-SF6HTultra', 'Schott'),\n",
       " (('SF', '6'), '', ''): ('SF6', 'Schott'),\n",
       " (('SF', '6'), '', 'HT'): ('SF6HT', 'Schott'),\n",
       " (('SF', '66'), 'N', ''): ('N-SF66', 'Schott'),\n",
       " (('SF', '68'), 'P', ''): ('P-SF68', 'Schott'),\n",
       " (('SF', '69'), 'P', ''): ('P-SF69', 'Schott'),\n",
       " (('SF', '8'), 'N', ''): ('N-SF8', 'Schott'),\n",
       " (('SF', '8'), 'P', ''): ('P-SF8', 'Schott'),\n",
       " (('SK', '11'), 'N', ''): ('N-SK11', 'Schott'),\n",
       " (('SK', '14'), 'N', ''): ('N-SK14', 'Schott'),\n",
       " (('SK', '16'), 'N', ''): ('N-SK16', 'Schott'),\n",
       " (('SK', '2'), 'N', ''): ('N-SK2', 'Schott'),\n",
       " (('SK', '2'), 'N', 'HT'): ('N-SK2HT', 'Schott'),\n",
       " (('SK', '4'), 'N', ''): ('N-SK4', 'Schott'),\n",
       " (('SK', '5'), 'N', ''): ('N-SK5', 'Schott'),\n",
       " (('SK', '57'), 'P', ''): ('P-SK57', 'Schott'),\n",
       " (('SK', '57'), 'P', 'Q1'): ('P-SK57Q1', 'Schott'),\n",
       " (('SK', '58'), 'P', 'A'): ('P-SK58A', 'Schott'),\n",
       " (('SK', '60'), 'P', ''): ('P-SK60', 'Schott'),\n",
       " (('SSK', '2'), 'N', ''): ('N-SSK2', 'Schott'),\n",
       " (('SSK', '5'), 'N', ''): ('N-SSK5', 'Schott'),\n",
       " (('SSK', '8'), 'N', ''): ('N-SSK8', 'Schott'),\n",
       " (('ZK', '7'), 'N', ''): ('N-ZK7', 'Schott'),\n",
       " (('ZK', '7'), 'N', 'A'): ('N-ZK7A', 'Schott')}"
      ]
     },
     "execution_count": 47,
     "metadata": {},
     "output_type": "execute_result"
    }
   ],
   "source": [
    "schott_lookup"
   ]
  },
  {
   "cell_type": "code",
   "execution_count": 48,
   "metadata": {},
   "outputs": [
    {
     "data": {
      "text/plain": [
       "[((('BK', '10'), 'N', ''), ('N-BK10', 'Schott')),\n",
       " ((('BK', '7'), 'N', ''), ('N-BK7', 'Schott'))]"
      ]
     },
     "execution_count": 48,
     "metadata": {},
     "output_type": "execute_result"
    }
   ],
   "source": [
    "[(gn_decode, gn_gc) for gn_decode, gn_gc in schott_lookup.items() if (gn_decode[0][0] == 'BK' and\n",
    "                                                                        gn_decode[1] == 'N' and\n",
    "                                                                        gn_decode[2] == '')]"
   ]
  },
  {
   "cell_type": "code",
   "execution_count": 49,
   "metadata": {},
   "outputs": [],
   "source": [
    "sumita_decoded = gfact.get_glass_catalog('Sumita').glass_list"
   ]
  },
  {
   "cell_type": "code",
   "execution_count": 50,
   "metadata": {},
   "outputs": [],
   "source": [
    "groups, group_num, prefixes, suffixes = glass_catalog_stats(ohara_decoded)"
   ]
  },
  {
   "cell_type": "code",
   "execution_count": 51,
   "metadata": {},
   "outputs": [
    {
     "data": {
      "text/plain": [
       "{('LAH', '52'): 2,\n",
       " ('LAH', '53'): 2,\n",
       " ('LAH', '55'): 2,\n",
       " ('LAH', '60'): 2,\n",
       " ('LAH', '63'): 2,\n",
       " ('LAH', '65'): 2,\n",
       " ('LAL', '54'): 2,\n",
       " ('NPH', '1'): 2,\n",
       " ('TIH', '53'): 2}"
      ]
     },
     "execution_count": 51,
     "metadata": {},
     "output_type": "execute_result"
    }
   ],
   "source": [
    "group_num"
   ]
  },
  {
   "cell_type": "code",
   "execution_count": 52,
   "metadata": {},
   "outputs": [
    {
     "data": {
      "text/plain": [
       "{('LAH', '52'): 2,\n",
       " ('LAH', '53'): 2,\n",
       " ('LAH', '55'): 2,\n",
       " ('LAH', '60'): 2,\n",
       " ('LAH', '63'): 2,\n",
       " ('LAH', '65'): 2,\n",
       " ('LAL', '54'): 2,\n",
       " ('NPH', '1'): 2,\n",
       " ('TIH', '53'): 2}"
      ]
     },
     "execution_count": 52,
     "metadata": {},
     "output_type": "execute_result"
    }
   ],
   "source": [
    "{k:v for k,v in group_num.items() if v>1}"
   ]
  },
  {
   "cell_type": "code",
   "execution_count": 53,
   "metadata": {},
   "outputs": [
    {
     "data": {
      "text/plain": [
       "False"
      ]
     },
     "execution_count": 53,
     "metadata": {},
     "output_type": "execute_result"
    }
   ],
   "source": [
    "decode_glass_name('S-FPL51')[1:3] == decode_glass_name('FPL51')"
   ]
  },
  {
   "cell_type": "code",
   "execution_count": 54,
   "metadata": {},
   "outputs": [
    {
     "data": {
      "text/plain": [
       "False"
      ]
     },
     "execution_count": 54,
     "metadata": {},
     "output_type": "execute_result"
    }
   ],
   "source": [
    "decode_glass_name('S-FPL51')[1:3] == decode_glass_name('FPL51')[1:3]"
   ]
  },
  {
   "cell_type": "code",
   "execution_count": 55,
   "metadata": {},
   "outputs": [],
   "source": [
    "dcd = decode_glass_name('S-NSL 3')"
   ]
  },
  {
   "cell_type": "code",
   "execution_count": 56,
   "metadata": {},
   "outputs": [
    {
     "data": {
      "text/plain": [
       "(('NSL', '3'), 'S', '')"
      ]
     },
     "execution_count": 56,
     "metadata": {},
     "output_type": "execute_result"
    }
   ],
   "source": [
    "dcd"
   ]
  },
  {
   "cell_type": "code",
   "execution_count": 57,
   "metadata": {},
   "outputs": [
    {
     "data": {
      "text/plain": [
       "((('ZPK', '7'), 'H', ''), 'H-ZPK7', 'CDGM')"
      ]
     },
     "execution_count": 57,
     "metadata": {},
     "output_type": "execute_result"
    }
   ],
   "source": [
    "glist[25]"
   ]
  },
  {
   "cell_type": "code",
   "execution_count": 58,
   "metadata": {},
   "outputs": [],
   "source": [
    "((group, num), prefix, suffix), gn, gc = glist[25]"
   ]
  },
  {
   "cell_type": "code",
   "execution_count": 59,
   "metadata": {},
   "outputs": [
    {
     "data": {
      "text/plain": [
       "('ZPK', '7', 'H', '', 'H-ZPK7', 'CDGM')"
      ]
     },
     "execution_count": 59,
     "metadata": {},
     "output_type": "execute_result"
    }
   ],
   "source": [
    "group, num, prefix, suffix, gn, gc"
   ]
  },
  {
   "cell_type": "code",
   "execution_count": 60,
   "metadata": {},
   "outputs": [
    {
     "data": {
      "text/plain": [
       "{'S': 134}"
      ]
     },
     "execution_count": 60,
     "metadata": {},
     "output_type": "execute_result"
    }
   ],
   "source": [
    "prefixes"
   ]
  },
  {
   "cell_type": "code",
   "execution_count": 61,
   "metadata": {},
   "outputs": [
    {
     "data": {
      "text/plain": [
       "985"
      ]
     },
     "execution_count": 61,
     "metadata": {},
     "output_type": "execute_result"
    }
   ],
   "source": [
    "len(glist)"
   ]
  },
  {
   "cell_type": "code",
   "execution_count": 62,
   "metadata": {},
   "outputs": [
    {
     "data": {
      "text/plain": [
       "{'BAH': 4,\n",
       " 'BAL': 7,\n",
       " 'BAM': 2,\n",
       " 'BSL': 1,\n",
       " 'BSM': 10,\n",
       " 'FPL': 3,\n",
       " 'FPM': 2,\n",
       " 'FSL': 1,\n",
       " 'FTM': 1,\n",
       " 'LAH': 28,\n",
       " 'LAL': 16,\n",
       " 'LAM': 9,\n",
       " 'NBH': 9,\n",
       " 'NBM': 1,\n",
       " 'NPH': 8,\n",
       " 'NSL': 2,\n",
       " 'PHM': 2,\n",
       " 'TIH': 13,\n",
       " 'TIL': 6,\n",
       " 'TIM': 9}"
      ]
     },
     "execution_count": 62,
     "metadata": {},
     "output_type": "execute_result"
    }
   ],
   "source": [
    "groups"
   ]
  },
  {
   "cell_type": "code",
   "execution_count": 63,
   "metadata": {},
   "outputs": [
    {
     "data": {
      "text/plain": [
       "{'BAH': 4,\n",
       " 'BAL': 7,\n",
       " 'BAM': 2,\n",
       " 'BSM': 10,\n",
       " 'FPL': 3,\n",
       " 'FPM': 2,\n",
       " 'LAH': 28,\n",
       " 'LAL': 16,\n",
       " 'LAM': 9,\n",
       " 'NBH': 9,\n",
       " 'NPH': 8,\n",
       " 'NSL': 2,\n",
       " 'PHM': 2,\n",
       " 'TIH': 13,\n",
       " 'TIL': 6,\n",
       " 'TIM': 9}"
      ]
     },
     "execution_count": 63,
     "metadata": {},
     "output_type": "execute_result"
    }
   ],
   "source": [
    "{k: v for k, v in groups.items() if v > 1}"
   ]
  },
  {
   "cell_type": "code",
   "execution_count": 64,
   "metadata": {},
   "outputs": [],
   "source": [
    "groups_all, group_num_all, prefixes_all, suffixes_all = glass_catalog_stats(glist, do_print=False)"
   ]
  },
  {
   "cell_type": "code",
   "execution_count": 65,
   "metadata": {},
   "outputs": [
    {
     "data": {
      "text/plain": [
       "{'FK': 12,\n",
       " 'QK': 2,\n",
       " 'K': 23,\n",
       " 'ZPK': 6,\n",
       " 'BAK': 17,\n",
       " 'ZK': 25,\n",
       " 'LAK': 62,\n",
       " 'KF': 3,\n",
       " 'QF': 13,\n",
       " 'F': 28,\n",
       " 'BAF': 24,\n",
       " 'ZBAF': 12,\n",
       " 'ZF': 44,\n",
       " 'LAF': 46,\n",
       " 'LAFL': 1,\n",
       " 'ZLAF': 35,\n",
       " 'TF': 4,\n",
       " 'PK': 3,\n",
       " 'FKH': 4,\n",
       " 'PKH': 1,\n",
       " 'PSK': 9,\n",
       " 'PSKH': 6,\n",
       " 'BK': 7,\n",
       " 'KZFH': 5,\n",
       " 'BALF': 3,\n",
       " 'BASF': 9,\n",
       " 'SK': 33,\n",
       " 'SSK': 10,\n",
       " 'LLF': 5,\n",
       " 'LF': 5,\n",
       " 'SF': 46,\n",
       " 'SFS': 1,\n",
       " 'SFH': 5,\n",
       " 'LASKH': 1,\n",
       " 'LAFH': 2,\n",
       " 'LASF': 32,\n",
       " 'LASFH': 19,\n",
       " 'LAFPH': 1,\n",
       " 'LASFPH': 2,\n",
       " 'FC': 1,\n",
       " 'FCD': 15,\n",
       " 'PCD': 9,\n",
       " 'BSC': 1,\n",
       " 'C': 1,\n",
       " 'BAC': 1,\n",
       " 'BACD': 17,\n",
       " 'BACED': 2,\n",
       " 'LAC': 14,\n",
       " 'TAC': 8,\n",
       " 'CF': 1,\n",
       " 'FEL': 3,\n",
       " 'FL': 2,\n",
       " 'FD': 16,\n",
       " 'FDS': 20,\n",
       " 'FF': 2,\n",
       " 'BAFD': 2,\n",
       " 'NBF': 4,\n",
       " 'NBFD': 13,\n",
       " 'TAF': 20,\n",
       " 'TAFD': 25,\n",
       " 'LBC': 1,\n",
       " 'LACL': 1,\n",
       " 'ADF': 2,\n",
       " 'FPL': 3,\n",
       " 'FPM': 2,\n",
       " 'FSL': 1,\n",
       " 'BSL': 1,\n",
       " 'BSM': 10,\n",
       " 'NSL': 2,\n",
       " 'BAL': 7,\n",
       " 'BAM': 2,\n",
       " 'BAH': 4,\n",
       " 'PHM': 2,\n",
       " 'TIL': 6,\n",
       " 'TIM': 9,\n",
       " 'TIH': 13,\n",
       " 'LAL': 16,\n",
       " 'LAM': 9,\n",
       " 'LAH': 28,\n",
       " 'FTM': 1,\n",
       " 'NBM': 1,\n",
       " 'NBH': 9,\n",
       " 'NPH': 8,\n",
       " 'LAFN': 7,\n",
       " 'KZFS': 6,\n",
       " 'CAFK': 1,\n",
       " 'PFK': 3,\n",
       " 'GFK': 2,\n",
       " 'PBK': 3,\n",
       " 'PMK': 1,\n",
       " 'CSK': 1,\n",
       " 'SKLD': 3,\n",
       " 'LAFK': 7,\n",
       " 'VC': 12,\n",
       " 'CD': 3,\n",
       " 'LCV': 2,\n",
       " 'ZNSF': 1,\n",
       " 'PSFN': 8,\n",
       " 'PG': 2,\n",
       " 'BPG': 1,\n",
       " 'PSKN': 1,\n",
       " 'BAFN': 2,\n",
       " 'LAKN': 4,\n",
       " 'LASKN': 1,\n",
       " 'LASFN': 16,\n",
       " 'SFLD': 10,\n",
       " 'SFLDN': 2,\n",
       " 'BOC': 1,\n",
       " 'GIR': 2,\n",
       " 'FIR': 2}"
      ]
     },
     "execution_count": 65,
     "metadata": {},
     "output_type": "execute_result"
    }
   ],
   "source": [
    "groups_all"
   ]
  },
  {
   "cell_type": "code",
   "execution_count": 66,
   "metadata": {},
   "outputs": [
    {
     "data": {
      "text/plain": [
       "{'ADF': 2,\n",
       " 'BAC': 1,\n",
       " 'BACD': 17,\n",
       " 'BACED': 2,\n",
       " 'BAF': 24,\n",
       " 'BAFD': 2,\n",
       " 'BAFN': 2,\n",
       " 'BAH': 4,\n",
       " 'BAK': 17,\n",
       " 'BAL': 7,\n",
       " 'BALF': 3,\n",
       " 'BAM': 2,\n",
       " 'BASF': 9,\n",
       " 'BK': 7,\n",
       " 'BOC': 1,\n",
       " 'BPG': 1,\n",
       " 'BSC': 1,\n",
       " 'BSL': 1,\n",
       " 'BSM': 10,\n",
       " 'C': 1,\n",
       " 'CAFK': 1,\n",
       " 'CD': 3,\n",
       " 'CF': 1,\n",
       " 'CSK': 1,\n",
       " 'F': 28,\n",
       " 'FC': 1,\n",
       " 'FCD': 15,\n",
       " 'FD': 16,\n",
       " 'FDS': 20,\n",
       " 'FEL': 3,\n",
       " 'FF': 2,\n",
       " 'FIR': 2,\n",
       " 'FK': 12,\n",
       " 'FKH': 4,\n",
       " 'FL': 2,\n",
       " 'FPL': 3,\n",
       " 'FPM': 2,\n",
       " 'FSL': 1,\n",
       " 'FTM': 1,\n",
       " 'GFK': 2,\n",
       " 'GIR': 2,\n",
       " 'K': 23,\n",
       " 'KF': 3,\n",
       " 'KZFH': 5,\n",
       " 'KZFS': 6,\n",
       " 'LAC': 14,\n",
       " 'LACL': 1,\n",
       " 'LAF': 46,\n",
       " 'LAFH': 2,\n",
       " 'LAFK': 7,\n",
       " 'LAFL': 1,\n",
       " 'LAFN': 7,\n",
       " 'LAFPH': 1,\n",
       " 'LAH': 28,\n",
       " 'LAK': 62,\n",
       " 'LAKN': 4,\n",
       " 'LAL': 16,\n",
       " 'LAM': 9,\n",
       " 'LASF': 32,\n",
       " 'LASFH': 19,\n",
       " 'LASFN': 16,\n",
       " 'LASFPH': 2,\n",
       " 'LASKH': 1,\n",
       " 'LASKN': 1,\n",
       " 'LBC': 1,\n",
       " 'LCV': 2,\n",
       " 'LF': 5,\n",
       " 'LLF': 5,\n",
       " 'NBF': 4,\n",
       " 'NBFD': 13,\n",
       " 'NBH': 9,\n",
       " 'NBM': 1,\n",
       " 'NPH': 8,\n",
       " 'NSL': 2,\n",
       " 'PBK': 3,\n",
       " 'PCD': 9,\n",
       " 'PFK': 3,\n",
       " 'PG': 2,\n",
       " 'PHM': 2,\n",
       " 'PK': 3,\n",
       " 'PKH': 1,\n",
       " 'PMK': 1,\n",
       " 'PSFN': 8,\n",
       " 'PSK': 9,\n",
       " 'PSKH': 6,\n",
       " 'PSKN': 1,\n",
       " 'QF': 13,\n",
       " 'QK': 2,\n",
       " 'SF': 46,\n",
       " 'SFH': 5,\n",
       " 'SFLD': 10,\n",
       " 'SFLDN': 2,\n",
       " 'SFS': 1,\n",
       " 'SK': 33,\n",
       " 'SKLD': 3,\n",
       " 'SSK': 10,\n",
       " 'TAC': 8,\n",
       " 'TAF': 20,\n",
       " 'TAFD': 25,\n",
       " 'TF': 4,\n",
       " 'TIH': 13,\n",
       " 'TIL': 6,\n",
       " 'TIM': 9,\n",
       " 'VC': 12,\n",
       " 'ZBAF': 12,\n",
       " 'ZF': 44,\n",
       " 'ZK': 25,\n",
       " 'ZLAF': 35,\n",
       " 'ZNSF': 1,\n",
       " 'ZPK': 6}"
      ]
     },
     "execution_count": 66,
     "metadata": {},
     "output_type": "execute_result"
    }
   ],
   "source": [
    "{k: groups_all[k] for k in sorted(groups_all.keys(), key=str.upper)}"
   ]
  },
  {
   "cell_type": "code",
   "execution_count": 67,
   "metadata": {},
   "outputs": [
    {
     "data": {
      "text/plain": [
       "{('BACD', '5'): 4,\n",
       " ('BACD', '15'): 3,\n",
       " ('BACD', '12'): 3,\n",
       " ('BAF', '3'): 2,\n",
       " ('BAF', '4'): 4,\n",
       " ('BAF', '7'): 2,\n",
       " ('BAF', '8'): 4,\n",
       " ('BAF', '10'): 3,\n",
       " ('BAF', '11'): 2,\n",
       " ('BAK', '1'): 3,\n",
       " ('BAK', '2'): 3,\n",
       " ('BAK', '4'): 4,\n",
       " ('BAK', '7'): 3,\n",
       " ('BALF', '4'): 2,\n",
       " ('BASF', '2'): 2,\n",
       " ('BK', '7'): 6,\n",
       " ('F', '1'): 4,\n",
       " ('F', '2'): 7,\n",
       " ('F', '3'): 3,\n",
       " ('F', '4'): 2,\n",
       " ('F', '5'): 4,\n",
       " ('F', '13'): 2,\n",
       " ('F', '8'): 2,\n",
       " ('FCD', '1'): 5,\n",
       " ('FCD', '10'): 2,\n",
       " ('FCD', '500'): 3,\n",
       " ('FD', '60'): 2,\n",
       " ('FD', '80'): 2,\n",
       " ('FDS', '1'): 4,\n",
       " ('FDS', '2'): 4,\n",
       " ('FDS', '18'): 2,\n",
       " ('FDS', '90'): 3,\n",
       " ('FDS', '910'): 3,\n",
       " ('FK', '61'): 3,\n",
       " ('FK', '5'): 4,\n",
       " ('FK', '01'): 2,\n",
       " ('FKH', '1'): 2,\n",
       " ('FKH', '2'): 2,\n",
       " ('K', '3'): 2,\n",
       " ('K', '5'): 3,\n",
       " ('K', '7'): 2,\n",
       " ('K', '9'): 4,\n",
       " ('K', '10'): 2,\n",
       " ('KF', '6'): 2,\n",
       " ('KZFS', '4'): 2,\n",
       " ('LAC', '8'): 3,\n",
       " ('LAC', '14'): 3,\n",
       " ('LAC', '130'): 3,\n",
       " ('LAF', '2'): 5,\n",
       " ('LAF', '3'): 4,\n",
       " ('LAF', '4'): 2,\n",
       " ('LAF', '7'): 4,\n",
       " ('LAF', '50'): 2,\n",
       " ('LAF', '53'): 2,\n",
       " ('LAF', '010'): 2,\n",
       " ('LAF', '016'): 2,\n",
       " ('LAF', '81'): 2,\n",
       " ('LAFH', '3'): 2,\n",
       " ('LAFK', '50'): 2,\n",
       " ('LAH', '52'): 2,\n",
       " ('LAH', '53'): 2,\n",
       " ('LAH', '55'): 2,\n",
       " ('LAH', '60'): 2,\n",
       " ('LAH', '63'): 2,\n",
       " ('LAH', '65'): 2,\n",
       " ('LAK', '5'): 2,\n",
       " ('LAK', '6'): 3,\n",
       " ('LAK', '7'): 5,\n",
       " ('LAK', '8'): 5,\n",
       " ('LAK', '10'): 4,\n",
       " ('LAK', '11'): 2,\n",
       " ('LAK', '12'): 4,\n",
       " ('LAK', '52'): 2,\n",
       " ('LAK', '53'): 3,\n",
       " ('LAK', '9'): 3,\n",
       " ('LAK', '13'): 2,\n",
       " ('LAK', '14'): 3,\n",
       " ('LAK', '18'): 2,\n",
       " ('LAL', '54'): 2,\n",
       " ('LASF', '03'): 2,\n",
       " ('LASF', '05'): 2,\n",
       " ('LASF', '015'): 2,\n",
       " ('LASF', '021'): 2,\n",
       " ('LASF', '45'): 2,\n",
       " ('LASF', '46'): 2,\n",
       " ('LASF', '9'): 2,\n",
       " ('LASFH', '13'): 2,\n",
       " ('LASFH', '15'): 2,\n",
       " ('LASFH', '17'): 2,\n",
       " ('LASFH', '24'): 2,\n",
       " ('LASFN', '8'): 2,\n",
       " ('LF', '5'): 3,\n",
       " ('LLF', '1'): 3,\n",
       " ('NBF', '1'): 4,\n",
       " ('NBFD', '10'): 3,\n",
       " ('NBFD', '15'): 2,\n",
       " ('NBFD', '130'): 2,\n",
       " ('NPH', '1'): 2,\n",
       " ('PCD', '4'): 4,\n",
       " ('PCD', '51'): 4,\n",
       " ('PSKH', '1'): 2,\n",
       " ('PSKH', '4'): 2,\n",
       " ('QF', '1'): 2,\n",
       " ('QF', '3'): 2,\n",
       " ('QF', '6'): 2,\n",
       " ('QF', '8'): 2,\n",
       " ('QF', '50'): 2,\n",
       " ('SF', '1'): 3,\n",
       " ('SF', '2'): 3,\n",
       " ('SF', '4'): 3,\n",
       " ('SF', '5'): 3,\n",
       " ('SF', '6'): 8,\n",
       " ('SF', '8'): 3,\n",
       " ('SF', '10'): 3,\n",
       " ('SF', '11'): 3,\n",
       " ('SF', '14'): 2,\n",
       " ('SF', '15'): 2,\n",
       " ('SF', '03'): 2,\n",
       " ('SF', '57'): 5,\n",
       " ('SFH', '1'): 2,\n",
       " ('SFLD', '8'): 2,\n",
       " ('SFLDN', '3'): 2,\n",
       " ('SK', '2'): 3,\n",
       " ('SK', '4'): 3,\n",
       " ('SK', '5'): 3,\n",
       " ('SK', '11'): 2,\n",
       " ('SK', '14'): 3,\n",
       " ('SK', '15'): 3,\n",
       " ('SK', '16'): 4,\n",
       " ('SK', '18'): 3,\n",
       " ('SK', '57'): 2,\n",
       " ('SSK', '1'): 2,\n",
       " ('SSK', '5'): 2,\n",
       " ('SSK', '8'): 2,\n",
       " ('TAC', '60'): 2,\n",
       " ('TAC', '80'): 2,\n",
       " ('TAF', '1'): 3,\n",
       " ('TAF', '3'): 2,\n",
       " ('TAF', '31'): 3,\n",
       " ('TAF', '101'): 3,\n",
       " ('TAF', '105'): 3,\n",
       " ('TAF', '401'): 3,\n",
       " ('TAFD', '5'): 2,\n",
       " ('TAFD', '37'): 2,\n",
       " ('TAFD', '40'): 2,\n",
       " ('TAFD', '51'): 3,\n",
       " ('TAFD', '305'): 3,\n",
       " ('TAFD', '307'): 3,\n",
       " ('TAFD', '405'): 2,\n",
       " ('TF', '3'): 2,\n",
       " ('TIH', '53'): 2,\n",
       " ('ZF', '1'): 3,\n",
       " ('ZF', '2'): 2,\n",
       " ('ZF', '3'): 2,\n",
       " ('ZF', '4'): 3,\n",
       " ('ZF', '5'): 2,\n",
       " ('ZF', '6'): 2,\n",
       " ('ZF', '7'): 5,\n",
       " ('ZF', '10'): 3,\n",
       " ('ZF', '11'): 2,\n",
       " ('ZF', '12'): 2,\n",
       " ('ZF', '13'): 3,\n",
       " ('ZF', '50'): 2,\n",
       " ('ZF', '52'): 5,\n",
       " ('ZK', '2'): 2,\n",
       " ('ZK', '3'): 3,\n",
       " ('ZK', '7'): 4,\n",
       " ('ZK', '9'): 2,\n",
       " ('ZK', '10'): 2,\n",
       " ('ZK', '50'): 2,\n",
       " ('ZLAF', '50'): 3,\n",
       " ('ZLAF', '52'): 3,\n",
       " ('ZLAF', '53'): 2,\n",
       " ('ZLAF', '55'): 2,\n",
       " ('ZLAF', '66'): 2,\n",
       " ('ZLAF', '68'): 3,\n",
       " ('ZLAF', '69'): 2,\n",
       " ('ZLAF', '75'): 2,\n",
       " ('ZPK', '1'): 2}"
      ]
     },
     "execution_count": 67,
     "metadata": {},
     "output_type": "execute_result"
    }
   ],
   "source": [
    "{k: group_num_all[k] for k in sorted(group_num_all.keys(), key=lambda k: str.upper(k[0]))}"
   ]
  },
  {
   "cell_type": "code",
   "execution_count": 68,
   "metadata": {},
   "outputs": [
    {
     "data": {
      "text/plain": [
       "dict_keys([('FK', '61'), ('K', '3'), ('K', '5'), ('K', '7'), ('K', '9'), ('K', '10'), ('ZPK', '1'), ('BAK', '1'), ('BAK', '2'), ('BAK', '4'), ('BAK', '7'), ('ZK', '2'), ('ZK', '3'), ('ZK', '7'), ('ZK', '9'), ('ZK', '10'), ('ZK', '50'), ('LAK', '5'), ('LAK', '6'), ('LAK', '7'), ('LAK', '8'), ('LAK', '10'), ('LAK', '11'), ('LAK', '12'), ('LAK', '52'), ('LAK', '53'), ('KF', '6'), ('QF', '1'), ('QF', '3'), ('QF', '6'), ('QF', '8'), ('QF', '50'), ('F', '1'), ('F', '2'), ('F', '3'), ('F', '4'), ('F', '5'), ('F', '13'), ('BAF', '3'), ('BAF', '4'), ('BAF', '7'), ('BAF', '8'), ('ZF', '1'), ('ZF', '2'), ('ZF', '3'), ('ZF', '4'), ('ZF', '5'), ('ZF', '6'), ('ZF', '7'), ('ZF', '10'), ('ZF', '11'), ('ZF', '12'), ('ZF', '13'), ('ZF', '50'), ('ZF', '52'), ('LAF', '2'), ('LAF', '3'), ('LAF', '4'), ('LAF', '7'), ('LAF', '50'), ('LAF', '53'), ('ZLAF', '50'), ('ZLAF', '52'), ('ZLAF', '53'), ('ZLAF', '55'), ('ZLAF', '66'), ('ZLAF', '68'), ('ZLAF', '69'), ('ZLAF', '75'), ('TF', '3'), ('FK', '5'), ('FK', '01'), ('FKH', '1'), ('FKH', '2'), ('PSKH', '1'), ('PSKH', '4'), ('BK', '7'), ('BALF', '4'), ('BAF', '10'), ('BAF', '11'), ('BASF', '2'), ('SK', '2'), ('SK', '4'), ('SK', '5'), ('SK', '11'), ('SK', '14'), ('SK', '15'), ('SK', '16'), ('SK', '18'), ('SSK', '1'), ('SSK', '5'), ('SSK', '8'), ('LLF', '1'), ('LF', '5'), ('F', '8'), ('SF', '1'), ('SF', '2'), ('SF', '4'), ('SF', '5'), ('SF', '6'), ('SF', '8'), ('SF', '10'), ('SF', '11'), ('SF', '14'), ('SF', '15'), ('SF', '03'), ('SFH', '1'), ('LAK', '9'), ('LAK', '13'), ('LAK', '14'), ('LAK', '18'), ('LAF', '010'), ('LAF', '016'), ('LAFH', '3'), ('LASF', '03'), ('LASF', '05'), ('LASF', '015'), ('LASF', '021'), ('LASFH', '13'), ('LASFH', '15'), ('LASFH', '17'), ('LASFH', '24'), ('FCD', '1'), ('FCD', '10'), ('PCD', '4'), ('PCD', '51'), ('BACD', '5'), ('BACD', '15'), ('LAC', '8'), ('LAC', '14'), ('FD', '60'), ('FDS', '1'), ('FDS', '2'), ('FDS', '18'), ('FDS', '90'), ('NBF', '1'), ('NBFD', '10'), ('NBFD', '15'), ('TAF', '1'), ('TAF', '3'), ('TAFD', '5'), ('TAFD', '37'), ('TAFD', '40'), ('FCD', '500'), ('BACD', '12'), ('LAC', '130'), ('TAC', '60'), ('TAC', '80'), ('FD', '80'), ('FDS', '910'), ('NBFD', '130'), ('TAF', '31'), ('TAF', '101'), ('TAF', '105'), ('TAF', '401'), ('TAFD', '51'), ('TAFD', '305'), ('TAFD', '307'), ('TAFD', '405'), ('LAF', '81'), ('TIH', '53'), ('LAL', '54'), ('LAH', '52'), ('LAH', '53'), ('LAH', '55'), ('LAH', '60'), ('LAH', '63'), ('LAH', '65'), ('NPH', '1'), ('KZFS', '4'), ('LASF', '45'), ('LASF', '46'), ('LASF', '9'), ('SF', '57'), ('SK', '57'), ('LAFK', '50'), ('LASFN', '8'), ('SFLD', '8'), ('SFLDN', '3')])"
      ]
     },
     "execution_count": 68,
     "metadata": {},
     "output_type": "execute_result"
    }
   ],
   "source": [
    "group_num_all.keys()"
   ]
  },
  {
   "cell_type": "code",
   "execution_count": 73,
   "metadata": {},
   "outputs": [],
   "source": [
    "gn = 'D-ZLaF52LA'"
   ]
  },
  {
   "cell_type": "code",
   "execution_count": 74,
   "metadata": {},
   "outputs": [
    {
     "data": {
      "text/plain": [
       "(('ZLAF', '52'), 'D', 'LA')"
      ]
     },
     "execution_count": 74,
     "metadata": {},
     "output_type": "execute_result"
    }
   ],
   "source": [
    "decode_glass_name(gn)"
   ]
  },
  {
   "cell_type": "code",
   "execution_count": 75,
   "metadata": {},
   "outputs": [],
   "source": [
    "ZLaF52 = gfact.create_glass(gn, 'CDGM')"
   ]
  },
  {
   "cell_type": "code",
   "execution_count": 76,
   "metadata": {},
   "outputs": [
    {
     "data": {
      "text/plain": [
       "{(('BAF', '2'), 'H', ''): ('H-BaF2', 'CDGM'),\n",
       " (('BAF', '3'), 'H', ''): ('H-BaF3', 'CDGM'),\n",
       " (('BAF', '4'), 'H', ''): ('H-BaF4', 'CDGM'),\n",
       " (('BAF', '4'), '', ''): ('BaF4', 'CDGM'),\n",
       " (('BAF', '5'), 'H', ''): ('H-BaF5', 'CDGM'),\n",
       " (('BAF', '6'), 'H', ''): ('H-BaF6', 'CDGM'),\n",
       " (('BAF', '7'), 'H', ''): ('H-BaF7', 'CDGM'),\n",
       " (('BAF', '7'), '', ''): ('BaF7', 'CDGM'),\n",
       " (('BAF', '8'), 'H', ''): ('H-BaF8', 'CDGM'),\n",
       " (('BAK', '1'), 'H', ''): ('H-BaK1', 'CDGM'),\n",
       " (('BAK', '2'), 'H', ''): ('H-BaK2', 'CDGM'),\n",
       " (('BAK', '3'), 'H', ''): ('H-BaK3', 'CDGM'),\n",
       " (('BAK', '4'), 'H', ''): ('H-BaK4', 'CDGM'),\n",
       " (('BAK', '5'), 'H', ''): ('H-BaK5', 'CDGM'),\n",
       " (('BAK', '6'), 'H', ''): ('H-BaK6', 'CDGM'),\n",
       " (('BAK', '7'), 'H', ''): ('H-BaK7', 'CDGM'),\n",
       " (('BAK', '7'), 'H', 'GT'): ('H-BaK7GT', 'CDGM'),\n",
       " (('BAK', '7'), 'H', 'A'): ('H-BaK7A', 'CDGM'),\n",
       " (('BAK', '8'), 'H', ''): ('H-BaK8', 'CDGM'),\n",
       " (('F', '1'), 'H', ''): ('H-F1', 'CDGM'),\n",
       " (('F', '1'), '', ''): ('F1', 'CDGM'),\n",
       " (('F', '13'), 'H', ''): ('H-F13', 'CDGM'),\n",
       " (('F', '13'), '', ''): ('F13', 'CDGM'),\n",
       " (('F', '2'), 'H', ''): ('H-F2', 'CDGM'),\n",
       " (('F', '2'), '', ''): ('F2', 'CDGM'),\n",
       " (('F', '3'), '', ''): ('F3', 'CDGM'),\n",
       " (('F', '4'), 'H', ''): ('H-F4', 'CDGM'),\n",
       " (('F', '4'), '', ''): ('F4', 'CDGM'),\n",
       " (('F', '5'), '', ''): ('F5', 'CDGM'),\n",
       " (('F', '51'), 'H', ''): ('H-F51', 'CDGM'),\n",
       " (('F', '6'), '', ''): ('F6', 'CDGM'),\n",
       " (('F', '7'), '', ''): ('F7', 'CDGM'),\n",
       " (('FK', '61'), 'H', ''): ('H-FK61', 'CDGM'),\n",
       " (('FK', '61'), 'H', 'B'): ('H-FK61B', 'CDGM'),\n",
       " (('FK', '61'), 'D', ''): ('D-FK61', 'CDGM'),\n",
       " (('FK', '71'), 'H', ''): ('H-FK71', 'CDGM'),\n",
       " (('K', '1'), 'H', ''): ('H-K1', 'CDGM'),\n",
       " (('K', '10'), 'H', ''): ('H-K10', 'CDGM'),\n",
       " (('K', '11'), 'H', ''): ('H-K11', 'CDGM'),\n",
       " (('K', '12'), 'H', ''): ('H-K12', 'CDGM'),\n",
       " (('K', '2'), 'H', ''): ('H-K2', 'CDGM'),\n",
       " (('K', '3'), 'H', ''): ('H-K3', 'CDGM'),\n",
       " (('K', '4'), '', 'A'): ('K4A', 'CDGM'),\n",
       " (('K', '5'), 'H', ''): ('H-K5', 'CDGM'),\n",
       " (('K', '50'), 'H', ''): ('H-K50', 'CDGM'),\n",
       " (('K', '51'), 'H', ''): ('H-K51', 'CDGM'),\n",
       " (('K', '59'), 'D', ''): ('D-K59', 'CDGM'),\n",
       " (('K', '6'), 'H', ''): ('H-K6', 'CDGM'),\n",
       " (('K', '7'), 'H', ''): ('H-K7', 'CDGM'),\n",
       " (('K', '8'), 'H', ''): ('H-K8', 'CDGM'),\n",
       " (('K', '9'), 'H', 'L'): ('H-K9L', 'CDGM'),\n",
       " (('K', '9'), 'H', 'LGT'): ('H-K9LGT', 'CDGM'),\n",
       " (('K', '9'), 'H', 'L*'): ('H-K9L*', 'CDGM'),\n",
       " (('K', '9'), 'D', ''): ('D-K9', 'CDGM'),\n",
       " (('KF', '6'), 'H', ''): ('H-KF6', 'CDGM'),\n",
       " (('LAF', '050'), 'D', ''): ('D-LaF050', 'CDGM'),\n",
       " (('LAF', '1'), 'H', ''): ('H-LaF1', 'CDGM'),\n",
       " (('LAF', '10'), 'H', 'LA'): ('H-LaF10LA', 'CDGM'),\n",
       " (('LAF', '2'), 'H', ''): ('H-LaF2', 'CDGM'),\n",
       " (('LAF', '3'), 'H', 'B'): ('H-LaF3B', 'CDGM'),\n",
       " (('LAF', '4'), 'H', ''): ('H-LaF4', 'CDGM'),\n",
       " (('LAF', '4'), 'H', 'GT'): ('H-LaF4GT', 'CDGM'),\n",
       " (('LAF', '50'), 'H', 'B'): ('H-LaF50B', 'CDGM'),\n",
       " (('LAF', '50'), 'D', ''): ('D-LaF50', 'CDGM'),\n",
       " (('LAF', '51'), 'H', ''): ('H-LaF51', 'CDGM'),\n",
       " (('LAF', '52'), 'H', ''): ('H-LaF52', 'CDGM'),\n",
       " (('LAF', '53'), 'H', ''): ('H-LaF53', 'CDGM'),\n",
       " (('LAF', '53'), 'D', ''): ('D-LaF53', 'CDGM'),\n",
       " (('LAF', '54'), 'H', ''): ('H-LaF54', 'CDGM'),\n",
       " (('LAF', '55'), 'H', ''): ('H-LaF55', 'CDGM'),\n",
       " (('LAF', '6'), 'H', 'LA'): ('H-LaF6LA', 'CDGM'),\n",
       " (('LAF', '62'), 'H', ''): ('H-LaF62', 'CDGM'),\n",
       " (('LAF', '7'), 'H', ''): ('H-LaF7', 'CDGM'),\n",
       " (('LAF', '79'), 'D', ''): ('D-LaF79', 'CDGM'),\n",
       " (('LAF', '82'), 'D', 'L'): ('D-LaF82L', 'CDGM'),\n",
       " (('LAFL', '5'), 'H', ''): ('H-LaFL5', 'CDGM'),\n",
       " (('LAK', '1'), 'H', ''): ('H-LaK1', 'CDGM'),\n",
       " (('LAK', '10'), 'H', ''): ('H-LaK10', 'CDGM'),\n",
       " (('LAK', '11'), 'H', ''): ('H-LaK11', 'CDGM'),\n",
       " (('LAK', '12'), 'H', ''): ('H-LaK12', 'CDGM'),\n",
       " (('LAK', '2'), 'H', 'A'): ('H-LaK2A', 'CDGM'),\n",
       " (('LAK', '3'), 'H', ''): ('H-LaK3', 'CDGM'),\n",
       " (('LAK', '4'), 'H', 'L'): ('H-LaK4L', 'CDGM'),\n",
       " (('LAK', '5'), 'H', 'A'): ('H-LaK5A', 'CDGM'),\n",
       " (('LAK', '5'), 'D', ''): ('D-LaK5', 'CDGM'),\n",
       " (('LAK', '50'), 'H', 'A'): ('H-LaK50A', 'CDGM'),\n",
       " (('LAK', '51'), 'H', 'A'): ('H-LaK51A', 'CDGM'),\n",
       " (('LAK', '52'), 'H', ''): ('H-LaK52', 'CDGM'),\n",
       " (('LAK', '53'), 'H', 'B'): ('H-LaK53B', 'CDGM'),\n",
       " (('LAK', '53'), 'H', 'A'): ('H-LaK53A', 'CDGM'),\n",
       " (('LAK', '54'), 'H', ''): ('H-LaK54', 'CDGM'),\n",
       " (('LAK', '59'), 'H', 'A'): ('H-LaK59A', 'CDGM'),\n",
       " (('LAK', '6'), 'H', 'A'): ('H-LaK6A', 'CDGM'),\n",
       " (('LAK', '6'), 'D', ''): ('D-LaK6', 'CDGM'),\n",
       " (('LAK', '61'), 'H', ''): ('H-LaK61', 'CDGM'),\n",
       " (('LAK', '67'), 'H', ''): ('H-LaK67', 'CDGM'),\n",
       " (('LAK', '7'), 'H', 'A'): ('H-LaK7A', 'CDGM'),\n",
       " (('LAK', '70'), 'D', ''): ('D-LaK70', 'CDGM'),\n",
       " (('LAK', '8'), 'H', 'A'): ('H-LaK8A', 'CDGM'),\n",
       " (('LAK', '8'), 'H', 'B'): ('H-LaK8B', 'CDGM'),\n",
       " (('PK', '3'), 'D', ''): ('D-PK3', 'CDGM'),\n",
       " (('QF', '1'), 'H', ''): ('H-QF1', 'CDGM'),\n",
       " (('QF', '1'), '', ''): ('QF1', 'CDGM'),\n",
       " (('QF', '14'), 'H', ''): ('H-QF14', 'CDGM'),\n",
       " (('QF', '3'), 'H', ''): ('H-QF3', 'CDGM'),\n",
       " (('QF', '3'), '', ''): ('QF3', 'CDGM'),\n",
       " (('QF', '5'), '', ''): ('QF5', 'CDGM'),\n",
       " (('QF', '50'), 'H', 'A'): ('H-QF50A', 'CDGM'),\n",
       " (('QF', '50'), '', ''): ('QF50', 'CDGM'),\n",
       " (('QF', '56'), 'H', ''): ('H-QF56', 'CDGM'),\n",
       " (('QF', '6'), 'H', 'A'): ('H-QF6A', 'CDGM'),\n",
       " (('QF', '6'), '', ''): ('QF6', 'CDGM'),\n",
       " (('QF', '8'), 'H', ''): ('H-QF8', 'CDGM'),\n",
       " (('QF', '8'), '', ''): ('QF8', 'CDGM'),\n",
       " (('QK', '1'), 'H', ''): ('H-QK1', 'CDGM'),\n",
       " (('QK', '3'), 'H', 'L'): ('H-QK3L', 'CDGM'),\n",
       " (('TF', '3'), 'H', 'L'): ('H-TF3L', 'CDGM'),\n",
       " (('TF', '3'), '', ''): ('TF3', 'CDGM'),\n",
       " (('TF', '5'), 'H', ''): ('H-TF5', 'CDGM'),\n",
       " (('TF', '8'), 'H', ''): ('H-TF8', 'CDGM'),\n",
       " (('ZBAF', '1'), 'H', ''): ('H-ZBaF1', 'CDGM'),\n",
       " (('ZBAF', '16'), 'H', ''): ('H-ZBaF16', 'CDGM'),\n",
       " (('ZBAF', '17'), '', ''): ('ZBaF17', 'CDGM'),\n",
       " (('ZBAF', '2'), '', ''): ('ZBaF2', 'CDGM'),\n",
       " (('ZBAF', '20'), 'H', ''): ('H-ZBaF20', 'CDGM'),\n",
       " (('ZBAF', '21'), 'H', ''): ('H-ZBaF21', 'CDGM'),\n",
       " (('ZBAF', '3'), 'H', ''): ('H-ZBaF3', 'CDGM'),\n",
       " (('ZBAF', '4'), 'H', ''): ('H-ZBaF4', 'CDGM'),\n",
       " (('ZBAF', '5'), 'H', ''): ('H-ZBaF5', 'CDGM'),\n",
       " (('ZBAF', '50'), 'H', ''): ('H-ZBaF50', 'CDGM'),\n",
       " (('ZBAF', '51'), '', ''): ('ZBaF51', 'CDGM'),\n",
       " (('ZBAF', '52'), 'H', ''): ('H-ZBaF52', 'CDGM'),\n",
       " (('ZF', '1'), 'H', ''): ('H-ZF1', 'CDGM'),\n",
       " (('ZF', '1'), 'H', 'A'): ('H-ZF1A', 'CDGM'),\n",
       " (('ZF', '1'), '', ''): ('ZF1', 'CDGM'),\n",
       " (('ZF', '10'), 'H', ''): ('H-ZF10', 'CDGM'),\n",
       " (('ZF', '10'), '', ''): ('ZF10', 'CDGM'),\n",
       " (('ZF', '10'), 'D', ''): ('D-ZF10', 'CDGM'),\n",
       " (('ZF', '11'), 'H', ''): ('H-ZF11', 'CDGM'),\n",
       " (('ZF', '11'), '', ''): ('ZF11', 'CDGM'),\n",
       " (('ZF', '12'), 'H', ''): ('H-ZF12', 'CDGM'),\n",
       " (('ZF', '12'), '', ''): ('ZF12', 'CDGM'),\n",
       " (('ZF', '13'), 'H', ''): ('H-ZF13', 'CDGM'),\n",
       " (('ZF', '13'), 'H', 'GT'): ('H-ZF13GT', 'CDGM'),\n",
       " (('ZF', '13'), '', ''): ('ZF13', 'CDGM'),\n",
       " (('ZF', '2'), 'H', ''): ('H-ZF2', 'CDGM'),\n",
       " (('ZF', '2'), '', ''): ('ZF2', 'CDGM'),\n",
       " (('ZF', '3'), 'H', ''): ('H-ZF3', 'CDGM'),\n",
       " (('ZF', '3'), '', ''): ('ZF3', 'CDGM'),\n",
       " (('ZF', '39'), 'H', ''): ('H-ZF39', 'CDGM'),\n",
       " (('ZF', '4'), 'H', 'A'): ('H-ZF4A', 'CDGM'),\n",
       " (('ZF', '4'), 'H', 'AGT'): ('H-ZF4AGT', 'CDGM'),\n",
       " (('ZF', '4'), '', ''): ('ZF4', 'CDGM'),\n",
       " (('ZF', '5'), 'H', ''): ('H-ZF5', 'CDGM'),\n",
       " (('ZF', '5'), '', ''): ('ZF5', 'CDGM'),\n",
       " (('ZF', '50'), 'H', ''): ('H-ZF50', 'CDGM'),\n",
       " (('ZF', '50'), '', ''): ('ZF50', 'CDGM'),\n",
       " (('ZF', '51'), '', ''): ('ZF51', 'CDGM'),\n",
       " (('ZF', '52'), 'H', ''): ('H-ZF52', 'CDGM'),\n",
       " (('ZF', '52'), 'H', 'GT'): ('H-ZF52GT', 'CDGM'),\n",
       " (('ZF', '52'), 'H', 'TT'): ('H-ZF52TT', 'CDGM'),\n",
       " (('ZF', '52'), 'H', 'A'): ('H-ZF52A', 'CDGM'),\n",
       " (('ZF', '52'), '', ''): ('ZF52', 'CDGM'),\n",
       " (('ZF', '6'), 'H', ''): ('H-ZF6', 'CDGM'),\n",
       " (('ZF', '6'), '', ''): ('ZF6', 'CDGM'),\n",
       " (('ZF', '62'), 'H', ''): ('H-ZF62', 'CDGM'),\n",
       " (('ZF', '7'), 'H', 'LA'): ('H-ZF7LA', 'CDGM'),\n",
       " (('ZF', '7'), 'H', 'LAGT'): ('H-ZF7LAGT', 'CDGM'),\n",
       " (('ZF', '7'), '', ''): ('ZF7', 'CDGM'),\n",
       " (('ZF', '7'), '', 'L'): ('ZF7L', 'CDGM'),\n",
       " (('ZF', '7'), '', 'LGT'): ('ZF7LGT', 'CDGM'),\n",
       " (('ZF', '71'), 'H', ''): ('H-ZF71', 'CDGM'),\n",
       " (('ZF', '72'), 'H', 'A'): ('H-ZF72A', 'CDGM'),\n",
       " (('ZF', '8'), '', ''): ('ZF8', 'CDGM'),\n",
       " (('ZF', '88'), 'H', ''): ('H-ZF88', 'CDGM'),\n",
       " (('ZF', '93'), 'D', ''): ('D-ZF93', 'CDGM'),\n",
       " (('ZK', '1'), 'H', ''): ('H-ZK1', 'CDGM'),\n",
       " (('ZK', '10'), 'H', ''): ('H-ZK10', 'CDGM'),\n",
       " (('ZK', '10'), 'H', 'L'): ('H-ZK10L', 'CDGM'),\n",
       " (('ZK', '11'), 'H', ''): ('H-ZK11', 'CDGM'),\n",
       " (('ZK', '14'), 'H', ''): ('H-ZK14', 'CDGM'),\n",
       " (('ZK', '2'), 'H', ''): ('H-ZK2', 'CDGM'),\n",
       " (('ZK', '2'), 'D', ''): ('D-ZK2', 'CDGM'),\n",
       " (('ZK', '20'), 'H', ''): ('H-ZK20', 'CDGM'),\n",
       " (('ZK', '21'), 'H', ''): ('H-ZK21', 'CDGM'),\n",
       " (('ZK', '3'), 'H', ''): ('H-ZK3', 'CDGM'),\n",
       " (('ZK', '3'), 'H', 'A'): ('H-ZK3A', 'CDGM'),\n",
       " (('ZK', '3'), 'D', ''): ('D-ZK3', 'CDGM'),\n",
       " (('ZK', '4'), 'H', ''): ('H-ZK4', 'CDGM'),\n",
       " (('ZK', '5'), 'H', ''): ('H-ZK5', 'CDGM'),\n",
       " (('ZK', '50'), 'H', ''): ('H-ZK50', 'CDGM'),\n",
       " (('ZK', '50'), 'H', 'GT'): ('H-ZK50GT', 'CDGM'),\n",
       " (('ZK', '6'), 'H', ''): ('H-ZK6', 'CDGM'),\n",
       " (('ZK', '7'), 'H', ''): ('H-ZK7', 'CDGM'),\n",
       " (('ZK', '7'), 'H', 'A'): ('H-ZK7A', 'CDGM'),\n",
       " (('ZK', '79'), 'D', ''): ('D-ZK79', 'CDGM'),\n",
       " (('ZK', '8'), 'H', ''): ('H-ZK8', 'CDGM'),\n",
       " (('ZK', '9'), 'H', 'B'): ('H-ZK9B', 'CDGM'),\n",
       " (('ZK', '9'), 'H', 'A'): ('H-ZK9A', 'CDGM'),\n",
       " (('ZLAF', '1'), 'H', ''): ('H-ZLaF1', 'CDGM'),\n",
       " (('ZLAF', '2'), 'H', 'A'): ('H-ZLaF2A', 'CDGM'),\n",
       " (('ZLAF', '3'), 'H', ''): ('H-ZLaF3', 'CDGM'),\n",
       " (('ZLAF', '4'), 'H', 'LA'): ('H-ZLaF4LA', 'CDGM'),\n",
       " (('ZLAF', '50'), 'H', 'E'): ('H-ZLaF50E', 'CDGM'),\n",
       " (('ZLAF', '50'), 'H', 'D'): ('H-ZLaF50D', 'CDGM'),\n",
       " (('ZLAF', '50'), 'D', ''): ('D-ZLaF50', 'CDGM'),\n",
       " (('ZLAF', '51'), 'H', ''): ('H-ZLaF51', 'CDGM'),\n",
       " (('ZLAF', '52'), 'H', 'A'): ('H-ZLaF52A', 'CDGM'),\n",
       " (('ZLAF', '52'), 'H', ''): ('H-ZLaF52', 'CDGM'),\n",
       " (('ZLAF', '52'), 'D', 'LA'): ('D-ZLaF52LA', 'CDGM'),\n",
       " (('ZLAF', '53'), 'H', 'B'): ('H-ZLaF53B', 'CDGM'),\n",
       " (('ZLAF', '53'), 'H', 'BGT'): ('H-ZLaF53BGT', 'CDGM'),\n",
       " (('ZLAF', '55'), 'H', 'D'): ('H-ZLaF55D', 'CDGM'),\n",
       " (('ZLAF', '55'), 'H', 'C'): ('H-ZLaF55C', 'CDGM'),\n",
       " (('ZLAF', '56'), 'H', 'B'): ('H-ZLaF56B', 'CDGM'),\n",
       " (('ZLAF', '61'), 'D', ''): ('D-ZLaF61', 'CDGM'),\n",
       " (('ZLAF', '66'), 'H', ''): ('H-ZLaF66', 'CDGM'),\n",
       " (('ZLAF', '66'), 'H', 'GT'): ('H-ZLaF66GT', 'CDGM'),\n",
       " (('ZLAF', '67'), 'D', ''): ('D-ZLaF67', 'CDGM'),\n",
       " (('ZLAF', '68'), 'H', 'C'): ('H-ZLaF68C', 'CDGM'),\n",
       " (('ZLAF', '68'), 'H', 'N'): ('H-ZLaF68N', 'CDGM'),\n",
       " (('ZLAF', '68'), 'H', 'B'): ('H-ZLaF68B', 'CDGM'),\n",
       " (('ZLAF', '69'), 'H', ''): ('H-ZLaF69', 'CDGM'),\n",
       " (('ZLAF', '69'), 'H', 'A'): ('H-ZLaF69A', 'CDGM'),\n",
       " (('ZLAF', '71'), 'H', ''): ('H-ZLaF71', 'CDGM'),\n",
       " (('ZLAF', '75'), 'H', 'A'): ('H-ZLaF75A', 'CDGM'),\n",
       " (('ZLAF', '75'), 'H', 'B'): ('H-ZLaF75B', 'CDGM'),\n",
       " (('ZLAF', '76'), 'H', ''): ('H-ZLaF76', 'CDGM'),\n",
       " (('ZLAF', '78'), 'H', 'B'): ('H-ZLaF78B', 'CDGM'),\n",
       " (('ZLAF', '81'), 'D', ''): ('D-ZLaF81', 'CDGM'),\n",
       " (('ZLAF', '85'), 'D', 'L'): ('D-ZLaF85L', 'CDGM'),\n",
       " (('ZLAF', '89'), 'H', 'L'): ('H-ZLaF89L', 'CDGM'),\n",
       " (('ZLAF', '90'), 'H', ''): ('H-ZLaF90', 'CDGM'),\n",
       " (('ZLAF', '92'), 'H', ''): ('H-ZLaF92', 'CDGM'),\n",
       " (('ZPK', '1'), 'H', 'A'): ('H-ZPK1A', 'CDGM'),\n",
       " (('ZPK', '1'), 'D', 'A'): ('D-ZPK1A', 'CDGM'),\n",
       " (('ZPK', '2'), 'H', 'A'): ('H-ZPK2A', 'CDGM'),\n",
       " (('ZPK', '3'), 'H', ''): ('H-ZPK3', 'CDGM'),\n",
       " (('ZPK', '5'), 'H', ''): ('H-ZPK5', 'CDGM'),\n",
       " (('ZPK', '7'), 'H', ''): ('H-ZPK7', 'CDGM')}"
      ]
     },
     "execution_count": 76,
     "metadata": {},
     "output_type": "execute_result"
    }
   ],
   "source": [
    "gfact._catalog_list['CDGM'].glass_lookup"
   ]
  },
  {
   "cell_type": "code",
   "execution_count": null,
   "metadata": {},
   "outputs": [],
   "source": []
  },
  {
   "cell_type": "markdown",
   "metadata": {},
   "source": [
    "### Test for a match to the group_num part of a catalog name"
   ]
  },
  {
   "cell_type": "code",
   "execution_count": 77,
   "metadata": {},
   "outputs": [],
   "source": [
    "gn = 'D-ZLaF52LA_M'"
   ]
  },
  {
   "cell_type": "code",
   "execution_count": 78,
   "metadata": {},
   "outputs": [
    {
     "data": {
      "text/plain": [
       "('D-ZLaF52LA_M', (('ZLAF', '52'), 'D', 'LA_M'), 'ZLAF52')"
      ]
     },
     "execution_count": 78,
     "metadata": {},
     "output_type": "execute_result"
    }
   ],
   "source": [
    "gn_dec = decode_glass_name(gn)\n",
    "gn_decode_uc = gn_dec[0][0] + gn_dec[0][1]\n",
    "gn, gn_dec, gn_decode_uc"
   ]
  },
  {
   "cell_type": "code",
   "execution_count": 79,
   "metadata": {},
   "outputs": [
    {
     "data": {
      "text/plain": [
       "[((('ZLAF', '52'), 'H', 'A'), 'H-ZLaF52A', 'CDGM'),\n",
       " ((('ZLAF', '52'), 'H', ''), 'H-ZLaF52', 'CDGM'),\n",
       " ((('ZLAF', '52'), 'D', 'LA'), 'D-ZLaF52LA', 'CDGM')]"
      ]
     },
     "execution_count": 79,
     "metadata": {},
     "output_type": "execute_result"
    }
   ],
   "source": [
    "gn_list = [(gn_decode, gn, gc) for gn_decode, gn, gc in glist if gn_decode_uc == gn_decode[0][0] + gn_decode[0][1]]; gn_list"
   ]
  },
  {
   "cell_type": "code",
   "execution_count": 80,
   "metadata": {},
   "outputs": [
    {
     "data": {
      "text/plain": [
       "[((('ZLAF', '52'), 'D', 'LA'), 'D-ZLaF52LA', 'CDGM')]"
      ]
     },
     "execution_count": 80,
     "metadata": {},
     "output_type": "execute_result"
    }
   ],
   "source": [
    "pgn_list = [(gn_decode, gn, gc) for gn_decode, gn, gc in gn_list if gn_dec[1] == gn_decode[1]]; pgn_list"
   ]
  },
  {
   "cell_type": "code",
   "execution_count": 81,
   "metadata": {},
   "outputs": [
    {
     "data": {
      "text/plain": [
       "'LA_M'"
      ]
     },
     "execution_count": 81,
     "metadata": {},
     "output_type": "execute_result"
    }
   ],
   "source": [
    "gn_dec[2]"
   ]
  },
  {
   "cell_type": "code",
   "execution_count": 82,
   "metadata": {},
   "outputs": [],
   "source": [
    "import difflib"
   ]
  },
  {
   "cell_type": "code",
   "execution_count": 83,
   "metadata": {},
   "outputs": [
    {
     "data": {
      "text/plain": [
       "['H-ZLaF52A', 'H-ZLaF52', 'D-ZLaF52LA']"
      ]
     },
     "execution_count": 83,
     "metadata": {},
     "output_type": "execute_result"
    }
   ],
   "source": [
    "possibilities = [gn for gn_decode, gn, gc in gn_list]; possibilities"
   ]
  },
  {
   "cell_type": "code",
   "execution_count": 84,
   "metadata": {},
   "outputs": [
    {
     "data": {
      "text/plain": [
       "['D-ZLaF52LA', 'H-ZLaF52A', 'H-ZLaF52']"
      ]
     },
     "execution_count": 84,
     "metadata": {},
     "output_type": "execute_result"
    }
   ],
   "source": [
    "difflib.get_close_matches(gn, possibilities)"
   ]
  },
  {
   "cell_type": "code",
   "execution_count": 85,
   "metadata": {},
   "outputs": [
    {
     "data": {
      "text/plain": [
       "'D-ZLaF52LA_M'"
      ]
     },
     "execution_count": 85,
     "metadata": {},
     "output_type": "execute_result"
    }
   ],
   "source": [
    "gn"
   ]
  },
  {
   "cell_type": "code",
   "execution_count": null,
   "metadata": {},
   "outputs": [],
   "source": []
  }
 ],
 "metadata": {
  "kernelspec": {
   "display_name": "Python 3 (ipykernel)",
   "language": "python",
   "name": "python3"
  },
  "language_info": {
   "codemirror_mode": {
    "name": "ipython",
    "version": 3
   },
   "file_extension": ".py",
   "mimetype": "text/x-python",
   "name": "python",
   "nbconvert_exporter": "python",
   "pygments_lexer": "ipython3",
   "version": "3.8.13"
  }
 },
 "nbformat": 4,
 "nbformat_minor": 4
}
