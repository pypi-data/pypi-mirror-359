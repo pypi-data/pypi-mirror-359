{
 "cells": [
  {
   "cell_type": "code",
   "execution_count": 1,
   "id": "0d954b9d-6a5a-4c5e-bb4d-84b2c06d46ce",
   "metadata": {},
   "outputs": [],
   "source": [
    "%matplotlib widget"
   ]
  },
  {
   "cell_type": "code",
   "execution_count": 2,
   "id": "2e524194-63b1-47ba-8e03-27e885374410",
   "metadata": {},
   "outputs": [],
   "source": [
    "import opticalglass as og\n",
    "import opticalglass.schott as schott\n",
    "from opticalglass.opticalmedium import OpticalMedium, glass_encode, glass_decode\n",
    "from opticalglass.buchdahl import Buchdahl2\n",
    "import pandas as pd"
   ]
  },
  {
   "cell_type": "code",
   "execution_count": 3,
   "id": "1420a547-c895-463e-a84e-60e140f6d101",
   "metadata": {},
   "outputs": [],
   "source": [
    "bk7 = schott.SchottGlass('N-BK7')"
   ]
  },
  {
   "cell_type": "code",
   "execution_count": 4,
   "id": "db330986-9dd7-482a-aa9f-383302301bcd",
   "metadata": {},
   "outputs": [
    {
     "data": {
      "text/plain": [
       "{'gname': 'N-BK7',\n",
       " 'coefs': array([1.03961212e+00, 2.31792344e-01, 1.01046945e+00, 6.00069867e-03,\n",
       "        2.00179144e-02, 1.03560653e+02])}"
      ]
     },
     "execution_count": 4,
     "metadata": {},
     "output_type": "execute_result"
    }
   ],
   "source": [
    "vars(bk7)"
   ]
  },
  {
   "cell_type": "code",
   "execution_count": 5,
   "id": "069034b8-c5c4-4ba7-bf49-158dd099751e",
   "metadata": {},
   "outputs": [
    {
     "data": {
      "text/plain": [
       "<opticalglass.schott.SchottCatalog at 0x7f7fd916aca0>"
      ]
     },
     "execution_count": 5,
     "metadata": {},
     "output_type": "execute_result"
    }
   ],
   "source": [
    "bk7.catalog"
   ]
  },
  {
   "cell_type": "code",
   "execution_count": 6,
   "id": "f53adca2-964e-409b-931f-39269d67b4b9",
   "metadata": {},
   "outputs": [],
   "source": [
    "# --- material definitions\n",
    "class ConstantIndex(OpticalMedium):\n",
    "    \"\"\" Constant refractive index medium. \"\"\"\n",
    "\n",
    "    def __init__(self, nd, lbl, cat=''):\n",
    "        self.label = lbl\n",
    "        self.n = nd\n",
    "        self._catalog_name = cat\n",
    "\n",
    "    def __repr__(self):\n",
    "        return ('Medium(' + str(self.n) + ', ' + f\"'{self.label}'\" +\n",
    "                ', cat=' + f\"'{self._catalog_name}'\" + ')')\n",
    "\n",
    "    def name(self):\n",
    "        return self.label\n",
    "\n",
    "    def catalog_name(self):\n",
    "        return self._catalog_name\n",
    "\n",
    "    def calc_rindex(self, _):\n",
    "        return self.n\n",
    "\n",
    "    def meas_rindex(self, _):\n",
    "        return self.n"
   ]
  },
  {
   "cell_type": "code",
   "execution_count": 7,
   "id": "1f9910bd-bf3f-4622-8b45-e6942db4f957",
   "metadata": {},
   "outputs": [],
   "source": [
    "n2 = ConstantIndex(2., '2.0 refractive index', cat='user')"
   ]
  },
  {
   "cell_type": "code",
   "execution_count": 8,
   "id": "ec9677e1-418b-4554-9fa3-c6f2bd034e33",
   "metadata": {},
   "outputs": [
    {
     "data": {
      "text/plain": [
       "True"
      ]
     },
     "execution_count": 8,
     "metadata": {},
     "output_type": "execute_result"
    }
   ],
   "source": [
    "isinstance(n2, OpticalMedium)"
   ]
  },
  {
   "cell_type": "code",
   "execution_count": 9,
   "id": "038f6dd5-7c15-46b6-911d-7b0a605d783d",
   "metadata": {},
   "outputs": [
    {
     "data": {
      "text/plain": [
       "True"
      ]
     },
     "execution_count": 9,
     "metadata": {},
     "output_type": "execute_result"
    }
   ],
   "source": [
    "hasattr(n2, 'rindex')"
   ]
  },
  {
   "cell_type": "code",
   "execution_count": 10,
   "id": "3ee67241-4399-4b32-98ea-139a78e2d988",
   "metadata": {},
   "outputs": [],
   "source": [
    "class ModelGlass(OpticalMedium):\n",
    "    \"\"\" Optical medium defined by a glass code, i.e. index - V number pair \"\"\"\n",
    "\n",
    "    def __init__(self, nd: float, vd: float, mat: str, cat: str='user'):\n",
    "        self.label = mat\n",
    "        self._catalog_name = cat\n",
    "        self.n = nd\n",
    "        self.v = vd\n",
    "        self.bdhl_model = Buchdahl2(self.n, self.v)\n",
    "\n",
    "    def __str__(self):\n",
    "        return 'ModelGlass ' + self.label + ': ' + glass_encode(self.n, self.v)\n",
    "\n",
    "    def __repr__(self):\n",
    "        return ('ModelGlass(nd=' + str(self.n) +\n",
    "                ', vd=' + str(self.v) +\n",
    "                ', mat=' + f\"'{self.label}'\" +\n",
    "                ', cat=' + f\"'{self._catalog_name}'\" + ')')\n",
    "\n",
    "    def sync_to_restore(self):\n",
    "        if not hasattr(self, 'bdhl_model'):\n",
    "            self.bdhl_model = Buchdahl2(self.n, self.v)\n",
    "\n",
    "    def glass_code(self):\n",
    "        return glass_encode(self.n, self.v)\n",
    "\n",
    "    def name(self):\n",
    "        if self.label == '':\n",
    "            return glass_encode(self.n, self.v)\n",
    "        else:\n",
    "            return self.label\n",
    "\n",
    "    def catalog_name(self):\n",
    "        return self._catalog_name\n",
    "\n",
    "    def calc_rindex(self, wv_nm):\n",
    "        return self.bdhl_model.calc_rindex(wv_nm)\n",
    "\n",
    "    def meas_rindex(self, wvl):\n",
    "        return self.rindex(wvl)\n",
    "\n",
    "    def update(self, nd, vd):\n",
    "        self.n = nd\n",
    "        self.v = vd\n",
    "        self.bdhl_model.update_model(nd, vd)"
   ]
  },
  {
   "cell_type": "code",
   "execution_count": 11,
   "id": "04dfbb24-b74a-4f40-b42e-4f21d5462c3f",
   "metadata": {},
   "outputs": [],
   "source": [
    "my_bk7=ModelGlass(1.517, 64.2, 'my_bk7', cat='user')"
   ]
  },
  {
   "cell_type": "code",
   "execution_count": 12,
   "id": "97f993fa-fd72-4baa-b334-74f25cd80825",
   "metadata": {},
   "outputs": [
    {
     "data": {
      "text/plain": [
       "__main__.ModelGlass"
      ]
     },
     "execution_count": 12,
     "metadata": {},
     "output_type": "execute_result"
    }
   ],
   "source": [
    "type(my_bk7)"
   ]
  },
  {
   "cell_type": "code",
   "execution_count": 13,
   "id": "f81b04ac-470a-49c3-9454-fd5f24649e00",
   "metadata": {},
   "outputs": [
    {
     "data": {
      "text/plain": [
       "True"
      ]
     },
     "execution_count": 13,
     "metadata": {},
     "output_type": "execute_result"
    }
   ],
   "source": [
    "isinstance(my_bk7, OpticalMedium)"
   ]
  },
  {
   "cell_type": "code",
   "execution_count": 14,
   "id": "34162aa4-c6f0-4d34-801a-6c9b30a4d12c",
   "metadata": {},
   "outputs": [
    {
     "data": {
      "text/plain": [
       "True"
      ]
     },
     "execution_count": 14,
     "metadata": {},
     "output_type": "execute_result"
    }
   ],
   "source": [
    "hasattr(my_bk7, 'rindex')"
   ]
  },
  {
   "cell_type": "code",
   "execution_count": 15,
   "id": "8ccdac72-6ec0-4aee-a13e-c1f07595dbbc",
   "metadata": {},
   "outputs": [
    {
     "data": {
      "text/plain": [
       "array([1.52237629, 1.51680003, 1.51432235])"
      ]
     },
     "execution_count": 15,
     "metadata": {},
     "output_type": "execute_result"
    }
   ],
   "source": [
    "bk7.rindex(pd.Index(['F', 'd', 'C']))"
   ]
  },
  {
   "cell_type": "code",
   "execution_count": 16,
   "id": "c8c36da0-ddac-4580-bfdb-d6140ae39502",
   "metadata": {},
   "outputs": [
    {
     "data": {
      "text/plain": [
       "F    1.52238\n",
       "d     1.5168\n",
       "C    1.51432\n",
       "Name: N-BK7, dtype: object"
      ]
     },
     "execution_count": 16,
     "metadata": {},
     "output_type": "execute_result"
    }
   ],
   "source": [
    "bk7.meas_rindex(pd.Index(['F', 'd', 'C']))"
   ]
  },
  {
   "cell_type": "code",
   "execution_count": 17,
   "id": "3072618e-af4a-43d1-92b4-56e84dbba115",
   "metadata": {},
   "outputs": [
    {
     "data": {
      "text/plain": [
       "array([1.52218406, 1.517     , 1.51458912])"
      ]
     },
     "execution_count": 17,
     "metadata": {},
     "output_type": "execute_result"
    }
   ],
   "source": [
    "my_bk7.meas_rindex(pd.Index(['F', 'd', 'C']))"
   ]
  },
  {
   "cell_type": "code",
   "execution_count": 18,
   "id": "a59c3434-770f-4afb-a9b4-f780f0440bd9",
   "metadata": {},
   "outputs": [
    {
     "data": {
      "text/plain": [
       "'517.642'"
      ]
     },
     "execution_count": 18,
     "metadata": {},
     "output_type": "execute_result"
    }
   ],
   "source": [
    "bk7.glass_code()"
   ]
  },
  {
   "cell_type": "code",
   "execution_count": 19,
   "id": "8a058e05-d529-4049-806c-e625a32aba22",
   "metadata": {},
   "outputs": [
    {
     "data": {
      "text/plain": [
       "'517.642'"
      ]
     },
     "execution_count": 19,
     "metadata": {},
     "output_type": "execute_result"
    }
   ],
   "source": [
    "my_bk7.glass_code()"
   ]
  },
  {
   "cell_type": "code",
   "execution_count": null,
   "id": "2f8bf703-95c4-4459-9318-5bd439edd08d",
   "metadata": {},
   "outputs": [],
   "source": []
  }
 ],
 "metadata": {
  "kernelspec": {
   "display_name": "Python 3 (ipykernel)",
   "language": "python",
   "name": "python3"
  },
  "language_info": {
   "codemirror_mode": {
    "name": "ipython",
    "version": 3
   },
   "file_extension": ".py",
   "mimetype": "text/x-python",
   "name": "python",
   "nbconvert_exporter": "python",
   "pygments_lexer": "ipython3",
   "version": "3.8.13"
  }
 },
 "nbformat": 4,
 "nbformat_minor": 5
}
