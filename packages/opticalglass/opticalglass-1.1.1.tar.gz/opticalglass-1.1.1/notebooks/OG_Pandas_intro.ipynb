{
 "cells": [
  {
   "cell_type": "raw",
   "id": "71f60607-88c2-4d96-9340-ad4e1ab3b82f",
   "metadata": {},
   "source": [
    ".. currentmodule:: opticalglass\n",
    "\n",
    "#####################################\n",
    "Glass Catalog Spreadsheets and Python\n",
    "#####################################\n",
    "\n",
    "Optical glass manufacturers have settled on Excel spreadsheets as a means of documenting the technical details of their glass products. The formats are broadly similar but different in the details. \n",
    "\n",
    "A major goal of the opticalglass package is to make the data in these vendor spreadsheets accessible to the Python user. opticalglass uses the pandas package to import and save the glass catalog in a |DataFrame|. Common data categories across all vendors include:\n",
    "\n",
    "    - 'refractive indices'\n",
    "    - 'dispersion coefficients'\n",
    "    - 'internal transmission mm, 10'\n",
    "    - 'chemical properties'\n",
    "    - 'thermal properties'\n",
    "    - 'mechanical properties'\n",
    "    \n",
    "These queries on the glass catalog dataframe return pandas |Series| with the data and (typically) the wavelengths used for sampling. These can be easily accessed as numpy arrays and can be plotted using matplotlib style capabilities.\n",
    "\n",
    "The catalogs also contain single items of interest. The 2 that are supported across all catalogs currently include:\n",
    "\n",
    "    - 'abbe number'\n",
    "    - 'specific gravity'\n",
    "\n",
    "A higher level interface is available as a set of catalog-specific subclasses of :class:`~.glass.GlassPandas`."
   ]
  },
  {
   "cell_type": "code",
   "execution_count": 1,
   "id": "a3253026-9de0-43c4-9453-344ac2c27cbe",
   "metadata": {},
   "outputs": [],
   "source": [
    "%matplotlib inline"
   ]
  },
  {
   "cell_type": "raw",
   "id": "e6b593ab-550c-4d16-80fc-e41ca8e937b0",
   "metadata": {},
   "source": [
    "Import glass and catalog factory functions."
   ]
  },
  {
   "cell_type": "code",
   "execution_count": 2,
   "id": "89914392-2c84-4e0d-a13d-90ee17f41505",
   "metadata": {},
   "outputs": [],
   "source": [
    "import numpy as np\n",
    "import matplotlib.pyplot as plt\n",
    "\n",
    "from opticalglass.glassfactory import create_glass, get_glass_catalog"
   ]
  },
  {
   "cell_type": "code",
   "execution_count": 3,
   "id": "906f2c1f-9c34-4169-8511-ebc342d37f06",
   "metadata": {},
   "outputs": [],
   "source": [
    "catalog = 'Hoya'\n",
    "gname = 'FCD1'\n",
    "gname1 = 'E-F2'\n",
    "gname2 = 'MC-TAF1'"
   ]
  },
  {
   "cell_type": "raw",
   "id": "90e20145-4dea-45c4-8a28-89ed39ddbf47",
   "metadata": {},
   "source": [
    "Importing a catalog spreadsheet\n",
    "-------------------------------\n",
    "\n",
    "The :func:`~.glassfactory.get_glass_catalog` function is used to read the Excel spreadsheet and populate a |DataFrame| with it. A requirement for the import process is that the spreadsheet data be copied untouched into the catalog |DataFrame|. Only the spreadsheet row and column headers are changed in creating the catalog |DataFrame|.\n",
    "\n",
    "The :attr:`.GlassCatalogPandas.df` attribute has the glass catalog |DataFrame|."
   ]
  },
  {
   "cell_type": "code",
   "execution_count": 4,
   "id": "fbfa9307-5594-4d51-97c3-6923a8664d17",
   "metadata": {},
   "outputs": [],
   "source": [
    "hoya_pd = get_glass_catalog('Hoya')\n",
    "hoya_df = hoya_pd.df"
   ]
  },
  {
   "cell_type": "raw",
   "id": "6e240102-ef81-4081-84e9-9b9f2ef042a5",
   "metadata": {},
   "source": [
    "The :meth:`~.glass.GlassCatalogPandas.glass_data` method returns a |Series| of the catalog data for the specified glass name."
   ]
  },
  {
   "cell_type": "code",
   "execution_count": 5,
   "id": "e88a6715-6dcd-4848-ba13-e3c089190dab",
   "metadata": {},
   "outputs": [],
   "source": [
    "fcd1_pd = hoya_pd.glass_data('FCD1')"
   ]
  },
  {
   "cell_type": "raw",
   "id": "f106bacf-7dde-49d3-aaa5-ec48e59ccbae",
   "metadata": {},
   "source": [
    "Listing a catalog's data categories\n",
    "-----------------------------------\n",
    "\n",
    "The column categories can be listed using the get_level_values() method and eliminating duplicates. Categories defined by ``opticalglass`` are all lower case."
   ]
  },
  {
   "cell_type": "code",
   "execution_count": 6,
   "id": "e4f95776-3058-4471-a9fe-36a86cf0b598",
   "metadata": {},
   "outputs": [
    {
     "data": {
      "text/plain": [
       "Index([                                                                  'Code',\n",
       "                                                             'refractive index',\n",
       "                                                                  'abbe number',\n",
       "                                                           'refractive indices',\n",
       "                                                                        'blank',\n",
       "                                                      'dispersion coefficients',\n",
       "                                                          'Partial Dispersions',\n",
       "                                                    'Partial Dispersion Ratio ',\n",
       "                                    'Deviation of Relative Partial Dispersions',\n",
       "                                                          'chemical properties',\n",
       "                                                           'thermal properties',\n",
       "                                                        'mechanical properties',\n",
       "                                  'Temperature Coefficient of Refractive Index',\n",
       "                                                                            nan,\n",
       "          'Temperature Coefficient of Refractive Index  nh  404.66   (×10-6/℃)',\n",
       "          'Temperature Coefficient of Refractive Index  ng  435.84   (×10-6/℃)',\n",
       "          'Temperature Coefficient of Refractive Index  nF' 479.99   (×10-6/℃)',\n",
       "          'Temperature Coefficient of Refractive Index  nF  486.13   (×10-6/℃)',\n",
       "          'Temperature Coefficient of Refractive Index  ne  546.07   (×10-6/℃)',\n",
       "          'Temperature Coefficient of Refractive Index  nd  587.56   (×10-6/℃)',\n",
       "       'Temperature Coefficient of Refractive Index  nHe-Ne  632.8   (×10-6/℃)',\n",
       "          'Temperature Coefficient of Refractive Index  nC' 643.85   (×10-6/℃)',\n",
       "          'Temperature Coefficient of Refractive Index  nC  656.27   (×10-6/℃)',\n",
       "           'Temperature Coefficient of Refractive Index  nr 706.52   (×10-6/℃)',\n",
       "            'Temperature Coefficient of Abbe number  dνd/dT 587.56   (×10-3/℃)',\n",
       "            'Temperature Coefficient of Abbe number  dνe/dT 546.07   (×10-3/℃)',\n",
       "                             'Refractive index change to the cooling velocity ',\n",
       "                                                  'Stress Optical Coefficient ',\n",
       "                                                             'specific gravity',\n",
       "                                                      'Spectral Transmittance ',\n",
       "                                                 'internal transmission mm, 10',\n",
       "                                                  'Glass Cross Reference Index',\n",
       "                                                                      'Remarks',\n",
       "                                                                       'Update'],\n",
       "      dtype='object', name='category')"
      ]
     },
     "execution_count": 6,
     "metadata": {},
     "output_type": "execute_result"
    }
   ],
   "source": [
    "hoya_df.columns.get_level_values(0).drop_duplicates()"
   ]
  },
  {
   "cell_type": "raw",
   "id": "48ddd120-ae13-434d-8fd0-c2f37ced6250",
   "metadata": {},
   "source": [
    "The standard data categories can then be used to access the specific glass's data.\n",
    "\n",
    "The ``'dispersion coefficients'`` category give the glass's dispersion polynomial coefficients."
   ]
  },
  {
   "cell_type": "code",
   "execution_count": 7,
   "id": "excess-context",
   "metadata": {},
   "outputs": [
    {
     "data": {
      "text/plain": [
       "data item\n",
       "A0       2.218113\n",
       "A0pow           0\n",
       "A1      -5.799427\n",
       "A1pow          -3\n",
       "A2       8.347068\n",
       "A2pow          -3\n",
       "A3       6.504652\n",
       "A3pow          -5\n",
       "A4       8.514219\n",
       "A4pow          -6\n",
       "A5      -5.885227\n",
       "A5pow          -7\n",
       "Name: FCD1, dtype: object"
      ]
     },
     "execution_count": 7,
     "metadata": {},
     "output_type": "execute_result"
    }
   ],
   "source": [
    "fcd1_pd['dispersion coefficients']"
   ]
  },
  {
   "cell_type": "raw",
   "id": "24ab4d1e-2821-4654-8aa4-1f106d96ea57",
   "metadata": {},
   "source": [
    "The ``'refractive indices'`` category gives the measured refractive indices at measurement wavelengths."
   ]
  },
  {
   "cell_type": "code",
   "execution_count": 8,
   "id": "cooperative-mission",
   "metadata": {},
   "outputs": [
    {
     "data": {
      "text/plain": [
       "data item\n",
       "1529.6     1.48598\n",
       "1128.64    1.48907\n",
       "t          1.49008\n",
       "s          1.49182\n",
       "A'           1.493\n",
       "r          1.49408\n",
       "C          1.49514\n",
       "C'         1.49543\n",
       "He-Ne      1.49571\n",
       "D          1.49694\n",
       "d            1.497\n",
       "e          1.49845\n",
       "F          1.50123\n",
       "F'         1.50157\n",
       "g          1.50451\n",
       "h          1.50721\n",
       "i          1.51175\n",
       "Name: FCD1, dtype: object"
      ]
     },
     "execution_count": 8,
     "metadata": {},
     "output_type": "execute_result"
    }
   ],
   "source": [
    "fcd1_pd['refractive indices']"
   ]
  },
  {
   "cell_type": "raw",
   "id": "25f9b557-fb61-4b58-8922-cf75ad906ab3",
   "metadata": {},
   "source": [
    "The refractive index at a particular spectral line can be obtained with an additional level of indexing."
   ]
  },
  {
   "cell_type": "code",
   "execution_count": 9,
   "id": "596effcc-79d2-4132-adfc-7e7cc1f3e3aa",
   "metadata": {},
   "outputs": [
    {
     "data": {
      "text/plain": [
       "1.50157"
      ]
     },
     "execution_count": 9,
     "metadata": {},
     "output_type": "execute_result"
    }
   ],
   "source": [
    "fcd1_pd['refractive indices'][\"F'\"]"
   ]
  },
  {
   "cell_type": "raw",
   "id": "1e551a93-59c0-4806-b5c0-f290890ac0e2",
   "metadata": {},
   "source": [
    "Data can be returned in numpy arrays using the pandas conversion function :meth:`~pandas.Series.to_numpy`"
   ]
  },
  {
   "cell_type": "code",
   "execution_count": 10,
   "id": "41ba97cd-9f1c-4259-98a3-5f1ecd91a08f",
   "metadata": {},
   "outputs": [
    {
     "data": {
      "text/plain": [
       "array([1.48598, 1.48907, 1.49008, 1.49182, 1.493  , 1.49408, 1.49514,\n",
       "       1.49543, 1.49571, 1.49694, 1.497  , 1.49845, 1.50123, 1.50157,\n",
       "       1.50451, 1.50721, 1.51175])"
      ]
     },
     "execution_count": 10,
     "metadata": {},
     "output_type": "execute_result"
    }
   ],
   "source": [
    "indices = fcd1_pd['refractive indices'].to_numpy(dtype=float); indices"
   ]
  },
  {
   "cell_type": "raw",
   "id": "be82cd8e-6b37-40b0-bd85-71b0f2fa9d5e",
   "metadata": {},
   "source": [
    "Transmission data for 10mm thick samples is available."
   ]
  },
  {
   "cell_type": "code",
   "execution_count": 11,
   "id": "scenic-january",
   "metadata": {
    "tags": []
   },
   "outputs": [
    {
     "data": {
      "text/plain": [
       "data item\n",
       "2500      0.999\n",
       "2400.0    0.999\n",
       "2200.0    0.999\n",
       "2000.0    0.999\n",
       "1800.0    0.999\n",
       "1600.0    0.999\n",
       "1550.0    0.999\n",
       "1500.0    0.999\n",
       "1400.0    0.999\n",
       "1300.0    0.999\n",
       "1200.0    0.999\n",
       "1100      0.999\n",
       "1060.0    0.999\n",
       "1050.0    0.999\n",
       "1000.0    0.999\n",
       "950.0     0.999\n",
       "900.0     0.999\n",
       "850.0     0.999\n",
       "830.0     0.999\n",
       "800.0     0.999\n",
       "780.0     0.999\n",
       "750.0     0.999\n",
       "700       0.999\n",
       "650.0     0.998\n",
       "600.0     0.999\n",
       "550.0     0.999\n",
       "500.0     0.999\n",
       "480.0     0.999\n",
       "460.0     0.997\n",
       "440.0     0.997\n",
       "420.0     0.997\n",
       "400.0     0.995\n",
       "390.0     0.996\n",
       "380       0.995\n",
       "370.0      0.99\n",
       "360.0     0.972\n",
       "350.0     0.939\n",
       "340.0     0.878\n",
       "330.0     0.761\n",
       "320.0     0.586\n",
       "310.0     0.376\n",
       "300.0      0.19\n",
       "290.0     0.077\n",
       "280.0     0.027\n",
       "Name: FCD1, dtype: object"
      ]
     },
     "execution_count": 11,
     "metadata": {},
     "output_type": "execute_result"
    }
   ],
   "source": [
    "fcd1_pd['internal transmission mm, 10']"
   ]
  },
  {
   "cell_type": "raw",
   "id": "7f8f0271-4555-47c4-9eb7-7eda519adb9a",
   "metadata": {},
   "source": [
    "The transmission data may be plotted directly from the |Series| via :meth:`~pandas.Series.plot`"
   ]
  },
  {
   "cell_type": "code",
   "execution_count": 12,
   "id": "32eb7233-d33e-4815-9624-7a0e791b4abe",
   "metadata": {},
   "outputs": [
    {
     "data": {
      "text/plain": [
       "<AxesSubplot:xlabel='data item'>"
      ]
     },
     "execution_count": 12,
     "metadata": {},
     "output_type": "execute_result"
    },
    {
     "data": {
      "image/png": "[encoded data removed]",
      "text/plain": [
       "<Figure size 432x288 with 1 Axes>"
      ]
     },
     "metadata": {
      "needs_background": "light"
     },
     "output_type": "display_data"
    }
   ],
   "source": [
    "fcd1_pd['internal transmission mm, 10'].T.plot()"
   ]
  },
  {
   "cell_type": "raw",
   "id": "77326959-2531-45f0-ab20-e05808643fc6",
   "metadata": {},
   "source": [
    "All of the glasses in the catalog |DataFrame| may be plotted on the same graph."
   ]
  },
  {
   "cell_type": "code",
   "execution_count": 13,
   "id": "0eef9aa5-ed6a-4bac-8b4f-a935ceee22a9",
   "metadata": {},
   "outputs": [
    {
     "data": {
      "text/plain": [
       "<AxesSubplot:xlabel='data item'>"
      ]
     },
     "execution_count": 13,
     "metadata": {},
     "output_type": "execute_result"
    },
    {
     "data": {
      "image/png": "[encoded data removed]",
      "text/plain": [
       "<Figure size 432x288 with 1 Axes>"
      ]
     },
     "metadata": {
      "needs_background": "light"
     },
     "output_type": "display_data"
    }
   ],
   "source": [
    "hoya_df['internal transmission mm, 10'].T.plot(legend=False)"
   ]
  },
  {
   "cell_type": "raw",
   "id": "24b8ccd4-c335-471b-857c-c56948690645",
   "metadata": {},
   "source": [
    "Transmission data for a list of glasses can be plotted as well."
   ]
  },
  {
   "cell_type": "code",
   "execution_count": 14,
   "id": "romantic-mission",
   "metadata": {},
   "outputs": [
    {
     "data": {
      "text/plain": [
       "<AxesSubplot:xlabel='data item'>"
      ]
     },
     "execution_count": 14,
     "metadata": {},
     "output_type": "execute_result"
    },
    {
     "data": {
      "image/png": "[encoded data removed]",
      "text/plain": [
       "<Figure size 432x288 with 1 Axes>"
      ]
     },
     "metadata": {
      "needs_background": "light"
     },
     "output_type": "display_data"
    }
   ],
   "source": [
    "hoya_df.loc[['FCD1', 'E-F2']]['internal transmission mm, 10'].T.plot()"
   ]
  },
  {
   "cell_type": "raw",
   "id": "fcb25bd8-e446-4909-9822-0821ccc1b684",
   "metadata": {},
   "source": [
    "OpticalMedium subclasses\n",
    "------------------------\n",
    "\n",
    "The glass data |Series| gives access to all of the vendor's glass data, but doesn't address the important case of using the dispersion coefficients to calculate the refractive index at an arbitrary wavelength. This is provided by catalog-specific subclasses of :class:`~.opticalmedium.OpticalMedium`. "
   ]
  },
  {
   "cell_type": "code",
   "execution_count": 15,
   "id": "31f172ae-4fdf-4705-be0d-a9ebf7c01773",
   "metadata": {},
   "outputs": [],
   "source": [
    "fcd1 = create_glass('FCD1', 'Hoya')\n",
    "ef2 = create_glass('E-F2', 'Hoya')"
   ]
  },
  {
   "cell_type": "raw",
   "id": "9e4b1e15-0806-4c41-9510-f2e2902c0eb7",
   "metadata": {},
   "source": [
    "Compare measured values vs. the dispersion equation\n",
    "---------------------------------------------------\n",
    "\n",
    "Get the measured wavelengths. These are the indices of the ``'refractive indices'`` category"
   ]
  },
  {
   "cell_type": "code",
   "execution_count": 16,
   "id": "foreign-academy",
   "metadata": {},
   "outputs": [
    {
     "data": {
      "text/plain": [
       "Index([ 1529.6, 1128.64,     't',     's',    'A'',     'r',     'C',    'C'',\n",
       "       'He-Ne',     'D',     'd',     'e',     'F',    'F'',     'g',     'h',\n",
       "           'i'],\n",
       "      dtype='object', name='data item')"
      ]
     },
     "execution_count": 16,
     "metadata": {},
     "output_type": "execute_result"
    }
   ],
   "source": [
    "wvls = fcd1.glass_data()['refractive indices'].index; wvls"
   ]
  },
  {
   "cell_type": "raw",
   "id": "1bdaf45c-35e8-4a97-a2e5-97dd5df5bdda",
   "metadata": {},
   "source": [
    "The :meth:`~.opticalmedium.OpticalMedium.meas_rindex` method queries the refractive indices at the catalog wavelengths (the indices of the 'refractive indices' category).\n",
    "\n",
    "The :meth:`~.opticalmedium.OpticalMedium.rindex` method uses the 'dispersion coefficients' to calculate the refractive index at the specified wavelength.\n",
    "\n",
    "The following produces a table comparing the measured values to the output from the dispersion equation."
   ]
  },
  {
   "cell_type": "code",
   "execution_count": 17,
   "id": "fantastic-behalf",
   "metadata": {},
   "outputs": [
    {
     "name": "stdout",
     "output_type": "stream",
     "text": [
      " wvl     meas n   interp n    delta\n",
      "1529.6   1.48598   1.48598    -4e-06\n",
      "1128.64  1.48907   1.48907  -2.4e-06\n",
      "t        1.49008   1.49008    -2e-07\n",
      "s        1.49182   1.49182   4.9e-06\n",
      "A'       1.49300   1.49300   3.3e-06\n",
      "r        1.49408   1.49408  -4.9e-06\n",
      "C        1.49514   1.49514  -2.5e-06\n",
      "C'       1.49543   1.49543   4.1e-06\n",
      "He-Ne    1.49571   1.49571   9.4e-07\n",
      "D        1.49694   1.49694   2.9e-06\n",
      "d        1.49700   1.49700  -2.8e-06\n",
      "e        1.49845   1.49845   4.7e-07\n",
      "F        1.50123   1.50123  -2.5e-06\n",
      "F'       1.50157   1.50157   2.4e-06\n",
      "g        1.50451   1.50451  -8.7e-07\n",
      "h        1.50721   1.50721   1.2e-06\n",
      "i        1.51175   1.51175  -6.4e-07\n"
     ]
    }
   ],
   "source": [
    "print(\" wvl     meas n   interp n    delta\")\n",
    "for w_str in wvls:\n",
    "    n_line = fcd1.meas_rindex(w_str)\n",
    "    try:\n",
    "        n_intrp = fcd1.rindex(w_str)\n",
    "    except KeyError:\n",
    "        print(f'{w_str}: {n_line}, Key error')\n",
    "    else:\n",
    "        print(f'{str(w_str):7s} {n_line:8.5f}  {n_intrp:8.5f}  {n_intrp-n_line:8.2g}')"
   ]
  },
  {
   "cell_type": "raw",
   "id": "ee9e22f0-0a57-49b3-976e-250d2b99d1cd",
   "metadata": {},
   "source": [
    "An alternative way to create an glass object \n",
    "--------------------------------------------\n",
    "\n",
    "Call create_glass() on the glass catalog itself."
   ]
  },
  {
   "cell_type": "code",
   "execution_count": 18,
   "id": "interested-enlargement",
   "metadata": {},
   "outputs": [],
   "source": [
    "fcd1_v2 = hoya_pd.create_glass('FCD1', 'Hoya')"
   ]
  },
  {
   "cell_type": "code",
   "execution_count": 19,
   "id": "suitable-reading",
   "metadata": {},
   "outputs": [
    {
     "data": {
      "text/plain": [
       "1.50123"
      ]
     },
     "execution_count": 19,
     "metadata": {},
     "output_type": "execute_result"
    }
   ],
   "source": [
    "fcd1_v2.meas_rindex('F')"
   ]
  },
  {
   "cell_type": "code",
   "execution_count": 20,
   "id": "composite-restoration",
   "metadata": {},
   "outputs": [
    {
     "data": {
      "text/plain": [
       "'497.816'"
      ]
     },
     "execution_count": 20,
     "metadata": {},
     "output_type": "execute_result"
    }
   ],
   "source": [
    "fcd1_v2.glass_code()"
   ]
  },
  {
   "cell_type": "raw",
   "id": "20500b91-5c87-45f8-8736-1cd8e2391611",
   "metadata": {},
   "source": [
    "Plotting transmission data\n",
    "--------------------------\n",
    "\n",
    "The :meth:`~.glass.GlassPandas.transmission_data` method returns the material transmission data for a 10mm thick sample, as well as the sample wavelengths. The data may be passed directly into matplotlib plot routines."
   ]
  },
  {
   "cell_type": "code",
   "execution_count": 21,
   "id": "7b4abb0b-4933-496a-b8fe-204da3175f5b",
   "metadata": {},
   "outputs": [
    {
     "data": {
      "text/plain": [
       "[<matplotlib.lines.Line2D at 0x7f9148fcfac0>]"
      ]
     },
     "execution_count": 21,
     "metadata": {},
     "output_type": "execute_result"
    },
    {
     "data": {
      "image/png": "[encoded data removed]",
      "text/plain": [
       "<Figure size 432x288 with 1 Axes>"
      ]
     },
     "metadata": {
      "needs_background": "light"
     },
     "output_type": "display_data"
    }
   ],
   "source": [
    "plt.plot(*ef2.transmission_data())"
   ]
  },
  {
   "cell_type": "code",
   "execution_count": null,
   "id": "a513762c-c18b-4079-a695-49bb0e1badc2",
   "metadata": {},
   "outputs": [],
   "source": []
  }
 ],
 "metadata": {
  "kernelspec": {
   "display_name": "Python 3 (ipykernel)",
   "language": "python",
   "name": "python3"
  },
  "language_info": {
   "codemirror_mode": {
    "name": "ipython",
    "version": 3
   },
   "file_extension": ".py",
   "mimetype": "text/x-python",
   "name": "python",
   "nbconvert_exporter": "python",
   "pygments_lexer": "ipython3",
   "version": "3.8.13"
  }
 },
 "nbformat": 4,
 "nbformat_minor": 5
}
