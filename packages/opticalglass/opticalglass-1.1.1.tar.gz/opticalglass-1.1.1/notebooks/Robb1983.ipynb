{
 "cells": [
  {
   "cell_type": "code",
   "execution_count": 1,
   "metadata": {},
   "outputs": [],
   "source": [
    "#%matplotlib widget\n",
    "%matplotlib inline"
   ]
  },
  {
   "cell_type": "code",
   "execution_count": 2,
   "metadata": {},
   "outputs": [],
   "source": [
    "import os\n",
    "from pathlib import Path\n",
    "import matplotlib.pyplot as plt"
   ]
  },
  {
   "cell_type": "markdown",
   "metadata": {},
   "source": [
    "### format a better conforming file from poor OCR"
   ]
  },
  {
   "cell_type": "code",
   "execution_count": 7,
   "metadata": {},
   "outputs": [],
   "source": [
    "fmt = \"{:7s}  {:8s}  {:>10s}  {:>10s}  {:8s}  {:8s}  {:4s}\\n\"\n",
    "p_input = Path('/Users/Mike/Dropbox/Tech Papers/chromatic correction/robb1983_data_pp5.txt')\n",
    "p_out = Path('/Users/Mike/Dropbox/Tech Papers/chromatic correction/robb1983_data_pp6.txt')\n",
    "with p_input.open() as f_input, p_out.open('w') as f_out:\n",
    "    for line in f_input:\n",
    "        if line[0] == '#':\n",
    "            f_out.write(line)\n",
    "        else:\n",
    "            tokens = line.split()\n",
    "            num_tokens = len(tokens)\n",
    "            if num_tokens%7 == 0:\n",
    "                if num_tokens == 7:\n",
    "                    f_out.write(fmt.format(*tokens))\n",
    "                else:\n",
    "                    num_items = num_tokens//7\n",
    "                    token_iter = iter(tokens)\n",
    "                    out_lines = [[] for i in range(num_items)]\n",
    "                    for i in range(7):\n",
    "                        for ol in out_lines:\n",
    "                            ol.append(next(token_iter))\n",
    "                    for ol in out_lines:\n",
    "                        f_out.write(fmt.format(*ol))\n",
    "            else:\n",
    "                print(len(tokens))\n",
    "                f_out.write(line)\n"
   ]
  },
  {
   "cell_type": "markdown",
   "metadata": {},
   "source": [
    "### process the formatted file in the as published form, i.e. with invalid scientific floating point formatting"
   ]
  },
  {
   "cell_type": "code",
   "execution_count": 4,
   "metadata": {},
   "outputs": [],
   "source": [
    "n = []\n",
    "nu1 = []\n",
    "nu2 = []\n",
    "name = []\n",
    "cat = []\n",
    "with p_out.open() as f_input:\n",
    "    for line in f_input:\n",
    "        if line[0] == '#':\n",
    "            if line[1] != '-' and line[1] != 'G' and line[1] != 'T':\n",
    "                tokens = line[1:].split()\n",
    "                catalog = tokens[0]\n",
    "        else:\n",
    "            tokens = line.split()\n",
    "            num_tokens = len(tokens)\n",
    "            if num_tokens == 7:\n",
    "                name.append(tokens[0])\n",
    "                try:\n",
    "                    n.append(float(tokens[1]))\n",
    "                except ValueError:\n",
    "                    print('n_str', catalog, tokens[0], tokens[1])\n",
    "                    continue\n",
    "                else:\n",
    "                    try:\n",
    "                        nu1_str = tokens[2][:-3] + 'E' + tokens[2][-3:]\n",
    "                        nu1.append(float(nu1_str))\n",
    "                    except ValueError:\n",
    "                        print('nu1_str', catalog, tokens[0], nu1_str)\n",
    "                        continue\n",
    "                    else:\n",
    "                        try:\n",
    "                            nu2_str = tokens[3][:-3] + 'E' + tokens[3][-3:]\n",
    "                            nu2.append(float(nu2_str))\n",
    "                        except ValueError:\n",
    "                            print('nu2_str', catalog, tokens[0], nu2_str)\n",
    "                            continue\n",
    "                        else:\n",
    "                            cat.append(catalog)\n",
    "            else:\n",
    "                print(len(tokens))\n",
    "                f_out.write(line)"
   ]
  },
  {
   "cell_type": "markdown",
   "metadata": {},
   "source": [
    "### reformat file to use valid floating point input"
   ]
  },
  {
   "cell_type": "code",
   "execution_count": 8,
   "metadata": {},
   "outputs": [],
   "source": [
    "fmt = \"{:7s}  {:8s}  {:>11s}  {:>11s}  {:8s}  {:8s}  {:4s}\\n\"\n",
    "p_input = Path('/Users/Mike/Dropbox/Tech Papers/chromatic correction/robb1983_data_pp6.txt')\n",
    "p_out = Path('/Users/Mike/Dropbox/Tech Papers/chromatic correction/robb1983_data_final.txt')\n",
    "with p_input.open() as f_input, p_out.open('w') as f_out:\n",
    "    for line in f_input:\n",
    "        if line[0] == '#':\n",
    "            f_out.write(line)\n",
    "        else:\n",
    "            tokens = line.split()\n",
    "            tokens[2] = tokens[2][:-3] + 'E' + tokens[2][-3:]\n",
    "            tokens[3] = tokens[3][:-3] + 'E' + tokens[3][-3:]\n",
    "            f_out.write(fmt.format(*tokens))"
   ]
  },
  {
   "cell_type": "markdown",
   "metadata": {},
   "source": [
    "### read the reformatted file "
   ]
  },
  {
   "cell_type": "code",
   "execution_count": 5,
   "metadata": {},
   "outputs": [],
   "source": [
    "n = []\n",
    "nu1 = []\n",
    "nu2 = []\n",
    "name = []\n",
    "cat = []\n",
    "with p_out.open() as f_input:\n",
    "    for line in f_input:\n",
    "        if line[0] == '#':\n",
    "            if 'GLASS CATALOGUE' in line:\n",
    "                tokens = line[1:].split()\n",
    "                catalog = tokens[0]\n",
    "        else:\n",
    "            tokens = line.split()\n",
    "            name.append(tokens[0])\n",
    "            n.append(float(tokens[1]))\n",
    "            nu1.append(float(tokens[2]))\n",
    "            nu2.append(float(tokens[3]))\n",
    "            cat.append(catalog)"
   ]
  },
  {
   "cell_type": "code",
   "execution_count": 6,
   "metadata": {},
   "outputs": [
    {
     "data": {
      "text/plain": [
       "['SCHOTT',\n",
       " 'SCHOTT',\n",
       " 'SCHOTT',\n",
       " 'SCHOTT',\n",
       " 'SCHOTT',\n",
       " 'SCHOTT',\n",
       " 'SCHOTT',\n",
       " 'SCHOTT',\n",
       " 'SCHOTT',\n",
       " 'SCHOTT',\n",
       " 'SCHOTT',\n",
       " 'SCHOTT',\n",
       " 'OHARA',\n",
       " 'OHARA',\n",
       " 'OHARA',\n",
       " 'OHARA',\n",
       " 'OHARA',\n",
       " 'OHARA',\n",
       " 'OHARA',\n",
       " 'OHARA',\n",
       " 'OHARA',\n",
       " 'OHARA',\n",
       " 'OHARA',\n",
       " 'OHARA',\n",
       " 'HOYA',\n",
       " 'HOYA',\n",
       " 'HOYA',\n",
       " 'HOYA',\n",
       " 'HOYA',\n",
       " 'HOYA',\n",
       " 'HOYA',\n",
       " 'HOYA',\n",
       " 'HOYA',\n",
       " 'HOYA',\n",
       " 'CORNING-FRANCE',\n",
       " 'CORNING-FRANCE',\n",
       " 'CORNING-FRANCE',\n",
       " 'CORNING-FRANCE',\n",
       " 'CHANCE',\n",
       " 'CHANCE',\n",
       " 'CHANCE']"
      ]
     },
     "execution_count": 6,
     "metadata": {},
     "output_type": "execute_result"
    }
   ],
   "source": [
    "cat[::20]"
   ]
  },
  {
   "cell_type": "code",
   "execution_count": null,
   "metadata": {},
   "outputs": [],
   "source": [
    "glist = [()]"
   ]
  },
  {
   "cell_type": "code",
   "execution_count": 23,
   "metadata": {},
   "outputs": [],
   "source": [
    "nu1_s = []\n",
    "nu2_s = []\n",
    "for i, c in enumerate(cat):\n",
    "    if c == 'SCHOTT':\n",
    "#        if nu1[i]>-0.125 and nu2[i]>0.05:\n",
    "#            print(i,name[i],cat[i])\n",
    "#            continue\n",
    "        nu1_s.append(nu1[i])\n",
    "        nu2_s.append(nu2[i])\n",
    "#        if nu1[i] < -1000:\n",
    "#            print(i,name[i],cat[i])"
   ]
  },
  {
   "cell_type": "code",
   "execution_count": 24,
   "metadata": {},
   "outputs": [],
   "source": [
    "nu1_o = []\n",
    "nu2_o = []\n",
    "for i, c in enumerate(cat):\n",
    "    if c == 'OHARA':\n",
    "        nu1_o.append(nu1[i])\n",
    "        nu2_o.append(nu2[i])\n",
    "        if nu1[i] < -1000:\n",
    "            print(i,name[i],cat[i])"
   ]
  },
  {
   "cell_type": "code",
   "execution_count": 25,
   "metadata": {},
   "outputs": [],
   "source": [
    "nu1_cf = []\n",
    "nu2_cf = []\n",
    "for i, c in enumerate(cat):\n",
    "    if c == 'CORNING-FRANCE':\n",
    "        nu1_cf.append(nu1[i])\n",
    "        nu2_cf.append(nu2[i])\n",
    "        if nu1[i] > 0:\n",
    "            print(i,name[i],cat[i])"
   ]
  },
  {
   "cell_type": "code",
   "execution_count": 26,
   "metadata": {},
   "outputs": [],
   "source": [
    "nu1_ch = []\n",
    "nu2_ch = []\n",
    "for i, c in enumerate(cat):\n",
    "    if c == 'CHANCE':\n",
    "        nu1_ch.append(nu1[i])\n",
    "        nu2_ch.append(nu2[i])\n",
    "        if nu1[i] > 0:\n",
    "            print(i,name[i],cat[i])"
   ]
  },
  {
   "cell_type": "code",
   "execution_count": 27,
   "metadata": {},
   "outputs": [],
   "source": [
    "nu1_h = []\n",
    "nu2_h = []\n",
    "for i, c in enumerate(cat):\n",
    "    if c == 'HOYA':\n",
    "#        if nu1[i]>-0.0375:\n",
    "#            print(i,name[i],cat[i])\n",
    "#            continue\n",
    "        nu1_h.append(nu1[i])\n",
    "        nu2_h.append(nu2[i])\n"
   ]
  },
  {
   "cell_type": "code",
   "execution_count": 28,
   "metadata": {},
   "outputs": [
    {
     "data": {
      "image/png": "[encoded data removed]",
      "text/plain": [
       "<Figure size 432x288 with 1 Axes>"
      ]
     },
     "metadata": {
      "needs_background": "light"
     },
     "output_type": "display_data"
    }
   ],
   "source": [
    "plt.plot(nu2_s, nu1_s, 'o', label='Schott glasses')\n",
    "#plt.plot(nu2_o, nu1_o, '+', label='Ohara glasses')\n",
    "#plt.plot(nu2_h, nu1_h, 's', label='Hoya glasses')\n",
    "#plt.plot(nu2_cf, nu1_cf, 'x', label='Corning-France glasses')\n",
    "#plt.plot(nu2_ch, nu1_ch, '*', label='Chance glasses')\n",
    "plt.legend()\n",
    "plt.show()"
   ]
  },
  {
   "cell_type": "code",
   "execution_count": 11,
   "metadata": {},
   "outputs": [
    {
     "data": {
      "text/plain": [
       "-0.059555"
      ]
     },
     "execution_count": 11,
     "metadata": {},
     "output_type": "execute_result"
    }
   ],
   "source": [
    "nu1[73]"
   ]
  },
  {
   "cell_type": "code",
   "execution_count": 20,
   "metadata": {},
   "outputs": [
    {
     "data": {
      "text/plain": [
       "['GLASS',\n",
       " 'GLASS',\n",
       " 'GLASS',\n",
       " 'GLASS',\n",
       " 'GLASS',\n",
       " 'GLASS',\n",
       " 'GLASS',\n",
       " 'GLASS',\n",
       " 'GLASS',\n",
       " 'GLASS',\n",
       " 'GLASS',\n",
       " 'GLASS',\n",
       " 'GLASS',\n",
       " 'GLASS',\n",
       " 'GLASS',\n",
       " 'GLASS',\n",
       " 'GLASS',\n",
       " 'GLASS',\n",
       " 'GLASS',\n",
       " 'GLASS',\n",
       " 'GLASS',\n",
       " 'GLASS',\n",
       " 'GLASS',\n",
       " 'GLASS',\n",
       " 'GLASS',\n",
       " 'GLASS',\n",
       " 'GLASS',\n",
       " 'GLASS',\n",
       " 'GLASS',\n",
       " 'GLASS',\n",
       " 'GLASS',\n",
       " 'GLASS',\n",
       " 'GLASS',\n",
       " 'GLASS',\n",
       " 'GLASS',\n",
       " 'GLASS',\n",
       " 'GLASS',\n",
       " 'GLASS',\n",
       " 'GLASS',\n",
       " 'GLASS',\n",
       " 'GLASS']"
      ]
     },
     "execution_count": 20,
     "metadata": {},
     "output_type": "execute_result"
    }
   ],
   "source": [
    "cat[::20]"
   ]
  },
  {
   "cell_type": "code",
   "execution_count": null,
   "metadata": {},
   "outputs": [],
   "source": []
  }
 ],
 "metadata": {
  "kernelspec": {
   "display_name": "Python 3",
   "language": "python",
   "name": "python3"
  },
  "language_info": {
   "codemirror_mode": {
    "name": "ipython",
    "version": 3
   },
   "file_extension": ".py",
   "mimetype": "text/x-python",
   "name": "python",
   "nbconvert_exporter": "python",
   "pygments_lexer": "ipython3",
   "version": "3.7.7"
  }
 },
 "nbformat": 4,
 "nbformat_minor": 4
}
