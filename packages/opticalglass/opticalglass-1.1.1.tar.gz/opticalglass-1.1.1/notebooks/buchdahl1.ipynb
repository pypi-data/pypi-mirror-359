{
 "cells": [
  {
   "cell_type": "code",
   "execution_count": 1,
   "metadata": {},
   "outputs": [],
   "source": [
    "%matplotlib inline\n",
    "#%matplotlib widget"
   ]
  },
  {
   "cell_type": "code",
   "execution_count": 2,
   "metadata": {},
   "outputs": [],
   "source": [
    "from importlib import reload\n",
    "import math\n",
    "import numpy as np\n",
    "from scipy import stats\n",
    "import matplotlib.pyplot as plt\n",
    "\n",
    "from opticalglass.spectral_lines import get_wavelength\n",
    "import opticalglass.glassfactory as gfact\n",
    "import opticalglass.glassmap as gmap\n",
    "import opticalglass.buchdahl as buchdahl\n",
    "from opticalglass.buchdahl import get_wv, omega, omega2wvl\n",
    "import opticalglass.schott as schott\n",
    "import opticalglass.glass as glass\n",
    "import opticalglass.modelglass as mg\n",
    "import opticalglass.util as util"
   ]
  },
  {
   "cell_type": "code",
   "execution_count": 3,
   "metadata": {},
   "outputs": [],
   "source": [
    "def rindex(data, wvl):\n",
    "    base, coefs = data\n",
    "    wl0, rind0 = base\n",
    "    om = omega(get_wv(wvl) - get_wv(wl0))\n",
    "    return rind0 + coefs[0]*om + coefs[1]*om**2"
   ]
  },
  {
   "cell_type": "code",
   "execution_count": 4,
   "metadata": {},
   "outputs": [
    {
     "data": {
      "text/plain": [
       "0.05863804688051722"
      ]
     },
     "execution_count": 4,
     "metadata": {},
     "output_type": "execute_result"
    }
   ],
   "source": [
    "omC=omega(get_wv('C')-get_wv('d')); omC"
   ]
  },
  {
   "cell_type": "code",
   "execution_count": 5,
   "metadata": {},
   "outputs": [
    {
     "data": {
      "text/plain": [
       "-0.13588611616202362"
      ]
     },
     "execution_count": 5,
     "metadata": {},
     "output_type": "execute_result"
    }
   ],
   "source": [
    "omF=omega(get_wv('F')-get_wv('d')); omF"
   ]
  },
  {
   "cell_type": "code",
   "execution_count": 6,
   "metadata": {},
   "outputs": [
    {
     "data": {
      "text/plain": [
       "0.6562725"
      ]
     },
     "execution_count": 6,
     "metadata": {},
     "output_type": "execute_result"
    }
   ],
   "source": [
    "wlC = omega2wvl(omC) + get_wv('d'); wlC"
   ]
  },
  {
   "cell_type": "code",
   "execution_count": 7,
   "metadata": {},
   "outputs": [
    {
     "data": {
      "text/plain": [
       "0.48613270000000003"
      ]
     },
     "execution_count": 7,
     "metadata": {},
     "output_type": "execute_result"
    }
   ],
   "source": [
    "wlF = omega2wvl(omF) + get_wv('d'); wlF"
   ]
  },
  {
   "cell_type": "code",
   "execution_count": 8,
   "metadata": {},
   "outputs": [],
   "source": [
    "bk7 = gfact.create_glass('N-BK7', 'Schott')"
   ]
  },
  {
   "cell_type": "code",
   "execution_count": 9,
   "metadata": {},
   "outputs": [],
   "source": [
    "rind_bk7 = [bk7.rindex('F'), bk7.rindex('d'), bk7.rindex('C')]"
   ]
  },
  {
   "cell_type": "code",
   "execution_count": 10,
   "metadata": {},
   "outputs": [
    {
     "data": {
      "text/plain": [
       "[1.5223762897312285, 1.5168000345005885, 1.5143223472613747]"
      ]
     },
     "execution_count": 10,
     "metadata": {},
     "output_type": "execute_result"
    }
   ],
   "source": [
    "rind_bk7"
   ]
  },
  {
   "cell_type": "code",
   "execution_count": 11,
   "metadata": {},
   "outputs": [],
   "source": [
    "a = np.array([[omF, omF**2], [omC, omC**2]])"
   ]
  },
  {
   "cell_type": "code",
   "execution_count": 12,
   "metadata": {},
   "outputs": [],
   "source": [
    "b = np.array([rind_bk7[0]-rind_bk7[1], rind_bk7[2]-rind_bk7[1]])"
   ]
  },
  {
   "cell_type": "code",
   "execution_count": 13,
   "metadata": {},
   "outputs": [
    {
     "data": {
      "text/plain": [
       "(array([[-0.13588612,  0.01846504],\n",
       "        [ 0.05863805,  0.00343842]]),\n",
       " array([ 0.00557626, -0.00247769]))"
      ]
     },
     "execution_count": 13,
     "metadata": {},
     "output_type": "execute_result"
    }
   ],
   "source": [
    "a, b"
   ]
  },
  {
   "cell_type": "code",
   "execution_count": 14,
   "metadata": {},
   "outputs": [],
   "source": [
    "coefs = np.linalg.solve(a, b)"
   ]
  },
  {
   "cell_type": "code",
   "execution_count": 15,
   "metadata": {},
   "outputs": [],
   "source": [
    "data = ((get_wavelength('d'), rind_bk7[1]), coefs)"
   ]
  },
  {
   "cell_type": "code",
   "execution_count": 16,
   "metadata": {},
   "outputs": [],
   "source": [
    "bcc_index = np.array([rindex(data, wvl) for wvl in range(450, 700, 5)])"
   ]
  },
  {
   "cell_type": "code",
   "execution_count": 17,
   "metadata": {},
   "outputs": [],
   "source": [
    "cat_index = np.array([bk7.rindex(wvl) for wvl in range(450, 700, 5)])"
   ]
  },
  {
   "cell_type": "code",
   "execution_count": 18,
   "metadata": {},
   "outputs": [
    {
     "data": {
      "image/png": "[encoded data removed]",
      "text/plain": [
       "<Figure size 432x288 with 1 Axes>"
      ]
     },
     "metadata": {
      "needs_background": "light"
     },
     "output_type": "display_data"
    }
   ],
   "source": [
    "wl = np.arange(450, 700, 5)\n",
    "plt.plot(wl, cat_index, wl, bcc_index)\n",
    "plt.show()"
   ]
  },
  {
   "cell_type": "code",
   "execution_count": 19,
   "metadata": {},
   "outputs": [
    {
     "data": {
      "image/png": "[encoded data removed]",
      "text/plain": [
       "<Figure size 432x288 with 1 Axes>"
      ]
     },
     "metadata": {
      "needs_background": "light"
     },
     "output_type": "display_data"
    }
   ],
   "source": [
    "plt.plot(wl, cat_index-bcc_index)\n",
    "plt.show()"
   ]
  },
  {
   "cell_type": "markdown",
   "metadata": {},
   "source": [
    "# Calculate a model from glass catalog data"
   ]
  },
  {
   "cell_type": "code",
   "execution_count": 20,
   "metadata": {},
   "outputs": [],
   "source": [
    "def calc_glass_constants(g):\n",
    "    nd = g.rindex('d')\n",
    "    nF = g.rindex('F')\n",
    "    nC = g.rindex('C')\n",
    "    dFC = nF-nC\n",
    "    vd = (nd - 1.0)/dFC\n",
    "    PCd = (nd-nC)/dFC\n",
    "    return vd, PCd"
   ]
  },
  {
   "cell_type": "code",
   "execution_count": 21,
   "metadata": {},
   "outputs": [],
   "source": [
    "glasses = gmap.GlassMapDB()"
   ]
  },
  {
   "cell_type": "code",
   "execution_count": 22,
   "metadata": {},
   "outputs": [],
   "source": [
    "v1 = None\n",
    "v2 = None\n",
    "for i, display in enumerate(glasses.catalogs):\n",
    "    n, v, p, c0, c1, lbl = glasses.get_data_at(i)\n",
    "    dsLabel = glasses.get_data_set_label_at(i)\n",
    "    if v1 is None:\n",
    "        v1 = np.array(c0)\n",
    "    else:\n",
    "        np.append(c0, v1)\n",
    "    if v2 is None:\n",
    "        v2 = np.array(c1)\n",
    "    else:\n",
    "        np.append(c1, v2)"
   ]
  },
  {
   "cell_type": "code",
   "execution_count": 23,
   "metadata": {},
   "outputs": [],
   "source": [
    "slope, intercept, r_value, p_value, std_err = stats.linregress(v2, v1)"
   ]
  },
  {
   "cell_type": "code",
   "execution_count": 24,
   "metadata": {},
   "outputs": [
    {
     "name": "stdout",
     "output_type": "stream",
     "text": [
      "slope: -1.657933    intercept: -0.063092\n",
      "R-squared: 0.927044\n"
     ]
    }
   ],
   "source": [
    "print(\"slope: %f    intercept: %f\" % (slope, intercept))\n",
    "print(\"R-squared: %f\" % r_value**2)"
   ]
  },
  {
   "cell_type": "code",
   "execution_count": 25,
   "metadata": {},
   "outputs": [
    {
     "data": {
      "image/png": "[encoded data removed]",
      "text/plain": [
       "<Figure size 432x288 with 1 Axes>"
      ]
     },
     "metadata": {
      "needs_background": "light"
     },
     "output_type": "display_data"
    }
   ],
   "source": [
    "plt.plot(v2, v1, 'o', label='catalog glasses')\n",
    "plt.plot(v2, intercept + slope*v2, 'r', label='fitted model')\n",
    "plt.legend()\n",
    "plt.show()"
   ]
  },
  {
   "cell_type": "code",
   "execution_count": 26,
   "metadata": {},
   "outputs": [],
   "source": [
    "schott_cat = schott.SchottCatalog()"
   ]
  },
  {
   "cell_type": "code",
   "execution_count": 27,
   "metadata": {},
   "outputs": [],
   "source": [
    "schott_data = schott_cat.glass_map_data()"
   ]
  },
  {
   "cell_type": "code",
   "execution_count": 28,
   "metadata": {},
   "outputs": [],
   "source": [
    "m, b, r_value, p_value, std_err = stats.linregress(schott_data[4], schott_data[3])"
   ]
  },
  {
   "cell_type": "code",
   "execution_count": 29,
   "metadata": {},
   "outputs": [
    {
     "name": "stdout",
     "output_type": "stream",
     "text": [
      "slope: -1.657933    intercept: -0.063092\n",
      "R-squared: 0.927044\n"
     ]
    }
   ],
   "source": [
    "print(\"slope: %f    intercept: %f\" % (m, b))\n",
    "print(\"R-squared: %f\" % r_value**2)"
   ]
  },
  {
   "cell_type": "code",
   "execution_count": 30,
   "metadata": {},
   "outputs": [
    {
     "data": {
      "image/png": "[encoded data removed]",
      "text/plain": [
       "<Figure size 432x288 with 1 Axes>"
      ]
     },
     "metadata": {
      "needs_background": "light"
     },
     "output_type": "display_data"
    }
   ],
   "source": [
    "plt.plot(schott_data[4], schott_data[3], 'o', label='catalog glasses')\n",
    "plt.plot(schott_data[4], b + m*schott_data[4], 'r', label='fitted model')\n",
    "plt.legend()\n",
    "plt.show()"
   ]
  },
  {
   "cell_type": "code",
   "execution_count": 31,
   "metadata": {},
   "outputs": [],
   "source": [
    "bk7 = gfact.create_glass('N-BK7', 'Schott')\n",
    "bk7_mod1 = buchdahl.Buchdahl1(bk7)\n",
    "bk7_mod2a = buchdahl.Buchdahl2(1.5168, 64.7)\n",
    "bk7_mod2b = buchdahl.Buchdahl2(1.5168, 64.7, model=(b, m))"
   ]
  },
  {
   "cell_type": "code",
   "execution_count": 32,
   "metadata": {},
   "outputs": [
    {
     "data": {
      "text/plain": [
       "(1.5223762897312285, 1.521932057689993, 1.5219761743516536)"
      ]
     },
     "execution_count": 32,
     "metadata": {},
     "output_type": "execute_result"
    }
   ],
   "source": [
    "bk7.rindex('F'), bk7_mod2a.rindex('F'), bk7_mod2b.rindex('F')"
   ]
  },
  {
   "cell_type": "code",
   "execution_count": 33,
   "metadata": {},
   "outputs": [
    {
     "data": {
      "text/plain": [
       "(0.0, 0.0)"
      ]
     },
     "execution_count": 33,
     "metadata": {},
     "output_type": "execute_result"
    }
   ],
   "source": [
    "bk7_mod1.rindex('F')-bk7.rindex('F'), bk7_mod1.rindex('F')-bk7.rindex('F')"
   ]
  },
  {
   "cell_type": "code",
   "execution_count": 34,
   "metadata": {},
   "outputs": [
    {
     "data": {
      "text/plain": [
       "(-0.00044423204123544835, -0.00040011537957496124)"
      ]
     },
     "execution_count": 34,
     "metadata": {},
     "output_type": "execute_result"
    }
   ],
   "source": [
    "bk7_mod2a.rindex('F')-bk7.rindex('F'), bk7_mod2b.rindex('F')-bk7.rindex('F')"
   ]
  },
  {
   "cell_type": "code",
   "execution_count": 35,
   "metadata": {},
   "outputs": [
    {
     "data": {
      "text/plain": [
       "(68.69593018428556, 0.31781834989648855)"
      ]
     },
     "execution_count": 35,
     "metadata": {},
     "output_type": "execute_result"
    }
   ],
   "source": [
    "calc_glass_constants(bk7_mod2a)"
   ]
  },
  {
   "cell_type": "code",
   "execution_count": 36,
   "metadata": {},
   "outputs": [
    {
     "data": {
      "text/plain": [
       "(68.28043080164775, 0.31611568375512855)"
      ]
     },
     "execution_count": 36,
     "metadata": {},
     "output_type": "execute_result"
    }
   ],
   "source": [
    "calc_glass_constants(bk7_mod2b)"
   ]
  },
  {
   "cell_type": "code",
   "execution_count": 37,
   "metadata": {},
   "outputs": [
    {
     "data": {
      "text/plain": [
       "(64.1673362374998, 0.30763657034898056)"
      ]
     },
     "execution_count": 37,
     "metadata": {},
     "output_type": "execute_result"
    }
   ],
   "source": [
    "calc_glass_constants(bk7_mod1)"
   ]
  },
  {
   "cell_type": "code",
   "execution_count": 38,
   "metadata": {},
   "outputs": [
    {
     "data": {
      "text/plain": [
       "(-0.9628312984980117, 1.2330322894690326e-70, 0.042281888437910295)"
      ]
     },
     "execution_count": 38,
     "metadata": {},
     "output_type": "execute_result"
    }
   ],
   "source": [
    "r_value, p_value, std_err"
   ]
  },
  {
   "cell_type": "code",
   "execution_count": 39,
   "metadata": {},
   "outputs": [],
   "source": [
    "r, p = stats.pearsonr(schott_data[4], schott_data[3])"
   ]
  },
  {
   "cell_type": "code",
   "execution_count": 40,
   "metadata": {},
   "outputs": [
    {
     "data": {
      "text/plain": [
       "(-0.962831298498012, 1.2330322894685598e-70)"
      ]
     },
     "execution_count": 40,
     "metadata": {},
     "output_type": "execute_result"
    }
   ],
   "source": [
    "r,p"
   ]
  },
  {
   "cell_type": "code",
   "execution_count": 41,
   "metadata": {},
   "outputs": [
    {
     "data": {
      "text/plain": [
       "(-0.9628312984980117, 1.2330322894690326e-70)"
      ]
     },
     "execution_count": 41,
     "metadata": {},
     "output_type": "execute_result"
    }
   ],
   "source": [
    "r_value, p_value"
   ]
  },
  {
   "cell_type": "code",
   "execution_count": 42,
   "metadata": {},
   "outputs": [],
   "source": [
    "sf6 = gfact.create_glass('N-SF6', 'Schott')"
   ]
  },
  {
   "cell_type": "code",
   "execution_count": 43,
   "metadata": {},
   "outputs": [],
   "source": [
    "sf6_mod1 = buchdahl.Buchdahl1(sf6)\n",
    "sf6_mod2a = buchdahl.Buchdahl2(1.8052, 25.36)\n",
    "sf6_mod2b = buchdahl.Buchdahl2(1.8052, 25.36, model=(b, m))"
   ]
  },
  {
   "cell_type": "code",
   "execution_count": 44,
   "metadata": {},
   "outputs": [],
   "source": [
    "model_bk7_sf6 = mg.model_from_glasses(bk7, sf6)"
   ]
  },
  {
   "cell_type": "code",
   "execution_count": 45,
   "metadata": {},
   "outputs": [
    {
     "data": {
      "text/plain": [
       "(-0.053099551406849715, -1.7912280320568652)"
      ]
     },
     "execution_count": 45,
     "metadata": {},
     "output_type": "execute_result"
    }
   ],
   "source": [
    "model_bk7_sf6"
   ]
  },
  {
   "cell_type": "code",
   "execution_count": 46,
   "metadata": {},
   "outputs": [
    {
     "data": {
      "image/png": "[encoded data removed]",
      "text/plain": [
       "<Figure size 432x288 with 1 Axes>"
      ]
     },
     "metadata": {
      "needs_background": "light"
     },
     "output_type": "display_data"
    }
   ],
   "source": [
    "#plt.plot(schott_data[1], schott_data[3], 'o', label='Buchdahl v1')\n",
    "plt.plot(schott_data[1], schott_data[4], 's', label='Buchdahl v2')\n",
    "#plt.plot(schott_data[1], model_bk7_sf6[0] + model_bk7_sf6[1]*schott_data[4], 'r', label='fitted model')\n",
    "#plt.axes.invert_xaxis()\n",
    "plt.legend()\n",
    "plt.show()"
   ]
  },
  {
   "cell_type": "code",
   "execution_count": 47,
   "metadata": {},
   "outputs": [
    {
     "data": {
      "text/plain": [
       "0.01626635430120273"
      ]
     },
     "execution_count": 47,
     "metadata": {},
     "output_type": "execute_result"
    }
   ],
   "source": [
    "schott_data[4][0]"
   ]
  },
  {
   "cell_type": "code",
   "execution_count": 48,
   "metadata": {},
   "outputs": [
    {
     "data": {
      "image/png": "[encoded data removed]",
      "text/plain": [
       "<Figure size 432x288 with 1 Axes>"
      ]
     },
     "metadata": {
      "needs_background": "light"
     },
     "output_type": "display_data"
    }
   ],
   "source": [
    "plt.plot(v2, v1, 'o', label='catalog glasses')\n",
    "plt.plot(v2, model_bk7_sf6[0] + model_bk7_sf6[1]*v2, 'r', label='fitted model')\n",
    "#plt.plot(schott_data[4], schott_data[3], 'o', label='catalog glasses')\n",
    "#plt.plot(schott_data[4], model_bk7_sf6[0] + model_bk7_sf6[1]*schott_data[4], 'r', label='fitted model')\n",
    "plt.legend()\n",
    "plt.show()"
   ]
  },
  {
   "cell_type": "code",
   "execution_count": 49,
   "metadata": {},
   "outputs": [],
   "source": [
    "bk7_mod2c = buchdahl.Buchdahl2(1.5168, 64.7, model=(model_bk7_sf6))"
   ]
  },
  {
   "cell_type": "code",
   "execution_count": 50,
   "metadata": {},
   "outputs": [
    {
     "data": {
      "text/plain": [
       "(-0.00044423204123544835, -0.00040011537957496124, -0.00019987253609055067)"
      ]
     },
     "execution_count": 50,
     "metadata": {},
     "output_type": "execute_result"
    }
   ],
   "source": [
    "bk7_mod2a.rindex('F')-bk7.rindex('F'), bk7_mod2b.rindex('F')-bk7.rindex('F'), bk7_mod2c.rindex('F')-bk7.rindex('F')"
   ]
  },
  {
   "cell_type": "code",
   "execution_count": 51,
   "metadata": {},
   "outputs": [],
   "source": [
    "sf6_mod2c = buchdahl.Buchdahl2(1.8052, 25.36, model=(model_bk7_sf6))"
   ]
  },
  {
   "cell_type": "code",
   "execution_count": 52,
   "metadata": {},
   "outputs": [
    {
     "data": {
      "text/plain": [
       "(0.0, 0.0)"
      ]
     },
     "execution_count": 52,
     "metadata": {},
     "output_type": "execute_result"
    }
   ],
   "source": [
    "sf6_mod1.rindex('F')-sf6.rindex('F'), sf6_mod1.rindex('F')-sf6.rindex('F')"
   ]
  },
  {
   "cell_type": "code",
   "execution_count": 53,
   "metadata": {},
   "outputs": [
    {
     "data": {
      "text/plain": [
       "(0.0014200274898692467, 0.0013851486773386323, 0.0014113229992955834)"
      ]
     },
     "execution_count": 53,
     "metadata": {},
     "output_type": "execute_result"
    }
   ],
   "source": [
    "sf6_mod2a.rindex('F')-sf6.rindex('F'), sf6_mod2b.rindex('F')-sf6.rindex('F'), sf6_mod2c.rindex('F')-sf6.rindex('F')"
   ]
  },
  {
   "cell_type": "code",
   "execution_count": 54,
   "metadata": {},
   "outputs": [
    {
     "data": {
      "text/plain": [
       "{'b': -0.06309227969936954,\n",
       " 'm': -1.6579333920474613,\n",
       " 'om': (-0.13588611616202362,\n",
       "  0.05863804688051722,\n",
       "  -0.19452416304254083,\n",
       "  0.015026616023637243),\n",
       " 'wv0': 0.5875617999999999,\n",
       " 'rind0': 1.8052,\n",
       " 'coefs': array([-0.16811623,  0.0633463 ]),\n",
       " 'label': '',\n",
       " '_catalog_name': ''}"
      ]
     },
     "execution_count": 54,
     "metadata": {},
     "output_type": "execute_result"
    }
   ],
   "source": [
    "vars(sf6_mod2b)"
   ]
  },
  {
   "cell_type": "code",
   "execution_count": 55,
   "metadata": {},
   "outputs": [
    {
     "data": {
      "text/plain": [
       "{'om': (-0.13588611616202362, 0.05863804688051722),\n",
       " 'wv0': 0.5875617999999999,\n",
       " 'rind0': 1.8051801846158335,\n",
       " 'coefs': array([-0.15866786,  0.05893628]),\n",
       " 'label': '',\n",
       " '_catalog_name': ''}"
      ]
     },
     "execution_count": 55,
     "metadata": {},
     "output_type": "execute_result"
    }
   ],
   "source": [
    "vars(sf6_mod1)"
   ]
  },
  {
   "cell_type": "code",
   "execution_count": 56,
   "metadata": {},
   "outputs": [
    {
     "data": {
      "text/plain": [
       "{'om': (-0.13588611616202362, 0.05863804688051722),\n",
       " 'wv0': 0.5875617999999999,\n",
       " 'rind0': 1.5168000345005885,\n",
       " 'coefs': array([-0.04188686, -0.00625978]),\n",
       " 'label': '',\n",
       " '_catalog_name': ''}"
      ]
     },
     "execution_count": 56,
     "metadata": {},
     "output_type": "execute_result"
    }
   ],
   "source": [
    "vars(bk7_mod1)"
   ]
  },
  {
   "cell_type": "code",
   "execution_count": 57,
   "metadata": {},
   "outputs": [],
   "source": [
    "m_sf6_bk7 = (bk7_mod1.coefs[0] - sf6_mod1.coefs[0])/(bk7_mod1.coefs[1] - sf6_mod1.coefs[1])"
   ]
  },
  {
   "cell_type": "code",
   "execution_count": 58,
   "metadata": {},
   "outputs": [],
   "source": [
    "b_sf6_bk7 = bk7_mod1.coefs[1] - m_sf6_bk7*bk7_mod1.coefs[0]"
   ]
  },
  {
   "cell_type": "code",
   "execution_count": 59,
   "metadata": {},
   "outputs": [
    {
     "data": {
      "text/plain": [
       "(-0.081288692918037, -1.7912280320568652)"
      ]
     },
     "execution_count": 59,
     "metadata": {},
     "output_type": "execute_result"
    }
   ],
   "source": [
    "b_sf6_bk7, m_sf6_bk7"
   ]
  },
  {
   "cell_type": "code",
   "execution_count": 60,
   "metadata": {},
   "outputs": [
    {
     "data": {
      "text/plain": [
       "{'b': -0.053099551406849715,\n",
       " 'm': -1.7912280320568652,\n",
       " 'om': (-0.13588611616202362,\n",
       "  0.05863804688051722,\n",
       "  -0.19452416304254083,\n",
       "  0.015026616023637243),\n",
       " 'wv0': 0.5875617999999999,\n",
       " 'rind0': 1.8052,\n",
       " 'coefs': array([-0.16818604,  0.06425005]),\n",
       " 'label': '',\n",
       " '_catalog_name': ''}"
      ]
     },
     "execution_count": 60,
     "metadata": {},
     "output_type": "execute_result"
    }
   ],
   "source": [
    "vars(sf6_mod2c)"
   ]
  },
  {
   "cell_type": "code",
   "execution_count": 61,
   "metadata": {},
   "outputs": [
    {
     "data": {
      "text/plain": [
       "(-0.053099551406849715, -1.7912280320568652)"
      ]
     },
     "execution_count": 61,
     "metadata": {},
     "output_type": "execute_result"
    }
   ],
   "source": [
    "model_bk7_sf6"
   ]
  },
  {
   "cell_type": "code",
   "execution_count": 62,
   "metadata": {},
   "outputs": [
    {
     "data": {
      "text/plain": [
       "(-0.053099551406849715, -1.7912280320568652)"
      ]
     },
     "execution_count": 62,
     "metadata": {},
     "output_type": "execute_result"
    }
   ],
   "source": [
    "mg.model_from_glasses(bk7, sf6)"
   ]
  },
  {
   "cell_type": "code",
   "execution_count": 63,
   "metadata": {},
   "outputs": [],
   "source": [
    "sf6_mod2d = buchdahl.Buchdahl2(1.8052, 25.36, model=(b_sf6_bk7, m_sf6_bk7))"
   ]
  },
  {
   "cell_type": "code",
   "execution_count": 64,
   "metadata": {},
   "outputs": [
    {
     "data": {
      "text/plain": [
       "0.0013851486773386323"
      ]
     },
     "execution_count": 64,
     "metadata": {},
     "output_type": "execute_result"
    }
   ],
   "source": [
    "sf6_mod2b.rindex('F')-sf6.rindex('F')"
   ]
  },
  {
   "cell_type": "code",
   "execution_count": 65,
   "metadata": {},
   "outputs": [
    {
     "data": {
      "text/plain": [
       "0.000934996976329705"
      ]
     },
     "execution_count": 65,
     "metadata": {},
     "output_type": "execute_result"
    }
   ],
   "source": [
    "sf6_mod2d.rindex('F')-sf6.rindex('F')"
   ]
  },
  {
   "cell_type": "code",
   "execution_count": 66,
   "metadata": {},
   "outputs": [
    {
     "data": {
      "text/plain": [
       "(24.262193037508457, 0.7100337984367162)"
      ]
     },
     "execution_count": 66,
     "metadata": {},
     "output_type": "execute_result"
    }
   ],
   "source": [
    "util.calc_glass_constants(sf6_mod2d.rindex('d'), sf6_mod2d.rindex('F'), sf6_mod2d.rindex('C'))"
   ]
  },
  {
   "cell_type": "code",
   "execution_count": 67,
   "metadata": {},
   "outputs": [
    {
     "data": {
      "text/plain": [
       "1.8052"
      ]
     },
     "execution_count": 67,
     "metadata": {},
     "output_type": "execute_result"
    }
   ],
   "source": [
    "sf6_mod2d.rindex('d')"
   ]
  },
  {
   "cell_type": "code",
   "execution_count": null,
   "metadata": {},
   "outputs": [],
   "source": []
  }
 ],
 "metadata": {
  "kernelspec": {
   "display_name": "Python 3 (ipykernel)",
   "language": "python",
   "name": "python3"
  },
  "language_info": {
   "codemirror_mode": {
    "name": "ipython",
    "version": 3
   },
   "file_extension": ".py",
   "mimetype": "text/x-python",
   "name": "python",
   "nbconvert_exporter": "python",
   "pygments_lexer": "ipython3",
   "version": "3.8.13"
  }
 },
 "nbformat": 4,
 "nbformat_minor": 4
}
