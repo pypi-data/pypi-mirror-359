{
 "cells": [
  {
   "cell_type": "code",
   "execution_count": 1,
   "id": "tough-signal",
   "metadata": {},
   "outputs": [],
   "source": [
    "%matplotlib widget"
   ]
  },
  {
   "cell_type": "code",
   "execution_count": 3,
   "id": "demographic-robin",
   "metadata": {},
   "outputs": [],
   "source": [
    "from rayoptics.environment import *\n",
    "\n",
    "from opticalglass.glassfactory import get_glass_catalog\n",
    "from opticalglass.glass import get_glass_map_arrays\n",
    "\n",
    "schott = get_glass_catalog('Schott')\n",
    "nd, vd, PFd, bc1, bc2, names = get_glass_map_arrays(schott, 'd', 'F', 'C')"
   ]
  },
  {
   "cell_type": "code",
   "execution_count": 4,
   "id": "boolean-nerve",
   "metadata": {},
   "outputs": [
    {
     "data": {
      "text/plain": [
       "array([1.62004, 1.62004, 1.60342, 1.48748, 1.50137, 1.51112, 1.7495 ,\n",
       "       2.02204, 1.58144, 1.58144, 1.54814, 1.54815, 1.67003, 1.60568,\n",
       "       1.65224, 1.60863, 1.5725 , 1.53996, 1.56883, 1.56883, 1.57956,\n",
       "       1.54739, 1.66446, 1.704  , 1.49782, 1.5168 , 1.5168 , 1.5168 ,\n",
       "       1.62005, 1.48749, 1.48656, 1.456  , 1.52249, 1.52346, 1.63775,\n",
       "       1.55836, 1.61336, 1.61336, 1.65412, 1.72047, 1.74397, 1.788  ,\n",
       "       1.78582, 1.7725 , 1.7433 , 1.7495 , 1.72003, 1.6779 , 1.6968 ,\n",
       "       1.64049, 1.65113, 1.755  , 1.72916, 1.6516 , 1.713  , 1.691  ,\n",
       "       1.883  , 1.83404, 1.83501, 1.8061 , 1.8042 , 1.80107, 1.80107,\n",
       "       1.90366, 1.90366, 1.85025, 1.85025, 1.52855, 1.497  , 1.55232,\n",
       "       1.618  , 1.71736, 1.72828, 1.78472, 1.76182, 1.69892, 1.64769,\n",
       "       1.75513, 1.67271, 1.84666, 1.84666, 1.84666, 1.80518, 1.92286,\n",
       "       1.80518, 1.80518, 1.68894, 1.56384, 1.60311, 1.62041, 1.60738,\n",
       "       1.60738, 1.61272, 1.58913, 1.62229, 1.65844, 1.61773, 1.50847,\n",
       "       1.50805, 1.5164 , 1.7555 , 1.6935 , 1.8061 , 1.8086 , 1.81   ,\n",
       "       2.0052 , 1.7225 , 1.68893, 1.587  , 1.586  , 1.58913, 1.61035,\n",
       "       1.71736, 1.72825, 1.78472, 1.64769, 1.7552 , 1.6727 , 1.7847 ,\n",
       "       1.84666, 1.84666, 1.80518, 1.80518])"
      ]
     },
     "execution_count": 4,
     "metadata": {},
     "output_type": "execute_result"
    }
   ],
   "source": [
    "nd"
   ]
  },
  {
   "cell_type": "code",
   "execution_count": 5,
   "id": "fabulous-bulletin",
   "metadata": {},
   "outputs": [
    {
     "data": {
      "text/plain": [
       "array([0.70615836, 0.70615836, 0.70554855, 0.69030391, 0.69628796,\n",
       "       0.69503546, 0.70582751, 0.71026443, 0.70414617, 0.7044335 ,\n",
       "       0.70200334, 0.70184255, 0.70112518, 0.7032491 , 0.70227429,\n",
       "       0.70137825, 0.6971831 , 0.69579646, 0.69685039, 0.69685039,\n",
       "       0.69795539, 0.69735553, 0.70693391, 0.70453274, 0.69086022,\n",
       "       0.69230769, 0.69230769, 0.69230769, 0.70681551, 0.69075145,\n",
       "       0.69444444, 0.69322709, 0.69589977, 0.6988189 , 0.70013298,\n",
       "       0.6934236 , 0.69956459, 0.69956459, 0.7026699 , 0.7061657 ,\n",
       "       0.70223026, 0.6992164 , 0.70123318, 0.69813744, 0.69833887,\n",
       "       0.70724907, 0.69711876, 0.69788274, 0.69530628, 0.69512195,\n",
       "       0.69699571, 0.6966759 , 0.69581465, 0.69541779, 0.69584906,\n",
       "       0.695962  , 0.70267775, 0.70527728, 0.70144628, 0.70277078,\n",
       "       0.69982649, 0.7069869 , 0.7069869 , 0.70883882, 0.70883882,\n",
       "       0.7086644 , 0.7086644 , 0.69577875, 0.69458128, 0.69310345,\n",
       "       0.69538462, 0.71056978, 0.7112069 , 0.71325696, 0.71239554,\n",
       "       0.71045808, 0.70809399, 0.71211022, 0.70901246, 0.71460674,\n",
       "       0.71460674, 0.71460674, 0.71338583, 0.7178733 , 0.71338583,\n",
       "       0.71338583, 0.70922308, 0.69471413, 0.69547739, 0.69484937,\n",
       "       0.69776119, 0.69776119, 0.69569378, 0.69438669, 0.69863014,\n",
       "       0.69938176, 0.7       , 0.69314079, 0.69350962, 0.69230769,\n",
       "       0.70012092, 0.69708589, 0.70218163, 0.7027027 , 0.70237494,\n",
       "       0.71819511, 0.71076052, 0.70929705, 0.69441624, 0.69441624,\n",
       "       0.69366563, 0.69544592, 0.70999589, 0.71127585, 0.71339462,\n",
       "       0.70778881, 0.71146822, 0.70847295, 0.71262458, 0.71412493,\n",
       "       0.71412493, 0.71288692, 0.71288692])"
      ]
     },
     "execution_count": 5,
     "metadata": {},
     "output_type": "execute_result"
    }
   ],
   "source": [
    "PFd"
   ]
  },
  {
   "cell_type": "code",
   "execution_count": 6,
   "id": "excessive-insider",
   "metadata": {},
   "outputs": [],
   "source": [
    "from mpl_toolkits.mplot3d import Axes3D"
   ]
  },
  {
   "cell_type": "code",
   "execution_count": 7,
   "id": "stock-clause",
   "metadata": {},
   "outputs": [
    {
     "data": {
      "application/vnd.jupyter.widget-view+json": {
       "model_id": "f20547905b094a46adbb90dbb1093ac4",
       "version_major": 2,
       "version_minor": 0
      },
      "text/plain": [
       "Canvas(toolbar=Toolbar(toolitems=[('Home', 'Reset original view', 'home', 'home'), ('Back', 'Back to previous …"
      ]
     },
     "metadata": {},
     "output_type": "display_data"
    }
   ],
   "source": [
    "fig = plt.figure()\n",
    "ax = fig.add_subplot(111, projection='3d')\n",
    "\n",
    "ax.scatter(vd, nd, PFd)\n",
    "\n",
    "ax.set_xlabel('Vd')\n",
    "ax.set_ylabel('nd')\n",
    "ax.set_zlabel('PFd')\n",
    "\n",
    "plt.show()"
   ]
  },
  {
   "cell_type": "code",
   "execution_count": 8,
   "id": "excited-norman",
   "metadata": {},
   "outputs": [
    {
     "data": {
      "application/vnd.jupyter.widget-view+json": {
       "model_id": "a1ba49f6bb534c09ad79d0d05edfb2ff",
       "version_major": 2,
       "version_minor": 0
      },
      "text/plain": [
       "Canvas(toolbar=Toolbar(toolitems=[('Home', 'Reset original view', 'home', 'home'), ('Back', 'Back to previous …"
      ]
     },
     "metadata": {},
     "output_type": "display_data"
    }
   ],
   "source": [
    "fig2 = plt.figure()\n",
    "ax2 = fig2.add_subplot(111, projection='3d')\n",
    "\n",
    "ax2.scatter(bc1, bc2, nd)\n",
    "\n",
    "ax2.set_xlabel('bc1')\n",
    "ax2.set_ylabel('bc2')\n",
    "ax2.set_zlabel('nd')\n",
    "\n",
    "ax2.set_proj_type('ortho')\n",
    "ax2.azim = -39.3\n",
    "ax2.elev = -4.7\n",
    "\n",
    "plt.show()"
   ]
  },
  {
   "cell_type": "code",
   "execution_count": 9,
   "id": "integral-richardson",
   "metadata": {},
   "outputs": [
    {
     "data": {
      "text/plain": [
       "matplotlib.axes._subplots.Axes3DSubplot"
      ]
     },
     "execution_count": 9,
     "metadata": {},
     "output_type": "execute_result"
    }
   ],
   "source": [
    "type(ax2)"
   ]
  },
  {
   "cell_type": "code",
   "execution_count": 10,
   "id": "compact-frank",
   "metadata": {},
   "outputs": [],
   "source": [
    "from scipy import linalg"
   ]
  },
  {
   "cell_type": "code",
   "execution_count": 11,
   "id": "baking-example",
   "metadata": {},
   "outputs": [],
   "source": [
    "num_glasses = len(nd)\n",
    "a = np.array([[bc1[i], bc2[i], 1] for i in range(num_glasses)])\n",
    "b = nd\n",
    "\n",
    "results = linalg.lstsq(a, b)\n",
    "coefs = results[0]"
   ]
  },
  {
   "cell_type": "code",
   "execution_count": 12,
   "id": "dirty-asian",
   "metadata": {},
   "outputs": [
    {
     "data": {
      "text/plain": [
       "array([-6.65379567, -7.56733038,  1.20518231])"
      ]
     },
     "execution_count": 12,
     "metadata": {},
     "output_type": "execute_result"
    }
   ],
   "source": [
    "coefs"
   ]
  },
  {
   "cell_type": "raw",
   "id": "chief-directive",
   "metadata": {},
   "source": []
  },
  {
   "cell_type": "code",
   "execution_count": 13,
   "id": "communist-authentication",
   "metadata": {},
   "outputs": [
    {
     "data": {
      "text/plain": [
       "(array([-6.65379567, -7.56733038,  1.20518231]),\n",
       " 0.09729403411427304,\n",
       " 3,\n",
       " array([11.1361212 ,  0.55570976,  0.06631719]))"
      ]
     },
     "execution_count": 13,
     "metadata": {},
     "output_type": "execute_result"
    }
   ],
   "source": [
    "results"
   ]
  },
  {
   "cell_type": "code",
   "execution_count": 14,
   "id": "automotive-tongue",
   "metadata": {},
   "outputs": [],
   "source": [
    "m = len(nd)\n",
    "X = np.array([bc1, bc2, nd])"
   ]
  },
  {
   "cell_type": "code",
   "execution_count": 15,
   "id": "chronic-weekend",
   "metadata": {},
   "outputs": [],
   "source": [
    "A = np.array([np.sum(X[0])/m, np.sum(X[1])/m, np.sum(X[2])/m])"
   ]
  },
  {
   "cell_type": "code",
   "execution_count": 16,
   "id": "endless-granny",
   "metadata": {},
   "outputs": [
    {
     "data": {
      "text/plain": [
       "1.6821339900009429"
      ]
     },
     "execution_count": 16,
     "metadata": {},
     "output_type": "execute_result"
    }
   ],
   "source": [
    "np.sqrt(np.dot(A, A))"
   ]
  },
  {
   "cell_type": "code",
   "execution_count": 17,
   "id": "formal-greensboro",
   "metadata": {},
   "outputs": [],
   "source": [
    "Y = X.T - A.T"
   ]
  },
  {
   "cell_type": "code",
   "execution_count": 18,
   "id": "colored-platform",
   "metadata": {},
   "outputs": [],
   "source": [
    "m00 = np.sum((X[0] - A[0])**2)\n",
    "m01 = np.sum((X[0] - A[0])*(X[1] - A[1]))\n",
    "m02 = np.sum((X[0] - A[0])*(X[2] - A[2]))\n",
    "m11 = np.sum((X[1] - A[1])**2)\n",
    "m12 = np.sum((X[1] - A[1])*(X[2] - A[2]))\n",
    "m22 = np.sum((X[2] - A[2])**2)"
   ]
  },
  {
   "cell_type": "code",
   "execution_count": 19,
   "id": "cultural-congo",
   "metadata": {},
   "outputs": [
    {
     "data": {
      "text/plain": [
       "array([[ 0.23590775, -0.13190933, -0.57148045],\n",
       "       [-0.13190933,  0.0795625 ,  0.27562199],\n",
       "       [-0.57148045,  0.27562199,  1.81408549]])"
      ]
     },
     "execution_count": 19,
     "metadata": {},
     "output_type": "execute_result"
    }
   ],
   "source": [
    "MA = np.array([[m00, m01, m02], [m01, m11, m12], [m02, m12, m22]])\n",
    "MA"
   ]
  },
  {
   "cell_type": "code",
   "execution_count": 20,
   "id": "graduate-phrase",
   "metadata": {},
   "outputs": [
    {
     "data": {
      "text/plain": [
       "(array([2.04595832e+00+0.j, 8.28110805e-02+0.j, 7.86342930e-04+0.j]),\n",
       " array([[-0.30763986,  0.71182628, -0.63139612],\n",
       "        [ 0.15228623, -0.618189  , -0.77113634],\n",
       "        [ 0.93923726,  0.33338521, -0.08177823]]))"
      ]
     },
     "execution_count": 20,
     "metadata": {},
     "output_type": "execute_result"
    }
   ],
   "source": [
    "EA = linalg.eig(MA, right=True); EA"
   ]
  },
  {
   "cell_type": "code",
   "execution_count": 21,
   "id": "embedded-forge",
   "metadata": {},
   "outputs": [
    {
     "data": {
      "text/plain": [
       "array([2.04595832e+00+0.j, 8.28110805e-02+0.j, 7.86342930e-04+0.j])"
      ]
     },
     "execution_count": 21,
     "metadata": {},
     "output_type": "execute_result"
    }
   ],
   "source": [
    "EA[0]"
   ]
  },
  {
   "cell_type": "code",
   "execution_count": 22,
   "id": "opposite-childhood",
   "metadata": {},
   "outputs": [
    {
     "data": {
      "text/plain": [
       "array([[-0.30763986,  0.71182628, -0.63139612],\n",
       "       [ 0.15228623, -0.618189  , -0.77113634],\n",
       "       [ 0.93923726,  0.33338521, -0.08177823]])"
      ]
     },
     "execution_count": 22,
     "metadata": {},
     "output_type": "execute_result"
    }
   ],
   "source": [
    "EA[1]"
   ]
  },
  {
   "cell_type": "code",
   "execution_count": 23,
   "id": "improved-light",
   "metadata": {},
   "outputs": [
    {
     "data": {
      "application/vnd.jupyter.widget-view+json": {
       "model_id": "a3e15f5b12824232871f0b3ae1a72476",
       "version_major": 2,
       "version_minor": 0
      },
      "text/plain": [
       "Canvas(toolbar=Toolbar(toolitems=[('Home', 'Reset original view', 'home', 'home'), ('Back', 'Back to previous …"
      ]
     },
     "metadata": {},
     "output_type": "display_data"
    }
   ],
   "source": [
    "fig3 = plt.figure()\n",
    "for column in range(3):\n",
    "\n",
    "    N = EA[1].T[column]\n",
    "\n",
    "    d = -np.dot(N, A)\n",
    "\n",
    "    elev = np.degrees(np.arcsin(N[2]))\n",
    "    cos_elev = np.cos(np.arcsin(N[2]))\n",
    "    azi = np.degrees(np.arcsin(N[0]/cos_elev))\n",
    "    azi, elev\n",
    "\n",
    "    ax3 = fig3.add_subplot(1, 3, column+1, projection='3d')\n",
    "\n",
    "    ax3.scatter(X[0], X[1], X[2],\n",
    "                c=X[2], cmap=mpl.cm.get_cmap('rainbow'),\n",
    "                norm=mpl.colors.Normalize(vmin=np.min(X[2]), vmax=np.max(X[2])))\n",
    "\n",
    "    ax3.set_xlabel('bc1')\n",
    "    ax3.set_ylabel('bc2')\n",
    "    ax3.set_zlabel('nd')\n",
    "\n",
    "    ax3.set_proj_type('ortho')\n",
    "    ax3.azim = azi\n",
    "    ax3.elev = elev\n",
    "\n",
    "plt.show()"
   ]
  },
  {
   "cell_type": "code",
   "execution_count": 24,
   "id": "emerging-affair",
   "metadata": {
    "jupyter": {
     "source_hidden": true
    }
   },
   "outputs": [
    {
     "data": {
      "text/plain": [
       "(array([-0.08927283,  0.01579107,  1.67968919]), 0.09317256882270203)"
      ]
     },
     "execution_count": 24,
     "metadata": {},
     "output_type": "execute_result"
    }
   ],
   "source": [
    "A, d"
   ]
  },
  {
   "cell_type": "code",
   "execution_count": 25,
   "id": "experienced-master",
   "metadata": {
    "jupyter": {
     "source_hidden": true
    }
   },
   "outputs": [
    {
     "data": {
      "text/plain": [
       "<module 'matplotlib.cm' from '/Users/Mike/Developer/miniconda3/envs/og_dev/lib/python3.8/site-packages/matplotlib/cm.py'>"
      ]
     },
     "execution_count": 25,
     "metadata": {},
     "output_type": "execute_result"
    }
   ],
   "source": [
    "mpl.cm"
   ]
  },
  {
   "cell_type": "code",
   "execution_count": 26,
   "id": "confident-choir",
   "metadata": {
    "jupyter": {
     "source_hidden": true
    }
   },
   "outputs": [],
   "source": [
    "def PCA(data, correlation = False, sort = True):\n",
    "    \"\"\" Applies Principal Component Analysis to the data\n",
    "\n",
    "    Parameters\n",
    "    ----------        \n",
    "    data: array\n",
    "        The array containing the data. The array must have NxM dimensions, where each\n",
    "        of the N rows represents a different individual record and each of the M columns\n",
    "        represents a different variable recorded for that individual record.\n",
    "            array([\n",
    "            [V11, ... , V1m],\n",
    "            ...,\n",
    "            [Vn1, ... , Vnm]])\n",
    "\n",
    "    correlation(Optional) : bool\n",
    "            Set the type of matrix to be computed (see Notes):\n",
    "                If True compute the correlation matrix.\n",
    "                If False(Default) compute the covariance matrix. \n",
    "\n",
    "    sort(Optional) : bool\n",
    "            Set the order that the eigenvalues/vectors will have\n",
    "                If True(Default) they will be sorted (from higher value to less).\n",
    "                If False they won't.   \n",
    "    Returns\n",
    "    -------\n",
    "    eigenvalues: (1,M) array\n",
    "        The eigenvalues of the corresponding matrix.\n",
    "\n",
    "    eigenvector: (M,M) array\n",
    "        The eigenvectors of the corresponding matrix.\n",
    "\n",
    "    Notes\n",
    "    -----\n",
    "    The correlation matrix is a better choice when there are different magnitudes\n",
    "    representing the M variables. Use covariance matrix in other cases.\n",
    "    https://stackoverflow.com/a/38770513\n",
    "\n",
    "    \"\"\"\n",
    "\n",
    "    mean = np.mean(data, axis=0)\n",
    "\n",
    "    data_adjust = data - mean\n",
    "\n",
    "    #: the data is transposed due to np.cov/corrcoef syntax\n",
    "    if correlation:\n",
    "\n",
    "        matrix = np.corrcoef(data_adjust.T)\n",
    "\n",
    "    else:\n",
    "        matrix = np.cov(data_adjust.T) \n",
    "\n",
    "    eigenvalues, eigenvectors = np.linalg.eig(matrix)\n",
    "\n",
    "    if sort:\n",
    "        #: sort eigenvalues and eigenvectors\n",
    "        sort = eigenvalues.argsort()[::-1]\n",
    "        eigenvalues = eigenvalues[sort]\n",
    "        eigenvectors = eigenvectors[:,sort]\n",
    "\n",
    "    return eigenvalues, eigenvectors"
   ]
  },
  {
   "cell_type": "code",
   "execution_count": 27,
   "id": "imposed-charlotte",
   "metadata": {
    "jupyter": {
     "source_hidden": true
    }
   },
   "outputs": [],
   "source": [
    "def best_fitting_plane(points, equation=False):\n",
    "    \"\"\" Computes the best fitting plane of the given points\n",
    "\n",
    "    Parameters\n",
    "    ----------        \n",
    "    points: array\n",
    "        The x,y,z coordinates corresponding to the points from which we want\n",
    "        to define the best fitting plane. Expected format:\n",
    "            array([\n",
    "            [x1,y1,z1],\n",
    "            ...,\n",
    "            [xn,yn,zn]])\n",
    "\n",
    "    equation(Optional) : bool\n",
    "            Set the oputput plane format:\n",
    "                If True return the a,b,c,d coefficients of the plane.\n",
    "                If False(Default) return 1 Point and 1 Normal vector.    \n",
    "    Returns\n",
    "    -------\n",
    "    a, b, c, d : float\n",
    "        The coefficients solving the plane equation.\n",
    "\n",
    "    or\n",
    "\n",
    "    point, normal: array\n",
    "        The plane defined by 1 Point and 1 Normal vector. With format:\n",
    "        array([Px,Py,Pz]), array([Nx,Ny,Nz])\n",
    "        https://stackoverflow.com/a/38770513\n",
    "\n",
    "    \"\"\"\n",
    "\n",
    "    w, v = PCA(points, correlation=True)\n",
    "\n",
    "    #: the normal of the plane is the last eigenvector\n",
    "    normal = v[:,2]\n",
    "\n",
    "    #: get a point from the plane\n",
    "    point = np.mean(points, axis=0)\n",
    "\n",
    "\n",
    "    if equation:\n",
    "        a, b, c = normal\n",
    "        d = -(np.dot(normal, point))\n",
    "        return a, b, c, d\n",
    "\n",
    "    else:\n",
    "        return point, normal"
   ]
  },
  {
   "cell_type": "code",
   "execution_count": 28,
   "id": "presidential-revelation",
   "metadata": {
    "jupyter": {
     "source_hidden": true
    }
   },
   "outputs": [],
   "source": [
    "point, normal = best_fitting_plane(X.T)"
   ]
  },
  {
   "cell_type": "code",
   "execution_count": 29,
   "id": "honey-scenario",
   "metadata": {
    "jupyter": {
     "source_hidden": true
    }
   },
   "outputs": [
    {
     "data": {
      "text/plain": [
       "(array([-0.08927283,  0.01579107,  1.67968919]),\n",
       " array([-0.78456539, -0.54869295, -0.2887788 ]))"
      ]
     },
     "execution_count": 29,
     "metadata": {},
     "output_type": "execute_result"
    }
   ],
   "source": [
    "point, normal"
   ]
  },
  {
   "cell_type": "code",
   "execution_count": 30,
   "id": "regulation-intervention",
   "metadata": {
    "jupyter": {
     "source_hidden": true
    }
   },
   "outputs": [
    {
     "data": {
      "text/plain": [
       "array([-0.08927283,  0.01579107,  1.67968919])"
      ]
     },
     "execution_count": 30,
     "metadata": {},
     "output_type": "execute_result"
    }
   ],
   "source": [
    "A"
   ]
  },
  {
   "cell_type": "code",
   "execution_count": 31,
   "id": "still-contest",
   "metadata": {
    "jupyter": {
     "source_hidden": true
    }
   },
   "outputs": [
    {
     "data": {
      "text/plain": [
       "(array([-0.08927283,  0.01579107,  1.67968919]),\n",
       " array([-0.78456539, -0.54869295, -0.2887788 ]))"
      ]
     },
     "execution_count": 31,
     "metadata": {},
     "output_type": "execute_result"
    }
   ],
   "source": [
    "point, normal = best_fitting_plane(X.T); point, normal"
   ]
  },
  {
   "cell_type": "code",
   "execution_count": 32,
   "id": "expressed-negotiation",
   "metadata": {},
   "outputs": [
    {
     "data": {
      "application/vnd.jupyter.widget-view+json": {
       "model_id": "a943d918e99f4866bd66a7268479367d",
       "version_major": 2,
       "version_minor": 0
      },
      "text/plain": [
       "Canvas(toolbar=Toolbar(toolitems=[('Home', 'Reset original view', 'home', 'home'), ('Back', 'Back to previous …"
      ]
     },
     "metadata": {},
     "output_type": "display_data"
    }
   ],
   "source": [
    "fig4 = plt.figure()\n",
    "for column in range(3):\n",
    "\n",
    "    N = normal\n",
    "\n",
    "    d = -np.dot(N, A)\n",
    "\n",
    "    elev = np.degrees(np.arcsin(N[2]))\n",
    "    cos_elev = np.cos(np.arcsin(N[2]))\n",
    "    azi = np.degrees(np.arcsin(N[0]/cos_elev))\n",
    "    azi, elev\n",
    "\n",
    "    ax4 = fig4.add_subplot(1, 3, column+1, projection='3d')\n",
    "\n",
    "    ax4.scatter(X[0], X[1], X[2],\n",
    "                c=X[2], cmap=mpl.cm.get_cmap('rainbow'),\n",
    "                norm=mpl.colors.Normalize(vmin=np.min(X[2]), vmax=np.max(X[2])))\n",
    "\n",
    "    ax4.set_xlabel('bc1')\n",
    "    ax4.set_ylabel('bc2')\n",
    "    ax4.set_zlabel('nd')\n",
    "\n",
    "    ax4.set_proj_type('ortho')\n",
    "    ax4.azim = azi\n",
    "    ax4.elev = elev\n",
    "\n",
    "plt.show()"
   ]
  },
  {
   "cell_type": "code",
   "execution_count": 33,
   "id": "planned-eagle",
   "metadata": {},
   "outputs": [],
   "source": [
    "f2 = create_glass('F2', 'Schott')"
   ]
  },
  {
   "cell_type": "code",
   "execution_count": 35,
   "id": "western-recruitment",
   "metadata": {},
   "outputs": [
    {
     "data": {
      "text/plain": [
       "(1.6198910300169231, 1.61989)"
      ]
     },
     "execution_count": 35,
     "metadata": {},
     "output_type": "execute_result"
    }
   ],
   "source": [
    "n_calc_D = f2.rindex(f'D')\n",
    "n_meas_D = f2.meas_rindex('D')\n",
    "n_calc_D, n_meas_D"
   ]
  },
  {
   "cell_type": "code",
   "execution_count": 36,
   "id": "legislative-collection",
   "metadata": {},
   "outputs": [
    {
     "data": {
      "text/plain": [
       "array([1.61986546, 1.61989104, 1.61991665])"
      ]
     },
     "execution_count": 36,
     "metadata": {},
     "output_type": "execute_result"
    }
   ],
   "source": [
    "f2.calc_rindex(np.array([589.5924, 589.2937, 588.9950]))"
   ]
  },
  {
   "cell_type": "code",
   "execution_count": 37,
   "id": "pressing-percentage",
   "metadata": {},
   "outputs": [
    {
     "data": {
      "text/plain": [
       "589.2938"
      ]
     },
     "execution_count": 37,
     "metadata": {},
     "output_type": "execute_result"
    }
   ],
   "source": [
    "get_wavelength('D')"
   ]
  },
  {
   "cell_type": "code",
   "execution_count": 38,
   "id": "institutional-undergraduate",
   "metadata": {},
   "outputs": [],
   "source": [
    "j_bk7a = create_glass('J-BK7A', 'Hikari')"
   ]
  },
  {
   "cell_type": "code",
   "execution_count": 41,
   "id": "expressed-jaguar",
   "metadata": {},
   "outputs": [
    {
     "data": {
      "text/plain": [
       "(1.507356122880302, 1.522836)"
      ]
     },
     "execution_count": 41,
     "metadata": {},
     "output_type": "execute_result"
    }
   ],
   "source": [
    "n_calc_t = j_bk7a.rindex('t')\n",
    "n_meas_Fp = j_bk7a.meas_rindex(\"F'\")\n",
    "n_calc_t, n_meas_Fp"
   ]
  },
  {
   "cell_type": "code",
   "execution_count": null,
   "id": "associate-rider",
   "metadata": {},
   "outputs": [],
   "source": []
  }
 ],
 "metadata": {
  "kernelspec": {
   "display_name": "Python 3 (ipykernel)",
   "language": "python",
   "name": "python3"
  },
  "language_info": {
   "codemirror_mode": {
    "name": "ipython",
    "version": 3
   },
   "file_extension": ".py",
   "mimetype": "text/x-python",
   "name": "python",
   "nbconvert_exporter": "python",
   "pygments_lexer": "ipython3",
   "version": "3.8.12"
  }
 },
 "nbformat": 4,
 "nbformat_minor": 5
}
