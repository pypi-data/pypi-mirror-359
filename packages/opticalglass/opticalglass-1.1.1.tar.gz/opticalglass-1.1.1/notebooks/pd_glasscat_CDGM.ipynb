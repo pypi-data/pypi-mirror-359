{
 "cells": [
  {
   "cell_type": "code",
   "execution_count": 1,
   "id": "proof-pencil",
   "metadata": {},
   "outputs": [],
   "source": [
    "import warnings\n",
    "\n",
    "from opticalglass.glass import get_filepath\n",
    "\n",
    "import opticalglass as og\n",
    "import opticalglass.buchdahl as buchdahl\n",
    "import opticalglass.glass as ogl\n",
    "from opticalglass.glassfactory import create_glass\n",
    "from opticalglass import cdgm\n",
    "\n",
    "import numpy as np\n",
    "import pandas as pd\n",
    "import matplotlib.pyplot as plt"
   ]
  },
  {
   "cell_type": "markdown",
   "id": "armed-danger",
   "metadata": {},
   "source": [
    "# Build Multi-Index for CDGM"
   ]
  },
  {
   "cell_type": "code",
   "execution_count": 2,
   "id": "lyric-physics",
   "metadata": {},
   "outputs": [],
   "source": [
    "catalog = 'CDGM'\n",
    "gname = 'H-FK61'\n",
    "gname1 = 'H-K9L'\n",
    "gname2 = 'D-ZLaF85L'"
   ]
  },
  {
   "cell_type": "raw",
   "id": "frozen-chorus",
   "metadata": {},
   "source": [
    "vendor_df = ogl.xl2df('CDGM.xls')"
   ]
  },
  {
   "cell_type": "raw",
   "id": "corporate-broadcasting",
   "metadata": {},
   "source": [
    "# the xl_df has indices and columns that match the Excel worksheet border.\n",
    "# the index runs from 1 to xl_df.shape[0]\n",
    "# the columns match the pattern 'A', 'B', 'C', ... 'Z', 'AA', 'AB', ...\n",
    "# this facilitates transferring areas on the spreadsheet to areas in the catalog DataFrame\n",
    "\n",
    "num_rows = 2  # number of header rows in the imported spreadsheet\n",
    "category_row = 1  # row with categories\n",
    "header_row = 2  # row with data item/header info\n",
    "data_col = 'B'  # first column of data in the imported spreadsheet\n",
    "args = num_rows, category_row , header_row, data_col\n",
    "\n",
    "series_mappings = [\n",
    "    ('refractive indices', (lambda h: h.split('n')[-1]), \n",
    "     category_row, 'C', 'P'),\n",
    "    ('dispersion coefficients', None, category_row, 'V', 'AA'),\n",
    "    ('internal transmission mm, 10', None, header_row, 'DC', 'EK'),\n",
    "    ('chemical properties', None, category_row, 'AW', 'BA'),\n",
    "    ('thermal properties', None, category_row, 'BB', 'BH'),\n",
    "    ('mechanical properties', None, category_row, 'BI', 'BO'),\n",
    "    ]\n",
    "item_mappings = [\n",
    "    ('refractive indices', 'C', header_row, 'F'),\n",
    "    ('refractive indices', \"C'\", header_row, 'G'),\n",
    "    ('abbe number', 'vd', header_row, 'R'),\n",
    "    ('abbe number', 've', header_row, 'S'),\n",
    "    ('specific gravity', 'd', header_row, 'BP'),\n",
    "    ]\n",
    "kwargs = dict(\n",
    "    data_extent = (3, 242, data_col, 'FZ'),\n",
    "    name_col_offset = 'A',\n",
    "    )"
   ]
  },
  {
   "cell_type": "raw",
   "id": "motivated-passing",
   "metadata": {},
   "source": [
    "cat_df = ogl.build_glass_cat(vendor_df, series_mappings, item_mappings, *args, **kwargs)"
   ]
  },
  {
   "cell_type": "code",
   "execution_count": 3,
   "id": "valid-introduction",
   "metadata": {},
   "outputs": [],
   "source": [
    "cat_pd = cdgm.CDGMCatalog()\n",
    "cat_df = cat_pd.df"
   ]
  },
  {
   "cell_type": "code",
   "execution_count": 4,
   "id": "acoustic-active",
   "metadata": {
    "tags": []
   },
   "outputs": [
    {
     "data": {
      "text/html": [
       "<div>\n",
       "<style scoped>\n",
       "    .dataframe tbody tr th:only-of-type {\n",
       "        vertical-align: middle;\n",
       "    }\n",
       "\n",
       "    .dataframe tbody tr th {\n",
       "        vertical-align: top;\n",
       "    }\n",
       "\n",
       "    .dataframe thead th {\n",
       "        text-align: right;\n",
       "    }\n",
       "</style>\n",
       "<table border=\"1\" class=\"dataframe\">\n",
       "  <thead>\n",
       "    <tr style=\"text-align: right;\">\n",
       "      <th></th>\n",
       "      <th>glass</th>\n",
       "      <th>H-FK61</th>\n",
       "      <th>H-FK61B</th>\n",
       "      <th>H-FK71</th>\n",
       "      <th>H-QK1</th>\n",
       "      <th>H-QK3L</th>\n",
       "      <th>H-K1</th>\n",
       "      <th>H-K2</th>\n",
       "      <th>H-K3</th>\n",
       "      <th>K4A</th>\n",
       "      <th>H-K5</th>\n",
       "      <th>...</th>\n",
       "      <th>D-LaF050</th>\n",
       "      <th>D-LaF53</th>\n",
       "      <th>D-LaF79</th>\n",
       "      <th>D-LaF82L</th>\n",
       "      <th>D-ZLaF50</th>\n",
       "      <th>D-ZLaF52LA</th>\n",
       "      <th>D-ZLaF61</th>\n",
       "      <th>D-ZLaF67</th>\n",
       "      <th>D-ZLaF81</th>\n",
       "      <th>D-ZLaF85L</th>\n",
       "    </tr>\n",
       "    <tr>\n",
       "      <th>category</th>\n",
       "      <th>data item</th>\n",
       "      <th></th>\n",
       "      <th></th>\n",
       "      <th></th>\n",
       "      <th></th>\n",
       "      <th></th>\n",
       "      <th></th>\n",
       "      <th></th>\n",
       "      <th></th>\n",
       "      <th></th>\n",
       "      <th></th>\n",
       "      <th></th>\n",
       "      <th></th>\n",
       "      <th></th>\n",
       "      <th></th>\n",
       "      <th></th>\n",
       "      <th></th>\n",
       "      <th></th>\n",
       "      <th></th>\n",
       "      <th></th>\n",
       "      <th></th>\n",
       "      <th></th>\n",
       "    </tr>\n",
       "  </thead>\n",
       "  <tbody>\n",
       "    <tr>\n",
       "      <th>Code</th>\n",
       "      <th>NaN</th>\n",
       "      <td>497816</td>\n",
       "      <td>497816</td>\n",
       "      <td>457903</td>\n",
       "      <td>470669</td>\n",
       "      <td>487704</td>\n",
       "      <td>500621</td>\n",
       "      <td>500660</td>\n",
       "      <td>505647</td>\n",
       "      <td>508611</td>\n",
       "      <td>510634</td>\n",
       "      <td>...</td>\n",
       "      <td>768493</td>\n",
       "      <td>743493</td>\n",
       "      <td>731405</td>\n",
       "      <td>735488</td>\n",
       "      <td>803455</td>\n",
       "      <td>810410</td>\n",
       "      <td>822427</td>\n",
       "      <td>884372</td>\n",
       "      <td>809410</td>\n",
       "      <td>854406</td>\n",
       "    </tr>\n",
       "    <tr>\n",
       "      <th rowspan=\"4\" valign=\"top\">refractive indices</th>\n",
       "      <th>t</th>\n",
       "      <td>1.4901</td>\n",
       "      <td>1.4901</td>\n",
       "      <td>1.45072</td>\n",
       "      <td>1.46202</td>\n",
       "      <td>1.47913</td>\n",
       "      <td>1.49047</td>\n",
       "      <td>1.49143</td>\n",
       "      <td>1.49528</td>\n",
       "      <td>1.49825</td>\n",
       "      <td>1.50069</td>\n",
       "      <td>...</td>\n",
       "      <td>1.75138</td>\n",
       "      <td>1.72683</td>\n",
       "      <td>&lt;NA&gt;</td>\n",
       "      <td>1.71834</td>\n",
       "      <td>1.7846</td>\n",
       "      <td>1.78939</td>\n",
       "      <td>1.80229</td>\n",
       "      <td>1.85969</td>\n",
       "      <td>1.78831</td>\n",
       "      <td>1.83192</td>\n",
       "    </tr>\n",
       "    <tr>\n",
       "      <th>s</th>\n",
       "      <td>1.49182</td>\n",
       "      <td>1.49182</td>\n",
       "      <td>1.45218</td>\n",
       "      <td>1.46427</td>\n",
       "      <td>1.48137</td>\n",
       "      <td>1.49282</td>\n",
       "      <td>1.49383</td>\n",
       "      <td>1.49778</td>\n",
       "      <td>1.50079</td>\n",
       "      <td>1.50312</td>\n",
       "      <td>...</td>\n",
       "      <td>1.75554</td>\n",
       "      <td>1.73084</td>\n",
       "      <td>&lt;NA&gt;</td>\n",
       "      <td>1.72234</td>\n",
       "      <td>1.78904</td>\n",
       "      <td>1.79412</td>\n",
       "      <td>1.80698</td>\n",
       "      <td>1.86519</td>\n",
       "      <td>1.79302</td>\n",
       "      <td>1.83694</td>\n",
       "    </tr>\n",
       "    <tr>\n",
       "      <th>r</th>\n",
       "      <td>1.49407</td>\n",
       "      <td>1.49407</td>\n",
       "      <td>1.45406</td>\n",
       "      <td>1.46703</td>\n",
       "      <td>1.48411</td>\n",
       "      <td>1.49581</td>\n",
       "      <td>1.49678</td>\n",
       "      <td>1.50083</td>\n",
       "      <td>1.50398</td>\n",
       "      <td>1.50618</td>\n",
       "      <td>...</td>\n",
       "      <td>1.76106</td>\n",
       "      <td>1.73619</td>\n",
       "      <td>1.72243</td>\n",
       "      <td>1.72771</td>\n",
       "      <td>1.79513</td>\n",
       "      <td>1.80082</td>\n",
       "      <td>1.81349</td>\n",
       "      <td>1.87298</td>\n",
       "      <td>1.79967</td>\n",
       "      <td>1.84398</td>\n",
       "    </tr>\n",
       "    <tr>\n",
       "      <th>C</th>\n",
       "      <td>1.49513</td>\n",
       "      <td>1.49513</td>\n",
       "      <td>1.45495</td>\n",
       "      <td>1.46829</td>\n",
       "      <td>1.48535</td>\n",
       "      <td>1.49722</td>\n",
       "      <td>1.49813</td>\n",
       "      <td>1.50222</td>\n",
       "      <td>1.50546</td>\n",
       "      <td>1.5076</td>\n",
       "      <td>...</td>\n",
       "      <td>1.76372</td>\n",
       "      <td>1.73876</td>\n",
       "      <td>1.72542</td>\n",
       "      <td>1.7303</td>\n",
       "      <td>1.79809</td>\n",
       "      <td>1.8041</td>\n",
       "      <td>1.81668</td>\n",
       "      <td>1.87685</td>\n",
       "      <td>1.80294</td>\n",
       "      <td>1.84746</td>\n",
       "    </tr>\n",
       "    <tr>\n",
       "      <th>...</th>\n",
       "      <th>...</th>\n",
       "      <td>...</td>\n",
       "      <td>...</td>\n",
       "      <td>...</td>\n",
       "      <td>...</td>\n",
       "      <td>...</td>\n",
       "      <td>...</td>\n",
       "      <td>...</td>\n",
       "      <td>...</td>\n",
       "      <td>...</td>\n",
       "      <td>...</td>\n",
       "      <td>...</td>\n",
       "      <td>...</td>\n",
       "      <td>...</td>\n",
       "      <td>...</td>\n",
       "      <td>...</td>\n",
       "      <td>...</td>\n",
       "      <td>...</td>\n",
       "      <td>...</td>\n",
       "      <td>...</td>\n",
       "      <td>...</td>\n",
       "      <td>...</td>\n",
       "    </tr>\n",
       "    <tr>\n",
       "      <th>dn/dt relative(10-6/℃) for g</th>\n",
       "      <th>-40～-20</th>\n",
       "      <td>-5.6</td>\n",
       "      <td>-5.3</td>\n",
       "      <td>-5.2</td>\n",
       "      <td>0.3</td>\n",
       "      <td>-1.8</td>\n",
       "      <td>0.9</td>\n",
       "      <td>3.2</td>\n",
       "      <td>3</td>\n",
       "      <td>5.5</td>\n",
       "      <td>2.4</td>\n",
       "      <td>...</td>\n",
       "      <td>6.1</td>\n",
       "      <td>6.6</td>\n",
       "      <td>NaN</td>\n",
       "      <td>8.6</td>\n",
       "      <td>7.2</td>\n",
       "      <td>7.5</td>\n",
       "      <td>7.4</td>\n",
       "      <td>7.1</td>\n",
       "      <td>9.2</td>\n",
       "      <td>7.8</td>\n",
       "    </tr>\n",
       "    <tr>\n",
       "      <th>Melt Frequency</th>\n",
       "      <th>NaN</th>\n",
       "      <td>MA</td>\n",
       "      <td>B</td>\n",
       "      <td>C</td>\n",
       "      <td>C</td>\n",
       "      <td>A</td>\n",
       "      <td>D</td>\n",
       "      <td>D</td>\n",
       "      <td>D</td>\n",
       "      <td>D</td>\n",
       "      <td>D</td>\n",
       "      <td>...</td>\n",
       "      <td>B</td>\n",
       "      <td>B</td>\n",
       "      <td>C</td>\n",
       "      <td>D</td>\n",
       "      <td>C</td>\n",
       "      <td>B</td>\n",
       "      <td>C</td>\n",
       "      <td>B</td>\n",
       "      <td>D</td>\n",
       "      <td>B</td>\n",
       "    </tr>\n",
       "    <tr>\n",
       "      <th>Relative price</th>\n",
       "      <th>Mass</th>\n",
       "      <td>71</td>\n",
       "      <td>71</td>\n",
       "      <td>203</td>\n",
       "      <td>64</td>\n",
       "      <td>19</td>\n",
       "      <td>64</td>\n",
       "      <td>31</td>\n",
       "      <td>31</td>\n",
       "      <td>35</td>\n",
       "      <td>30</td>\n",
       "      <td>...</td>\n",
       "      <td>96</td>\n",
       "      <td>75</td>\n",
       "      <td>81</td>\n",
       "      <td>96</td>\n",
       "      <td>126</td>\n",
       "      <td>59</td>\n",
       "      <td>114</td>\n",
       "      <td>191</td>\n",
       "      <td>62</td>\n",
       "      <td>193</td>\n",
       "    </tr>\n",
       "    <tr>\n",
       "      <th>NaN</th>\n",
       "      <th>Volume</th>\n",
       "      <td>105</td>\n",
       "      <td>104</td>\n",
       "      <td>292</td>\n",
       "      <td>59</td>\n",
       "      <td>19</td>\n",
       "      <td>63</td>\n",
       "      <td>30</td>\n",
       "      <td>30</td>\n",
       "      <td>34</td>\n",
       "      <td>30</td>\n",
       "      <td>...</td>\n",
       "      <td>172</td>\n",
       "      <td>126</td>\n",
       "      <td>103</td>\n",
       "      <td>155</td>\n",
       "      <td>244</td>\n",
       "      <td>107</td>\n",
       "      <td>223</td>\n",
       "      <td>416</td>\n",
       "      <td>112</td>\n",
       "      <td>405</td>\n",
       "    </tr>\n",
       "    <tr>\n",
       "      <th>Glass</th>\n",
       "      <th>NaN</th>\n",
       "      <td>H-FK61</td>\n",
       "      <td>H-FK61B</td>\n",
       "      <td>H-FK71</td>\n",
       "      <td>H-QK1</td>\n",
       "      <td>H-QK3L</td>\n",
       "      <td>H-K1</td>\n",
       "      <td>H-K2</td>\n",
       "      <td>H-K3</td>\n",
       "      <td>K4A</td>\n",
       "      <td>H-K5</td>\n",
       "      <td>...</td>\n",
       "      <td>D-LaF050</td>\n",
       "      <td>D-LaF53</td>\n",
       "      <td>D-LaF79</td>\n",
       "      <td>D-LaF82L</td>\n",
       "      <td>D-ZLaF50</td>\n",
       "      <td>D-ZLaF52LA</td>\n",
       "      <td>D-ZLaF61</td>\n",
       "      <td>D-ZLaF67</td>\n",
       "      <td>D-ZLaF81</td>\n",
       "      <td>D-ZLaF85L</td>\n",
       "    </tr>\n",
       "  </tbody>\n",
       "</table>\n",
       "<p>147 rows × 240 columns</p>\n",
       "</div>"
      ],
      "text/plain": [
       "glass                                    H-FK61  H-FK61B   H-FK71    H-QK1  \\\n",
       "category                     data item                                       \n",
       "Code                         NaN         497816   497816   457903   470669   \n",
       "refractive indices           t           1.4901   1.4901  1.45072  1.46202   \n",
       "                             s          1.49182  1.49182  1.45218  1.46427   \n",
       "                             r          1.49407  1.49407  1.45406  1.46703   \n",
       "                             C          1.49513  1.49513  1.45495  1.46829   \n",
       "...                                         ...      ...      ...      ...   \n",
       "dn/dt relative(10-6/℃) for g -40～-20       -5.6     -5.3     -5.2      0.3   \n",
       "Melt Frequency               NaN             MA        B        C        C   \n",
       "Relative price               Mass            71       71      203       64   \n",
       "NaN                          Volume         105      104      292       59   \n",
       "Glass                        NaN         H-FK61  H-FK61B   H-FK71    H-QK1   \n",
       "\n",
       "glass                                    H-QK3L     H-K1     H-K2     H-K3  \\\n",
       "category                     data item                                       \n",
       "Code                         NaN         487704   500621   500660   505647   \n",
       "refractive indices           t          1.47913  1.49047  1.49143  1.49528   \n",
       "                             s          1.48137  1.49282  1.49383  1.49778   \n",
       "                             r          1.48411  1.49581  1.49678  1.50083   \n",
       "                             C          1.48535  1.49722  1.49813  1.50222   \n",
       "...                                         ...      ...      ...      ...   \n",
       "dn/dt relative(10-6/℃) for g -40～-20       -1.8      0.9      3.2        3   \n",
       "Melt Frequency               NaN              A        D        D        D   \n",
       "Relative price               Mass            19       64       31       31   \n",
       "NaN                          Volume          19       63       30       30   \n",
       "Glass                        NaN         H-QK3L     H-K1     H-K2     H-K3   \n",
       "\n",
       "glass                                       K4A     H-K5  ...  D-LaF050  \\\n",
       "category                     data item                    ...             \n",
       "Code                         NaN         508611   510634  ...    768493   \n",
       "refractive indices           t          1.49825  1.50069  ...   1.75138   \n",
       "                             s          1.50079  1.50312  ...   1.75554   \n",
       "                             r          1.50398  1.50618  ...   1.76106   \n",
       "                             C          1.50546   1.5076  ...   1.76372   \n",
       "...                                         ...      ...  ...       ...   \n",
       "dn/dt relative(10-6/℃) for g -40～-20        5.5      2.4  ...       6.1   \n",
       "Melt Frequency               NaN              D        D  ...         B   \n",
       "Relative price               Mass            35       30  ...        96   \n",
       "NaN                          Volume          34       30  ...       172   \n",
       "Glass                        NaN            K4A     H-K5  ...  D-LaF050   \n",
       "\n",
       "glass                                   D-LaF53  D-LaF79  D-LaF82L  D-ZLaF50  \\\n",
       "category                     data item                                         \n",
       "Code                         NaN         743493   731405    735488    803455   \n",
       "refractive indices           t          1.72683     <NA>   1.71834    1.7846   \n",
       "                             s          1.73084     <NA>   1.72234   1.78904   \n",
       "                             r          1.73619  1.72243   1.72771   1.79513   \n",
       "                             C          1.73876  1.72542    1.7303   1.79809   \n",
       "...                                         ...      ...       ...       ...   \n",
       "dn/dt relative(10-6/℃) for g -40～-20        6.6      NaN       8.6       7.2   \n",
       "Melt Frequency               NaN              B        C         D         C   \n",
       "Relative price               Mass            75       81        96       126   \n",
       "NaN                          Volume         126      103       155       244   \n",
       "Glass                        NaN        D-LaF53  D-LaF79  D-LaF82L  D-ZLaF50   \n",
       "\n",
       "glass                                   D-ZLaF52LA  D-ZLaF61  D-ZLaF67  \\\n",
       "category                     data item                                   \n",
       "Code                         NaN            810410    822427    884372   \n",
       "refractive indices           t             1.78939   1.80229   1.85969   \n",
       "                             s             1.79412   1.80698   1.86519   \n",
       "                             r             1.80082   1.81349   1.87298   \n",
       "                             C              1.8041   1.81668   1.87685   \n",
       "...                                            ...       ...       ...   \n",
       "dn/dt relative(10-6/℃) for g -40～-20           7.5       7.4       7.1   \n",
       "Melt Frequency               NaN                 B         C         B   \n",
       "Relative price               Mass               59       114       191   \n",
       "NaN                          Volume            107       223       416   \n",
       "Glass                        NaN        D-ZLaF52LA  D-ZLaF61  D-ZLaF67   \n",
       "\n",
       "glass                                   D-ZLaF81  D-ZLaF85L  \n",
       "category                     data item                       \n",
       "Code                         NaN          809410     854406  \n",
       "refractive indices           t           1.78831    1.83192  \n",
       "                             s           1.79302    1.83694  \n",
       "                             r           1.79967    1.84398  \n",
       "                             C           1.80294    1.84746  \n",
       "...                                          ...        ...  \n",
       "dn/dt relative(10-6/℃) for g -40～-20         9.2        7.8  \n",
       "Melt Frequency               NaN               D          B  \n",
       "Relative price               Mass             62        193  \n",
       "NaN                          Volume          112        405  \n",
       "Glass                        NaN        D-ZLaF81  D-ZLaF85L  \n",
       "\n",
       "[147 rows x 240 columns]"
      ]
     },
     "execution_count": 4,
     "metadata": {},
     "output_type": "execute_result"
    }
   ],
   "source": [
    "cat_df.T"
   ]
  },
  {
   "cell_type": "code",
   "execution_count": 5,
   "id": "global-description",
   "metadata": {},
   "outputs": [
    {
     "data": {
      "text/plain": [
       "False"
      ]
     },
     "execution_count": 5,
     "metadata": {},
     "output_type": "execute_result"
    }
   ],
   "source": [
    "cat_df.columns.has_duplicates"
   ]
  },
  {
   "cell_type": "code",
   "execution_count": 6,
   "id": "directed-indianapolis",
   "metadata": {},
   "outputs": [
    {
     "data": {
      "text/plain": [
       "Index(['Code', 'D0', 'D1', 'D2', 'E0', 'E1', 'Glass', 'Melt Frequency',\n",
       "       'P'C',s', 'P'd,c'', 'P'e,d', 'P'g,F'', 'P's,t', 'PC,s', 'Pd,C', 'Pe,d',\n",
       "       'Pg,F', 'Ps,t', 'Relative price', 'abbe number', 'chemical properties',\n",
       "       'dispersion coefficients', 'dn/dt relative(10-6/℃) for C'',\n",
       "       'dn/dt relative(10-6/℃) for F'', 'dn/dt relative(10-6/℃) for d',\n",
       "       'dn/dt relative(10-6/℃) for e', 'dn/dt relative(10-6/℃) for g',\n",
       "       'dn/dt relative(10-6/℃) for t', 'internal transmission mm, 10',\n",
       "       'mechanical properties', 'nF - nC', 'nF'- nC'', 'refractive indices',\n",
       "       'specific gravity', 'thermal properties', 'ΔPC,s', 'ΔPC,t', 'ΔPF,e',\n",
       "       'ΔPg,F', 'λ70 /λ5', 'λ80 /λ5', 'λTK', 'τ5mm'],\n",
       "      dtype='object', name='category')"
      ]
     },
     "execution_count": 6,
     "metadata": {},
     "output_type": "execute_result"
    }
   ],
   "source": [
    "cat_df.columns.levels[0]"
   ]
  },
  {
   "cell_type": "code",
   "execution_count": 7,
   "id": "lovely-still",
   "metadata": {},
   "outputs": [],
   "source": [
    "nd = cat_df['refractive indices']['d'].to_numpy(dtype=float)\n",
    "nF = cat_df['refractive indices']['F'].to_numpy(dtype=float)\n",
    "nC = cat_df['refractive indices']['C'].to_numpy(dtype=float)"
   ]
  },
  {
   "cell_type": "code",
   "execution_count": 8,
   "id": "elect-ordering",
   "metadata": {},
   "outputs": [],
   "source": [
    "nd, coefs = buchdahl.calc_buchdahl_coords(nd, nF, nC)"
   ]
  },
  {
   "cell_type": "code",
   "execution_count": 9,
   "id": "consolidated-mineral",
   "metadata": {},
   "outputs": [],
   "source": [
    "coefs /= np.array((nd - 1.0), dtype=float)"
   ]
  },
  {
   "cell_type": "markdown",
   "id": "absolute-montreal",
   "metadata": {
    "tags": []
   },
   "source": [
    "## Test Series extracted from DataFrame"
   ]
  },
  {
   "cell_type": "code",
   "execution_count": 10,
   "id": "current-seven",
   "metadata": {},
   "outputs": [],
   "source": [
    "gla = cat_df.loc[gname]\n",
    "gla1 = cat_df.loc[gname1]"
   ]
  },
  {
   "cell_type": "code",
   "execution_count": 11,
   "id": "coated-operations",
   "metadata": {},
   "outputs": [
    {
     "data": {
      "text/plain": [
       "data item\n",
       "A0    2.216673\n",
       "A1    -0.00494\n",
       "A2     0.00915\n",
       "A3   -0.000127\n",
       "A4    0.000028\n",
       "A5   -0.000001\n",
       "Name: H-FK61, dtype: object"
      ]
     },
     "execution_count": 11,
     "metadata": {},
     "output_type": "execute_result"
    }
   ],
   "source": [
    "cat_df.loc[gname]['dispersion coefficients']"
   ]
  },
  {
   "cell_type": "code",
   "execution_count": 12,
   "id": "received-communist",
   "metadata": {},
   "outputs": [
    {
     "data": {
      "text/plain": [
       "data item\n",
       "A0    2.216673\n",
       "A1    -0.00494\n",
       "A2     0.00915\n",
       "A3   -0.000127\n",
       "A4    0.000028\n",
       "A5   -0.000001\n",
       "Name: H-FK61, dtype: object"
      ]
     },
     "execution_count": 12,
     "metadata": {},
     "output_type": "execute_result"
    }
   ],
   "source": [
    "gla['dispersion coefficients']"
   ]
  },
  {
   "cell_type": "code",
   "execution_count": 13,
   "id": "incorrect-honolulu",
   "metadata": {},
   "outputs": [
    {
     "data": {
      "text/plain": [
       "array([ 2.21667349e+00, -4.93991656e-03,  9.15004725e-03, -1.26675570e-04,\n",
       "        2.82434030e-05, -1.31517813e-06])"
      ]
     },
     "execution_count": 13,
     "metadata": {},
     "output_type": "execute_result"
    }
   ],
   "source": [
    "coefs = gla['dispersion coefficients'].to_numpy(dtype=float); coefs"
   ]
  },
  {
   "cell_type": "code",
   "execution_count": 14,
   "id": "bacterial-parameter",
   "metadata": {},
   "outputs": [
    {
     "data": {
      "text/plain": [
       "-0.00012667557"
      ]
     },
     "execution_count": 14,
     "metadata": {},
     "output_type": "execute_result"
    }
   ],
   "source": [
    "coefs[3]"
   ]
  },
  {
   "cell_type": "code",
   "execution_count": 15,
   "id": "rough-christian",
   "metadata": {
    "tags": []
   },
   "outputs": [
    {
     "data": {
      "text/plain": [
       "data item\n",
       "2400      0.999\n",
       "2200.0    0.999\n",
       "2000.0    0.999\n",
       "1800.0    0.999\n",
       "1600.0    0.999\n",
       "1400.0    0.999\n",
       "1200.0    0.999\n",
       "1060.0    0.999\n",
       "1000.0    0.999\n",
       "950.0     0.999\n",
       "900.0     0.999\n",
       "850.0     0.999\n",
       "800.0     0.998\n",
       "700.0     0.998\n",
       "650.0     0.998\n",
       "600.0     0.998\n",
       "550.0     0.998\n",
       "500.0     0.998\n",
       "480.0     0.998\n",
       "460.0     0.998\n",
       "440.0     0.996\n",
       "420.0     0.997\n",
       "400.0     0.996\n",
       "390.0     0.995\n",
       "380.0     0.994\n",
       "370.0     0.989\n",
       "360.0     0.982\n",
       "350.0     0.959\n",
       "340.0     0.915\n",
       "330.0     0.834\n",
       "320.0     0.689\n",
       "310.0     0.479\n",
       "300.0     0.249\n",
       "290.0     0.082\n",
       "280.0      <NA>\n",
       "Name: H-FK61, dtype: object"
      ]
     },
     "execution_count": 15,
     "metadata": {},
     "output_type": "execute_result"
    }
   ],
   "source": [
    "cat_df.loc[gname]['internal transmission mm, 10']"
   ]
  },
  {
   "cell_type": "code",
   "execution_count": 16,
   "id": "stretch-basis",
   "metadata": {},
   "outputs": [
    {
     "data": {
      "text/plain": [
       "<PandasArray>\n",
       "[ 1.4901, 1.49182, 1.49407, 1.49513, 1.49543, 1.49571, 1.49694,   1.497,\n",
       " 1.49845, 1.50123, 1.50157, 1.50449, 1.50719, 1.51173]\n",
       "Length: 14, dtype: object"
      ]
     },
     "execution_count": 16,
     "metadata": {},
     "output_type": "execute_result"
    }
   ],
   "source": [
    "cat_df.loc[gname]['refractive indices'].array"
   ]
  },
  {
   "cell_type": "markdown",
   "id": "present-secretary",
   "metadata": {},
   "source": [
    "## Test factory method, create_glass"
   ]
  },
  {
   "cell_type": "code",
   "execution_count": 17,
   "id": "wireless-convert",
   "metadata": {},
   "outputs": [],
   "source": [
    "gla2 = create_glass(gname2, catalog)"
   ]
  },
  {
   "cell_type": "code",
   "execution_count": 18,
   "id": "caring-mercury",
   "metadata": {},
   "outputs": [
    {
     "data": {
      "text/plain": [
       "Index(['t', 's', 'r', 'C', 'C'', 'He-Ne', 'D', 'd', 'e', 'F', 'F'', 'g', 'h',\n",
       "       'i'],\n",
       "      dtype='object', name='data item')"
      ]
     },
     "execution_count": 18,
     "metadata": {},
     "output_type": "execute_result"
    }
   ],
   "source": [
    "wvls = gla2.glass_data()['refractive indices'].index; wvls"
   ]
  },
  {
   "cell_type": "code",
   "execution_count": 19,
   "id": "exotic-judgment",
   "metadata": {},
   "outputs": [
    {
     "name": "stdout",
     "output_type": "stream",
     "text": [
      "t: 1.83192,  1.831921,  6.1e-07\n",
      "s: 1.83694,  1.836938, -2.1e-06\n",
      "r: 1.84398,  1.843979, -6.7e-07\n",
      "C: 1.84746,  1.847455, -4.7e-06\n",
      "C': 1.84844,  1.848439, -1.3e-06\n",
      "He-Ne: 1.84936,  1.849362,  1.5e-06\n",
      "D: 1.85351,  1.853516,  6.5e-06\n",
      "d: 1.8537,  1.853702,  1.6e-06\n",
      "e: 1.85869,  1.858698,  7.7e-06\n",
      "F: 1.8685,  1.868483, -1.7e-05\n",
      "F': 1.86972,  1.869719, -7.4e-07\n",
      "g: 1.88043,  1.880434,  3.5e-06\n",
      "h: 1.8906,  1.890610,    1e-05\n",
      "i: 1.90851,  1.908503,   -7e-06\n"
     ]
    }
   ],
   "source": [
    "for w_str in wvls:\n",
    "    n_line = gla2.meas_rindex(w_str)\n",
    "    try:\n",
    "        n_intrp = gla2.rindex(w_str)\n",
    "    except KeyError:\n",
    "        print(f'{w_str}: {n_line}, Key error')\n",
    "    else:\n",
    "        print(f'{w_str}: {n_line}, {n_intrp:9.6f}, {n_intrp-n_line:8.2g}')"
   ]
  },
  {
   "cell_type": "code",
   "execution_count": 20,
   "id": "gross-riding",
   "metadata": {},
   "outputs": [
    {
     "data": {
      "text/plain": [
       "<PandasArray>\n",
       "[1.83192, 1.83694, 1.84398, 1.84746, 1.84844, 1.84936, 1.85351,  1.8537,\n",
       " 1.85869,  1.8685, 1.86972, 1.88043,  1.8906, 1.90851]\n",
       "Length: 14, dtype: object"
      ]
     },
     "execution_count": 20,
     "metadata": {},
     "output_type": "execute_result"
    }
   ],
   "source": [
    "gla2.meas_rindex(wvls).array"
   ]
  },
  {
   "cell_type": "code",
   "execution_count": 21,
   "id": "broadband-flesh",
   "metadata": {},
   "outputs": [
    {
     "data": {
      "text/plain": [
       "array([1.83192061, 1.83693792, 1.84397933, 1.8474553 , 1.84843874,\n",
       "       1.84936152, 1.85351646, 1.85370157, 1.85869767, 1.86848308,\n",
       "       1.86971926, 1.8804335 , 1.89061007, 1.90850299])"
      ]
     },
     "execution_count": 21,
     "metadata": {},
     "output_type": "execute_result"
    }
   ],
   "source": [
    "gla2.rindex(wvls)"
   ]
  },
  {
   "cell_type": "code",
   "execution_count": 22,
   "id": "agricultural-acting",
   "metadata": {},
   "outputs": [
    {
     "data": {
      "text/plain": [
       "<PandasArray>\n",
       "[ -6.098153100264625e-07,   2.075314018412655e-06,   6.741762670348095e-07,\n",
       "    4.69934306956965e-06,  1.2569466969480914e-06, -1.5224706395589038e-06,\n",
       "  -6.463067201645245e-06,  -1.565882748133518e-06,  -7.670761947187188e-06,\n",
       "  1.6919038720697444e-05,   7.353689648326167e-07,  -3.502558998835781e-06,\n",
       " -1.0069664942546908e-05,   7.010269057028395e-06]\n",
       "Length: 14, dtype: object"
      ]
     },
     "execution_count": 22,
     "metadata": {},
     "output_type": "execute_result"
    }
   ],
   "source": [
    "gla2.meas_rindex(wvls).array-gla2.rindex(wvls)"
   ]
  },
  {
   "cell_type": "code",
   "execution_count": 23,
   "id": "violent-particular",
   "metadata": {},
   "outputs": [
    {
     "data": {
      "text/plain": [
       "3.7"
      ]
     },
     "execution_count": 23,
     "metadata": {},
     "output_type": "execute_result"
    }
   ],
   "source": [
    "cat_df.loc[gname]['specific gravity']['d']"
   ]
  },
  {
   "cell_type": "code",
   "execution_count": 24,
   "id": "dimensional-wichita",
   "metadata": {},
   "outputs": [
    {
     "data": {
      "text/plain": [
       "data item\n",
       "RC(S)    1\n",
       "RA(S)    3\n",
       "DW       1\n",
       "DA       5\n",
       "CR       1\n",
       "Name: H-FK61, dtype: object"
      ]
     },
     "execution_count": 24,
     "metadata": {},
     "output_type": "execute_result"
    }
   ],
   "source": [
    "cat_df.loc[gname]['chemical properties']"
   ]
  },
  {
   "cell_type": "code",
   "execution_count": 25,
   "id": "reduced-berlin",
   "metadata": {},
   "outputs": [
    {
     "data": {
      "text/plain": [
       "data item\n",
       "Tg(℃)                 461\n",
       "Ts(℃)                 486\n",
       "T1014.5(℃)            420\n",
       "T1013(℃)              452\n",
       "T107.6(℃)             533\n",
       "α-30/70℃(10-7/K)      131\n",
       "α100/300℃(10-7/K)     157\n",
       "λ(W/m·K)             <NA>\n",
       "Name: H-FK61, dtype: object"
      ]
     },
     "execution_count": 25,
     "metadata": {},
     "output_type": "execute_result"
    }
   ],
   "source": [
    "cat_df.loc[gname]['thermal properties']"
   ]
  },
  {
   "cell_type": "code",
   "execution_count": 26,
   "id": "favorite-delta",
   "metadata": {},
   "outputs": [
    {
     "data": {
      "text/plain": [
       "data item\n",
       "HK(107Pa)       372\n",
       "FA              343\n",
       "E(107Pa)       7007\n",
       "G(107Pa)       2694\n",
       "μ               0.3\n",
       "B(10-12/Pa)    0.69\n",
       "Name: H-FK61, dtype: object"
      ]
     },
     "execution_count": 26,
     "metadata": {},
     "output_type": "execute_result"
    }
   ],
   "source": [
    "cat_df.loc[gname]['mechanical properties']"
   ]
  },
  {
   "cell_type": "code",
   "execution_count": 27,
   "id": "given-cleanup",
   "metadata": {},
   "outputs": [
    {
     "data": {
      "text/plain": [
       "glass\n",
       "H-FK61    372\n",
       "H-K9L     595\n",
       "Name: HK(107Pa), dtype: Int64"
      ]
     },
     "execution_count": 27,
     "metadata": {},
     "output_type": "execute_result"
    }
   ],
   "source": [
    "cat_df.loc[[gname, gname1]]['mechanical properties']['HK(107Pa)']"
   ]
  },
  {
   "cell_type": "code",
   "execution_count": 28,
   "id": "touched-attitude",
   "metadata": {},
   "outputs": [
    {
     "data": {
      "text/plain": [
       "data item\n",
       "2400      0.709\n",
       "2200.0    0.778\n",
       "2000.0    0.904\n",
       "1800.0    0.957\n",
       "1600.0    0.987\n",
       "1400.0    0.975\n",
       "1200.0    0.998\n",
       "1060.0    0.998\n",
       "1000.0    0.998\n",
       "950.0     0.998\n",
       "900.0     0.998\n",
       "850.0     0.998\n",
       "800.0     0.998\n",
       "700.0     0.997\n",
       "650.0     0.997\n",
       "600.0     0.997\n",
       "550.0     0.997\n",
       "500.0     0.997\n",
       "480.0     0.997\n",
       "460.0     0.997\n",
       "440.0     0.997\n",
       "420.0     0.997\n",
       "400.0     0.997\n",
       "390.0     0.996\n",
       "380.0     0.995\n",
       "370.0     0.995\n",
       "360.0     0.992\n",
       "350.0     0.982\n",
       "340.0     0.974\n",
       "330.0     0.951\n",
       "320.0     0.894\n",
       "310.0     0.776\n",
       "300.0     0.557\n",
       "290.0     0.275\n",
       "280.0      <NA>\n",
       "Name: H-K9L, dtype: object"
      ]
     },
     "execution_count": 28,
     "metadata": {},
     "output_type": "execute_result"
    }
   ],
   "source": [
    "cat_df.loc[gname1]['internal transmission mm, 10']"
   ]
  },
  {
   "cell_type": "code",
   "execution_count": 29,
   "id": "mathematical-vienna",
   "metadata": {},
   "outputs": [
    {
     "data": {
      "text/plain": [
       "<FloatingArray>\n",
       "[  1.497,   1.497,  1.4565, 1.47047, 1.48749, 1.49967, 1.50047, 1.50463,\n",
       " 1.50802, 1.51007,\n",
       " ...\n",
       " 1.76842,  1.7433, 1.73077, 1.73485, 1.80337,    1.81, 1.82241, 1.88385,\n",
       "  1.8088,  1.8537]\n",
       "Length: 240, dtype: Float64"
      ]
     },
     "execution_count": 29,
     "metadata": {},
     "output_type": "execute_result"
    }
   ],
   "source": [
    "cat_df['refractive indices']['d'].array"
   ]
  },
  {
   "cell_type": "code",
   "execution_count": 30,
   "id": "numerical-bible",
   "metadata": {},
   "outputs": [
    {
     "data": {
      "text/html": [
       "<div>\n",
       "<style scoped>\n",
       "    .dataframe tbody tr th:only-of-type {\n",
       "        vertical-align: middle;\n",
       "    }\n",
       "\n",
       "    .dataframe tbody tr th {\n",
       "        vertical-align: top;\n",
       "    }\n",
       "\n",
       "    .dataframe thead th {\n",
       "        text-align: right;\n",
       "    }\n",
       "</style>\n",
       "<table border=\"1\" class=\"dataframe\">\n",
       "  <thead>\n",
       "    <tr style=\"text-align: right;\">\n",
       "      <th>glass</th>\n",
       "      <th>H-FK61</th>\n",
       "      <th>H-K9L</th>\n",
       "    </tr>\n",
       "    <tr>\n",
       "      <th>data item</th>\n",
       "      <th></th>\n",
       "      <th></th>\n",
       "    </tr>\n",
       "  </thead>\n",
       "  <tbody>\n",
       "    <tr>\n",
       "      <th>2400</th>\n",
       "      <td>0.999</td>\n",
       "      <td>0.709</td>\n",
       "    </tr>\n",
       "    <tr>\n",
       "      <th>2200.0</th>\n",
       "      <td>0.999</td>\n",
       "      <td>0.778</td>\n",
       "    </tr>\n",
       "    <tr>\n",
       "      <th>2000.0</th>\n",
       "      <td>0.999</td>\n",
       "      <td>0.904</td>\n",
       "    </tr>\n",
       "    <tr>\n",
       "      <th>1800.0</th>\n",
       "      <td>0.999</td>\n",
       "      <td>0.957</td>\n",
       "    </tr>\n",
       "    <tr>\n",
       "      <th>1600.0</th>\n",
       "      <td>0.999</td>\n",
       "      <td>0.987</td>\n",
       "    </tr>\n",
       "    <tr>\n",
       "      <th>1400.0</th>\n",
       "      <td>0.999</td>\n",
       "      <td>0.975</td>\n",
       "    </tr>\n",
       "    <tr>\n",
       "      <th>1200.0</th>\n",
       "      <td>0.999</td>\n",
       "      <td>0.998</td>\n",
       "    </tr>\n",
       "    <tr>\n",
       "      <th>1060.0</th>\n",
       "      <td>0.999</td>\n",
       "      <td>0.998</td>\n",
       "    </tr>\n",
       "    <tr>\n",
       "      <th>1000.0</th>\n",
       "      <td>0.999</td>\n",
       "      <td>0.998</td>\n",
       "    </tr>\n",
       "    <tr>\n",
       "      <th>950.0</th>\n",
       "      <td>0.999</td>\n",
       "      <td>0.998</td>\n",
       "    </tr>\n",
       "    <tr>\n",
       "      <th>900.0</th>\n",
       "      <td>0.999</td>\n",
       "      <td>0.998</td>\n",
       "    </tr>\n",
       "    <tr>\n",
       "      <th>850.0</th>\n",
       "      <td>0.999</td>\n",
       "      <td>0.998</td>\n",
       "    </tr>\n",
       "    <tr>\n",
       "      <th>800.0</th>\n",
       "      <td>0.998</td>\n",
       "      <td>0.998</td>\n",
       "    </tr>\n",
       "    <tr>\n",
       "      <th>700.0</th>\n",
       "      <td>0.998</td>\n",
       "      <td>0.997</td>\n",
       "    </tr>\n",
       "    <tr>\n",
       "      <th>650.0</th>\n",
       "      <td>0.998</td>\n",
       "      <td>0.997</td>\n",
       "    </tr>\n",
       "    <tr>\n",
       "      <th>600.0</th>\n",
       "      <td>0.998</td>\n",
       "      <td>0.997</td>\n",
       "    </tr>\n",
       "    <tr>\n",
       "      <th>550.0</th>\n",
       "      <td>0.998</td>\n",
       "      <td>0.997</td>\n",
       "    </tr>\n",
       "    <tr>\n",
       "      <th>500.0</th>\n",
       "      <td>0.998</td>\n",
       "      <td>0.997</td>\n",
       "    </tr>\n",
       "    <tr>\n",
       "      <th>480.0</th>\n",
       "      <td>0.998</td>\n",
       "      <td>0.997</td>\n",
       "    </tr>\n",
       "    <tr>\n",
       "      <th>460.0</th>\n",
       "      <td>0.998</td>\n",
       "      <td>0.997</td>\n",
       "    </tr>\n",
       "    <tr>\n",
       "      <th>440.0</th>\n",
       "      <td>0.996</td>\n",
       "      <td>0.997</td>\n",
       "    </tr>\n",
       "    <tr>\n",
       "      <th>420.0</th>\n",
       "      <td>0.997</td>\n",
       "      <td>0.997</td>\n",
       "    </tr>\n",
       "    <tr>\n",
       "      <th>400.0</th>\n",
       "      <td>0.996</td>\n",
       "      <td>0.997</td>\n",
       "    </tr>\n",
       "    <tr>\n",
       "      <th>390.0</th>\n",
       "      <td>0.995</td>\n",
       "      <td>0.996</td>\n",
       "    </tr>\n",
       "    <tr>\n",
       "      <th>380.0</th>\n",
       "      <td>0.994</td>\n",
       "      <td>0.995</td>\n",
       "    </tr>\n",
       "    <tr>\n",
       "      <th>370.0</th>\n",
       "      <td>0.989</td>\n",
       "      <td>0.995</td>\n",
       "    </tr>\n",
       "    <tr>\n",
       "      <th>360.0</th>\n",
       "      <td>0.982</td>\n",
       "      <td>0.992</td>\n",
       "    </tr>\n",
       "    <tr>\n",
       "      <th>350.0</th>\n",
       "      <td>0.959</td>\n",
       "      <td>0.982</td>\n",
       "    </tr>\n",
       "    <tr>\n",
       "      <th>340.0</th>\n",
       "      <td>0.915</td>\n",
       "      <td>0.974</td>\n",
       "    </tr>\n",
       "    <tr>\n",
       "      <th>330.0</th>\n",
       "      <td>0.834</td>\n",
       "      <td>0.951</td>\n",
       "    </tr>\n",
       "    <tr>\n",
       "      <th>320.0</th>\n",
       "      <td>0.689</td>\n",
       "      <td>0.894</td>\n",
       "    </tr>\n",
       "    <tr>\n",
       "      <th>310.0</th>\n",
       "      <td>0.479</td>\n",
       "      <td>0.776</td>\n",
       "    </tr>\n",
       "    <tr>\n",
       "      <th>300.0</th>\n",
       "      <td>0.249</td>\n",
       "      <td>0.557</td>\n",
       "    </tr>\n",
       "    <tr>\n",
       "      <th>290.0</th>\n",
       "      <td>0.082</td>\n",
       "      <td>0.275</td>\n",
       "    </tr>\n",
       "    <tr>\n",
       "      <th>280.0</th>\n",
       "      <td>&lt;NA&gt;</td>\n",
       "      <td>&lt;NA&gt;</td>\n",
       "    </tr>\n",
       "  </tbody>\n",
       "</table>\n",
       "</div>"
      ],
      "text/plain": [
       "glass      H-FK61  H-K9L\n",
       "data item               \n",
       "2400        0.999  0.709\n",
       "2200.0      0.999  0.778\n",
       "2000.0      0.999  0.904\n",
       "1800.0      0.999  0.957\n",
       "1600.0      0.999  0.987\n",
       "1400.0      0.999  0.975\n",
       "1200.0      0.999  0.998\n",
       "1060.0      0.999  0.998\n",
       "1000.0      0.999  0.998\n",
       "950.0       0.999  0.998\n",
       "900.0       0.999  0.998\n",
       "850.0       0.999  0.998\n",
       "800.0       0.998  0.998\n",
       "700.0       0.998  0.997\n",
       "650.0       0.998  0.997\n",
       "600.0       0.998  0.997\n",
       "550.0       0.998  0.997\n",
       "500.0       0.998  0.997\n",
       "480.0       0.998  0.997\n",
       "460.0       0.998  0.997\n",
       "440.0       0.996  0.997\n",
       "420.0       0.997  0.997\n",
       "400.0       0.996  0.997\n",
       "390.0       0.995  0.996\n",
       "380.0       0.994  0.995\n",
       "370.0       0.989  0.995\n",
       "360.0       0.982  0.992\n",
       "350.0       0.959  0.982\n",
       "340.0       0.915  0.974\n",
       "330.0       0.834  0.951\n",
       "320.0       0.689  0.894\n",
       "310.0       0.479  0.776\n",
       "300.0       0.249  0.557\n",
       "290.0       0.082  0.275\n",
       "280.0        <NA>   <NA>"
      ]
     },
     "execution_count": 30,
     "metadata": {},
     "output_type": "execute_result"
    }
   ],
   "source": [
    "trns_data = cat_df.loc[[gname, gname1]]['internal transmission mm, 10'].T; trns_data"
   ]
  },
  {
   "cell_type": "code",
   "execution_count": 31,
   "id": "confidential-wheel",
   "metadata": {},
   "outputs": [
    {
     "data": {
      "text/plain": [
       "<AxesSubplot:xlabel='data item'>"
      ]
     },
     "execution_count": 31,
     "metadata": {},
     "output_type": "execute_result"
    },
    {
     "data": {
      "image/png": "[encoded data removed]",
      "text/plain": [
       "<Figure size 432x288 with 1 Axes>"
      ]
     },
     "metadata": {
      "needs_background": "light"
     },
     "output_type": "display_data"
    }
   ],
   "source": [
    "trns_data.plot()"
   ]
  },
  {
   "cell_type": "code",
   "execution_count": 32,
   "id": "seasonal-specific",
   "metadata": {},
   "outputs": [
    {
     "data": {
      "text/plain": [
       "<AxesSubplot:xlabel='data item'>"
      ]
     },
     "execution_count": 32,
     "metadata": {},
     "output_type": "execute_result"
    },
    {
     "data": {
      "image/png": "[encoded data removed]",
      "text/plain": [
       "<Figure size 432x288 with 1 Axes>"
      ]
     },
     "metadata": {
      "needs_background": "light"
     },
     "output_type": "display_data"
    }
   ],
   "source": [
    "cat_df['internal transmission mm, 10'].T.plot(legend=False)"
   ]
  },
  {
   "cell_type": "code",
   "execution_count": 33,
   "id": "impressive-appointment",
   "metadata": {},
   "outputs": [],
   "source": [
    "gla_v2 = cdgm.CDGMGlass(gname)"
   ]
  },
  {
   "cell_type": "code",
   "execution_count": 34,
   "id": "palestinian-pregnancy",
   "metadata": {},
   "outputs": [
    {
     "data": {
      "text/plain": [
       "1.50123"
      ]
     },
     "execution_count": 34,
     "metadata": {},
     "output_type": "execute_result"
    }
   ],
   "source": [
    "gla_v2.meas_rindex('F')"
   ]
  },
  {
   "cell_type": "code",
   "execution_count": 35,
   "id": "matched-exposure",
   "metadata": {},
   "outputs": [
    {
     "data": {
      "text/plain": [
       "'497.816'"
      ]
     },
     "execution_count": 35,
     "metadata": {},
     "output_type": "execute_result"
    }
   ],
   "source": [
    "gla_v2.glass_code()"
   ]
  },
  {
   "cell_type": "code",
   "execution_count": 36,
   "id": "deluxe-kazakhstan",
   "metadata": {},
   "outputs": [
    {
     "ename": "TypeError",
     "evalue": "float() argument must be a string or a number, not 'NAType'",
     "output_type": "error",
     "traceback": [
      "\u001b[0;31m---------------------------------------------------------------------------\u001b[0m",
      "\u001b[0;31mTypeError\u001b[0m                                 Traceback (most recent call last)",
      "Input \u001b[0;32mIn [36]\u001b[0m, in \u001b[0;36m<cell line: 1>\u001b[0;34m()\u001b[0m\n\u001b[0;32m----> 1\u001b[0m \u001b[43mgla_v2\u001b[49m\u001b[38;5;241;43m.\u001b[39;49m\u001b[43mtransmission_data\u001b[49m\u001b[43m(\u001b[49m\u001b[43m)\u001b[49m\n",
      "File \u001b[0;32m~/Developer/PyProjects/opticalglass/opticalglass/glass.py:512\u001b[0m, in \u001b[0;36mGlassPandas.transmission_data\u001b[0;34m(self)\u001b[0m\n\u001b[1;32m    507\u001b[0m \u001b[38;5;124;03m\"\"\" returns an array of transmission data for the glass\u001b[39;00m\n\u001b[1;32m    508\u001b[0m \n\u001b[1;32m    509\u001b[0m \u001b[38;5;124;03mReturns: list of wavelength, transmittance pairs for 10mm sample\u001b[39;00m\n\u001b[1;32m    510\u001b[0m \u001b[38;5;124;03m\"\"\"\u001b[39;00m\n\u001b[1;32m    511\u001b[0m glas \u001b[38;5;241m=\u001b[39m \u001b[38;5;28mself\u001b[39m\u001b[38;5;241m.\u001b[39mglass_data()\n\u001b[0;32m--> 512\u001b[0m \u001b[38;5;28;01mreturn\u001b[39;00m \u001b[43mglas\u001b[49m\u001b[43m[\u001b[49m\u001b[38;5;124;43m'\u001b[39;49m\u001b[38;5;124;43minternal transmission mm, 10\u001b[39;49m\u001b[38;5;124;43m'\u001b[39;49m\u001b[43m]\u001b[49m\u001b[38;5;241;43m.\u001b[39;49m\u001b[43mto_numpy\u001b[49m\u001b[43m(\u001b[49m\u001b[43mdtype\u001b[49m\u001b[38;5;241;43m=\u001b[39;49m\u001b[38;5;28;43mfloat\u001b[39;49m\u001b[43m)\u001b[49m\n",
      "File \u001b[0;32m~/Developer/miniconda3/envs/og_dev/lib/python3.8/site-packages/pandas/core/base.py:537\u001b[0m, in \u001b[0;36mIndexOpsMixin.to_numpy\u001b[0;34m(self, dtype, copy, na_value, **kwargs)\u001b[0m\n\u001b[1;32m    532\u001b[0m     bad_keys \u001b[38;5;241m=\u001b[39m \u001b[38;5;28mlist\u001b[39m(kwargs\u001b[38;5;241m.\u001b[39mkeys())[\u001b[38;5;241m0\u001b[39m]\n\u001b[1;32m    533\u001b[0m     \u001b[38;5;28;01mraise\u001b[39;00m \u001b[38;5;167;01mTypeError\u001b[39;00m(\n\u001b[1;32m    534\u001b[0m         \u001b[38;5;124mf\u001b[39m\u001b[38;5;124m\"\u001b[39m\u001b[38;5;124mto_numpy() got an unexpected keyword argument \u001b[39m\u001b[38;5;124m'\u001b[39m\u001b[38;5;132;01m{\u001b[39;00mbad_keys\u001b[38;5;132;01m}\u001b[39;00m\u001b[38;5;124m'\u001b[39m\u001b[38;5;124m\"\u001b[39m\n\u001b[1;32m    535\u001b[0m     )\n\u001b[0;32m--> 537\u001b[0m result \u001b[38;5;241m=\u001b[39m \u001b[43mnp\u001b[49m\u001b[38;5;241;43m.\u001b[39;49m\u001b[43masarray\u001b[49m\u001b[43m(\u001b[49m\u001b[38;5;28;43mself\u001b[39;49m\u001b[38;5;241;43m.\u001b[39;49m\u001b[43m_values\u001b[49m\u001b[43m,\u001b[49m\u001b[43m \u001b[49m\u001b[43mdtype\u001b[49m\u001b[38;5;241;43m=\u001b[39;49m\u001b[43mdtype\u001b[49m\u001b[43m)\u001b[49m\n\u001b[1;32m    538\u001b[0m \u001b[38;5;66;03m# TODO(GH-24345): Avoid potential double copy\u001b[39;00m\n\u001b[1;32m    539\u001b[0m \u001b[38;5;28;01mif\u001b[39;00m copy \u001b[38;5;129;01mor\u001b[39;00m na_value \u001b[38;5;129;01mis\u001b[39;00m \u001b[38;5;129;01mnot\u001b[39;00m lib\u001b[38;5;241m.\u001b[39mno_default:\n",
      "\u001b[0;31mTypeError\u001b[0m: float() argument must be a string or a number, not 'NAType'"
     ]
    }
   ],
   "source": [
    "gla_v2.transmission_data()"
   ]
  },
  {
   "cell_type": "code",
   "execution_count": null,
   "id": "basic-forge",
   "metadata": {},
   "outputs": [],
   "source": [
    "gla_v2.glass_data()['internal transmission mm, 10']"
   ]
  },
  {
   "cell_type": "code",
   "execution_count": null,
   "id": "heavy-basics",
   "metadata": {},
   "outputs": [],
   "source": [
    "gla_v2.glass_data()['internal transmission mm, 10'][2400.0]"
   ]
  },
  {
   "cell_type": "code",
   "execution_count": null,
   "id": "injured-adapter",
   "metadata": {},
   "outputs": [],
   "source": [
    "len(gla_v2.glass_data()['internal transmission mm, 10'])"
   ]
  },
  {
   "cell_type": "code",
   "execution_count": null,
   "id": "comprehensive-handling",
   "metadata": {},
   "outputs": [],
   "source": [
    "gla_v2.glass_data()['internal transmission mm, 10'].to_numpy(dtype=float, na_value=None)"
   ]
  },
  {
   "cell_type": "code",
   "execution_count": null,
   "id": "digital-shopper",
   "metadata": {},
   "outputs": [],
   "source": []
  }
 ],
 "metadata": {
  "kernelspec": {
   "display_name": "Python 3 (ipykernel)",
   "language": "python",
   "name": "python3"
  },
  "language_info": {
   "codemirror_mode": {
    "name": "ipython",
    "version": 3
   },
   "file_extension": ".py",
   "mimetype": "text/x-python",
   "name": "python",
   "nbconvert_exporter": "python",
   "pygments_lexer": "ipython3",
   "version": "3.8.10"
  }
 },
 "nbformat": 4,
 "nbformat_minor": 5
}
