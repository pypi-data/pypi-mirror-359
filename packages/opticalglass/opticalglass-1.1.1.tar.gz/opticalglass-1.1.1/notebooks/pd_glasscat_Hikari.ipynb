{
 "cells": [
  {
   "cell_type": "code",
   "execution_count": 1,
   "id": "published-pillow",
   "metadata": {},
   "outputs": [],
   "source": [
    "import warnings\n",
    "\n",
    "from opticalglass.glass import get_filepath\n",
    "\n",
    "import opticalglass as og\n",
    "import opticalglass.buchdahl as buchdahl\n",
    "import opticalglass.glass as ogl\n",
    "from opticalglass.glassfactory import create_glass\n",
    "from opticalglass import hikari\n",
    "\n",
    "import numpy as np\n",
    "import pandas as pd\n",
    "import matplotlib.pyplot as plt"
   ]
  },
  {
   "cell_type": "markdown",
   "id": "innocent-season",
   "metadata": {},
   "source": [
    "# Build Multi-Index for Hikari"
   ]
  },
  {
   "cell_type": "code",
   "execution_count": 2,
   "id": "compatible-colon",
   "metadata": {},
   "outputs": [],
   "source": [
    "catalog = 'Hikari'\n",
    "gname = 'J-FK5'\n",
    "gname1 = 'Q-LASFPH3S'\n",
    "gname2 = 'J-FKH2'"
   ]
  },
  {
   "cell_type": "raw",
   "id": "broken-bennett",
   "metadata": {},
   "source": [
    "vendor_df = ogl.xl2df('HIKARI.xlsx')"
   ]
  },
  {
   "cell_type": "raw",
   "id": "surface-nitrogen",
   "metadata": {},
   "source": [
    "# the xl_df has indices and columns that match the Excel worksheet border.\n",
    "# the index runs from 1 to xl_df.shape[0]\n",
    "# the columns match the pattern 'A', 'B', 'C', ... 'Z', 'AA', 'AB', ...\n",
    "# this facilitates transferring areas on the spreadsheet to areas in the catalog DataFrame\n",
    "\n",
    "num_rows = 3  # number of header rows in the imported spreadsheet\n",
    "category_row = 2  # row with categories\n",
    "header_row = 3  # row with data item/header info\n",
    "data_col = 'B'  # first column of data in the imported spreadsheet\n",
    "args = num_rows, category_row , header_row, data_col\n",
    "\n",
    "series_mappings = [\n",
    "    ('refractive indices', hikari.HikariCatalog.get_rindx_wvl, \n",
    "     header_row, 'D', 'X'),\n",
    "    ('dispersion coefficients', None, header_row, 'BD', 'BL'),\n",
    "    ('internal transmission mm, 10', hikari.HikariCatalog.get_transmission_wvl,\n",
    "     header_row, 'CY', 'ED'),\n",
    "    ('chemical properties', None, header_row, 'CH', 'CL'),\n",
    "    ('thermal properties', None, header_row, 'BW', 'CF'),\n",
    "    ('mechanical properties', None, header_row, 'CM', 'CR'),\n",
    "    ]\n",
    "item_mappings = [\n",
    "    ('abbe number', 'vd', header_row, 'Y'),\n",
    "    ('abbe number', 've', header_row, 'Z'),\n",
    "    ('refractive indices', 't', header_row, 'I'),\n",
    "    ('refractive indices', 's', header_row, 'J'),\n",
    "    ]\n",
    "kwargs = dict(\n",
    "    data_extent = (4, 163, data_col, 'GE'),\n",
    "    name_col_offset = 'A',\n",
    "    )"
   ]
  },
  {
   "cell_type": "raw",
   "id": "brave-snake",
   "metadata": {},
   "source": [
    "cat_df = ogl.build_glass_cat(vendor_df, series_mappings, item_mappings, *args, **kwargs)"
   ]
  },
  {
   "cell_type": "code",
   "execution_count": 3,
   "id": "welsh-deposit",
   "metadata": {},
   "outputs": [],
   "source": [
    "cat_pd = hikari.HikariCatalog()\n",
    "cat_df = cat_pd.df"
   ]
  },
  {
   "cell_type": "code",
   "execution_count": 4,
   "id": "crazy-excerpt",
   "metadata": {
    "tags": []
   },
   "outputs": [
    {
     "data": {
      "text/html": [
       "<div>\n",
       "<style scoped>\n",
       "    .dataframe tbody tr th:only-of-type {\n",
       "        vertical-align: middle;\n",
       "    }\n",
       "\n",
       "    .dataframe tbody tr th {\n",
       "        vertical-align: top;\n",
       "    }\n",
       "\n",
       "    .dataframe thead tr th {\n",
       "        text-align: left;\n",
       "    }\n",
       "\n",
       "    .dataframe thead tr:last-of-type th {\n",
       "        text-align: right;\n",
       "    }\n",
       "</style>\n",
       "<table border=\"1\" class=\"dataframe\">\n",
       "  <thead>\n",
       "    <tr>\n",
       "      <th>category</th>\n",
       "      <th>コード Glass code</th>\n",
       "      <th>0</th>\n",
       "      <th colspan=\"8\" halign=\"left\">refractive indices</th>\n",
       "      <th>...</th>\n",
       "      <th>相対 Relative Δn/ΔT  0ºC to +20ºC\\n（1E-6/ºC）</th>\n",
       "      <th>相対 Relative Δn/ΔT  +20ºC to +40ºC\\n（1E-6/ºC）</th>\n",
       "      <th>相対 Relative Δn/ΔT  +40ºC to +60ºC\\n（1E-6/ºC）</th>\n",
       "      <th>相対 Relative Δn/ΔT  +60ºC to +80ºC\\n（1E-6/ºC）　参考値</th>\n",
       "      <th>相対 Relative Δn/ΔT  +80ºC to +90ºC\\n（1E-6/ºC）　参考値</th>\n",
       "      <th>生産頻度 Product frequency (A to D)</th>\n",
       "      <th>他社硝種 Similar glass type</th>\n",
       "      <th colspan=\"3\" halign=\"left\">0</th>\n",
       "    </tr>\n",
       "    <tr>\n",
       "      <th>data item</th>\n",
       "      <th>コードCode(d)</th>\n",
       "      <th>コードCode(e)</th>\n",
       "      <th>2058.09</th>\n",
       "      <th>1970.09</th>\n",
       "      <th>1529.582</th>\n",
       "      <th>1128.64</th>\n",
       "      <th>1064.14</th>\n",
       "      <th>t</th>\n",
       "      <th>s</th>\n",
       "      <th>A'</th>\n",
       "      <th>...</th>\n",
       "      <th>C</th>\n",
       "      <th>C</th>\n",
       "      <th>C</th>\n",
       "      <th>C</th>\n",
       "      <th>C</th>\n",
       "      <th>0</th>\n",
       "      <th>オハラ　OHARA</th>\n",
       "      <th>HOYA</th>\n",
       "      <th>成都光明光電　CDGM</th>\n",
       "      <th>ショット　SCHOTT</th>\n",
       "    </tr>\n",
       "    <tr>\n",
       "      <th>glass</th>\n",
       "      <th></th>\n",
       "      <th></th>\n",
       "      <th></th>\n",
       "      <th></th>\n",
       "      <th></th>\n",
       "      <th></th>\n",
       "      <th></th>\n",
       "      <th></th>\n",
       "      <th></th>\n",
       "      <th></th>\n",
       "      <th></th>\n",
       "      <th></th>\n",
       "      <th></th>\n",
       "      <th></th>\n",
       "      <th></th>\n",
       "      <th></th>\n",
       "      <th></th>\n",
       "      <th></th>\n",
       "      <th></th>\n",
       "      <th></th>\n",
       "      <th></th>\n",
       "    </tr>\n",
       "  </thead>\n",
       "  <tbody>\n",
       "    <tr>\n",
       "      <th>J-FK5</th>\n",
       "      <td>487703</td>\n",
       "      <td>489701</td>\n",
       "      <td>1.46613</td>\n",
       "      <td>1.46742</td>\n",
       "      <td>1.47314</td>\n",
       "      <td>1.47773</td>\n",
       "      <td>1.4785</td>\n",
       "      <td>1.47912</td>\n",
       "      <td>1.48137</td>\n",
       "      <td>1.482813</td>\n",
       "      <td>...</td>\n",
       "      <td>-1.6</td>\n",
       "      <td>-1.5</td>\n",
       "      <td>-1.3</td>\n",
       "      <td>-1.2</td>\n",
       "      <td>-1.0</td>\n",
       "      <td>A</td>\n",
       "      <td>S-FSL5</td>\n",
       "      <td>FC5</td>\n",
       "      <td>H-QK3L</td>\n",
       "      <td>N-FK5</td>\n",
       "    </tr>\n",
       "    <tr>\n",
       "      <th>J-FK01A</th>\n",
       "      <td>497817</td>\n",
       "      <td>498813</td>\n",
       "      <td>1.48179</td>\n",
       "      <td>1.48255</td>\n",
       "      <td>1.48604</td>\n",
       "      <td>1.48909</td>\n",
       "      <td>1.48964</td>\n",
       "      <td>1.49009</td>\n",
       "      <td>1.49183</td>\n",
       "      <td>1.493004</td>\n",
       "      <td>...</td>\n",
       "      <td>-5.3</td>\n",
       "      <td>-5.6</td>\n",
       "      <td>-5.8</td>\n",
       "      <td>-6.0</td>\n",
       "      <td>-6.2</td>\n",
       "      <td>A</td>\n",
       "      <td>S-FPL51</td>\n",
       "      <td>FCD1</td>\n",
       "      <td>H-FK61</td>\n",
       "      <td>N-PK52A</td>\n",
       "    </tr>\n",
       "    <tr>\n",
       "      <th>J-FKH1</th>\n",
       "      <td>498826</td>\n",
       "      <td>499821</td>\n",
       "      <td>1.48334</td>\n",
       "      <td>1.48404</td>\n",
       "      <td>1.48723</td>\n",
       "      <td>1.49009</td>\n",
       "      <td>1.49062</td>\n",
       "      <td>1.49105</td>\n",
       "      <td>1.49273</td>\n",
       "      <td>1.49388</td>\n",
       "      <td>...</td>\n",
       "      <td>-6.0</td>\n",
       "      <td>-6.3</td>\n",
       "      <td>-6.5</td>\n",
       "      <td>-6.7</td>\n",
       "      <td>-6.8</td>\n",
       "      <td>A</td>\n",
       "      <td>-</td>\n",
       "      <td>-</td>\n",
       "      <td>-</td>\n",
       "      <td>-</td>\n",
       "    </tr>\n",
       "    <tr>\n",
       "      <th>J-FKH2</th>\n",
       "      <td>456914</td>\n",
       "      <td>457910</td>\n",
       "      <td>1.44327</td>\n",
       "      <td>1.44391</td>\n",
       "      <td>1.44685</td>\n",
       "      <td>1.44943</td>\n",
       "      <td>1.4499</td>\n",
       "      <td>1.45028</td>\n",
       "      <td>1.45173</td>\n",
       "      <td>1.452705</td>\n",
       "      <td>...</td>\n",
       "      <td>-5.8</td>\n",
       "      <td>-6.1</td>\n",
       "      <td>-6.3</td>\n",
       "      <td>-6.5</td>\n",
       "      <td>-6.7</td>\n",
       "      <td>C</td>\n",
       "      <td>-</td>\n",
       "      <td>-</td>\n",
       "      <td>-</td>\n",
       "      <td>N-FK58</td>\n",
       "    </tr>\n",
       "    <tr>\n",
       "      <th>J-PKH1</th>\n",
       "      <td>519699</td>\n",
       "      <td>520697</td>\n",
       "      <td>1.49701</td>\n",
       "      <td>1.49826</td>\n",
       "      <td>1.50384</td>\n",
       "      <td>1.5084</td>\n",
       "      <td>1.50918</td>\n",
       "      <td>1.5098</td>\n",
       "      <td>1.51212</td>\n",
       "      <td>1.513636</td>\n",
       "      <td>...</td>\n",
       "      <td>3.4</td>\n",
       "      <td>3.5</td>\n",
       "      <td>3.7</td>\n",
       "      <td>3.8</td>\n",
       "      <td>4.0</td>\n",
       "      <td>C</td>\n",
       "      <td>-</td>\n",
       "      <td>-</td>\n",
       "      <td>-</td>\n",
       "      <td>-</td>\n",
       "    </tr>\n",
       "    <tr>\n",
       "      <th>...</th>\n",
       "      <td>...</td>\n",
       "      <td>...</td>\n",
       "      <td>...</td>\n",
       "      <td>...</td>\n",
       "      <td>...</td>\n",
       "      <td>...</td>\n",
       "      <td>...</td>\n",
       "      <td>...</td>\n",
       "      <td>...</td>\n",
       "      <td>...</td>\n",
       "      <td>...</td>\n",
       "      <td>...</td>\n",
       "      <td>...</td>\n",
       "      <td>...</td>\n",
       "      <td>...</td>\n",
       "      <td>...</td>\n",
       "      <td>...</td>\n",
       "      <td>...</td>\n",
       "      <td>...</td>\n",
       "      <td>...</td>\n",
       "      <td>...</td>\n",
       "    </tr>\n",
       "    <tr>\n",
       "      <th>Q-LASFH12S</th>\n",
       "      <td>791450</td>\n",
       "      <td>795447</td>\n",
       "      <td>1.75381</td>\n",
       "      <td>1.75536</td>\n",
       "      <td>1.76263</td>\n",
       "      <td>1.76952</td>\n",
       "      <td>1.77084</td>\n",
       "      <td>1.77195</td>\n",
       "      <td>1.77638</td>\n",
       "      <td>1.779505</td>\n",
       "      <td>...</td>\n",
       "      <td>7.0</td>\n",
       "      <td>7.1</td>\n",
       "      <td>7.3</td>\n",
       "      <td>7.5</td>\n",
       "      <td>7.7</td>\n",
       "      <td>B</td>\n",
       "      <td>-</td>\n",
       "      <td>-</td>\n",
       "      <td>-</td>\n",
       "      <td>-</td>\n",
       "    </tr>\n",
       "    <tr>\n",
       "      <th>Q-LASFH58S</th>\n",
       "      <td>851401</td>\n",
       "      <td>856399</td>\n",
       "      <td>1.80962</td>\n",
       "      <td>1.81124</td>\n",
       "      <td>1.81888</td>\n",
       "      <td>1.82635</td>\n",
       "      <td>1.82783</td>\n",
       "      <td>1.82909</td>\n",
       "      <td>1.83417</td>\n",
       "      <td>1.83783</td>\n",
       "      <td>...</td>\n",
       "      <td>6.2</td>\n",
       "      <td>6.3</td>\n",
       "      <td>6.5</td>\n",
       "      <td>6.7</td>\n",
       "      <td>6.8</td>\n",
       "      <td>A</td>\n",
       "      <td>-</td>\n",
       "      <td>-</td>\n",
       "      <td>-</td>\n",
       "      <td>-</td>\n",
       "    </tr>\n",
       "    <tr>\n",
       "      <th>Q-LASFH59S</th>\n",
       "      <td>821425</td>\n",
       "      <td>826423</td>\n",
       "      <td>1.78242</td>\n",
       "      <td>1.78396</td>\n",
       "      <td>1.79121</td>\n",
       "      <td>1.79825</td>\n",
       "      <td>1.79962</td>\n",
       "      <td>1.80079</td>\n",
       "      <td>1.8055</td>\n",
       "      <td>1.80886</td>\n",
       "      <td>...</td>\n",
       "      <td>7.0</td>\n",
       "      <td>7.2</td>\n",
       "      <td>7.4</td>\n",
       "      <td>7.6</td>\n",
       "      <td>7.8</td>\n",
       "      <td>B</td>\n",
       "      <td>-</td>\n",
       "      <td>-</td>\n",
       "      <td>-</td>\n",
       "      <td>-</td>\n",
       "    </tr>\n",
       "    <tr>\n",
       "      <th>Q-LASFPH2S</th>\n",
       "      <td>765468</td>\n",
       "      <td>769465</td>\n",
       "      <td>1.7294</td>\n",
       "      <td>1.73104</td>\n",
       "      <td>1.73858</td>\n",
       "      <td>1.74544</td>\n",
       "      <td>1.74672</td>\n",
       "      <td>1.7478</td>\n",
       "      <td>1.75204</td>\n",
       "      <td>1.755003</td>\n",
       "      <td>...</td>\n",
       "      <td>7.9</td>\n",
       "      <td>8.1</td>\n",
       "      <td>8.3</td>\n",
       "      <td>8.5</td>\n",
       "      <td>8.8</td>\n",
       "      <td>A</td>\n",
       "      <td>-</td>\n",
       "      <td>-</td>\n",
       "      <td>-</td>\n",
       "      <td>-</td>\n",
       "    </tr>\n",
       "    <tr>\n",
       "      <th>Q-LASFPH3S</th>\n",
       "      <td>795453</td>\n",
       "      <td>799450</td>\n",
       "      <td>1.75803</td>\n",
       "      <td>1.75965</td>\n",
       "      <td>1.76712</td>\n",
       "      <td>1.77409</td>\n",
       "      <td>1.77541</td>\n",
       "      <td>1.77653</td>\n",
       "      <td>1.78098</td>\n",
       "      <td>1.784115</td>\n",
       "      <td>...</td>\n",
       "      <td>7.2</td>\n",
       "      <td>7.3</td>\n",
       "      <td>7.5</td>\n",
       "      <td>7.7</td>\n",
       "      <td>7.9</td>\n",
       "      <td>A</td>\n",
       "      <td>-</td>\n",
       "      <td>-</td>\n",
       "      <td>-</td>\n",
       "      <td>-</td>\n",
       "    </tr>\n",
       "  </tbody>\n",
       "</table>\n",
       "<p>160 rows × 143 columns</p>\n",
       "</div>"
      ],
      "text/plain": [
       "category   コード Glass code          0 refractive indices                    \\\n",
       "data item      コードCode(d) コードCode(e)            2058.09  1970.09 1529.582   \n",
       "glass                                                                       \n",
       "J-FK5              487703     489701            1.46613  1.46742  1.47314   \n",
       "J-FK01A            497817     498813            1.48179  1.48255  1.48604   \n",
       "J-FKH1             498826     499821            1.48334  1.48404  1.48723   \n",
       "J-FKH2             456914     457910            1.44327  1.44391  1.44685   \n",
       "J-PKH1             519699     520697            1.49701  1.49826  1.50384   \n",
       "...                   ...        ...                ...      ...      ...   \n",
       "Q-LASFH12S         791450     795447            1.75381  1.75536  1.76263   \n",
       "Q-LASFH58S         851401     856399            1.80962  1.81124  1.81888   \n",
       "Q-LASFH59S         821425     826423            1.78242  1.78396  1.79121   \n",
       "Q-LASFPH2S         765468     769465             1.7294  1.73104  1.73858   \n",
       "Q-LASFPH3S         795453     799450            1.75803  1.75965  1.76712   \n",
       "\n",
       "category                                                  ...  \\\n",
       "data item   1128.64  1064.14        t        s        A'  ...   \n",
       "glass                                                     ...   \n",
       "J-FK5       1.47773   1.4785  1.47912  1.48137  1.482813  ...   \n",
       "J-FK01A     1.48909  1.48964  1.49009  1.49183  1.493004  ...   \n",
       "J-FKH1      1.49009  1.49062  1.49105  1.49273   1.49388  ...   \n",
       "J-FKH2      1.44943   1.4499  1.45028  1.45173  1.452705  ...   \n",
       "J-PKH1       1.5084  1.50918   1.5098  1.51212  1.513636  ...   \n",
       "...             ...      ...      ...      ...       ...  ...   \n",
       "Q-LASFH12S  1.76952  1.77084  1.77195  1.77638  1.779505  ...   \n",
       "Q-LASFH58S  1.82635  1.82783  1.82909  1.83417   1.83783  ...   \n",
       "Q-LASFH59S  1.79825  1.79962  1.80079   1.8055   1.80886  ...   \n",
       "Q-LASFPH2S  1.74544  1.74672   1.7478  1.75204  1.755003  ...   \n",
       "Q-LASFPH3S  1.77409  1.77541  1.77653  1.78098  1.784115  ...   \n",
       "\n",
       "category   相対 Relative Δn/ΔT  0ºC to +20ºC\\n（1E-6/ºC）  \\\n",
       "data item                                           C   \n",
       "glass                                                   \n",
       "J-FK5                                            -1.6   \n",
       "J-FK01A                                          -5.3   \n",
       "J-FKH1                                           -6.0   \n",
       "J-FKH2                                           -5.8   \n",
       "J-PKH1                                            3.4   \n",
       "...                                               ...   \n",
       "Q-LASFH12S                                        7.0   \n",
       "Q-LASFH58S                                        6.2   \n",
       "Q-LASFH59S                                        7.0   \n",
       "Q-LASFPH2S                                        7.9   \n",
       "Q-LASFPH3S                                        7.2   \n",
       "\n",
       "category   相対 Relative Δn/ΔT  +20ºC to +40ºC\\n（1E-6/ºC）  \\\n",
       "data item                                             C   \n",
       "glass                                                     \n",
       "J-FK5                                              -1.5   \n",
       "J-FK01A                                            -5.6   \n",
       "J-FKH1                                             -6.3   \n",
       "J-FKH2                                             -6.1   \n",
       "J-PKH1                                              3.5   \n",
       "...                                                 ...   \n",
       "Q-LASFH12S                                          7.1   \n",
       "Q-LASFH58S                                          6.3   \n",
       "Q-LASFH59S                                          7.2   \n",
       "Q-LASFPH2S                                          8.1   \n",
       "Q-LASFPH3S                                          7.3   \n",
       "\n",
       "category   相対 Relative Δn/ΔT  +40ºC to +60ºC\\n（1E-6/ºC）  \\\n",
       "data item                                             C   \n",
       "glass                                                     \n",
       "J-FK5                                              -1.3   \n",
       "J-FK01A                                            -5.8   \n",
       "J-FKH1                                             -6.5   \n",
       "J-FKH2                                             -6.3   \n",
       "J-PKH1                                              3.7   \n",
       "...                                                 ...   \n",
       "Q-LASFH12S                                          7.3   \n",
       "Q-LASFH58S                                          6.5   \n",
       "Q-LASFH59S                                          7.4   \n",
       "Q-LASFPH2S                                          8.3   \n",
       "Q-LASFPH3S                                          7.5   \n",
       "\n",
       "category   相対 Relative Δn/ΔT  +60ºC to +80ºC\\n（1E-6/ºC）　参考値  \\\n",
       "data item                                                 C   \n",
       "glass                                                         \n",
       "J-FK5                                                  -1.2   \n",
       "J-FK01A                                                -6.0   \n",
       "J-FKH1                                                 -6.7   \n",
       "J-FKH2                                                 -6.5   \n",
       "J-PKH1                                                  3.8   \n",
       "...                                                     ...   \n",
       "Q-LASFH12S                                              7.5   \n",
       "Q-LASFH58S                                              6.7   \n",
       "Q-LASFH59S                                              7.6   \n",
       "Q-LASFPH2S                                              8.5   \n",
       "Q-LASFPH3S                                              7.7   \n",
       "\n",
       "category   相対 Relative Δn/ΔT  +80ºC to +90ºC\\n（1E-6/ºC）　参考値  \\\n",
       "data item                                                 C   \n",
       "glass                                                         \n",
       "J-FK5                                                  -1.0   \n",
       "J-FK01A                                                -6.2   \n",
       "J-FKH1                                                 -6.8   \n",
       "J-FKH2                                                 -6.7   \n",
       "J-PKH1                                                  4.0   \n",
       "...                                                     ...   \n",
       "Q-LASFH12S                                              7.7   \n",
       "Q-LASFH58S                                              6.8   \n",
       "Q-LASFH59S                                              7.8   \n",
       "Q-LASFPH2S                                              8.8   \n",
       "Q-LASFPH3S                                              7.9   \n",
       "\n",
       "category   生産頻度 Product frequency (A to D) 他社硝種 Similar glass type     0  \\\n",
       "data item                                0               オハラ　OHARA  HOYA   \n",
       "glass                                                                      \n",
       "J-FK5                                    A                  S-FSL5   FC5   \n",
       "J-FK01A                                  A                 S-FPL51  FCD1   \n",
       "J-FKH1                                   A                       -     -   \n",
       "J-FKH2                                   C                       -     -   \n",
       "J-PKH1                                   C                       -     -   \n",
       "...                                    ...                     ...   ...   \n",
       "Q-LASFH12S                               B                       -     -   \n",
       "Q-LASFH58S                               A                       -     -   \n",
       "Q-LASFH59S                               B                       -     -   \n",
       "Q-LASFPH2S                               A                       -     -   \n",
       "Q-LASFPH3S                               A                       -     -   \n",
       "\n",
       "category                            \n",
       "data item  成都光明光電　CDGM ショット　SCHOTT  \n",
       "glass                               \n",
       "J-FK5           H-QK3L       N-FK5  \n",
       "J-FK01A         H-FK61     N-PK52A  \n",
       "J-FKH1               -           -  \n",
       "J-FKH2               -      N-FK58  \n",
       "J-PKH1               -           -  \n",
       "...                ...         ...  \n",
       "Q-LASFH12S           -           -  \n",
       "Q-LASFH58S           -           -  \n",
       "Q-LASFH59S           -           -  \n",
       "Q-LASFPH2S           -           -  \n",
       "Q-LASFPH3S           -           -  \n",
       "\n",
       "[160 rows x 143 columns]"
      ]
     },
     "execution_count": 4,
     "metadata": {},
     "output_type": "execute_result"
    }
   ],
   "source": [
    "cat_df"
   ]
  },
  {
   "cell_type": "code",
   "execution_count": 5,
   "id": "bizarre-filing",
   "metadata": {},
   "outputs": [
    {
     "data": {
      "text/plain": [
       "False"
      ]
     },
     "execution_count": 5,
     "metadata": {},
     "output_type": "execute_result"
    }
   ],
   "source": [
    "cat_df.columns.has_duplicates"
   ]
  },
  {
   "cell_type": "code",
   "execution_count": 6,
   "id": "selected-lancaster",
   "metadata": {},
   "outputs": [],
   "source": [
    "nd = cat_df['refractive indices']['d'].to_numpy(dtype=float)\n",
    "nF = cat_df['refractive indices']['F'].to_numpy(dtype=float)\n",
    "nC = cat_df['refractive indices']['C'].to_numpy(dtype=float)"
   ]
  },
  {
   "cell_type": "code",
   "execution_count": 7,
   "id": "infrared-queens",
   "metadata": {},
   "outputs": [],
   "source": [
    "nd, coefs = buchdahl.calc_buchdahl_coords(nd, nF, nC)"
   ]
  },
  {
   "cell_type": "code",
   "execution_count": 8,
   "id": "functioning-ending",
   "metadata": {},
   "outputs": [],
   "source": [
    "coefs /= np.array((nd - 1.0), dtype=float)"
   ]
  },
  {
   "cell_type": "markdown",
   "id": "selected-england",
   "metadata": {},
   "source": [
    "## Test Series extracted from DataFrame"
   ]
  },
  {
   "cell_type": "code",
   "execution_count": 9,
   "id": "micro-pottery",
   "metadata": {},
   "outputs": [],
   "source": [
    "gla = cat_df.loc[gname]\n",
    "gla1 = cat_df.loc[gname1]"
   ]
  },
  {
   "cell_type": "code",
   "execution_count": 10,
   "id": "variable-campaign",
   "metadata": {},
   "outputs": [
    {
     "data": {
      "text/plain": [
       "data item\n",
       "A0         2.188269\n",
       "A1･λ^2     -0.00919\n",
       "A2･λ^4    -0.000112\n",
       "A3/λ^2     0.009264\n",
       "A4/λ^4     0.000073\n",
       "A5/λ^6     0.000004\n",
       "A6/λ^8         -0.0\n",
       "A7/λ^10         0.0\n",
       "A8/λ^12           0\n",
       "Name: J-FK5, dtype: object"
      ]
     },
     "execution_count": 10,
     "metadata": {},
     "output_type": "execute_result"
    }
   ],
   "source": [
    "cat_df.loc[gname]['dispersion coefficients']"
   ]
  },
  {
   "cell_type": "code",
   "execution_count": 11,
   "id": "spread-frank",
   "metadata": {},
   "outputs": [
    {
     "data": {
      "text/plain": [
       "data item\n",
       "A0         2.188269\n",
       "A1･λ^2     -0.00919\n",
       "A2･λ^4    -0.000112\n",
       "A3/λ^2     0.009264\n",
       "A4/λ^4     0.000073\n",
       "A5/λ^6     0.000004\n",
       "A6/λ^8         -0.0\n",
       "A7/λ^10         0.0\n",
       "A8/λ^12           0\n",
       "Name: J-FK5, dtype: object"
      ]
     },
     "execution_count": 11,
     "metadata": {},
     "output_type": "execute_result"
    }
   ],
   "source": [
    "gla['dispersion coefficients']"
   ]
  },
  {
   "cell_type": "code",
   "execution_count": 12,
   "id": "cognitive-alexandria",
   "metadata": {},
   "outputs": [
    {
     "data": {
      "text/plain": [
       "array([ 2.18826855e+00, -9.19044724e-03, -1.11621071e-04,  9.26372815e-03,\n",
       "        7.34900733e-05,  4.19724242e-06, -1.15412203e-07,  0.00000000e+00,\n",
       "        0.00000000e+00])"
      ]
     },
     "execution_count": 12,
     "metadata": {},
     "output_type": "execute_result"
    }
   ],
   "source": [
    "coefs = gla['dispersion coefficients'].to_numpy(dtype=float); coefs"
   ]
  },
  {
   "cell_type": "code",
   "execution_count": 13,
   "id": "miniature-issue",
   "metadata": {},
   "outputs": [
    {
     "data": {
      "text/plain": [
       "0.00926372815"
      ]
     },
     "execution_count": 13,
     "metadata": {},
     "output_type": "execute_result"
    }
   ],
   "source": [
    "coefs[3]"
   ]
  },
  {
   "cell_type": "code",
   "execution_count": 14,
   "id": "accepted-athens",
   "metadata": {
    "tags": []
   },
   "outputs": [
    {
     "data": {
      "text/plain": [
       "data item\n",
       "280.0      0.24\n",
       "290.0      0.53\n",
       "300.0      0.77\n",
       "310.0       0.9\n",
       "320.0     0.955\n",
       "330.0     0.978\n",
       "340.0     0.988\n",
       "350.0     0.994\n",
       "360.0     0.996\n",
       "370.0     0.996\n",
       "380.0     0.996\n",
       "390.0     0.998\n",
       "400.0     0.999\n",
       "420.0     0.998\n",
       "440.0     0.997\n",
       "460.0     0.998\n",
       "480.0     0.998\n",
       "500.0     0.998\n",
       "550.0     0.998\n",
       "600.0     0.998\n",
       "650.0     0.997\n",
       "700.0     0.998\n",
       "800.0     0.999\n",
       "900.0     0.999\n",
       "1000.0    0.999\n",
       "1200.0    0.999\n",
       "1400.0    0.969\n",
       "1600.0    0.987\n",
       "1800.0     0.98\n",
       "2000.0    0.968\n",
       "2200.0     0.82\n",
       "2400.0      0.8\n",
       "Name: J-FK5, dtype: object"
      ]
     },
     "execution_count": 14,
     "metadata": {},
     "output_type": "execute_result"
    }
   ],
   "source": [
    "cat_df.loc[gname]['internal transmission mm, 10']"
   ]
  },
  {
   "cell_type": "code",
   "execution_count": 15,
   "id": "forty-acceptance",
   "metadata": {},
   "outputs": [
    {
     "data": {
      "text/plain": [
       "<PandasArray>\n",
       "[ 1.46613,  1.46742,  1.47314,  1.47773,   1.4785,  1.47912,  1.48137,\n",
       " 1.482813, 1.484095, 1.485343, 1.485688, 1.486009, 1.487428,  1.48749,\n",
       " 1.489145, 1.492276, 1.492662, 1.495944, 1.498956, 1.500781, 1.504034]\n",
       "Length: 21, dtype: object"
      ]
     },
     "execution_count": 15,
     "metadata": {},
     "output_type": "execute_result"
    }
   ],
   "source": [
    "cat_df.loc[gname]['refractive indices'].array"
   ]
  },
  {
   "cell_type": "markdown",
   "id": "annoying-deputy",
   "metadata": {},
   "source": [
    "## Test factory method, create_glass"
   ]
  },
  {
   "cell_type": "code",
   "execution_count": 16,
   "id": "scientific-kernel",
   "metadata": {},
   "outputs": [],
   "source": [
    "gla2 = create_glass(gname2, catalog)"
   ]
  },
  {
   "cell_type": "code",
   "execution_count": 17,
   "id": "aerial-prince",
   "metadata": {},
   "outputs": [
    {
     "data": {
      "text/plain": [
       "Index([ 2058.09,  1970.09, 1529.582,  1128.64,  1064.14,      't',      's',\n",
       "           'A'',      'r',      'C',     'C'',  'He-Ne',      'D',      'd',\n",
       "            'e',      'F',     'F'',      'g',      'h',  388.865,      'i'],\n",
       "      dtype='object', name='data item')"
      ]
     },
     "execution_count": 17,
     "metadata": {},
     "output_type": "execute_result"
    }
   ],
   "source": [
    "wvls = gla2.glass_data()['refractive indices'].index; wvls"
   ]
  },
  {
   "cell_type": "code",
   "execution_count": 18,
   "id": "eight-makeup",
   "metadata": {},
   "outputs": [
    {
     "name": "stdout",
     "output_type": "stream",
     "text": [
      "2058.09: 1.44327,  1.443267, -2.5e-06\n",
      "1970.09: 1.44391,  1.443907, -3.3e-06\n",
      "1529.582: 1.44685,  1.446849, -1.2e-06\n",
      "1128.64: 1.44943,  1.449434,  3.8e-06\n",
      "1064.14: 1.4499,  1.449896, -4.3e-06\n",
      "t: 1.45028,  1.450277,   -3e-06\n",
      "s: 1.45173,  1.451728, -2.3e-06\n",
      "A': 1.452705,  1.452705, -1.2e-07\n",
      "r: 1.453592,  1.453592, -1.6e-07\n",
      "C: 1.454469,  1.454469,  1.5e-07\n",
      "C': 1.454714,  1.454714,   -3e-07\n",
      "He-Ne: 1.454942,  1.454942, -1.3e-07\n",
      "D: 1.455955,  1.455955,  3.4e-07\n",
      "d: 1.456,  1.456000,  5.4e-09\n",
      "e: 1.457192,  1.457192, -1.2e-07\n",
      "F: 1.45946,  1.459460, -4.2e-07\n",
      "F': 1.45974,  1.459740,  4.3e-07\n",
      "g: 1.462126,  1.462126,    3e-07\n",
      "h: 1.464317,  1.464317, -1.9e-07\n",
      "388.865: 1.465643,  1.465643, -3.2e-07\n",
      "i: 1.468003,  1.468003, -2.2e-07\n"
     ]
    }
   ],
   "source": [
    "for w_str in wvls:\n",
    "    n_line = gla2.meas_rindex(w_str)\n",
    "    try:\n",
    "        n_intrp = gla2.rindex(w_str)\n",
    "    except KeyError:\n",
    "        print(f'{w_str}: {n_line}, Key error')\n",
    "    else:\n",
    "        print(f'{w_str}: {n_line}, {n_intrp:9.6f}, {n_intrp-n_line:8.2g}')"
   ]
  },
  {
   "cell_type": "code",
   "execution_count": 19,
   "id": "outstanding-maryland",
   "metadata": {},
   "outputs": [
    {
     "data": {
      "text/plain": [
       "<PandasArray>\n",
       "[ 1.44327,  1.44391,  1.44685,  1.44943,   1.4499,  1.45028,  1.45173,\n",
       " 1.452705, 1.453592, 1.454469, 1.454714, 1.454942, 1.455955,    1.456,\n",
       " 1.457192,  1.45946,  1.45974, 1.462126, 1.464317, 1.465643, 1.468003]\n",
       "Length: 21, dtype: object"
      ]
     },
     "execution_count": 19,
     "metadata": {},
     "output_type": "execute_result"
    }
   ],
   "source": [
    "gla2.meas_rindex(wvls).array"
   ]
  },
  {
   "cell_type": "code",
   "execution_count": 20,
   "id": "combined-controversy",
   "metadata": {},
   "outputs": [
    {
     "data": {
      "text/plain": [
       "array([1.44326747, 1.44390667, 1.44684876, 1.44943376, 1.44989565,\n",
       "       1.45027696, 1.4517277 , 1.45270488, 1.45359184, 1.45446915,\n",
       "       1.4547137 , 1.45494187, 1.45595534, 1.45600001, 1.45719188,\n",
       "       1.45945958, 1.45974043, 1.4621263 , 1.46431681, 1.46564268,\n",
       "       1.46800278])"
      ]
     },
     "execution_count": 20,
     "metadata": {},
     "output_type": "execute_result"
    }
   ],
   "source": [
    "gla2.rindex(wvls)"
   ]
  },
  {
   "cell_type": "code",
   "execution_count": 21,
   "id": "romance-emphasis",
   "metadata": {},
   "outputs": [
    {
     "data": {
      "text/plain": [
       "<PandasArray>\n",
       "[  2.534018963107343e-06,    3.33192770685109e-06,   1.243273763940067e-06,\n",
       " -3.7643544823495745e-06,  4.3483732208304815e-06,   3.038546531497488e-06,\n",
       "  2.3033166192121257e-06,  1.1838983371426082e-07,  1.6003797820296484e-07,\n",
       " -1.4990414376470085e-07,  2.9987082372784357e-07,  1.3197445247747908e-07,\n",
       "  -3.389473617332328e-07,  -5.414384718349652e-09,  1.1547634093389547e-07,\n",
       "  4.1663185146312287e-07, -4.3138873651038523e-07, -2.9801270695628546e-07,\n",
       "  1.8931080214557028e-07,  3.1741069683732803e-07,  2.2128252630260192e-07]\n",
       "Length: 21, dtype: object"
      ]
     },
     "execution_count": 21,
     "metadata": {},
     "output_type": "execute_result"
    }
   ],
   "source": [
    "gla2.meas_rindex(wvls).array-gla2.rindex(wvls)"
   ]
  },
  {
   "cell_type": "code",
   "execution_count": 22,
   "id": "deluxe-lithuania",
   "metadata": {},
   "outputs": [
    {
     "data": {
      "text/plain": [
       "2.45"
      ]
     },
     "execution_count": 22,
     "metadata": {},
     "output_type": "execute_result"
    }
   ],
   "source": [
    "cat_df.loc[gname]['specific gravity']['d']"
   ]
  },
  {
   "cell_type": "code",
   "execution_count": 23,
   "id": "living-tomorrow",
   "metadata": {},
   "outputs": [
    {
     "data": {
      "text/plain": [
       "data item\n",
       "表面法耐酸性AR(S) Acid resistance　(surface method)    2\n",
       "耐洗剤性PR(S) Alkaline detergent resistance         3\n",
       "耐候性CR(S) Climate resistance                     2\n",
       "粉末法耐水性WR(P)　Water resistance (powder method)    4\n",
       "粉末法耐酸性AR(P) Acid resisitance（powder method)     5\n",
       "Name: J-FK5, dtype: object"
      ]
     },
     "execution_count": 23,
     "metadata": {},
     "output_type": "execute_result"
    }
   ],
   "source": [
    "cat_df.loc[gname]['chemical properties']"
   ]
  },
  {
   "cell_type": "code",
   "execution_count": 24,
   "id": "choice-bulgarian",
   "metadata": {},
   "outputs": [
    {
     "data": {
      "text/plain": [
       "data item\n",
       "常温線膨張係数α（1E-7/ºC）　Thermal expansion （-30, +70ºC）         89\n",
       "高温線膨張係数α（1E-7/ºC）　Thermal expansion （+100, +300ºC）       97\n",
       "転移温度Tg Glass transformation temperature                 468\n",
       "屈伏点At Yield point                                       559\n",
       "歪点StP\\nStrain point                                       -\n",
       "徐冷点AP\\nAnnealing point                                    -\n",
       "軟化点SP\\nSoftening point                                    -\n",
       "熱伝導率λ　Thermal conductivity                             1.03\n",
       "比熱c　Specific heat capacity                            0.795\n",
       "熱拡散率κ Thermal diffusivity                             0.532\n",
       "Name: J-FK5, dtype: object"
      ]
     },
     "execution_count": 24,
     "metadata": {},
     "output_type": "execute_result"
    }
   ],
   "source": [
    "cat_df.loc[gname]['thermal properties']"
   ]
  },
  {
   "cell_type": "code",
   "execution_count": 25,
   "id": "directed-greensboro",
   "metadata": {},
   "outputs": [
    {
     "data": {
      "text/plain": [
       "data item\n",
       "ヌープ硬さHｋ　Knoop hardness               432 (4)\n",
       "磨耗度Ａ　Abrasion hardness                   126\n",
       "ヤング率Ｅ　Young's　modulus                   60.1\n",
       "剛性率Ｇ　Shear modulus                      24.3\n",
       "ポアソン比μ　Poisson's ratio                 0.235\n",
       "光弾性定数β　Stress optical coefficient       2.97\n",
       "Name: J-FK5, dtype: object"
      ]
     },
     "execution_count": 25,
     "metadata": {},
     "output_type": "execute_result"
    }
   ],
   "source": [
    "cat_df.loc[gname]['mechanical properties']"
   ]
  },
  {
   "cell_type": "code",
   "execution_count": 26,
   "id": "offensive-response",
   "metadata": {},
   "outputs": [
    {
     "data": {
      "text/plain": [
       "glass\n",
       "J-FK5         432 (4)\n",
       "Q-LASFPH3S    660 (7)\n",
       "Name: ヌープ硬さHｋ　Knoop hardness, dtype: string"
      ]
     },
     "execution_count": 26,
     "metadata": {},
     "output_type": "execute_result"
    }
   ],
   "source": [
    "cat_df.loc[[gname, gname1]]['mechanical properties']['ヌープ硬さHｋ　Knoop hardness']"
   ]
  },
  {
   "cell_type": "code",
   "execution_count": 27,
   "id": "diagnostic-modem",
   "metadata": {},
   "outputs": [
    {
     "data": {
      "text/plain": [
       "data item\n",
       "280.0         -\n",
       "290.0      0.06\n",
       "300.0      0.13\n",
       "310.0      0.22\n",
       "320.0      0.39\n",
       "330.0      0.56\n",
       "340.0      0.69\n",
       "350.0      0.79\n",
       "360.0      0.87\n",
       "370.0      0.92\n",
       "380.0     0.949\n",
       "390.0     0.966\n",
       "400.0     0.977\n",
       "420.0     0.986\n",
       "440.0      0.99\n",
       "460.0     0.993\n",
       "480.0     0.995\n",
       "500.0     0.997\n",
       "550.0     0.998\n",
       "600.0     0.998\n",
       "650.0     0.998\n",
       "700.0     0.998\n",
       "800.0     0.995\n",
       "900.0     0.992\n",
       "1000.0    0.994\n",
       "1200.0    0.999\n",
       "1400.0    0.994\n",
       "1600.0    0.991\n",
       "1800.0     0.98\n",
       "2000.0    0.964\n",
       "2200.0     0.92\n",
       "2400.0     0.73\n",
       "Name: Q-LASFPH3S, dtype: object"
      ]
     },
     "execution_count": 27,
     "metadata": {},
     "output_type": "execute_result"
    }
   ],
   "source": [
    "cat_df.loc[gname1]['internal transmission mm, 10']"
   ]
  },
  {
   "cell_type": "code",
   "execution_count": 28,
   "id": "central-realtor",
   "metadata": {},
   "outputs": [
    {
     "data": {
      "text/plain": [
       "<FloatingArray>\n",
       "[ 1.48749,    1.497,  1.49782,    1.456,   1.5186,    1.618,    1.603,\n",
       "  1.59319,  1.59349,  1.62846,\n",
       " ...\n",
       "  1.69343,    1.743, 1.743104,  1.80604,  1.77387,  1.79063,  1.85108,\n",
       "  1.82098, 1.765437, 1.795256]\n",
       "Length: 160, dtype: Float64"
      ]
     },
     "execution_count": 28,
     "metadata": {},
     "output_type": "execute_result"
    }
   ],
   "source": [
    "cat_df['refractive indices']['d'].array"
   ]
  },
  {
   "cell_type": "code",
   "execution_count": 29,
   "id": "weird-harvest",
   "metadata": {},
   "outputs": [
    {
     "data": {
      "text/html": [
       "<div>\n",
       "<style scoped>\n",
       "    .dataframe tbody tr th:only-of-type {\n",
       "        vertical-align: middle;\n",
       "    }\n",
       "\n",
       "    .dataframe tbody tr th {\n",
       "        vertical-align: top;\n",
       "    }\n",
       "\n",
       "    .dataframe thead th {\n",
       "        text-align: right;\n",
       "    }\n",
       "</style>\n",
       "<table border=\"1\" class=\"dataframe\">\n",
       "  <thead>\n",
       "    <tr style=\"text-align: right;\">\n",
       "      <th>glass</th>\n",
       "      <th>J-FK5</th>\n",
       "      <th>Q-LASFPH3S</th>\n",
       "    </tr>\n",
       "    <tr>\n",
       "      <th>data item</th>\n",
       "      <th></th>\n",
       "      <th></th>\n",
       "    </tr>\n",
       "  </thead>\n",
       "  <tbody>\n",
       "    <tr>\n",
       "      <th>280.0</th>\n",
       "      <td>0.24</td>\n",
       "      <td>-</td>\n",
       "    </tr>\n",
       "    <tr>\n",
       "      <th>290.0</th>\n",
       "      <td>0.53</td>\n",
       "      <td>0.06</td>\n",
       "    </tr>\n",
       "    <tr>\n",
       "      <th>300.0</th>\n",
       "      <td>0.77</td>\n",
       "      <td>0.13</td>\n",
       "    </tr>\n",
       "    <tr>\n",
       "      <th>310.0</th>\n",
       "      <td>0.9</td>\n",
       "      <td>0.22</td>\n",
       "    </tr>\n",
       "    <tr>\n",
       "      <th>320.0</th>\n",
       "      <td>0.955</td>\n",
       "      <td>0.39</td>\n",
       "    </tr>\n",
       "    <tr>\n",
       "      <th>330.0</th>\n",
       "      <td>0.978</td>\n",
       "      <td>0.56</td>\n",
       "    </tr>\n",
       "    <tr>\n",
       "      <th>340.0</th>\n",
       "      <td>0.988</td>\n",
       "      <td>0.69</td>\n",
       "    </tr>\n",
       "    <tr>\n",
       "      <th>350.0</th>\n",
       "      <td>0.994</td>\n",
       "      <td>0.79</td>\n",
       "    </tr>\n",
       "    <tr>\n",
       "      <th>360.0</th>\n",
       "      <td>0.996</td>\n",
       "      <td>0.87</td>\n",
       "    </tr>\n",
       "    <tr>\n",
       "      <th>370.0</th>\n",
       "      <td>0.996</td>\n",
       "      <td>0.92</td>\n",
       "    </tr>\n",
       "    <tr>\n",
       "      <th>380.0</th>\n",
       "      <td>0.996</td>\n",
       "      <td>0.949</td>\n",
       "    </tr>\n",
       "    <tr>\n",
       "      <th>390.0</th>\n",
       "      <td>0.998</td>\n",
       "      <td>0.966</td>\n",
       "    </tr>\n",
       "    <tr>\n",
       "      <th>400.0</th>\n",
       "      <td>0.999</td>\n",
       "      <td>0.977</td>\n",
       "    </tr>\n",
       "    <tr>\n",
       "      <th>420.0</th>\n",
       "      <td>0.998</td>\n",
       "      <td>0.986</td>\n",
       "    </tr>\n",
       "    <tr>\n",
       "      <th>440.0</th>\n",
       "      <td>0.997</td>\n",
       "      <td>0.99</td>\n",
       "    </tr>\n",
       "    <tr>\n",
       "      <th>460.0</th>\n",
       "      <td>0.998</td>\n",
       "      <td>0.993</td>\n",
       "    </tr>\n",
       "    <tr>\n",
       "      <th>480.0</th>\n",
       "      <td>0.998</td>\n",
       "      <td>0.995</td>\n",
       "    </tr>\n",
       "    <tr>\n",
       "      <th>500.0</th>\n",
       "      <td>0.998</td>\n",
       "      <td>0.997</td>\n",
       "    </tr>\n",
       "    <tr>\n",
       "      <th>550.0</th>\n",
       "      <td>0.998</td>\n",
       "      <td>0.998</td>\n",
       "    </tr>\n",
       "    <tr>\n",
       "      <th>600.0</th>\n",
       "      <td>0.998</td>\n",
       "      <td>0.998</td>\n",
       "    </tr>\n",
       "    <tr>\n",
       "      <th>650.0</th>\n",
       "      <td>0.997</td>\n",
       "      <td>0.998</td>\n",
       "    </tr>\n",
       "    <tr>\n",
       "      <th>700.0</th>\n",
       "      <td>0.998</td>\n",
       "      <td>0.998</td>\n",
       "    </tr>\n",
       "    <tr>\n",
       "      <th>800.0</th>\n",
       "      <td>0.999</td>\n",
       "      <td>0.995</td>\n",
       "    </tr>\n",
       "    <tr>\n",
       "      <th>900.0</th>\n",
       "      <td>0.999</td>\n",
       "      <td>0.992</td>\n",
       "    </tr>\n",
       "    <tr>\n",
       "      <th>1000.0</th>\n",
       "      <td>0.999</td>\n",
       "      <td>0.994</td>\n",
       "    </tr>\n",
       "    <tr>\n",
       "      <th>1200.0</th>\n",
       "      <td>0.999</td>\n",
       "      <td>0.999</td>\n",
       "    </tr>\n",
       "    <tr>\n",
       "      <th>1400.0</th>\n",
       "      <td>0.969</td>\n",
       "      <td>0.994</td>\n",
       "    </tr>\n",
       "    <tr>\n",
       "      <th>1600.0</th>\n",
       "      <td>0.987</td>\n",
       "      <td>0.991</td>\n",
       "    </tr>\n",
       "    <tr>\n",
       "      <th>1800.0</th>\n",
       "      <td>0.98</td>\n",
       "      <td>0.98</td>\n",
       "    </tr>\n",
       "    <tr>\n",
       "      <th>2000.0</th>\n",
       "      <td>0.968</td>\n",
       "      <td>0.964</td>\n",
       "    </tr>\n",
       "    <tr>\n",
       "      <th>2200.0</th>\n",
       "      <td>0.82</td>\n",
       "      <td>0.92</td>\n",
       "    </tr>\n",
       "    <tr>\n",
       "      <th>2400.0</th>\n",
       "      <td>0.8</td>\n",
       "      <td>0.73</td>\n",
       "    </tr>\n",
       "  </tbody>\n",
       "</table>\n",
       "</div>"
      ],
      "text/plain": [
       "glass      J-FK5 Q-LASFPH3S\n",
       "data item                  \n",
       "280.0       0.24          -\n",
       "290.0       0.53       0.06\n",
       "300.0       0.77       0.13\n",
       "310.0        0.9       0.22\n",
       "320.0      0.955       0.39\n",
       "330.0      0.978       0.56\n",
       "340.0      0.988       0.69\n",
       "350.0      0.994       0.79\n",
       "360.0      0.996       0.87\n",
       "370.0      0.996       0.92\n",
       "380.0      0.996      0.949\n",
       "390.0      0.998      0.966\n",
       "400.0      0.999      0.977\n",
       "420.0      0.998      0.986\n",
       "440.0      0.997       0.99\n",
       "460.0      0.998      0.993\n",
       "480.0      0.998      0.995\n",
       "500.0      0.998      0.997\n",
       "550.0      0.998      0.998\n",
       "600.0      0.998      0.998\n",
       "650.0      0.997      0.998\n",
       "700.0      0.998      0.998\n",
       "800.0      0.999      0.995\n",
       "900.0      0.999      0.992\n",
       "1000.0     0.999      0.994\n",
       "1200.0     0.999      0.999\n",
       "1400.0     0.969      0.994\n",
       "1600.0     0.987      0.991\n",
       "1800.0      0.98       0.98\n",
       "2000.0     0.968      0.964\n",
       "2200.0      0.82       0.92\n",
       "2400.0       0.8       0.73"
      ]
     },
     "execution_count": 29,
     "metadata": {},
     "output_type": "execute_result"
    }
   ],
   "source": [
    "trns_data = cat_df.loc[[gname, gname1]]['internal transmission mm, 10'].T; trns_data"
   ]
  },
  {
   "cell_type": "code",
   "execution_count": 30,
   "id": "historical-fashion",
   "metadata": {},
   "outputs": [
    {
     "data": {
      "text/plain": [
       "<AxesSubplot:xlabel='data item'>"
      ]
     },
     "execution_count": 30,
     "metadata": {},
     "output_type": "execute_result"
    },
    {
     "data": {
      "image/png": "[encoded data removed]",
      "text/plain": [
       "<Figure size 432x288 with 1 Axes>"
      ]
     },
     "metadata": {
      "needs_background": "light"
     },
     "output_type": "display_data"
    }
   ],
   "source": [
    "trns_data[290.0:2400.0].plot()"
   ]
  },
  {
   "cell_type": "code",
   "execution_count": 31,
   "id": "personalized-stocks",
   "metadata": {},
   "outputs": [
    {
     "data": {
      "text/plain": [
       "<AxesSubplot:xlabel='data item'>"
      ]
     },
     "execution_count": 31,
     "metadata": {},
     "output_type": "execute_result"
    },
    {
     "data": {
      "image/png": "[encoded data removed]",
      "text/plain": [
       "<Figure size 432x288 with 1 Axes>"
      ]
     },
     "metadata": {
      "needs_background": "light"
     },
     "output_type": "display_data"
    }
   ],
   "source": [
    "cat_df['internal transmission mm, 10'].T.plot(legend=False)"
   ]
  },
  {
   "cell_type": "code",
   "execution_count": 32,
   "id": "weighted-juice",
   "metadata": {},
   "outputs": [],
   "source": [
    "gla_v2 = hikari.HikariGlass(gname)"
   ]
  },
  {
   "cell_type": "code",
   "execution_count": 33,
   "id": "starting-wayne",
   "metadata": {},
   "outputs": [
    {
     "data": {
      "text/plain": [
       "1.492276"
      ]
     },
     "execution_count": 33,
     "metadata": {},
     "output_type": "execute_result"
    }
   ],
   "source": [
    "gla_v2.meas_rindex('F')"
   ]
  },
  {
   "cell_type": "code",
   "execution_count": 34,
   "id": "ideal-franchise",
   "metadata": {},
   "outputs": [
    {
     "data": {
      "text/plain": [
       "'487.703'"
      ]
     },
     "execution_count": 34,
     "metadata": {},
     "output_type": "execute_result"
    }
   ],
   "source": [
    "gla_v2.glass_code()"
   ]
  },
  {
   "cell_type": "code",
   "execution_count": 35,
   "id": "ruled-pathology",
   "metadata": {},
   "outputs": [
    {
     "data": {
      "text/plain": [
       "array([ 280.,  290.,  300.,  310.,  320.,  330.,  340.,  350.,  360.,\n",
       "        370.,  380.,  390.,  400.,  420.,  440.,  460.,  480.,  500.,\n",
       "        550.,  600.,  650.,  700.,  800.,  900., 1000., 1200., 1400.,\n",
       "       1600., 1800., 2000., 2200., 2400.])"
      ]
     },
     "execution_count": 35,
     "metadata": {},
     "output_type": "execute_result"
    }
   ],
   "source": [
    "t_wvls = gla2.glass_data()['internal transmission mm, 10'].index.to_numpy(dtype=float); t_wvls"
   ]
  },
  {
   "cell_type": "code",
   "execution_count": 36,
   "id": "ea789f83-2ff4-4fda-b10e-d5f0a9af359a",
   "metadata": {},
   "outputs": [
    {
     "data": {
      "text/plain": [
       "(array([ 280.,  290.,  300.,  310.,  320.,  330.,  340.,  350.,  360.,\n",
       "         370.,  380.,  390.,  400.,  420.,  440.,  460.,  480.,  500.,\n",
       "         550.,  600.,  650.,  700.,  800.,  900., 1000., 1200., 1400.,\n",
       "        1600., 1800., 2000., 2200., 2400.]),\n",
       " array([0.   , 0.   , 0.06 , 0.18 , 0.39 , 0.61 , 0.79 , 0.89 , 0.949,\n",
       "        0.976, 0.988, 0.993, 0.995, 0.994, 0.994, 0.996, 0.996, 0.998,\n",
       "        0.999, 0.998, 0.997, 0.998, 0.996, 0.994, 0.994, 0.995, 0.994,\n",
       "        0.994, 0.991, 0.995, 0.994, 0.998]))"
      ]
     },
     "execution_count": 36,
     "metadata": {},
     "output_type": "execute_result"
    }
   ],
   "source": [
    "gla2.transmission_data()"
   ]
  },
  {
   "cell_type": "code",
   "execution_count": 38,
   "id": "445cb130-264b-47ea-886a-12c5e0883a63",
   "metadata": {},
   "outputs": [
    {
     "data": {
      "text/plain": [
       "[<matplotlib.lines.Line2D at 0x7fef58f7bfd0>]"
      ]
     },
     "execution_count": 38,
     "metadata": {},
     "output_type": "execute_result"
    },
    {
     "data": {
      "image/png": "[encoded data removed]",
      "text/plain": [
       "<Figure size 432x288 with 1 Axes>"
      ]
     },
     "metadata": {
      "needs_background": "light"
     },
     "output_type": "display_data"
    }
   ],
   "source": [
    "plt.plot(*gla2.transmission_data())"
   ]
  },
  {
   "cell_type": "code",
   "execution_count": null,
   "id": "428bbff8-58a8-4c4c-8902-ad8c2a184917",
   "metadata": {},
   "outputs": [],
   "source": []
  }
 ],
 "metadata": {
  "kernelspec": {
   "display_name": "Python 3 (ipykernel)",
   "language": "python",
   "name": "python3"
  },
  "language_info": {
   "codemirror_mode": {
    "name": "ipython",
    "version": 3
   },
   "file_extension": ".py",
   "mimetype": "text/x-python",
   "name": "python",
   "nbconvert_exporter": "python",
   "pygments_lexer": "ipython3",
   "version": "3.8.10"
  }
 },
 "nbformat": 4,
 "nbformat_minor": 5
}
