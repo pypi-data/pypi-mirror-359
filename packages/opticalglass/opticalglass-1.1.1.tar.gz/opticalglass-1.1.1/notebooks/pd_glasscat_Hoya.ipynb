{
 "cells": [
  {
   "cell_type": "code",
   "execution_count": 1,
   "id": "discrete-canal",
   "metadata": {},
   "outputs": [],
   "source": [
    "import numpy as np\n",
    "import matplotlib.pyplot as plt\n",
    "\n",
    "import opticalglass.buchdahl as buchdahl\n",
    "from opticalglass.glassfactory import create_glass\n",
    "from opticalglass import hoya"
   ]
  },
  {
   "cell_type": "markdown",
   "id": "boolean-cooperation",
   "metadata": {},
   "source": [
    "# Build Multi-Index for Hoya"
   ]
  },
  {
   "cell_type": "code",
   "execution_count": 2,
   "id": "prescribed-furniture",
   "metadata": {},
   "outputs": [],
   "source": [
    "catalog = 'Hoya'\n",
    "gname = 'FCD1'\n",
    "gname1 = 'E-F2'\n",
    "gname2 = 'MC-TAF1'"
   ]
  },
  {
   "cell_type": "code",
   "execution_count": 3,
   "id": "postal-freeze",
   "metadata": {},
   "outputs": [],
   "source": [
    "cat_pd = hoya.HoyaCatalog()\n",
    "cat_df = cat_pd.df"
   ]
  },
  {
   "cell_type": "code",
   "execution_count": 4,
   "id": "abstract-dealing",
   "metadata": {
    "tags": []
   },
   "outputs": [
    {
     "data": {
      "text/html": [
       "<div>\n",
       "<style scoped>\n",
       "    .dataframe tbody tr th:only-of-type {\n",
       "        vertical-align: middle;\n",
       "    }\n",
       "\n",
       "    .dataframe tbody tr th {\n",
       "        vertical-align: top;\n",
       "    }\n",
       "\n",
       "    .dataframe thead tr th {\n",
       "        text-align: left;\n",
       "    }\n",
       "\n",
       "    .dataframe thead tr:last-of-type th {\n",
       "        text-align: right;\n",
       "    }\n",
       "</style>\n",
       "<table border=\"1\" class=\"dataframe\">\n",
       "  <thead>\n",
       "    <tr>\n",
       "      <th>category</th>\n",
       "      <th>Code</th>\n",
       "      <th>refractive index</th>\n",
       "      <th>abbe number</th>\n",
       "      <th>refractive index</th>\n",
       "      <th>abbe number</th>\n",
       "      <th colspan=\"5\" halign=\"left\">refractive indices</th>\n",
       "      <th>...</th>\n",
       "      <th colspan=\"7\" halign=\"left\">internal transmission mm, 10</th>\n",
       "      <th>Glass Cross Reference Index</th>\n",
       "      <th>Remarks</th>\n",
       "      <th>Update</th>\n",
       "    </tr>\n",
       "    <tr>\n",
       "      <th>data item</th>\n",
       "      <th>NaN</th>\n",
       "      <th>d</th>\n",
       "      <th>vd</th>\n",
       "      <th>e</th>\n",
       "      <th>ve</th>\n",
       "      <th>1529.6</th>\n",
       "      <th>1128.64</th>\n",
       "      <th>t</th>\n",
       "      <th>s</th>\n",
       "      <th>A'</th>\n",
       "      <th>...</th>\n",
       "      <th>340.0</th>\n",
       "      <th>330.0</th>\n",
       "      <th>320.0</th>\n",
       "      <th>310.0</th>\n",
       "      <th>300.0</th>\n",
       "      <th>290.0</th>\n",
       "      <th>280.0</th>\n",
       "      <th>NaN</th>\n",
       "      <th>NaN</th>\n",
       "      <th>NaN</th>\n",
       "    </tr>\n",
       "    <tr>\n",
       "      <th>glass</th>\n",
       "      <th></th>\n",
       "      <th></th>\n",
       "      <th></th>\n",
       "      <th></th>\n",
       "      <th></th>\n",
       "      <th></th>\n",
       "      <th></th>\n",
       "      <th></th>\n",
       "      <th></th>\n",
       "      <th></th>\n",
       "      <th></th>\n",
       "      <th></th>\n",
       "      <th></th>\n",
       "      <th></th>\n",
       "      <th></th>\n",
       "      <th></th>\n",
       "      <th></th>\n",
       "      <th></th>\n",
       "      <th></th>\n",
       "      <th></th>\n",
       "      <th></th>\n",
       "    </tr>\n",
       "  </thead>\n",
       "  <tbody>\n",
       "    <tr>\n",
       "      <th>FC5</th>\n",
       "      <td>487-704</td>\n",
       "      <td>1.48749</td>\n",
       "      <td>70.45</td>\n",
       "      <td>1.48914</td>\n",
       "      <td>70.24</td>\n",
       "      <td>1.47308</td>\n",
       "      <td>1.47774</td>\n",
       "      <td>1.47913</td>\n",
       "      <td>1.48139</td>\n",
       "      <td>1.48283</td>\n",
       "      <td>...</td>\n",
       "      <td>0.984</td>\n",
       "      <td>0.97</td>\n",
       "      <td>0.937</td>\n",
       "      <td>0.868</td>\n",
       "      <td>0.71</td>\n",
       "      <td>0.43</td>\n",
       "      <td>0.12</td>\n",
       "      <td>N-FK5</td>\n",
       "      <td>&lt;NA&gt;</td>\n",
       "      <td>20170401</td>\n",
       "    </tr>\n",
       "    <tr>\n",
       "      <th>FCD1</th>\n",
       "      <td>497-816</td>\n",
       "      <td>1.497</td>\n",
       "      <td>81.61</td>\n",
       "      <td>1.49845</td>\n",
       "      <td>81.19</td>\n",
       "      <td>1.48598</td>\n",
       "      <td>1.48907</td>\n",
       "      <td>1.49008</td>\n",
       "      <td>1.49182</td>\n",
       "      <td>1.493</td>\n",
       "      <td>...</td>\n",
       "      <td>0.878</td>\n",
       "      <td>0.761</td>\n",
       "      <td>0.586</td>\n",
       "      <td>0.376</td>\n",
       "      <td>0.19</td>\n",
       "      <td>0.077</td>\n",
       "      <td>0.027</td>\n",
       "      <td>N-PK52A</td>\n",
       "      <td>&lt;NA&gt;</td>\n",
       "      <td>20181012</td>\n",
       "    </tr>\n",
       "    <tr>\n",
       "      <th>FCD1B</th>\n",
       "      <td>497-816</td>\n",
       "      <td>1.4971</td>\n",
       "      <td>81.56</td>\n",
       "      <td>1.49856</td>\n",
       "      <td>81.15</td>\n",
       "      <td>1.48592</td>\n",
       "      <td>1.48912</td>\n",
       "      <td>1.49015</td>\n",
       "      <td>1.49192</td>\n",
       "      <td>1.4931</td>\n",
       "      <td>...</td>\n",
       "      <td>0.726</td>\n",
       "      <td>0.52</td>\n",
       "      <td>0.288</td>\n",
       "      <td>0.112</td>\n",
       "      <td>0.028</td>\n",
       "      <td>0.0</td>\n",
       "      <td>0.0</td>\n",
       "      <td>N-PK52A</td>\n",
       "      <td>&lt;NA&gt;</td>\n",
       "      <td>20181012</td>\n",
       "    </tr>\n",
       "    <tr>\n",
       "      <th>FCD10A</th>\n",
       "      <td>459-902</td>\n",
       "      <td>1.4586</td>\n",
       "      <td>90.2</td>\n",
       "      <td>1.45981</td>\n",
       "      <td>89.75</td>\n",
       "      <td>1.44937</td>\n",
       "      <td>1.45194</td>\n",
       "      <td>1.45279</td>\n",
       "      <td>1.45426</td>\n",
       "      <td>1.45525</td>\n",
       "      <td>...</td>\n",
       "      <td>0.867</td>\n",
       "      <td>0.744</td>\n",
       "      <td>0.561</td>\n",
       "      <td>0.347</td>\n",
       "      <td>0.166</td>\n",
       "      <td>0.059</td>\n",
       "      <td>0.016</td>\n",
       "      <td>&lt;NA&gt;</td>\n",
       "      <td>&lt;NA&gt;</td>\n",
       "      <td>20170401</td>\n",
       "    </tr>\n",
       "    <tr>\n",
       "      <th>FCD100</th>\n",
       "      <td>437-951</td>\n",
       "      <td>1.437</td>\n",
       "      <td>95.1</td>\n",
       "      <td>1.4381</td>\n",
       "      <td>94.66</td>\n",
       "      <td>1.42855</td>\n",
       "      <td>1.43094</td>\n",
       "      <td>1.43172</td>\n",
       "      <td>1.43306</td>\n",
       "      <td>1.43396</td>\n",
       "      <td>...</td>\n",
       "      <td>0.88</td>\n",
       "      <td>0.761</td>\n",
       "      <td>0.579</td>\n",
       "      <td>0.358</td>\n",
       "      <td>0.168</td>\n",
       "      <td>0.057</td>\n",
       "      <td>0.015</td>\n",
       "      <td>&lt;NA&gt;</td>\n",
       "      <td>&lt;NA&gt;</td>\n",
       "      <td>20170401</td>\n",
       "    </tr>\n",
       "    <tr>\n",
       "      <th>...</th>\n",
       "      <td>...</td>\n",
       "      <td>...</td>\n",
       "      <td>...</td>\n",
       "      <td>...</td>\n",
       "      <td>...</td>\n",
       "      <td>...</td>\n",
       "      <td>...</td>\n",
       "      <td>...</td>\n",
       "      <td>...</td>\n",
       "      <td>...</td>\n",
       "      <td>...</td>\n",
       "      <td>...</td>\n",
       "      <td>...</td>\n",
       "      <td>...</td>\n",
       "      <td>...</td>\n",
       "      <td>...</td>\n",
       "      <td>...</td>\n",
       "      <td>...</td>\n",
       "      <td>...</td>\n",
       "      <td>...</td>\n",
       "      <td>...</td>\n",
       "    </tr>\n",
       "    <tr>\n",
       "      <th>M-NBF1</th>\n",
       "      <td>743-493</td>\n",
       "      <td>1.7433</td>\n",
       "      <td>49.33</td>\n",
       "      <td>1.74689</td>\n",
       "      <td>49.07</td>\n",
       "      <td>1.71791</td>\n",
       "      <td>1.72466</td>\n",
       "      <td>1.72693</td>\n",
       "      <td>1.73091</td>\n",
       "      <td>1.73367</td>\n",
       "      <td>...</td>\n",
       "      <td>0.757</td>\n",
       "      <td>0.648</td>\n",
       "      <td>0.521</td>\n",
       "      <td>0.327</td>\n",
       "      <td>0.25</td>\n",
       "      <td>0.132</td>\n",
       "      <td>0.032</td>\n",
       "      <td>&lt;NA&gt;</td>\n",
       "      <td>&lt;NA&gt;</td>\n",
       "      <td>20170401</td>\n",
       "    </tr>\n",
       "    <tr>\n",
       "      <th>MP-NBF1</th>\n",
       "      <td>743-493</td>\n",
       "      <td>1.7433</td>\n",
       "      <td>49.33</td>\n",
       "      <td>1.74689</td>\n",
       "      <td>49.07</td>\n",
       "      <td>1.71791</td>\n",
       "      <td>1.72466</td>\n",
       "      <td>1.72693</td>\n",
       "      <td>1.73091</td>\n",
       "      <td>1.73367</td>\n",
       "      <td>...</td>\n",
       "      <td>0.757</td>\n",
       "      <td>0.648</td>\n",
       "      <td>0.521</td>\n",
       "      <td>0.327</td>\n",
       "      <td>0.25</td>\n",
       "      <td>0.132</td>\n",
       "      <td>0.032</td>\n",
       "      <td>&lt;NA&gt;</td>\n",
       "      <td>&lt;NA&gt;</td>\n",
       "      <td>20170401</td>\n",
       "    </tr>\n",
       "    <tr>\n",
       "      <th>MC-NBF1</th>\n",
       "      <td>743-493</td>\n",
       "      <td>1.7433</td>\n",
       "      <td>49.33</td>\n",
       "      <td>1.74689</td>\n",
       "      <td>49.07</td>\n",
       "      <td>1.71791</td>\n",
       "      <td>1.72466</td>\n",
       "      <td>1.72693</td>\n",
       "      <td>1.73091</td>\n",
       "      <td>1.73367</td>\n",
       "      <td>...</td>\n",
       "      <td>0.852</td>\n",
       "      <td>0.775</td>\n",
       "      <td>0.677</td>\n",
       "      <td>0.486</td>\n",
       "      <td>0.451</td>\n",
       "      <td>0.341</td>\n",
       "      <td>0.17</td>\n",
       "      <td>&lt;NA&gt;</td>\n",
       "      <td>&lt;NA&gt;</td>\n",
       "      <td>20170401</td>\n",
       "    </tr>\n",
       "    <tr>\n",
       "      <th>M-TAF1</th>\n",
       "      <td>773-495</td>\n",
       "      <td>1.7725</td>\n",
       "      <td>49.47</td>\n",
       "      <td>1.77622</td>\n",
       "      <td>49.2</td>\n",
       "      <td>1.74719</td>\n",
       "      <td>1.7535</td>\n",
       "      <td>1.75571</td>\n",
       "      <td>1.75972</td>\n",
       "      <td>1.76254</td>\n",
       "      <td>...</td>\n",
       "      <td>0.731</td>\n",
       "      <td>0.598</td>\n",
       "      <td>0.446</td>\n",
       "      <td>0.202</td>\n",
       "      <td>0.184</td>\n",
       "      <td>0.116</td>\n",
       "      <td>0.047</td>\n",
       "      <td>&lt;NA&gt;</td>\n",
       "      <td>&lt;NA&gt;</td>\n",
       "      <td>20170401</td>\n",
       "    </tr>\n",
       "    <tr>\n",
       "      <th>MC-TAF1</th>\n",
       "      <td>773-495</td>\n",
       "      <td>1.7725</td>\n",
       "      <td>49.47</td>\n",
       "      <td>1.77622</td>\n",
       "      <td>49.2</td>\n",
       "      <td>1.74719</td>\n",
       "      <td>1.7535</td>\n",
       "      <td>1.75571</td>\n",
       "      <td>1.75972</td>\n",
       "      <td>1.76254</td>\n",
       "      <td>...</td>\n",
       "      <td>0.731</td>\n",
       "      <td>0.598</td>\n",
       "      <td>0.446</td>\n",
       "      <td>0.202</td>\n",
       "      <td>0.184</td>\n",
       "      <td>0.116</td>\n",
       "      <td>0.047</td>\n",
       "      <td>&lt;NA&gt;</td>\n",
       "      <td>&lt;NA&gt;</td>\n",
       "      <td>20170401</td>\n",
       "    </tr>\n",
       "  </tbody>\n",
       "</table>\n",
       "<p>194 rows × 128 columns</p>\n",
       "</div>"
      ],
      "text/plain": [
       "category      Code refractive index abbe number refractive index abbe number  \\\n",
       "data item      NaN                d          vd                e          ve   \n",
       "glass                                                                          \n",
       "FC5        487-704          1.48749       70.45          1.48914       70.24   \n",
       "FCD1       497-816            1.497       81.61          1.49845       81.19   \n",
       "FCD1B      497-816           1.4971       81.56          1.49856       81.15   \n",
       "FCD10A     459-902           1.4586        90.2          1.45981       89.75   \n",
       "FCD100     437-951            1.437        95.1           1.4381       94.66   \n",
       "...            ...              ...         ...              ...         ...   \n",
       "M-NBF1     743-493           1.7433       49.33          1.74689       49.07   \n",
       "MP-NBF1    743-493           1.7433       49.33          1.74689       49.07   \n",
       "MC-NBF1    743-493           1.7433       49.33          1.74689       49.07   \n",
       "M-TAF1     773-495           1.7725       49.47          1.77622        49.2   \n",
       "MC-TAF1    773-495           1.7725       49.47          1.77622        49.2   \n",
       "\n",
       "category  refractive indices                                      ...  \\\n",
       "data item             1529.6  1128.64        t        s       A'  ...   \n",
       "glass                                                             ...   \n",
       "FC5                  1.47308  1.47774  1.47913  1.48139  1.48283  ...   \n",
       "FCD1                 1.48598  1.48907  1.49008  1.49182    1.493  ...   \n",
       "FCD1B                1.48592  1.48912  1.49015  1.49192   1.4931  ...   \n",
       "FCD10A               1.44937  1.45194  1.45279  1.45426  1.45525  ...   \n",
       "FCD100               1.42855  1.43094  1.43172  1.43306  1.43396  ...   \n",
       "...                      ...      ...      ...      ...      ...  ...   \n",
       "M-NBF1               1.71791  1.72466  1.72693  1.73091  1.73367  ...   \n",
       "MP-NBF1              1.71791  1.72466  1.72693  1.73091  1.73367  ...   \n",
       "MC-NBF1              1.71791  1.72466  1.72693  1.73091  1.73367  ...   \n",
       "M-TAF1               1.74719   1.7535  1.75571  1.75972  1.76254  ...   \n",
       "MC-TAF1              1.74719   1.7535  1.75571  1.75972  1.76254  ...   \n",
       "\n",
       "category  internal transmission mm, 10                                     \\\n",
       "data item                        340.0  330.0  320.0  310.0  300.0  290.0   \n",
       "glass                                                                       \n",
       "FC5                              0.984   0.97  0.937  0.868   0.71   0.43   \n",
       "FCD1                             0.878  0.761  0.586  0.376   0.19  0.077   \n",
       "FCD1B                            0.726   0.52  0.288  0.112  0.028    0.0   \n",
       "FCD10A                           0.867  0.744  0.561  0.347  0.166  0.059   \n",
       "FCD100                            0.88  0.761  0.579  0.358  0.168  0.057   \n",
       "...                                ...    ...    ...    ...    ...    ...   \n",
       "M-NBF1                           0.757  0.648  0.521  0.327   0.25  0.132   \n",
       "MP-NBF1                          0.757  0.648  0.521  0.327   0.25  0.132   \n",
       "MC-NBF1                          0.852  0.775  0.677  0.486  0.451  0.341   \n",
       "M-TAF1                           0.731  0.598  0.446  0.202  0.184  0.116   \n",
       "MC-TAF1                          0.731  0.598  0.446  0.202  0.184  0.116   \n",
       "\n",
       "category         Glass Cross Reference Index Remarks    Update  \n",
       "data item  280.0                         NaN     NaN       NaN  \n",
       "glass                                                           \n",
       "FC5         0.12                       N-FK5    <NA>  20170401  \n",
       "FCD1       0.027                     N-PK52A    <NA>  20181012  \n",
       "FCD1B        0.0                     N-PK52A    <NA>  20181012  \n",
       "FCD10A     0.016                        <NA>    <NA>  20170401  \n",
       "FCD100     0.015                        <NA>    <NA>  20170401  \n",
       "...          ...                         ...     ...       ...  \n",
       "M-NBF1     0.032                        <NA>    <NA>  20170401  \n",
       "MP-NBF1    0.032                        <NA>    <NA>  20170401  \n",
       "MC-NBF1     0.17                        <NA>    <NA>  20170401  \n",
       "M-TAF1     0.047                        <NA>    <NA>  20170401  \n",
       "MC-TAF1    0.047                        <NA>    <NA>  20170401  \n",
       "\n",
       "[194 rows x 128 columns]"
      ]
     },
     "execution_count": 4,
     "metadata": {},
     "output_type": "execute_result"
    }
   ],
   "source": [
    "cat_df"
   ]
  },
  {
   "cell_type": "code",
   "execution_count": 5,
   "id": "helpful-essex",
   "metadata": {},
   "outputs": [],
   "source": [
    "nd = cat_df['refractive indices']['d'].to_numpy(dtype=float)\n",
    "nF = cat_df['refractive indices']['F'].to_numpy(dtype=float)\n",
    "nC = cat_df['refractive indices']['C'].to_numpy(dtype=float)"
   ]
  },
  {
   "cell_type": "code",
   "execution_count": 6,
   "id": "ongoing-agency",
   "metadata": {},
   "outputs": [
    {
     "data": {
      "text/plain": [
       "False"
      ]
     },
     "execution_count": 6,
     "metadata": {},
     "output_type": "execute_result"
    }
   ],
   "source": [
    "cat_df.columns.has_duplicates"
   ]
  },
  {
   "cell_type": "code",
   "execution_count": 7,
   "id": "overhead-engineer",
   "metadata": {},
   "outputs": [],
   "source": [
    "nd, coefs = buchdahl.calc_buchdahl_coords(nd, nF, nC)"
   ]
  },
  {
   "cell_type": "code",
   "execution_count": 8,
   "id": "southeast-shelter",
   "metadata": {},
   "outputs": [],
   "source": [
    "coefs /= np.array((nd - 1.0), dtype=float)"
   ]
  },
  {
   "cell_type": "markdown",
   "id": "joint-parliament",
   "metadata": {},
   "source": [
    "## Test Series extracted from DataFrame"
   ]
  },
  {
   "cell_type": "code",
   "execution_count": 9,
   "id": "distant-purchase",
   "metadata": {},
   "outputs": [],
   "source": [
    "gla = cat_df.loc[gname]\n",
    "gla1 = cat_df.loc[gname1]"
   ]
  },
  {
   "cell_type": "code",
   "execution_count": 10,
   "id": "dietary-startup",
   "metadata": {},
   "outputs": [
    {
     "data": {
      "text/plain": [
       "data item\n",
       "A0       2.218113\n",
       "A0pow           0\n",
       "A1      -5.799427\n",
       "A1pow          -3\n",
       "A2       8.347068\n",
       "A2pow          -3\n",
       "A3       6.504652\n",
       "A3pow          -5\n",
       "A4       8.514219\n",
       "A4pow          -6\n",
       "A5      -5.885227\n",
       "A5pow          -7\n",
       "Name: FCD1, dtype: object"
      ]
     },
     "execution_count": 10,
     "metadata": {},
     "output_type": "execute_result"
    }
   ],
   "source": [
    "cat_df.loc[gname]['dispersion coefficients']"
   ]
  },
  {
   "cell_type": "code",
   "execution_count": 11,
   "id": "excess-context",
   "metadata": {},
   "outputs": [
    {
     "data": {
      "text/plain": [
       "data item\n",
       "A0       2.218113\n",
       "A0pow           0\n",
       "A1      -5.799427\n",
       "A1pow          -3\n",
       "A2       8.347068\n",
       "A2pow          -3\n",
       "A3       6.504652\n",
       "A3pow          -5\n",
       "A4       8.514219\n",
       "A4pow          -6\n",
       "A5      -5.885227\n",
       "A5pow          -7\n",
       "Name: FCD1, dtype: object"
      ]
     },
     "execution_count": 11,
     "metadata": {},
     "output_type": "execute_result"
    }
   ],
   "source": [
    "gla['dispersion coefficients']"
   ]
  },
  {
   "cell_type": "code",
   "execution_count": 12,
   "id": "amino-pregnancy",
   "metadata": {},
   "outputs": [],
   "source": [
    "coefs = gla['dispersion coefficients'].to_numpy(dtype=float)"
   ]
  },
  {
   "cell_type": "code",
   "execution_count": 13,
   "id": "double-ready",
   "metadata": {},
   "outputs": [
    {
     "data": {
      "text/plain": [
       "array([ 2.2181132,  0.       , -5.799427 , -3.       ,  8.3470679,\n",
       "       -3.       ,  6.5046523, -5.       ,  8.5142186, -6.       ,\n",
       "       -5.8852269, -7.       ])"
      ]
     },
     "execution_count": 13,
     "metadata": {},
     "output_type": "execute_result"
    }
   ],
   "source": [
    "coefs"
   ]
  },
  {
   "cell_type": "code",
   "execution_count": 14,
   "id": "spread-century",
   "metadata": {},
   "outputs": [
    {
     "data": {
      "text/plain": [
       "-3.0"
      ]
     },
     "execution_count": 14,
     "metadata": {},
     "output_type": "execute_result"
    }
   ],
   "source": [
    "coefs[3]"
   ]
  },
  {
   "cell_type": "code",
   "execution_count": 15,
   "id": "scenic-january",
   "metadata": {
    "tags": []
   },
   "outputs": [
    {
     "data": {
      "text/plain": [
       "data item\n",
       "2500      0.999\n",
       "2400.0    0.999\n",
       "2200.0    0.999\n",
       "2000.0    0.999\n",
       "1800.0    0.999\n",
       "1600.0    0.999\n",
       "1550.0    0.999\n",
       "1500.0    0.999\n",
       "1400.0    0.999\n",
       "1300.0    0.999\n",
       "1200.0    0.999\n",
       "1100      0.999\n",
       "1060.0    0.999\n",
       "1050.0    0.999\n",
       "1000.0    0.999\n",
       "950.0     0.999\n",
       "900.0     0.999\n",
       "850.0     0.999\n",
       "830.0     0.999\n",
       "800.0     0.999\n",
       "780.0     0.999\n",
       "750.0     0.999\n",
       "700       0.999\n",
       "650.0     0.998\n",
       "600.0     0.999\n",
       "550.0     0.999\n",
       "500.0     0.999\n",
       "480.0     0.999\n",
       "460.0     0.997\n",
       "440.0     0.997\n",
       "420.0     0.997\n",
       "400.0     0.995\n",
       "390.0     0.996\n",
       "380       0.995\n",
       "370.0      0.99\n",
       "360.0     0.972\n",
       "350.0     0.939\n",
       "340.0     0.878\n",
       "330.0     0.761\n",
       "320.0     0.586\n",
       "310.0     0.376\n",
       "300.0      0.19\n",
       "290.0     0.077\n",
       "280.0     0.027\n",
       "Name: FCD1, dtype: object"
      ]
     },
     "execution_count": 15,
     "metadata": {},
     "output_type": "execute_result"
    }
   ],
   "source": [
    "cat_pd.glass_data(gname)['internal transmission mm, 10']"
   ]
  },
  {
   "cell_type": "code",
   "execution_count": 16,
   "id": "cooperative-mission",
   "metadata": {},
   "outputs": [
    {
     "data": {
      "text/plain": [
       "data item\n",
       "1529.6     1.48598\n",
       "1128.64    1.48907\n",
       "t          1.49008\n",
       "s          1.49182\n",
       "A'           1.493\n",
       "r          1.49408\n",
       "C          1.49514\n",
       "C'         1.49543\n",
       "He-Ne      1.49571\n",
       "D          1.49694\n",
       "d            1.497\n",
       "e          1.49845\n",
       "F          1.50123\n",
       "F'         1.50157\n",
       "g          1.50451\n",
       "h          1.50721\n",
       "i          1.51175\n",
       "Name: FCD1, dtype: object"
      ]
     },
     "execution_count": 16,
     "metadata": {},
     "output_type": "execute_result"
    }
   ],
   "source": [
    "cat_pd.glass_data(gname)['refractive indices']"
   ]
  },
  {
   "cell_type": "markdown",
   "id": "removed-rogers",
   "metadata": {},
   "source": [
    "## Test factory method, create_glass"
   ]
  },
  {
   "cell_type": "code",
   "execution_count": 17,
   "id": "perceived-simulation",
   "metadata": {},
   "outputs": [],
   "source": [
    "gla2 = create_glass(gname2, catalog)"
   ]
  },
  {
   "cell_type": "code",
   "execution_count": 18,
   "id": "foreign-academy",
   "metadata": {},
   "outputs": [
    {
     "data": {
      "text/plain": [
       "Index([ 1529.6, 1128.64,     't',     's',    'A'',     'r',     'C',    'C'',\n",
       "       'He-Ne',     'D',     'd',     'e',     'F',    'F'',     'g',     'h',\n",
       "           'i'],\n",
       "      dtype='object', name='data item')"
      ]
     },
     "execution_count": 18,
     "metadata": {},
     "output_type": "execute_result"
    }
   ],
   "source": [
    "wvls = gla2.glass_data()['refractive indices'].index; wvls"
   ]
  },
  {
   "cell_type": "code",
   "execution_count": 19,
   "id": "fantastic-behalf",
   "metadata": {},
   "outputs": [
    {
     "name": "stdout",
     "output_type": "stream",
     "text": [
      " wvl     meas n   interp n    delta\n",
      "1529.6   1.74719   1.74719  -1.3e-06\n",
      "1128.64  1.75350   1.75350  -4.9e-06\n",
      "t        1.75571   1.75571   2.4e-06\n",
      "s        1.75972   1.75972   3.9e-06\n",
      "A'       1.76254   1.76254   3.4e-06\n",
      "r        1.76517   1.76517  -4.4e-06\n",
      "C        1.76781   1.76781  -3.7e-06\n",
      "C'       1.76855   1.76855  -4.8e-07\n",
      "He-Ne    1.76925   1.76925  -4.5e-06\n",
      "D        1.77236   1.77236   4.1e-06\n",
      "d        1.77250   1.77250   2.5e-06\n",
      "e        1.77622   1.77622   1.9e-06\n",
      "F        1.78342   1.78342   3.6e-06\n",
      "F'       1.78433   1.78433  -4.2e-06\n",
      "g        1.79208   1.79208  -4.9e-06\n",
      "h        1.79932   1.79932  -3.3e-07\n",
      "i        1.81179   1.81179   3.1e-06\n"
     ]
    }
   ],
   "source": [
    "print(\" wvl     meas n   interp n    delta\")\n",
    "for w_str in wvls:\n",
    "    n_line = gla2.meas_rindex(w_str)\n",
    "    try:\n",
    "        n_intrp = gla2.rindex(w_str)\n",
    "    except KeyError:\n",
    "        print(f'{w_str}: {n_line}, Key error')\n",
    "    else:\n",
    "        print(f'{str(w_str):7s} {n_line:8.5f}  {n_intrp:8.5f}  {n_intrp-n_line:8.2g}')"
   ]
  },
  {
   "cell_type": "code",
   "execution_count": 20,
   "id": "substantial-vintage",
   "metadata": {},
   "outputs": [
    {
     "data": {
      "text/plain": [
       "1529.6"
      ]
     },
     "execution_count": 20,
     "metadata": {},
     "output_type": "execute_result"
    }
   ],
   "source": [
    "wvls[0]"
   ]
  },
  {
   "cell_type": "code",
   "execution_count": 21,
   "id": "annual-belgium",
   "metadata": {},
   "outputs": [
    {
     "data": {
      "text/plain": [
       "<PandasArray>\n",
       "[1.74719,  1.7535, 1.75571, 1.75972, 1.76254, 1.76517, 1.76781, 1.76855,\n",
       " 1.76925, 1.77236,  1.7725, 1.77622, 1.78342, 1.78433, 1.79208, 1.79932,\n",
       " 1.81179]\n",
       "Length: 17, dtype: object"
      ]
     },
     "execution_count": 21,
     "metadata": {},
     "output_type": "execute_result"
    }
   ],
   "source": [
    "gla2.meas_rindex(wvls).array"
   ]
  },
  {
   "cell_type": "code",
   "execution_count": 22,
   "id": "unexpected-eclipse",
   "metadata": {},
   "outputs": [
    {
     "data": {
      "text/plain": [
       "array([1.74718868, 1.7534951 , 1.75571244, 1.75972388, 1.76254343,\n",
       "       1.76516562, 1.76780629, 1.76854952, 1.7692455 , 1.77236409,\n",
       "       1.77250249, 1.77622193, 1.78342357, 1.78432577, 1.79207506,\n",
       "       1.79931967, 1.8117931 ])"
      ]
     },
     "execution_count": 22,
     "metadata": {},
     "output_type": "execute_result"
    }
   ],
   "source": [
    "gla2.rindex(wvls)"
   ]
  },
  {
   "cell_type": "code",
   "execution_count": 23,
   "id": "overhead-uganda",
   "metadata": {},
   "outputs": [
    {
     "data": {
      "text/plain": [
       "<PandasArray>\n",
       "[ 1.3172371233771685e-06,  4.8984895388848315e-06,  -2.444966360704015e-06,\n",
       " -3.8784501823485584e-06, -3.4280279030962646e-06,   4.382355534904292e-06,\n",
       "  3.7054882224829555e-06,   4.828140127699498e-07,   4.497910835343788e-06,\n",
       "  -4.091701971464801e-06,  -2.485744281299773e-06, -1.9335056840041887e-06,\n",
       "  -3.567562498307808e-06,   4.229042122938509e-06,   4.943051643557794e-06,\n",
       "   3.271234316759575e-07, -3.0971265490009614e-06]\n",
       "Length: 17, dtype: object"
      ]
     },
     "execution_count": 23,
     "metadata": {},
     "output_type": "execute_result"
    }
   ],
   "source": [
    "gla2.meas_rindex(wvls).array-gla2.rindex(wvls)"
   ]
  },
  {
   "cell_type": "code",
   "execution_count": 24,
   "id": "handed-climate",
   "metadata": {},
   "outputs": [
    {
     "data": {
      "text/plain": [
       "data item\n",
       "d    3.7\n",
       "Name: FCD1, dtype: object"
      ]
     },
     "execution_count": 24,
     "metadata": {},
     "output_type": "execute_result"
    }
   ],
   "source": [
    "cat_pd.glass_data(gname)['specific gravity']"
   ]
  },
  {
   "cell_type": "code",
   "execution_count": 25,
   "id": "powered-peoples",
   "metadata": {},
   "outputs": [
    {
     "data": {
      "text/plain": [
       "data item\n",
       "DW          2\n",
       "DA          3\n",
       "Tblue       4\n",
       "DNaOH       5\n",
       "DSTPP       5\n",
       "D0          5\n",
       "DH       <NA>\n",
       "Name: FCD1, dtype: object"
      ]
     },
     "execution_count": 25,
     "metadata": {},
     "output_type": "execute_result"
    }
   ],
   "source": [
    "cat_pd.glass_data(gname)['chemical properties']"
   ]
  },
  {
   "cell_type": "code",
   "execution_count": 26,
   "id": "specified-literacy",
   "metadata": {},
   "outputs": [
    {
     "data": {
      "text/plain": [
       "data item\n",
       "Tg           457\n",
       "Ts           490\n",
       "T1014.5      439\n",
       "T1013        450\n",
       "T107.6       560\n",
       "λ          0.837\n",
       "Ｃｐ         0.636\n",
       "Name: FCD1, dtype: object"
      ]
     },
     "execution_count": 26,
     "metadata": {},
     "output_type": "execute_result"
    }
   ],
   "source": [
    "cat_pd.glass_data(gname)['thermal properties']"
   ]
  },
  {
   "cell_type": "code",
   "execution_count": 27,
   "id": "musical-fifth",
   "metadata": {},
   "outputs": [
    {
     "data": {
      "text/plain": [
       "data item\n",
       "HK         345\n",
       "HKrank       3\n",
       "FA         410\n",
       "E           80\n",
       "G         31.1\n",
       "μ         0.28\n",
       "σb          48\n",
       "Name: FCD1, dtype: object"
      ]
     },
     "execution_count": 27,
     "metadata": {},
     "output_type": "execute_result"
    }
   ],
   "source": [
    "cat_pd.glass_data(gname)['mechanical properties']"
   ]
  },
  {
   "cell_type": "code",
   "execution_count": 28,
   "id": "verified-rating",
   "metadata": {},
   "outputs": [
    {
     "data": {
      "text/plain": [
       "glass\n",
       "FCD1    345\n",
       "E-F2    530\n",
       "Name: HK, dtype: Int64"
      ]
     },
     "execution_count": 28,
     "metadata": {},
     "output_type": "execute_result"
    }
   ],
   "source": [
    "cat_df.loc[[gname, gname1]]['mechanical properties']['HK']"
   ]
  },
  {
   "cell_type": "code",
   "execution_count": 29,
   "id": "quantitative-hollywood",
   "metadata": {},
   "outputs": [
    {
     "data": {
      "text/plain": [
       "data item\n",
       "2500       <NA>\n",
       "2400.0     <NA>\n",
       "2200.0     <NA>\n",
       "2000.0     <NA>\n",
       "1800.0     <NA>\n",
       "1600.0     <NA>\n",
       "1550.0    0.995\n",
       "1500.0    0.995\n",
       "1400.0    0.993\n",
       "1300.0    0.999\n",
       "1200.0    0.999\n",
       "1100      0.999\n",
       "1060.0    0.998\n",
       "1050.0    0.998\n",
       "1000.0    0.998\n",
       "950.0     0.998\n",
       "900.0     0.998\n",
       "850.0     0.998\n",
       "830.0     0.998\n",
       "800.0     0.998\n",
       "780.0     0.998\n",
       "750.0     0.998\n",
       "700       0.994\n",
       "650.0     0.993\n",
       "600.0     0.995\n",
       "550.0     0.995\n",
       "500.0     0.989\n",
       "480.0     0.985\n",
       "460.0     0.982\n",
       "440.0     0.981\n",
       "420.0     0.974\n",
       "400.0     0.952\n",
       "390.0      0.91\n",
       "380       0.802\n",
       "370.0     0.542\n",
       "360.0     0.147\n",
       "350.0       0.0\n",
       "340.0       0.0\n",
       "330.0       0.0\n",
       "320.0       0.0\n",
       "310.0       0.0\n",
       "300.0       0.0\n",
       "290.0       0.0\n",
       "280.0       0.0\n",
       "Name: E-F2, dtype: object"
      ]
     },
     "execution_count": 29,
     "metadata": {},
     "output_type": "execute_result"
    }
   ],
   "source": [
    "cat_pd.glass_data(gname1)['internal transmission mm, 10']"
   ]
  },
  {
   "cell_type": "code",
   "execution_count": 30,
   "id": "broad-bangladesh",
   "metadata": {},
   "outputs": [
    {
     "data": {
      "text/plain": [
       "<FloatingArray>\n",
       "[1.48749,   1.497,  1.4971,  1.4586,   1.437, 1.59282,  1.5941, 1.55032,\n",
       "   1.618, 1.61997,\n",
       " ...\n",
       "  1.7133, 1.92286, 1.92286, 1.73077, 1.73077,  1.7433,  1.7433,  1.7433,\n",
       "  1.7725,  1.7725]\n",
       "Length: 194, dtype: Float64"
      ]
     },
     "execution_count": 30,
     "metadata": {},
     "output_type": "execute_result"
    }
   ],
   "source": [
    "cat_df['refractive indices']['d'].array"
   ]
  },
  {
   "cell_type": "code",
   "execution_count": 31,
   "id": "romantic-mission",
   "metadata": {},
   "outputs": [],
   "source": [
    "trnsm_data = cat_df.loc[[gname, gname1]]['internal transmission mm, 10'].T"
   ]
  },
  {
   "cell_type": "code",
   "execution_count": 32,
   "id": "automotive-cherry",
   "metadata": {},
   "outputs": [
    {
     "data": {
      "text/plain": [
       "<AxesSubplot:xlabel='data item'>"
      ]
     },
     "execution_count": 32,
     "metadata": {},
     "output_type": "execute_result"
    },
    {
     "data": {
      "image/png": "[encoded data removed]",
      "text/plain": [
       "<Figure size 432x288 with 1 Axes>"
      ]
     },
     "metadata": {
      "needs_background": "light"
     },
     "output_type": "display_data"
    }
   ],
   "source": [
    "trnsm_data.plot()"
   ]
  },
  {
   "cell_type": "code",
   "execution_count": 33,
   "id": "christian-commitment",
   "metadata": {},
   "outputs": [
    {
     "data": {
      "text/plain": [
       "<AxesSubplot:xlabel='data item'>"
      ]
     },
     "execution_count": 33,
     "metadata": {},
     "output_type": "execute_result"
    },
    {
     "data": {
      "image/png": "[encoded data removed]",
      "text/plain": [
       "<Figure size 432x288 with 1 Axes>"
      ]
     },
     "metadata": {
      "needs_background": "light"
     },
     "output_type": "display_data"
    }
   ],
   "source": [
    "cat_df['internal transmission mm, 10'].T.plot(legend=False)"
   ]
  },
  {
   "cell_type": "code",
   "execution_count": 34,
   "id": "interested-enlargement",
   "metadata": {},
   "outputs": [],
   "source": [
    "gla_v2 = hoya.HoyaGlass(gname)"
   ]
  },
  {
   "cell_type": "code",
   "execution_count": 35,
   "id": "suitable-reading",
   "metadata": {},
   "outputs": [
    {
     "data": {
      "text/plain": [
       "1.50123"
      ]
     },
     "execution_count": 35,
     "metadata": {},
     "output_type": "execute_result"
    }
   ],
   "source": [
    "gla_v2.meas_rindex('F')"
   ]
  },
  {
   "cell_type": "code",
   "execution_count": 36,
   "id": "composite-restoration",
   "metadata": {},
   "outputs": [
    {
     "data": {
      "text/plain": [
       "'497.816'"
      ]
     },
     "execution_count": 36,
     "metadata": {},
     "output_type": "execute_result"
    }
   ],
   "source": [
    "gla_v2.glass_code()"
   ]
  },
  {
   "cell_type": "code",
   "execution_count": 37,
   "id": "038677b0-6a78-4a2c-8c65-b90b5955d81b",
   "metadata": {},
   "outputs": [
    {
     "data": {
      "text/plain": [
       "data item\n",
       "1529.6     1.48598\n",
       "1128.64    1.48907\n",
       "t          1.49008\n",
       "s          1.49182\n",
       "A'           1.493\n",
       "r          1.49408\n",
       "C          1.49514\n",
       "C'         1.49543\n",
       "He-Ne      1.49571\n",
       "D          1.49694\n",
       "d            1.497\n",
       "e          1.49845\n",
       "F          1.50123\n",
       "F'         1.50157\n",
       "g          1.50451\n",
       "h          1.50721\n",
       "i          1.51175\n",
       "Name: FCD1, dtype: object"
      ]
     },
     "execution_count": 37,
     "metadata": {},
     "output_type": "execute_result"
    }
   ],
   "source": [
    "gla_v2.glass_data()['refractive indices']"
   ]
  },
  {
   "cell_type": "code",
   "execution_count": 38,
   "id": "cooked-melissa",
   "metadata": {},
   "outputs": [
    {
     "data": {
      "text/plain": [
       "category                 data item\n",
       "refractive index         d               1.497\n",
       "abbe number              vd              81.61\n",
       "refractive index         e             1.49845\n",
       "abbe number              ve              81.19\n",
       "refractive indices       1529.6        1.48598\n",
       "                         1128.64       1.48907\n",
       "                         t             1.49008\n",
       "                         s             1.49182\n",
       "                         A'              1.493\n",
       "                         r             1.49408\n",
       "                         C             1.49514\n",
       "                         C'            1.49543\n",
       "                         He-Ne         1.49571\n",
       "                         D             1.49694\n",
       "                         d               1.497\n",
       "                         e             1.49845\n",
       "                         F             1.50123\n",
       "                         F'            1.50157\n",
       "                         g             1.50451\n",
       "                         h             1.50721\n",
       "                         i             1.51175\n",
       "blank                    NaN                  \n",
       "dispersion coefficients  A0           2.218113\n",
       "                         A0pow               0\n",
       "                         A1          -5.799427\n",
       "                         A1pow              -3\n",
       "                         A2           8.347068\n",
       "                         A2pow              -3\n",
       "                         A3           6.504652\n",
       "Name: FCD1, dtype: object"
      ]
     },
     "execution_count": 38,
     "metadata": {},
     "output_type": "execute_result"
    }
   ],
   "source": [
    "cat_pd.glass_data(gname)[1:30]"
   ]
  },
  {
   "cell_type": "code",
   "execution_count": null,
   "id": "c7a12341-1aa6-4412-8f4c-9b8a73de3f51",
   "metadata": {},
   "outputs": [],
   "source": []
  }
 ],
 "metadata": {
  "kernelspec": {
   "display_name": "Python 3 (ipykernel)",
   "language": "python",
   "name": "python3"
  },
  "language_info": {
   "codemirror_mode": {
    "name": "ipython",
    "version": 3
   },
   "file_extension": ".py",
   "mimetype": "text/x-python",
   "name": "python",
   "nbconvert_exporter": "python",
   "pygments_lexer": "ipython3",
   "version": "3.8.13"
  }
 },
 "nbformat": 4,
 "nbformat_minor": 5
}
