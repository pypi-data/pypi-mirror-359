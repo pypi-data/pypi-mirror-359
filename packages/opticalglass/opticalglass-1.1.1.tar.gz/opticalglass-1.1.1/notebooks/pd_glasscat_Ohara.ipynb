{
 "cells": [
  {
   "cell_type": "code",
   "execution_count": 1,
   "id": "forward-calcium",
   "metadata": {},
   "outputs": [],
   "source": [
    "import warnings\n",
    "\n",
    "from opticalglass.glass import get_filepath\n",
    "\n",
    "import opticalglass as og\n",
    "import opticalglass.buchdahl as buchdahl\n",
    "import opticalglass.glass as ogl\n",
    "from opticalglass.glassfactory import create_glass\n",
    "from opticalglass import ohara\n",
    "\n",
    "import numpy as np\n",
    "import pandas as pd\n",
    "import matplotlib.pyplot as plt"
   ]
  },
  {
   "cell_type": "markdown",
   "id": "coated-helmet",
   "metadata": {},
   "source": [
    "# Build Multi-Index for Ohara"
   ]
  },
  {
   "cell_type": "code",
   "execution_count": 2,
   "id": "polished-romantic",
   "metadata": {},
   "outputs": [],
   "source": [
    "catalog = 'Ohara'\n",
    "gname = 'S-FPL51'\n",
    "gname1 = 'S-BSL 7'\n",
    "gname2 = 'S-NPH53'"
   ]
  },
  {
   "cell_type": "raw",
   "id": "deadly-kelly",
   "metadata": {},
   "source": [
    "vendor_df = ogl.xl2df('OHARA.xlsx')"
   ]
  },
  {
   "cell_type": "raw",
   "id": "neutral-bridal",
   "metadata": {},
   "source": [
    "# the xl_df has indices and columns that match the Excel worksheet border.\n",
    "# the index runs from 1 to xl_df.shape[0]\n",
    "# the columns match the pattern 'A', 'B', 'C', ... 'Z', 'AA', 'AB', ...\n",
    "# this facilitates transferring areas on the spreadsheet to areas in the catalog DataFrame\n",
    "\n",
    "num_rows = 2  # number of header rows in the imported spreadsheet\n",
    "category_row = 1  # row with categories\n",
    "header_row = 2  # row with data item/header info\n",
    "data_col = 'C'  # first column of data in the imported spreadsheet\n",
    "args = num_rows, category_row , header_row, data_col\n",
    "\n",
    "series_mappings = [\n",
    "    ('refractive indices', (lambda h: h.split('n')[-1]), \n",
    "     header_row, 'E', 'X'),\n",
    "    ('dispersion coefficients', None, header_row, 'BI', 'BN'),\n",
    "    ('internal transmission mm, 10', None, header_row, 'CC', 'DH'),\n",
    "    ('chemical properties', None, header_row, 'FT', 'FY'),\n",
    "    ('thermal properties', None, header_row, 'FE', 'FI'),\n",
    "    ('mechanical properties', None, header_row, 'FM', 'FS'),\n",
    "    ]\n",
    "item_mappings = [\n",
    "    ('abbe number', 'vd', header_row, 'Y'),\n",
    "    ('abbe number', 've', header_row, 'Z'),\n",
    "    ]\n",
    "kwargs = dict(\n",
    "    data_extent = (3, 136, data_col, 'GA'),\n",
    "    name_col_offset = 'B',\n",
    "    )"
   ]
  },
  {
   "cell_type": "raw",
   "id": "quality-indian",
   "metadata": {},
   "source": [
    "cat_df = ogl.build_glass_cat(vendor_df, series_mappings, item_mappings, *args, **kwargs)"
   ]
  },
  {
   "cell_type": "code",
   "execution_count": 3,
   "id": "hundred-silly",
   "metadata": {},
   "outputs": [],
   "source": [
    "cat_pd = ohara.OharaCatalog()\n",
    "cat_df = cat_pd.df"
   ]
  },
  {
   "cell_type": "code",
   "execution_count": 4,
   "id": "separated-scotland",
   "metadata": {
    "tags": []
   },
   "outputs": [
    {
     "data": {
      "text/html": [
       "<div>\n",
       "<style scoped>\n",
       "    .dataframe tbody tr th:only-of-type {\n",
       "        vertical-align: middle;\n",
       "    }\n",
       "\n",
       "    .dataframe tbody tr th {\n",
       "        vertical-align: top;\n",
       "    }\n",
       "\n",
       "    .dataframe thead tr th {\n",
       "        text-align: left;\n",
       "    }\n",
       "\n",
       "    .dataframe thead tr:last-of-type th {\n",
       "        text-align: right;\n",
       "    }\n",
       "</style>\n",
       "<table border=\"1\" class=\"dataframe\">\n",
       "  <thead>\n",
       "    <tr>\n",
       "      <th>category</th>\n",
       "      <th colspan=\"2\" halign=\"left\">NaN</th>\n",
       "      <th colspan=\"8\" halign=\"left\">refractive indices</th>\n",
       "      <th>...</th>\n",
       "      <th colspan=\"2\" halign=\"left\">mechanical properties</th>\n",
       "      <th colspan=\"6\" halign=\"left\">chemical properties</th>\n",
       "      <th>Bubble Grp</th>\n",
       "      <th>specific gravity</th>\n",
       "    </tr>\n",
       "    <tr>\n",
       "      <th>data item</th>\n",
       "      <th>Code(d)</th>\n",
       "      <th>Code(e)</th>\n",
       "      <th>2325.0</th>\n",
       "      <th>1970.0</th>\n",
       "      <th>1530.0</th>\n",
       "      <th>1129.0</th>\n",
       "      <th>t</th>\n",
       "      <th>s</th>\n",
       "      <th>A'</th>\n",
       "      <th>r</th>\n",
       "      <th>...</th>\n",
       "      <th>Abrasion(Aa)</th>\n",
       "      <th>β</th>\n",
       "      <th>RW(P)</th>\n",
       "      <th>RA(P)</th>\n",
       "      <th>W(S)max</th>\n",
       "      <th>W(S)min</th>\n",
       "      <th>SR</th>\n",
       "      <th>PR</th>\n",
       "      <th>B</th>\n",
       "      <th>d</th>\n",
       "    </tr>\n",
       "    <tr>\n",
       "      <th>glass</th>\n",
       "      <th></th>\n",
       "      <th></th>\n",
       "      <th></th>\n",
       "      <th></th>\n",
       "      <th></th>\n",
       "      <th></th>\n",
       "      <th></th>\n",
       "      <th></th>\n",
       "      <th></th>\n",
       "      <th></th>\n",
       "      <th></th>\n",
       "      <th></th>\n",
       "      <th></th>\n",
       "      <th></th>\n",
       "      <th></th>\n",
       "      <th></th>\n",
       "      <th></th>\n",
       "      <th></th>\n",
       "      <th></th>\n",
       "      <th></th>\n",
       "      <th></th>\n",
       "    </tr>\n",
       "  </thead>\n",
       "  <tbody>\n",
       "    <tr>\n",
       "      <th>S-FPL51</th>\n",
       "      <td>497816</td>\n",
       "      <td>498810</td>\n",
       "      <td>1.47952</td>\n",
       "      <td>1.48269</td>\n",
       "      <td>1.4861</td>\n",
       "      <td>1.48911</td>\n",
       "      <td>1.4901</td>\n",
       "      <td>1.49183</td>\n",
       "      <td>1.493</td>\n",
       "      <td>1.49407</td>\n",
       "      <td>...</td>\n",
       "      <td>449</td>\n",
       "      <td>0.74</td>\n",
       "      <td>1</td>\n",
       "      <td>3</td>\n",
       "      <td>1</td>\n",
       "      <td>&lt;NA&gt;</td>\n",
       "      <td>52.1</td>\n",
       "      <td>4.0</td>\n",
       "      <td>&lt;NA&gt;</td>\n",
       "      <td>3.62</td>\n",
       "    </tr>\n",
       "    <tr>\n",
       "      <th>S-FPL53</th>\n",
       "      <td>439950</td>\n",
       "      <td>440946</td>\n",
       "      <td>1.42512</td>\n",
       "      <td>1.42762</td>\n",
       "      <td>1.43032</td>\n",
       "      <td>1.43269</td>\n",
       "      <td>1.43346</td>\n",
       "      <td>1.4348</td>\n",
       "      <td>1.4357</td>\n",
       "      <td>1.43652</td>\n",
       "      <td>...</td>\n",
       "      <td>451</td>\n",
       "      <td>0.57</td>\n",
       "      <td>1</td>\n",
       "      <td>2</td>\n",
       "      <td>3</td>\n",
       "      <td>&lt;NA&gt;</td>\n",
       "      <td>52.3</td>\n",
       "      <td>4.3</td>\n",
       "      <td>B</td>\n",
       "      <td>3.62</td>\n",
       "    </tr>\n",
       "    <tr>\n",
       "      <th>S-FPL55</th>\n",
       "      <td>439948</td>\n",
       "      <td>440942</td>\n",
       "      <td>1.42492</td>\n",
       "      <td>1.42747</td>\n",
       "      <td>1.43023</td>\n",
       "      <td>1.43264</td>\n",
       "      <td>1.43343</td>\n",
       "      <td>1.43478</td>\n",
       "      <td>1.43569</td>\n",
       "      <td>1.43651</td>\n",
       "      <td>...</td>\n",
       "      <td>387</td>\n",
       "      <td>0.59</td>\n",
       "      <td>1</td>\n",
       "      <td>2</td>\n",
       "      <td>2</td>\n",
       "      <td>&lt;NA&gt;</td>\n",
       "      <td>52.1</td>\n",
       "      <td>4.1</td>\n",
       "      <td>&lt;NA&gt;</td>\n",
       "      <td>3.59</td>\n",
       "    </tr>\n",
       "    <tr>\n",
       "      <th>S-FPM2</th>\n",
       "      <td>595677</td>\n",
       "      <td>597674</td>\n",
       "      <td>1.57252</td>\n",
       "      <td>1.57631</td>\n",
       "      <td>1.58045</td>\n",
       "      <td>1.58426</td>\n",
       "      <td>1.58557</td>\n",
       "      <td>1.58791</td>\n",
       "      <td>1.58954</td>\n",
       "      <td>1.59105</td>\n",
       "      <td>...</td>\n",
       "      <td>488</td>\n",
       "      <td>0.51</td>\n",
       "      <td>1</td>\n",
       "      <td>1</td>\n",
       "      <td>2</td>\n",
       "      <td>&lt;NA&gt;</td>\n",
       "      <td>51.3</td>\n",
       "      <td>4.1</td>\n",
       "      <td>&lt;NA&gt;</td>\n",
       "      <td>4.17</td>\n",
       "    </tr>\n",
       "    <tr>\n",
       "      <th>S-FPM3</th>\n",
       "      <td>538747</td>\n",
       "      <td>539743</td>\n",
       "      <td>1.51738</td>\n",
       "      <td>1.52105</td>\n",
       "      <td>1.525</td>\n",
       "      <td>1.52849</td>\n",
       "      <td>1.52965</td>\n",
       "      <td>1.53167</td>\n",
       "      <td>1.53304</td>\n",
       "      <td>1.5343</td>\n",
       "      <td>...</td>\n",
       "      <td>373</td>\n",
       "      <td>0.85</td>\n",
       "      <td>1</td>\n",
       "      <td>3</td>\n",
       "      <td>1</td>\n",
       "      <td>&lt;NA&gt;</td>\n",
       "      <td>5.1</td>\n",
       "      <td>4.1</td>\n",
       "      <td>&lt;NA&gt;</td>\n",
       "      <td>3.64</td>\n",
       "    </tr>\n",
       "    <tr>\n",
       "      <th>...</th>\n",
       "      <td>...</td>\n",
       "      <td>...</td>\n",
       "      <td>...</td>\n",
       "      <td>...</td>\n",
       "      <td>...</td>\n",
       "      <td>...</td>\n",
       "      <td>...</td>\n",
       "      <td>...</td>\n",
       "      <td>...</td>\n",
       "      <td>...</td>\n",
       "      <td>...</td>\n",
       "      <td>...</td>\n",
       "      <td>...</td>\n",
       "      <td>...</td>\n",
       "      <td>...</td>\n",
       "      <td>...</td>\n",
       "      <td>...</td>\n",
       "      <td>...</td>\n",
       "      <td>...</td>\n",
       "      <td>...</td>\n",
       "      <td>...</td>\n",
       "    </tr>\n",
       "    <tr>\n",
       "      <th>S-NPH 3</th>\n",
       "      <td>959175</td>\n",
       "      <td>972173</td>\n",
       "      <td>1.87064</td>\n",
       "      <td>1.88002</td>\n",
       "      <td>1.89131</td>\n",
       "      <td>1.90412</td>\n",
       "      <td>1.90937</td>\n",
       "      <td>1.91984</td>\n",
       "      <td>1.9278</td>\n",
       "      <td>1.93559</td>\n",
       "      <td>...</td>\n",
       "      <td>194</td>\n",
       "      <td>3.35</td>\n",
       "      <td>1</td>\n",
       "      <td>1</td>\n",
       "      <td>1</td>\n",
       "      <td>&lt;NA&gt;</td>\n",
       "      <td>1.0</td>\n",
       "      <td>1.0</td>\n",
       "      <td>&lt;NA&gt;</td>\n",
       "      <td>3.59</td>\n",
       "    </tr>\n",
       "    <tr>\n",
       "      <th>S-NPH 4</th>\n",
       "      <td>893204</td>\n",
       "      <td>903202</td>\n",
       "      <td>1.81864</td>\n",
       "      <td>1.82694</td>\n",
       "      <td>1.83681</td>\n",
       "      <td>1.84777</td>\n",
       "      <td>1.85218</td>\n",
       "      <td>1.86088</td>\n",
       "      <td>1.86745</td>\n",
       "      <td>1.87383</td>\n",
       "      <td>...</td>\n",
       "      <td>213</td>\n",
       "      <td>3.39</td>\n",
       "      <td>1</td>\n",
       "      <td>1</td>\n",
       "      <td>1</td>\n",
       "      <td>&lt;NA&gt;</td>\n",
       "      <td>1.0</td>\n",
       "      <td>1.0</td>\n",
       "      <td>&lt;NA&gt;</td>\n",
       "      <td>3.61</td>\n",
       "    </tr>\n",
       "    <tr>\n",
       "      <th>S-NPH 5</th>\n",
       "      <td>859227</td>\n",
       "      <td>868225</td>\n",
       "      <td>1.79247</td>\n",
       "      <td>1.80027</td>\n",
       "      <td>1.80944</td>\n",
       "      <td>1.81938</td>\n",
       "      <td>1.82333</td>\n",
       "      <td>1.83103</td>\n",
       "      <td>1.83681</td>\n",
       "      <td>1.8424</td>\n",
       "      <td>...</td>\n",
       "      <td>224</td>\n",
       "      <td>3.18</td>\n",
       "      <td>1</td>\n",
       "      <td>1</td>\n",
       "      <td>1</td>\n",
       "      <td>&lt;NA&gt;</td>\n",
       "      <td>1.0</td>\n",
       "      <td>1.0</td>\n",
       "      <td>&lt;NA&gt;</td>\n",
       "      <td>3.71</td>\n",
       "    </tr>\n",
       "    <tr>\n",
       "      <th>S-NPH 7</th>\n",
       "      <td>778239</td>\n",
       "      <td>786237</td>\n",
       "      <td>1.72077</td>\n",
       "      <td>1.7275</td>\n",
       "      <td>1.73544</td>\n",
       "      <td>1.74406</td>\n",
       "      <td>1.74749</td>\n",
       "      <td>1.75417</td>\n",
       "      <td>1.75917</td>\n",
       "      <td>1.764</td>\n",
       "      <td>...</td>\n",
       "      <td>448</td>\n",
       "      <td>3.45</td>\n",
       "      <td>1</td>\n",
       "      <td>1</td>\n",
       "      <td>2</td>\n",
       "      <td>&lt;NA&gt;</td>\n",
       "      <td>1.0</td>\n",
       "      <td>1.0</td>\n",
       "      <td>&lt;NA&gt;</td>\n",
       "      <td>3.3</td>\n",
       "    </tr>\n",
       "    <tr>\n",
       "      <th>S-NPH53</th>\n",
       "      <td>847239</td>\n",
       "      <td>855237</td>\n",
       "      <td>1.78347</td>\n",
       "      <td>1.79094</td>\n",
       "      <td>1.79971</td>\n",
       "      <td>1.80921</td>\n",
       "      <td>1.81297</td>\n",
       "      <td>1.82029</td>\n",
       "      <td>1.82577</td>\n",
       "      <td>1.83105</td>\n",
       "      <td>...</td>\n",
       "      <td>286</td>\n",
       "      <td>3.18</td>\n",
       "      <td>1</td>\n",
       "      <td>1</td>\n",
       "      <td>1</td>\n",
       "      <td>&lt;NA&gt;</td>\n",
       "      <td>2.3</td>\n",
       "      <td>1.0</td>\n",
       "      <td>&lt;NA&gt;</td>\n",
       "      <td>3.78</td>\n",
       "    </tr>\n",
       "  </tbody>\n",
       "</table>\n",
       "<p>134 rows × 181 columns</p>\n",
       "</div>"
      ],
      "text/plain": [
       "category      NaN         refractive indices                             \\\n",
       "data item Code(d) Code(e)             2325.0   1970.0   1530.0   1129.0   \n",
       "glass                                                                     \n",
       "S-FPL51    497816  498810            1.47952  1.48269   1.4861  1.48911   \n",
       "S-FPL53    439950  440946            1.42512  1.42762  1.43032  1.43269   \n",
       "S-FPL55    439948  440942            1.42492  1.42747  1.43023  1.43264   \n",
       "S-FPM2     595677  597674            1.57252  1.57631  1.58045  1.58426   \n",
       "S-FPM3     538747  539743            1.51738  1.52105    1.525  1.52849   \n",
       "...           ...     ...                ...      ...      ...      ...   \n",
       "S-NPH 3    959175  972173            1.87064  1.88002  1.89131  1.90412   \n",
       "S-NPH 4    893204  903202            1.81864  1.82694  1.83681  1.84777   \n",
       "S-NPH 5    859227  868225            1.79247  1.80027  1.80944  1.81938   \n",
       "S-NPH 7    778239  786237            1.72077   1.7275  1.73544  1.74406   \n",
       "S-NPH53    847239  855237            1.78347  1.79094  1.79971  1.80921   \n",
       "\n",
       "category                                       ... mechanical properties  \\\n",
       "data item        t        s       A'        r  ...          Abrasion(Aa)   \n",
       "glass                                          ...                         \n",
       "S-FPL51     1.4901  1.49183    1.493  1.49407  ...                   449   \n",
       "S-FPL53    1.43346   1.4348   1.4357  1.43652  ...                   451   \n",
       "S-FPL55    1.43343  1.43478  1.43569  1.43651  ...                   387   \n",
       "S-FPM2     1.58557  1.58791  1.58954  1.59105  ...                   488   \n",
       "S-FPM3     1.52965  1.53167  1.53304   1.5343  ...                   373   \n",
       "...            ...      ...      ...      ...  ...                   ...   \n",
       "S-NPH 3    1.90937  1.91984   1.9278  1.93559  ...                   194   \n",
       "S-NPH 4    1.85218  1.86088  1.86745  1.87383  ...                   213   \n",
       "S-NPH 5    1.82333  1.83103  1.83681   1.8424  ...                   224   \n",
       "S-NPH 7    1.74749  1.75417  1.75917    1.764  ...                   448   \n",
       "S-NPH53    1.81297  1.82029  1.82577  1.83105  ...                   286   \n",
       "\n",
       "category        chemical properties                                   \\\n",
       "data item     β               RW(P) RA(P) W(S)max W(S)min    SR   PR   \n",
       "glass                                                                  \n",
       "S-FPL51    0.74                   1     3       1    <NA>  52.1  4.0   \n",
       "S-FPL53    0.57                   1     2       3    <NA>  52.3  4.3   \n",
       "S-FPL55    0.59                   1     2       2    <NA>  52.1  4.1   \n",
       "S-FPM2     0.51                   1     1       2    <NA>  51.3  4.1   \n",
       "S-FPM3     0.85                   1     3       1    <NA>   5.1  4.1   \n",
       "...         ...                 ...   ...     ...     ...   ...  ...   \n",
       "S-NPH 3    3.35                   1     1       1    <NA>   1.0  1.0   \n",
       "S-NPH 4    3.39                   1     1       1    <NA>   1.0  1.0   \n",
       "S-NPH 5    3.18                   1     1       1    <NA>   1.0  1.0   \n",
       "S-NPH 7    3.45                   1     1       2    <NA>   1.0  1.0   \n",
       "S-NPH53    3.18                   1     1       1    <NA>   2.3  1.0   \n",
       "\n",
       "category  Bubble Grp specific gravity  \n",
       "data item          B                d  \n",
       "glass                                  \n",
       "S-FPL51         <NA>             3.62  \n",
       "S-FPL53            B             3.62  \n",
       "S-FPL55         <NA>             3.59  \n",
       "S-FPM2          <NA>             4.17  \n",
       "S-FPM3          <NA>             3.64  \n",
       "...              ...              ...  \n",
       "S-NPH 3         <NA>             3.59  \n",
       "S-NPH 4         <NA>             3.61  \n",
       "S-NPH 5         <NA>             3.71  \n",
       "S-NPH 7         <NA>              3.3  \n",
       "S-NPH53         <NA>             3.78  \n",
       "\n",
       "[134 rows x 181 columns]"
      ]
     },
     "execution_count": 4,
     "metadata": {},
     "output_type": "execute_result"
    }
   ],
   "source": [
    "cat_df"
   ]
  },
  {
   "cell_type": "code",
   "execution_count": 5,
   "id": "legendary-island",
   "metadata": {},
   "outputs": [],
   "source": [
    "nd = cat_df['refractive indices']['d'].to_numpy(dtype=float)\n",
    "nF = cat_df['refractive indices']['F'].to_numpy(dtype=float)\n",
    "nC = cat_df['refractive indices']['C'].to_numpy(dtype=float)"
   ]
  },
  {
   "cell_type": "code",
   "execution_count": 6,
   "id": "canadian-class",
   "metadata": {},
   "outputs": [
    {
     "data": {
      "text/plain": [
       "False"
      ]
     },
     "execution_count": 6,
     "metadata": {},
     "output_type": "execute_result"
    }
   ],
   "source": [
    "cat_df.columns.has_duplicates"
   ]
  },
  {
   "cell_type": "code",
   "execution_count": 7,
   "id": "encouraging-framing",
   "metadata": {},
   "outputs": [],
   "source": [
    "nd, coefs = buchdahl.calc_buchdahl_coords(nd, nF, nC)"
   ]
  },
  {
   "cell_type": "code",
   "execution_count": 8,
   "id": "million-alias",
   "metadata": {},
   "outputs": [],
   "source": [
    "coefs /= np.array((nd - 1.0), dtype=float)"
   ]
  },
  {
   "cell_type": "markdown",
   "id": "mexican-arbor",
   "metadata": {},
   "source": [
    "## Test Series extracted from DataFrame"
   ]
  },
  {
   "cell_type": "code",
   "execution_count": 9,
   "id": "loaded-butterfly",
   "metadata": {},
   "outputs": [],
   "source": [
    "gla = cat_df.loc[gname]\n",
    "gla1 = cat_df.loc[gname1]"
   ]
  },
  {
   "cell_type": "code",
   "execution_count": 10,
   "id": "optical-memorial",
   "metadata": {},
   "outputs": [
    {
     "data": {
      "text/plain": [
       "data item\n",
       "A1      1.170105\n",
       "A2      0.047571\n",
       "A3      0.763832\n",
       "B1      0.006162\n",
       "B2      0.026337\n",
       "B3    141.882642\n",
       "Name: S-FPL51, dtype: object"
      ]
     },
     "execution_count": 10,
     "metadata": {},
     "output_type": "execute_result"
    }
   ],
   "source": [
    "cat_df.loc[gname]['dispersion coefficients']"
   ]
  },
  {
   "cell_type": "code",
   "execution_count": 11,
   "id": "plain-envelope",
   "metadata": {},
   "outputs": [
    {
     "data": {
      "text/plain": [
       "data item\n",
       "A1      1.170105\n",
       "A2      0.047571\n",
       "A3      0.763832\n",
       "B1      0.006162\n",
       "B2      0.026337\n",
       "B3    141.882642\n",
       "Name: S-FPL51, dtype: object"
      ]
     },
     "execution_count": 11,
     "metadata": {},
     "output_type": "execute_result"
    }
   ],
   "source": [
    "gla['dispersion coefficients']"
   ]
  },
  {
   "cell_type": "code",
   "execution_count": 12,
   "id": "norwegian-relevance",
   "metadata": {},
   "outputs": [],
   "source": [
    "coefs = gla['dispersion coefficients'].to_numpy(dtype=float)"
   ]
  },
  {
   "cell_type": "code",
   "execution_count": 13,
   "id": "legal-watts",
   "metadata": {},
   "outputs": [
    {
     "data": {
      "text/plain": [
       "array([1.17010505e+00, 4.75710783e-02, 7.63832445e-01, 6.16203924e-03,\n",
       "       2.63372876e-02, 1.41882642e+02])"
      ]
     },
     "execution_count": 13,
     "metadata": {},
     "output_type": "execute_result"
    }
   ],
   "source": [
    "coefs"
   ]
  },
  {
   "cell_type": "code",
   "execution_count": 14,
   "id": "desirable-nation",
   "metadata": {},
   "outputs": [
    {
     "data": {
      "text/plain": [
       "0.00616203924"
      ]
     },
     "execution_count": 14,
     "metadata": {},
     "output_type": "execute_result"
    }
   ],
   "source": [
    "coefs[3]"
   ]
  },
  {
   "cell_type": "code",
   "execution_count": 15,
   "id": "diagnostic-helen",
   "metadata": {
    "tags": []
   },
   "outputs": [
    {
     "data": {
      "text/plain": [
       "data item\n",
       "280        0.01\n",
       "290.0      0.05\n",
       "300.0      0.17\n",
       "310.0      0.37\n",
       "320.0       0.6\n",
       "330.0      0.77\n",
       "340.0      0.88\n",
       "350.0     0.947\n",
       "360.0     0.975\n",
       "370       0.988\n",
       "380.0     0.994\n",
       "390.0     0.996\n",
       "400.0     0.995\n",
       "420.0     0.994\n",
       "440.0     0.994\n",
       "460.0     0.996\n",
       "480.0     0.997\n",
       "500       0.998\n",
       "550.0     0.999\n",
       "600.0     0.998\n",
       "650.0     0.998\n",
       "700.0     0.998\n",
       "800.0     0.999\n",
       "900.0     0.999\n",
       "1000.0    0.999\n",
       "1200      0.999\n",
       "1400.0    0.999\n",
       "1600.0    0.999\n",
       "1800.0    0.999\n",
       "2000.0    0.999\n",
       "2200.0    0.997\n",
       "2400.0    0.996\n",
       "Name: S-FPL51, dtype: object"
      ]
     },
     "execution_count": 15,
     "metadata": {},
     "output_type": "execute_result"
    }
   ],
   "source": [
    "cat_df.loc[gname]['internal transmission mm, 10']"
   ]
  },
  {
   "cell_type": "code",
   "execution_count": 16,
   "id": "departmental-cache",
   "metadata": {},
   "outputs": [
    {
     "data": {
      "text/plain": [
       "<PandasArray>\n",
       "[1.47952, 1.48269,  1.4861, 1.48911,  1.4901, 1.49183,   1.493, 1.49407,\n",
       " 1.49514, 1.49543, 1.49571, 1.49694,   1.497, 1.49845, 1.50123, 1.50158,\n",
       " 1.50407, 1.50451,  1.5072, 1.51176]\n",
       "Length: 20, dtype: object"
      ]
     },
     "execution_count": 16,
     "metadata": {},
     "output_type": "execute_result"
    }
   ],
   "source": [
    "cat_df.loc[gname]['refractive indices'].array"
   ]
  },
  {
   "cell_type": "markdown",
   "id": "professional-sharing",
   "metadata": {},
   "source": [
    "## Test factory method, create_glass"
   ]
  },
  {
   "cell_type": "code",
   "execution_count": 17,
   "id": "welcome-arnold",
   "metadata": {},
   "outputs": [],
   "source": [
    "gla2 = create_glass(gname2, catalog)"
   ]
  },
  {
   "cell_type": "code",
   "execution_count": 18,
   "id": "continent-blood",
   "metadata": {},
   "outputs": [
    {
     "data": {
      "text/plain": [
       "Index([ 2325.0,  1970.0,  1530.0,  1129.0,     't',     's',    'A'',     'r',\n",
       "           'C',    'C'', 'He-Ne',     'D',     'd',     'e',     'F',    'F'',\n",
       "       'He-Cd',     'g',     'h',     'i'],\n",
       "      dtype='object', name='data item')"
      ]
     },
     "execution_count": 18,
     "metadata": {},
     "output_type": "execute_result"
    }
   ],
   "source": [
    "wvls = gla2.glass_data()['refractive indices'].index; wvls"
   ]
  },
  {
   "cell_type": "code",
   "execution_count": 19,
   "id": "lonely-sixth",
   "metadata": {},
   "outputs": [
    {
     "name": "stdout",
     "output_type": "stream",
     "text": [
      "2325.0: 1.78347,  1.783481,  1.1e-05\n",
      "1970.0: 1.79094,  1.790939, -8.1e-07\n",
      "1530.0: 1.79971,  1.799705, -4.7e-06\n",
      "1129.0: 1.80921,  1.809201, -9.2e-06\n",
      "t: 1.81297,  1.812969, -9.1e-07\n",
      "s: 1.82029,  1.820291,  1.3e-06\n",
      "A': 1.82577,  1.825766, -4.1e-06\n",
      "r: 1.83105,  1.831051,  8.6e-07\n",
      "C: 1.83654,  1.836536, -3.5e-06\n",
      "C': 1.83811,  1.838108, -2.1e-06\n",
      "He-Ne: 1.83959,  1.839590,  1.1e-07\n",
      "D: 1.84636,  1.846355, -5.1e-06\n",
      "d: 1.84666,  1.846660, -3.2e-07\n",
      "e: 1.855,  1.855000, -3.7e-07\n",
      "F: 1.87199,  1.871985, -4.6e-06\n",
      "F': 1.8742,  1.874196,   -4e-06\n",
      "He-Cd: 1.89098,  1.890979, -9.8e-07\n",
      "g: 1.89403,  1.894027, -2.9e-06\n",
      "h: 1.91412,  1.914121,  1.1e-06\n",
      "i: <NA>,  1.953226, <NA>\n"
     ]
    }
   ],
   "source": [
    "for w_str in wvls:\n",
    "    n_line = gla2.meas_rindex(w_str)\n",
    "    try:\n",
    "        n_intrp = gla2.rindex(w_str)\n",
    "    except KeyError:\n",
    "        print(f'{w_str}: {n_line}, Key error')\n",
    "    else:\n",
    "        print(f'{w_str}: {n_line}, {n_intrp:9.6f}, {n_intrp-n_line:8.2g}')"
   ]
  },
  {
   "cell_type": "code",
   "execution_count": 20,
   "id": "bulgarian-sherman",
   "metadata": {},
   "outputs": [
    {
     "data": {
      "text/plain": [
       "<PandasArray>\n",
       "[1.78347, 1.79094, 1.79971, 1.80921, 1.81297, 1.82029, 1.82577, 1.83105,\n",
       " 1.83654, 1.83811, 1.83959, 1.84636, 1.84666,   1.855, 1.87199,  1.8742,\n",
       " 1.89098, 1.89403, 1.91412,    <NA>]\n",
       "Length: 20, dtype: object"
      ]
     },
     "execution_count": 20,
     "metadata": {},
     "output_type": "execute_result"
    }
   ],
   "source": [
    "gla2.meas_rindex(wvls).array"
   ]
  },
  {
   "cell_type": "code",
   "execution_count": 21,
   "id": "auburn-commander",
   "metadata": {},
   "outputs": [
    {
     "data": {
      "text/plain": [
       "array([1.78348095, 1.79093919, 1.7997053 , 1.80920081, 1.81296909,\n",
       "       1.82029131, 1.82576588, 1.83105086, 1.8365365 , 1.83810795,\n",
       "       1.83959011, 1.84635485, 1.84665968, 1.85499963, 1.8719854 ,\n",
       "       1.87419597, 1.89097902, 1.8940271 , 1.91412112, 1.95322585])"
      ]
     },
     "execution_count": 21,
     "metadata": {},
     "output_type": "execute_result"
    }
   ],
   "source": [
    "gla2.rindex(wvls)"
   ]
  },
  {
   "cell_type": "code",
   "execution_count": 22,
   "id": "acute-jonathan",
   "metadata": {},
   "outputs": [
    {
     "data": {
      "text/plain": [
       "<PandasArray>\n",
       "[-1.0951863969266284e-05,   8.119135965767299e-07,  4.7012731201334645e-06,\n",
       "   9.194721885208423e-06,   9.059471606231995e-07,  -1.311183077445932e-06,\n",
       "   4.119607754260457e-06,  -8.591337010699363e-07,  3.5004805130078864e-06,\n",
       "   2.054953155861128e-06, -1.1401675159561364e-07,   5.148712931335453e-06,\n",
       "   3.197098692453437e-07,   3.723110117981321e-07,   4.604171530253609e-06,\n",
       "  4.0339715623449734e-06,   9.777700265001243e-07,   2.904923885438393e-06,\n",
       "   -1.12012194697364e-06,                    <NA>]\n",
       "Length: 20, dtype: object"
      ]
     },
     "execution_count": 22,
     "metadata": {},
     "output_type": "execute_result"
    }
   ],
   "source": [
    "gla2.meas_rindex(wvls).array-gla2.rindex(wvls)"
   ]
  },
  {
   "cell_type": "code",
   "execution_count": 23,
   "id": "defined-leonard",
   "metadata": {},
   "outputs": [
    {
     "data": {
      "text/plain": [
       "3.62"
      ]
     },
     "execution_count": 23,
     "metadata": {},
     "output_type": "execute_result"
    }
   ],
   "source": [
    "cat_df.loc[gname]['specific gravity']['d']"
   ]
  },
  {
   "cell_type": "code",
   "execution_count": 24,
   "id": "integrated-finding",
   "metadata": {},
   "outputs": [
    {
     "data": {
      "text/plain": [
       "data item\n",
       "RW(P)         1\n",
       "RA(P)         3\n",
       "W(S)max       1\n",
       "W(S)min    <NA>\n",
       "SR         52.1\n",
       "PR          4.0\n",
       "Name: S-FPL51, dtype: object"
      ]
     },
     "execution_count": 24,
     "metadata": {},
     "output_type": "execute_result"
    }
   ],
   "source": [
    "cat_df.loc[gname]['chemical properties']"
   ]
  },
  {
   "cell_type": "code",
   "execution_count": 25,
   "id": "crazy-economics",
   "metadata": {},
   "outputs": [
    {
     "data": {
      "text/plain": [
       "data item\n",
       "StP（℃）    <NA>\n",
       "AP（℃）     <NA>\n",
       "Tg（℃）      458\n",
       "At（℃）      489\n",
       "SP（℃）     <NA>\n",
       "Name: S-FPL51, dtype: object"
      ]
     },
     "execution_count": 25,
     "metadata": {},
     "output_type": "execute_result"
    }
   ],
   "source": [
    "cat_df.loc[gname]['thermal properties']"
   ]
  },
  {
   "cell_type": "code",
   "execution_count": 26,
   "id": "absent-prompt",
   "metadata": {},
   "outputs": [
    {
     "data": {
      "text/plain": [
       "data item\n",
       "280        <NA>\n",
       "290.0      0.08\n",
       "300.0      0.31\n",
       "310.0      0.58\n",
       "320.0      0.77\n",
       "330.0      0.88\n",
       "340.0      0.94\n",
       "350.0     0.968\n",
       "360.0     0.984\n",
       "370       0.991\n",
       "380.0     0.991\n",
       "390.0     0.996\n",
       "400.0     0.997\n",
       "420.0     0.996\n",
       "440.0     0.995\n",
       "460.0     0.995\n",
       "480.0     0.996\n",
       "500       0.996\n",
       "550.0     0.998\n",
       "600.0     0.997\n",
       "650.0     0.997\n",
       "700.0     0.998\n",
       "800.0     0.998\n",
       "900.0     0.997\n",
       "1000.0    0.996\n",
       "1200      0.995\n",
       "1400.0    0.982\n",
       "1600.0    0.991\n",
       "1800.0     0.98\n",
       "2000.0    0.961\n",
       "2200.0     0.89\n",
       "2400.0     0.85\n",
       "Name: S-BSL 7, dtype: object"
      ]
     },
     "execution_count": 26,
     "metadata": {},
     "output_type": "execute_result"
    }
   ],
   "source": [
    "cat_df.loc[gname1]['internal transmission mm, 10']"
   ]
  },
  {
   "cell_type": "code",
   "execution_count": 27,
   "id": "worse-council",
   "metadata": {},
   "outputs": [
    {
     "data": {
      "text/plain": [
       "<FloatingArray>\n",
       "[  1.497, 1.43875, 1.43875, 1.59522, 1.53775, 1.48749, 1.51633, 1.60738,\n",
       "  1.6228, 1.60311,\n",
       " ...\n",
       " 1.85025,  1.7888, 1.80809, 1.80809, 1.92286, 1.95906, 1.89286, 1.85896,\n",
       "  1.7783, 1.84666]\n",
       "Length: 134, dtype: Float64"
      ]
     },
     "execution_count": 27,
     "metadata": {},
     "output_type": "execute_result"
    }
   ],
   "source": [
    "cat_df['refractive indices']['d'].array"
   ]
  },
  {
   "cell_type": "code",
   "execution_count": 28,
   "id": "danish-genome",
   "metadata": {},
   "outputs": [
    {
     "data": {
      "text/plain": [
       "data item\n",
       "Young's (E)       727\n",
       "Rigidity (G)      280\n",
       "Poisson's(σ)    0.299\n",
       "Knoop (Hk)        350\n",
       "Group               4\n",
       "Abrasion(Aa)      449\n",
       "β                0.74\n",
       "Name: S-FPL51, dtype: object"
      ]
     },
     "execution_count": 28,
     "metadata": {},
     "output_type": "execute_result"
    }
   ],
   "source": [
    "cat_df.loc[gname]['mechanical properties']"
   ]
  },
  {
   "cell_type": "code",
   "execution_count": 29,
   "id": "amended-contest",
   "metadata": {},
   "outputs": [
    {
     "data": {
      "text/plain": [
       "glass\n",
       "S-FPL51    350\n",
       "S-BSL 7    570\n",
       "Name: Knoop (Hk), dtype: Int64"
      ]
     },
     "execution_count": 29,
     "metadata": {},
     "output_type": "execute_result"
    }
   ],
   "source": [
    "cat_df.loc[[gname, gname1]]['mechanical properties']['Knoop (Hk)']"
   ]
  },
  {
   "cell_type": "code",
   "execution_count": 30,
   "id": "trained-landscape",
   "metadata": {},
   "outputs": [],
   "source": [
    "trns_data = cat_df.loc[[gname, gname1]]['internal transmission mm, 10'].T"
   ]
  },
  {
   "cell_type": "code",
   "execution_count": 31,
   "id": "accepting-nickname",
   "metadata": {},
   "outputs": [
    {
     "data": {
      "text/plain": [
       "<AxesSubplot:xlabel='data item'>"
      ]
     },
     "execution_count": 31,
     "metadata": {},
     "output_type": "execute_result"
    },
    {
     "data": {
      "image/png": "[encoded data removed]",
      "text/plain": [
       "<Figure size 432x288 with 1 Axes>"
      ]
     },
     "metadata": {
      "needs_background": "light"
     },
     "output_type": "display_data"
    }
   ],
   "source": [
    "trns_data.plot()"
   ]
  },
  {
   "cell_type": "code",
   "execution_count": 32,
   "id": "enclosed-count",
   "metadata": {},
   "outputs": [
    {
     "data": {
      "text/plain": [
       "<AxesSubplot:xlabel='data item'>"
      ]
     },
     "execution_count": 32,
     "metadata": {},
     "output_type": "execute_result"
    },
    {
     "data": {
      "image/png": "[encoded data removed]",
      "text/plain": [
       "<Figure size 432x288 with 1 Axes>"
      ]
     },
     "metadata": {
      "needs_background": "light"
     },
     "output_type": "display_data"
    }
   ],
   "source": [
    "cat_df['internal transmission mm, 10'].T.plot(legend=False)"
   ]
  },
  {
   "cell_type": "code",
   "execution_count": 33,
   "id": "noble-abortion",
   "metadata": {},
   "outputs": [],
   "source": [
    "gla_v2 = ohara.OharaGlass(gname)"
   ]
  },
  {
   "cell_type": "code",
   "execution_count": 34,
   "id": "young-wright",
   "metadata": {},
   "outputs": [
    {
     "data": {
      "text/plain": [
       "1.50123"
      ]
     },
     "execution_count": 34,
     "metadata": {},
     "output_type": "execute_result"
    }
   ],
   "source": [
    "gla_v2.meas_rindex('F')"
   ]
  },
  {
   "cell_type": "code",
   "execution_count": 35,
   "id": "cardiac-encounter",
   "metadata": {},
   "outputs": [
    {
     "data": {
      "text/plain": [
       "'497.816'"
      ]
     },
     "execution_count": 35,
     "metadata": {},
     "output_type": "execute_result"
    }
   ],
   "source": [
    "gla_v2.glass_code()"
   ]
  },
  {
   "cell_type": "code",
   "execution_count": null,
   "id": "mathematical-neighbor",
   "metadata": {},
   "outputs": [],
   "source": []
  }
 ],
 "metadata": {
  "kernelspec": {
   "display_name": "Python 3 (ipykernel)",
   "language": "python",
   "name": "python3"
  },
  "language_info": {
   "codemirror_mode": {
    "name": "ipython",
    "version": 3
   },
   "file_extension": ".py",
   "mimetype": "text/x-python",
   "name": "python",
   "nbconvert_exporter": "python",
   "pygments_lexer": "ipython3",
   "version": "3.8.10"
  }
 },
 "nbformat": 4,
 "nbformat_minor": 5
}
