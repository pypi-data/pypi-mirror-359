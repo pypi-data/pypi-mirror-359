{
 "cells": [
  {
   "cell_type": "code",
   "execution_count": 1,
   "id": "diagnostic-summit",
   "metadata": {},
   "outputs": [],
   "source": [
    "import warnings\n",
    "\n",
    "from opticalglass.glass import get_filepath\n",
    "\n",
    "import opticalglass as og\n",
    "import opticalglass.buchdahl as buchdahl\n",
    "import opticalglass.glass as ogl\n",
    "from opticalglass.glassfactory import create_glass\n",
    "from opticalglass import schott\n",
    "\n",
    "import numpy as np\n",
    "import pandas as pd\n",
    "import matplotlib.pyplot as plt"
   ]
  },
  {
   "cell_type": "markdown",
   "id": "hydraulic-marshall",
   "metadata": {},
   "source": [
    "# Build Multi-Index for Schott"
   ]
  },
  {
   "cell_type": "code",
   "execution_count": 2,
   "id": "progressive-stadium",
   "metadata": {},
   "outputs": [],
   "source": [
    "catalog = 'Schott'\n",
    "gname = 'F2'\n",
    "gname1 = 'N-BK7'\n",
    "gname2 = 'SF6HT'"
   ]
  },
  {
   "cell_type": "raw",
   "id": "intelligent-lightning",
   "metadata": {},
   "source": [
    "vendor_df = ogl.xl2df('SCHOTT.xls')"
   ]
  },
  {
   "cell_type": "raw",
   "id": "guided-china",
   "metadata": {},
   "source": [
    "# the xl_df has indices and columns that match the Excel worksheet border.\n",
    "# the index runs from 1 to xl_df.shape[0]\n",
    "# the columns match the pattern 'A', 'B', 'C', ... 'Z', 'AA', 'AB', ...\n",
    "# this facilitates transferring areas on the spreadsheet to areas in the catalog DataFrame\n",
    "\n",
    "num_rows = 4  # number of header rows in the imported spreadsheet\n",
    "category_row = 3  # row with categories\n",
    "header_row = 4  # row with data item/header info\n",
    "data_col = 'B'  # first column of data in the imported spreadsheet\n",
    "args = num_rows, category_row , header_row, data_col\n",
    "\n",
    "series_mappings = [\n",
    "    ('refractive indices', (lambda h: h.split('n')[-1]), \n",
    "     header_row, 'DM', 'EI'),\n",
    "    ('dispersion coefficients', None, header_row, 'G', 'L'),\n",
    "    ('internal transmission mm, 10', \n",
    "     schott.SchottCatalog.get_transmission_wvl, header_row, 'BP', 'CS'),\n",
    "    ('chemical properties', None, header_row, 'CU', 'CY'),\n",
    "    ('thermal properties', None, header_row, 'DA', 'DG'),\n",
    "    ('mechanical properties', None, header_row, 'DH', 'DK'),\n",
    "    ]\n",
    "item_mappings = [\n",
    "    ('abbe number', 'vd', header_row, 'D'),\n",
    "    ('abbe number', 've', header_row, 'E'),\n",
    "    ]\n",
    "kwargs = dict(\n",
    "    data_extent = (5, 127, data_col, 'FJ'),\n",
    "    name_col_offset = 'A',\n",
    "    )"
   ]
  },
  {
   "cell_type": "raw",
   "id": "acknowledged-factor",
   "metadata": {},
   "source": [
    "cat_df = ogl.build_glass_cat(vendor_df, series_mappings, item_mappings, *args, **kwargs)"
   ]
  },
  {
   "cell_type": "code",
   "execution_count": 3,
   "id": "quantitative-planning",
   "metadata": {},
   "outputs": [],
   "source": [
    "cat_pd = schott.SchottCatalog()\n",
    "cat_df = cat_pd.df"
   ]
  },
  {
   "cell_type": "code",
   "execution_count": 4,
   "id": "92582a89-99f5-4295-81a6-e20f11b5479e",
   "metadata": {},
   "outputs": [
    {
     "data": {
      "text/plain": [
       "<opticalglass.schott.SchottCatalog at 0x7f9ae888baf0>"
      ]
     },
     "execution_count": 4,
     "metadata": {},
     "output_type": "execute_result"
    }
   ],
   "source": [
    "cat_pd"
   ]
  },
  {
   "cell_type": "code",
   "execution_count": 5,
   "id": "83f83ed9-cc76-452d-b04e-7c422548a250",
   "metadata": {},
   "outputs": [
    {
     "data": {
      "text/plain": [
       "{'name': 'Schott',\n",
       " 'df': category         NaN          abbe number                NaN  \\\n",
       " data item         nd       ne          vd     ve Colour code   \n",
       " glass                                                          \n",
       " F2           1.62004  1.62408       36.37  36.11       35/32   \n",
       " F2HT         1.62004  1.62408       36.37  36.11       35/32   \n",
       " F5           1.60342  1.60718       38.03  37.77       35/32   \n",
       " FK5HTi       1.48748  1.48913       70.47  70.29       29/25   \n",
       " K10          1.50137  1.50349       56.41  56.15       33/30   \n",
       " ...              ...      ...         ...    ...         ...   \n",
       " SF56A         1.7847   1.7918       26.08  25.87       42/37   \n",
       " SF57         1.84666  1.85504       23.83  23.64      40/37*   \n",
       " SF57HTultra  1.84666  1.85504       23.83  23.64      39/36*   \n",
       " SF6          1.80518  1.81265       25.43  25.24       42/36   \n",
       " SF6HT        1.80518  1.81265       25.43  25.24       41/36   \n",
       " \n",
       " category    dispersion coefficients                                          \\\n",
       " data item                        B1        B2        B3        C1        C2   \n",
       " glass                                                                         \n",
       " F2                         1.345334  0.209073  0.937357  0.009977  0.047045   \n",
       " F2HT                       1.345334  0.209073  0.937357  0.009977  0.047045   \n",
       " F5                         1.310446  0.196034   0.96613  0.009586  0.045763   \n",
       " FK5HTi                     0.909362  0.279077  0.891813  0.005201  0.015894   \n",
       " K10                        1.156871  0.064263  0.872376  0.008094  0.038605   \n",
       " ...                             ...       ...       ...       ...       ...   \n",
       " SF56A                      1.705793  0.344223  1.096018  0.013387  0.057956   \n",
       " SF57                       1.816514  0.428894  1.071863   0.01437   0.05928   \n",
       " SF57HTultra                1.816514  0.428894  1.071863   0.01437   0.05928   \n",
       " SF6                        1.724485  0.390105  1.045729  0.013487  0.056932   \n",
       " SF6HT                      1.724485  0.390105  1.045729  0.013487  0.056932   \n",
       " \n",
       " category     ...      NaN                       \\\n",
       " data item    ...   DP g,F   DP i,g    Glascode   \n",
       " glass        ...                                 \n",
       " F2           ...   0.0002   0.0006  620364.360   \n",
       " F2HT         ...   0.0002   0.0006  620364.360   \n",
       " F5           ...  -0.0003  -0.0028  603380.347   \n",
       " FK5HTi       ...   0.0036   0.0321  487705.245   \n",
       " K10          ...  -0.0015  -0.0048  501564.252   \n",
       " ...          ...      ...      ...         ...   \n",
       " SF56A        ...   0.0098     <NA>  785261.492   \n",
       " SF57         ...   0.0123     <NA>  847238.551   \n",
       " SF57HTultra  ...   0.0123     <NA>  847238.551   \n",
       " SF6          ...   0.0092   0.0669  805254.518   \n",
       " SF6HT        ...   0.0092   0.0669  805254.518   \n",
       " \n",
       " category                                                                   \\\n",
       " data item                                              Remarks       Date   \n",
       " glass                                                                       \n",
       " F2                                  lead containing glass type 2014-02-01   \n",
       " F2HT                                lead containing glass type 2014-02-01   \n",
       " F5                                  lead containing glass type 2014-02-01   \n",
       " FK5HTi                                            i-line glass 2013-05-17   \n",
       " K10                                 lead containing glass type 2014-02-01   \n",
       " ...                                                        ...        ...   \n",
       " SF56A                               lead containing glass type 2014-02-01   \n",
       " SF57         lead containing glass type, suitable for preci... 2018-02-21   \n",
       " SF57HTultra  lead containing glass type, suitable for preci... 2018-02-21   \n",
       " SF6                                 lead containing glass type 2014-02-01   \n",
       " SF6HT                               lead containing glass type 2014-02-01   \n",
       " \n",
       " category                                             \n",
       " data item   rel. Price WR-J SR-J   AT Abrasion HG-J  \n",
       " glass                                                \n",
       " F2            1.241862                               \n",
       " F2HT              <NA>  NaN  NaN  NaN           NaN  \n",
       " F5             1.84953                               \n",
       " FK5HTi            <NA>  NaN  NaN  NaN           NaN  \n",
       " K10            2.58259                               \n",
       " ...                ...  ...  ...  ...           ...  \n",
       " SF56A         2.693513                               \n",
       " SF57           2.56571    1    6  449           344  \n",
       " SF57HTultra       <NA>    1    6  449           344  \n",
       " SF6           1.938751  NaN                          \n",
       " SF6HT             <NA>                               \n",
       " \n",
       " [123 rows x 154 columns]}"
      ]
     },
     "execution_count": 5,
     "metadata": {},
     "output_type": "execute_result"
    }
   ],
   "source": [
    "vars(cat_pd)"
   ]
  },
  {
   "cell_type": "code",
   "execution_count": 6,
   "id": "clear-enforcement",
   "metadata": {
    "tags": []
   },
   "outputs": [
    {
     "data": {
      "text/html": [
       "<div>\n",
       "<style scoped>\n",
       "    .dataframe tbody tr th:only-of-type {\n",
       "        vertical-align: middle;\n",
       "    }\n",
       "\n",
       "    .dataframe tbody tr th {\n",
       "        vertical-align: top;\n",
       "    }\n",
       "\n",
       "    .dataframe thead tr th {\n",
       "        text-align: left;\n",
       "    }\n",
       "\n",
       "    .dataframe thead tr:last-of-type th {\n",
       "        text-align: right;\n",
       "    }\n",
       "</style>\n",
       "<table border=\"1\" class=\"dataframe\">\n",
       "  <thead>\n",
       "    <tr>\n",
       "      <th>category</th>\n",
       "      <th colspan=\"2\" halign=\"left\">NaN</th>\n",
       "      <th colspan=\"2\" halign=\"left\">abbe number</th>\n",
       "      <th>NaN</th>\n",
       "      <th colspan=\"5\" halign=\"left\">dispersion coefficients</th>\n",
       "      <th>...</th>\n",
       "      <th colspan=\"10\" halign=\"left\">NaN</th>\n",
       "    </tr>\n",
       "    <tr>\n",
       "      <th>data item</th>\n",
       "      <th>nd</th>\n",
       "      <th>ne</th>\n",
       "      <th>vd</th>\n",
       "      <th>ve</th>\n",
       "      <th>Colour code</th>\n",
       "      <th>B1</th>\n",
       "      <th>B2</th>\n",
       "      <th>B3</th>\n",
       "      <th>C1</th>\n",
       "      <th>C2</th>\n",
       "      <th>...</th>\n",
       "      <th>DP g,F</th>\n",
       "      <th>DP i,g</th>\n",
       "      <th>Glascode</th>\n",
       "      <th>Remarks</th>\n",
       "      <th>Date</th>\n",
       "      <th>rel. Price</th>\n",
       "      <th>WR-J</th>\n",
       "      <th>SR-J</th>\n",
       "      <th>AT</th>\n",
       "      <th>Abrasion HG-J</th>\n",
       "    </tr>\n",
       "    <tr>\n",
       "      <th>glass</th>\n",
       "      <th></th>\n",
       "      <th></th>\n",
       "      <th></th>\n",
       "      <th></th>\n",
       "      <th></th>\n",
       "      <th></th>\n",
       "      <th></th>\n",
       "      <th></th>\n",
       "      <th></th>\n",
       "      <th></th>\n",
       "      <th></th>\n",
       "      <th></th>\n",
       "      <th></th>\n",
       "      <th></th>\n",
       "      <th></th>\n",
       "      <th></th>\n",
       "      <th></th>\n",
       "      <th></th>\n",
       "      <th></th>\n",
       "      <th></th>\n",
       "      <th></th>\n",
       "    </tr>\n",
       "  </thead>\n",
       "  <tbody>\n",
       "    <tr>\n",
       "      <th>F2</th>\n",
       "      <td>1.62004</td>\n",
       "      <td>1.62408</td>\n",
       "      <td>36.37</td>\n",
       "      <td>36.11</td>\n",
       "      <td>35/32</td>\n",
       "      <td>1.345334</td>\n",
       "      <td>0.209073</td>\n",
       "      <td>0.937357</td>\n",
       "      <td>0.009977</td>\n",
       "      <td>0.047045</td>\n",
       "      <td>...</td>\n",
       "      <td>0.0002</td>\n",
       "      <td>0.0006</td>\n",
       "      <td>620364.360</td>\n",
       "      <td>lead containing glass type</td>\n",
       "      <td>2014-02-01</td>\n",
       "      <td>1.241862</td>\n",
       "      <td></td>\n",
       "      <td></td>\n",
       "      <td></td>\n",
       "      <td></td>\n",
       "    </tr>\n",
       "    <tr>\n",
       "      <th>F2HT</th>\n",
       "      <td>1.62004</td>\n",
       "      <td>1.62408</td>\n",
       "      <td>36.37</td>\n",
       "      <td>36.11</td>\n",
       "      <td>35/32</td>\n",
       "      <td>1.345334</td>\n",
       "      <td>0.209073</td>\n",
       "      <td>0.937357</td>\n",
       "      <td>0.009977</td>\n",
       "      <td>0.047045</td>\n",
       "      <td>...</td>\n",
       "      <td>0.0002</td>\n",
       "      <td>0.0006</td>\n",
       "      <td>620364.360</td>\n",
       "      <td>lead containing glass type</td>\n",
       "      <td>2014-02-01</td>\n",
       "      <td>&lt;NA&gt;</td>\n",
       "      <td>NaN</td>\n",
       "      <td>NaN</td>\n",
       "      <td>NaN</td>\n",
       "      <td>NaN</td>\n",
       "    </tr>\n",
       "    <tr>\n",
       "      <th>F5</th>\n",
       "      <td>1.60342</td>\n",
       "      <td>1.60718</td>\n",
       "      <td>38.03</td>\n",
       "      <td>37.77</td>\n",
       "      <td>35/32</td>\n",
       "      <td>1.310446</td>\n",
       "      <td>0.196034</td>\n",
       "      <td>0.96613</td>\n",
       "      <td>0.009586</td>\n",
       "      <td>0.045763</td>\n",
       "      <td>...</td>\n",
       "      <td>-0.0003</td>\n",
       "      <td>-0.0028</td>\n",
       "      <td>603380.347</td>\n",
       "      <td>lead containing glass type</td>\n",
       "      <td>2014-02-01</td>\n",
       "      <td>1.84953</td>\n",
       "      <td></td>\n",
       "      <td></td>\n",
       "      <td></td>\n",
       "      <td></td>\n",
       "    </tr>\n",
       "    <tr>\n",
       "      <th>FK5HTi</th>\n",
       "      <td>1.48748</td>\n",
       "      <td>1.48913</td>\n",
       "      <td>70.47</td>\n",
       "      <td>70.29</td>\n",
       "      <td>29/25</td>\n",
       "      <td>0.909362</td>\n",
       "      <td>0.279077</td>\n",
       "      <td>0.891813</td>\n",
       "      <td>0.005201</td>\n",
       "      <td>0.015894</td>\n",
       "      <td>...</td>\n",
       "      <td>0.0036</td>\n",
       "      <td>0.0321</td>\n",
       "      <td>487705.245</td>\n",
       "      <td>i-line glass</td>\n",
       "      <td>2013-05-17</td>\n",
       "      <td>&lt;NA&gt;</td>\n",
       "      <td>NaN</td>\n",
       "      <td>NaN</td>\n",
       "      <td>NaN</td>\n",
       "      <td>NaN</td>\n",
       "    </tr>\n",
       "    <tr>\n",
       "      <th>K10</th>\n",
       "      <td>1.50137</td>\n",
       "      <td>1.50349</td>\n",
       "      <td>56.41</td>\n",
       "      <td>56.15</td>\n",
       "      <td>33/30</td>\n",
       "      <td>1.156871</td>\n",
       "      <td>0.064263</td>\n",
       "      <td>0.872376</td>\n",
       "      <td>0.008094</td>\n",
       "      <td>0.038605</td>\n",
       "      <td>...</td>\n",
       "      <td>-0.0015</td>\n",
       "      <td>-0.0048</td>\n",
       "      <td>501564.252</td>\n",
       "      <td>lead containing glass type</td>\n",
       "      <td>2014-02-01</td>\n",
       "      <td>2.58259</td>\n",
       "      <td></td>\n",
       "      <td></td>\n",
       "      <td></td>\n",
       "      <td></td>\n",
       "    </tr>\n",
       "    <tr>\n",
       "      <th>...</th>\n",
       "      <td>...</td>\n",
       "      <td>...</td>\n",
       "      <td>...</td>\n",
       "      <td>...</td>\n",
       "      <td>...</td>\n",
       "      <td>...</td>\n",
       "      <td>...</td>\n",
       "      <td>...</td>\n",
       "      <td>...</td>\n",
       "      <td>...</td>\n",
       "      <td>...</td>\n",
       "      <td>...</td>\n",
       "      <td>...</td>\n",
       "      <td>...</td>\n",
       "      <td>...</td>\n",
       "      <td>...</td>\n",
       "      <td>...</td>\n",
       "      <td>...</td>\n",
       "      <td>...</td>\n",
       "      <td>...</td>\n",
       "      <td>...</td>\n",
       "    </tr>\n",
       "    <tr>\n",
       "      <th>SF56A</th>\n",
       "      <td>1.7847</td>\n",
       "      <td>1.7918</td>\n",
       "      <td>26.08</td>\n",
       "      <td>25.87</td>\n",
       "      <td>42/37</td>\n",
       "      <td>1.705793</td>\n",
       "      <td>0.344223</td>\n",
       "      <td>1.096018</td>\n",
       "      <td>0.013387</td>\n",
       "      <td>0.057956</td>\n",
       "      <td>...</td>\n",
       "      <td>0.0098</td>\n",
       "      <td>&lt;NA&gt;</td>\n",
       "      <td>785261.492</td>\n",
       "      <td>lead containing glass type</td>\n",
       "      <td>2014-02-01</td>\n",
       "      <td>2.693513</td>\n",
       "      <td></td>\n",
       "      <td></td>\n",
       "      <td></td>\n",
       "      <td></td>\n",
       "    </tr>\n",
       "    <tr>\n",
       "      <th>SF57</th>\n",
       "      <td>1.84666</td>\n",
       "      <td>1.85504</td>\n",
       "      <td>23.83</td>\n",
       "      <td>23.64</td>\n",
       "      <td>40/37*</td>\n",
       "      <td>1.816514</td>\n",
       "      <td>0.428894</td>\n",
       "      <td>1.071863</td>\n",
       "      <td>0.01437</td>\n",
       "      <td>0.05928</td>\n",
       "      <td>...</td>\n",
       "      <td>0.0123</td>\n",
       "      <td>&lt;NA&gt;</td>\n",
       "      <td>847238.551</td>\n",
       "      <td>lead containing glass type, suitable for preci...</td>\n",
       "      <td>2018-02-21</td>\n",
       "      <td>2.56571</td>\n",
       "      <td>1</td>\n",
       "      <td>6</td>\n",
       "      <td>449</td>\n",
       "      <td>344</td>\n",
       "    </tr>\n",
       "    <tr>\n",
       "      <th>SF57HTultra</th>\n",
       "      <td>1.84666</td>\n",
       "      <td>1.85504</td>\n",
       "      <td>23.83</td>\n",
       "      <td>23.64</td>\n",
       "      <td>39/36*</td>\n",
       "      <td>1.816514</td>\n",
       "      <td>0.428894</td>\n",
       "      <td>1.071863</td>\n",
       "      <td>0.01437</td>\n",
       "      <td>0.05928</td>\n",
       "      <td>...</td>\n",
       "      <td>0.0123</td>\n",
       "      <td>&lt;NA&gt;</td>\n",
       "      <td>847238.551</td>\n",
       "      <td>lead containing glass type, suitable for preci...</td>\n",
       "      <td>2018-02-21</td>\n",
       "      <td>&lt;NA&gt;</td>\n",
       "      <td>1</td>\n",
       "      <td>6</td>\n",
       "      <td>449</td>\n",
       "      <td>344</td>\n",
       "    </tr>\n",
       "    <tr>\n",
       "      <th>SF6</th>\n",
       "      <td>1.80518</td>\n",
       "      <td>1.81265</td>\n",
       "      <td>25.43</td>\n",
       "      <td>25.24</td>\n",
       "      <td>42/36</td>\n",
       "      <td>1.724485</td>\n",
       "      <td>0.390105</td>\n",
       "      <td>1.045729</td>\n",
       "      <td>0.013487</td>\n",
       "      <td>0.056932</td>\n",
       "      <td>...</td>\n",
       "      <td>0.0092</td>\n",
       "      <td>0.0669</td>\n",
       "      <td>805254.518</td>\n",
       "      <td>lead containing glass type</td>\n",
       "      <td>2014-02-01</td>\n",
       "      <td>1.938751</td>\n",
       "      <td>NaN</td>\n",
       "      <td></td>\n",
       "      <td></td>\n",
       "      <td></td>\n",
       "    </tr>\n",
       "    <tr>\n",
       "      <th>SF6HT</th>\n",
       "      <td>1.80518</td>\n",
       "      <td>1.81265</td>\n",
       "      <td>25.43</td>\n",
       "      <td>25.24</td>\n",
       "      <td>41/36</td>\n",
       "      <td>1.724485</td>\n",
       "      <td>0.390105</td>\n",
       "      <td>1.045729</td>\n",
       "      <td>0.013487</td>\n",
       "      <td>0.056932</td>\n",
       "      <td>...</td>\n",
       "      <td>0.0092</td>\n",
       "      <td>0.0669</td>\n",
       "      <td>805254.518</td>\n",
       "      <td>lead containing glass type</td>\n",
       "      <td>2014-02-01</td>\n",
       "      <td>&lt;NA&gt;</td>\n",
       "      <td></td>\n",
       "      <td></td>\n",
       "      <td></td>\n",
       "      <td></td>\n",
       "    </tr>\n",
       "  </tbody>\n",
       "</table>\n",
       "<p>123 rows × 154 columns</p>\n",
       "</div>"
      ],
      "text/plain": [
       "category         NaN          abbe number                NaN  \\\n",
       "data item         nd       ne          vd     ve Colour code   \n",
       "glass                                                          \n",
       "F2           1.62004  1.62408       36.37  36.11       35/32   \n",
       "F2HT         1.62004  1.62408       36.37  36.11       35/32   \n",
       "F5           1.60342  1.60718       38.03  37.77       35/32   \n",
       "FK5HTi       1.48748  1.48913       70.47  70.29       29/25   \n",
       "K10          1.50137  1.50349       56.41  56.15       33/30   \n",
       "...              ...      ...         ...    ...         ...   \n",
       "SF56A         1.7847   1.7918       26.08  25.87       42/37   \n",
       "SF57         1.84666  1.85504       23.83  23.64      40/37*   \n",
       "SF57HTultra  1.84666  1.85504       23.83  23.64      39/36*   \n",
       "SF6          1.80518  1.81265       25.43  25.24       42/36   \n",
       "SF6HT        1.80518  1.81265       25.43  25.24       41/36   \n",
       "\n",
       "category    dispersion coefficients                                          \\\n",
       "data item                        B1        B2        B3        C1        C2   \n",
       "glass                                                                         \n",
       "F2                         1.345334  0.209073  0.937357  0.009977  0.047045   \n",
       "F2HT                       1.345334  0.209073  0.937357  0.009977  0.047045   \n",
       "F5                         1.310446  0.196034   0.96613  0.009586  0.045763   \n",
       "FK5HTi                     0.909362  0.279077  0.891813  0.005201  0.015894   \n",
       "K10                        1.156871  0.064263  0.872376  0.008094  0.038605   \n",
       "...                             ...       ...       ...       ...       ...   \n",
       "SF56A                      1.705793  0.344223  1.096018  0.013387  0.057956   \n",
       "SF57                       1.816514  0.428894  1.071863   0.01437   0.05928   \n",
       "SF57HTultra                1.816514  0.428894  1.071863   0.01437   0.05928   \n",
       "SF6                        1.724485  0.390105  1.045729  0.013487  0.056932   \n",
       "SF6HT                      1.724485  0.390105  1.045729  0.013487  0.056932   \n",
       "\n",
       "category     ...      NaN                       \\\n",
       "data item    ...   DP g,F   DP i,g    Glascode   \n",
       "glass        ...                                 \n",
       "F2           ...   0.0002   0.0006  620364.360   \n",
       "F2HT         ...   0.0002   0.0006  620364.360   \n",
       "F5           ...  -0.0003  -0.0028  603380.347   \n",
       "FK5HTi       ...   0.0036   0.0321  487705.245   \n",
       "K10          ...  -0.0015  -0.0048  501564.252   \n",
       "...          ...      ...      ...         ...   \n",
       "SF56A        ...   0.0098     <NA>  785261.492   \n",
       "SF57         ...   0.0123     <NA>  847238.551   \n",
       "SF57HTultra  ...   0.0123     <NA>  847238.551   \n",
       "SF6          ...   0.0092   0.0669  805254.518   \n",
       "SF6HT        ...   0.0092   0.0669  805254.518   \n",
       "\n",
       "category                                                                   \\\n",
       "data item                                              Remarks       Date   \n",
       "glass                                                                       \n",
       "F2                                  lead containing glass type 2014-02-01   \n",
       "F2HT                                lead containing glass type 2014-02-01   \n",
       "F5                                  lead containing glass type 2014-02-01   \n",
       "FK5HTi                                            i-line glass 2013-05-17   \n",
       "K10                                 lead containing glass type 2014-02-01   \n",
       "...                                                        ...        ...   \n",
       "SF56A                               lead containing glass type 2014-02-01   \n",
       "SF57         lead containing glass type, suitable for preci... 2018-02-21   \n",
       "SF57HTultra  lead containing glass type, suitable for preci... 2018-02-21   \n",
       "SF6                                 lead containing glass type 2014-02-01   \n",
       "SF6HT                               lead containing glass type 2014-02-01   \n",
       "\n",
       "category                                             \n",
       "data item   rel. Price WR-J SR-J   AT Abrasion HG-J  \n",
       "glass                                                \n",
       "F2            1.241862                               \n",
       "F2HT              <NA>  NaN  NaN  NaN           NaN  \n",
       "F5             1.84953                               \n",
       "FK5HTi            <NA>  NaN  NaN  NaN           NaN  \n",
       "K10            2.58259                               \n",
       "...                ...  ...  ...  ...           ...  \n",
       "SF56A         2.693513                               \n",
       "SF57           2.56571    1    6  449           344  \n",
       "SF57HTultra       <NA>    1    6  449           344  \n",
       "SF6           1.938751  NaN                          \n",
       "SF6HT             <NA>                               \n",
       "\n",
       "[123 rows x 154 columns]"
      ]
     },
     "execution_count": 6,
     "metadata": {},
     "output_type": "execute_result"
    }
   ],
   "source": [
    "cat_df"
   ]
  },
  {
   "cell_type": "code",
   "execution_count": 7,
   "id": "corrected-azerbaijan",
   "metadata": {},
   "outputs": [],
   "source": [
    "nd = cat_df['refractive indices']['d'].to_numpy(dtype=float)\n",
    "nF = cat_df['refractive indices']['F'].to_numpy(dtype=float)\n",
    "nC = cat_df['refractive indices']['C'].to_numpy(dtype=float)"
   ]
  },
  {
   "cell_type": "code",
   "execution_count": 8,
   "id": "exclusive-heating",
   "metadata": {},
   "outputs": [
    {
     "data": {
      "text/plain": [
       "False"
      ]
     },
     "execution_count": 8,
     "metadata": {},
     "output_type": "execute_result"
    }
   ],
   "source": [
    "cat_df.columns.has_duplicates"
   ]
  },
  {
   "cell_type": "code",
   "execution_count": 9,
   "id": "related-uniform",
   "metadata": {},
   "outputs": [],
   "source": [
    "nd, coefs = buchdahl.calc_buchdahl_coords(nd, nF, nC)"
   ]
  },
  {
   "cell_type": "code",
   "execution_count": 10,
   "id": "wired-causing",
   "metadata": {},
   "outputs": [],
   "source": [
    "coefs /= np.array((nd - 1.0), dtype=float)"
   ]
  },
  {
   "cell_type": "markdown",
   "id": "proved-omega",
   "metadata": {},
   "source": [
    "## Test Series extracted from DataFrame"
   ]
  },
  {
   "cell_type": "code",
   "execution_count": 11,
   "id": "moderate-mapping",
   "metadata": {},
   "outputs": [],
   "source": [
    "gla = cat_df.loc[gname]\n",
    "gla1 = cat_df.loc[gname1]"
   ]
  },
  {
   "cell_type": "code",
   "execution_count": 12,
   "id": "increased-intro",
   "metadata": {},
   "outputs": [
    {
     "data": {
      "text/plain": [
       "data item\n",
       "B1      1.345334\n",
       "B2      0.209073\n",
       "B3      0.937357\n",
       "C1      0.009977\n",
       "C2      0.047045\n",
       "C3    111.886764\n",
       "Name: F2, dtype: object"
      ]
     },
     "execution_count": 12,
     "metadata": {},
     "output_type": "execute_result"
    }
   ],
   "source": [
    "cat_df.loc[gname]['dispersion coefficients']"
   ]
  },
  {
   "cell_type": "code",
   "execution_count": 13,
   "id": "living-shock",
   "metadata": {},
   "outputs": [
    {
     "data": {
      "text/plain": [
       "data item\n",
       "B1      1.345334\n",
       "B2      0.209073\n",
       "B3      0.937357\n",
       "C1      0.009977\n",
       "C2      0.047045\n",
       "C3    111.886764\n",
       "Name: F2, dtype: object"
      ]
     },
     "execution_count": 13,
     "metadata": {},
     "output_type": "execute_result"
    }
   ],
   "source": [
    "gla['dispersion coefficients']"
   ]
  },
  {
   "cell_type": "code",
   "execution_count": 14,
   "id": "colored-seven",
   "metadata": {},
   "outputs": [],
   "source": [
    "coefs = gla['dispersion coefficients'].to_numpy(dtype=float)"
   ]
  },
  {
   "cell_type": "code",
   "execution_count": 15,
   "id": "running-asthma",
   "metadata": {},
   "outputs": [
    {
     "data": {
      "text/plain": [
       "array([1.34533359e+00, 2.09073176e-01, 9.37357162e-01, 9.97743871e-03,\n",
       "       4.70450767e-02, 1.11886764e+02])"
      ]
     },
     "execution_count": 15,
     "metadata": {},
     "output_type": "execute_result"
    }
   ],
   "source": [
    "coefs"
   ]
  },
  {
   "cell_type": "code",
   "execution_count": 16,
   "id": "million-david",
   "metadata": {},
   "outputs": [
    {
     "data": {
      "text/plain": [
       "0.00997743871"
      ]
     },
     "execution_count": 16,
     "metadata": {},
     "output_type": "execute_result"
    }
   ],
   "source": [
    "coefs[3]"
   ]
  },
  {
   "cell_type": "code",
   "execution_count": 17,
   "id": "eligible-rover",
   "metadata": {
    "tags": []
   },
   "outputs": [
    {
     "data": {
      "text/plain": [
       "data item\n",
       "2500.0    0.809\n",
       "2325.0    0.859\n",
       "1970.0    0.949\n",
       "1530.0    0.996\n",
       "1060.0    0.999\n",
       "700.0     0.999\n",
       "660.0     0.999\n",
       "620.0     0.999\n",
       "580.0     0.999\n",
       "546.0     0.999\n",
       "500.0     0.999\n",
       "460.0     0.998\n",
       "436.0     0.997\n",
       "420.0     0.996\n",
       "405.0     0.995\n",
       "400.0     0.994\n",
       "390.0     0.991\n",
       "380.0     0.985\n",
       "370.0     0.975\n",
       "365.0     0.968\n",
       "350.0     0.905\n",
       "334.0     0.537\n",
       "320.0      0.08\n",
       "310.0         0\n",
       "300.0          \n",
       "290.0          \n",
       "280.0          \n",
       "270.0          \n",
       "260.0          \n",
       "250.0          \n",
       "Name: F2, dtype: object"
      ]
     },
     "execution_count": 17,
     "metadata": {},
     "output_type": "execute_result"
    }
   ],
   "source": [
    "cat_df.loc[gname]['internal transmission mm, 10']"
   ]
  },
  {
   "cell_type": "code",
   "execution_count": 18,
   "id": "desirable-prisoner",
   "metadata": {},
   "outputs": [
    {
     "data": {
      "text/plain": [
       "<PandasArray>\n",
       "[1.58465, 1.58958, 1.59513,  1.6019, 1.60279, 1.60671, 1.61227, 1.61503,\n",
       " 1.61582, 1.61656, 1.61989, 1.62004, 1.62408, 1.63208,  1.6331, 1.64202,\n",
       " 1.65064, 1.66623, 1.68455,     nan,     nan,     nan,    <NA>]\n",
       "Length: 23, dtype: object"
      ]
     },
     "execution_count": 18,
     "metadata": {},
     "output_type": "execute_result"
    }
   ],
   "source": [
    "cat_df.loc[gname]['refractive indices'].array"
   ]
  },
  {
   "cell_type": "markdown",
   "id": "indonesian-stick",
   "metadata": {},
   "source": [
    "## Test factory method, create_glass"
   ]
  },
  {
   "cell_type": "code",
   "execution_count": 19,
   "id": "organized-leather",
   "metadata": {},
   "outputs": [],
   "source": [
    "gla2 = create_glass(gname2, catalog)"
   ]
  },
  {
   "cell_type": "code",
   "execution_count": 20,
   "id": "jewish-thursday",
   "metadata": {},
   "outputs": [
    {
     "data": {
      "text/plain": [
       "Index([2325.4, 1970.1, 1529.6, 1060.0,    't',    's',    'r',    'C',   'C'',\n",
       "        632.8,    'D',    'd',    'e',    'F',   'F'',    'g',    'h',    'i',\n",
       "        334.1,  312.6,  296.7,  280.4,  248.3],\n",
       "      dtype='object', name='data item')"
      ]
     },
     "execution_count": 20,
     "metadata": {},
     "output_type": "execute_result"
    }
   ],
   "source": [
    "wvls = gla2.glass_data()['refractive indices'].index; wvls"
   ]
  },
  {
   "cell_type": "code",
   "execution_count": 21,
   "id": "cathedral-australian",
   "metadata": {},
   "outputs": [
    {
     "name": "stdout",
     "output_type": "stream",
     "text": [
      "2325.4: 1.75302,  1.753019, -7.3e-07\n",
      "1970.1: 1.75813,  1.758129, -1.2e-06\n",
      "1529.6: 1.76444,  1.764445,  4.7e-06\n",
      "1060.0: 1.7738,  1.773797, -2.7e-06\n",
      "t: 1.77517,  1.775171,  7.6e-07\n",
      "s: 1.78157,  1.781565, -4.8e-06\n",
      "r: 1.79117,  1.791166, -3.6e-06\n",
      "C: 1.79609,  1.796092,  1.9e-06\n",
      "C': 1.7975,  1.797504,  3.7e-06\n",
      "632.8: 1.79884,  1.798835, -4.7e-06\n",
      "D: 1.80491,  1.804909, -1.3e-06\n",
      "d: 1.80518,  1.805182,  2.1e-06\n",
      "e: 1.81265,  1.812650,   -4e-07\n",
      "F: 1.82775,  1.827752,  2.1e-06\n",
      "F': 1.8297,  1.829705,  4.9e-06\n",
      "g: 1.84707,  1.847073,  2.6e-06\n",
      "h: 1.86436,  1.864365,  4.9e-06\n",
      "i: 1.89703,  1.897026, -3.9e-06\n",
      "334.1: <NA>,  1.938220, <NA>\n",
      "312.6: nan,  1.983526,      nan\n",
      "296.7: nan,  2.034692,      nan\n",
      "280.4: nan,  2.120094,      nan\n",
      "248.3: <NA>,  2.881185, <NA>\n"
     ]
    }
   ],
   "source": [
    "for w_str in wvls:\n",
    "    n_line = gla2.meas_rindex(w_str)\n",
    "    try:\n",
    "        n_intrp = gla2.rindex(w_str)\n",
    "    except KeyError:\n",
    "        print(f'{w_str}: {n_line}, Key error')\n",
    "    else:\n",
    "        print(f'{w_str}: {n_line}, {n_intrp:9.6f}, {n_intrp-n_line:8.2g}')"
   ]
  },
  {
   "cell_type": "code",
   "execution_count": 22,
   "id": "bibliographic-catch",
   "metadata": {},
   "outputs": [
    {
     "data": {
      "text/plain": [
       "<PandasArray>\n",
       "[1.75302, 1.75813, 1.76444,  1.7738, 1.77517, 1.78157, 1.79117, 1.79609,\n",
       "  1.7975, 1.79884, 1.80491, 1.80518, 1.81265, 1.82775,  1.8297, 1.84707,\n",
       " 1.86436, 1.89703,    <NA>,     nan,     nan,     nan,    <NA>]\n",
       "Length: 23, dtype: object"
      ]
     },
     "execution_count": 22,
     "metadata": {},
     "output_type": "execute_result"
    }
   ],
   "source": [
    "gla2.meas_rindex(wvls).array"
   ]
  },
  {
   "cell_type": "code",
   "execution_count": 23,
   "id": "short-institute",
   "metadata": {},
   "outputs": [
    {
     "data": {
      "text/plain": [
       "array([1.75301927, 1.75812881, 1.76444467, 1.77379732, 1.77517076,\n",
       "       1.78156516, 1.79116638, 1.79609194, 1.79750374, 1.7988353 ,\n",
       "       1.80490866, 1.80518208, 1.8126496 , 1.82775211, 1.82970493,\n",
       "       1.84707261, 1.86436488, 1.89702614, 1.93821976, 1.98352564,\n",
       "       2.03469231, 2.12009442, 2.88118546])"
      ]
     },
     "execution_count": 23,
     "metadata": {},
     "output_type": "execute_result"
    }
   ],
   "source": [
    "gla2.rindex(wvls)"
   ]
  },
  {
   "cell_type": "code",
   "execution_count": 24,
   "id": "billion-comparison",
   "metadata": {},
   "outputs": [
    {
     "data": {
      "text/plain": [
       "<PandasArray>\n",
       "[  7.337543270757863e-07,   1.191769729347314e-06,  -4.673166853264021e-06,\n",
       "   2.683390140090225e-06,  -7.594542605904309e-07,   4.840167238562287e-06,\n",
       "  3.6154470093308078e-06, -1.9378228395261488e-06, -3.7366354079804154e-06,\n",
       "   4.700246603484004e-06,   1.341146030897633e-06,  -2.078102276259486e-06,\n",
       "   3.954437870490324e-07,  -2.113880698928483e-06,  -4.926433854413048e-06,\n",
       "  -2.606475076660786e-06,   -4.88340952720101e-06,  3.8566193496514245e-06,\n",
       "                    <NA>,                     nan,                     nan,\n",
       "                     nan,                    <NA>]\n",
       "Length: 23, dtype: object"
      ]
     },
     "execution_count": 24,
     "metadata": {},
     "output_type": "execute_result"
    }
   ],
   "source": [
    "gla2.meas_rindex(wvls).array-gla2.rindex(wvls)"
   ]
  },
  {
   "cell_type": "code",
   "execution_count": 25,
   "id": "virtual-illinois",
   "metadata": {},
   "outputs": [
    {
     "data": {
      "text/plain": [
       "3.599"
      ]
     },
     "execution_count": 25,
     "metadata": {},
     "output_type": "execute_result"
    }
   ],
   "source": [
    "cat_df.loc[gname]['specific gravity']['d']"
   ]
  },
  {
   "cell_type": "code",
   "execution_count": 26,
   "id": "applied-complex",
   "metadata": {},
   "outputs": [
    {
     "data": {
      "text/plain": [
       "data item\n",
       "CR      1\n",
       "FR      0\n",
       "SR      1\n",
       "AR    2.3\n",
       "PR    1.3\n",
       "Name: F2, dtype: object"
      ]
     },
     "execution_count": 26,
     "metadata": {},
     "output_type": "execute_result"
    }
   ],
   "source": [
    "cat_df.loc[gname]['chemical properties']"
   ]
  },
  {
   "cell_type": "code",
   "execution_count": 27,
   "id": "palestinian-lucas",
   "metadata": {},
   "outputs": [
    {
     "data": {
      "text/plain": [
       "data item\n",
       "Tg                             434\n",
       "T13                            430\n",
       "T7.6                           594\n",
       "Heat capacity (cp)           0.557\n",
       "Heat conductivity(lambda)     0.78\n",
       "alpha -30/70                   8.2\n",
       "alpha 20/300                   9.2\n",
       "Name: F2, dtype: object"
      ]
     },
     "execution_count": 27,
     "metadata": {},
     "output_type": "execute_result"
    }
   ],
   "source": [
    "cat_df.loc[gname]['thermal properties']"
   ]
  },
  {
   "cell_type": "code",
   "execution_count": 28,
   "id": "prospective-blake",
   "metadata": {},
   "outputs": [
    {
     "data": {
      "text/plain": [
       "data item\n",
       "2500.0       0.665\n",
       "2325.0       0.793\n",
       "1970.0       0.933\n",
       "1530.0    0.991951\n",
       "1060.0    0.998799\n",
       "700.0     0.998398\n",
       "660.0     0.997997\n",
       "620.0     0.997997\n",
       "580.0     0.998398\n",
       "546.0     0.998398\n",
       "500.0     0.997596\n",
       "460.0     0.997194\n",
       "436.0     0.996792\n",
       "420.0     0.997194\n",
       "405.0     0.997194\n",
       "400.0     0.996792\n",
       "390.0     0.995585\n",
       "380.0     0.992761\n",
       "370.0        0.991\n",
       "365.0     0.988297\n",
       "350.0     0.967197\n",
       "334.0        0.905\n",
       "320.0         0.77\n",
       "310.0        0.574\n",
       "300.0        0.292\n",
       "290.0        0.063\n",
       "280.0             \n",
       "270.0             \n",
       "260.0             \n",
       "250.0             \n",
       "Name: N-BK7, dtype: object"
      ]
     },
     "execution_count": 28,
     "metadata": {},
     "output_type": "execute_result"
    }
   ],
   "source": [
    "cat_df.loc[gname1]['internal transmission mm, 10']"
   ]
  },
  {
   "cell_type": "code",
   "execution_count": 29,
   "id": "yellow-berry",
   "metadata": {},
   "outputs": [
    {
     "data": {
      "text/plain": [
       "<FloatingArray>\n",
       "[1.62004, 1.62004, 1.60342, 1.48748, 1.50137, 1.51112,  1.7495, 2.02204,\n",
       " 1.58144, 1.58144,\n",
       " ...\n",
       " 1.72825, 1.78472, 1.64769,  1.7552,  1.6727,  1.7847, 1.84666, 1.84666,\n",
       " 1.80518, 1.80518]\n",
       "Length: 123, dtype: Float64"
      ]
     },
     "execution_count": 29,
     "metadata": {},
     "output_type": "execute_result"
    }
   ],
   "source": [
    "cat_df['refractive indices']['d'].array"
   ]
  },
  {
   "cell_type": "code",
   "execution_count": 30,
   "id": "sensitive-maryland",
   "metadata": {},
   "outputs": [
    {
     "data": {
      "text/plain": [
       "data item\n",
       "Young´s modulus (E)       57.0\n",
       "Poisson ratio (µ)         0.22\n",
       "Knoop hardness (HK)        420\n",
       "Abrasion hardness (HG)       2\n",
       "Name: F2, dtype: object"
      ]
     },
     "execution_count": 30,
     "metadata": {},
     "output_type": "execute_result"
    }
   ],
   "source": [
    "cat_df.loc[gname]['mechanical properties']"
   ]
  },
  {
   "cell_type": "code",
   "execution_count": 31,
   "id": "spatial-strand",
   "metadata": {},
   "outputs": [
    {
     "data": {
      "text/plain": [
       "glass\n",
       "F2       420\n",
       "N-BK7    610\n",
       "Name: Knoop hardness (HK), dtype: Int64"
      ]
     },
     "execution_count": 31,
     "metadata": {},
     "output_type": "execute_result"
    }
   ],
   "source": [
    "cat_df.loc[[gname, gname1]]['mechanical properties']['Knoop hardness (HK)']"
   ]
  },
  {
   "cell_type": "code",
   "execution_count": 32,
   "id": "sound-bleeding",
   "metadata": {},
   "outputs": [
    {
     "data": {
      "text/html": [
       "<div>\n",
       "<style scoped>\n",
       "    .dataframe tbody tr th:only-of-type {\n",
       "        vertical-align: middle;\n",
       "    }\n",
       "\n",
       "    .dataframe tbody tr th {\n",
       "        vertical-align: top;\n",
       "    }\n",
       "\n",
       "    .dataframe thead th {\n",
       "        text-align: right;\n",
       "    }\n",
       "</style>\n",
       "<table border=\"1\" class=\"dataframe\">\n",
       "  <thead>\n",
       "    <tr style=\"text-align: right;\">\n",
       "      <th>glass</th>\n",
       "      <th>F2</th>\n",
       "      <th>N-BK7</th>\n",
       "    </tr>\n",
       "    <tr>\n",
       "      <th>data item</th>\n",
       "      <th></th>\n",
       "      <th></th>\n",
       "    </tr>\n",
       "  </thead>\n",
       "  <tbody>\n",
       "    <tr>\n",
       "      <th>2500.0</th>\n",
       "      <td>0.809</td>\n",
       "      <td>0.665</td>\n",
       "    </tr>\n",
       "    <tr>\n",
       "      <th>2325.0</th>\n",
       "      <td>0.859</td>\n",
       "      <td>0.793</td>\n",
       "    </tr>\n",
       "    <tr>\n",
       "      <th>1970.0</th>\n",
       "      <td>0.949</td>\n",
       "      <td>0.933</td>\n",
       "    </tr>\n",
       "    <tr>\n",
       "      <th>1530.0</th>\n",
       "      <td>0.996</td>\n",
       "      <td>0.991951</td>\n",
       "    </tr>\n",
       "    <tr>\n",
       "      <th>1060.0</th>\n",
       "      <td>0.999</td>\n",
       "      <td>0.998799</td>\n",
       "    </tr>\n",
       "    <tr>\n",
       "      <th>700.0</th>\n",
       "      <td>0.999</td>\n",
       "      <td>0.998398</td>\n",
       "    </tr>\n",
       "    <tr>\n",
       "      <th>660.0</th>\n",
       "      <td>0.999</td>\n",
       "      <td>0.997997</td>\n",
       "    </tr>\n",
       "    <tr>\n",
       "      <th>620.0</th>\n",
       "      <td>0.999</td>\n",
       "      <td>0.997997</td>\n",
       "    </tr>\n",
       "    <tr>\n",
       "      <th>580.0</th>\n",
       "      <td>0.999</td>\n",
       "      <td>0.998398</td>\n",
       "    </tr>\n",
       "    <tr>\n",
       "      <th>546.0</th>\n",
       "      <td>0.999</td>\n",
       "      <td>0.998398</td>\n",
       "    </tr>\n",
       "    <tr>\n",
       "      <th>500.0</th>\n",
       "      <td>0.999</td>\n",
       "      <td>0.997596</td>\n",
       "    </tr>\n",
       "    <tr>\n",
       "      <th>460.0</th>\n",
       "      <td>0.998</td>\n",
       "      <td>0.997194</td>\n",
       "    </tr>\n",
       "    <tr>\n",
       "      <th>436.0</th>\n",
       "      <td>0.997</td>\n",
       "      <td>0.996792</td>\n",
       "    </tr>\n",
       "    <tr>\n",
       "      <th>420.0</th>\n",
       "      <td>0.996</td>\n",
       "      <td>0.997194</td>\n",
       "    </tr>\n",
       "    <tr>\n",
       "      <th>405.0</th>\n",
       "      <td>0.995</td>\n",
       "      <td>0.997194</td>\n",
       "    </tr>\n",
       "    <tr>\n",
       "      <th>400.0</th>\n",
       "      <td>0.994</td>\n",
       "      <td>0.996792</td>\n",
       "    </tr>\n",
       "    <tr>\n",
       "      <th>390.0</th>\n",
       "      <td>0.991</td>\n",
       "      <td>0.995585</td>\n",
       "    </tr>\n",
       "    <tr>\n",
       "      <th>380.0</th>\n",
       "      <td>0.985</td>\n",
       "      <td>0.992761</td>\n",
       "    </tr>\n",
       "    <tr>\n",
       "      <th>370.0</th>\n",
       "      <td>0.975</td>\n",
       "      <td>0.991</td>\n",
       "    </tr>\n",
       "    <tr>\n",
       "      <th>365.0</th>\n",
       "      <td>0.968</td>\n",
       "      <td>0.988297</td>\n",
       "    </tr>\n",
       "    <tr>\n",
       "      <th>350.0</th>\n",
       "      <td>0.905</td>\n",
       "      <td>0.967197</td>\n",
       "    </tr>\n",
       "    <tr>\n",
       "      <th>334.0</th>\n",
       "      <td>0.537</td>\n",
       "      <td>0.905</td>\n",
       "    </tr>\n",
       "    <tr>\n",
       "      <th>320.0</th>\n",
       "      <td>0.08</td>\n",
       "      <td>0.77</td>\n",
       "    </tr>\n",
       "    <tr>\n",
       "      <th>310.0</th>\n",
       "      <td>0</td>\n",
       "      <td>0.574</td>\n",
       "    </tr>\n",
       "    <tr>\n",
       "      <th>300.0</th>\n",
       "      <td></td>\n",
       "      <td>0.292</td>\n",
       "    </tr>\n",
       "    <tr>\n",
       "      <th>290.0</th>\n",
       "      <td></td>\n",
       "      <td>0.063</td>\n",
       "    </tr>\n",
       "    <tr>\n",
       "      <th>280.0</th>\n",
       "      <td></td>\n",
       "      <td></td>\n",
       "    </tr>\n",
       "    <tr>\n",
       "      <th>270.0</th>\n",
       "      <td></td>\n",
       "      <td></td>\n",
       "    </tr>\n",
       "    <tr>\n",
       "      <th>260.0</th>\n",
       "      <td></td>\n",
       "      <td></td>\n",
       "    </tr>\n",
       "    <tr>\n",
       "      <th>250.0</th>\n",
       "      <td></td>\n",
       "      <td></td>\n",
       "    </tr>\n",
       "  </tbody>\n",
       "</table>\n",
       "</div>"
      ],
      "text/plain": [
       "glass         F2     N-BK7\n",
       "data item                 \n",
       "2500.0     0.809     0.665\n",
       "2325.0     0.859     0.793\n",
       "1970.0     0.949     0.933\n",
       "1530.0     0.996  0.991951\n",
       "1060.0     0.999  0.998799\n",
       "700.0      0.999  0.998398\n",
       "660.0      0.999  0.997997\n",
       "620.0      0.999  0.997997\n",
       "580.0      0.999  0.998398\n",
       "546.0      0.999  0.998398\n",
       "500.0      0.999  0.997596\n",
       "460.0      0.998  0.997194\n",
       "436.0      0.997  0.996792\n",
       "420.0      0.996  0.997194\n",
       "405.0      0.995  0.997194\n",
       "400.0      0.994  0.996792\n",
       "390.0      0.991  0.995585\n",
       "380.0      0.985  0.992761\n",
       "370.0      0.975     0.991\n",
       "365.0      0.968  0.988297\n",
       "350.0      0.905  0.967197\n",
       "334.0      0.537     0.905\n",
       "320.0       0.08      0.77\n",
       "310.0          0     0.574\n",
       "300.0                0.292\n",
       "290.0                0.063\n",
       "280.0                     \n",
       "270.0                     \n",
       "260.0                     \n",
       "250.0                     "
      ]
     },
     "execution_count": 32,
     "metadata": {},
     "output_type": "execute_result"
    }
   ],
   "source": [
    "trns_data = cat_df.loc[[gname, gname1]]['internal transmission mm, 10'].T; trns_data"
   ]
  },
  {
   "cell_type": "code",
   "execution_count": 33,
   "id": "indonesian-manor",
   "metadata": {},
   "outputs": [
    {
     "data": {
      "text/plain": [
       "<AxesSubplot:xlabel='data item'>"
      ]
     },
     "execution_count": 33,
     "metadata": {},
     "output_type": "execute_result"
    },
    {
     "data": {
      "image/png": "[encoded data removed]",
      "text/plain": [
       "<Figure size 432x288 with 1 Axes>"
      ]
     },
     "metadata": {
      "needs_background": "light"
     },
     "output_type": "display_data"
    }
   ],
   "source": [
    "trns_data[2500.0:310.0].plot()"
   ]
  },
  {
   "cell_type": "code",
   "execution_count": 34,
   "id": "adjustable-reader",
   "metadata": {},
   "outputs": [
    {
     "data": {
      "text/plain": [
       "<AxesSubplot:xlabel='data item'>"
      ]
     },
     "execution_count": 34,
     "metadata": {},
     "output_type": "execute_result"
    },
    {
     "data": {
      "image/png": "[encoded data removed]",
      "text/plain": [
       "<Figure size 432x288 with 1 Axes>"
      ]
     },
     "metadata": {
      "needs_background": "light"
     },
     "output_type": "display_data"
    }
   ],
   "source": [
    "cat_df['internal transmission mm, 10'].T.plot(legend=False)"
   ]
  },
  {
   "cell_type": "code",
   "execution_count": 35,
   "id": "average-builder",
   "metadata": {},
   "outputs": [],
   "source": [
    "gla_v2 = schott.SchottGlass(gname)"
   ]
  },
  {
   "cell_type": "code",
   "execution_count": 36,
   "id": "athletic-demand",
   "metadata": {},
   "outputs": [
    {
     "data": {
      "text/plain": [
       "1.63208"
      ]
     },
     "execution_count": 36,
     "metadata": {},
     "output_type": "execute_result"
    }
   ],
   "source": [
    "gla_v2.meas_rindex('F')"
   ]
  },
  {
   "cell_type": "code",
   "execution_count": 37,
   "id": "quarterly-literature",
   "metadata": {},
   "outputs": [
    {
     "data": {
      "text/plain": [
       "'620.364'"
      ]
     },
     "execution_count": 37,
     "metadata": {},
     "output_type": "execute_result"
    }
   ],
   "source": [
    "gla_v2.glass_code()"
   ]
  }
 ],
 "metadata": {
  "kernelspec": {
   "display_name": "Python 3 (ipykernel)",
   "language": "python",
   "name": "python3"
  },
  "language_info": {
   "codemirror_mode": {
    "name": "ipython",
    "version": 3
   },
   "file_extension": ".py",
   "mimetype": "text/x-python",
   "name": "python",
   "nbconvert_exporter": "python",
   "pygments_lexer": "ipython3",
   "version": "3.8.13"
  }
 },
 "nbformat": 4,
 "nbformat_minor": 5
}
