{
 "cells": [
  {
   "cell_type": "code",
   "execution_count": 1,
   "id": "danish-falls",
   "metadata": {},
   "outputs": [],
   "source": [
    "import warnings\n",
    "\n",
    "from opticalglass.glass import get_filepath\n",
    "\n",
    "import opticalglass as og\n",
    "import opticalglass.buchdahl as buchdahl\n",
    "import opticalglass.glass as ogl\n",
    "from opticalglass.glassfactory import create_glass\n",
    "from opticalglass import sumita\n",
    "\n",
    "import numpy as np\n",
    "import pandas as pd\n",
    "import matplotlib.pyplot as plt"
   ]
  },
  {
   "cell_type": "markdown",
   "id": "tracked-destiny",
   "metadata": {},
   "source": [
    "# Build Multi-Index for Sumita"
   ]
  },
  {
   "cell_type": "code",
   "execution_count": 2,
   "id": "treated-housing",
   "metadata": {},
   "outputs": [],
   "source": [
    "catalog = 'Sumita'\n",
    "gname = 'K-CaFK95'\n",
    "gname1 = 'K-SK16'\n",
    "gname2 = 'K-FIR100UV'"
   ]
  },
  {
   "cell_type": "raw",
   "id": "tamil-preliminary",
   "metadata": {},
   "source": [
    "vendor_df = ogl.xl2df('SUMITA.xlsx')"
   ]
  },
  {
   "cell_type": "raw",
   "id": "swiss-google",
   "metadata": {},
   "source": [
    "# the xl_df has indices and columns that match the Excel worksheet border.\n",
    "# the index runs from 1 to xl_df.shape[0]\n",
    "# the columns match the pattern 'A', 'B', 'C', ... 'Z', 'AA', 'AB', ...\n",
    "# this facilitates transferring areas on the spreadsheet to areas in the catalog DataFrame\n",
    "\n",
    "num_rows = 2  # number of header rows in the imported spreadsheet\n",
    "category_row = 1  # row with categories\n",
    "header_row = 2  # row with data item/header info\n",
    "data_col = 'D'  # first column of data in the imported spreadsheet\n",
    "args = num_rows, category_row , header_row, data_col\n",
    "\n",
    "series_mappings = [\n",
    "    ('refractive indices', sumita.SumitaCatalog.get_rindx_wvl, \n",
    "     header_row, 'H', 'V'),\n",
    "    ('dispersion coefficients', None, header_row, 'AV', 'BA'),\n",
    "    ('internal transmission mm, 10', \n",
    "     sumita.SumitaCatalog.get_transmission_wvl, header_row, 'DB', 'EB'),\n",
    "    ('chemical properties', None, header_row, 'BQ', 'BT'),\n",
    "    ('thermal properties', None, header_row, 'BI', 'BP'),\n",
    "    ('mechanical properties', None, header_row, 'BB', 'BH'),\n",
    "    ]\n",
    "item_mappings = [\n",
    "    ('abbe number', 'vd', header_row, 'D'),\n",
    "    ('abbe number', 've', header_row, 'E'),\n",
    "    ]\n",
    "kwargs = dict(\n",
    "    data_extent = (3, 136, data_col, 'FC'),\n",
    "    name_col_offset = 'C',\n",
    "    )"
   ]
  },
  {
   "cell_type": "raw",
   "id": "closed-timing",
   "metadata": {},
   "source": [
    "cat_df = ogl.build_glass_cat(vendor_df, series_mappings, item_mappings, *args, **kwargs)"
   ]
  },
  {
   "cell_type": "code",
   "execution_count": 3,
   "id": "american-joining",
   "metadata": {},
   "outputs": [],
   "source": [
    "cat_pd = sumita.SumitaCatalog()\n",
    "cat_df = cat_pd.df"
   ]
  },
  {
   "cell_type": "code",
   "execution_count": 4,
   "id": "impossible-officer",
   "metadata": {
    "tags": []
   },
   "outputs": [
    {
     "data": {
      "text/html": [
       "<div>\n",
       "<style scoped>\n",
       "    .dataframe tbody tr th:only-of-type {\n",
       "        vertical-align: middle;\n",
       "    }\n",
       "\n",
       "    .dataframe tbody tr th {\n",
       "        vertical-align: top;\n",
       "    }\n",
       "\n",
       "    .dataframe thead tr th {\n",
       "        text-align: left;\n",
       "    }\n",
       "\n",
       "    .dataframe thead tr:last-of-type th {\n",
       "        text-align: right;\n",
       "    }\n",
       "</style>\n",
       "<table border=\"1\" class=\"dataframe\">\n",
       "  <thead>\n",
       "    <tr>\n",
       "      <th>category</th>\n",
       "      <th colspan=\"2\" halign=\"left\">abbe number</th>\n",
       "      <th colspan=\"2\" halign=\"left\">NaN</th>\n",
       "      <th colspan=\"6\" halign=\"left\">refractive indices</th>\n",
       "      <th>...</th>\n",
       "      <th colspan=\"10\" halign=\"left\">NaN</th>\n",
       "    </tr>\n",
       "    <tr>\n",
       "      <th>data item</th>\n",
       "      <th>vd</th>\n",
       "      <th>ve</th>\n",
       "      <th>nF-nC</th>\n",
       "      <th>nF'-nC'</th>\n",
       "      <th>1548.0</th>\n",
       "      <th>1309.0</th>\n",
       "      <th>t</th>\n",
       "      <th>A'</th>\n",
       "      <th>r</th>\n",
       "      <th>C</th>\n",
       "      <th>...</th>\n",
       "      <th>abs-40/-20_g</th>\n",
       "      <th>abs-0/+20_1548.1</th>\n",
       "      <th>abs-0/+20_d</th>\n",
       "      <th>abs-0/+20_g</th>\n",
       "      <th>abs+40/+60_1548.1</th>\n",
       "      <th>abs+40/+60_d</th>\n",
       "      <th>abs+40/+60_g</th>\n",
       "      <th>PF</th>\n",
       "      <th>Memo</th>\n",
       "      <th>Remarks</th>\n",
       "    </tr>\n",
       "    <tr>\n",
       "      <th>glass</th>\n",
       "      <th></th>\n",
       "      <th></th>\n",
       "      <th></th>\n",
       "      <th></th>\n",
       "      <th></th>\n",
       "      <th></th>\n",
       "      <th></th>\n",
       "      <th></th>\n",
       "      <th></th>\n",
       "      <th></th>\n",
       "      <th></th>\n",
       "      <th></th>\n",
       "      <th></th>\n",
       "      <th></th>\n",
       "      <th></th>\n",
       "      <th></th>\n",
       "      <th></th>\n",
       "      <th></th>\n",
       "      <th></th>\n",
       "      <th></th>\n",
       "      <th></th>\n",
       "    </tr>\n",
       "  </thead>\n",
       "  <tbody>\n",
       "    <tr>\n",
       "      <th>K-CaFK95</th>\n",
       "      <td>95.0</td>\n",
       "      <td>94.4</td>\n",
       "      <td>0.00457</td>\n",
       "      <td>0.00461</td>\n",
       "      <td>1.42562</td>\n",
       "      <td>1.42706</td>\n",
       "      <td>1.42898</td>\n",
       "      <td>1.43121</td>\n",
       "      <td>1.43203</td>\n",
       "      <td>1.43285</td>\n",
       "      <td>...</td>\n",
       "      <td>-6.9</td>\n",
       "      <td>-7.4</td>\n",
       "      <td>-7.2</td>\n",
       "      <td>-6.9</td>\n",
       "      <td>-7.6</td>\n",
       "      <td>-7.3</td>\n",
       "      <td>-7.0</td>\n",
       "      <td>A</td>\n",
       "      <td>Optical Glass for Precision Molding</td>\n",
       "      <td>&lt;NA&gt;</td>\n",
       "    </tr>\n",
       "    <tr>\n",
       "      <th>K-PFK80</th>\n",
       "      <td>81.5</td>\n",
       "      <td>80.9</td>\n",
       "      <td>0.0061</td>\n",
       "      <td>0.00616</td>\n",
       "      <td>1.48591</td>\n",
       "      <td>1.48768</td>\n",
       "      <td>1.49007</td>\n",
       "      <td>1.49299</td>\n",
       "      <td>1.49406</td>\n",
       "      <td>1.49514</td>\n",
       "      <td>...</td>\n",
       "      <td>-7.2</td>\n",
       "      <td>-7.7</td>\n",
       "      <td>-7.5</td>\n",
       "      <td>-7.1</td>\n",
       "      <td>-7.8</td>\n",
       "      <td>-7.6</td>\n",
       "      <td>-7.2</td>\n",
       "      <td>B</td>\n",
       "      <td>Optical Glass for Precision Molding</td>\n",
       "      <td>&lt;NA&gt;</td>\n",
       "    </tr>\n",
       "    <tr>\n",
       "      <th>K-PFK85</th>\n",
       "      <td>85.2</td>\n",
       "      <td>84.7</td>\n",
       "      <td>0.0057</td>\n",
       "      <td>0.00575</td>\n",
       "      <td>1.47546</td>\n",
       "      <td>1.47705</td>\n",
       "      <td>1.47924</td>\n",
       "      <td>1.48191</td>\n",
       "      <td>1.4829</td>\n",
       "      <td>1.48389</td>\n",
       "      <td>...</td>\n",
       "      <td>-8.3</td>\n",
       "      <td>-9.0</td>\n",
       "      <td>-8.8</td>\n",
       "      <td>-8.5</td>\n",
       "      <td>-9.0</td>\n",
       "      <td>-8.8</td>\n",
       "      <td>-8.4</td>\n",
       "      <td>C</td>\n",
       "      <td>Optical Glass for Precision Molding</td>\n",
       "      <td>&lt;NA&gt;</td>\n",
       "    </tr>\n",
       "    <tr>\n",
       "      <th>K-PFK90</th>\n",
       "      <td>90.0</td>\n",
       "      <td>89.5</td>\n",
       "      <td>0.0051</td>\n",
       "      <td>0.00514</td>\n",
       "      <td>1.44941</td>\n",
       "      <td>1.45094</td>\n",
       "      <td>1.45299</td>\n",
       "      <td>1.45545</td>\n",
       "      <td>1.45635</td>\n",
       "      <td>1.45724</td>\n",
       "      <td>...</td>\n",
       "      <td>-7.6</td>\n",
       "      <td>-8.4</td>\n",
       "      <td>-8.3</td>\n",
       "      <td>-8.0</td>\n",
       "      <td>-8.4</td>\n",
       "      <td>-8.2</td>\n",
       "      <td>-8.0</td>\n",
       "      <td>C</td>\n",
       "      <td>Optical Glass for Precision Molding</td>\n",
       "      <td>&lt;NA&gt;</td>\n",
       "    </tr>\n",
       "    <tr>\n",
       "      <th>K-GFK68</th>\n",
       "      <td>68.3</td>\n",
       "      <td>68.0</td>\n",
       "      <td>0.00867</td>\n",
       "      <td>0.00874</td>\n",
       "      <td>1.57817</td>\n",
       "      <td>1.58014</td>\n",
       "      <td>1.58301</td>\n",
       "      <td>1.58684</td>\n",
       "      <td>1.5883</td>\n",
       "      <td>1.58978</td>\n",
       "      <td>...</td>\n",
       "      <td>-10.4</td>\n",
       "      <td>-11.1</td>\n",
       "      <td>-10.8</td>\n",
       "      <td>-10.3</td>\n",
       "      <td>-10.9</td>\n",
       "      <td>-10.6</td>\n",
       "      <td>-10.1</td>\n",
       "      <td>A</td>\n",
       "      <td>Optical Glass for Precision Molding</td>\n",
       "      <td>&lt;NA&gt;</td>\n",
       "    </tr>\n",
       "    <tr>\n",
       "      <th>...</th>\n",
       "      <td>...</td>\n",
       "      <td>...</td>\n",
       "      <td>...</td>\n",
       "      <td>...</td>\n",
       "      <td>...</td>\n",
       "      <td>...</td>\n",
       "      <td>...</td>\n",
       "      <td>...</td>\n",
       "      <td>...</td>\n",
       "      <td>...</td>\n",
       "      <td>...</td>\n",
       "      <td>...</td>\n",
       "      <td>...</td>\n",
       "      <td>...</td>\n",
       "      <td>...</td>\n",
       "      <td>...</td>\n",
       "      <td>...</td>\n",
       "      <td>...</td>\n",
       "      <td>...</td>\n",
       "      <td>...</td>\n",
       "      <td>...</td>\n",
       "    </tr>\n",
       "    <tr>\n",
       "      <th>K-BOC30</th>\n",
       "      <td>26.2</td>\n",
       "      <td>26.0</td>\n",
       "      <td>0.03845</td>\n",
       "      <td>0.0391</td>\n",
       "      <td>1.95576</td>\n",
       "      <td>1.96107</td>\n",
       "      <td>1.97003</td>\n",
       "      <td>1.98396</td>\n",
       "      <td>1.98975</td>\n",
       "      <td>1.99575</td>\n",
       "      <td>...</td>\n",
       "      <td>2.5</td>\n",
       "      <td>-1.2</td>\n",
       "      <td>1.3</td>\n",
       "      <td>5.6</td>\n",
       "      <td>-0.7</td>\n",
       "      <td>2.0</td>\n",
       "      <td>6.7</td>\n",
       "      <td>&lt;NA&gt;</td>\n",
       "      <td>&lt;NA&gt;</td>\n",
       "      <td>&lt;NA&gt;</td>\n",
       "    </tr>\n",
       "    <tr>\n",
       "      <th>K-GIR79</th>\n",
       "      <td>33.0</td>\n",
       "      <td>32.8</td>\n",
       "      <td>0.02601</td>\n",
       "      <td>0.0264</td>\n",
       "      <td>1.82418</td>\n",
       "      <td>1.82768</td>\n",
       "      <td>1.83378</td>\n",
       "      <td>1.84344</td>\n",
       "      <td>1.84745</td>\n",
       "      <td>1.85161</td>\n",
       "      <td>...</td>\n",
       "      <td>8.3</td>\n",
       "      <td>4.7</td>\n",
       "      <td>7.3</td>\n",
       "      <td>10.9</td>\n",
       "      <td>5.2</td>\n",
       "      <td>8.0</td>\n",
       "      <td>11.8</td>\n",
       "      <td>&lt;NA&gt;</td>\n",
       "      <td>&lt;NA&gt;</td>\n",
       "      <td>&lt;NA&gt;</td>\n",
       "    </tr>\n",
       "    <tr>\n",
       "      <th>K-GIR140</th>\n",
       "      <td>43.1</td>\n",
       "      <td>42.8</td>\n",
       "      <td>0.01743</td>\n",
       "      <td>0.01765</td>\n",
       "      <td>1.72651</td>\n",
       "      <td>1.72913</td>\n",
       "      <td>1.73354</td>\n",
       "      <td>1.74029</td>\n",
       "      <td>1.74306</td>\n",
       "      <td>1.74591</td>\n",
       "      <td>...</td>\n",
       "      <td>4.5</td>\n",
       "      <td>3.0</td>\n",
       "      <td>4.7</td>\n",
       "      <td>7.0</td>\n",
       "      <td>3.2</td>\n",
       "      <td>5.1</td>\n",
       "      <td>7.5</td>\n",
       "      <td>C</td>\n",
       "      <td>&lt;NA&gt;</td>\n",
       "      <td>&lt;NA&gt;</td>\n",
       "    </tr>\n",
       "    <tr>\n",
       "      <th>K-FIR98UV</th>\n",
       "      <td>97.8</td>\n",
       "      <td>97.4</td>\n",
       "      <td>0.00435</td>\n",
       "      <td>0.00438</td>\n",
       "      <td>1.41742</td>\n",
       "      <td>1.41869</td>\n",
       "      <td>1.42041</td>\n",
       "      <td>1.4225</td>\n",
       "      <td>1.42327</td>\n",
       "      <td>1.42404</td>\n",
       "      <td>...</td>\n",
       "      <td>-6.5</td>\n",
       "      <td>-7.1</td>\n",
       "      <td>-6.9</td>\n",
       "      <td>-6.7</td>\n",
       "      <td>-7.3</td>\n",
       "      <td>-7.1</td>\n",
       "      <td>-6.8</td>\n",
       "      <td>B</td>\n",
       "      <td>Optical Glass for Precision Molding</td>\n",
       "      <td>&lt;NA&gt;</td>\n",
       "    </tr>\n",
       "    <tr>\n",
       "      <th>K-FIR100UV</th>\n",
       "      <td>101.0</td>\n",
       "      <td>100.5</td>\n",
       "      <td>0.0041</td>\n",
       "      <td>0.00413</td>\n",
       "      <td>1.40621</td>\n",
       "      <td>1.40748</td>\n",
       "      <td>1.40917</td>\n",
       "      <td>1.41118</td>\n",
       "      <td>1.41191</td>\n",
       "      <td>1.41264</td>\n",
       "      <td>...</td>\n",
       "      <td>-6.3</td>\n",
       "      <td>-6.7</td>\n",
       "      <td>-6.5</td>\n",
       "      <td>-6.3</td>\n",
       "      <td>-6.7</td>\n",
       "      <td>-6.5</td>\n",
       "      <td>-6.2</td>\n",
       "      <td>&lt;NA&gt;</td>\n",
       "      <td>Optical Glass for Precision Molding</td>\n",
       "      <td>&lt;NA&gt;</td>\n",
       "    </tr>\n",
       "  </tbody>\n",
       "</table>\n",
       "<p>134 rows × 156 columns</p>\n",
       "</div>"
      ],
      "text/plain": [
       "category   abbe number             NaN          refractive indices           \\\n",
       "data item           vd     ve    nF-nC  nF'-nC'             1548.0   1309.0   \n",
       "glass                                                                         \n",
       "K-CaFK95          95.0   94.4  0.00457  0.00461            1.42562  1.42706   \n",
       "K-PFK80           81.5   80.9   0.0061  0.00616            1.48591  1.48768   \n",
       "K-PFK85           85.2   84.7   0.0057  0.00575            1.47546  1.47705   \n",
       "K-PFK90           90.0   89.5   0.0051  0.00514            1.44941  1.45094   \n",
       "K-GFK68           68.3   68.0  0.00867  0.00874            1.57817  1.58014   \n",
       "...                ...    ...      ...      ...                ...      ...   \n",
       "K-BOC30           26.2   26.0  0.03845   0.0391            1.95576  1.96107   \n",
       "K-GIR79           33.0   32.8  0.02601   0.0264            1.82418  1.82768   \n",
       "K-GIR140          43.1   42.8  0.01743  0.01765            1.72651  1.72913   \n",
       "K-FIR98UV         97.8   97.4  0.00435  0.00438            1.41742  1.41869   \n",
       "K-FIR100UV       101.0  100.5   0.0041  0.00413            1.40621  1.40748   \n",
       "\n",
       "category                                        ...          NaN  \\\n",
       "data item         t       A'        r        C  ... abs-40/-20_g   \n",
       "glass                                           ...                \n",
       "K-CaFK95    1.42898  1.43121  1.43203  1.43285  ...         -6.9   \n",
       "K-PFK80     1.49007  1.49299  1.49406  1.49514  ...         -7.2   \n",
       "K-PFK85     1.47924  1.48191   1.4829  1.48389  ...         -8.3   \n",
       "K-PFK90     1.45299  1.45545  1.45635  1.45724  ...         -7.6   \n",
       "K-GFK68     1.58301  1.58684   1.5883  1.58978  ...        -10.4   \n",
       "...             ...      ...      ...      ...  ...          ...   \n",
       "K-BOC30     1.97003  1.98396  1.98975  1.99575  ...          2.5   \n",
       "K-GIR79     1.83378  1.84344  1.84745  1.85161  ...          8.3   \n",
       "K-GIR140    1.73354  1.74029  1.74306  1.74591  ...          4.5   \n",
       "K-FIR98UV   1.42041   1.4225  1.42327  1.42404  ...         -6.5   \n",
       "K-FIR100UV  1.40917  1.41118  1.41191  1.41264  ...         -6.3   \n",
       "\n",
       "category                                                               \\\n",
       "data item  abs-0/+20_1548.1 abs-0/+20_d abs-0/+20_g abs+40/+60_1548.1   \n",
       "glass                                                                   \n",
       "K-CaFK95               -7.4        -7.2        -6.9              -7.6   \n",
       "K-PFK80                -7.7        -7.5        -7.1              -7.8   \n",
       "K-PFK85                -9.0        -8.8        -8.5              -9.0   \n",
       "K-PFK90                -8.4        -8.3        -8.0              -8.4   \n",
       "K-GFK68               -11.1       -10.8       -10.3             -10.9   \n",
       "...                     ...         ...         ...               ...   \n",
       "K-BOC30                -1.2         1.3         5.6              -0.7   \n",
       "K-GIR79                 4.7         7.3        10.9               5.2   \n",
       "K-GIR140                3.0         4.7         7.0               3.2   \n",
       "K-FIR98UV              -7.1        -6.9        -6.7              -7.3   \n",
       "K-FIR100UV             -6.7        -6.5        -6.3              -6.7   \n",
       "\n",
       "category                                    \\\n",
       "data item  abs+40/+60_d abs+40/+60_g    PF   \n",
       "glass                                        \n",
       "K-CaFK95           -7.3         -7.0     A   \n",
       "K-PFK80            -7.6         -7.2     B   \n",
       "K-PFK85            -8.8         -8.4     C   \n",
       "K-PFK90            -8.2         -8.0     C   \n",
       "K-GFK68           -10.6        -10.1     A   \n",
       "...                 ...          ...   ...   \n",
       "K-BOC30             2.0          6.7  <NA>   \n",
       "K-GIR79             8.0         11.8  <NA>   \n",
       "K-GIR140            5.1          7.5     C   \n",
       "K-FIR98UV          -7.1         -6.8     B   \n",
       "K-FIR100UV         -6.5         -6.2  <NA>   \n",
       "\n",
       "category                                                 \n",
       "data item                                  Memo Remarks  \n",
       "glass                                                    \n",
       "K-CaFK95    Optical Glass for Precision Molding    <NA>  \n",
       "K-PFK80     Optical Glass for Precision Molding    <NA>  \n",
       "K-PFK85     Optical Glass for Precision Molding    <NA>  \n",
       "K-PFK90     Optical Glass for Precision Molding    <NA>  \n",
       "K-GFK68     Optical Glass for Precision Molding    <NA>  \n",
       "...                                         ...     ...  \n",
       "K-BOC30                                    <NA>    <NA>  \n",
       "K-GIR79                                    <NA>    <NA>  \n",
       "K-GIR140                                   <NA>    <NA>  \n",
       "K-FIR98UV   Optical Glass for Precision Molding    <NA>  \n",
       "K-FIR100UV  Optical Glass for Precision Molding    <NA>  \n",
       "\n",
       "[134 rows x 156 columns]"
      ]
     },
     "execution_count": 4,
     "metadata": {},
     "output_type": "execute_result"
    }
   ],
   "source": [
    "cat_df"
   ]
  },
  {
   "cell_type": "code",
   "execution_count": 5,
   "id": "basic-petite",
   "metadata": {},
   "outputs": [
    {
     "data": {
      "text/plain": [
       "False"
      ]
     },
     "execution_count": 5,
     "metadata": {},
     "output_type": "execute_result"
    }
   ],
   "source": [
    "cat_df.columns.has_duplicates"
   ]
  },
  {
   "cell_type": "code",
   "execution_count": 6,
   "id": "double-funds",
   "metadata": {},
   "outputs": [],
   "source": [
    "nd = cat_df['refractive indices']['d'].to_numpy(dtype=float)\n",
    "nF = cat_df['refractive indices']['F'].to_numpy(dtype=float)\n",
    "nC = cat_df['refractive indices']['C'].to_numpy(dtype=float)"
   ]
  },
  {
   "cell_type": "code",
   "execution_count": 7,
   "id": "noted-philip",
   "metadata": {},
   "outputs": [],
   "source": [
    "nd, coefs = buchdahl.calc_buchdahl_coords(nd, nF, nC)"
   ]
  },
  {
   "cell_type": "code",
   "execution_count": 8,
   "id": "distant-junior",
   "metadata": {},
   "outputs": [],
   "source": [
    "coefs /= np.array((nd - 1.0), dtype=float)"
   ]
  },
  {
   "cell_type": "markdown",
   "id": "experimental-interstate",
   "metadata": {},
   "source": [
    "## Test Series extracted from DataFrame"
   ]
  },
  {
   "cell_type": "code",
   "execution_count": 9,
   "id": "forced-companion",
   "metadata": {},
   "outputs": [],
   "source": [
    "gla = cat_df.loc[gname]\n",
    "gla1 = cat_df.loc[gname1]"
   ]
  },
  {
   "cell_type": "code",
   "execution_count": 10,
   "id": "indian-rubber",
   "metadata": {},
   "outputs": [
    {
     "data": {
      "text/plain": [
       "data item\n",
       "A0    2.040823\n",
       "A1   -0.004547\n",
       "A2    0.005863\n",
       "A3     0.00013\n",
       "A4   -0.000012\n",
       "A5    0.000001\n",
       "Name: K-CaFK95, dtype: object"
      ]
     },
     "execution_count": 10,
     "metadata": {},
     "output_type": "execute_result"
    }
   ],
   "source": [
    "cat_df.loc[gname]['dispersion coefficients']"
   ]
  },
  {
   "cell_type": "code",
   "execution_count": 11,
   "id": "welsh-coast",
   "metadata": {},
   "outputs": [
    {
     "data": {
      "text/plain": [
       "data item\n",
       "A0    2.040823\n",
       "A1   -0.004547\n",
       "A2    0.005863\n",
       "A3     0.00013\n",
       "A4   -0.000012\n",
       "A5    0.000001\n",
       "Name: K-CaFK95, dtype: object"
      ]
     },
     "execution_count": 11,
     "metadata": {},
     "output_type": "execute_result"
    }
   ],
   "source": [
    "gla['dispersion coefficients']"
   ]
  },
  {
   "cell_type": "code",
   "execution_count": 12,
   "id": "hundred-thesis",
   "metadata": {},
   "outputs": [
    {
     "data": {
      "text/plain": [
       "array([ 2.0408226e+00, -4.5471403e-03,  5.8631038e-03,  1.2966471e-04,\n",
       "       -1.1902639e-05,  6.9279944e-07])"
      ]
     },
     "execution_count": 12,
     "metadata": {},
     "output_type": "execute_result"
    }
   ],
   "source": [
    "coefs = gla['dispersion coefficients'].to_numpy(dtype=float); coefs"
   ]
  },
  {
   "cell_type": "code",
   "execution_count": 13,
   "id": "logical-firewall",
   "metadata": {},
   "outputs": [
    {
     "data": {
      "text/plain": [
       "0.00012966471"
      ]
     },
     "execution_count": 13,
     "metadata": {},
     "output_type": "execute_result"
    }
   ],
   "source": [
    "coefs[3]"
   ]
  },
  {
   "cell_type": "code",
   "execution_count": 14,
   "id": "blind-legislation",
   "metadata": {
    "tags": []
   },
   "outputs": [
    {
     "data": {
      "text/plain": [
       "data item\n",
       "270.0      <NA>\n",
       "280.0      <NA>\n",
       "290.0     0.022\n",
       "300.0     0.103\n",
       "310.0     0.288\n",
       "320.0     0.534\n",
       "330.0     0.739\n",
       "340.0     0.871\n",
       "350.0     0.935\n",
       "360.0     0.968\n",
       "370.0     0.989\n",
       "380.0     0.993\n",
       "390.0     0.995\n",
       "400.0     0.998\n",
       "420.0     0.998\n",
       "440.0     0.998\n",
       "460.0     0.998\n",
       "480.0     0.998\n",
       "500.0     0.998\n",
       "550.0     0.998\n",
       "600.0     0.998\n",
       "650.0     0.998\n",
       "700.0     0.998\n",
       "800.0     0.998\n",
       "1060.0    0.998\n",
       "1500.0    0.998\n",
       "2000.0    0.998\n",
       "Name: K-CaFK95, dtype: object"
      ]
     },
     "execution_count": 14,
     "metadata": {},
     "output_type": "execute_result"
    }
   ],
   "source": [
    "cat_df.loc[gname]['internal transmission mm, 10']"
   ]
  },
  {
   "cell_type": "code",
   "execution_count": 15,
   "id": "intermediate-knife",
   "metadata": {},
   "outputs": [
    {
     "data": {
      "text/plain": [
       "<PandasArray>\n",
       "[1.42562, 1.42706, 1.42898, 1.43121, 1.43203, 1.43285, 1.43308, 1.43422,\n",
       " 1.43425, 1.43535, 1.43742, 1.43769, 1.43986, 1.44187, 1.44523]\n",
       "Length: 15, dtype: object"
      ]
     },
     "execution_count": 15,
     "metadata": {},
     "output_type": "execute_result"
    }
   ],
   "source": [
    "cat_df.loc[gname]['refractive indices'].array"
   ]
  },
  {
   "cell_type": "markdown",
   "id": "radical-numbers",
   "metadata": {},
   "source": [
    "## Test factory method, create_glass"
   ]
  },
  {
   "cell_type": "code",
   "execution_count": 16,
   "id": "polished-moses",
   "metadata": {},
   "outputs": [],
   "source": [
    "gla2 = create_glass(gname2, catalog)"
   ]
  },
  {
   "cell_type": "code",
   "execution_count": 17,
   "id": "exact-specialist",
   "metadata": {},
   "outputs": [
    {
     "data": {
      "text/plain": [
       "Index([1548.0, 1309.0,    't',   'A'',    'r',    'C',   'C'',    'D',    'd',\n",
       "          'e',    'F',   'F'',    'g',    'h',    'i'],\n",
       "      dtype='object', name='data item')"
      ]
     },
     "execution_count": 17,
     "metadata": {},
     "output_type": "execute_result"
    }
   ],
   "source": [
    "wvls = gla2.glass_data()['refractive indices'].index; wvls"
   ]
  },
  {
   "cell_type": "code",
   "execution_count": 18,
   "id": "brave-relaxation",
   "metadata": {},
   "outputs": [
    {
     "name": "stdout",
     "output_type": "stream",
     "text": [
      "1548.0: 1.40621,  1.406211,  5.6e-07\n",
      "1309.0: 1.40748,  1.407476, -3.7e-06\n",
      "t: 1.40917,  1.409174,  4.5e-06\n",
      "A': 1.41118,  1.411183,  3.2e-06\n",
      "r: 1.41191,  1.411914,  4.2e-06\n",
      "C: 1.41264,  1.412637, -3.3e-06\n",
      "C': 1.41284,  1.412838,   -2e-06\n",
      "D: 1.41386,  1.413860,   -2e-07\n",
      "d: 1.4139,  1.413897, -3.4e-06\n",
      "e: 1.41488,  1.414877, -2.9e-06\n",
      "F: 1.41674,  1.416742,  1.8e-06\n",
      "F': 1.41697,  1.416973,  2.7e-06\n",
      "g: 1.41893,  1.418933,  2.8e-06\n",
      "h: 1.42073,  1.420730,    2e-07\n",
      "i: 1.42375,  1.423749,   -1e-06\n"
     ]
    }
   ],
   "source": [
    "for w_str in wvls:\n",
    "    n_line = gla2.meas_rindex(w_str)\n",
    "    try:\n",
    "        n_intrp = gla2.rindex(w_str)\n",
    "    except KeyError:\n",
    "        print(f'{w_str}: {n_line}, Key error')\n",
    "    else:\n",
    "        print(f'{w_str}: {n_line}, {n_intrp:9.6f}, {n_intrp-n_line:8.2g}')"
   ]
  },
  {
   "cell_type": "code",
   "execution_count": 19,
   "id": "noted-dividend",
   "metadata": {},
   "outputs": [
    {
     "data": {
      "text/plain": [
       "<PandasArray>\n",
       "[1.40621, 1.40748, 1.40917, 1.41118, 1.41191, 1.41264, 1.41284, 1.41386,\n",
       "  1.4139, 1.41488, 1.41674, 1.41697, 1.41893, 1.42073, 1.42375]\n",
       "Length: 15, dtype: object"
      ]
     },
     "execution_count": 19,
     "metadata": {},
     "output_type": "execute_result"
    }
   ],
   "source": [
    "gla2.meas_rindex(wvls).array"
   ]
  },
  {
   "cell_type": "code",
   "execution_count": 20,
   "id": "lonely-finance",
   "metadata": {},
   "outputs": [
    {
     "data": {
      "text/plain": [
       "array([1.40621056, 1.40747631, 1.40917445, 1.41118318, 1.41191424,\n",
       "       1.4126367 , 1.41283801, 1.4138598 , 1.41389655, 1.41487707,\n",
       "       1.41674184, 1.4169727 , 1.41893279, 1.4207302 , 1.42374896])"
      ]
     },
     "execution_count": 20,
     "metadata": {},
     "output_type": "execute_result"
    }
   ],
   "source": [
    "gla2.rindex(wvls)"
   ]
  },
  {
   "cell_type": "code",
   "execution_count": 21,
   "id": "similar-azerbaijan",
   "metadata": {},
   "outputs": [
    {
     "data": {
      "text/plain": [
       "<PandasArray>\n",
       "[ -5.614623550531661e-07,  3.6860497070190235e-06,  -4.453922197056315e-06,\n",
       "  -3.179506982586844e-06,  -4.237148023333859e-06,   3.304840454187996e-06,\n",
       "  1.9934190789161477e-06,  1.9585142085887242e-07,  3.4451935084778285e-06,\n",
       "   2.932003050348797e-06,  -1.840592371404881e-06,  -2.698760724895166e-06,\n",
       " -2.7894561822616737e-06, -2.0392499799903874e-07,  1.0353717054822908e-06]\n",
       "Length: 15, dtype: object"
      ]
     },
     "execution_count": 21,
     "metadata": {},
     "output_type": "execute_result"
    }
   ],
   "source": [
    "gla2.meas_rindex(wvls).array-gla2.rindex(wvls)"
   ]
  },
  {
   "cell_type": "code",
   "execution_count": 22,
   "id": "welcome-motel",
   "metadata": {},
   "outputs": [
    {
     "data": {
      "text/plain": [
       "3.54"
      ]
     },
     "execution_count": 22,
     "metadata": {},
     "output_type": "execute_result"
    }
   ],
   "source": [
    "cat_df.loc[gname]['specific gravity']['d']"
   ]
  },
  {
   "cell_type": "code",
   "execution_count": 23,
   "id": "owned-sport",
   "metadata": {},
   "outputs": [
    {
     "data": {
      "text/plain": [
       "data item\n",
       "RW     2\n",
       "RA     4\n",
       "DW     1\n",
       "B     BB\n",
       "Name: K-CaFK95, dtype: object"
      ]
     },
     "execution_count": 23,
     "metadata": {},
     "output_type": "execute_result"
    }
   ],
   "source": [
    "cat_df.loc[gname]['chemical properties']"
   ]
  },
  {
   "cell_type": "code",
   "execution_count": 24,
   "id": "together-ceiling",
   "metadata": {},
   "outputs": [
    {
     "data": {
      "text/plain": [
       "data item\n",
       "Tg                  431\n",
       "At                  450\n",
       "Low-Range       -30/+70\n",
       "a-Low               129\n",
       "High-Range    +100/+300\n",
       "a-High              167\n",
       "Th                0.796\n",
       "Cp                  730\n",
       "Name: K-CaFK95, dtype: object"
      ]
     },
     "execution_count": 24,
     "metadata": {},
     "output_type": "execute_result"
    }
   ],
   "source": [
    "cat_df.loc[gname]['thermal properties']"
   ]
  },
  {
   "cell_type": "code",
   "execution_count": 25,
   "id": "dental-letters",
   "metadata": {},
   "outputs": [
    {
     "data": {
      "text/plain": [
       "data item\n",
       "HK       331\n",
       "HKL        3\n",
       "HV       348\n",
       "Ha       500\n",
       "E        718\n",
       "G        279\n",
       "PO     0.287\n",
       "Name: K-CaFK95, dtype: object"
      ]
     },
     "execution_count": 25,
     "metadata": {},
     "output_type": "execute_result"
    }
   ],
   "source": [
    "cat_df.loc[gname]['mechanical properties']"
   ]
  },
  {
   "cell_type": "code",
   "execution_count": 26,
   "id": "distant-reaction",
   "metadata": {},
   "outputs": [
    {
     "data": {
      "text/plain": [
       "glass\n",
       "K-CaFK95    331\n",
       "K-SK16      490\n",
       "Name: HK, dtype: Int64"
      ]
     },
     "execution_count": 26,
     "metadata": {},
     "output_type": "execute_result"
    }
   ],
   "source": [
    "cat_df.loc[[gname, gname1]]['mechanical properties']['HK']"
   ]
  },
  {
   "cell_type": "code",
   "execution_count": 27,
   "id": "impossible-traveler",
   "metadata": {},
   "outputs": [
    {
     "data": {
      "text/plain": [
       "data item\n",
       "270.0      <NA>\n",
       "280.0      <NA>\n",
       "290.0      <NA>\n",
       "300.0     0.014\n",
       "310.0     0.118\n",
       "320.0     0.297\n",
       "330.0     0.525\n",
       "340.0     0.675\n",
       "350.0     0.801\n",
       "360.0      0.87\n",
       "370.0      0.91\n",
       "380.0      0.94\n",
       "390.0     0.954\n",
       "400.0     0.964\n",
       "420.0     0.964\n",
       "440.0     0.971\n",
       "460.0     0.971\n",
       "480.0     0.975\n",
       "500.0     0.978\n",
       "550.0     0.978\n",
       "600.0     0.989\n",
       "650.0     0.989\n",
       "700.0     0.992\n",
       "800.0     0.996\n",
       "1060.0    0.996\n",
       "1500.0    0.996\n",
       "2000.0    0.937\n",
       "Name: K-SK16, dtype: object"
      ]
     },
     "execution_count": 27,
     "metadata": {},
     "output_type": "execute_result"
    }
   ],
   "source": [
    "cat_df.loc[gname1]['internal transmission mm, 10']"
   ]
  },
  {
   "cell_type": "code",
   "execution_count": 28,
   "id": "similar-projection",
   "metadata": {},
   "outputs": [
    {
     "data": {
      "text/plain": [
       "<FloatingArray>\n",
       "[1.43425,   1.497, 1.48563,  1.4588,  1.5924, 1.56907,  1.5176,  1.5225,\n",
       "  1.5274,   1.525,\n",
       " ...\n",
       " 1.72825, 1.78472, 1.76182,  1.8467,  1.8467,  2.0068,  1.8592, 1.75106,\n",
       " 1.42537,  1.4139]\n",
       "Length: 134, dtype: Float64"
      ]
     },
     "execution_count": 28,
     "metadata": {},
     "output_type": "execute_result"
    }
   ],
   "source": [
    "cat_df['refractive indices']['d'].array"
   ]
  },
  {
   "cell_type": "code",
   "execution_count": 29,
   "id": "acoustic-notion",
   "metadata": {},
   "outputs": [
    {
     "data": {
      "text/html": [
       "<div>\n",
       "<style scoped>\n",
       "    .dataframe tbody tr th:only-of-type {\n",
       "        vertical-align: middle;\n",
       "    }\n",
       "\n",
       "    .dataframe tbody tr th {\n",
       "        vertical-align: top;\n",
       "    }\n",
       "\n",
       "    .dataframe thead th {\n",
       "        text-align: right;\n",
       "    }\n",
       "</style>\n",
       "<table border=\"1\" class=\"dataframe\">\n",
       "  <thead>\n",
       "    <tr style=\"text-align: right;\">\n",
       "      <th>glass</th>\n",
       "      <th>K-CaFK95</th>\n",
       "      <th>K-SK16</th>\n",
       "    </tr>\n",
       "    <tr>\n",
       "      <th>data item</th>\n",
       "      <th></th>\n",
       "      <th></th>\n",
       "    </tr>\n",
       "  </thead>\n",
       "  <tbody>\n",
       "    <tr>\n",
       "      <th>270.0</th>\n",
       "      <td>&lt;NA&gt;</td>\n",
       "      <td>&lt;NA&gt;</td>\n",
       "    </tr>\n",
       "    <tr>\n",
       "      <th>280.0</th>\n",
       "      <td>&lt;NA&gt;</td>\n",
       "      <td>&lt;NA&gt;</td>\n",
       "    </tr>\n",
       "    <tr>\n",
       "      <th>290.0</th>\n",
       "      <td>0.022</td>\n",
       "      <td>&lt;NA&gt;</td>\n",
       "    </tr>\n",
       "    <tr>\n",
       "      <th>300.0</th>\n",
       "      <td>0.103</td>\n",
       "      <td>0.014</td>\n",
       "    </tr>\n",
       "    <tr>\n",
       "      <th>310.0</th>\n",
       "      <td>0.288</td>\n",
       "      <td>0.118</td>\n",
       "    </tr>\n",
       "    <tr>\n",
       "      <th>320.0</th>\n",
       "      <td>0.534</td>\n",
       "      <td>0.297</td>\n",
       "    </tr>\n",
       "    <tr>\n",
       "      <th>330.0</th>\n",
       "      <td>0.739</td>\n",
       "      <td>0.525</td>\n",
       "    </tr>\n",
       "    <tr>\n",
       "      <th>340.0</th>\n",
       "      <td>0.871</td>\n",
       "      <td>0.675</td>\n",
       "    </tr>\n",
       "    <tr>\n",
       "      <th>350.0</th>\n",
       "      <td>0.935</td>\n",
       "      <td>0.801</td>\n",
       "    </tr>\n",
       "    <tr>\n",
       "      <th>360.0</th>\n",
       "      <td>0.968</td>\n",
       "      <td>0.87</td>\n",
       "    </tr>\n",
       "    <tr>\n",
       "      <th>370.0</th>\n",
       "      <td>0.989</td>\n",
       "      <td>0.91</td>\n",
       "    </tr>\n",
       "    <tr>\n",
       "      <th>380.0</th>\n",
       "      <td>0.993</td>\n",
       "      <td>0.94</td>\n",
       "    </tr>\n",
       "    <tr>\n",
       "      <th>390.0</th>\n",
       "      <td>0.995</td>\n",
       "      <td>0.954</td>\n",
       "    </tr>\n",
       "    <tr>\n",
       "      <th>400.0</th>\n",
       "      <td>0.998</td>\n",
       "      <td>0.964</td>\n",
       "    </tr>\n",
       "    <tr>\n",
       "      <th>420.0</th>\n",
       "      <td>0.998</td>\n",
       "      <td>0.964</td>\n",
       "    </tr>\n",
       "    <tr>\n",
       "      <th>440.0</th>\n",
       "      <td>0.998</td>\n",
       "      <td>0.971</td>\n",
       "    </tr>\n",
       "    <tr>\n",
       "      <th>460.0</th>\n",
       "      <td>0.998</td>\n",
       "      <td>0.971</td>\n",
       "    </tr>\n",
       "    <tr>\n",
       "      <th>480.0</th>\n",
       "      <td>0.998</td>\n",
       "      <td>0.975</td>\n",
       "    </tr>\n",
       "    <tr>\n",
       "      <th>500.0</th>\n",
       "      <td>0.998</td>\n",
       "      <td>0.978</td>\n",
       "    </tr>\n",
       "    <tr>\n",
       "      <th>550.0</th>\n",
       "      <td>0.998</td>\n",
       "      <td>0.978</td>\n",
       "    </tr>\n",
       "    <tr>\n",
       "      <th>600.0</th>\n",
       "      <td>0.998</td>\n",
       "      <td>0.989</td>\n",
       "    </tr>\n",
       "    <tr>\n",
       "      <th>650.0</th>\n",
       "      <td>0.998</td>\n",
       "      <td>0.989</td>\n",
       "    </tr>\n",
       "    <tr>\n",
       "      <th>700.0</th>\n",
       "      <td>0.998</td>\n",
       "      <td>0.992</td>\n",
       "    </tr>\n",
       "    <tr>\n",
       "      <th>800.0</th>\n",
       "      <td>0.998</td>\n",
       "      <td>0.996</td>\n",
       "    </tr>\n",
       "    <tr>\n",
       "      <th>1060.0</th>\n",
       "      <td>0.998</td>\n",
       "      <td>0.996</td>\n",
       "    </tr>\n",
       "    <tr>\n",
       "      <th>1500.0</th>\n",
       "      <td>0.998</td>\n",
       "      <td>0.996</td>\n",
       "    </tr>\n",
       "    <tr>\n",
       "      <th>2000.0</th>\n",
       "      <td>0.998</td>\n",
       "      <td>0.937</td>\n",
       "    </tr>\n",
       "  </tbody>\n",
       "</table>\n",
       "</div>"
      ],
      "text/plain": [
       "glass      K-CaFK95  K-SK16\n",
       "data item                  \n",
       "270.0          <NA>    <NA>\n",
       "280.0          <NA>    <NA>\n",
       "290.0         0.022    <NA>\n",
       "300.0         0.103   0.014\n",
       "310.0         0.288   0.118\n",
       "320.0         0.534   0.297\n",
       "330.0         0.739   0.525\n",
       "340.0         0.871   0.675\n",
       "350.0         0.935   0.801\n",
       "360.0         0.968    0.87\n",
       "370.0         0.989    0.91\n",
       "380.0         0.993    0.94\n",
       "390.0         0.995   0.954\n",
       "400.0         0.998   0.964\n",
       "420.0         0.998   0.964\n",
       "440.0         0.998   0.971\n",
       "460.0         0.998   0.971\n",
       "480.0         0.998   0.975\n",
       "500.0         0.998   0.978\n",
       "550.0         0.998   0.978\n",
       "600.0         0.998   0.989\n",
       "650.0         0.998   0.989\n",
       "700.0         0.998   0.992\n",
       "800.0         0.998   0.996\n",
       "1060.0        0.998   0.996\n",
       "1500.0        0.998   0.996\n",
       "2000.0        0.998   0.937"
      ]
     },
     "execution_count": 29,
     "metadata": {},
     "output_type": "execute_result"
    }
   ],
   "source": [
    "trns_data = cat_df.loc[[gname, gname1]]['internal transmission mm, 10'].T; trns_data"
   ]
  },
  {
   "cell_type": "code",
   "execution_count": 30,
   "id": "dress-values",
   "metadata": {},
   "outputs": [
    {
     "data": {
      "text/plain": [
       "<AxesSubplot:xlabel='data item'>"
      ]
     },
     "execution_count": 30,
     "metadata": {},
     "output_type": "execute_result"
    },
    {
     "data": {
      "image/png": "[encoded data removed]",
      "text/plain": [
       "<Figure size 432x288 with 1 Axes>"
      ]
     },
     "metadata": {
      "needs_background": "light"
     },
     "output_type": "display_data"
    }
   ],
   "source": [
    "trns_data.plot()"
   ]
  },
  {
   "cell_type": "code",
   "execution_count": 31,
   "id": "canadian-puzzle",
   "metadata": {},
   "outputs": [
    {
     "data": {
      "text/plain": [
       "<AxesSubplot:xlabel='data item'>"
      ]
     },
     "execution_count": 31,
     "metadata": {},
     "output_type": "execute_result"
    },
    {
     "data": {
      "image/png": "[encoded data removed]",
      "text/plain": [
       "<Figure size 432x288 with 1 Axes>"
      ]
     },
     "metadata": {
      "needs_background": "light"
     },
     "output_type": "display_data"
    }
   ],
   "source": [
    "cat_df['internal transmission mm, 10'].T.plot(legend=False)"
   ]
  },
  {
   "cell_type": "code",
   "execution_count": 32,
   "id": "choice-boutique",
   "metadata": {},
   "outputs": [],
   "source": [
    "gla_v2 = sumita.SumitaGlass(gname)"
   ]
  },
  {
   "cell_type": "code",
   "execution_count": 33,
   "id": "black-ready",
   "metadata": {},
   "outputs": [
    {
     "data": {
      "text/plain": [
       "1.43742"
      ]
     },
     "execution_count": 33,
     "metadata": {},
     "output_type": "execute_result"
    }
   ],
   "source": [
    "gla_v2.meas_rindex('F')"
   ]
  },
  {
   "cell_type": "code",
   "execution_count": 34,
   "id": "immune-garage",
   "metadata": {},
   "outputs": [
    {
     "data": {
      "text/plain": [
       "'434.95'"
      ]
     },
     "execution_count": 34,
     "metadata": {},
     "output_type": "execute_result"
    }
   ],
   "source": [
    "gla_v2.glass_code()"
   ]
  },
  {
   "cell_type": "code",
   "execution_count": null,
   "id": "interpreted-insert",
   "metadata": {},
   "outputs": [],
   "source": []
  }
 ],
 "metadata": {
  "kernelspec": {
   "display_name": "Python 3 (ipykernel)",
   "language": "python",
   "name": "python3"
  },
  "language_info": {
   "codemirror_mode": {
    "name": "ipython",
    "version": 3
   },
   "file_extension": ".py",
   "mimetype": "text/x-python",
   "name": "python",
   "nbconvert_exporter": "python",
   "pygments_lexer": "ipython3",
   "version": "3.8.10"
  }
 },
 "nbformat": 4,
 "nbformat_minor": 5
}
