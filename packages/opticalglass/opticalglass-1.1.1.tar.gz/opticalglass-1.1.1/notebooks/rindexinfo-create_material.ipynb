{
 "cells": [
  {
   "cell_type": "code",
   "execution_count": 1,
   "id": "warming-laugh",
   "metadata": {},
   "outputs": [],
   "source": [
    "import sys\n",
    "import numpy as np\n",
    "from pathlib import Path\n",
    "import fnmatch\n",
    "import os\n",
    "import io\n",
    "from opticalglass import util\n",
    "import matplotlib.pyplot as plt"
   ]
  },
  {
   "cell_type": "code",
   "execution_count": 2,
   "id": "cleared-projection",
   "metadata": {},
   "outputs": [],
   "source": [
    "from opticalglass import rindexinfo\n",
    "from opticalglass.rindexinfo import summary_plots, get_glassname_from_filestr\n",
    "\n",
    "from opticalglass.glassfactory import create_glass"
   ]
  },
  {
   "cell_type": "code",
   "execution_count": 3,
   "id": "portable-sixth",
   "metadata": {},
   "outputs": [],
   "source": [
    "#import requests"
   ]
  },
  {
   "cell_type": "markdown",
   "id": "c08b9459-4c29-45d4-8d00-f8675829f439",
   "metadata": {},
   "source": [
    "# Get a list of all the Yaml files under the database root"
   ]
  },
  {
   "cell_type": "code",
   "execution_count": 4,
   "id": "armed-ukraine",
   "metadata": {},
   "outputs": [],
   "source": [
    "db_root = '/Users/Mike/Developer/PyProjects/refractiveindexinfo/database'\n",
    "path_root = Path(db_root)"
   ]
  },
  {
   "cell_type": "code",
   "execution_count": 5,
   "id": "adjustable-proposal",
   "metadata": {},
   "outputs": [
    {
     "data": {
      "text/plain": [
       "'/Users/Mike/Developer/PyProjects/opticalglass/notebooks'"
      ]
     },
     "execution_count": 5,
     "metadata": {},
     "output_type": "execute_result"
    }
   ],
   "source": [
    "os.getcwd()"
   ]
  },
  {
   "cell_type": "code",
   "execution_count": 6,
   "id": "useful-prediction",
   "metadata": {},
   "outputs": [],
   "source": [
    "os.chdir(db_root)"
   ]
  },
  {
   "cell_type": "code",
   "execution_count": 7,
   "id": "sustainable-politics",
   "metadata": {},
   "outputs": [],
   "source": [
    "log = []\n",
    "\n",
    "# Redirect stderr\n",
    "class writer(io.TextIOBase):\n",
    "    def write(self, data):\n",
    "        log.append(data)\n",
    "        return len(data)\n",
    "\n",
    "sys.stderr = writer()"
   ]
  },
  {
   "cell_type": "code",
   "execution_count": 8,
   "id": "complicated-carol",
   "metadata": {
    "tags": []
   },
   "outputs": [],
   "source": [
    "files = []\n",
    "offset = len(db_root)\n",
    "for root, dirnames, filenames in os.walk(db_root):\n",
    "#    print(f\"{root[offset:]}\")\n",
    "    for filename in fnmatch.filter(filenames, '*.yml'):\n",
    "#        print(f\"    {filename}\")\n",
    "        files.append(os.path.join(root, filename))"
   ]
  },
  {
   "cell_type": "code",
   "execution_count": 9,
   "id": "collaborative-exemption",
   "metadata": {},
   "outputs": [
    {
     "data": {
      "text/plain": [
       "2827"
      ]
     },
     "execution_count": 9,
     "metadata": {},
     "output_type": "execute_result"
    }
   ],
   "source": [
    "len(files)"
   ]
  },
  {
   "cell_type": "raw",
   "id": "ac7b913d-365d-415b-9dd8-9d2613a53b27",
   "metadata": {},
   "source": [
    "def summary_plots(opt_medium, opt_medium_yaml):\n",
    "    \"\"\" plot refractive index and thruput data, when available. \"\"\"\n",
    "    print(f\"{[d['type'] for d in opt_medium_yaml['DATA']]}\")\n",
    "\n",
    "    plt.plot(opt_medium.wvls, opt_medium.calc_rindex(opt_medium.wvls), label='ref index')\n",
    "\n",
    "    if getattr(opt_medium, 'kvals', None) is not None:\n",
    "        plt.plot(opt_medium.kvals_wvls, opt_medium.kvals, label='k value')\n",
    "        plt.plot(*opt_medium.transmission_data(), label='T @ 10mm')\n",
    "#        plt.plot(opt_medium.kvals_wvls, opt_medium.transmission_data(), label='T @ 10mm')\n",
    "\n",
    "    plt.title(f\"{opt_medium.catalog_name()}: {opt_medium.name()}\")\n",
    "    plt.xlabel('wavelength (nm)')\n",
    "\n",
    "    plt.legend(loc='center left', bbox_to_anchor=(1, 0.5))"
   ]
  },
  {
   "cell_type": "raw",
   "id": "df0cebea-fbb8-48fa-bce3-09d9d885ee0f",
   "metadata": {},
   "source": [
    "def get_glassname_from_filestr(filestr: str):\n",
    "    \"\"\" try to construct a name and catalog from the filename/url \"\"\"\n",
    "    # strip off `.yml` and take final partition\n",
    "    full_db_path = filestr[:-4].partition('database/data-')[-1][3:]\n",
    "    name_catalog = full_db_path.split('/')\n",
    "    catalog = 'rii-'\n",
    "    if name_catalog[0] == 'glass' or name_catalog[0] == 'other':\n",
    "        catalog += name_catalog[1]\n",
    "        name_catalog = name_catalog[2:]\n",
    "    else:\n",
    "        catalog += name_catalog[0]\n",
    "        name_catalog = name_catalog[1:]\n",
    "\n",
    "    if len(name_catalog) == 1:\n",
    "        name = name_catalog[0]\n",
    "    elif len(name_catalog) == 2:\n",
    "        name = f\"{name_catalog[0]} [{name_catalog[1]}]\"\n",
    "    else:\n",
    "        name = name_catalog[0]\n",
    "        for subname in name_catalog[1:]:\n",
    "            name += '-' + subname\n",
    "\n",
    "    return name, catalog"
   ]
  },
  {
   "cell_type": "code",
   "execution_count": 10,
   "id": "9ea84963-1d9f-4bc6-b21d-574379755001",
   "metadata": {},
   "outputs": [],
   "source": [
    "url = 'https://refractiveindex.info/database/data/organic/(C16H14O3)n%20-%20polycarbonate/Zhang.yml'\n",
    "url = 'https://refractiveindex.info/database/data-nk/organic/(C16H14O3)n%20-%20polycarbonate/Zhang.yml'\n",
    "fname = '/Users/Mike/Developer/PyProjects/refractiveindexinfo/database/data-nk/organic/(C16H14O3)n - polycarbonate/Zhang.yml'"
   ]
  },
  {
   "cell_type": "code",
   "execution_count": 11,
   "id": "bd53e465-2a20-49ac-a7e7-b9f8396e4c52",
   "metadata": {},
   "outputs": [
    {
     "data": {
      "text/plain": [
       "('organic/(C16H14O3)n%20-%20polycarbonate/Zhang',\n",
       " ['organic', '(C16H14O3)n%20-%20polycarbonate', 'Zhang'])"
      ]
     },
     "execution_count": 11,
     "metadata": {},
     "output_type": "execute_result"
    }
   ],
   "source": [
    "full_db_path = url[:-4].partition('database/data-nk/')[2]\n",
    "name_catalog = full_db_path.split('/')\n",
    "full_db_path, name_catalog"
   ]
  },
  {
   "cell_type": "code",
   "execution_count": 12,
   "id": "1da0e5f6-8d34-4777-8b43-ac706d3e856d",
   "metadata": {},
   "outputs": [
    {
     "data": {
      "text/plain": [
       "['organic', '(C16H14O3)n - polycarbonate', 'Zhang.yml']"
      ]
     },
     "execution_count": 12,
     "metadata": {},
     "output_type": "execute_result"
    }
   ],
   "source": [
    "fname.partition('database/data-nk/')[2].split('/')"
   ]
  },
  {
   "cell_type": "code",
   "execution_count": 13,
   "id": "559653aa-ec00-4edb-b65a-f46902b06991",
   "metadata": {},
   "outputs": [
    {
     "data": {
      "text/plain": [
       "('data-nk', '(C16H14O3)n - polycarbonate [Zhang.yml]', 'rii-organic')"
      ]
     },
     "execution_count": 13,
     "metadata": {},
     "output_type": "execute_result"
    }
   ],
   "source": [
    "get_glassname_from_filestr(fname)"
   ]
  },
  {
   "cell_type": "markdown",
   "id": "5564385f-5023-4a0a-be7b-a7caf41fac15",
   "metadata": {},
   "source": [
    "## Polycarbonate"
   ]
  },
  {
   "cell_type": "code",
   "execution_count": 14,
   "id": "2434b3e5-61e9-4476-8ec9-1af225a18714",
   "metadata": {},
   "outputs": [
    {
     "ename": "TypeError",
     "evalue": "tuple indices must be integers or slices, not str",
     "output_type": "error",
     "traceback": [
      "\u001b[0;31m---------------------------------------------------------------------------\u001b[0m",
      "\u001b[0;31mTypeError\u001b[0m                                 Traceback (most recent call last)",
      "\u001b[0;32m/var/folders/4z/p2jynsyn64qcg_j024rv_3vw0000gn/T/ipykernel_52771/1651864404.py\u001b[0m in \u001b[0;36m<cell line: 4>\u001b[0;34m()\u001b[0m\n\u001b[1;32m      2\u001b[0m \u001b[0mpolycarb_yaml\u001b[0m\u001b[0;34m,\u001b[0m \u001b[0mname\u001b[0m\u001b[0;34m,\u001b[0m \u001b[0mcatalog\u001b[0m \u001b[0;34m=\u001b[0m \u001b[0mrindexinfo\u001b[0m\u001b[0;34m.\u001b[0m\u001b[0mread_rii_url\u001b[0m\u001b[0;34m(\u001b[0m\u001b[0mpolycarb_url\u001b[0m\u001b[0;34m)\u001b[0m\u001b[0;34m\u001b[0m\u001b[0;34m\u001b[0m\u001b[0m\n\u001b[1;32m      3\u001b[0m \u001b[0mpolycarb\u001b[0m \u001b[0;34m=\u001b[0m \u001b[0mrindexinfo\u001b[0m\u001b[0;34m.\u001b[0m\u001b[0mcreate_material\u001b[0m\u001b[0;34m(\u001b[0m\u001b[0mpolycarb_yaml\u001b[0m\u001b[0;34m,\u001b[0m \u001b[0mname\u001b[0m\u001b[0;34m,\u001b[0m \u001b[0mcatalog\u001b[0m\u001b[0;34m)\u001b[0m\u001b[0;34m\u001b[0m\u001b[0;34m\u001b[0m\u001b[0m\n\u001b[0;32m----> 4\u001b[0;31m \u001b[0msummary_plots\u001b[0m\u001b[0;34m(\u001b[0m\u001b[0mpolycarb\u001b[0m\u001b[0;34m,\u001b[0m \u001b[0mpolycarb_yaml\u001b[0m\u001b[0;34m)\u001b[0m\u001b[0;34m\u001b[0m\u001b[0;34m\u001b[0m\u001b[0m\n\u001b[0m",
      "\u001b[0;32m~/Developer/PyProjects/opticalglass/src/opticalglass/rindexinfo.py\u001b[0m in \u001b[0;36msummary_plots\u001b[0;34m(opt_medium, opt_medium_yaml)\u001b[0m\n\u001b[1;32m    474\u001b[0m     \u001b[0;32mimport\u001b[0m \u001b[0mmatplotlib\u001b[0m\u001b[0;34m.\u001b[0m\u001b[0mpyplot\u001b[0m \u001b[0;32mas\u001b[0m \u001b[0mplt\u001b[0m\u001b[0;34m\u001b[0m\u001b[0;34m\u001b[0m\u001b[0m\n\u001b[1;32m    475\u001b[0m     \u001b[0;32mif\u001b[0m \u001b[0mopt_medium_yaml\u001b[0m \u001b[0;32mis\u001b[0m \u001b[0;32mnot\u001b[0m \u001b[0;32mNone\u001b[0m\u001b[0;34m:\u001b[0m\u001b[0;34m\u001b[0m\u001b[0;34m\u001b[0m\u001b[0m\n\u001b[0;32m--> 476\u001b[0;31m         \u001b[0mprint\u001b[0m\u001b[0;34m(\u001b[0m\u001b[0;34mf\"{[d['type'] for d in opt_medium_yaml['DATA']]}\"\u001b[0m\u001b[0;34m)\u001b[0m\u001b[0;34m\u001b[0m\u001b[0;34m\u001b[0m\u001b[0m\n\u001b[0m\u001b[1;32m    477\u001b[0m \u001b[0;34m\u001b[0m\u001b[0m\n\u001b[1;32m    478\u001b[0m     \u001b[0mplt\u001b[0m\u001b[0;34m.\u001b[0m\u001b[0mplot\u001b[0m\u001b[0;34m(\u001b[0m\u001b[0mopt_medium\u001b[0m\u001b[0;34m.\u001b[0m\u001b[0mwvls\u001b[0m\u001b[0;34m,\u001b[0m \u001b[0mopt_medium\u001b[0m\u001b[0;34m.\u001b[0m\u001b[0mcalc_rindex\u001b[0m\u001b[0;34m(\u001b[0m\u001b[0mopt_medium\u001b[0m\u001b[0;34m.\u001b[0m\u001b[0mwvls\u001b[0m\u001b[0;34m)\u001b[0m\u001b[0;34m,\u001b[0m \u001b[0mlabel\u001b[0m\u001b[0;34m=\u001b[0m\u001b[0;34m'ref index'\u001b[0m\u001b[0;34m)\u001b[0m\u001b[0;34m\u001b[0m\u001b[0;34m\u001b[0m\u001b[0m\n",
      "\u001b[0;31mTypeError\u001b[0m: tuple indices must be integers or slices, not str"
     ]
    }
   ],
   "source": [
    "polycarb_url = 'https://refractiveindex.info/database/data-nk/organic/(C16H14O3)n%20-%20polycarbonate/Zhang.yml'\n",
    "polycarb_yaml, name, catalog = rindexinfo.read_rii_url(polycarb_url)\n",
    "polycarb = rindexinfo.create_material(polycarb_yaml, name, catalog)\n",
    "summary_plots(polycarb, polycarb_yaml)"
   ]
  },
  {
   "cell_type": "code",
   "execution_count": null,
   "id": "354d40c8-b56f-44fe-b264-da12da313e87",
   "metadata": {},
   "outputs": [],
   "source": [
    "polycarb_url[46:].split('/')"
   ]
  },
  {
   "cell_type": "markdown",
   "id": "measured-remark",
   "metadata": {},
   "source": [
    "## Ohara FPL53"
   ]
  },
  {
   "cell_type": "code",
   "execution_count": null,
   "id": "c572a0ee-524a-41ac-8210-ead07509b48b",
   "metadata": {},
   "outputs": [],
   "source": [
    "FPL53_url = 'https://refractiveindex.info/database/data-nk/glass/ohara/FPL53.yml'\n",
    "FPL53_yaml, name, catalog = rindexinfo.read_rii_url(FPL53_url)\n",
    "FPL53 = rindexinfo.create_material(FPL53_yaml, name, catalog)\n",
    "summary_plots(FPL53, FPL53_yaml)"
   ]
  },
  {
   "cell_type": "code",
   "execution_count": null,
   "id": "00a59ad8-eb73-4572-94c1-7c3d0eed0534",
   "metadata": {},
   "outputs": [],
   "source": [
    "get_glassname_from_filestr(FPL53_url)"
   ]
  },
  {
   "cell_type": "markdown",
   "id": "revolutionary-territory",
   "metadata": {},
   "source": [
    "## CaF2"
   ]
  },
  {
   "cell_type": "code",
   "execution_count": null,
   "id": "909c58c0-17aa-4502-90ca-4d995cee3738",
   "metadata": {},
   "outputs": [],
   "source": [
    "caf2_url = 'https://refractiveindex.info/database/data-nk/main/CaF2/Daimon-20.yml'\n",
    "caf2_yaml, name, catalog = rindexinfo.read_rii_url(caf2_url)\n",
    "caf2 = rindexinfo.create_material(caf2_yaml, name, catalog)\n",
    "summary_plots(caf2, caf2_yaml)"
   ]
  },
  {
   "cell_type": "markdown",
   "id": "velvet-strip",
   "metadata": {},
   "source": [
    "## SiO2"
   ]
  },
  {
   "cell_type": "code",
   "execution_count": null,
   "id": "cd33190e-cf00-41cf-a96f-89f70d0d3f5d",
   "metadata": {},
   "outputs": [],
   "source": [
    "sio2_url = 'https://refractiveindex.info/database/data-nk/main/SiO2/Malitson.yml'\n",
    "sio2 = create_glass(sio2_url, \"rindexinfo\")\n",
    "summary_plots(sio2, sio2.yaml_data)"
   ]
  },
  {
   "cell_type": "code",
   "execution_count": null,
   "id": "f286611c-3485-4124-8491-fccbed11b33e",
   "metadata": {},
   "outputs": [],
   "source": [
    "sio2_url = 'https://refractiveindex.info/database/data-nk/main/SiO2/Malitson.yml'\n",
    "sio2 = rindexinfo.create_glass(sio2_url, \"rindexinfo\")\n",
    "summary_plots(sio2, sio2.yaml_data)"
   ]
  },
  {
   "cell_type": "code",
   "execution_count": 19,
   "id": "9246d475-f051-4da8-9b37-588ec1b953cb",
   "metadata": {},
   "outputs": [
    {
     "name": "stdout",
     "output_type": "stream",
     "text": [
      "['formula 1']\n"
     ]
    },
    {
     "data": {
      "image/png": "[encoded data removed]",
      "text/plain": [
       "<Figure size 432x288 with 1 Axes>"
      ]
     },
     "metadata": {
      "needs_background": "light"
     },
     "output_type": "display_data"
    }
   ],
   "source": [
    "sio2_url = 'https://refractiveindex.info/database/data-nk/main/SiO2/Malitson.yml'\n",
    "sio2_yaml, name, catalog = rindexinfo.read_rii_url(sio2_url)\n",
    "sio2 = rindexinfo.create_material(sio2_yaml, name, catalog)\n",
    "summary_plots(sio2, sio2_yaml[0])"
   ]
  },
  {
   "cell_type": "code",
   "execution_count": 21,
   "id": "13c257be-69de-48e7-b8ee-cd06f3f5f271",
   "metadata": {},
   "outputs": [
    {
     "data": {
      "text/plain": [
       "['main', 'SiO2', 'Malitson.yml']"
      ]
     },
     "execution_count": 21,
     "metadata": {},
     "output_type": "execute_result"
    }
   ],
   "source": [
    "sio2_url[46:].split('/')"
   ]
  },
  {
   "cell_type": "markdown",
   "id": "improved-white",
   "metadata": {},
   "source": [
    "## Germanium"
   ]
  },
  {
   "cell_type": "code",
   "execution_count": 22,
   "id": "ce3b3f0e-6d96-414e-a8ce-eb01984d19e0",
   "metadata": {},
   "outputs": [
    {
     "name": "stdout",
     "output_type": "stream",
     "text": [
      "['tabulated nk']\n"
     ]
    },
    {
     "data": {
      "image/png": "[encoded data removed]",
      "text/plain": [
       "<Figure size 432x288 with 1 Axes>"
      ]
     },
     "metadata": {
      "needs_background": "light"
     },
     "output_type": "display_data"
    }
   ],
   "source": [
    "ge_url = 'https://refractiveindex.info/database/data-nk/main/Ge/Amotchkina.yml'\n",
    "ge_yaml, name, catalog = rindexinfo.read_rii_url(ge_url)\n",
    "ge = rindexinfo.create_material(ge_yaml, name, catalog)\n",
    "summary_plots(ge, ge_yaml)"
   ]
  },
  {
   "cell_type": "markdown",
   "id": "918a58ea-e24f-49f5-902f-4a3d8f70655e",
   "metadata": {},
   "source": [
    "## ZnS from data-n2"
   ]
  },
  {
   "cell_type": "code",
   "execution_count": 23,
   "id": "19024a19-45fb-48da-8e44-0348582088a3",
   "metadata": {},
   "outputs": [
    {
     "name": "stdout",
     "output_type": "stream",
     "text": [
      "Warning: data-n2 format not supported yet.\n",
      "['tabulated n2']\n"
     ]
    },
    {
     "ename": "AttributeError",
     "evalue": "'NoneType' object has no attribute 'wvls'",
     "output_type": "error",
     "traceback": [
      "\u001b[0;31m---------------------------------------------------------------------------\u001b[0m",
      "\u001b[0;31mAttributeError\u001b[0m                            Traceback (most recent call last)",
      "\u001b[0;32m/var/folders/4z/p2jynsyn64qcg_j024rv_3vw0000gn/T/ipykernel_52221/1838694210.py\u001b[0m in \u001b[0;36m<cell line: 4>\u001b[0;34m()\u001b[0m\n\u001b[1;32m      2\u001b[0m \u001b[0mzns_yaml\u001b[0m\u001b[0;34m,\u001b[0m \u001b[0mname\u001b[0m\u001b[0;34m,\u001b[0m \u001b[0mcatalog\u001b[0m \u001b[0;34m=\u001b[0m \u001b[0mrindexinfo\u001b[0m\u001b[0;34m.\u001b[0m\u001b[0mread_rii_url\u001b[0m\u001b[0;34m(\u001b[0m\u001b[0mzns_url\u001b[0m\u001b[0;34m)\u001b[0m\u001b[0;34m\u001b[0m\u001b[0;34m\u001b[0m\u001b[0m\n\u001b[1;32m      3\u001b[0m \u001b[0mzns\u001b[0m \u001b[0;34m=\u001b[0m \u001b[0mrindexinfo\u001b[0m\u001b[0;34m.\u001b[0m\u001b[0mcreate_material\u001b[0m\u001b[0;34m(\u001b[0m\u001b[0mzns_yaml\u001b[0m\u001b[0;34m,\u001b[0m \u001b[0mname\u001b[0m\u001b[0;34m,\u001b[0m \u001b[0mcatalog\u001b[0m\u001b[0;34m)\u001b[0m\u001b[0;34m\u001b[0m\u001b[0;34m\u001b[0m\u001b[0m\n\u001b[0;32m----> 4\u001b[0;31m \u001b[0msummary_plots\u001b[0m\u001b[0;34m(\u001b[0m\u001b[0mzns\u001b[0m\u001b[0;34m,\u001b[0m \u001b[0mzns_yaml\u001b[0m\u001b[0;34m)\u001b[0m\u001b[0;34m\u001b[0m\u001b[0;34m\u001b[0m\u001b[0m\n\u001b[0m",
      "\u001b[0;32m~/Developer/PyProjects/opticalglass/src/opticalglass/rindexinfo.py\u001b[0m in \u001b[0;36msummary_plots\u001b[0;34m(opt_medium, opt_medium_yaml)\u001b[0m\n\u001b[1;32m    476\u001b[0m         \u001b[0mprint\u001b[0m\u001b[0;34m(\u001b[0m\u001b[0;34mf\"{[d['type'] for d in opt_medium_yaml[0]['DATA']]}\"\u001b[0m\u001b[0;34m)\u001b[0m\u001b[0;34m\u001b[0m\u001b[0;34m\u001b[0m\u001b[0m\n\u001b[1;32m    477\u001b[0m \u001b[0;34m\u001b[0m\u001b[0m\n\u001b[0;32m--> 478\u001b[0;31m     \u001b[0mplt\u001b[0m\u001b[0;34m.\u001b[0m\u001b[0mplot\u001b[0m\u001b[0;34m(\u001b[0m\u001b[0mopt_medium\u001b[0m\u001b[0;34m.\u001b[0m\u001b[0mwvls\u001b[0m\u001b[0;34m,\u001b[0m \u001b[0mopt_medium\u001b[0m\u001b[0;34m.\u001b[0m\u001b[0mcalc_rindex\u001b[0m\u001b[0;34m(\u001b[0m\u001b[0mopt_medium\u001b[0m\u001b[0;34m.\u001b[0m\u001b[0mwvls\u001b[0m\u001b[0;34m)\u001b[0m\u001b[0;34m,\u001b[0m \u001b[0mlabel\u001b[0m\u001b[0;34m=\u001b[0m\u001b[0;34m'ref index'\u001b[0m\u001b[0;34m)\u001b[0m\u001b[0;34m\u001b[0m\u001b[0;34m\u001b[0m\u001b[0m\n\u001b[0m\u001b[1;32m    479\u001b[0m \u001b[0;34m\u001b[0m\u001b[0m\n\u001b[1;32m    480\u001b[0m     \u001b[0;32mif\u001b[0m \u001b[0mgetattr\u001b[0m\u001b[0;34m(\u001b[0m\u001b[0mopt_medium\u001b[0m\u001b[0;34m,\u001b[0m \u001b[0;34m'kvals'\u001b[0m\u001b[0;34m,\u001b[0m \u001b[0;32mNone\u001b[0m\u001b[0;34m)\u001b[0m \u001b[0;32mis\u001b[0m \u001b[0;32mnot\u001b[0m \u001b[0;32mNone\u001b[0m\u001b[0;34m:\u001b[0m\u001b[0;34m\u001b[0m\u001b[0;34m\u001b[0m\u001b[0m\n",
      "\u001b[0;31mAttributeError\u001b[0m: 'NoneType' object has no attribute 'wvls'"
     ]
    }
   ],
   "source": [
    "zns_url = 'https://refractiveindex.info/database/data-n2/main/ZnS/Adair-o.yml'\n",
    "zns_yaml, name, catalog = rindexinfo.read_rii_url(zns_url)\n",
    "zns = rindexinfo.create_material(zns_yaml, name, catalog)\n",
    "summary_plots(zns, zns_yaml)"
   ]
  },
  {
   "cell_type": "code",
   "execution_count": null,
   "id": "3816993a-40fd-4441-b0b1-f9fb5e9e85a8",
   "metadata": {},
   "outputs": [],
   "source": [
    "zns_yaml"
   ]
  },
  {
   "cell_type": "code",
   "execution_count": null,
   "id": "e9f361ab-703f-430b-bc86-96ea7a433c1a",
   "metadata": {},
   "outputs": [],
   "source": [
    "full_db_path = zns_url[zns_url.find('database/'):]\n",
    "name_catalog = full_db_path.split('/')[2:]\n",
    "name_catalog"
   ]
  },
  {
   "cell_type": "code",
   "execution_count": null,
   "id": "7cc65bcb-bfb4-4372-a4d4-faba8f49a86c",
   "metadata": {},
   "outputs": [],
   "source": []
  },
  {
   "cell_type": "code",
   "execution_count": null,
   "id": "555d49bf-deef-4c8a-8237-c4d57500c6aa",
   "metadata": {},
   "outputs": [],
   "source": []
  },
  {
   "cell_type": "code",
   "execution_count": null,
   "id": "b1127e88-b73c-43a4-a3cb-707f8ee36e4f",
   "metadata": {},
   "outputs": [],
   "source": [
    "full_db_path = zns_url[:-4].partition('database/data-')[-1][3:]\n",
    "#full_db_path = zns_url[:-4].partition('database/data-n2/')[2]\n",
    "name_catalog = full_db_path.split('/')\n",
    "full_db_path, name_catalog"
   ]
  },
  {
   "cell_type": "code",
   "execution_count": null,
   "id": "46e606bd-70fe-4c93-a5c9-42f2f5d44f32",
   "metadata": {},
   "outputs": [],
   "source": [
    "zns_url[:-4]"
   ]
  },
  {
   "cell_type": "code",
   "execution_count": null,
   "id": "67dd42b7-f9be-422b-8435-30d216b55b48",
   "metadata": {},
   "outputs": [],
   "source": [
    "zns_url[:-4].partition('database/data-n2/')"
   ]
  },
  {
   "cell_type": "code",
   "execution_count": null,
   "id": "5558c4de-baf3-4973-bd12-65bf56d3ed1a",
   "metadata": {},
   "outputs": [],
   "source": []
  },
  {
   "cell_type": "markdown",
   "id": "442487d0-b18c-44be-8063-25675716fc4e",
   "metadata": {},
   "source": [
    "# PEDOT"
   ]
  },
  {
   "cell_type": "code",
   "execution_count": null,
   "id": "b97639c3-e758-4d39-b657-959b7f61c19e",
   "metadata": {},
   "outputs": [],
   "source": [
    "pedot_filename = files[239]\n",
    "pedot_filename"
   ]
  },
  {
   "cell_type": "code",
   "execution_count": null,
   "id": "7d666880-3328-4df8-8687-372230e860d1",
   "metadata": {},
   "outputs": [],
   "source": [
    "pedot_yaml, name, catalog = rindexinfo.read_rii_file(Path(pedot_filename))\n",
    "pedot = rindexinfo.create_material(pedot_yaml, name, catalog)\n",
    "summary_plots(pedot, pedot_yaml)"
   ]
  },
  {
   "cell_type": "markdown",
   "id": "1c0e26a3-c82d-4754-b7f4-9f82f882ab68",
   "metadata": {},
   "source": [
    "# CCl4 - carbon tetrachloride"
   ]
  },
  {
   "cell_type": "code",
   "execution_count": null,
   "id": "ee1cf4c5-392e-417b-9626-7fa668814cc2",
   "metadata": {},
   "outputs": [],
   "source": [
    "filename = files[108]\n",
    "filename"
   ]
  },
  {
   "cell_type": "code",
   "execution_count": null,
   "id": "5bf95f7f-848f-47f1-b7a4-529cd84a5d73",
   "metadata": {},
   "outputs": [],
   "source": [
    "CCl4_yaml, name, catalog = rindexinfo.read_rii_file(Path(filename))\n",
    "CCl4 = rindexinfo.create_material(CCl4_yaml, name, catalog)\n",
    "summary_plots(CCl4, CCl4_yaml)"
   ]
  },
  {
   "cell_type": "markdown",
   "id": "85666a2c-afec-4ccc-9430-554bd6730ef3",
   "metadata": {},
   "source": [
    "# F1 LZOS"
   ]
  },
  {
   "cell_type": "code",
   "execution_count": null,
   "id": "5efac642-2bf4-44a5-86b3-bb663d9c5fa8",
   "metadata": {},
   "outputs": [],
   "source": [
    "filename = files[375]\n",
    "filename"
   ]
  },
  {
   "cell_type": "code",
   "execution_count": null,
   "id": "0dea5a83-7886-47e3-a55a-7334264dcf61",
   "metadata": {},
   "outputs": [],
   "source": [
    "F1_yaml, name, catalog = rindexinfo.read_rii_file(Path(filename))\n",
    "F1 = rindexinfo.create_material(F1_yaml, name, catalog)\n",
    "summary_plots(F1, F1_yaml)"
   ]
  },
  {
   "cell_type": "code",
   "execution_count": null,
   "id": "30d71c78-fde7-41a3-9952-6588fc0934ac",
   "metadata": {},
   "outputs": [],
   "source": [
    "vars(F1)"
   ]
  },
  {
   "cell_type": "markdown",
   "id": "499d2707-40b2-4983-b2ff-4df6b97e0e52",
   "metadata": {},
   "source": [
    "# MgF2"
   ]
  },
  {
   "cell_type": "code",
   "execution_count": null,
   "id": "026ebddd-d42f-4678-9179-2a948c6146c0",
   "metadata": {},
   "outputs": [],
   "source": [
    "filename = files[2234]\n",
    "filename"
   ]
  },
  {
   "cell_type": "code",
   "execution_count": null,
   "id": "42870051-f55a-4bc0-adb2-e2c1d6ea0ad1",
   "metadata": {},
   "outputs": [],
   "source": [
    "MgF2_yaml, name, catalog = rindexinfo.read_rii_file(Path(filename))\n",
    "MgF2 = rindexinfo.create_material(MgF2_yaml, name, catalog)\n",
    "summary_plots(MgF2, MgF2_yaml)"
   ]
  },
  {
   "cell_type": "markdown",
   "id": "e1d557b2-3cd8-4145-8043-d542de740a39",
   "metadata": {},
   "source": [
    "# KNbO3"
   ]
  },
  {
   "cell_type": "code",
   "execution_count": null,
   "id": "04a512f4-d0b0-4d49-afd6-70f03750e768",
   "metadata": {},
   "outputs": [],
   "source": [
    "filename = files[2173]\n",
    "filename"
   ]
  },
  {
   "cell_type": "code",
   "execution_count": null,
   "id": "0d4f6687-6a88-4c6f-9b89-328af65a604d",
   "metadata": {},
   "outputs": [],
   "source": [
    "KNbO3_yaml, name, catalog = rindexinfo.read_rii_file(Path(filename))\n",
    "KNbO3 = rindexinfo.create_material(KNbO3_yaml, name, catalog)\n",
    "summary_plots(KNbO3, KNbO3_yaml)"
   ]
  },
  {
   "cell_type": "code",
   "execution_count": null,
   "id": "f9ea823d-3d68-4ccf-b6cf-470313f3f28d",
   "metadata": {},
   "outputs": [],
   "source": [
    "KNbO3.data_range"
   ]
  },
  {
   "cell_type": "code",
   "execution_count": null,
   "id": "a690c674-8447-4fe7-9af8-a7fae13cb586",
   "metadata": {},
   "outputs": [],
   "source": [
    "KNbO3_yaml"
   ]
  },
  {
   "cell_type": "code",
   "execution_count": null,
   "id": "2827354b-8e7c-4d28-891b-b9aca23398ca",
   "metadata": {},
   "outputs": [],
   "source": [
    "KNbO3.coefs"
   ]
  },
  {
   "cell_type": "code",
   "execution_count": null,
   "id": "e0737935-db7f-49aa-86db-89396a7577a4",
   "metadata": {},
   "outputs": [],
   "source": [
    "len(KNbO3.coefs)"
   ]
  },
  {
   "cell_type": "markdown",
   "id": "532ac0b6-3242-4a2f-b408-a5b14affbe97",
   "metadata": {},
   "source": [
    "# Liquid crystal MLC-6608"
   ]
  },
  {
   "cell_type": "code",
   "execution_count": null,
   "id": "9f9676f9-ce34-469a-a1db-d2b4cc0a56d8",
   "metadata": {},
   "outputs": [],
   "source": [
    "filename = files[260]\n",
    "filename"
   ]
  },
  {
   "cell_type": "code",
   "execution_count": null,
   "id": "cd22f8d6-a49c-47bb-b596-1c54991914fb",
   "metadata": {},
   "outputs": [],
   "source": [
    "LC_yaml, name, catalog = rindexinfo.read_rii_file(Path(filename))\n",
    "LC = rindexinfo.create_material(LC_yaml, name, catalog)\n",
    "summary_plots(LC, LC_yaml)"
   ]
  },
  {
   "cell_type": "code",
   "execution_count": null,
   "id": "bca43549-8f6d-4b26-b016-d85b4a91da44",
   "metadata": {},
   "outputs": [],
   "source": [
    "LC.data_range"
   ]
  },
  {
   "cell_type": "code",
   "execution_count": null,
   "id": "a2320635-aa08-45e2-a999-e35280355a5c",
   "metadata": {},
   "outputs": [],
   "source": [
    "2373"
   ]
  },
  {
   "cell_type": "markdown",
   "id": "613764ad-ac14-4490-8b18-85a5e82b4497",
   "metadata": {},
   "source": [
    "# CdS"
   ]
  },
  {
   "cell_type": "code",
   "execution_count": null,
   "id": "d829f9b8-478a-4ce2-8401-7bc060d9dba0",
   "metadata": {},
   "outputs": [],
   "source": [
    "filename = files[2373]\n",
    "filename"
   ]
  },
  {
   "cell_type": "code",
   "execution_count": null,
   "id": "75adfe12-5896-4be2-bf34-2d779b826775",
   "metadata": {},
   "outputs": [],
   "source": [
    "CdS_yaml, name, catalog = rindexinfo.read_rii_file(Path(filename))\n",
    "CdS = rindexinfo.create_material(CdS_yaml, name, catalog)\n",
    "summary_plots(CdS, CdS_yaml)"
   ]
  },
  {
   "cell_type": "code",
   "execution_count": null,
   "id": "2cf276b9-41f3-4697-b046-89e450287ea1",
   "metadata": {},
   "outputs": [],
   "source": [
    "CdS.data_range"
   ]
  },
  {
   "cell_type": "code",
   "execution_count": null,
   "id": "2ce665c7-c1bc-421d-b64c-3c8794e5d636",
   "metadata": {},
   "outputs": [],
   "source": [
    "CdS.coefs"
   ]
  },
  {
   "cell_type": "code",
   "execution_count": null,
   "id": "30f14e96-dfde-4489-9feb-1f0321d23cb5",
   "metadata": {},
   "outputs": [],
   "source": [
    "CdS_yaml['REFERENCES']"
   ]
  },
  {
   "cell_type": "markdown",
   "id": "a05aead5-c376-4f2c-a0f6-fc63f565f5dc",
   "metadata": {},
   "source": [
    "# PtAl2"
   ]
  },
  {
   "cell_type": "code",
   "execution_count": null,
   "id": "b5f67dad-b8d8-4861-bc29-ca6be3a512e8",
   "metadata": {},
   "outputs": [],
   "source": [
    "filename = files[179]\n",
    "filename"
   ]
  },
  {
   "cell_type": "code",
   "execution_count": null,
   "id": "9c73c5cf-ebc4-4c90-afc6-7a87b8d11651",
   "metadata": {},
   "outputs": [],
   "source": [
    "PtAl2_yaml, name, catalog = rindexinfo.read_rii_file(Path(filename))\n",
    "PtAl2 = rindexinfo.create_material(PtAl2_yaml, name, catalog)\n",
    "summary_plots(PtAl2, PtAl2_yaml)"
   ]
  },
  {
   "cell_type": "markdown",
   "id": "a084802e-b172-463c-85f6-56c78a25ddbe",
   "metadata": {},
   "source": [
    "# C2ClF3"
   ]
  },
  {
   "cell_type": "code",
   "execution_count": null,
   "id": "460b14e9-01ab-45ae-904d-0d061839104b",
   "metadata": {},
   "outputs": [],
   "source": [
    "filename = files[43]\n",
    "filename"
   ]
  },
  {
   "cell_type": "code",
   "execution_count": null,
   "id": "90df9794-3f42-4334-8064-892fde5c1739",
   "metadata": {},
   "outputs": [],
   "source": [
    "C2ClF3_yaml, name, catalog = rindexinfo.read_rii_file(Path(filename))\n",
    "try:\n",
    "    C2ClF3 = rindexinfo.create_material(C2ClF3_yaml, name, catalog)\n",
    "except Exception as err:\n",
    "    print(err)\n",
    "else:\n",
    "    summary_plots(C2ClF3, C2ClF3_yaml)"
   ]
  },
  {
   "cell_type": "code",
   "execution_count": null,
   "id": "c7e5b955-2e0d-42f3-86f6-db81c782c407",
   "metadata": {},
   "outputs": [],
   "source": [
    "C2ClF3_yaml"
   ]
  },
  {
   "cell_type": "code",
   "execution_count": null,
   "id": "7a3e8e86-f4ca-4c02-b967-a7e2ae25fba7",
   "metadata": {},
   "outputs": [],
   "source": []
  },
  {
   "cell_type": "code",
   "execution_count": null,
   "id": "6c4a62e9-f196-48d6-a9f5-866d55d512c4",
   "metadata": {},
   "outputs": [],
   "source": []
  }
 ],
 "metadata": {
  "kernelspec": {
   "display_name": "Python 3 (ipykernel)",
   "language": "python",
   "name": "python3"
  },
  "language_info": {
   "codemirror_mode": {
    "name": "ipython",
    "version": 3
   },
   "file_extension": ".py",
   "mimetype": "text/x-python",
   "name": "python",
   "nbconvert_exporter": "python",
   "pygments_lexer": "ipython3",
   "version": "3.8.13"
  }
 },
 "nbformat": 4,
 "nbformat_minor": 5
}
