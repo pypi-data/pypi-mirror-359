{
 "cells": [
  {
   "cell_type": "code",
   "execution_count": 1,
   "id": "warming-laugh",
   "metadata": {},
   "outputs": [],
   "source": [
    "from scipy.interpolate import interp1d\n",
    "import sys\n",
    "from parse import *\n",
    "import yaml\n",
    "import numpy as np\n",
    "#import cmath\n",
    "#import glob\n",
    "from sympy import * \n",
    "from getData import *\n",
    "import fnmatch\n",
    "import os\n",
    "import io\n",
    "from opticalglass import util\n",
    "import matplotlib.pyplot as plt"
   ]
  },
  {
   "cell_type": "code",
   "execution_count": 2,
   "id": "cleared-projection",
   "metadata": {},
   "outputs": [],
   "source": [
    "from opticalglass import rindexinfo\n",
    "from opticalglass.rindexinfo import summary_plots"
   ]
  },
  {
   "cell_type": "code",
   "execution_count": 3,
   "id": "portable-sixth",
   "metadata": {},
   "outputs": [],
   "source": [
    "import requests"
   ]
  },
  {
   "cell_type": "markdown",
   "id": "c08b9459-4c29-45d4-8d00-f8675829f439",
   "metadata": {},
   "source": [
    "# Get a list of all the Yaml files under the database root"
   ]
  },
  {
   "cell_type": "code",
   "execution_count": 4,
   "id": "armed-ukraine",
   "metadata": {},
   "outputs": [],
   "source": [
    "db_root = '/Users/Mike/Developer/PyProjects/refractiveindexinfo/database'"
   ]
  },
  {
   "cell_type": "code",
   "execution_count": 5,
   "id": "adjustable-proposal",
   "metadata": {},
   "outputs": [
    {
     "data": {
      "text/plain": [
       "'/Users/Mike/Developer/PyProjects/opticalglass/notebooks'"
      ]
     },
     "execution_count": 5,
     "metadata": {},
     "output_type": "execute_result"
    }
   ],
   "source": [
    "os.getcwd()"
   ]
  },
  {
   "cell_type": "code",
   "execution_count": 6,
   "id": "useful-prediction",
   "metadata": {},
   "outputs": [],
   "source": [
    "os.chdir(db_root)"
   ]
  },
  {
   "cell_type": "code",
   "execution_count": 7,
   "id": "sustainable-politics",
   "metadata": {},
   "outputs": [],
   "source": [
    "log = []\n",
    "\n",
    "# Redirect stderr\n",
    "class writer(io.TextIOBase):\n",
    "    def write(self, data):\n",
    "        log.append(data)\n",
    "        return len(data)\n",
    "\n",
    "sys.stderr = writer()"
   ]
  },
  {
   "cell_type": "code",
   "execution_count": 8,
   "id": "complicated-carol",
   "metadata": {},
   "outputs": [],
   "source": [
    "files = []\n",
    "for root, dirnames, filenames in os.walk(db_root):\n",
    "    for filename in fnmatch.filter(filenames, '*.yml'):\n",
    "        files.append(os.path.join(root, filename))"
   ]
  },
  {
   "cell_type": "code",
   "execution_count": 9,
   "id": "collaborative-exemption",
   "metadata": {},
   "outputs": [
    {
     "data": {
      "text/plain": [
       "2827"
      ]
     },
     "execution_count": 9,
     "metadata": {},
     "output_type": "execute_result"
    }
   ],
   "source": [
    "len(files)"
   ]
  },
  {
   "cell_type": "code",
   "execution_count": 10,
   "id": "least-species",
   "metadata": {},
   "outputs": [
    {
     "data": {
      "text/plain": [
       "'/Users/Mike/Developer/PyProjects/refractiveindexinfo/database/data/organic/(C16H14O3)n - polycarbonate/Zhang.yml'"
      ]
     },
     "execution_count": 10,
     "metadata": {},
     "output_type": "execute_result"
    }
   ],
   "source": [
    "files[11]"
   ]
  },
  {
   "cell_type": "markdown",
   "id": "1a04b916-4526-4542-a58d-227b45c2c314",
   "metadata": {},
   "source": [
    "# Survey the Yaml file directory tree"
   ]
  },
  {
   "cell_type": "code",
   "execution_count": 11,
   "id": "affected-opposition",
   "metadata": {},
   "outputs": [],
   "source": [
    "top_level_keys = util.Counter()\n",
    "data_list_len = util.Counter()\n",
    "data_types = util.Counter()\n",
    "data_data_keys = util.Counter()\n",
    "data_data_keys_dict = dict()\n",
    "data_type_keys = util.Counter()\n",
    "data_specs_keys = util.Counter()"
   ]
  },
  {
   "cell_type": "code",
   "execution_count": 12,
   "id": "seven-expense",
   "metadata": {},
   "outputs": [],
   "source": [
    "num_exceptions = 0\n",
    "for i, file in enumerate(files):\n",
    "    try:\n",
    "        yamlStream=open(file,'r')\n",
    "        allData=yaml.safe_load(yamlStream)\n",
    "        for k in allData.keys():\n",
    "            top_level_keys[k] += 1\n",
    "        num_ds = len(allData['DATA'])\n",
    "        allDataData = allData['DATA']\n",
    "        data_list_len[num_ds] += 1\n",
    "        for ds in allDataData:\n",
    "            data_type_keys[ds['type']] += 1\n",
    "            if not ds['type'] in data_data_keys_dict:\n",
    "                data_data_keys_dict[ds['type']] = [i]\n",
    "            else:\n",
    "                data_data_keys_dict[ds['type']].append(i)\n",
    "            for k in ds.keys():\n",
    "                data_data_keys[k] += 1\n",
    "        if num_ds == 1:\n",
    "            data_types[allDataData[0]['type']] += 1\n",
    "        else:\n",
    "            data_types[(allDataData[0]['type'], allDataData[1]['type'])] += 1\n",
    "        allDataSpecs = allData['SPECS']\n",
    "        for k in allDataSpecs.keys():\n",
    "            data_specs_keys[k] += 1\n",
    "    except:\n",
    "        num_exceptions += 1\n",
    "        pass"
   ]
  },
  {
   "cell_type": "code",
   "execution_count": 13,
   "id": "mounted-bookmark",
   "metadata": {},
   "outputs": [
    {
     "data": {
      "text/plain": [
       "{'REFERENCES': 2826, 'COMMENTS': 2222, 'DATA': 2826, 'SPECS': 2024}"
      ]
     },
     "execution_count": 13,
     "metadata": {},
     "output_type": "execute_result"
    }
   ],
   "source": [
    "top_level_keys"
   ]
  },
  {
   "cell_type": "code",
   "execution_count": 14,
   "id": "automotive-permit",
   "metadata": {},
   "outputs": [
    {
     "data": {
      "text/plain": [
       "{1: 1226, 2: 1600}"
      ]
     },
     "execution_count": 14,
     "metadata": {},
     "output_type": "execute_result"
    }
   ],
   "source": [
    "data_list_len"
   ]
  },
  {
   "cell_type": "code",
   "execution_count": 15,
   "id": "accepting-difficulty",
   "metadata": {},
   "outputs": [
    {
     "data": {
      "text/plain": [
       "{'type': 4426, 'wavelength_range': 2016, 'coefficients': 2016, 'data': 2410}"
      ]
     },
     "execution_count": 15,
     "metadata": {},
     "output_type": "execute_result"
    }
   ],
   "source": [
    "data_data_keys"
   ]
  },
  {
   "cell_type": "code",
   "execution_count": 16,
   "id": "confirmed-arbor",
   "metadata": {},
   "outputs": [
    {
     "data": {
      "text/plain": [
       "{'formula 5': 102,\n",
       " 'formula 2': 515,\n",
       " 'tabulated nk': 613,\n",
       " 'formula 3': 1169,\n",
       " 'tabulated n': 189,\n",
       " 'tabulated k': 1608,\n",
       " 'formula 1': 117,\n",
       " 'formula 4': 86,\n",
       " 'formula 9': 1,\n",
       " 'formula 6': 22,\n",
       " 'formula 8': 3,\n",
       " 'formula 7': 1}"
      ]
     },
     "execution_count": 16,
     "metadata": {},
     "output_type": "execute_result"
    }
   ],
   "source": [
    "data_type_keys"
   ]
  },
  {
   "cell_type": "code",
   "execution_count": 17,
   "id": "7c73612a-cae3-433b-844b-13f9f76d2334",
   "metadata": {},
   "outputs": [
    {
     "data": {
      "text/plain": [
       "[9, 11, 13, 15, 18, 19, 22, 27, 32, 33, 34, 41, 42, 43, 44, 45, 51, 52, 57, 58]"
      ]
     },
     "execution_count": 17,
     "metadata": {},
     "output_type": "execute_result"
    }
   ],
   "source": [
    "data_data_keys_dict['tabulated nk'][:20]"
   ]
  },
  {
   "cell_type": "code",
   "execution_count": 69,
   "id": "613cca2f-f12a-4d8e-914e-fce6e945fe7e",
   "metadata": {
    "tags": []
   },
   "outputs": [
    {
     "data": {
      "text/plain": [
       "12"
      ]
     },
     "execution_count": 69,
     "metadata": {},
     "output_type": "execute_result"
    }
   ],
   "source": [
    "len(data_data_keys_dict)"
   ]
  },
  {
   "cell_type": "code",
   "execution_count": 19,
   "id": "3d1cf3fa-467c-41d7-8603-b476a80dd784",
   "metadata": {
    "tags": []
   },
   "outputs": [
    {
     "name": "stdout",
     "output_type": "stream",
     "text": [
      "9: /Users/Mike/Developer/PyProjects/refractiveindexinfo/database/data/organic/(C2H4)n - polyethylene/Smith.yml\n",
      "11: /Users/Mike/Developer/PyProjects/refractiveindexinfo/database/data/organic/(C16H14O3)n - polycarbonate/Zhang.yml\n",
      "13: /Users/Mike/Developer/PyProjects/refractiveindexinfo/database/data/organic/(C10H8O4)n - polyethylene terephthalate/Zhang.yml\n",
      "15: /Users/Mike/Developer/PyProjects/refractiveindexinfo/database/data/organic/C8H8 - styrene/Myers.yml\n",
      "18: /Users/Mike/Developer/PyProjects/refractiveindexinfo/database/data/organic/C2H3N - acetonitrile/Myers.yml\n",
      "19: /Users/Mike/Developer/PyProjects/refractiveindexinfo/database/data/organic/C4H8OS - oxathiane/Myers.yml\n",
      "22: /Users/Mike/Developer/PyProjects/refractiveindexinfo/database/data/organic/C6H5NO2 - nitrobenzene/Myers.yml\n",
      "27: /Users/Mike/Developer/PyProjects/refractiveindexinfo/database/data/organic/CH4O - methanol/Myers.yml\n",
      "32: /Users/Mike/Developer/PyProjects/refractiveindexinfo/database/data/organic/C7H8 - toluene/Myers.yml\n",
      "33: /Users/Mike/Developer/PyProjects/refractiveindexinfo/database/data/organic/C7H17O3P - diisopropyl methylphosphonate/Querry-IR.yml\n",
      "34: /Users/Mike/Developer/PyProjects/refractiveindexinfo/database/data/organic/C7H17O3P - diisopropyl methylphosphonate/Querry-NIR.yml\n",
      "41: /Users/Mike/Developer/PyProjects/refractiveindexinfo/database/data/organic/C5H12 - pentane/Anderson.yml\n",
      "42: /Users/Mike/Developer/PyProjects/refractiveindexinfo/database/data/organic/(C6H9NO)n - polyvinylpyrrolidone/Konig.yml\n",
      "43: /Users/Mike/Developer/PyProjects/refractiveindexinfo/database/data/organic/(C2ClF3)n - polychlorotrifluoroethylene/Smith.yml\n",
      "44: /Users/Mike/Developer/PyProjects/refractiveindexinfo/database/data/organic/C12H14O4 - diethyl phthalate/Querry-IR.yml\n",
      "45: /Users/Mike/Developer/PyProjects/refractiveindexinfo/database/data/organic/C12H14O4 - diethyl phthalate/Querry-NIR.yml\n",
      "51: /Users/Mike/Developer/PyProjects/refractiveindexinfo/database/data/organic/C6H3Cl3 - trichlorobenzene/Myers.yml\n",
      "52: /Users/Mike/Developer/PyProjects/refractiveindexinfo/database/data/organic/CH2Cl2 - dichloromethane/Bertie.yml\n",
      "57: /Users/Mike/Developer/PyProjects/refractiveindexinfo/database/data/organic/C3H8O - propanol/Myers.yml\n",
      "58: /Users/Mike/Developer/PyProjects/refractiveindexinfo/database/data/organic/C3H8O - propanol/Sani.yml\n"
     ]
    }
   ],
   "source": [
    "for i in data_data_keys_dict['tabulated nk'][:20]:\n",
    "    print(f\"{i}: {files[i]}\")"
   ]
  },
  {
   "cell_type": "code",
   "execution_count": 20,
   "id": "dec44e3d-a451-4726-8193-665bd60bdcb6",
   "metadata": {},
   "outputs": [
    {
     "data": {
      "text/plain": [
       "'/Users/Mike/Developer/PyProjects/refractiveindexinfo/database/data/organic/(C16H14O3)n - polycarbonate/Zhang.yml'"
      ]
     },
     "execution_count": 20,
     "metadata": {},
     "output_type": "execute_result"
    }
   ],
   "source": [
    "files[11]"
   ]
  },
  {
   "cell_type": "code",
   "execution_count": 21,
   "id": "6fa555e2-35ae-4cc5-ac53-d8a3804a1c77",
   "metadata": {},
   "outputs": [
    {
     "data": {
      "text/plain": [
       "'/Users/Mike/Developer/PyProjects/refractiveindexinfo/database/data/organic/C8H8 - styrene/Myers.yml'"
      ]
     },
     "execution_count": 21,
     "metadata": {},
     "output_type": "execute_result"
    }
   ],
   "source": [
    "files[15]"
   ]
  },
  {
   "cell_type": "code",
   "execution_count": 22,
   "id": "spare-virgin",
   "metadata": {},
   "outputs": [
    {
     "data": {
      "text/plain": [
       "{'formula 5': 85,\n",
       " 'formula 2': 103,\n",
       " 'tabulated nk': 612,\n",
       " 'formula 3': 15,\n",
       " ('tabulated n', 'tabulated k'): 10,\n",
       " ('formula 2', 'tabulated k'): 412,\n",
       " 'tabulated n': 179,\n",
       " ('formula 5', 'tabulated nk'): 1,\n",
       " 'formula 1': 111,\n",
       " 'formula 4': 85,\n",
       " 'tabulated k': 9,\n",
       " 'formula 9': 1,\n",
       " ('formula 5', 'tabulated k'): 16,\n",
       " 'formula 6': 22,\n",
       " ('formula 1', 'tabulated k'): 6,\n",
       " ('formula 3', 'tabulated k'): 1154,\n",
       " 'formula 8': 3,\n",
       " ('formula 4', 'tabulated k'): 1,\n",
       " 'formula 7': 1}"
      ]
     },
     "execution_count": 22,
     "metadata": {},
     "output_type": "execute_result"
    }
   ],
   "source": [
    "data_types"
   ]
  },
  {
   "cell_type": "code",
   "execution_count": 23,
   "id": "demanding-station",
   "metadata": {},
   "outputs": [
    {
     "data": {
      "text/plain": [
       "{'n_absolute': 1895,\n",
       " 'temperature': 1775,\n",
       " 'pressure': 45,\n",
       " 'wavelength_vacuum': 1884,\n",
       " 'substrate': 98,\n",
       " 'film_thickness': 78,\n",
       " 'x': 8,\n",
       " 'thickness': 8,\n",
       " 'thermal_dispersion': 1235,\n",
       " 'nd': 1548,\n",
       " 'Vd': 1548,\n",
       " 'glass_code': 1243,\n",
       " 'glass_status': 830,\n",
       " 'density': 1494,\n",
       " 'thermal_expansion': 1493,\n",
       " 'climatic_resistance': 931,\n",
       " 'stain_resistance': 336,\n",
       " 'acid_resistance': 844,\n",
       " 'dPgF': 1465,\n",
       " 'phosphate_resistance': 618,\n",
       " 'alkali_resistance': 166,\n",
       " 'specific_heat': 5,\n",
       " 'thermal_conductivity': 5,\n",
       " 'transition_temperature': 7,\n",
       " 'Knoop_hardness': 6,\n",
       " 'fracture_toughness': 5,\n",
       " 'shear_modulus': 2,\n",
       " 'Youngs_modulus': 7,\n",
       " 'Vickers_hardness': 1,\n",
       " 'direction': 1,\n",
       " 'deposition_temperature': 7}"
      ]
     },
     "execution_count": 23,
     "metadata": {},
     "output_type": "execute_result"
    }
   ],
   "source": [
    "data_specs_keys"
   ]
  },
  {
   "cell_type": "markdown",
   "id": "basic-jurisdiction",
   "metadata": {},
   "source": [
    "# Investigate library yaml file"
   ]
  },
  {
   "cell_type": "code",
   "execution_count": 24,
   "id": "cellular-appliance",
   "metadata": {},
   "outputs": [],
   "source": [
    "lib_root = '/Users/Mike/Developer/PyProjects/refractiveindexinfo/database/library.yml'"
   ]
  },
  {
   "cell_type": "code",
   "execution_count": 25,
   "id": "insured-shark",
   "metadata": {},
   "outputs": [],
   "source": [
    "yamlStream = open(lib_root,'r')\n",
    "shelves = yaml.safe_load(yamlStream)"
   ]
  },
  {
   "cell_type": "code",
   "execution_count": 26,
   "id": "alternate-format",
   "metadata": {},
   "outputs": [
    {
     "name": "stdout",
     "output_type": "stream",
     "text": [
      "main: MAIN - simple inorganic materials\n",
      "organic: ORGANIC - organic materials\n",
      "glass: GLASS - glasses\n",
      "other: OTHER - miscellaneous materials\n",
      "3d: 3D - selected data for 3D artists\n"
     ]
    }
   ],
   "source": [
    "for shelf in shelves:\n",
    "    print(f\"{shelf['SHELF']}: {shelf['name']}\")"
   ]
  },
  {
   "cell_type": "code",
   "execution_count": 27,
   "id": "geological-schema",
   "metadata": {},
   "outputs": [
    {
     "data": {
      "text/plain": [
       "dict_keys(['SHELF', 'name', 'content'])"
      ]
     },
     "execution_count": 27,
     "metadata": {},
     "output_type": "execute_result"
    }
   ],
   "source": [
    "shelves[1].keys()"
   ]
  },
  {
   "cell_type": "code",
   "execution_count": 28,
   "id": "recent-diameter",
   "metadata": {},
   "outputs": [
    {
     "data": {
      "text/plain": [
       "'organic'"
      ]
     },
     "execution_count": 28,
     "metadata": {},
     "output_type": "execute_result"
    }
   ],
   "source": [
    "shelves[1]['SHELF']"
   ]
  },
  {
   "cell_type": "code",
   "execution_count": 29,
   "id": "ahead-conservation",
   "metadata": {},
   "outputs": [
    {
     "data": {
      "text/plain": [
       "'ORGANIC - organic materials'"
      ]
     },
     "execution_count": 29,
     "metadata": {},
     "output_type": "execute_result"
    }
   ],
   "source": [
    "shelves[1]['name']"
   ]
  },
  {
   "cell_type": "code",
   "execution_count": 30,
   "id": "quality-parks",
   "metadata": {
    "collapsed": true,
    "jupyter": {
     "outputs_hidden": true
    },
    "tags": []
   },
   "outputs": [
    {
     "data": {
      "text/plain": [
       "[{'DIVIDER': 'Alkanes'},\n",
       " {'BOOK': 'methane',\n",
       "  'name': 'CH<sub>4</sub> (Methane)',\n",
       "  'info': 'organic/methane.html',\n",
       "  'content': [{'DIVIDER': 'Gas'},\n",
       "   {'PAGE': 'Rollefson',\n",
       "    'name': 'Rollefson and Havens 1940: Gas at 0 °C; n 1.68-14.8 µm',\n",
       "    'data': 'organic/CH4 - methane/Rollefson.yml'},\n",
       "   {'PAGE': 'Loria',\n",
       "    'name': 'Loria 1909: Gas at 0 °C; n 0.529-0.659 µm',\n",
       "    'data': 'organic/CH4 - methane/Loria.yml'},\n",
       "   {'DIVIDER': 'Liquid'},\n",
       "   {'PAGE': 'Martonchik-liquid-111K',\n",
       "    'name': 'Martonchik and Orton 1994: Liquid at 111 K; n,k 0.002-71.4 µm',\n",
       "    'data': 'organic/CH4 - methane/Martonchik-liquid-111K.yml'},\n",
       "   {'PAGE': 'Martonchik-liquid-90K',\n",
       "    'name': 'Martonchik and Orton 1994: Liquid at 90 K; n,k 0.002-71.4 µm',\n",
       "    'data': 'organic/CH4 - methane/Martonchik-liquid-90K.yml'},\n",
       "   {'DIVIDER': 'Solid'},\n",
       "   {'PAGE': 'Martonchik-solid-90K',\n",
       "    'name': 'Martonchik and Orton 1994: Solid at 90 K; n,k 0.002-100 µm',\n",
       "    'data': 'organic/CH4 - methane/Martonchik-solid-90K.yml'},\n",
       "   {'PAGE': 'Martonchik-solid-30K',\n",
       "    'name': 'Martonchik and Orton 1994: Solid at 30 K; n,k 0.002-100 µm',\n",
       "    'data': 'organic/CH4 - methane/Martonchik-solid-30K.yml'}]},\n",
       " {'BOOK': 'ethane',\n",
       "  'name': 'C<sub>2</sub>H<sub>6</sub> (Ethane)',\n",
       "  'info': 'organic/ethane.html',\n",
       "  'content': [{'PAGE': 'Loria',\n",
       "    'name': 'Loria 1909: Gas at 0 °C; n 0.523-0.668 µm',\n",
       "    'data': 'organic/C2H6 - ethane/Loria.yml'}]},\n",
       " {'BOOK': 'pentane',\n",
       "  'name': 'C<sub>5</sub>H<sub>12</sub> (Pentane)',\n",
       "  'info': 'organic/pentane.html',\n",
       "  'content': [{'PAGE': 'Kerl-293K',\n",
       "    'name': 'Kerl and Varchmin 1995: n-Pentane; 293 K; n 0.326-0.644 µm',\n",
       "    'data': 'organic/C5H12 - pentane/Kerl-293K.yml'},\n",
       "   {'PAGE': 'Kerl-313K',\n",
       "    'name': 'Kerl and Varchmin 1995: n-Pentane; 313 K; n 0.326-0.644 µm',\n",
       "    'data': 'organic/C5H12 - pentane/Kerl-313K.yml'},\n",
       "   {'PAGE': 'Kerl-333K',\n",
       "    'name': 'Kerl and Varchmin 1995: n-Pentane; 333 K; n 0.326-0.644 µm',\n",
       "    'data': 'organic/C5H12 - pentane/Kerl-333K.yml'},\n",
       "   {'PAGE': 'Anderson',\n",
       "    'name': 'Anderson 2000: iso-Pentane; n,k 2.0-14.9 µm',\n",
       "    'data': 'organic/C5H12 - pentane/Anderson.yml'}]},\n",
       " {'BOOK': 'hexane',\n",
       "  'name': 'C<sub>6</sub>H<sub>14</sub> (Hexane)',\n",
       "  'info': 'organic/hexane.html',\n",
       "  'content': [{'PAGE': 'Kozma',\n",
       "    'name': 'Kozma et al. 2005: n-Hexane; n 0.230-0.641 µm',\n",
       "    'data': 'organic/C6H14 - hexane/Kozma.yml'},\n",
       "   {'PAGE': 'Kerl-293K',\n",
       "    'name': 'Kerl and Varchmin 1995: n-Hexane; 293 K; n 0.326-0.644 µm',\n",
       "    'data': 'organic/C6H14 - hexane/Kerl-293K.yml'},\n",
       "   {'PAGE': 'Kerl-313K',\n",
       "    'name': 'Kerl and Varchmin 1995: n-Hexane; 313 K; n 0.326-0.644 µm',\n",
       "    'data': 'organic/C6H14 - hexane/Kerl-313K.yml'},\n",
       "   {'PAGE': 'Kerl-333K',\n",
       "    'name': 'Kerl and Varchmin 1995: n-Hexane; 333 K; n 0.326-0.644 µm',\n",
       "    'data': 'organic/C6H14 - hexane/Kerl-333K.yml'}]},\n",
       " {'BOOK': 'heptane',\n",
       "  'name': 'C<sub>7</sub>H<sub>16</sub> (Heptane)',\n",
       "  'info': 'organic/heptane.html',\n",
       "  'content': [{'PAGE': 'Kerl-293K',\n",
       "    'name': 'Kerl and Varchmin 1995: n-Heptane; 293 K; n 0.326-0.644 µm',\n",
       "    'data': 'organic/C7H16 - heptane/Kerl-293K.yml'},\n",
       "   {'PAGE': 'Kerl-313K',\n",
       "    'name': 'Kerl and Varchmin 1995: n-Heptane; 313 K; n 0.326-0.644 µm',\n",
       "    'data': 'organic/C7H16 - heptane/Kerl-313K.yml'},\n",
       "   {'PAGE': 'Kerl-333K',\n",
       "    'name': 'Kerl and Varchmin 1995: n-Heptane; 333 K; n 0.326-0.644 µm',\n",
       "    'data': 'organic/C7H16 - heptane/Kerl-333K.yml'}]},\n",
       " {'BOOK': 'octane',\n",
       "  'name': 'C<sub>8</sub>H<sub>18</sub> (Octane)',\n",
       "  'info': 'organic/octane.html',\n",
       "  'content': [{'PAGE': 'Kerl-293K',\n",
       "    'name': 'Kerl and Varchmin 1995: n-Octane; 293 K; n 0.326-0.644 µm',\n",
       "    'data': 'organic/C8H18 - octane/Kerl-293K.yml'},\n",
       "   {'PAGE': 'Kerl-313K',\n",
       "    'name': 'Kerl and Varchmin 1995: n-Octane; 313 K; n 0.326-0.644 µm',\n",
       "    'data': 'organic/C8H18 - octane/Kerl-313K.yml'},\n",
       "   {'PAGE': 'Kerl-333K',\n",
       "    'name': 'Kerl and Varchmin 1995: n-Octane; 333 K; n 0.326-0.644 µm',\n",
       "    'data': 'organic/C8H18 - octane/Kerl-333K.yml'},\n",
       "   {'PAGE': 'Myers',\n",
       "    'name': 'Myers et al. 2018: n-Octane; n,k 1.28-25.0 µm',\n",
       "    'data': 'organic/C8H18 - octane/Myers.yml'},\n",
       "   {'PAGE': 'Anderson',\n",
       "    'name': 'Anderson 2000: iso-Octane; n,k 2-23 µm',\n",
       "    'data': 'organic/C8H18 - octane/Anderson.yml'}]},\n",
       " {'DIVIDER': 'Alkynes'},\n",
       " {'BOOK': 'acetylene',\n",
       "  'name': 'C<sub>2</sub>H<sub>2</sub> (Acetylene)',\n",
       "  'info': 'organic/acetylene.html',\n",
       "  'content': [{'PAGE': 'Loria',\n",
       "    'name': 'Loria 1909: Gas at 0 °C; n 0.529-0.659 µm',\n",
       "    'data': 'organic/C2H2 - acetylene/Loria.yml'}]},\n",
       " {'DIVIDER': 'Alkenes'},\n",
       " {'BOOK': 'ethylene',\n",
       "  'name': 'C<sub>2</sub>H<sub>4</sub> (Ethylene)',\n",
       "  'info': 'organic/ethylene.html',\n",
       "  'content': [{'PAGE': 'Loria',\n",
       "    'name': 'Loria 1909: Gas at 0 °C; n 0.523-0.668 µm',\n",
       "    'data': 'organic/C2H4 - ethylene/Loria.yml'}]},\n",
       " {'DIVIDER': 'Alcohols'},\n",
       " {'BOOK': 'methanol',\n",
       "  'name': 'CH<sub>3</sub>OH (Methanol)',\n",
       "  'info': 'organic/methanol.html',\n",
       "  'content': [{'PAGE': 'El-Kashef',\n",
       "    'name': 'El-Kashef 2000: n 0.4-0.8 µm',\n",
       "    'data': 'organic/CH4O - methanol/El-Kashef.yml'},\n",
       "   {'PAGE': 'Myers',\n",
       "    'name': 'Myers et al. 2018: n,k 1.28-25.0 µm',\n",
       "    'data': 'organic/CH4O - methanol/Myers.yml'},\n",
       "   {'PAGE': 'Moutzouris',\n",
       "    'name': 'Moutzouris et al. 2013: n 0.450-1.55 µm',\n",
       "    'data': 'organic/CH4O - methanol/Moutzouris.yml'},\n",
       "   {'PAGE': 'Kozma',\n",
       "    'name': 'Kozma et al. 2005: n 0.230-0.641 µm',\n",
       "    'data': 'organic/CH4O - methanol/Kozma.yml'}]},\n",
       " {'BOOK': 'ethanol',\n",
       "  'name': 'C<sub>2</sub>H<sub>5</sub>OH (Ethanol)',\n",
       "  'info': 'organic/ethanol.html',\n",
       "  'content': [{'PAGE': 'Rheims',\n",
       "    'name': 'Rheims et al. 1997: n 0.477-0.83 µm',\n",
       "    'data': 'organic/C2H6O - ethanol/Rheims.yml'},\n",
       "   {'PAGE': 'Myers',\n",
       "    'name': 'Myers et al. 2018: n,k 1.28-25.0 µm',\n",
       "    'data': 'organic/C2H6O - ethanol/Myers.yml'},\n",
       "   {'PAGE': 'Sani',\n",
       "    'name': \"Sani and Dell'Oro 2016: n,k 0.185-61 µm\",\n",
       "    'data': 'organic/C2H6O - ethanol/Sani.yml'},\n",
       "   {'PAGE': 'Sani-formula',\n",
       "    'name': \"Sani and Dell'Oro 2016: Dispersion formula; n,k 0.185-2.8 µm\",\n",
       "    'data': 'organic/C2H6O - ethanol/Sani-formula.yml'},\n",
       "   {'PAGE': 'Kedenburg',\n",
       "    'name': 'Kedenburg et al. 2012: n 0.5-1.6 µm, k 0.5-1.75 µm',\n",
       "    'data': 'organic/C2H6O - ethanol/Kedenburg.yml'},\n",
       "   {'PAGE': 'Kozma',\n",
       "    'name': 'Kozma et al. 2005: n 0.230-0.641 µm',\n",
       "    'data': 'organic/C2H6O - ethanol/Kozma.yml'}]},\n",
       " {'BOOK': 'propanol',\n",
       "  'name': 'C<sub>3</sub>H<sub>7</sub>OH (Propanol)',\n",
       "  'info': 'organic/propanol.html',\n",
       "  'content': [{'PAGE': 'Kozma',\n",
       "    'name': 'Kozma et al. 2005: iso-propanol; n 0.230-0.641 µm',\n",
       "    'data': 'organic/C3H8O - propanol/Kozma.yml'},\n",
       "   {'PAGE': 'Myers',\n",
       "    'name': 'Myers et al. 2018: iso-propanol; n,k 1.28-25.0 µm',\n",
       "    'data': 'organic/C3H8O - propanol/Myers.yml'},\n",
       "   {'PAGE': 'Sani',\n",
       "    'name': \"Sani and Dell'Oro 2016: iso-propanol; n,k 0.185-61 µm\",\n",
       "    'data': 'organic/C3H8O - propanol/Sani.yml'},\n",
       "   {'PAGE': 'Sani-formula',\n",
       "    'name': \"Sani and Dell'Oro 2016: iso-propanol; Dispersion formula; n,k 0.185-2.8 µm\",\n",
       "    'data': 'organic/C3H8O - propanol/Sani-formula.yml'},\n",
       "   {'PAGE': 'Moutzouris',\n",
       "    'name': 'Moutzouris et al. 2013: 1-Propanol; n 0.450-1.55 µm',\n",
       "    'data': 'organic/C3H8O - propanol/Moutzouris.yml'}]},\n",
       " {'BOOK': 'butanol',\n",
       "  'name': 'C<sub>4</sub>H<sub>9</sub>OH (Butanol)',\n",
       "  'info': 'organic/butanol.html',\n",
       "  'content': [{'PAGE': 'El-Kashef',\n",
       "    'name': 'El-Kashef 2000: n 0.4-0.8 µm',\n",
       "    'data': 'organic/C4H10O - butanol/El-Kashef.yml'},\n",
       "   {'PAGE': 'Moutzouris-n',\n",
       "    'name': 'Moutzouris et al. 2013: n-Butanol; n 0.450-1.55 µm',\n",
       "    'data': 'organic/C4H10O - butanol/Moutzouris-n.yml'},\n",
       "   {'PAGE': 'Moutzouris-iso',\n",
       "    'name': 'Moutzouris et al. 2013: iso-Butanol; n 0.450-1.55 µm',\n",
       "    'data': 'organic/C4H10O - butanol/Moutzouris-iso.yml'}]},\n",
       " {'BOOK': 'pentanol',\n",
       "  'name': 'C<sub>5</sub>H<sub>11</sub>OH (Pentanol, amyl alcohol)',\n",
       "  'info': 'organic/pentanol.html',\n",
       "  'content': [{'PAGE': 'Moutzouris-normal',\n",
       "    'name': 'Moutzouris et al. 2013: Normal amyl alcohol; n 0.450-1.55 µm',\n",
       "    'data': 'organic/C5H12O - pentanol/Moutzouris-normal.yml'},\n",
       "   {'PAGE': 'Moutzouris-iso',\n",
       "    'name': 'Moutzouris et al. 2013: Isoamyl alcohol; n 0.450-1.55 µm',\n",
       "    'data': 'organic/C5H12O - pentanol/Moutzouris-iso.yml'}]},\n",
       " {'DIVIDER': 'Diols'},\n",
       " {'BOOK': 'ethylene_glycol',\n",
       "  'name': 'C<sub>2</sub>H<sub>4</sub>(OH)<sub>2</sub> (Ethylene glycol)',\n",
       "  'info': 'organic/ethylene glycol.html',\n",
       "  'content': [{'PAGE': 'Otanicar',\n",
       "    'name': 'Otanicar 2009: k 0.2-1.5 µm',\n",
       "    'data': 'organic/C2H6O2 - ethylene glycol/Otanicar.yml'},\n",
       "   {'PAGE': 'Sani',\n",
       "    'name': \"Sani and Dell'Oro 2014: n,k 0.185-55.0 µm\",\n",
       "    'data': 'organic/C2H6O2 - ethylene glycol/Sani.yml'},\n",
       "   {'PAGE': 'Sani-formula',\n",
       "    'name': \"Sani and Dell'Oro 2014: Dispersion formula; n,k 0.185-2.8 µm\",\n",
       "    'data': 'organic/C2H6O2 - ethylene glycol/Sani-formula.yml'},\n",
       "   {'PAGE': 'Kozma',\n",
       "    'name': 'Kozma et al. 2005: n 0.230-0.641 µm',\n",
       "    'data': 'organic/C2H6O2 - ethylene glycol/Kozma.yml'},\n",
       "   {'PAGE': 'El-Kashef',\n",
       "    'name': 'El-Kashef 2000: n 0.4-0.8 µm',\n",
       "    'data': 'organic/C2H6O2 - ethylene glycol/El-Kashef.yml'}]},\n",
       " {'BOOK': 'propylene_glycol',\n",
       "  'name': 'C<sub>3</sub>H<sub>6</sub>(OH)<sub>2</sub> (Propylene glycol)',\n",
       "  'info': 'organic/propylene glycol.html',\n",
       "  'content': [{'PAGE': 'Otanicar',\n",
       "    'name': 'Otanicar et al. 2009: n 0.434-0.656 µm, k 0.2-1.5 µm',\n",
       "    'data': 'organic/C3H8O2 - propylene glycol/Otanicar.yml'}]},\n",
       " {'DIVIDER': 'Triols'},\n",
       " {'BOOK': 'glycerol',\n",
       "  'name': 'C<sub>3</sub>H<sub>5</sub>(OH)<sub>3</sub> (Glycerol)',\n",
       "  'info': 'organic/glycerol.html',\n",
       "  'content': [{'PAGE': 'Rheims',\n",
       "    'name': 'Rheims et al. 1997: n 0.589-1.05 µm',\n",
       "    'data': 'organic/C3H8O3 - glycerol/Rheims.yml'},\n",
       "   {'PAGE': 'Wang',\n",
       "    'name': 'Wang et al. 2017: k 1.2-1.9 µm',\n",
       "    'data': 'organic/C3H8O3 - glycerol/Wang.yml'},\n",
       "   {'PAGE': 'Birkhoff',\n",
       "    'name': 'Birkhoff et al. 1978: n,k 0.0512-0.620 µm',\n",
       "    'data': 'organic/C3H8O3 - glycerol/Birkhoff.yml'}]},\n",
       " {'DIVIDER': 'Esters'},\n",
       " {'BOOK': 'ethyl_acetate',\n",
       "  'name': 'C<sub>4</sub>H<sub>8</sub>O<sub>2</sub> (Ethyl acetate, EtOAc, EA)',\n",
       "  'info': 'organic/ethyl acetate.html',\n",
       "  'content': [{'PAGE': 'Kozma',\n",
       "    'name': 'Kozma et al. 2005: n 0.248-0.641 µm',\n",
       "    'data': 'organic/C4H8O2 - ethyl acetate/Kozma.yml'}]},\n",
       " {'BOOK': 'methyl_salicylate',\n",
       "  'name': 'C<sub>8</sub>H<sub>8</sub>O<sub>3</sub> (Methyl salicylate)',\n",
       "  'info': 'organic/methyl salicylate.html',\n",
       "  'content': [{'PAGE': 'Rheims',\n",
       "    'name': 'Rheims et al. 1997: n 0.589-1.05 µm',\n",
       "    'data': 'organic/C8H8O3 - methyl salicylate/Rheims.yml'}]},\n",
       " {'BOOK': 'ethyl_salicylate',\n",
       "  'name': 'C<sub>9</sub>H<sub>10</sub>O<sub>3</sub> (Ethyl salicylate)',\n",
       "  'info': 'organic/ethyl salicylate.html',\n",
       "  'content': [{'PAGE': 'Rheims',\n",
       "    'name': 'Rheims et al. 1997: n 0.589-1.05 µm',\n",
       "    'data': 'organic/C9H10O3 - ethyl salicylate/Rheims.yml'}]},\n",
       " {'BOOK': 'ethyl_cinnamate',\n",
       "  'name': 'C<sub>11</sub>H<sub>12</sub>O<sub>2</sub> (Ethyl cinnamate)',\n",
       "  'info': 'organic/ethyl cinnamate.html',\n",
       "  'content': [{'PAGE': 'Krauter',\n",
       "    'name': 'Krauter et al. 2015: n 0.45-0.70 µm',\n",
       "    'data': 'organic/C11H12O2 - ethyl cinnamate/Krauter.yml'}]},\n",
       " {'BOOK': 'diethyl_phthalate',\n",
       "  'name': 'C<sub>12</sub>H<sub>14</sub>O<sub>4</sub> (Diethyl phthalate, DEP)',\n",
       "  'info': 'organic/diethyl phthalate.html',\n",
       "  'content': [{'PAGE': 'Querry-NIR',\n",
       "    'name': 'Querry 1987: Near-infrared; n,k 0.81-2.5 µm',\n",
       "    'data': 'organic/C12H14O4 - diethyl phthalate/Querry-NIR.yml'},\n",
       "   {'PAGE': 'Querry-IR',\n",
       "    'name': 'Querry 1987: Infrared; n,k 2.5-56 µm',\n",
       "    'data': 'organic/C12H14O4 - diethyl phthalate/Querry-IR.yml'}]},\n",
       " {'DIVIDER': 'Cycloalkanes'},\n",
       " {'BOOK': 'cyclohexane',\n",
       "  'name': 'C<sub>6</sub>H<sub>12</sub> (Cyclohexane)',\n",
       "  'info': 'organic/cyclohexane.html',\n",
       "  'content': [{'PAGE': 'Rheims',\n",
       "    'name': 'Rheims et al. 1997: n 0.477-0.83 µm',\n",
       "    'data': 'organic/C6H12 - cyclohexane/Rheims.yml'},\n",
       "   {'PAGE': 'Kozma',\n",
       "    'name': 'Kozma et al. 2005: n 0.230-0.641 µm',\n",
       "    'data': 'organic/C6H12 - cyclohexane/Kozma.yml'},\n",
       "   {'PAGE': 'Kerl-293K',\n",
       "    'name': 'Kerl and Varchmin 1995: 293 K; n 0.326-0.644 µm',\n",
       "    'data': 'organic/C6H12 - cyclohexane/Kerl-293K.yml'},\n",
       "   {'PAGE': 'Kerl-313K',\n",
       "    'name': 'Kerl and Varchmin 1995: 313 K; n 0.326-0.644 µm',\n",
       "    'data': 'organic/C6H12 - cyclohexane/Kerl-313K.yml'},\n",
       "   {'PAGE': 'Kerl-333K',\n",
       "    'name': 'Kerl and Varchmin 1995: 333 K; n 0.326-0.644 µm',\n",
       "    'data': 'organic/C6H12 - cyclohexane/Kerl-333K.yml'}]},\n",
       " {'DIVIDER': 'Benzene and its derivatives'},\n",
       " {'BOOK': 'benzene',\n",
       "  'name': 'C<sub>6</sub>H<sub>6</sub> (Benzene)',\n",
       "  'info': 'organic/benzene.html',\n",
       "  'content': [{'PAGE': 'Moutzouris',\n",
       "    'name': 'Moutzouris et al. 2013: n 0.450-1.55 µm',\n",
       "    'data': 'organic/C6H6 - benzene/Moutzouris.yml'},\n",
       "   {'PAGE': 'Myers',\n",
       "    'name': 'Myers et al. 2018: n,k 1.28-25.0 µm',\n",
       "    'data': 'organic/C6H6 - benzene/Myers.yml'}]},\n",
       " {'BOOK': 'styrene',\n",
       "  'name': 'C<sub>8</sub>H<sub>8</sub> (Styrene)',\n",
       "  'info': 'organic/styrene.html',\n",
       "  'content': [{'PAGE': 'Sultanova',\n",
       "    'name': 'Sultanova et al. 2009: n 0.437-1.05 µm',\n",
       "    'data': 'organic/C8H8 - styrene/Sultanova.yml'},\n",
       "   {'PAGE': 'Myers',\n",
       "    'name': 'Myers et al. 2018: n,k 1.28-25.0 µm',\n",
       "    'data': 'organic/C8H8 - styrene/Myers.yml'}]},\n",
       " {'BOOK': 'toluene',\n",
       "  'name': 'C<sub>7</sub>H<sub>8</sub> (Toluene)',\n",
       "  'info': 'organic/toluene.html',\n",
       "  'content': [{'PAGE': 'Kedenburg',\n",
       "    'name': 'Kedenburg et al. 2012: n 0.5-1.6 µm, k 0.5-1.75 µm',\n",
       "    'data': 'organic/C7H8 - toluene/Kedenburg.yml'},\n",
       "   {'PAGE': 'Myers',\n",
       "    'name': 'Myers et al. 2018: n,k 1.28-25.0 µm',\n",
       "    'data': 'organic/C7H8 - toluene/Myers.yml'},\n",
       "   {'PAGE': 'Moutzouris',\n",
       "    'name': 'Moutzouris et al. 2013: n 0.450-1.55 µm',\n",
       "    'data': 'organic/C7H8 - toluene/Moutzouris.yml'},\n",
       "   {'PAGE': 'Kozma',\n",
       "    'name': 'Kozma et al. 2005: n 0.300-0.641 µm',\n",
       "    'data': 'organic/C7H8 - toluene/Kozma.yml'}]},\n",
       " {'BOOK': 'trichlorobenzene',\n",
       "  'name': 'C<sub>6</sub>H<sub>3</sub>Cl<sub>3</sub> (Trichlorobenzene, TCB)',\n",
       "  'info': 'organic/trichlorobenzene.html',\n",
       "  'content': [{'PAGE': 'Myers',\n",
       "    'name': 'Myers et al. 2018: 1,2,4-TCB; n,k 1.28-25.0 µm',\n",
       "    'data': 'organic/C6H3Cl3 - trichlorobenzene/Myers.yml'}]},\n",
       " {'BOOK': 'nitrobenzene',\n",
       "  'name': 'C<sub>6</sub>H<sub>5</sub>NO<sub>2</sub> (Nitrobenzene)',\n",
       "  'info': 'organic/nitrobenzene.html',\n",
       "  'content': [{'PAGE': 'Kedenburg',\n",
       "    'name': 'Kedenburg et al. 2012: n 0.5-1.6 µm',\n",
       "    'data': 'organic/C6H5NO2 - nitrobenzene/Kedenburg.yml'},\n",
       "   {'PAGE': 'Myers',\n",
       "    'name': 'Myers et al. 2018: n,k 1.28-25.0 µm',\n",
       "    'data': 'organic/C6H5NO2 - nitrobenzene/Myers.yml'}]},\n",
       " {'DIVIDER': 'Heterocyclic compounds'},\n",
       " {'BOOK': 'dioxane',\n",
       "  'name': 'C<sub>4</sub>H<sub>8</sub>O<sub>2</sub> (Dioxane)',\n",
       "  'info': 'organic/dioxane.html',\n",
       "  'content': [{'PAGE': 'Moutzouris',\n",
       "    'name': 'Moutzouris et al. 2013: n 0.450-1.55 µm',\n",
       "    'data': 'organic/C4H8O2 - dioxane/Moutzouris.yml'}]},\n",
       " {'BOOK': 'oxathiane',\n",
       "  'name': 'C<sub>4</sub>H<sub>8</sub>OS (Oxathiane)',\n",
       "  'info': 'organic/oxathiane.html',\n",
       "  'content': [{'PAGE': 'Myers',\n",
       "    'name': 'Myers et al. 2018: 1,4-Oxathiane; n,k 1.28-25.0 µm',\n",
       "    'data': 'organic/C4H8OS - oxathiane/Myers.yml'}]},\n",
       " {'DIVIDER': 'Carboxylic acids'},\n",
       " {'BOOK': 'acetic_acid',\n",
       "  'name': 'C<sub>2</sub>H<sub>4</sub>O<sub>2</sub> (Acetic acid)',\n",
       "  'info': 'organic/acetic acid.html',\n",
       "  'content': [{'PAGE': 'El-Kashef',\n",
       "    'name': 'El-Kashef 2000: n 0.4-0.8 µm',\n",
       "    'data': 'organic/C2H4O2 - acetic acid/El-Kashef.yml'}]},\n",
       " {'DIVIDER': 'Diols'},\n",
       " {'BOOK': 'pentanediol',\n",
       "  'name': 'C<sub>5</sub>H<sub>12</sub>O<sub>2</sub> (Pentanediol)',\n",
       "  'info': 'organic/pentanediol.html',\n",
       "  'content': [{'PAGE': 'Moutzouris',\n",
       "    'name': 'Moutzouris et al. 2013: n 0.450-1.55 µm',\n",
       "    'data': 'organic/C5H12O2 - pentanediol/Moutzouris.yml'}]},\n",
       " {'DIVIDER': 'Ketones'},\n",
       " {'BOOK': 'acetone',\n",
       "  'name': 'C<sub>3</sub>H<sub>6</sub>O (Acetone)',\n",
       "  'info': 'organic/acetone.html',\n",
       "  'content': [{'PAGE': 'Rheims',\n",
       "    'name': 'Rheims et al. 1997: n 0.477-0.83 µm',\n",
       "    'data': 'organic/C3H6O - acetone/Rheims.yml'}]},\n",
       " {'DIVIDER': 'Haloalkanes'},\n",
       " {'BOOK': 'bromoform',\n",
       "  'name': 'CHBr<sub>3</sub> (Bromoform)',\n",
       "  'info': 'organic/bromoform.html',\n",
       "  'content': [{'PAGE': 'Ghosal',\n",
       "    'name': 'Ghosal et al. 1993: n 1-13 µm',\n",
       "    'data': 'organic/CHBr3 - bromoform/Ghosal.yml'}]},\n",
       " {'BOOK': 'dichloromethane',\n",
       "  'name': 'CH<sub>2</sub>Cl<sub>2</sub> (Dichloromethane)',\n",
       "  'info': 'organic/dichloromethane.html',\n",
       "  'content': [{'PAGE': 'Bertie',\n",
       "    'name': 'Bertie et al. 1995: n,k 1.54-12.5 µm',\n",
       "    'data': 'organic/CH2Cl2 - dichloromethane/Bertie.yml'}]},\n",
       " {'BOOK': 'chloroform',\n",
       "  'name': 'CHCl<sub>3</sub> (Chloroform)',\n",
       "  'info': 'organic/chloroform.html',\n",
       "  'content': [{'PAGE': 'Kedenburg',\n",
       "    'name': 'Kedenburg et al. 2012: n 0.5-1.6 µm, k 0.5-1.75 µm',\n",
       "    'data': 'organic/CHCl3 - chloroform/Kedenburg.yml'}]},\n",
       " {'BOOK': 'carbon_tetrachloride',\n",
       "  'name': 'CCl<sub>4</sub> (Carbon tetrachloride)',\n",
       "  'info': 'organic/carbon tetrachloride.html',\n",
       "  'content': [{'PAGE': 'Kedenburg',\n",
       "    'name': 'Kedenburg et al. 2012: n 0.5-1.6 µm, k 0.5-1.5 µm',\n",
       "    'data': 'organic/CCl4 - carbon tetrachloride/Kedenburg.yml'},\n",
       "   {'PAGE': 'Moutzouris',\n",
       "    'name': 'Moutzouris et al. 2013: n 0.450-1.55 µm',\n",
       "    'data': 'organic/CCl4 - carbon tetrachloride/Moutzouris.yml'},\n",
       "   {'PAGE': 'Ghosal',\n",
       "    'name': 'Ghosal et al. 1993: n 1-9 µm',\n",
       "    'data': 'organic/CCl4 - carbon tetrachloride/Ghosal.yml'}]},\n",
       " {'DIVIDER': 'Nitriles'},\n",
       " {'BOOK': 'acetonitrile',\n",
       "  'name': 'C<sub>2</sub>H<sub>3</sub>N (Acetonitrile)',\n",
       "  'info': 'organic/acetonitrile.html',\n",
       "  'content': [{'PAGE': 'Kozma',\n",
       "    'name': 'Kozma et al. 2005: n 0.230-0.641 µm',\n",
       "    'data': 'organic/C2H3N - acetonitrile/Kozma.yml'},\n",
       "   {'PAGE': 'Myers',\n",
       "    'name': 'Myers et al. 2018: n,k 1.28-25.0 µm',\n",
       "    'data': 'organic/C2H3N - acetonitrile/Myers.yml'},\n",
       "   {'PAGE': 'Moutzouris',\n",
       "    'name': 'Moutzouris et al. 2013: n 0.450-1.55 µm',\n",
       "    'data': 'organic/C2H3N - acetonitrile/Moutzouris.yml'}]},\n",
       " {'DIVIDER': 'Amines'},\n",
       " {'BOOK': 'diisopropylaminoethanol',\n",
       "  'name': 'C<sub>8</sub>H<sub>19</sub>NO (Diisopropylaminoethanol, DIPA)',\n",
       "  'info': 'organic/diisopropylaminoethanol.html',\n",
       "  'content': [{'PAGE': 'Myers',\n",
       "    'name': 'Myers et al. 2018: n,k 1.28-25.0 µm',\n",
       "    'data': 'organic/C8H19NO - diisopropylaminoethanol/Myers.yml'}]},\n",
       " {'DIVIDER': 'Other non-polymer compounds'},\n",
       " {'BOOK': 'urea',\n",
       "  'name': 'CH<sub>4</sub>N<sub>2</sub>O (Urea)',\n",
       "  'info': 'organic/urea.html',\n",
       "  'content': [{'PAGE': 'Rosker-o',\n",
       "    'name': 'Rosker et al. 1985: n(o) 0.3-1.06 µm',\n",
       "    'data': 'organic/CH4N2O - urea/Rosker-o.yml'},\n",
       "   {'PAGE': 'Rosker-e',\n",
       "    'name': 'Rosker et al. 1985: n(e) 0.3-1.06 µm',\n",
       "    'data': 'organic/CH4N2O - urea/Rosker-e.yml'}]},\n",
       " {'BOOK': 'dimethyl_sulfoxide',\n",
       "  'name': 'C<sub>2</sub>H<sub>6</sub>OS (Dimethyl sulfoxide, DMSO)',\n",
       "  'info': 'organic/dimethyl sulfoxide.html',\n",
       "  'content': [{'PAGE': 'Kozma',\n",
       "    'name': 'Kozma et al. 2005: n 0.237-0.641 µm',\n",
       "    'data': 'organic/C2H6OS - dimethyl sulfoxide/Kozma.yml'}]},\n",
       " {'BOOK': 'dimethyl_methylphosphonate',\n",
       "  'name': 'C<sub>3</sub>H<sub>9</sub>O<sub>3</sub>P (Dimethyl methylphosphonate, DMMP)',\n",
       "  'info': 'organic/dimethyl methylphosphonate.html',\n",
       "  'content': [{'PAGE': 'Querry-NIR',\n",
       "    'name': 'Querry 1987: Near-infrared; n,k 0.80-2.5 µm',\n",
       "    'data': 'organic/C3H9O3P - dimethyl methylphosphonate/Querry-NIR.yml'},\n",
       "   {'PAGE': 'Querry-IR',\n",
       "    'name': 'Querry 1987: Infrared; n,k 2.5-56 µm',\n",
       "    'data': 'organic/C3H9O3P - dimethyl methylphosphonate/Querry-IR.yml'},\n",
       "   {'PAGE': 'Myers',\n",
       "    'name': 'Myers et al. 2018: n,k 1.28-25.0 µm',\n",
       "    'data': 'organic/C3H9O3P - dimethyl methylphosphonate/Myers.yml'}]},\n",
       " {'BOOK': 'diethyl_sulfite',\n",
       "  'name': 'C<sub>4</sub>H<sub>10</sub>O<sub>3</sub>S (Diethyl sulfite, DES)',\n",
       "  'info': 'organic/diethyl sulfite.html',\n",
       "  'content': [{'PAGE': 'Querry',\n",
       "    'name': 'Querry 1987: n,k 0.270-19.6 µm',\n",
       "    'data': 'organic/C4H10O3S - diethyl sulfite/Querry.yml'}]},\n",
       " {'BOOK': 'diisopropyl_methylphosphonate',\n",
       "  'name': 'C<sub>7</sub>H<sub>17</sub>O3P (Diisopropyl methylphosphonate, DIMP)',\n",
       "  'info': 'organic/diisopropyl methylphosphonate.html',\n",
       "  'content': [{'PAGE': 'Querry-NIR',\n",
       "    'name': 'Querry 1987: Near-infrared; n,k 0.81-2.5 µm',\n",
       "    'data': 'organic/C7H17O3P - diisopropyl methylphosphonate/Querry-NIR.yml'},\n",
       "   {'PAGE': 'Querry-IR',\n",
       "    'name': 'Querry 1987: Infrared; n,k 2.5-56 µm',\n",
       "    'data': 'organic/C7H17O3P - diisopropyl methylphosphonate/Querry-IR.yml'}]},\n",
       " {'BOOK': 'potassium_hydrogen_phthalate',\n",
       "  'name': 'C<sub>8</sub>H<sub>5</sub>KO<sub>4</sub> (Potassium hydrogen phthalate, KHP)',\n",
       "  'info': 'organic/potassium hydrogen phthalate.html',\n",
       "  'content': [{'PAGE': 'Moutzouris-α',\n",
       "    'name': 'Moutzouris et al. 2011: n(α) 0.450-1.55 µm',\n",
       "    'data': 'organic/C8H5KO4 - potassium hydrogen phthalate/Moutzouris-alpha.yml'},\n",
       "   {'PAGE': 'Moutzouris-β',\n",
       "    'name': 'Moutzouris et al. 2011: n(β) 0.450-1.55 µm',\n",
       "    'data': 'organic/C8H5KO4 - potassium hydrogen phthalate/Moutzouris-beta.yml'},\n",
       "   {'PAGE': 'Moutzouris-γ',\n",
       "    'name': 'Moutzouris et al. 2011: n(γ) 0.450-1.55 µm',\n",
       "    'data': 'organic/C8H5KO4 - potassium hydrogen phthalate/Moutzouris-gamma.yml'}]},\n",
       " {'BOOK': 'cinnamaldehyde',\n",
       "  'name': 'C<sub>9</sub>H<sub>8</sub>O (Cinnamaldehyde)',\n",
       "  'info': 'organic/cinnamaldehyde.html',\n",
       "  'content': [{'PAGE': 'Rheims',\n",
       "    'name': 'Rheims et al. 1997: n 0.589-1.05 µm',\n",
       "    'data': 'organic/C9H8O - cinnamaldehyde/Rheims.yml'}]},\n",
       " {'DIVIDER': 'Polymers'},\n",
       " {'BOOK': 'polyvinil_chloride',\n",
       "  'name': '(C<sub>2</sub>H<sub>3</sub>Cl)<sub>n</sub> (Polyvinyl chloride, PVC)',\n",
       "  'info': 'organic/polyvinyl chloride.html',\n",
       "  'content': [{'PAGE': 'Zhang',\n",
       "    'name': 'Zhang et al. 2020: n,k 0.4-20 µm',\n",
       "    'data': 'organic/(C2H3Cl)n - polyvinyl chloride/Zhang.yml'}]},\n",
       " {'BOOK': 'polyethylene',\n",
       "  'name': '(C<sub>2</sub>H<sub>4</sub>)<sub>n</sub> (Polyethylene, PE, HDPE)',\n",
       "  'info': 'organic/polyethylene.html',\n",
       "  'content': [{'PAGE': 'Smith',\n",
       "    'name': 'Smith and Loewenstein 1975: HDPE; n,k 40.0-200 µm',\n",
       "    'data': 'organic/(C2H4)n - polyethylene/Smith.yml'}]},\n",
       " {'BOOK': 'polyvinyl_alcohol',\n",
       "  'name': '(C<sub>2</sub>H<sub>4</sub>O)<sub>n</sub> (Polyvinyl alcohol, PVA)',\n",
       "  'info': 'organic/polyvinyl alcohol.html',\n",
       "  'content': [{'PAGE': 'Schnepf',\n",
       "    'name': 'Schnepf et al. 2017: n 0.3-1.5 µm',\n",
       "    'data': 'organic/(C2H4O)n - polyvinyl alcohol/Schnepf.yml'},\n",
       "   {'PAGE': 'Bodurov',\n",
       "    'name': 'Bodurov et al. 2016: n 0.405-0.635 µm',\n",
       "    'data': 'organic/(C2H4O)n - polyvinyl alcohol/Bodurov.yml'}]},\n",
       " {'BOOK': 'polydimethylsiloxane',\n",
       "  'name': '(C<sub>2</sub>H<sub>6</sub>OSi)<sub>n</sub> (Polydimethylsiloxane, PDMS)',\n",
       "  'info': 'organic/polydimethylsiloxane.html',\n",
       "  'content': [{'PAGE': 'Schneider-RTV615',\n",
       "    'name': 'Schneider et al. 2009: RTV 615; n 0.35-0.70 µm',\n",
       "    'data': 'organic/(C2H6OSi)n - polydimethylsiloxane/Schneider-RTV615.yml'},\n",
       "   {'PAGE': 'Schneider-Sylgard184',\n",
       "    'name': 'Schneider et al. 2009: Sylgard 184; n 0.35-0.70 µm',\n",
       "    'data': 'organic/(C2H6OSi)n - polydimethylsiloxane/Schneider-Sylgard184.yml'},\n",
       "   {'PAGE': 'Zhang-5-1',\n",
       "    'name': 'Zhang et al. 2020: 5:1; n,k 0.4-20 µm',\n",
       "    'data': 'organic/(C2H6OSi)n - polydimethylsiloxane/Zhang-5-1.yml'},\n",
       "   {'PAGE': 'Zhang-10-1',\n",
       "    'name': 'Zhang et al. 2020: 10:1; n,k 0.4-20 µm',\n",
       "    'data': 'organic/(C2H6OSi)n - polydimethylsiloxane/Zhang-10-1.yml'},\n",
       "   {'PAGE': 'Zhang-15-1',\n",
       "    'name': 'Zhang et al. 2020: 15:1; n,k 0.4-20 µm',\n",
       "    'data': 'organic/(C2H6OSi)n - polydimethylsiloxane/Zhang-15-1.yml'},\n",
       "   {'PAGE': 'Zhang-20-1',\n",
       "    'name': 'Zhang et al. 2020: 20:1; n,k 0.4-20 µm',\n",
       "    'data': 'organic/(C2H6OSi)n - polydimethylsiloxane/Zhang-20-1.yml'},\n",
       "   {'PAGE': 'Gupta',\n",
       "    'name': 'Gupta et al. 2019: n 0.30-1.69 µm',\n",
       "    'data': 'organic/(C2H6OSi)n - polydimethylsiloxane/Gupta.yml'},\n",
       "   {'PAGE': 'Gupta-UV',\n",
       "    'name': 'Gupta et al. 2019: UV PDMS; n 0.30-0.90 µm',\n",
       "    'data': 'organic/(C2H6OSi)n - polydimethylsiloxane/Gupta-UV.yml'},\n",
       "   {'PAGE': 'Querry-NIR',\n",
       "    'name': 'Querry 1987: SF-96 fluid; n,k 0.82-2.5 µm',\n",
       "    'data': 'organic/(C2H6OSi)n - polydimethylsiloxane/Querry-NIR.yml'},\n",
       "   {'PAGE': 'Querry-IR',\n",
       "    'name': 'Querry 1987: SF-96 fluid; n,k 2.5-56 µm',\n",
       "    'data': 'organic/(C2H6OSi)n - polydimethylsiloxane/Querry-IR.yml'}]},\n",
       " {'BOOK': '(C2ClF3)n - polychlorotrifluoroethylene',\n",
       "  'name': '(C<sub>2</sub>ClF<sub>3</sub>)<sub>n</sub> (Polychlorotrifluoroethylene, PCTFE)',\n",
       "  'info': 'organic/polychlorotrifluoroethylene.html',\n",
       "  'content': [{'PAGE': 'Smith',\n",
       "    'name': 'Smith and Loewenstein 1975: n,k 28.6-200 µm',\n",
       "    'data': 'organic/(C2ClF3)n - polychlorotrifluoroethylene/Smith.yml'}]},\n",
       " {'BOOK': 'polylactic_acid',\n",
       "  'name': '(C<sub>3</sub>H<sub>4</sub>O<sub>2</sub>)<sub>n</sub> (Polylactic acid, PLA)',\n",
       "  'info': 'organic/polylactic acid.html',\n",
       "  'content': [{'PAGE': 'Bodurov',\n",
       "    'name': 'Bodurov et al. 2016: PDLA; n 0.405-0.635 µm',\n",
       "    'data': 'organic/(C3H4O2)n - polylactic acid/Bodurov.yml'}]},\n",
       " {'BOOK': 'poly(methyl_methacrylate)',\n",
       "  'name': '(C<sub>5</sub>H<sub>8</sub>O<sub>2</sub>)<sub>n</sub> (Poly(methyl methacrylate), PMMA)',\n",
       "  'info': 'organic/poly(methyl methacrylate).html',\n",
       "  'content': [{'PAGE': 'Sultanova',\n",
       "    'name': 'Sultanova et al. 2009: n 0.437-1.052 µm',\n",
       "    'data': 'organic/(C5H8O2)n - poly(methyl methacrylate)/Sultanova.yml'},\n",
       "   {'PAGE': 'Zhang-Tomson',\n",
       "    'name': 'Zhang et al. 2020: Tomson; n,k 0.4-20 µm',\n",
       "    'data': 'organic/(C5H8O2)n - poly(methyl methacrylate)/Zhang-Tomson.yml'},\n",
       "   {'PAGE': 'Zhang-Mitsubishi',\n",
       "    'name': 'Zhang et al. 2020: Mitsubishi; n,k 0.4-20 µm',\n",
       "    'data': 'organic/(C5H8O2)n - poly(methyl methacrylate)/Zhang-Mitsubishi.yml'},\n",
       "   {'PAGE': 'Tsuda',\n",
       "    'name': 'Tsuda et al. 2018: n 0.6-1.0 µm',\n",
       "    'data': 'organic/(C5H8O2)n - poly(methyl methacrylate)/Tsuda.yml'},\n",
       "   {'PAGE': 'Tsuda-LD',\n",
       "    'name': 'Tsuda et al. 2018: Lorentz-Drude model; n,k 2.50-18.2 µm',\n",
       "    'data': 'organic/(C5H8O2)n - poly(methyl methacrylate)/Tsuda-LD.yml'},\n",
       "   {'PAGE': 'Tsuda-BB',\n",
       "    'name': 'Tsuda et al. 2018: Brendel-Bormann model; n,k 2.50-18.2 µm',\n",
       "    'data': 'organic/(C5H8O2)n - poly(methyl methacrylate)/Tsuda-BB.yml'},\n",
       "   {'PAGE': 'Bodurov',\n",
       "    'name': 'Bodurov et al. 2016: n 0.405-0.635 µm',\n",
       "    'data': 'organic/(C5H8O2)n - poly(methyl methacrylate)/Bodurov.yml'},\n",
       "   {'PAGE': 'Beadie',\n",
       "    'name': 'Beadie et al. 2015: n 0.42-1.62 µm',\n",
       "    'data': 'organic/(C5H8O2)n - poly(methyl methacrylate)/Beadie.yml'},\n",
       "   {'PAGE': 'Szczurowski',\n",
       "    'name': 'Szczurowski 2013: n 0.405-1.08 µm',\n",
       "    'data': 'organic/(C5H8O2)n - poly(methyl methacrylate)/Szczurowski.yml'}]},\n",
       " {'BOOK': 'polyvinylpyrrolidone',\n",
       "  'name': '(C<sub>6</sub>H<sub>9</sub>NO)<sub>n</sub> (Polyvinylpyrrolidone, PVP)',\n",
       "  'info': 'organic/polyvinylpyrrolidone.html',\n",
       "  'content': [{'PAGE': 'Konig',\n",
       "    'name': 'König et al. 2014: n,k 0.375-1.0 µm',\n",
       "    'data': 'organic/(C6H9NO)n - polyvinylpyrrolidone/Konig.yml'}]},\n",
       " {'BOOK': 'cellulose',\n",
       "  'name': '(C<sub>6</sub>H<sub>10</sub>O<sub>5</sub>)<sub>n</sub> (Cellulose)',\n",
       "  'info': 'organic/cellulose.html',\n",
       "  'content': [{'PAGE': 'Sultanova',\n",
       "    'name': 'Sultanova et al. 2009: n 0.437-1.05 µm',\n",
       "    'data': 'organic/(C6H10O5)n - cellulose/Sultanova.yml'}]},\n",
       " {'BOOK': 'poly(N-isopropylacrylamide)',\n",
       "  'name': '(C<sub>6</sub>H<sub>11</sub>NO)<sub>n</sub> (Poly(N-isopropylacrylamide), PNIPAM)',\n",
       "  'info': 'organic/poly(N-isopropylacrylamide).html',\n",
       "  'content': [{'PAGE': 'Brasse',\n",
       "    'name': 'Brasse et al. 2018: n,k 0.246-1.69 µm',\n",
       "    'data': 'organic/(C6H11NO)n - poly(N-isopropylacrylamide)/Brasse.yml'}]},\n",
       " {'BOOK': '(C6H12)n - polymethylpentene',\n",
       "  'name': '(C<sub>6</sub>H<sub>12</sub>)<sub>n</sub> (Polymethylpentene, PMP)',\n",
       "  'info': 'organic/polymethylpentene.html',\n",
       "  'content': [{'PAGE': 'Smith',\n",
       "    'name': 'Smith and Loewenstein 1975: n,k 29.4-200 µm',\n",
       "    'data': 'organic/(C6H12)n - polymethylpentene/Smith.yml'}]},\n",
       " {'BOOK': 'polystyren',\n",
       "  'name': '(C<sub>8</sub>H<sub>8</sub>)<sub>n</sub> (Polystyrene, PS)',\n",
       "  'info': 'organic/polystyren.html',\n",
       "  'content': [{'PAGE': 'Sultanova',\n",
       "    'name': 'Sultanova et al. 2009: n 0.437-1.05 µm',\n",
       "    'data': 'organic/(C8H8)n - polystyren/Sultanova.yml'},\n",
       "   {'PAGE': 'Zhang',\n",
       "    'name': 'Zhang et al. 2020: n,k 0.4-20 µm',\n",
       "    'data': 'organic/(C8H8)n - polystyren/Zhang.yml'},\n",
       "   {'PAGE': 'Myers',\n",
       "    'name': 'Myers et al. 2018: n,k 1.28-25.0 µm',\n",
       "    'data': 'organic/(C8H8)n - polystyren/Myers.yml'}]},\n",
       " {'BOOK': 'polyethylene_terephthalate',\n",
       "  'name': '(C<sub>10</sub>H<sub>8</sub>O<sub>4</sub>)<sub>n</sub> (Polyethylene terephthalate, PET)',\n",
       "  'info': 'organic/polyethylene terephthalate.html',\n",
       "  'content': [{'PAGE': 'Zhang',\n",
       "    'name': 'Zhang et al. 2020: n,k 0.4-20 µm',\n",
       "    'data': 'organic/(C10H8O4)n - polyethylene terephthalate/Zhang.yml'}]},\n",
       " {'BOOK': 'polycarbonate',\n",
       "  'name': '(C<sub>16</sub>H<sub>14</sub>O<sub>3</sub>)<sub>n</sub> (Polycarbonate, PC)',\n",
       "  'info': 'organic/polycarbonate.html',\n",
       "  'content': [{'PAGE': 'Sultanova',\n",
       "    'name': 'Sultanova et al. 2009: n 0.437-1.05 µm',\n",
       "    'data': 'organic/(C16H14O3)n - polycarbonate/Sultanova.yml'},\n",
       "   {'PAGE': 'Zhang',\n",
       "    'name': 'Zhang et al. 2020: n,k 0.4-20 µm',\n",
       "    'data': 'organic/(C16H14O3)n - polycarbonate/Zhang.yml'}]},\n",
       " {'BOOK': 'polyetherimide',\n",
       "  'name': '(C<sub>37</sub>H<sub>24</sub>O<sub>6</sub>N<sub>2</sub>)<sub>n</sub> (Polyetherimide, PEI)',\n",
       "  'info': 'organic/polyetherimide.html',\n",
       "  'content': [{'PAGE': 'Zhang',\n",
       "    'name': 'Zhang et al. 2020: n,k 0.4-20 µm',\n",
       "    'data': 'organic/(C37H24O6N2)n - polyetherimide/Zhang.yml'}]}]"
      ]
     },
     "execution_count": 30,
     "metadata": {},
     "output_type": "execute_result"
    }
   ],
   "source": [
    "shelves[1]['content']"
   ]
  },
  {
   "cell_type": "code",
   "execution_count": 31,
   "id": "canadian-morris",
   "metadata": {},
   "outputs": [
    {
     "data": {
      "text/plain": [
       "78"
      ]
     },
     "execution_count": 31,
     "metadata": {},
     "output_type": "execute_result"
    }
   ],
   "source": [
    "len(shelves[1]['content'])"
   ]
  },
  {
   "cell_type": "code",
   "execution_count": 32,
   "id": "amazing-welsh",
   "metadata": {},
   "outputs": [
    {
     "data": {
      "text/plain": [
       "'acetylene'"
      ]
     },
     "execution_count": 32,
     "metadata": {},
     "output_type": "execute_result"
    }
   ],
   "source": [
    "shelves[1]['content'][8]['BOOK']"
   ]
  },
  {
   "cell_type": "code",
   "execution_count": 33,
   "id": "descending-shareware",
   "metadata": {},
   "outputs": [
    {
     "data": {
      "text/plain": [
       "{'PAGE': 'Loria',\n",
       " 'name': 'Loria 1909: Gas at 0 °C; n 0.529-0.659 µm',\n",
       " 'data': 'organic/C2H2 - acetylene/Loria.yml'}"
      ]
     },
     "execution_count": 33,
     "metadata": {},
     "output_type": "execute_result"
    }
   ],
   "source": [
    "shelves[1]['content'][8]['content'][0]"
   ]
  },
  {
   "cell_type": "code",
   "execution_count": null,
   "id": "respected-mapping",
   "metadata": {},
   "outputs": [],
   "source": []
  },
  {
   "cell_type": "code",
   "execution_count": 34,
   "id": "vital-planet",
   "metadata": {
    "tags": []
   },
   "outputs": [
    {
     "data": {
      "text/plain": [
       "[array(1.56916+3.52e-07j)]"
      ]
     },
     "execution_count": 34,
     "metadata": {},
     "output_type": "execute_result"
    }
   ],
   "source": [
    "lamb=1.04\n",
    "yamlStream=open(files[11],'r')\n",
    "allData=yaml.safe_load(yamlStream);\t\n",
    "\n",
    "materialData=allData[\"DATA\"][0]\n",
    "\n",
    "assert materialData[\"type\"]==\"tabulated nk\"\n",
    "\n",
    "matLambda=[]\n",
    "matN=[]\n",
    "matK=[]\n",
    "#in this type of material read data line by line\n",
    "for line in materialData[\"data\"].splitlines():\n",
    "    parsed=parse(\"{l:g} {n:g} {k:g}\",line)\n",
    "    try:\n",
    "        n=parsed[\"n\"]+1j*parsed[\"k\"]\n",
    "        matLambda.append(parsed[\"l\"]);\n",
    "        matN.append(parsed[\"n\"])\n",
    "        matK.append(parsed[\"k\"])\n",
    "    except TypeError as e:\n",
    "        sys.stderr.write(\"TypeError occured:\"+str(e)+\"\\r\\n\")\n",
    "\n",
    "matLambda=np.array(matLambda)\n",
    "matN=np.array(matN)\n",
    "matK=np.array(matK)\n",
    "\n",
    "interN=interp1d(matLambda,matN)\n",
    "interK=interp1d(matLambda,matK)\n",
    "\n",
    "[ x for x in np.nditer(interN(lamb)+1j*interK(lamb)) ]"
   ]
  },
  {
   "cell_type": "code",
   "execution_count": 35,
   "id": "2289f69a-5df6-490d-ab3d-67a2a9b464ac",
   "metadata": {},
   "outputs": [
    {
     "data": {
      "text/plain": [
       "array([0.4 , 0.41, 0.42, 0.43, 0.44, 0.45, 0.46, 0.47, 0.48, 0.49, 0.5 ,\n",
       "       0.51, 0.52, 0.53, 0.54, 0.55, 0.56, 0.57, 0.58, 0.59, 0.6 , 0.61,\n",
       "       0.62, 0.63, 0.64, 0.65, 0.66, 0.67, 0.68, 0.69, 0.7 , 0.71, 0.72,\n",
       "       0.73, 0.74, 0.75, 0.76, 0.77, 0.78, 0.79, 0.8 , 0.81, 0.82, 0.83,\n",
       "       0.84, 0.85, 0.86, 0.87, 0.88, 0.89, 0.9 , 0.91, 0.92, 0.93, 0.94,\n",
       "       0.95, 0.96, 0.97, 0.98, 0.99, 1.  ])"
      ]
     },
     "execution_count": 35,
     "metadata": {},
     "output_type": "execute_result"
    }
   ],
   "source": [
    "matLambda[:61]"
   ]
  },
  {
   "cell_type": "code",
   "execution_count": 36,
   "id": "cfd9f0c9-5a41-4527-873d-08e83eac3ed2",
   "metadata": {},
   "outputs": [
    {
     "data": {
      "text/plain": [
       "array([1.12e-05, 2.95e-07, 4.80e-07, 5.22e-08, 6.27e-09, 4.58e-07,\n",
       "       4.66e-07, 5.78e-07, 1.79e-06, 6.77e-07, 6.30e-06, 2.35e-06,\n",
       "       4.09e-06, 5.86e-05, 1.46e-05, 3.58e-05, 1.53e-05, 4.15e-05,\n",
       "       8.06e-05, 2.84e-03, 2.24e-03, 1.62e-03, 1.67e-04, 2.39e-03,\n",
       "       1.90e-03, 1.84e-03, 2.78e-03, 1.86e-03, 2.33e-03, 5.72e-03,\n",
       "       1.38e-02, 5.47e-03, 1.55e-03, 1.53e-03, 1.79e-03, 1.85e-03,\n",
       "       1.80e-03, 2.18e-03, 1.51e-03, 3.99e-03, 2.26e-03, 3.00e-03,\n",
       "       3.47e-03, 3.19e-03, 4.92e-03, 2.17e-01, 8.74e-03, 5.87e-03,\n",
       "       6.49e-03, 2.46e-02, 2.04e-02, 2.02e-02, 6.34e-01, 3.50e-01,\n",
       "       6.42e-02, 1.36e-01, 1.11e-02, 3.20e-02, 3.70e-02, 1.92e-02,\n",
       "       1.12e-02, 7.56e-02])"
      ]
     },
     "execution_count": 36,
     "metadata": {},
     "output_type": "execute_result"
    }
   ],
   "source": [
    "matK[::10]"
   ]
  },
  {
   "cell_type": "code",
   "execution_count": 37,
   "id": "2d634b2c-46a6-4ddc-93da-81b5b88315ed",
   "metadata": {},
   "outputs": [
    {
     "data": {
      "text/plain": [
       "[<matplotlib.lines.Line2D at 0x7ffbf0f032b0>]"
      ]
     },
     "execution_count": 37,
     "metadata": {},
     "output_type": "execute_result"
    },
    {
     "data": {
      "image/png": "[encoded data removed]",
      "text/plain": [
       "<Figure size 432x288 with 1 Axes>"
      ]
     },
     "metadata": {
      "needs_background": "light"
     },
     "output_type": "display_data"
    }
   ],
   "source": [
    "plt.plot(matLambda[:61], matK[:61])"
   ]
  },
  {
   "cell_type": "code",
   "execution_count": 38,
   "id": "c6199718-e41e-44a1-acb3-52e382d14c64",
   "metadata": {},
   "outputs": [
    {
     "data": {
      "text/plain": [
       "[<matplotlib.lines.Line2D at 0x7ffbf90abb80>]"
      ]
     },
     "execution_count": 38,
     "metadata": {},
     "output_type": "execute_result"
    },
    {
     "data": {
      "image/png": "[encoded data removed]",
      "text/plain": [
       "<Figure size 432x288 with 1 Axes>"
      ]
     },
     "metadata": {
      "needs_background": "light"
     },
     "output_type": "display_data"
    }
   ],
   "source": [
    "last = 61\n",
    "thi = 10\n",
    "t = thi*1.0e3\n",
    "matT = [np.exp(-4.0*np.pi*t*k/wv) for n,k,wv in zip(matN[:last], matK[:last], matLambda[:last])]\n",
    "plt.plot(matLambda[:61], matT)"
   ]
  },
  {
   "cell_type": "code",
   "execution_count": 39,
   "id": "7a9a2a5a-6214-40d7-8d5b-0eaeea8e0437",
   "metadata": {},
   "outputs": [
    {
     "data": {
      "text/plain": [
       "[<matplotlib.lines.Line2D at 0x7ffbf0fae880>]"
      ]
     },
     "execution_count": 39,
     "metadata": {},
     "output_type": "execute_result"
    },
    {
     "data": {
      "image/png": "[encoded data removed]",
      "text/plain": [
       "<Figure size 432x288 with 1 Axes>"
      ]
     },
     "metadata": {
      "needs_background": "light"
     },
     "output_type": "display_data"
    }
   ],
   "source": [
    "last = 61\n",
    "thi = 10\n",
    "t = thi*1.0e3\n",
    "matT1 = np.exp(-4.0*np.pi*t*matK[:last]/matLambda[:last])\n",
    "plt.plot(matLambda[:last], matT1)"
   ]
  },
  {
   "cell_type": "code",
   "execution_count": 40,
   "id": "e05896f8-d57b-4ce6-a69e-cd2a173a2ce3",
   "metadata": {},
   "outputs": [
    {
     "data": {
      "text/plain": [
       "[<matplotlib.lines.Line2D at 0x7ffc1338dbb0>]"
      ]
     },
     "execution_count": 40,
     "metadata": {},
     "output_type": "execute_result"
    },
    {
     "data": {
      "image/png": "[encoded data removed]",
      "text/plain": [
       "<Figure size 432x288 with 1 Axes>"
      ]
     },
     "metadata": {
      "needs_background": "light"
     },
     "output_type": "display_data"
    }
   ],
   "source": [
    "last = 61\n",
    "thi = 10\n",
    "t = thi*1.0e3\n",
    "matT1 = np.exp(-4.0*np.pi*t*matK/matLambda)\n",
    "plt.plot(matLambda, matT1)"
   ]
  },
  {
   "cell_type": "code",
   "execution_count": 41,
   "id": "7ca11393-19f4-49c8-900a-f6b8240a5d35",
   "metadata": {},
   "outputs": [
    {
     "data": {
      "text/plain": [
       "[<matplotlib.lines.Line2D at 0x7ffbe9259d60>]"
      ]
     },
     "execution_count": 41,
     "metadata": {},
     "output_type": "execute_result"
    },
    {
     "data": {
      "image/png": "[encoded data removed]",
      "text/plain": [
       "<Figure size 432x288 with 1 Axes>"
      ]
     },
     "metadata": {
      "needs_background": "light"
     },
     "output_type": "display_data"
    }
   ],
   "source": [
    "plt.plot(matLambda, matK)"
   ]
  },
  {
   "cell_type": "code",
   "execution_count": 42,
   "id": "urban-silence",
   "metadata": {},
   "outputs": [],
   "source": [
    "matLambda=[]\n",
    "matN=[]\n",
    "matK=[]\n",
    "materialInputs = materialData[\"data\"].splitlines()\n",
    "for line in materialInputs:\n",
    "    parsed=parse(\"{l:g} {n:g} {k:g}\",line)\n",
    "    matLambda.append(parsed[\"l\"])\n",
    "    matN.append(parsed[\"n\"])\n",
    "    matK.append(parsed[\"k\"])\n"
   ]
  },
  {
   "cell_type": "code",
   "execution_count": 43,
   "id": "honest-psychiatry",
   "metadata": {},
   "outputs": [
    {
     "data": {
      "text/plain": [
       "'19.942 1.62390 2.13E-02'"
      ]
     },
     "execution_count": 43,
     "metadata": {},
     "output_type": "execute_result"
    }
   ],
   "source": [
    "materialInputs[-1]"
   ]
  },
  {
   "cell_type": "code",
   "execution_count": 44,
   "id": "ranging-consultation",
   "metadata": {},
   "outputs": [],
   "source": [
    "parsed=parse(\"{l:g} {n:g} {k:g}\",materialInputs[0])"
   ]
  },
  {
   "cell_type": "code",
   "execution_count": 45,
   "id": "unexpected-spectrum",
   "metadata": {},
   "outputs": [
    {
     "data": {
      "text/plain": [
       "<Result () {'l': 0.4, 'n': 1.63389, 'k': 1.12e-05}>"
      ]
     },
     "execution_count": 45,
     "metadata": {},
     "output_type": "execute_result"
    }
   ],
   "source": [
    "parsed"
   ]
  },
  {
   "cell_type": "code",
   "execution_count": 46,
   "id": "patient-exclusion",
   "metadata": {},
   "outputs": [
    {
     "data": {
      "text/plain": [
       "0.4"
      ]
     },
     "execution_count": 46,
     "metadata": {},
     "output_type": "execute_result"
    }
   ],
   "source": [
    "parsed[\"l\"]"
   ]
  },
  {
   "cell_type": "markdown",
   "id": "5564385f-5023-4a0a-be7b-a7caf41fac15",
   "metadata": {},
   "source": [
    "## Polycarbonate"
   ]
  },
  {
   "cell_type": "code",
   "execution_count": 47,
   "id": "2434b3e5-61e9-4476-8ec9-1af225a18714",
   "metadata": {},
   "outputs": [],
   "source": [
    "polycarb_url = 'https://refractiveindex.info/database/data/organic/(C16H14O3)n%20-%20polycarbonate/Zhang.yml'\n",
    "polycarb_yaml, name, catalog = rindexinfo.read_rii_url(polycarb_url)\n",
    "polycarb = rindexinfo.create_material(polycarb_yaml, name, catalog)"
   ]
  },
  {
   "cell_type": "code",
   "execution_count": 48,
   "id": "c2e3ef92-e3c4-42c7-b5ea-0ed102719850",
   "metadata": {},
   "outputs": [],
   "source": [
    "pcb_d = polycarb.rindex('d')\n",
    "pcb_F = polycarb.rindex('F')\n",
    "pcb_C = polycarb.rindex('C')"
   ]
  },
  {
   "cell_type": "code",
   "execution_count": 49,
   "id": "daf7ba3f-1a00-4d78-af4f-6da572fc3ea9",
   "metadata": {
    "tags": []
   },
   "outputs": [],
   "source": [
    "material_data = polycarb_yaml[\"DATA\"][0]"
   ]
  },
  {
   "cell_type": "code",
   "execution_count": 50,
   "id": "b9facd08-3ad1-4372-a260-c707e2e5b697",
   "metadata": {},
   "outputs": [
    {
     "data": {
      "text/plain": [
       "'1) X. Zhang, J. Qiu, X. Li, J. Zhao, L. Liu. Complex refractive indices measurements of polymers in visible and near-infrared bands, <a href=\"https://doi.org/10.1364/AO.383831\"><i>Appl. Opt.</i> <b>59</b>, 2337-2344 (2020)</a> (0.4-2 µm)<br>2) X. Zhang, J. Qiu, J. Zhao, X. Li, L. Liu. Complex refractive indices measurements of polymers in infrared bands, <a href=\"https://doi.org/10.1016/j.jqsrt.2020.107063\"><i>J. Quant. Spectrosc. Radiat. Transf.</i> <b>252</b>, 107063 (2020)</a> (2-20 µm)'"
      ]
     },
     "execution_count": 50,
     "metadata": {},
     "output_type": "execute_result"
    }
   ],
   "source": [
    "polycarb_yaml['REFERENCES']"
   ]
  },
  {
   "cell_type": "code",
   "execution_count": 51,
   "id": "c8ae47cb-769f-4ca2-bada-e23658616bf6",
   "metadata": {},
   "outputs": [
    {
     "data": {
      "text/plain": [
       "'Normal temperature and pressure. Manufacturer: Dedicated Plastic, China.'"
      ]
     },
     "execution_count": 51,
     "metadata": {},
     "output_type": "execute_result"
    }
   ],
   "source": [
    "polycarb_yaml['COMMENTS']"
   ]
  },
  {
   "cell_type": "code",
   "execution_count": 52,
   "id": "6513fafb-b5b6-4942-84ea-1d7c652c9c66",
   "metadata": {},
   "outputs": [
    {
     "data": {
      "text/plain": [
       "{'n_absolute': True, 'wavelength_vacuum': False}"
      ]
     },
     "execution_count": 52,
     "metadata": {},
     "output_type": "execute_result"
    }
   ],
   "source": [
    "polycarb_yaml['SPECS']"
   ]
  },
  {
   "cell_type": "code",
   "execution_count": 53,
   "id": "47bf8a73-8814-4c69-8c7a-41a2c839e0b5",
   "metadata": {
    "tags": []
   },
   "outputs": [
    {
     "data": {
      "text/plain": [
       "dict_keys(['type', 'data'])"
      ]
     },
     "execution_count": 53,
     "metadata": {},
     "output_type": "execute_result"
    }
   ],
   "source": [
    "polycarb_yaml['DATA'][0].keys()"
   ]
  },
  {
   "cell_type": "markdown",
   "id": "measured-remark",
   "metadata": {},
   "source": [
    "## Ohara FPL53"
   ]
  },
  {
   "cell_type": "code",
   "execution_count": 54,
   "id": "organized-norman",
   "metadata": {},
   "outputs": [],
   "source": [
    "FPL53, name, catalog = rindexinfo.read_rii_url('https://refractiveindex.info/database/data/glass/ohara/FPL53.yml')"
   ]
  },
  {
   "cell_type": "code",
   "execution_count": 55,
   "id": "amazing-dressing",
   "metadata": {
    "tags": []
   },
   "outputs": [],
   "source": [
    "material_data = FPL53[\"DATA\"][0]"
   ]
  },
  {
   "cell_type": "code",
   "execution_count": 56,
   "id": "spare-listening",
   "metadata": {},
   "outputs": [
    {
     "data": {
      "text/plain": [
       "'<a href=\"http://refractiveindex.info/download/data/2017/ohara_2017-11-30.agf\">OHARA Zemax catalog 2017-11-30</a> (obtained from <a href=\"http://www.ohara-inc.co.jp/en/product/optical/list/\">http://www.ohara-inc.co.jp</a>)<br>See also <a href=\"http://refractiveindex.info/download/data/2017/ohara_2017-11-30.pdf\">OHARA glass data sheets</a>'"
      ]
     },
     "execution_count": 56,
     "metadata": {},
     "output_type": "execute_result"
    }
   ],
   "source": [
    "FPL53['REFERENCES']"
   ]
  },
  {
   "cell_type": "code",
   "execution_count": 57,
   "id": "ranging-alarm",
   "metadata": {},
   "outputs": [
    {
     "data": {
      "text/plain": [
       "''"
      ]
     },
     "execution_count": 57,
     "metadata": {},
     "output_type": "execute_result"
    }
   ],
   "source": [
    "FPL53['COMMENTS']"
   ]
  },
  {
   "cell_type": "code",
   "execution_count": 58,
   "id": "moderate-eating",
   "metadata": {},
   "outputs": [
    {
     "data": {
      "text/plain": [
       "[{'type': 'formula 3',\n",
       "  'wavelength_range': '0.334 2.325',\n",
       "  'coefficients': '2.0531286 -0.0043190085 2 0.0062752442 -2 -9.8512972e-06 -4 1.364971e-05 -6 -8.9037944e-07 -8'},\n",
       " {'type': 'tabulated k',\n",
       "  'data': '0.334 -0.0000E+00\\n0.350 -0.0000E+00\\n0.365 -0.0000E+00\\n0.370 -0.0000E+00\\n0.380 -0.0000E+00\\n0.390 -0.0000E+00\\n0.400 -0.0000E+00\\n0.420 -0.0000E+00\\n0.460 -0.0000E+00\\n0.500 -0.0000E+00\\n0.660 -0.0000E+00\\n1.060 -0.0000E+00\\n1.529 -0.0000E+00\\n2.325 -0.0000E+00\\n'}]"
      ]
     },
     "execution_count": 58,
     "metadata": {},
     "output_type": "execute_result"
    }
   ],
   "source": [
    "FPL53['DATA']"
   ]
  },
  {
   "cell_type": "code",
   "execution_count": 59,
   "id": "wired-domain",
   "metadata": {},
   "outputs": [
    {
     "data": {
      "text/plain": [
       "{'type': 'formula 3',\n",
       " 'wavelength_range': '0.334 2.325',\n",
       " 'coefficients': '2.0531286 -0.0043190085 2 0.0062752442 -2 -9.8512972e-06 -4 1.364971e-05 -6 -8.9037944e-07 -8'}"
      ]
     },
     "execution_count": 59,
     "metadata": {},
     "output_type": "execute_result"
    }
   ],
   "source": [
    "FPL53['DATA'][0]"
   ]
  },
  {
   "cell_type": "code",
   "execution_count": 60,
   "id": "renewable-sessions",
   "metadata": {},
   "outputs": [
    {
     "data": {
      "text/plain": [
       "{'n_absolute': False,\n",
       " 'wavelength_vacuum': False,\n",
       " 'temperature': '25.0 Â°C',\n",
       " 'nd': 1.43875,\n",
       " 'Vd': 94.960437,\n",
       " 'glass_code': 439950,\n",
       " 'glass_status': 'preferred'}"
      ]
     },
     "execution_count": 60,
     "metadata": {},
     "output_type": "execute_result"
    }
   ],
   "source": [
    "FPL53['SPECS']"
   ]
  },
  {
   "cell_type": "code",
   "execution_count": 61,
   "id": "entire-feeding",
   "metadata": {
    "jupyter": {
     "source_hidden": true
    },
    "tags": []
   },
   "outputs": [
    {
     "data": {
      "text/plain": [
       "dict_keys(['type', 'wavelength_range', 'coefficients'])"
      ]
     },
     "execution_count": 61,
     "metadata": {},
     "output_type": "execute_result"
    }
   ],
   "source": [
    "FPL53['DATA'][0].keys()"
   ]
  },
  {
   "cell_type": "markdown",
   "id": "revolutionary-territory",
   "metadata": {},
   "source": [
    "## CaF2"
   ]
  },
  {
   "cell_type": "code",
   "execution_count": 62,
   "id": "organic-mouse",
   "metadata": {},
   "outputs": [],
   "source": [
    "caf2, name, catalog = rindexinfo.read_rii_url('https://refractiveindex.info/database/data/main/CaF2/Daimon-20.yml')"
   ]
  },
  {
   "cell_type": "code",
   "execution_count": 63,
   "id": "pursuant-gardening",
   "metadata": {},
   "outputs": [
    {
     "data": {
      "text/plain": [
       "{'REFERENCES': 'M. Daimon and A. Masumura. High-accuracy measurements of the refractive index and its temperature coefficient of calcium fluoride in a wide wavelength range from 138 to 2326 nm, <a href=\"https://doi.org/10.1364/AO.41.005275\"><i>Appl. Opt.</i> <b>41</b>, 5275-5281 (2002)</a>',\n",
       " 'COMMENTS': '20 Â°C, Nitrogen atmosphere',\n",
       " 'DATA': [{'type': 'formula 2',\n",
       "   'wavelength_range': '0.138 2.326',\n",
       "   'coefficients': '0 0.443749998 0.00178027854 0.444930066 0.00788536061 0.150133991 0.0124119491 8.85319946 2752.28175'}]}"
      ]
     },
     "execution_count": 63,
     "metadata": {},
     "output_type": "execute_result"
    }
   ],
   "source": [
    "caf2"
   ]
  },
  {
   "cell_type": "markdown",
   "id": "velvet-strip",
   "metadata": {},
   "source": [
    "## SiO2"
   ]
  },
  {
   "cell_type": "code",
   "execution_count": 64,
   "id": "knowing-works",
   "metadata": {},
   "outputs": [],
   "source": [
    "sio2, name, catalog = rindexinfo.read_rii_url('https://refractiveindex.info/database/data/main/SiO2/Malitson.yml')"
   ]
  },
  {
   "cell_type": "code",
   "execution_count": 65,
   "id": "entitled-prefix",
   "metadata": {},
   "outputs": [
    {
     "data": {
      "text/plain": [
       "{'REFERENCES': '1) I. H. Malitson. Interspecimen comparison of the refractive index of fused silica, <a href=\"https://doi.org/10.1364/JOSA.55.001205\"><i>J. Opt. Soc. Am.</i> <b>55</b>, 1205-1208 (1965)</a><br>2) C. Z. Tan. Determination of refractive index of silica glass for infrared wavelengths by IR spectroscopy, <a href=\"https://doi.org/10.1016/S0022-3093(97)00438-9\"><i>J. Non-Cryst. Solids</i> <b>223</b>, 158-163 (1998)</a><br> <sup>*</sup> Sellmeier formula is reported in Ref. 1 for the 0.21-3.71 μm wavelength range. Ref. 2 verifies the validity of the formula up to 6.7 μm.',\n",
       " 'COMMENTS': 'Fused silica, 20 °C',\n",
       " 'DATA': [{'type': 'formula 1',\n",
       "   'wavelength_range': '0.21 6.7',\n",
       "   'coefficients': '0 0.6961663 0.0684043 0.4079426 0.1162414 0.8974794 9.896161'}],\n",
       " 'SPECS': {'n_absolute': False,\n",
       "  'wavelength_vacuum': False,\n",
       "  'temperature': '20 °C'}}"
      ]
     },
     "execution_count": 65,
     "metadata": {},
     "output_type": "execute_result"
    }
   ],
   "source": [
    "sio2"
   ]
  },
  {
   "cell_type": "markdown",
   "id": "improved-white",
   "metadata": {},
   "source": [
    "## Germanium"
   ]
  },
  {
   "cell_type": "code",
   "execution_count": 66,
   "id": "verbal-lincoln",
   "metadata": {
    "collapsed": true,
    "jupyter": {
     "outputs_hidden": true
    },
    "tags": []
   },
   "outputs": [
    {
     "data": {
      "text/plain": [
       "{'REFERENCES': 'T. Amotchkina, M. Trubetskov, D. Hahner, V. Pervak, Characterization of e-beam evaporated Ge, YbF<sub>3</sub>, ZnS, and LaF<sub>3</sub> thin films for laser-oriented coatings, <a href=\"https://doi.org/10.1364/AO.59.000A40\"><i>Appl. Opt.</i> <b>59</b>, A40-A47 (2020)</a> (Data kindly provided by Tatiana Amotchkina [<a href=\"https://refractiveindex.info/download/data/2020/Amotchkina/Ge_substrate_nk.xlsx\">data</a>] [<a href=\"https://refractiveindex.info/download/data/2020/Amotchkina/Summary_for_RefractiveIndexINFO.pdf\">description</a>])',\n",
       " 'DATA': [{'type': 'tabulated nk',\n",
       "   'data': '0.40000 3.00000 2.51940\\n0.40939 3.00000 2.48531\\n0.41879 3.00000 2.45739\\n0.42818 3.00000 2.44187\\n0.43757 3.00000 2.44144\\n0.44696 3.00000 2.45499\\n0.45636 3.00000 2.47903\\n0.46575 3.00000 2.50990\\n0.47514 3.00000 2.54540\\n0.48454 3.00000 2.58601\\n0.49393 3.00000 2.63387\\n0.50332 3.00001 2.68749\\n0.51271 3.00025 2.74385\\n0.52211 3.00107 2.79707\\n0.53150 3.00274 2.83995\\n0.54089 3.00549 2.86821\\n0.55029 3.00959 2.88399\\n0.55968 3.01525 2.89581\\n0.56907 3.02275 2.91049\\n0.57846 3.03252 2.92638\\n0.58786 3.04519 2.93263\\n0.59725 3.06138 2.91762\\n0.60664 3.08150 2.87870\\n0.61604 3.10606 2.82171\\n0.62543 3.13527 2.75666\\n0.63482 3.16943 2.69050\\n0.64421 3.20855 2.62702\\n0.65361 3.25229 2.56710\\n0.66300 3.29996 2.50996\\n0.67239 3.35093 2.45428\\n0.68178 3.40442 2.39882\\n0.69118 3.45974 2.34282\\n0.70057 3.51638 2.28593\\n0.70996 3.57389 2.22785\\n0.71936 3.63181 2.16824\\n0.72875 3.68977 2.10704\\n0.73814 3.74740 2.04421\\n0.74753 3.80425 1.97962\\n0.75693 3.85982 1.91309\\n0.76632 3.91386 1.84481\\n0.77571 3.96620 1.77499\\n0.78511 4.01639 1.70373\\n0.79450 4.06442 1.63147\\n0.80389 4.11007 1.55845\\n0.81328 4.15300 1.48490\\n0.82268 4.19324 1.41102\\n0.83207 4.23044 1.33702\\n0.84146 4.26445 1.26301\\n0.85086 4.29450 1.18875\\n0.86025 4.31850 1.11347\\n0.86964 4.33525 1.03617\\n0.87903 4.34281 0.95579\\n0.88843 4.34187 0.87262\\n0.89782 4.34027 0.79025\\n0.90721 4.34332 0.71148\\n0.91660 4.35094 0.63690\\n0.92600 4.36077 0.56667\\n0.93539 4.36995 0.49987\\n0.94478 4.37710 0.43640\\n0.95418 4.38163 0.37639\\n0.96357 4.38358 0.32011\\n0.97296 4.38317 0.26782\\n0.98235 4.38100 0.21981\\n0.99175 4.37790 0.17636\\n1.00114 4.37427 0.13775\\n1.01053 4.37023 0.10424\\n1.01993 4.36606 0.07611\\n1.02932 4.36180 0.05357\\n1.03871 4.35727 0.03670\\n1.04810 4.35250 0.02536\\n1.05750 4.34765 0.01860\\n1.06689 4.34279 0.01520\\n1.07628 4.33809 0.01310\\n1.08568 4.33378 0.01070\\n1.09507 4.33004 0.00834\\n1.10446 4.32688 0.00622\\n1.11385 4.32388 0.00429\\n1.12325 4.32060 0.00254\\n1.13264 4.31665 0.00094\\n1.14203 4.31222 0.00034\\n1.15143 4.30767 0.00016\\n1.16082 4.30313 0.00014\\n1.17021 4.29867 0.00011\\n1.17960 4.29413 0.00016\\n1.18900 4.28971 0.00055\\n1.19839 4.28538 0.00119\\n1.20778 4.28120 0.00194\\n1.21717 4.27686 0.00250\\n1.22657 4.27259 0.00299\\n1.23596 4.26879 0.00349\\n1.24535 4.26574 0.00397\\n1.25475 4.26307 0.00439\\n1.26414 4.26063 0.00440\\n1.27353 4.25814 0.00415\\n1.28292 4.25561 0.00368\\n1.29232 4.25270 0.00298\\n1.30171 4.24977 0.00225\\n1.31110 4.24698 0.00146\\n1.32050 4.24445 0.00077\\n1.32989 4.24219 0.00016\\n1.33928 4.24014 0.00048\\n1.34867 4.23817 0.00115\\n1.35807 4.23546 0.00165\\n1.36746 4.23267 0.00211\\n1.37685 4.22964 0.00218\\n1.38625 4.22672 0.00211\\n1.39564 4.22435 0.00127\\n1.40503 4.22225 0.00055\\n1.41442 4.22122 0.00034\\n1.42382 4.22029 0.00017\\n1.43321 4.21980 0.00018\\n1.44260 4.21932 0.00019\\n1.45200 4.21886 0.00017\\n1.46139 4.21841 0.00015\\n1.47078 4.21824 0.00017\\n1.48017 4.21808 0.00019\\n1.48957 4.21761 0.00086\\n1.49896 4.21708 0.00167\\n1.50835 4.21678 0.00190\\n1.51774 4.21663 0.00172\\n1.52714 4.21661 0.00143\\n1.53653 4.21695 0.00085\\n1.54592 4.21729 0.00027\\n1.55532 4.21488 0.00027\\n1.56471 4.21218 0.00033\\n1.57410 4.20747 0.00051\\n1.58349 4.20038 0.00083\\n1.59289 4.19328 0.00114\\n1.60228 4.18694 0.00196\\n1.61167 4.18065 0.00281\\n1.62107 4.17514 0.00384\\n1.63046 4.17116 0.00521\\n1.63985 4.16717 0.00658\\n1.64924 4.16397 0.00773\\n1.65864 4.16115 0.00878\\n1.66803 4.15833 0.00983\\n1.67742 4.15592 0.00988\\n1.68682 4.15356 0.00983\\n1.69621 4.15122 0.00960\\n1.70560 4.14921 0.00632\\n1.71499 4.14720 0.00305\\n1.72439 4.14517 0.00016\\n1.73378 4.14300 0.00019\\n1.74317 4.14083 0.00022\\n1.75256 4.13868 0.00024\\n1.76196 4.13684 0.00020\\n1.77135 4.13500 0.00016\\n1.78074 4.13317 0.00012\\n1.79014 4.13221 0.00010\\n1.79953 4.13132 0.00009\\n1.80892 4.13043 0.00007\\n1.81831 4.12729 0.00006\\n1.82771 4.12313 0.00005\\n1.83710 4.11896 0.00004\\n1.84649 4.11333 0.00004\\n1.85589 4.10459 0.00003\\n1.86528 4.09586 0.00003\\n1.87467 4.08712 0.00002\\n1.88406 4.08027 0.00002\\n1.89346 4.07378 0.00001\\n1.90285 4.06730 0.00001\\n1.91224 4.06144 0.00001\\n1.92164 4.05768 0.00001\\n1.93103 4.05391 0.00001\\n1.94042 4.05015 0.00000\\n1.94981 4.04669 0.00000\\n1.95921 4.04353 0.00000\\n1.96860 4.04037 0.00000\\n1.97799 4.03722 0.00000\\n1.98739 4.03876 0.00000\\n1.99678 4.04333 0.00000\\n2.00617 4.04790 0.00000\\n2.01556 4.05247 0.00000\\n2.02496 4.05287 0.00000\\n2.03435 4.05025 0.00000\\n2.04374 4.04763 0.00000\\n2.05313 4.04502 0.00000\\n2.06253 4.04299 0.00000\\n2.07192 4.04188 0.00000\\n2.08131 4.04077 0.00000\\n2.09071 4.03967 0.00000\\n2.10000 4.05070 0.00000\\n2.10010 4.03857 0.00000\\n2.12000 4.04891 0.00000\\n2.14000 4.04717 0.00000\\n2.16000 4.04548 0.00000\\n2.18000 4.04383 0.00000\\n2.20000 4.04224 0.00000\\n2.22000 4.04068 0.00000\\n2.24000 4.03916 0.00000\\n2.26000 4.03769 0.00000\\n2.28000 4.03625 0.00000\\n2.30000 4.03485 0.00000\\n2.32000 4.03349 0.00000\\n2.34000 4.03216 0.00000\\n2.36000 4.03087 0.00000\\n2.38000 4.02961 0.00000\\n2.40000 4.02838 0.00000\\n2.42000 4.02718 0.00000\\n2.44000 4.02601 0.00000\\n2.46000 4.02486 0.00000\\n2.48000 4.02375 0.00000\\n2.50000 4.02266 0.00000\\n2.52000 4.02160 0.00000\\n2.54000 4.02056 0.00000\\n2.56000 4.01955 0.00000\\n2.58000 4.01856 0.00000\\n2.60000 4.01759 0.00000\\n2.62000 4.01665 0.00000\\n2.64000 4.01572 0.00000\\n2.66000 4.01482 0.00000\\n2.68000 4.01394 0.00000\\n2.70000 4.01307 0.00000\\n2.72000 4.01223 0.00000\\n2.74000 4.01140 0.00000\\n2.76000 4.01060 0.00000\\n2.78000 4.00981 0.00000\\n2.80000 4.00903 0.00000\\n2.82000 4.00828 0.00000\\n2.84000 4.00753 0.00000\\n2.86000 4.00681 0.00000\\n2.88000 4.00610 0.00000\\n2.90000 4.00540 0.00000\\n2.92000 4.00472 0.00000\\n2.94000 4.00405 0.00000\\n2.96000 4.00340 0.00000\\n2.98000 4.00276 0.00000\\n3.00000 4.00213 0.00000\\n3.02000 4.00151 0.00000\\n3.04000 4.00091 0.00000\\n3.06000 4.00032 0.00000\\n3.08000 3.99974 0.00000\\n3.10000 3.99917 0.00000\\n3.12000 3.99861 0.00000\\n3.14000 3.99806 0.00000\\n3.16000 3.99752 0.00000\\n3.18000 3.99700 0.00000\\n3.20000 3.99648 0.00000\\n3.22000 3.99597 0.00000\\n3.24000 3.99547 0.00000\\n3.26000 3.99498 0.00000\\n3.28000 3.99450 0.00000\\n3.30000 3.99403 0.00000\\n3.32000 3.99357 0.00000\\n3.34000 3.99311 0.00000\\n3.36000 3.99267 0.00000\\n3.38000 3.99223 0.00000\\n3.40000 3.99180 0.00000\\n3.42000 3.99137 0.00000\\n3.44000 3.99096 0.00000\\n3.46000 3.99055 0.00000\\n3.48000 3.99014 0.00000\\n3.50000 3.98975 0.00000\\n3.52000 3.98936 0.00000\\n3.54000 3.98898 0.00000\\n3.56000 3.98860 0.00000\\n3.58000 3.98823 0.00000\\n3.60000 3.98787 0.00000\\n3.62000 3.98751 0.00000\\n3.64000 3.98716 0.00000\\n3.66000 3.98682 0.00000\\n3.68000 3.98648 0.00000\\n3.70000 3.98614 0.00000\\n3.72000 3.98581 0.00000\\n3.74000 3.98549 0.00000\\n3.76000 3.98517 0.00000\\n3.78000 3.98486 0.00000\\n3.80000 3.98455 0.00000\\n3.82000 3.98425 0.00000\\n3.84000 3.98395 0.00000\\n3.86000 3.98365 0.00000\\n3.88000 3.98336 0.00000\\n3.90000 3.98308 0.00000\\n3.92000 3.98280 0.00000\\n3.94000 3.98252 0.00000\\n3.96000 3.98225 0.00000\\n3.98000 3.98198 0.00000\\n4.00000 3.98171 0.00000\\n4.02000 3.98145 0.00000\\n4.04000 3.98120 0.00000\\n4.06000 3.98094 0.00000\\n4.08000 3.98070 0.00000\\n4.10000 3.98045 0.00000\\n4.12000 3.98021 0.00000\\n4.14000 3.97997 0.00000\\n4.16000 3.97973 0.00000\\n4.18000 3.97950 0.00000\\n4.20000 3.97927 0.00000\\n4.22000 3.97905 0.00000\\n4.24000 3.97883 0.00000\\n4.26000 3.97861 0.00000\\n4.28000 3.97839 0.00000\\n4.30000 3.97818 0.00000\\n4.32000 3.97797 0.00000\\n4.34000 3.97776 0.00000\\n4.36000 3.97756 0.00000\\n4.38000 3.97736 0.00000\\n4.40000 3.97716 0.00000\\n4.42000 3.97696 0.00000\\n4.44000 3.97677 0.00000\\n4.46000 3.97658 0.00000\\n4.48000 3.97639 0.00000\\n4.50000 3.97621 0.00000\\n4.52000 3.97602 0.00000\\n4.54000 3.97584 0.00000\\n4.56000 3.97566 0.00000\\n4.58000 3.97549 0.00000\\n4.60000 3.97531 0.00000\\n4.62000 3.97514 0.00000\\n4.64000 3.97497 0.00000\\n4.66000 3.97481 0.00000\\n4.68000 3.97464 0.00000\\n4.70000 3.97448 0.00000\\n4.72000 3.97432 0.00000\\n4.74000 3.97416 0.00000\\n4.76000 3.97400 0.00000\\n4.78000 3.97385 0.00000\\n4.80000 3.97369 0.00000\\n4.82000 3.97354 0.00000\\n4.84000 3.97339 0.00000\\n4.86000 3.97325 0.00000\\n4.88000 3.97310 0.00000\\n4.90000 3.97296 0.00000\\n4.92000 3.97282 0.00000\\n4.94000 3.97268 0.00000\\n4.96000 3.97254 0.00000\\n4.98000 3.97240 0.00000\\n5.00000 3.97227 0.00000\\n5.02000 3.97213 0.00000\\n5.04000 3.97200 0.00000\\n5.06000 3.97187 0.00000\\n5.08000 3.97174 0.00000\\n5.10000 3.97161 0.00000\\n5.12000 3.97149 0.00000\\n5.14000 3.97136 0.00000\\n5.16000 3.97124 0.00000\\n5.18000 3.97112 0.00000\\n5.20000 3.97100 0.00000\\n5.22000 3.97088 0.00000\\n5.24000 3.97076 0.00000\\n5.26000 3.97065 0.00000\\n5.28000 3.97053 0.00000\\n5.30000 3.97042 0.00000\\n5.32000 3.97031 0.00000\\n5.34000 3.97019 0.00000\\n5.36000 3.97008 0.00000\\n5.38000 3.96998 0.00000\\n5.40000 3.96987 0.00000\\n5.42000 3.96976 0.00000\\n5.44000 3.96966 0.00000\\n5.46000 3.96955 0.00000\\n5.48000 3.96945 0.00000\\n5.50000 3.96935 0.00000\\n5.52000 3.96925 0.00000\\n5.54000 3.96915 0.00000\\n5.56000 3.96905 0.00000\\n5.58000 3.96895 0.00000\\n5.60000 3.96886 0.00000\\n5.62000 3.96876 0.00000\\n5.64000 3.96867 0.00000\\n5.66000 3.96858 0.00000\\n5.68000 3.96848 0.00000\\n5.70000 3.96839 0.00000\\n5.72000 3.96830 0.00000\\n5.74000 3.96821 0.00000\\n5.76000 3.96812 0.00000\\n5.78000 3.96804 0.00000\\n5.80000 3.96795 0.00000\\n5.82000 3.96787 0.00000\\n5.84000 3.96778 0.00000\\n5.86000 3.96770 0.00000\\n5.88000 3.96761 0.00000\\n5.90000 3.96753 0.00000\\n5.92000 3.96745 0.00000\\n5.94000 3.96737 0.00000\\n5.96000 3.96729 0.00000\\n5.98000 3.96721 0.00000\\n6.00000 3.96713 0.00000\\n6.02000 3.96705 0.00000\\n6.04000 3.96698 0.00000\\n6.06000 3.96690 0.00000\\n6.08000 3.96683 0.00000\\n6.10000 3.96675 0.00000\\n6.12000 3.96668 0.00000\\n6.14000 3.96661 0.00000\\n6.16000 3.96653 0.00000\\n6.18000 3.96646 0.00000\\n6.20000 3.96639 0.00000\\n6.22000 3.96632 0.00000\\n6.24000 3.96625 0.00000\\n6.26000 3.96618 0.00000\\n6.28000 3.96612 0.00000\\n6.30000 3.96605 0.00000\\n6.32000 3.96598 0.00000\\n6.34000 3.96591 0.00000\\n6.36000 3.96585 0.00000\\n6.38000 3.96578 0.00000\\n6.40000 3.96572 0.00000\\n6.42000 3.96566 0.00000\\n6.44000 3.96559 0.00000\\n6.46000 3.96553 0.00000\\n6.48000 3.96547 0.00000\\n6.50000 3.96541 0.00000\\n6.52000 3.96535 0.00000\\n6.54000 3.96529 0.00000\\n6.56000 3.96523 0.00000\\n6.58000 3.96517 0.00000\\n6.60000 3.96511 0.00000\\n6.62000 3.96505 0.00000\\n6.64000 3.96499 0.00000\\n6.66000 3.96493 0.00000\\n6.68000 3.96488 0.00000\\n6.70000 3.96482 0.00000\\n6.72000 3.96477 0.00000\\n6.74000 3.96471 0.00000\\n6.76000 3.96466 0.00000\\n6.78000 3.96460 0.00000\\n6.80000 3.96455 0.00000\\n6.82000 3.96450 0.00000\\n6.84000 3.96444 0.00000\\n6.86000 3.96439 0.00000\\n6.88000 3.96434 0.00000\\n6.90000 3.96429 0.00000\\n6.92000 3.96424 0.00000\\n6.94000 3.96419 0.00000\\n6.96000 3.96414 0.00000\\n6.98000 3.96409 0.00000\\n7.00000 3.96404 0.00000\\n7.02000 3.96399 0.00000\\n7.04000 3.96394 0.00000\\n7.06000 3.96389 0.00000\\n7.08000 3.96384 0.00000\\n7.10000 3.96380 0.00000\\n7.12000 3.96375 0.00000\\n7.14000 3.96370 0.00000\\n7.16000 3.96366 0.00000\\n7.18000 3.96361 0.00000\\n7.20000 3.96357 0.00000\\n7.22000 3.96352 0.00000\\n7.24000 3.96348 0.00000\\n7.26000 3.96343 0.00000\\n7.28000 3.96339 0.00000\\n7.30000 3.96335 0.00000\\n7.32000 3.96330 0.00000\\n7.34000 3.96326 0.00000\\n7.36000 3.96322 0.00000\\n7.38000 3.96318 0.00000\\n7.40000 3.96314 0.00000\\n7.42000 3.96309 0.00000\\n7.44000 3.96305 0.00000\\n7.46000 3.96301 0.00000\\n7.48000 3.96297 0.00000\\n7.50000 3.96293 0.00000\\n7.52000 3.96289 0.00000\\n7.54000 3.96285 0.00000\\n7.56000 3.96281 0.00000\\n7.58000 3.96278 0.00000\\n7.60000 3.96274 0.00000\\n7.62000 3.96270 0.00000\\n7.64000 3.96266 0.00000\\n7.66000 3.96262 0.00000\\n7.68000 3.96259 0.00000\\n7.70000 3.96255 0.00000\\n7.72000 3.96251 0.00000\\n7.74000 3.96248 0.00000\\n7.76000 3.96244 0.00000\\n7.78000 3.96241 0.00000\\n7.80000 3.96237 0.00000\\n7.82000 3.96233 0.00000\\n7.84000 3.96230 0.00000\\n7.86000 3.96226 0.00000\\n7.88000 3.96223 0.00000\\n7.90000 3.96220 0.00000\\n7.92000 3.96216 0.00000\\n7.94000 3.96213 0.00000\\n7.96000 3.96209 0.00000\\n7.98000 3.96206 0.00000\\n8.00000 3.96203 0.00000\\n8.02000 3.96200 0.00000\\n8.04000 3.96196 0.00000\\n8.06000 3.96193 0.00000\\n8.08000 3.96190 0.00000\\n8.10000 3.96187 0.00000\\n8.12000 3.96184 0.00000\\n8.14000 3.96180 0.00000\\n8.16000 3.96177 0.00000\\n8.18000 3.96174 0.00000\\n8.20000 3.96171 0.00000\\n8.22000 3.96168 0.00000\\n8.24000 3.96165 0.00000\\n8.26000 3.96162 0.00000\\n8.28000 3.96159 0.00000\\n8.30000 3.96156 0.00000\\n8.32000 3.96153 0.00000\\n8.34000 3.96150 0.00000\\n8.36000 3.96148 0.00000\\n8.38000 3.96145 0.00000\\n8.40000 3.96142 0.00000\\n8.42000 3.96139 0.00000\\n8.44000 3.96136 0.00000\\n8.46000 3.96133 0.00000\\n8.48000 3.96131 0.00000\\n8.50000 3.96128 0.00000\\n8.52000 3.96125 0.00000\\n8.54000 3.96123 0.00000\\n8.56000 3.96120 0.00000\\n8.58000 3.96117 0.00000\\n8.60000 3.96115 0.00000\\n8.62000 3.96112 0.00000\\n8.64000 3.96109 0.00000\\n8.66000 3.96107 0.00000\\n8.68000 3.96104 0.00000\\n8.70000 3.96102 0.00000\\n8.72000 3.96099 0.00000\\n8.74000 3.96096 0.00000\\n8.76000 3.96094 0.00000\\n8.78000 3.96091 0.00000\\n8.80000 3.96089 0.00000\\n8.82000 3.96087 0.00000\\n8.84000 3.96084 0.00000\\n8.86000 3.96082 0.00000\\n8.88000 3.96079 0.00000\\n8.90000 3.96077 0.00000\\n8.92000 3.96074 0.00000\\n8.94000 3.96072 0.00000\\n8.96000 3.96070 0.00000\\n8.98000 3.96067 0.00000\\n9.00000 3.96065 0.00000\\n9.02000 3.96063 0.00000\\n9.04000 3.96061 0.00000\\n9.06000 3.96058 0.00000\\n9.08000 3.96056 0.00000\\n9.10000 3.96054 0.00000\\n9.12000 3.96052 0.00000\\n9.14000 3.96049 0.00000\\n9.16000 3.96047 0.00000\\n9.18000 3.96045 0.00000\\n9.20000 3.96043 0.00000\\n9.22000 3.96041 0.00000\\n9.24000 3.96039 0.00000\\n9.26000 3.96036 0.00000\\n9.28000 3.96034 0.00000\\n9.30000 3.96032 0.00000\\n9.32000 3.96030 0.00000\\n9.34000 3.96028 0.00000\\n9.36000 3.96026 0.00000\\n9.38000 3.96024 0.00000\\n9.40000 3.96022 0.00000\\n9.42000 3.96020 0.00000\\n9.44000 3.96018 0.00000\\n9.46000 3.96016 0.00000\\n9.48000 3.96014 0.00000\\n9.50000 3.96012 0.00000\\n9.52000 3.96010 0.00000\\n9.54000 3.96008 0.00000\\n9.56000 3.96006 0.00000\\n9.58000 3.96004 0.00000\\n9.60000 3.96002 0.00000\\n9.62000 3.96000 0.00000\\n9.64000 3.95999 0.00000\\n9.66000 3.95997 0.00000\\n9.68000 3.95995 0.00000\\n9.70000 3.95993 0.00000\\n9.72000 3.95991 0.00000\\n9.74000 3.95989 0.00000\\n9.76000 3.95988 0.00000\\n9.78000 3.95986 0.00000\\n9.80000 3.95984 0.00000\\n9.82000 3.95982 0.00000\\n9.84000 3.95980 0.00000\\n9.86000 3.95979 0.00000\\n9.88000 3.95977 0.00000\\n9.90000 3.95975 0.00000\\n9.92000 3.95973 0.00000\\n9.94000 3.95972 0.00000\\n9.96000 3.95970 0.00000\\n9.98000 3.95968 0.00000\\n10.0000 3.95967 0.00000\\n10.0200 3.95965 0.00000\\n10.0400 3.95963 0.00000\\n10.0600 3.95962 0.00000\\n10.0800 3.95960 0.00000\\n10.1000 3.95958 0.00000\\n10.1200 3.95957 0.00000\\n10.1400 3.95955 0.00000\\n10.1600 3.95954 0.00000\\n10.1800 3.95952 0.00000\\n10.2000 3.95950 0.00000\\n10.2200 3.95949 0.00000\\n10.2400 3.95947 0.00000\\n10.2600 3.95946 0.00000\\n10.2800 3.95944 0.00000\\n10.3000 3.95943 0.00000\\n10.3200 3.95941 0.00000\\n10.3400 3.95939 0.00000\\n10.3600 3.95938 0.00000\\n10.3800 3.95936 0.00000\\n10.4000 3.95935 0.00000\\n10.4200 3.95933 0.00000\\n10.4400 3.95932 0.00000\\n10.4600 3.95931 0.00000\\n10.4800 3.95929 0.00000\\n10.5000 3.95928 0.00000\\n10.5200 3.95926 0.00000\\n10.5400 3.95925 0.00000\\n10.5600 3.95923 0.00000\\n10.5800 3.95922 0.00000\\n10.6000 3.95920 0.00000\\n10.6200 3.95919 0.00000\\n10.6400 3.95918 0.00000\\n10.6600 3.95916 0.00000\\n10.6800 3.95915 0.00000\\n10.7000 3.95913 0.00000\\n10.7200 3.95912 0.00000\\n10.7400 3.95911 0.00000\\n10.7600 3.95909 0.00000\\n10.7800 3.95908 0.00000\\n10.8000 3.95907 0.00000\\n10.8200 3.95905 0.00000\\n10.8400 3.95904 0.00000\\n10.8600 3.95903 0.00000\\n10.8800 3.95901 0.00000\\n10.9000 3.95900 0.00000\\n10.9200 3.95899 0.00000\\n10.9400 3.95898 0.00000\\n10.9600 3.95896 0.00000\\n10.9800 3.95895 0.00000\\n11.0000 3.95894 0.00000\\n'}],\n",
       " 'SPECS': {'n_absolute': False, 'wavelength_vacuum': False}}"
      ]
     },
     "execution_count": 66,
     "metadata": {},
     "output_type": "execute_result"
    }
   ],
   "source": [
    "ge, name, catalog = rindexinfo.read_rii_url('https://refractiveindex.info/database/data/main/Ge/Amotchkina.yml')\n",
    "ge"
   ]
  },
  {
   "cell_type": "code",
   "execution_count": 67,
   "id": "perceived-reading",
   "metadata": {},
   "outputs": [],
   "source": [
    "material_type = ge['DATA'][0]['type']"
   ]
  },
  {
   "cell_type": "code",
   "execution_count": 68,
   "id": "patient-problem",
   "metadata": {},
   "outputs": [
    {
     "data": {
      "text/plain": [
       "'nk'"
      ]
     },
     "execution_count": 68,
     "metadata": {},
     "output_type": "execute_result"
    }
   ],
   "source": [
    "material_type.split()[1]"
   ]
  },
  {
   "cell_type": "code",
   "execution_count": null,
   "id": "expanded-mexico",
   "metadata": {},
   "outputs": [],
   "source": []
  }
 ],
 "metadata": {
  "kernelspec": {
   "display_name": "Python 3 (ipykernel)",
   "language": "python",
   "name": "python3"
  },
  "language_info": {
   "codemirror_mode": {
    "name": "ipython",
    "version": 3
   },
   "file_extension": ".py",
   "mimetype": "text/x-python",
   "name": "python",
   "nbconvert_exporter": "python",
   "pygments_lexer": "ipython3",
   "version": "3.8.13"
  }
 },
 "nbformat": 4,
 "nbformat_minor": 5
}
