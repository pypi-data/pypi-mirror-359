{
 "cells": [
  {
   "cell_type": "markdown",
   "metadata": {},
   "source": [
    "# Performance Tests"
   ]
  },
  {
   "cell_type": "code",
   "execution_count": 1,
   "metadata": {},
   "outputs": [
    {
     "data": {
      "text/plain": [
       "(256, 65536)"
      ]
     },
     "execution_count": 1,
     "metadata": {},
     "output_type": "execute_result"
    }
   ],
   "source": [
    "from paulicirc import Circuit\n",
    "import numpy as np\n",
    "from numpy.random import default_rng\n",
    "TEST_NQUBITS = 256\n",
    "TEST_NGADGETS = TEST_NQUBITS**2\n",
    "(TEST_NQUBITS, TEST_NGADGETS)"
   ]
  },
  {
   "cell_type": "markdown",
   "metadata": {},
   "source": [
    "## Zero Circuit Creation"
   ]
  },
  {
   "cell_type": "code",
   "execution_count": 2,
   "metadata": {},
   "outputs": [
    {
     "data": {
      "text/plain": [
       "<GadgetCircuit: 65536 gadgets, 256 qubits>"
      ]
     },
     "execution_count": 2,
     "metadata": {},
     "output_type": "execute_result"
    }
   ],
   "source": [
    "Circuit.zero(TEST_NGADGETS, TEST_NQUBITS)"
   ]
  },
  {
   "cell_type": "code",
   "execution_count": 3,
   "metadata": {},
   "outputs": [
    {
     "name": "stdout",
     "output_type": "stream",
     "text": [
      "The slowest run took 5.58 times longer than the fastest. This could mean that an intermediate result is being cached.\n",
      "105 μs ± 54.4 μs per loop (mean ± std. dev. of 10 runs, 1 loop each)\n"
     ]
    }
   ],
   "source": [
    "%%timeit -n 1 -r 10\n",
    "Circuit.zero(TEST_NGADGETS, TEST_NQUBITS)"
   ]
  },
  {
   "cell_type": "markdown",
   "metadata": {},
   "source": [
    "## Random Circuit Creation"
   ]
  },
  {
   "cell_type": "code",
   "execution_count": 4,
   "metadata": {},
   "outputs": [
    {
     "data": {
      "text/plain": [
       "<GadgetCircuit: 65536 gadgets, 256 qubits>"
      ]
     },
     "execution_count": 4,
     "metadata": {},
     "output_type": "execute_result"
    }
   ],
   "source": [
    "_rng = default_rng(0)\n",
    "Circuit.random(TEST_NGADGETS, TEST_NQUBITS, rng=_rng)"
   ]
  },
  {
   "cell_type": "code",
   "execution_count": 5,
   "metadata": {},
   "outputs": [
    {
     "name": "stdout",
     "output_type": "stream",
     "text": [
      "8.95 ms ± 1.48 ms per loop (mean ± std. dev. of 10 runs, 1 loop each)\n"
     ]
    }
   ],
   "source": [
    "%%timeit -n 1 -r 10 _rng = default_rng(0)\n",
    "Circuit.random(TEST_NGADGETS, TEST_NQUBITS, rng=_rng)"
   ]
  },
  {
   "cell_type": "code",
   "execution_count": 6,
   "metadata": {},
   "outputs": [
    {
     "data": {
      "text/plain": [
       "<GadgetCircuit: 131072 gadgets, 256 qubits>"
      ]
     },
     "execution_count": 6,
     "metadata": {},
     "output_type": "execute_result"
    }
   ],
   "source": [
    "_rng = default_rng(0)\n",
    "Circuit.random_inverse_pairs(TEST_NGADGETS, TEST_NQUBITS, rng=_rng)"
   ]
  },
  {
   "cell_type": "code",
   "execution_count": 7,
   "metadata": {},
   "outputs": [
    {
     "name": "stdout",
     "output_type": "stream",
     "text": [
      "14.3 ms ± 2.27 ms per loop (mean ± std. dev. of 10 runs, 1 loop each)\n"
     ]
    }
   ],
   "source": [
    "%%timeit -n 1 -r 10 _rng = default_rng(0)\n",
    "Circuit.random_inverse_pairs(TEST_NGADGETS, TEST_NQUBITS, rng=_rng)"
   ]
  },
  {
   "cell_type": "markdown",
   "metadata": {},
   "source": [
    "## Random Circuit Expansion"
   ]
  },
  {
   "cell_type": "code",
   "execution_count": 8,
   "metadata": {},
   "outputs": [
    {
     "data": {
      "text/plain": [
       "<GadgetCircuit: 131072 gadgets, 256 qubits>"
      ]
     },
     "execution_count": 8,
     "metadata": {},
     "output_type": "execute_result"
    }
   ],
   "source": [
    "_rng = default_rng(0)\n",
    "circ = Circuit.random(TEST_NGADGETS, TEST_NQUBITS, rng=_rng)\n",
    "r = Circuit.random_inverse_pairs(TEST_NGADGETS//2, TEST_NQUBITS, rng=_rng)\n",
    "r.interleaved(circ, 2, 2, 1)"
   ]
  },
  {
   "cell_type": "code",
   "execution_count": 9,
   "metadata": {},
   "outputs": [
    {
     "name": "stdout",
     "output_type": "stream",
     "text": [
      "4.35 ms ± 1.05 ms per loop (mean ± std. dev. of 10 runs, 1 loop each)\n"
     ]
    }
   ],
   "source": [
    "%%timeit -n 1 -r 10 _rng = default_rng(0); circ = Circuit.random(TEST_NGADGETS, TEST_NQUBITS, rng=_rng); r = Circuit.random_inverse_pairs(TEST_NGADGETS//2, TEST_NQUBITS, rng=_rng)\n",
    "r.interleaved(circ, 2, 2, 1)"
   ]
  },
  {
   "cell_type": "code",
   "execution_count": 10,
   "metadata": {},
   "outputs": [
    {
     "data": {
      "text/plain": [
       "<GadgetCircuit: 196606 gadgets, 256 qubits>"
      ]
     },
     "execution_count": 10,
     "metadata": {},
     "output_type": "execute_result"
    }
   ],
   "source": [
    "_rng = default_rng(0)\n",
    "circ = Circuit.random(TEST_NGADGETS, TEST_NQUBITS, rng=_rng)\n",
    "r = Circuit.random_inverse_pairs(TEST_NGADGETS-1, TEST_NQUBITS, rng=_rng)\n",
    "circ.interleaved(r, 1, 2)"
   ]
  },
  {
   "cell_type": "code",
   "execution_count": 11,
   "metadata": {},
   "outputs": [
    {
     "name": "stdout",
     "output_type": "stream",
     "text": [
      "6.49 ms ± 1.04 ms per loop (mean ± std. dev. of 10 runs, 1 loop each)\n"
     ]
    }
   ],
   "source": [
    "%%timeit -n 1 -r 10 _rng = default_rng(0); circ = Circuit.random(TEST_NGADGETS, TEST_NQUBITS, rng=_rng); r = Circuit.random_inverse_pairs(TEST_NGADGETS-1, TEST_NQUBITS, rng=_rng)\n",
    "circ.interleaved(r, 1, 2)"
   ]
  },
  {
   "cell_type": "markdown",
   "metadata": {},
   "source": [
    "## Random Circuit Commutation"
   ]
  },
  {
   "cell_type": "code",
   "execution_count": 12,
   "metadata": {},
   "outputs": [
    {
     "data": {
      "text/plain": [
       "<GadgetCircuit: 81827 gadgets, 256 qubits>"
      ]
     },
     "execution_count": 12,
     "metadata": {},
     "output_type": "execute_result"
    }
   ],
   "source": [
    "_rng = default_rng(0)\n",
    "circ = Circuit.random(TEST_NGADGETS, TEST_NQUBITS, rng=_rng)\n",
    "circ.commute(circ.random_commutation_codes(rng=_rng))"
   ]
  },
  {
   "cell_type": "code",
   "execution_count": 13,
   "metadata": {},
   "outputs": [
    {
     "name": "stdout",
     "output_type": "stream",
     "text": [
      "171 ms ± 26.7 ms per loop (mean ± std. dev. of 10 runs, 1 loop each)\n"
     ]
    }
   ],
   "source": [
    "%%timeit -n 1 -r 10 _rng = default_rng(0); circ = Circuit.random(TEST_NGADGETS, TEST_NQUBITS, rng=_rng)\n",
    "circ.commute(circ.random_commutation_codes(rng=_rng))"
   ]
  }
 ],
 "metadata": {
  "kernelspec": {
   "display_name": "Python 3",
   "language": "python",
   "name": "python3"
  },
  "language_info": {
   "codemirror_mode": {
    "name": "ipython",
    "version": 3
   },
   "file_extension": ".py",
   "mimetype": "text/x-python",
   "name": "python",
   "nbconvert_exporter": "python",
   "pygments_lexer": "ipython3",
   "version": "3.13.0"
  }
 },
 "nbformat": 4,
 "nbformat_minor": 2
}
