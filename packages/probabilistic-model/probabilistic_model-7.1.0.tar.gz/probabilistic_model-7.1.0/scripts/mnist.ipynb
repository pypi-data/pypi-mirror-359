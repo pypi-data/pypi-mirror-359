{
 "cells": [
  {
   "metadata": {},
   "cell_type": "markdown",
   "source": [
    "# Region Graphs\n",
    "\n",
    "This notebook shows how to create a region graph for the MNIST dataset and train the resulting circuit.\n",
    "We start be defining the variable for the class."
   ],
   "id": "c598160d1e3ae55e"
  },
  {
   "metadata": {},
   "cell_type": "code",
   "source": [
    "import jax\n",
    "from random_events.set import SetElement\n",
    "\n",
    "include_variables = 20\n",
    "\n",
    "class Digit(SetElement):\n",
    "    EMPTY_SET = -1\n",
    "    ZERO = 0\n",
    "    ONE = 1\n",
    "    TWO = 2\n",
    "    THREE = 3\n",
    "    FOUR = 4\n",
    "    FIVE = 5\n",
    "    SIX = 6\n",
    "    SEVEN = 7\n",
    "    EIGHT = 8\n",
    "    NINE = 9"
   ],
   "id": "f524b02fed7e2ce4",
   "outputs": [],
   "execution_count": null
  },
  {
   "metadata": {},
   "cell_type": "markdown",
   "source": "Then, we add the variables for the features.",
   "id": "482f7bebbf60665c"
  },
  {
   "metadata": {},
   "cell_type": "code",
   "source": [
    "from sortedcontainers import SortedSet\n",
    "from random_events.variable import Symbolic, Continuous\n",
    "\n",
    "variables = SortedSet([Symbolic(\"Digit\", Digit)] + [Continuous(f\"Pixel_{i}_{j}\") for i in range(8) for j in range(8)])\n",
    "variables = variables[:include_variables]"
   ],
   "id": "6945a2c7caaaa91b",
   "outputs": [],
   "execution_count": null
  },
  {
   "metadata": {},
   "cell_type": "markdown",
   "source": "Next, we load the dataset.",
   "id": "27fa8c50e178f24"
  },
  {
   "metadata": {},
   "cell_type": "code",
   "source": [
    "from sklearn import datasets\n",
    "import numpy as np\n",
    "from sklearn.preprocessing import MinMaxScaler\n",
    "digits = datasets.load_digits(as_frame=False)\n",
    "x = digits.data\n",
    "y = digits.target\n",
    "data = np.concatenate((y.reshape(-1, 1), x), axis=1)[:, :include_variables]\n",
    "data[:, 1:] = MinMaxScaler((-1, 1)).fit_transform(data[:, 1:])"
   ],
   "id": "7cab03da5007f1aa",
   "outputs": [],
   "execution_count": null
  },
  {
   "metadata": {},
   "cell_type": "markdown",
   "source": "Now, we construct a random region graph.",
   "id": "4f403b2cfd5657ac"
  },
  {
   "metadata": {},
   "cell_type": "code",
   "source": [
    "from probabilistic_model.learning.region_graph.region_graph import RegionGraph\n",
    "\n",
    "region_graph = RegionGraph(variables, repetitions=6, depth=3, partitions=2)\n",
    "region_graph = region_graph.create_random_region_graph()\n",
    "model = region_graph.as_probabilistic_circuit(input_units=16, sum_units=5)"
   ],
   "id": "692ef500cd261dde",
   "outputs": [],
   "execution_count": null
  },
  {
   "metadata": {},
   "cell_type": "markdown",
   "source": "Let's have a look at the structure of the resulting circuit.",
   "id": "a6ecf6eed36e1673"
  },
  {
   "metadata": {},
   "cell_type": "code",
   "source": [
    "from matplotlib import pyplot as plt\n",
    "\n",
    "nx_model = model.to_nx()\n",
    "nx_model.plot_structure()\n",
    "plt.show()"
   ],
   "id": "5d510ad544e14651",
   "outputs": [],
   "execution_count": null
  },
  {
   "metadata": {},
   "cell_type": "code",
   "source": "print(model.root.number_of_trainable_parameters)",
   "id": "56abb76d9b1e08fe",
   "outputs": [],
   "execution_count": null
  },
  {
   "metadata": {},
   "cell_type": "code",
   "source": [
    "import optax\n",
    "\n",
    "model.fit(data, epochs=100, optimizer=optax.adam(1e-3))\n",
    "\n"
   ],
   "id": "44edda631b5bed5a",
   "outputs": [],
   "execution_count": null
  },
  {
   "metadata": {},
   "cell_type": "code",
   "source": "nx_model = model.to_nx()",
   "id": "9e1d882f170ff191",
   "outputs": [],
   "execution_count": null
  }
 ],
 "metadata": {
  "kernelspec": {
   "name": "python3",
   "language": "python",
   "display_name": "Python 3 (ipykernel)"
  }
 },
 "nbformat": 5,
 "nbformat_minor": 9
}
