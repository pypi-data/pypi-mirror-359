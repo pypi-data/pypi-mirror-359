{
 "cells": [
  {
   "cell_type": "markdown",
   "id": "24b1926c",
   "metadata": {},
   "source": [
    "# Download Alphafold files"
   ]
  },
  {
   "cell_type": "code",
   "execution_count": 1,
   "id": "681ba946",
   "metadata": {},
   "outputs": [],
   "source": [
    "from pathlib import Path\n",
    "from pprint import pprint\n",
    "\n",
    "from protein_detective.alphafold import fetch_many, fetch_many_async"
   ]
  },
  {
   "cell_type": "code",
   "execution_count": 2,
   "id": "5c2e6ee3",
   "metadata": {},
   "outputs": [],
   "source": [
    "save_dir = Path(\"alphafold_files\")"
   ]
  },
  {
   "cell_type": "code",
   "execution_count": 3,
   "id": "690d963e",
   "metadata": {},
   "outputs": [
    {
     "name": "stderr",
     "output_type": "stream",
     "text": [
      "Fetching Alphafold summaries: 100%|██████████| 2/2 [00:00<00:00,  8.97it/s]\n",
      "Downloading AlphaFold files: 100%|██████████| 2/2 [00:00<00:00, 14847.09it/s]\n"
     ]
    }
   ],
   "source": [
    "summaries = fetch_many([\"A1YPR0\", \"O60481\"], save_dir)"
   ]
  },
  {
   "cell_type": "code",
   "execution_count": 4,
   "id": "af960cd9",
   "metadata": {},
   "outputs": [
    {
     "name": "stdout",
     "output_type": "stream",
     "text": [
      "[AlphaFoldEntry(uniprot_acc='A1YPR0',\n",
      "                summary=EntrySummary(entryId='AF-A1YPR0-F1',\n",
      "                                     gene='ZBTB7C',\n",
      "                                     sequenceChecksum='73D82A34502B55BF',\n",
      "                                     sequenceVersionDate='2007-02-06',\n",
      "                                     uniprotAccession='A1YPR0',\n",
      "                                     uniprotId='ZBT7C_HUMAN',\n",
      "                                     uniprotDescription='Zinc finger and BTB '\n",
      "                                                        'domain-containing '\n",
      "                                                        'protein 7C',\n",
      "                                     taxId=9606,\n",
      "                                     organismScientificName='Homo sapiens',\n",
      "                                     uniprotStart=1,\n",
      "                                     uniprotEnd=619,\n",
      "                                     uniprotSequence='MANDIDELIGIPFPNHSSEVLCSLNEQRHDGLLCDVLLVVQEQEYRTHRSVLAACSKYFKKLFTAGTLASQPYVYEIDFVQPEALAAILEFAYTSTLTITAGNVKHILNAARMLEIQCIVNVCLEIMEPGGDGGEEDDKEDDDDDEDDDDEEDEEEEEEEEEDDDDDTEDFADQENLPDPQDISCHQSPSKTDHLTEKAYSDTPRDFPDSFQAGSPGHLGVIRDFSIESLLRENLYPKANIPDRRPSLSPFAPDFFPHLWPGDFGAFAQLPEQPMDSGPLDLVIKNRKIKEEEKEELPPPPPPPFPNDFFKDMFPDLPGGPLGPIKAENDYGAYLNFLSATHLGGLFPPWPLVEERKLKPKASQQCPICHKVIMGAGKLPRHMRTHTGEKPYMCTICEVRFTRQDKLKIHMRKHTGERPYLCIHCNAKFVHNYDLKNHMRIHTGVRPYQCEFCYKSFTRSDHLHRHIKRQSCRMARPRRGRKPAAWRAASLLFGPGGPAPDKAAFVMPPALGEVGGHLGGAAVCLPGPSPAKHFLAAPKGALSLQELERQFEETQMKLFGRAQLEAERNAGGLLAFALAENVAAARPYFPLPDPWAAGLAGLPGLAGLNHVASMSEANN',\n",
      "                                     modelCreatedDate='2022-06-01',\n",
      "                                     latestVersion=4,\n",
      "                                     allVersions=[1, 2, 3, 4],\n",
      "                                     bcifUrl='https://alphafold.ebi.ac.uk/files/AF-A1YPR0-F1-model_v4.bcif',\n",
      "                                     cifUrl='https://alphafold.ebi.ac.uk/files/AF-A1YPR0-F1-model_v4.cif',\n",
      "                                     pdbUrl='https://alphafold.ebi.ac.uk/files/AF-A1YPR0-F1-model_v4.pdb',\n",
      "                                     paeImageUrl='https://alphafold.ebi.ac.uk/files/AF-A1YPR0-F1-predicted_aligned_error_v4.png',\n",
      "                                     paeDocUrl='https://alphafold.ebi.ac.uk/files/AF-A1YPR0-F1-predicted_aligned_error_v4.json',\n",
      "                                     amAnnotationsUrl='https://alphafold.ebi.ac.uk/files/AF-A1YPR0-F1-aa-substitutions.csv',\n",
      "                                     amAnnotationsHg19Url='https://alphafold.ebi.ac.uk/files/AF-A1YPR0-F1-hg19.csv',\n",
      "                                     amAnnotationsHg38Url='https://alphafold.ebi.ac.uk/files/AF-A1YPR0-F1-hg38.csv',\n",
      "                                     isReviewed=True,\n",
      "                                     isReferenceProteome=True),\n",
      "                pdb_file=PosixPath('alphafold_files/AF-A1YPR0-F1-model_v4.pdb'),\n",
      "                pae_file=None,\n",
      "                bcif_file=None,\n",
      "                cif_file=None,\n",
      "                pae_image_file=None,\n",
      "                pae_doc_file=None,\n",
      "                am_annotations_file=None,\n",
      "                am_annotations_hg19_file=None,\n",
      "                am_annotations_hg38_file=None),\n",
      " AlphaFoldEntry(uniprot_acc='O60481',\n",
      "                summary=EntrySummary(entryId='AF-O60481-F1',\n",
      "                                     gene='ZIC3',\n",
      "                                     sequenceChecksum='3150CF13C0679568',\n",
      "                                     sequenceVersionDate='1998-08-01',\n",
      "                                     uniprotAccession='O60481',\n",
      "                                     uniprotId='ZIC3_HUMAN',\n",
      "                                     uniprotDescription='Zinc finger protein '\n",
      "                                                        'ZIC 3',\n",
      "                                     taxId=9606,\n",
      "                                     organismScientificName='Homo sapiens',\n",
      "                                     uniprotStart=1,\n",
      "                                     uniprotEnd=467,\n",
      "                                     uniprotSequence='MTMLLDGGPQFPGLGVGSFGAPRHHEMPNREPAGMGLNPFGDSTHAAAAAAAAAAFKLSPAAAHDLSSGQSSAFTPQGSGYANALGHHHHHHHHHHHTSQVPSYGGAASAAFNSTREFLFRQRSSGLSEAASGGGQHGLFAGSASSLHAPAGIPEPPSYLLFPGLHEQGAGHPSPTGHVDNNQVHLGLRGELFGRADPYRPVASPRTDPYAAGAQFPNYSPMNMNMGVNVAAHHGPGAFFRYMRQPIKQELSCKWIDEAQLSRPKKSCDRTFSTMHELVTHVTMEHVGGPEQNNHVCYWEECPREGKSFKAKYKLVNHIRVHTGEKPFPCPFPGCGKIFARSENLKIHKRTHTGEKPFKCEFEGCDRRFANSSDRKKHMHVHTSDKPYICKVCDKSYTHPSSLRKHMKVHESQGSDSSPAASSGYESSTPPAIASANSKDTTKTPSAVQTSTSHNPGLPPNFNEWYV',\n",
      "                                     modelCreatedDate='2022-06-01',\n",
      "                                     latestVersion=4,\n",
      "                                     allVersions=[1, 2, 3, 4],\n",
      "                                     bcifUrl='https://alphafold.ebi.ac.uk/files/AF-O60481-F1-model_v4.bcif',\n",
      "                                     cifUrl='https://alphafold.ebi.ac.uk/files/AF-O60481-F1-model_v4.cif',\n",
      "                                     pdbUrl='https://alphafold.ebi.ac.uk/files/AF-O60481-F1-model_v4.pdb',\n",
      "                                     paeImageUrl='https://alphafold.ebi.ac.uk/files/AF-O60481-F1-predicted_aligned_error_v4.png',\n",
      "                                     paeDocUrl='https://alphafold.ebi.ac.uk/files/AF-O60481-F1-predicted_aligned_error_v4.json',\n",
      "                                     amAnnotationsUrl='https://alphafold.ebi.ac.uk/files/AF-O60481-F1-aa-substitutions.csv',\n",
      "                                     amAnnotationsHg19Url='https://alphafold.ebi.ac.uk/files/AF-O60481-F1-hg19.csv',\n",
      "                                     amAnnotationsHg38Url='https://alphafold.ebi.ac.uk/files/AF-O60481-F1-hg38.csv',\n",
      "                                     isReviewed=True,\n",
      "                                     isReferenceProteome=True),\n",
      "                pdb_file=PosixPath('alphafold_files/AF-O60481-F1-model_v4.pdb'),\n",
      "                pae_file=None,\n",
      "                bcif_file=None,\n",
      "                cif_file=None,\n",
      "                pae_image_file=None,\n",
      "                pae_doc_file=None,\n",
      "                am_annotations_file=None,\n",
      "                am_annotations_hg19_file=None,\n",
      "                am_annotations_hg38_file=None)]\n"
     ]
    }
   ],
   "source": [
    "pprint(summaries)"
   ]
  },
  {
   "cell_type": "markdown",
   "id": "88d2f4de",
   "metadata": {},
   "source": [
    "Download more cif and peaDoc with async"
   ]
  },
  {
   "cell_type": "code",
   "execution_count": null,
   "id": "e32b474a",
   "metadata": {},
   "outputs": [
    {
     "name": "stderr",
     "output_type": "stream",
     "text": [
      "Fetching Alphafold summaries: 100%|██████████| 1/1 [00:00<00:00,  4.87it/s]\n",
      "Downloading AlphaFold files: 100%|██████████| 2/2 [00:00<00:00, 12520.31it/s]"
     ]
    },
    {
     "name": "stdout",
     "output_type": "stream",
     "text": [
      "[AlphaFoldEntry(uniprot_acc='P50613',\n",
      "                summary=EntrySummary(entryId='AF-P50613-F1',\n",
      "                                     gene='CDK7',\n",
      "                                     sequenceChecksum='0A94BFA7DD416CEB',\n",
      "                                     sequenceVersionDate='1996-10-01',\n",
      "                                     uniprotAccession='P50613',\n",
      "                                     uniprotId='CDK7_HUMAN',\n",
      "                                     uniprotDescription='Cyclin-dependent '\n",
      "                                                        'kinase 7',\n",
      "                                     taxId=9606,\n",
      "                                     organismScientificName='Homo sapiens',\n",
      "                                     uniprotStart=1,\n",
      "                                     uniprotEnd=346,\n",
      "                                     uniprotSequence='MALDVKSRAKRYEKLDFLGEGQFATVYKARDKNTNQIVAIKKIKLGHRSEAKDGINRTALREIKLLQELSHPNIIGLLDAFGHKSNISLVFDFMETDLEVIIKDNSLVLTPSHIKAYMLMTLQGLEYLHQHWILHRDLKPNNLLLDENGVLKLADFGLAKSFGSPNRAYTHQVVTRWYRAPELLFGARMYGVGVDMWAVGCILAELLLRVPFLPGDSDLDQLTRIFETLGTPTEEQWPDMCSLPDYVTFKSFPGIPLHHIFSAAGDDLLDLIQGLFLFNPCARITATQALKMKYFSNRPGPTPGCQLPRPNCPVETLKEQSNPALAIKRKRTEALEQGGLPKKLIF',\n",
      "                                     modelCreatedDate='2022-06-01',\n",
      "                                     latestVersion=4,\n",
      "                                     allVersions=[1, 2, 3, 4],\n",
      "                                     bcifUrl='https://alphafold.ebi.ac.uk/files/AF-P50613-F1-model_v4.bcif',\n",
      "                                     cifUrl='https://alphafold.ebi.ac.uk/files/AF-P50613-F1-model_v4.cif',\n",
      "                                     pdbUrl='https://alphafold.ebi.ac.uk/files/AF-P50613-F1-model_v4.pdb',\n",
      "                                     paeImageUrl='https://alphafold.ebi.ac.uk/files/AF-P50613-F1-predicted_aligned_error_v4.png',\n",
      "                                     paeDocUrl='https://alphafold.ebi.ac.uk/files/AF-P50613-F1-predicted_aligned_error_v4.json',\n",
      "                                     amAnnotationsUrl='https://alphafold.ebi.ac.uk/files/AF-P50613-F1-aa-substitutions.csv',\n",
      "                                     amAnnotationsHg19Url='https://alphafold.ebi.ac.uk/files/AF-P50613-F1-hg19.csv',\n",
      "                                     amAnnotationsHg38Url='https://alphafold.ebi.ac.uk/files/AF-P50613-F1-hg38.csv',\n",
      "                                     isReviewed=True,\n",
      "                                     isReferenceProteome=True),\n",
      "                pdb_file=None,\n",
      "                pae_file=None,\n",
      "                bcif_file=None,\n",
      "                cif_file=PosixPath('alphafold_files/AF-P50613-F1-model_v4.cif'),\n",
      "                pae_image_file=None,\n",
      "                pae_doc_file=PosixPath('alphafold_files/AF-P50613-F1-predicted_aligned_error_v4.json'),\n",
      "                am_annotations_file=None,\n",
      "                am_annotations_hg19_file=None,\n",
      "                am_annotations_hg38_file=None)]\n"
     ]
    },
    {
     "name": "stderr",
     "output_type": "stream",
     "text": [
      "\n"
     ]
    }
   ],
   "source": [
    "summaries2 = [s async for s in fetch_many_async([\"P50613\"], save_dir, what={\"cif\", \"paeDoc\"})]\n",
    "pprint(summaries2)"
   ]
  },
  {
   "cell_type": "code",
   "execution_count": null,
   "id": "2d3595e6",
   "metadata": {},
   "outputs": [
    {
     "name": "stdout",
     "output_type": "stream",
     "text": [
      "total 1.3M\n",
      "392K AF-A1YPR0-F1-model_v4.pdb\n",
      "292K AF-O60481-F1-model_v4.pdb\n",
      "320K AF-P50613-F1-model_v4.cif\n",
      "280K AF-P50613-F1-predicted_aligned_error_v4.json\n"
     ]
    }
   ],
   "source": [
    "!ls -sh {save_dir}"
   ]
  },
  {
   "cell_type": "markdown",
   "id": "39cbc60c",
   "metadata": {},
   "source": [
    "## Apply density filter"
   ]
  },
  {
   "cell_type": "code",
   "execution_count": 6,
   "id": "cf84047e",
   "metadata": {},
   "outputs": [],
   "source": [
    "from protein_detective.alphafold.density import filter_out_low_confidence_residues, find_high_confidence_residues"
   ]
  },
  {
   "cell_type": "code",
   "execution_count": 7,
   "id": "2a9da970",
   "metadata": {},
   "outputs": [
    {
     "data": {
      "text/plain": [
       "214"
      ]
     },
     "execution_count": 7,
     "metadata": {},
     "output_type": "execute_result"
    }
   ],
   "source": [
    "pdb_file = summaries[0].pdb_file\n",
    "if pdb_file is None:\n",
    "    raise ValueError(\"Summary has not been downloaded yet.\")  # noqa: EM101, TRY003\n",
    "residues = set(find_high_confidence_residues(pdb_file, 70))\n",
    "len(residues)"
   ]
  },
  {
   "cell_type": "code",
   "execution_count": 8,
   "id": "da7547c5",
   "metadata": {},
   "outputs": [
    {
     "data": {
      "text/plain": [
       "PosixPath('density_filtered/AF-A1YPR0-F1-model_v4.pdb')"
      ]
     },
     "execution_count": 8,
     "metadata": {},
     "output_type": "execute_result"
    }
   ],
   "source": [
    "out_dir = Path(\"density_filtered\")\n",
    "out_dir.mkdir(exist_ok=True, parents=True)\n",
    "out_file = out_dir / pdb_file.name\n",
    "out_file"
   ]
  },
  {
   "cell_type": "code",
   "execution_count": 9,
   "id": "da5831c8",
   "metadata": {},
   "outputs": [],
   "source": [
    "filter_out_low_confidence_residues(pdb_file, residues, out_file)"
   ]
  },
  {
   "cell_type": "code",
   "execution_count": 10,
   "id": "97c363e1",
   "metadata": {},
   "outputs": [
    {
     "name": "stdout",
     "output_type": "stream",
     "text": [
      "392K alphafold_files/AF-A1YPR0-F1-model_v4.pdb\n",
      "148K density_filtered/AF-A1YPR0-F1-model_v4.pdb\n"
     ]
    }
   ],
   "source": [
    "!ls -sh {pdb_file} {out_file}"
   ]
  },
  {
   "cell_type": "code",
   "execution_count": 11,
   "id": "894e282e",
   "metadata": {},
   "outputs": [
    {
     "data": {
      "text/plain": [
       "275"
      ]
     },
     "execution_count": 11,
     "metadata": {},
     "output_type": "execute_result"
    }
   ],
   "source": [
    "residues50 = set(find_high_confidence_residues(pdb_file, 50))\n",
    "len(residues50)"
   ]
  },
  {
   "cell_type": "code",
   "execution_count": 12,
   "id": "591ed0c0",
   "metadata": {},
   "outputs": [
    {
     "data": {
      "text/plain": [
       "22"
      ]
     },
     "execution_count": 12,
     "metadata": {},
     "output_type": "execute_result"
    }
   ],
   "source": [
    "residues90 = set(find_high_confidence_residues(pdb_file, 90))\n",
    "len(residues90)"
   ]
  },
  {
   "cell_type": "code",
   "execution_count": 13,
   "id": "0ffc0580",
   "metadata": {},
   "outputs": [],
   "source": [
    "filter_out_low_confidence_residues(pdb_file, residues90, out_file.with_suffix(\".90.pdb\"))"
   ]
  },
  {
   "cell_type": "code",
   "execution_count": 14,
   "id": "adae9acf",
   "metadata": {},
   "outputs": [
    {
     "name": "stdout",
     "output_type": "stream",
     "text": [
      "392K alphafold_files/AF-A1YPR0-F1-model_v4.pdb\n",
      " 24K density_filtered/AF-A1YPR0-F1-model_v4.90.pdb\n",
      "148K density_filtered/AF-A1YPR0-F1-model_v4.pdb\n"
     ]
    }
   ],
   "source": [
    "!ls -sh {pdb_file} {out_file} {out_file.with_suffix(\".90.pdb\")}"
   ]
  },
  {
   "cell_type": "code",
   "execution_count": null,
   "id": "0a17803b",
   "metadata": {},
   "outputs": [],
   "source": []
  }
 ],
 "metadata": {
  "kernelspec": {
   "display_name": ".venv",
   "language": "python",
   "name": "python3"
  },
  "language_info": {
   "codemirror_mode": {
    "name": "ipython",
    "version": 3
   },
   "file_extension": ".py",
   "mimetype": "text/x-python",
   "name": "python",
   "nbconvert_exporter": "python",
   "pygments_lexer": "ipython3",
   "version": "3.13.2"
  }
 },
 "nbformat": 4,
 "nbformat_minor": 5
}
