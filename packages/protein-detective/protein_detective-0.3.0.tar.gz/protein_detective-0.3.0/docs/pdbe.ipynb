{
 "cells": [
  {
   "cell_type": "markdown",
   "id": "8c6c14a2",
   "metadata": {},
   "source": [
    "# Download PDB files"
   ]
  },
  {
   "cell_type": "code",
   "execution_count": 1,
   "id": "76d592fd",
   "metadata": {},
   "outputs": [],
   "source": [
    "from pathlib import Path\n",
    "\n",
    "from protein_detective.pdbe.fetch import fetch"
   ]
  },
  {
   "cell_type": "code",
   "execution_count": 2,
   "id": "bf4a2eee",
   "metadata": {},
   "outputs": [],
   "source": [
    "ids = [\n",
    "    \"4NDY\",  # structure of uniprot A8MT69\n",
    "    \"4DRA\",  # structure of uniprot A8MT69\n",
    "    \"1XWH\",  # structure of uniprot O43918\n",
    "    \"8WAS\",  # structure for which there is no single pdb file\n",
    "]"
   ]
  },
  {
   "cell_type": "code",
   "execution_count": 3,
   "id": "32276155",
   "metadata": {},
   "outputs": [],
   "source": [
    "save_dir = Path(\"pdb_files\")"
   ]
  },
  {
   "cell_type": "code",
   "execution_count": 4,
   "id": "ebc18b30",
   "metadata": {},
   "outputs": [
    {
     "name": "stderr",
     "output_type": "stream",
     "text": [
      "Downloading PDBe mmCIF files:   0%|          | 0/4 [00:00<?, ?it/s]"
     ]
    },
    {
     "name": "stderr",
     "output_type": "stream",
     "text": [
      "Downloading PDBe mmCIF files: 100%|██████████| 4/4 [00:00<00:00,  5.07it/s]\n"
     ]
    },
    {
     "data": {
      "text/plain": [
       "{'4NDY': PosixPath('pdb_files/4ndy.cif'),\n",
       " '4DRA': PosixPath('pdb_files/4dra.cif'),\n",
       " '1XWH': PosixPath('pdb_files/1xwh.cif'),\n",
       " '8WAS': PosixPath('pdb_files/8was.cif')}"
      ]
     },
     "execution_count": 4,
     "metadata": {},
     "output_type": "execute_result"
    }
   ],
   "source": [
    "files = fetch(ids, save_dir)\n",
    "files"
   ]
  },
  {
   "cell_type": "code",
   "execution_count": 5,
   "id": "1a6b90d1",
   "metadata": {},
   "outputs": [
    {
     "name": "stdout",
     "output_type": "stream",
     "text": [
      "1xwh.cif  4dra.cif  4ndy.cif  8was.cif\n"
     ]
    }
   ],
   "source": [
    "!ls pdb_files"
   ]
  },
  {
   "cell_type": "markdown",
   "id": "634cbc22",
   "metadata": {},
   "source": [
    "## Prepare pdb file for powerfit"
   ]
  },
  {
   "cell_type": "code",
   "execution_count": 6,
   "id": "52a42ec2",
   "metadata": {},
   "outputs": [],
   "source": [
    "from protein_detective.pdbe.io import write_single_chain_pdb_file"
   ]
  },
  {
   "cell_type": "code",
   "execution_count": 7,
   "id": "be19565d",
   "metadata": {},
   "outputs": [],
   "source": [
    "# A8MT69\t4NDY\tB/D/H/L/M/N/U/V/W/X=8-81\tsession1/single_chain/A8MT69_pdb4ndy.ent_B2A.pdb\n",
    "write_single_chain_pdb_file(save_dir / \"4ndy.cif\", \"B\", save_dir / \"A8MT69_4ndy_B2A.pdb\")"
   ]
  },
  {
   "cell_type": "code",
   "execution_count": 8,
   "id": "cb56e8a1",
   "metadata": {},
   "outputs": [],
   "source": [
    "# A8MT69\t4DRA\tE/F/G/H=1-81\tsession1/single_chain/A8MT69_pdb4dra.ent_E2A.pdb\n",
    "write_single_chain_pdb_file(save_dir / \"4dra.cif\", \"E\", save_dir / \"8MT69_4dra_E2A.pdb\")"
   ]
  },
  {
   "cell_type": "code",
   "execution_count": 9,
   "id": "e226f0d0",
   "metadata": {},
   "outputs": [
    {
     "name": "stdout",
     "output_type": "stream",
     "text": [
      "head: cannot open 'pdb_files/8MT69_pdb4dra.ent_E2A.pdb' for reading: No such file or directory\n",
      "...\n",
      "tail: cannot open 'pdb_files/8MT69_pdb4dra.ent_E2A.pdb' for reading: No such file or directory\n"
     ]
    }
   ],
   "source": [
    "!head pdb_files/8MT69_pdb4dra.ent_E2A.pdb\n",
    "print(\"...\")\n",
    "!tail pdb_files/8MT69_pdb4dra.ent_E2A.pdb"
   ]
  },
  {
   "cell_type": "code",
   "execution_count": 10,
   "id": "673d1274",
   "metadata": {},
   "outputs": [],
   "source": [
    "write_single_chain_pdb_file(\n",
    "    \"pdb_files/1xwh.cif\",\n",
    "    \"A\",\n",
    "    \"pdb_files/O43918_1xwh_A2A.pdb\",\n",
    ")"
   ]
  },
  {
   "cell_type": "code",
   "execution_count": 12,
   "id": "5f03eb2c",
   "metadata": {},
   "outputs": [],
   "source": [
    "# O00268      │ 8WAS    │ D/d=1-1085\n",
    "write_single_chain_pdb_file(\n",
    "    \"pdb_files/8was.cif\",\n",
    "    \"D\",\n",
    "    \"pdb_files/O00268_8was_D2A.pdb\",\n",
    ")"
   ]
  },
  {
   "cell_type": "code",
   "execution_count": 13,
   "id": "3c609c3d",
   "metadata": {},
   "outputs": [
    {
     "name": "stdout",
     "output_type": "stream",
     "text": [
      "total 18772\n",
      "-rw-rw-r-- 1 verhoes verhoes  1796029 Jun  6 12:34 1xwh.cif\n",
      "-rw-rw-r-- 1 verhoes verhoes  1034577 Jun  6 12:34 4dra.cif\n",
      "-rw-rw-r-- 1 verhoes verhoes  3117986 Jun  6 12:34 4ndy.cif\n",
      "-rw-rw-r-- 1 verhoes verhoes    92853 Jun  6 12:34 8MT69_4dra_E2A.pdb\n",
      "-rw-rw-r-- 1 verhoes verhoes 12881824 Jun  6 12:34 8was.cif\n",
      "-rw-rw-r-- 1 verhoes verhoes    95607 Jun  6 12:34 A8MT69_4ndy_B2A.pdb\n",
      "-rw-rw-r-- 1 verhoes verhoes   110673 Jun  6 12:34 O00268_8was_D2A.pdb\n",
      "-rw-rw-r-- 1 verhoes verhoes    77220 Jun  6 12:34 O43918_1xwh_A2A.pdb\n"
     ]
    }
   ],
   "source": [
    "!ls -l pdb_files/"
   ]
  },
  {
   "cell_type": "code",
   "execution_count": null,
   "id": "d2b8ef72",
   "metadata": {},
   "outputs": [],
   "source": []
  }
 ],
 "metadata": {
  "kernelspec": {
   "display_name": ".venv",
   "language": "python",
   "name": "python3"
  },
  "language_info": {
   "codemirror_mode": {
    "name": "ipython",
    "version": 3
   },
   "file_extension": ".py",
   "mimetype": "text/x-python",
   "name": "python",
   "nbconvert_exporter": "python",
   "pygments_lexer": "ipython3",
   "version": "3.13.2"
  }
 },
 "nbformat": 4,
 "nbformat_minor": 5
}
