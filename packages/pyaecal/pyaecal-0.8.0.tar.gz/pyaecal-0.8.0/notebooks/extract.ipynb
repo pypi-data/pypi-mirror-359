{
 "cells": [
  {
   "cell_type": "code",
   "execution_count": 19,
   "metadata": {},
   "outputs": [],
   "source": [
    "import logging\n",
    "import warnings\n",
    "import os\n",
    "import sys\n",
    "module_path = os.path.abspath(os.path.join('..'))\n",
    "if module_path not in sys.path:\n",
    "    sys.path.append(module_path)\n",
    "\n",
    "warnings.filterwarnings(\"ignore\")\n",
    "\n",
    "logging.basicConfig(stream=sys.stdout, level=logging.INFO)"
   ]
  },
  {
   "cell_type": "code",
   "execution_count": 20,
   "metadata": {},
   "outputs": [],
   "source": [
    "from src.pyaecal.extract import Extract\n",
    "extract = Extract()"
   ]
  },
  {
   "cell_type": "code",
   "execution_count": null,
   "metadata": {},
   "outputs": [],
   "source": [
    "extract.add_channel('motorSpeed','n')\n",
    "extract.add_channel('motorTorqueEstimated','tq')\n",
    "extract.add_channel('transRequestGear','reqGear')\n",
    "extract.add_channel('transCurrentGear','curGear')\n",
    "\n",
    "#extract.add_channel('gmea_s_tcuTrnsShiftInProcess_B','sip', optional=True)"
   ]
  },
  {
   "cell_type": "code",
   "execution_count": 33,
   "metadata": {},
   "outputs": [
    {
     "name": "stdout",
     "output_type": "stream",
     "text": [
      "INFO:root:n not in file ./data/Dana_20250515_130747.mf4\n"
     ]
    },
    {
     "data": {
      "text/html": [
       "<div><style>\n",
       ".dataframe > thead > tr,\n",
       ".dataframe > tbody > tr {\n",
       "  text-align: right;\n",
       "  white-space: pre-wrap;\n",
       "}\n",
       "</style>\n",
       "<small>shape: (0, 0)</small><table border=\"1\" class=\"dataframe\"><thead><tr></tr><tr></tr></thead><tbody></tbody></table></div>"
      ],
      "text/plain": [
       "shape: (0, 0)\n",
       "┌┐\n",
       "╞╡\n",
       "└┘"
      ]
     },
     "execution_count": 33,
     "metadata": {},
     "output_type": "execute_result"
    }
   ],
   "source": [
    "# standard extract\n",
    "extract.get_data('./data/Dana_20250515_130747.mf4')"
   ]
  },
  {
   "cell_type": "code",
   "execution_count": 23,
   "metadata": {},
   "outputs": [],
   "source": [
    "# start thread\n",
    "files, data = extract.start()"
   ]
  },
  {
   "cell_type": "code",
   "execution_count": 24,
   "metadata": {},
   "outputs": [],
   "source": [
    "extract.add_directory('./data')"
   ]
  },
  {
   "cell_type": "code",
   "execution_count": 25,
   "metadata": {},
   "outputs": [
    {
     "name": "stdout",
     "output_type": "stream",
     "text": [
      "INFO:root:./data/DEMO_AT.mdf: 62188 rows\n",
      "INFO:root:n not in file ./data/J19139.mf4\n"
     ]
    },
    {
     "name": "stdout",
     "output_type": "stream",
     "text": [
      "INFO:root:n not in file ./data/J19139-2.mf4\n",
      "INFO:root:n not in file ./data/Dana_20250515_131528.mf4\n",
      "INFO:root:n not in file ./data/Dana_20250515_123633.mf4\n",
      "INFO:root:n not in file ./data/Dana_20250515_130747.mf4\n",
      "('DEMO_AT', shape: (62_188, 3)\n",
      "┌────────────┬────────────┬───────┐\n",
      "│ offset     ┆ n          ┆ tq    │\n",
      "│ ---        ┆ ---        ┆ ---   │\n",
      "│ f32        ┆ f32        ┆ f32   │\n",
      "╞════════════╪════════════╪═══════╡\n",
      "│ 0.0        ┆ 850.0      ┆ 8.0   │\n",
      "│ 0.01       ┆ 850.0      ┆ 8.0   │\n",
      "│ 0.02       ┆ 850.0      ┆ 8.0   │\n",
      "│ 0.03       ┆ 850.826843 ┆ 8.0   │\n",
      "│ 0.04       ┆ 851.0      ┆ 8.0   │\n",
      "│ …          ┆ …          ┆ …     │\n",
      "│ 621.830688 ┆ 850.0      ┆ -3.25 │\n",
      "│ 621.840637 ┆ 850.0      ┆ -3.25 │\n",
      "│ 621.850647 ┆ 850.0      ┆ -3.25 │\n",
      "│ 621.860657 ┆ 850.0      ┆ -3.25 │\n",
      "│ 621.870667 ┆ 850.0      ┆ -3.25 │\n",
      "└────────────┴────────────┴───────┘)\n",
      "('J19139', shape: (0, 0)\n",
      "┌┐\n",
      "╞╡\n",
      "└┘)\n",
      "('J19139-2', shape: (0, 0)\n",
      "┌┐\n",
      "╞╡\n",
      "└┘)\n",
      "('Dana_20250515_131528', shape: (0, 0)\n",
      "┌┐\n",
      "╞╡\n",
      "└┘)\n",
      "('Dana_20250515_123633', shape: (0, 0)\n",
      "┌┐\n",
      "╞╡\n",
      "└┘)\n",
      "('Dana_20250515_130747', shape: (0, 0)\n",
      "┌┐\n",
      "╞╡\n",
      "└┘)\n"
     ]
    }
   ],
   "source": [
    "for data in extract:\n",
    "    print(data)"
   ]
  },
  {
   "cell_type": "code",
   "execution_count": 26,
   "metadata": {},
   "outputs": [],
   "source": [
    "import mdfreader as mdfr\n",
    "mdf=mdfr.Mdf('./data/DEMO_AT.mdf')"
   ]
  },
  {
   "cell_type": "code",
   "execution_count": 27,
   "metadata": {},
   "outputs": [
    {
     "data": {
      "text/plain": [
       "OrderedDict([('time',\n",
       "              ['time',\n",
       "               'State_shift_fil',\n",
       "               'State_shift_mode',\n",
       "               'Sig_AccPed',\n",
       "               'n_Eng',\n",
       "               'gear_tar',\n",
       "               'Sig_Brake',\n",
       "               'State_program',\n",
       "               'n_Trans_out_filt',\n",
       "               'State_clc',\n",
       "               'slip_clc_set',\n",
       "               'n_Trans_out',\n",
       "               'State_clutch_new',\n",
       "               'State_clutch_old',\n",
       "               'State_shift_mode_map',\n",
       "               'T_Brake',\n",
       "               'State_shift_spd',\n",
       "               'State_shift_trq',\n",
       "               'T_Eng_curr',\n",
       "               'T_clc',\n",
       "               'T_pump_hydro',\n",
       "               'T_turb',\n",
       "               'Temp_Oil',\n",
       "               'W_dis_rel',\n",
       "               'acc_Veh',\n",
       "               'acc_Veh_offset',\n",
       "               'slope',\n",
       "               'gear_curr_round',\n",
       "               'dn_clutch_new',\n",
       "               'p_clutch_old',\n",
       "               'dn_clutch_new_set',\n",
       "               'dn_clutch_old',\n",
       "               'gear_curr',\n",
       "               'n_Trans_in',\n",
       "               'n_Trans_in_filt',\n",
       "               'n_Whl_fl',\n",
       "               'n_Whl_fr',\n",
       "               'n_Whl_rl',\n",
       "               'n_Whl_rr',\n",
       "               'p_clutch_new',\n",
       "               'v_Veh'])])"
      ]
     },
     "execution_count": 27,
     "metadata": {},
     "output_type": "execute_result"
    }
   ],
   "source": [
    "mdf.masterChannelList"
   ]
  }
 ],
 "metadata": {
  "kernelspec": {
   "display_name": ".venv",
   "language": "python",
   "name": "python3"
  },
  "language_info": {
   "codemirror_mode": {
    "name": "ipython",
    "version": 3
   },
   "file_extension": ".py",
   "mimetype": "text/x-python",
   "name": "python",
   "nbconvert_exporter": "python",
   "pygments_lexer": "ipython3",
   "version": "3.12.7"
  }
 },
 "nbformat": 4,
 "nbformat_minor": 2
}
