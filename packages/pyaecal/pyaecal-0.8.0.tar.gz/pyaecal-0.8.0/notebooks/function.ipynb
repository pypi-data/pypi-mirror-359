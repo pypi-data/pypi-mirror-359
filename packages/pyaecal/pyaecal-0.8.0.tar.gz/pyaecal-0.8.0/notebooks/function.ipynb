{
 "cells": [
  {
   "cell_type": "code",
   "execution_count": 1,
   "id": "d4f2c961",
   "metadata": {},
   "outputs": [],
   "source": [
    "import logging\n",
    "import warnings\n",
    "import os\n",
    "import sys\n",
    "module_path = os.path.abspath(os.path.join('..'))\n",
    "if module_path not in sys.path:\n",
    "    sys.path.append(module_path)\n",
    "\n",
    "warnings.filterwarnings(\"ignore\")\n",
    "\n",
    "logging.basicConfig(stream=sys.stdout, level=logging.INFO)"
   ]
  },
  {
   "cell_type": "code",
   "execution_count": 2,
   "id": "790834a6",
   "metadata": {},
   "outputs": [
    {
     "name": "stdout",
     "output_type": "stream",
     "text": [
      "INFO:root:./data/DEMO_AT.mdf: 62188 rows\n"
     ]
    }
   ],
   "source": [
    "from src.pyaecal.function import Function\n",
    "fn = Function()"
   ]
  },
  {
   "cell_type": "code",
   "execution_count": 3,
   "id": "7f553674",
   "metadata": {},
   "outputs": [],
   "source": [
    "fn.add_channel('n_Eng','n')\n",
    "fn.add_channel('T_Eng_curr','tq')\n",
    "fn.add_channel('State_shift_spd','spd')"
   ]
  },
  {
   "cell_type": "code",
   "execution_count": 4,
   "id": "ac132053",
   "metadata": {},
   "outputs": [
    {
     "name": "stdout",
     "output_type": "stream",
     "text": [
      "INFO:root:./data/DEMO_AT.mdf: 62188 rows\n"
     ]
    },
    {
     "data": {
      "text/html": [
       "<div><style>\n",
       ".dataframe > thead > tr,\n",
       ".dataframe > tbody > tr {\n",
       "  text-align: right;\n",
       "  white-space: pre-wrap;\n",
       "}\n",
       "</style>\n",
       "<small>shape: (62_188, 4)</small><table border=\"1\" class=\"dataframe\"><thead><tr><th>offset</th><th>n</th><th>tq</th><th>spd</th></tr><tr><td>f32</td><td>f32</td><td>f32</td><td>f64</td></tr></thead><tbody><tr><td>0.0</td><td>850.0</td><td>8.0</td><td>0.0</td></tr><tr><td>0.01</td><td>850.0</td><td>8.0</td><td>0.0</td></tr><tr><td>0.02</td><td>850.0</td><td>8.0</td><td>0.0</td></tr><tr><td>0.03</td><td>850.826843</td><td>8.0</td><td>0.0</td></tr><tr><td>0.04</td><td>851.0</td><td>8.0</td><td>0.0</td></tr><tr><td>&hellip;</td><td>&hellip;</td><td>&hellip;</td><td>&hellip;</td></tr><tr><td>621.830688</td><td>850.0</td><td>-3.25</td><td>0.0</td></tr><tr><td>621.840637</td><td>850.0</td><td>-3.25</td><td>0.0</td></tr><tr><td>621.850647</td><td>850.0</td><td>-3.25</td><td>0.0</td></tr><tr><td>621.860657</td><td>850.0</td><td>-3.25</td><td>0.0</td></tr><tr><td>621.870667</td><td>850.0</td><td>-3.25</td><td>0.0</td></tr></tbody></table></div>"
      ],
      "text/plain": [
       "shape: (62_188, 4)\n",
       "┌────────────┬────────────┬───────┬─────┐\n",
       "│ offset     ┆ n          ┆ tq    ┆ spd │\n",
       "│ ---        ┆ ---        ┆ ---   ┆ --- │\n",
       "│ f32        ┆ f32        ┆ f32   ┆ f64 │\n",
       "╞════════════╪════════════╪═══════╪═════╡\n",
       "│ 0.0        ┆ 850.0      ┆ 8.0   ┆ 0.0 │\n",
       "│ 0.01       ┆ 850.0      ┆ 8.0   ┆ 0.0 │\n",
       "│ 0.02       ┆ 850.0      ┆ 8.0   ┆ 0.0 │\n",
       "│ 0.03       ┆ 850.826843 ┆ 8.0   ┆ 0.0 │\n",
       "│ 0.04       ┆ 851.0      ┆ 8.0   ┆ 0.0 │\n",
       "│ …          ┆ …          ┆ …     ┆ …   │\n",
       "│ 621.830688 ┆ 850.0      ┆ -3.25 ┆ 0.0 │\n",
       "│ 621.840637 ┆ 850.0      ┆ -3.25 ┆ 0.0 │\n",
       "│ 621.850647 ┆ 850.0      ┆ -3.25 ┆ 0.0 │\n",
       "│ 621.860657 ┆ 850.0      ┆ -3.25 ┆ 0.0 │\n",
       "│ 621.870667 ┆ 850.0      ┆ -3.25 ┆ 0.0 │\n",
       "└────────────┴────────────┴───────┴─────┘"
      ]
     },
     "execution_count": 4,
     "metadata": {},
     "output_type": "execute_result"
    }
   ],
   "source": [
    "fn.get_data('./data/DEMO_AT.mdf')"
   ]
  },
  {
   "cell_type": "code",
   "execution_count": 5,
   "id": "f6819e6c",
   "metadata": {},
   "outputs": [],
   "source": [
    "files, data = fn.start()"
   ]
  },
  {
   "cell_type": "code",
   "execution_count": 6,
   "id": "95c1727c",
   "metadata": {},
   "outputs": [
    {
     "data": {
      "text/plain": [
       "0"
      ]
     },
     "execution_count": 6,
     "metadata": {},
     "output_type": "execute_result"
    }
   ],
   "source": [
    "fn.add_directory('./data')\n",
    "fn.files.qsize()"
   ]
  },
  {
   "cell_type": "code",
   "execution_count": 7,
   "id": "bbc7bb7e",
   "metadata": {},
   "outputs": [],
   "source": [
    "for data in fn:\n",
    "    print(data)"
   ]
  },
  {
   "cell_type": "code",
   "execution_count": 8,
   "id": "ecaeaf1f",
   "metadata": {},
   "outputs": [],
   "source": [
    "import polars as pl\n",
    "\n",
    "class Test(Function):\n",
    "    def __init__(self, dataset=...):\n",
    "        super().__init__(dataset)\n",
    "\n",
    "    def evaluate(self, data):\n",
    "        data=data.with_columns((pl.col(\"n\")+1).alias(\"n+1\"))\n",
    "        return super().evaluate(data)"
   ]
  },
  {
   "cell_type": "code",
   "execution_count": 9,
   "id": "3e986e02",
   "metadata": {},
   "outputs": [
    {
     "name": "stdout",
     "output_type": "stream",
     "text": [
      "INFO:root:./data/DEMO_AT.mdf: 62188 rows\n"
     ]
    },
    {
     "data": {
      "text/html": [
       "<div><style>\n",
       ".dataframe > thead > tr,\n",
       ".dataframe > tbody > tr {\n",
       "  text-align: right;\n",
       "  white-space: pre-wrap;\n",
       "}\n",
       "</style>\n",
       "<small>shape: (62_188, 3)</small><table border=\"1\" class=\"dataframe\"><thead><tr><th>offset</th><th>n</th><th>tq</th></tr><tr><td>f32</td><td>f32</td><td>f32</td></tr></thead><tbody><tr><td>0.0</td><td>850.0</td><td>8.0</td></tr><tr><td>0.01</td><td>850.0</td><td>8.0</td></tr><tr><td>0.02</td><td>850.0</td><td>8.0</td></tr><tr><td>0.03</td><td>850.826843</td><td>8.0</td></tr><tr><td>0.04</td><td>851.0</td><td>8.0</td></tr><tr><td>&hellip;</td><td>&hellip;</td><td>&hellip;</td></tr><tr><td>621.830688</td><td>850.0</td><td>-3.25</td></tr><tr><td>621.840637</td><td>850.0</td><td>-3.25</td></tr><tr><td>621.850647</td><td>850.0</td><td>-3.25</td></tr><tr><td>621.860657</td><td>850.0</td><td>-3.25</td></tr><tr><td>621.870667</td><td>850.0</td><td>-3.25</td></tr></tbody></table></div>"
      ],
      "text/plain": [
       "shape: (62_188, 3)\n",
       "┌────────────┬────────────┬───────┐\n",
       "│ offset     ┆ n          ┆ tq    │\n",
       "│ ---        ┆ ---        ┆ ---   │\n",
       "│ f32        ┆ f32        ┆ f32   │\n",
       "╞════════════╪════════════╪═══════╡\n",
       "│ 0.0        ┆ 850.0      ┆ 8.0   │\n",
       "│ 0.01       ┆ 850.0      ┆ 8.0   │\n",
       "│ 0.02       ┆ 850.0      ┆ 8.0   │\n",
       "│ 0.03       ┆ 850.826843 ┆ 8.0   │\n",
       "│ 0.04       ┆ 851.0      ┆ 8.0   │\n",
       "│ …          ┆ …          ┆ …     │\n",
       "│ 621.830688 ┆ 850.0      ┆ -3.25 │\n",
       "│ 621.840637 ┆ 850.0      ┆ -3.25 │\n",
       "│ 621.850647 ┆ 850.0      ┆ -3.25 │\n",
       "│ 621.860657 ┆ 850.0      ┆ -3.25 │\n",
       "│ 621.870667 ┆ 850.0      ┆ -3.25 │\n",
       "└────────────┴────────────┴───────┘"
      ]
     },
     "execution_count": 9,
     "metadata": {},
     "output_type": "execute_result"
    },
    {
     "name": "stdout",
     "output_type": "stream",
     "text": [
      "INFO:root:./data/DEMO_AT.mdf: 62188 rows\n"
     ]
    }
   ],
   "source": [
    "test= Test()\n",
    "test.add_channel('n_Eng','n')\n",
    "test.add_channel('T_Eng_curr','tq')\n",
    "test.get_data('./data/DEMO_AT.mdf')"
   ]
  },
  {
   "cell_type": "code",
   "execution_count": 10,
   "id": "4e69092d",
   "metadata": {},
   "outputs": [],
   "source": [
    "files, data = test.start()\n",
    "test.add_directory('./data')\n"
   ]
  },
  {
   "cell_type": "code",
   "execution_count": 11,
   "id": "024e2b8b",
   "metadata": {},
   "outputs": [],
   "source": [
    "for data in test:\n",
    "    print(data)"
   ]
  }
 ],
 "metadata": {
  "kernelspec": {
   "display_name": ".venv",
   "language": "python",
   "name": "python3"
  },
  "language_info": {
   "codemirror_mode": {
    "name": "ipython",
    "version": 3
   },
   "file_extension": ".py",
   "mimetype": "text/x-python",
   "name": "python",
   "nbconvert_exporter": "python",
   "pygments_lexer": "ipython3",
   "version": "3.12.7"
  }
 },
 "nbformat": 4,
 "nbformat_minor": 5
}
