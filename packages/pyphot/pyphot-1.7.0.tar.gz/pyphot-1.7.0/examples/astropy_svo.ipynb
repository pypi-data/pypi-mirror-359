{
 "cells": [
  {
   "cell_type": "markdown",
   "metadata": {},
   "source": [
    "# pyphot - Interface with SVO filter profile service\n",
    "\n",
    "[http://svo2.cab.inta-csic.es/theory/fps/](http://svo2.cab.inta-csic.es/theory/fps/)\n",
    "\n",
    "If your research benefits from the use of the SVO Filter Profile Service, include the following acknowledgement in your publication:\n",
    "\n",
    "> This research has made use of the SVO Filter Profile Service\n",
    "> (http://svo2.cab.inta-csic.es/theory/fps/) supported from the Spanish MINECO\n",
    "> through grant AYA2017-84089.\n",
    "\n",
    "and please include the following references in your publication:\n",
    "\n",
    "* The SVO Filter Profile Service. Rodrigo, C., Solano, E., Bayo, A., 2012; https://ui.adsabs.harvard.edu/abs/2012ivoa.rept.1015R/abstract\n",
    "* The SVO Filter Profile Service. Rodrigo, C., Solano, E., 2020; https://ui.adsabs.harvard.edu/abs/2020sea..confE.182R/abstract\n",
    "\n",
    "\n",
    "Some examples are provided in this notebook\n",
    "\n",
    "Full documentation available at https://mfouesneau.github.io/pyphot/"
   ]
  },
  {
   "cell_type": "code",
   "execution_count": 1,
   "metadata": {},
   "outputs": [],
   "source": [
    "%matplotlib inline\n",
    "\n",
    "import pylab as plt\n",
    "import numpy as np\n",
    "\n",
    "import sys\n",
    "sys.path.append('../')\n",
    "from pyphot import astropy as pyphot\n",
    "from pyphot.svo import get_pyphot_astropy_filter as get_filter_from_svo"
   ]
  },
  {
   "cell_type": "markdown",
   "metadata": {},
   "source": [
    "## Quick Start"
   ]
  },
  {
   "cell_type": "markdown",
   "metadata": {},
   "source": [
    "Quick start example to access the library and it's content"
   ]
  },
  {
   "cell_type": "code",
   "execution_count": 2,
   "metadata": {},
   "outputs": [
    {
     "data": {
      "text/plain": [
       "[Filter: 2MASS_2MASS.J, <pyphot.astropy.sandbox.UnitFilter object at 0x12737c790>,\n",
       " Filter: 2MASS_2MASS.H, <pyphot.astropy.sandbox.UnitFilter object at 0x1053d8730>,\n",
       " Filter: 2MASS_2MASS.Ks, <pyphot.astropy.sandbox.UnitFilter object at 0x12737cf10>,\n",
       " Filter: HST_ACS_WFC.F475W, <pyphot.astropy.sandbox.UnitFilter object at 0x1281a0850>,\n",
       " Filter: HST_ACS_WFC.F814W, <pyphot.astropy.sandbox.UnitFilter object at 0x1281c46d0>]"
      ]
     },
     "execution_count": 2,
     "metadata": {},
     "output_type": "execute_result"
    }
   ],
   "source": [
    "lst = [\"2MASS/2MASS.J\", \"2MASS/2MASS.H\", \"2MASS/2MASS.Ks\",\n",
    "       \"HST/ACS_WFC.F475W\", \"HST/ACS_WFC.F814W\"]\n",
    "filters = [get_filter_from_svo(k) for k in lst]\n",
    "filters"
   ]
  },
  {
   "cell_type": "code",
   "execution_count": 3,
   "metadata": {
    "scrolled": false
   },
   "outputs": [
    {
     "name": "stdout",
     "output_type": "stream",
     "text": [
      "Filter object information:\n",
      "    name:                 2MASS_2MASS.J\n",
      "    detector type:        energy\n",
      "    wavelength units:     nm\n",
      "    central wavelength:   1241.051880 nm\n",
      "    pivot wavelength:     1235.808838 nm\n",
      "    effective wavelength: 1228.565473 nm\n",
      "    photon wavelength:    1232.122857 nm\n",
      "    minimum wavelength:   1082.000000 nm\n",
      "    maximum wavelength:   1406.000000 nm\n",
      "    norm:                 162.432434\n",
      "    effective width:      162.432434 nm\n",
      "    fullwidth half-max:   3.000000 nm\n",
      "    definition contains 107 points\n",
      "\n",
      "    Zeropoints\n",
      "        Vega: 23.756942 mag,\n",
      "              3.1421235331555586e-10 erg / (Angstrom cm2 s),\n",
      "              1600.6823123157903 Jy\n",
      "              189.9448327751629 ph / (Angstrom cm2 s)\n",
      "          AB: 22.867705 mag,\n",
      "              7.127186272302632e-10 erg / (Angstrom cm2 s),\n",
      "              3630.7805477009983 Jy\n",
      "          ST: 21.100000 mag,\n",
      "              3.6307805477010028e-09 erg / (Angstrom cm2 s),\n",
      "              18496.173499482553 Jy\n",
      "        \n"
     ]
    }
   ],
   "source": [
    "# get the internal default library of passbands filters\n",
    "filters[0].info(show_zeropoints=True)"
   ]
  },
  {
   "cell_type": "markdown",
   "metadata": {},
   "source": [
    "Suppose one has a calibrated spectrum and wants to compute the vega magnitude throug the HST WFC3 F110W passband,"
   ]
  },
  {
   "cell_type": "code",
   "execution_count": 5,
   "metadata": {},
   "outputs": [
    {
     "data": {
      "text/plain": [
       "(<Quantity 1.14049113e-09 erg / (Angstrom cm2 s)>,\n",
       " <Quantity [9.00452026e+02, 9.01354004e+02, 9.02257996e+02, ...,\n",
       "            2.99353200e+06, 2.99653275e+06, 2.99953700e+06] Angstrom>,\n",
       " <Quantity [1.23800003e-17, 1.67599994e-17, 1.78000003e-17, ...,\n",
       "            1.40099994e-19, 1.38700004e-19, 1.26499994e-19] flam>)"
      ]
     },
     "execution_count": 5,
     "metadata": {},
     "output_type": "execute_result"
    }
   ],
   "source": [
    "# convert to magnitudes\n",
    "import numpy as np\n",
    "\n",
    "# We'll use Vega spectrum as example\n",
    "from pyphot.astropy import Vega\n",
    "vega = Vega()\n",
    "f = filters[-1]\n",
    "# compute the integrated flux through the filter f\n",
    "# note that it work on many spectra at once\n",
    "fluxes = f.get_flux(vega.wavelength, vega.flux, axis=-1)\n",
    "# Note that fluxes is now with units of erg/s/cm2/AA\n",
    "# pyphot gives Vega in flam and can convert between flux density units. \n",
    "fluxes, vega.wavelength, vega.flux"
   ]
  },
  {
   "cell_type": "code",
   "execution_count": 6,
   "metadata": {},
   "outputs": [
    {
     "name": "stdout",
     "output_type": "stream",
     "text": [
      "Vega magnitude of Vega in HST_ACS_WFC.F814W is : 0.000000 mag\n",
      "AB magnitude of Vega in HST_ACS_WFC.F814W is : 0.421694 mag\n",
      "ST magnitude of Vega in HST_ACS_WFC.F814W is : 1.257270 mag\n"
     ]
    }
   ],
   "source": [
    "# convert to vega magnitudes\n",
    "mags = -2.5 * np.log10(fluxes.value) - f.Vega_zero_mag\n",
    "print(\"Vega magnitude of Vega in {0:s} is : {1:f} mag\".format(f.name, mags))\n",
    "mags = -2.5 * np.log10(fluxes.value) - f.AB_zero_mag\n",
    "print(\"AB magnitude of Vega in {0:s} is : {1:f} mag\".format(f.name, mags))\n",
    "mags = -2.5 * np.log10(fluxes.value) - f.ST_zero_mag\n",
    "print(\"ST magnitude of Vega in {0:s} is : {1:f} mag\".format(f.name, mags))"
   ]
  }
 ],
 "metadata": {
  "kernelspec": {
   "display_name": "Python 3",
   "language": "python",
   "name": "python3"
  },
  "language_info": {
   "codemirror_mode": {
    "name": "ipython",
    "version": 3
   },
   "file_extension": ".py",
   "mimetype": "text/x-python",
   "name": "python",
   "nbconvert_exporter": "python",
   "pygments_lexer": "ipython3",
   "version": "3.9.8"
  },
  "latex_envs": {
   "LaTeX_envs_menu_present": true,
   "autoclose": false,
   "autocomplete": true,
   "bibliofile": "biblio.bib",
   "cite_by": "apalike",
   "current_citInitial": 1,
   "eqLabelWithNumbers": true,
   "eqNumInitial": 1,
   "hotkeys": {
    "equation": "ctrl-shift-i"
   },
   "labels_anchors": false,
   "latex_user_defs": false,
   "report_style_numbering": false,
   "user_envs_cfg": false
  },
  "toc": {
   "base_numbering": 1,
   "nav_menu": {},
   "number_sections": true,
   "sideBar": true,
   "skip_h1_title": false,
   "title_cell": "Table of Contents",
   "title_sidebar": "Contents",
   "toc_cell": false,
   "toc_position": {},
   "toc_section_display": true,
   "toc_window_display": false
  },
  "varInspector": {
   "cols": {
    "lenName": 16,
    "lenType": 16,
    "lenVar": 40
   },
   "kernels_config": {
    "python": {
     "delete_cmd_postfix": "",
     "delete_cmd_prefix": "del ",
     "library": "var_list.py",
     "varRefreshCmd": "print(var_dic_list())"
    },
    "r": {
     "delete_cmd_postfix": ") ",
     "delete_cmd_prefix": "rm(",
     "library": "var_list.r",
     "varRefreshCmd": "cat(var_dic_list()) "
    }
   },
   "types_to_exclude": [
    "module",
    "function",
    "builtin_function_or_method",
    "instance",
    "_Feature"
   ],
   "window_display": false
  }
 },
 "nbformat": 4,
 "nbformat_minor": 2
}
