{
 "cells": [
  {
   "cell_type": "markdown",
   "metadata": {},
   "source": [
    "# pyphot - A tool for computing photometry from spectra\n",
    "\n",
    "\n",
    "Some examples are provided in this notebook\n",
    "\n",
    "Full documentation available at https://mfouesneau.github.io/pyphot/"
   ]
  },
  {
   "cell_type": "code",
   "execution_count": 1,
   "metadata": {},
   "outputs": [],
   "source": [
    "%matplotlib inline\n",
    "\n",
    "import pylab as plt\n",
    "import numpy as np\n",
    "\n",
    "import sys\n",
    "sys.path.append('../')\n",
    "from pyphot import sandbox as pyphot\n",
    "from pyphot import Vega, Sun"
   ]
  },
  {
   "cell_type": "markdown",
   "metadata": {},
   "source": [
    "## The Sun and Vega"
   ]
  },
  {
   "cell_type": "markdown",
   "metadata": {},
   "source": [
    "`pyphot` provides convenient interfaces to a spectral representation of the Sun and Vega.\n",
    "In this notebook, we show how they can be used."
   ]
  },
  {
   "cell_type": "code",
   "execution_count": 2,
   "metadata": {},
   "outputs": [
    {
     "name": "stdout",
     "output_type": "stream",
     "text": [
      "Library contains:  256  filters\n"
     ]
    }
   ],
   "source": [
    "# get the internal default library of passbands filters\n",
    "lib = pyphot.get_library()\n",
    "print(\"Library contains: \", len(lib), \" filters\")"
   ]
  },
  {
   "cell_type": "markdown",
   "metadata": {},
   "source": [
    "## Vega"
   ]
  },
  {
   "cell_type": "markdown",
   "metadata": {},
   "source": [
    "Suppose one has a calibrated spectrum and wants to compute the vega magnitude throug the HST WFC3 F110W passband,"
   ]
  },
  {
   "cell_type": "code",
   "execution_count": 3,
   "metadata": {},
   "outputs": [
    {
     "name": "stdout",
     "output_type": "stream",
     "text": [
      "Vega magnitude of Vega in HST_WFC3_F110W is : 0.000000 mag\n",
      "AB magnitude of Vega in HST_WFC3_F110W is : 0.751950 mag\n",
      "ST magnitude of Vega in HST_WFC3_F110W is : 2.372749 mag\n"
     ]
    }
   ],
   "source": [
    "# convert to magnitudes\n",
    "import numpy as np\n",
    "\n",
    "# We'll use Vega spectrum as example\n",
    "vega = Vega()\n",
    "f = lib['HST_WFC3_F110W']\n",
    "# compute the integrated flux through the filter f\n",
    "# note that it work on many spectra at once\n",
    "fluxes = f.get_flux(vega.wavelength, vega.flux, axis=-1)\n",
    "# convert to vega magnitudes\n",
    "mags = -2.5 * np.log10(fluxes.magnitude) - f.Vega_zero_mag\n",
    "print(\"Vega magnitude of Vega in {0:s} is : {1:f} mag\".format(f.name, mags))\n",
    "mags = -2.5 * np.log10(fluxes.magnitude) - f.AB_zero_mag\n",
    "print(\"AB magnitude of Vega in {0:s} is : {1:f} mag\".format(f.name, mags))\n",
    "mags = -2.5 * np.log10(fluxes.magnitude) - f.ST_zero_mag\n",
    "print(\"ST magnitude of Vega in {0:s} is : {1:f} mag\".format(f.name, mags))"
   ]
  },
  {
   "cell_type": "code",
   "execution_count": 4,
   "metadata": {},
   "outputs": [
    {
     "data": {
      "text/plain": [
       "(<Quantity(3630.780547701005, 'Jy')>,\n",
       " <Quantity(1816.4359709388373, 'Jy')>,\n",
       " <Quantity(16155.469547627858, 'Jy')>)"
      ]
     },
     "execution_count": 4,
     "metadata": {},
     "output_type": "execute_result"
    }
   ],
   "source": [
    "f.AB_zero_Jy, f.Vega_zero_Jy, f.ST_zero_Jy"
   ]
  },
  {
   "cell_type": "markdown",
   "metadata": {},
   "source": [
    "## The Sun"
   ]
  },
  {
   "cell_type": "markdown",
   "metadata": {},
   "source": [
    "The internal reference to the Solar spectrum comes in two flavors: an observed one and a theoretical one.\n",
    "By default, the interface is set to theoretical.\n",
    "\n",
    "In addition, the Sun is at $1\\,au$ but can be set to any distance. Below we instanciate the two flavors and also the Sun if it was at $10\\, pc$ (absolute flux units)."
   ]
  },
  {
   "cell_type": "code",
   "execution_count": 5,
   "metadata": {},
   "outputs": [],
   "source": [
    "from pyphot import unit\n",
    "sun_obs = Sun(flavor='observed')\n",
    "sun_th = Sun()   # default is theoric spectrum\n",
    "sun_th_10pc = Sun(distance=10 * unit['pc'])"
   ]
  },
  {
   "cell_type": "code",
   "execution_count": 6,
   "metadata": {},
   "outputs": [
    {
     "name": "stderr",
     "output_type": "stream",
     "text": [
      "WARNING: VerifyWarning: Invalid keyword for column 2: Column null option (TNULLn) must be an integer for binary table columns (got 1.6e+38).  The invalid value will be ignored for the purpose of formatting the data in this column. [astropy.io.fits.column]\n",
      "WARNING: VerifyWarning: Invalid keyword for column 3: Column null option (TNULLn) must be an integer for binary table columns (got 1.6e+38).  The invalid value will be ignored for the purpose of formatting the data in this column. [astropy.io.fits.column]\n",
      "WARNING: VerifyWarning: Invalid keyword for column 4: Column null option (TNULLn) must be an integer for binary table columns (got 1.6e+38).  The invalid value will be ignored for the purpose of formatting the data in this column. [astropy.io.fits.column]\n",
      "WARNING: VerifyWarning: Invalid keyword for column 5: Column null option (TNULLn) must be an integer for binary table columns (got 1.6e+38).  The invalid value will be ignored for the purpose of formatting the data in this column. [astropy.io.fits.column]\n",
      "WARNING: VerifyWarning: Invalid keyword for column 7: Column null option (TNULLn) must be an integer for binary table columns (got 1.6e+38).  The invalid value will be ignored for the purpose of formatting the data in this column. [astropy.io.fits.column]\n"
     ]
    },
    {
     "data": {
      "image/png": "[encoded data removed]",
      "text/plain": [
       "<Figure size 432x288 with 1 Axes>"
      ]
     },
     "metadata": {
      "needs_background": "light"
     },
     "output_type": "display_data"
    }
   ],
   "source": [
    "plt.loglog(sun_obs.wavelength.magnitude, sun_obs.flux.magnitude, label='observed')\n",
    "plt.loglog(sun_th.wavelength.magnitude, sun_th.flux.magnitude, label='theoretical')\n",
    "plt.legend();\n",
    "plt.xlabel('wavelength [{0:s}]'.format(str(sun_obs.wavelength.units)));\n",
    "plt.ylabel('flux [{0:s}]'.format(str(sun_obs.flux.units)));"
   ]
  },
  {
   "cell_type": "markdown",
   "metadata": {},
   "source": [
    "One can see the differences between the two flavors.\n",
    "The theoretical spectrum is scaled to match the observed spectrum from 1.5 - 2.5 microns, and then it is used where the observed spectrum ends. The theoretical model of the Sun from Kurucz‘93 atlas using the following parameters when the Sun is at 1 au.\n",
    "\n",
    "|log_Z | T_eff | log_g | V$_{Johnson}$ |\n",
    "|------|-------|-------|---------------|\n",
    "|+0.0  | 5777  |+4.44  | -26.76        |\n",
    "\n",
    "The Sun is also know to have a Johnson V (vega-)magnitude of -26.76 mag.\n",
    "\n",
    "Let's verify this."
   ]
  },
  {
   "cell_type": "code",
   "execution_count": 7,
   "metadata": {},
   "outputs": [
    {
     "name": "stdout",
     "output_type": "stream",
     "text": [
      "observed     1.84614e+02 -26.7648\n",
      "theoretical  1.84436e+02 -26.7637\n",
      "th. 10pc     4.33506e-11 +4.8084\n"
     ]
    }
   ],
   "source": [
    "f = lib['GROUND_JOHNSON_V']\n",
    "for name, sun in zip(('observed', 'theoretical', 'th. 10pc'), (sun_obs,sun_th, sun_th_10pc)):\n",
    "    flux = f.get_flux(sun.wavelength, sun.flux)\n",
    "    vegamag = f.Vega_zero_mag\n",
    "    print('{0:12s} {1:0.5e} {2:+3.4f}'.format(name, flux.magnitude, -2.5 * np.log10(flux.magnitude) - vegamag))"
   ]
  },
  {
   "cell_type": "code",
   "execution_count": 8,
   "metadata": {},
   "outputs": [],
   "source": [
    "filter_names = ['GROUND_JOHNSON_B', 'GROUND_JOHNSON_V', 'GROUND_BESSELL_J', 'GROUND_BESSELL_K']\n",
    "filter_names +=  lib.find('GaiaDR2')\n",
    "\n",
    "filters = lib.load_filters(filter_names, lamb=sun_th.wavelength)"
   ]
  },
  {
   "cell_type": "code",
   "execution_count": 9,
   "metadata": {},
   "outputs": [
    {
     "name": "stdout",
     "output_type": "stream",
     "text": [
      "         GROUND_JOHNSON_B -26.0709 mag\n",
      "         GROUND_JOHNSON_V -26.7637 mag\n",
      "         GROUND_BESSELL_J -27.8970 mag\n",
      "         GROUND_BESSELL_K -28.2706 mag\n",
      "               GaiaDR2_BP -26.5833 mag\n",
      "                GaiaDR2_G -26.9171 mag\n",
      "               GaiaDR2_RP -27.4022 mag\n",
      "  GaiaDR2_weiler_BPbright -26.5835 mag\n",
      "   GaiaDR2_weiler_BPfaint -26.5560 mag\n",
      "         GaiaDR2_weiler_G -26.9115 mag\n",
      "        GaiaDR2_weiler_RP -27.4055 mag\n",
      "             GaiaDR2v2_BP -26.5868 mag\n",
      "              GaiaDR2v2_G -26.9101 mag\n",
      "             GaiaDR2v2_RP -27.3971 mag\n"
     ]
    }
   ],
   "source": [
    "mags = {}\n",
    "for name, fn in zip(filter_names, filters):\n",
    "    flux = fn.get_flux(sun_th.wavelength, sun_th.flux)\n",
    "    vegamag = fn.Vega_zero_mag\n",
    "    mag = -2.5 * np.log10(flux.magnitude) - vegamag\n",
    "    mags[name] = mag\n",
    "    print('{0:>25s} {1:+3.4f} mag'.format(name, mag))"
   ]
  },
  {
   "cell_type": "code",
   "execution_count": 10,
   "metadata": {},
   "outputs": [
    {
     "name": "stdout",
     "output_type": "stream",
     "text": [
      "         GROUND_JOHNSON_B - GROUND_JOHNSON_V          = 0.6928 mag\n",
      "         GROUND_JOHNSON_V - GROUND_BESSELL_K          = 1.5069 mag\n",
      "         GROUND_BESSELL_J - GROUND_BESSELL_K          = 0.3735 mag\n",
      "               GaiaDR2_BP - GaiaDR2_RP                = 0.8188 mag\n",
      "               GaiaDR2_BP - GaiaDR2_G                 = 0.3337 mag\n",
      "                GaiaDR2_G - GaiaDR2_RP                = 0.4851 mag\n",
      "             GaiaDR2v2_BP - GaiaDR2v2_RP              = 0.8103 mag\n",
      "             GaiaDR2v2_BP - GaiaDR2v2_G               = 0.3233 mag\n",
      "              GaiaDR2v2_G - GaiaDR2v2_RP              = 0.4870 mag\n",
      "  GaiaDR2_weiler_BPbright - GaiaDR2_weiler_RP         = 0.8220 mag\n",
      "   GaiaDR2_weiler_BPfaint - GaiaDR2_weiler_RP         = 0.8495 mag\n",
      "  GaiaDR2_weiler_BPbright - GaiaDR2_weiler_G          = 0.3280 mag\n",
      "   GaiaDR2_weiler_BPfaint - GaiaDR2_weiler_G          = 0.3555 mag\n",
      "         GaiaDR2_weiler_G - GaiaDR2_weiler_RP         = 0.4940 mag\n"
     ]
    }
   ],
   "source": [
    "colors = (('GROUND_JOHNSON_B', 'GROUND_JOHNSON_V'),\n",
    "          ('GROUND_JOHNSON_V', 'GROUND_BESSELL_K'),\n",
    "          ('GROUND_BESSELL_J', 'GROUND_BESSELL_K'),\n",
    "          ('GaiaDR2_BP', 'GaiaDR2_RP'),\n",
    "          ('GaiaDR2_BP', 'GaiaDR2_G'),\n",
    "          ('GaiaDR2_G', 'GaiaDR2_RP'),\n",
    "          ('GaiaDR2v2_BP', 'GaiaDR2v2_RP'),\n",
    "          ('GaiaDR2v2_BP', 'GaiaDR2v2_G'),\n",
    "          ('GaiaDR2v2_G', 'GaiaDR2v2_RP'),\n",
    "          ('GaiaDR2_weiler_BPbright', 'GaiaDR2_weiler_RP'),\n",
    "          ('GaiaDR2_weiler_BPfaint', 'GaiaDR2_weiler_RP'),\n",
    "          ('GaiaDR2_weiler_BPbright', 'GaiaDR2_weiler_G'),\n",
    "          ('GaiaDR2_weiler_BPfaint', 'GaiaDR2_weiler_G'),\n",
    "          ('GaiaDR2_weiler_G', 'GaiaDR2_weiler_RP'))\n",
    "\n",
    "color_values = {}\n",
    "\n",
    "for color in colors:\n",
    "    color_values[color] = mags[color[0]] - mags[color[1]]\n",
    "    print('{0:>25s} - {1:<25s} = {2:3.4f} mag'.format(color[0], color[1], mags[color[0]] - mags[color[1]]))\n",
    "          "
   ]
  },
  {
   "cell_type": "code",
   "execution_count": null,
   "metadata": {},
   "outputs": [],
   "source": []
  }
 ],
 "metadata": {
  "kernelspec": {
   "display_name": "Python 3",
   "language": "python",
   "name": "python3"
  },
  "language_info": {
   "codemirror_mode": {
    "name": "ipython",
    "version": 3
   },
   "file_extension": ".py",
   "mimetype": "text/x-python",
   "name": "python",
   "nbconvert_exporter": "python",
   "pygments_lexer": "ipython3",
   "version": "3.6.8"
  },
  "latex_envs": {
   "LaTeX_envs_menu_present": true,
   "autoclose": false,
   "autocomplete": true,
   "bibliofile": "biblio.bib",
   "cite_by": "apalike",
   "current_citInitial": 1,
   "eqLabelWithNumbers": true,
   "eqNumInitial": 1,
   "hotkeys": {
    "equation": "ctrl-shift-i"
   },
   "labels_anchors": false,
   "latex_user_defs": false,
   "report_style_numbering": false,
   "user_envs_cfg": false
  },
  "toc": {
   "base_numbering": 1,
   "nav_menu": {},
   "number_sections": true,
   "sideBar": true,
   "skip_h1_title": false,
   "title_cell": "Table of Contents",
   "title_sidebar": "Contents",
   "toc_cell": false,
   "toc_position": {},
   "toc_section_display": true,
   "toc_window_display": false
  },
  "varInspector": {
   "cols": {
    "lenName": 16,
    "lenType": 16,
    "lenVar": 40
   },
   "kernels_config": {
    "python": {
     "delete_cmd_postfix": "",
     "delete_cmd_prefix": "del ",
     "library": "var_list.py",
     "varRefreshCmd": "print(var_dic_list())"
    },
    "r": {
     "delete_cmd_postfix": ") ",
     "delete_cmd_prefix": "rm(",
     "library": "var_list.r",
     "varRefreshCmd": "cat(var_dic_list()) "
    }
   },
   "types_to_exclude": [
    "module",
    "function",
    "builtin_function_or_method",
    "instance",
    "_Feature"
   ],
   "window_display": false
  }
 },
 "nbformat": 4,
 "nbformat_minor": 2
}
