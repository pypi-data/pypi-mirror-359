{
 "cells": [
  {
   "cell_type": "markdown",
   "id": "12d57c4c-4af2-4009-8d16-81a3d598cc36",
   "metadata": {},
   "source": [
    "# Example 1: Simulating a Traffic Network"
   ]
  },
  {
   "cell_type": "markdown",
   "id": "b3762770-d95f-4e4b-bf60-d805525a450f",
   "metadata": {},
   "source": [
    "In this example, we will use the TRACKSIM to simulate vehicle traffic in a SUMO network. For the purposes of this example, we will simulate the charming city of Geldrop, Netherlands which has a population of around 29 thousand people (2023). The corresponding SUMO scenario was created using the osmWebWizard tool from SUMO which is fast way to generate working SUMO scenarios. For more information about osmWebWizard, please refer to the documentation at https://sumo.dlr.de/docs/Tools/Import/OSM.html ."
   ]
  },
  {
   "cell_type": "markdown",
   "id": "52211085-2f3b-4cfe-a8cb-c6e0047392b8",
   "metadata": {},
   "source": [
    "The traffic simulator is handled by the Traffic class in TRACKSIM."
   ]
  },
  {
   "cell_type": "code",
   "execution_count": null,
   "id": "56222dd5-0378-421c-81ed-98902d9d9667",
   "metadata": {},
   "outputs": [],
   "source": [
    "from tracksim.tracksim import Traffic\n",
    "\n",
    "help(Traffic)"
   ]
  },
  {
   "cell_type": "markdown",
   "id": "ed410412-631e-42ea-ab90-d537bf728745",
   "metadata": {},
   "source": [
    "The traffic class has multiple optional settings which can be configured (please refer to the docstring). However, it is required to give the path to the SUMO configuration file as input. In this example, we will only simulate 1 hour of traffic with a sample interval of 1 second. Additionally, we will enable tracking of the position of each vehicle."
   ]
  },
  {
   "cell_type": "code",
   "execution_count": null,
   "id": "99763570-f0dc-4e61-8cbc-a889fd10c316",
   "metadata": {},
   "outputs": [],
   "source": [
    "config_path = 'example_SUMO_scenarios/Geldrop/osm.sumocfg'\n",
    "\n",
    "traffic = Traffic(config_path, duration=1, time_step=1, record_position=True)"
   ]
  },
  {
   "cell_type": "code",
   "execution_count": null,
   "id": "d6988037-1961-4887-8f3e-08cf26239481",
   "metadata": {},
   "outputs": [],
   "source": [
    "traffic.simulate_traffic()"
   ]
  },
  {
   "cell_type": "markdown",
   "id": "e80882d4-4cad-4df6-9956-1a9a3f6d8fff",
   "metadata": {},
   "source": [
    "Once the simulation has finished, all trip files are found in a directory named 'simulated_trip_files'. The data from each trip is stored in a CSV file. The name of each trip file corresponds to the ID of the vehicle. Let's look at the data for one trip."
   ]
  },
  {
   "cell_type": "code",
   "execution_count": null,
   "id": "f5ded3eb-9026-4405-8e57-7e37b34d59bc",
   "metadata": {},
   "outputs": [],
   "source": [
    "import pandas as pd\n",
    "\n",
    "trip_file = 'simulated_trip_files/veh0.csv'\n",
    "trip_data = pd.read_csv(trip_file)\n",
    "\n",
    "trip_data.info()\n",
    "trip_data.head()"
   ]
  },
  {
   "cell_type": "markdown",
   "id": "3763da8b-db88-483d-bfe9-a7fa9418f38c",
   "metadata": {},
   "source": [
    "The trip data contains the time of the simulation, the speed of the vehicle in meters per second and the x and y position of the vehicle in meters."
   ]
  },
  {
   "cell_type": "markdown",
   "id": "b87f795b-0b7a-4c6a-b7cd-209ce22ce14d",
   "metadata": {},
   "source": [
    "The path of the vehicle can be plotted."
   ]
  },
  {
   "cell_type": "code",
   "execution_count": null,
   "id": "f9655a73-86bf-4831-95b9-4513a46c5a65",
   "metadata": {},
   "outputs": [],
   "source": [
    "import matplotlib.pyplot as plt\n",
    "\n",
    "plt.style.use('seaborn-v0_8-notebook')\n",
    "\n",
    "plt.figure()\n",
    "plt.scatter(trip_data['x [m]'], trip_data['y [m]'], c=trip_data['Speed [m/s]']*3.6, cmap='viridis')\n",
    "plt.colorbar(label='Speed [km/h]')\n",
    "plt.xlabel('x [m]')\n",
    "plt.ylabel('y [m]')"
   ]
  },
  {
   "cell_type": "markdown",
   "id": "2ac1b730-2bcc-44b3-8486-897f0794b461",
   "metadata": {},
   "source": [
    "Likewise, we can plot the speed of the vehicle over time."
   ]
  },
  {
   "cell_type": "code",
   "execution_count": null,
   "id": "cc92641f-7f4b-4217-990a-b1a0c446b593",
   "metadata": {},
   "outputs": [],
   "source": [
    "plt.figure()\n",
    "\n",
    "plt.plot(trip_data['Time [s]'], trip_data['Speed [m/s]']*3.6) # Convert to km/h\n",
    "plt.xlabel('Time of simulation [s]')\n",
    "plt.ylabel('Speed [km/h]')"
   ]
  },
  {
   "cell_type": "markdown",
   "id": "0347a407-8079-40d2-a777-71ab53b6cd3f",
   "metadata": {},
   "source": [
    "SUMO has a tendency to give speeds which can vary a lot over a short time. This can lead to high acceleration/deacceleration peaks and potentially unrealistic battery measurements. One way to mitigate this is to low-pass filter the speed profile. This can be done using an exponential moving average."
   ]
  },
  {
   "cell_type": "code",
   "execution_count": null,
   "id": "cb717968-b308-434e-89fb-fa8c4bc9de45",
   "metadata": {},
   "outputs": [],
   "source": [
    "from tracksim.utils import exp_average\n",
    "\n",
    "speed_filtered = exp_average(trip_data['Speed [m/s]'], 0.3)\n",
    "\n",
    "plt.figure()\n",
    "\n",
    "plt.plot(trip_data['Time [s]'], trip_data['Speed [m/s]']*3.6, label='Original')\n",
    "plt.plot(trip_data['Time [s]'], speed_filtered*3.6, label='Filtered')\n",
    "plt.xlabel('Time of simulation [s]')\n",
    "plt.ylabel('Speed [km/h]')\n",
    "plt.legend()"
   ]
  },
  {
   "cell_type": "code",
   "execution_count": null,
   "id": "02de538d-f702-4e8d-a983-7b0799e2aabe",
   "metadata": {},
   "outputs": [],
   "source": []
  }
 ],
 "metadata": {
  "kernelspec": {
   "display_name": "Python 3 (ipykernel)",
   "language": "python",
   "name": "python3"
  },
  "language_info": {
   "codemirror_mode": {
    "name": "ipython",
    "version": 3
   },
   "file_extension": ".py",
   "mimetype": "text/x-python",
   "name": "python",
   "nbconvert_exporter": "python",
   "pygments_lexer": "ipython3",
   "version": "3.12.7"
  }
 },
 "nbformat": 4,
 "nbformat_minor": 5
}
