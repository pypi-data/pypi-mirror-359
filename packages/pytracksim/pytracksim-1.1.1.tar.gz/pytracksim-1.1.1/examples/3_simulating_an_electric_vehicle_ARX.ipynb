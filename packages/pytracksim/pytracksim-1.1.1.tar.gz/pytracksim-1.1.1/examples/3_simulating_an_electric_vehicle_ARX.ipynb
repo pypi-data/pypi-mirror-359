{
 "cells": [
  {
   "cell_type": "markdown",
   "id": "32dab3fa-3a6f-437f-a545-e7e0f27b0303",
   "metadata": {},
   "source": [
    "# Example 3: Simulating an Electric Vehicle (ARX)"
   ]
  },
  {
   "cell_type": "markdown",
   "id": "a3e28d66-4c2f-40d5-9cef-dda7964ede36",
   "metadata": {},
   "source": [
    "This example follows the previous example, but where we instead assume that each cell in the battery pack are modeled as an Autoregressive with Exogenous input (ARX) model. The model is assmued to follow the structure:\n",
    "\n",
    "$$V_q[k] = a_1V_q[k-1] + \\cdots + a_n V_q[k-n] + b_0I[k] + b_1I[k-1] + \\cdots + b_n I[k-n] = \\boldsymbol{\\phi}_k^T\\boldsymbol{\\theta}_k$$\n",
    "$$\\boldsymbol{\\phi}_k = \\begin{bmatrix} V_q[k-1] & \\cdots & V_q[k-n] & I[k] & I[k-1] & \\cdots & I[k-n] \\end{bmatrix}^T$$\n",
    "$$\\boldsymbol{\\theta}_k = \\begin{bmatrix} a_1 & \\cdots & a_n & b_0 & b_1 & \\cdots & b_n \\end{bmatrix}^T$$\n",
    "\n",
    "where $V_q = V_t - OCV$ and $n$ is the model order."
   ]
  },
  {
   "cell_type": "code",
   "execution_count": null,
   "id": "c8b89f40-bf86-4218-8769-babbfc3a6a2b",
   "metadata": {},
   "outputs": [],
   "source": [
    "from tracksim.tracksim import Vehicle, Pack\n",
    "from tracksim.vehicle_models import ChevyVoltTuned\n",
    "from tracksim.pack_models import ChevyVoltPack\n",
    "from tracksim.cell_models import ARX1 # first order ARX with dynamic parameters\n",
    "\n",
    "print(ARX1)"
   ]
  },
  {
   "cell_type": "markdown",
   "id": "84b17b87-02ba-4147-a576-9bfb9126e7be",
   "metadata": {},
   "source": [
    "Since the nominal capacity of this cell is relatively small, we can increase the dimensions of the battery pack to raise the nominal energy capacity."
   ]
  },
  {
   "cell_type": "code",
   "execution_count": null,
   "id": "172e73da-1569-4493-bd9d-35093b057ce3",
   "metadata": {},
   "outputs": [],
   "source": [
    "pack_model = ChevyVoltPack.copy()\n",
    "\n",
    "pack_model['No. Cells Series'] = 36\n",
    "pack_model['No. Cells Parallel'] = 12"
   ]
  },
  {
   "cell_type": "markdown",
   "id": "48364189-b2e4-4bb4-b2ce-8e6a6237cbbb",
   "metadata": {},
   "source": [
    "The setup and simulation of the vehicle is the same as before."
   ]
  },
  {
   "cell_type": "code",
   "execution_count": null,
   "id": "6e787837-fd19-43db-879c-de0ae8827891",
   "metadata": {},
   "outputs": [],
   "source": [
    "pack = Pack(pack_model, ARX1)\n",
    "vehicle = Vehicle(ChevyVoltTuned, pack)"
   ]
  },
  {
   "cell_type": "code",
   "execution_count": null,
   "id": "501df811-0817-4ea3-9bcc-0e79b9cb9e61",
   "metadata": {},
   "outputs": [],
   "source": [
    "import pandas as pd\n",
    "from src.tracksim.utils import exp_average # ONLY FOR PRIVATE TESTING\n",
    "# from tracksim.utils import exp_average\n",
    "\n",
    "# Get trip data\n",
    "\n",
    "trip_file = 'simulated_trip_files/veh0.csv'\n",
    "trip_data = pd.read_csv(trip_file)\n",
    "\n",
    "time = trip_data['Time [s]']\n",
    "time_delta = time[1] - time[0]\n",
    "speed = exp_average(trip_data['Speed [m/s]'], 0.2) # Low-pass filter to make a more realistic speed profile\n",
    "\n",
    "# Set initial battery conditions\n",
    "\n",
    "soc_init = 0.8 # Initial State Of Charge (SOC)\n",
    "\n",
    "vehicle.simulate_vehicle(time, speed, time_delta)\n",
    "pack.set_initial_conditions(soc=soc_init)\n",
    "vehicle.simulate_battery_pack()"
   ]
  },
  {
   "cell_type": "markdown",
   "id": "8ae0d7f0-e248-4db4-a0f7-243eac245f48",
   "metadata": {},
   "source": [
    "We can then retrieve the same vehicle, pack, and cell measurements as in the previous example."
   ]
  },
  {
   "cell_type": "code",
   "execution_count": null,
   "id": "23a85c22-ea3a-45e8-a45e-3c2431551b0c",
   "metadata": {},
   "outputs": [],
   "source": [
    "import matplotlib.pyplot as plt\n",
    "\n",
    "plt.style.use('seaborn-v0_8-notebook')\n",
    "\n",
    "fig, ax = plt.subplots(nrows=3)\n",
    "ax[0].plot(vehicle.simulation_results['speed_desired']*3.6)\n",
    "ax[0].set_ylabel('Speed [km/h]')\n",
    "ax[1].plot(vehicle.simulation_results['acceleration_desired'], label='desired')\n",
    "ax[1].set_ylabel('Acceleraton [m/s^2]')\n",
    "ax[1].plot(vehicle.simulation_results['acceleration_actual'], linestyle='--', label='actual')\n",
    "ax[1].legend()\n",
    "ax[2].plot(vehicle.simulation_results['battery_demand'])\n",
    "ax[2].set_ylabel('Battery Power Demand [kW]')\n",
    "ax[2].set_xlabel('Time [s]')\n",
    "\n",
    "fig.tight_layout()"
   ]
  },
  {
   "cell_type": "code",
   "execution_count": null,
   "id": "c440e0d6-6943-46a0-a42a-9b5c952f6091",
   "metadata": {},
   "outputs": [],
   "source": [
    "fig, ax = plt.subplots(nrows=3)\n",
    "ax[0].plot(pack.simulation_results['pack']['current'])\n",
    "ax[0].set_ylabel('Pack Current [A]')\n",
    "ax[1].plot(pack.simulation_results['pack']['voltage'])\n",
    "ax[1].set_ylabel('Pack Voltage [V]')\n",
    "ax[2].plot(pack.simulation_results['pack']['avg_soc']*100)\n",
    "ax[2].set_ylabel('Pack SOC (%)')\n",
    "ax[2].set_xlabel('Time [s]')\n",
    "\n",
    "fig.tight_layout()"
   ]
  },
  {
   "cell_type": "code",
   "execution_count": null,
   "id": "5158f716-b596-42df-82c9-7039b6534025",
   "metadata": {},
   "outputs": [],
   "source": [
    "cell_i, cell_j = (0,0) # Cell index\n",
    "\n",
    "fig, ax = plt.subplots(nrows=3)\n",
    "ax[0].plot(pack.simulation_results[f'cell_{cell_i}-{cell_j}']['current'])\n",
    "ax[0].set_ylabel('Cell Current [A]')\n",
    "ax[1].plot(pack.simulation_results[f'cell_{cell_i}-{cell_j}']['voltage'])\n",
    "ax[1].set_ylabel('Cell Voltage [V]')\n",
    "ax[2].plot(pack.simulation_results[f'cell_{cell_i}-{cell_j}']['soc']*100)\n",
    "ax[2].set_ylabel('Cell SOC (%)')\n",
    "ax[2].set_xlabel('Time [s]')\n",
    "\n",
    "fig.tight_layout()"
   ]
  },
  {
   "cell_type": "markdown",
   "id": "905822e5-4fe5-4263-a6ae-39b6c9451cc7",
   "metadata": {},
   "source": [
    "We can also extract the time-varying ARX parameters. Since the cell model is a first order ARX, the available parameters are $a_1$, $b_0$, and $b_1$."
   ]
  },
  {
   "cell_type": "code",
   "execution_count": null,
   "id": "393158ad-d7bc-4436-a33a-20704a319610",
   "metadata": {},
   "outputs": [],
   "source": [
    "a1 = vehicle.pack.simulation_results['cell_0-0']['a1']\n",
    "b0 = vehicle.pack.simulation_results['cell_0-0']['b0']\n",
    "b1 = vehicle.pack.simulation_results['cell_0-0']['b1']\n",
    "\n",
    "fig, ax = plt.subplots(nrows=3)\n",
    "ax[0].plot(a1)\n",
    "ax[0].set_ylabel(r'$a_1$')\n",
    "ax[1].plot(b0)\n",
    "ax[1].set_ylabel(r'$b_0$')\n",
    "ax[2].plot(b1)\n",
    "ax[2].set_ylabel('$b_1$')\n",
    "ax[2].set_xlabel('Time [s]')\n",
    "\n",
    "fig.tight_layout()"
   ]
  }
 ],
 "metadata": {
  "kernelspec": {
   "display_name": "Python 3 (ipykernel)",
   "language": "python",
   "name": "python3"
  },
  "language_info": {
   "codemirror_mode": {
    "name": "ipython",
    "version": 3
   },
   "file_extension": ".py",
   "mimetype": "text/x-python",
   "name": "python",
   "nbconvert_exporter": "python",
   "pygments_lexer": "ipython3",
   "version": "3.12.7"
  }
 },
 "nbformat": 4,
 "nbformat_minor": 5
}
