{
 "cells": [
  {
   "cell_type": "markdown",
   "id": "e3bee4b8-e053-40bf-85f3-4721820252c3",
   "metadata": {},
   "source": [
    "# S2Shores Tutorial"
   ]
  },
  {
   "cell_type": "markdown",
   "id": "cbd646ee-2f18-48f7-952a-58ac63710af1",
   "metadata": {},
   "source": [
    "Introduction"
   ]
  },
  {
   "cell_type": "markdown",
   "id": "79d7dba5-895f-41df-8b42-c28263855450",
   "metadata": {},
   "source": [
    "### About the input product"
   ]
  },
  {
   "cell_type": "markdown",
   "id": "ad812efa-a12b-436f-adc3-334a36f99aba",
   "metadata": {},
   "source": [
    "It is possible to provide to *s2shores* two different type of data. \n",
    "\n",
    "To provide an input file in geotiff format, the *product_type* option has to be set to *geotiff*.\n",
    "\n",
    "Otherwise, set the *product_type* option to *S2* if the *input_product* is a Sentinel-2 SAFE product."
   ]
  },
  {
   "cell_type": "markdown",
   "id": "0c9a6aa9-d9a6-4fc1-a0fa-3d15477342f4",
   "metadata": {},
   "source": [
    "In this exemple, we provide a Sentinel-2 product from July 22nd 2025 of the coast near Bordeaux in France.\n",
    "\n",
    "<div style=\"text-align: center;\">\n",
    "    <img src=\"images/S2A_MSIL1C_20200622T105631_N0500_R094_T30TXR_20231110T094313-ql.jpg\" alt=\"\" width=\"300\"/>\n",
    "</div>"
   ]
  },
  {
   "cell_type": "markdown",
   "id": "05108abd-7f4b-4da0-acf7-d9ac192f149d",
   "metadata": {},
   "source": [
    "### Providing a ROI"
   ]
  },
  {
   "cell_type": "markdown",
   "id": "aff3242e-a7b0-4b91-8c50-1b9dbd063c79",
   "metadata": {},
   "source": [
    "A ROI file can be provided to select an area in the input product where to compute the bathymetry. The path of the ROI file has to be provided to the *roi_file* option and *limit_to_roi* has to be set to *True* for the ROI file to be taken into account.\n",
    "\n",
    "Our shapefile is focussed on the Plateau de Cordouan and its coast.\n",
    "\n",
    "<div style=\"text-align: center;\">\n",
    "    <img src=\"images/shp_s2shores.png\" alt=\"\" width=\"300\"/>\n",
    "</div>"
   ]
  },
  {
   "cell_type": "markdown",
   "id": "542a9b32-8412-46af-8f9e-7fa3a6bf0598",
   "metadata": {},
   "source": [
    "### Building the configuration file"
   ]
  },
  {
   "cell_type": "markdown",
   "id": "ccf41a5e-c831-422e-ad96-7a60ac14b5c8",
   "metadata": {},
   "source": [
    "Explain the main parameters and what they do\n",
    "\n",
    "Why point of grid ? What is debug ?\n",
    "What dxp and dyp means ? "
   ]
  },
  {
   "cell_type": "markdown",
   "id": "d569c085-668d-40db-9405-e355ccfd0ab8",
   "metadata": {},
   "source": [
    "### Output directory and output files"
   ]
  },
  {
   "cell_type": "markdown",
   "id": "8e705871-8908-4abb-9abc-13e1e33adb09",
   "metadata": {},
   "source": [
    "Explain output directory and which output files are created"
   ]
  },
  {
   "cell_type": "markdown",
   "id": "55d60227-6ced-4535-978e-8630e3cda00d",
   "metadata": {},
   "source": [
    "### Setting the maximum number of subtiles"
   ]
  },
  {
   "cell_type": "markdown",
   "id": "16b7f8da-5ece-4cfa-8aa7-acc910fbc0a8",
   "metadata": {},
   "source": [
    "Explain what nb_subtiles is, what it does when computing"
   ]
  },
  {
   "cell_type": "markdown",
   "id": "8a39f843-ef2c-459c-b2d2-83673a21a6e6",
   "metadata": {},
   "source": [
    "### Providing data to the DeltaTimeProvider"
   ]
  },
  {
   "cell_type": "markdown",
   "id": "955d2a7f-79dc-4b9b-ba0e-d13d27f61bdb",
   "metadata": {},
   "source": [
    "Explain what is in delta_times_dir"
   ]
  },
  {
   "cell_type": "markdown",
   "id": "188c4356-ab35-44f9-b7a6-489d977060ad",
   "metadata": {},
   "source": [
    "### Providing data to compute the distance to the shore"
   ]
  },
  {
   "cell_type": "markdown",
   "id": "f80fc3e9-c074-4925-8d1b-0d12acbd5e3e",
   "metadata": {},
   "source": [
    "Explain what is in distoshore_file "
   ]
  },
  {
   "cell_type": "markdown",
   "id": "d0b4d5ae-606e-4e61-b0b0-f04f62a28088",
   "metadata": {},
   "source": [
    "### About the debug option"
   ]
  },
  {
   "cell_type": "markdown",
   "id": "082e1bc4-75b1-4f9d-acd1-36d4b1707558",
   "metadata": {},
   "source": [
    "Explain debug option (debug_file and debug_path)"
   ]
  },
  {
   "cell_type": "markdown",
   "id": "31deca0e-a8eb-4de9-8b87-0c15df28ea9b",
   "metadata": {},
   "source": [
    "### About the sequential option"
   ]
  },
  {
   "cell_type": "markdown",
   "id": "add1c21b-6204-4acb-bf0a-685924b224e7",
   "metadata": {},
   "source": [
    "Explain sequential option"
   ]
  },
  {
   "cell_type": "markdown",
   "id": "1b23bc4f-7db2-49ea-b17d-9f8941988c6d",
   "metadata": {},
   "source": [
    "### About the profiling option"
   ]
  },
  {
   "cell_type": "markdown",
   "id": "6496df02-03bd-4254-b973-ac5195cb3da9",
   "metadata": {},
   "source": [
    "Explain profiling option"
   ]
  },
  {
   "cell_type": "markdown",
   "id": "c92ce7b8-2af6-43e8-9e58-c996bc5714cb",
   "metadata": {},
   "source": [
    "### Computing bathymetry with the CLI"
   ]
  },
  {
   "cell_type": "markdown",
   "id": "84d922ff-860b-4e26-b1d8-5a4ce3181c62",
   "metadata": {},
   "source": [
    "Give the CLI command"
   ]
  },
  {
   "cell_type": "markdown",
   "id": "614b4d7a-8df6-4b30-9a30-97a7dfcc9d6a",
   "metadata": {},
   "source": [
    "### Computing bathymetry with the Python API"
   ]
  },
  {
   "cell_type": "markdown",
   "id": "6094ba7c-0351-469d-a2fe-e6dc54c9d198",
   "metadata": {},
   "source": [
    "ProductDescriptor should be filled as follows : \n",
    "\n",
    "```python\n",
    "ProductsDescriptor = Dict[\n",
    "    Name of the product : str, \n",
    "    (input_product : str,\n",
    "     product_type : str,\n",
    "     output_dir : str, \n",
    "     dictionnary corresponding to config_file : dict,\n",
    "     nb_subtiles : int,\n",
    "     delta_times_dir : str,\n",
    "     distoshore_file : str,\n",
    "     roi_file : str,\n",
    "     limit_to_roi : bool,\n",
    "     dictionnary corresponding to debug file : dict,\n",
    "     debug_path : str)\n",
    "]\n",
    "```"
   ]
  },
  {
   "cell_type": "markdown",
   "id": "2fe54c3b-a5e7-4395-ad1c-5af4c9235b3a",
   "metadata": {},
   "source": [
    "Give the Python API code line"
   ]
  },
  {
   "cell_type": "markdown",
   "id": "29942012-38a3-467d-abc4-1751e00733df",
   "metadata": {},
   "source": [
    "### Computed bathymetry"
   ]
  },
  {
   "cell_type": "markdown",
   "id": "096ce388-9891-48f5-a7ef-219799522c73",
   "metadata": {},
   "source": [
    "Show results graph, create the graphs with the .nc file directly"
   ]
  },
  {
   "cell_type": "code",
   "execution_count": null,
   "id": "e0bb8300-6e83-4ae1-8cb1-17467386ee44",
   "metadata": {},
   "outputs": [],
   "source": []
  },
  {
   "cell_type": "code",
   "execution_count": null,
   "id": "706fb378-757f-4020-8798-7e88f7de5107",
   "metadata": {},
   "outputs": [],
   "source": []
  }
 ],
 "metadata": {
  "kernelspec": {
   "display_name": "Python 3 (ipykernel)",
   "language": "python",
   "name": "python3"
  },
  "language_info": {
   "codemirror_mode": {
    "name": "ipython",
    "version": 3
   },
   "file_extension": ".py",
   "mimetype": "text/x-python",
   "name": "python",
   "nbconvert_exporter": "python",
   "pygments_lexer": "ipython3",
   "version": "3.11.0"
  }
 },
 "nbformat": 4,
 "nbformat_minor": 5
}
