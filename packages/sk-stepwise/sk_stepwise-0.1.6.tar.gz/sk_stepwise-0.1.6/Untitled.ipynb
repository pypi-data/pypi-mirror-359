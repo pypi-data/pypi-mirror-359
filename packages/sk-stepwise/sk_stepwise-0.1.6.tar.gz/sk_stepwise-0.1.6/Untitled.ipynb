{
 "cells": [
  {
   "cell_type": "code",
   "execution_count": 3,
   "id": "35a5105e-fba2-4d7f-a297-a8e2a67dc29e",
   "metadata": {},
   "outputs": [
    {
     "name": "stdout",
     "output_type": "stream",
     "text": [
      "Optimizing step 1/4\n",
      "100%|█| 100/100 [00:36<00:00,  2.76trial/s, best loss: 0.127869542\n",
      "Best parameters after step 1: {'max_depth': 3, 'min_child_weight': 0.1690802441977019}\n",
      "Best score after step 1: -0.1278695423092857\n",
      "Optimizing step 2/4\n",
      "100%|█| 100/100 [00:34<00:00,  2.90trial/s, best loss: 0.128142505\n",
      "Best parameters after step 2: {'max_depth': 3, 'min_child_weight': 0.1690802441977019, 'colsample_bytree': 0.6797680005304337, 'subsample': 0.9690716727179199}\n",
      "Best score after step 2: -0.12814250532279742\n",
      "Optimizing step 3/4\n",
      "100%|█| 100/100 [00:33<00:00,  3.00trial/s, best loss: 0.127787560\n",
      "Best parameters after step 3: {'max_depth': 3, 'min_child_weight': 0.1690802441977019, 'colsample_bytree': 0.6797680005304337, 'subsample': 0.9690716727179199, 'reg_alpha': 2, 'reg_lambda': 1.0201255435343553}\n",
      "Best score after step 3: -0.12778756025651072\n",
      "Optimizing step 4/4\n",
      "100%|█| 100/100 [00:34<00:00,  2.87trial/s, best loss: 0.127487364\n",
      "Best parameters after step 4: {'max_depth': 3, 'min_child_weight': 0.1690802441977019, 'colsample_bytree': 0.6797680005304337, 'subsample': 0.9690716727179199, 'reg_alpha': 2, 'reg_lambda': 1.0201255435343553, 'learning_rate': 0.3798669642280687}\n",
      "Best score after step 4: -0.12748736428277851\n",
      "{'max_depth': 3, 'min_child_weight': 0.1690802441977019, 'colsample_bytree': 0.6797680005304337, 'subsample': 0.9690716727179199, 'reg_alpha': 2, 'reg_lambda': 1.0201255435343553, 'learning_rate': 0.3798669642280687}\n"
     ]
    }
   ],
   "source": [
    "# predict income > 50k\n",
    "\n",
    "from hyperopt import hp\n",
    "import sk_stepwise as sw\n",
    "import xgboost as xgb\n",
    "from sklearn.datasets import fetch_openml\n",
    "from sklearn.model_selection import train_test_split\n",
    "\n",
    "adult = fetch_openml(\"adult\", version=2, as_frame=True)\n",
    "X = adult[\"data\"]\n",
    "y = adult[\"target\"] == \">50K\"\n",
    "\n",
    "X_train, X_test, y_train, y_test = train_test_split(X, y, stratify=y)\n",
    "\n",
    "rounds = [\n",
    "    {\n",
    "        \"max_depth\": hp.quniform(\"max_depth\", 1, 8, 1),\n",
    "        \"min_child_weight\": hp.loguniform(\"min_child_weight\", -2, 3),\n",
    "    },\n",
    "    {\n",
    "        \"subsample\": hp.uniform(\"subsample\", 0.5, 1),\n",
    "        \"colsample_bytree\": hp.uniform(\"colsample_bytree\", 0.5, 1),\n",
    "    },\n",
    "    {\n",
    "        \"reg_alpha\": hp.uniform(\"reg_alpha\", 0, 10),\n",
    "        \"reg_lambda\": hp.uniform(\"reg_lambda\", 1, 10),\n",
    "    },\n",
    "    {\"learning_rate\": hp.loguniform(\"learning_rate\", -7, 0)},\n",
    "]\n",
    "\n",
    "swopt = sw.StepwiseHyperoptOptimizer(xgb.XGBClassifier(enable_categorical=True), rounds)\n",
    "swopt.fit(X_train, y_train)\n",
    "print(swopt.best_params_)"
   ]
  }
 ],
 "metadata": {
  "kernelspec": {
   "display_name": "Python 3 (ipykernel)",
   "language": "python",
   "name": "python3"
  },
  "language_info": {
   "codemirror_mode": {
    "name": "ipython",
    "version": 3
   },
   "file_extension": ".py",
   "mimetype": "text/x-python",
   "name": "python",
   "nbconvert_exporter": "python",
   "pygments_lexer": "ipython3",
   "version": "3.12.5"
  }
 },
 "nbformat": 4,
 "nbformat_minor": 5
}
