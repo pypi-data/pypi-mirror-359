{
 "cells": [
  {
   "cell_type": "code",
   "execution_count": 1,
   "id": "0ef3d64c",
   "metadata": {},
   "outputs": [],
   "source": [
    "from rasters import MultiPoint\n",
    "from soil_capacity_wilting import load_field_capacity"
   ]
  },
  {
   "cell_type": "code",
   "execution_count": 2,
   "id": "d5f36253",
   "metadata": {},
   "outputs": [
    {
     "data": {
      "text/plain": [
       "MULTIPOINT ((-118 35))"
      ]
     },
     "execution_count": 2,
     "metadata": {},
     "output_type": "execute_result"
    }
   ],
   "source": [
    "geometry = MultiPoint([[-118, 35]])\n",
    "geometry"
   ]
  },
  {
   "cell_type": "code",
   "execution_count": 3,
   "id": "c71b197f",
   "metadata": {},
   "outputs": [
    {
     "data": {
      "text/plain": [
       "array([0.14])"
      ]
     },
     "execution_count": 3,
     "metadata": {},
     "output_type": "execute_result"
    }
   ],
   "source": [
    "load_field_capacity(geometry=geometry)"
   ]
  },
  {
   "cell_type": "code",
   "execution_count": null,
   "id": "47ae495a",
   "metadata": {},
   "outputs": [],
   "source": []
  }
 ],
 "metadata": {
  "kernelspec": {
   "display_name": "soil-capacity-wilting",
   "language": "python",
   "name": "python3"
  },
  "language_info": {
   "codemirror_mode": {
    "name": "ipython",
    "version": 3
   },
   "file_extension": ".py",
   "mimetype": "text/x-python",
   "name": "python",
   "nbconvert_exporter": "python",
   "pygments_lexer": "ipython3",
   "version": "3.10.18"
  }
 },
 "nbformat": 4,
 "nbformat_minor": 5
}
