{
 "cells": [
  {
   "cell_type": "code",
   "execution_count": null,
   "metadata": {},
   "outputs": [],
   "source": [
    "import numpy as np\n",
    "import matplotlib.pyplot as plt\n",
    "\n",
    "from solcore import material\n",
    "from solcore.constants import electron_mass\n",
    "from solcore.quantum_mechanics import kp_bands"
   ]
  },
  {
   "cell_type": "markdown",
   "metadata": {},
   "source": [
    "## Material parameters"
   ]
  },
  {
   "cell_type": "code",
   "execution_count": null,
   "metadata": {},
   "outputs": [],
   "source": [
    "GaAs = material(\"GaAs\")(T=300)\n",
    "InGaAs = material(\"InGaAs\")"
   ]
  },
  {
   "cell_type": "code",
   "execution_count": null,
   "metadata": {},
   "outputs": [],
   "source": [
    "InGaAs2 = InGaAs(In=0.15, T=300)\n",
    "masses = kp_bands(InGaAs2, GaAs, graph=False, fit_effective_mass=True, effective_mass_direction=\"L\", return_so=True)"
   ]
  },
  {
   "cell_type": "markdown",
   "metadata": {},
   "source": [
    "As a test, we solve the problem for an intermediate indium composition"
   ]
  },
  {
   "cell_type": "code",
   "execution_count": null,
   "metadata": {},
   "outputs": [],
   "source": [
    "comp = np.linspace(0.01, 0.25, 15)\n",
    "me = []\n",
    "mhh = []\n",
    "mlh = []\n",
    "mso = []\n",
    "for i in comp:\n",
    "    InGaAs2 = InGaAs(In=i, T=300)\n",
    "\n",
    "    # Set graph = True to see the fitting of the bands\n",
    "    c, hh, lh, so, m_eff_c, m_eff_hh, m_eff_lh, m_eff_so = kp_bands(InGaAs2, GaAs, graph=False, fit_effective_mass=True,\n",
    "                                                                    effective_mass_direction=\"L\", return_so=True)\n",
    "\n",
    "    me.append(m_eff_c / electron_mass)\n",
    "    mhh.append(m_eff_hh / electron_mass)\n",
    "    mlh.append(m_eff_lh / electron_mass)\n",
    "    mso.append(m_eff_so / electron_mass)\n",
    "\n",
    "    print('Effective masses for In = {:2.3}%:'.format(i * 100))\n",
    "    print('- m_e = {:1.3f} m0'.format(me[-1]))\n",
    "    print('- m_hh = {:1.3f} m0'.format(mhh[-1]))\n",
    "    print('- m_lh = {:1.3f} m0'.format(mlh[-1]))\n",
    "    print('- m_so = {:1.3f} m0'.format(mso[-1]))\n",
    "    print()"
   ]
  },
  {
   "cell_type": "code",
   "execution_count": null,
   "metadata": {},
   "outputs": [],
   "source": [
    "plt.plot(comp * 100, me, 'b-o', label='e')\n",
    "plt.plot(comp * 100, mhh, 'r-o', label='hh')\n",
    "plt.plot(comp * 100, mlh, 'g-o', label='lh')\n",
    "plt.plot(comp * 100, mso, 'k-o', label='so')\n",
    "\n",
    "plt.xlabel(\"Indium content (%)\")\n",
    "plt.ylabel(\"Effective mass (m$_0$)\")\n",
    "plt.legend()\n",
    "plt.show()"
   ]
  },
  {
   "cell_type": "code",
   "execution_count": null,
   "metadata": {},
   "outputs": [],
   "source": []
  }
 ],
 "metadata": {
  "kernelspec": {
   "display_name": "venv",
   "language": "python",
   "name": "venv"
  },
  "language_info": {
   "codemirror_mode": {
    "name": "ipython",
    "version": 3
   },
   "file_extension": ".py",
   "mimetype": "text/x-python",
   "name": "python",
   "nbconvert_exporter": "python",
   "pygments_lexer": "ipython3",
   "version": "3.6.8"
  },
  "pycharm": {
   "stem_cell": {
    "cell_type": "raw",
    "metadata": {
     "collapsed": false
    },
    "source": []
   }
  }
 },
 "nbformat": 4,
 "nbformat_minor": 2
}
