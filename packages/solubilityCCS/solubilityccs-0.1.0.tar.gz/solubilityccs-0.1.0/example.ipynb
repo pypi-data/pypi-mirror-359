{
 "cells": [
  {
   "cell_type": "code",
   "execution_count": 3,
   "metadata": {},
   "outputs": [],
   "source": [
    "from fluid import Fluid\n",
    "from neqsim_functions import get_co2_parameters"
   ]
  },
  {
   "cell_type": "code",
   "execution_count": null,
   "metadata": {},
   "outputs": [
    {
     "name": "stdout",
     "output_type": "stream",
     "text": [
      "Mole fraction of gas phase to total phase 0.9999795454259583 mol/mol\n",
      "water in CO2  7.451380309314413  ppm mol\n",
      "H2SO4 in CO2  8.673809998573368e-09  ppm mol\n",
      "Second phase is  ACIDIC\n",
      "Liquid phase formed 95.52793777593807  wt %\n",
      "Liquid phase formed 3799.5376397443843 t/y\n",
      "Water in liquid phase  0.20310928318964988 mol fraction\n",
      "H2SO4  in liquid phase  0.7968907168103502 mol fraction\n",
      "Pure CO2 density 823.370580206214 kg/m3\n",
      "Pure CO2 speed of sound: 402.01680893006034 m/s\n",
      "Pure CO2 enthalpy: -178.6763331712992 kJ/kg\n",
      "Pure CO2 entropy: -56.74553450179903 J/K\n"
     ]
    }
   ],
   "source": [
    "acid = \"H2SO4\"  # HNO3 or H2SO4\n",
    "acid_in_co2 = 10.0  # ppm\n",
    "water_in_co2 = 10.0  # ppm\n",
    "temperature = 2  # C\n",
    "pressure = 60  # bara\n",
    "# Mt/year - flow rate for calculating liquid acid formation\n",
    "flow_rate = 100\n",
    "\n",
    "fluid = Fluid()\n",
    "fluid.add_component(\"CO2\", 1.0 - acid_in_co2 / 1e6 - water_in_co2 / 1e6)  # mole\n",
    "fluid.add_component(acid, acid_in_co2 / 1e6)  # mole\n",
    "fluid.add_component(\"H2O\", water_in_co2 / 1e6)  # mole\n",
    "fluid.set_temperature(temperature + 273.15)  # to Kelvin\n",
    "fluid.set_pressure(pressure)  # bara\n",
    "fluid.set_flow_rate(flow_rate * 1e6 * 1000 / (365 * 24), \"kg/hr\")\n",
    "fluid.calc_vapour_pressure()\n",
    "fluid.flash_activity()\n",
    "\n",
    "print(\n",
    "    \"Mole fraction of gas phase to total phase\", fluid.betta, \"mol/mol\"\n",
    ")  # If this value is lower than 1 - danger of acid formation due to 2 phase\n",
    "print(\n",
    "    \"water in CO2 \", 1e6 * fluid.phases[0].get_component_fraction(\"H2O\"), \" ppm mol\"\n",
    ")  # ppm\n",
    "print(\n",
    "    acid, \"in CO2 \", 1e6 * fluid.phases[0].get_component_fraction(acid), \" ppm mol\"\n",
    ")  # ppm\n",
    "\n",
    "if fluid.betta < 1:\n",
    "    print(\"Second phase is \", fluid.phases[1].name)\n",
    "    print(\"Liquid phase formed\", fluid.phases[1].get_acid_wt_prc(acid), \" wt %\")\n",
    "    print(\n",
    "        \"Liquid phase formed\",\n",
    "        fluid.phases[1].get_flow_rate(\"kg/hr\") * 24 * 365 / 1000,\n",
    "        \"t/y\",\n",
    "    )  # Flow rate needed for this calculation\n",
    "    print(\n",
    "        \"Water in liquid phase \",\n",
    "        fluid.phases[1].get_component_fraction(\"H2O\"),\n",
    "        \"mol fraction\",\n",
    "    )  # ppm\n",
    "    print(\n",
    "        acid,\n",
    "        \" in liquid phase \",\n",
    "        fluid.phases[1].get_component_fraction(acid),\n",
    "        \"mol fraction\",\n",
    "    )  # ppm\n",
    "\n",
    "# Additional information for pure CO2 at this conditions\n",
    "\n",
    "results = get_co2_parameters(pressure, temperature)\n",
    "print(\"Pure CO2 density\", results[\"density\"], \"kg/m3\")\n",
    "print(\"Pure CO2 speed of sound:\", results[\"speed_of_sound\"], \"m/s\")\n",
    "print(\"Pure CO2 enthalpy:\", results[\"enthalpy\"], \"kJ/kg\")\n",
    "print(\"Pure CO2 entropy:\", results[\"entropy\"], \"J/K\")"
   ]
  }
 ],
 "metadata": {
  "kernelspec": {
   "display_name": "venv",
   "language": "python",
   "name": "python3"
  },
  "language_info": {
   "codemirror_mode": {
    "name": "ipython",
    "version": 3
   },
   "file_extension": ".py",
   "mimetype": "text/x-python",
   "name": "python",
   "nbconvert_exporter": "python",
   "pygments_lexer": "ipython3",
   "version": "3.9.2"
  }
 },
 "nbformat": 4,
 "nbformat_minor": 2
}
