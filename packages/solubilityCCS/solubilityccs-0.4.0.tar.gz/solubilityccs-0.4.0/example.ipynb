{
 "cells": [
  {
   "cell_type": "markdown",
   "metadata": {},
   "source": [
    "# SolubilityCCS Example - Acid Formation Analysis\n",
    "\n",
    "This notebook demonstrates how to use the SolubilityCCS package to analyze acid formation behavior in Carbon Capture and Storage (CCS) systems.\n",
    "\n",
    "**Requirements:**\n",
    "- Python 3.9+ \n",
    "- SolubilityCCS package with all dependencies\n",
    "\n",
    "**What this example covers:**\n",
    "- Setting up a fluid system with CO2, acid (H2SO4), and water\n",
    "- Calculating phase behavior and acid formation risk\n",
    "- Extracting CO2 thermodynamic properties"
   ]
  },
  {
   "cell_type": "code",
   "execution_count": 1,
   "metadata": {},
   "outputs": [],
   "source": [
    "from solubilityccs import Fluid\n",
    "from solubilityccs.neqsim_functions import get_co2_parameters"
   ]
  },
  {
   "cell_type": "code",
   "execution_count": 2,
   "metadata": {},
   "outputs": [
    {
     "name": "stdout",
     "output_type": "stream",
     "text": [
      "Mole fraction of gas phase to total phase 0.999995957054125 mol/mol\n",
      "water in CO2  0.6371814173480271  ppm mol\n",
      "H2SO4 in CO2  1.3198818460084731  ppm mol\n",
      "Second phase is  ACIDIC\n",
      "Liquid phase formed 98.22138199748713  wt %\n",
      "Liquid phase formed 834.3125631076986 t/y\n",
      "Water in liquid phase  0.08974180708526193 mol fraction\n",
      "H2SO4  in liquid phase  0.9102581929147381 mol fraction\n",
      "Pure CO2 density 123.76922997021265 kg/m3\n",
      "Pure CO2 speed of sound: 237.93838994219405 m/s\n",
      "Pure CO2 enthalpy: 15.446075527066663 kJ/kg\n",
      "Pure CO2 entropy: -29.420040334318706 J/K\n"
     ]
    }
   ],
   "source": [
    "acid = \"H2SO4\"  # HNO3 or H2SO4\n",
    "acid_in_co2 = 5.0  # ppm\n",
    "water_in_co2 = 1  # ppm\n",
    "temperature = 60  # C\n",
    "pressure = 60  # bara\n",
    "# Mt/year - flow rate for calculating liquid acid formation\n",
    "flow_rate = 100\n",
    "\n",
    "fluid = Fluid()\n",
    "fluid.add_component(\"CO2\", 1.0 - acid_in_co2 / 1e6 - water_in_co2 / 1e6)  # mole\n",
    "fluid.add_component(acid, acid_in_co2 / 1e6)  # mole\n",
    "fluid.add_component(\"H2O\", water_in_co2 / 1e6)  # mole\n",
    "fluid.set_temperature(temperature + 273.15)  # to Kelvin\n",
    "fluid.set_pressure(pressure)  # bara\n",
    "fluid.set_flow_rate(flow_rate * 1e6 * 1000 / (365 * 24), \"kg/hr\")\n",
    "fluid.calc_vapour_pressure()\n",
    "fluid.flash_activity()\n",
    "\n",
    "print(\n",
    "    \"Mole fraction of gas phase to total phase\", fluid.betta, \"mol/mol\"\n",
    ")  # If this value is lower than 1 - danger of acid formation due to 2 phase\n",
    "print(\n",
    "    \"water in CO2 \", 1e6 * fluid.phases[0].get_component_fraction(\"H2O\"), \" ppm mol\"\n",
    ")  # ppm\n",
    "print(\n",
    "    acid, \"in CO2 \", 1e6 * fluid.phases[0].get_component_fraction(acid), \" ppm mol\"\n",
    ")  # ppm\n",
    "\n",
    "if fluid.betta < 1:\n",
    "    print(\"Second phase is \", fluid.phases[1].name)\n",
    "    print(\"Liquid phase formed\", fluid.phases[1].get_acid_wt_prc(acid), \" wt %\")\n",
    "    print(\n",
    "        \"Liquid phase formed\",\n",
    "        fluid.phases[1].get_flow_rate(\"kg/hr\") * 24 * 365 / 1000,\n",
    "        \"t/y\",\n",
    "    )  # Flow rate needed for this calculation\n",
    "    print(\n",
    "        \"Water in liquid phase \",\n",
    "        fluid.phases[1].get_component_fraction(\"H2O\"),\n",
    "        \"mol fraction\",\n",
    "    )  # ppm\n",
    "    print(\n",
    "        acid,\n",
    "        \" in liquid phase \",\n",
    "        fluid.phases[1].get_component_fraction(acid),\n",
    "        \"mol fraction\",\n",
    "    )  # ppm\n",
    "\n",
    "# Additional information for pure CO2 at this conditions\n",
    "\n",
    "results = get_co2_parameters(pressure, temperature + 273.15)\n",
    "print(\"Pure CO2 density\", results[\"density\"], \"kg/m3\")\n",
    "print(\"Pure CO2 speed of sound:\", results[\"speed_of_sound\"], \"m/s\")\n",
    "print(\"Pure CO2 enthalpy:\", results[\"enthalpy\"], \"kJ/kg\")\n",
    "print(\"Pure CO2 entropy:\", results[\"entropy\"], \"J/K\")"
   ]
  },
  {
   "cell_type": "code",
   "execution_count": 3,
   "metadata": {},
   "outputs": [
    {
     "name": "stdout",
     "output_type": "stream",
     "text": [
      "═════════════════════════════════════════════════════════════════\n",
      "                 SOLUBILITY CCS ANALYSIS RESULTS\n",
      "═════════════════════════════════════════════════════════════════\n",
      "\n",
      "📋 SYSTEM OVERVIEW\n",
      "───────────────────────────────────\n",
      "Acid Type:            H2SO4\n",
      "Temperature:          60.0 °C\n",
      "Pressure:             60.0 bara\n",
      "\n",
      "⚗️  PHASE BEHAVIOR ASSESSMENT\n",
      "───────────────────────────────────\n",
      "🚨 STATUS: ACID FORMATION RISK DETECTED!\n",
      "⚠️  RISK LEVEL: Two-phase system present\n",
      "\n",
      "GAS PHASE COMPOSITION\n",
      "───────────────────────────────────\n",
      "Water in CO₂:         0.64 ppm (mol)\n",
      "H2SO4 in CO₂:        1.32 ppm (mol)\n",
      "\n",
      "LIQUID PHASE DETAILS\n",
      "───────────────────────────────────\n",
      "Phase Type:           ACIDIC\n",
      "Acid Concentration:   98.221 wt%\n",
      "Liquid Flow Rate:     834.312563 t/year\n",
      "Water Mol Fraction: 0.089742\n",
      "H2SO4 Mol Fraction: 0.910258\n",
      "\n",
      "PURE CO₂ PROPERTIES\n",
      "───────────────────────────────────\n",
      "Density:              123.76922997021265 kg/m³\n",
      "Speed of Sound:       237.93838994219405 m/s\n",
      "Enthalpy:             15.446075527066663 kJ/kg\n",
      "Entropy:              -29.420040334318706 J/K\n",
      "\n",
      "═════════════════════════════════════════════════════════════════\n",
      "              📊 Analysis Complete | SolubilityCCS\n",
      "═════════════════════════════════════════════════════════════════\n"
     ]
    }
   ],
   "source": [
    "# Using the ModelResults class for clean table output\n",
    "from solubilityccs import ModelResults\n",
    "\n",
    "# Create results object - note: 'results' here refers to the CO2 properties dict\n",
    "co2_properties = get_co2_parameters(\n",
    "    pressure, temperature + 273.15\n",
    ")  # Save the CO2 properties dict (temperature in Kelvin)\n",
    "results_obj = ModelResults(fluid, co2_properties=co2_properties)\n",
    "\n",
    "# Display results as a formatted table\n",
    "print(results_obj.generate_table())"
   ]
  }
 ],
 "metadata": {
  "kernelspec": {
   "display_name": "venv",
   "language": "python",
   "name": "python3"
  },
  "language_info": {
   "codemirror_mode": {
    "name": "ipython",
    "version": 3
   },
   "file_extension": ".py",
   "mimetype": "text/x-python",
   "name": "python",
   "nbconvert_exporter": "python",
   "pygments_lexer": "ipython3",
   "version": "3.9.2"
  }
 },
 "nbformat": 4,
 "nbformat_minor": 2
}
