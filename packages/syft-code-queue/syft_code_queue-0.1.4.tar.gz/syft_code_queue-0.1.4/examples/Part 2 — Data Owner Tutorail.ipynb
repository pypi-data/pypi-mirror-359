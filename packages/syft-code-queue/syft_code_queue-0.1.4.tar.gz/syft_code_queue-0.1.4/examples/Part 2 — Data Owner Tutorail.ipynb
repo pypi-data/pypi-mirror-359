{
 "cells": [
  {
   "cell_type": "code",
   "execution_count": 1,
   "id": "ee617755-a64f-4d21-a878-37f92bcd7c46",
   "metadata": {},
   "outputs": [
    {
     "name": "stderr",
     "output_type": "stream",
     "text": [
      "\u001b[32m2025-06-30 03:58:40.397\u001b[0m | \u001b[1mINFO    \u001b[0m | \u001b[36msyft_code_queue\u001b[0m:\u001b[36m__init__\u001b[0m:\u001b[36m78\u001b[0m - \u001b[1mInitialized syft-code-queue API for andrew@openmined.org\u001b[0m\n"
     ]
    }
   ],
   "source": [
    "import syft_code_queue as q"
   ]
  },
  {
   "cell_type": "code",
   "execution_count": 8,
   "id": "05e0db79-91ac-4388-861c-37a57eb7d2b1",
   "metadata": {},
   "outputs": [
    {
     "data": {
      "text/html": [
       "\n",
       "            <div style=\"text-align: center; padding: 40px; color: #6b7280; font-family: -apple-system, BlinkMacSystemFont, 'Segoe UI', Roboto, sans-serif;\">\n",
       "                <div style=\"font-size: 48px; margin-bottom: 16px;\">📭</div>\n",
       "                <div style=\"font-size: 16px; font-weight: 500;\">No jobs found</div>\n",
       "                <div style=\"font-size: 14px; margin-top: 8px;\">Submit a job to get started</div>\n",
       "            </div>\n",
       "            "
      ],
      "text/plain": [
       "JobCollection([])"
      ]
     },
     "execution_count": 8,
     "metadata": {},
     "output_type": "execute_result"
    }
   ],
   "source": [
    "q.pending_for_me"
   ]
  },
  {
   "cell_type": "code",
   "execution_count": 9,
   "id": "e638f560-63f2-41e0-a286-d91177056702",
   "metadata": {},
   "outputs": [],
   "source": [
    "# from IPython.display import display\n",
    "# import syft_code_queue as q\n",
    "# display(q.pending_for_me[0].review())"
   ]
  },
  {
   "cell_type": "code",
   "execution_count": 12,
   "id": "d7681f51-5077-4f08-b0f1-4e13a8c9afd9",
   "metadata": {},
   "outputs": [],
   "source": [
    "import syft_code_queue as q\n",
    "job = q.get_job('ef2c7f10-2dbe-43ab-9117-58ada4edc4f5')\n",
    "if job:\n",
    "    job.review()  # Show interactive filesystem UI\n",
    "else:\n",
    "    print('❌ Job ef2c7f10-2dbe-43ab-9117-58ada4edc4f5 not found')"
   ]
  },
  {
   "cell_type": "code",
   "execution_count": null,
   "id": "3f0a475f-838d-4dc6-9745-5e4a900a47cd",
   "metadata": {},
   "outputs": [],
   "source": []
  },
  {
   "cell_type": "code",
   "execution_count": 10,
   "id": "8c878049-8097-4678-af0e-144291207345",
   "metadata": {},
   "outputs": [
    {
     "name": "stderr",
     "output_type": "stream",
     "text": [
      "\u001b[32m2025-06-30 02:52:06.554\u001b[0m | \u001b[33m\u001b[1mWARNING \u001b[0m | \u001b[36msyft_code_queue.client\u001b[0m:\u001b[36mreject_job\u001b[0m:\u001b[36m455\u001b[0m - \u001b[33m\u001b[1mCannot reject job f22a2305-5d9a-4280-af90-282815e585db with status JobStatus.approved\u001b[0m\n"
     ]
    },
    {
     "name": "stdout",
     "output_type": "stream",
     "text": [
      "❌ Failed to reject job\n"
     ]
    }
   ],
   "source": [
    "\n",
    "import syft_code_queue as q\n",
    "job = q.get_job('f22a2305-5d9a-4280-af90-282815e585db')\n",
    "if job:\n",
    "    success = job.reject(\"didn't lik eit\")\n",
    "    if success:\n",
    "        print(\"🚫 Job rejected successfully\")\n",
    "    else:\n",
    "        print(\"❌ Failed to reject job\")\n",
    "else:\n",
    "    print(\"❌ Job not found\")"
   ]
  },
  {
   "cell_type": "code",
   "execution_count": null,
   "id": "7c840e08-e227-4232-af8f-9aa9d24ec881",
   "metadata": {},
   "outputs": [],
   "source": []
  }
 ],
 "metadata": {
  "kernelspec": {
   "display_name": "Python 3 (ipykernel)",
   "language": "python",
   "name": "python3"
  },
  "language_info": {
   "codemirror_mode": {
    "name": "ipython",
    "version": 3
   },
   "file_extension": ".py",
   "mimetype": "text/x-python",
   "name": "python",
   "nbconvert_exporter": "python",
   "pygments_lexer": "ipython3",
   "version": "3.12.9"
  }
 },
 "nbformat": 4,
 "nbformat_minor": 5
}
