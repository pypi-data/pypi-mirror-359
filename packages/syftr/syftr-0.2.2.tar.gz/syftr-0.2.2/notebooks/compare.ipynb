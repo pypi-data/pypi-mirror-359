{
 "cells": [
  {
   "cell_type": "markdown",
   "metadata": {},
   "source": [
    "## Compare\n",
    "This simple notebook compares the Pareto-frontiers from two different studies together in one plot."
   ]
  },
  {
   "cell_type": "code",
   "execution_count": null,
   "metadata": {
    "editable": true,
    "slideshow": {
     "slide_type": ""
    },
    "tags": []
   },
   "outputs": [],
   "source": [
    "%reload_ext autoreload\n",
    "%autoreload 2\n",
    "\n",
    "from IPython.core import ultratb\n",
    "\n",
    "ultratb.VerboseTB._tb_highlight = \"bg:#3e0054\""
   ]
  },
  {
   "cell_type": "code",
   "execution_count": null,
   "metadata": {},
   "outputs": [],
   "source": [
    "from syftr.configuration import cfg\n",
    "from syftr.optuna_helper import get_completed_trials\n",
    "\n",
    "TITLE = \"Pareto-Frontiers for FinanceBench\"\n",
    "\n",
    "STUDY_NAME_1 = \"rank1--rag-and-agents--financebench_hf\"\n",
    "STUDY_NAME_2 = \"rank2--rag-and-agents--financebench_hf\"\n",
    "\n",
    "n_trials_1 = len(get_completed_trials(STUDY_NAME_1))\n",
    "n_trials_2 = len(get_completed_trials(STUDY_NAME_2))\n",
    "\n",
    "STUDY_LABEL_1 = f\"FinanceBench 1\"\n",
    "STUDY_LABEL_2 = f\"FinanceBench 2\"\n",
    "\n",
    "X_UNIT = \"USD / Evaluation\"\n",
    "Y_UNIT = \"Accuracy\"\n",
    "\n",
    "STUDY_COLOR_1 = \"dodgerblue\"\n",
    "STUDY_COLOR_2 = \"limegreen\"\n",
    "\n",
    "STORAGE = cfg.postgres.get_optuna_storage()"
   ]
  },
  {
   "cell_type": "code",
   "execution_count": null,
   "metadata": {},
   "outputs": [],
   "source": [
    "import pandas as pd\n",
    "from syftr.optuna_helper import get_pareto_df\n",
    "\n",
    "SUCCESS_RATE = 0.9\n",
    "\n",
    "df_pareto_1: pd.DataFrame = get_pareto_df(STUDY_NAME_1, SUCCESS_RATE)\n",
    "df_pareto_1.sort_values(\"values_0\", ascending=True, inplace=True)\n",
    "\n",
    "df_pareto_2: pd.DataFrame = get_pareto_df(STUDY_NAME_2, SUCCESS_RATE)\n",
    "df_pareto_2.sort_values(\"values_0\", ascending=True, inplace=True)"
   ]
  },
  {
   "cell_type": "code",
   "execution_count": null,
   "metadata": {},
   "outputs": [],
   "source": [
    "import matplotlib.pyplot as plt\n",
    "\n",
    "_, ax = plt.subplots(figsize=(10, 6), dpi=300)\n",
    "\n",
    "ax.step(\n",
    "    df_pareto_1[\"values_1\"],\n",
    "    df_pareto_1[\"values_0\"], \n",
    "    where=\"post\",\n",
    "    color=STUDY_COLOR_1,\n",
    "    label=STUDY_LABEL_1,\n",
    "    zorder=2,\n",
    "    linewidth=1.5,\n",
    "    marker=\"o\",\n",
    "    markersize=5,\n",
    ")\n",
    "\n",
    "ax.step(\n",
    "    df_pareto_2[\"values_1\"],\n",
    "    df_pareto_2[\"values_0\"], \n",
    "    where=\"post\",\n",
    "    color=STUDY_COLOR_2,\n",
    "    label=STUDY_LABEL_2,\n",
    "    zorder=2,\n",
    "    linewidth=1.5,\n",
    "    marker=\"o\",\n",
    "    markersize=5,\n",
    ")\n",
    "\n",
    "# title\n",
    "ax.set_title(TITLE)\n",
    "ax.set_xscale(\"log\")\n",
    "ax.set_xlabel(X_UNIT)\n",
    "ax.set_ylabel(Y_UNIT)\n",
    "ax.legend()"
   ]
  }
 ],
 "metadata": {
  "kernelspec": {
   "display_name": ".venv",
   "language": "python",
   "name": "python3"
  },
  "language_info": {
   "codemirror_mode": {
    "name": "ipython",
    "version": 3
   },
   "file_extension": ".py",
   "mimetype": "text/x-python",
   "name": "python",
   "nbconvert_exporter": "python",
   "pygments_lexer": "ipython3",
   "version": "3.12.7"
  }
 },
 "nbformat": 4,
 "nbformat_minor": 4
}
