{
  "cells": [
    {
      "cell_type": "raw",
      "metadata": {
        "vscode": {
          "languageId": "raw"
        }
      },
      "source": [
        "# URL2MD4AI - LLM-Optimized Markdown Conversion\n",
        "\n",
        "This notebook demonstrates how to use URL2MD4AI for converting web pages to clean, LLM-optimized markdown.\n",
        "\n",
        "## ✨ Features\n",
        "- 🧹 **Clean Extraction**: Removes cookie banners, ads, and navigation noise\n",
        "- 🎯 **LLM-Optimized**: Content formatted for optimal LLM processing\n",
        "- ⚡ **JavaScript Support**: Handles dynamic content with Playwright\n",
        "- 🔄 **Batch Processing**: Convert multiple URLs concurrently\n",
        "- 📊 **Content Comparison**: Compare different extraction methods\n",
        "- 🎛️ **Flexible Configuration**: 25+ configuration options\n",
        "\n",
        "## 🚀 Getting Started\n",
        "\n",
        "First, let's install and import the required modules:\n"
      ]
    },
    {
      "cell_type": "code",
      "execution_count": 1,
      "metadata": {},
      "outputs": [
        {
          "name": "stdout",
          "output_type": "stream",
          "text": [
            "🚀 URL2MD4AI imported successfully!\n",
            "📦 Ready for LLM-optimized markdown conversion\n"
          ]
        }
      ],
      "source": [
        "# Install URL2MD4AI if not already installed\n",
        "# !pip install url2md4ai\n",
        "\n",
        "# Import required modules\n",
        "import asyncio\n",
        "import json\n",
        "from pathlib import Path\n",
        "from url2md4ai import URLToMarkdownConverter, URLHasher, Config\n",
        "\n",
        "print(\"🚀 URL2MD4AI imported successfully!\")\n",
        "print(\"📦 Ready for LLM-optimized markdown conversion\")\n"
      ]
    },
    {
      "cell_type": "raw",
      "metadata": {
        "vscode": {
          "languageId": "raw"
        }
      },
      "source": [
        "## 📝 Example 1: Basic URL to Markdown Conversion\n",
        "\n",
        "Let's start with a simple conversion using default LLM-optimized settings:\n"
      ]
    },
    {
      "cell_type": "code",
      "execution_count": 3,
      "metadata": {},
      "outputs": [
        {
          "name": "stderr",
          "output_type": "stream",
          "text": [
            "\u001b[32m2025-06-29 12:16:15.873\u001b[0m | \u001b[1mINFO    \u001b[0m | \u001b[36murl2md4ai.converter\u001b[0m:\u001b[36m__init__\u001b[0m:\u001b[36m262\u001b[0m - \u001b[1mConverter initialized with config\u001b[0m\n",
            "\u001b[32m2025-06-29 12:16:15.874\u001b[0m | \u001b[1mINFO    \u001b[0m | \u001b[36murl2md4ai.converter\u001b[0m:\u001b[36mconvert_url\u001b[0m:\u001b[36m279\u001b[0m - \u001b[1mStarting conversion: https://www.satispay.com/en-it/work-at-satispay/open-positions/ffe0b42e-9119-4861-945b-e849e24da206/\u001b[0m\n"
          ]
        },
        {
          "name": "stdout",
          "output_type": "stream",
          "text": [
            "🔗 Converting: https://www.satispay.com/en-it/work-at-satispay/open-positions/ffe0b42e-9119-4861-945b-e849e24da206/\n"
          ]
        },
        {
          "name": "stderr",
          "output_type": "stream",
          "text": [
            "\u001b[32m2025-06-29 12:16:19.971\u001b[0m | \u001b[1mINFO    \u001b[0m | \u001b[36murl2md4ai.converter\u001b[0m:\u001b[36mconvert_url\u001b[0m:\u001b[36m332\u001b[0m - \u001b[1mMarkdown saved to: output/6eb626801db91c91.md\u001b[0m\n",
            "\u001b[32m2025-06-29 12:16:19.972\u001b[0m | \u001b[1mINFO    \u001b[0m | \u001b[36murl2md4ai.converter\u001b[0m:\u001b[36mconvert_url\u001b[0m:\u001b[36m351\u001b[0m - \u001b[1mConversion completed: 8966 chars via trafilatura\u001b[0m\n"
          ]
        },
        {
          "name": "stdout",
          "output_type": "stream",
          "text": [
            "✅ Conversion successful!\n",
            "📄 Title: \n",
            "📊 Size: 8,966 characters\n",
            "⚡ Method: trafilatura\n",
            "🎯 Hash: 6eb626801db91c91\n",
            "⏱️ Time: 4.10s\n",
            "\n",
            "📄 Content Preview (first 500 chars):\n",
            "------------------------------------------------------------\n",
            "When you visit this website, Satispay may store or retrieve information on your browser by using cookies provided by us or third parties. Such information might be about you, your preferences or your device. If you have consented to, we may also retrieve analytics statistics on your usage of the website and provide you with targeted advertising. You can choose to accept or deny all cookies (other than those necessary for the functioning of this website) by clicking the appropriate button below. ...\n",
            "------------------------------------------------------------\n"
          ]
        }
      ],
      "source": [
        "# Initialize converter with default LLM-optimized configuration\n",
        "config = Config.from_env()\n",
        "converter = URLToMarkdownConverter(config)\n",
        "\n",
        "# Convert a URL to markdown\n",
        "url = \"https://www.satispay.com/en-it/work-at-satispay/open-positions/ffe0b42e-9119-4861-945b-e849e24da206/\"\n",
        "print(f\"🔗 Converting: {url}\")\n",
        "\n",
        "# Use async conversion\n",
        "result = await converter.convert_url(url, output_path=None)\n",
        "\n",
        "if result.success:\n",
        "    print(\"✅ Conversion successful!\")\n",
        "    print(f\"📄 Title: {result.title}\")\n",
        "    print(f\"📊 Size: {result.file_size:,} characters\")\n",
        "    print(f\"⚡ Method: {result.extraction_method}\")\n",
        "    print(f\"🎯 Hash: {URLHasher.generate_hash(url)}\")\n",
        "    print(f\"⏱️ Time: {result.processing_time:.2f}s\")\n",
        "    \n",
        "    # Show content preview\n",
        "    print(\"\\n📄 Content Preview (first 500 chars):\")\n",
        "    print(\"-\" * 60)\n",
        "    preview = result.markdown[:500] + \"...\" if len(result.markdown) > 500 else result.markdown\n",
        "    print(preview)\n",
        "    print(\"-\" * 60)\n",
        "else:\n",
        "    print(f\"❌ Conversion failed: {result.error}\")\n"
      ]
    },
    {
      "cell_type": "code",
      "execution_count": null,
      "metadata": {},
      "outputs": [],
      "source": []
    },
    {
      "cell_type": "raw",
      "metadata": {
        "vscode": {
          "languageId": "raw"
        }
      },
      "source": [
        "## 🧹 Example 2: Clean vs Raw Extraction Comparison\n",
        "\n",
        "Let's compare the difference between clean (LLM-optimized) and raw extraction:\n"
      ]
    },
    {
      "cell_type": "code",
      "execution_count": null,
      "metadata": {},
      "outputs": [],
      "source": [
        "# Configure for clean LLM-optimized extraction\n",
        "clean_config = Config.from_env()\n",
        "clean_config.llm_optimized = True\n",
        "clean_config.clean_content = True\n",
        "clean_config.use_trafilatura = True\n",
        "clean_config.remove_cookie_banners = True\n",
        "clean_config.remove_ads = True\n",
        "clean_config.remove_social_media = True\n",
        "\n",
        "# Configure for raw extraction (no cleaning)\n",
        "raw_config = Config.from_env()\n",
        "raw_config.llm_optimized = False\n",
        "raw_config.clean_content = False\n",
        "raw_config.use_trafilatura = False\n",
        "\n",
        "# Create converters\n",
        "clean_converter = URLToMarkdownConverter(clean_config)\n",
        "raw_converter = URLToMarkdownConverter(raw_config)\n",
        "\n",
        "# Test URL with potentially noisy content\n",
        "test_url = \"https://example.com\"\n",
        "print(f\"🧪 Testing extraction methods on: {test_url}\")\n",
        "\n",
        "# Clean extraction\n",
        "print(\"\\n🧹 Clean extraction...\")\n",
        "clean_result = await clean_converter.convert_url(test_url, output_path=None)\n",
        "\n",
        "# Raw extraction  \n",
        "print(\"📄 Raw extraction...\")\n",
        "raw_result = await raw_converter.convert_url(test_url, output_path=None)\n",
        "\n",
        "# Compare results\n",
        "if clean_result.success and raw_result.success:\n",
        "    print(\"\\n📊 Extraction Comparison:\")\n",
        "    print(f\"🧹 Clean: {clean_result.file_size:,} chars via {clean_result.extraction_method}\")\n",
        "    print(f\"📄 Raw:   {raw_result.file_size:,} chars via {raw_result.extraction_method}\")\n",
        "    \n",
        "    # Calculate noise reduction\n",
        "    if raw_result.file_size > 0:\n",
        "        reduction = ((raw_result.file_size - clean_result.file_size) / raw_result.file_size) * 100\n",
        "        print(f\"🎯 Noise reduction: {reduction:.1f}%\")\n",
        "        \n",
        "        if reduction > 50:\n",
        "            print(\"✅ Significant noise reduction - perfect for LLM processing!\")\n",
        "        elif reduction > 20:\n",
        "            print(\"✅ Good noise reduction - suitable for LLM processing\")\n",
        "        else:\n",
        "            print(\"ℹ️ Minimal noise reduction - content may be naturally clean\")\n",
        "    \n",
        "    # Show side-by-side preview\n",
        "    print(\"\\n🔍 Content Preview Comparison:\")\n",
        "    print(\"\\n🧹 CLEAN VERSION (first 300 chars):\")\n",
        "    clean_preview = clean_result.markdown[:300] + \"...\" if len(clean_result.markdown) > 300 else clean_result.markdown\n",
        "    print(clean_preview)\n",
        "    \n",
        "    print(\"\\n📄 RAW VERSION (first 300 chars):\")\n",
        "    raw_preview = raw_result.markdown[:300] + \"...\" if len(raw_result.markdown) > 300 else raw_result.markdown\n",
        "    print(raw_preview)\n",
        "else:\n",
        "    print(\"❌ One or both extractions failed\")\n",
        "    if not clean_result.success:\n",
        "        print(f\"Clean error: {clean_result.error}\")\n",
        "    if not raw_result.success:\n",
        "        print(f\"Raw error: {raw_result.error}\")\n"
      ]
    },
    {
      "cell_type": "raw",
      "metadata": {
        "vscode": {
          "languageId": "raw"
        }
      },
      "source": [
        "## 🔗 Example 3: URL Hashing and Filename Generation\n",
        "\n",
        "URL2MD4AI generates unique, consistent filenames based on URL hashes:\n"
      ]
    },
    {
      "cell_type": "code",
      "execution_count": null,
      "metadata": {},
      "outputs": [],
      "source": [
        "# Demonstrate URL hashing for consistent filename generation\n",
        "sample_urls = [\n",
        "    \"https://example.com/article/how-to-use-ai\",\n",
        "    \"https://docs.python.org/3/tutorial/\", \n",
        "    \"https://github.com/microsoft/vscode\",\n",
        "    \"https://stackoverflow.com/questions/12345/python-help\",\n",
        "    \"https://news.ycombinator.com/item?id=12345678\"\n",
        "]\n",
        "\n",
        "print(\"🔗 URL Hashing Examples:\")\n",
        "print(\"=\" * 80)\n",
        "\n",
        "for i, url in enumerate(sample_urls, 1):\n",
        "    hash_value = URLHasher.generate_hash(url)\n",
        "    filename = URLHasher.generate_filename(url, \".md\")\n",
        "    \n",
        "    print(f\"{i}. URL: {url}\")\n",
        "    print(f\"   Hash: {hash_value}\")\n",
        "    print(f\"   Filename: {filename}\")\n",
        "    print()\n",
        "\n",
        "# Demonstrate hash consistency\n",
        "test_url = \"https://example.com/test\"\n",
        "hash1 = URLHasher.generate_hash(test_url)\n",
        "hash2 = URLHasher.generate_hash(test_url)  # Same URL\n",
        "hash3 = URLHasher.generate_hash(test_url + \"/different\")  # Different URL\n",
        "\n",
        "print(\"🔄 Hash Consistency Test:\")\n",
        "print(f\"Same URL twice:    {hash1} == {hash2} -> {hash1 == hash2}\")\n",
        "print(f\"Different URL:     {hash1} == {hash3} -> {hash1 == hash3}\")\n",
        "print(\"✅ Hashes are consistent and unique!\")\n"
      ]
    },
    {
      "cell_type": "raw",
      "metadata": {
        "vscode": {
          "languageId": "raw"
        }
      },
      "source": [
        "## 🎉 Conclusion\n",
        "\n",
        "You've now seen the power of URL2MD4AI! Here's what we covered:\n",
        "\n",
        "### ✨ Key Features Demonstrated:\n",
        "- **🧹 Clean Extraction**: Remove noise for LLM processing\n",
        "- **⚡ Performance**: Compare methods and optimize for speed\n",
        "- **🔗 URL Hashing**: Consistent filename generation\n",
        "- **⚙️ Flexible Configuration**: Customize for different content types\n",
        "\n",
        "### 💡 Best Practices:\n",
        "1. **Use `llm_optimized=True`** for AI processing\n",
        "2. **Enable JavaScript** for dynamic content sites\n",
        "3. **Configure filters** based on content type (news, docs, e-commerce)\n",
        "4. **Use batch processing** for multiple URLs\n",
        "5. **Monitor performance** and adjust timeouts\n",
        "\n",
        "### 🚀 Next Steps:\n",
        "- Try URL2MD4AI with your own URLs\n",
        "- Create custom configurations for your use cases\n",
        "- Build content analysis pipelines\n",
        "- Integrate with your LLM applications\n",
        "\n",
        "### 📚 Additional Examples:\n",
        "Check out the `examples/example_usage.py` file for more advanced scenarios including:\n",
        "- Batch processing with concurrency\n",
        "- Advanced configuration profiles\n",
        "- Content analysis pipelines\n",
        "- Performance testing\n",
        "\n",
        "**Happy converting!** 🎯\n"
      ]
    }
  ],
  "metadata": {
    "kernelspec": {
      "display_name": ".venv",
      "language": "python",
      "name": "python3"
    },
    "language_info": {
      "codemirror_mode": {
        "name": "ipython",
        "version": 3
      },
      "file_extension": ".py",
      "mimetype": "text/x-python",
      "name": "python",
      "nbconvert_exporter": "python",
      "pygments_lexer": "ipython3",
      "version": "3.13.5"
    }
  },
  "nbformat": 4,
  "nbformat_minor": 2
}
